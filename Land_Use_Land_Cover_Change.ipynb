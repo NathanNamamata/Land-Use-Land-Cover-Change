{
 "cells": [
  {
   "cell_type": "code",
   "execution_count": 7,
   "id": "38164953-42b9-4cde-95de-a9fbe0f2eb31",
   "metadata": {},
   "outputs": [
    {
     "data": {
      "text/html": [
       "\n",
       "            <style>\n",
       "                .geemap-dark {\n",
       "                    --jp-widgets-color: white;\n",
       "                    --jp-widgets-label-color: white;\n",
       "                    --jp-ui-font-color1: white;\n",
       "                    --jp-layout-color2: #454545;\n",
       "                    background-color: #383838;\n",
       "                }\n",
       "\n",
       "                .geemap-dark .jupyter-button {\n",
       "                    --jp-layout-color3: #383838;\n",
       "                }\n",
       "\n",
       "                .geemap-colab {\n",
       "                    background-color: var(--colab-primary-surface-color, white);\n",
       "                }\n",
       "\n",
       "                .geemap-colab .jupyter-button {\n",
       "                    --jp-layout-color3: var(--colab-primary-surface-color, white);\n",
       "                }\n",
       "            </style>\n",
       "            "
      ],
      "text/plain": [
       "<IPython.core.display.HTML object>"
      ]
     },
     "metadata": {},
     "output_type": "display_data"
    }
   ],
   "source": [
    "import geemap\n",
    "import ee"
   ]
  },
  {
   "cell_type": "code",
   "execution_count": 8,
   "id": "04fa0668-7372-448a-8acb-d3a2a16a3d0d",
   "metadata": {},
   "outputs": [
    {
     "data": {
      "text/html": [
       "\n",
       "            <style>\n",
       "                .geemap-dark {\n",
       "                    --jp-widgets-color: white;\n",
       "                    --jp-widgets-label-color: white;\n",
       "                    --jp-ui-font-color1: white;\n",
       "                    --jp-layout-color2: #454545;\n",
       "                    background-color: #383838;\n",
       "                }\n",
       "\n",
       "                .geemap-dark .jupyter-button {\n",
       "                    --jp-layout-color3: #383838;\n",
       "                }\n",
       "\n",
       "                .geemap-colab {\n",
       "                    background-color: var(--colab-primary-surface-color, white);\n",
       "                }\n",
       "\n",
       "                .geemap-colab .jupyter-button {\n",
       "                    --jp-layout-color3: var(--colab-primary-surface-color, white);\n",
       "                }\n",
       "            </style>\n",
       "            "
      ],
      "text/plain": [
       "<IPython.core.display.HTML object>"
      ]
     },
     "metadata": {},
     "output_type": "display_data"
    }
   ],
   "source": [
    "Map = geemap.Map()"
   ]
  },
  {
   "cell_type": "code",
   "execution_count": 9,
   "id": "30bfd544-e7ba-4d13-bed1-b9edc2c40d69",
   "metadata": {},
   "outputs": [
    {
     "data": {
      "text/html": [
       "\n",
       "            <style>\n",
       "                .geemap-dark {\n",
       "                    --jp-widgets-color: white;\n",
       "                    --jp-widgets-label-color: white;\n",
       "                    --jp-ui-font-color1: white;\n",
       "                    --jp-layout-color2: #454545;\n",
       "                    background-color: #383838;\n",
       "                }\n",
       "\n",
       "                .geemap-dark .jupyter-button {\n",
       "                    --jp-layout-color3: #383838;\n",
       "                }\n",
       "\n",
       "                .geemap-colab {\n",
       "                    background-color: var(--colab-primary-surface-color, white);\n",
       "                }\n",
       "\n",
       "                .geemap-colab .jupyter-button {\n",
       "                    --jp-layout-color3: var(--colab-primary-surface-color, white);\n",
       "                }\n",
       "            </style>\n",
       "            "
      ],
      "text/plain": [
       "<IPython.core.display.HTML object>"
      ]
     },
     "metadata": {},
     "output_type": "display_data"
    },
    {
     "data": {
      "application/vnd.jupyter.widget-view+json": {
       "model_id": "2bba466f46654147ac1d86f136d836ff",
       "version_major": 2,
       "version_minor": 0
      },
      "text/plain": [
       "Map(center=[0, 0], controls=(WidgetControl(options=['position', 'transparent_bg'], widget=SearchDataGUI(childr…"
      ]
     },
     "execution_count": 9,
     "metadata": {},
     "output_type": "execute_result"
    }
   ],
   "source": [
    "Map"
   ]
  },
  {
   "cell_type": "markdown",
   "id": "b03173e8-ea8d-4cbf-b495-1b36adb6959a",
   "metadata": {},
   "source": [
    "Image Collection"
   ]
  },
  {
   "cell_type": "code",
   "execution_count": 10,
   "id": "970e0c7d-2e95-46eb-b966-8e48bac3cffb",
   "metadata": {
    "scrolled": true
   },
   "outputs": [
    {
     "data": {
      "text/html": [
       "\n",
       "            <style>\n",
       "                .geemap-dark {\n",
       "                    --jp-widgets-color: white;\n",
       "                    --jp-widgets-label-color: white;\n",
       "                    --jp-ui-font-color1: white;\n",
       "                    --jp-layout-color2: #454545;\n",
       "                    background-color: #383838;\n",
       "                }\n",
       "\n",
       "                .geemap-dark .jupyter-button {\n",
       "                    --jp-layout-color3: #383838;\n",
       "                }\n",
       "\n",
       "                .geemap-colab {\n",
       "                    background-color: var(--colab-primary-surface-color, white);\n",
       "                }\n",
       "\n",
       "                .geemap-colab .jupyter-button {\n",
       "                    --jp-layout-color3: var(--colab-primary-surface-color, white);\n",
       "                }\n",
       "            </style>\n",
       "            "
      ],
      "text/plain": [
       "<IPython.core.display.HTML object>"
      ]
     },
     "metadata": {},
     "output_type": "display_data"
    },
    {
     "ename": "SyntaxError",
     "evalue": "invalid syntax (1575402935.py, line 1)",
     "output_type": "error",
     "traceback": [
      "\u001b[1;36m  Cell \u001b[1;32mIn[10], line 1\u001b[1;36m\u001b[0m\n\u001b[1;33m    var LUUBWE_boundary = Wards.filter(ee.Filter.eq('WardNm2020','LUUBWE'));\u001b[0m\n\u001b[1;37m        ^\u001b[0m\n\u001b[1;31mSyntaxError\u001b[0m\u001b[1;31m:\u001b[0m invalid syntax\n"
     ]
    }
   ],
   "source": [
    "var LUUBWE_boundary = Wards.filter(ee.Filter.eq('WardNm2020','LUUBWE'));\n",
    "var roi = ee.FeatureCollection(LUUBWE_boundary).geometry();\n",
    "var LUUBWE_sentinel = Sentinel_2.filter(ee.Filter.bounds(roi))\n",
    ".filter(ee.Filter.date('2019-01-01', '2019-12-01'))\n",
    ".filter (ee.Filter.lt('CLOUDY_PIXEL_PERCENTAGE', 5));"
   ]
  },
  {
   "cell_type": "markdown",
   "id": "0ebf84e1-892a-450d-9e5d-56d90fe5fd9e",
   "metadata": {},
   "source": [
    "Cliping the Image and adding Map to Google Earth Enginee"
   ]
  },
  {
   "cell_type": "code",
   "execution_count": null,
   "id": "c3770547-ff15-4bb5-b819-1b7400b54e8d",
   "metadata": {},
   "outputs": [],
   "source": [
    "var rgbVis = {bands:['B3','B2','B1'], min: 0, max: 3000, gamma: 1.1};\n",
    "var LUUBWE_sentinel_median = LUUBWE_sentinel.median();\n",
    "var LUUBWE_sentinel_clip = LUUBWE_sentinel_median.clip(roi);\n",
    "Map.addLayer(LUUBWE_boundary, {color:'red'});\n",
    "Map.addLayer(LUUBWE_sentinel_clip, rgbVis);\n",
    "Map.centerObject(LUUBWE_sentinel_clip, 10);"
   ]
  },
  {
   "cell_type": "markdown",
   "id": "620578c4-2939-4657-b514-b2e40c7ac5d9",
   "metadata": {},
   "source": [
    "Area of the shapefile"
   ]
  },
  {
   "cell_type": "code",
   "execution_count": null,
   "id": "a8651ae9-0aec-4ee9-9a7a-051adc409089",
   "metadata": {},
   "outputs": [],
   "source": [
    "var  LUUBWE_Area =  LUUBWE_boundary.geometry().area();\n",
    "var  LUUBWE_Area_sqKm = ee.Number(LUUBWE_Area).divide(1e6);\n",
    "print( LUUBWE_Area_sqKm);"
   ]
  },
  {
   "cell_type": "markdown",
   "id": "28c2ceec-ac64-4ea3-873f-dfb5553499d6",
   "metadata": {},
   "source": [
    "Supervised classification"
   ]
  },
  {
   "cell_type": "code",
   "execution_count": null,
   "id": "2ab136fc-07f7-4e3a-984d-adf226cc0e13",
   "metadata": {},
   "outputs": [],
   "source": []
  },
  {
   "cell_type": "markdown",
   "id": "d4e63282-9004-46f6-bc98-314fc2e17bec",
   "metadata": {},
   "source": [
    "Merge all the training points"
   ]
  },
  {
   "cell_type": "code",
   "execution_count": null,
   "id": "1ae090f0-6c90-4017-93f6-c981a4f44296",
   "metadata": {},
   "outputs": [],
   "source": [
    "var lable = \"Class\";\n",
    "var sample = Waterbody.merge(Builtup).merge(Cropland).merge(Vegetation).merge(Bareland);\n",
    "var bands = ['B2','B3','B4','B5','B6','B7'];\n",
    "var training = LUUBWE_sentinel_clip.select(bands).sampleRegions({\n",
    "  collection: sample, \n",
    "  properties: ['Class'], \n",
    "  scale: 30\n",
    "});\n",
    "print('training', training);"
   ]
  },
  {
   "cell_type": "markdown",
   "id": "31a99239-f75d-4641-8a64-fe6c74a1206b",
   "metadata": {},
   "source": [
    "Training dataset divided in two ways\n",
    "Traing the model: 80%\n",
    "Test the model: 20% data for testing"
   ]
  },
  {
   "cell_type": "code",
   "execution_count": null,
   "id": "50fd5a3a-6166-4047-a68b-7bbe9f2a02b3",
   "metadata": {},
   "outputs": [],
   "source": [
    "var dataset = training.randomColumn();\n",
    "var trainset = dataset.filter(ee.Filter.lessThan('random', 0.8));\n",
    "var testset = dataset.filter(ee.Filter.greaterThanOrEquals('random', 0.8));\n"
   ]
  },
  {
   "cell_type": "markdown",
   "id": "f7c0ae47-a6b6-444c-b375-adc3e399be76",
   "metadata": {},
   "source": [
    "Create the Model CART"
   ]
  },
  {
   "cell_type": "code",
   "execution_count": null,
   "id": "cbed9bbd-372d-488d-b3e8-9373d08aace6",
   "metadata": {},
   "outputs": [],
   "source": [
    "var classifier = ee.Classifier.smileCart().train(trainset, lable, bands);"
   ]
  },
  {
   "cell_type": "markdown",
   "id": "2720f476-649c-4197-a5e4-e9ae842c6ecc",
   "metadata": {},
   "source": [
    "Classify the sentinel image"
   ]
  },
  {
   "cell_type": "code",
   "execution_count": null,
   "id": "c5dbb12e-43e6-436a-bb9b-f63cdaf0aa81",
   "metadata": {},
   "outputs": [],
   "source": [
    "var classified = LUUBWE_sentinel_clip.classify(classifier);\n",
    "print('classified', classified);"
   ]
  },
  {
   "cell_type": "markdown",
   "id": "cba8efd2-d2d1-44e7-a430-5789ee624f38",
   "metadata": {},
   "source": [
    "Visualisation of the classification"
   ]
  },
  {
   "cell_type": "code",
   "execution_count": null,
   "id": "026d487f-2927-47f4-bcf5-7672854ec758",
   "metadata": {},
   "outputs": [],
   "source": [
    "var landcoverpalette = [\n",
    "  'blue',\n",
    "  'red',\n",
    "  'yellow',\n",
    "  'green',\n",
    "  'grey',\n",
    "  ];\n",
    "  \n",
    "Map.addLayer(classified.clip(roi),{'min': 0, 'max': 4, 'palette': landcoverpalette});"
   ]
  },
  {
   "cell_type": "markdown",
   "id": "a6bfcb15-bdd0-41f6-a722-1f7c8fa380d7",
   "metadata": {},
   "source": [
    "Get information about the trained classifier."
   ]
  },
  {
   "cell_type": "code",
   "execution_count": null,
   "id": "07f01113-0ab6-42c4-ac57-f8cbb567f101",
   "metadata": {},
   "outputs": [],
   "source": [
    "print('Results of trained classifier', classifier.explain());"
   ]
  },
  {
   "cell_type": "markdown",
   "id": "1727e932-000b-437f-9f8f-c08c3e1d153e",
   "metadata": {},
   "source": [
    "Acuracy assement\n",
    "\n",
    "Get a confusion matrix and overall accuracy for the training sample."
   ]
  },
  {
   "cell_type": "code",
   "execution_count": null,
   "id": "108711fc-35cb-4b4e-b9d0-6ef523bd06b0",
   "metadata": {},
   "outputs": [],
   "source": [
    "var trainAccuracy = classifier.confusionMatrix();\n",
    "print('Training error matrix', trainAccuracy);\n",
    "print('Training overall accuracy', trainAccuracy.accuracy());"
   ]
  },
  {
   "cell_type": "markdown",
   "id": "565af8db-405e-4aa0-825f-33fb74012f07",
   "metadata": {},
   "source": [
    "Get a confusion matrix and overall accuracy for the validation sample."
   ]
  },
  {
   "cell_type": "code",
   "execution_count": null,
   "id": "ac494585-c520-4500-89cd-d2268f6575c7",
   "metadata": {},
   "outputs": [],
   "source": [
    "testset = trainset.classify(classifier);\n",
    "var validationAccuracy = testset.errorMatrix(lable, 'classification');\n",
    "print('Validation error matrix', validationAccuracy);\n",
    "print('Validation accuracy', validationAccuracy.accuracy());"
   ]
  },
  {
   "cell_type": "markdown",
   "id": "a059c1e3-35ba-4c6b-a489-c012e03ac6cb",
   "metadata": {},
   "source": [
    "Calculating Area by Class by Reagion\n",
    "Calculating the Nested Group area of classes"
   ]
  },
  {
   "cell_type": "code",
   "execution_count": null,
   "id": "ececff12-d65c-4a64-889f-b994c8067d6b",
   "metadata": {},
   "outputs": [],
   "source": [
    "var areaImage = ee.Image.pixelArea().addBands(classified);\n",
    "var areas = areaImage.reduceRegion({\n",
    "  reducer: ee.Reducer.sum().group({\n",
    "    groupField:1,\n",
    "    groupName: 'class'}), \n",
    "    geometry: roi,\n",
    "    scale: 10,\n",
    "    maxPixels: 1e13});\n",
    "\n",
    "print(areaImage);"
   ]
  },
  {
   "cell_type": "markdown",
   "id": "d49572b5-a7d9-48ee-b80c-414742c86221",
   "metadata": {},
   "source": [
    "Flatening the Nested Gropus areas of classes"
   ]
  },
  {
   "cell_type": "code",
   "execution_count": null,
   "id": "f48d94ca-f9e2-4553-afee-58cb9863cef9",
   "metadata": {},
   "outputs": [],
   "source": [
    "var classAreas = ee.List(areas.get('groups'));\n",
    "var classAreaLists = classAreas.map(function(item){\n",
    "  var areaDic = ee.Dictionary(item)\n",
    "  var classNumber = ee.Number(areaDic.get('class')).format()\n",
    "  var area = ee.Number(areaDic.get('sum')).divide(1e6).round()\n",
    "  return ee.List([classNumber, area])\n",
    "});\n",
    "\n",
    "var results = ee.Dictionary(classAreaLists.flatten());\n",
    "print(results);"
   ]
  },
  {
   "cell_type": "markdown",
   "id": "0feae633-e212-41b1-b8ef-bb5cd8e0a820",
   "metadata": {},
   "source": [
    "Export Image"
   ]
  },
  {
   "cell_type": "code",
   "execution_count": null,
   "id": "aba6ec20-cc44-4ff6-a34b-8399d4d3941d",
   "metadata": {},
   "outputs": [],
   "source": [
    "Export.image.toDrive({\n",
    "image:classified,\n",
    "description: 'LUUBWE_sentinel_classified_2019',\n",
    "fileFormat: 'GeoTIFF',\n",
    "scale: 10,\n",
    "region: roi,\n",
    "});"
   ]
  },
  {
   "cell_type": "markdown",
   "id": "8b5227de-4a54-4a50-b949-b7ece7fb1bf7",
   "metadata": {},
   "source": [
    "Export table to your google drive"
   ]
  },
  {
   "cell_type": "code",
   "execution_count": null,
   "id": "28c39368-0b70-4785-90fc-a2c413941990",
   "metadata": {},
   "outputs": [],
   "source": [
    "Export.table.toDrive({\n",
    "        collection: results,\n",
    "        description: 'classAreaLists', \n",
    "        folder: 'EE',\n",
    "    fileNamePrefix: 'classAreas', \n",
    "    fileFormat: 'CSV'\n",
    "    });"
   ]
  }
 ],
 "metadata": {
  "kernelspec": {
   "display_name": "GoogleEarthEngine_Py_3_8",
   "language": "python",
   "name": "googleearthengine_py_3_8"
  },
  "language_info": {
   "codemirror_mode": {
    "name": "ipython",
    "version": 3
   },
   "file_extension": ".py",
   "mimetype": "text/x-python",
   "name": "python",
   "nbconvert_exporter": "python",
   "pygments_lexer": "ipython3",
   "version": "3.8.18"
  },
  "widgets": {
   "application/vnd.jupyter.widget-state+json": {
    "state": {},
    "version_major": 2,
    "version_minor": 0
   }
  }
 },
 "nbformat": 4,
 "nbformat_minor": 5
}
