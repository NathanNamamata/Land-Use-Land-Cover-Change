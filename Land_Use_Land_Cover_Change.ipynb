{
 "cells": [
  {
   "cell_type": "code",
   "execution_count": 1,
   "id": "38164953-42b9-4cde-95de-a9fbe0f2eb31",
   "metadata": {},
   "outputs": [],
   "source": [
    "import geemap"
   ]
  },
  {
   "cell_type": "code",
   "execution_count": 3,
   "id": "04fa0668-7372-448a-8acb-d3a2a16a3d0d",
   "metadata": {},
   "outputs": [
    {
     "data": {
      "text/html": [
       "\n",
       "            <style>\n",
       "                .geemap-dark {\n",
       "                    --jp-widgets-color: white;\n",
       "                    --jp-widgets-label-color: white;\n",
       "                    --jp-ui-font-color1: white;\n",
       "                    --jp-layout-color2: #454545;\n",
       "                    background-color: #383838;\n",
       "                }\n",
       "\n",
       "                .geemap-dark .jupyter-button {\n",
       "                    --jp-layout-color3: #383838;\n",
       "                }\n",
       "\n",
       "                .geemap-colab {\n",
       "                    background-color: var(--colab-primary-surface-color, white);\n",
       "                }\n",
       "\n",
       "                .geemap-colab .jupyter-button {\n",
       "                    --jp-layout-color3: var(--colab-primary-surface-color, white);\n",
       "                }\n",
       "            </style>\n",
       "            "
      ],
      "text/plain": [
       "<IPython.core.display.HTML object>"
      ]
     },
     "metadata": {},
     "output_type": "display_data"
    }
   ],
   "source": [
    "Map = geemap.Map()"
   ]
  },
  {
   "cell_type": "code",
   "execution_count": 4,
   "id": "30bfd544-e7ba-4d13-bed1-b9edc2c40d69",
   "metadata": {},
   "outputs": [
    {
     "data": {
      "text/html": [
       "\n",
       "            <style>\n",
       "                .geemap-dark {\n",
       "                    --jp-widgets-color: white;\n",
       "                    --jp-widgets-label-color: white;\n",
       "                    --jp-ui-font-color1: white;\n",
       "                    --jp-layout-color2: #454545;\n",
       "                    background-color: #383838;\n",
       "                }\n",
       "\n",
       "                .geemap-dark .jupyter-button {\n",
       "                    --jp-layout-color3: #383838;\n",
       "                }\n",
       "\n",
       "                .geemap-colab {\n",
       "                    background-color: var(--colab-primary-surface-color, white);\n",
       "                }\n",
       "\n",
       "                .geemap-colab .jupyter-button {\n",
       "                    --jp-layout-color3: var(--colab-primary-surface-color, white);\n",
       "                }\n",
       "            </style>\n",
       "            "
      ],
      "text/plain": [
       "<IPython.core.display.HTML object>"
      ]
     },
     "metadata": {},
     "output_type": "display_data"
    },
    {
     "data": {
      "application/vnd.jupyter.widget-view+json": {
       "model_id": "9efa7d763654441fa42ce6685e929b20",
       "version_major": 2,
       "version_minor": 0
      },
      "text/plain": [
       "Map(center=[0, 0], controls=(WidgetControl(options=['position', 'transparent_bg'], widget=SearchDataGUI(childr…"
      ]
     },
     "execution_count": 4,
     "metadata": {},
     "output_type": "execute_result"
    }
   ],
   "source": [
    "Map"
   ]
  },
  {
   "cell_type": "code",
   "execution_count": null,
   "id": "828303cc-5133-4da7-9a41-7e4cfed8b841",
   "metadata": {},
   "outputs": [],
   "source": []
  }
 ],
 "metadata": {
  "kernelspec": {
   "display_name": "GoogleEarthEngine_Py_3_8",
   "language": "python",
   "name": "googleearthengine_py_3_8"
  },
  "language_info": {
   "codemirror_mode": {
    "name": "ipython",
    "version": 3
   },
   "file_extension": ".py",
   "mimetype": "text/x-python",
   "name": "python",
   "nbconvert_exporter": "python",
   "pygments_lexer": "ipython3",
   "version": "3.8.18"
  },
  "widgets": {
   "application/vnd.jupyter.widget-state+json": {
    "state": {
     "005562dfc81642b19aa0b7a7a740633a": {
      "model_module": "@jupyter-widgets/controls",
      "model_module_version": "2.0.0",
      "model_name": "ToggleButtonModel",
      "state": {
       "button_style": "primary",
       "icon": "line-chart",
       "layout": "IPY_MODEL_b93f22291c144ce58df1d8943f3bc9f1",
       "style": "IPY_MODEL_f031252ef8484a6fb2e5e07d1073e1ec",
       "tooltip": "Creating and plotting transects"
      }
     },
     "00e092646abd4aee8beeecba5fc45eb1": {
      "model_module": "ipyevents",
      "model_module_version": "2.0.2",
      "model_name": "EventModel",
      "state": {
       "_supported_key_events": [
        "keydown",
        "keyup"
       ],
       "_supported_mouse_events": [
        "click",
        "auxclick",
        "dblclick",
        "mouseenter",
        "mouseleave",
        "mousedown",
        "mouseup",
        "mousemove",
        "wheel",
        "contextmenu",
        "dragstart",
        "drag",
        "dragend",
        "dragenter",
        "dragover",
        "dragleave",
        "drop"
       ],
       "_supported_touch_events": [
        "touchstart",
        "touchend",
        "touchmove",
        "touchcancel"
       ],
       "_view_module": "@jupyter-widgets/controls",
       "source": "IPY_MODEL_3f475010b5c54605abd6a0f7c566c991",
       "throttle_or_debounce": "",
       "watched_events": [
        "mouseenter",
        "mouseleave"
       ],
       "xy_coordinate_system": ""
      }
     },
     "00f1469266ea4bf1b416acc8a9bb3998": {
      "model_module": "@jupyter-widgets/base",
      "model_module_version": "2.0.0",
      "model_name": "LayoutModel",
      "state": {}
     },
     "015c1f34e7ec442eaf49d6e7719c46a2": {
      "model_module": "@jupyter-widgets/controls",
      "model_module_version": "2.0.0",
      "model_name": "ToggleButtonStyleModel",
      "state": {
       "description_width": "",
       "font_family": null,
       "font_size": null,
       "font_style": null,
       "font_variant": null,
       "font_weight": null,
       "text_color": null,
       "text_decoration": null
      }
     },
     "017102b0d54e468aa281d290c2c4c266": {
      "model_module": "@jupyter-widgets/controls",
      "model_module_version": "2.0.0",
      "model_name": "ToggleButtonModel",
      "state": {
       "button_style": "primary",
       "icon": "fast-forward",
       "layout": "IPY_MODEL_805c76db03fd48f6a962c926c61e464a",
       "style": "IPY_MODEL_ec8f10a16d4c4f0b8c56f99921c11f49",
       "tooltip": "Activate timeslider"
      }
     },
     "026fc4bec58c4a30a3c9c135c2da924c": {
      "model_module": "@jupyter-widgets/base",
      "model_module_version": "2.0.0",
      "model_name": "LayoutModel",
      "state": {
       "max_width": "57px",
       "min_width": "57px"
      }
     },
     "0275569bdb274e27826437bf5a93be29": {
      "model_module": "@jupyter-widgets/base",
      "model_module_version": "2.0.0",
      "model_name": "LayoutModel",
      "state": {
       "height": "auto",
       "padding": "0px 0px 0px 4px",
       "width": "auto"
      }
     },
     "02996d2d649e4a73b967c17a2920cbc4": {
      "model_module": "jupyter-leaflet",
      "model_module_version": "^0.18",
      "model_name": "LeafletMapStyleModel",
      "state": {
       "_model_module_version": "^0.18"
      }
     },
     "02f24cb0c19045288f9d3aeb731f3074": {
      "model_module": "@jupyter-widgets/base",
      "model_module_version": "2.0.0",
      "model_name": "LayoutModel",
      "state": {
       "max_height": "350px",
       "max_width": "340px",
       "overflow": "scroll"
      }
     },
     "0354813e22e84b3a9d83456aaede19a0": {
      "model_module": "@jupyter-widgets/controls",
      "model_module_version": "2.0.0",
      "model_name": "ToggleButtonStyleModel",
      "state": {
       "description_width": "",
       "font_family": null,
       "font_size": null,
       "font_style": null,
       "font_variant": null,
       "font_weight": null,
       "text_color": null,
       "text_decoration": null
      }
     },
     "0433396d776c4dc0b1a6ca21019a7339": {
      "model_module": "@jupyter-widgets/controls",
      "model_module_version": "2.0.0",
      "model_name": "HBoxModel",
      "state": {
       "_dom_classes": [
        "geemap-light"
       ],
       "_view_count": 1,
       "children": [
        "IPY_MODEL_2de7aaf3a82b45e4a3df1f354ced4321"
       ],
       "layout": "IPY_MODEL_32b90b5c3fa44e32b4a6487d2eebe7a1"
      }
     },
     "04a2256519d54d7289f2176592eece64": {
      "model_module": "ipyevents",
      "model_module_version": "2.0.2",
      "model_name": "EventModel",
      "state": {
       "_supported_key_events": [
        "keydown",
        "keyup"
       ],
       "_supported_mouse_events": [
        "click",
        "auxclick",
        "dblclick",
        "mouseenter",
        "mouseleave",
        "mousedown",
        "mouseup",
        "mousemove",
        "wheel",
        "contextmenu",
        "dragstart",
        "drag",
        "dragend",
        "dragenter",
        "dragover",
        "dragleave",
        "drop"
       ],
       "_supported_touch_events": [
        "touchstart",
        "touchend",
        "touchmove",
        "touchcancel"
       ],
       "_view_module": "@jupyter-widgets/controls",
       "source": "IPY_MODEL_f5e1d63bfea54c33bfd154cb9a088f13",
       "throttle_or_debounce": "",
       "watched_events": [
        "mouseenter",
        "mouseleave"
       ],
       "xy_coordinate_system": ""
      }
     },
     "066b3ee8b8664f63924c679e1bb6ec21": {
      "model_module": "@jupyter-widgets/base",
      "model_module_version": "2.0.0",
      "model_name": "LayoutModel",
      "state": {
       "height": "auto",
       "padding": "0px 0px 0px 4px",
       "width": "auto"
      }
     },
     "0746bf520a5c466f853a0d8e13ac732d": {
      "model_module": "@jupyter-widgets/controls",
      "model_module_version": "2.0.0",
      "model_name": "ToggleButtonStyleModel",
      "state": {
       "description_width": "",
       "font_family": null,
       "font_size": null,
       "font_style": null,
       "font_variant": null,
       "font_weight": null,
       "text_color": null,
       "text_decoration": null
      }
     },
     "095aeaece1ea463c926867d5ca393a27": {
      "model_module": "@jupyter-widgets/base",
      "model_module_version": "2.0.0",
      "model_name": "LayoutModel",
      "state": {
       "height": "28px",
       "width": "72px"
      }
     },
     "0a2cb0d7f02b459089390bf0048a9d71": {
      "model_module": "@jupyter-widgets/controls",
      "model_module_version": "2.0.0",
      "model_name": "ToggleButtonStyleModel",
      "state": {
       "description_width": "",
       "font_family": null,
       "font_size": null,
       "font_style": null,
       "font_variant": null,
       "font_weight": null,
       "text_color": null,
       "text_decoration": null
      }
     },
     "0a9d011f3a0f489f977fbaf6b807099a": {
      "model_module": "@jupyter-widgets/controls",
      "model_module_version": "2.0.0",
      "model_name": "ToggleButtonStyleModel",
      "state": {
       "description_width": "",
       "font_family": null,
       "font_size": null,
       "font_style": null,
       "font_variant": null,
       "font_weight": null,
       "text_color": null,
       "text_decoration": null
      }
     },
     "0d5b63c4eb1c490a91ecc9957fb30f22": {
      "model_module": "@jupyter-widgets/controls",
      "model_module_version": "2.0.0",
      "model_name": "RadioButtonsModel",
      "state": {
       "index": null,
       "layout": "IPY_MODEL_f63dce6b40d24005bc44b39022a0b720",
       "style": "IPY_MODEL_e86331b1db7e448c89667b9220ba8767"
      }
     },
     "0dcedc0724f346069d208357a87a9eb6": {
      "model_module": "@jupyter-widgets/controls",
      "model_module_version": "2.0.0",
      "model_name": "ToggleButtonStyleModel",
      "state": {
       "description_width": "",
       "font_family": null,
       "font_size": null,
       "font_style": null,
       "font_variant": null,
       "font_weight": null,
       "text_color": null,
       "text_decoration": null
      }
     },
     "0ed4272ec83740bab72ae84015b6359d": {
      "model_module": "@jupyter-widgets/controls",
      "model_module_version": "2.0.0",
      "model_name": "DescriptionStyleModel",
      "state": {
       "description_width": ""
      }
     },
     "1101332af9c84c349ef5f9aacffe39d1": {
      "model_module": "@jupyter-widgets/base",
      "model_module_version": "2.0.0",
      "model_name": "LayoutModel",
      "state": {
       "height": "auto",
       "padding": "0px 0px 0px 4px",
       "width": "auto"
      }
     },
     "130bb60ae9b444ba80e8f8ea6299b2ac": {
      "model_module": "@jupyter-widgets/controls",
      "model_module_version": "2.0.0",
      "model_name": "DescriptionStyleModel",
      "state": {
       "description_width": ""
      }
     },
     "1436efed7eb54f26b5422a4a27ec6771": {
      "model_module": "@jupyter-widgets/controls",
      "model_module_version": "2.0.0",
      "model_name": "VBoxModel",
      "state": {
       "_dom_classes": [
        "geemap-light"
       ],
       "_view_count": 1,
       "children": [
        "IPY_MODEL_fbfc64f701184053b5c8d416b8cc8b64"
       ],
       "layout": "IPY_MODEL_7981e7d3433f426f8b566bacc0d595b6"
      }
     },
     "15d1672656114e278891bc4a53b2b4f4": {
      "model_module": "@jupyter-widgets/base",
      "model_module_version": "2.0.0",
      "model_name": "LayoutModel",
      "state": {
       "height": "auto",
       "padding": "0px 0px 0px 4px",
       "width": "auto"
      }
     },
     "18627fc9c03043d3b70bb8e5a5f0451c": {
      "model_module": "@jupyter-widgets/controls",
      "model_module_version": "2.0.0",
      "model_name": "ToggleButtonStyleModel",
      "state": {
       "description_width": "",
       "font_family": null,
       "font_size": null,
       "font_style": null,
       "font_variant": null,
       "font_weight": null,
       "text_color": null,
       "text_decoration": null
      }
     },
     "1981e0a2c755479c997998917c187071": {
      "model_module": "@jupyter-widgets/controls",
      "model_module_version": "2.0.0",
      "model_name": "VBoxModel",
      "state": {
       "children": [
        "IPY_MODEL_3c9e4b43d15c4af8bab74ae48b2b5837",
        "IPY_MODEL_7109d09166f142bb88be0d77130f1617"
       ],
       "layout": "IPY_MODEL_eedaefc214df4c08a03c6a90e3e6fe4c"
      }
     },
     "1dd6b69f8dfe497681f2aca0d9357629": {
      "model_module": "@jupyter-widgets/controls",
      "model_module_version": "2.0.0",
      "model_name": "ToggleButtonModel",
      "state": {
       "button_style": "primary",
       "icon": "gears",
       "layout": "IPY_MODEL_7a99557790bd457082c5d43381bd6f02",
       "style": "IPY_MODEL_e818c3ca191449b9b3522a5dae0be965",
       "tooltip": "WhiteboxTools for local geoprocessing"
      }
     },
     "1f06ffb7a08f40849dbea484202f4ec4": {
      "model_module": "@jupyter-widgets/controls",
      "model_module_version": "2.0.0",
      "model_name": "ToggleButtonModel",
      "state": {
       "button_style": "primary",
       "icon": "bar-chart",
       "layout": "IPY_MODEL_3cf0af6e921e46dc9859d1b2d2519100",
       "style": "IPY_MODEL_b213472293e44ec39c8857340b7e5a0d",
       "tooltip": "Plotting"
      }
     },
     "1f0943087dec443190ef2448c5957d1b": {
      "model_module": "@jupyter-widgets/controls",
      "model_module_version": "2.0.0",
      "model_name": "ToggleButtonModel",
      "state": {
       "icon": "server",
       "layout": "IPY_MODEL_095aeaece1ea463c926867d5ca393a27",
       "style": "IPY_MODEL_c97cb1cb47a141acacf47a3166ed45ab",
       "tooltip": "Layers"
      }
     },
     "2087fa97787a415b8b8a65e16658b40c": {
      "model_module": "jupyter-leaflet",
      "model_module_version": "^0.18",
      "model_name": "LeafletMeasureControlModel",
      "state": {
       "_model_module_version": "^0.18",
       "_view_module_version": "^0.18",
       "active_color": "orange",
       "options": [
        "active_color",
        "capture_z_index",
        "completed_color",
        "popup_options",
        "position",
        "primary_area_unit",
        "primary_length_unit",
        "secondary_area_unit",
        "secondary_length_unit"
       ],
       "position": "bottomleft",
       "primary_length_unit": "kilometers",
       "secondary_area_unit": null,
       "secondary_length_unit": null
      }
     },
     "218d5826ede84b958db727a7507fa906": {
      "model_module": "@jupyter-widgets/controls",
      "model_module_version": "2.0.0",
      "model_name": "HBoxModel",
      "state": {
       "children": [
        "IPY_MODEL_501dd6df764b40a1a8a7baca27034e2e",
        "IPY_MODEL_b0f7029d840c45b9bcd8cdbea73c2db4"
       ],
       "layout": "IPY_MODEL_42d0c03befa24651a1b7465c47faeb9a"
      }
     },
     "23490df4cf374aa2ae5a0cd387dd6f3d": {
      "model_module": "@jupyter-widgets/controls",
      "model_module_version": "2.0.0",
      "model_name": "ToggleButtonModel",
      "state": {
       "icon": "globe",
       "layout": "IPY_MODEL_ca5b9846ff71473ab8ca9f5f9908a094",
       "style": "IPY_MODEL_b131ebfc196542c19fd8a7c1944889fb",
       "tooltip": "Search location/data"
      }
     },
     "23d5eb69b75345e1aa2e5e3021e94d4b": {
      "model_module": "@jupyter-widgets/output",
      "model_module_version": "1.0.0",
      "model_name": "OutputModel",
      "state": {
       "layout": "IPY_MODEL_b9416c9f299f469b9987f8005f90b2d4"
      }
     },
     "2609452d4a8547c4aaaff09da4902d82": {
      "model_module": "@jupyter-widgets/controls",
      "model_module_version": "2.0.0",
      "model_name": "ToggleButtonStyleModel",
      "state": {
       "description_width": "",
       "font_family": null,
       "font_size": null,
       "font_style": null,
       "font_variant": null,
       "font_weight": null,
       "text_color": null,
       "text_decoration": null
      }
     },
     "271ef425aca44374baf23358e1353724": {
      "model_module": "@jupyter-widgets/base",
      "model_module_version": "2.0.0",
      "model_name": "LayoutModel",
      "state": {
       "height": "auto",
       "padding": "0px 0px 0px 4px",
       "width": "auto"
      }
     },
     "27cb4a508976480cbdedd85fc5b0643d": {
      "model_module": "jupyter-leaflet",
      "model_module_version": "^0.18",
      "model_name": "LeafletMeasureControlModel",
      "state": {
       "_model_module_version": "^0.18",
       "_view_module_version": "^0.18",
       "active_color": "orange",
       "options": [
        "active_color",
        "capture_z_index",
        "completed_color",
        "popup_options",
        "position",
        "primary_area_unit",
        "primary_length_unit",
        "secondary_area_unit",
        "secondary_length_unit"
       ],
       "position": "bottomleft",
       "primary_length_unit": "kilometers",
       "secondary_area_unit": null,
       "secondary_length_unit": null
      }
     },
     "28910eeb32774d9ca952d0cb77d38516": {
      "model_module": "@jupyter-widgets/controls",
      "model_module_version": "2.0.0",
      "model_name": "ToggleButtonModel",
      "state": {
       "button_style": "primary",
       "icon": "bar-chart",
       "layout": "IPY_MODEL_becd7c2ce75746048c050fb3bbda5634",
       "style": "IPY_MODEL_0354813e22e84b3a9d83456aaede19a0",
       "tooltip": "Plotting"
      }
     },
     "2963f72888dd4f89b061662b22a0e005": {
      "model_module": "@jupyter-widgets/controls",
      "model_module_version": "2.0.0",
      "model_name": "ToggleButtonsModel",
      "state": {
       "_options_labels": [
        "name/address",
        "lat-lon",
        "data"
       ],
       "button_style": "",
       "icons": [],
       "index": 0,
       "layout": "IPY_MODEL_c851ba4217044583b1435ae95d0b5d8e",
       "style": "IPY_MODEL_77a1987358534ac0936ac800d527366a",
       "tooltips": [
        "Search by place name or address",
        "Search by lat-lon coordinates",
        "Search Earth Engine data catalog"
       ]
      }
     },
     "2a2ee2ad08ba4f45a9e9d1ffa0a4072e": {
      "model_module": "@jupyter-widgets/controls",
      "model_module_version": "2.0.0",
      "model_name": "ToggleButtonStyleModel",
      "state": {
       "description_width": "",
       "font_family": null,
       "font_size": null,
       "font_style": null,
       "font_variant": null,
       "font_weight": null,
       "text_color": null,
       "text_decoration": null
      }
     },
     "2bf16ceb17104e3b9c1d77c723068a3c": {
      "model_module": "@jupyter-widgets/base",
      "model_module_version": "2.0.0",
      "model_name": "LayoutModel",
      "state": {
       "height": "auto",
       "padding": "0px 0px 0px 4px",
       "width": "auto"
      }
     },
     "2c9ae059c9bf4468889b8298fc008d60": {
      "model_module": "@jupyter-widgets/base",
      "model_module_version": "2.0.0",
      "model_name": "LayoutModel",
      "state": {
       "height": "auto",
       "padding": "0px 0px 0px 4px",
       "width": "auto"
      }
     },
     "2de7aaf3a82b45e4a3df1f354ced4321": {
      "model_module": "@jupyter-widgets/controls",
      "model_module_version": "2.0.0",
      "model_name": "ToggleButtonModel",
      "state": {
       "icon": "globe",
       "layout": "IPY_MODEL_c4445efabd004fff9d4068e79054fc9e",
       "style": "IPY_MODEL_e178963044a648f788d746e4b34294db",
       "tooltip": "Search location/data"
      }
     },
     "3026a7a2e6614430ad2aa57af49e0a21": {
      "model_module": "@jupyter-widgets/base",
      "model_module_version": "2.0.0",
      "model_name": "LayoutModel",
      "state": {
       "height": "auto",
       "padding": "0px 0px 0px 4px",
       "width": "auto"
      }
     },
     "32b90b5c3fa44e32b4a6487d2eebe7a1": {
      "model_module": "@jupyter-widgets/base",
      "model_module_version": "2.0.0",
      "model_name": "LayoutModel",
      "state": {}
     },
     "3408290eafd44bfea03a23afb8f2cd24": {
      "model_module": "@jupyter-widgets/controls",
      "model_module_version": "2.0.0",
      "model_name": "ToggleButtonModel",
      "state": {
       "button_style": "primary",
       "icon": "line-chart",
       "layout": "IPY_MODEL_4e57f895eed942f2b044f9ddae00c822",
       "style": "IPY_MODEL_9ce01b4981f845b7999670208bcaa269",
       "tooltip": "Creating and plotting transects"
      }
     },
     "342e75fa97904ac2acd7f4255b2ea44a": {
      "model_module": "@jupyter-widgets/base",
      "model_module_version": "2.0.0",
      "model_name": "LayoutModel",
      "state": {
       "height": "auto",
       "padding": "0px 0px 0px 4px",
       "width": "auto"
      }
     },
     "37c689a4c2454853b3ab6916652ac26b": {
      "model_module": "@jupyter-widgets/controls",
      "model_module_version": "2.0.0",
      "model_name": "ToggleButtonModel",
      "state": {
       "button_style": "primary",
       "icon": "folder-open",
       "layout": "IPY_MODEL_2c9ae059c9bf4468889b8298fc008d60",
       "style": "IPY_MODEL_0dcedc0724f346069d208357a87a9eb6",
       "tooltip": "Open local vector/raster data"
      }
     },
     "381ea19bb9dd43fc883b7a08a342090f": {
      "model_module": "@jupyter-widgets/controls",
      "model_module_version": "2.0.0",
      "model_name": "ToggleButtonModel",
      "state": {
       "button_style": "primary",
       "icon": "eraser",
       "layout": "IPY_MODEL_620a90543109444b97456685c86e5b6a",
       "style": "IPY_MODEL_ed60b914938d489e9b340f662c2c8454",
       "tooltip": "Remove all drawn features"
      }
     },
     "383f1a158558423dab63f996edb341d1": {
      "model_module": "@jupyter-widgets/base",
      "model_module_version": "2.0.0",
      "model_name": "LayoutModel",
      "state": {
       "height": "28px",
       "padding": "0px 0px 0px 4px",
       "width": "28px"
      }
     },
     "3a7dcc7f793e4c5f97ca3608f336b0fb": {
      "model_module": "jupyter-leaflet",
      "model_module_version": "^0.18",
      "model_name": "LeafletScaleControlModel",
      "state": {
       "_model_module_version": "^0.18",
       "_view_module_version": "^0.18",
       "imperial": true,
       "max_width": 100,
       "metric": true,
       "options": [
        "imperial",
        "max_width",
        "metric",
        "position",
        "update_when_idle"
       ],
       "position": "bottomleft",
       "update_when_idle": false
      }
     },
     "3c1eba35d0ca41a7b66319bf6cb90266": {
      "model_module": "@jupyter-widgets/controls",
      "model_module_version": "2.0.0",
      "model_name": "HTMLStyleModel",
      "state": {
       "description_width": "",
       "font_size": null,
       "text_color": null
      }
     },
     "3c48d77542a646b19cce5ee1dc757911": {
      "model_module": "@jupyter-widgets/base",
      "model_module_version": "2.0.0",
      "model_name": "LayoutModel",
      "state": {
       "grid_gap": "1px 1px",
       "grid_template_columns": "32px 32px 32px ",
       "grid_template_rows": "32px 32px ",
       "padding": "5px",
       "width": "109px"
      }
     },
     "3c9e4b43d15c4af8bab74ae48b2b5837": {
      "model_module": "@jupyter-widgets/controls",
      "model_module_version": "2.0.0",
      "model_name": "ToggleButtonsModel",
      "state": {
       "_options_labels": [
        "name/address",
        "lat-lon",
        "data"
       ],
       "button_style": "",
       "icons": [],
       "index": 0,
       "layout": "IPY_MODEL_e948176e3b454d5f8b0953ddd6fb99e9",
       "style": "IPY_MODEL_80e4d1313bed40919e87ab03e4e7cb36",
       "tooltips": [
        "Search by place name or address",
        "Search by lat-lon coordinates",
        "Search Earth Engine data catalog"
       ]
      }
     },
     "3cf0af6e921e46dc9859d1b2d2519100": {
      "model_module": "@jupyter-widgets/base",
      "model_module_version": "2.0.0",
      "model_name": "LayoutModel",
      "state": {
       "height": "auto",
       "padding": "0px 0px 0px 4px",
       "width": "auto"
      }
     },
     "3eca023a46f441a8933f288c32846136": {
      "model_module": "jupyter-leaflet",
      "model_module_version": "^0.18",
      "model_name": "LeafletDrawControlModel",
      "state": {
       "_model_module_version": "^0.18",
       "_view_module_version": "^0.18",
       "marker": {
        "shapeOptions": {
         "color": "#3388ff"
        }
       },
       "options": [
        "position"
       ],
       "polygon": {
        "shapeOptions": {
         "clickable": true,
         "color": "#3388ff",
         "fill": true,
         "fillColor": null,
         "fillOpacity": 0.2,
         "opacity": 0.5,
         "stroke": true,
         "weight": 4
        }
       },
       "polyline": {
        "shapeOptions": {
         "clickable": true,
         "color": "#3388ff",
         "fill": false,
         "opacity": 0.5,
         "stroke": true,
         "weight": 4
        }
       },
       "rectangle": {
        "shapeOptions": {
         "clickable": true,
         "color": "#3388ff",
         "fill": true,
         "fillColor": null,
         "fillOpacity": 0.2,
         "opacity": 0.5,
         "stroke": true,
         "weight": 4
        }
       }
      }
     },
     "3f0e9e0eb2da4489a2e7cdf69f80cfbf": {
      "model_module": "@jupyter-widgets/base",
      "model_module_version": "2.0.0",
      "model_name": "LayoutModel",
      "state": {}
     },
     "3f475010b5c54605abd6a0f7c566c991": {
      "model_module": "@jupyter-widgets/controls",
      "model_module_version": "2.0.0",
      "model_name": "VBoxModel",
      "state": {
       "_dom_classes": [
        "geemap-light"
       ],
       "_view_count": 0,
       "children": [
        "IPY_MODEL_c949a52f8aba4e8d9ba1fbbe63d8976e"
       ],
       "layout": "IPY_MODEL_4e6858e19078420b89115ceb885db6b2"
      }
     },
     "3f5e7bc414cc47c289810c8df5255014": {
      "model_module": "jupyter-leaflet",
      "model_module_version": "^0.18",
      "model_name": "LeafletMapStyleModel",
      "state": {
       "_model_module_version": "^0.18"
      }
     },
     "3fd5b9dc35de44d78e2d8c1c8647faa3": {
      "model_module": "@jupyter-widgets/base",
      "model_module_version": "2.0.0",
      "model_name": "LayoutModel",
      "state": {
       "width": "500px"
      }
     },
     "4122e4259e114b80952bd8ab0e23347a": {
      "model_module": "@jupyter-widgets/base",
      "model_module_version": "2.0.0",
      "model_name": "LayoutModel",
      "state": {
       "height": "auto",
       "padding": "0px 0px 0px 4px",
       "width": "auto"
      }
     },
     "416003618fb649309bc8d2150fa87f6e": {
      "model_module": "@jupyter-widgets/controls",
      "model_module_version": "2.0.0",
      "model_name": "ButtonModel",
      "state": {
       "button_style": "primary",
       "description": "import",
       "layout": "IPY_MODEL_f4107465cec34f9580ab3109e7a108db",
       "style": "IPY_MODEL_a1091f50098e4283aa04df92a7d02629",
       "tooltip": "Click to import the selected asset"
      }
     },
     "42d0c03befa24651a1b7465c47faeb9a": {
      "model_module": "@jupyter-widgets/base",
      "model_module_version": "2.0.0",
      "model_name": "LayoutModel",
      "state": {}
     },
     "434c6612386f40758b038552d75b330d": {
      "model_module": "ipyevents",
      "model_module_version": "2.0.2",
      "model_name": "EventModel",
      "state": {
       "_supported_key_events": [
        "keydown",
        "keyup"
       ],
       "_supported_mouse_events": [
        "click",
        "auxclick",
        "dblclick",
        "mouseenter",
        "mouseleave",
        "mousedown",
        "mouseup",
        "mousemove",
        "wheel",
        "contextmenu",
        "dragstart",
        "drag",
        "dragend",
        "dragenter",
        "dragover",
        "dragleave",
        "drop"
       ],
       "_supported_touch_events": [
        "touchstart",
        "touchend",
        "touchmove",
        "touchcancel"
       ],
       "_view_module": "@jupyter-widgets/controls",
       "source": "IPY_MODEL_1436efed7eb54f26b5422a4a27ec6771",
       "throttle_or_debounce": "",
       "watched_events": [
        "mouseenter",
        "mouseleave"
       ],
       "xy_coordinate_system": ""
      }
     },
     "44236f87be0140bb8d7523ce0ab900ae": {
      "model_module": "@jupyter-widgets/controls",
      "model_module_version": "2.0.0",
      "model_name": "ToggleButtonModel",
      "state": {
       "button_style": "primary",
       "icon": "fast-forward",
       "layout": "IPY_MODEL_2bf16ceb17104e3b9c1d77c723068a3c",
       "style": "IPY_MODEL_4cbdcf5e4da740cb9196d3dd61ac2ad7",
       "tooltip": "Activate timeslider"
      }
     },
     "451cc35cb6da458cab5678a8f8f8ba78": {
      "model_module": "@jupyter-widgets/controls",
      "model_module_version": "2.0.0",
      "model_name": "RadioButtonsModel",
      "state": {
       "index": null,
       "layout": "IPY_MODEL_4a51ad9b4c574079b9df3e0eb53256c6",
       "style": "IPY_MODEL_0ed4272ec83740bab72ae84015b6359d"
      }
     },
     "458b3a4db70b4a69abdc6a432c1a4f61": {
      "model_module": "@jupyter-widgets/controls",
      "model_module_version": "2.0.0",
      "model_name": "ToggleButtonStyleModel",
      "state": {
       "description_width": "",
       "font_family": null,
       "font_size": null,
       "font_style": null,
       "font_variant": null,
       "font_weight": null,
       "text_color": null,
       "text_decoration": null
      }
     },
     "4966a864ba5b41c48a53fbedc1cafa83": {
      "model_module": "@jupyter-widgets/base",
      "model_module_version": "2.0.0",
      "model_name": "LayoutModel",
      "state": {}
     },
     "4a51ad9b4c574079b9df3e0eb53256c6": {
      "model_module": "@jupyter-widgets/base",
      "model_module_version": "2.0.0",
      "model_name": "LayoutModel",
      "state": {}
     },
     "4cbdcf5e4da740cb9196d3dd61ac2ad7": {
      "model_module": "@jupyter-widgets/controls",
      "model_module_version": "2.0.0",
      "model_name": "ToggleButtonStyleModel",
      "state": {
       "description_width": "",
       "font_family": null,
       "font_size": null,
       "font_style": null,
       "font_variant": null,
       "font_weight": null,
       "text_color": null,
       "text_decoration": null
      }
     },
     "4cded51976094c73bc9926f44bda5f52": {
      "model_module": "@jupyter-widgets/controls",
      "model_module_version": "2.0.0",
      "model_name": "ToggleButtonStyleModel",
      "state": {
       "description_width": "",
       "font_family": null,
       "font_size": null,
       "font_style": null,
       "font_variant": null,
       "font_weight": null,
       "text_color": null,
       "text_decoration": null
      }
     },
     "4e57f895eed942f2b044f9ddae00c822": {
      "model_module": "@jupyter-widgets/base",
      "model_module_version": "2.0.0",
      "model_name": "LayoutModel",
      "state": {
       "height": "auto",
       "padding": "0px 0px 0px 4px",
       "width": "auto"
      }
     },
     "4e6858e19078420b89115ceb885db6b2": {
      "model_module": "@jupyter-widgets/base",
      "model_module_version": "2.0.0",
      "model_name": "LayoutModel",
      "state": {}
     },
     "4fd6176026f7428cb099bb9e0a707b53": {
      "model_module": "jupyter-leaflet",
      "model_module_version": "^0.18",
      "model_name": "LeafletDrawControlModel",
      "state": {
       "_model_module_version": "^0.18",
       "_view_module_version": "^0.18",
       "marker": {
        "shapeOptions": {
         "color": "#3388ff"
        }
       },
       "options": [
        "position"
       ],
       "rectangle": {
        "shapeOptions": {
         "color": "#3388ff"
        }
       }
      }
     },
     "501dd6df764b40a1a8a7baca27034e2e": {
      "model_module": "@jupyter-widgets/controls",
      "model_module_version": "2.0.0",
      "model_name": "ButtonModel",
      "state": {
       "button_style": "primary",
       "description": "import",
       "layout": "IPY_MODEL_026fc4bec58c4a30a3c9c135c2da924c",
       "style": "IPY_MODEL_b2dc6cbe8bf046898d08d771882bcfb6",
       "tooltip": "Click to import the selected asset"
      }
     },
     "50e8547135ca4320a2bc23070b9cc954": {
      "model_module": "@jupyter-widgets/controls",
      "model_module_version": "2.0.0",
      "model_name": "ToggleButtonModel",
      "state": {
       "button_style": "primary",
       "icon": "google",
       "layout": "IPY_MODEL_9ff461c120a24245b6a09561514bf0ed",
       "style": "IPY_MODEL_d8546a5793494148944c5640d7ddf5fb",
       "tooltip": "GEE Toolbox for cloud computing"
      }
     },
     "5455858e69d045719315de2068b7e132": {
      "model_module": "@jupyter-widgets/base",
      "model_module_version": "2.0.0",
      "model_name": "LayoutModel",
      "state": {
       "height": "auto",
       "padding": "0px 0px 0px 4px",
       "width": "auto"
      }
     },
     "5499061e1f424dec856e46bb20d78a9d": {
      "model_module": "@jupyter-widgets/base",
      "model_module_version": "2.0.0",
      "model_name": "LayoutModel",
      "state": {
       "height": "auto",
       "padding": "0px 0px 0px 4px",
       "width": "auto"
      }
     },
     "558cc24c45724d4aa5420c9d2b276058": {
      "model_module": "@jupyter-widgets/controls",
      "model_module_version": "2.0.0",
      "model_name": "TextStyleModel",
      "state": {
       "description_width": "",
       "font_size": null,
       "text_color": null
      }
     },
     "55cf4885cd604a809418f03970cc6de4": {
      "model_module": "jupyter-leaflet",
      "model_module_version": "^0.18",
      "model_name": "LeafletMapStyleModel",
      "state": {
       "_model_module_version": "^0.18",
       "cursor": "move"
      }
     },
     "5a500f976ac84cf4abb7d2927d643928": {
      "model_module": "@jupyter-widgets/base",
      "model_module_version": "2.0.0",
      "model_name": "LayoutModel",
      "state": {
       "width": "340px"
      }
     },
     "5ce9b1a748564930998476e27680368b": {
      "model_module": "@jupyter-widgets/base",
      "model_module_version": "2.0.0",
      "model_name": "LayoutModel",
      "state": {
       "height": "600px"
      }
     },
     "5d5595f831a74955a53f9578d5be2c97": {
      "model_module": "@jupyter-widgets/controls",
      "model_module_version": "2.0.0",
      "model_name": "ToggleButtonStyleModel",
      "state": {
       "description_width": "",
       "font_family": null,
       "font_size": null,
       "font_style": null,
       "font_variant": null,
       "font_weight": null,
       "text_color": null,
       "text_decoration": null
      }
     },
     "617a0c9945ae4093886b408ed1314f71": {
      "model_module": "@jupyter-widgets/controls",
      "model_module_version": "2.0.0",
      "model_name": "ToggleButtonModel",
      "state": {
       "button_style": "primary",
       "icon": "adjust",
       "layout": "IPY_MODEL_d41c102bb00341a0a801a8407bcab9ec",
       "style": "IPY_MODEL_0a9d011f3a0f489f977fbaf6b807099a",
       "tooltip": "Planet imagery"
      }
     },
     "620a90543109444b97456685c86e5b6a": {
      "model_module": "@jupyter-widgets/base",
      "model_module_version": "2.0.0",
      "model_name": "LayoutModel",
      "state": {
       "height": "auto",
       "padding": "0px 0px 0px 4px",
       "width": "auto"
      }
     },
     "65869c6be1a24c048ce348109587b4a1": {
      "model_module": "@jupyter-widgets/base",
      "model_module_version": "2.0.0",
      "model_name": "LayoutModel",
      "state": {
       "height": "auto",
       "padding": "0px 0px 0px 4px",
       "width": "auto"
      }
     },
     "674e7592ebd149d889c03be05d700bc5": {
      "model_module": "@jupyter-widgets/controls",
      "model_module_version": "2.0.0",
      "model_name": "ToggleButtonModel",
      "state": {
       "button_style": "primary",
       "icon": "random",
       "layout": "IPY_MODEL_3026a7a2e6614430ad2aa57af49e0a21",
       "style": "IPY_MODEL_d6e4bea313ea4ec8973c20d41d508490",
       "tooltip": "Sankey plots"
      }
     },
     "6928c4bd50ef4e41a6422f5b4d91f8ea": {
      "model_module": "jupyter-leaflet",
      "model_module_version": "^0.18",
      "model_name": "LeafletFullScreenControlModel",
      "state": {
       "_model_module_version": "^0.18",
       "_view_module_version": "^0.18",
       "options": [
        "position"
       ]
      }
     },
     "698035519e934f678e990196d79523ca": {
      "model_module": "jupyter-leaflet",
      "model_module_version": "^0.18",
      "model_name": "LeafletMapStyleModel",
      "state": {
       "_model_module_version": "^0.18",
       "cursor": "move"
      }
     },
     "6a6965cfab894e108353ea6bda25816e": {
      "model_module": "@jupyter-widgets/controls",
      "model_module_version": "2.0.0",
      "model_name": "GridBoxModel",
      "state": {
       "children": [
        "IPY_MODEL_7303cbee1cd94efd8f270358b570f2c3",
        "IPY_MODEL_28910eeb32774d9ca952d0cb77d38516",
        "IPY_MODEL_6d4c4dbaef124f0d9225e8361f62d062",
        "IPY_MODEL_bfa6747779334e2f81bcdfa7e7519151",
        "IPY_MODEL_ca3bd0a4aa784fafa935bfc238ad7111",
        "IPY_MODEL_eee1bf5d444248789bcda40b5b11e88c"
       ],
       "layout": "IPY_MODEL_3c48d77542a646b19cce5ee1dc757911"
      }
     },
     "6a9c470badb2494c933b4c402786a335": {
      "model_module": "@jupyter-widgets/controls",
      "model_module_version": "2.0.0",
      "model_name": "ToggleButtonModel",
      "state": {
       "button_style": "primary",
       "icon": "info",
       "layout": "IPY_MODEL_5455858e69d045719315de2068b7e132",
       "style": "IPY_MODEL_5d5595f831a74955a53f9578d5be2c97",
       "tooltip": "Inspector"
      }
     },
     "6d4c4dbaef124f0d9225e8361f62d062": {
      "model_module": "@jupyter-widgets/controls",
      "model_module_version": "2.0.0",
      "model_name": "ToggleButtonModel",
      "state": {
       "button_style": "primary",
       "icon": "globe",
       "layout": "IPY_MODEL_80f55236525648f9a94e87d94669d039",
       "style": "IPY_MODEL_fba0272fbc274eb8b9f1744beb43be68",
       "tooltip": "Create timelapse"
      }
     },
     "6f39e488e05b4cb39c9fa1f9fc8c5c14": {
      "model_module": "@jupyter-widgets/base",
      "model_module_version": "2.0.0",
      "model_name": "LayoutModel",
      "state": {
       "height": "28px",
       "padding": "0px 0px 0px 4px",
       "width": "28px"
      }
     },
     "6f72713ee2d346eb89b4f8e2abd5a795": {
      "model_module": "@jupyter-widgets/controls",
      "model_module_version": "2.0.0",
      "model_name": "ToggleButtonModel",
      "state": {
       "button_style": "primary",
       "icon": "info-circle",
       "layout": "IPY_MODEL_65869c6be1a24c048ce348109587b4a1",
       "style": "IPY_MODEL_7f3d528a03bf40b4838cb566eb222b3d",
       "tooltip": "Get COG/STAC pixel value"
      }
     },
     "7109d09166f142bb88be0d77130f1617": {
      "model_module": "@jupyter-widgets/controls",
      "model_module_version": "2.0.0",
      "model_name": "TextModel",
      "state": {
       "layout": "IPY_MODEL_8406011923dc488588a94c40f006f08b",
       "placeholder": "Search by place name or address",
       "style": "IPY_MODEL_9daa3b0227344bb19dbf89b69adbfb6c",
       "tooltip": "Search location"
      }
     },
     "72c6d295ccf4426695fcd23a668f43a1": {
      "model_module": "@jupyter-widgets/controls",
      "model_module_version": "2.0.0",
      "model_name": "ToggleButtonStyleModel",
      "state": {
       "description_width": "",
       "font_family": null,
       "font_size": null,
       "font_style": null,
       "font_variant": null,
       "font_weight": null,
       "text_color": null,
       "text_decoration": null
      }
     },
     "7303cbee1cd94efd8f270358b570f2c3": {
      "model_module": "@jupyter-widgets/controls",
      "model_module_version": "2.0.0",
      "model_name": "ToggleButtonModel",
      "state": {
       "button_style": "primary",
       "icon": "info",
       "layout": "IPY_MODEL_93988bed26a948d0bbe37c21a319f130",
       "style": "IPY_MODEL_4cded51976094c73bc9926f44bda5f52",
       "tooltip": "Inspector"
      }
     },
     "75c213c3dc324594bb37aa87192f41f4": {
      "model_module": "@jupyter-widgets/controls",
      "model_module_version": "2.0.0",
      "model_name": "ToggleButtonModel",
      "state": {
       "button_style": "primary",
       "icon": "eraser",
       "layout": "IPY_MODEL_271ef425aca44374baf23358e1353724",
       "style": "IPY_MODEL_ca8108c2b02e43029815c62f79a98033",
       "tooltip": "Remove all drawn features"
      }
     },
     "77a1987358534ac0936ac800d527366a": {
      "model_module": "@jupyter-widgets/controls",
      "model_module_version": "2.0.0",
      "model_name": "ToggleButtonsStyleModel",
      "state": {
       "button_width": "110px",
       "description_width": ""
      }
     },
     "77cccaf5467649fcbe3dd21fcb7dd5b9": {
      "model_module": "@jupyter-widgets/controls",
      "model_module_version": "2.0.0",
      "model_name": "VBoxModel",
      "state": {
       "children": [
        "IPY_MODEL_2963f72888dd4f89b061662b22a0e005",
        "IPY_MODEL_eac3da177db44e0cb8543690ee7d90a6"
       ],
       "layout": "IPY_MODEL_bbc0d91ab33846c2b980926883b51811"
      }
     },
     "7981e7d3433f426f8b566bacc0d595b6": {
      "model_module": "@jupyter-widgets/base",
      "model_module_version": "2.0.0",
      "model_name": "LayoutModel",
      "state": {}
     },
     "7a895c6fc3a34b599dc96aae81535dd8": {
      "model_module": "@jupyter-widgets/base",
      "model_module_version": "2.0.0",
      "model_name": "LayoutModel",
      "state": {
       "height": "auto",
       "padding": "0px 0px 0px 4px",
       "width": "auto"
      }
     },
     "7a99557790bd457082c5d43381bd6f02": {
      "model_module": "@jupyter-widgets/base",
      "model_module_version": "2.0.0",
      "model_name": "LayoutModel",
      "state": {
       "height": "auto",
       "padding": "0px 0px 0px 4px",
       "width": "auto"
      }
     },
     "7d6813359c63441db59a62f88836f07d": {
      "model_module": "@jupyter-widgets/controls",
      "model_module_version": "2.0.0",
      "model_name": "ToggleButtonModel",
      "state": {
       "button_style": "primary",
       "icon": "random",
       "layout": "IPY_MODEL_5499061e1f424dec856e46bb20d78a9d",
       "style": "IPY_MODEL_e8862633386d47739af6e3888f766fc1",
       "tooltip": "Sankey plots"
      }
     },
     "7d941651c8c84ba9b170c0eb3012de6f": {
      "model_module": "@jupyter-widgets/controls",
      "model_module_version": "2.0.0",
      "model_name": "ToggleButtonStyleModel",
      "state": {
       "description_width": "",
       "font_family": null,
       "font_size": null,
       "font_style": null,
       "font_variant": null,
       "font_weight": null,
       "text_color": null,
       "text_decoration": null
      }
     },
     "7dab54b041714ef786265231af6b8066": {
      "model_module": "jupyter-leaflet",
      "model_module_version": "^0.18",
      "model_name": "LeafletAttributionControlModel",
      "state": {
       "_model_module_version": "^0.18",
       "_view_module_version": "^0.18",
       "options": [
        "position",
        "prefix"
       ],
       "position": "bottomright",
       "prefix": "ipyleaflet"
      }
     },
     "7ec39afb71e64d3db6f0dc70370a0aa8": {
      "model_module": "@jupyter-widgets/base",
      "model_module_version": "2.0.0",
      "model_name": "LayoutModel",
      "state": {
       "height": "auto",
       "padding": "0px 0px 0px 4px",
       "width": "auto"
      }
     },
     "7f3d528a03bf40b4838cb566eb222b3d": {
      "model_module": "@jupyter-widgets/controls",
      "model_module_version": "2.0.0",
      "model_name": "ToggleButtonStyleModel",
      "state": {
       "description_width": "",
       "font_family": null,
       "font_size": null,
       "font_style": null,
       "font_variant": null,
       "font_weight": null,
       "text_color": null,
       "text_decoration": null
      }
     },
     "7fc422e3b0a5437584f60a28d1b3b887": {
      "model_module": "@jupyter-widgets/controls",
      "model_module_version": "2.0.0",
      "model_name": "ToggleButtonModel",
      "state": {
       "button_style": "primary",
       "icon": "folder-open",
       "layout": "IPY_MODEL_f2c7d86482f14d05b7f38d4fa4cd852a",
       "style": "IPY_MODEL_8f322507d93a4cb9b39126b2ef4eca11",
       "tooltip": "Open local vector/raster data"
      }
     },
     "805c76db03fd48f6a962c926c61e464a": {
      "model_module": "@jupyter-widgets/base",
      "model_module_version": "2.0.0",
      "model_name": "LayoutModel",
      "state": {
       "height": "auto",
       "padding": "0px 0px 0px 4px",
       "width": "auto"
      }
     },
     "80e4d1313bed40919e87ab03e4e7cb36": {
      "model_module": "@jupyter-widgets/controls",
      "model_module_version": "2.0.0",
      "model_name": "ToggleButtonsStyleModel",
      "state": {
       "button_width": "110px",
       "description_width": ""
      }
     },
     "80f55236525648f9a94e87d94669d039": {
      "model_module": "@jupyter-widgets/base",
      "model_module_version": "2.0.0",
      "model_name": "LayoutModel",
      "state": {
       "height": "auto",
       "padding": "0px 0px 0px 4px",
       "width": "auto"
      }
     },
     "812a372fe19c42078eef1cf914751a87": {
      "model_module": "@jupyter-widgets/controls",
      "model_module_version": "2.0.0",
      "model_name": "ToggleButtonModel",
      "state": {
       "button_style": "primary",
       "icon": "retweet",
       "layout": "IPY_MODEL_0275569bdb274e27826437bf5a93be29",
       "style": "IPY_MODEL_bf1ff5c334ba400398e8cde1b47e91dd",
       "tooltip": "Convert Earth Engine JavaScript to Python"
      }
     },
     "8406011923dc488588a94c40f006f08b": {
      "model_module": "@jupyter-widgets/base",
      "model_module_version": "2.0.0",
      "model_name": "LayoutModel",
      "state": {
       "width": "340px"
      }
     },
     "8828da3da7234a928726f0ddb67cdc13": {
      "model_module": "@jupyter-widgets/base",
      "model_module_version": "2.0.0",
      "model_name": "LayoutModel",
      "state": {
       "height": "28px",
       "width": "72px"
      }
     },
     "89e8237cab9548d6b88027235bca1ac8": {
      "model_module": "@jupyter-widgets/base",
      "model_module_version": "2.0.0",
      "model_name": "LayoutModel",
      "state": {}
     },
     "8aa141e68834498f9bcd3a4472661632": {
      "model_module": "@jupyter-widgets/controls",
      "model_module_version": "2.0.0",
      "model_name": "ToggleButtonModel",
      "state": {
       "button_style": "primary",
       "icon": "plus",
       "layout": "IPY_MODEL_4122e4259e114b80952bd8ab0e23347a",
       "style": "IPY_MODEL_2a2ee2ad08ba4f45a9e9d1ffa0a4072e",
       "tooltip": "Expand toolbar"
      }
     },
     "8d2e9a481bc64edb87f77fbec47566f5": {
      "model_module": "jupyter-leaflet",
      "model_module_version": "^0.18",
      "model_name": "LeafletWidgetControlModel",
      "state": {
       "_model_module": "jupyter-leaflet",
       "_model_module_version": "^0.18",
       "_view_count": null,
       "_view_module": "jupyter-leaflet",
       "_view_module_version": "^0.18",
       "options": [
        "position",
        "transparent_bg"
       ],
       "position": "topleft",
       "widget": "IPY_MODEL_0433396d776c4dc0b1a6ca21019a7339"
      }
     },
     "8da27e54472b4851bd7eef21b8ce3c3e": {
      "model_module": "@jupyter-widgets/base",
      "model_module_version": "2.0.0",
      "model_name": "LayoutModel",
      "state": {}
     },
     "8f322507d93a4cb9b39126b2ef4eca11": {
      "model_module": "@jupyter-widgets/controls",
      "model_module_version": "2.0.0",
      "model_name": "ToggleButtonStyleModel",
      "state": {
       "description_width": "",
       "font_family": null,
       "font_size": null,
       "font_style": null,
       "font_variant": null,
       "font_weight": null,
       "text_color": null,
       "text_decoration": null
      }
     },
     "93988bed26a948d0bbe37c21a319f130": {
      "model_module": "@jupyter-widgets/base",
      "model_module_version": "2.0.0",
      "model_name": "LayoutModel",
      "state": {
       "height": "auto",
       "padding": "0px 0px 0px 4px",
       "width": "auto"
      }
     },
     "94194241bb5e4bc2982a11547bcfe53d": {
      "model_module": "@jupyter-widgets/controls",
      "model_module_version": "2.0.0",
      "model_name": "ToggleButtonStyleModel",
      "state": {
       "description_width": "",
       "font_family": null,
       "font_size": null,
       "font_style": null,
       "font_variant": null,
       "font_weight": null,
       "text_color": null,
       "text_decoration": null
      }
     },
     "9705179759db45e5a1e2b9bc4fd69b97": {
      "model_module": "@jupyter-widgets/controls",
      "model_module_version": "2.0.0",
      "model_name": "HTMLModel",
      "state": {
       "layout": "IPY_MODEL_d2acbd54ea114c0a88eea9a83429c9b7",
       "style": "IPY_MODEL_3c1eba35d0ca41a7b66319bf6cb90266"
      }
     },
     "9ce01b4981f845b7999670208bcaa269": {
      "model_module": "@jupyter-widgets/controls",
      "model_module_version": "2.0.0",
      "model_name": "ToggleButtonStyleModel",
      "state": {
       "description_width": "",
       "font_family": null,
       "font_size": null,
       "font_style": null,
       "font_variant": null,
       "font_weight": null,
       "text_color": null,
       "text_decoration": null
      }
     },
     "9daa3b0227344bb19dbf89b69adbfb6c": {
      "model_module": "@jupyter-widgets/controls",
      "model_module_version": "2.0.0",
      "model_name": "TextStyleModel",
      "state": {
       "description_width": "",
       "font_size": null,
       "text_color": null
      }
     },
     "9efa7d763654441fa42ce6685e929b20": {
      "model_module": "jupyter-leaflet",
      "model_module_version": "^0.18",
      "model_name": "LeafletMapModel",
      "state": {
       "_model_module_version": "^0.18",
       "_view_module_version": "^0.18",
       "bottom": 812,
       "controls": [
        "IPY_MODEL_8d2e9a481bc64edb87f77fbec47566f5",
        "IPY_MODEL_a0101295fd314459844343e45e6fc4f1",
        "IPY_MODEL_6928c4bd50ef4e41a6422f5b4d91f8ea",
        "IPY_MODEL_3eca023a46f441a8933f288c32846136",
        "IPY_MODEL_3a7dcc7f793e4c5f97ca3608f336b0fb",
        "IPY_MODEL_27cb4a508976480cbdedd85fc5b0643d",
        "IPY_MODEL_e1a6f7852864408eab180a28659d4a41",
        "IPY_MODEL_c7c4e25806db4178a2f0d2c55f7e4843"
       ],
       "default_style": "IPY_MODEL_02996d2d649e4a73b967c17a2920cbc4",
       "dragging_style": "IPY_MODEL_55cf4885cd604a809418f03970cc6de4",
       "east": 190.54687500000003,
       "fullscreen": false,
       "interpolation": "bilinear",
       "layers": [
        "IPY_MODEL_b6bcce0257174a1e86e31d9562d3a848"
       ],
       "layout": "IPY_MODEL_5ce9b1a748564930998476e27680368b",
       "left": -30,
       "max_zoom": 24,
       "modisdate": "2024-03-02",
       "north": 71.9653876991313,
       "options": [
        "bounce_at_zoom_limits",
        "box_zoom",
        "center",
        "close_popup_on_click",
        "double_click_zoom",
        "dragging",
        "fullscreen",
        "inertia",
        "inertia_deceleration",
        "inertia_max_speed",
        "interpolation",
        "keyboard",
        "keyboard_pan_offset",
        "keyboard_zoom_offset",
        "max_zoom",
        "min_zoom",
        "prefer_canvas",
        "scroll_wheel_zoom",
        "tap",
        "tap_tolerance",
        "touch_zoom",
        "world_copy_jump",
        "zoom",
        "zoom_animation_threshold",
        "zoom_delta",
        "zoom_snap"
       ],
       "prefer_canvas": false,
       "right": 1054,
       "scroll_wheel_zoom": true,
       "south": -71.96538769913128,
       "style": "IPY_MODEL_02996d2d649e4a73b967c17a2920cbc4",
       "top": 212,
       "west": -190.54687500000003,
       "window_url": "http://localhost:8890/lab/tree/Notebook_Study_Sites/Land%20Use%20Land%20Cover%20Change/Untitled.ipynb",
       "zoom": 2
      }
     },
     "9ff461c120a24245b6a09561514bf0ed": {
      "model_module": "@jupyter-widgets/base",
      "model_module_version": "2.0.0",
      "model_name": "LayoutModel",
      "state": {
       "height": "auto",
       "padding": "0px 0px 0px 4px",
       "width": "auto"
      }
     },
     "a0101295fd314459844343e45e6fc4f1": {
      "model_module": "jupyter-leaflet",
      "model_module_version": "^0.18",
      "model_name": "LeafletZoomControlModel",
      "state": {
       "_model_module_version": "^0.18",
       "_view_module_version": "^0.18",
       "options": [
        "position",
        "zoom_in_text",
        "zoom_in_title",
        "zoom_out_text",
        "zoom_out_title"
       ]
      }
     },
     "a1091f50098e4283aa04df92a7d02629": {
      "model_module": "@jupyter-widgets/controls",
      "model_module_version": "2.0.0",
      "model_name": "ButtonStyleModel",
      "state": {
       "font_family": null,
       "font_size": null,
       "font_style": null,
       "font_variant": null,
       "font_weight": null,
       "text_color": null,
       "text_decoration": null
      }
     },
     "a216b48fbf3e47188512f51539212e7f": {
      "model_module": "@jupyter-widgets/base",
      "model_module_version": "2.0.0",
      "model_name": "LayoutModel",
      "state": {
       "height": "600px"
      }
     },
     "a355df8095514e18b81448f38434f5ce": {
      "model_module": "@jupyter-widgets/controls",
      "model_module_version": "2.0.0",
      "model_name": "DropdownModel",
      "state": {
       "index": null,
       "layout": "IPY_MODEL_d21f3ce5bd2f4962ae8138052c2db2f5",
       "style": "IPY_MODEL_130bb60ae9b444ba80e8f8ea6299b2ac"
      }
     },
     "a3f1d4fe2762407da482f0ed1286de6f": {
      "model_module": "jupyter-leaflet",
      "model_module_version": "^0.18",
      "model_name": "LeafletMapModel",
      "state": {
       "_model_module_version": "^0.18",
       "_view_module_version": "^0.18",
       "controls": [
        "IPY_MODEL_d67835821c92454a8c31ca002d1c1b34",
        "IPY_MODEL_be862d8ef3d84d97862c3838b03a7bfb",
        "IPY_MODEL_df194a397aab49e89664e78768064814",
        "IPY_MODEL_4fd6176026f7428cb099bb9e0a707b53",
        "IPY_MODEL_b0ff7eee526e417d96ac8f9f668f10ff",
        "IPY_MODEL_2087fa97787a415b8b8a65e16658b40c",
        "IPY_MODEL_ce67c59c827b435e902472e27e3c954a",
        "IPY_MODEL_7dab54b041714ef786265231af6b8066"
       ],
       "default_style": "IPY_MODEL_d4ef058fbeb547e1a3946a33eb8b5a1f",
       "dragging_style": "IPY_MODEL_698035519e934f678e990196d79523ca",
       "fullscreen": false,
       "interpolation": "bilinear",
       "layers": [
        "IPY_MODEL_f187bde227a74a80903a88e186e56703"
       ],
       "layout": "IPY_MODEL_a216b48fbf3e47188512f51539212e7f",
       "max_zoom": 24,
       "modisdate": "2024-03-02",
       "options": [
        "bounce_at_zoom_limits",
        "box_zoom",
        "center",
        "close_popup_on_click",
        "double_click_zoom",
        "dragging",
        "fullscreen",
        "inertia",
        "inertia_deceleration",
        "inertia_max_speed",
        "interpolation",
        "keyboard",
        "keyboard_pan_offset",
        "keyboard_zoom_offset",
        "max_zoom",
        "min_zoom",
        "prefer_canvas",
        "scroll_wheel_zoom",
        "tap",
        "tap_tolerance",
        "touch_zoom",
        "world_copy_jump",
        "zoom",
        "zoom_animation_threshold",
        "zoom_delta",
        "zoom_snap"
       ],
       "prefer_canvas": false,
       "scroll_wheel_zoom": true,
       "style": "IPY_MODEL_e9bc5c3f113e4cc4b271c67e499f52c0",
       "window_url": "http://localhost:8890/lab/tree/Notebook_Study_Sites/Land%20Use%20Land%20Cover%20Change/Untitled.ipynb",
       "zoom": 2
      }
     },
     "a58a5e9058314bbc85fd5ea4d20b31eb": {
      "model_module": "@jupyter-widgets/base",
      "model_module_version": "2.0.0",
      "model_name": "LayoutModel",
      "state": {
       "height": "auto",
       "padding": "0px 0px 0px 4px",
       "width": "auto"
      }
     },
     "a7c5ab101ce1431ab5b95c852a387e94": {
      "model_module": "@jupyter-widgets/base",
      "model_module_version": "2.0.0",
      "model_name": "LayoutModel",
      "state": {
       "height": "auto",
       "padding": "0px 0px 0px 4px",
       "width": "auto"
      }
     },
     "a8ce725eacc14b64bb07ae6da6604060": {
      "model_module": "@jupyter-widgets/controls",
      "model_module_version": "2.0.0",
      "model_name": "ToggleButtonModel",
      "state": {
       "button_style": "primary",
       "icon": "adjust",
       "layout": "IPY_MODEL_066b3ee8b8664f63924c679e1bb6ec21",
       "style": "IPY_MODEL_de968f43f9b448afafcf127cb887885a",
       "tooltip": "Planet imagery"
      }
     },
     "a90c2ca44936420480a78ba9292b50c9": {
      "model_module": "@jupyter-widgets/base",
      "model_module_version": "2.0.0",
      "model_name": "LayoutModel",
      "state": {
       "height": "auto",
       "padding": "0px 0px 0px 4px",
       "width": "auto"
      }
     },
     "ad29ee73db404554a0ecfc9e4cb67e65": {
      "model_module": "@jupyter-widgets/controls",
      "model_module_version": "2.0.0",
      "model_name": "ToggleButtonModel",
      "state": {
       "button_style": "primary",
       "icon": "question",
       "layout": "IPY_MODEL_1101332af9c84c349ef5f9aacffe39d1",
       "style": "IPY_MODEL_18627fc9c03043d3b70bb8e5a5f0451c",
       "tooltip": "Get help"
      }
     },
     "ad7d846ba1af41e48cf170c317962556": {
      "model_module": "@jupyter-widgets/controls",
      "model_module_version": "2.0.0",
      "model_name": "ToggleButtonStyleModel",
      "state": {
       "description_width": "",
       "font_family": null,
       "font_size": null,
       "font_style": null,
       "font_variant": null,
       "font_weight": null,
       "text_color": null,
       "text_decoration": null
      }
     },
     "ade14170c391459f98b91159aded824a": {
      "model_module": "@jupyter-widgets/controls",
      "model_module_version": "2.0.0",
      "model_name": "ToggleButtonStyleModel",
      "state": {
       "description_width": "",
       "font_family": null,
       "font_size": null,
       "font_style": null,
       "font_variant": null,
       "font_weight": null,
       "text_color": null,
       "text_decoration": null
      }
     },
     "b0f7029d840c45b9bcd8cdbea73c2db4": {
      "model_module": "@jupyter-widgets/controls",
      "model_module_version": "2.0.0",
      "model_name": "DropdownModel",
      "state": {
       "index": null,
       "layout": "IPY_MODEL_de0d8ff566a04593ad9384dab9457513",
       "style": "IPY_MODEL_d1adb4e9a7694bb0b2c654c8458d7297"
      }
     },
     "b0ff7eee526e417d96ac8f9f668f10ff": {
      "model_module": "jupyter-leaflet",
      "model_module_version": "^0.18",
      "model_name": "LeafletScaleControlModel",
      "state": {
       "_model_module_version": "^0.18",
       "_view_module_version": "^0.18",
       "imperial": true,
       "max_width": 100,
       "metric": true,
       "options": [
        "imperial",
        "max_width",
        "metric",
        "position",
        "update_when_idle"
       ],
       "position": "bottomleft",
       "update_when_idle": false
      }
     },
     "b131ebfc196542c19fd8a7c1944889fb": {
      "model_module": "@jupyter-widgets/controls",
      "model_module_version": "2.0.0",
      "model_name": "ToggleButtonStyleModel",
      "state": {
       "description_width": "",
       "font_family": null,
       "font_size": null,
       "font_style": null,
       "font_variant": null,
       "font_weight": null,
       "text_color": null,
       "text_decoration": null
      }
     },
     "b135ed9789aa47a2966851e28e5129db": {
      "model_module": "@jupyter-widgets/base",
      "model_module_version": "2.0.0",
      "model_name": "LayoutModel",
      "state": {
       "height": "auto",
       "padding": "0px 0px 0px 4px",
       "width": "auto"
      }
     },
     "b213472293e44ec39c8857340b7e5a0d": {
      "model_module": "@jupyter-widgets/controls",
      "model_module_version": "2.0.0",
      "model_name": "ToggleButtonStyleModel",
      "state": {
       "description_width": "",
       "font_family": null,
       "font_size": null,
       "font_style": null,
       "font_variant": null,
       "font_weight": null,
       "text_color": null,
       "text_decoration": null
      }
     },
     "b2dc6cbe8bf046898d08d771882bcfb6": {
      "model_module": "@jupyter-widgets/controls",
      "model_module_version": "2.0.0",
      "model_name": "ButtonStyleModel",
      "state": {
       "font_family": null,
       "font_size": null,
       "font_style": null,
       "font_variant": null,
       "font_weight": null,
       "text_color": null,
       "text_decoration": null
      }
     },
     "b35246340961408ba4a9bef34b234829": {
      "model_module": "@jupyter-widgets/controls",
      "model_module_version": "2.0.0",
      "model_name": "HTMLStyleModel",
      "state": {
       "description_width": "",
       "font_size": null,
       "text_color": null
      }
     },
     "b6bcce0257174a1e86e31d9562d3a848": {
      "model_module": "jupyter-leaflet",
      "model_module_version": "^0.18",
      "model_name": "LeafletTileLayerModel",
      "state": {
       "_model_module_version": "^0.18",
       "_view_module_version": "^0.18",
       "attribution": "&copy; <a href=\"https://www.openstreetmap.org/copyright\">OpenStreetMap</a> contributors",
       "base": true,
       "max_zoom": 19,
       "min_zoom": 1,
       "name": "OpenStreetMap.Mapnik",
       "options": [
        "attribution",
        "bounds",
        "detect_retina",
        "max_native_zoom",
        "max_zoom",
        "min_native_zoom",
        "min_zoom",
        "no_wrap",
        "tile_size",
        "tms",
        "zoom_offset"
       ],
       "url": "https://tile.openstreetmap.org/{z}/{x}/{y}.png"
      }
     },
     "b7cf9b62c83745c790e4cc74d0045812": {
      "model_module": "@jupyter-widgets/controls",
      "model_module_version": "2.0.0",
      "model_name": "VBoxModel",
      "state": {
       "children": [
        "IPY_MODEL_bc12486d202044b88dde8c0da76c3221"
       ],
       "layout": "IPY_MODEL_89e8237cab9548d6b88027235bca1ac8"
      }
     },
     "b93f22291c144ce58df1d8943f3bc9f1": {
      "model_module": "@jupyter-widgets/base",
      "model_module_version": "2.0.0",
      "model_name": "LayoutModel",
      "state": {
       "height": "auto",
       "padding": "0px 0px 0px 4px",
       "width": "auto"
      }
     },
     "b9416c9f299f469b9987f8005f90b2d4": {
      "model_module": "@jupyter-widgets/base",
      "model_module_version": "2.0.0",
      "model_name": "LayoutModel",
      "state": {
       "max_height": "350px",
       "max_width": "340px",
       "overflow": "scroll"
      }
     },
     "ba1b9b002af64da2a3559cfc595220a6": {
      "model_module": "@jupyter-widgets/controls",
      "model_module_version": "2.0.0",
      "model_name": "HBoxModel",
      "state": {
       "children": [
        "IPY_MODEL_1f0943087dec443190ef2448c5957d1b",
        "IPY_MODEL_fbfc64f701184053b5c8d416b8cc8b64"
       ],
       "layout": "IPY_MODEL_8da27e54472b4851bd7eef21b8ce3c3e"
      }
     },
     "ba5ca73b1ff44fa083a7b37ec558c56b": {
      "model_module": "@jupyter-widgets/controls",
      "model_module_version": "2.0.0",
      "model_name": "ToggleButtonModel",
      "state": {
       "button_style": "primary",
       "icon": "hand-o-up",
       "layout": "IPY_MODEL_a58a5e9058314bbc85fd5ea4d20b31eb",
       "style": "IPY_MODEL_c0d1aa9fc87f4a629056b00cdd2a725a",
       "tooltip": "Collect training samples"
      }
     },
     "bbc0d91ab33846c2b980926883b51811": {
      "model_module": "@jupyter-widgets/base",
      "model_module_version": "2.0.0",
      "model_name": "LayoutModel",
      "state": {}
     },
     "bc12486d202044b88dde8c0da76c3221": {
      "model_module": "@jupyter-widgets/controls",
      "model_module_version": "2.0.0",
      "model_name": "GridBoxModel",
      "state": {
       "children": [
        "IPY_MODEL_6a9c470badb2494c933b4c402786a335",
        "IPY_MODEL_1f06ffb7a08f40849dbea484202f4ec4",
        "IPY_MODEL_c8bf20b67502437494d72ff753e328a7",
        "IPY_MODEL_f8a69d4fc87d4c1986080ad5342c17cb",
        "IPY_MODEL_812a372fe19c42078eef1cf914751a87",
        "IPY_MODEL_8aa141e68834498f9bcd3a4472661632"
       ],
       "layout": "IPY_MODEL_f93a23e116cd4401a52784c1af178194"
      }
     },
     "bc1d8af1151d4899b2f7f49ae39074b6": {
      "model_module": "@jupyter-widgets/base",
      "model_module_version": "2.0.0",
      "model_name": "LayoutModel",
      "state": {
       "height": "auto",
       "padding": "0px 0px 0px 4px",
       "width": "auto"
      }
     },
     "bc898f9d638945b3890262478854c95b": {
      "model_module": "@jupyter-widgets/base",
      "model_module_version": "2.0.0",
      "model_name": "LayoutModel",
      "state": {
       "height": "auto",
       "padding": "0px 0px 0px 4px",
       "width": "auto"
      }
     },
     "be862d8ef3d84d97862c3838b03a7bfb": {
      "model_module": "jupyter-leaflet",
      "model_module_version": "^0.18",
      "model_name": "LeafletZoomControlModel",
      "state": {
       "_model_module_version": "^0.18",
       "_view_module_version": "^0.18",
       "options": [
        "position",
        "zoom_in_text",
        "zoom_in_title",
        "zoom_out_text",
        "zoom_out_title"
       ]
      }
     },
     "be9fe5929d054a63b06f2f0047960bb4": {
      "model_module": "@jupyter-widgets/controls",
      "model_module_version": "2.0.0",
      "model_name": "ToggleButtonModel",
      "state": {
       "button_style": "primary",
       "icon": "gears",
       "layout": "IPY_MODEL_7a895c6fc3a34b599dc96aae81535dd8",
       "style": "IPY_MODEL_ad7d846ba1af41e48cf170c317962556",
       "tooltip": "WhiteboxTools for local geoprocessing"
      }
     },
     "becd7c2ce75746048c050fb3bbda5634": {
      "model_module": "@jupyter-widgets/base",
      "model_module_version": "2.0.0",
      "model_name": "LayoutModel",
      "state": {
       "height": "auto",
       "padding": "0px 0px 0px 4px",
       "width": "auto"
      }
     },
     "bf1ff5c334ba400398e8cde1b47e91dd": {
      "model_module": "@jupyter-widgets/controls",
      "model_module_version": "2.0.0",
      "model_name": "ToggleButtonStyleModel",
      "state": {
       "description_width": "",
       "font_family": null,
       "font_size": null,
       "font_style": null,
       "font_variant": null,
       "font_weight": null,
       "text_color": null,
       "text_decoration": null
      }
     },
     "bfa6747779334e2f81bcdfa7e7519151": {
      "model_module": "@jupyter-widgets/controls",
      "model_module_version": "2.0.0",
      "model_name": "ToggleButtonModel",
      "state": {
       "button_style": "primary",
       "icon": "map",
       "layout": "IPY_MODEL_7ec39afb71e64d3db6f0dc70370a0aa8",
       "style": "IPY_MODEL_015c1f34e7ec442eaf49d6e7719c46a2",
       "tooltip": "Change basemap"
      }
     },
     "c0122120a4e743719bae794229c326db": {
      "model_module": "@jupyter-widgets/controls",
      "model_module_version": "2.0.0",
      "model_name": "ToggleButtonModel",
      "state": {
       "button_style": "primary",
       "icon": "google",
       "layout": "IPY_MODEL_15d1672656114e278891bc4a53b2b4f4",
       "style": "IPY_MODEL_7d941651c8c84ba9b170c0eb3012de6f",
       "tooltip": "GEE Toolbox for cloud computing"
      }
     },
     "c0d1aa9fc87f4a629056b00cdd2a725a": {
      "model_module": "@jupyter-widgets/controls",
      "model_module_version": "2.0.0",
      "model_name": "ToggleButtonStyleModel",
      "state": {
       "description_width": "",
       "font_family": null,
       "font_size": null,
       "font_style": null,
       "font_variant": null,
       "font_weight": null,
       "text_color": null,
       "text_decoration": null
      }
     },
     "c4445efabd004fff9d4068e79054fc9e": {
      "model_module": "@jupyter-widgets/base",
      "model_module_version": "2.0.0",
      "model_name": "LayoutModel",
      "state": {
       "height": "28px",
       "padding": "0px 0px 0px 4px",
       "width": "28px"
      }
     },
     "c68be0c442af4ec7a8233a08ca187dff": {
      "model_module": "ipyevents",
      "model_module_version": "2.0.2",
      "model_name": "EventModel",
      "state": {
       "_supported_key_events": [
        "keydown",
        "keyup"
       ],
       "_supported_mouse_events": [
        "click",
        "auxclick",
        "dblclick",
        "mouseenter",
        "mouseleave",
        "mousedown",
        "mouseup",
        "mousemove",
        "wheel",
        "contextmenu",
        "dragstart",
        "drag",
        "dragend",
        "dragenter",
        "dragover",
        "dragleave",
        "drop"
       ],
       "_supported_touch_events": [
        "touchstart",
        "touchend",
        "touchmove",
        "touchcancel"
       ],
       "_view_module": "@jupyter-widgets/controls",
       "source": "IPY_MODEL_0433396d776c4dc0b1a6ca21019a7339",
       "throttle_or_debounce": "",
       "watched_events": [
        "mouseenter",
        "mouseleave"
       ],
       "xy_coordinate_system": ""
      }
     },
     "c7c4e25806db4178a2f0d2c55f7e4843": {
      "model_module": "jupyter-leaflet",
      "model_module_version": "^0.18",
      "model_name": "LeafletAttributionControlModel",
      "state": {
       "_model_module_version": "^0.18",
       "_view_module_version": "^0.18",
       "options": [
        "position",
        "prefix"
       ],
       "position": "bottomright",
       "prefix": "ipyleaflet"
      }
     },
     "c80c1e9d22974c06b79331c47decd350": {
      "model_module": "@jupyter-widgets/controls",
      "model_module_version": "2.0.0",
      "model_name": "ToggleButtonStyleModel",
      "state": {
       "description_width": "",
       "font_family": null,
       "font_size": null,
       "font_style": null,
       "font_variant": null,
       "font_weight": null,
       "text_color": null,
       "text_decoration": null
      }
     },
     "c851ba4217044583b1435ae95d0b5d8e": {
      "model_module": "@jupyter-widgets/base",
      "model_module_version": "2.0.0",
      "model_name": "LayoutModel",
      "state": {}
     },
     "c8bf20b67502437494d72ff753e328a7": {
      "model_module": "@jupyter-widgets/controls",
      "model_module_version": "2.0.0",
      "model_name": "ToggleButtonModel",
      "state": {
       "button_style": "primary",
       "icon": "globe",
       "layout": "IPY_MODEL_f541ad8ae59d4e7194f2608ac26e663f",
       "style": "IPY_MODEL_e20cd7355a2144a891bdc343119ae012",
       "tooltip": "Create timelapse"
      }
     },
     "c949a52f8aba4e8d9ba1fbbe63d8976e": {
      "model_module": "@jupyter-widgets/controls",
      "model_module_version": "2.0.0",
      "model_name": "ToggleButtonModel",
      "state": {
       "icon": "wrench",
       "layout": "IPY_MODEL_383f1a158558423dab63f996edb341d1",
       "style": "IPY_MODEL_c80c1e9d22974c06b79331c47decd350",
       "tooltip": "Toolbar"
      }
     },
     "c97cb1cb47a141acacf47a3166ed45ab": {
      "model_module": "@jupyter-widgets/controls",
      "model_module_version": "2.0.0",
      "model_name": "ToggleButtonStyleModel",
      "state": {
       "description_width": "",
       "font_family": null,
       "font_size": null,
       "font_style": null,
       "font_variant": null,
       "font_weight": null,
       "text_color": null,
       "text_decoration": null
      }
     },
     "ca3bd0a4aa784fafa935bfc238ad7111": {
      "model_module": "@jupyter-widgets/controls",
      "model_module_version": "2.0.0",
      "model_name": "ToggleButtonModel",
      "state": {
       "button_style": "primary",
       "icon": "retweet",
       "layout": "IPY_MODEL_b135ed9789aa47a2966851e28e5129db",
       "style": "IPY_MODEL_ade14170c391459f98b91159aded824a",
       "tooltip": "Convert Earth Engine JavaScript to Python"
      }
     },
     "ca5b9846ff71473ab8ca9f5f9908a094": {
      "model_module": "@jupyter-widgets/base",
      "model_module_version": "2.0.0",
      "model_name": "LayoutModel",
      "state": {
       "height": "28px",
       "padding": "0px 0px 0px 4px",
       "width": "28px"
      }
     },
     "ca8108c2b02e43029815c62f79a98033": {
      "model_module": "@jupyter-widgets/controls",
      "model_module_version": "2.0.0",
      "model_name": "ToggleButtonStyleModel",
      "state": {
       "description_width": "",
       "font_family": null,
       "font_size": null,
       "font_style": null,
       "font_variant": null,
       "font_weight": null,
       "text_color": null,
       "text_decoration": null
      }
     },
     "ce67c59c827b435e902472e27e3c954a": {
      "model_module": "jupyter-leaflet",
      "model_module_version": "^0.18",
      "model_name": "LeafletWidgetControlModel",
      "state": {
       "_model_module": "jupyter-leaflet",
       "_model_module_version": "^0.18",
       "_view_count": null,
       "_view_module": "jupyter-leaflet",
       "_view_module_version": "^0.18",
       "options": [
        "position",
        "transparent_bg"
       ],
       "position": "topright",
       "widget": "IPY_MODEL_3f475010b5c54605abd6a0f7c566c991"
      }
     },
     "d15adfa68f294eea9b70cb246de00d6b": {
      "model_module": "@jupyter-widgets/controls",
      "model_module_version": "2.0.0",
      "model_name": "ToggleButtonModel",
      "state": {
       "button_style": "primary",
       "icon": "question",
       "layout": "IPY_MODEL_342e75fa97904ac2acd7f4255b2ea44a",
       "style": "IPY_MODEL_72c6d295ccf4426695fcd23a668f43a1",
       "tooltip": "Get help"
      }
     },
     "d1adb4e9a7694bb0b2c654c8458d7297": {
      "model_module": "@jupyter-widgets/controls",
      "model_module_version": "2.0.0",
      "model_name": "DescriptionStyleModel",
      "state": {
       "description_width": ""
      }
     },
     "d21f3ce5bd2f4962ae8138052c2db2f5": {
      "model_module": "@jupyter-widgets/base",
      "model_module_version": "2.0.0",
      "model_name": "LayoutModel",
      "state": {
       "max_width": "279px",
       "min_width": "279px"
      }
     },
     "d2acbd54ea114c0a88eea9a83429c9b7": {
      "model_module": "@jupyter-widgets/base",
      "model_module_version": "2.0.0",
      "model_name": "LayoutModel",
      "state": {}
     },
     "d41c102bb00341a0a801a8407bcab9ec": {
      "model_module": "@jupyter-widgets/base",
      "model_module_version": "2.0.0",
      "model_name": "LayoutModel",
      "state": {
       "height": "auto",
       "padding": "0px 0px 0px 4px",
       "width": "auto"
      }
     },
     "d4ef058fbeb547e1a3946a33eb8b5a1f": {
      "model_module": "jupyter-leaflet",
      "model_module_version": "^0.18",
      "model_name": "LeafletMapStyleModel",
      "state": {
       "_model_module_version": "^0.18"
      }
     },
     "d67835821c92454a8c31ca002d1c1b34": {
      "model_module": "jupyter-leaflet",
      "model_module_version": "^0.18",
      "model_name": "LeafletWidgetControlModel",
      "state": {
       "_model_module": "jupyter-leaflet",
       "_model_module_version": "^0.18",
       "_view_count": null,
       "_view_module": "jupyter-leaflet",
       "_view_module_version": "^0.18",
       "options": [
        "position",
        "transparent_bg"
       ],
       "position": "topleft",
       "widget": "IPY_MODEL_f5e1d63bfea54c33bfd154cb9a088f13"
      }
     },
     "d6e4bea313ea4ec8973c20d41d508490": {
      "model_module": "@jupyter-widgets/controls",
      "model_module_version": "2.0.0",
      "model_name": "ToggleButtonStyleModel",
      "state": {
       "description_width": "",
       "font_family": null,
       "font_size": null,
       "font_style": null,
       "font_variant": null,
       "font_weight": null,
       "text_color": null,
       "text_decoration": null
      }
     },
     "d8546a5793494148944c5640d7ddf5fb": {
      "model_module": "@jupyter-widgets/controls",
      "model_module_version": "2.0.0",
      "model_name": "ToggleButtonStyleModel",
      "state": {
       "description_width": "",
       "font_family": null,
       "font_size": null,
       "font_style": null,
       "font_variant": null,
       "font_weight": null,
       "text_color": null,
       "text_decoration": null
      }
     },
     "dd24098efcb341c89bd453646fa3eb5b": {
      "model_module": "@jupyter-widgets/controls",
      "model_module_version": "2.0.0",
      "model_name": "ToggleButtonModel",
      "state": {
       "icon": "server",
       "layout": "IPY_MODEL_8828da3da7234a928726f0ddb67cdc13",
       "style": "IPY_MODEL_2609452d4a8547c4aaaff09da4902d82",
       "tooltip": "Layers"
      }
     },
     "de0d8ff566a04593ad9384dab9457513": {
      "model_module": "@jupyter-widgets/base",
      "model_module_version": "2.0.0",
      "model_name": "LayoutModel",
      "state": {
       "max_width": "279px",
       "min_width": "279px"
      }
     },
     "de968f43f9b448afafcf127cb887885a": {
      "model_module": "@jupyter-widgets/controls",
      "model_module_version": "2.0.0",
      "model_name": "ToggleButtonStyleModel",
      "state": {
       "description_width": "",
       "font_family": null,
       "font_size": null,
       "font_style": null,
       "font_variant": null,
       "font_weight": null,
       "text_color": null,
       "text_decoration": null
      }
     },
     "df194a397aab49e89664e78768064814": {
      "model_module": "jupyter-leaflet",
      "model_module_version": "^0.18",
      "model_name": "LeafletFullScreenControlModel",
      "state": {
       "_model_module_version": "^0.18",
       "_view_module_version": "^0.18",
       "options": [
        "position"
       ]
      }
     },
     "e08496342e264651b7b3eb5b644a52e7": {
      "model_module": "@jupyter-widgets/controls",
      "model_module_version": "2.0.0",
      "model_name": "ToggleButtonModel",
      "state": {
       "button_style": "primary",
       "icon": "info-circle",
       "layout": "IPY_MODEL_bc1d8af1151d4899b2f7f49ae39074b6",
       "style": "IPY_MODEL_0746bf520a5c466f853a0d8e13ac732d",
       "tooltip": "Get COG/STAC pixel value"
      }
     },
     "e178963044a648f788d746e4b34294db": {
      "model_module": "@jupyter-widgets/controls",
      "model_module_version": "2.0.0",
      "model_name": "ToggleButtonStyleModel",
      "state": {
       "description_width": "",
       "font_family": null,
       "font_size": null,
       "font_style": null,
       "font_variant": null,
       "font_weight": null,
       "text_color": null,
       "text_decoration": null
      }
     },
     "e1a6f7852864408eab180a28659d4a41": {
      "model_module": "jupyter-leaflet",
      "model_module_version": "^0.18",
      "model_name": "LeafletWidgetControlModel",
      "state": {
       "_model_module": "jupyter-leaflet",
       "_model_module_version": "^0.18",
       "_view_count": null,
       "_view_module": "jupyter-leaflet",
       "_view_module_version": "^0.18",
       "options": [
        "position",
        "transparent_bg"
       ],
       "position": "topright",
       "widget": "IPY_MODEL_1436efed7eb54f26b5422a4a27ec6771"
      }
     },
     "e20cd7355a2144a891bdc343119ae012": {
      "model_module": "@jupyter-widgets/controls",
      "model_module_version": "2.0.0",
      "model_name": "ToggleButtonStyleModel",
      "state": {
       "description_width": "",
       "font_family": null,
       "font_size": null,
       "font_style": null,
       "font_variant": null,
       "font_weight": null,
       "text_color": null,
       "text_decoration": null
      }
     },
     "e37dacd644d94c7ea38dd3f2563413cb": {
      "model_module": "@jupyter-widgets/controls",
      "model_module_version": "2.0.0",
      "model_name": "ToggleButtonModel",
      "state": {
       "button_style": "primary",
       "icon": "hand-o-up",
       "layout": "IPY_MODEL_a90c2ca44936420480a78ba9292b50c9",
       "style": "IPY_MODEL_0a2cb0d7f02b459089390bf0048a9d71",
       "tooltip": "Collect training samples"
      }
     },
     "e3a13eb3328946608a759fedc540a615": {
      "model_module": "@jupyter-widgets/output",
      "model_module_version": "1.0.0",
      "model_name": "OutputModel",
      "state": {
       "layout": "IPY_MODEL_02f24cb0c19045288f9d3aeb731f3074"
      }
     },
     "e4628ab9c41b4f8e91d3f95b8a186ccc": {
      "model_module": "@jupyter-widgets/base",
      "model_module_version": "2.0.0",
      "model_name": "LayoutModel",
      "state": {}
     },
     "e582c24b95d24277b8c63a946d495267": {
      "model_module": "@jupyter-widgets/controls",
      "model_module_version": "2.0.0",
      "model_name": "HTMLModel",
      "state": {
       "layout": "IPY_MODEL_3f0e9e0eb2da4489a2e7cdf69f80cfbf",
       "style": "IPY_MODEL_b35246340961408ba4a9bef34b234829"
      }
     },
     "e6265de9cce2461d87a34a300a84fce0": {
      "model_module": "@jupyter-widgets/base",
      "model_module_version": "2.0.0",
      "model_name": "LayoutModel",
      "state": {}
     },
     "e685d9d09a964f28acb88302bd21c069": {
      "model_module": "@jupyter-widgets/controls",
      "model_module_version": "2.0.0",
      "model_name": "HBoxModel",
      "state": {
       "children": [
        "IPY_MODEL_416003618fb649309bc8d2150fa87f6e",
        "IPY_MODEL_a355df8095514e18b81448f38434f5ce"
       ],
       "layout": "IPY_MODEL_00f1469266ea4bf1b416acc8a9bb3998"
      }
     },
     "e818c3ca191449b9b3522a5dae0be965": {
      "model_module": "@jupyter-widgets/controls",
      "model_module_version": "2.0.0",
      "model_name": "ToggleButtonStyleModel",
      "state": {
       "description_width": "",
       "font_family": null,
       "font_size": null,
       "font_style": null,
       "font_variant": null,
       "font_weight": null,
       "text_color": null,
       "text_decoration": null
      }
     },
     "e86331b1db7e448c89667b9220ba8767": {
      "model_module": "@jupyter-widgets/controls",
      "model_module_version": "2.0.0",
      "model_name": "DescriptionStyleModel",
      "state": {
       "description_width": ""
      }
     },
     "e8862633386d47739af6e3888f766fc1": {
      "model_module": "@jupyter-widgets/controls",
      "model_module_version": "2.0.0",
      "model_name": "ToggleButtonStyleModel",
      "state": {
       "description_width": "",
       "font_family": null,
       "font_size": null,
       "font_style": null,
       "font_variant": null,
       "font_weight": null,
       "text_color": null,
       "text_decoration": null
      }
     },
     "e948176e3b454d5f8b0953ddd6fb99e9": {
      "model_module": "@jupyter-widgets/base",
      "model_module_version": "2.0.0",
      "model_name": "LayoutModel",
      "state": {}
     },
     "e9bc5c3f113e4cc4b271c67e499f52c0": {
      "model_module": "jupyter-leaflet",
      "model_module_version": "^0.18",
      "model_name": "LeafletMapStyleModel",
      "state": {
       "_model_module_version": "^0.18"
      }
     },
     "eac3da177db44e0cb8543690ee7d90a6": {
      "model_module": "@jupyter-widgets/controls",
      "model_module_version": "2.0.0",
      "model_name": "TextModel",
      "state": {
       "layout": "IPY_MODEL_5a500f976ac84cf4abb7d2927d643928",
       "placeholder": "Search by place name or address",
       "style": "IPY_MODEL_558cc24c45724d4aa5420c9d2b276058",
       "tooltip": "Search location"
      }
     },
     "ec8f10a16d4c4f0b8c56f99921c11f49": {
      "model_module": "@jupyter-widgets/controls",
      "model_module_version": "2.0.0",
      "model_name": "ToggleButtonStyleModel",
      "state": {
       "description_width": "",
       "font_family": null,
       "font_size": null,
       "font_style": null,
       "font_variant": null,
       "font_weight": null,
       "text_color": null,
       "text_decoration": null
      }
     },
     "ed60b914938d489e9b340f662c2c8454": {
      "model_module": "@jupyter-widgets/controls",
      "model_module_version": "2.0.0",
      "model_name": "ToggleButtonStyleModel",
      "state": {
       "description_width": "",
       "font_family": null,
       "font_size": null,
       "font_style": null,
       "font_variant": null,
       "font_weight": null,
       "text_color": null,
       "text_decoration": null
      }
     },
     "eedaefc214df4c08a03c6a90e3e6fe4c": {
      "model_module": "@jupyter-widgets/base",
      "model_module_version": "2.0.0",
      "model_name": "LayoutModel",
      "state": {}
     },
     "eee1bf5d444248789bcda40b5b11e88c": {
      "model_module": "@jupyter-widgets/controls",
      "model_module_version": "2.0.0",
      "model_name": "ToggleButtonModel",
      "state": {
       "button_style": "primary",
       "icon": "plus",
       "layout": "IPY_MODEL_a7c5ab101ce1431ab5b95c852a387e94",
       "style": "IPY_MODEL_458b3a4db70b4a69abdc6a432c1a4f61",
       "tooltip": "Expand toolbar"
      }
     },
     "f031252ef8484a6fb2e5e07d1073e1ec": {
      "model_module": "@jupyter-widgets/controls",
      "model_module_version": "2.0.0",
      "model_name": "ToggleButtonStyleModel",
      "state": {
       "description_width": "",
       "font_family": null,
       "font_size": null,
       "font_style": null,
       "font_variant": null,
       "font_weight": null,
       "text_color": null,
       "text_decoration": null
      }
     },
     "f187bde227a74a80903a88e186e56703": {
      "model_module": "jupyter-leaflet",
      "model_module_version": "^0.18",
      "model_name": "LeafletTileLayerModel",
      "state": {
       "_model_module_version": "^0.18",
       "_view_module_version": "^0.18",
       "attribution": "&copy; <a href=\"https://www.openstreetmap.org/copyright\">OpenStreetMap</a> contributors",
       "base": true,
       "max_zoom": 19,
       "min_zoom": 1,
       "name": "OpenStreetMap.Mapnik",
       "options": [
        "attribution",
        "bounds",
        "detect_retina",
        "max_native_zoom",
        "max_zoom",
        "min_native_zoom",
        "min_zoom",
        "no_wrap",
        "tile_size",
        "tms",
        "zoom_offset"
       ],
       "url": "https://tile.openstreetmap.org/{z}/{x}/{y}.png"
      }
     },
     "f2c7d86482f14d05b7f38d4fa4cd852a": {
      "model_module": "@jupyter-widgets/base",
      "model_module_version": "2.0.0",
      "model_name": "LayoutModel",
      "state": {
       "height": "auto",
       "padding": "0px 0px 0px 4px",
       "width": "auto"
      }
     },
     "f4107465cec34f9580ab3109e7a108db": {
      "model_module": "@jupyter-widgets/base",
      "model_module_version": "2.0.0",
      "model_name": "LayoutModel",
      "state": {
       "max_width": "57px",
       "min_width": "57px"
      }
     },
     "f43805729f6d40c3a479e81139fcdc28": {
      "model_module": "@jupyter-widgets/controls",
      "model_module_version": "2.0.0",
      "model_name": "ToggleButtonStyleModel",
      "state": {
       "description_width": "",
       "font_family": null,
       "font_size": null,
       "font_style": null,
       "font_variant": null,
       "font_weight": null,
       "text_color": null,
       "text_decoration": null
      }
     },
     "f541ad8ae59d4e7194f2608ac26e663f": {
      "model_module": "@jupyter-widgets/base",
      "model_module_version": "2.0.0",
      "model_name": "LayoutModel",
      "state": {
       "height": "auto",
       "padding": "0px 0px 0px 4px",
       "width": "auto"
      }
     },
     "f5e1d63bfea54c33bfd154cb9a088f13": {
      "model_module": "@jupyter-widgets/controls",
      "model_module_version": "2.0.0",
      "model_name": "HBoxModel",
      "state": {
       "_dom_classes": [
        "geemap-light"
       ],
       "_view_count": 0,
       "children": [
        "IPY_MODEL_23490df4cf374aa2ae5a0cd387dd6f3d"
       ],
       "layout": "IPY_MODEL_e4628ab9c41b4f8e91d3f95b8a186ccc"
      }
     },
     "f63dce6b40d24005bc44b39022a0b720": {
      "model_module": "@jupyter-widgets/base",
      "model_module_version": "2.0.0",
      "model_name": "LayoutModel",
      "state": {}
     },
     "f8a69d4fc87d4c1986080ad5342c17cb": {
      "model_module": "@jupyter-widgets/controls",
      "model_module_version": "2.0.0",
      "model_name": "ToggleButtonModel",
      "state": {
       "button_style": "primary",
       "icon": "map",
       "layout": "IPY_MODEL_bc898f9d638945b3890262478854c95b",
       "style": "IPY_MODEL_94194241bb5e4bc2982a11547bcfe53d",
       "tooltip": "Change basemap"
      }
     },
     "f93a23e116cd4401a52784c1af178194": {
      "model_module": "@jupyter-widgets/base",
      "model_module_version": "2.0.0",
      "model_name": "LayoutModel",
      "state": {
       "grid_gap": "1px 1px",
       "grid_template_columns": "32px 32px 32px ",
       "grid_template_rows": "32px 32px ",
       "padding": "5px",
       "width": "109px"
      }
     },
     "fba0272fbc274eb8b9f1744beb43be68": {
      "model_module": "@jupyter-widgets/controls",
      "model_module_version": "2.0.0",
      "model_name": "ToggleButtonStyleModel",
      "state": {
       "description_width": "",
       "font_family": null,
       "font_size": null,
       "font_style": null,
       "font_variant": null,
       "font_weight": null,
       "text_color": null,
       "text_decoration": null
      }
     },
     "fbfc64f701184053b5c8d416b8cc8b64": {
      "model_module": "@jupyter-widgets/controls",
      "model_module_version": "2.0.0",
      "model_name": "ToggleButtonModel",
      "state": {
       "icon": "wrench",
       "layout": "IPY_MODEL_6f39e488e05b4cb39c9fa1f9fc8c5c14",
       "style": "IPY_MODEL_f43805729f6d40c3a479e81139fcdc28",
       "tooltip": "Toolbar"
      }
     },
     "fd6437fe890345988e470f32bb0e4e89": {
      "model_module": "@jupyter-widgets/controls",
      "model_module_version": "2.0.0",
      "model_name": "VBoxModel",
      "state": {
       "children": [
        "IPY_MODEL_6a6965cfab894e108353ea6bda25816e"
       ],
       "layout": "IPY_MODEL_e6265de9cce2461d87a34a300a84fce0"
      }
     },
     "ff7a35c3f82c443fa99e7a568c2004a2": {
      "model_module": "@jupyter-widgets/controls",
      "model_module_version": "2.0.0",
      "model_name": "HBoxModel",
      "state": {
       "children": [
        "IPY_MODEL_dd24098efcb341c89bd453646fa3eb5b",
        "IPY_MODEL_c949a52f8aba4e8d9ba1fbbe63d8976e"
       ],
       "layout": "IPY_MODEL_4966a864ba5b41c48a53fbedc1cafa83"
      }
     }
    },
    "version_major": 2,
    "version_minor": 0
   }
  }
 },
 "nbformat": 4,
 "nbformat_minor": 5
}
