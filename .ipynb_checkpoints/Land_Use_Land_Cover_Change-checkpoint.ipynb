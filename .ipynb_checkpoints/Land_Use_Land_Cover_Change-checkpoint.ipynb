{
 "cells": [
  {
   "cell_type": "code",
   "execution_count": 9,
   "id": "38164953-42b9-4cde-95de-a9fbe0f2eb31",
   "metadata": {},
   "outputs": [
    {
     "data": {
      "text/html": [
       "\n",
       "            <style>\n",
       "                .geemap-dark {\n",
       "                    --jp-widgets-color: white;\n",
       "                    --jp-widgets-label-color: white;\n",
       "                    --jp-ui-font-color1: white;\n",
       "                    --jp-layout-color2: #454545;\n",
       "                    background-color: #383838;\n",
       "                }\n",
       "\n",
       "                .geemap-dark .jupyter-button {\n",
       "                    --jp-layout-color3: #383838;\n",
       "                }\n",
       "\n",
       "                .geemap-colab {\n",
       "                    background-color: var(--colab-primary-surface-color, white);\n",
       "                }\n",
       "\n",
       "                .geemap-colab .jupyter-button {\n",
       "                    --jp-layout-color3: var(--colab-primary-surface-color, white);\n",
       "                }\n",
       "            </style>\n",
       "            "
      ],
      "text/plain": [
       "<IPython.core.display.HTML object>"
      ]
     },
     "metadata": {},
     "output_type": "display_data"
    }
   ],
   "source": [
    "import geemap\n",
    "import ee"
   ]
  },
  {
   "cell_type": "code",
   "execution_count": 10,
   "id": "39529fa9-bdd4-457d-a576-36bab60132ca",
   "metadata": {},
   "outputs": [
    {
     "data": {
      "text/html": [
       "\n",
       "            <style>\n",
       "                .geemap-dark {\n",
       "                    --jp-widgets-color: white;\n",
       "                    --jp-widgets-label-color: white;\n",
       "                    --jp-ui-font-color1: white;\n",
       "                    --jp-layout-color2: #454545;\n",
       "                    background-color: #383838;\n",
       "                }\n",
       "\n",
       "                .geemap-dark .jupyter-button {\n",
       "                    --jp-layout-color3: #383838;\n",
       "                }\n",
       "\n",
       "                .geemap-colab {\n",
       "                    background-color: var(--colab-primary-surface-color, white);\n",
       "                }\n",
       "\n",
       "                .geemap-colab .jupyter-button {\n",
       "                    --jp-layout-color3: var(--colab-primary-surface-color, white);\n",
       "                }\n",
       "            </style>\n",
       "            "
      ],
      "text/plain": [
       "<IPython.core.display.HTML object>"
      ]
     },
     "metadata": {},
     "output_type": "display_data"
    }
   ],
   "source": [
    "ee.Initialize()"
   ]
  },
  {
   "cell_type": "code",
   "execution_count": 11,
   "id": "04fa0668-7372-448a-8acb-d3a2a16a3d0d",
   "metadata": {},
   "outputs": [
    {
     "data": {
      "text/html": [
       "\n",
       "            <style>\n",
       "                .geemap-dark {\n",
       "                    --jp-widgets-color: white;\n",
       "                    --jp-widgets-label-color: white;\n",
       "                    --jp-ui-font-color1: white;\n",
       "                    --jp-layout-color2: #454545;\n",
       "                    background-color: #383838;\n",
       "                }\n",
       "\n",
       "                .geemap-dark .jupyter-button {\n",
       "                    --jp-layout-color3: #383838;\n",
       "                }\n",
       "\n",
       "                .geemap-colab {\n",
       "                    background-color: var(--colab-primary-surface-color, white);\n",
       "                }\n",
       "\n",
       "                .geemap-colab .jupyter-button {\n",
       "                    --jp-layout-color3: var(--colab-primary-surface-color, white);\n",
       "                }\n",
       "            </style>\n",
       "            "
      ],
      "text/plain": [
       "<IPython.core.display.HTML object>"
      ]
     },
     "metadata": {},
     "output_type": "display_data"
    }
   ],
   "source": [
    "Map = geemap.Map()\n"
   ]
  },
  {
   "cell_type": "code",
   "execution_count": 12,
   "id": "30bfd544-e7ba-4d13-bed1-b9edc2c40d69",
   "metadata": {},
   "outputs": [
    {
     "data": {
      "text/html": [
       "\n",
       "            <style>\n",
       "                .geemap-dark {\n",
       "                    --jp-widgets-color: white;\n",
       "                    --jp-widgets-label-color: white;\n",
       "                    --jp-ui-font-color1: white;\n",
       "                    --jp-layout-color2: #454545;\n",
       "                    background-color: #383838;\n",
       "                }\n",
       "\n",
       "                .geemap-dark .jupyter-button {\n",
       "                    --jp-layout-color3: #383838;\n",
       "                }\n",
       "\n",
       "                .geemap-colab {\n",
       "                    background-color: var(--colab-primary-surface-color, white);\n",
       "                }\n",
       "\n",
       "                .geemap-colab .jupyter-button {\n",
       "                    --jp-layout-color3: var(--colab-primary-surface-color, white);\n",
       "                }\n",
       "            </style>\n",
       "            "
      ],
      "text/plain": [
       "<IPython.core.display.HTML object>"
      ]
     },
     "metadata": {},
     "output_type": "display_data"
    },
    {
     "data": {
      "application/vnd.jupyter.widget-view+json": {
       "model_id": "fa59bb3741e6431bb383057197caf6a7",
       "version_major": 2,
       "version_minor": 0
      },
      "text/plain": [
       "Map(center=[0, 0], controls=(WidgetControl(options=['position', 'transparent_bg'], widget=SearchDataGUI(childr…"
      ]
     },
     "execution_count": 12,
     "metadata": {},
     "output_type": "execute_result"
    }
   ],
   "source": [
    "Map"
   ]
  },
  {
   "cell_type": "code",
   "execution_count": 13,
   "id": "55810133-6c04-4a8b-94fc-bb6adf39ef58",
   "metadata": {},
   "outputs": [
    {
     "data": {
      "text/html": [
       "\n",
       "            <style>\n",
       "                .geemap-dark {\n",
       "                    --jp-widgets-color: white;\n",
       "                    --jp-widgets-label-color: white;\n",
       "                    --jp-ui-font-color1: white;\n",
       "                    --jp-layout-color2: #454545;\n",
       "                    background-color: #383838;\n",
       "                }\n",
       "\n",
       "                .geemap-dark .jupyter-button {\n",
       "                    --jp-layout-color3: #383838;\n",
       "                }\n",
       "\n",
       "                .geemap-colab {\n",
       "                    background-color: var(--colab-primary-surface-color, white);\n",
       "                }\n",
       "\n",
       "                .geemap-colab .jupyter-button {\n",
       "                    --jp-layout-color3: var(--colab-primary-surface-color, white);\n",
       "                }\n",
       "            </style>\n",
       "            "
      ],
      "text/plain": [
       "<IPython.core.display.HTML object>"
      ]
     },
     "metadata": {},
     "output_type": "display_data"
    },
    {
     "data": {
      "application/vnd.jupyter.widget-view+json": {
       "model_id": "8f1de35ffbe74ae6ab40719456c807fe",
       "version_major": 2,
       "version_minor": 0
      },
      "text/plain": [
       "HBox(children=(VBox(), VBox()))"
      ]
     },
     "metadata": {},
     "output_type": "display_data"
    }
   ],
   "source": [
    "geemap.ee_search()"
   ]
  },
  {
   "cell_type": "code",
   "execution_count": 14,
   "id": "7c6c066b-70a9-4a48-9b38-8d58554a1d97",
   "metadata": {},
   "outputs": [
    {
     "data": {
      "text/html": [
       "\n",
       "            <style>\n",
       "                .geemap-dark {\n",
       "                    --jp-widgets-color: white;\n",
       "                    --jp-widgets-label-color: white;\n",
       "                    --jp-ui-font-color1: white;\n",
       "                    --jp-layout-color2: #454545;\n",
       "                    background-color: #383838;\n",
       "                }\n",
       "\n",
       "                .geemap-dark .jupyter-button {\n",
       "                    --jp-layout-color3: #383838;\n",
       "                }\n",
       "\n",
       "                .geemap-colab {\n",
       "                    background-color: var(--colab-primary-surface-color, white);\n",
       "                }\n",
       "\n",
       "                .geemap-colab .jupyter-button {\n",
       "                    --jp-layout-color3: var(--colab-primary-surface-color, white);\n",
       "                }\n",
       "            </style>\n",
       "            "
      ],
      "text/plain": [
       "<IPython.core.display.HTML object>"
      ]
     },
     "metadata": {},
     "output_type": "display_data"
    },
    {
     "ename": "AttributeError",
     "evalue": "module 'geemap' has no attribute 'upload'",
     "output_type": "error",
     "traceback": [
      "\u001b[1;31m---------------------------------------------------------------------------\u001b[0m",
      "\u001b[1;31mAttributeError\u001b[0m                            Traceback (most recent call last)",
      "Cell \u001b[1;32mIn[14], line 1\u001b[0m\n\u001b[1;32m----> 1\u001b[0m \u001b[43mgeemap\u001b[49m\u001b[38;5;241;43m.\u001b[39;49m\u001b[43mupload\u001b[49m()\n",
      "\u001b[1;31mAttributeError\u001b[0m: module 'geemap' has no attribute 'upload'"
     ]
    }
   ],
   "source": [
    "geemap.upload()"
   ]
  },
  {
   "cell_type": "markdown",
   "id": "b190b70c-46e5-47c3-b2a7-96c21f099c87",
   "metadata": {},
   "source": [
    "Loading a Shapefile"
   ]
  },
  {
   "cell_type": "code",
   "execution_count": 15,
   "id": "4730dc06-013c-4fdd-a67e-7a7c9e5a6c8e",
   "metadata": {},
   "outputs": [
    {
     "data": {
      "text/html": [
       "\n",
       "            <style>\n",
       "                .geemap-dark {\n",
       "                    --jp-widgets-color: white;\n",
       "                    --jp-widgets-label-color: white;\n",
       "                    --jp-ui-font-color1: white;\n",
       "                    --jp-layout-color2: #454545;\n",
       "                    background-color: #383838;\n",
       "                }\n",
       "\n",
       "                .geemap-dark .jupyter-button {\n",
       "                    --jp-layout-color3: #383838;\n",
       "                }\n",
       "\n",
       "                .geemap-colab {\n",
       "                    background-color: var(--colab-primary-surface-color, white);\n",
       "                }\n",
       "\n",
       "                .geemap-colab .jupyter-button {\n",
       "                    --jp-layout-color3: var(--colab-primary-surface-color, white);\n",
       "                }\n",
       "            </style>\n",
       "            "
      ],
      "text/plain": [
       "<IPython.core.display.HTML object>"
      ]
     },
     "metadata": {},
     "output_type": "display_data"
    },
    {
     "name": "stdout",
     "output_type": "stream",
     "text": [
      "GeoPandas is required to perform reprojection of the data. See https://geopandas.org/install.html\n"
     ]
    }
   ],
   "source": [
    "Shapefile_path = 'F:\\Collecting and Analysing Data\\Maps\\Shapefiles\\Selection of Study Sites\\Study_Sites_V1.shp'\n",
    "shp_ee = geemap.shp_to_ee(Shapefile_path)\n",
    "Map.addLayer(shp_ee, {}, 'Shapefile')"
   ]
  },
  {
   "cell_type": "markdown",
   "id": "b03173e8-ea8d-4cbf-b495-1b36adb6959a",
   "metadata": {},
   "source": [
    "Image Collection"
   ]
  },
  {
   "cell_type": "code",
   "execution_count": null,
   "id": "449c415d-a772-4adc-999c-efe48e2db7f8",
   "metadata": {},
   "outputs": [],
   "source": []
  },
  {
   "cell_type": "code",
   "execution_count": 24,
   "id": "970e0c7d-2e95-46eb-b966-8e48bac3cffb",
   "metadata": {
    "scrolled": true
   },
   "outputs": [
    {
     "data": {
      "text/html": [
       "\n",
       "            <style>\n",
       "                .geemap-dark {\n",
       "                    --jp-widgets-color: white;\n",
       "                    --jp-widgets-label-color: white;\n",
       "                    --jp-ui-font-color1: white;\n",
       "                    --jp-layout-color2: #454545;\n",
       "                    background-color: #383838;\n",
       "                }\n",
       "\n",
       "                .geemap-dark .jupyter-button {\n",
       "                    --jp-layout-color3: #383838;\n",
       "                }\n",
       "\n",
       "                .geemap-colab {\n",
       "                    background-color: var(--colab-primary-surface-color, white);\n",
       "                }\n",
       "\n",
       "                .geemap-colab .jupyter-button {\n",
       "                    --jp-layout-color3: var(--colab-primary-surface-color, white);\n",
       "                }\n",
       "            </style>\n",
       "            "
      ],
      "text/plain": [
       "<IPython.core.display.HTML object>"
      ]
     },
     "metadata": {},
     "output_type": "display_data"
    },
    {
     "ename": "SyntaxError",
     "evalue": "invalid syntax (1575402935.py, line 1)",
     "output_type": "error",
     "traceback": [
      "\u001b[1;36m  Cell \u001b[1;32mIn[24], line 1\u001b[1;36m\u001b[0m\n\u001b[1;33m    var LUUBWE_boundary = Wards.filter(ee.Filter.eq('WardNm2020','LUUBWE'));\u001b[0m\n\u001b[1;37m        ^\u001b[0m\n\u001b[1;31mSyntaxError\u001b[0m\u001b[1;31m:\u001b[0m invalid syntax\n"
     ]
    }
   ],
   "source": [
    "var LUUBWE_boundary = Wards.filter(ee.Filter.eq('WardNm2020','LUUBWE'));\n",
    "var roi = ee.FeatureCollection(LUUBWE_boundary).geometry();\n",
    "var LUUBWE_sentinel = Sentinel_2.filter(ee.Filter.bounds(roi))\n",
    ".filter(ee.Filter.date('2019-01-01', '2019-12-01'))\n",
    ".filter (ee.Filter.lt('CLOUDY_PIXEL_PERCENTAGE', 5));"
   ]
  },
  {
   "cell_type": "markdown",
   "id": "0ebf84e1-892a-450d-9e5d-56d90fe5fd9e",
   "metadata": {},
   "source": [
    "Cliping the Image and adding Map to Google Earth Enginee"
   ]
  },
  {
   "cell_type": "code",
   "execution_count": 6,
   "id": "c3770547-ff15-4bb5-b819-1b7400b54e8d",
   "metadata": {},
   "outputs": [
    {
     "data": {
      "text/html": [
       "\n",
       "            <style>\n",
       "                .geemap-dark {\n",
       "                    --jp-widgets-color: white;\n",
       "                    --jp-widgets-label-color: white;\n",
       "                    --jp-ui-font-color1: white;\n",
       "                    --jp-layout-color2: #454545;\n",
       "                    background-color: #383838;\n",
       "                }\n",
       "\n",
       "                .geemap-dark .jupyter-button {\n",
       "                    --jp-layout-color3: #383838;\n",
       "                }\n",
       "\n",
       "                .geemap-colab {\n",
       "                    background-color: var(--colab-primary-surface-color, white);\n",
       "                }\n",
       "\n",
       "                .geemap-colab .jupyter-button {\n",
       "                    --jp-layout-color3: var(--colab-primary-surface-color, white);\n",
       "                }\n",
       "            </style>\n",
       "            "
      ],
      "text/plain": [
       "<IPython.core.display.HTML object>"
      ]
     },
     "metadata": {},
     "output_type": "display_data"
    },
    {
     "ename": "SyntaxError",
     "evalue": "invalid syntax (1454342734.py, line 1)",
     "output_type": "error",
     "traceback": [
      "\u001b[1;36m  Cell \u001b[1;32mIn[6], line 1\u001b[1;36m\u001b[0m\n\u001b[1;33m    var rgbVis = {bands:['B3','B2','B1'], min: 0, max: 3000, gamma: 1.1};\u001b[0m\n\u001b[1;37m        ^\u001b[0m\n\u001b[1;31mSyntaxError\u001b[0m\u001b[1;31m:\u001b[0m invalid syntax\n"
     ]
    }
   ],
   "source": [
    "var rgbVis = {bands:['B3','B2','B1'], min: 0, max: 3000, gamma: 1.1};\n",
    "var LUUBWE_sentinel_median = LUUBWE_sentinel.median();\n",
    "var LUUBWE_sentinel_clip = LUUBWE_sentinel_median.clip(roi);\n",
    "Map.addLayer(LUUBWE_boundary, {color:'red'});\n",
    "Map.addLayer(LUUBWE_sentinel_clip, rgbVis);\n",
    "Map.centerObject(LUUBWE_sentinel_clip, 10);"
   ]
  },
  {
   "cell_type": "markdown",
   "id": "620578c4-2939-4657-b514-b2e40c7ac5d9",
   "metadata": {},
   "source": [
    "Area of the shapefile"
   ]
  },
  {
   "cell_type": "code",
   "execution_count": null,
   "id": "a8651ae9-0aec-4ee9-9a7a-051adc409089",
   "metadata": {},
   "outputs": [],
   "source": [
    "var  LUUBWE_Area =  LUUBWE_boundary.geometry().area();\n",
    "var  LUUBWE_Area_sqKm = ee.Number(LUUBWE_Area).divide(1e6);\n",
    "print( LUUBWE_Area_sqKm);"
   ]
  },
  {
   "cell_type": "markdown",
   "id": "28c2ceec-ac64-4ea3-873f-dfb5553499d6",
   "metadata": {},
   "source": [
    "Supervised classification"
   ]
  },
  {
   "cell_type": "code",
   "execution_count": null,
   "id": "2ab136fc-07f7-4e3a-984d-adf226cc0e13",
   "metadata": {},
   "outputs": [],
   "source": []
  },
  {
   "cell_type": "markdown",
   "id": "d4e63282-9004-46f6-bc98-314fc2e17bec",
   "metadata": {},
   "source": [
    "Merge all the training points"
   ]
  },
  {
   "cell_type": "code",
   "execution_count": null,
   "id": "1ae090f0-6c90-4017-93f6-c981a4f44296",
   "metadata": {},
   "outputs": [],
   "source": [
    "var lable = \"Class\";\n",
    "var sample = Waterbody.merge(Builtup).merge(Cropland).merge(Vegetation).merge(Bareland);\n",
    "var bands = ['B2','B3','B4','B5','B6','B7'];\n",
    "var training = LUUBWE_sentinel_clip.select(bands).sampleRegions({\n",
    "  collection: sample, \n",
    "  properties: ['Class'], \n",
    "  scale: 30\n",
    "});\n",
    "print('training', training);"
   ]
  },
  {
   "cell_type": "markdown",
   "id": "31a99239-f75d-4641-8a64-fe6c74a1206b",
   "metadata": {},
   "source": [
    "Training dataset divided in two ways\n",
    "Traing the model: 80%\n",
    "Test the model: 20% data for testing"
   ]
  },
  {
   "cell_type": "code",
   "execution_count": null,
   "id": "50fd5a3a-6166-4047-a68b-7bbe9f2a02b3",
   "metadata": {},
   "outputs": [],
   "source": [
    "var dataset = training.randomColumn();\n",
    "var trainset = dataset.filter(ee.Filter.lessThan('random', 0.8));\n",
    "var testset = dataset.filter(ee.Filter.greaterThanOrEquals('random', 0.8));\n"
   ]
  },
  {
   "cell_type": "markdown",
   "id": "f7c0ae47-a6b6-444c-b375-adc3e399be76",
   "metadata": {},
   "source": [
    "Create the Model CART"
   ]
  },
  {
   "cell_type": "code",
   "execution_count": null,
   "id": "cbed9bbd-372d-488d-b3e8-9373d08aace6",
   "metadata": {},
   "outputs": [],
   "source": [
    "var classifier = ee.Classifier.smileCart().train(trainset, lable, bands);"
   ]
  },
  {
   "cell_type": "markdown",
   "id": "2720f476-649c-4197-a5e4-e9ae842c6ecc",
   "metadata": {},
   "source": [
    "Classify the sentinel image"
   ]
  },
  {
   "cell_type": "code",
   "execution_count": null,
   "id": "c5dbb12e-43e6-436a-bb9b-f63cdaf0aa81",
   "metadata": {},
   "outputs": [],
   "source": [
    "var classified = LUUBWE_sentinel_clip.classify(classifier);\n",
    "print('classified', classified);"
   ]
  },
  {
   "cell_type": "markdown",
   "id": "cba8efd2-d2d1-44e7-a430-5789ee624f38",
   "metadata": {},
   "source": [
    "Visualisation of the classification"
   ]
  },
  {
   "cell_type": "code",
   "execution_count": null,
   "id": "026d487f-2927-47f4-bcf5-7672854ec758",
   "metadata": {},
   "outputs": [],
   "source": [
    "var landcoverpalette = [\n",
    "  'blue',\n",
    "  'red',\n",
    "  'yellow',\n",
    "  'green',\n",
    "  'grey',\n",
    "  ];\n",
    "  \n",
    "Map.addLayer(classified.clip(roi),{'min': 0, 'max': 4, 'palette': landcoverpalette});"
   ]
  },
  {
   "cell_type": "markdown",
   "id": "a6bfcb15-bdd0-41f6-a722-1f7c8fa380d7",
   "metadata": {},
   "source": [
    "Get information about the trained classifier."
   ]
  },
  {
   "cell_type": "code",
   "execution_count": null,
   "id": "07f01113-0ab6-42c4-ac57-f8cbb567f101",
   "metadata": {},
   "outputs": [],
   "source": [
    "print('Results of trained classifier', classifier.explain());"
   ]
  },
  {
   "cell_type": "markdown",
   "id": "1727e932-000b-437f-9f8f-c08c3e1d153e",
   "metadata": {},
   "source": [
    "Acuracy assement\n",
    "\n",
    "Get a confusion matrix and overall accuracy for the training sample."
   ]
  },
  {
   "cell_type": "code",
   "execution_count": null,
   "id": "108711fc-35cb-4b4e-b9d0-6ef523bd06b0",
   "metadata": {},
   "outputs": [],
   "source": [
    "var trainAccuracy = classifier.confusionMatrix();\n",
    "print('Training error matrix', trainAccuracy);\n",
    "print('Training overall accuracy', trainAccuracy.accuracy());"
   ]
  },
  {
   "cell_type": "markdown",
   "id": "565af8db-405e-4aa0-825f-33fb74012f07",
   "metadata": {},
   "source": [
    "Get a confusion matrix and overall accuracy for the validation sample."
   ]
  },
  {
   "cell_type": "code",
   "execution_count": null,
   "id": "ac494585-c520-4500-89cd-d2268f6575c7",
   "metadata": {},
   "outputs": [],
   "source": [
    "testset = trainset.classify(classifier);\n",
    "var validationAccuracy = testset.errorMatrix(lable, 'classification');\n",
    "print('Validation error matrix', validationAccuracy);\n",
    "print('Validation accuracy', validationAccuracy.accuracy());"
   ]
  },
  {
   "cell_type": "markdown",
   "id": "a059c1e3-35ba-4c6b-a489-c012e03ac6cb",
   "metadata": {},
   "source": [
    "Calculating Area by Class by Reagion\n",
    "Calculating the Nested Group area of classes"
   ]
  },
  {
   "cell_type": "code",
   "execution_count": null,
   "id": "ececff12-d65c-4a64-889f-b994c8067d6b",
   "metadata": {},
   "outputs": [],
   "source": [
    "var areaImage = ee.Image.pixelArea().addBands(classified);\n",
    "var areas = areaImage.reduceRegion({\n",
    "  reducer: ee.Reducer.sum().group({\n",
    "    groupField:1,\n",
    "    groupName: 'class'}), \n",
    "    geometry: roi,\n",
    "    scale: 10,\n",
    "    maxPixels: 1e13});\n",
    "\n",
    "print(areaImage);"
   ]
  },
  {
   "cell_type": "markdown",
   "id": "d49572b5-a7d9-48ee-b80c-414742c86221",
   "metadata": {},
   "source": [
    "Flatening the Nested Gropus areas of classes"
   ]
  },
  {
   "cell_type": "code",
   "execution_count": null,
   "id": "f48d94ca-f9e2-4553-afee-58cb9863cef9",
   "metadata": {},
   "outputs": [],
   "source": [
    "var classAreas = ee.List(areas.get('groups'));\n",
    "var classAreaLists = classAreas.map(function(item){\n",
    "  var areaDic = ee.Dictionary(item)\n",
    "  var classNumber = ee.Number(areaDic.get('class')).format()\n",
    "  var area = ee.Number(areaDic.get('sum')).divide(1e6).round()\n",
    "  return ee.List([classNumber, area])\n",
    "});\n",
    "\n",
    "var results = ee.Dictionary(classAreaLists.flatten());\n",
    "print(results);"
   ]
  },
  {
   "cell_type": "markdown",
   "id": "0feae633-e212-41b1-b8ef-bb5cd8e0a820",
   "metadata": {},
   "source": [
    "Export Image"
   ]
  },
  {
   "cell_type": "code",
   "execution_count": null,
   "id": "aba6ec20-cc44-4ff6-a34b-8399d4d3941d",
   "metadata": {},
   "outputs": [],
   "source": [
    "Export.image.toDrive({\n",
    "image:classified,\n",
    "description: 'LUUBWE_sentinel_classified_2019',\n",
    "fileFormat: 'GeoTIFF',\n",
    "scale: 10,\n",
    "region: roi,\n",
    "});"
   ]
  },
  {
   "cell_type": "markdown",
   "id": "8b5227de-4a54-4a50-b949-b7ece7fb1bf7",
   "metadata": {},
   "source": [
    "Export table to your google drive"
   ]
  },
  {
   "cell_type": "code",
   "execution_count": null,
   "id": "28c39368-0b70-4785-90fc-a2c413941990",
   "metadata": {},
   "outputs": [],
   "source": [
    "Export.table.toDrive({\n",
    "        collection: results,\n",
    "        description: 'classAreaLists', \n",
    "        folder: 'EE',\n",
    "    fileNamePrefix: 'classAreas', \n",
    "    fileFormat: 'CSV'\n",
    "    });"
   ]
  }
 ],
 "metadata": {
  "kernelspec": {
   "display_name": "GoogleEarthEngine_Py_3_8",
   "language": "python",
   "name": "googleearthengine_py_3_8"
  },
  "language_info": {
   "codemirror_mode": {
    "name": "ipython",
    "version": 3
   },
   "file_extension": ".py",
   "mimetype": "text/x-python",
   "name": "python",
   "nbconvert_exporter": "python",
   "pygments_lexer": "ipython3",
   "version": "3.8.18"
  },
  "widgets": {
   "application/vnd.jupyter.widget-state+json": {
    "state": {
     "0000eff1a4394e27a7866311c47a0f41": {
      "model_module": "@jupyter-widgets/controls",
      "model_module_version": "2.0.0",
      "model_name": "ToggleButtonStyleModel",
      "state": {
       "description_width": "",
       "font_family": null,
       "font_size": null,
       "font_style": null,
       "font_variant": null,
       "font_weight": null,
       "text_color": null,
       "text_decoration": null
      }
     },
     "015b1a5673ff4f99b1d2bee391be5c4c": {
      "model_module": "@jupyter-widgets/controls",
      "model_module_version": "2.0.0",
      "model_name": "ToggleButtonStyleModel",
      "state": {
       "description_width": "",
       "font_family": null,
       "font_size": null,
       "font_style": null,
       "font_variant": null,
       "font_weight": null,
       "text_color": null,
       "text_decoration": null
      }
     },
     "02169b732a0d42bbae3bd0fa757c04b0": {
      "model_module": "ipytree",
      "model_module_version": "^0.2",
      "model_name": "NodeModel",
      "state": {
       "_id": "4fc5a33c-7357-4a46-b5a0-e02126f286b5",
       "_model_module_version": "^0.2",
       "_view_module_version": "^0.2",
       "icon": "file",
       "name": "LICENSE"
      }
     },
     "02605ab02f51453d8321393baa2e2c08": {
      "model_module": "ipytree",
      "model_module_version": "^0.2",
      "model_name": "NodeModel",
      "state": {
       "_id": "91a0f11b-86a4-4f05-9b3a-44caf6d47a47",
       "_model_module_version": "^0.2",
       "_view_module_version": "^0.2",
       "icon": "file",
       "name": "save_best_joins.py"
      }
     },
     "02a17c78b1524ae68c8291def0159a17": {
      "model_module": "@jupyter-widgets/controls",
      "model_module_version": "2.0.0",
      "model_name": "ToggleButtonModel",
      "state": {
       "button_style": "primary",
       "icon": "hand-o-up",
       "layout": "IPY_MODEL_96bac9341b1b4e2583085886695f9591",
       "style": "IPY_MODEL_9909aa4406d741a691b29701c30de4ad",
       "tooltip": "Collect training samples"
      }
     },
     "02a5ac704a204ea986e509ed8e6bd4dc": {
      "model_module": "@jupyter-widgets/base",
      "model_module_version": "2.0.0",
      "model_name": "LayoutModel",
      "state": {
       "height": "auto",
       "padding": "0px 0px 0px 4px",
       "width": "auto"
      }
     },
     "02a6ad7353944ba4a6ab28ca50d7fbf8": {
      "model_module": "@jupyter-widgets/base",
      "model_module_version": "2.0.0",
      "model_name": "LayoutModel",
      "state": {}
     },
     "02bb35baa87246138722eff76d2714bd": {
      "model_module": "ipytree",
      "model_module_version": "^0.2",
      "model_name": "NodeModel",
      "state": {
       "_id": "8edb2538-893d-47e4-9ab1-ea9accb4d5d5",
       "_model_module_version": "^0.2",
       "_view_module_version": "^0.2",
       "icon": "file",
       "name": "landsat_path_row_limit.py"
      }
     },
     "02f3ec30e89b48feb4e1e4cc8a7f6f64": {
      "model_module": "ipytree",
      "model_module_version": "^0.2",
      "model_name": "NodeModel",
      "state": {
       "_id": "838f6fa2-a99b-44f6-950b-db9e092efb0a",
       "_model_module_version": "^0.2",
       "_view_module_version": "^0.2",
       "icon": "file",
       "name": "map_function.py"
      }
     },
     "03310330597a4db8bc87f8affa1b531c": {
      "model_module": "jupyter-leaflet",
      "model_module_version": "^0.18",
      "model_name": "LeafletTileLayerModel",
      "state": {
       "_model_module_version": "^0.18",
       "_view_module_version": "^0.18",
       "attribution": "&copy; <a href=\"https://www.openstreetmap.org/copyright\">OpenStreetMap</a> contributors",
       "base": true,
       "max_zoom": 19,
       "min_zoom": 1,
       "name": "OpenStreetMap.Mapnik",
       "options": [
        "attribution",
        "bounds",
        "detect_retina",
        "max_native_zoom",
        "max_zoom",
        "min_native_zoom",
        "min_zoom",
        "no_wrap",
        "tile_size",
        "tms",
        "zoom_offset"
       ],
       "url": "https://tile.openstreetmap.org/{z}/{x}/{y}.png"
      }
     },
     "035a3787f5aa4f32868ddb6c332e0372": {
      "model_module": "ipytree",
      "model_module_version": "^0.2",
      "model_name": "NodeModel",
      "state": {
       "_id": "4452e4fc-7bec-4e6d-8054-ffb129a099f2",
       "_model_module_version": "^0.2",
       "_view_module_version": "^0.2",
       "icon": "file",
       "name": "canada_dem.py"
      }
     },
     "0361b711e988443fa34aa4f57865ce35": {
      "model_module": "ipytree",
      "model_module_version": "^0.2",
      "model_name": "NodeModel",
      "state": {
       "_id": "902dbbda-267a-4b33-a0c6-cc3647bc4c04",
       "_model_module_version": "^0.2",
       "_view_module_version": "^0.2",
       "icon": "file",
       "name": "landsat8_toa_reflectance_qa_band.py"
      }
     },
     "03b584d42ed94dfda51f5055487dae4e": {
      "model_module": "@jupyter-widgets/controls",
      "model_module_version": "2.0.0",
      "model_name": "VBoxModel",
      "state": {
       "children": [
        "IPY_MODEL_3c6e248d75d64a41b9a76fcc547b7573",
        "IPY_MODEL_6254d994ff0e465db0745d1abc42a147"
       ],
       "layout": "IPY_MODEL_d87c0390566e4013a49c1c3d0ae4ea0f"
      }
     },
     "0437708e8d0844c0a18483cd309ff67d": {
      "model_module": "@jupyter-widgets/base",
      "model_module_version": "2.0.0",
      "model_name": "LayoutModel",
      "state": {}
     },
     "04627b45ec6e48ef9538107ce3ac4335": {
      "model_module": "@jupyter-widgets/controls",
      "model_module_version": "2.0.0",
      "model_name": "TextModel",
      "state": {
       "layout": "IPY_MODEL_61fe9c84b55e405eac19e290b07dec37",
       "placeholder": "Filter methods...",
       "style": "IPY_MODEL_f71d1629253a4425a555be8a8cf3c206",
       "value": "Loading..."
      }
     },
     "0484ed2bc76d450fa63bb4c1b25b08e7": {
      "model_module": "@jupyter-widgets/base",
      "model_module_version": "2.0.0",
      "model_name": "LayoutModel",
      "state": {}
     },
     "05784118bb904490bec3511921c6fa95": {
      "model_module": "ipytree",
      "model_module_version": "^0.2",
      "model_name": "NodeModel",
      "state": {
       "_id": "ca97b07e-3bbd-4d68-8a20-f2b27cf13530",
       "_model_module_version": "^0.2",
       "_view_module_version": "^0.2",
       "icon": "file",
       "name": "resolve_ecoregions.py"
      }
     },
     "05d6053594eb42898c6a0392408db07a": {
      "model_module": "ipytree",
      "model_module_version": "^0.2",
      "model_name": "NodeModel",
      "state": {
       "_id": "d3986e5f-c077-4ce4-8baf-2f47b668962b",
       "_model_module_version": "^0.2",
       "_view_module_version": "^0.2",
       "icon": "file",
       "name": "filtered_composite.py"
      }
     },
     "0682a49d7df04285b1622b23453110a2": {
      "model_module": "ipytree",
      "model_module_version": "^0.2",
      "model_name": "NodeModel",
      "state": {
       "_id": "ae8a82db-a879-4cc5-988e-e565a03030f4",
       "_model_module_version": "^0.2",
       "_view_module_version": "^0.2",
       "icon": "file",
       "name": "nwi_wetlands_symbology.py"
      }
     },
     "0688f1320bfe43308894ee7d9a0c6317": {
      "model_module": "ipytree",
      "model_module_version": "^0.2",
      "model_name": "NodeModel",
      "state": {
       "_id": "bb4b01a5-3fa0-4ee6-b4df-5e2103fbb237",
       "_model_module_version": "^0.2",
       "_view_module_version": "^0.2",
       "icon": "file",
       "name": "metadata.py"
      }
     },
     "0766a27525d34d3ba6073ccedabf5a74": {
      "model_module": "ipytree",
      "model_module_version": "^0.2",
      "model_name": "NodeModel",
      "state": {
       "_id": "c20f5805-ee7c-4aa6-9e10-5540f4752917",
       "_model_module_version": "^0.2",
       "_view_module_version": "^0.2",
       "icon": "file",
       "name": "image_stats_by_band.py"
      }
     },
     "079d7e5ec7e14c379bb7bd0198125102": {
      "model_module": "@jupyter-widgets/controls",
      "model_module_version": "2.0.0",
      "model_name": "TextModel",
      "state": {
       "layout": "IPY_MODEL_6924ed03e28f474aa7de976bb6e2a061",
       "style": "IPY_MODEL_3f19c7c278e849158d44958ed7cd423b"
      }
     },
     "0899593071b84ea89b7a7fece45351be": {
      "model_module": "ipytree",
      "model_module_version": "^0.2",
      "model_name": "NodeModel",
      "state": {
       "_id": "27674ead-207b-456e-800b-e998e2b26613",
       "_model_module_version": "^0.2",
       "_view_module_version": "^0.2",
       "icon": "file",
       "name": "3_water_class_transition.py"
      }
     },
     "08c9427a1eda4507b1aae1635238e4b6": {
      "model_module": "ipytree",
      "model_module_version": "^0.2",
      "model_name": "NodeModel",
      "state": {
       "_id": "46eb70f9-1338-487c-a405-14abb11e8c00",
       "_model_module_version": "^0.2",
       "_view_module_version": "^0.2",
       "icon": "file",
       "name": "set_properties.py"
      }
     },
     "08ce2d191bb843d79e9e1f3f632fa861": {
      "model_module": "@jupyter-widgets/controls",
      "model_module_version": "2.0.0",
      "model_name": "ToggleButtonsModel",
      "state": {
       "_options_labels": [
        "name/address",
        "lat-lon",
        "data"
       ],
       "button_style": "",
       "icons": [],
       "index": 0,
       "layout": "IPY_MODEL_48634c2a4449402ea7e708c33e43dd8f",
       "style": "IPY_MODEL_2ba10a5d4d404da6833472dc222e2f86",
       "tooltips": [
        "Search by place name or address",
        "Search by lat-lon coordinates",
        "Search Earth Engine data catalog"
       ]
      }
     },
     "08f75db5ce05403dabb1984decf52252": {
      "model_module": "ipytree",
      "model_module_version": "^0.2",
      "model_name": "NodeModel",
      "state": {
       "_id": "031e3cb7-3a4d-44fb-9621-984f255bf716",
       "_model_module_version": "^0.2",
       "_view_module_version": "^0.2",
       "icon": "file",
       "name": "filtering_feature_collection.py"
      }
     },
     "08f9e5e3b2274cb3be3f9d0b11d7ce1a": {
      "model_module": "ipytree",
      "model_module_version": "^0.2",
      "model_name": "NodeModel",
      "state": {
       "_id": "b547205b-8926-4f2f-befe-0a0c69c11561",
       "_model_module_version": "^0.2",
       "_view_module_version": "^0.2",
       "icon": "file",
       "name": "decorrelation_stretch.py"
      }
     },
     "094d291c1cad436eac7eef28a17c9652": {
      "model_module": "@jupyter-widgets/base",
      "model_module_version": "2.0.0",
      "model_name": "LayoutModel",
      "state": {
       "width": "310px"
      }
     },
     "0a173605a9bd4f3a9c955578f306699d": {
      "model_module": "ipytree",
      "model_module_version": "^0.2",
      "model_name": "NodeModel",
      "state": {
       "_id": "253533de-ec9b-47ee-8825-5e9a73b44464",
       "_model_module_version": "^0.2",
       "_view_module_version": "^0.2",
       "icon": "file",
       "name": "filtered_composite.py"
      }
     },
     "0abcd486eb574d3e9179c4d511124dcc": {
      "model_module": "ipytree",
      "model_module_version": "^0.2",
      "model_name": "NodeModel",
      "state": {
       "_id": "d70be860-31b7-4125-b6ec-758f349b516c",
       "_model_module_version": "^0.2",
       "_view_module_version": "^0.2",
       "icon": "file",
       "name": "export_raster.py"
      }
     },
     "0abe12a2463d4c539a013d37693976ba": {
      "model_module": "ipytree",
      "model_module_version": "^0.2",
      "model_name": "NodeModel",
      "state": {
       "_id": "9ef4eb7e-1806-481b-99b0-fc4ea2994c4b",
       "_model_module_version": "^0.2",
       "_view_module_version": "^0.2",
       "icon": "file",
       "name": "get_image_extent.py"
      }
     },
     "0aebcaea66074c199b1874fb822a1382": {
      "model_module": "ipytree",
      "model_module_version": "^0.2",
      "model_name": "NodeModel",
      "state": {
       "_id": "c498bac0-3eed-452f-b016-5ae48d3ee9fb",
       "_model_module_version": "^0.2",
       "_view_module_version": "^0.2",
       "icon": "file",
       "name": "filter_string_contains.py"
      }
     },
     "0b04b82632fb4fda882c9c58186acb7c": {
      "model_module": "ipytree",
      "model_module_version": "^0.2",
      "model_name": "NodeModel",
      "state": {
       "_id": "edaccbec-c1d2-4366-baae-dc155e1e0d05",
       "_model_module_version": "^0.2",
       "_view_module_version": "^0.2",
       "icon": "file",
       "name": "sentinel-2.py"
      }
     },
     "0b381beaa2f24d07b762dba0aa62c30d": {
      "model_module": "@jupyter-widgets/controls",
      "model_module_version": "2.0.0",
      "model_name": "DropdownModel",
      "state": {
       "index": null,
       "layout": "IPY_MODEL_7d0414d2d221441a87f54e2f78726b6a",
       "style": "IPY_MODEL_dbb550d113f5401580bd13355ae5a747"
      }
     },
     "0b951aa853a44c00b439af3ef72c09be": {
      "model_module": "ipytree",
      "model_module_version": "^0.2",
      "model_name": "NodeModel",
      "state": {
       "_id": "7c3e7fb6-1f61-4c78-9131-3fd8751eb199",
       "_model_module_version": "^0.2",
       "_view_module_version": "^0.2",
       "icon": "file",
       "name": "filter_poly.py"
      }
     },
     "0b9dda76986345ab83bf6dd1f97bb016": {
      "model_module": "ipytree",
      "model_module_version": "^0.2",
      "model_name": "NodeModel",
      "state": {
       "_id": "3c15da58-f950-4dc3-b40b-b09f3dde4a90",
       "_model_module_version": "^0.2",
       "_view_module_version": "^0.2",
       "icon": "file",
       "name": "idw_interpolation.py"
      }
     },
     "0bda16e3c5f44c6f917b8847bf0ee755": {
      "model_module": "ipytree",
      "model_module_version": "^0.2",
      "model_name": "NodeModel",
      "state": {
       "_id": "59323fe9-a057-4354-b135-039d794f4088",
       "_model_module_version": "^0.2",
       "_view_module_version": "^0.2",
       "icon": "file",
       "name": "us_census_tracts.py"
      }
     },
     "0becbd0e97f24078bea34dbe82ad30c8": {
      "model_module": "ipytree",
      "model_module_version": "^0.2",
      "model_name": "NodeModel",
      "state": {
       "_id": "83b72227-8754-46e2-b1d1-7ca745726713",
       "_model_module_version": "^0.2",
       "_view_module_version": "^0.2",
       "icon": "file",
       "name": "usgs_nlcd.py"
      }
     },
     "0c0334c1b1124d868b1a7fc757a1c0a7": {
      "model_module": "ipytree",
      "model_module_version": "^0.2",
      "model_name": "NodeModel",
      "state": {
       "_id": "344bf412-5675-4a6d-a227-cc2ed49cd442",
       "_model_module_version": "^0.2",
       "_view_module_version": "^0.2",
       "icon": "file",
       "name": "clipped_composite.py"
      }
     },
     "0c47ab9f85f14934bad1da82f865b511": {
      "model_module": "ipytree",
      "model_module_version": "^0.2",
      "model_name": "NodeModel",
      "state": {
       "_id": "078aae2f-85e0-4f1b-8b88-b5c54b03b4e2",
       "_model_module_version": "^0.2",
       "_view_module_version": "^0.2",
       "name": "Image",
       "nodes": [
        "IPY_MODEL_6e981d17df7d4ac697a355b012c6685e",
        "IPY_MODEL_7ee528b0e1c64fc48df627acf6d5262f",
        "IPY_MODEL_d90502a3e8a44eafab02b3be7e606b86",
        "IPY_MODEL_1656e983266d41a4bc46d95365242328",
        "IPY_MODEL_cc8f0d5de73844f8bab831f002e344ec",
        "IPY_MODEL_dee1b79e71664e078a7332bba44b49ff",
        "IPY_MODEL_ef3c0e39cdba4338836bea72a74fbbe7",
        "IPY_MODEL_b35c045aa650440c86fcc39b483060e1",
        "IPY_MODEL_ffe3e14021314db28db8e6aae0313bae",
        "IPY_MODEL_2814f5d44acc490ba737fd0d7aa8396b",
        "IPY_MODEL_41567742ce1141ddb01d6e4fde1b60fc",
        "IPY_MODEL_8879bfdaea314e2db19fce054a77d44a",
        "IPY_MODEL_303460dd88ba417fb07b260a55f5596b",
        "IPY_MODEL_c1420016b8d2444eaae661578017814c",
        "IPY_MODEL_cf198643b5c8481d8fc556a3ba0ac4e5",
        "IPY_MODEL_35448d3aa56a4dd8b7ff432afb8e6186",
        "IPY_MODEL_9be7b2813b32475ba68e8fad20ac27ce",
        "IPY_MODEL_792565e4e54d4b6bb0ff3ed489ed9972",
        "IPY_MODEL_693a987eaff741a181a6ba551e5726e7",
        "IPY_MODEL_326728e2b8de452285ff5f34a556b25f",
        "IPY_MODEL_298ede6a26434d249794739edef1999e",
        "IPY_MODEL_37078acd9e944e30bba401dfb06a6ddb",
        "IPY_MODEL_7a259626b56e4ec58dc53493e5882f8b",
        "IPY_MODEL_671eaf469bc64c23a187f40c18c1a1e1",
        "IPY_MODEL_a07d3cdd72ab4767a874d2de666a4bd7",
        "IPY_MODEL_7a052425cc7d49b5905f66dfeff1d277",
        "IPY_MODEL_3a4ce8f9aec140628fd7100dec7985c2",
        "IPY_MODEL_bb2e356f7bd0470f95ff6ac64ff40705",
        "IPY_MODEL_694da934691b4f8d92b711a1acfbd307",
        "IPY_MODEL_ed2b201667f04104bd83890c37ca6c7f",
        "IPY_MODEL_7fa93d223018451395e318f1c2d0ad79",
        "IPY_MODEL_b4681cd561844dd489ee043048df0536",
        "IPY_MODEL_395c35d1dcdd42c7abd14606cc940f57",
        "IPY_MODEL_0766a27525d34d3ba6073ccedabf5a74",
        "IPY_MODEL_63f26d0b086b456fbcb7f14c917f52b0",
        "IPY_MODEL_2a7f15b546164d14b98e1eb3e24c4732",
        "IPY_MODEL_4bfb97a1b79a474cbc0db00feb8bf109",
        "IPY_MODEL_8c569e3898c0480c8b40da89deec5680",
        "IPY_MODEL_dd320ec98cc54042a208ec24f5e81f19",
        "IPY_MODEL_f4e6ac49eb5b43bb9ff964d3eda8e77d",
        "IPY_MODEL_97307395116f47788344386080f20fe3",
        "IPY_MODEL_19a1f1ad7b7f4f4085055a212b564c4a",
        "IPY_MODEL_a362f1b8140b4806977cf5c58c219c2e",
        "IPY_MODEL_fed435445eaf4487a80671e5ddf49298",
        "IPY_MODEL_5460b60c987247c8b0830b936cee16c3",
        "IPY_MODEL_c1544d65e28546728c7a353c6d11b18f",
        "IPY_MODEL_6645098a3dbe43ac8cb5f206a4697cfd",
        "IPY_MODEL_23751538ff04476a857db340e0bbc26f",
        "IPY_MODEL_e498ba21ec604ee5ba66f4eb33b8744f",
        "IPY_MODEL_9787312323584869a1035aaae3f74077",
        "IPY_MODEL_3287b6eb74f441e79c2c1f4eba017681",
        "IPY_MODEL_5b846b5fbc3f43709ca7a4d397c9f68c",
        "IPY_MODEL_924d161453384333a493eedba5ade7fa",
        "IPY_MODEL_c5a47bb44bdc4f46a9b2862a46e1f959",
        "IPY_MODEL_d82e436fc7f8411485b7cf01fcb601b1"
       ],
       "opened": false
      }
     },
     "0ccaf2e168214d1f999452ad3deb86a9": {
      "model_module": "@jupyter-widgets/controls",
      "model_module_version": "2.0.0",
      "model_name": "HBoxModel",
      "state": {
       "children": [
        "IPY_MODEL_28cc136c7ff94316ae12a5b48197fd78"
       ],
       "layout": "IPY_MODEL_0437708e8d0844c0a18483cd309ff67d"
      }
     },
     "0cffea2ecae0499f89800f6721d1db18": {
      "model_module": "ipytree",
      "model_module_version": "^0.2",
      "model_name": "NodeModel",
      "state": {
       "_id": "4c6660dd-bcb1-46bd-80d3-91c7a4eb8382",
       "_model_module_version": "^0.2",
       "_view_module_version": "^0.2",
       "icon": "file",
       "name": "min_max_reducer.py"
      }
     },
     "0d0893c9e7d04b7da6b0ddbeeca2228c": {
      "model_module": "ipytree",
      "model_module_version": "^0.2",
      "model_name": "NodeModel",
      "state": {
       "_id": "900552e2-f9b6-4438-b3a4-22512f6a857f",
       "_model_module_version": "^0.2",
       "_view_module_version": "^0.2",
       "icon": "file",
       "name": "map_center_object.py"
      }
     },
     "0da18634d2534b3ab3ca7cb1729a3592": {
      "model_module": "@jupyter-widgets/controls",
      "model_module_version": "2.0.0",
      "model_name": "ToggleButtonStyleModel",
      "state": {
       "description_width": "",
       "font_family": null,
       "font_size": null,
       "font_style": null,
       "font_variant": null,
       "font_weight": null,
       "text_color": null,
       "text_decoration": null
      }
     },
     "0dbf68dc979e4c3494ce2715b2524d2c": {
      "model_module": "@jupyter-widgets/controls",
      "model_module_version": "2.0.0",
      "model_name": "ToggleButtonStyleModel",
      "state": {
       "description_width": "",
       "font_family": null,
       "font_size": null,
       "font_style": null,
       "font_variant": null,
       "font_weight": null,
       "text_color": null,
       "text_decoration": null
      }
     },
     "0e0b152b967e4bab9f68322e31b0efce": {
      "model_module": "ipytree",
      "model_module_version": "^0.2",
      "model_name": "NodeModel",
      "state": {
       "_id": "9faab046-2476-44cf-bed9-01f3ad25f3ba",
       "_model_module_version": "^0.2",
       "_view_module_version": "^0.2",
       "icon": "file",
       "name": "us_census_counties.py"
      }
     },
     "0e897652f3534de5aa7ce578a69e81c7": {
      "model_module": "ipytree",
      "model_module_version": "^0.2",
      "model_name": "NodeModel",
      "state": {
       "_id": "48aeab31-ca38-4de2-923f-683b2919deb9",
       "_model_module_version": "^0.2",
       "_view_module_version": "^0.2",
       "icon": "file",
       "name": "fire_australia.py"
      }
     },
     "0f4071314d334ae2bbab2bcb13194984": {
      "model_module": "ipytree",
      "model_module_version": "^0.2",
      "model_name": "NodeModel",
      "state": {
       "_id": "9e3a71cc-53d5-4ca3-a23a-2a3b966a881b",
       "_model_module_version": "^0.2",
       "_view_module_version": "^0.2",
       "icon": "file",
       "name": "filtering_feature_collection.py"
      }
     },
     "0f4a9b023e0740db9222cd48fe038877": {
      "model_module": "ipytree",
      "model_module_version": "^0.2",
      "model_name": "NodeModel",
      "state": {
       "_id": "5a2ee0b4-a81e-44f2-a34a-56108f9e7c2f",
       "_model_module_version": "^0.2",
       "_view_module_version": "^0.2",
       "icon": "file",
       "name": "creating_monthly_imagery.py"
      }
     },
     "0f58952ac9454b00aa941e7439a870fd": {
      "model_module": "@jupyter-widgets/controls",
      "model_module_version": "2.0.0",
      "model_name": "ButtonModel",
      "state": {
       "button_style": "primary",
       "description": "Save",
       "disabled": true,
       "layout": "IPY_MODEL_6afdbdbd5dee45e2a9e8b1e739d7e942",
       "style": "IPY_MODEL_df1fb885deb746c6a1c59b997e513a98",
       "tooltip": "Save edits to file."
      }
     },
     "0f60f08c08e7498b842da1665fd54dbe": {
      "model_module": "@jupyter-widgets/controls",
      "model_module_version": "2.0.0",
      "model_name": "TextModel",
      "state": {
       "layout": "IPY_MODEL_cc3666b77e6141e6849dad080455f721",
       "style": "IPY_MODEL_23cb0694abad4d8f900705649012bdd7",
       "value": "C:\\Users\\Naznamz\\gee_repos\\Examples\\earthengine-py-examples\\ImageCollection\\clipped_composite.py"
      }
     },
     "0f978fec8ed64190949bd6ad4d14e917": {
      "model_module": "@jupyter-widgets/base",
      "model_module_version": "2.0.0",
      "model_name": "LayoutModel",
      "state": {
       "min_width": "500px"
      }
     },
     "1031d9c2924140abb03aee089f850fd4": {
      "model_module": "@jupyter-widgets/controls",
      "model_module_version": "2.0.0",
      "model_name": "ToggleButtonModel",
      "state": {
       "icon": "server",
       "layout": "IPY_MODEL_84d1d2f154e84b279152580548fb98ed",
       "style": "IPY_MODEL_bcc7ba7e4c534b71abee66c4e1f5097d",
       "tooltip": "Layers"
      }
     },
     "10753cb7080c4e2e970e6f43c83c592f": {
      "model_module": "ipytree",
      "model_module_version": "^0.2",
      "model_name": "NodeModel",
      "state": {
       "_id": "0c7f6a0a-59f6-4cc0-b164-2b93f93eb86a",
       "_model_module_version": "^0.2",
       "_view_module_version": "^0.2",
       "icon": "file",
       "name": "add_random_value_column.py"
      }
     },
     "110803e38d5d4e03999334562bd932f1": {
      "model_module": "ipytree",
      "model_module_version": "^0.2",
      "model_name": "NodeModel",
      "state": {
       "_id": "1cff2cec-a292-4719-9609-fc6bccf49531",
       "_model_module_version": "^0.2",
       "_view_module_version": "^0.2",
       "icon": "file",
       "name": "cell_statistics.py"
      }
     },
     "11a92a65da0942ae9cb3c6c24cc6caa7": {
      "model_module": "ipytree",
      "model_module_version": "^0.2",
      "model_name": "NodeModel",
      "state": {
       "_id": "9fcdf63d-115f-4745-80c5-53337286e959",
       "_model_module_version": "^0.2",
       "_view_module_version": "^0.2",
       "icon": "file",
       "name": "us_ned.py"
      }
     },
     "11d694188f544f1db4d7750247be53b9": {
      "model_module": "ipytree",
      "model_module_version": "^0.2",
      "model_name": "NodeModel",
      "state": {
       "_id": "dd872cd5-2670-41f9-bfa1-02fe1d60f394",
       "_model_module_version": "^0.2",
       "_view_module_version": "^0.2",
       "icon": "file",
       "name": "us_ned.py"
      }
     },
     "11f9399a68e0412c94221b50d1c1a094": {
      "model_module": "@jupyter-widgets/base",
      "model_module_version": "2.0.0",
      "model_name": "LayoutModel",
      "state": {
       "height": "auto",
       "padding": "0px 0px 0px 4px",
       "width": "auto"
      }
     },
     "1211010eb0e34b159b3b7ac2ab6d59ca": {
      "model_module": "ipytree",
      "model_module_version": "^0.2",
      "model_name": "NodeModel",
      "state": {
       "_id": "e0c8661e-5090-47d2-9e58-6daa22ac7ebd",
       "_model_module_version": "^0.2",
       "_view_module_version": "^0.2",
       "icon": "file",
       "name": "modis_surface_reflectance_qa_band.py"
      }
     },
     "124f542ba2c44897bb7999b935a1302c": {
      "model_module": "ipytree",
      "model_module_version": "^0.2",
      "model_name": "NodeModel",
      "state": {
       "_id": "0460a615-9d97-40ac-ab4c-09981aaa5e76",
       "_model_module_version": "^0.2",
       "_view_module_version": "^0.2",
       "icon": "file",
       "name": "image_mosaicking.py"
      }
     },
     "1273999a7a5c40ff800b40508e27626d": {
      "model_module": "@jupyter-widgets/controls",
      "model_module_version": "2.0.0",
      "model_name": "ToggleButtonModel",
      "state": {
       "button_style": "primary",
       "icon": "bar-chart",
       "layout": "IPY_MODEL_5aef4125bdce43579320b77a76630ea7",
       "style": "IPY_MODEL_681b6dc2ad394deb99eb5cbaa7442de3",
       "tooltip": "Plotting"
      }
     },
     "13022e4841e54e05926d833e188245ea": {
      "model_module": "ipytree",
      "model_module_version": "^0.2",
      "model_name": "NodeModel",
      "state": {
       "_id": "452f74fb-3be3-499b-af52-2b16c07199f3",
       "_model_module_version": "^0.2",
       "_view_module_version": "^0.2",
       "icon": "file",
       "name": "FromName.py"
      }
     },
     "133f02cc318148e4b627ecc74d6075e2": {
      "model_module": "ipytree",
      "model_module_version": "^0.2",
      "model_name": "NodeModel",
      "state": {
       "_id": "f87fe31c-c12a-4821-8ab3-c2d16b8a44d8",
       "_model_module_version": "^0.2",
       "_view_module_version": "^0.2",
       "icon": "file",
       "name": "inner_joins.py"
      }
     },
     "138f61866ba446239f0cc182aad74ccc": {
      "model_module": "@jupyter-widgets/controls",
      "model_module_version": "2.0.0",
      "model_name": "VBoxModel",
      "state": {
       "children": [
        "IPY_MODEL_8a530e157ab140f4adba77961a918bb3"
       ],
       "layout": "IPY_MODEL_23ccb9b0663d40aa905bbbc0ab1700c5"
      }
     },
     "13f853f1985a499a82e2e1e395f14f6a": {
      "model_module": "@jupyter-widgets/base",
      "model_module_version": "2.0.0",
      "model_name": "LayoutModel",
      "state": {
       "height": "auto",
       "padding": "0px 0px 0px 4px",
       "width": "auto"
      }
     },
     "13ff416abf314d108fcefa8d47d6f5c9": {
      "model_module": "ipytree",
      "model_module_version": "^0.2",
      "model_name": "NodeModel",
      "state": {
       "_id": "0d0f78d5-5d71-49c6-a951-52dd94e9aa95",
       "_model_module_version": "^0.2",
       "_view_module_version": "^0.2",
       "icon": "file",
       "name": "image_stretch.py"
      }
     },
     "149840f2ab6a4c9580a04780afcfa48a": {
      "model_module": "ipytree",
      "model_module_version": "^0.2",
      "model_name": "NodeModel",
      "state": {
       "_id": "9d008704-44e0-4675-ab7c-b63bf401028e",
       "_model_module_version": "^0.2",
       "_view_module_version": "^0.2",
       "icon": "file",
       "name": "random_color_visualizer.py"
      }
     },
     "149fa3f9d9ee4c16a683d015c5417d20": {
      "model_module": "ipytree",
      "model_module_version": "^0.2",
      "model_name": "NodeModel",
      "state": {
       "_id": "d6741a4e-bf71-4870-8ee2-66b0570dcf81",
       "_model_module_version": "^0.2",
       "_view_module_version": "^0.2",
       "icon": "file",
       "name": "international_boundary.py"
      }
     },
     "14a877a1c4114edcb8498fe92115cb5b": {
      "model_module": "@jupyter-widgets/controls",
      "model_module_version": "2.0.0",
      "model_name": "ToggleButtonStyleModel",
      "state": {
       "description_width": "",
       "font_family": null,
       "font_size": null,
       "font_style": null,
       "font_variant": null,
       "font_weight": null,
       "text_color": null,
       "text_decoration": null
      }
     },
     "150fab7e16e5475a962e8b4e8f81cd64": {
      "model_module": "@jupyter-widgets/controls",
      "model_module_version": "2.0.0",
      "model_name": "VBoxModel",
      "state": {
       "_dom_classes": [
        "geemap-light"
       ],
       "_view_count": 1,
       "children": [
        "IPY_MODEL_7e651a5534e54860b7ea4c9544b9fb80"
       ],
       "layout": "IPY_MODEL_a06b59b46d9b47c1be6265529d6a8baf"
      }
     },
     "152c36a2597345ed986a2cf40ab72704": {
      "model_module": "ipytree",
      "model_module_version": "^0.2",
      "model_name": "NodeModel",
      "state": {
       "_id": "3995b098-bedb-47c7-88ef-ef7d97ecef3d",
       "_model_module_version": "^0.2",
       "_view_module_version": "^0.2",
       "icon": "file",
       "name": "mean_std_image.py"
      }
     },
     "15652ddc65cb463780ee5f2957a1bb8d": {
      "model_module": "ipytree",
      "model_module_version": "^0.2",
      "model_name": "NodeModel",
      "state": {
       "_id": "34685f1c-7bce-4c5b-b509-3749dd107303",
       "_model_module_version": "^0.2",
       "_view_module_version": "^0.2",
       "name": "ImageCollection",
       "nodes": [
        "IPY_MODEL_0c0334c1b1124d868b1a7fc757a1c0a7",
        "IPY_MODEL_2be51519f1e64d289b272e2b4e0a2556",
        "IPY_MODEL_0f4a9b023e0740db9222cd48fe038877",
        "IPY_MODEL_b3c10307af344de9ac8283647d2b4305",
        "IPY_MODEL_0a173605a9bd4f3a9c955578f306699d",
        "IPY_MODEL_a54349263a134d16bf6819cfc838e677",
        "IPY_MODEL_555ce1e838d84643a16682ba3549989f",
        "IPY_MODEL_d345a29b9fb5432a81ec2eaf5001ac27",
        "IPY_MODEL_eef45b6d0fcf41fbb96315ac0bc74b3f",
        "IPY_MODEL_40cc9e5d5df549919291277afd6989d3",
        "IPY_MODEL_ef0c9cac459d437981a51f2bce95e4a5",
        "IPY_MODEL_4a1e0259ed3d42f99917470a76c6f2ac",
        "IPY_MODEL_9f2c3b4d09204416ae6284f9ca929769",
        "IPY_MODEL_45ae4f0775604b17aa16133cfe10edfe",
        "IPY_MODEL_0688f1320bfe43308894ee7d9a0c6317",
        "IPY_MODEL_21e6992405f648f9be15d3420ef61596",
        "IPY_MODEL_922bfc552dff4aae98e75e1c5f97c6ee",
        "IPY_MODEL_73cd50c46b394b43ab0e23d41f176c62",
        "IPY_MODEL_7d124011cfd64c269bdf470fc4a27ed3",
        "IPY_MODEL_54fac69b978a4a939eee4f297913b2e6"
       ],
       "opened": false
      }
     },
     "158bb8ff1c244fa4adddda57d984491d": {
      "model_module": "@jupyter-widgets/controls",
      "model_module_version": "2.0.0",
      "model_name": "ToggleButtonStyleModel",
      "state": {
       "description_width": "",
       "font_family": null,
       "font_size": null,
       "font_style": null,
       "font_variant": null,
       "font_weight": null,
       "text_color": null,
       "text_decoration": null
      }
     },
     "15d26b5ec40340bea48c9d0efc3b5821": {
      "model_module": "ipytree",
      "model_module_version": "^0.2",
      "model_name": "NodeModel",
      "state": {
       "_id": "f7fccb80-22d2-400d-a6c1-ac8c1165659d",
       "_model_module_version": "^0.2",
       "_view_module_version": "^0.2",
       "icon": "file",
       "name": "map_function.py"
      }
     },
     "160ea572dd4544699a077a1cca77ab07": {
      "model_module": "@jupyter-widgets/base",
      "model_module_version": "2.0.0",
      "model_name": "LayoutModel",
      "state": {}
     },
     "163d8e83c4b44025a3b5f9f85f892fee": {
      "model_module": "ipytree",
      "model_module_version": "^0.2",
      "model_name": "NodeModel",
      "state": {
       "_id": "20195afa-5f54-40ed-940d-7632a17733af",
       "_model_module_version": "^0.2",
       "_view_module_version": "^0.2",
       "icon": "file",
       "name": "ndwi_single.py"
      }
     },
     "163ea360e8a54063af798354b7479f5a": {
      "model_module": "ipytree",
      "model_module_version": "^0.2",
      "model_name": "NodeModel",
      "state": {
       "_id": "f7d83679-239c-47a2-ae2b-e27e4252add6",
       "_model_module_version": "^0.2",
       "_view_module_version": "^0.2",
       "icon": "file",
       "name": "us_counties.py"
      }
     },
     "16516fe3b6af4667a2b7d934da485870": {
      "model_module": "ipytree",
      "model_module_version": "^0.2",
      "model_name": "NodeModel",
      "state": {
       "_id": "c916217b-ae6c-464d-ba00-8ddf95834b3a",
       "_model_module_version": "^0.2",
       "_view_module_version": "^0.2",
       "icon": "file",
       "name": "landsat8_surface_reflectance-copy.py"
      }
     },
     "1656e983266d41a4bc46d95365242328": {
      "model_module": "ipytree",
      "model_module_version": "^0.2",
      "model_name": "NodeModel",
      "state": {
       "_id": "9b023be3-e788-4b4a-92d7-c7486a5bacd5",
       "_model_module_version": "^0.2",
       "_view_module_version": "^0.2",
       "icon": "file",
       "name": "cell_statistics.py"
      }
     },
     "1678c09ddca6436a92930dc0de814e7e": {
      "model_module": "ipytree",
      "model_module_version": "^0.2",
      "model_name": "NodeModel",
      "state": {
       "_id": "dd156047-5ec6-4004-bfc9-c1a987a26757",
       "_model_module_version": "^0.2",
       "_view_module_version": "^0.2",
       "icon": "file",
       "name": "06_reducing.py"
      }
     },
     "167c3116be4045de807835506722863d": {
      "model_module": "ipytree",
      "model_module_version": "^0.2",
      "model_name": "NodeModel",
      "state": {
       "_id": "9d60017e-0a0f-48b7-b79b-09ea29bd5718",
       "_model_module_version": "^0.2",
       "_view_module_version": "^0.2",
       "icon": "file",
       "name": "usgs_nlcd.py"
      }
     },
     "1683d1efc387489597064ed3b96dffc0": {
      "model_module": "ipytree",
      "model_module_version": "^0.2",
      "model_name": "NodeModel",
      "state": {
       "_id": "a73a08a5-7d4a-42ff-a066-0622936b64e8",
       "_model_module_version": "^0.2",
       "_view_module_version": "^0.2",
       "icon": "file",
       "name": "usgs_watershed_boundary.py"
      }
     },
     "16aee99f6374499993ddee0e61e9c6c7": {
      "model_module": "ipytree",
      "model_module_version": "^0.2",
      "model_name": "NodeModel",
      "state": {
       "_id": "562a5845-6c27-48ea-83ae-41400f13d216",
       "_model_module_version": "^0.2",
       "_view_module_version": "^0.2",
       "icon": "file",
       "name": "us_ned_chili.py"
      }
     },
     "16db8a6e4eba4a6cb285c65f33b6fd1b": {
      "model_module": "ipytree",
      "model_module_version": "^0.2",
      "model_name": "NodeModel",
      "state": {
       "_id": "5e17af69-7f4d-474c-95d2-f97ef8a024b8",
       "_model_module_version": "^0.2",
       "_view_module_version": "^0.2",
       "icon": "file",
       "name": "glcf_global_inland_water.py"
      }
     },
     "1761b18098a2492a9ffe9aafd076e19c": {
      "model_module": "ipytree",
      "model_module_version": "^0.2",
      "model_name": "NodeModel",
      "state": {
       "_id": "78e89b5e-0ce0-446f-8783-de16e0e79f86",
       "_model_module_version": "^0.2",
       "_view_module_version": "^0.2",
       "icon": "file",
       "name": "map_center_object_no_zoom.py"
      }
     },
     "1766377ef0514ebc9d9359dac7d224d1": {
      "model_module": "@jupyter-widgets/base",
      "model_module_version": "2.0.0",
      "model_name": "LayoutModel",
      "state": {}
     },
     "17cf3ce8600447f1883a8ea1d05a11e5": {
      "model_module": "@jupyter-widgets/base",
      "model_module_version": "2.0.0",
      "model_name": "LayoutModel",
      "state": {
       "height": "auto",
       "padding": "0px 0px 0px 4px",
       "width": "auto"
      }
     },
     "17e1880f785844c79dbd81111544edaf": {
      "model_module": "ipytree",
      "model_module_version": "^0.2",
      "model_name": "NodeModel",
      "state": {
       "_id": "681e12bf-a92e-49aa-856c-d75fdc6516aa",
       "_model_module_version": "^0.2",
       "_view_module_version": "^0.2",
       "icon": "file",
       "name": "landsat_symbology.py"
      }
     },
     "1805f6845983452e9e7499095e3c465d": {
      "model_module": "@jupyter-widgets/base",
      "model_module_version": "2.0.0",
      "model_name": "LayoutModel",
      "state": {
       "height": "auto",
       "padding": "0px 0px 0px 4px",
       "width": "auto"
      }
     },
     "18291ec7c9a6409fa24035e7a298b787": {
      "model_module": "@jupyter-widgets/controls",
      "model_module_version": "2.0.0",
      "model_name": "TextStyleModel",
      "state": {
       "description_width": "",
       "font_size": null,
       "text_color": null
      }
     },
     "182ff8eb95a04818a85a28a71599f14f": {
      "model_module": "ipytree",
      "model_module_version": "^0.2",
      "model_name": "NodeModel",
      "state": {
       "_id": "bf2ac4dd-bdfc-42c4-a340-ec2b1de89c83",
       "_model_module_version": "^0.2",
       "_view_module_version": "^0.2",
       "icon": "file",
       "name": "save_all_joins.py"
      }
     },
     "185f8a47fed341688c0a2c5ef622bf89": {
      "model_module": "ipytree",
      "model_module_version": "^0.2",
      "model_name": "NodeModel",
      "state": {
       "_id": "cd4ad395-fde1-475b-8528-852dca13ff58",
       "_model_module_version": "^0.2",
       "_view_module_version": "^0.2",
       "icon": "file",
       "name": "sentinel-1_filtering.py"
      }
     },
     "187cd4b1305a4df4993a49c28f0dcc14": {
      "model_module": "ipytree",
      "model_module_version": "^0.2",
      "model_name": "NodeModel",
      "state": {
       "_id": "27b69d1f-b5bb-453d-9fb8-f5ad9853c030",
       "_model_module_version": "^0.2",
       "_view_module_version": "^0.2",
       "icon": "file",
       "name": "landsat_median.py"
      }
     },
     "18b16bf3c0154b1292da9e3d5b1b799f": {
      "model_module": "ipytree",
      "model_module_version": "^0.2",
      "model_name": "NodeModel",
      "state": {
       "_id": "1595e9bd-671c-4927-b418-ae3818c01c9d",
       "_model_module_version": "^0.2",
       "_view_module_version": "^0.2",
       "icon": "file",
       "name": "terrain_visualization.py"
      }
     },
     "18d374091f1f4dcabe45608662fd6f14": {
      "model_module": "@jupyter-widgets/controls",
      "model_module_version": "2.0.0",
      "model_name": "ToggleButtonStyleModel",
      "state": {
       "description_width": "",
       "font_family": null,
       "font_size": null,
       "font_style": null,
       "font_variant": null,
       "font_weight": null,
       "text_color": null,
       "text_decoration": null
      }
     },
     "190cf8e9afa441e48d5f0c615c0de39d": {
      "model_module": "ipytree",
      "model_module_version": "^0.2",
      "model_name": "NodeModel",
      "state": {
       "_id": "4827fd41-6717-4004-b053-086eb9d9487b",
       "_model_module_version": "^0.2",
       "_view_module_version": "^0.2",
       "icon": "file",
       "name": "distance.py"
      }
     },
     "197071872f824b07858d8cf890bc2e30": {
      "model_module": "ipytree",
      "model_module_version": "^0.2",
      "model_name": "NodeModel",
      "state": {
       "_id": "99f66b2c-5ec2-4a1f-ac99-984fa068052b",
       "_model_module_version": "^0.2",
       "_view_module_version": "^0.2",
       "icon": "file",
       "name": "computed_area_filter.py"
      }
     },
     "19a1f1ad7b7f4f4085055a212b564c4a": {
      "model_module": "ipytree",
      "model_module_version": "^0.2",
      "model_name": "NodeModel",
      "state": {
       "_id": "cedae97f-4d2b-4188-a453-f8cdb239e11f",
       "_model_module_version": "^0.2",
       "_view_module_version": "^0.2",
       "icon": "file",
       "name": "pixel_lon_lat.py"
      }
     },
     "19dc5c70302947ba925967349dec8e62": {
      "model_module": "ipytree",
      "model_module_version": "^0.2",
      "model_name": "NodeModel",
      "state": {
       "_id": "0beb6b62-da7a-4ddc-98d2-22d9421574e9",
       "_model_module_version": "^0.2",
       "_view_module_version": "^0.2",
       "icon": "file",
       "name": "03_finding_images.py"
      }
     },
     "19e0fc3616f04cfb9f51343bf73467af": {
      "model_module": "ipytree",
      "model_module_version": "^0.2",
      "model_name": "NodeModel",
      "state": {
       "_id": "62e6f02e-add7-484d-b2f3-2677578e63f9",
       "_model_module_version": "^0.2",
       "_view_module_version": "^0.2",
       "icon": "file",
       "name": "cart_classifier.py"
      }
     },
     "1a12bf92c4564a3e895afda3174a8454": {
      "model_module": "ipytree",
      "model_module_version": "^0.2",
      "model_name": "NodeModel",
      "state": {
       "_id": "f03c6600-065c-4040-8eb4-ad72f05b825d",
       "_model_module_version": "^0.2",
       "_view_module_version": "^0.2",
       "icon": "file",
       "name": "export_vector.py"
      }
     },
     "1a1dee211cb8418c9124c7cec458b661": {
      "model_module": "ipytree",
      "model_module_version": "^0.2",
      "model_name": "NodeModel",
      "state": {
       "_id": "43eabb53-eed8-4a37-9c42-f6baa9254eea",
       "_model_module_version": "^0.2",
       "_view_module_version": "^0.2",
       "icon": "file",
       "name": "cart_classifier.py"
      }
     },
     "1b1c1a672039447e95d2fc3afd0f3b27": {
      "model_module": "@jupyter-widgets/base",
      "model_module_version": "2.0.0",
      "model_name": "LayoutModel",
      "state": {
       "height": "auto",
       "padding": "0px 0px 0px 4px",
       "width": "auto"
      }
     },
     "1c2628f344d641ee86c55419f0d2e170": {
      "model_module": "@jupyter-widgets/controls",
      "model_module_version": "2.0.0",
      "model_name": "VBoxModel",
      "state": {
       "children": [
        "IPY_MODEL_d59ac5407cbe456baeadf40a42d55fd9"
       ],
       "layout": "IPY_MODEL_389a9f1417de4ca7a4232ca597d354e1"
      }
     },
     "1c39929430874520b80089e67d362652": {
      "model_module": "ipytree",
      "model_module_version": "^0.2",
      "model_name": "NodeModel",
      "state": {
       "_id": "fb3f8d2f-9af3-4a7c-a484-76b2d712c778",
       "_model_module_version": "^0.2",
       "_view_module_version": "^0.2",
       "icon": "file",
       "name": "column_statistics_multiple.py"
      }
     },
     "1c419f2768154631b436bac3ecb5ec39": {
      "model_module": "ipytree",
      "model_module_version": "^0.2",
      "model_name": "NodeModel",
      "state": {
       "_id": "b930f30f-925b-4cfb-917e-2d8397583f6c",
       "_model_module_version": "^0.2",
       "_view_module_version": "^0.2",
       "icon": "file",
       "name": "map_get_center.py"
      }
     },
     "1c6d5842b8454d51a40a9d5865f233f5": {
      "model_module": "jupyter-leaflet",
      "model_module_version": "^0.18",
      "model_name": "LeafletScaleControlModel",
      "state": {
       "_model_module_version": "^0.18",
       "_view_module_version": "^0.18",
       "imperial": true,
       "max_width": 100,
       "metric": true,
       "options": [
        "imperial",
        "max_width",
        "metric",
        "position",
        "update_when_idle"
       ],
       "position": "bottomleft",
       "update_when_idle": false
      }
     },
     "1cbe972fe3b7403c93d88f9e067821cc": {
      "model_module": "@jupyter-widgets/base",
      "model_module_version": "2.0.0",
      "model_name": "LayoutModel",
      "state": {
       "height": "auto",
       "padding": "0px 0px 0px 4px",
       "width": "auto"
      }
     },
     "1d67bc0e45f14e48af78956be9facc67": {
      "model_module": "ipytree",
      "model_module_version": "^0.2",
      "model_name": "NodeModel",
      "state": {
       "_id": "4acc5606-d0dd-4ab2-bbc3-4cb3f5ab0b4a",
       "_model_module_version": "^0.2",
       "_view_module_version": "^0.2",
       "icon": "file",
       "name": "export_FeatureCollection.py"
      }
     },
     "1dbea15bfc3f44479e2761bc37365935": {
      "model_module": "@jupyter-widgets/controls",
      "model_module_version": "2.0.0",
      "model_name": "ToggleButtonStyleModel",
      "state": {
       "description_width": "",
       "font_family": null,
       "font_size": null,
       "font_style": null,
       "font_variant": null,
       "font_weight": null,
       "text_color": null,
       "text_decoration": null
      }
     },
     "1dc00b773f064ef5a7c6bbc58ccf7eac": {
      "model_module": "jupyter-leaflet",
      "model_module_version": "^0.18",
      "model_name": "LeafletMapStyleModel",
      "state": {
       "_model_module_version": "^0.18"
      }
     },
     "1dcc2df45ef741debd0600b021698d63": {
      "model_module": "ipytree",
      "model_module_version": "^0.2",
      "model_name": "NodeModel",
      "state": {
       "_id": "810b72fe-7eca-463e-b422-9481fbdc9f46",
       "_model_module_version": "^0.2",
       "_view_module_version": "^0.2",
       "icon": "file",
       "name": "hillshade_and_water.py"
      }
     },
     "1dd37966acd649168d87afdb19f6616d": {
      "model_module": "ipytree",
      "model_module_version": "^0.2",
      "model_name": "NodeModel",
      "state": {
       "_id": "b87ba712-9acb-480f-a59d-47b053d1013d",
       "_model_module_version": "^0.2",
       "_view_module_version": "^0.2",
       "icon": "file",
       "name": "canny_edge_detector.py"
      }
     },
     "1e091bedc8064e2aaa056f1d47a8420f": {
      "model_module": "@jupyter-widgets/controls",
      "model_module_version": "2.0.0",
      "model_name": "ToggleButtonStyleModel",
      "state": {
       "description_width": "",
       "font_family": null,
       "font_size": null,
       "font_style": null,
       "font_variant": null,
       "font_weight": null,
       "text_color": null,
       "text_decoration": null
      }
     },
     "1e0f5073ec8f4c3e97790379ef55235f": {
      "model_module": "ipytree",
      "model_module_version": "^0.2",
      "model_name": "NodeModel",
      "state": {
       "_id": "bd5ef791-20d7-499f-80db-0c1eeb6c07d3",
       "_model_module_version": "^0.2",
       "_view_module_version": "^0.2",
       "name": "Examples",
       "nodes": [
        "IPY_MODEL_dc2f51641bf04e60bda32eefc1294985"
       ]
      }
     },
     "1e8a41ec93744814bc26b188af56f135": {
      "model_module": "ipytree",
      "model_module_version": "^0.2",
      "model_name": "NodeModel",
      "state": {
       "_id": "59a443fa-bfec-4333-9e62-3841a8ecba53",
       "_model_module_version": "^0.2",
       "_view_module_version": "^0.2",
       "icon": "file",
       "name": "filter_in_list.py"
      }
     },
     "1ebd150aedf04a34851da027ff8bc857": {
      "model_module": "@jupyter-widgets/controls",
      "model_module_version": "2.0.0",
      "model_name": "VBoxModel",
      "state": {
       "children": [
        "IPY_MODEL_250b34942c504a7bbb0c6dd49b9dd599"
       ],
       "layout": "IPY_MODEL_76f7e05f0d2143048ba2b9984ebcd94f"
      }
     },
     "1f3d68a0136b427996fb9b75ca5c66fb": {
      "model_module": "ipytree",
      "model_module_version": "^0.2",
      "model_name": "NodeModel",
      "state": {
       "_id": "079609ce-f27f-47ce-822e-08c5175815d8",
       "_model_module_version": "^0.2",
       "_view_module_version": "^0.2",
       "icon": "file",
       "name": "reduce_resolution.py"
      }
     },
     "1fc9999df35b43d986994d455979800e": {
      "model_module": "ipytree",
      "model_module_version": "^0.2",
      "model_name": "NodeModel",
      "state": {
       "_id": "3605c991-3134-45ff-8f1a-32062a7d0bfc",
       "_model_module_version": "^0.2",
       "_view_module_version": "^0.2",
       "icon": "file",
       "name": "global_power_plant_database.py"
      }
     },
     "1ffe4d47929a45949073fa73b605560e": {
      "model_module": "jupyter-leaflet",
      "model_module_version": "^0.18",
      "model_name": "LeafletDrawControlModel",
      "state": {
       "_model_module_version": "^0.18",
       "_view_module_version": "^0.18",
       "marker": {
        "shapeOptions": {
         "color": "#3388ff"
        }
       },
       "options": [
        "position"
       ],
       "polygon": {
        "shapeOptions": {
         "clickable": true,
         "color": "#3388ff",
         "fill": true,
         "fillColor": null,
         "fillOpacity": 0.2,
         "opacity": 0.5,
         "stroke": true,
         "weight": 4
        }
       },
       "polyline": {
        "shapeOptions": {
         "clickable": true,
         "color": "#3388ff",
         "fill": false,
         "opacity": 0.5,
         "stroke": true,
         "weight": 4
        }
       },
       "rectangle": {
        "shapeOptions": {
         "clickable": true,
         "color": "#3388ff",
         "fill": true,
         "fillColor": null,
         "fillOpacity": 0.2,
         "opacity": 0.5,
         "stroke": true,
         "weight": 4
        }
       }
      }
     },
     "200679c016934f2ebf0380009fc9826d": {
      "model_module": "ipytree",
      "model_module_version": "^0.2",
      "model_name": "NodeModel",
      "state": {
       "_id": "94fce746-3c27-4c45-af59-f4230a307a90",
       "_model_module_version": "^0.2",
       "_view_module_version": "^0.2",
       "icon": "file",
       "name": "inverted_joins.py"
      }
     },
     "20083150002e4797a4db719c48cf27d0": {
      "model_module": "ipytree",
      "model_module_version": "^0.2",
      "model_name": "NodeModel",
      "state": {
       "_id": "d07df6db-b6e8-491b-8635-6ab1a4121929",
       "_model_module_version": "^0.2",
       "_view_module_version": "^0.2",
       "icon": "file",
       "name": "palettes_crameri_oleron_dem.py"
      }
     },
     "200a7040fe5b42788e95369ac05e9f44": {
      "model_module": "ipytree",
      "model_module_version": "^0.2",
      "model_name": "NodeModel",
      "state": {
       "_id": "cc4e99ee-61e6-4b4e-a8b9-fdc4f8c25458",
       "_model_module_version": "^0.2",
       "_view_module_version": "^0.2",
       "icon": "file",
       "name": "count_features.py"
      }
     },
     "203ef7bc023948afa7a09ce6fdbd0818": {
      "model_module": "@jupyter-widgets/base",
      "model_module_version": "2.0.0",
      "model_name": "LayoutModel",
      "state": {
       "height": "auto",
       "padding": "0px 0px 0px 4px",
       "width": "auto"
      }
     },
     "2082cd72058141729ab7fbf490a24bce": {
      "model_module": "ipytree",
      "model_module_version": "^0.2",
      "model_name": "NodeModel",
      "state": {
       "_id": "5b7f20d4-7e14-4ea9-8fff-3d9c1d08d482",
       "_model_module_version": "^0.2",
       "_view_module_version": "^0.2",
       "icon": "file",
       "name": "us_census_states.py"
      }
     },
     "209ab958dd7240cca06cabcd31b6d1ee": {
      "model_module": "ipytree",
      "model_module_version": "^0.2",
      "model_name": "NodeModel",
      "state": {
       "_id": "7c19ac04-ee27-4b35-868d-45e84f1e5bd4",
       "_model_module_version": "^0.2",
       "_view_module_version": "^0.2",
       "icon": "file",
       "name": "decorrelation_stretch.py"
      }
     },
     "20ac82918e4b4852ad2a262f33408755": {
      "model_module": "ipytree",
      "model_module_version": "^0.2",
      "model_name": "NodeModel",
      "state": {
       "_id": "488fb586-7990-432c-90ab-ed6dbe8744aa",
       "_model_module_version": "^0.2",
       "_view_module_version": "^0.2",
       "icon": "file",
       "name": "reducing_collection.py"
      }
     },
     "20aedc0a69aa44c398a2621601875b27": {
      "model_module": "ipytree",
      "model_module_version": "^0.2",
      "model_name": "NodeModel",
      "state": {
       "_id": "ba0c71c6-6b1c-4a5f-82b6-82c25d51395b",
       "_model_module_version": "^0.2",
       "_view_module_version": "^0.2",
       "icon": "file",
       "name": "centroid.py"
      }
     },
     "2185d9dce1e74993bea2c2b8f8d95130": {
      "model_module": "ipytree",
      "model_module_version": "^0.2",
      "model_name": "NodeModel",
      "state": {
       "_id": "69102e16-08c1-434b-b684-a5bd23c5869b",
       "_model_module_version": "^0.2",
       "_view_module_version": "^0.2",
       "icon": "file",
       "name": "test_sentinel2.py"
      }
     },
     "21cf26fb05944df1919931e3bbd38ee5": {
      "model_module": "@jupyter-widgets/controls",
      "model_module_version": "2.0.0",
      "model_name": "ToggleButtonModel",
      "state": {
       "button_style": "primary",
       "icon": "folder-open",
       "layout": "IPY_MODEL_416ed4b7039e4700903fdbbc74563b7c",
       "style": "IPY_MODEL_6840fe22d9b345eabfeb423492862935",
       "tooltip": "Open local vector/raster data"
      }
     },
     "21e26312d5bb4246a7256bbbb88661e0": {
      "model_module": "@jupyter-widgets/controls",
      "model_module_version": "2.0.0",
      "model_name": "ToggleButtonStyleModel",
      "state": {
       "description_width": "",
       "font_family": null,
       "font_size": null,
       "font_style": null,
       "font_variant": null,
       "font_weight": null,
       "text_color": null,
       "text_decoration": null
      }
     },
     "21e6992405f648f9be15d3420ef61596": {
      "model_module": "ipytree",
      "model_module_version": "^0.2",
      "model_name": "NodeModel",
      "state": {
       "_id": "e5a33e04-1251-4338-8cb5-893c797d83b0",
       "_model_module_version": "^0.2",
       "_view_module_version": "^0.2",
       "icon": "file",
       "name": "mosaicking.py"
      }
     },
     "21f69784f6d44340b6a3c8480aec9497": {
      "model_module": "ipytree",
      "model_module_version": "^0.2",
      "model_name": "NodeModel",
      "state": {
       "_id": "26433d03-db5d-42ce-8b70-27f907567e8b",
       "_model_module_version": "^0.2",
       "_view_module_version": "^0.2",
       "icon": "file",
       "name": "filter_in_list.py"
      }
     },
     "220bcf01de234a558b3ccb4736b125f1": {
      "model_module": "@jupyter-widgets/controls",
      "model_module_version": "2.0.0",
      "model_name": "ToggleButtonStyleModel",
      "state": {
       "description_width": "",
       "font_family": null,
       "font_size": null,
       "font_style": null,
       "font_variant": null,
       "font_weight": null,
       "text_color": null,
       "text_decoration": null
      }
     },
     "223c6c1291c64a60be1d3a0d8d260ed0": {
      "model_module": "ipytree",
      "model_module_version": "^0.2",
      "model_name": "NodeModel",
      "state": {
       "_id": "3db1844b-f3a3-4cc0-99fd-e15dfad5ac90",
       "_model_module_version": "^0.2",
       "_view_module_version": "^0.2",
       "icon": "file",
       "name": "conditional_operations.py"
      }
     },
     "228926bbf3224e5eac47e80afc75c2db": {
      "model_module": "ipytree",
      "model_module_version": "^0.2",
      "model_name": "NodeModel",
      "state": {
       "_id": "33116cdf-9bae-4204-812d-d8914c996655",
       "_model_module_version": "^0.2",
       "_view_module_version": "^0.2",
       "icon": "file",
       "name": "image_smoothing.py"
      }
     },
     "22cc84f3049c473488dcc6d933a89d0c": {
      "model_module": "ipytree",
      "model_module_version": "^0.2",
      "model_name": "NodeModel",
      "state": {
       "_id": "cf68c1e5-5c24-435e-ae5e-1fc896069aff",
       "_model_module_version": "^0.2",
       "_view_module_version": "^0.2",
       "icon": "file",
       "name": "simple_joins.py"
      }
     },
     "23751538ff04476a857db340e0bbc26f": {
      "model_module": "ipytree",
      "model_module_version": "^0.2",
      "model_name": "NodeModel",
      "state": {
       "_id": "c211df16-2b3a-4eeb-ae32-a495e539ae93",
       "_model_module_version": "^0.2",
       "_view_module_version": "^0.2",
       "icon": "file",
       "name": "select_bands.py"
      }
     },
     "23906cabf49e4f03968412956173d731": {
      "model_module": "ipytree",
      "model_module_version": "^0.2",
      "model_name": "NodeModel",
      "state": {
       "_id": "04d6d1e9-c28b-4bf2-8a0b-b3b51f16d35c",
       "_model_module_version": "^0.2",
       "_view_module_version": "^0.2",
       "icon": "file",
       "name": "filter_string_ends_with.py"
      }
     },
     "23984c0fcd5a4976a870ad7c51449b16": {
      "model_module": "ipytree",
      "model_module_version": "^0.2",
      "model_name": "NodeModel",
      "state": {
       "_id": "2c1c4182-58be-4861-bcc2-808d6a9a5d98",
       "_model_module_version": "^0.2",
       "_view_module_version": "^0.2",
       "icon": "file",
       "name": "srtm_landforms.py"
      }
     },
     "23a0982375c048b383a304e3a291d912": {
      "model_module": "ipytree",
      "model_module_version": "^0.2",
      "model_name": "NodeModel",
      "state": {
       "_id": "97cbfe11-b1ab-40f2-95f6-8a1d50e30e40",
       "_model_module_version": "^0.2",
       "_view_module_version": "^0.2",
       "icon": "file",
       "name": "05_map_function.py"
      }
     },
     "23a0c1000b43409f97ce5e7f81fbf7e6": {
      "model_module": "ipytree",
      "model_module_version": "^0.2",
      "model_name": "NodeModel",
      "state": {
       "_id": "fe4cbeb7-5c97-4f9f-af1c-bb45fdbd4e59",
       "_model_module_version": "^0.2",
       "_view_module_version": "^0.2",
       "icon": "file",
       "name": "confusion_matrix.py"
      }
     },
     "23cb0694abad4d8f900705649012bdd7": {
      "model_module": "@jupyter-widgets/controls",
      "model_module_version": "2.0.0",
      "model_name": "TextStyleModel",
      "state": {
       "description_width": "",
       "font_size": null,
       "text_color": null
      }
     },
     "23ccb9b0663d40aa905bbbc0ab1700c5": {
      "model_module": "@jupyter-widgets/base",
      "model_module_version": "2.0.0",
      "model_name": "LayoutModel",
      "state": {}
     },
     "240593142c654822a7e488060aecb95e": {
      "model_module": "ipytree",
      "model_module_version": "^0.2",
      "model_name": "NodeModel",
      "state": {
       "_id": "b246faf8-6b92-4b16-8941-c01b12e159f8",
       "_model_module_version": "^0.2",
       "_view_module_version": "^0.2",
       "icon": "file",
       "name": "weighted_reductions.py"
      }
     },
     "24135cc655c1426fb759bf42647267f7": {
      "model_module": "ipytree",
      "model_module_version": "^0.2",
      "model_name": "NodeModel",
      "state": {
       "_id": "452952a3-645a-4833-b10f-7d0037acb07a",
       "_model_module_version": "^0.2",
       "_view_module_version": "^0.2",
       "icon": "file",
       "name": "image_thumbnail.py"
      }
     },
     "242ffd33400a44e1bf3afde425bb6239": {
      "model_module": "@jupyter-widgets/controls",
      "model_module_version": "2.0.0",
      "model_name": "ButtonModel",
      "state": {
       "button_style": "primary",
       "description": "Clone",
       "layout": "IPY_MODEL_9e8d1320f4054829b39edd408ccabe73",
       "style": "IPY_MODEL_81d6aebf50ac437fa539bf8da2036cf1",
       "tooltip": "Clone the repository to folder."
      }
     },
     "2456a34a47324a4a9079c61dd91336c2": {
      "model_module": "jupyter-leaflet",
      "model_module_version": "^0.18",
      "model_name": "LeafletMapStyleModel",
      "state": {
       "_model_module_version": "^0.18"
      }
     },
     "2457d1d5e10a4c2188c4320afca79e63": {
      "model_module": "@jupyter-widgets/controls",
      "model_module_version": "2.0.0",
      "model_name": "HBoxModel",
      "state": {
       "_dom_classes": [
        "geemap-light"
       ],
       "_view_count": 1,
       "children": [
        "IPY_MODEL_4d3ecbcc7ce349f5af4b5df4ce6634f0"
       ],
       "layout": "IPY_MODEL_7a4f94456c574ee7857434709df47f44"
      }
     },
     "250b34942c504a7bbb0c6dd49b9dd599": {
      "model_module": "@jupyter-widgets/controls",
      "model_module_version": "2.0.0",
      "model_name": "GridBoxModel",
      "state": {
       "children": [
        "IPY_MODEL_96e6dcfa27024f37aa1290861b0511dd",
        "IPY_MODEL_c08b5c6e205a47d4a65568460e5a564a",
        "IPY_MODEL_33c70445ce0e4df28955b5203f09e2be",
        "IPY_MODEL_5abcc8de275645e0b3aa5732e6c44945",
        "IPY_MODEL_6d99aafd5c0b487a81a8d4216f68af12",
        "IPY_MODEL_e5d86ecc4729482e831d11fa711763bb"
       ],
       "layout": "IPY_MODEL_b272de16bb4043c4a64ef64ac660814c"
      }
     },
     "25846be247f94c0b90061e39b83446df": {
      "model_module": "ipytree",
      "model_module_version": "^0.2",
      "model_name": "NodeModel",
      "state": {
       "_id": "baa7091a-5db2-4c63-93c6-2d534044f80a",
       "_model_module_version": "^0.2",
       "_view_module_version": "^0.2",
       "icon": "file",
       "name": "srtm_topo_diversity.py"
      }
     },
     "26152554551041db9166af41b831e9aa": {
      "model_module": "ipytree",
      "model_module_version": "^0.2",
      "model_name": "NodeModel",
      "state": {
       "_id": "132c12fb-3893-405a-b72e-d4ddbc5e1677",
       "_model_module_version": "^0.2",
       "_view_module_version": "^0.2",
       "icon": "file",
       "name": "export_csv.py"
      }
     },
     "2623ef3c1601464a8a57d0e40db0f4ec": {
      "model_module": "ipytree",
      "model_module_version": "^0.2",
      "model_name": "NodeModel",
      "state": {
       "_id": "751e9e3e-6388-41f5-a006-55926ecaadce",
       "_model_module_version": "^0.2",
       "_view_module_version": "^0.2",
       "icon": "file",
       "name": "glcf_global_inland_water.py"
      }
     },
     "26d9f1cc0754410286dac9fd2d87835e": {
      "model_module": "ipytree",
      "model_module_version": "^0.2",
      "model_name": "NodeModel",
      "state": {
       "_id": "efc9f2f6-05d6-4d8c-a777-40ff092a5672",
       "_model_module_version": "^0.2",
       "_view_module_version": "^0.2",
       "icon": "file",
       "name": "styled_layer_descriptors.py"
      }
     },
     "272cd7784c554171a82e1889afaaee6a": {
      "model_module": "ipytree",
      "model_module_version": "^0.2",
      "model_name": "NodeModel",
      "state": {
       "_id": "b4483962-635c-446e-bb01-8d3a8935c8dd",
       "_model_module_version": "^0.2",
       "_view_module_version": "^0.2",
       "icon": "file",
       "name": "reducing_feature_collection.py"
      }
     },
     "2812b48edf5641ba8bd3aa1a1be8e722": {
      "model_module": "ipytree",
      "model_module_version": "^0.2",
      "model_name": "NodeModel",
      "state": {
       "_id": "51e74aa4-c0ed-411d-b647-7c8d55d9688b",
       "_model_module_version": "^0.2",
       "_view_module_version": "^0.2",
       "icon": "file",
       "name": "usgs_watersheds.py"
      }
     },
     "2814f5d44acc490ba737fd0d7aa8396b": {
      "model_module": "ipytree",
      "model_module_version": "^0.2",
      "model_name": "NodeModel",
      "state": {
       "_id": "dc0266d3-16ba-46a6-b1c1-2e1eb28170af",
       "_model_module_version": "^0.2",
       "_view_module_version": "^0.2",
       "icon": "file",
       "name": "connected_pixel_count.py"
      }
     },
     "287bc31abb52434c9aee7e8edc6ce34a": {
      "model_module": "ipytree",
      "model_module_version": "^0.2",
      "model_name": "NodeModel",
      "state": {
       "_id": "07778432-822d-438e-bcb8-a64aade21df8",
       "_model_module_version": "^0.2",
       "_view_module_version": "^0.2",
       "icon": "file",
       "name": "visualizing_feature_collection.py"
      }
     },
     "28a3c99bc68341d6aa16e4cc0ea54c29": {
      "model_module": "ipytree",
      "model_module_version": "^0.2",
      "model_name": "NodeModel",
      "state": {
       "_id": "574d0e27-43b5-43e3-a5a9-e1ff08cda108",
       "_model_module_version": "^0.2",
       "_view_module_version": "^0.2",
       "icon": "file",
       "name": "map_function.py"
      }
     },
     "28b0b6d374fb48f883c50e8ceceb5ecc": {
      "model_module": "ipytree",
      "model_module_version": "^0.2",
      "model_name": "NodeModel",
      "state": {
       "_id": "34b2dbc2-3fa4-429c-b976-30e856ab4cca",
       "_model_module_version": "^0.2",
       "_view_module_version": "^0.2",
       "icon": "file",
       "name": "sentinel-1_filtering.py"
      }
     },
     "28bddf9517fb497f8bd2890822476df4": {
      "model_module": "ipytree",
      "model_module_version": "^0.2",
      "model_name": "NodeModel",
      "state": {
       "_id": "2a6fc9c7-7e48-420e-a9eb-b0c065546a34",
       "_model_module_version": "^0.2",
       "_view_module_version": "^0.2",
       "icon": "file",
       "name": "image_mosaicking.py"
      }
     },
     "28cc136c7ff94316ae12a5b48197fd78": {
      "model_module": "@jupyter-widgets/controls",
      "model_module_version": "2.0.0",
      "model_name": "VBoxModel",
      "state": {
       "children": [
        "IPY_MODEL_6280a76c7f9c40eeb2ae935367baf609",
        "IPY_MODEL_817ecd34e0564993afebfe059c8fd543"
       ],
       "layout": "IPY_MODEL_80bc09a0dc1f4acc816daa56b81390c8"
      }
     },
     "295711f1cb1c47528ad9ea4393401fac": {
      "model_module": "@jupyter-widgets/controls",
      "model_module_version": "2.0.0",
      "model_name": "ToggleButtonStyleModel",
      "state": {
       "description_width": "",
       "font_family": null,
       "font_size": null,
       "font_style": null,
       "font_variant": null,
       "font_weight": null,
       "text_color": null,
       "text_decoration": null
      }
     },
     "297f989e7f3f468b8ce69083688c2e23": {
      "model_module": "@jupyter-widgets/controls",
      "model_module_version": "2.0.0",
      "model_name": "ToggleButtonModel",
      "state": {
       "icon": "wrench",
       "layout": "IPY_MODEL_e7e933aef9c1450f97e1fe6415328cb9",
       "style": "IPY_MODEL_0000eff1a4394e27a7866311c47a0f41",
       "tooltip": "Toolbar"
      }
     },
     "298ede6a26434d249794739edef1999e": {
      "model_module": "ipytree",
      "model_module_version": "^0.2",
      "model_name": "NodeModel",
      "state": {
       "_id": "28124dee-9ddc-432a-9a98-862625afb099",
       "_model_module_version": "^0.2",
       "_view_module_version": "^0.2",
       "icon": "file",
       "name": "get_image_extent.py"
      }
     },
     "29afce1c4af54a3596ac3f05f2c55fe2": {
      "model_module": "ipytree",
      "model_module_version": "^0.2",
      "model_name": "NodeModel",
      "state": {
       "_id": "08b99125-a384-4675-8938-346f82f59db5",
       "_model_module_version": "^0.2",
       "_view_module_version": "^0.2",
       "icon": "file",
       "name": "hillshade.py"
      }
     },
     "29b6db6795d1473ab6a7f3c7cd3ba1de": {
      "model_module": "ipytree",
      "model_module_version": "^0.2",
      "model_name": "NodeModel",
      "state": {
       "_id": "e344c325-ad9b-44c8-9d0e-1f5cd7f869f4",
       "_model_module_version": "^0.2",
       "_view_module_version": "^0.2",
       "icon": "file",
       "name": "linear_regression_more.py"
      }
     },
     "29b9e70762274bfcba247507a4d97be8": {
      "model_module": "ipytree",
      "model_module_version": "^0.2",
      "model_name": "NodeModel",
      "state": {
       "_id": "b5b32365-dfae-4445-8753-d56f7ac9e92e",
       "_model_module_version": "^0.2",
       "_view_module_version": "^0.2",
       "icon": "file",
       "name": "segmentation_snic.py"
      }
     },
     "29df4c9965db43698d85e1b2af4c4853": {
      "model_module": "ipytree",
      "model_module_version": "^0.2",
      "model_name": "NodeModel",
      "state": {
       "_id": "5c41ad46-bea4-4893-a88a-9bb829d36848",
       "_model_module_version": "^0.2",
       "_view_module_version": "^0.2",
       "name": "Reader",
       "opened": false
      }
     },
     "2a7f15b546164d14b98e1eb3e24c4732": {
      "model_module": "ipytree",
      "model_module_version": "^0.2",
      "model_name": "NodeModel",
      "state": {
       "_id": "bf5b1d21-cfeb-4b8a-add3-64d008443556",
       "_model_module_version": "^0.2",
       "_view_module_version": "^0.2",
       "icon": "file",
       "name": "landcover_cleanup.py"
      }
     },
     "2a8132a67ce64576bee9620e9b4b9404": {
      "model_module": "ipytree",
      "model_module_version": "^0.2",
      "model_name": "NodeModel",
      "state": {
       "_id": "716136a3-42bc-43af-a925-c0bffc1e8405",
       "_model_module_version": "^0.2",
       "_view_module_version": "^0.2",
       "icon": "file",
       "name": "distance.py"
      }
     },
     "2b0caba2d8424633851f0ac2cde0fc0a": {
      "model_module": "ipytree",
      "model_module_version": "^0.2",
      "model_name": "NodeModel",
      "state": {
       "_id": "ff95df16-ef9b-4c18-a3d3-48c4c8ca870d",
       "_model_module_version": "^0.2",
       "_view_module_version": "^0.2",
       "icon": "file",
       "name": "creating_feature.py"
      }
     },
     "2b57453ef2524c6e8356677858ad1ad7": {
      "model_module": "@jupyter-widgets/base",
      "model_module_version": "2.0.0",
      "model_name": "LayoutModel",
      "state": {
       "height": "auto",
       "padding": "0px 0px 0px 4px",
       "width": "auto"
      }
     },
     "2b8fd2cfe7e24480bdef241af485cabc": {
      "model_module": "ipytree",
      "model_module_version": "^0.2",
      "model_name": "NodeModel",
      "state": {
       "_id": "616b3bfa-71ab-4f6f-8a0b-9c5e2d71a64b",
       "_model_module_version": "^0.2",
       "_view_module_version": "^0.2",
       "icon": "file",
       "name": "search_by_buffer_distance.py"
      }
     },
     "2ba10a5d4d404da6833472dc222e2f86": {
      "model_module": "@jupyter-widgets/controls",
      "model_module_version": "2.0.0",
      "model_name": "ToggleButtonsStyleModel",
      "state": {
       "button_width": "110px",
       "description_width": ""
      }
     },
     "2be51519f1e64d289b272e2b4e0a2556": {
      "model_module": "ipytree",
      "model_module_version": "^0.2",
      "model_name": "NodeModel",
      "state": {
       "_id": "71e6febc-2cfe-4f42-b96d-201c434c5da5",
       "_model_module_version": "^0.2",
       "_view_module_version": "^0.2",
       "icon": "file",
       "name": "convert_imagecollection_to_image.py"
      }
     },
     "2c487e90265c47d099bb521c19349406": {
      "model_module": "@jupyter-widgets/controls",
      "model_module_version": "2.0.0",
      "model_name": "ToggleButtonStyleModel",
      "state": {
       "description_width": "",
       "font_family": null,
       "font_size": null,
       "font_style": null,
       "font_variant": null,
       "font_weight": null,
       "text_color": null,
       "text_decoration": null
      }
     },
     "2c64df5995e04ecd9038e209345a7d41": {
      "model_module": "jupyter-leaflet",
      "model_module_version": "^0.18",
      "model_name": "LeafletMapStyleModel",
      "state": {
       "_model_module_version": "^0.18"
      }
     },
     "2cee89fc4d7a44819e69b29d9314b4f5": {
      "model_module": "ipytree",
      "model_module_version": "^0.2",
      "model_name": "NodeModel",
      "state": {
       "_id": "96115f34-6506-4cf6-9f07-a7b0a5939802",
       "_model_module_version": "^0.2",
       "_view_module_version": "^0.2",
       "name": "Reducer",
       "nodes": [
        "IPY_MODEL_a18066d63f5c4352ba749bc30f1feb81",
        "IPY_MODEL_458ab99429df4d969ba3a34079d2e40d",
        "IPY_MODEL_eff5af4c87784e789606d93ecd3e4dd2",
        "IPY_MODEL_a99782de877e4627991d57ba9d3ccc85",
        "IPY_MODEL_29b6db6795d1473ab6a7f3c7cd3ba1de",
        "IPY_MODEL_ffb239bf1366422f882b04b3949c6754",
        "IPY_MODEL_5b33b77a6ec14fd7942c01673d8e30ad",
        "IPY_MODEL_0cffea2ecae0499f89800f6721d1db18",
        "IPY_MODEL_587d47ef49a54df1ab866ccc2d62ac82",
        "IPY_MODEL_6b013c8daca9455e8af622e476bc7779",
        "IPY_MODEL_d45655d62b514ef194b467312a58290a",
        "IPY_MODEL_31242dfc03dd4dd58746b0efafc36352",
        "IPY_MODEL_489ab4c3a70645b2b8f3a44c236212b8",
        "IPY_MODEL_42e4bfdf4b344c979e2cd7c5d878630e",
        "IPY_MODEL_240593142c654822a7e488060aecb95e",
        "IPY_MODEL_cd318859d4c74f089c5a6dee95899c2d"
       ],
       "opened": false
      }
     },
     "2d0851b00668465b96593fd6a722542c": {
      "model_module": "@jupyter-widgets/output",
      "model_module_version": "1.0.0",
      "model_name": "OutputModel",
      "state": {
       "layout": "IPY_MODEL_df005d394da44238be5a6e0be61d7f22"
      }
     },
     "2d2f4cfb495f4a89aa638b00af6134c5": {
      "model_module": "ipytree",
      "model_module_version": "^0.2",
      "model_name": "TreeModel",
      "state": {
       "_model_module_version": "^0.2",
       "_view_module_version": "^0.2",
       "layout": "IPY_MODEL_f3e3f2acbbb744c6bca42781dcdf0738",
       "multiple_selection": false,
       "nodes": [
        "IPY_MODEL_928fc8c0b4424d96afbd49a164922ba2"
       ]
      }
     },
     "2d4878f5b4d3429cad419d83e4388496": {
      "model_module": "@jupyter-widgets/controls",
      "model_module_version": "2.0.0",
      "model_name": "HBoxModel",
      "state": {
       "children": [
        "IPY_MODEL_1031d9c2924140abb03aee089f850fd4",
        "IPY_MODEL_297f989e7f3f468b8ce69083688c2e23"
       ],
       "layout": "IPY_MODEL_3e62804f71804ecdaa39fa3bb689d6a8"
      }
     },
     "2e22ce2c7ea44c18bcf2132b094241c8": {
      "model_module": "ipytree",
      "model_module_version": "^0.2",
      "model_name": "NodeModel",
      "state": {
       "_id": "0da1a192-6e3e-4845-9555-3641b555c0d4",
       "_model_module_version": "^0.2",
       "_view_module_version": "^0.2",
       "icon": "file",
       "name": "us_ned_mtpi.py"
      }
     },
     "2e295f25e78a40ec87aa474cdb298451": {
      "model_module": "ipytree",
      "model_module_version": "^0.2",
      "model_name": "NodeModel",
      "state": {
       "_id": "ffea6856-aee5-46d1-9a05-aac1af4efceb",
       "_model_module_version": "^0.2",
       "_view_module_version": "^0.2",
       "icon": "file",
       "name": "reduce_to_image.py"
      }
     },
     "2e32c3c7d1e7483abf927ad25013455d": {
      "model_module": "ipytree",
      "model_module_version": "^0.2",
      "model_name": "NodeModel",
      "state": {
       "_id": "35a53413-58fd-4f6c-ad24-911bd31a94c8",
       "_model_module_version": "^0.2",
       "_view_module_version": "^0.2",
       "name": "MachineLearning",
       "nodes": [
        "IPY_MODEL_1a1dee211cb8418c9124c7cec458b661",
        "IPY_MODEL_881119e5a65a4d4cbbc15026a83452c2",
        "IPY_MODEL_23a0c1000b43409f97ce5e7f81fbf7e6",
        "IPY_MODEL_c28fa28f687c4ed092f61077a57a36fd"
       ],
       "opened": false
      }
     },
     "2e5ee575b54f4bf29391af41b5e4cae4": {
      "model_module": "ipytree",
      "model_module_version": "^0.2",
      "model_name": "NodeModel",
      "state": {
       "_id": "275379b6-4d5f-49ba-872c-993ff97574f0",
       "_model_module_version": "^0.2",
       "_view_module_version": "^0.2",
       "icon": "file",
       "name": "reclassify.py"
      }
     },
     "2e6e9b26b39440f68bfbbed2aea8e4dc": {
      "model_module": "ipytree",
      "model_module_version": "^0.2",
      "model_name": "NodeModel",
      "state": {
       "_id": "b901072e-508f-45d2-90ab-cab885a49d3a",
       "_model_module_version": "^0.2",
       "_view_module_version": "^0.2",
       "icon": "file",
       "name": "export_ImageCollection.py"
      }
     },
     "2e852e18daee4334a951e17a0124e987": {
      "model_module": "@jupyter-widgets/controls",
      "model_module_version": "2.0.0",
      "model_name": "ToggleButtonStyleModel",
      "state": {
       "description_width": "",
       "font_family": null,
       "font_size": null,
       "font_style": null,
       "font_variant": null,
       "font_weight": null,
       "text_color": null,
       "text_decoration": null
      }
     },
     "2ed4ad62efb941c89891153c3e7d5600": {
      "model_module": "@jupyter-widgets/controls",
      "model_module_version": "2.0.0",
      "model_name": "ToggleButtonModel",
      "state": {
       "button_style": "primary",
       "icon": "google",
       "layout": "IPY_MODEL_f9c099567f5f4989ad9b5708cbe59d34",
       "style": "IPY_MODEL_c2bb258fc7a942c18cf47056d99e0980",
       "tooltip": "GEE Toolbox for cloud computing"
      }
     },
     "2ed4d1751edb4d79825e8e73dea9e551": {
      "model_module": "ipytree",
      "model_module_version": "^0.2",
      "model_name": "NodeModel",
      "state": {
       "_id": "a4cfc686-4bfa-41df-bb9a-dda39d3626b6",
       "_model_module_version": "^0.2",
       "_view_module_version": "^0.2",
       "icon": "file",
       "name": "jrc_global_surface_water.py"
      }
     },
     "2f0088f2ca2042ccba5f0fa40000fc32": {
      "model_module": "ipytree",
      "model_module_version": "^0.2",
      "model_name": "NodeModel",
      "state": {
       "_id": "a5391074-452e-4837-b3c8-f80d4390a961",
       "_model_module_version": "^0.2",
       "_view_module_version": "^0.2",
       "icon": "file",
       "name": "styled_layer_descriptors.py"
      }
     },
     "2f2816008fd6421183601d42ca7c13b0": {
      "model_module": "@jupyter-widgets/controls",
      "model_module_version": "2.0.0",
      "model_name": "ToggleButtonModel",
      "state": {
       "button_style": "primary",
       "icon": "hand-o-up",
       "layout": "IPY_MODEL_dc859af172514abc8e35cde40fe1dc97",
       "style": "IPY_MODEL_0da18634d2534b3ab3ca7cb1729a3592",
       "tooltip": "Collect training samples"
      }
     },
     "2f32237dc52f4d8f8f086046c5af8522": {
      "model_module": "ipytree",
      "model_module_version": "^0.2",
      "model_name": "NodeModel",
      "state": {
       "_id": "4c8d3a71-6101-47f3-8475-46b01ad6b9ab",
       "_model_module_version": "^0.2",
       "_view_module_version": "^0.2",
       "icon": "file",
       "name": "select_columns.py"
      }
     },
     "2f7eb99d70874df0b55dbb53f2e54984": {
      "model_module": "ipytree",
      "model_module_version": "^0.2",
      "model_name": "NodeModel",
      "state": {
       "_id": "b00209d2-1c6e-4b9b-8fa5-944c7c82cf37",
       "_model_module_version": "^0.2",
       "_view_module_version": "^0.2",
       "name": "Vectors",
       "nodes": [
        "IPY_MODEL_eb2a338ccebe4ba39135afe539603742",
        "IPY_MODEL_1fc9999df35b43d986994d455979800e",
        "IPY_MODEL_645715b9276f4dc1b85662dea79e7e23",
        "IPY_MODEL_e5b2bcf111964207884c077b5f433546",
        "IPY_MODEL_05784118bb904490bec3511921c6fa95",
        "IPY_MODEL_ecbae7b6328c4e279dcc7a481ff0c2d8",
        "IPY_MODEL_38d32e01ccba429c871ed5352f935b81",
        "IPY_MODEL_62f3dcba969c4219b3c814e3b65f3f5e",
        "IPY_MODEL_fde8795e1bc6479e8050be40871ec3c9",
        "IPY_MODEL_2082cd72058141729ab7fbf490a24bce",
        "IPY_MODEL_40617be2599546fe978904c924569188",
        "IPY_MODEL_3889bdb5567d4bca996dc7b43d22a3b2",
        "IPY_MODEL_a963a4b5ad1d45198fc2ff8fa065cfc5",
        "IPY_MODEL_756e209392984c45a67fef600e837ba6",
        "IPY_MODEL_5648ebf47a0c481286603e3d12ac0930"
       ],
       "opened": false
      }
     },
     "303460dd88ba417fb07b260a55f5596b": {
      "model_module": "ipytree",
      "model_module_version": "^0.2",
      "model_name": "NodeModel",
      "state": {
       "_id": "d43d5708-b32e-423c-bb64-728d0af95a6a",
       "_model_module_version": "^0.2",
       "_view_module_version": "^0.2",
       "icon": "file",
       "name": "cumulative_cost_mapping.py"
      }
     },
     "3049f79506aa48399a803d400b750425": {
      "model_module": "ipytree",
      "model_module_version": "^0.2",
      "model_name": "NodeModel",
      "state": {
       "_id": "b44b0958-143b-4672-8e06-fbd49f242d9a",
       "_model_module_version": "^0.2",
       "_view_module_version": "^0.2",
       "icon": "file",
       "name": "texture.py"
      }
     },
     "30c1671a26e84b598b4e8b12d08d775c": {
      "model_module": "@jupyter-widgets/controls",
      "model_module_version": "2.0.0",
      "model_name": "ToggleButtonModel",
      "state": {
       "button_style": "primary",
       "icon": "random",
       "layout": "IPY_MODEL_58fbaf176e4b465b9f3e8aea41333091",
       "style": "IPY_MODEL_77de9760e38041339b96b673f39a4381",
       "tooltip": "Sankey plots"
      }
     },
     "30d60d4408fc4ab3a71e542310804866": {
      "model_module": "@jupyter-widgets/controls",
      "model_module_version": "2.0.0",
      "model_name": "ToggleButtonModel",
      "state": {
       "button_style": "primary",
       "icon": "random",
       "layout": "IPY_MODEL_b375bf04d39447f9bd8e63571cffdd4f",
       "style": "IPY_MODEL_71e84be579504788a567dea9e53c9d1d",
       "tooltip": "Sankey plots"
      }
     },
     "30efc697a0cf43ebb0e50b4e4ab9de98": {
      "model_module": "ipytree",
      "model_module_version": "^0.2",
      "model_name": "NodeModel",
      "state": {
       "_id": "0f5c5853-f341-4b63-ac80-6bef9ba58b89",
       "_model_module_version": "^0.2",
       "_view_module_version": "^0.2",
       "icon": "file",
       "name": "us_census_datasets.py"
      }
     },
     "31242dfc03dd4dd58746b0efafc36352": {
      "model_module": "ipytree",
      "model_module_version": "^0.2",
      "model_name": "NodeModel",
      "state": {
       "_id": "be96ff0f-5e8a-40ca-a892-d3830799bc05",
       "_model_module_version": "^0.2",
       "_view_module_version": "^0.2",
       "icon": "file",
       "name": "stats_of_image_neighborhoods.py"
      }
     },
     "3158df3258724970a029883b41f68291": {
      "model_module": "ipytree",
      "model_module_version": "^0.2",
      "model_name": "NodeModel",
      "state": {
       "_id": "24783904-7dc7-496a-b6f2-ead7062488e5",
       "_model_module_version": "^0.2",
       "_view_module_version": "^0.2",
       "name": "NAIP",
       "nodes": [
        "IPY_MODEL_0b951aa853a44c00b439af3ef72c09be",
        "IPY_MODEL_33263ba132da43d1b2329dc50ef77b09",
        "IPY_MODEL_7b540a7981d84ce885313b01fa1c28a4",
        "IPY_MODEL_995681f722854059ae421890e88a902f",
        "IPY_MODEL_f9ef72ff24534ed092a68b10cd927dae",
        "IPY_MODEL_46a6fddabeed41119fd65e4b1a5e1b41",
        "IPY_MODEL_bea50cc4ffab4699b4529352443f015d",
        "IPY_MODEL_163d8e83c4b44025a3b5f9f85f892fee",
        "IPY_MODEL_4ba1838262c0425a9fa634c10afc911f"
       ],
       "opened": false
      }
     },
     "322cb812f837482dad19e3b3cf9c5da0": {
      "model_module": "@jupyter-widgets/controls",
      "model_module_version": "2.0.0",
      "model_name": "HBoxModel",
      "state": {
       "_dom_classes": [
        "geemap-light"
       ],
       "_view_count": 1,
       "children": [
        "IPY_MODEL_b707398355bd4fd194b368dad4beaea7"
       ],
       "layout": "IPY_MODEL_acb8204de05c498ea70b53b15fd49eea"
      }
     },
     "326728e2b8de452285ff5f34a556b25f": {
      "model_module": "ipytree",
      "model_module_version": "^0.2",
      "model_name": "NodeModel",
      "state": {
       "_id": "09837151-e79a-4004-9922-f891331f5985",
       "_model_module_version": "^0.2",
       "_view_module_version": "^0.2",
       "icon": "file",
       "name": "get_band_name_and_type.py"
      }
     },
     "3287b6eb74f441e79c2c1f4eba017681": {
      "model_module": "ipytree",
      "model_module_version": "^0.2",
      "model_name": "NodeModel",
      "state": {
       "_id": "c8f8fe90-4bbb-4aa5-9cfd-191412b06603",
       "_model_module_version": "^0.2",
       "_view_module_version": "^0.2",
       "icon": "file",
       "name": "symbology.py"
      }
     },
     "32b3f60c66a4455ebfedc88f95584176": {
      "model_module": "ipytree",
      "model_module_version": "^0.2",
      "model_name": "NodeModel",
      "state": {
       "_id": "b47e58fe-6ae0-4ca7-a336-831a09f16417",
       "_model_module_version": "^0.2",
       "_view_module_version": "^0.2",
       "icon": "file",
       "name": "nwi_wetlands_symbology.py"
      }
     },
     "331ed48bc8ab4d2787d6759d6b5f8112": {
      "model_module": "ipytree",
      "model_module_version": "^0.2",
      "model_name": "NodeModel",
      "state": {
       "_id": "d5651a8e-1a21-477f-8658-85f0017abb4c",
       "_model_module_version": "^0.2",
       "_view_module_version": "^0.2",
       "icon": "file",
       "name": "04_band_math.py"
      }
     },
     "332498f0f557437bb539028a156822d1": {
      "model_module": "@jupyter-widgets/base",
      "model_module_version": "2.0.0",
      "model_name": "LayoutModel",
      "state": {}
     },
     "33263ba132da43d1b2329dc50ef77b09": {
      "model_module": "ipytree",
      "model_module_version": "^0.2",
      "model_name": "NodeModel",
      "state": {
       "_id": "9581bd87-010d-4f37-88b0-975a82e0461b",
       "_model_module_version": "^0.2",
       "_view_module_version": "^0.2",
       "icon": "file",
       "name": "filtering.py"
      }
     },
     "3327a515761d4a43bb12929c0fd97205": {
      "model_module": "ipytree",
      "model_module_version": "^0.2",
      "model_name": "NodeModel",
      "state": {
       "_id": "8f439d23-2e19-433a-9a3d-ed3a3138fef6",
       "_model_module_version": "^0.2",
       "_view_module_version": "^0.2",
       "icon": "file",
       "name": "add_new_attribute.py"
      }
     },
     "3347707856254b87b9fdc1effb72159d": {
      "model_module": "ipytree",
      "model_module_version": "^0.2",
      "model_name": "NodeModel",
      "state": {
       "_id": "94250ab4-0962-4203-870d-6e6a28f6d49c",
       "_model_module_version": "^0.2",
       "_view_module_version": "^0.2",
       "icon": "file",
       "name": "resampling.py"
      }
     },
     "33c70445ce0e4df28955b5203f09e2be": {
      "model_module": "@jupyter-widgets/controls",
      "model_module_version": "2.0.0",
      "model_name": "ToggleButtonModel",
      "state": {
       "button_style": "primary",
       "icon": "globe",
       "layout": "IPY_MODEL_dfb15cb9969d45569611ad0a37743a67",
       "style": "IPY_MODEL_b27bff15a1534c1a88f17567b8693b89",
       "tooltip": "Create timelapse"
      }
     },
     "33cb6b9d3fdb4728b648a894f8a983a1": {
      "model_module": "ipytree",
      "model_module_version": "^0.2",
      "model_name": "NodeModel",
      "state": {
       "_id": "79db55ff-5671-4ea6-965d-71d5267b6bcf",
       "_model_module_version": "^0.2",
       "_view_module_version": "^0.2",
       "icon": "file",
       "name": "inverted_joins.py"
      }
     },
     "340b70b6c0974cf1b7911fad7a734c06": {
      "model_module": "@jupyter-widgets/controls",
      "model_module_version": "2.0.0",
      "model_name": "ButtonModel",
      "state": {
       "button_style": "primary",
       "description": "Clone",
       "layout": "IPY_MODEL_776074a8d4864ef29e8ecb525c0e30fe",
       "style": "IPY_MODEL_baa1d3eb7ebe4d36813a471154ecaf82",
       "tooltip": "Clone the repository to folder."
      }
     },
     "35448d3aa56a4dd8b7ff432afb8e6186": {
      "model_module": "ipytree",
      "model_module_version": "^0.2",
      "model_name": "NodeModel",
      "state": {
       "_id": "aed90544-0b2c-4ea4-be23-f861e1c39109",
       "_model_module_version": "^0.2",
       "_view_module_version": "^0.2",
       "icon": "file",
       "name": "expressions.py"
      }
     },
     "354f729a80f64816951d76d0050e47a3": {
      "model_module": "@jupyter-widgets/base",
      "model_module_version": "2.0.0",
      "model_name": "LayoutModel",
      "state": {}
     },
     "359070027f32435f825643a9304c7904": {
      "model_module": "ipytree",
      "model_module_version": "^0.2",
      "model_name": "NodeModel",
      "state": {
       "_id": "755fe789-ba12-4fbe-8c66-1640590ceab9",
       "_model_module_version": "^0.2",
       "_view_module_version": "^0.2",
       "icon": "file",
       "name": "add_new_attribute.py"
      }
     },
     "364e9bad74bf45d0b5ca37032c779c0f": {
      "model_module": "jupyter-leaflet",
      "model_module_version": "^0.18",
      "model_name": "LeafletAttributionControlModel",
      "state": {
       "_model_module_version": "^0.18",
       "_view_module_version": "^0.18",
       "options": [
        "position",
        "prefix"
       ],
       "position": "bottomright",
       "prefix": "ipyleaflet"
      }
     },
     "3684bfa11070413a8cd094e9cc0b3844": {
      "model_module": "ipytree",
      "model_module_version": "^0.2",
      "model_name": "NodeModel",
      "state": {
       "_id": "96c42514-1446-4e57-b8ce-e64ff941bca2",
       "_model_module_version": "^0.2",
       "_view_module_version": "^0.2",
       "icon": "file",
       "name": "alos_landforms.py"
      }
     },
     "37078acd9e944e30bba401dfb06a6ddb": {
      "model_module": "ipytree",
      "model_module_version": "^0.2",
      "model_name": "NodeModel",
      "state": {
       "_id": "26570e8a-79d8-4798-809f-8dc5bb1689d0",
       "_model_module_version": "^0.2",
       "_view_module_version": "^0.2",
       "icon": "file",
       "name": "get_image_id.py"
      }
     },
     "370bba18dead413ba60a1c7fb9517ebe": {
      "model_module": "@jupyter-widgets/controls",
      "model_module_version": "2.0.0",
      "model_name": "ToggleButtonModel",
      "state": {
       "button_style": "primary",
       "icon": "line-chart",
       "layout": "IPY_MODEL_38ed00d18f354c82ac3264fe8a19381d",
       "style": "IPY_MODEL_2e852e18daee4334a951e17a0124e987",
       "tooltip": "Creating and plotting transects"
      }
     },
     "3720926e019944b1abc893698862186c": {
      "model_module": "ipytree",
      "model_module_version": "^0.2",
      "model_name": "NodeModel",
      "state": {
       "_id": "516baf6c-336a-4462-bd63-a23625a7533a",
       "_model_module_version": "^0.2",
       "_view_module_version": "^0.2",
       "icon": "file",
       "name": "select_bands.py"
      }
     },
     "3741178b19b943faa2d6620e824c5028": {
      "model_module": "ipytree",
      "model_module_version": "^0.2",
      "model_name": "NodeModel",
      "state": {
       "_id": "a8554994-058e-4656-ab10-31fa0b19e021",
       "_model_module_version": "^0.2",
       "_view_module_version": "^0.2",
       "icon": "file",
       "name": "band_stats.py"
      }
     },
     "3787513c19274e80b0183b37b4fba1c5": {
      "model_module": "ipytree",
      "model_module_version": "^0.2",
      "model_name": "NodeModel",
      "state": {
       "_id": "9bef25ef-c02d-45bf-8634-cc4e4f89ae98",
       "_model_module_version": "^0.2",
       "_view_module_version": "^0.2",
       "icon": "file",
       "name": "spatial_joins.py"
      }
     },
     "37d28986f4c94c6ca4b3dcc2ef41a136": {
      "model_module": "ipytree",
      "model_module_version": "^0.2",
      "model_name": "NodeModel",
      "state": {
       "_id": "4a0dc3d3-c3ac-45cc-9ee1-33ab32322e4a",
       "_model_module_version": "^0.2",
       "_view_module_version": "^0.2",
       "icon": "file",
       "name": "resampling.py"
      }
     },
     "3813d491d5a14739ba2e8a84f7eb62c9": {
      "model_module": "ipytree",
      "model_module_version": "^0.2",
      "model_name": "NodeModel",
      "state": {
       "_id": "7aa6fca1-1461-4a30-99a6-1c5ab039518d",
       "_model_module_version": "^0.2",
       "_view_module_version": "^0.2",
       "icon": "file",
       "name": "get_image_centroid.py"
      }
     },
     "383d04a292ae43e3876a5bf7c4b5eab0": {
      "model_module": "@jupyter-widgets/base",
      "model_module_version": "2.0.0",
      "model_name": "LayoutModel",
      "state": {}
     },
     "3841781d3a664aed982a2063e868871e": {
      "model_module": "ipytree",
      "model_module_version": "^0.2",
      "model_name": "NodeModel",
      "state": {
       "_id": "bc7cbe2f-ed3c-4f5b-a4a3-c5ec658438ec",
       "_model_module_version": "^0.2",
       "_view_module_version": "^0.2",
       "icon": "file",
       "name": "connected_pixel_count.py"
      }
     },
     "3889bdb5567d4bca996dc7b43d22a3b2": {
      "model_module": "ipytree",
      "model_module_version": "^0.2",
      "model_name": "NodeModel",
      "state": {
       "_id": "a6777366-bba3-4c6b-83c9-19b0a6dee1ce",
       "_model_module_version": "^0.2",
       "_view_module_version": "^0.2",
       "icon": "file",
       "name": "us_census_zip_code.py"
      }
     },
     "389a9f1417de4ca7a4232ca597d354e1": {
      "model_module": "@jupyter-widgets/base",
      "model_module_version": "2.0.0",
      "model_name": "LayoutModel",
      "state": {}
     },
     "38d32e01ccba429c871ed5352f935b81": {
      "model_module": "ipytree",
      "model_module_version": "^0.2",
      "model_name": "NodeModel",
      "state": {
       "_id": "3d5ae6cd-e424-46ec-9995-a12ccd1a2753",
       "_model_module_version": "^0.2",
       "_view_module_version": "^0.2",
       "icon": "file",
       "name": "us_census_counties.py"
      }
     },
     "38ed00d18f354c82ac3264fe8a19381d": {
      "model_module": "@jupyter-widgets/base",
      "model_module_version": "2.0.0",
      "model_name": "LayoutModel",
      "state": {
       "height": "auto",
       "padding": "0px 0px 0px 4px",
       "width": "auto"
      }
     },
     "38f312e8ba604adfb2966f23cd06146b": {
      "model_module": "jupyter-leaflet",
      "model_module_version": "^0.18",
      "model_name": "LeafletWidgetControlModel",
      "state": {
       "_model_module": "jupyter-leaflet",
       "_model_module_version": "^0.18",
       "_view_count": null,
       "_view_module": "jupyter-leaflet",
       "_view_module_version": "^0.18",
       "options": [
        "position",
        "transparent_bg"
       ],
       "position": "topleft",
       "widget": "IPY_MODEL_322cb812f837482dad19e3b3cf9c5da0"
      }
     },
     "3909ec2227274e68ae5ae3685d158a21": {
      "model_module": "@jupyter-widgets/base",
      "model_module_version": "2.0.0",
      "model_name": "LayoutModel",
      "state": {
       "height": "600px",
       "width": "630px"
      }
     },
     "39596619cf3d499aa96efe1afb30f8d7": {
      "model_module": "ipytree",
      "model_module_version": "^0.2",
      "model_name": "NodeModel",
      "state": {
       "_id": "601ae06e-10a1-4288-a058-cdc39f620591",
       "_model_module_version": "^0.2",
       "_view_module_version": "^0.2",
       "icon": "file",
       "name": "srtm.py"
      }
     },
     "395c35d1dcdd42c7abd14606cc940f57": {
      "model_module": "ipytree",
      "model_module_version": "^0.2",
      "model_name": "NodeModel",
      "state": {
       "_id": "41ff5382-db67-4d2f-b030-51928a9818e6",
       "_model_module_version": "^0.2",
       "_view_module_version": "^0.2",
       "icon": "file",
       "name": "image_smoothing.py"
      }
     },
     "3a4ce8f9aec140628fd7100dec7985c2": {
      "model_module": "ipytree",
      "model_module_version": "^0.2",
      "model_name": "NodeModel",
      "state": {
       "_id": "34d301a3-9648-43c4-928f-7ab9909a87d5",
       "_model_module_version": "^0.2",
       "_view_module_version": "^0.2",
       "icon": "file",
       "name": "hough_transform.py"
      }
     },
     "3b59a79e9f54487586d0e457bf1eafb1": {
      "model_module": "ipytree",
      "model_module_version": "^0.2",
      "model_name": "NodeModel",
      "state": {
       "_id": "ddee637e-1310-4002-b489-9ef69524a05f",
       "_model_module_version": "^0.2",
       "_view_module_version": "^0.2",
       "icon": "file",
       "name": "ndwi_single.py"
      }
     },
     "3b91b90492dc4076840ab10a4db26ff2": {
      "model_module": "ipytree",
      "model_module_version": "^0.2",
      "model_name": "NodeModel",
      "state": {
       "_id": "89999152-7502-4b03-80be-f2b60d04a814",
       "_model_module_version": "^0.2",
       "_view_module_version": "^0.2",
       "icon": "file",
       "name": "find_image_by_path_row.py"
      }
     },
     "3bb28996fc3249c3b366fa040b2881a7": {
      "model_module": "ipytree",
      "model_module_version": "^0.2",
      "model_name": "NodeModel",
      "state": {
       "_id": "53fe9fc3-1a9d-4d18-b796-3e98d59703e9",
       "_model_module_version": "^0.2",
       "_view_module_version": "^0.2",
       "name": "Water",
       "nodes": [
        "IPY_MODEL_2623ef3c1601464a8a57d0e40db0f4ec",
        "IPY_MODEL_2ed4d1751edb4d79825e8e73dea9e551",
        "IPY_MODEL_fe1613107eea42239ba09e9745ecbe4f",
        "IPY_MODEL_4b531e47e3a04a2d9ab09228039c4339",
        "IPY_MODEL_76450e673d6443158d5cc733a5e3fc36",
        "IPY_MODEL_d7182642f88c483197aa47c8cf6bdc97",
        "IPY_MODEL_7f637695b47e41718666d67a0e873cb2"
       ],
       "opened": false
      }
     },
     "3bd1ff1e5d1042e59b131fbb2f7b168f": {
      "model_module": "ipytree",
      "model_module_version": "^0.2",
      "model_name": "NodeModel",
      "state": {
       "_id": "909b0525-efce-4ca7-8d90-8ebcb42fde55",
       "_model_module_version": "^0.2",
       "_view_module_version": "^0.2",
       "icon": "file",
       "name": "README.md"
      }
     },
     "3be9341a10ea4ac890463f22009b94f5": {
      "model_module": "@jupyter-widgets/controls",
      "model_module_version": "2.0.0",
      "model_name": "TextStyleModel",
      "state": {
       "description_width": "",
       "font_size": null,
       "text_color": null
      }
     },
     "3bf852b9b37f4d3db8248b23659e5d16": {
      "model_module": "ipytree",
      "model_module_version": "^0.2",
      "model_name": "NodeModel",
      "state": {
       "_id": "715e6163-0d8b-41b8-9132-af6e759d5c2b",
       "_model_module_version": "^0.2",
       "_view_module_version": "^0.2",
       "name": "Algorithms",
       "nodes": [
        "IPY_MODEL_80914ec9cf444e1cb10c0036bd2cefe4",
        "IPY_MODEL_c2460a05116e4d9a82b442554563f5bc",
        "IPY_MODEL_ea4dba46430243bcb3579f9c22e3f7f2",
        "IPY_MODEL_f490c81b91a84a0d80d38e0adecf4d37",
        "IPY_MODEL_5f6613b231794b4fb4b1359ea940049a",
        "IPY_MODEL_6ed89f9f2fa249b6b034b5d80c963966",
        "IPY_MODEL_f7f15119c4454976a7213a59a1d8324b",
        "IPY_MODEL_a47534666611487988d1d5b8f9803e8d",
        "IPY_MODEL_3347707856254b87b9fdc1effb72159d",
        "IPY_MODEL_786cae337eed49cb8db2396618193c39",
        "IPY_MODEL_28b0b6d374fb48f883c50e8ceceb5ecc",
        "IPY_MODEL_cc4434275e09481ba12b2b02ba95efd6",
        "IPY_MODEL_5f0dcb4ba15e4178b4996011409afdc3"
       ],
       "opened": false
      }
     },
     "3c08a559dc1045d2b4cc47af2c313781": {
      "model_module": "jupyter-leaflet",
      "model_module_version": "^0.18",
      "model_name": "LeafletMapStyleModel",
      "state": {
       "_model_module_version": "^0.18",
       "cursor": "move"
      }
     },
     "3c6e248d75d64a41b9a76fcc547b7573": {
      "model_module": "@jupyter-widgets/controls",
      "model_module_version": "2.0.0",
      "model_name": "TextModel",
      "state": {
       "layout": "IPY_MODEL_a319b747b948464bbfca494941ccca2d",
       "placeholder": "Filter scripts...",
       "style": "IPY_MODEL_599c8fb153134d75a6b039a216b596c6"
      }
     },
     "3c813064e98b4ce18afcfad4376ce419": {
      "model_module": "ipytree",
      "model_module_version": "^0.2",
      "model_name": "NodeModel",
      "state": {
       "_id": "023f80cb-d3af-4e91-b963-c822bb5dcea2",
       "_model_module_version": "^0.2",
       "_view_module_version": "^0.2",
       "icon": "file",
       "name": "01_hello_world.py"
      }
     },
     "3cc1cca87b614889a52f0465629de4db": {
      "model_module": "ipytree",
      "model_module_version": "^0.2",
      "model_name": "NodeModel",
      "state": {
       "_id": "c9177d98-3999-406c-b6f0-2605a063142b",
       "_model_module_version": "^0.2",
       "_view_module_version": "^0.2",
       "icon": "file",
       "name": "linear_regression.py"
      }
     },
     "3cfe5560414b44b8b1d8fdfc510c9490": {
      "model_module": "@jupyter-widgets/controls",
      "model_module_version": "2.0.0",
      "model_name": "ToggleButtonModel",
      "state": {
       "button_style": "primary",
       "icon": "google",
       "layout": "IPY_MODEL_cd2f825b242d43e08d43ff0c633f5ec9",
       "style": "IPY_MODEL_f4a75ab831b544d88e2470fddeab908e",
       "tooltip": "GEE Toolbox for cloud computing"
      }
     },
     "3dbd9f11e9ca45019bbc5a636f420b0a": {
      "model_module": "@jupyter-widgets/controls",
      "model_module_version": "2.0.0",
      "model_name": "ToggleButtonStyleModel",
      "state": {
       "description_width": "",
       "font_family": null,
       "font_size": null,
       "font_style": null,
       "font_variant": null,
       "font_weight": null,
       "text_color": null,
       "text_decoration": null
      }
     },
     "3dda974d5230465ea6887721a8cd9475": {
      "model_module": "ipytree",
      "model_module_version": "^0.2",
      "model_name": "NodeModel",
      "state": {
       "_id": "d093dfc4-3723-4cea-a338-5cb529a4a96a",
       "_model_module_version": "^0.2",
       "_view_module_version": "^0.2",
       "icon": "file",
       "name": "get_properties.py"
      }
     },
     "3e62804f71804ecdaa39fa3bb689d6a8": {
      "model_module": "@jupyter-widgets/base",
      "model_module_version": "2.0.0",
      "model_name": "LayoutModel",
      "state": {}
     },
     "3e9ac6250b8c497d9fd83079d5fce8c6": {
      "model_module": "jupyter-leaflet",
      "model_module_version": "^0.18",
      "model_name": "LeafletTileLayerModel",
      "state": {
       "_model_module_version": "^0.18",
       "_view_module_version": "^0.18",
       "attribution": "&copy; <a href=\"https://www.openstreetmap.org/copyright\">OpenStreetMap</a> contributors",
       "base": true,
       "max_zoom": 19,
       "min_zoom": 1,
       "name": "OpenStreetMap.Mapnik",
       "options": [
        "attribution",
        "bounds",
        "detect_retina",
        "max_native_zoom",
        "max_zoom",
        "min_native_zoom",
        "min_zoom",
        "no_wrap",
        "tile_size",
        "tms",
        "zoom_offset"
       ],
       "url": "https://tile.openstreetmap.org/{z}/{x}/{y}.png"
      }
     },
     "3f19c7c278e849158d44958ed7cd423b": {
      "model_module": "@jupyter-widgets/controls",
      "model_module_version": "2.0.0",
      "model_name": "TextStyleModel",
      "state": {
       "description_width": "",
       "font_size": null,
       "text_color": null
      }
     },
     "3f29e267d8324ad1860ef04ca108ddb5": {
      "model_module": "ipytree",
      "model_module_version": "^0.2",
      "model_name": "NodeModel",
      "state": {
       "_id": "d5abaaef-b7b3-4fd6-a4ac-34f9f7c303f3",
       "_model_module_version": "^0.2",
       "_view_module_version": "^0.2",
       "icon": "file",
       "name": "image_stats_by_band.py"
      }
     },
     "3f55099de6ab406f9f2e7a87b4a001dd": {
      "model_module": "@jupyter-widgets/base",
      "model_module_version": "2.0.0",
      "model_name": "LayoutModel",
      "state": {
       "height": "auto",
       "padding": "0px 0px 0px 4px",
       "width": "auto"
      }
     },
     "401ed4785be04c4aaebde612a2eae62f": {
      "model_module": "ipytree",
      "model_module_version": "^0.2",
      "model_name": "NodeModel",
      "state": {
       "_id": "8e6451e3-cdd8-4286-978e-3f0f966b8114",
       "_model_module_version": "^0.2",
       "_view_module_version": "^0.2",
       "icon": "file",
       "name": "hsv_pan_sharpen.py"
      }
     },
     "40617be2599546fe978904c924569188": {
      "model_module": "ipytree",
      "model_module_version": "^0.2",
      "model_name": "NodeModel",
      "state": {
       "_id": "b43239eb-1bc0-4b3b-990b-6e88c5cdae79",
       "_model_module_version": "^0.2",
       "_view_module_version": "^0.2",
       "icon": "file",
       "name": "us_census_tracts.py"
      }
     },
     "40cc9e5d5df549919291277afd6989d3": {
      "model_module": "ipytree",
      "model_module_version": "^0.2",
      "model_name": "NodeModel",
      "state": {
       "_id": "5a289482-8553-413e-a8ff-b1a559280223",
       "_model_module_version": "^0.2",
       "_view_module_version": "^0.2",
       "icon": "file",
       "name": "get_image_centroid.py"
      }
     },
     "40ea3dc6e20c4d948756942278b05e3c": {
      "model_module": "ipytree",
      "model_module_version": "^0.2",
      "model_name": "NodeModel",
      "state": {
       "_id": "11651f1d-49d6-458f-a15c-04f9c6998da1",
       "_model_module_version": "^0.2",
       "_view_module_version": "^0.2",
       "icon": "file",
       "name": "image_stretch.py"
      }
     },
     "412fbef4173146159e95a7a2ca51f8e2": {
      "model_module": "@jupyter-widgets/base",
      "model_module_version": "2.0.0",
      "model_name": "LayoutModel",
      "state": {
       "height": "auto",
       "padding": "0px 0px 0px 4px",
       "width": "auto"
      }
     },
     "41567742ce1141ddb01d6e4fde1b60fc": {
      "model_module": "ipytree",
      "model_module_version": "^0.2",
      "model_name": "NodeModel",
      "state": {
       "_id": "5dc1b54f-df3a-4301-8157-23ab37128537",
       "_model_module_version": "^0.2",
       "_view_module_version": "^0.2",
       "icon": "file",
       "name": "convert_bands_to_image_collection.py"
      }
     },
     "416dfd3449494df3a81fc2f014789c31": {
      "model_module": "@jupyter-widgets/controls",
      "model_module_version": "2.0.0",
      "model_name": "HBoxModel",
      "state": {
       "children": [
        "IPY_MODEL_84a4506b995e4e6c952f60d188118677",
        "IPY_MODEL_0f60f08c08e7498b842da1665fd54dbe",
        "IPY_MODEL_fb723d2a201746e3832b9d7776bc89fd"
       ],
       "layout": "IPY_MODEL_52f53edea8bc407f9ef5b7b76627e7d3"
      }
     },
     "416ed4b7039e4700903fdbbc74563b7c": {
      "model_module": "@jupyter-widgets/base",
      "model_module_version": "2.0.0",
      "model_name": "LayoutModel",
      "state": {
       "height": "auto",
       "padding": "0px 0px 0px 4px",
       "width": "auto"
      }
     },
     "41ea8e810e40428993ab98979a172843": {
      "model_module": "@jupyter-widgets/controls",
      "model_module_version": "2.0.0",
      "model_name": "RadioButtonsModel",
      "state": {
       "index": null,
       "layout": "IPY_MODEL_ef06a49a2ee64863b6c1c0bf31ae2465",
       "style": "IPY_MODEL_7b89b542aadc4b398d135127c3eb3d9e"
      }
     },
     "422145419eed4ee8ae6e7f20137ac444": {
      "model_module": "ipytree",
      "model_module_version": "^0.2",
      "model_name": "NodeModel",
      "state": {
       "_id": "c3904d8d-6851-41e5-998c-9770eb6a8517",
       "_model_module_version": "^0.2",
       "_view_module_version": "^0.2",
       "icon": "file",
       "name": "reverse_mask.py"
      }
     },
     "4224ecd1b9224e5fa2d6c79ed31c05f9": {
      "model_module": "ipytree",
      "model_module_version": "^0.2",
      "model_name": "NodeModel",
      "state": {
       "_id": "d81d68ca-93c2-483b-b0f3-e690af625345",
       "_model_module_version": "^0.2",
       "_view_module_version": "^0.2",
       "icon": "file",
       "name": "loop_FeatureCollection.py"
      }
     },
     "4230461cc3c04c3cbb494ec84edb3b71": {
      "model_module": "@jupyter-widgets/controls",
      "model_module_version": "2.0.0",
      "model_name": "ToggleButtonsModel",
      "state": {
       "_options_labels": [
        "name/address",
        "lat-lon",
        "data"
       ],
       "button_style": "",
       "icons": [],
       "index": 0,
       "layout": "IPY_MODEL_816babf3dc90450ba4ffc2b98a97e7f7",
       "style": "IPY_MODEL_48685b4c653b4f5bbf048cd9d5c8815b",
       "tooltips": [
        "Search by place name or address",
        "Search by lat-lon coordinates",
        "Search Earth Engine data catalog"
       ]
      }
     },
     "429ba2ddf6b04c6da9d253c98d1c5b4c": {
      "model_module": "ipytree",
      "model_module_version": "^0.2",
      "model_name": "NodeModel",
      "state": {
       "_id": "0351756a-1005-4e61-8a74-b1517de7613a",
       "_model_module_version": "^0.2",
       "_view_module_version": "^0.2",
       "icon": "file",
       "name": "get_image_id.py"
      }
     },
     "42e4bfdf4b344c979e2cd7c5d878630e": {
      "model_module": "ipytree",
      "model_module_version": "^0.2",
      "model_name": "NodeModel",
      "state": {
       "_id": "53072964-bfdc-4550-8084-4361731964c3",
       "_model_module_version": "^0.2",
       "_view_module_version": "^0.2",
       "icon": "file",
       "name": "using_weights.py"
      }
     },
     "43676ed37d2248d1a1ac344dbc767599": {
      "model_module": "ipytree",
      "model_module_version": "^0.2",
      "model_name": "NodeModel",
      "state": {
       "_id": "40d1a634-884f-4cc1-9477-ecfcc9abe133",
       "_model_module_version": "^0.2",
       "_view_module_version": "^0.2",
       "icon": "file",
       "name": "band_math.py"
      }
     },
     "4413684e1ace460097533e6c6dc908a0": {
      "model_module": "ipytree",
      "model_module_version": "^0.2",
      "model_name": "NodeModel",
      "state": {
       "_id": "fa715b97-c6f4-44be-9940-95fe2a7c3a10",
       "_model_module_version": "^0.2",
       "_view_module_version": "^0.2",
       "name": "GetStarted",
       "nodes": [
        "IPY_MODEL_3c813064e98b4ce18afcfad4376ce419",
        "IPY_MODEL_4839609054a34bb4868752e56bf72ca3",
        "IPY_MODEL_19dc5c70302947ba925967349dec8e62",
        "IPY_MODEL_6d92b96518674965a190fc75676728e2",
        "IPY_MODEL_b724cfa24e79401686e870c2cde1e586",
        "IPY_MODEL_748ee17dd0bf4940b9e47a063cdaae91",
        "IPY_MODEL_c5634515d05942d6803cdcf1ae3c4ee6",
        "IPY_MODEL_ee0624123817448ab71da43524c8724b",
        "IPY_MODEL_d8f97e7858a74d729afb63e8d0b96f32"
       ],
       "opened": false
      }
     },
     "44373200a671450981f5c10f7c30d22b": {
      "model_module": "ipytree",
      "model_module_version": "^0.2",
      "model_name": "NodeModel",
      "state": {
       "_id": "2772dfcb-31bc-4af5-b4a3-c0b359416dcb",
       "_model_module_version": "^0.2",
       "_view_module_version": "^0.2",
       "name": "Visualization",
       "nodes": [
        "IPY_MODEL_e0bb2aefcd5a419ab689f29330818670",
        "IPY_MODEL_49ee7b0d660a453fae7b0281a189b87a",
        "IPY_MODEL_a3faf26da5d445d2afb69333829972d1",
        "IPY_MODEL_72314e8883894634aab6b041cc0c9f4a",
        "IPY_MODEL_cec1b6f2d2974f00805d6c781824584b",
        "IPY_MODEL_28bddf9517fb497f8bd2890822476df4",
        "IPY_MODEL_e4ec5d33346f481ba968113204ff3c1d",
        "IPY_MODEL_40ea3dc6e20c4d948756942278b05e3c",
        "IPY_MODEL_d55bd9657746428e92c3114dce77abda",
        "IPY_MODEL_17e1880f785844c79dbd81111544edaf",
        "IPY_MODEL_969a4d4759f64f688475ca3fadaf43f9",
        "IPY_MODEL_db4d933512404316a0ef42b9a92c938e",
        "IPY_MODEL_6be0fbb36e1c43e1b60c3796989db8d0",
        "IPY_MODEL_0682a49d7df04285b1622b23453110a2",
        "IPY_MODEL_149840f2ab6a4c9580a04780afcfa48a",
        "IPY_MODEL_96c82230c1ec4777a711da90b260b2ee",
        "IPY_MODEL_2f0088f2ca2042ccba5f0fa40000fc32",
        "IPY_MODEL_7cf29e3d66c04d5ba1e1f12264d71f6f",
        "IPY_MODEL_819c7cd0203a4fa583d6033b50b7ead0",
        "IPY_MODEL_287bc31abb52434c9aee7e8edc6ce34a",
        "IPY_MODEL_859359a4f12549b097e8b31c6d32403e"
       ],
       "opened": false
      }
     },
     "449ca5e4c156466087218b2699d71a97": {
      "model_module": "ipytree",
      "model_module_version": "^0.2",
      "model_name": "NodeModel",
      "state": {
       "_id": "1547271f-f32c-4a09-90b1-7859f4ebef7f",
       "_model_module_version": "^0.2",
       "_view_module_version": "^0.2",
       "icon": "file",
       "name": "vector_symbology.py"
      }
     },
     "451819981f5b4181b46c8f6a795108e0": {
      "model_module": "@jupyter-widgets/base",
      "model_module_version": "2.0.0",
      "model_name": "LayoutModel",
      "state": {}
     },
     "458ab99429df4d969ba3a34079d2e40d": {
      "model_module": "ipytree",
      "model_module_version": "^0.2",
      "model_name": "NodeModel",
      "state": {
       "_id": "eb5a9716-0050-42b9-98ee-80f84abb69eb",
       "_model_module_version": "^0.2",
       "_view_module_version": "^0.2",
       "icon": "file",
       "name": "convert_vector_to_raster.py"
      }
     },
     "45ae4f0775604b17aa16133cfe10edfe": {
      "model_module": "ipytree",
      "model_module_version": "^0.2",
      "model_name": "NodeModel",
      "state": {
       "_id": "42be2deb-66d2-4347-8028-e66955d9c523",
       "_model_module_version": "^0.2",
       "_view_module_version": "^0.2",
       "icon": "file",
       "name": "map_function.py"
      }
     },
     "4637fe2e8949456497f6d3f39ca0f882": {
      "model_module": "@jupyter-widgets/base",
      "model_module_version": "2.0.0",
      "model_name": "LayoutModel",
      "state": {
       "height": "auto",
       "padding": "0px 0px 0px 4px",
       "width": "auto"
      }
     },
     "46a6fddabeed41119fd65e4b1a5e1b41": {
      "model_module": "ipytree",
      "model_module_version": "^0.2",
      "model_name": "NodeModel",
      "state": {
       "_id": "d9ef1d7d-4760-4fbf-80a7-3cbd2b5995d1",
       "_model_module_version": "^0.2",
       "_view_module_version": "^0.2",
       "icon": "file",
       "name": "ndwi.py"
      }
     },
     "46f3fed8b88241a3afbf5939f7918cab": {
      "model_module": "ipytree",
      "model_module_version": "^0.2",
      "model_name": "NodeModel",
      "state": {
       "_id": "a29b5ce8-9175-4502-b8e2-883e0002816a",
       "_model_module_version": "^0.2",
       "_view_module_version": "^0.2",
       "icon": "file",
       "name": "save_best_joins.py"
      }
     },
     "473bb72ff1284213a1dc83c50097d9e1": {
      "model_module": "ipytree",
      "model_module_version": "^0.2",
      "model_name": "NodeModel",
      "state": {
       "_id": "728e357a-0c57-4a83-8094-ff332d03d0f0",
       "_model_module_version": "^0.2",
       "_view_module_version": "^0.2",
       "icon": "file",
       "name": "palettes-test-crameri-dem.py"
      }
     },
     "4761479b814c4ac19f784c1ff6234672": {
      "model_module": "@jupyter-widgets/controls",
      "model_module_version": "2.0.0",
      "model_name": "ToggleButtonModel",
      "state": {
       "button_style": "primary",
       "icon": "question",
       "layout": "IPY_MODEL_11f9399a68e0412c94221b50d1c1a094",
       "style": "IPY_MODEL_d43754ab0b5046f8b6434532455eec38",
       "tooltip": "Get help"
      }
     },
     "47718659c7824890ae9b35f34462975c": {
      "model_module": "ipytree",
      "model_module_version": "^0.2",
      "model_name": "NodeModel",
      "state": {
       "_id": "f332b1d0-e576-40c7-9aa1-513945256567",
       "_model_module_version": "^0.2",
       "_view_module_version": "^0.2",
       "icon": "file",
       "name": "filter_neq.py"
      }
     },
     "478de941ae5a450a83ce45c271ee51e3": {
      "model_module": "ipytree",
      "model_module_version": "^0.2",
      "model_name": "NodeModel",
      "state": {
       "_id": "deee9e45-8bf8-4e59-bdba-7d1c5d709a15",
       "_model_module_version": "^0.2",
       "_view_module_version": "^0.2",
       "icon": "file",
       "name": "map_get_bounds.py"
      }
     },
     "4810b1b31ce2495a9633d644342c3d86": {
      "model_module": "ipytree",
      "model_module_version": "^0.2",
      "model_name": "NodeModel",
      "state": {
       "_id": "5939c585-5b33-4b23-b446-c86562225956",
       "_model_module_version": "^0.2",
       "_view_module_version": "^0.2",
       "icon": "file",
       "name": "alos_global_dsm.py"
      }
     },
     "4839609054a34bb4868752e56bf72ca3": {
      "model_module": "ipytree",
      "model_module_version": "^0.2",
      "model_name": "NodeModel",
      "state": {
       "_id": "43e46e40-f242-4433-93df-93ee3494ab03",
       "_model_module_version": "^0.2",
       "_view_module_version": "^0.2",
       "icon": "file",
       "name": "02_adding_data_to_qgis.py"
      }
     },
     "48634c2a4449402ea7e708c33e43dd8f": {
      "model_module": "@jupyter-widgets/base",
      "model_module_version": "2.0.0",
      "model_name": "LayoutModel",
      "state": {}
     },
     "48685b4c653b4f5bbf048cd9d5c8815b": {
      "model_module": "@jupyter-widgets/controls",
      "model_module_version": "2.0.0",
      "model_name": "ToggleButtonsStyleModel",
      "state": {
       "button_width": "110px",
       "description_width": ""
      }
     },
     "4889baa1a88948ea946da775271c8398": {
      "model_module": "ipytree",
      "model_module_version": "^0.2",
      "model_name": "NodeModel",
      "state": {
       "_id": "8e1d0535-c93d-4376-9658-779ca4a160af",
       "_model_module_version": "^0.2",
       "_view_module_version": "^0.2",
       "name": "HowEarthEngineWorks",
       "nodes": [
        "IPY_MODEL_b836a9dee09842299cc1c7eeac8e916e",
        "IPY_MODEL_df9dd2d693774d3898539a9ff116d7cf",
        "IPY_MODEL_d310feebce57476da7c0d3eae5b0f824"
       ],
       "opened": false
      }
     },
     "489ab4c3a70645b2b8f3a44c236212b8": {
      "model_module": "ipytree",
      "model_module_version": "^0.2",
      "model_name": "NodeModel",
      "state": {
       "_id": "ae80950a-2f0d-43b4-ba05-7b0bc1623874",
       "_model_module_version": "^0.2",
       "_view_module_version": "^0.2",
       "icon": "file",
       "name": "stats_of_image_regions.py"
      }
     },
     "48b6954dbd60453890f8c2a3781f3204": {
      "model_module": "ipytree",
      "model_module_version": "^0.2",
      "model_name": "NodeModel",
      "state": {
       "_id": "6765c025-024e-41d0-9f77-c2938d5243a7",
       "_model_module_version": "^0.2",
       "_view_module_version": "^0.2",
       "icon": "file",
       "name": "quality_mosaic.py"
      }
     },
     "4981f9348c5e4e888035f7a311771f8c": {
      "model_module": "ipytree",
      "model_module_version": "^0.2",
      "model_name": "NodeModel",
      "state": {
       "_id": "5020faa5-0e86-4956-a140-969c77ebadea",
       "_model_module_version": "^0.2",
       "_view_module_version": "^0.2",
       "icon": "file",
       "name": "pixel_lon_lat.py"
      }
     },
     "49a23da0fa624113af55eba3945f4289": {
      "model_module": "ipytree",
      "model_module_version": "^0.2",
      "model_name": "NodeModel",
      "state": {
       "_id": "d7736f0c-7833-4d58-b7c3-a7bd1d244364",
       "_model_module_version": "^0.2",
       "_view_module_version": "^0.2",
       "icon": "file",
       "name": "landsat_simple_composite.py"
      }
     },
     "49ab5a6cfc9849239628169d977b9b61": {
      "model_module": "ipytree",
      "model_module_version": "^0.2",
      "model_name": "NodeModel",
      "state": {
       "_id": "342eca30-b697-47ef-9d78-5fd759185f8b",
       "_model_module_version": "^0.2",
       "_view_module_version": "^0.2",
       "icon": "file",
       "name": "srtm.py"
      }
     },
     "49ee7b0d660a453fae7b0281a189b87a": {
      "model_module": "ipytree",
      "model_module_version": "^0.2",
      "model_name": "NodeModel",
      "state": {
       "_id": "0dea1ab5-e3be-4e3c-af08-76bd0fc91e22",
       "_model_module_version": "^0.2",
       "_view_module_version": "^0.2",
       "icon": "file",
       "name": "hillshade.py"
      }
     },
     "4a13b6285f3146ad8b8a226bd885799f": {
      "model_module": "@jupyter-widgets/controls",
      "model_module_version": "2.0.0",
      "model_name": "HTMLStyleModel",
      "state": {
       "description_width": "",
       "font_size": null,
       "text_color": null
      }
     },
     "4a1e0259ed3d42f99917470a76c6f2ac": {
      "model_module": "ipytree",
      "model_module_version": "^0.2",
      "model_name": "NodeModel",
      "state": {
       "_id": "bdcde8a8-91e6-409f-949d-b23e93a20eb7",
       "_model_module_version": "^0.2",
       "_view_module_version": "^0.2",
       "icon": "file",
       "name": "landsat_simple_composite.py"
      }
     },
     "4a3525e4918245cbaa92a6d0eab1ae6d": {
      "model_module": "@jupyter-widgets/controls",
      "model_module_version": "2.0.0",
      "model_name": "ToggleButtonModel",
      "state": {
       "button_style": "primary",
       "icon": "adjust",
       "layout": "IPY_MODEL_1cbe972fe3b7403c93d88f9e067821cc",
       "style": "IPY_MODEL_2c487e90265c47d099bb521c19349406",
       "tooltip": "Planet imagery"
      }
     },
     "4ad67ebd4f164dccb8ac05edf94cca30": {
      "model_module": "ipytree",
      "model_module_version": "^0.2",
      "model_name": "NodeModel",
      "state": {
       "_id": "15c064a1-29be-4345-8b82-111a2bc61687",
       "_model_module_version": "^0.2",
       "_view_module_version": "^0.2",
       "icon": "file",
       "name": "normalized_difference.py"
      }
     },
     "4b036e7fc3294f8293d1e55fb1151228": {
      "model_module": "ipytree",
      "model_module_version": "^0.2",
      "model_name": "NodeModel",
      "state": {
       "_id": "3d1db199-d85d-476a-9908-6b09358886d9",
       "_model_module_version": "^0.2",
       "_view_module_version": "^0.2",
       "icon": "file",
       "name": "filter_eq.py"
      }
     },
     "4b531e47e3a04a2d9ab09228039c4339": {
      "model_module": "ipytree",
      "model_module_version": "^0.2",
      "model_name": "NodeModel",
      "state": {
       "_id": "a2cb0dc3-7edc-43d8-9426-39fa8e3f8587",
       "_model_module_version": "^0.2",
       "_view_module_version": "^0.2",
       "icon": "file",
       "name": "jrc_monthly_history.py"
      }
     },
     "4ba1838262c0425a9fa634c10afc911f": {
      "model_module": "ipytree",
      "model_module_version": "^0.2",
      "model_name": "NodeModel",
      "state": {
       "_id": "47218640-276a-49bf-ac23-8e78de0d4323",
       "_model_module_version": "^0.2",
       "_view_module_version": "^0.2",
       "icon": "file",
       "name": "ndwi_timeseries.py"
      }
     },
     "4bac5d8d465448a69ad1cd8f749352dc": {
      "model_module": "ipytree",
      "model_module_version": "^0.2",
      "model_name": "NodeModel",
      "state": {
       "_id": "ad9bc7a6-6d08-437d-9121-190acb0d2160",
       "_model_module_version": "^0.2",
       "_view_module_version": "^0.2",
       "icon": "file",
       "name": "export_FeatureCollection.py"
      }
     },
     "4bfb97a1b79a474cbc0db00feb8bf109": {
      "model_module": "ipytree",
      "model_module_version": "^0.2",
      "model_name": "NodeModel",
      "state": {
       "_id": "fa8e96a0-d65d-4974-ae86-d6fd12c24ac0",
       "_model_module_version": "^0.2",
       "_view_module_version": "^0.2",
       "icon": "file",
       "name": "morphological_operations.py"
      }
     },
     "4c9124b4503b431f97d1fc2abe566965": {
      "model_module": "ipytree",
      "model_module_version": "^0.2",
      "model_name": "NodeModel",
      "state": {
       "_id": "f68b2a11-2ca2-4e7b-b8ca-8d03d5077483",
       "_model_module_version": "^0.2",
       "_view_module_version": "^0.2",
       "icon": "file",
       "name": "hillshade_and_water.py"
      }
     },
     "4ccaf6f1673c479495eb42f7f176af78": {
      "model_module": "@jupyter-widgets/base",
      "model_module_version": "2.0.0",
      "model_name": "LayoutModel",
      "state": {}
     },
     "4cff45c9f07545e5b3edb362cca889b2": {
      "model_module": "@jupyter-widgets/base",
      "model_module_version": "2.0.0",
      "model_name": "LayoutModel",
      "state": {
       "height": "28px",
       "padding": "0px 0px 0px 4px",
       "width": "28px"
      }
     },
     "4d290c60087e438fb7c6dda8f8cd0d65": {
      "model_module": "@jupyter-widgets/base",
      "model_module_version": "2.0.0",
      "model_name": "LayoutModel",
      "state": {}
     },
     "4d3ecbcc7ce349f5af4b5df4ce6634f0": {
      "model_module": "@jupyter-widgets/controls",
      "model_module_version": "2.0.0",
      "model_name": "ToggleButtonModel",
      "state": {
       "icon": "globe",
       "layout": "IPY_MODEL_6bc0b7489a5b4ca4a0d215ebd4ec9f47",
       "style": "IPY_MODEL_a2dd0c81466a4f51884aaf689dbbdbb5",
       "tooltip": "Search location/data"
      }
     },
     "4e0075e5472d4566b052ed7db38f4ee7": {
      "model_module": "ipytree",
      "model_module_version": "^0.2",
      "model_name": "NodeModel",
      "state": {
       "_id": "92065604-8b9e-4603-a126-e87df3fbcf15",
       "_model_module_version": "^0.2",
       "_view_module_version": "^0.2",
       "icon": "file",
       "name": "simplify_polygons.py"
      }
     },
     "4e480e7c29184f1a976fb8dd61964ffd": {
      "model_module": "@jupyter-widgets/controls",
      "model_module_version": "2.0.0",
      "model_name": "TextModel",
      "state": {
       "layout": "IPY_MODEL_dc53415aa1ae400fa1f64bd0fb3bdecd",
       "placeholder": "Search by place name or address",
       "style": "IPY_MODEL_f5153cc6c4494802a88cf9067c6a741a",
       "tooltip": "Search location"
      }
     },
     "4f987362156742029402cbfc8aa8f2eb": {
      "model_module": "@jupyter-widgets/controls",
      "model_module_version": "2.0.0",
      "model_name": "TextStyleModel",
      "state": {
       "description_width": "",
       "font_size": null,
       "text_color": null
      }
     },
     "50149ceeaed142bf86de0e604b9dcddf": {
      "model_module": "jupyter-leaflet",
      "model_module_version": "^0.18",
      "model_name": "LeafletMapStyleModel",
      "state": {
       "_model_module_version": "^0.18",
       "cursor": "move"
      }
     },
     "507c77e66b4f4146b8502144e3d516ef": {
      "model_module": "ipytree",
      "model_module_version": "^0.2",
      "model_name": "NodeModel",
      "state": {
       "_id": "3cdc8a8d-ba42-429a-b6a7-1dc6aecc0dd2",
       "_model_module_version": "^0.2",
       "_view_module_version": "^0.2",
       "icon": "file",
       "name": "from_polygons.py"
      }
     },
     "508aa295fd8a47f28abcdcce7cf23590": {
      "model_module": "ipytree",
      "model_module_version": "^0.2",
      "model_name": "NodeModel",
      "state": {
       "_id": "4deeb8c5-f316-45e0-b1f6-5f0e3ec930a0",
       "_model_module_version": "^0.2",
       "_view_module_version": "^0.2",
       "icon": "file",
       "name": "clipping.py"
      }
     },
     "50edae2df01e4f2e981f7faa1a5da93f": {
      "model_module": "@jupyter-widgets/base",
      "model_module_version": "2.0.0",
      "model_name": "LayoutModel",
      "state": {}
     },
     "51c2a2a4d93e4e078f9a62b2a3f56b63": {
      "model_module": "ipytree",
      "model_module_version": "^0.2",
      "model_name": "NodeModel",
      "state": {
       "_id": "d354ff40-f4e3-48f8-9169-943361576f05",
       "_model_module_version": "^0.2",
       "_view_module_version": "^0.2",
       "icon": "file",
       "name": "ndwi_symbology.py"
      }
     },
     "52431653c8724b7f81b8d70cdc3863ae": {
      "model_module": "@jupyter-widgets/controls",
      "model_module_version": "2.0.0",
      "model_name": "VBoxModel",
      "state": {
       "children": [
        "IPY_MODEL_962132a9adf34ff0b528729518c6d63a"
       ],
       "layout": "IPY_MODEL_1766377ef0514ebc9d9359dac7d224d1"
      }
     },
     "5291b654729f4554aae08e0ead581ce9": {
      "model_module": "@jupyter-widgets/controls",
      "model_module_version": "2.0.0",
      "model_name": "ToggleButtonStyleModel",
      "state": {
       "description_width": "",
       "font_family": null,
       "font_size": null,
       "font_style": null,
       "font_variant": null,
       "font_weight": null,
       "text_color": null,
       "text_decoration": null
      }
     },
     "52b8cf9903c647ad85f074de979e51fd": {
      "model_module": "ipytree",
      "model_module_version": "^0.2",
      "model_name": "NodeModel",
      "state": {
       "_id": "3008d730-9c82-42a8-8548-b3a77ce1811f",
       "_model_module_version": "^0.2",
       "_view_module_version": "^0.2",
       "icon": "file",
       "name": "srtm_chili.py"
      }
     },
     "52eb18210d684a1f9fd580cbe88bcb1d": {
      "model_module": "ipytree",
      "model_module_version": "^0.2",
      "model_name": "NodeModel",
      "state": {
       "_id": "b3ce0685-5bd1-4854-a79a-4d62036f290c",
       "_model_module_version": "^0.2",
       "_view_module_version": "^0.2",
       "icon": "file",
       "name": "03_finding_images.py"
      }
     },
     "52f53edea8bc407f9ef5b7b76627e7d3": {
      "model_module": "@jupyter-widgets/base",
      "model_module_version": "2.0.0",
      "model_name": "LayoutModel",
      "state": {}
     },
     "536ff2bb96894870bf56c227d6e05838": {
      "model_module": "@jupyter-widgets/controls",
      "model_module_version": "2.0.0",
      "model_name": "ButtonModel",
      "state": {
       "button_style": "primary",
       "description": "import",
       "layout": "IPY_MODEL_dd3e118fcba1472a9dc87a989207b0e3",
       "style": "IPY_MODEL_b66932d823374363aeb70bc10efbe415",
       "tooltip": "Click to import the selected asset"
      }
     },
     "53d675786d6b45c8b8f57e9d00bb38b7": {
      "model_module": "ipytree",
      "model_module_version": "^0.2",
      "model_name": "NodeModel",
      "state": {
       "_id": "6af2431e-9715-41b9-952e-978ea1c15595",
       "_model_module_version": "^0.2",
       "_view_module_version": "^0.2",
       "icon": "file",
       "name": "image_reductions.py"
      }
     },
     "5460b60c987247c8b0830b936cee16c3": {
      "model_module": "ipytree",
      "model_module_version": "^0.2",
      "model_name": "NodeModel",
      "state": {
       "_id": "0fa885f9-4dbb-48ad-9bdc-944526b672de",
       "_model_module_version": "^0.2",
       "_view_module_version": "^0.2",
       "icon": "file",
       "name": "reduce_region.py"
      }
     },
     "546f82ab9db64eaead40866a285d02f3": {
      "model_module": "@jupyter-widgets/base",
      "model_module_version": "2.0.0",
      "model_name": "LayoutModel",
      "state": {
       "max_width": "279px",
       "min_width": "279px"
      }
     },
     "54db4b4f935b47218d00451b515ee1de": {
      "model_module": "ipytree",
      "model_module_version": "^0.2",
      "model_name": "NodeModel",
      "state": {
       "_id": "2548b3e4-059c-4164-bf8b-0b3dd03ae6a5",
       "_model_module_version": "^0.2",
       "_view_module_version": "^0.2",
       "icon": "file",
       "name": "select_by_strings.py"
      }
     },
     "54e8b99e2029473abd4ef096b591cdb7": {
      "model_module": "@jupyter-widgets/controls",
      "model_module_version": "2.0.0",
      "model_name": "ToggleButtonsModel",
      "state": {
       "_options_labels": [
        "Scripts",
        "Docs",
        "Assets"
       ],
       "button_style": "primary",
       "icons": [],
       "index": 0,
       "layout": "IPY_MODEL_4d290c60087e438fb7c6dda8f8cd0d65",
       "style": "IPY_MODEL_c89179b0308f4f4d9471da6b450ca54a",
       "tooltips": [
        "Search Earth Engine Scripts",
        "Search Earth Engine API",
        "Search Earth Engine Assets"
       ]
      }
     },
     "54fac69b978a4a939eee4f297913b2e6": {
      "model_module": "ipytree",
      "model_module_version": "^0.2",
      "model_name": "NodeModel",
      "state": {
       "_id": "6c37ed2c-23dc-442e-b4a8-6cfbb31ed4e0",
       "_model_module_version": "^0.2",
       "_view_module_version": "^0.2",
       "icon": "file",
       "name": "sort_by_cloud_and_date.py"
      }
     },
     "54fcb1a3ff9a4e9caf99ab4204ee6e8e": {
      "model_module": "@jupyter-widgets/base",
      "model_module_version": "2.0.0",
      "model_name": "LayoutModel",
      "state": {
       "max_width": "310px"
      }
     },
     "5519159a198143518ee1d6063c391848": {
      "model_module": "ipytree",
      "model_module_version": "^0.2",
      "model_name": "NodeModel",
      "state": {
       "_id": "99be9241-fcba-4c79-9295-a5a9bdee859f",
       "_model_module_version": "^0.2",
       "_view_module_version": "^0.2",
       "name": "Reducer",
       "nodes": [
        "IPY_MODEL_e11b68d9adad4359afa1146cdf6deed0",
        "IPY_MODEL_e38a9bb23b3d48c5b93d764f2004afbd",
        "IPY_MODEL_53d675786d6b45c8b8f57e9d00bb38b7",
        "IPY_MODEL_6ae552ce240c4d3bb47c9ab8c765f155",
        "IPY_MODEL_ba98e9968e41429484e8d4edb16d1f83",
        "IPY_MODEL_152c36a2597345ed986a2cf40ab72704",
        "IPY_MODEL_5a848131899149e08b4fc7504238e34c",
        "IPY_MODEL_a3be0f422c21443d99ddbfeca985b56e",
        "IPY_MODEL_dff8976a51c241dfa03884f1e0c4187a",
        "IPY_MODEL_85e5ba7dbfaf48acbe1885bc389e7a48",
        "IPY_MODEL_69155785859a42f4ab8712276007cd7e",
        "IPY_MODEL_be834af704134403893aa3b3664833e2",
        "IPY_MODEL_d4dbb4485ffc4864aaacb73b3eb0701b",
        "IPY_MODEL_b8fdc61a5cfb4080b685e28955ceb5ca",
        "IPY_MODEL_e028c05b502a4780a7d98739b8c56bd4",
        "IPY_MODEL_87a62eef9d7e4c1695e1d0555753979c"
       ],
       "opened": false
      }
     },
     "555ce1e838d84643a16682ba3549989f": {
      "model_module": "ipytree",
      "model_module_version": "^0.2",
      "model_name": "NodeModel",
      "state": {
       "_id": "f0414c8a-f372-4451-bf12-4db5cfb36daf",
       "_model_module_version": "^0.2",
       "_view_module_version": "^0.2",
       "icon": "file",
       "name": "filtering_by_calendar_range.py"
      }
     },
     "562c2158c0004728afa36f3055f13b36": {
      "model_module": "jupyter-leaflet",
      "model_module_version": "^0.18",
      "model_name": "LeafletZoomControlModel",
      "state": {
       "_model_module_version": "^0.18",
       "_view_module_version": "^0.18",
       "options": [
        "position",
        "zoom_in_text",
        "zoom_in_title",
        "zoom_out_text",
        "zoom_out_title"
       ]
      }
     },
     "5648ebf47a0c481286603e3d12ac0930": {
      "model_module": "ipytree",
      "model_module_version": "^0.2",
      "model_name": "NodeModel",
      "state": {
       "_id": "ba319266-58eb-4586-a061-eed4fb91084f",
       "_model_module_version": "^0.2",
       "_view_module_version": "^0.2",
       "icon": "file",
       "name": "world_database_on_protected_areas.py"
      }
     },
     "56ad4847ebbb4ef7b4eb5a347457f039": {
      "model_module": "ipytree",
      "model_module_version": "^0.2",
      "model_name": "NodeModel",
      "state": {
       "_id": "dbb1b526-62df-4a70-aa12-83aed7caa999",
       "_model_module_version": "^0.2",
       "_view_module_version": "^0.2",
       "icon": "file",
       "name": "spectral_unmixing.py"
      }
     },
     "56d858ecc1b74cc6bc8d9f5e82a6b65f": {
      "model_module": "ipytree",
      "model_module_version": "^0.2",
      "model_name": "NodeModel",
      "state": {
       "_id": "43aa0a87-d1e4-43fb-9dcb-314c1e30ec5c",
       "_model_module_version": "^0.2",
       "_view_module_version": "^0.2",
       "icon": "file",
       "name": "column_statistics_by_group.py"
      }
     },
     "56f425c9305741978a409329ce95a480": {
      "model_module": "ipytree",
      "model_module_version": "^0.2",
      "model_name": "NodeModel",
      "state": {
       "_id": "8dae7cd0-42c1-45eb-a53c-f5d8e2ab6c61",
       "_model_module_version": "^0.2",
       "_view_module_version": "^0.2",
       "name": "Gena",
       "nodes": [
        "IPY_MODEL_9a0a73fb63054cd9987db3283c9fb23d",
        "IPY_MODEL_b2e469d5d5e0410a94bf0e873ea3e8a0",
        "IPY_MODEL_1dcc2df45ef741debd0600b021698d63",
        "IPY_MODEL_187cd4b1305a4df4993a49c28f0dcc14",
        "IPY_MODEL_f44c89612dea4f2eb1487c8999ab25f0",
        "IPY_MODEL_0d0893c9e7d04b7da6b0ddbeeca2228c",
        "IPY_MODEL_1761b18098a2492a9ffe9aafd076e19c",
        "IPY_MODEL_922c0e4f1c7940888dd0a062763448af",
        "IPY_MODEL_1c419f2768154631b436bac3ecb5ec39",
        "IPY_MODEL_79613240e45a4d7ca3ad808ca6ef9e74",
        "IPY_MODEL_95a8972901ca46a7b1658c7f9efd10dd",
        "IPY_MODEL_20083150002e4797a4db719c48cf27d0",
        "IPY_MODEL_2185d9dce1e74993bea2c2b8f8d95130",
        "IPY_MODEL_d385ff1c8c3b4da6a45fc7ea9b67f4dd"
       ],
       "opened": false
      }
     },
     "587d47ef49a54df1ab866ccc2d62ac82": {
      "model_module": "ipytree",
      "model_module_version": "^0.2",
      "model_name": "NodeModel",
      "state": {
       "_id": "bdeae5a2-3e91-46b1-9397-acdf8dbc4b3c",
       "_model_module_version": "^0.2",
       "_view_module_version": "^0.2",
       "icon": "file",
       "name": "stats_by_group.py"
      }
     },
     "58a736d3f3944db9b73a04b57d41ffda": {
      "model_module": "ipytree",
      "model_module_version": "^0.2",
      "model_name": "NodeModel",
      "state": {
       "_id": "bda07c4b-715e-4972-bcec-7b7381fe3065",
       "_model_module_version": "^0.2",
       "_view_module_version": "^0.2",
       "icon": "file",
       "name": "symbology.py"
      }
     },
     "58b71cbcfd234f71b435ee7c23f00834": {
      "model_module": "ipytree",
      "model_module_version": "^0.2",
      "model_name": "NodeModel",
      "state": {
       "_id": "2f71f570-03a4-4f74-aabc-515aa4c2776d",
       "_model_module_version": "^0.2",
       "_view_module_version": "^0.2",
       "icon": "file",
       "name": "select_image_by_index.py"
      }
     },
     "58fbaf176e4b465b9f3e8aea41333091": {
      "model_module": "@jupyter-widgets/base",
      "model_module_version": "2.0.0",
      "model_name": "LayoutModel",
      "state": {
       "height": "auto",
       "padding": "0px 0px 0px 4px",
       "width": "auto"
      }
     },
     "59788c5df20746b781edfa9b3c74dcd2": {
      "model_module": "@jupyter-widgets/controls",
      "model_module_version": "2.0.0",
      "model_name": "VBoxModel",
      "state": {
       "children": [
        "IPY_MODEL_db78f288a8e7466a9da61ae81822d1ec",
        "IPY_MODEL_04627b45ec6e48ef9538107ce3ac4335",
        "IPY_MODEL_aadd35d58fa04816879f84fa7eb04687"
       ],
       "layout": "IPY_MODEL_be4d7208ea104ae2bae6cda6d7c76c62"
      }
     },
     "5982353d2c514c539337973dc428121d": {
      "model_module": "ipytree",
      "model_module_version": "^0.2",
      "model_name": "NodeModel",
      "state": {
       "_id": "3c82b8f6-592f-4e5d-8e3e-19e7f768f5a7",
       "_model_module_version": "^0.2",
       "_view_module_version": "^0.2",
       "icon": "file",
       "name": "select_by_location.py"
      }
     },
     "599c8fb153134d75a6b039a216b596c6": {
      "model_module": "@jupyter-widgets/controls",
      "model_module_version": "2.0.0",
      "model_name": "TextStyleModel",
      "state": {
       "description_width": "",
       "font_size": null,
       "text_color": null
      }
     },
     "59a60dbccbb84d5a8ea8cc09d0c3ed0f": {
      "model_module": "@jupyter-widgets/base",
      "model_module_version": "2.0.0",
      "model_name": "LayoutModel",
      "state": {}
     },
     "59fbd4d987c74ef59b0ee838b5b699be": {
      "model_module": "@jupyter-widgets/output",
      "model_module_version": "1.0.0",
      "model_name": "OutputModel",
      "state": {
       "layout": "IPY_MODEL_723f85a31c274a5a9acd70ea9f9cc6c0"
      }
     },
     "5a645a6e656b464e9da58b91a4236e54": {
      "model_module": "ipytree",
      "model_module_version": "^0.2",
      "model_name": "NodeModel",
      "state": {
       "_id": "255efb6b-bea6-4de7-a234-fad0ec318207",
       "_model_module_version": "^0.2",
       "_view_module_version": "^0.2",
       "icon": "file",
       "name": "export_table.py"
      }
     },
     "5a848131899149e08b4fc7504238e34c": {
      "model_module": "ipytree",
      "model_module_version": "^0.2",
      "model_name": "NodeModel",
      "state": {
       "_id": "8a86b628-5168-4cc5-b184-7535230f97b6",
       "_model_module_version": "^0.2",
       "_view_module_version": "^0.2",
       "icon": "file",
       "name": "median_reducer.py"
      }
     },
     "5a8e20574ccd4bc7832365b93e0fa343": {
      "model_module": "@jupyter-widgets/base",
      "model_module_version": "2.0.0",
      "model_name": "LayoutModel",
      "state": {
       "width": "340px"
      }
     },
     "5aaeaafc9f6e46a3958377b48c65b2f1": {
      "model_module": "ipytree",
      "model_module_version": "^0.2",
      "model_name": "NodeModel",
      "state": {
       "_id": "af97d71b-154e-483d-9b01-dc1888541033",
       "_model_module_version": "^0.2",
       "_view_module_version": "^0.2",
       "icon": "file",
       "name": "ClippedComposite.py"
      }
     },
     "5abcc8de275645e0b3aa5732e6c44945": {
      "model_module": "@jupyter-widgets/controls",
      "model_module_version": "2.0.0",
      "model_name": "ToggleButtonModel",
      "state": {
       "button_style": "primary",
       "icon": "map",
       "layout": "IPY_MODEL_3f55099de6ab406f9f2e7a87b4a001dd",
       "style": "IPY_MODEL_ccaf49f3df0b44e682c660b6d478bea1",
       "tooltip": "Change basemap"
      }
     },
     "5ac87dedb70d43448d18f3b65235813a": {
      "model_module": "@jupyter-widgets/base",
      "model_module_version": "2.0.0",
      "model_name": "LayoutModel",
      "state": {
       "width": "70px"
      }
     },
     "5aef4125bdce43579320b77a76630ea7": {
      "model_module": "@jupyter-widgets/base",
      "model_module_version": "2.0.0",
      "model_name": "LayoutModel",
      "state": {
       "height": "auto",
       "padding": "0px 0px 0px 4px",
       "width": "auto"
      }
     },
     "5aef8f62916a4a5da599d097cd7b6839": {
      "model_module": "ipytree",
      "model_module_version": "^0.2",
      "model_name": "NodeModel",
      "state": {
       "_id": "ca6be61f-0fca-4792-b0da-a64fb1e2daef",
       "_model_module_version": "^0.2",
       "_view_module_version": "^0.2",
       "icon": "file",
       "name": "map_add_features.py"
      }
     },
     "5b33b77a6ec14fd7942c01673d8e30ad": {
      "model_module": "ipytree",
      "model_module_version": "^0.2",
      "model_name": "NodeModel",
      "state": {
       "_id": "9a65c211-d036-4c7e-933f-f72bef7c9045",
       "_model_module_version": "^0.2",
       "_view_module_version": "^0.2",
       "icon": "file",
       "name": "median_reducer.py"
      }
     },
     "5b351fc9602b4e0bbce6fa00f2e3fea1": {
      "model_module": "ipytree",
      "model_module_version": "^0.2",
      "model_name": "NodeModel",
      "state": {
       "_id": "de2960d5-8e82-452a-aed4-02e279b30df7",
       "_model_module_version": "^0.2",
       "_view_module_version": "^0.2",
       "icon": "file",
       "name": "1_water_occurrence.py"
      }
     },
     "5b73ad09297c4376ab92337b0c87e240": {
      "model_module": "ipytree",
      "model_module_version": "^0.2",
      "model_name": "NodeModel",
      "state": {
       "_id": "b1dc9503-1109-4d1d-ae1f-92a3b1767123",
       "_model_module_version": "^0.2",
       "_view_module_version": "^0.2",
       "icon": "file",
       "name": "fire_australia.py"
      }
     },
     "5b846b5fbc3f43709ca7a4d397c9f68c": {
      "model_module": "ipytree",
      "model_module_version": "^0.2",
      "model_name": "NodeModel",
      "state": {
       "_id": "c6e6bf82-37fa-4574-8b55-43bfa80a17e8",
       "_model_module_version": "^0.2",
       "_view_module_version": "^0.2",
       "icon": "file",
       "name": "texture.py"
      }
     },
     "5c07dfea99e64258b643fb9c4e82a3c3": {
      "model_module": "@jupyter-widgets/base",
      "model_module_version": "2.0.0",
      "model_name": "LayoutModel",
      "state": {}
     },
     "5c6b653dde89410ca1311d70d2d31a3a": {
      "model_module": "ipytree",
      "model_module_version": "^0.2",
      "model_name": "NodeModel",
      "state": {
       "_id": "685f2e94-1a03-406b-bb92-03c78515d9d3",
       "_model_module_version": "^0.2",
       "_view_module_version": "^0.2",
       "icon": "file",
       "name": "map_get_center.py"
      }
     },
     "5c849ac7f7bd4035b821982964ed6d60": {
      "model_module": "ipytree",
      "model_module_version": "^0.2",
      "model_name": "NodeModel",
      "state": {
       "_id": "9620f877-8632-4df8-9f42-c05810f2b311",
       "_model_module_version": "^0.2",
       "_view_module_version": "^0.2",
       "icon": "file",
       "name": "cumulative_cost_mapping.py"
      }
     },
     "5c851517c25b4bc281c60e363536a303": {
      "model_module": "ipytree",
      "model_module_version": "^0.2",
      "model_name": "NodeModel",
      "state": {
       "_id": "53966ad3-5655-442d-8ba0-206a05fccea3",
       "_model_module_version": "^0.2",
       "_view_module_version": "^0.2",
       "icon": "file",
       "name": "pansharpen.py"
      }
     },
     "5d1a657493234ce08c7a0ac85bbb46d0": {
      "model_module": "ipytree",
      "model_module_version": "^0.2",
      "model_name": "NodeModel",
      "state": {
       "_id": "8c28850c-1ca3-4407-804f-2d666e902769",
       "_model_module_version": "^0.2",
       "_view_module_version": "^0.2",
       "icon": "file",
       "name": "spatial_joins.py"
      }
     },
     "5d1af05a6f15472fb6bf949bd60df23d": {
      "model_module": "@jupyter-widgets/controls",
      "model_module_version": "2.0.0",
      "model_name": "ToggleButtonStyleModel",
      "state": {
       "description_width": "",
       "font_family": null,
       "font_size": null,
       "font_style": null,
       "font_variant": null,
       "font_weight": null,
       "text_color": null,
       "text_decoration": null
      }
     },
     "5d309a384a2a4eb3bdafede759ee4b68": {
      "model_module": "ipytree",
      "model_module_version": "^0.2",
      "model_name": "NodeModel",
      "state": {
       "_id": "a88f1811-c3da-4471-af62-61224afdefa3",
       "_model_module_version": "^0.2",
       "_view_module_version": "^0.2",
       "icon": "file",
       "name": "export_table.py"
      }
     },
     "5d52ca36f5644eec8596a9c1119b740f": {
      "model_module": "ipytree",
      "model_module_version": "^0.2",
      "model_name": "NodeModel",
      "state": {
       "_id": "97cd5532-2d0b-4875-b1e7-2cbc8b435b61",
       "_model_module_version": "^0.2",
       "_view_module_version": "^0.2",
       "icon": "file",
       "name": "us_cropland.py"
      }
     },
     "5ea8792b92974fa5a7414b03aaf22ad7": {
      "model_module": "ipytree",
      "model_module_version": "^0.2",
      "model_name": "NodeModel",
      "state": {
       "_id": "19a8c728-d672-488c-8fab-9f9a36bebbd9",
       "_model_module_version": "^0.2",
       "_view_module_version": "^0.2",
       "name": "Gena",
       "nodes": [
        "IPY_MODEL_c5a1eea7996b4806a668fa56357d10e3",
        "IPY_MODEL_29afce1c4af54a3596ac3f05f2c55fe2",
        "IPY_MODEL_4c9124b4503b431f97d1fc2abe566965",
        "IPY_MODEL_e02942d0a0b34b81b1d1aa750b188f2a",
        "IPY_MODEL_5aef8f62916a4a5da599d097cd7b6839",
        "IPY_MODEL_69d4bb6c0dde446b9867c606e95c1a59",
        "IPY_MODEL_8152f7f88bdf408395d6da0e18582ac7",
        "IPY_MODEL_478de941ae5a450a83ce45c271ee51e3",
        "IPY_MODEL_5c6b653dde89410ca1311d70d2d31a3a",
        "IPY_MODEL_e3f83601f24e46eeaa6d1d9b7f017cb4",
        "IPY_MODEL_696bae306bb04d0cbcc9f29b2a6dcb3c",
        "IPY_MODEL_613a32c867444962a34d430420ba3363",
        "IPY_MODEL_b08cc91af2d04e9095b0517d80aa235c",
        "IPY_MODEL_9f92a862d950469da4454754181c4d5f"
       ],
       "opened": false
      }
     },
     "5ed16a9fcfb440de9b054f33258543c7": {
      "model_module": "ipytree",
      "model_module_version": "^0.2",
      "model_name": "NodeModel",
      "state": {
       "_id": "1f46ce36-5ab7-40aa-bbea-9b07f9f400a5",
       "_model_module_version": "^0.2",
       "_view_module_version": "^0.2",
       "icon": "file",
       "name": "world_database_on_protected_areas.py"
      }
     },
     "5f0dcb4ba15e4178b4996011409afdc3": {
      "model_module": "ipytree",
      "model_module_version": "^0.2",
      "model_name": "NodeModel",
      "state": {
       "_id": "925d726a-3b86-42a2-9dda-1d14fc1ba5c1",
       "_model_module_version": "^0.2",
       "_view_module_version": "^0.2",
       "name": "Segmentation",
       "nodes": [
        "IPY_MODEL_c8fb8856068e4a7f8f72fef08e7d6a1f"
       ],
       "opened": false
      }
     },
     "5f532c347cc14122b2fab7147ced8560": {
      "model_module": "ipytree",
      "model_module_version": "^0.2",
      "model_name": "NodeModel",
      "state": {
       "_id": "1e23a3d6-5a7f-4063-9112-18b575b30bbc",
       "_model_module_version": "^0.2",
       "_view_module_version": "^0.2",
       "name": "Examples",
       "nodes": [
        "IPY_MODEL_fab348a8fb374d4e9f8e1706ac7fd1de"
       ],
       "opened": false
      }
     },
     "5f6613b231794b4fb4b1359ea940049a": {
      "model_module": "ipytree",
      "model_module_version": "^0.2",
      "model_name": "NodeModel",
      "state": {
       "_id": "bcdc83f6-a9c8-4b8b-96d5-234cb12489f3",
       "_model_module_version": "^0.2",
       "_view_module_version": "^0.2",
       "icon": "file",
       "name": "landsat_simple_composite.py"
      }
     },
     "5f9df6cb2cbb4d87a56988845d47382c": {
      "model_module": "ipytree",
      "model_module_version": "^0.2",
      "model_name": "NodeModel",
      "state": {
       "_id": "e1d55806-63cc-46f3-9b27-07c6fbf05131",
       "_model_module_version": "^0.2",
       "_view_module_version": "^0.2",
       "icon": "file",
       "name": "us_ned_physio_diversity.py"
      }
     },
     "5fbb1f4a1ce1480f962351d7bf524a15": {
      "model_module": "@jupyter-widgets/controls",
      "model_module_version": "2.0.0",
      "model_name": "ButtonStyleModel",
      "state": {
       "font_family": null,
       "font_size": null,
       "font_style": null,
       "font_variant": null,
       "font_weight": null,
       "text_color": null,
       "text_decoration": null
      }
     },
     "5fca8b8b3d96452f9dd478e30faf22bc": {
      "model_module": "ipytree",
      "model_module_version": "^0.2",
      "model_name": "NodeModel",
      "state": {
       "_id": "c1cc75e7-4ee0-45f9-8582-ec4c797737c6",
       "_model_module_version": "^0.2",
       "_view_module_version": "^0.2",
       "icon": "file",
       "name": "us_ned_landforms.py"
      }
     },
     "5fee6ed13e304a88bd3a9071b5b8c577": {
      "model_module": "ipyevents",
      "model_module_version": "2.0.2",
      "model_name": "EventModel",
      "state": {
       "_supported_key_events": [
        "keydown",
        "keyup"
       ],
       "_supported_mouse_events": [
        "click",
        "auxclick",
        "dblclick",
        "mouseenter",
        "mouseleave",
        "mousedown",
        "mouseup",
        "mousemove",
        "wheel",
        "contextmenu",
        "dragstart",
        "drag",
        "dragend",
        "dragenter",
        "dragover",
        "dragleave",
        "drop"
       ],
       "_supported_touch_events": [
        "touchstart",
        "touchend",
        "touchmove",
        "touchcancel"
       ],
       "_view_module": "@jupyter-widgets/controls",
       "source": "IPY_MODEL_322cb812f837482dad19e3b3cf9c5da0",
       "throttle_or_debounce": "",
       "watched_events": [
        "mouseenter",
        "mouseleave"
       ],
       "xy_coordinate_system": ""
      }
     },
     "604fc7be126e49959a1c592f5092e1bb": {
      "model_module": "@jupyter-widgets/base",
      "model_module_version": "2.0.0",
      "model_name": "LayoutModel",
      "state": {
       "height": "600px",
       "width": "630px"
      }
     },
     "608201278c054b998870f3d9949e61b7": {
      "model_module": "ipytree",
      "model_module_version": "^0.2",
      "model_name": "NodeModel",
      "state": {
       "_id": "a098a26c-4266-45b1-81e0-71e0282f8d66",
       "_model_module_version": "^0.2",
       "_view_module_version": "^0.2",
       "icon": "file",
       "name": "gradients.py"
      }
     },
     "60d7a76a465e4c748ed161edc424201c": {
      "model_module": "ipytree",
      "model_module_version": "^0.2",
      "model_name": "NodeModel",
      "state": {
       "_id": "b2107397-25e2-4a05-9b72-64404d7bbe5c",
       "_model_module_version": "^0.2",
       "_view_module_version": "^0.2",
       "icon": "file",
       "name": "sentinel-2.py"
      }
     },
     "613a32c867444962a34d430420ba3363": {
      "model_module": "ipytree",
      "model_module_version": "^0.2",
      "model_name": "NodeModel",
      "state": {
       "_id": "76481bcd-1770-4dc6-ac0f-681fde10a8dd",
       "_model_module_version": "^0.2",
       "_view_module_version": "^0.2",
       "icon": "file",
       "name": "palettes_crameri_oleron_dem.py"
      }
     },
     "616e19d002694fbb95f1fd3cd7541d67": {
      "model_module": "jupyter-leaflet",
      "model_module_version": "^0.18",
      "model_name": "LeafletMeasureControlModel",
      "state": {
       "_model_module_version": "^0.18",
       "_view_module_version": "^0.18",
       "active_color": "orange",
       "options": [
        "active_color",
        "capture_z_index",
        "completed_color",
        "popup_options",
        "position",
        "primary_area_unit",
        "primary_length_unit",
        "secondary_area_unit",
        "secondary_length_unit"
       ],
       "position": "bottomleft",
       "primary_length_unit": "kilometers",
       "secondary_area_unit": null,
       "secondary_length_unit": null
      }
     },
     "617017909085497abfa01a0b146c0790": {
      "model_module": "ipytree",
      "model_module_version": "^0.2",
      "model_name": "NodeModel",
      "state": {
       "_id": "db6e8ce2-d8cd-4e54-8ec1-ecb7687511cf",
       "_model_module_version": "^0.2",
       "_view_module_version": "^0.2",
       "icon": "file",
       "name": "exporting_data.py"
      }
     },
     "61fe9c84b55e405eac19e290b07dec37": {
      "model_module": "@jupyter-widgets/base",
      "model_module_version": "2.0.0",
      "model_name": "LayoutModel",
      "state": {
       "width": "310px"
      }
     },
     "62215f86b01446ca8ccbb13815ae9d2c": {
      "model_module": "@jupyter-widgets/controls",
      "model_module_version": "2.0.0",
      "model_name": "ButtonModel",
      "state": {
       "button_style": "primary",
       "description": "import",
       "disabled": true,
       "layout": "IPY_MODEL_5ac87dedb70d43448d18f3b65235813a",
       "style": "IPY_MODEL_b712d82f13ea495e99f1c0fcc28533eb",
       "tooltip": "import the content to a new cell"
      }
     },
     "6254d994ff0e465db0745d1abc42a147": {
      "model_module": "@jupyter-widgets/output",
      "model_module_version": "1.0.0",
      "model_name": "OutputModel",
      "state": {
       "layout": "IPY_MODEL_f2afeaf0561a4179bd3b0076b62cd707",
       "outputs": [
        {
         "data": {
          "application/vnd.jupyter.widget-view+json": {
           "model_id": "6efc2f3d53314c02b23d993d091d1120",
           "version_major": 2,
           "version_minor": 0
          },
          "text/plain": "Tree(multiple_selection=False, nodes=(Node(name='Archive', opened=False), Node(name='Examples', nodes=(Node(na…"
         },
         "metadata": {},
         "output_type": "display_data"
        }
       ]
      }
     },
     "6280a76c7f9c40eeb2ae935367baf609": {
      "model_module": "@jupyter-widgets/controls",
      "model_module_version": "2.0.0",
      "model_name": "TextModel",
      "state": {
       "layout": "IPY_MODEL_dfdfcd42029944d9b194bc64a6a26dde",
       "placeholder": "Filter scripts...",
       "style": "IPY_MODEL_d7f4854923124097807f9fc4609aac02"
      }
     },
     "62de3d5781e14ed088b3ad67d989c44d": {
      "model_module": "@jupyter-widgets/controls",
      "model_module_version": "2.0.0",
      "model_name": "VBoxModel",
      "state": {
       "_dom_classes": [
        "geemap-light"
       ],
       "_view_count": 1,
       "children": [
        "IPY_MODEL_297f989e7f3f468b8ce69083688c2e23"
       ],
       "layout": "IPY_MODEL_383d04a292ae43e3876a5bf7c4b5eab0"
      }
     },
     "62f3dcba969c4219b3c814e3b65f3f5e": {
      "model_module": "ipytree",
      "model_module_version": "^0.2",
      "model_name": "NodeModel",
      "state": {
       "_id": "8a2e8839-25f5-48ec-998b-1a9e7624ca0b",
       "_model_module_version": "^0.2",
       "_view_module_version": "^0.2",
       "icon": "file",
       "name": "us_census_datasets.py"
      }
     },
     "63ad24df585d41459e9c6d6313d6fbe1": {
      "model_module": "ipytree",
      "model_module_version": "^0.2",
      "model_name": "NodeModel",
      "state": {
       "_id": "204b2bb9-f835-4707-97f0-4ec338d8dfa0",
       "_model_module_version": "^0.2",
       "_view_module_version": "^0.2",
       "icon": "file",
       "name": "get_properties.py"
      }
     },
     "63f26d0b086b456fbcb7f14c917f52b0": {
      "model_module": "ipytree",
      "model_module_version": "^0.2",
      "model_name": "NodeModel",
      "state": {
       "_id": "501ab25e-4de0-4e1a-9b58-e610d6c53be3",
       "_model_module_version": "^0.2",
       "_view_module_version": "^0.2",
       "icon": "file",
       "name": "image_vis.py"
      }
     },
     "645715b9276f4dc1b85662dea79e7e23": {
      "model_module": "ipytree",
      "model_module_version": "^0.2",
      "model_name": "NodeModel",
      "state": {
       "_id": "62d76e07-7e7f-49c7-a3cf-be2e87cc7ec8",
       "_model_module_version": "^0.2",
       "_view_module_version": "^0.2",
       "icon": "file",
       "name": "international_boundary.py"
      }
     },
     "64b208072892467f9b477f6459a77dbc": {
      "model_module": "@jupyter-widgets/base",
      "model_module_version": "2.0.0",
      "model_name": "LayoutModel",
      "state": {}
     },
     "64d057a726214042bdae9d2e7461216c": {
      "model_module": "@jupyter-widgets/controls",
      "model_module_version": "2.0.0",
      "model_name": "ToggleButtonStyleModel",
      "state": {
       "description_width": "",
       "font_family": null,
       "font_size": null,
       "font_style": null,
       "font_variant": null,
       "font_weight": null,
       "text_color": null,
       "text_decoration": null
      }
     },
     "65ac1520c5ab40529ae756916e017c84": {
      "model_module": "@jupyter-widgets/controls",
      "model_module_version": "2.0.0",
      "model_name": "ToggleButtonStyleModel",
      "state": {
       "description_width": "",
       "font_family": null,
       "font_size": null,
       "font_style": null,
       "font_variant": null,
       "font_weight": null,
       "text_color": null,
       "text_decoration": null
      }
     },
     "65dc36c9f57e49c4ba9b8652f2721d67": {
      "model_module": "@jupyter-widgets/base",
      "model_module_version": "2.0.0",
      "model_name": "LayoutModel",
      "state": {}
     },
     "65e4365edbaf402ab69dbfcec519e46a": {
      "model_module": "ipytree",
      "model_module_version": "^0.2",
      "model_name": "NodeModel",
      "state": {
       "_id": "d9eaeeef-8c98-4209-8e44-087e1f7b78c3",
       "_model_module_version": "^0.2",
       "_view_module_version": "^0.2",
       "icon": "file",
       "name": "mosaicking.py"
      }
     },
     "6645098a3dbe43ac8cb5f206a4697cfd": {
      "model_module": "ipytree",
      "model_module_version": "^0.2",
      "model_name": "NodeModel",
      "state": {
       "_id": "6b1bbc4a-6fbe-4455-be8b-97a7f18214f8",
       "_model_module_version": "^0.2",
       "_view_module_version": "^0.2",
       "icon": "file",
       "name": "rename_bands.py"
      }
     },
     "66af5bbc5d2c42969768da6e795023a7": {
      "model_module": "ipytree",
      "model_module_version": "^0.2",
      "model_name": "NodeModel",
      "state": {
       "_id": "145c31c8-f32b-4074-a34b-cb142f281ab1",
       "_model_module_version": "^0.2",
       "_view_module_version": "^0.2",
       "icon": "file",
       "name": "clipping.py"
      }
     },
     "66f0aa5af4d9489dbf9d780492119414": {
      "model_module": "ipytree",
      "model_module_version": "^0.2",
      "model_name": "NodeModel",
      "state": {
       "_id": "daf83190-853c-4b4a-b6d9-46ad45afd443",
       "_model_module_version": "^0.2",
       "_view_module_version": "^0.2",
       "icon": "file",
       "name": "export_csv.py"
      }
     },
     "66f2101bb0984c12abde332a9a9f28f6": {
      "model_module": "@jupyter-widgets/controls",
      "model_module_version": "2.0.0",
      "model_name": "ToggleButtonModel",
      "state": {
       "button_style": "primary",
       "icon": "gears",
       "layout": "IPY_MODEL_9bf2e91672b74a53a1607fe83565133a",
       "style": "IPY_MODEL_cf07ff66dd244327aaef118c2d696a4a",
       "tooltip": "WhiteboxTools for local geoprocessing"
      }
     },
     "6702d14309dd4cdfa816763fd76c8e20": {
      "model_module": "ipytree",
      "model_module_version": "^0.2",
      "model_name": "NodeModel",
      "state": {
       "_id": "a22fa431-490c-4f25-a47d-02fbc0d2cc7b",
       "_model_module_version": "^0.2",
       "_view_module_version": "^0.2",
       "icon": "file",
       "name": "us_census_roads.py"
      }
     },
     "67193b14e24f490cb4db3f3fa9e7e6c4": {
      "model_module": "@jupyter-widgets/controls",
      "model_module_version": "2.0.0",
      "model_name": "ButtonStyleModel",
      "state": {
       "font_family": null,
       "font_size": null,
       "font_style": null,
       "font_variant": null,
       "font_weight": null,
       "text_color": null,
       "text_decoration": null
      }
     },
     "671eaf469bc64c23a187f40c18c1a1e1": {
      "model_module": "ipytree",
      "model_module_version": "^0.2",
      "model_name": "NodeModel",
      "state": {
       "_id": "7966834d-aa1f-4f8a-abcf-d15ce348185e",
       "_model_module_version": "^0.2",
       "_view_module_version": "^0.2",
       "icon": "file",
       "name": "gradients.py"
      }
     },
     "672e1f0255194911a87d0a635f1c27e5": {
      "model_module": "ipytree",
      "model_module_version": "^0.2",
      "model_name": "NodeModel",
      "state": {
       "_id": "26dd128a-6602-4276-a98b-d3bfe993c4f4",
       "_model_module_version": "^0.2",
       "_view_module_version": "^0.2",
       "icon": "file",
       "name": "eigen_analysis.py"
      }
     },
     "67626d4ac3c94642b55cd553e7cd2e70": {
      "model_module": "ipytree",
      "model_module_version": "^0.2",
      "model_name": "NodeModel",
      "state": {
       "_id": "5cc77c6c-736d-4962-85c0-e6587e9fff51",
       "_model_module_version": "^0.2",
       "_view_module_version": "^0.2",
       "icon": "file",
       "name": "merge_feature_collections.py"
      }
     },
     "67709ccbba454e71a87eb2711afb9bc4": {
      "model_module": "ipytree",
      "model_module_version": "^0.2",
      "model_name": "NodeModel",
      "state": {
       "_id": "d41114b8-d5dc-4e18-a659-718db7d6fe07",
       "_model_module_version": "^0.2",
       "_view_module_version": "^0.2",
       "icon": "file",
       "name": "us_census_zip_code.py"
      }
     },
     "6785b143a5d04437ab8218978255f679": {
      "model_module": "ipytree",
      "model_module_version": "^0.2",
      "model_name": "NodeModel",
      "state": {
       "_id": "ed460ffe-4469-463c-970b-fe4b5c1b1c36",
       "_model_module_version": "^0.2",
       "_view_module_version": "^0.2",
       "name": "Array",
       "nodes": [
        "IPY_MODEL_91d2d732f78841a4ab68f0238a0c07e4",
        "IPY_MODEL_f5c3e283a4cd4322af75dc52d60bfec6",
        "IPY_MODEL_d573fbcc7971439682fe766a0db9ff09",
        "IPY_MODEL_209ab958dd7240cca06cabcd31b6d1ee",
        "IPY_MODEL_672e1f0255194911a87d0a635f1c27e5",
        "IPY_MODEL_3cc1cca87b614889a52f0465629de4db",
        "IPY_MODEL_48b6954dbd60453890f8c2a3781f3204",
        "IPY_MODEL_56ad4847ebbb4ef7b4eb5a347457f039"
       ],
       "opened": false
      }
     },
     "6809c5f47842454cbc590bc63f61974c": {
      "model_module": "ipytree",
      "model_module_version": "^0.2",
      "model_name": "NodeModel",
      "state": {
       "_id": "cf1e5f6c-cf5a-4e03-8cd8-ad260e45159d",
       "_model_module_version": "^0.2",
       "_view_module_version": "^0.2",
       "icon": "file",
       "name": "inner_joins.py"
      }
     },
     "681b6dc2ad394deb99eb5cbaa7442de3": {
      "model_module": "@jupyter-widgets/controls",
      "model_module_version": "2.0.0",
      "model_name": "ToggleButtonStyleModel",
      "state": {
       "description_width": "",
       "font_family": null,
       "font_size": null,
       "font_style": null,
       "font_variant": null,
       "font_weight": null,
       "text_color": null,
       "text_decoration": null
      }
     },
     "6840fe22d9b345eabfeb423492862935": {
      "model_module": "@jupyter-widgets/controls",
      "model_module_version": "2.0.0",
      "model_name": "ToggleButtonStyleModel",
      "state": {
       "description_width": "",
       "font_family": null,
       "font_size": null,
       "font_style": null,
       "font_variant": null,
       "font_weight": null,
       "text_color": null,
       "text_decoration": null
      }
     },
     "686b980c62dd4160b92b9bc86b27088c": {
      "model_module": "@jupyter-widgets/controls",
      "model_module_version": "2.0.0",
      "model_name": "TextStyleModel",
      "state": {
       "description_width": "",
       "font_size": null,
       "text_color": null
      }
     },
     "69155785859a42f4ab8712276007cd7e": {
      "model_module": "ipytree",
      "model_module_version": "^0.2",
      "model_name": "NodeModel",
      "state": {
       "_id": "eba6fa6b-26ad-4d0a-9a00-11b2096ac20b",
       "_model_module_version": "^0.2",
       "_view_module_version": "^0.2",
       "icon": "file",
       "name": "stats_of_columns.py"
      }
     },
     "6924ed03e28f474aa7de976bb6e2a061": {
      "model_module": "@jupyter-widgets/base",
      "model_module_version": "2.0.0",
      "model_name": "LayoutModel",
      "state": {
       "min_width": "400px"
      }
     },
     "693a987eaff741a181a6ba551e5726e7": {
      "model_module": "ipytree",
      "model_module_version": "^0.2",
      "model_name": "NodeModel",
      "state": {
       "_id": "293f60be-7837-4341-8ca9-b29c7188fc0e",
       "_model_module_version": "^0.2",
       "_view_module_version": "^0.2",
       "icon": "file",
       "name": "from_name.py"
      }
     },
     "694da934691b4f8d92b711a1acfbd307": {
      "model_module": "ipytree",
      "model_module_version": "^0.2",
      "model_name": "NodeModel",
      "state": {
       "_id": "4669e253-e7d9-43b5-b8bb-47ee62a9165c",
       "_model_module_version": "^0.2",
       "_view_module_version": "^0.2",
       "icon": "file",
       "name": "image_displacement.py"
      }
     },
     "696bae306bb04d0cbcc9f29b2a6dcb3c": {
      "model_module": "ipytree",
      "model_module_version": "^0.2",
      "model_name": "NodeModel",
      "state": {
       "_id": "e16bf121-65fc-4590-95e6-fc467c332788",
       "_model_module_version": "^0.2",
       "_view_module_version": "^0.2",
       "icon": "file",
       "name": "map_set_zoom.py"
      }
     },
     "69ccbf76e5324844900683bda73e921f": {
      "model_module": "ipytree",
      "model_module_version": "^0.2",
      "model_name": "NodeModel",
      "state": {
       "_id": "52f1e344-decd-4153-8139-28103090905c",
       "_model_module_version": "^0.2",
       "_view_module_version": "^0.2",
       "icon": "file",
       "name": "export_vector.py"
      }
     },
     "69d4bb6c0dde446b9867c606e95c1a59": {
      "model_module": "ipytree",
      "model_module_version": "^0.2",
      "model_name": "NodeModel",
      "state": {
       "_id": "5e19b359-5ae0-4f29-bc5d-9a787fa1c214",
       "_model_module_version": "^0.2",
       "_view_module_version": "^0.2",
       "icon": "file",
       "name": "map_center_object.py"
      }
     },
     "6a5d621d857047a78fa4cc19b84eb49f": {
      "model_module": "ipytree",
      "model_module_version": "^0.2",
      "model_name": "NodeModel",
      "state": {
       "_id": "9585fcf3-b20e-42eb-a763-ccd485dba79d",
       "_model_module_version": "^0.2",
       "_view_module_version": "^0.2",
       "icon": "file",
       "name": "alos_chili.py"
      }
     },
     "6a779b377c18455597d666776fc70d69": {
      "model_module": "ipytree",
      "model_module_version": "^0.2",
      "model_name": "NodeModel",
      "state": {
       "_id": "b21932ca-1f31-414d-b465-9f79ac95fd15",
       "_model_module_version": "^0.2",
       "_view_module_version": "^0.2",
       "icon": "file",
       "name": "palettes-test-crameri-dem.py"
      }
     },
     "6a87ec954cdb4031943428ff18d5f4be": {
      "model_module": "@jupyter-widgets/controls",
      "model_module_version": "2.0.0",
      "model_name": "VBoxModel",
      "state": {
       "children": [
        "IPY_MODEL_08ce2d191bb843d79e9e1f3f632fa861",
        "IPY_MODEL_4e480e7c29184f1a976fb8dd61964ffd"
       ],
       "layout": "IPY_MODEL_f7b4ddf6e1c840e6aabd87ac363219a8"
      }
     },
     "6ae552ce240c4d3bb47c9ab8c765f155": {
      "model_module": "ipytree",
      "model_module_version": "^0.2",
      "model_name": "NodeModel",
      "state": {
       "_id": "57adfd19-cec8-4a41-88b5-205deeea564e",
       "_model_module_version": "^0.2",
       "_view_module_version": "^0.2",
       "icon": "file",
       "name": "linear_regression.py"
      }
     },
     "6afdbdbd5dee45e2a9e8b1e739d7e942": {
      "model_module": "@jupyter-widgets/base",
      "model_module_version": "2.0.0",
      "model_name": "LayoutModel",
      "state": {}
     },
     "6b013c8daca9455e8af622e476bc7779": {
      "model_module": "ipytree",
      "model_module_version": "^0.2",
      "model_name": "NodeModel",
      "state": {
       "_id": "dec8a7fd-95ac-486a-9766-c1edc6a5b58d",
       "_model_module_version": "^0.2",
       "_view_module_version": "^0.2",
       "icon": "file",
       "name": "stats_of_an_image_region.py"
      }
     },
     "6b0ed70bfddd4b65a78bf3e70ded1ea0": {
      "model_module": "ipytree",
      "model_module_version": "^0.2",
      "model_name": "NodeModel",
      "state": {
       "_id": "dc39bb3b-5537-40cf-a3d5-4697f7064cd7",
       "_model_module_version": "^0.2",
       "_view_module_version": "^0.2",
       "icon": "file",
       "name": "from_name.py"
      }
     },
     "6b1bf95646e94a0baa979c1c08e42cd9": {
      "model_module": "ipytree",
      "model_module_version": "^0.2",
      "model_name": "NodeModel",
      "state": {
       "_id": "6e595434-dd79-4dd7-92a7-63bf3ee72379",
       "_model_module_version": "^0.2",
       "_view_module_version": "^0.2",
       "icon": "file",
       "name": "nlcd_land_cover.py"
      }
     },
     "6b35b11f803c4d5c82d862e241b3304a": {
      "model_module": "ipytree",
      "model_module_version": "^0.2",
      "model_name": "NodeModel",
      "state": {
       "_id": "b824a5cf-a837-4823-84b5-ed8087faabf6",
       "_model_module_version": "^0.2",
       "_view_module_version": "^0.2",
       "icon": "file",
       "name": "extract_image_by_polygon.py"
      }
     },
     "6bc0b7489a5b4ca4a0d215ebd4ec9f47": {
      "model_module": "@jupyter-widgets/base",
      "model_module_version": "2.0.0",
      "model_name": "LayoutModel",
      "state": {
       "height": "28px",
       "padding": "0px 0px 0px 4px",
       "width": "28px"
      }
     },
     "6be0fbb36e1c43e1b60c3796989db8d0": {
      "model_module": "ipytree",
      "model_module_version": "^0.2",
      "model_name": "NodeModel",
      "state": {
       "_id": "e1dfc622-ba70-4bc0-98c5-9aeb19e3ed29",
       "_model_module_version": "^0.2",
       "_view_module_version": "^0.2",
       "icon": "file",
       "name": "nlcd_land_cover.py"
      }
     },
     "6ccfae15457b4662af028ec785910b80": {
      "model_module": "@jupyter-widgets/controls",
      "model_module_version": "2.0.0",
      "model_name": "TextStyleModel",
      "state": {
       "description_width": "",
       "font_size": null,
       "text_color": null
      }
     },
     "6d48b9e06c6548b5b6c7e45770cb9ae8": {
      "model_module": "@jupyter-widgets/controls",
      "model_module_version": "2.0.0",
      "model_name": "HBoxModel",
      "state": {
       "children": [
        "IPY_MODEL_62215f86b01446ca8ccbb13815ae9d2c",
        "IPY_MODEL_079d7e5ec7e14c379bb7bd0198125102",
        "IPY_MODEL_0f58952ac9454b00aa941e7439a870fd"
       ],
       "layout": "IPY_MODEL_64b208072892467f9b477f6459a77dbc"
      }
     },
     "6d92b96518674965a190fc75676728e2": {
      "model_module": "ipytree",
      "model_module_version": "^0.2",
      "model_name": "NodeModel",
      "state": {
       "_id": "9f506f10-e755-4e2b-8b42-506756ac122c",
       "_model_module_version": "^0.2",
       "_view_module_version": "^0.2",
       "icon": "file",
       "name": "04_band_math.py"
      }
     },
     "6d99aafd5c0b487a81a8d4216f68af12": {
      "model_module": "@jupyter-widgets/controls",
      "model_module_version": "2.0.0",
      "model_name": "ToggleButtonModel",
      "state": {
       "button_style": "primary",
       "icon": "retweet",
       "layout": "IPY_MODEL_1805f6845983452e9e7499095e3c465d",
       "style": "IPY_MODEL_cc02e4a3a07c4cb1822a9cdaa56e4275",
       "tooltip": "Convert Earth Engine JavaScript to Python"
      }
     },
     "6db1b34e864c47f298a465c62998afaf": {
      "model_module": "ipytree",
      "model_module_version": "^0.2",
      "model_name": "NodeModel",
      "state": {
       "_id": "1702d655-bcf5-4871-8c50-7774fa6d7d05",
       "_model_module_version": "^0.2",
       "_view_module_version": "^0.2",
       "icon": "file",
       "name": "convert_imagecollection_to_image.py"
      }
     },
     "6def978d824443f48341be15c2168a0e": {
      "model_module": "ipytree",
      "model_module_version": "^0.2",
      "model_name": "NodeModel",
      "state": {
       "_id": "5afcc9c0-1483-4d06-a100-7e1982392fc0",
       "_model_module_version": "^0.2",
       "_view_module_version": "^0.2",
       "icon": "file",
       "name": "metadata_aggregation.py"
      }
     },
     "6df45b87d1fa49ac95e03d1ed3c43f76": {
      "model_module": "ipytree",
      "model_module_version": "^0.2",
      "model_name": "NodeModel",
      "state": {
       "_id": "c27eef14-894e-4465-a5c9-d321909f25cf",
       "_model_module_version": "^0.2",
       "_view_module_version": "^0.2",
       "icon": "file",
       "name": "us_ned_topo_diversity.py"
      }
     },
     "6e8d25e7fd7f465ebde58dfdf7f07fef": {
      "model_module": "jupyter-leaflet",
      "model_module_version": "^0.18",
      "model_name": "LeafletWidgetControlModel",
      "state": {
       "_model_module": "jupyter-leaflet",
       "_model_module_version": "^0.18",
       "_view_count": null,
       "_view_module": "jupyter-leaflet",
       "_view_module_version": "^0.18",
       "options": [
        "position",
        "transparent_bg"
       ],
       "position": "topleft",
       "widget": "IPY_MODEL_2457d1d5e10a4c2188c4320afca79e63"
      }
     },
     "6e981d17df7d4ac697a355b012c6685e": {
      "model_module": "ipytree",
      "model_module_version": "^0.2",
      "model_name": "NodeModel",
      "state": {
       "_id": "6e20d70f-0e50-4d4e-9a46-9f93a6fc2a01",
       "_model_module_version": "^0.2",
       "_view_module_version": "^0.2",
       "icon": "file",
       "name": "band_math.py"
      }
     },
     "6ed89f9f2fa249b6b034b5d80c963966": {
      "model_module": "ipytree",
      "model_module_version": "^0.2",
      "model_name": "NodeModel",
      "state": {
       "_id": "618cdac2-fe2e-44bf-b6cc-92e721895721",
       "_model_module_version": "^0.2",
       "_view_module_version": "^0.2",
       "icon": "file",
       "name": "landsat_surface_reflectance.py"
      }
     },
     "6edf01bb333c402181988ff5ca06cda8": {
      "model_module": "ipytree",
      "model_module_version": "^0.2",
      "model_name": "NodeModel",
      "state": {
       "_id": "6e033466-2d44-4c0a-9126-9d976c869e4a",
       "_model_module_version": "^0.2",
       "_view_module_version": "^0.2",
       "icon": "file",
       "name": "image_rgb_composite.py"
      }
     },
     "6ee5298e1fd64e29a2585557a56e2c49": {
      "model_module": "ipytree",
      "model_module_version": "^0.2",
      "model_name": "NodeModel",
      "state": {
       "_id": "d0e8b64d-8ea0-4ba6-88f4-a415e47213e9",
       "_model_module_version": "^0.2",
       "_view_module_version": "^0.2",
       "icon": "file",
       "name": "hillshade.py"
      }
     },
     "6efc2f3d53314c02b23d993d091d1120": {
      "model_module": "ipytree",
      "model_module_version": "^0.2",
      "model_name": "TreeModel",
      "state": {
       "_model_module_version": "^0.2",
       "_view_module_version": "^0.2",
       "layout": "IPY_MODEL_ee28f11bd5ac40a493617c149b9bc2f8",
       "multiple_selection": false,
       "nodes": [
        "IPY_MODEL_817dc45957bf43769c23ada187aa4271",
        "IPY_MODEL_1e0f5073ec8f4c3e97790379ef55235f",
        "IPY_MODEL_e6d83ea0521843468091aa888168c585",
        "IPY_MODEL_f2bf0154e87d4a31acdfac4bfec229c9",
        "IPY_MODEL_d3535f1b581b47b1b2d4acbc77752fb1"
       ],
       "selected_nodes": [
        "IPY_MODEL_f3d21e37c4674317b525075c67c7cd2e"
       ]
      }
     },
     "6f4f617e8dde4075a60b8b7e71ee2add": {
      "model_module": "@jupyter-widgets/output",
      "model_module_version": "1.0.0",
      "model_name": "OutputModel",
      "state": {
       "layout": "IPY_MODEL_50edae2df01e4f2e981f7faa1a5da93f"
      }
     },
     "6f9c8bbdbe39473591188c2ee0bc1fbe": {
      "model_module": "ipytree",
      "model_module_version": "^0.2",
      "model_name": "NodeModel",
      "state": {
       "_id": "d31f364d-ffb7-4852-be83-caf8c43c73aa",
       "_model_module_version": "^0.2",
       "_view_module_version": "^0.2",
       "icon": "file",
       "name": "alos_topo_diversity.py"
      }
     },
     "6ff8fb1905f1493290aabdb5e5bc05d6": {
      "model_module": "ipytree",
      "model_module_version": "^0.2",
      "model_name": "NodeModel",
      "state": {
       "_id": "3ea5da0b-5c97-4e2f-b3c1-8b4cafd8bf00",
       "_model_module_version": "^0.2",
       "_view_module_version": "^0.2",
       "icon": "file",
       "name": "eigen_analysis.py"
      }
     },
     "705c58cf703a49adb62aa165f94e8ae1": {
      "model_module": "ipytree",
      "model_module_version": "^0.2",
      "model_name": "NodeModel",
      "state": {
       "_id": "3ec3f052-4db5-402a-b62c-3bcc413c0c5c",
       "_model_module_version": "^0.2",
       "_view_module_version": "^0.2",
       "icon": "file",
       "name": "random_color_visualizer.py"
      }
     },
     "70a0b02f232445f3b04518e9a0553517": {
      "model_module": "ipytree",
      "model_module_version": "^0.2",
      "model_name": "NodeModel",
      "state": {
       "_id": "737480b8-614c-4ccc-9511-54a9b345e086",
       "_model_module_version": "^0.2",
       "_view_module_version": "^0.2",
       "icon": "file",
       "name": "random_samples.py"
      }
     },
     "70b59b26b71347e9b1884928548b4a85": {
      "model_module": "ipytree",
      "model_module_version": "^0.2",
      "model_name": "NodeModel",
      "state": {
       "_id": "1b0dada4-2638-4cf6-8d40-dfc27ecb71aa",
       "_model_module_version": "^0.2",
       "_view_module_version": "^0.2",
       "icon": "file",
       "name": "from_ee_asset.py"
      }
     },
     "71968cfd3542413eb058a8014d1cd83d": {
      "model_module": "@jupyter-widgets/base",
      "model_module_version": "2.0.0",
      "model_name": "LayoutModel",
      "state": {}
     },
     "71e84be579504788a567dea9e53c9d1d": {
      "model_module": "@jupyter-widgets/controls",
      "model_module_version": "2.0.0",
      "model_name": "ToggleButtonStyleModel",
      "state": {
       "description_width": "",
       "font_family": null,
       "font_size": null,
       "font_style": null,
       "font_variant": null,
       "font_weight": null,
       "text_color": null,
       "text_decoration": null
      }
     },
     "72314e8883894634aab6b041cc0c9f4a": {
      "model_module": "ipytree",
      "model_module_version": "^0.2",
      "model_name": "NodeModel",
      "state": {
       "_id": "4adbfc2e-54d6-47cc-a42f-871875ae4d2f",
       "_model_module_version": "^0.2",
       "_view_module_version": "^0.2",
       "icon": "file",
       "name": "image_color_palettes.py"
      }
     },
     "723f85a31c274a5a9acd70ea9f9cc6c0": {
      "model_module": "@jupyter-widgets/base",
      "model_module_version": "2.0.0",
      "model_name": "LayoutModel",
      "state": {
       "max_height": "350px",
       "max_width": "340px",
       "overflow": "scroll"
      }
     },
     "7356ce4994ff452db26fa2856b96e50a": {
      "model_module": "ipytree",
      "model_module_version": "^0.2",
      "model_name": "NodeModel",
      "state": {
       "_id": "c4afdde8-e530-44ff-b8b6-e33dbeef0b25",
       "_model_module_version": "^0.2",
       "_view_module_version": "^0.2",
       "name": "Datasets",
       "nodes": [
        "IPY_MODEL_aa091db83b584dcf8957ce30036e24a3",
        "IPY_MODEL_8744b85360254b7dbf68dbadcb3b5a1e",
        "IPY_MODEL_5d52ca36f5644eec8596a9c1119b740f",
        "IPY_MODEL_9522cc75e3ad41c49af851b76a18babf",
        "IPY_MODEL_0becbd0e97f24078bea34dbe82ad30c8",
        "IPY_MODEL_f75ead8e361e4f4f986cde4af6c204c0",
        "IPY_MODEL_abac8cdbdfb04b579dfc35b821af1dc5",
        "IPY_MODEL_a5386593525541999b169f6364db2957"
       ],
       "opened": false
      }
     },
     "735b72420cdf4e65a86ba75d9dfca551": {
      "model_module": "ipytree",
      "model_module_version": "^0.2",
      "model_name": "NodeModel",
      "state": {
       "_id": "c5670a66-f33d-4566-bc22-affd4d9ab5c1",
       "_model_module_version": "^0.2",
       "_view_module_version": "^0.2",
       "icon": "file",
       "name": "add_area_column.py"
      }
     },
     "73863fe3a1814bdfa7309e298f9dacd9": {
      "model_module": "ipytree",
      "model_module_version": "^0.2",
      "model_name": "NodeModel",
      "state": {
       "_id": "fcab492b-da90-4802-9dbe-52ad2b4a6720",
       "_model_module_version": "^0.2",
       "_view_module_version": "^0.2",
       "icon": "file",
       "name": "from_ee_asset.py"
      }
     },
     "73cd50c46b394b43ab0e23d41f176c62": {
      "model_module": "ipytree",
      "model_module_version": "^0.2",
      "model_name": "NodeModel",
      "state": {
       "_id": "4674befd-8e92-4881-ac81-251ea7bf5e6c",
       "_model_module_version": "^0.2",
       "_view_module_version": "^0.2",
       "icon": "file",
       "name": "reducing_collection.py"
      }
     },
     "748ee17dd0bf4940b9e47a063cdaae91": {
      "model_module": "ipytree",
      "model_module_version": "^0.2",
      "model_name": "NodeModel",
      "state": {
       "_id": "adb9e4b2-991f-47a8-a3b4-5d3de23ac591",
       "_model_module_version": "^0.2",
       "_view_module_version": "^0.2",
       "icon": "file",
       "name": "06_reducing.py"
      }
     },
     "74f777e0eb464235bd60ad9388153562": {
      "model_module": "ipytree",
      "model_module_version": "^0.2",
      "model_name": "NodeModel",
      "state": {
       "_id": "b1a1164f-699b-4499-bc16-537f75e80e84",
       "_model_module_version": "^0.2",
       "_view_module_version": "^0.2",
       "icon": "file",
       "name": "ndwi_timeseries.py"
      }
     },
     "74fe5ca97035445f8d1a011b2ab3fa57": {
      "model_module": "ipytree",
      "model_module_version": "^0.2",
      "model_name": "NodeModel",
      "state": {
       "_id": "8285a8a5-b119-4a82-8b2c-d9692ce22ac4",
       "_model_module_version": "^0.2",
       "_view_module_version": "^0.2",
       "icon": "file",
       "name": "08_masking.py"
      }
     },
     "7543e9b605d14a91a64d6af75df6e7df": {
      "model_module": "ipytree",
      "model_module_version": "^0.2",
      "model_name": "NodeModel",
      "state": {
       "_id": "7bd7c189-d079-4022-b9f8-7208ef3196ce",
       "_model_module_version": "^0.2",
       "_view_module_version": "^0.2",
       "icon": "file",
       "name": "resolve_ecoregions.py"
      }
     },
     "756e209392984c45a67fef600e837ba6": {
      "model_module": "ipytree",
      "model_module_version": "^0.2",
      "model_name": "NodeModel",
      "state": {
       "_id": "948d9d13-8c47-4688-8891-7173fc411a24",
       "_model_module_version": "^0.2",
       "_view_module_version": "^0.2",
       "icon": "file",
       "name": "usgs_watershed_boundary.py"
      }
     },
     "75982844c3e44b5fbbb9f21478158b03": {
      "model_module": "ipytree",
      "model_module_version": "^0.2",
      "model_name": "NodeModel",
      "state": {
       "_id": "e1063962-6694-4369-a66f-ee0af40eca34",
       "_model_module_version": "^0.2",
       "_view_module_version": "^0.2",
       "icon": "file",
       "name": "centroid.py"
      }
     },
     "75bbc788bd5945158d0b21ef5d1e2be2": {
      "model_module": "ipytree",
      "model_module_version": "^0.2",
      "model_name": "NodeModel",
      "state": {
       "_id": "1952569e-faaf-467f-a1e6-9800ace2669e",
       "_model_module_version": "^0.2",
       "_view_module_version": "^0.2",
       "icon": "file",
       "name": "download.py"
      }
     },
     "75ccde6921594a35a5c87ce866b9e414": {
      "model_module": "ipytree",
      "model_module_version": "^0.2",
      "model_name": "NodeModel",
      "state": {
       "_id": "e48be04c-69f2-46e6-ae0c-40858b013c84",
       "_model_module_version": "^0.2",
       "_view_module_version": "^0.2",
       "icon": "file",
       "name": "us_lithology.py"
      }
     },
     "7642e45481424441a7bf970f5b703461": {
      "model_module": "ipytree",
      "model_module_version": "^0.2",
      "model_name": "NodeModel",
      "state": {
       "_id": "19912dc9-47c3-437e-ad62-c91dbc3c28d8",
       "_model_module_version": "^0.2",
       "_view_module_version": "^0.2",
       "icon": "file",
       "name": "hillshade.py"
      }
     },
     "76450e673d6443158d5cc733a5e3fc36": {
      "model_module": "ipytree",
      "model_module_version": "^0.2",
      "model_name": "NodeModel",
      "state": {
       "_id": "e86fb8b8-0be1-4a0c-8efb-8bf0578df372",
       "_model_module_version": "^0.2",
       "_view_module_version": "^0.2",
       "icon": "file",
       "name": "jrc_monthly_recurrence.py"
      }
     },
     "7690f58901154deca5ea61447606414a": {
      "model_module": "@jupyter-widgets/controls",
      "model_module_version": "2.0.0",
      "model_name": "RadioButtonsModel",
      "state": {
       "index": null,
       "layout": "IPY_MODEL_354f729a80f64816951d76d0050e47a3",
       "style": "IPY_MODEL_c172dfc9c569471d8dc34ac322e83569"
      }
     },
     "76c149ac398b49ab9ee99abb17964546": {
      "model_module": "@jupyter-widgets/controls",
      "model_module_version": "2.0.0",
      "model_name": "ToggleButtonsStyleModel",
      "state": {
       "button_width": "100px",
       "description_width": ""
      }
     },
     "76f0a99a3dda4debb0b71d710dd137c6": {
      "model_module": "@jupyter-widgets/base",
      "model_module_version": "2.0.0",
      "model_name": "LayoutModel",
      "state": {}
     },
     "76f7e05f0d2143048ba2b9984ebcd94f": {
      "model_module": "@jupyter-widgets/base",
      "model_module_version": "2.0.0",
      "model_name": "LayoutModel",
      "state": {}
     },
     "776074a8d4864ef29e8ecb525c0e30fe": {
      "model_module": "@jupyter-widgets/base",
      "model_module_version": "2.0.0",
      "model_name": "LayoutModel",
      "state": {}
     },
     "77de9760e38041339b96b673f39a4381": {
      "model_module": "@jupyter-widgets/controls",
      "model_module_version": "2.0.0",
      "model_name": "ToggleButtonStyleModel",
      "state": {
       "description_width": "",
       "font_family": null,
       "font_size": null,
       "font_style": null,
       "font_variant": null,
       "font_weight": null,
       "text_color": null,
       "text_decoration": null
      }
     },
     "7857f25863074f9ba5cbf56be391a5fd": {
      "model_module": "ipytree",
      "model_module_version": "^0.2",
      "model_name": "NodeModel",
      "state": {
       "_id": "d7efb7c0-06d9-473b-9c65-56c2ccf20559",
       "_model_module_version": "^0.2",
       "_view_module_version": "^0.2",
       "icon": "file",
       "name": "extract_image_by_polygon.py"
      }
     },
     "786cae337eed49cb8db2396618193c39": {
      "model_module": "ipytree",
      "model_module_version": "^0.2",
      "model_name": "NodeModel",
      "state": {
       "_id": "3179bced-6d86-47cd-8b41-da703d868f59",
       "_model_module_version": "^0.2",
       "_view_module_version": "^0.2",
       "icon": "file",
       "name": "resampling2.py"
      }
     },
     "78d3ce4de6a545ca8884bcdd42d73644": {
      "model_module": "ipytree",
      "model_module_version": "^0.2",
      "model_name": "NodeModel",
      "state": {
       "_id": "70e6ce79-0f0f-4a05-8fc2-fbfe9df63a6f",
       "_model_module_version": "^0.2",
       "_view_module_version": "^0.2",
       "icon": "file",
       "name": "us_ned_topo_diversity.py"
      }
     },
     "791203975a1644e7a3e72f63b3a1d87e": {
      "model_module": "ipytree",
      "model_module_version": "^0.2",
      "model_name": "NodeModel",
      "state": {
       "_id": "559e7046-aa0c-4b9f-a85c-de2a806c0cb3",
       "_model_module_version": "^0.2",
       "_view_module_version": "^0.2",
       "name": "Tutorials",
       "nodes": [
        "IPY_MODEL_cd94220764e541a4a986b11faefb0f1c",
        "IPY_MODEL_9175f5bf94d04a66a8e71b6b41364bf0"
       ]
      }
     },
     "792565e4e54d4b6bb0ff3ed489ed9972": {
      "model_module": "ipytree",
      "model_module_version": "^0.2",
      "model_name": "NodeModel",
      "state": {
       "_id": "44813133-ed5c-4263-b6b5-bcf2f8582f2a",
       "_model_module_version": "^0.2",
       "_view_module_version": "^0.2",
       "icon": "file",
       "name": "find_image_by_path_row.py"
      }
     },
     "79372d4fdef04edcb7bc35f960f26c19": {
      "model_module": "@jupyter-widgets/controls",
      "model_module_version": "2.0.0",
      "model_name": "ToggleButtonStyleModel",
      "state": {
       "description_width": "",
       "font_family": null,
       "font_size": null,
       "font_style": null,
       "font_variant": null,
       "font_weight": null,
       "text_color": null,
       "text_decoration": null
      }
     },
     "794e48acd308480a9f01c192fad59d34": {
      "model_module": "ipytree",
      "model_module_version": "^0.2",
      "model_name": "NodeModel",
      "state": {
       "_id": "ab7a66b0-a9ad-438a-b202-85db8d445821",
       "_model_module_version": "^0.2",
       "_view_module_version": "^0.2",
       "icon": "file",
       "name": "NormalizedDifference.py"
      }
     },
     "79613240e45a4d7ca3ad808ca6ef9e74": {
      "model_module": "ipytree",
      "model_module_version": "^0.2",
      "model_name": "NodeModel",
      "state": {
       "_id": "7af0ed64-c07a-44eb-8505-6247aef1b590",
       "_model_module_version": "^0.2",
       "_view_module_version": "^0.2",
       "icon": "file",
       "name": "map_set_center.py"
      }
     },
     "798d0995c1c2414a92a0c5a4c9f850ca": {
      "model_module": "ipytree",
      "model_module_version": "^0.2",
      "model_name": "NodeModel",
      "state": {
       "_id": "e32fe18b-03aa-46f1-bbe8-42f3fcddd8bf",
       "_model_module_version": "^0.2",
       "_view_module_version": "^0.2",
       "icon": "file",
       "name": "us_census_blocks.py"
      }
     },
     "7a052425cc7d49b5905f66dfeff1d277": {
      "model_module": "ipytree",
      "model_module_version": "^0.2",
      "model_name": "NodeModel",
      "state": {
       "_id": "0ba63d37-ccba-4c35-bd55-ee5aed697254",
       "_model_module_version": "^0.2",
       "_view_module_version": "^0.2",
       "icon": "file",
       "name": "hillshade.py"
      }
     },
     "7a259626b56e4ec58dc53493e5882f8b": {
      "model_module": "ipytree",
      "model_module_version": "^0.2",
      "model_name": "NodeModel",
      "state": {
       "_id": "58301d49-df39-4b88-9b02-fcfe4799aa23",
       "_model_module_version": "^0.2",
       "_view_module_version": "^0.2",
       "icon": "file",
       "name": "get_image_resolution.py"
      }
     },
     "7a4f94456c574ee7857434709df47f44": {
      "model_module": "@jupyter-widgets/base",
      "model_module_version": "2.0.0",
      "model_name": "LayoutModel",
      "state": {}
     },
     "7a55f95306254e0a993ea8f7c3299de8": {
      "model_module": "@jupyter-widgets/controls",
      "model_module_version": "2.0.0",
      "model_name": "TextModel",
      "state": {
       "layout": "IPY_MODEL_5a8e20574ccd4bc7832365b93e0fa343",
       "placeholder": "Search by place name or address",
       "style": "IPY_MODEL_6ccfae15457b4662af028ec785910b80",
       "tooltip": "Search location"
      }
     },
     "7a5b8f8680544ddaad12f8536382dd9d": {
      "model_module": "ipytree",
      "model_module_version": "^0.2",
      "model_name": "NodeModel",
      "state": {
       "_id": "af746d7b-1d25-445b-a23c-93685f9f53c1",
       "_model_module_version": "^0.2",
       "_view_module_version": "^0.2",
       "icon": "file",
       "name": "srtm_mtpi.py"
      }
     },
     "7aa9caa6b78a49edb38a9ecab2263f9c": {
      "model_module": "ipytree",
      "model_module_version": "^0.2",
      "model_name": "NodeModel",
      "state": {
       "_id": "aae7573d-a66d-459d-89e9-d41901135802",
       "_model_module_version": "^0.2",
       "_view_module_version": "^0.2",
       "icon": "file",
       "name": "01_hello_world.py"
      }
     },
     "7b2a7cd9818d415d85878d34066126be": {
      "model_module": "ipytree",
      "model_module_version": "^0.2",
      "model_name": "NodeModel",
      "state": {
       "_id": "c24b86bc-1294-4238-ae58-4c9134e1239c",
       "_model_module_version": "^0.2",
       "_view_module_version": "^0.2",
       "icon": "file",
       "name": "README.md"
      }
     },
     "7b50af6acd724fb89944eddc21e3b9ec": {
      "model_module": "ipytree",
      "model_module_version": "^0.2",
      "model_name": "NodeModel",
      "state": {
       "_id": "ae47be60-59bc-4e65-89c7-b52081fed7a3",
       "_model_module_version": "^0.2",
       "_view_module_version": "^0.2",
       "icon": "file",
       "name": "us_physiography.py"
      }
     },
     "7b540a7981d84ce885313b01fa1c28a4": {
      "model_module": "ipytree",
      "model_module_version": "^0.2",
      "model_name": "NodeModel",
      "state": {
       "_id": "6b1d191b-0dff-488d-a5f6-ff7fa5aa428e",
       "_model_module_version": "^0.2",
       "_view_module_version": "^0.2",
       "icon": "file",
       "name": "from_name.py"
      }
     },
     "7b841d815d1e4095bab69e9b623e4d2a": {
      "model_module": "ipytree",
      "model_module_version": "^0.2",
      "model_name": "NodeModel",
      "state": {
       "_id": "7bc02ec1-e797-45d9-b202-54df4fafcb6e",
       "_model_module_version": "^0.2",
       "_view_module_version": "^0.2",
       "icon": "file",
       "name": "metadata.py"
      }
     },
     "7b89b542aadc4b398d135127c3eb3d9e": {
      "model_module": "@jupyter-widgets/controls",
      "model_module_version": "2.0.0",
      "model_name": "DescriptionStyleModel",
      "state": {
       "description_width": ""
      }
     },
     "7c5d9cc2475f41d69330f9a00ddf9240": {
      "model_module": "ipytree",
      "model_module_version": "^0.2",
      "model_name": "NodeModel",
      "state": {
       "_id": "722122c8-0ba3-4a97-bba0-ec8b5d8d5875",
       "_model_module_version": "^0.2",
       "_view_module_version": "^0.2",
       "icon": "file",
       "name": "us_ned_landforms.py"
      }
     },
     "7cf29e3d66c04d5ba1e1f12264d71f6f": {
      "model_module": "ipytree",
      "model_module_version": "^0.2",
      "model_name": "NodeModel",
      "state": {
       "_id": "037406be-8930-4725-a855-3e50d0ce1793",
       "_model_module_version": "^0.2",
       "_view_module_version": "^0.2",
       "icon": "file",
       "name": "terrain_visualization.py"
      }
     },
     "7d0414d2d221441a87f54e2f78726b6a": {
      "model_module": "@jupyter-widgets/base",
      "model_module_version": "2.0.0",
      "model_name": "LayoutModel",
      "state": {
       "max_width": "279px",
       "min_width": "279px"
      }
     },
     "7d124011cfd64c269bdf470fc4a27ed3": {
      "model_module": "ipytree",
      "model_module_version": "^0.2",
      "model_name": "NodeModel",
      "state": {
       "_id": "f91f24b3-2674-4490-b223-a2cd66b9bbb0",
       "_model_module_version": "^0.2",
       "_view_module_version": "^0.2",
       "icon": "file",
       "name": "select_image_by_index.py"
      }
     },
     "7d845a4f2dca43af9c14aaf5da16559f": {
      "model_module": "ipytree",
      "model_module_version": "^0.2",
      "model_name": "NodeModel",
      "state": {
       "_id": "09a65d66-3dfe-4136-8b38-78c8d31a954d",
       "_model_module_version": "^0.2",
       "_view_module_version": "^0.2",
       "icon": "file",
       "name": "us_cropland.py"
      }
     },
     "7db1b79461634d3b8b1fd5d9d06b6744": {
      "model_module": "ipytree",
      "model_module_version": "^0.2",
      "model_name": "NodeModel",
      "state": {
       "_id": "6728e056-d722-4d1f-94da-af9d77667223",
       "_model_module_version": "^0.2",
       "_view_module_version": "^0.2",
       "icon": "file",
       "name": "us_lithology.py"
      }
     },
     "7dcbb00838d345a1a7207b117dcdd4b6": {
      "model_module": "ipytree",
      "model_module_version": "^0.2",
      "model_name": "NodeModel",
      "state": {
       "_id": "a012da0f-aeb2-4238-880c-4463ee5877e6",
       "_model_module_version": "^0.2",
       "_view_module_version": "^0.2",
       "icon": "file",
       "name": "ndvi_symbology.py"
      }
     },
     "7e651a5534e54860b7ea4c9544b9fb80": {
      "model_module": "@jupyter-widgets/controls",
      "model_module_version": "2.0.0",
      "model_name": "ToggleButtonModel",
      "state": {
       "icon": "wrench",
       "layout": "IPY_MODEL_f3aee46384704259b21d648d99186dd2",
       "style": "IPY_MODEL_cfeb7b8dfdf748d6b66406b08ab6cceb",
       "tooltip": "Toolbar"
      }
     },
     "7ee528b0e1c64fc48df627acf6d5262f": {
      "model_module": "ipytree",
      "model_module_version": "^0.2",
      "model_name": "NodeModel",
      "state": {
       "_id": "f2bc02d0-07ce-4bd8-afb7-7c1a06efe424",
       "_model_module_version": "^0.2",
       "_view_module_version": "^0.2",
       "icon": "file",
       "name": "band_stats.py"
      }
     },
     "7f637695b47e41718666d67a0e873cb2": {
      "model_module": "ipytree",
      "model_module_version": "^0.2",
      "model_name": "NodeModel",
      "state": {
       "_id": "58aafcb7-3ae3-43ee-92da-9e17e9d77afd",
       "_model_module_version": "^0.2",
       "_view_module_version": "^0.2",
       "icon": "file",
       "name": "usgs_watersheds.py"
      }
     },
     "7fa93d223018451395e318f1c2d0ad79": {
      "model_module": "ipytree",
      "model_module_version": "^0.2",
      "model_name": "NodeModel",
      "state": {
       "_id": "69b1d09e-4ae6-4928-bdc5-d94686beb003",
       "_model_module_version": "^0.2",
       "_view_module_version": "^0.2",
       "icon": "file",
       "name": "image_overview.py"
      }
     },
     "80914ec9cf444e1cb10c0036bd2cefe4": {
      "model_module": "ipytree",
      "model_module_version": "^0.2",
      "model_name": "NodeModel",
      "state": {
       "_id": "81a89abc-826b-44b3-912d-800aea9e7e58",
       "_model_module_version": "^0.2",
       "_view_module_version": "^0.2",
       "icon": "file",
       "name": "center_pivot_irrigation_detector.py"
      }
     },
     "8099e2df94994349811e2ab203fe31a3": {
      "model_module": "@jupyter-widgets/controls",
      "model_module_version": "2.0.0",
      "model_name": "TextModel",
      "state": {
       "layout": "IPY_MODEL_8b2164e8452744e5854a31216ea613cb",
       "placeholder": "Enter the link to a Git repository here...",
       "style": "IPY_MODEL_3be9341a10ea4ac890463f22009b94f5"
      }
     },
     "80bc09a0dc1f4acc816daa56b81390c8": {
      "model_module": "@jupyter-widgets/base",
      "model_module_version": "2.0.0",
      "model_name": "LayoutModel",
      "state": {}
     },
     "8152f7f88bdf408395d6da0e18582ac7": {
      "model_module": "ipytree",
      "model_module_version": "^0.2",
      "model_name": "NodeModel",
      "state": {
       "_id": "6fe1c20f-8db3-47d6-930e-0e03ba74ce67",
       "_model_module_version": "^0.2",
       "_view_module_version": "^0.2",
       "icon": "file",
       "name": "map_center_object_no_zoom.py"
      }
     },
     "816babf3dc90450ba4ffc2b98a97e7f7": {
      "model_module": "@jupyter-widgets/base",
      "model_module_version": "2.0.0",
      "model_name": "LayoutModel",
      "state": {}
     },
     "817dc45957bf43769c23ada187aa4271": {
      "model_module": "ipytree",
      "model_module_version": "^0.2",
      "model_name": "NodeModel",
      "state": {
       "_id": "1f96c383-d7ed-406e-b879-2ed139486004",
       "_model_module_version": "^0.2",
       "_view_module_version": "^0.2",
       "name": "Archive",
       "opened": false
      }
     },
     "817ecd34e0564993afebfe059c8fd543": {
      "model_module": "@jupyter-widgets/output",
      "model_module_version": "1.0.0",
      "model_name": "OutputModel",
      "state": {
       "layout": "IPY_MODEL_54fcb1a3ff9a4e9caf99ab4204ee6e8e",
       "outputs": [
        {
         "data": {
          "application/vnd.jupyter.widget-view+json": {
           "model_id": "c3ef42d60a0043c8b620024d3d57c369",
           "version_major": 2,
           "version_minor": 0
          },
          "text/plain": "Tree(multiple_selection=False, nodes=(Node(name='Archive', opened=False), Node(name='Examples', nodes=(Node(na…"
         },
         "metadata": {},
         "output_type": "display_data"
        }
       ]
      }
     },
     "819c7cd0203a4fa583d6033b50b7ead0": {
      "model_module": "ipytree",
      "model_module_version": "^0.2",
      "model_name": "NodeModel",
      "state": {
       "_id": "48d618fe-f313-42e1-a354-de9471e2d3d2",
       "_model_module_version": "^0.2",
       "_view_module_version": "^0.2",
       "icon": "file",
       "name": "us_counties.py"
      }
     },
     "81d6aebf50ac437fa539bf8da2036cf1": {
      "model_module": "@jupyter-widgets/controls",
      "model_module_version": "2.0.0",
      "model_name": "ButtonStyleModel",
      "state": {
       "font_family": null,
       "font_size": null,
       "font_style": null,
       "font_variant": null,
       "font_weight": null,
       "text_color": null,
       "text_decoration": null
      }
     },
     "82314b86cede411c92315f938bb6f1ef": {
      "model_module": "ipytree",
      "model_module_version": "^0.2",
      "model_name": "NodeModel",
      "state": {
       "_id": "c9411f2f-b4f8-4643-a67c-42d429b98c99",
       "_model_module_version": "^0.2",
       "_view_module_version": "^0.2",
       "icon": "file",
       "name": "image_vis.py"
      }
     },
     "82902cb4097e418eaef3c9c6fe8ad321": {
      "model_module": "jupyter-leaflet",
      "model_module_version": "^0.18",
      "model_name": "LeafletWidgetControlModel",
      "state": {
       "_model_module": "jupyter-leaflet",
       "_model_module_version": "^0.18",
       "_view_count": null,
       "_view_module": "jupyter-leaflet",
       "_view_module_version": "^0.18",
       "options": [
        "position",
        "transparent_bg"
       ],
       "position": "topright",
       "widget": "IPY_MODEL_150fab7e16e5475a962e8b4e8f81cd64"
      }
     },
     "82990b0a106f4d37b0144e469fb44889": {
      "model_module": "ipyevents",
      "model_module_version": "2.0.2",
      "model_name": "EventModel",
      "state": {
       "_supported_key_events": [
        "keydown",
        "keyup"
       ],
       "_supported_mouse_events": [
        "click",
        "auxclick",
        "dblclick",
        "mouseenter",
        "mouseleave",
        "mousedown",
        "mouseup",
        "mousemove",
        "wheel",
        "contextmenu",
        "dragstart",
        "drag",
        "dragend",
        "dragenter",
        "dragover",
        "dragleave",
        "drop"
       ],
       "_supported_touch_events": [
        "touchstart",
        "touchend",
        "touchmove",
        "touchcancel"
       ],
       "_view_module": "@jupyter-widgets/controls",
       "source": "IPY_MODEL_62de3d5781e14ed088b3ad67d989c44d",
       "throttle_or_debounce": "",
       "watched_events": [
        "mouseenter",
        "mouseleave"
       ],
       "xy_coordinate_system": ""
      }
     },
     "82cb4678ef8a402ca74689b561c49cbe": {
      "model_module": "ipytree",
      "model_module_version": "^0.2",
      "model_name": "NodeModel",
      "state": {
       "_id": "25abbc31-b8f0-45d2-a505-e5af68cebf26",
       "_model_module_version": "^0.2",
       "_view_module_version": "^0.2",
       "icon": "file",
       "name": "metadata.py"
      }
     },
     "82ec2ccc2a6143bdbb7c68bcb97dcd08": {
      "model_module": "ipytree",
      "model_module_version": "^0.2",
      "model_name": "NodeModel",
      "state": {
       "_id": "f7889d92-6e1d-48d9-ae2e-350f2e048794",
       "_model_module_version": "^0.2",
       "_view_module_version": "^0.2",
       "icon": "file",
       "name": "2_water_occurrence_change_intensity.py"
      }
     },
     "8340f73e694f4487b86ed20bb26cf802": {
      "model_module": "ipytree",
      "model_module_version": "^0.2",
      "model_name": "NodeModel",
      "state": {
       "_id": "557efe2f-bc5b-4196-ad35-cdbed20bab78",
       "_model_module_version": "^0.2",
       "_view_module_version": "^0.2",
       "icon": "file",
       "name": "landsat_filtering.py"
      }
     },
     "8341c672c32e43979e52e8cf7f7511fe": {
      "model_module": "ipytree",
      "model_module_version": "^0.2",
      "model_name": "NodeModel",
      "state": {
       "_id": "f7d10c86-f1c2-4f30-832c-6e7fc046780c",
       "_model_module_version": "^0.2",
       "_view_module_version": "^0.2",
       "icon": "file",
       "name": "alos_topo_diversity.py"
      }
     },
     "83b717317f354455b49231df1bb85658": {
      "model_module": "ipytree",
      "model_module_version": "^0.2",
      "model_name": "NodeModel",
      "state": {
       "_id": "e77b2287-a4cd-4110-8868-8fbb7ca9897e",
       "_model_module_version": "^0.2",
       "_view_module_version": "^0.2",
       "icon": "file",
       "name": "image_metadata.py"
      }
     },
     "84a4506b995e4e6c952f60d188118677": {
      "model_module": "@jupyter-widgets/controls",
      "model_module_version": "2.0.0",
      "model_name": "ButtonModel",
      "state": {
       "button_style": "primary",
       "description": "import",
       "layout": "IPY_MODEL_ad0c70d6ea93418c9f3b98a29c7ff540",
       "style": "IPY_MODEL_a280011bd7ea450a98d1f55dbe6ad698",
       "tooltip": "import the content to a new cell"
      }
     },
     "84d1d2f154e84b279152580548fb98ed": {
      "model_module": "@jupyter-widgets/base",
      "model_module_version": "2.0.0",
      "model_name": "LayoutModel",
      "state": {
       "height": "28px",
       "width": "72px"
      }
     },
     "84d6b16427e6458eaecd7d9ac0354ef6": {
      "model_module": "@jupyter-widgets/controls",
      "model_module_version": "2.0.0",
      "model_name": "ToggleButtonModel",
      "state": {
       "button_style": "primary",
       "icon": "fast-forward",
       "layout": "IPY_MODEL_2b57453ef2524c6e8356677858ad1ad7",
       "style": "IPY_MODEL_79372d4fdef04edcb7bc35f960f26c19",
       "tooltip": "Activate timeslider"
      }
     },
     "85465ad5f5f54b6892e0b4a7e77f0ca6": {
      "model_module": "ipytree",
      "model_module_version": "^0.2",
      "model_name": "NodeModel",
      "state": {
       "_id": "baeaa504-ec0d-4757-87ff-5575bc0e50d4",
       "_model_module_version": "^0.2",
       "_view_module_version": "^0.2",
       "icon": "file",
       "name": "alos_landforms.py"
      }
     },
     "859359a4f12549b097e8b31c6d32403e": {
      "model_module": "ipytree",
      "model_module_version": "^0.2",
      "model_name": "NodeModel",
      "state": {
       "_id": "36499cb0-8417-49a7-b34e-32421f418929",
       "_model_module_version": "^0.2",
       "_view_module_version": "^0.2",
       "icon": "file",
       "name": "visualizing_geometries.py"
      }
     },
     "85b5663a9b6a403e9081f143a1b10e83": {
      "model_module": "ipytree",
      "model_module_version": "^0.2",
      "model_name": "NodeModel",
      "state": {
       "_id": "ef72b89d-228c-42a6-91ea-3f233be48a3b",
       "_model_module_version": "^0.2",
       "_view_module_version": "^0.2",
       "icon": "file",
       "name": "rendering_categorical_maps.py"
      }
     },
     "85e5ba7dbfaf48acbe1885bc389e7a48": {
      "model_module": "ipytree",
      "model_module_version": "^0.2",
      "model_name": "NodeModel",
      "state": {
       "_id": "bcbbf6b5-72d9-4dfc-824a-774245ec4141",
       "_model_module_version": "^0.2",
       "_view_module_version": "^0.2",
       "icon": "file",
       "name": "stats_of_an_image_region.py"
      }
     },
     "8610b1bcec954b5c8f094ab83caa0326": {
      "model_module": "ipytree",
      "model_module_version": "^0.2",
      "model_name": "NodeModel",
      "state": {
       "_id": "d5de7879-aa6d-498b-b9b3-dc9135879de6",
       "_model_module_version": "^0.2",
       "_view_module_version": "^0.2",
       "icon": "file",
       "name": "clipping.py"
      }
     },
     "86f1d600b7104097a8fe06bb3e55249a": {
      "model_module": "ipyevents",
      "model_module_version": "2.0.2",
      "model_name": "EventModel",
      "state": {
       "_supported_key_events": [
        "keydown",
        "keyup"
       ],
       "_supported_mouse_events": [
        "click",
        "auxclick",
        "dblclick",
        "mouseenter",
        "mouseleave",
        "mousedown",
        "mouseup",
        "mousemove",
        "wheel",
        "contextmenu",
        "dragstart",
        "drag",
        "dragend",
        "dragenter",
        "dragover",
        "dragleave",
        "drop"
       ],
       "_supported_touch_events": [
        "touchstart",
        "touchend",
        "touchmove",
        "touchcancel"
       ],
       "_view_module": "@jupyter-widgets/controls",
       "source": "IPY_MODEL_2457d1d5e10a4c2188c4320afca79e63",
       "throttle_or_debounce": "",
       "watched_events": [
        "mouseenter",
        "mouseleave"
       ],
       "xy_coordinate_system": ""
      }
     },
     "87030086e2a1494db5520f1515b67962": {
      "model_module": "ipytree",
      "model_module_version": "^0.2",
      "model_name": "NodeModel",
      "state": {
       "_id": "30020be5-087b-4bdd-b1c3-e2302ab00447",
       "_model_module_version": "^0.2",
       "_view_module_version": "^0.2",
       "icon": "file",
       "name": "export_raster.py"
      }
     },
     "8715ec1e13c841eda26de9537cdfb6ff": {
      "model_module": "ipytree",
      "model_module_version": "^0.2",
      "model_name": "NodeModel",
      "state": {
       "_id": "6e6a4702-aec7-45c2-ad06-9481e0a5aeb5",
       "_model_module_version": "^0.2",
       "_view_module_version": "^0.2",
       "icon": "file",
       "name": "remove_colors.py"
      }
     },
     "8744b85360254b7dbf68dbadcb3b5a1e": {
      "model_module": "ipytree",
      "model_module_version": "^0.2",
      "model_name": "NodeModel",
      "state": {
       "_id": "ae00991d-8392-489f-8c2e-eabc26582fda",
       "_model_module_version": "^0.2",
       "_view_module_version": "^0.2",
       "icon": "file",
       "name": "sentinel-2.py"
      }
     },
     "87a62eef9d7e4c1695e1d0555753979c": {
      "model_module": "ipytree",
      "model_module_version": "^0.2",
      "model_name": "NodeModel",
      "state": {
       "_id": "0dd58ddf-e69b-4be8-b150-89f6281d70b2",
       "_model_module_version": "^0.2",
       "_view_module_version": "^0.2",
       "icon": "file",
       "name": "zonal_statistics.py"
      }
     },
     "87b1ecf2974f4d8db2c747b18636ab9c": {
      "model_module": "@jupyter-widgets/base",
      "model_module_version": "2.0.0",
      "model_name": "LayoutModel",
      "state": {}
     },
     "881119e5a65a4d4cbbc15026a83452c2": {
      "model_module": "ipytree",
      "model_module_version": "^0.2",
      "model_name": "NodeModel",
      "state": {
       "_id": "810f172f-e0e1-4dbe-b796-987b8b2757c7",
       "_model_module_version": "^0.2",
       "_view_module_version": "^0.2",
       "icon": "file",
       "name": "clustering.py"
      }
     },
     "8879bfdaea314e2db19fce054a77d44a": {
      "model_module": "ipytree",
      "model_module_version": "^0.2",
      "model_name": "NodeModel",
      "state": {
       "_id": "753eebf0-224c-428b-b318-143f809f13e6",
       "_model_module_version": "^0.2",
       "_view_module_version": "^0.2",
       "icon": "file",
       "name": "convolutions.py"
      }
     },
     "88dabe89f0af46f8b3d5a1f925c26f16": {
      "model_module": "@jupyter-widgets/controls",
      "model_module_version": "2.0.0",
      "model_name": "HBoxModel",
      "state": {
       "children": [
        "IPY_MODEL_ca8d2090aafb4312ad65fe0aefa36ccb",
        "IPY_MODEL_a2f3167b1af448f594e86462022aad8b"
       ],
       "layout": "IPY_MODEL_02a6ad7353944ba4a6ab28ca50d7fbf8"
      }
     },
     "891b62b69c7d461cb2a9812b4f800875": {
      "model_module": "ipytree",
      "model_module_version": "^0.2",
      "model_name": "NodeModel",
      "state": {
       "_id": "a1fd011e-bdde-414c-99ec-3f1c81733c2e",
       "_model_module_version": "^0.2",
       "_view_module_version": "^0.2",
       "icon": "file",
       "name": "intersect.py"
      }
     },
     "897ab1c99fa74c66a4ccf6a99aecfc5e": {
      "model_module": "ipytree",
      "model_module_version": "^0.2",
      "model_name": "NodeModel",
      "state": {
       "_id": "0fa05d48-0604-4b2e-8061-7b8d9d0a6960",
       "_model_module_version": "^0.2",
       "_view_module_version": "^0.2",
       "icon": "file",
       "name": "add_random_value_column.py"
      }
     },
     "89d423d06cd648dbba614592d3ba981c": {
      "model_module": "ipytree",
      "model_module_version": "^0.2",
      "model_name": "NodeModel",
      "state": {
       "_id": "217787a9-9d97-4287-8a9b-e6c00181cac6",
       "_model_module_version": "^0.2",
       "_view_module_version": "^0.2",
       "icon": "file",
       "name": "export_ImageCollection.py"
      }
     },
     "89d6d912af524f9dab2241fb0db0aea2": {
      "model_module": "ipytree",
      "model_module_version": "^0.2",
      "model_name": "NodeModel",
      "state": {
       "_id": "ea17aba9-47be-4e7f-95c5-f2134b138160",
       "_model_module_version": "^0.2",
       "_view_module_version": "^0.2",
       "icon": "file",
       "name": "column_statistics.py"
      }
     },
     "89f3ae037ec74b3aa8ef72fcfee6c7e2": {
      "model_module": "@jupyter-widgets/controls",
      "model_module_version": "2.0.0",
      "model_name": "VBoxModel",
      "state": {
       "children": [
        "IPY_MODEL_4230461cc3c04c3cbb494ec84edb3b71",
        "IPY_MODEL_7a55f95306254e0a993ea8f7c3299de8"
       ],
       "layout": "IPY_MODEL_332498f0f557437bb539028a156822d1"
      }
     },
     "89f8ad438c25487ab392e9b6ce69fd10": {
      "model_module": "@jupyter-widgets/base",
      "model_module_version": "2.0.0",
      "model_name": "LayoutModel",
      "state": {
       "grid_gap": "1px 1px",
       "grid_template_columns": "32px 32px 32px ",
       "grid_template_rows": "32px 32px ",
       "padding": "5px",
       "width": "109px"
      }
     },
     "8a0d73fe1bab47deb74b25dadb6c824b": {
      "model_module": "ipytree",
      "model_module_version": "^0.2",
      "model_name": "NodeModel",
      "state": {
       "_id": "be0ea6e6-ce0c-4794-b2ee-1fdfe49f8039",
       "_model_module_version": "^0.2",
       "_view_module_version": "^0.2",
       "icon": "file",
       "name": "us_ned_chili.py"
      }
     },
     "8a406eafe6344b8988faa658ea74018e": {
      "model_module": "ipytree",
      "model_module_version": "^0.2",
      "model_name": "NodeModel",
      "state": {
       "_id": "da05fd3d-b2ea-454b-9965-e8bd7dde716b",
       "_model_module_version": "^0.2",
       "_view_module_version": "^0.2",
       "icon": "file",
       "name": "ClientVsServer.py"
      }
     },
     "8a530e157ab140f4adba77961a918bb3": {
      "model_module": "@jupyter-widgets/controls",
      "model_module_version": "2.0.0",
      "model_name": "HBoxModel",
      "state": {
       "children": [
        "IPY_MODEL_c7ddd52e77494511a0dbb1a02bf06f03"
       ],
       "layout": "IPY_MODEL_c481bd715ad447b1a21daff835971b82"
      }
     },
     "8a710814f85d4572a46d57bc44f051a3": {
      "model_module": "@jupyter-widgets/base",
      "model_module_version": "2.0.0",
      "model_name": "LayoutModel",
      "state": {
       "height": "auto",
       "padding": "0px 0px 0px 4px",
       "width": "auto"
      }
     },
     "8ae87037bd4148c69a79b0dca19843ba": {
      "model_module": "ipytree",
      "model_module_version": "^0.2",
      "model_name": "NodeModel",
      "state": {
       "_id": "d012218e-6fe4-42df-94ad-2a6dbd2ae850",
       "_model_module_version": "^0.2",
       "_view_module_version": "^0.2",
       "icon": "file",
       "name": "set_image_properties.py"
      }
     },
     "8af0a545bc684169bb69bbccb4bf8d09": {
      "model_module": "@jupyter-widgets/controls",
      "model_module_version": "2.0.0",
      "model_name": "ToggleButtonModel",
      "state": {
       "button_style": "primary",
       "icon": "globe",
       "layout": "IPY_MODEL_a5d404de26494cdcaba41131cadd0f21",
       "style": "IPY_MODEL_18d374091f1f4dcabe45608662fd6f14",
       "tooltip": "Create timelapse"
      }
     },
     "8b0391ec5c184a6793aae7aaa760d460": {
      "model_module": "ipytree",
      "model_module_version": "^0.2",
      "model_name": "NodeModel",
      "state": {
       "_id": "606e987f-8587-4403-a2c2-49e866f47dc9",
       "_model_module_version": "^0.2",
       "_view_module_version": "^0.2",
       "icon": "file",
       "name": "global_power_plant_database.py"
      }
     },
     "8b0bf5fa019c49f7a3432cb3cecd1891": {
      "model_module": "ipytree",
      "model_module_version": "^0.2",
      "model_name": "NodeModel",
      "state": {
       "_id": "50d01c0f-9daf-49dd-bc9e-946069bda9dd",
       "_model_module_version": "^0.2",
       "_view_module_version": "^0.2",
       "icon": "file",
       "name": "us_census_states.py"
      }
     },
     "8b2164e8452744e5854a31216ea613cb": {
      "model_module": "@jupyter-widgets/base",
      "model_module_version": "2.0.0",
      "model_name": "LayoutModel",
      "state": {
       "width": "475px"
      }
     },
     "8c0cd87e9f4b47a691e6318d9a108dad": {
      "model_module": "ipytree",
      "model_module_version": "^0.2",
      "model_name": "NodeModel",
      "state": {
       "_id": "e66984b2-1195-4294-9363-5b68b1a8fea1",
       "_model_module_version": "^0.2",
       "_view_module_version": "^0.2",
       "icon": "file",
       "name": "column_info.py"
      }
     },
     "8c569e3898c0480c8b40da89deec5680": {
      "model_module": "ipytree",
      "model_module_version": "^0.2",
      "model_name": "NodeModel",
      "state": {
       "_id": "ab1f13be-a56a-4aae-84e0-1092ad65cc81",
       "_model_module_version": "^0.2",
       "_view_module_version": "^0.2",
       "icon": "file",
       "name": "normalized_difference.py"
      }
     },
     "8cb86e5462af450788cd157551b2a37e": {
      "model_module": "ipytree",
      "model_module_version": "^0.2",
      "model_name": "NodeModel",
      "state": {
       "_id": "2205f040-b3a1-4d98-9a88-84cdbcfc443f",
       "_model_module_version": "^0.2",
       "_view_module_version": "^0.2",
       "icon": "file",
       "name": "morphological_operations.py"
      }
     },
     "8cce6f12a95c44d08e8bd8bad89b7b47": {
      "model_module": "ipytree",
      "model_module_version": "^0.2",
      "model_name": "NodeModel",
      "state": {
       "_id": "cc0875b7-2754-46c3-b75c-dde33d1f401d",
       "_model_module_version": "^0.2",
       "_view_module_version": "^0.2",
       "icon": "file",
       "name": "visualizing_feature_collection.py"
      }
     },
     "8d51f9beeff94150916d60c6ede3250b": {
      "model_module": "ipytree",
      "model_module_version": "^0.2",
      "model_name": "NodeModel",
      "state": {
       "_id": "90aed8e0-c7d7-4012-97dd-34bb7ffdf7dd",
       "_model_module_version": "^0.2",
       "_view_module_version": "^0.2",
       "icon": "file",
       "name": "filtering.py"
      }
     },
     "8d6003e278bc4d4a9c1a06cf3610811e": {
      "model_module": "ipytree",
      "model_module_version": "^0.2",
      "model_name": "NodeModel",
      "state": {
       "_id": "a5abe3e2-4242-4d6f-94ef-15018de9e797",
       "_model_module_version": "^0.2",
       "_view_module_version": "^0.2",
       "icon": "file",
       "name": "us_epa_ecoregions.py"
      }
     },
     "8e06eba051e34351bd3ab2071759dc67": {
      "model_module": "ipytree",
      "model_module_version": "^0.2",
      "model_name": "NodeModel",
      "state": {
       "_id": "20cec826-57d4-4620-acd5-aeb034c39967",
       "_model_module_version": "^0.2",
       "_view_module_version": "^0.2",
       "icon": "file",
       "name": "color_by_attribute.py"
      }
     },
     "8e19d19d340e4fdeb2233bf00a19320b": {
      "model_module": "ipytree",
      "model_module_version": "^0.2",
      "model_name": "NodeModel",
      "state": {
       "_id": "b77e8fb3-305e-4ff8-834f-d11e2bc08a9a",
       "_model_module_version": "^0.2",
       "_view_module_version": "^0.2",
       "name": "Join",
       "nodes": [
        "IPY_MODEL_133f02cc318148e4b627ecc74d6075e2",
        "IPY_MODEL_c7f42a9585014e5bb8d29d2f3dfa85e5",
        "IPY_MODEL_33cb6b9d3fdb4728b648a894f8a983a1",
        "IPY_MODEL_182ff8eb95a04818a85a28a71599f14f",
        "IPY_MODEL_46f3fed8b88241a3afbf5939f7918cab",
        "IPY_MODEL_22cc84f3049c473488dcc6d933a89d0c",
        "IPY_MODEL_5d1a657493234ce08c7a0ac85bbb46d0"
       ],
       "opened": false
      }
     },
     "8eb97e47ea594c7d8640885fe96bbac9": {
      "model_module": "ipytree",
      "model_module_version": "^0.2",
      "model_name": "NodeModel",
      "state": {
       "_id": "6f66a67d-0936-4bfd-9ff5-0204679945a4",
       "_model_module_version": "^0.2",
       "_view_module_version": "^0.2",
       "icon": "file",
       "name": "exporting_data.py"
      }
     },
     "8f1de35ffbe74ae6ab40719456c807fe": {
      "model_module": "@jupyter-widgets/controls",
      "model_module_version": "2.0.0",
      "model_name": "HBoxModel",
      "state": {
       "children": [
        "IPY_MODEL_d4213674bfba404f9d25bb0f7801523e",
        "IPY_MODEL_138f61866ba446239f0cc182aad74ccc"
       ],
       "layout": "IPY_MODEL_160ea572dd4544699a077a1cca77ab07"
      }
     },
     "8f6c759cbe3d4d8a9177946e49604a3d": {
      "model_module": "ipytree",
      "model_module_version": "^0.2",
      "model_name": "NodeModel",
      "state": {
       "_id": "7aa8c596-9c4c-4c7d-9f1e-a4582e57ef26",
       "_model_module_version": "^0.2",
       "_view_module_version": "^0.2",
       "icon": "file",
       "name": "sort_by_cloud_and_date.py"
      }
     },
     "8fa4b908fef447c0a15a8fbdd4c04a5e": {
      "model_module": "@jupyter-widgets/base",
      "model_module_version": "2.0.0",
      "model_name": "LayoutModel",
      "state": {
       "height": "auto",
       "padding": "0px 0px 0px 4px",
       "width": "auto"
      }
     },
     "908016f5fc204be49698fecae7d19c4b": {
      "model_module": "ipytree",
      "model_module_version": "^0.2",
      "model_name": "NodeModel",
      "state": {
       "_id": "47115b15-a9a9-414e-ad77-27334ed9ab4e",
       "_model_module_version": "^0.2",
       "_view_module_version": "^0.2",
       "name": "GlobalSurfaceWater",
       "nodes": [
        "IPY_MODEL_5b351fc9602b4e0bbce6fa00f2e3fea1",
        "IPY_MODEL_b27a67019cad456fbc976efc98840ab1",
        "IPY_MODEL_facb427c56fd4205a924bbccfc3092d4"
       ],
       "opened": false
      }
     },
     "909e61fdc341435b9d3e3399ab70c4ca": {
      "model_module": "ipytree",
      "model_module_version": "^0.2",
      "model_name": "NodeModel",
      "state": {
       "_id": "d3806d5b-641b-4006-9252-a7fe40686cf4",
       "_model_module_version": "^0.2",
       "_view_module_version": "^0.2",
       "name": "JavaScripts",
       "nodes": [
        "IPY_MODEL_eb29ec3c43a94176badeb1293a75907a",
        "IPY_MODEL_b369280776b24fada0c55169b2f2dd97",
        "IPY_MODEL_b2906da36d4a492d8d5c745ee3105331"
       ],
       "opened": false
      }
     },
     "9115d1adb6014a36b4c402253941c48a": {
      "model_module": "ipytree",
      "model_module_version": "^0.2",
      "model_name": "NodeModel",
      "state": {
       "_id": "633137c8-72f6-4512-8c18-63adf013669d",
       "_model_module_version": "^0.2",
       "_view_module_version": "^0.2",
       "icon": "file",
       "name": "from_polygons.py"
      }
     },
     "9164c30297ce4ecf8c9d8045db430b5e": {
      "model_module": "ipytree",
      "model_module_version": "^0.2",
      "model_name": "NodeModel",
      "state": {
       "_id": "9dccdb06-c08e-4083-b076-4f963ae268ea",
       "_model_module_version": "^0.2",
       "_view_module_version": "^0.2",
       "icon": "file",
       "name": "geometric_operations.py"
      }
     },
     "9168d1d8119349769aaad80bebadc6f0": {
      "model_module": "ipytree",
      "model_module_version": "^0.2",
      "model_name": "NodeModel",
      "state": {
       "_id": "6f25ada1-0d4a-4245-94e5-aad18a96c86d",
       "_model_module_version": "^0.2",
       "_view_module_version": "^0.2",
       "name": "Image",
       "nodes": [
        "IPY_MODEL_43676ed37d2248d1a1ac344dbc767599",
        "IPY_MODEL_3741178b19b943faa2d6620e824c5028",
        "IPY_MODEL_1dd37966acd649168d87afdb19f6616d",
        "IPY_MODEL_110803e38d5d4e03999334562bd932f1",
        "IPY_MODEL_e96d6e96aa354b05a6a3e7bf8fcc6567",
        "IPY_MODEL_c273650a214a45558e6abcea3b50f803",
        "IPY_MODEL_508aa295fd8a47f28abcdcce7cf23590",
        "IPY_MODEL_add45edc85614221ac09e900f777e56c",
        "IPY_MODEL_223c6c1291c64a60be1d3a0d8d260ed0",
        "IPY_MODEL_3841781d3a664aed982a2063e868871e",
        "IPY_MODEL_97f326311233439096f29db6d2d04101",
        "IPY_MODEL_a59e893f78184e17a3d616dabe877558",
        "IPY_MODEL_5c849ac7f7bd4035b821982964ed6d60",
        "IPY_MODEL_75bbc788bd5945158d0b21ef5d1e2be2",
        "IPY_MODEL_f72d04cfe75540758bdf9f944b91cbe0",
        "IPY_MODEL_d719c6c0088047f68229ef5a3c1275ad",
        "IPY_MODEL_f2cdcaf6666441b083daba721aa27606",
        "IPY_MODEL_3b91b90492dc4076840ab10a4db26ff2",
        "IPY_MODEL_6b0ed70bfddd4b65a78bf3e70ded1ea0",
        "IPY_MODEL_bfab37da4def433b81a1908fd525b4c1",
        "IPY_MODEL_0abe12a2463d4c539a013d37693976ba",
        "IPY_MODEL_429ba2ddf6b04c6da9d253c98d1c5b4c",
        "IPY_MODEL_d8723cb6663f42f2a8bcc0c5ba97a54f",
        "IPY_MODEL_608201278c054b998870f3d9949e61b7",
        "IPY_MODEL_955a2f8cd3b248ad9c5728cafb417ab5",
        "IPY_MODEL_6ee5298e1fd64e29a2585557a56e2c49",
        "IPY_MODEL_bb2a85eb5fe84b3583b1589285bc325f",
        "IPY_MODEL_401ed4785be04c4aaebde612a2eae62f",
        "IPY_MODEL_efcb58a2711046c7a716702bd1d67ba6",
        "IPY_MODEL_83b717317f354455b49231df1bb85658",
        "IPY_MODEL_f0efddd8b654447e806bbd7f7f26d6fe",
        "IPY_MODEL_f3fba1a57bbb4f99b7993e9a8ea796a2",
        "IPY_MODEL_228926bbf3224e5eac47e80afc75c2db",
        "IPY_MODEL_3f29e267d8324ad1860ef04ca108ddb5",
        "IPY_MODEL_82314b86cede411c92315f938bb6f1ef",
        "IPY_MODEL_a63558f269384d3aaf45d9ad71858804",
        "IPY_MODEL_8cb86e5462af450788cd157551b2a37e",
        "IPY_MODEL_4ad67ebd4f164dccb8ac05edf94cca30",
        "IPY_MODEL_a883d084c3bf44f3924d448ae8d9d809",
        "IPY_MODEL_5c851517c25b4bc281c60e363536a303",
        "IPY_MODEL_b5caa67350f34454aac2c77999896972",
        "IPY_MODEL_4981f9348c5e4e888035f7a311771f8c",
        "IPY_MODEL_a371f573dfaa4496be75d2c2c01df6d6",
        "IPY_MODEL_2e5ee575b54f4bf29391af41b5e4cae4",
        "IPY_MODEL_ee1632abc920487b80842208b210457d",
        "IPY_MODEL_af2876ca6f614d9b9a7957c87fdb361b",
        "IPY_MODEL_cd74bac533454ca3b17714359c5b19c7",
        "IPY_MODEL_3720926e019944b1abc893698862186c",
        "IPY_MODEL_8ae87037bd4148c69a79b0dca19843ba",
        "IPY_MODEL_e25e818240e4487b86673d32c511b7c6",
        "IPY_MODEL_58a736d3f3944db9b73a04b57d41ffda",
        "IPY_MODEL_3049f79506aa48399a803d400b750425",
        "IPY_MODEL_cbfd4d2641b34e84bf6636a7369d49c1",
        "IPY_MODEL_f2931e987f7549b085cdaf5ccdddaf03",
        "IPY_MODEL_b83c1f758b0141a7ab1fe567bbc52fc1"
       ],
       "opened": false
      }
     },
     "9175f5bf94d04a66a8e71b6b41364bf0": {
      "model_module": "ipytree",
      "model_module_version": "^0.2",
      "model_name": "NodeModel",
      "state": {
       "_id": "7154731b-97b9-48d8-ab70-0a0ba5b3bcdf",
       "_model_module_version": "^0.2",
       "_view_module_version": "^0.2",
       "name": "Keiko",
       "nodes": [
        "IPY_MODEL_0e897652f3534de5aa7ce578a69e81c7",
        "IPY_MODEL_a37ff93123414d999b3ef51774df929e",
        "IPY_MODEL_af03a3b5af414b578dd80882b6bf6fd3"
       ],
       "opened": false
      }
     },
     "91d2d732f78841a4ab68f0238a0c07e4": {
      "model_module": "ipytree",
      "model_module_version": "^0.2",
      "model_name": "NodeModel",
      "state": {
       "_id": "08ddc3c6-23bf-4666-884a-5f435b49162c",
       "_model_module_version": "^0.2",
       "_view_module_version": "^0.2",
       "icon": "file",
       "name": "array_images.py"
      }
     },
     "922bfc552dff4aae98e75e1c5f97c6ee": {
      "model_module": "ipytree",
      "model_module_version": "^0.2",
      "model_name": "NodeModel",
      "state": {
       "_id": "3b4f8d08-c3e6-4a88-a289-f05588e5b9dc",
       "_model_module_version": "^0.2",
       "_view_module_version": "^0.2",
       "icon": "file",
       "name": "overview.py"
      }
     },
     "922c0e4f1c7940888dd0a062763448af": {
      "model_module": "ipytree",
      "model_module_version": "^0.2",
      "model_name": "NodeModel",
      "state": {
       "_id": "cfab1520-668f-4324-9008-38e592742c8e",
       "_model_module_version": "^0.2",
       "_view_module_version": "^0.2",
       "icon": "file",
       "name": "map_get_bounds.py"
      }
     },
     "924d161453384333a493eedba5ade7fa": {
      "model_module": "ipytree",
      "model_module_version": "^0.2",
      "model_name": "NodeModel",
      "state": {
       "_id": "cd20920f-0088-4280-9592-02a18d4e88f8",
       "_model_module_version": "^0.2",
       "_view_module_version": "^0.2",
       "icon": "file",
       "name": "where.py"
      }
     },
     "927210f541de4a67965f78baea08a18b": {
      "model_module": "ipytree",
      "model_module_version": "^0.2",
      "model_name": "NodeModel",
      "state": {
       "_id": "f8e6696d-ac16-4fea-af58-8dc8ada2c2e4",
       "_model_module_version": "^0.2",
       "_view_module_version": "^0.2",
       "name": "Segmentation",
       "nodes": [
        "IPY_MODEL_29b9e70762274bfcba247507a4d97be8"
       ],
       "opened": false
      }
     },
     "928fc8c0b4424d96afbd49a164922ba2": {
      "model_module": "ipytree",
      "model_module_version": "^0.2",
      "model_name": "NodeModel",
      "state": {
       "_id": "55698e11-58f0-4b37-b39a-98e7dbaf3110",
       "_model_module_version": "^0.2",
       "_view_module_version": "^0.2",
       "name": "users/nazinamz"
      }
     },
     "929627c41f8f4c38a28b9ecf98ad5616": {
      "model_module": "ipytree",
      "model_module_version": "^0.2",
      "model_name": "NodeModel",
      "state": {
       "_id": "97c50de3-c3a7-4320-b1de-ddaddace89b2",
       "_model_module_version": "^0.2",
       "_view_module_version": "^0.2",
       "icon": "file",
       "name": "jrc_metadata.py"
      }
     },
     "9398f1d5b36c41429e65acc936ce1933": {
      "model_module": "ipytree",
      "model_module_version": "^0.2",
      "model_name": "NodeModel",
      "state": {
       "_id": "071cf11f-0f1d-4386-9a01-9164c7dd6d76",
       "_model_module_version": "^0.2",
       "_view_module_version": "^0.2",
       "icon": "file",
       "name": "Projections.py"
      }
     },
     "93eb73a4279a489994af55ddc3139e80": {
      "model_module": "ipytree",
      "model_module_version": "^0.2",
      "model_name": "NodeModel",
      "state": {
       "_id": "a6f37a28-d44b-4d6c-bb32-47104ab0fb93",
       "_model_module_version": "^0.2",
       "_view_module_version": "^0.2",
       "icon": "file",
       "name": "landsat_symbology.py"
      }
     },
     "943a48e6a58e4f5b8c914d17d50cbe1a": {
      "model_module": "ipytree",
      "model_module_version": "^0.2",
      "model_name": "NodeModel",
      "state": {
       "_id": "9137df36-ca13-444c-8706-493e4bec8a5f",
       "_model_module_version": "^0.2",
       "_view_module_version": "^0.2",
       "icon": "file",
       "name": "hydrosheds_dem.py"
      }
     },
     "9522cc75e3ad41c49af851b76a18babf": {
      "model_module": "ipytree",
      "model_module_version": "^0.2",
      "model_name": "NodeModel",
      "state": {
       "_id": "6f54d97e-554e-492c-8a8a-51076938a971",
       "_model_module_version": "^0.2",
       "_view_module_version": "^0.2",
       "icon": "file",
       "name": "usda_naip.py"
      }
     },
     "954b3eab486a4f0ba98daae0e3c2471e": {
      "model_module": "ipytree",
      "model_module_version": "^0.2",
      "model_name": "NodeModel",
      "state": {
       "_id": "5400b835-8eda-475e-8934-1a44bbb5eb70",
       "_model_module_version": "^0.2",
       "_view_module_version": "^0.2",
       "icon": "file",
       "name": "linear_regression.py"
      }
     },
     "955a2f8cd3b248ad9c5728cafb417ab5": {
      "model_module": "ipytree",
      "model_module_version": "^0.2",
      "model_name": "NodeModel",
      "state": {
       "_id": "0e9e75db-eb18-455d-940b-5c71ed3970b9",
       "_model_module_version": "^0.2",
       "_view_module_version": "^0.2",
       "icon": "file",
       "name": "hdr_landsat.py"
      }
     },
     "95a8972901ca46a7b1658c7f9efd10dd": {
      "model_module": "ipytree",
      "model_module_version": "^0.2",
      "model_name": "NodeModel",
      "state": {
       "_id": "1372f096-3e27-458c-bd8a-3b2ff6b25ffb",
       "_model_module_version": "^0.2",
       "_view_module_version": "^0.2",
       "icon": "file",
       "name": "map_set_zoom.py"
      }
     },
     "962132a9adf34ff0b528729518c6d63a": {
      "model_module": "@jupyter-widgets/controls",
      "model_module_version": "2.0.0",
      "model_name": "GridBoxModel",
      "state": {
       "children": [
        "IPY_MODEL_b7de9592015543ba85b0d560a9bae4b5",
        "IPY_MODEL_1273999a7a5c40ff800b40508e27626d",
        "IPY_MODEL_8af0a545bc684169bb69bbccb4bf8d09",
        "IPY_MODEL_c77019afc2e247ccac52c86cbfabc104",
        "IPY_MODEL_df0cc5fc3245472eb1d97cb7f2e22a4e",
        "IPY_MODEL_bf5617f31b9d44458761d89115f27377"
       ],
       "layout": "IPY_MODEL_89f8ad438c25487ab392e9b6ce69fd10"
      }
     },
     "96379a79331340f4b77f4773da03dc53": {
      "model_module": "ipytree",
      "model_module_version": "^0.2",
      "model_name": "NodeModel",
      "state": {
       "_id": "f30903f0-f981-41df-9648-f82f3871f361",
       "_model_module_version": "^0.2",
       "_view_module_version": "^0.2",
       "icon": "file",
       "name": "DeferredExecution.py"
      }
     },
     "969a4d4759f64f688475ca3fadaf43f9": {
      "model_module": "ipytree",
      "model_module_version": "^0.2",
      "model_name": "NodeModel",
      "state": {
       "_id": "ae3f66d3-edb1-475a-ba04-a693fa6da5a9",
       "_model_module_version": "^0.2",
       "_view_module_version": "^0.2",
       "icon": "file",
       "name": "ndvi_symbology.py"
      }
     },
     "96bac9341b1b4e2583085886695f9591": {
      "model_module": "@jupyter-widgets/base",
      "model_module_version": "2.0.0",
      "model_name": "LayoutModel",
      "state": {
       "height": "auto",
       "padding": "0px 0px 0px 4px",
       "width": "auto"
      }
     },
     "96c82230c1ec4777a711da90b260b2ee": {
      "model_module": "ipytree",
      "model_module_version": "^0.2",
      "model_name": "NodeModel",
      "state": {
       "_id": "708c7f9f-d381-4831-a1f1-dbbfae726be3",
       "_model_module_version": "^0.2",
       "_view_module_version": "^0.2",
       "icon": "file",
       "name": "rendering_categorical_maps.py"
      }
     },
     "96e1656d475a4e8b8651b056cd07d177": {
      "model_module": "ipytree",
      "model_module_version": "^0.2",
      "model_name": "NodeModel",
      "state": {
       "_id": "a9399b47-afa0-475e-8e9a-b0e4488a614f",
       "_model_module_version": "^0.2",
       "_view_module_version": "^0.2",
       "icon": "file",
       "name": "09_a_complete_example.py"
      }
     },
     "96e6dcfa27024f37aa1290861b0511dd": {
      "model_module": "@jupyter-widgets/controls",
      "model_module_version": "2.0.0",
      "model_name": "ToggleButtonModel",
      "state": {
       "button_style": "primary",
       "icon": "info",
       "layout": "IPY_MODEL_ffc6be4b074e48768d68e7bf8c701715",
       "style": "IPY_MODEL_220bcf01de234a558b3ccb4736b125f1",
       "tooltip": "Inspector"
      }
     },
     "97005da41b68407db36220bc9864102a": {
      "model_module": "ipytree",
      "model_module_version": "^0.2",
      "model_name": "NodeModel",
      "state": {
       "_id": "19b28ec4-e2f8-403e-9fbc-8d70e2e063aa",
       "_model_module_version": "^0.2",
       "_view_module_version": "^0.2",
       "icon": "file",
       "name": "alos_mtpi.py"
      }
     },
     "97307395116f47788344386080f20fe3": {
      "model_module": "ipytree",
      "model_module_version": "^0.2",
      "model_name": "NodeModel",
      "state": {
       "_id": "4f886a77-725b-4b0d-b895-9b9742e0b27a",
       "_model_module_version": "^0.2",
       "_view_module_version": "^0.2",
       "icon": "file",
       "name": "pixel_area.py"
      }
     },
     "975675e67c214e9ca4fb619f4234ef72": {
      "model_module": "ipytree",
      "model_module_version": "^0.2",
      "model_name": "NodeModel",
      "state": {
       "_id": "200cd6ae-6e66-46fc-a2c5-49b6d0806960",
       "_model_module_version": "^0.2",
       "_view_module_version": "^0.2",
       "icon": "file",
       "name": "quality_mosaic.py"
      }
     },
     "9787312323584869a1035aaae3f74077": {
      "model_module": "ipytree",
      "model_module_version": "^0.2",
      "model_name": "NodeModel",
      "state": {
       "_id": "5653703b-5820-490a-b262-347bd14b2e08",
       "_model_module_version": "^0.2",
       "_view_module_version": "^0.2",
       "icon": "file",
       "name": "spectral_unmixing.py"
      }
     },
     "97f326311233439096f29db6d2d04101": {
      "model_module": "ipytree",
      "model_module_version": "^0.2",
      "model_name": "NodeModel",
      "state": {
       "_id": "90ba071f-f994-48b1-a168-9c9701cee94b",
       "_model_module_version": "^0.2",
       "_view_module_version": "^0.2",
       "icon": "file",
       "name": "convert_bands_to_image_collection.py"
      }
     },
     "98deb718bfbd4a64af347b95d63df422": {
      "model_module": "jupyter-leaflet",
      "model_module_version": "^0.18",
      "model_name": "LeafletMapModel",
      "state": {
       "_model_module_version": "^0.18",
       "_view_module_version": "^0.18",
       "bottom": 812,
       "controls": [
        "IPY_MODEL_38f312e8ba604adfb2966f23cd06146b",
        "IPY_MODEL_bdc074919af84c509f32515a4aa01955",
        "IPY_MODEL_a5f1c79c4acd44b5b4a365ef45e30a8f",
        "IPY_MODEL_1ffe4d47929a45949073fa73b605560e",
        "IPY_MODEL_1c6d5842b8454d51a40a9d5865f233f5",
        "IPY_MODEL_fa36fad4bac44cf58ff16b92fa520817",
        "IPY_MODEL_82902cb4097e418eaef3c9c6fe8ad321",
        "IPY_MODEL_cebfafa3ab4e4cb49d897060f6d864fe"
       ],
       "default_style": "IPY_MODEL_1dc00b773f064ef5a7c6bbc58ccf7eac",
       "dragging_style": "IPY_MODEL_3c08a559dc1045d2b4cc47af2c313781",
       "east": 190.54687500000003,
       "fullscreen": false,
       "interpolation": "bilinear",
       "layers": [
        "IPY_MODEL_3e9ac6250b8c497d9fd83079d5fce8c6"
       ],
       "layout": "IPY_MODEL_a357988e385e40dcbe6db1384dcd7a82",
       "left": -30,
       "max_zoom": 24,
       "modisdate": "2024-03-03",
       "north": 71.9653876991313,
       "options": [
        "bounce_at_zoom_limits",
        "box_zoom",
        "center",
        "close_popup_on_click",
        "double_click_zoom",
        "dragging",
        "fullscreen",
        "inertia",
        "inertia_deceleration",
        "inertia_max_speed",
        "interpolation",
        "keyboard",
        "keyboard_pan_offset",
        "keyboard_zoom_offset",
        "max_zoom",
        "min_zoom",
        "prefer_canvas",
        "scroll_wheel_zoom",
        "tap",
        "tap_tolerance",
        "touch_zoom",
        "world_copy_jump",
        "zoom",
        "zoom_animation_threshold",
        "zoom_delta",
        "zoom_snap"
       ],
       "prefer_canvas": false,
       "right": 1054,
       "scroll_wheel_zoom": true,
       "south": -71.96538769913128,
       "style": "IPY_MODEL_9f9ef15fe7164f5ca293e2e1639227c4",
       "top": 212,
       "west": -190.54687500000003,
       "window_url": "http://localhost:8889/lab",
       "zoom": 2
      }
     },
     "9909aa4406d741a691b29701c30de4ad": {
      "model_module": "@jupyter-widgets/controls",
      "model_module_version": "2.0.0",
      "model_name": "ToggleButtonStyleModel",
      "state": {
       "description_width": "",
       "font_family": null,
       "font_size": null,
       "font_style": null,
       "font_variant": null,
       "font_weight": null,
       "text_color": null,
       "text_decoration": null
      }
     },
     "995681f722854059ae421890e88a902f": {
      "model_module": "ipytree",
      "model_module_version": "^0.2",
      "model_name": "NodeModel",
      "state": {
       "_id": "a3f86e5a-b7fd-405d-9598-17947378d90b",
       "_model_module_version": "^0.2",
       "_view_module_version": "^0.2",
       "icon": "file",
       "name": "loop_FeatureCollection.py"
      }
     },
     "9a0a73fb63054cd9987db3283c9fb23d": {
      "model_module": "ipytree",
      "model_module_version": "^0.2",
      "model_name": "NodeModel",
      "state": {
       "_id": "b212d5ed-7e71-4afe-91a5-7d0ae7aba293",
       "_model_module_version": "^0.2",
       "_view_module_version": "^0.2",
       "icon": "file",
       "name": "basic_image.py"
      }
     },
     "9a68304079914388900ab03e42597a5f": {
      "model_module": "ipytree",
      "model_module_version": "^0.2",
      "model_name": "NodeModel",
      "state": {
       "_id": "68aefca4-ece9-48db-8f36-68a84c06ded1",
       "_model_module_version": "^0.2",
       "_view_module_version": "^0.2",
       "icon": "file",
       "name": "alos_mtpi.py"
      }
     },
     "9afc446cecca432b9f802e1ba17a5c13": {
      "model_module": "ipytree",
      "model_module_version": "^0.2",
      "model_name": "NodeModel",
      "state": {
       "_id": "3103c53a-8551-42e4-a78a-e8715ba1bd63",
       "_model_module_version": "^0.2",
       "_view_module_version": "^0.2",
       "icon": "file",
       "name": "creating_feature_collection.py"
      }
     },
     "9b142c0d8e974a2d86595f6c95eb16d8": {
      "model_module": "ipytree",
      "model_module_version": "^0.2",
      "model_name": "NodeModel",
      "state": {
       "_id": "97d60e91-09d7-4dff-af8a-6c2ed0b8f437",
       "_model_module_version": "^0.2",
       "_view_module_version": "^0.2",
       "icon": "file",
       "name": "buffer.py"
      }
     },
     "9b86c80522054893939977f42cb7436d": {
      "model_module": "ipytree",
      "model_module_version": "^0.2",
      "model_name": "NodeModel",
      "state": {
       "_id": "20cbf93f-09ec-4a67-bc3a-5feea383cbfb",
       "_model_module_version": "^0.2",
       "_view_module_version": "^0.2",
       "icon": "file",
       "name": "reducing_feature_collection.py"
      }
     },
     "9be7b2813b32475ba68e8fad20ac27ce": {
      "model_module": "ipytree",
      "model_module_version": "^0.2",
      "model_name": "NodeModel",
      "state": {
       "_id": "bae228f5-4d80-47c7-b8be-75b67a0a3b82",
       "_model_module_version": "^0.2",
       "_view_module_version": "^0.2",
       "icon": "file",
       "name": "extract_value_to_points.py"
      }
     },
     "9bf2e91672b74a53a1607fe83565133a": {
      "model_module": "@jupyter-widgets/base",
      "model_module_version": "2.0.0",
      "model_name": "LayoutModel",
      "state": {
       "height": "auto",
       "padding": "0px 0px 0px 4px",
       "width": "auto"
      }
     },
     "9d5382b2ca4544bcabcab3d1748126a4": {
      "model_module": "ipytree",
      "model_module_version": "^0.2",
      "model_name": "NodeModel",
      "state": {
       "_id": "a2fc6924-b8ad-46e9-a4ec-2c618d77eaa4",
       "_model_module_version": "^0.2",
       "_view_module_version": "^0.2",
       "icon": "file",
       "name": "geometric_operations.py"
      }
     },
     "9e1c182deca14771b573b920e8efa85e": {
      "model_module": "ipytree",
      "model_module_version": "^0.2",
      "model_name": "NodeModel",
      "state": {
       "_id": "108c96f4-8904-4e48-b5e1-aec551949055",
       "_model_module_version": "^0.2",
       "_view_module_version": "^0.2",
       "icon": "file",
       "name": "column_statistics_multiple.py"
      }
     },
     "9e62b916a51046178a28e85d03897564": {
      "model_module": "ipytree",
      "model_module_version": "^0.2",
      "model_name": "NodeModel",
      "state": {
       "_id": "ff708a83-8cb6-4950-a12b-5e184a6969fc",
       "_model_module_version": "^0.2",
       "_view_module_version": "^0.2",
       "icon": "file",
       "name": "linear_fit.py"
      }
     },
     "9e8d1320f4054829b39edd408ccabe73": {
      "model_module": "@jupyter-widgets/base",
      "model_module_version": "2.0.0",
      "model_name": "LayoutModel",
      "state": {}
     },
     "9f2c3b4d09204416ae6284f9ca929769": {
      "model_module": "ipytree",
      "model_module_version": "^0.2",
      "model_name": "NodeModel",
      "state": {
       "_id": "5729581f-8a80-42a6-aacb-fe285212f071",
       "_model_module_version": "^0.2",
       "_view_module_version": "^0.2",
       "icon": "file",
       "name": "linear_fit.py"
      }
     },
     "9f5bedd764434897ac666c1fe7c5d11f": {
      "model_module": "ipytree",
      "model_module_version": "^0.2",
      "model_name": "NodeModel",
      "state": {
       "_id": "df65839c-81aa-495b-ab69-f429a45fb67d",
       "_model_module_version": "^0.2",
       "_view_module_version": "^0.2",
       "name": "ImageCollection",
       "nodes": [
        "IPY_MODEL_f3d21e37c4674317b525075c67c7cd2e",
        "IPY_MODEL_6db1b34e864c47f298a465c62998afaf",
        "IPY_MODEL_a5fe363cc2c844adac22e2db4e5caad5",
        "IPY_MODEL_d0dcca7d8f6a4eea8cb56ea786538c72",
        "IPY_MODEL_05d6053594eb42898c6a0392408db07a",
        "IPY_MODEL_ea41500a5e00432da0deed9e4856e235",
        "IPY_MODEL_adba441b29e24af1925b6ee34148d81e",
        "IPY_MODEL_f8c39041c54f40479bdc50675532a05b",
        "IPY_MODEL_c87e4d3006414b2ea5e2e743c7a59d1c",
        "IPY_MODEL_3813d491d5a14739ba2e8a84f7eb62c9",
        "IPY_MODEL_8340f73e694f4487b86ed20bb26cf802",
        "IPY_MODEL_49a23da0fa624113af55eba3945f4289",
        "IPY_MODEL_9e62b916a51046178a28e85d03897564",
        "IPY_MODEL_28a3c99bc68341d6aa16e4cc0ea54c29",
        "IPY_MODEL_82cb4678ef8a402ca74689b561c49cbe",
        "IPY_MODEL_65e4365edbaf402ab69dbfcec519e46a",
        "IPY_MODEL_f13ae92f047e4573b5ceb62ed203ba57",
        "IPY_MODEL_20ac82918e4b4852ad2a262f33408755",
        "IPY_MODEL_58b71cbcfd234f71b435ee7c23f00834",
        "IPY_MODEL_8f6c759cbe3d4d8a9177946e49604a3d"
       ]
      }
     },
     "9f6fec61024d4038a7a22a225abd8919": {
      "model_module": "@jupyter-widgets/controls",
      "model_module_version": "2.0.0",
      "model_name": "ToggleButtonModel",
      "state": {
       "button_style": "primary",
       "icon": "eraser",
       "layout": "IPY_MODEL_8a710814f85d4572a46d57bc44f051a3",
       "style": "IPY_MODEL_ea844892f6f246c4b6d51401098fee5d",
       "tooltip": "Remove all drawn features"
      }
     },
     "9f92a862d950469da4454754181c4d5f": {
      "model_module": "ipytree",
      "model_module_version": "^0.2",
      "model_name": "NodeModel",
      "state": {
       "_id": "9ef7680d-a33e-4a5e-ae0c-82d72824cfc8",
       "_model_module_version": "^0.2",
       "_view_module_version": "^0.2",
       "name": "contrib",
       "nodes": [
        "IPY_MODEL_473bb72ff1284213a1dc83c50097d9e1",
        "IPY_MODEL_ec65e517a4d54b2fbca72da167561a3b"
       ],
       "opened": false
      }
     },
     "9f9ef15fe7164f5ca293e2e1639227c4": {
      "model_module": "jupyter-leaflet",
      "model_module_version": "^0.18",
      "model_name": "LeafletMapStyleModel",
      "state": {
       "_model_module_version": "^0.18"
      }
     },
     "a0447f80ffa64425af03fb5ad8e01fcc": {
      "model_module": "ipytree",
      "model_module_version": "^0.2",
      "model_name": "NodeModel",
      "state": {
       "_id": "f3ba1384-e41f-46ba-9abf-6fa6e047d186",
       "_model_module_version": "^0.2",
       "_view_module_version": "^0.2",
       "icon": "file",
       "name": "utils-hillshadeRgb.py"
      }
     },
     "a06b59b46d9b47c1be6265529d6a8baf": {
      "model_module": "@jupyter-widgets/base",
      "model_module_version": "2.0.0",
      "model_name": "LayoutModel",
      "state": {}
     },
     "a07d3cdd72ab4767a874d2de666a4bd7": {
      "model_module": "ipytree",
      "model_module_version": "^0.2",
      "model_name": "NodeModel",
      "state": {
       "_id": "be9b5bd1-0df6-4ab8-8fde-075e249077df",
       "_model_module_version": "^0.2",
       "_view_module_version": "^0.2",
       "icon": "file",
       "name": "hdr_landsat.py"
      }
     },
     "a106dfa156dd4bc7b814bc946abc2be3": {
      "model_module": "@jupyter-widgets/controls",
      "model_module_version": "2.0.0",
      "model_name": "ToggleButtonStyleModel",
      "state": {
       "description_width": "",
       "font_family": null,
       "font_size": null,
       "font_style": null,
       "font_variant": null,
       "font_weight": null,
       "text_color": null,
       "text_decoration": null
      }
     },
     "a11162721ce543f389e99a3118cbcb88": {
      "model_module": "ipytree",
      "model_module_version": "^0.2",
      "model_name": "NodeModel",
      "state": {
       "_id": "5a33c0cb-5e3c-4544-9b06-33eeb71eee8b",
       "_model_module_version": "^0.2",
       "_view_module_version": "^0.2",
       "name": "GetStarted",
       "nodes": [
        "IPY_MODEL_7aa9caa6b78a49edb38a9ecab2263f9c",
        "IPY_MODEL_cd34bb559fe44f5c974292917e85df09",
        "IPY_MODEL_52eb18210d684a1f9fd580cbe88bcb1d",
        "IPY_MODEL_331ed48bc8ab4d2787d6759d6b5f8112",
        "IPY_MODEL_23a0982375c048b383a304e3a291d912",
        "IPY_MODEL_1678c09ddca6436a92930dc0de814e7e",
        "IPY_MODEL_e764e17e9c1f45a18342cae07a605b8a",
        "IPY_MODEL_74fe5ca97035445f8d1a011b2ab3fa57",
        "IPY_MODEL_96e1656d475a4e8b8651b056cd07d177"
       ],
       "opened": false
      }
     },
     "a18066d63f5c4352ba749bc30f1feb81": {
      "model_module": "ipytree",
      "model_module_version": "^0.2",
      "model_name": "NodeModel",
      "state": {
       "_id": "33781da8-7a54-4582-8933-271b3fb762ee",
       "_model_module_version": "^0.2",
       "_view_module_version": "^0.2",
       "icon": "file",
       "name": "convert_raster_to_vector.py"
      }
     },
     "a280011bd7ea450a98d1f55dbe6ad698": {
      "model_module": "@jupyter-widgets/controls",
      "model_module_version": "2.0.0",
      "model_name": "ButtonStyleModel",
      "state": {
       "font_family": null,
       "font_size": null,
       "font_style": null,
       "font_variant": null,
       "font_weight": null,
       "text_color": null,
       "text_decoration": null
      }
     },
     "a293b3167da64363956acd4a1324fbbb": {
      "model_module": "ipytree",
      "model_module_version": "^0.2",
      "model_name": "NodeModel",
      "state": {
       "_id": "4aab76a6-277d-407e-8414-003a090bdb6f",
       "_model_module_version": "^0.2",
       "_view_module_version": "^0.2",
       "icon": "file",
       "name": "random_samples.py"
      }
     },
     "a29e440c6bcd45ce8386839e318ad975": {
      "model_module": "ipytree",
      "model_module_version": "^0.2",
      "model_name": "NodeModel",
      "state": {
       "_id": "0719b364-b8f8-42e5-b713-8ae4cb0f30b8",
       "_model_module_version": "^0.2",
       "_view_module_version": "^0.2",
       "name": "Filter",
       "nodes": [
        "IPY_MODEL_4b036e7fc3294f8293d1e55fb1151228",
        "IPY_MODEL_1e8a41ec93744814bc26b188af56f135",
        "IPY_MODEL_b30173a57f3c4411b4c7d77de24213c4",
        "IPY_MODEL_cddabbf41fed409d9ec79d440ff696b6",
        "IPY_MODEL_0aebcaea66074c199b1874fb822a1382",
        "IPY_MODEL_23906cabf49e4f03968412956173d731",
        "IPY_MODEL_d7c07bdaabb34f77b82b4e95b69df408"
       ],
       "opened": false
      }
     },
     "a2dd0c81466a4f51884aaf689dbbdbb5": {
      "model_module": "@jupyter-widgets/controls",
      "model_module_version": "2.0.0",
      "model_name": "ToggleButtonStyleModel",
      "state": {
       "description_width": "",
       "font_family": null,
       "font_size": null,
       "font_style": null,
       "font_variant": null,
       "font_weight": null,
       "text_color": null,
       "text_decoration": null
      }
     },
     "a2f3167b1af448f594e86462022aad8b": {
      "model_module": "@jupyter-widgets/controls",
      "model_module_version": "2.0.0",
      "model_name": "DropdownModel",
      "state": {
       "index": null,
       "layout": "IPY_MODEL_546f82ab9db64eaead40866a285d02f3",
       "style": "IPY_MODEL_c54ae143859a406f831804845f4a473f"
      }
     },
     "a319b747b948464bbfca494941ccca2d": {
      "model_module": "@jupyter-widgets/base",
      "model_module_version": "2.0.0",
      "model_name": "LayoutModel",
      "state": {
       "width": "310px"
      }
     },
     "a357988e385e40dcbe6db1384dcd7a82": {
      "model_module": "@jupyter-widgets/base",
      "model_module_version": "2.0.0",
      "model_name": "LayoutModel",
      "state": {
       "height": "600px"
      }
     },
     "a362f1b8140b4806977cf5c58c219c2e": {
      "model_module": "ipytree",
      "model_module_version": "^0.2",
      "model_name": "NodeModel",
      "state": {
       "_id": "9d7a344e-dc0c-438b-bd87-fbad3f1d5f06",
       "_model_module_version": "^0.2",
       "_view_module_version": "^0.2",
       "icon": "file",
       "name": "polynomial.py"
      }
     },
     "a371f573dfaa4496be75d2c2c01df6d6": {
      "model_module": "ipytree",
      "model_module_version": "^0.2",
      "model_name": "NodeModel",
      "state": {
       "_id": "a8e8e840-2867-4cd3-bc29-275893e001b2",
       "_model_module_version": "^0.2",
       "_view_module_version": "^0.2",
       "icon": "file",
       "name": "polynomial.py"
      }
     },
     "a37ff93123414d999b3ef51774df929e": {
      "model_module": "ipytree",
      "model_module_version": "^0.2",
      "model_name": "NodeModel",
      "state": {
       "_id": "3cfbb951-7f00-4888-98dc-6c75c86f3365",
       "_model_module_version": "^0.2",
       "_view_module_version": "^0.2",
       "icon": "file",
       "name": "glad_alert.py"
      }
     },
     "a3be0f422c21443d99ddbfeca985b56e": {
      "model_module": "ipytree",
      "model_module_version": "^0.2",
      "model_name": "NodeModel",
      "state": {
       "_id": "5cb72a3e-0479-4c61-9609-25542840c81c",
       "_model_module_version": "^0.2",
       "_view_module_version": "^0.2",
       "icon": "file",
       "name": "min_max_reducer.py"
      }
     },
     "a3cfc29a73fc452a89166ea22393ee13": {
      "model_module": "@jupyter-widgets/controls",
      "model_module_version": "2.0.0",
      "model_name": "ToggleButtonModel",
      "state": {
       "button_style": "primary",
       "icon": "info-circle",
       "layout": "IPY_MODEL_412fbef4173146159e95a7a2ca51f8e2",
       "style": "IPY_MODEL_21e26312d5bb4246a7256bbbb88661e0",
       "tooltip": "Get COG/STAC pixel value"
      }
     },
     "a3e547deca064d2c987159f2305a5b55": {
      "model_module": "ipytree",
      "model_module_version": "^0.2",
      "model_name": "NodeModel",
      "state": {
       "_id": "d71009d8-d856-40f9-a39b-4a8b7b8f3cb7",
       "_model_module_version": "^0.2",
       "_view_module_version": "^0.2",
       "icon": "file",
       "name": "naip_imagery.py"
      }
     },
     "a3faf26da5d445d2afb69333829972d1": {
      "model_module": "ipytree",
      "model_module_version": "^0.2",
      "model_name": "NodeModel",
      "state": {
       "_id": "2cf61b90-1b6f-48cc-aac3-68797a1d3643",
       "_model_module_version": "^0.2",
       "_view_module_version": "^0.2",
       "icon": "file",
       "name": "image_clipping.py"
      }
     },
     "a4023e79ef1d44ed87713113f0268091": {
      "model_module": "ipytree",
      "model_module_version": "^0.2",
      "model_name": "NodeModel",
      "state": {
       "_id": "534431cf-e35d-413e-a24d-cb7e4eef00ce",
       "_model_module_version": "^0.2",
       "_view_module_version": "^0.2",
       "icon": "file",
       "name": "array_transformations.py"
      }
     },
     "a421f2d8868f49d29c9b101156a82627": {
      "model_module": "@jupyter-widgets/base",
      "model_module_version": "2.0.0",
      "model_name": "LayoutModel",
      "state": {
       "width": "475px"
      }
     },
     "a47534666611487988d1d5b8f9803e8d": {
      "model_module": "ipytree",
      "model_module_version": "^0.2",
      "model_name": "NodeModel",
      "state": {
       "_id": "0c81783d-b372-4dd8-b8ed-fb7e4370f9a8",
       "_model_module_version": "^0.2",
       "_view_module_version": "^0.2",
       "icon": "file",
       "name": "reduce_resolution.py"
      }
     },
     "a52a980efa4947f2b8341f3a655bd0fe": {
      "model_module": "ipytree",
      "model_module_version": "^0.2",
      "model_name": "NodeModel",
      "state": {
       "_id": "036c8cad-6c19-4b78-9ac3-876d7de2cadc",
       "_model_module_version": "^0.2",
       "_view_module_version": "^0.2",
       "icon": "file",
       "name": "global_land_ice_measurements.py"
      }
     },
     "a5386593525541999b169f6364db2957": {
      "model_module": "ipytree",
      "model_module_version": "^0.2",
      "model_name": "NodeModel",
      "state": {
       "_id": "ec162577-89a1-4e35-adaf-16ffa5dc8418",
       "_model_module_version": "^0.2",
       "_view_module_version": "^0.2",
       "name": "Water",
       "nodes": [
        "IPY_MODEL_16db8a6e4eba4a6cb285c65f33b6fd1b",
        "IPY_MODEL_b51399421bc54a81a33cafdc6d5f3b18",
        "IPY_MODEL_929627c41f8f4c38a28b9ecf98ad5616",
        "IPY_MODEL_ad7c3e76924447d981f0499650ea41e4",
        "IPY_MODEL_daac3e13fe94446384c86ba91f27fcf3",
        "IPY_MODEL_c0f592502bab4a578391a6a10d44ec09",
        "IPY_MODEL_2812b48edf5641ba8bd3aa1a1be8e722"
       ],
       "opened": false
      }
     },
     "a54349263a134d16bf6819cfc838e677": {
      "model_module": "ipytree",
      "model_module_version": "^0.2",
      "model_name": "NodeModel",
      "state": {
       "_id": "a14055f5-b233-4d67-82f2-9039e4e28819",
       "_model_module_version": "^0.2",
       "_view_module_version": "^0.2",
       "icon": "file",
       "name": "filtering_by_band_names.py"
      }
     },
     "a59d70a1f3444d7aae05602f6db04bd4": {
      "model_module": "@jupyter-widgets/controls",
      "model_module_version": "2.0.0",
      "model_name": "HTMLModel",
      "state": {
       "layout": "IPY_MODEL_b984ce03acb044d5acc39a5f1b326a3f",
       "style": "IPY_MODEL_d3a91d0c22954f0f814e1b4accb80564"
      }
     },
     "a59e893f78184e17a3d616dabe877558": {
      "model_module": "ipytree",
      "model_module_version": "^0.2",
      "model_name": "NodeModel",
      "state": {
       "_id": "b49dad5e-588b-4c02-bd35-8c504c84202e",
       "_model_module_version": "^0.2",
       "_view_module_version": "^0.2",
       "icon": "file",
       "name": "convolutions.py"
      }
     },
     "a5d404de26494cdcaba41131cadd0f21": {
      "model_module": "@jupyter-widgets/base",
      "model_module_version": "2.0.0",
      "model_name": "LayoutModel",
      "state": {
       "height": "auto",
       "padding": "0px 0px 0px 4px",
       "width": "auto"
      }
     },
     "a5f1c79c4acd44b5b4a365ef45e30a8f": {
      "model_module": "jupyter-leaflet",
      "model_module_version": "^0.18",
      "model_name": "LeafletFullScreenControlModel",
      "state": {
       "_model_module_version": "^0.18",
       "_view_module_version": "^0.18",
       "options": [
        "position"
       ]
      }
     },
     "a5fe363cc2c844adac22e2db4e5caad5": {
      "model_module": "ipytree",
      "model_module_version": "^0.2",
      "model_name": "NodeModel",
      "state": {
       "_id": "520b1c30-381f-4b76-9cc1-2b81cb0abd8d",
       "_model_module_version": "^0.2",
       "_view_module_version": "^0.2",
       "icon": "file",
       "name": "creating_monthly_imagery.py"
      }
     },
     "a63558f269384d3aaf45d9ad71858804": {
      "model_module": "ipytree",
      "model_module_version": "^0.2",
      "model_name": "NodeModel",
      "state": {
       "_id": "4f82e6f3-4359-4032-ba06-f44a724f65f9",
       "_model_module_version": "^0.2",
       "_view_module_version": "^0.2",
       "icon": "file",
       "name": "landcover_cleanup.py"
      }
     },
     "a7a723f2e3514df6ab417753f5e27c70": {
      "model_module": "ipytree",
      "model_module_version": "^0.2",
      "model_name": "NodeModel",
      "state": {
       "_id": "33d9f5b5-4682-4eac-bd56-df3824fc69b4",
       "_model_module_version": "^0.2",
       "_view_module_version": "^0.2",
       "name": "Owner",
       "opened": false
      }
     },
     "a883d084c3bf44f3924d448ae8d9d809": {
      "model_module": "ipytree",
      "model_module_version": "^0.2",
      "model_name": "NodeModel",
      "state": {
       "_id": "3b7d2691-0f6d-491b-8997-72b1a75ac5b8",
       "_model_module_version": "^0.2",
       "_view_module_version": "^0.2",
       "icon": "file",
       "name": "object_based.py"
      }
     },
     "a8cc9f6a5c1d48a590fe8264343d71fe": {
      "model_module": "ipytree",
      "model_module_version": "^0.2",
      "model_name": "NodeModel",
      "state": {
       "_id": "0e9d7ee1-e22b-43e9-9746-e03871dbdb9b",
       "_model_module_version": "^0.2",
       "_view_module_version": "^0.2",
       "icon": "file",
       "name": "hydrosheds_dem.py"
      }
     },
     "a8d4ead432c44d5183d8a47742feacda": {
      "model_module": "ipytree",
      "model_module_version": "^0.2",
      "model_name": "NodeModel",
      "state": {
       "_id": "8f07984f-0129-4180-bdf7-0f56bca20c7b",
       "_model_module_version": "^0.2",
       "_view_module_version": "^0.2",
       "name": "AssetManagement",
       "nodes": [
        "IPY_MODEL_1d67bc0e45f14e48af78956be9facc67",
        "IPY_MODEL_89d423d06cd648dbba614592d3ba981c",
        "IPY_MODEL_df7e3ffec5dc4866b6902ea01ea9ecdb",
        "IPY_MODEL_d6c72856d2554cdd974173ce43345e36",
        "IPY_MODEL_26152554551041db9166af41b831e9aa",
        "IPY_MODEL_0abcd486eb574d3e9179c4d511124dcc",
        "IPY_MODEL_5d309a384a2a4eb3bdafede759ee4b68",
        "IPY_MODEL_69ccbf76e5324844900683bda73e921f",
        "IPY_MODEL_8eb97e47ea594c7d8640885fe96bbac9"
       ],
       "opened": false
      }
     },
     "a955e075200c4f74b3c0c0799818e30c": {
      "model_module": "ipytree",
      "model_module_version": "^0.2",
      "model_name": "NodeModel",
      "state": {
       "_id": "5028cc59-f213-4bc0-94b7-c466a00be7c0",
       "_model_module_version": "^0.2",
       "_view_module_version": "^0.2",
       "icon": "file",
       "name": "add_area_column.py"
      }
     },
     "a963a4b5ad1d45198fc2ff8fa065cfc5": {
      "model_module": "ipytree",
      "model_module_version": "^0.2",
      "model_name": "NodeModel",
      "state": {
       "_id": "87e9806e-450d-4c4e-8730-f5e7977c5d53",
       "_model_module_version": "^0.2",
       "_view_module_version": "^0.2",
       "icon": "file",
       "name": "us_epa_ecoregions.py"
      }
     },
     "a99782de877e4627991d57ba9d3ccc85": {
      "model_module": "ipytree",
      "model_module_version": "^0.2",
      "model_name": "NodeModel",
      "state": {
       "_id": "dc17d058-6be1-42cf-b17e-df0c27c440dd",
       "_model_module_version": "^0.2",
       "_view_module_version": "^0.2",
       "icon": "file",
       "name": "linear_regression.py"
      }
     },
     "aa091db83b584dcf8957ce30036e24a3": {
      "model_module": "ipytree",
      "model_module_version": "^0.2",
      "model_name": "NodeModel",
      "state": {
       "_id": "f917a237-5be5-4246-82e8-90a7dbe89899",
       "_model_module_version": "^0.2",
       "_view_module_version": "^0.2",
       "icon": "file",
       "name": "naip_imagery.py"
      }
     },
     "aa793d2ff5f44fb3a1e3bf0eaaa4a540": {
      "model_module": "@jupyter-widgets/controls",
      "model_module_version": "2.0.0",
      "model_name": "TextareaModel",
      "state": {
       "layout": "IPY_MODEL_604fc7be126e49959a1c592f5092e1bb",
       "style": "IPY_MODEL_18291ec7c9a6409fa24035e7a298b787",
       "value": "#!/usr/bin/env python\n\"\"\"Composite an image collection and clip it to a boundary from a fusion table.\n\nSee also: Filtered Seasonal Composite, which filters the\ncollection by bounds instead.\n\"\"\"\n\n# import datetime\nimport ee\nimport geemap\n\n# Create a map centered at (lat, lon).\nMap = geemap.Map(center=[40, -100], zoom=4)\n\n\nMap.setCenter(-110, 40, 5)\nfc = ee.FeatureCollection('TIGER/2018/States').filter(ee.Filter.eq('STUSPS', 'MN'))\n\n# Create a Landsat 7, median-pixel composite for Spring of 2000.\ncollection = ee.ImageCollection('LE7_L1T').filterDate(\"2000-05-01\", \"2000-10-31\") \\\n      .filterBounds(fc)\nimage1 = collection.median()\n# Map.addLayer(image1)\n\n# # Clip to the output image to the California state boundary.\n# # fc = (ee.FeatureCollection('ft:1fRY18cjsHzDgGiJiS2nnpUU3v9JPDc2HNaR7Xk8')\n# #       .filter(ee.Filter().eq('Name', 'Minnesota')))\n\n\nimage2 = image1.clipToCollection(fc)\n\n# Select the red, green and blue bands.\nimage = image2.select('B4', 'B3', 'B2')\nMap.addLayer(image, {'gain': [1.4, 1.4, 1.1]}, 'Landsat 7')\n\n# Display the map.\nMap\n"
      }
     },
     "aac3cba28511404a84218d8ced2939c2": {
      "model_module": "ipytree",
      "model_module_version": "^0.2",
      "model_name": "NodeModel",
      "state": {
       "_id": "f89de852-64a7-46cd-bf72-91bea35fefc2",
       "_model_module_version": "^0.2",
       "_view_module_version": "^0.2",
       "icon": "file",
       "name": "alos_chili.py"
      }
     },
     "aacd6241a3d84649a6c1f2c3c8825289": {
      "model_module": "@jupyter-widgets/controls",
      "model_module_version": "2.0.0",
      "model_name": "HBoxModel",
      "state": {
       "children": [
        "IPY_MODEL_03b584d42ed94dfda51f5055487dae4e",
        "IPY_MODEL_b6e9d6ff1f384a438be47e05851a8fee"
       ],
       "layout": "IPY_MODEL_76f0a99a3dda4debb0b71d710dd137c6"
      }
     },
     "aadd35d58fa04816879f84fa7eb04687": {
      "model_module": "@jupyter-widgets/output",
      "model_module_version": "1.0.0",
      "model_name": "OutputModel",
      "state": {
       "layout": "IPY_MODEL_5c07dfea99e64258b643fb9c4e82a3c3"
      }
     },
     "abac8cdbdfb04b579dfc35b821af1dc5": {
      "model_module": "ipytree",
      "model_module_version": "^0.2",
      "model_name": "NodeModel",
      "state": {
       "_id": "39941a34-dfe8-4ad5-98f0-a4936eeae134",
       "_model_module_version": "^0.2",
       "_view_module_version": "^0.2",
       "name": "Vectors",
       "nodes": [
        "IPY_MODEL_a52a980efa4947f2b8341f3a655bd0fe",
        "IPY_MODEL_8b0391ec5c184a6793aae7aaa760d460",
        "IPY_MODEL_149fa3f9d9ee4c16a683d015c5417d20",
        "IPY_MODEL_ef8e88f3070e4b29a3aead028b387f74",
        "IPY_MODEL_7543e9b605d14a91a64d6af75df6e7df",
        "IPY_MODEL_798d0995c1c2414a92a0c5a4c9f850ca",
        "IPY_MODEL_0e0b152b967e4bab9f68322e31b0efce",
        "IPY_MODEL_30efc697a0cf43ebb0e50b4e4ab9de98",
        "IPY_MODEL_6702d14309dd4cdfa816763fd76c8e20",
        "IPY_MODEL_8b0bf5fa019c49f7a3432cb3cecd1891",
        "IPY_MODEL_0bda16e3c5f44c6f917b8847bf0ee755",
        "IPY_MODEL_67709ccbba454e71a87eb2711afb9bc4",
        "IPY_MODEL_8d6003e278bc4d4a9c1a06cf3610811e",
        "IPY_MODEL_1683d1efc387489597064ed3b96dffc0",
        "IPY_MODEL_5ed16a9fcfb440de9b054f33258543c7"
       ],
       "opened": false
      }
     },
     "abbf4f5006c445f3bed41943c45055a5": {
      "model_module": "ipytree",
      "model_module_version": "^0.2",
      "model_name": "NodeModel",
      "state": {
       "_id": "0e17b874-312d-4fe2-9e19-5939a46851b9",
       "_model_module_version": "^0.2",
       "_view_module_version": "^0.2",
       "icon": "file",
       "name": "reduce_to_image.py"
      }
     },
     "abeeef87898b42389e284923fa6b0eed": {
      "model_module": "@jupyter-widgets/controls",
      "model_module_version": "2.0.0",
      "model_name": "HBoxModel",
      "state": {
       "children": [
        "IPY_MODEL_536ff2bb96894870bf56c227d6e05838",
        "IPY_MODEL_0b381beaa2f24d07b762dba0aa62c30d"
       ],
       "layout": "IPY_MODEL_eb37f14b89474a819fbc8bc8a3ba2bc0"
      }
     },
     "abf91cd30e364607bb9701c6f240144a": {
      "model_module": "ipytree",
      "model_module_version": "^0.2",
      "model_name": "NodeModel",
      "state": {
       "_id": "d52a586e-916e-4a94-82fb-b41e2179d5aa",
       "_model_module_version": "^0.2",
       "_view_module_version": "^0.2",
       "icon": "file",
       "name": "buffer.py"
      }
     },
     "ac9c4beb36b0440395b9c3baf9aa3217": {
      "model_module": "ipytree",
      "model_module_version": "^0.2",
      "model_name": "NodeModel",
      "state": {
       "_id": "29f48afd-cb47-421c-9e0a-ae102340b30a",
       "_model_module_version": "^0.2",
       "_view_module_version": "^0.2",
       "icon": "file",
       "name": "select_columns.py"
      }
     },
     "acb8204de05c498ea70b53b15fd49eea": {
      "model_module": "@jupyter-widgets/base",
      "model_module_version": "2.0.0",
      "model_name": "LayoutModel",
      "state": {}
     },
     "ad0c70d6ea93418c9f3b98a29c7ff540": {
      "model_module": "@jupyter-widgets/base",
      "model_module_version": "2.0.0",
      "model_name": "LayoutModel",
      "state": {
       "width": "70px"
      }
     },
     "ad59323b877a4e5fb719cb345f0df5c9": {
      "model_module": "ipytree",
      "model_module_version": "^0.2",
      "model_name": "NodeModel",
      "state": {
       "_id": "0e64afe7-ad8c-4f2d-b7ad-bcc7907d8841",
       "_model_module_version": "^0.2",
       "_view_module_version": "^0.2",
       "icon": "file",
       "name": "filter_string_ends_with.py"
      }
     },
     "ad7c3e76924447d981f0499650ea41e4": {
      "model_module": "ipytree",
      "model_module_version": "^0.2",
      "model_name": "NodeModel",
      "state": {
       "_id": "987890d1-8597-403b-9aa9-f214110d41b2",
       "_model_module_version": "^0.2",
       "_view_module_version": "^0.2",
       "icon": "file",
       "name": "jrc_monthly_history.py"
      }
     },
     "adba441b29e24af1925b6ee34148d81e": {
      "model_module": "ipytree",
      "model_module_version": "^0.2",
      "model_name": "NodeModel",
      "state": {
       "_id": "8487ee29-040b-4b24-a736-ec31df1741d6",
       "_model_module_version": "^0.2",
       "_view_module_version": "^0.2",
       "icon": "file",
       "name": "filtering_by_calendar_range.py"
      }
     },
     "add45edc85614221ac09e900f777e56c": {
      "model_module": "ipytree",
      "model_module_version": "^0.2",
      "model_name": "NodeModel",
      "state": {
       "_id": "439fdf8f-4a0d-4141-a303-140719ee728b",
       "_model_module_version": "^0.2",
       "_view_module_version": "^0.2",
       "icon": "file",
       "name": "composite_bands.py"
      }
     },
     "ae0105a15f63452caadf65372c5c02fb": {
      "model_module": "ipytree",
      "model_module_version": "^0.2",
      "model_name": "NodeModel",
      "state": {
       "_id": "a056374d-0cb6-4323-b9ed-6cc9bc81a8cf",
       "_model_module_version": "^0.2",
       "_view_module_version": "^0.2",
       "icon": "file",
       "name": "image_clipping.py"
      }
     },
     "ae19108714984416b5057adb168b1086": {
      "model_module": "ipytree",
      "model_module_version": "^0.2",
      "model_name": "NodeModel",
      "state": {
       "_id": "e544281a-0468-476e-a3bf-9a31378cef2b",
       "_model_module_version": "^0.2",
       "_view_module_version": "^0.2",
       "icon": "file",
       "name": "confusion_matrix.py"
      }
     },
     "ae9de80ca9ce4cb981cfffa06cf932b1": {
      "model_module": "@jupyter-widgets/controls",
      "model_module_version": "2.0.0",
      "model_name": "TextStyleModel",
      "state": {
       "description_width": "",
       "font_size": null,
       "text_color": null
      }
     },
     "af03a3b5af414b578dd80882b6bf6fd3": {
      "model_module": "ipytree",
      "model_module_version": "^0.2",
      "model_name": "NodeModel",
      "state": {
       "_id": "fdc7df19-f305-4422-9411-e7a1ea654d26",
       "_model_module_version": "^0.2",
       "_view_module_version": "^0.2",
       "icon": "file",
       "name": "remove_colors.py"
      }
     },
     "af2876ca6f614d9b9a7957c87fdb361b": {
      "model_module": "ipytree",
      "model_module_version": "^0.2",
      "model_name": "NodeModel",
      "state": {
       "_id": "59181b2e-df6e-4792-ab14-3ac8942f8244",
       "_model_module_version": "^0.2",
       "_view_module_version": "^0.2",
       "icon": "file",
       "name": "relational_operators.py"
      }
     },
     "afd6982208594533b37397e5e6cf6651": {
      "model_module": "ipytree",
      "model_module_version": "^0.2",
      "model_name": "NodeModel",
      "state": {
       "_id": "a7075c19-bd22-4eaf-9fef-533d11e104ad",
       "_model_module_version": "^0.2",
       "_view_module_version": "^0.2",
       "icon": "file",
       "name": "resampling2.py"
      }
     },
     "b02b81628d904bb0aa5626d78294faf6": {
      "model_module": "ipytree",
      "model_module_version": "^0.2",
      "model_name": "NodeModel",
      "state": {
       "_id": "3dd6d9a2-6be8-4f68-b6c3-eecd9086aed2",
       "_model_module_version": "^0.2",
       "_view_module_version": "^0.2",
       "icon": "file",
       "name": "simple_joins.py"
      }
     },
     "b075805c6c3743edbb0a3a45cfa2b9b4": {
      "model_module": "ipytree",
      "model_module_version": "^0.2",
      "model_name": "NodeModel",
      "state": {
       "_id": "a2336c04-bc88-4254-a78c-9df0b7181967",
       "_model_module_version": "^0.2",
       "_view_module_version": "^0.2",
       "name": "Visualization",
       "nodes": [
        "IPY_MODEL_8e06eba051e34351bd3ab2071759dc67",
        "IPY_MODEL_7642e45481424441a7bf970f5b703461",
        "IPY_MODEL_ae0105a15f63452caadf65372c5c02fb",
        "IPY_MODEL_ef9a86ea8a234d59a1f677755ea0b832",
        "IPY_MODEL_fa8cc1c53a034f6187b82b5fec32237f",
        "IPY_MODEL_124f542ba2c44897bb7999b935a1302c",
        "IPY_MODEL_6edf01bb333c402181988ff5ca06cda8",
        "IPY_MODEL_13ff416abf314d108fcefa8d47d6f5c9",
        "IPY_MODEL_24135cc655c1426fb759bf42647267f7",
        "IPY_MODEL_93eb73a4279a489994af55ddc3139e80",
        "IPY_MODEL_7dcbb00838d345a1a7207b117dcdd4b6",
        "IPY_MODEL_51c2a2a4d93e4e078f9a62b2a3f56b63",
        "IPY_MODEL_6b1bf95646e94a0baa979c1c08e42cd9",
        "IPY_MODEL_32b3f60c66a4455ebfedc88f95584176",
        "IPY_MODEL_705c58cf703a49adb62aa165f94e8ae1",
        "IPY_MODEL_85b5663a9b6a403e9081f143a1b10e83",
        "IPY_MODEL_26d9f1cc0754410286dac9fd2d87835e",
        "IPY_MODEL_18b16bf3c0154b1292da9e3d5b1b799f",
        "IPY_MODEL_163ea360e8a54063af798354b7479f5a",
        "IPY_MODEL_8cce6f12a95c44d08e8bd8bad89b7b47",
        "IPY_MODEL_b8e783b6b87142fc93d97859196dddae"
       ],
       "opened": false
      }
     },
     "b08cc91af2d04e9095b0517d80aa235c": {
      "model_module": "ipytree",
      "model_module_version": "^0.2",
      "model_name": "NodeModel",
      "state": {
       "_id": "af4694ee-b127-4d89-95c8-747e24cd2dea",
       "_model_module_version": "^0.2",
       "_view_module_version": "^0.2",
       "icon": "file",
       "name": "test_sentinel2.py"
      }
     },
     "b25ecc95757746ddb8aeaaa1bc88f3d1": {
      "model_module": "@jupyter-widgets/base",
      "model_module_version": "2.0.0",
      "model_name": "LayoutModel",
      "state": {
       "max_width": "650px"
      }
     },
     "b272de16bb4043c4a64ef64ac660814c": {
      "model_module": "@jupyter-widgets/base",
      "model_module_version": "2.0.0",
      "model_name": "LayoutModel",
      "state": {
       "grid_gap": "1px 1px",
       "grid_template_columns": "32px 32px 32px ",
       "grid_template_rows": "32px 32px ",
       "padding": "5px",
       "width": "109px"
      }
     },
     "b27a67019cad456fbc976efc98840ab1": {
      "model_module": "ipytree",
      "model_module_version": "^0.2",
      "model_name": "NodeModel",
      "state": {
       "_id": "b677c017-ba5e-43f2-a384-12ed69ab157b",
       "_model_module_version": "^0.2",
       "_view_module_version": "^0.2",
       "icon": "file",
       "name": "2_water_occurrence_change_intensity.py"
      }
     },
     "b27bff15a1534c1a88f17567b8693b89": {
      "model_module": "@jupyter-widgets/controls",
      "model_module_version": "2.0.0",
      "model_name": "ToggleButtonStyleModel",
      "state": {
       "description_width": "",
       "font_family": null,
       "font_size": null,
       "font_style": null,
       "font_variant": null,
       "font_weight": null,
       "text_color": null,
       "text_decoration": null
      }
     },
     "b2906da36d4a492d8d5c745ee3105331": {
      "model_module": "ipytree",
      "model_module_version": "^0.2",
      "model_name": "NodeModel",
      "state": {
       "_id": "3ef29019-1d40-4d33-b0a1-efac86f8b947",
       "_model_module_version": "^0.2",
       "_view_module_version": "^0.2",
       "icon": "file",
       "name": "NormalizedDifference.py"
      }
     },
     "b2e469d5d5e0410a94bf0e873ea3e8a0": {
      "model_module": "ipytree",
      "model_module_version": "^0.2",
      "model_name": "NodeModel",
      "state": {
       "_id": "13002eec-cd4f-4817-bdd7-8a0f03e47743",
       "_model_module_version": "^0.2",
       "_view_module_version": "^0.2",
       "icon": "file",
       "name": "hillshade.py"
      }
     },
     "b30173a57f3c4411b4c7d77de24213c4": {
      "model_module": "ipytree",
      "model_module_version": "^0.2",
      "model_name": "NodeModel",
      "state": {
       "_id": "e70fe766-7b43-4503-b1f9-3c6d47b1f80d",
       "_model_module_version": "^0.2",
       "_view_module_version": "^0.2",
       "icon": "file",
       "name": "filter_neq.py"
      }
     },
     "b35c045aa650440c86fcc39b483060e1": {
      "model_module": "ipytree",
      "model_module_version": "^0.2",
      "model_name": "NodeModel",
      "state": {
       "_id": "949106b5-45b8-4c5d-a426-4630d14be529",
       "_model_module_version": "^0.2",
       "_view_module_version": "^0.2",
       "icon": "file",
       "name": "composite_bands.py"
      }
     },
     "b369280776b24fada0c55169b2f2dd97": {
      "model_module": "ipytree",
      "model_module_version": "^0.2",
      "model_name": "NodeModel",
      "state": {
       "_id": "357c5168-6ea7-4e8a-ba14-ad652a24d28c",
       "_model_module_version": "^0.2",
       "_view_module_version": "^0.2",
       "icon": "file",
       "name": "FromName.py"
      }
     },
     "b36c7419bbc840858ff3199dd5d6add4": {
      "model_module": "ipyevents",
      "model_module_version": "2.0.2",
      "model_name": "EventModel",
      "state": {
       "_supported_key_events": [
        "keydown",
        "keyup"
       ],
       "_supported_mouse_events": [
        "click",
        "auxclick",
        "dblclick",
        "mouseenter",
        "mouseleave",
        "mousedown",
        "mouseup",
        "mousemove",
        "wheel",
        "contextmenu",
        "dragstart",
        "drag",
        "dragend",
        "dragenter",
        "dragover",
        "dragleave",
        "drop"
       ],
       "_supported_touch_events": [
        "touchstart",
        "touchend",
        "touchmove",
        "touchcancel"
       ],
       "_view_module": "@jupyter-widgets/controls",
       "source": "IPY_MODEL_150fab7e16e5475a962e8b4e8f81cd64",
       "throttle_or_debounce": "",
       "watched_events": [
        "mouseenter",
        "mouseleave"
       ],
       "xy_coordinate_system": ""
      }
     },
     "b375bf04d39447f9bd8e63571cffdd4f": {
      "model_module": "@jupyter-widgets/base",
      "model_module_version": "2.0.0",
      "model_name": "LayoutModel",
      "state": {
       "height": "auto",
       "padding": "0px 0px 0px 4px",
       "width": "auto"
      }
     },
     "b3aebc7b8bad4c2fb1ba756ce2b7f06b": {
      "model_module": "ipytree",
      "model_module_version": "^0.2",
      "model_name": "NodeModel",
      "state": {
       "_id": "d554d283-9126-4369-90ed-e9818a5f39c9",
       "_model_module_version": "^0.2",
       "_view_module_version": "^0.2",
       "icon": "file",
       "name": "srtm_topo_diversity.py"
      }
     },
     "b3c10307af344de9ac8283647d2b4305": {
      "model_module": "ipytree",
      "model_module_version": "^0.2",
      "model_name": "NodeModel",
      "state": {
       "_id": "0cc20353-1b28-4b42-83a4-46d60a0050b8",
       "_model_module_version": "^0.2",
       "_view_module_version": "^0.2",
       "icon": "file",
       "name": "expression_map.py"
      }
     },
     "b4475be922fa4a30a0b453d2debe82af": {
      "model_module": "@jupyter-widgets/base",
      "model_module_version": "2.0.0",
      "model_name": "LayoutModel",
      "state": {
       "height": "28px",
       "width": "72px"
      }
     },
     "b4681cd561844dd489ee043048df0536": {
      "model_module": "ipytree",
      "model_module_version": "^0.2",
      "model_name": "NodeModel",
      "state": {
       "_id": "0ef4220e-d36d-475a-95ae-5a94fa0fcdd5",
       "_model_module_version": "^0.2",
       "_view_module_version": "^0.2",
       "icon": "file",
       "name": "image_patch_area.py"
      }
     },
     "b51399421bc54a81a33cafdc6d5f3b18": {
      "model_module": "ipytree",
      "model_module_version": "^0.2",
      "model_name": "NodeModel",
      "state": {
       "_id": "2b9864c6-a2d4-4047-8ea4-600d7a0d4501",
       "_model_module_version": "^0.2",
       "_view_module_version": "^0.2",
       "icon": "file",
       "name": "jrc_global_surface_water.py"
      }
     },
     "b5caa67350f34454aac2c77999896972": {
      "model_module": "ipytree",
      "model_module_version": "^0.2",
      "model_name": "NodeModel",
      "state": {
       "_id": "f74cbcda-a7c2-4fa5-9d6d-86866bb37d5a",
       "_model_module_version": "^0.2",
       "_view_module_version": "^0.2",
       "icon": "file",
       "name": "pixel_area.py"
      }
     },
     "b61b790f589b408396d496aa7dbdb363": {
      "model_module": "ipytree",
      "model_module_version": "^0.2",
      "model_name": "NodeModel",
      "state": {
       "_id": "0195d405-194b-417a-b7e2-4674957f9624",
       "_model_module_version": "^0.2",
       "_view_module_version": "^0.2",
       "icon": "file",
       "name": "sentinel-2.py"
      }
     },
     "b650117984184dbebe715aa41a39c0a0": {
      "model_module": "ipytree",
      "model_module_version": "^0.2",
      "model_name": "NodeModel",
      "state": {
       "_id": "07007f16-40d9-4087-ac03-a52283ff14f2",
       "_model_module_version": "^0.2",
       "_view_module_version": "^0.2",
       "name": "Keiko",
       "nodes": [
        "IPY_MODEL_5b73ad09297c4376ab92337b0c87e240",
        "IPY_MODEL_bea5a6b599364860a462a298a927bf0a",
        "IPY_MODEL_8715ec1e13c841eda26de9537cdfb6ff"
       ],
       "opened": false
      }
     },
     "b66932d823374363aeb70bc10efbe415": {
      "model_module": "@jupyter-widgets/controls",
      "model_module_version": "2.0.0",
      "model_name": "ButtonStyleModel",
      "state": {
       "font_family": null,
       "font_size": null,
       "font_style": null,
       "font_variant": null,
       "font_weight": null,
       "text_color": null,
       "text_decoration": null
      }
     },
     "b6e9d6ff1f384a438be47e05851a8fee": {
      "model_module": "@jupyter-widgets/controls",
      "model_module_version": "2.0.0",
      "model_name": "VBoxModel",
      "state": {
       "children": [
        "IPY_MODEL_416dfd3449494df3a81fc2f014789c31",
        "IPY_MODEL_aa793d2ff5f44fb3a1e3bf0eaaa4a540"
       ],
       "layout": "IPY_MODEL_71968cfd3542413eb058a8014d1cd83d"
      }
     },
     "b707398355bd4fd194b368dad4beaea7": {
      "model_module": "@jupyter-widgets/controls",
      "model_module_version": "2.0.0",
      "model_name": "ToggleButtonModel",
      "state": {
       "icon": "globe",
       "layout": "IPY_MODEL_4cff45c9f07545e5b3edb362cca889b2",
       "style": "IPY_MODEL_64d057a726214042bdae9d2e7461216c",
       "tooltip": "Search location/data"
      }
     },
     "b712d82f13ea495e99f1c0fcc28533eb": {
      "model_module": "@jupyter-widgets/controls",
      "model_module_version": "2.0.0",
      "model_name": "ButtonStyleModel",
      "state": {
       "font_family": null,
       "font_size": null,
       "font_style": null,
       "font_variant": null,
       "font_weight": null,
       "text_color": null,
       "text_decoration": null
      }
     },
     "b724cfa24e79401686e870c2cde1e586": {
      "model_module": "ipytree",
      "model_module_version": "^0.2",
      "model_name": "NodeModel",
      "state": {
       "_id": "7991d86d-bd20-4c99-9e77-8a5da67e1932",
       "_model_module_version": "^0.2",
       "_view_module_version": "^0.2",
       "icon": "file",
       "name": "05_map_function.py"
      }
     },
     "b77b895efd8f4f5991b9f0d85286529f": {
      "model_module": "@jupyter-widgets/controls",
      "model_module_version": "2.0.0",
      "model_name": "TextModel",
      "state": {
       "layout": "IPY_MODEL_0f978fec8ed64190949bd6ad4d14e917",
       "style": "IPY_MODEL_f54fddd7c7514b63ba5c0cfb6482cd5a"
      }
     },
     "b786aea2c92d4f15ac284f791d41a61a": {
      "model_module": "ipytree",
      "model_module_version": "^0.2",
      "model_name": "NodeModel",
      "state": {
       "_id": "70bf3afe-ada4-4621-adb2-c7cd7ee41e77",
       "_model_module_version": "^0.2",
       "_view_module_version": "^0.2",
       "icon": "file",
       "name": "LICENSE"
      }
     },
     "b7de9592015543ba85b0d560a9bae4b5": {
      "model_module": "@jupyter-widgets/controls",
      "model_module_version": "2.0.0",
      "model_name": "ToggleButtonModel",
      "state": {
       "button_style": "primary",
       "icon": "info",
       "layout": "IPY_MODEL_f010ba3a14e243f482ba6138762fc9c9",
       "style": "IPY_MODEL_1e091bedc8064e2aaa056f1d47a8420f",
       "tooltip": "Inspector"
      }
     },
     "b8006e480a88401c8d7f2c3a18662881": {
      "model_module": "ipytree",
      "model_module_version": "^0.2",
      "model_name": "NodeModel",
      "state": {
       "_id": "411d0ee0-04e7-4fee-8054-3231b860e108",
       "_model_module_version": "^0.2",
       "_view_module_version": "^0.2",
       "icon": "file",
       "name": "column_info.py"
      }
     },
     "b836a9dee09842299cc1c7eeac8e916e": {
      "model_module": "ipytree",
      "model_module_version": "^0.2",
      "model_name": "NodeModel",
      "state": {
       "_id": "40a7d018-7689-46be-81c0-313a1fe172a5",
       "_model_module_version": "^0.2",
       "_view_module_version": "^0.2",
       "icon": "file",
       "name": "ClientVsServer.py"
      }
     },
     "b83c1f758b0141a7ab1fe567bbc52fc1": {
      "model_module": "ipytree",
      "model_module_version": "^0.2",
      "model_name": "NodeModel",
      "state": {
       "_id": "e0ff9ebf-f308-4456-bafc-bf9358e5545e",
       "_model_module_version": "^0.2",
       "_view_module_version": "^0.2",
       "icon": "file",
       "name": "zero_crossing.py"
      }
     },
     "b8e783b6b87142fc93d97859196dddae": {
      "model_module": "ipytree",
      "model_module_version": "^0.2",
      "model_name": "NodeModel",
      "state": {
       "_id": "7f9864e4-9915-40dd-98bf-82fe5899f37d",
       "_model_module_version": "^0.2",
       "_view_module_version": "^0.2",
       "icon": "file",
       "name": "visualizing_geometries.py"
      }
     },
     "b8fdc61a5cfb4080b685e28955ceb5ca": {
      "model_module": "ipytree",
      "model_module_version": "^0.2",
      "model_name": "NodeModel",
      "state": {
       "_id": "0613396e-e4ca-4857-85b8-1a15fc0e84ac",
       "_model_module_version": "^0.2",
       "_view_module_version": "^0.2",
       "icon": "file",
       "name": "using_weights.py"
      }
     },
     "b91cbef047094012be9386f41ead754c": {
      "model_module": "ipytree",
      "model_module_version": "^0.2",
      "model_name": "NodeModel",
      "state": {
       "_id": "0aed63ac-5e2d-498e-b6cc-524bb253c7d9",
       "_model_module_version": "^0.2",
       "_view_module_version": "^0.2",
       "name": "Archive",
       "opened": false
      }
     },
     "b984ce03acb044d5acc39a5f1b326a3f": {
      "model_module": "@jupyter-widgets/base",
      "model_module_version": "2.0.0",
      "model_name": "LayoutModel",
      "state": {}
     },
     "ba98e9968e41429484e8d4edb16d1f83": {
      "model_module": "ipytree",
      "model_module_version": "^0.2",
      "model_name": "NodeModel",
      "state": {
       "_id": "18e14239-230f-45d7-98f2-f106b407951f",
       "_model_module_version": "^0.2",
       "_view_module_version": "^0.2",
       "icon": "file",
       "name": "linear_regression_more.py"
      }
     },
     "baa1d3eb7ebe4d36813a471154ecaf82": {
      "model_module": "@jupyter-widgets/controls",
      "model_module_version": "2.0.0",
      "model_name": "ButtonStyleModel",
      "state": {
       "font_family": null,
       "font_size": null,
       "font_style": null,
       "font_variant": null,
       "font_weight": null,
       "text_color": null,
       "text_decoration": null
      }
     },
     "baae2917852b4e709719ef8e83ba90ec": {
      "model_module": "@jupyter-widgets/base",
      "model_module_version": "2.0.0",
      "model_name": "LayoutModel",
      "state": {}
     },
     "bb2a85eb5fe84b3583b1589285bc325f": {
      "model_module": "ipytree",
      "model_module_version": "^0.2",
      "model_name": "NodeModel",
      "state": {
       "_id": "f4170a24-cc89-4538-af46-a2c1ba8e7ad9",
       "_model_module_version": "^0.2",
       "_view_module_version": "^0.2",
       "icon": "file",
       "name": "hough_transform.py"
      }
     },
     "bb2e356f7bd0470f95ff6ac64ff40705": {
      "model_module": "ipytree",
      "model_module_version": "^0.2",
      "model_name": "NodeModel",
      "state": {
       "_id": "4690d2c0-c1b1-46c0-8b57-1c29ed05d0e8",
       "_model_module_version": "^0.2",
       "_view_module_version": "^0.2",
       "icon": "file",
       "name": "hsv_pan_sharpen.py"
      }
     },
     "bcc7ba7e4c534b71abee66c4e1f5097d": {
      "model_module": "@jupyter-widgets/controls",
      "model_module_version": "2.0.0",
      "model_name": "ToggleButtonStyleModel",
      "state": {
       "description_width": "",
       "font_family": null,
       "font_size": null,
       "font_style": null,
       "font_variant": null,
       "font_weight": null,
       "text_color": null,
       "text_decoration": null
      }
     },
     "bdc074919af84c509f32515a4aa01955": {
      "model_module": "jupyter-leaflet",
      "model_module_version": "^0.18",
      "model_name": "LeafletZoomControlModel",
      "state": {
       "_model_module_version": "^0.18",
       "_view_module_version": "^0.18",
       "options": [
        "position",
        "zoom_in_text",
        "zoom_in_title",
        "zoom_out_text",
        "zoom_out_title"
       ]
      }
     },
     "be0585b1bc5048c8a132e8c60875e1c0": {
      "model_module": "@jupyter-widgets/controls",
      "model_module_version": "2.0.0",
      "model_name": "HBoxModel",
      "state": {
       "children": [
        "IPY_MODEL_59788c5df20746b781edfa9b3c74dcd2",
        "IPY_MODEL_1c2628f344d641ee86c55419f0d2e170"
       ],
       "layout": "IPY_MODEL_d4dfca0938904db29a805d6f2d246d11"
      }
     },
     "be1a6ef63bc746fcbee9e59fe010055e": {
      "model_module": "ipytree",
      "model_module_version": "^0.2",
      "model_name": "NodeModel",
      "state": {
       "_id": "d083f4b2-7ed3-4a15-bdab-e5e74926f7e4",
       "_model_module_version": "^0.2",
       "_view_module_version": "^0.2",
       "icon": "file",
       "name": "landsat457_surface_reflectance.py"
      }
     },
     "be4d7208ea104ae2bae6cda6d7c76c62": {
      "model_module": "@jupyter-widgets/base",
      "model_module_version": "2.0.0",
      "model_name": "LayoutModel",
      "state": {}
     },
     "be834af704134403893aa3b3664833e2": {
      "model_module": "ipytree",
      "model_module_version": "^0.2",
      "model_name": "NodeModel",
      "state": {
       "_id": "89fc3fa8-a8de-4e57-a0dc-0241e42e880d",
       "_model_module_version": "^0.2",
       "_view_module_version": "^0.2",
       "icon": "file",
       "name": "stats_of_image_neighborhoods.py"
      }
     },
     "bea50cc4ffab4699b4529352443f015d": {
      "model_module": "ipytree",
      "model_module_version": "^0.2",
      "model_name": "NodeModel",
      "state": {
       "_id": "3198d4e2-4723-4c6f-bdaa-61c8e6c8630d",
       "_model_module_version": "^0.2",
       "_view_module_version": "^0.2",
       "icon": "file",
       "name": "ndwi_map.py"
      }
     },
     "bea5a6b599364860a462a298a927bf0a": {
      "model_module": "ipytree",
      "model_module_version": "^0.2",
      "model_name": "NodeModel",
      "state": {
       "_id": "2c4357f9-6ce1-45a4-9f66-b8d720bf3639",
       "_model_module_version": "^0.2",
       "_view_module_version": "^0.2",
       "icon": "file",
       "name": "glad_alert.py"
      }
     },
     "bf5617f31b9d44458761d89115f27377": {
      "model_module": "@jupyter-widgets/controls",
      "model_module_version": "2.0.0",
      "model_name": "ToggleButtonModel",
      "state": {
       "button_style": "primary",
       "icon": "plus",
       "layout": "IPY_MODEL_f0c2b941dbc44e58a7ad396405e330a8",
       "style": "IPY_MODEL_1dbea15bfc3f44479e2761bc37365935",
       "tooltip": "Expand toolbar"
      }
     },
     "bf8b85322de7427983ab65551bc9bc28": {
      "model_module": "@jupyter-widgets/controls",
      "model_module_version": "2.0.0",
      "model_name": "ToggleButtonStyleModel",
      "state": {
       "description_width": "",
       "font_family": null,
       "font_size": null,
       "font_style": null,
       "font_variant": null,
       "font_weight": null,
       "text_color": null,
       "text_decoration": null
      }
     },
     "bfab37da4def433b81a1908fd525b4c1": {
      "model_module": "ipytree",
      "model_module_version": "^0.2",
      "model_name": "NodeModel",
      "state": {
       "_id": "02cd38d1-0a28-483c-9808-a34ec0acfcf1",
       "_model_module_version": "^0.2",
       "_view_module_version": "^0.2",
       "icon": "file",
       "name": "get_band_name_and_type.py"
      }
     },
     "c04643bedb274b1f88a34878e7c347f0": {
      "model_module": "ipytree",
      "model_module_version": "^0.2",
      "model_name": "NodeModel",
      "state": {
       "_id": "49bb6b84-1638-455b-8e36-43643f247b10",
       "_model_module_version": "^0.2",
       "_view_module_version": "^0.2",
       "icon": "file",
       "name": "minimum_bounding_geometry.py"
      }
     },
     "c08b5c6e205a47d4a65568460e5a564a": {
      "model_module": "@jupyter-widgets/controls",
      "model_module_version": "2.0.0",
      "model_name": "ToggleButtonModel",
      "state": {
       "button_style": "primary",
       "icon": "bar-chart",
       "layout": "IPY_MODEL_02a5ac704a204ea986e509ed8e6bd4dc",
       "style": "IPY_MODEL_158bb8ff1c244fa4adddda57d984491d",
       "tooltip": "Plotting"
      }
     },
     "c0f592502bab4a578391a6a10d44ec09": {
      "model_module": "ipytree",
      "model_module_version": "^0.2",
      "model_name": "NodeModel",
      "state": {
       "_id": "4ef8c338-df27-4cca-9f0d-76ea67c14d1b",
       "_model_module_version": "^0.2",
       "_view_module_version": "^0.2",
       "icon": "file",
       "name": "jrc_yearly_history.py"
      }
     },
     "c1420016b8d2444eaae661578017814c": {
      "model_module": "ipytree",
      "model_module_version": "^0.2",
      "model_name": "NodeModel",
      "state": {
       "_id": "df8ccbd8-6cc7-4a34-8803-9a51ef86ec6a",
       "_model_module_version": "^0.2",
       "_view_module_version": "^0.2",
       "icon": "file",
       "name": "download.py"
      }
     },
     "c1544d65e28546728c7a353c6d11b18f": {
      "model_module": "ipytree",
      "model_module_version": "^0.2",
      "model_name": "NodeModel",
      "state": {
       "_id": "0a9db974-fd8e-46c1-a3f2-8ff68529c1cd",
       "_model_module_version": "^0.2",
       "_view_module_version": "^0.2",
       "icon": "file",
       "name": "relational_operators.py"
      }
     },
     "c172dfc9c569471d8dc34ac322e83569": {
      "model_module": "@jupyter-widgets/controls",
      "model_module_version": "2.0.0",
      "model_name": "DescriptionStyleModel",
      "state": {
       "description_width": ""
      }
     },
     "c1e6aaf235934a46b8a9fa8bda009f3c": {
      "model_module": "ipytree",
      "model_module_version": "^0.2",
      "model_name": "NodeModel",
      "state": {
       "_id": "a00c856a-4442-43b4-8ca9-b0f47eb8c1ce",
       "_model_module_version": "^0.2",
       "_view_module_version": "^0.2",
       "icon": "file",
       "name": "filter_eq.py"
      }
     },
     "c2460a05116e4d9a82b442554563f5bc": {
      "model_module": "ipytree",
      "model_module_version": "^0.2",
      "model_name": "NodeModel",
      "state": {
       "_id": "bda9e3e8-6055-4a02-962c-cf3f33565f0d",
       "_model_module_version": "^0.2",
       "_view_module_version": "^0.2",
       "icon": "file",
       "name": "landsat_cloud_score.py"
      }
     },
     "c273650a214a45558e6abcea3b50f803": {
      "model_module": "ipytree",
      "model_module_version": "^0.2",
      "model_name": "NodeModel",
      "state": {
       "_id": "cd6857ef-3443-41a5-8995-cea49a5a30fa",
       "_model_module_version": "^0.2",
       "_view_module_version": "^0.2",
       "icon": "file",
       "name": "clamp.py"
      }
     },
     "c28fa28f687c4ed092f61077a57a36fd": {
      "model_module": "ipytree",
      "model_module_version": "^0.2",
      "model_name": "NodeModel",
      "state": {
       "_id": "877ff204-e27c-47fd-954a-ca00aa60463d",
       "_model_module_version": "^0.2",
       "_view_module_version": "^0.2",
       "icon": "file",
       "name": "svm_classifier.py"
      }
     },
     "c2bb258fc7a942c18cf47056d99e0980": {
      "model_module": "@jupyter-widgets/controls",
      "model_module_version": "2.0.0",
      "model_name": "ToggleButtonStyleModel",
      "state": {
       "description_width": "",
       "font_family": null,
       "font_size": null,
       "font_style": null,
       "font_variant": null,
       "font_weight": null,
       "text_color": null,
       "text_decoration": null
      }
     },
     "c31fe1df43e64fae8d19d6045c25aca9": {
      "model_module": "ipytree",
      "model_module_version": "^0.2",
      "model_name": "NodeModel",
      "state": {
       "_id": "d9f2f409-07a5-478f-a45a-9c5995bd38dd",
       "_model_module_version": "^0.2",
       "_view_module_version": "^0.2",
       "icon": "file",
       "name": "select_by_attributes.py"
      }
     },
     "c3eb5cf9c8bd4316a3983d414c4d3d71": {
      "model_module": "ipytree",
      "model_module_version": "^0.2",
      "model_name": "NodeModel",
      "state": {
       "_id": "337293db-2ade-490c-a02f-7f99082f83fd",
       "_model_module_version": "^0.2",
       "_view_module_version": "^0.2",
       "name": "NAIP",
       "nodes": [
        "IPY_MODEL_f2d0414ef0a94465b8c8603e7dc2ee7f",
        "IPY_MODEL_8d51f9beeff94150916d60c6ede3250b",
        "IPY_MODEL_fd62995341a748e59013795a7ddfd568",
        "IPY_MODEL_4224ecd1b9224e5fa2d6c79ed31c05f9",
        "IPY_MODEL_7b841d815d1e4095bab69e9b623e4d2a",
        "IPY_MODEL_c7a8de596b2e4c69a9df8fd4dcbea67b",
        "IPY_MODEL_d14405d545b245c191acc0754ea45bc2",
        "IPY_MODEL_3b59a79e9f54487586d0e457bf1eafb1",
        "IPY_MODEL_74f777e0eb464235bd60ad9388153562"
       ],
       "opened": false
      }
     },
     "c3ef42d60a0043c8b620024d3d57c369": {
      "model_module": "ipytree",
      "model_module_version": "^0.2",
      "model_name": "TreeModel",
      "state": {
       "_model_module_version": "^0.2",
       "_view_module_version": "^0.2",
       "layout": "IPY_MODEL_87b1ecf2974f4d8db2c747b18636ab9c",
       "multiple_selection": false,
       "nodes": [
        "IPY_MODEL_b91cbef047094012be9386f41ead754c",
        "IPY_MODEL_5f532c347cc14122b2fab7147ced8560",
        "IPY_MODEL_a7a723f2e3514df6ab417753f5e27c70",
        "IPY_MODEL_29df4c9965db43698d85e1b2af4c4853",
        "IPY_MODEL_f932a7e44250426aa96f9bf989ea92c2"
       ]
      }
     },
     "c4068c52f3a942149f83c46945cf8321": {
      "model_module": "ipytree",
      "model_module_version": "^0.2",
      "model_name": "NodeModel",
      "state": {
       "_id": "f98e49b7-43ac-4809-8af3-8587d306b114",
       "_model_module_version": "^0.2",
       "_view_module_version": "^0.2",
       "icon": "file",
       "name": "filter_range_contains.py"
      }
     },
     "c481bd715ad447b1a21daff835971b82": {
      "model_module": "@jupyter-widgets/base",
      "model_module_version": "2.0.0",
      "model_name": "LayoutModel",
      "state": {}
     },
     "c501c5b627c34609a92bdc6e3352b878": {
      "model_module": "ipytree",
      "model_module_version": "^0.2",
      "model_name": "NodeModel",
      "state": {
       "_id": "82e061dd-da8f-4870-bfb0-139a40db32c6",
       "_model_module_version": "^0.2",
       "_view_module_version": "^0.2",
       "icon": "file",
       "name": "filter_string_contains.py"
      }
     },
     "c54ae143859a406f831804845f4a473f": {
      "model_module": "@jupyter-widgets/controls",
      "model_module_version": "2.0.0",
      "model_name": "DescriptionStyleModel",
      "state": {
       "description_width": ""
      }
     },
     "c5634515d05942d6803cdcf1ae3c4ee6": {
      "model_module": "ipytree",
      "model_module_version": "^0.2",
      "model_name": "NodeModel",
      "state": {
       "_id": "dff8b425-3a54-4130-a49b-10331c0368d4",
       "_model_module_version": "^0.2",
       "_view_module_version": "^0.2",
       "icon": "file",
       "name": "07_image_statistics.py"
      }
     },
     "c57f8d6a190c4f29bf7bfe6eb0db7fcb": {
      "model_module": "ipytree",
      "model_module_version": "^0.2",
      "model_name": "NodeModel",
      "state": {
       "_id": "15f7035b-39ae-476c-a195-d89e9691a589",
       "_model_module_version": "^0.2",
       "_view_module_version": "^0.2",
       "icon": "file",
       "name": "creating_feature_collection.py"
      }
     },
     "c58fd660f4264834a63fb10188042807": {
      "model_module": "ipytree",
      "model_module_version": "^0.2",
      "model_name": "NodeModel",
      "state": {
       "_id": "9ecab731-da60-4412-8b05-c4beb743cda8",
       "_model_module_version": "^0.2",
       "_view_module_version": "^0.2",
       "icon": "file",
       "name": "qgis_to_geemap.py"
      }
     },
     "c5982378f55f4b3aa3fe0f777fcae90e": {
      "model_module": "ipytree",
      "model_module_version": "^0.2",
      "model_name": "NodeModel",
      "state": {
       "_id": "e4fe8066-a4e9-420f-b0da-d213c5b72b8c",
       "_model_module_version": "^0.2",
       "_view_module_version": "^0.2",
       "icon": "file",
       "name": "export_TimeSeries2.py"
      }
     },
     "c5a1eea7996b4806a668fa56357d10e3": {
      "model_module": "ipytree",
      "model_module_version": "^0.2",
      "model_name": "NodeModel",
      "state": {
       "_id": "f9820b65-53ba-43b2-ade8-35abcb512d06",
       "_model_module_version": "^0.2",
       "_view_module_version": "^0.2",
       "icon": "file",
       "name": "basic_image.py"
      }
     },
     "c5a47bb44bdc4f46a9b2862a46e1f959": {
      "model_module": "ipytree",
      "model_module_version": "^0.2",
      "model_name": "NodeModel",
      "state": {
       "_id": "44b6df05-7450-4d99-a99f-aaadef57fd2b",
       "_model_module_version": "^0.2",
       "_view_module_version": "^0.2",
       "icon": "file",
       "name": "where_operators.py"
      }
     },
     "c609830eee1b47ed84d575e8441cef69": {
      "model_module": "@jupyter-widgets/controls",
      "model_module_version": "2.0.0",
      "model_name": "ToggleButtonModel",
      "state": {
       "button_style": "primary",
       "icon": "fast-forward",
       "layout": "IPY_MODEL_4637fe2e8949456497f6d3f39ca0f882",
       "style": "IPY_MODEL_daad93220e4849a8ab10a53398aa112e",
       "tooltip": "Activate timeslider"
      }
     },
     "c63dfa3cf5cb44a28c5742ff8e2460dc": {
      "model_module": "@jupyter-widgets/base",
      "model_module_version": "2.0.0",
      "model_name": "LayoutModel",
      "state": {
       "width": "500px"
      }
     },
     "c68bea82303a4b5c9036b8bb05656003": {
      "model_module": "ipytree",
      "model_module_version": "^0.2",
      "model_name": "NodeModel",
      "state": {
       "_id": "481ebb2f-95cf-4ea5-9dbe-f56beb7b79d5",
       "_model_module_version": "^0.2",
       "_view_module_version": "^0.2",
       "icon": "file",
       "name": "idw_interpolation.py"
      }
     },
     "c6ab83d3be654f2985c8f4ebed878df1": {
      "model_module": "@jupyter-widgets/controls",
      "model_module_version": "2.0.0",
      "model_name": "TextModel",
      "state": {
       "layout": "IPY_MODEL_094d291c1cad436eac7eef28a17c9652",
       "placeholder": "Filter scripts...",
       "style": "IPY_MODEL_ae9de80ca9ce4cb981cfffa06cf932b1"
      }
     },
     "c77019afc2e247ccac52c86cbfabc104": {
      "model_module": "@jupyter-widgets/controls",
      "model_module_version": "2.0.0",
      "model_name": "ToggleButtonModel",
      "state": {
       "button_style": "primary",
       "icon": "map",
       "layout": "IPY_MODEL_d1b0fb5a44454f3ba52e5583f684c518",
       "style": "IPY_MODEL_015b1a5673ff4f99b1d2bee391be5c4c",
       "tooltip": "Change basemap"
      }
     },
     "c7a8de596b2e4c69a9df8fd4dcbea67b": {
      "model_module": "ipytree",
      "model_module_version": "^0.2",
      "model_name": "NodeModel",
      "state": {
       "_id": "a9666eaa-556f-41a9-ad26-be94dec80494",
       "_model_module_version": "^0.2",
       "_view_module_version": "^0.2",
       "icon": "file",
       "name": "ndwi.py"
      }
     },
     "c7ddd52e77494511a0dbb1a02bf06f03": {
      "model_module": "@jupyter-widgets/controls",
      "model_module_version": "2.0.0",
      "model_name": "VBoxModel",
      "state": {
       "children": [
        "IPY_MODEL_6d48b9e06c6548b5b6c7e45770cb9ae8",
        "IPY_MODEL_da32722af8694132970890fb2010f625"
       ],
       "layout": "IPY_MODEL_451819981f5b4181b46c8f6a795108e0"
      }
     },
     "c7f42a9585014e5bb8d29d2f3dfa85e5": {
      "model_module": "ipytree",
      "model_module_version": "^0.2",
      "model_name": "NodeModel",
      "state": {
       "_id": "93aceb62-1a8f-4a22-80e1-307aca8b3122",
       "_model_module_version": "^0.2",
       "_view_module_version": "^0.2",
       "icon": "file",
       "name": "intersect.py"
      }
     },
     "c87e4d3006414b2ea5e2e743c7a59d1c": {
      "model_module": "ipytree",
      "model_module_version": "^0.2",
      "model_name": "NodeModel",
      "state": {
       "_id": "62b74e73-947f-47f0-b920-8bd410445d67",
       "_model_module_version": "^0.2",
       "_view_module_version": "^0.2",
       "icon": "file",
       "name": "filtering_collection.py"
      }
     },
     "c89179b0308f4f4d9471da6b450ca54a": {
      "model_module": "@jupyter-widgets/controls",
      "model_module_version": "2.0.0",
      "model_name": "ToggleButtonsStyleModel",
      "state": {
       "button_width": "100px",
       "description_width": ""
      }
     },
     "c8fb8856068e4a7f8f72fef08e7d6a1f": {
      "model_module": "ipytree",
      "model_module_version": "^0.2",
      "model_name": "NodeModel",
      "state": {
       "_id": "476c3b2b-1adb-4fbe-844e-3590b6dda1a2",
       "_model_module_version": "^0.2",
       "_view_module_version": "^0.2",
       "icon": "file",
       "name": "segmentation_snic.py"
      }
     },
     "c9fcb543c54049ed8497df7020ffa6cd": {
      "model_module": "ipytree",
      "model_module_version": "^0.2",
      "model_name": "NodeModel",
      "state": {
       "_id": "b8876bb3-46cf-4b27-bf39-a163a2df1b34",
       "_model_module_version": "^0.2",
       "_view_module_version": "^0.2",
       "icon": "file",
       "name": "alos_global_dsm.py"
      }
     },
     "ca2bd8bddf6446cabbd6dd68be1c730c": {
      "model_module": "@jupyter-widgets/base",
      "model_module_version": "2.0.0",
      "model_name": "LayoutModel",
      "state": {
       "height": "auto",
       "padding": "0px 0px 0px 4px",
       "width": "auto"
      }
     },
     "ca7feacde0fa4915b9de64ae0e125ce6": {
      "model_module": "ipytree",
      "model_module_version": "^0.2",
      "model_name": "NodeModel",
      "state": {
       "_id": "8194dfb3-f769-4aa5-97cc-107423d4a3c8",
       "_model_module_version": "^0.2",
       "_view_module_version": "^0.2",
       "icon": "file",
       "name": "search_by_buffer_distance.py"
      }
     },
     "ca8d2090aafb4312ad65fe0aefa36ccb": {
      "model_module": "@jupyter-widgets/controls",
      "model_module_version": "2.0.0",
      "model_name": "ButtonModel",
      "state": {
       "button_style": "primary",
       "description": "import",
       "layout": "IPY_MODEL_dd7bd74e9a7e49b78bbafaabc0a59f48",
       "style": "IPY_MODEL_5fbb1f4a1ce1480f962351d7bf524a15",
       "tooltip": "Click to import the selected asset"
      }
     },
     "cb716384bfca4586ac19cc1c03fd1790": {
      "model_module": "@jupyter-widgets/controls",
      "model_module_version": "2.0.0",
      "model_name": "ToggleButtonModel",
      "state": {
       "button_style": "primary",
       "icon": "adjust",
       "layout": "IPY_MODEL_1b1c1a672039447e95d2fc3afd0f3b27",
       "style": "IPY_MODEL_65ac1520c5ab40529ae756916e017c84",
       "tooltip": "Planet imagery"
      }
     },
     "cbfd4d2641b34e84bf6636a7369d49c1": {
      "model_module": "ipytree",
      "model_module_version": "^0.2",
      "model_name": "NodeModel",
      "state": {
       "_id": "2603fe17-4778-4f03-96c6-0f87e3012bf0",
       "_model_module_version": "^0.2",
       "_view_module_version": "^0.2",
       "icon": "file",
       "name": "where.py"
      }
     },
     "cc02e4a3a07c4cb1822a9cdaa56e4275": {
      "model_module": "@jupyter-widgets/controls",
      "model_module_version": "2.0.0",
      "model_name": "ToggleButtonStyleModel",
      "state": {
       "description_width": "",
       "font_family": null,
       "font_size": null,
       "font_style": null,
       "font_variant": null,
       "font_weight": null,
       "text_color": null,
       "text_decoration": null
      }
     },
     "cc3666b77e6141e6849dad080455f721": {
      "model_module": "@jupyter-widgets/base",
      "model_module_version": "2.0.0",
      "model_name": "LayoutModel",
      "state": {
       "min_width": "400px"
      }
     },
     "cc4434275e09481ba12b2b02ba95efd6": {
      "model_module": "ipytree",
      "model_module_version": "^0.2",
      "model_name": "NodeModel",
      "state": {
       "_id": "85d3b789-8179-4409-ae31-9d5a4fdad1de",
       "_model_module_version": "^0.2",
       "_view_module_version": "^0.2",
       "name": "CloudMasking",
       "nodes": [
        "IPY_MODEL_be1a6ef63bc746fcbee9e59fe010055e",
        "IPY_MODEL_fd9e2e3e7a4545b79d994917c80d59ad",
        "IPY_MODEL_f0bae66ba19e4dbc8566bb470570e3f1",
        "IPY_MODEL_cd64fb0d173945e3a100ee49fd243748",
        "IPY_MODEL_60d7a76a465e4c748ed161edc424201c"
       ],
       "opened": false
      }
     },
     "cc8f0d5de73844f8bab831f002e344ec": {
      "model_module": "ipytree",
      "model_module_version": "^0.2",
      "model_name": "NodeModel",
      "state": {
       "_id": "b26db9f5-919c-4952-b125-d6fd728839d7",
       "_model_module_version": "^0.2",
       "_view_module_version": "^0.2",
       "icon": "file",
       "name": "center_pivot_irrigation_detector.py"
      }
     },
     "ccaf49f3df0b44e682c660b6d478bea1": {
      "model_module": "@jupyter-widgets/controls",
      "model_module_version": "2.0.0",
      "model_name": "ToggleButtonStyleModel",
      "state": {
       "description_width": "",
       "font_family": null,
       "font_size": null,
       "font_style": null,
       "font_variant": null,
       "font_weight": null,
       "text_color": null,
       "text_decoration": null
      }
     },
     "ccd696d4bafc4f54bfa936bd9540a87e": {
      "model_module": "ipytree",
      "model_module_version": "^0.2",
      "model_name": "NodeModel",
      "state": {
       "_id": "93e00ac1-512c-40d7-97d2-182c9dfbb365",
       "_model_module_version": "^0.2",
       "_view_module_version": "^0.2",
       "name": "Array",
       "nodes": [
        "IPY_MODEL_dc701fb0ce0144faa564fff1f222988c",
        "IPY_MODEL_d0fcec9f596b492280c63111e3371c9d",
        "IPY_MODEL_a4023e79ef1d44ed87713113f0268091",
        "IPY_MODEL_08f9e5e3b2274cb3be3f9d0b11d7ce1a",
        "IPY_MODEL_6ff8fb1905f1493290aabdb5e5bc05d6",
        "IPY_MODEL_954b3eab486a4f0ba98daae0e3c2471e",
        "IPY_MODEL_975675e67c214e9ca4fb619f4234ef72",
        "IPY_MODEL_da8d5c1941f54a1190725378b78037eb"
       ],
       "opened": false
      }
     },
     "cd2f825b242d43e08d43ff0c633f5ec9": {
      "model_module": "@jupyter-widgets/base",
      "model_module_version": "2.0.0",
      "model_name": "LayoutModel",
      "state": {
       "height": "auto",
       "padding": "0px 0px 0px 4px",
       "width": "auto"
      }
     },
     "cd318859d4c74f089c5a6dee95899c2d": {
      "model_module": "ipytree",
      "model_module_version": "^0.2",
      "model_name": "NodeModel",
      "state": {
       "_id": "f4274e2b-85bc-43cf-a778-d7bf9add71ee",
       "_model_module_version": "^0.2",
       "_view_module_version": "^0.2",
       "icon": "file",
       "name": "zonal_statistics.py"
      }
     },
     "cd34bb559fe44f5c974292917e85df09": {
      "model_module": "ipytree",
      "model_module_version": "^0.2",
      "model_name": "NodeModel",
      "state": {
       "_id": "78d208d0-023b-4ee0-9ab8-41ae4f72f14f",
       "_model_module_version": "^0.2",
       "_view_module_version": "^0.2",
       "icon": "file",
       "name": "02_adding_data_to_qgis.py"
      }
     },
     "cd35fba5ff8844bfad16b9d42bf9b41b": {
      "model_module": "ipytree",
      "model_module_version": "^0.2",
      "model_name": "NodeModel",
      "state": {
       "_id": "f36b7b2e-ab78-48fe-a507-def5d53de1d0",
       "_model_module_version": "^0.2",
       "_view_module_version": "^0.2",
       "icon": "file",
       "name": "column_statistics.py"
      }
     },
     "cd64fb0d173945e3a100ee49fd243748": {
      "model_module": "ipytree",
      "model_module_version": "^0.2",
      "model_name": "NodeModel",
      "state": {
       "_id": "4cec1a2d-f906-4998-8687-078757653a43",
       "_model_module_version": "^0.2",
       "_view_module_version": "^0.2",
       "icon": "file",
       "name": "modis_surface_reflectance_qa_band.py"
      }
     },
     "cd74bac533454ca3b17714359c5b19c7": {
      "model_module": "ipytree",
      "model_module_version": "^0.2",
      "model_name": "NodeModel",
      "state": {
       "_id": "f3189ecf-d684-441a-bef3-87a15fc13614",
       "_model_module_version": "^0.2",
       "_view_module_version": "^0.2",
       "icon": "file",
       "name": "rename_bands.py"
      }
     },
     "cd94220764e541a4a986b11faefb0f1c": {
      "model_module": "ipytree",
      "model_module_version": "^0.2",
      "model_name": "NodeModel",
      "state": {
       "_id": "f602f1d4-6354-45a6-a3de-d60c0046b9c9",
       "_model_module_version": "^0.2",
       "_view_module_version": "^0.2",
       "name": "GlobalSurfaceWater",
       "nodes": [
        "IPY_MODEL_de0449eb47024ac0bfd5baf0f2342bd6",
        "IPY_MODEL_82ec2ccc2a6143bdbb7c68bcb97dcd08",
        "IPY_MODEL_0899593071b84ea89b7a7fece45351be"
       ],
       "opened": false
      }
     },
     "cddabbf41fed409d9ec79d440ff696b6": {
      "model_module": "ipytree",
      "model_module_version": "^0.2",
      "model_name": "NodeModel",
      "state": {
       "_id": "d3ae9f57-4a35-4fce-b568-0527b52f2791",
       "_model_module_version": "^0.2",
       "_view_module_version": "^0.2",
       "icon": "file",
       "name": "filter_range_contains.py"
      }
     },
     "ce0e19d403304a1994fc263cdf390786": {
      "model_module": "@jupyter-widgets/controls",
      "model_module_version": "2.0.0",
      "model_name": "ToggleButtonModel",
      "state": {
       "button_style": "primary",
       "icon": "gears",
       "layout": "IPY_MODEL_203ef7bc023948afa7a09ce6fdbd0818",
       "style": "IPY_MODEL_a106dfa156dd4bc7b814bc946abc2be3",
       "tooltip": "WhiteboxTools for local geoprocessing"
      }
     },
     "cea33b3fc9a141d0a23d0ad5105809ba": {
      "model_module": "ipytree",
      "model_module_version": "^0.2",
      "model_name": "NodeModel",
      "state": {
       "_id": "98d4a90a-e774-4008-ae88-803351ecaadb",
       "_model_module_version": "^0.2",
       "_view_module_version": "^0.2",
       "icon": "file",
       "name": "merge_feature_collections.py"
      }
     },
     "cebfafa3ab4e4cb49d897060f6d864fe": {
      "model_module": "jupyter-leaflet",
      "model_module_version": "^0.18",
      "model_name": "LeafletAttributionControlModel",
      "state": {
       "_model_module_version": "^0.18",
       "_view_module_version": "^0.18",
       "options": [
        "position",
        "prefix"
       ],
       "position": "bottomright",
       "prefix": "ipyleaflet"
      }
     },
     "cec1b6f2d2974f00805d6c781824584b": {
      "model_module": "ipytree",
      "model_module_version": "^0.2",
      "model_name": "NodeModel",
      "state": {
       "_id": "34f6cf04-eb17-42c4-ab5d-aac30a9ca74f",
       "_model_module_version": "^0.2",
       "_view_module_version": "^0.2",
       "icon": "file",
       "name": "image_color_ramp.py"
      }
     },
     "cf07ff66dd244327aaef118c2d696a4a": {
      "model_module": "@jupyter-widgets/controls",
      "model_module_version": "2.0.0",
      "model_name": "ToggleButtonStyleModel",
      "state": {
       "description_width": "",
       "font_family": null,
       "font_size": null,
       "font_style": null,
       "font_variant": null,
       "font_weight": null,
       "text_color": null,
       "text_decoration": null
      }
     },
     "cf198643b5c8481d8fc556a3ba0ac4e5": {
      "model_module": "ipytree",
      "model_module_version": "^0.2",
      "model_name": "NodeModel",
      "state": {
       "_id": "ca4197f7-aecc-4c29-8068-b6a933239e5e",
       "_model_module_version": "^0.2",
       "_view_module_version": "^0.2",
       "icon": "file",
       "name": "edge_detection.py"
      }
     },
     "cf5087cf5b71468f9e8aab469e93e4be": {
      "model_module": "ipytree",
      "model_module_version": "^0.2",
      "model_name": "NodeModel",
      "state": {
       "_id": "97974975-086c-4b54-b912-2cbf50daaa55",
       "_model_module_version": "^0.2",
       "_view_module_version": "^0.2",
       "name": "JavaScripts",
       "nodes": [
        "IPY_MODEL_5aaeaafc9f6e46a3958377b48c65b2f1",
        "IPY_MODEL_13022e4841e54e05926d833e188245ea",
        "IPY_MODEL_794e48acd308480a9f01c192fad59d34"
       ]
      }
     },
     "cfb5cae8362c49f3b2e837e65a27e902": {
      "model_module": "@jupyter-widgets/base",
      "model_module_version": "2.0.0",
      "model_name": "LayoutModel",
      "state": {
       "height": "auto",
       "padding": "0px 0px 0px 4px",
       "width": "auto"
      }
     },
     "cfeb7b8dfdf748d6b66406b08ab6cceb": {
      "model_module": "@jupyter-widgets/controls",
      "model_module_version": "2.0.0",
      "model_name": "ToggleButtonStyleModel",
      "state": {
       "description_width": "",
       "font_family": null,
       "font_size": null,
       "font_style": null,
       "font_variant": null,
       "font_weight": null,
       "text_color": null,
       "text_decoration": null
      }
     },
     "d0a4b53b543e47969b99842682dfd1d5": {
      "model_module": "ipytree",
      "model_module_version": "^0.2",
      "model_name": "NodeModel",
      "state": {
       "_id": "12bc3355-2648-4656-ba87-de6cd793adaf",
       "_model_module_version": "^0.2",
       "_view_module_version": "^0.2",
       "icon": "file",
       "name": "landsat457_surface_reflectance.py"
      }
     },
     "d0dcca7d8f6a4eea8cb56ea786538c72": {
      "model_module": "ipytree",
      "model_module_version": "^0.2",
      "model_name": "NodeModel",
      "state": {
       "_id": "b6c21a37-4446-461e-8366-cec83bd359a4",
       "_model_module_version": "^0.2",
       "_view_module_version": "^0.2",
       "icon": "file",
       "name": "expression_map.py"
      }
     },
     "d0fcec9f596b492280c63111e3371c9d": {
      "model_module": "ipytree",
      "model_module_version": "^0.2",
      "model_name": "NodeModel",
      "state": {
       "_id": "6b7450fc-e89c-4799-a126-3aad7a42e58b",
       "_model_module_version": "^0.2",
       "_view_module_version": "^0.2",
       "icon": "file",
       "name": "array_sorting.py"
      }
     },
     "d106fb7e4e8f4e86b7139f7ba9f7c116": {
      "model_module": "ipytree",
      "model_module_version": "^0.2",
      "model_name": "NodeModel",
      "state": {
       "_id": "15908fdc-4c6b-4354-b0ee-2973a1c42709",
       "_model_module_version": "^0.2",
       "_view_module_version": "^0.2",
       "icon": "file",
       "name": "canada_dem.py"
      }
     },
     "d14405d545b245c191acc0754ea45bc2": {
      "model_module": "ipytree",
      "model_module_version": "^0.2",
      "model_name": "NodeModel",
      "state": {
       "_id": "bb477096-09d1-436c-b7cd-71b2df597d0c",
       "_model_module_version": "^0.2",
       "_view_module_version": "^0.2",
       "icon": "file",
       "name": "ndwi_map.py"
      }
     },
     "d1b0fb5a44454f3ba52e5583f684c518": {
      "model_module": "@jupyter-widgets/base",
      "model_module_version": "2.0.0",
      "model_name": "LayoutModel",
      "state": {
       "height": "auto",
       "padding": "0px 0px 0px 4px",
       "width": "auto"
      }
     },
     "d23dbe5720674912a90e8b292e4f13b6": {
      "model_module": "@jupyter-widgets/controls",
      "model_module_version": "2.0.0",
      "model_name": "ToggleButtonModel",
      "state": {
       "button_style": "primary",
       "icon": "info-circle",
       "layout": "IPY_MODEL_d86b677861a440508940ab974274d5c9",
       "style": "IPY_MODEL_5291b654729f4554aae08e0ead581ce9",
       "tooltip": "Get COG/STAC pixel value"
      }
     },
     "d26acf2bb33d4e2eb7334da875f94a10": {
      "model_module": "@jupyter-widgets/output",
      "model_module_version": "1.0.0",
      "model_name": "OutputModel",
      "state": {
       "layout": "IPY_MODEL_b25ecc95757746ddb8aeaaa1bc88f3d1"
      }
     },
     "d27d1416882143109e405fccfdd2170c": {
      "model_module": "ipytree",
      "model_module_version": "^0.2",
      "model_name": "NodeModel",
      "state": {
       "_id": "7116fc19-a161-4d1d-bb05-7fd8d0c00a2f",
       "_model_module_version": "^0.2",
       "_view_module_version": "^0.2",
       "name": "Algorithms",
       "nodes": [
        "IPY_MODEL_f20bf0e59ad340d8a8516f4b7d3f37bd",
        "IPY_MODEL_ffc9cbc3a472438f99f330a807a180e4",
        "IPY_MODEL_02bb35baa87246138722eff76d2714bd",
        "IPY_MODEL_dbae656149a84f718befe154851b14fc",
        "IPY_MODEL_e9e9677fea70494fac0acd20baafbe4e",
        "IPY_MODEL_dc5ab28da4934a28b31f22b36db9348f",
        "IPY_MODEL_efa6d794c4194a3f9f3f58aae85cee4b",
        "IPY_MODEL_1f3d68a0136b427996fb9b75ca5c66fb",
        "IPY_MODEL_37d28986f4c94c6ca4b3dcc2ef41a136",
        "IPY_MODEL_afd6982208594533b37397e5e6cf6651",
        "IPY_MODEL_185f8a47fed341688c0a2c5ef622bf89",
        "IPY_MODEL_d37b538c2d594c7eba01c8dafb4d0f55",
        "IPY_MODEL_927210f541de4a67965f78baea08a18b"
       ],
       "opened": false
      }
     },
     "d2887d4c9bce4481ab11569ed4a24cee": {
      "model_module": "ipytree",
      "model_module_version": "^0.2",
      "model_name": "NodeModel",
      "state": {
       "_id": "ad70968a-b7c0-47b6-a8b6-bba0d9506e68",
       "_model_module_version": "^0.2",
       "_view_module_version": "^0.2",
       "icon": "file",
       "name": "simplify_polygons.py"
      }
     },
     "d2dac310874a4928aa90f031ab9ea8c6": {
      "model_module": "ipytree",
      "model_module_version": "^0.2",
      "model_name": "NodeModel",
      "state": {
       "_id": "80dac445-0079-4eb6-bb27-adf784b1c58c",
       "_model_module_version": "^0.2",
       "_view_module_version": "^0.2",
       "name": "FeatureCollection",
       "nodes": [
        "IPY_MODEL_735b72420cdf4e65a86ba75d9dfca551",
        "IPY_MODEL_359070027f32435f825643a9304c7904",
        "IPY_MODEL_10753cb7080c4e2e970e6f43c83c592f",
        "IPY_MODEL_9b142c0d8e974a2d86595f6c95eb16d8",
        "IPY_MODEL_20aedc0a69aa44c398a2621601875b27",
        "IPY_MODEL_8610b1bcec954b5c8f094ab83caa0326",
        "IPY_MODEL_8c0cd87e9f4b47a691e6318d9a108dad",
        "IPY_MODEL_89d6d912af524f9dab2241fb0db0aea2",
        "IPY_MODEL_d9ea60ff9f894ac08fe33cb58b97f7fd",
        "IPY_MODEL_9e1c182deca14771b573b920e8efa85e",
        "IPY_MODEL_197071872f824b07858d8cf890bc2e30",
        "IPY_MODEL_200a7040fe5b42788e95369ac05e9f44",
        "IPY_MODEL_2b0caba2d8424633851f0ac2cde0fc0a",
        "IPY_MODEL_9afc446cecca432b9f802e1ba17a5c13",
        "IPY_MODEL_2a8132a67ce64576bee9620e9b4b9404",
        "IPY_MODEL_6b35b11f803c4d5c82d862e241b3304a",
        "IPY_MODEL_08f75db5ce05403dabb1984decf52252",
        "IPY_MODEL_73863fe3a1814bdfa7309e298f9dacd9",
        "IPY_MODEL_9115d1adb6014a36b4c402253941c48a",
        "IPY_MODEL_9d5382b2ca4544bcabcab3d1748126a4",
        "IPY_MODEL_63ad24df585d41459e9c6d6313d6fbe1",
        "IPY_MODEL_c68bea82303a4b5c9036b8bb05656003",
        "IPY_MODEL_fa85b6902dd0403a84d2bb185c829666",
        "IPY_MODEL_15d26b5ec40340bea48c9d0efc3b5821",
        "IPY_MODEL_cea33b3fc9a141d0a23d0ad5105809ba",
        "IPY_MODEL_f5239c8b55f544a3bc058257d5ffb628",
        "IPY_MODEL_c04643bedb274b1f88a34878e7c347f0",
        "IPY_MODEL_a293b3167da64363956acd4a1324fbbb",
        "IPY_MODEL_abbf4f5006c445f3bed41943c45055a5",
        "IPY_MODEL_9b86c80522054893939977f42cb7436d",
        "IPY_MODEL_422145419eed4ee8ae6e7f20137ac444",
        "IPY_MODEL_ca7feacde0fa4915b9de64ae0e125ce6",
        "IPY_MODEL_c31fe1df43e64fae8d19d6045c25aca9",
        "IPY_MODEL_fb4703aa5c01465a9f1538be82083840",
        "IPY_MODEL_ed8f1e13555f47b09f0eee6b4dae4902",
        "IPY_MODEL_ac9c4beb36b0440395b9c3baf9aa3217",
        "IPY_MODEL_08c9427a1eda4507b1aae1635238e4b6",
        "IPY_MODEL_d2887d4c9bce4481ab11569ed4a24cee",
        "IPY_MODEL_dacd0e999beb4bcfa2f1c45540ae0d3d"
       ],
       "opened": false
      }
     },
     "d2daea4f2aab4c08baa626c4e3f4ddde": {
      "model_module": "ipytree",
      "model_module_version": "^0.2",
      "model_name": "NodeModel",
      "state": {
       "_id": "fe0db4c7-7113-4a94-b133-4c5d65a9d497",
       "_model_module_version": "^0.2",
       "_view_module_version": "^0.2",
       "icon": "file",
       "name": "usda_naip.py"
      }
     },
     "d310feebce57476da7c0d3eae5b0f824": {
      "model_module": "ipytree",
      "model_module_version": "^0.2",
      "model_name": "NodeModel",
      "state": {
       "_id": "63164f81-6c73-466a-b882-b55ac87b0b25",
       "_model_module_version": "^0.2",
       "_view_module_version": "^0.2",
       "icon": "file",
       "name": "Projections.py"
      }
     },
     "d345a29b9fb5432a81ec2eaf5001ac27": {
      "model_module": "ipytree",
      "model_module_version": "^0.2",
      "model_name": "NodeModel",
      "state": {
       "_id": "2d86c1c6-6d5f-4143-874a-ad10a12f9c04",
       "_model_module_version": "^0.2",
       "_view_module_version": "^0.2",
       "icon": "file",
       "name": "filtering_by_metadata.py"
      }
     },
     "d3535f1b581b47b1b2d4acbc77752fb1": {
      "model_module": "ipytree",
      "model_module_version": "^0.2",
      "model_name": "NodeModel",
      "state": {
       "_id": "b413e06e-8a09-49cb-8932-65c24c8bb2b0",
       "_model_module_version": "^0.2",
       "_view_module_version": "^0.2",
       "name": "Writer",
       "opened": false
      }
     },
     "d37b538c2d594c7eba01c8dafb4d0f55": {
      "model_module": "ipytree",
      "model_module_version": "^0.2",
      "model_name": "NodeModel",
      "state": {
       "_id": "53c25146-ae50-47df-8736-a2deda2ae0ee",
       "_model_module_version": "^0.2",
       "_view_module_version": "^0.2",
       "name": "CloudMasking",
       "nodes": [
        "IPY_MODEL_d0a4b53b543e47969b99842682dfd1d5",
        "IPY_MODEL_16516fe3b6af4667a2b7d934da485870",
        "IPY_MODEL_0361b711e988443fa34aa4f57865ce35",
        "IPY_MODEL_1211010eb0e34b159b3b7ac2ab6d59ca",
        "IPY_MODEL_0b04b82632fb4fda882c9c58186acb7c"
       ],
       "opened": false
      }
     },
     "d385ff1c8c3b4da6a45fc7ea9b67f4dd": {
      "model_module": "ipytree",
      "model_module_version": "^0.2",
      "model_name": "NodeModel",
      "state": {
       "_id": "dc7f8670-e284-42c1-a9fa-735529c3a357",
       "_model_module_version": "^0.2",
       "_view_module_version": "^0.2",
       "name": "contrib",
       "nodes": [
        "IPY_MODEL_6a779b377c18455597d666776fc70d69",
        "IPY_MODEL_a0447f80ffa64425af03fb5ad8e01fcc"
       ],
       "opened": false
      }
     },
     "d3a91d0c22954f0f814e1b4accb80564": {
      "model_module": "@jupyter-widgets/controls",
      "model_module_version": "2.0.0",
      "model_name": "HTMLStyleModel",
      "state": {
       "description_width": "",
       "font_size": null,
       "text_color": null
      }
     },
     "d3d7295c6bce41c99196c85c331e4187": {
      "model_module": "@jupyter-widgets/controls",
      "model_module_version": "2.0.0",
      "model_name": "ToggleButtonModel",
      "state": {
       "button_style": "primary",
       "icon": "question",
       "layout": "IPY_MODEL_8fa4b908fef447c0a15a8fbdd4c04a5e",
       "style": "IPY_MODEL_e70e66e8f2db4252962e680e5e236c5a",
       "tooltip": "Get help"
      }
     },
     "d4213674bfba404f9d25bb0f7801523e": {
      "model_module": "@jupyter-widgets/controls",
      "model_module_version": "2.0.0",
      "model_name": "VBoxModel",
      "state": {
       "children": [
        "IPY_MODEL_54e8b99e2029473abd4ef096b591cdb7",
        "IPY_MODEL_28cc136c7ff94316ae12a5b48197fd78"
       ],
       "layout": "IPY_MODEL_0484ed2bc76d450fa63bb4c1b25b08e7"
      }
     },
     "d43754ab0b5046f8b6434532455eec38": {
      "model_module": "@jupyter-widgets/controls",
      "model_module_version": "2.0.0",
      "model_name": "ToggleButtonStyleModel",
      "state": {
       "description_width": "",
       "font_family": null,
       "font_size": null,
       "font_style": null,
       "font_variant": null,
       "font_weight": null,
       "text_color": null,
       "text_decoration": null
      }
     },
     "d4545673527f4b33876b3da20afbdbfb": {
      "model_module": "jupyter-leaflet",
      "model_module_version": "^0.18",
      "model_name": "LeafletScaleControlModel",
      "state": {
       "_model_module_version": "^0.18",
       "_view_module_version": "^0.18",
       "imperial": true,
       "max_width": 100,
       "metric": true,
       "options": [
        "imperial",
        "max_width",
        "metric",
        "position",
        "update_when_idle"
       ],
       "position": "bottomleft",
       "update_when_idle": false
      }
     },
     "d45655d62b514ef194b467312a58290a": {
      "model_module": "ipytree",
      "model_module_version": "^0.2",
      "model_name": "NodeModel",
      "state": {
       "_id": "1b078d89-47e8-42ac-896d-a373a282fe9c",
       "_model_module_version": "^0.2",
       "_view_module_version": "^0.2",
       "icon": "file",
       "name": "stats_of_columns.py"
      }
     },
     "d4dbb4485ffc4864aaacb73b3eb0701b": {
      "model_module": "ipytree",
      "model_module_version": "^0.2",
      "model_name": "NodeModel",
      "state": {
       "_id": "9215f5ea-9c53-4e7c-92e0-8fb4a3ad3210",
       "_model_module_version": "^0.2",
       "_view_module_version": "^0.2",
       "icon": "file",
       "name": "stats_of_image_regions.py"
      }
     },
     "d4dfca0938904db29a805d6f2d246d11": {
      "model_module": "@jupyter-widgets/base",
      "model_module_version": "2.0.0",
      "model_name": "LayoutModel",
      "state": {}
     },
     "d55bd9657746428e92c3114dce77abda": {
      "model_module": "ipytree",
      "model_module_version": "^0.2",
      "model_name": "NodeModel",
      "state": {
       "_id": "9e1636b1-800e-468b-bc72-2483f19d8672",
       "_model_module_version": "^0.2",
       "_view_module_version": "^0.2",
       "icon": "file",
       "name": "image_thumbnail.py"
      }
     },
     "d573fbcc7971439682fe766a0db9ff09": {
      "model_module": "ipytree",
      "model_module_version": "^0.2",
      "model_name": "NodeModel",
      "state": {
       "_id": "7cbc3438-bd84-4c7a-a7d6-90ba3b36d6bc",
       "_model_module_version": "^0.2",
       "_view_module_version": "^0.2",
       "icon": "file",
       "name": "array_transformations.py"
      }
     },
     "d5826c2235784d2c84e44c3ac0e0a812": {
      "model_module": "ipytree",
      "model_module_version": "^0.2",
      "model_name": "NodeModel",
      "state": {
       "_id": "14d00322-5256-4db1-bd0e-3c839c4a7ec7",
       "_model_module_version": "^0.2",
       "_view_module_version": "^0.2",
       "icon": "file",
       "name": "srtm_chili.py"
      }
     },
     "d59ac5407cbe456baeadf40a42d55fd9": {
      "model_module": "@jupyter-widgets/output",
      "model_module_version": "1.0.0",
      "model_name": "OutputModel",
      "state": {
       "layout": "IPY_MODEL_fbda20e69c7c429088198c175fe546f1"
      }
     },
     "d61b6afa736941e28ac9b7b92d580d38": {
      "model_module": "ipytree",
      "model_module_version": "^0.2",
      "model_name": "NodeModel",
      "state": {
       "_id": "33a30e1c-d3f5-48ea-a3a0-1ee1adafc99b",
       "_model_module_version": "^0.2",
       "_view_module_version": "^0.2",
       "icon": "file",
       "name": "join.py"
      }
     },
     "d61db3a2ee5d4406a28a4fd62825892e": {
      "model_module": "ipytree",
      "model_module_version": "^0.2",
      "model_name": "NodeModel",
      "state": {
       "_id": "0484a7aa-2d73-4f39-b5d2-ef4a3a493d4f",
       "_model_module_version": "^0.2",
       "_view_module_version": "^0.2",
       "icon": "file",
       "name": "us_ned_mtpi.py"
      }
     },
     "d6c72856d2554cdd974173ce43345e36": {
      "model_module": "ipytree",
      "model_module_version": "^0.2",
      "model_name": "NodeModel",
      "state": {
       "_id": "6b324a9d-9c99-4748-bacd-59fb6ddadba1",
       "_model_module_version": "^0.2",
       "_view_module_version": "^0.2",
       "icon": "file",
       "name": "export_TimeSeries2.py"
      }
     },
     "d7182642f88c483197aa47c8cf6bdc97": {
      "model_module": "ipytree",
      "model_module_version": "^0.2",
      "model_name": "NodeModel",
      "state": {
       "_id": "1eb75acd-2116-4979-b3bd-9481e8aa1d64",
       "_model_module_version": "^0.2",
       "_view_module_version": "^0.2",
       "icon": "file",
       "name": "jrc_yearly_history.py"
      }
     },
     "d719c6c0088047f68229ef5a3c1275ad": {
      "model_module": "ipytree",
      "model_module_version": "^0.2",
      "model_name": "NodeModel",
      "state": {
       "_id": "6d6116c0-99bd-4bc6-a1c3-1940023686eb",
       "_model_module_version": "^0.2",
       "_view_module_version": "^0.2",
       "icon": "file",
       "name": "expressions.py"
      }
     },
     "d7271eaf907f411098185b1eb7396651": {
      "model_module": "ipytree",
      "model_module_version": "^0.2",
      "model_name": "NodeModel",
      "state": {
       "_id": "c46beac8-e165-4ac6-aeac-c1d2e2fe475a",
       "_model_module_version": "^0.2",
       "_view_module_version": "^0.2",
       "icon": "file",
       "name": "svm_classifier.py"
      }
     },
     "d7c07bdaabb34f77b82b4e95b69df408": {
      "model_module": "ipytree",
      "model_module_version": "^0.2",
      "model_name": "NodeModel",
      "state": {
       "_id": "944c5c74-ae1f-41b9-aae7-0262d559d5b7",
       "_model_module_version": "^0.2",
       "_view_module_version": "^0.2",
       "icon": "file",
       "name": "filter_string_starts_with.py"
      }
     },
     "d7f4854923124097807f9fc4609aac02": {
      "model_module": "@jupyter-widgets/controls",
      "model_module_version": "2.0.0",
      "model_name": "TextStyleModel",
      "state": {
       "description_width": "",
       "font_size": null,
       "text_color": null
      }
     },
     "d82e436fc7f8411485b7cf01fcb601b1": {
      "model_module": "ipytree",
      "model_module_version": "^0.2",
      "model_name": "NodeModel",
      "state": {
       "_id": "832d3c00-9e59-480f-a58f-50edb0187b73",
       "_model_module_version": "^0.2",
       "_view_module_version": "^0.2",
       "icon": "file",
       "name": "zero_crossing.py"
      }
     },
     "d86b677861a440508940ab974274d5c9": {
      "model_module": "@jupyter-widgets/base",
      "model_module_version": "2.0.0",
      "model_name": "LayoutModel",
      "state": {
       "height": "auto",
       "padding": "0px 0px 0px 4px",
       "width": "auto"
      }
     },
     "d8723cb6663f42f2a8bcc0c5ba97a54f": {
      "model_module": "ipytree",
      "model_module_version": "^0.2",
      "model_name": "NodeModel",
      "state": {
       "_id": "e11b15a2-b8d2-4001-a249-f0bd887b6007",
       "_model_module_version": "^0.2",
       "_view_module_version": "^0.2",
       "icon": "file",
       "name": "get_image_resolution.py"
      }
     },
     "d87c0390566e4013a49c1c3d0ae4ea0f": {
      "model_module": "@jupyter-widgets/base",
      "model_module_version": "2.0.0",
      "model_name": "LayoutModel",
      "state": {}
     },
     "d8911e01cbf94f438a452ace370b6191": {
      "model_module": "@jupyter-widgets/base",
      "model_module_version": "2.0.0",
      "model_name": "LayoutModel",
      "state": {
       "max_width": "57px",
       "min_width": "57px"
      }
     },
     "d8f97e7858a74d729afb63e8d0b96f32": {
      "model_module": "ipytree",
      "model_module_version": "^0.2",
      "model_name": "NodeModel",
      "state": {
       "_id": "22eddcbc-ca36-4c31-a038-07624649a3f2",
       "_model_module_version": "^0.2",
       "_view_module_version": "^0.2",
       "icon": "file",
       "name": "09_a_complete_example.py"
      }
     },
     "d90502a3e8a44eafab02b3be7e606b86": {
      "model_module": "ipytree",
      "model_module_version": "^0.2",
      "model_name": "NodeModel",
      "state": {
       "_id": "665aa1f7-5b7d-4498-bfd6-d85d014dcf51",
       "_model_module_version": "^0.2",
       "_view_module_version": "^0.2",
       "icon": "file",
       "name": "canny_edge_detector.py"
      }
     },
     "d94a4a26786644bdb5f159ff1feee7db": {
      "model_module": "@jupyter-widgets/base",
      "model_module_version": "2.0.0",
      "model_name": "LayoutModel",
      "state": {}
     },
     "d9877da3b8d744458ed07c1a498b326f": {
      "model_module": "ipytree",
      "model_module_version": "^0.2",
      "model_name": "NodeModel",
      "state": {
       "_id": "50a3058a-4570-4b52-ba51-cd2fa52fa541",
       "_model_module_version": "^0.2",
       "_view_module_version": "^0.2",
       "icon": "file",
       "name": "count_features.py"
      }
     },
     "d98f1775cce844e9a76366353a6e0146": {
      "model_module": "@jupyter-widgets/controls",
      "model_module_version": "2.0.0",
      "model_name": "ToggleButtonModel",
      "state": {
       "icon": "server",
       "layout": "IPY_MODEL_b4475be922fa4a30a0b453d2debe82af",
       "style": "IPY_MODEL_295711f1cb1c47528ad9ea4393401fac",
       "tooltip": "Layers"
      }
     },
     "d995a664bd9f4aefb90a0076d79c2d3c": {
      "model_module": "ipytree",
      "model_module_version": "^0.2",
      "model_name": "NodeModel",
      "state": {
       "_id": "d14f646a-7fb9-453f-a217-2b8a2274ea03",
       "_model_module_version": "^0.2",
       "_view_module_version": "^0.2",
       "icon": "file",
       "name": "reverse_mask.py"
      }
     },
     "d9ea60ff9f894ac08fe33cb58b97f7fd": {
      "model_module": "ipytree",
      "model_module_version": "^0.2",
      "model_name": "NodeModel",
      "state": {
       "_id": "1a6b4e09-96b2-470d-9979-f60fed3e39ed",
       "_model_module_version": "^0.2",
       "_view_module_version": "^0.2",
       "icon": "file",
       "name": "column_statistics_by_group.py"
      }
     },
     "da32722af8694132970890fb2010f625": {
      "model_module": "@jupyter-widgets/controls",
      "model_module_version": "2.0.0",
      "model_name": "TextareaModel",
      "state": {
       "layout": "IPY_MODEL_3909ec2227274e68ae5ae3685d158a21",
       "style": "IPY_MODEL_686b980c62dd4160b92b9bc86b27088c"
      }
     },
     "da8d5c1941f54a1190725378b78037eb": {
      "model_module": "ipytree",
      "model_module_version": "^0.2",
      "model_name": "NodeModel",
      "state": {
       "_id": "57f92340-b043-4cbc-9e2e-3abfae8b9eb7",
       "_model_module_version": "^0.2",
       "_view_module_version": "^0.2",
       "icon": "file",
       "name": "spectral_unmixing.py"
      }
     },
     "daac3e13fe94446384c86ba91f27fcf3": {
      "model_module": "ipytree",
      "model_module_version": "^0.2",
      "model_name": "NodeModel",
      "state": {
       "_id": "97f88944-fe07-4f42-9308-331ddac34625",
       "_model_module_version": "^0.2",
       "_view_module_version": "^0.2",
       "icon": "file",
       "name": "jrc_monthly_recurrence.py"
      }
     },
     "daad93220e4849a8ab10a53398aa112e": {
      "model_module": "@jupyter-widgets/controls",
      "model_module_version": "2.0.0",
      "model_name": "ToggleButtonStyleModel",
      "state": {
       "description_width": "",
       "font_family": null,
       "font_size": null,
       "font_style": null,
       "font_variant": null,
       "font_weight": null,
       "text_color": null,
       "text_decoration": null
      }
     },
     "dacd0e999beb4bcfa2f1c45540ae0d3d": {
      "model_module": "ipytree",
      "model_module_version": "^0.2",
      "model_name": "NodeModel",
      "state": {
       "_id": "ad020e98-2287-4db0-973e-7b25f2f851ab",
       "_model_module_version": "^0.2",
       "_view_module_version": "^0.2",
       "icon": "file",
       "name": "vector_symbology.py"
      }
     },
     "dae8ada0a8a944a4b76d18e2bd85092a": {
      "model_module": "ipytree",
      "model_module_version": "^0.2",
      "model_name": "NodeModel",
      "state": {
       "_id": "a3c61a6b-55aa-4d99-bad1-c3a055657e06",
       "_model_module_version": "^0.2",
       "_view_module_version": "^0.2",
       "icon": "file",
       "name": "qgis_to_geemap.py"
      }
     },
     "db120d3e3bd3433db1663d053ebc44e0": {
      "model_module": "ipytree",
      "model_module_version": "^0.2",
      "model_name": "NodeModel",
      "state": {
       "_id": "8dfb1593-e55a-45f9-993d-19a111604d4b",
       "_model_module_version": "^0.2",
       "_view_module_version": "^0.2",
       "icon": "file",
       "name": "filter_string_starts_with.py"
      }
     },
     "db4d933512404316a0ef42b9a92c938e": {
      "model_module": "ipytree",
      "model_module_version": "^0.2",
      "model_name": "NodeModel",
      "state": {
       "_id": "beb04653-7f0d-4299-ad8b-79aa92e2b0a5",
       "_model_module_version": "^0.2",
       "_view_module_version": "^0.2",
       "icon": "file",
       "name": "ndwi_symbology.py"
      }
     },
     "db78f288a8e7466a9da61ae81822d1ec": {
      "model_module": "@jupyter-widgets/controls",
      "model_module_version": "2.0.0",
      "model_name": "ToggleButtonsModel",
      "state": {
       "_options_labels": [
        "Scripts",
        "Docs",
        "Assets"
       ],
       "button_style": "primary",
       "icons": [],
       "index": 1,
       "layout": "IPY_MODEL_d94a4a26786644bdb5f159ff1feee7db",
       "style": "IPY_MODEL_76c149ac398b49ab9ee99abb17964546",
       "tooltips": [
        "Search Earth Engine Scripts",
        "Search Earth Engine API",
        "Search Earth Engine Assets"
       ]
      }
     },
     "db8d38481da841abb5681905fe43e3f4": {
      "model_module": "@jupyter-widgets/base",
      "model_module_version": "2.0.0",
      "model_name": "LayoutModel",
      "state": {}
     },
     "dbae656149a84f718befe154851b14fc": {
      "model_module": "ipytree",
      "model_module_version": "^0.2",
      "model_name": "NodeModel",
      "state": {
       "_id": "83e9c585-862b-4020-84f8-49f42448a5cf",
       "_model_module_version": "^0.2",
       "_view_module_version": "^0.2",
       "icon": "file",
       "name": "landsat_radiance.py"
      }
     },
     "dbb550d113f5401580bd13355ae5a747": {
      "model_module": "@jupyter-widgets/controls",
      "model_module_version": "2.0.0",
      "model_name": "DescriptionStyleModel",
      "state": {
       "description_width": ""
      }
     },
     "dc2f51641bf04e60bda32eefc1294985": {
      "model_module": "ipytree",
      "model_module_version": "^0.2",
      "model_name": "NodeModel",
      "state": {
       "_id": "93cbc9b4-b969-4d4d-8145-0f9cfc6b0988",
       "_model_module_version": "^0.2",
       "_view_module_version": "^0.2",
       "name": "earthengine-py-examples",
       "nodes": [
        "IPY_MODEL_02169b732a0d42bbae3bd0fa757c04b0",
        "IPY_MODEL_7b2a7cd9818d415d85878d34066126be",
        "IPY_MODEL_dae8ada0a8a944a4b76d18e2bd85092a",
        "IPY_MODEL_3bf852b9b37f4d3db8248b23659e5d16",
        "IPY_MODEL_ccd696d4bafc4f54bfa936bd9540a87e",
        "IPY_MODEL_a8d4ead432c44d5183d8a47742feacda",
        "IPY_MODEL_7356ce4994ff452db26fa2856b96e50a",
        "IPY_MODEL_d2dac310874a4928aa90f031ab9ea8c6",
        "IPY_MODEL_a29e440c6bcd45ce8386839e318ad975",
        "IPY_MODEL_5ea8792b92974fa5a7414b03aaf22ad7",
        "IPY_MODEL_4413684e1ace460097533e6c6dc908a0",
        "IPY_MODEL_4889baa1a88948ea946da775271c8398",
        "IPY_MODEL_9168d1d8119349769aaad80bebadc6f0",
        "IPY_MODEL_9f5bedd764434897ac666c1fe7c5d11f",
        "IPY_MODEL_cf5087cf5b71468f9e8aab469e93e4be",
        "IPY_MODEL_8e19d19d340e4fdeb2233bf00a19320b",
        "IPY_MODEL_ee7bc430e0fd459fbe2eff04c2ff73f5",
        "IPY_MODEL_3158df3258724970a029883b41f68291",
        "IPY_MODEL_5519159a198143518ee1d6063c391848",
        "IPY_MODEL_791203975a1644e7a3e72f63b3a1d87e",
        "IPY_MODEL_44373200a671450981f5c10f7c30d22b"
       ]
      }
     },
     "dc53415aa1ae400fa1f64bd0fb3bdecd": {
      "model_module": "@jupyter-widgets/base",
      "model_module_version": "2.0.0",
      "model_name": "LayoutModel",
      "state": {
       "width": "340px"
      }
     },
     "dc5ab28da4934a28b31f22b36db9348f": {
      "model_module": "ipytree",
      "model_module_version": "^0.2",
      "model_name": "NodeModel",
      "state": {
       "_id": "9739b3df-bba8-4703-833d-0326348feb90",
       "_model_module_version": "^0.2",
       "_view_module_version": "^0.2",
       "icon": "file",
       "name": "landsat_surface_reflectance.py"
      }
     },
     "dc701fb0ce0144faa564fff1f222988c": {
      "model_module": "ipytree",
      "model_module_version": "^0.2",
      "model_name": "NodeModel",
      "state": {
       "_id": "33334a35-6098-44a0-8e65-f850b1ee280d",
       "_model_module_version": "^0.2",
       "_view_module_version": "^0.2",
       "icon": "file",
       "name": "array_images.py"
      }
     },
     "dc859af172514abc8e35cde40fe1dc97": {
      "model_module": "@jupyter-widgets/base",
      "model_module_version": "2.0.0",
      "model_name": "LayoutModel",
      "state": {
       "height": "auto",
       "padding": "0px 0px 0px 4px",
       "width": "auto"
      }
     },
     "dd320ec98cc54042a208ec24f5e81f19": {
      "model_module": "ipytree",
      "model_module_version": "^0.2",
      "model_name": "NodeModel",
      "state": {
       "_id": "ea5d75ef-8eac-4c70-a73a-0272978d1991",
       "_model_module_version": "^0.2",
       "_view_module_version": "^0.2",
       "icon": "file",
       "name": "object_based.py"
      }
     },
     "dd3e118fcba1472a9dc87a989207b0e3": {
      "model_module": "@jupyter-widgets/base",
      "model_module_version": "2.0.0",
      "model_name": "LayoutModel",
      "state": {
       "max_width": "57px",
       "min_width": "57px"
      }
     },
     "dd497d8fbe62447fae209f5727eaa910": {
      "model_module": "ipytree",
      "model_module_version": "^0.2",
      "model_name": "NodeModel",
      "state": {
       "_id": "80671b57-01c7-477b-bcbc-01726da6f5a0",
       "_model_module_version": "^0.2",
       "_view_module_version": "^0.2",
       "icon": "file",
       "name": "srtm_landforms.py"
      }
     },
     "dd7bd74e9a7e49b78bbafaabc0a59f48": {
      "model_module": "@jupyter-widgets/base",
      "model_module_version": "2.0.0",
      "model_name": "LayoutModel",
      "state": {
       "max_width": "57px",
       "min_width": "57px"
      }
     },
     "de0449eb47024ac0bfd5baf0f2342bd6": {
      "model_module": "ipytree",
      "model_module_version": "^0.2",
      "model_name": "NodeModel",
      "state": {
       "_id": "ea1542f7-df81-4a83-b4c2-5ae4a87fae9c",
       "_model_module_version": "^0.2",
       "_view_module_version": "^0.2",
       "icon": "file",
       "name": "1_water_occurrence.py"
      }
     },
     "de4a2bd450ee42f1b2f6f13b76e06d44": {
      "model_module": "ipytree",
      "model_module_version": "^0.2",
      "model_name": "NodeModel",
      "state": {
       "_id": "ad1dd009-b33c-49c0-8bb4-e34abc638b27",
       "_model_module_version": "^0.2",
       "_view_module_version": "^0.2",
       "name": "Filter",
       "nodes": [
        "IPY_MODEL_c1e6aaf235934a46b8a9fa8bda009f3c",
        "IPY_MODEL_21f69784f6d44340b6a3c8480aec9497",
        "IPY_MODEL_47718659c7824890ae9b35f34462975c",
        "IPY_MODEL_c4068c52f3a942149f83c46945cf8321",
        "IPY_MODEL_c501c5b627c34609a92bdc6e3352b878",
        "IPY_MODEL_ad59323b877a4e5fb719cb345f0df5c9",
        "IPY_MODEL_db120d3e3bd3433db1663d053ebc44e0"
       ],
       "opened": false
      }
     },
     "dee1b79e71664e078a7332bba44b49ff": {
      "model_module": "ipytree",
      "model_module_version": "^0.2",
      "model_name": "NodeModel",
      "state": {
       "_id": "19a05af9-873e-451e-9763-213c49645526",
       "_model_module_version": "^0.2",
       "_view_module_version": "^0.2",
       "icon": "file",
       "name": "clamp.py"
      }
     },
     "df005d394da44238be5a6e0be61d7f22": {
      "model_module": "@jupyter-widgets/base",
      "model_module_version": "2.0.0",
      "model_name": "LayoutModel",
      "state": {
       "max_height": "350px",
       "max_width": "340px",
       "overflow": "scroll"
      }
     },
     "df0cc5fc3245472eb1d97cb7f2e22a4e": {
      "model_module": "@jupyter-widgets/controls",
      "model_module_version": "2.0.0",
      "model_name": "ToggleButtonModel",
      "state": {
       "button_style": "primary",
       "icon": "retweet",
       "layout": "IPY_MODEL_cfb5cae8362c49f3b2e837e65a27e902",
       "style": "IPY_MODEL_bf8b85322de7427983ab65551bc9bc28",
       "tooltip": "Convert Earth Engine JavaScript to Python"
      }
     },
     "df1fb885deb746c6a1c59b997e513a98": {
      "model_module": "@jupyter-widgets/controls",
      "model_module_version": "2.0.0",
      "model_name": "ButtonStyleModel",
      "state": {
       "font_family": null,
       "font_size": null,
       "font_style": null,
       "font_variant": null,
       "font_weight": null,
       "text_color": null,
       "text_decoration": null
      }
     },
     "df7e3ffec5dc4866b6902ea01ea9ecdb": {
      "model_module": "ipytree",
      "model_module_version": "^0.2",
      "model_name": "NodeModel",
      "state": {
       "_id": "28af1c74-5a1f-46a8-89de-5ffb0686706e",
       "_model_module_version": "^0.2",
       "_view_module_version": "^0.2",
       "icon": "file",
       "name": "export_TimeSeries.py"
      }
     },
     "df9dd2d693774d3898539a9ff116d7cf": {
      "model_module": "ipytree",
      "model_module_version": "^0.2",
      "model_name": "NodeModel",
      "state": {
       "_id": "ccd00ade-b25d-4658-9596-33bdfe29af37",
       "_model_module_version": "^0.2",
       "_view_module_version": "^0.2",
       "icon": "file",
       "name": "DeferredExecution.py"
      }
     },
     "dfb15cb9969d45569611ad0a37743a67": {
      "model_module": "@jupyter-widgets/base",
      "model_module_version": "2.0.0",
      "model_name": "LayoutModel",
      "state": {
       "height": "auto",
       "padding": "0px 0px 0px 4px",
       "width": "auto"
      }
     },
     "dfdfcd42029944d9b194bc64a6a26dde": {
      "model_module": "@jupyter-widgets/base",
      "model_module_version": "2.0.0",
      "model_name": "LayoutModel",
      "state": {
       "width": "310px"
      }
     },
     "dff8976a51c241dfa03884f1e0c4187a": {
      "model_module": "ipytree",
      "model_module_version": "^0.2",
      "model_name": "NodeModel",
      "state": {
       "_id": "ea1866d4-cc8d-4bd3-b239-614f87a53a0a",
       "_model_module_version": "^0.2",
       "_view_module_version": "^0.2",
       "icon": "file",
       "name": "stats_by_group.py"
      }
     },
     "e028c05b502a4780a7d98739b8c56bd4": {
      "model_module": "ipytree",
      "model_module_version": "^0.2",
      "model_name": "NodeModel",
      "state": {
       "_id": "069dd70c-30cb-415f-9468-8f49f09d7c3e",
       "_model_module_version": "^0.2",
       "_view_module_version": "^0.2",
       "icon": "file",
       "name": "weighted_reductions.py"
      }
     },
     "e02942d0a0b34b81b1d1aa750b188f2a": {
      "model_module": "ipytree",
      "model_module_version": "^0.2",
      "model_name": "NodeModel",
      "state": {
       "_id": "9c2d8f63-bb34-4877-8a55-12cad8495777",
       "_model_module_version": "^0.2",
       "_view_module_version": "^0.2",
       "icon": "file",
       "name": "landsat_median.py"
      }
     },
     "e04c6f6acb464f5cae713e5558fbb3af": {
      "model_module": "ipytree",
      "model_module_version": "^0.2",
      "model_name": "NodeModel",
      "state": {
       "_id": "b79bbfed-4b11-4874-ab94-9ca9157d897c",
       "_model_module_version": "^0.2",
       "_view_module_version": "^0.2",
       "name": "Datasets",
       "nodes": [
        "IPY_MODEL_a3e547deca064d2c987159f2305a5b55",
        "IPY_MODEL_b61b790f589b408396d496aa7dbdb363",
        "IPY_MODEL_7d845a4f2dca43af9c14aaf5da16559f",
        "IPY_MODEL_d2daea4f2aab4c08baa626c4e3f4ddde",
        "IPY_MODEL_167c3116be4045de807835506722863d",
        "IPY_MODEL_f8c1361752c84c15afb3fbb9feeff4b4",
        "IPY_MODEL_2f7eb99d70874df0b55dbb53f2e54984",
        "IPY_MODEL_3bb28996fc3249c3b366fa040b2881a7"
       ],
       "opened": false
      }
     },
     "e0bb2aefcd5a419ab689f29330818670": {
      "model_module": "ipytree",
      "model_module_version": "^0.2",
      "model_name": "NodeModel",
      "state": {
       "_id": "a0d043d8-23ff-44f6-ad29-4852e77154b5",
       "_model_module_version": "^0.2",
       "_view_module_version": "^0.2",
       "icon": "file",
       "name": "color_by_attribute.py"
      }
     },
     "e11b68d9adad4359afa1146cdf6deed0": {
      "model_module": "ipytree",
      "model_module_version": "^0.2",
      "model_name": "NodeModel",
      "state": {
       "_id": "ba7d7964-0339-43a4-a504-ccb56061c3a4",
       "_model_module_version": "^0.2",
       "_view_module_version": "^0.2",
       "icon": "file",
       "name": "convert_raster_to_vector.py"
      }
     },
     "e12015eed26a40158897a1360d22232b": {
      "model_module": "ipytree",
      "model_module_version": "^0.2",
      "model_name": "NodeModel",
      "state": {
       "_id": "3b736b4b-c894-4e7f-b087-fbe94008f749",
       "_model_module_version": "^0.2",
       "_view_module_version": "^0.2",
       "icon": "file",
       "name": "srtm_mtpi.py"
      }
     },
     "e1d00862c7434f9f918034eedc3912a2": {
      "model_module": "@jupyter-widgets/controls",
      "model_module_version": "2.0.0",
      "model_name": "ButtonStyleModel",
      "state": {
       "font_family": null,
       "font_size": null,
       "font_style": null,
       "font_variant": null,
       "font_weight": null,
       "text_color": null,
       "text_decoration": null
      }
     },
     "e1ee059c57214336bfb2c36fd54b5e69": {
      "model_module": "ipytree",
      "model_module_version": "^0.2",
      "model_name": "NodeModel",
      "state": {
       "_id": "62e61199-d886-444a-a34b-32dbcd4d251b",
       "_model_module_version": "^0.2",
       "_view_module_version": "^0.2",
       "icon": "file",
       "name": "us_ned_physio_diversity.py"
      }
     },
     "e25e818240e4487b86673d32c511b7c6": {
      "model_module": "ipytree",
      "model_module_version": "^0.2",
      "model_name": "NodeModel",
      "state": {
       "_id": "f3f2e169-7bb1-42f8-9bb4-35570072c8a8",
       "_model_module_version": "^0.2",
       "_view_module_version": "^0.2",
       "icon": "file",
       "name": "spectral_unmixing.py"
      }
     },
     "e2e98774bbdf401db255cdec6a4ac1db": {
      "model_module": "ipytree",
      "model_module_version": "^0.2",
      "model_name": "NodeModel",
      "state": {
       "_id": "174643e5-e1d9-4841-804b-7a057dc5d1ec",
       "_model_module_version": "^0.2",
       "_view_module_version": "^0.2",
       "name": "Tutorials",
       "nodes": [
        "IPY_MODEL_908016f5fc204be49698fecae7d19c4b",
        "IPY_MODEL_b650117984184dbebe715aa41a39c0a0"
       ]
      }
     },
     "e38a9bb23b3d48c5b93d764f2004afbd": {
      "model_module": "ipytree",
      "model_module_version": "^0.2",
      "model_name": "NodeModel",
      "state": {
       "_id": "5172a65e-d386-474c-8cfb-9771c6a14255",
       "_model_module_version": "^0.2",
       "_view_module_version": "^0.2",
       "icon": "file",
       "name": "convert_vector_to_raster.py"
      }
     },
     "e3b82255dbc74e6585ec17f76f8c4056": {
      "model_module": "ipytree",
      "model_module_version": "^0.2",
      "model_name": "NodeModel",
      "state": {
       "_id": "a1fe94d9-9323-4cab-8258-e263d7366f82",
       "_model_module_version": "^0.2",
       "_view_module_version": "^0.2",
       "icon": "file",
       "name": "us_physiography.py"
      }
     },
     "e3d41191558c4679ba26fc2771ab3ecf": {
      "model_module": "jupyter-leaflet",
      "model_module_version": "^0.18",
      "model_name": "LeafletWidgetControlModel",
      "state": {
       "_model_module": "jupyter-leaflet",
       "_model_module_version": "^0.18",
       "_view_count": null,
       "_view_module": "jupyter-leaflet",
       "_view_module_version": "^0.18",
       "options": [
        "position",
        "transparent_bg"
       ],
       "position": "topright",
       "widget": "IPY_MODEL_62de3d5781e14ed088b3ad67d989c44d"
      }
     },
     "e3f83601f24e46eeaa6d1d9b7f017cb4": {
      "model_module": "ipytree",
      "model_module_version": "^0.2",
      "model_name": "NodeModel",
      "state": {
       "_id": "9da5ea66-425b-4ffd-a976-418c107a4fbe",
       "_model_module_version": "^0.2",
       "_view_module_version": "^0.2",
       "icon": "file",
       "name": "map_set_center.py"
      }
     },
     "e4631b04db5348b19aca20610f9bb794": {
      "model_module": "@jupyter-widgets/controls",
      "model_module_version": "2.0.0",
      "model_name": "ToggleButtonModel",
      "state": {
       "button_style": "primary",
       "icon": "eraser",
       "layout": "IPY_MODEL_13f853f1985a499a82e2e1e395f14f6a",
       "style": "IPY_MODEL_0dbf68dc979e4c3494ce2715b2524d2c",
       "tooltip": "Remove all drawn features"
      }
     },
     "e498ba21ec604ee5ba66f4eb33b8744f": {
      "model_module": "ipytree",
      "model_module_version": "^0.2",
      "model_name": "NodeModel",
      "state": {
       "_id": "bcafafcd-5fd6-486c-822a-bdda682b14a8",
       "_model_module_version": "^0.2",
       "_view_module_version": "^0.2",
       "icon": "file",
       "name": "set_image_properties.py"
      }
     },
     "e4ec5d33346f481ba968113204ff3c1d": {
      "model_module": "ipytree",
      "model_module_version": "^0.2",
      "model_name": "NodeModel",
      "state": {
       "_id": "d01b274c-c55d-49ee-9176-cb1dd833fd42",
       "_model_module_version": "^0.2",
       "_view_module_version": "^0.2",
       "icon": "file",
       "name": "image_rgb_composite.py"
      }
     },
     "e5772e0fb8a64700bc47bc9b609999e4": {
      "model_module": "@jupyter-widgets/controls",
      "model_module_version": "2.0.0",
      "model_name": "HBoxModel",
      "state": {
       "children": [
        "IPY_MODEL_d98f1775cce844e9a76366353a6e0146",
        "IPY_MODEL_7e651a5534e54860b7ea4c9544b9fb80"
       ],
       "layout": "IPY_MODEL_4ccaf6f1673c479495eb42f7f176af78"
      }
     },
     "e5b2bcf111964207884c077b5f433546": {
      "model_module": "ipytree",
      "model_module_version": "^0.2",
      "model_name": "NodeModel",
      "state": {
       "_id": "536be743-f3af-4d11-a8de-01b48e7c5ec6",
       "_model_module_version": "^0.2",
       "_view_module_version": "^0.2",
       "icon": "file",
       "name": "landsat_wrs2_grid.py"
      }
     },
     "e5d86ecc4729482e831d11fa711763bb": {
      "model_module": "@jupyter-widgets/controls",
      "model_module_version": "2.0.0",
      "model_name": "ToggleButtonModel",
      "state": {
       "button_style": "primary",
       "icon": "plus",
       "layout": "IPY_MODEL_e629bb857c5b43d39d5423463db3d241",
       "style": "IPY_MODEL_5d1af05a6f15472fb6bf949bd60df23d",
       "tooltip": "Expand toolbar"
      }
     },
     "e61eb6bb72e64330b3234cbf4c834571": {
      "model_module": "jupyter-leaflet",
      "model_module_version": "^0.18",
      "model_name": "LeafletFullScreenControlModel",
      "state": {
       "_model_module_version": "^0.18",
       "_view_module_version": "^0.18",
       "options": [
        "position"
       ]
      }
     },
     "e629bb857c5b43d39d5423463db3d241": {
      "model_module": "@jupyter-widgets/base",
      "model_module_version": "2.0.0",
      "model_name": "LayoutModel",
      "state": {
       "height": "auto",
       "padding": "0px 0px 0px 4px",
       "width": "auto"
      }
     },
     "e6d83ea0521843468091aa888168c585": {
      "model_module": "ipytree",
      "model_module_version": "^0.2",
      "model_name": "NodeModel",
      "state": {
       "_id": "4fd6d4ab-412c-4510-ad9f-46fd1dd51a3c",
       "_model_module_version": "^0.2",
       "_view_module_version": "^0.2",
       "name": "Owner",
       "opened": false
      }
     },
     "e70e66e8f2db4252962e680e5e236c5a": {
      "model_module": "@jupyter-widgets/controls",
      "model_module_version": "2.0.0",
      "model_name": "ToggleButtonStyleModel",
      "state": {
       "description_width": "",
       "font_family": null,
       "font_size": null,
       "font_style": null,
       "font_variant": null,
       "font_weight": null,
       "text_color": null,
       "text_decoration": null
      }
     },
     "e764e17e9c1f45a18342cae07a605b8a": {
      "model_module": "ipytree",
      "model_module_version": "^0.2",
      "model_name": "NodeModel",
      "state": {
       "_id": "12c2947b-44b5-4fd8-a7db-80213a7f8fe9",
       "_model_module_version": "^0.2",
       "_view_module_version": "^0.2",
       "icon": "file",
       "name": "07_image_statistics.py"
      }
     },
     "e7930c12b04346b5bb087deee63fab7b": {
      "model_module": "@jupyter-widgets/controls",
      "model_module_version": "2.0.0",
      "model_name": "ButtonModel",
      "state": {
       "button_style": "primary",
       "description": "import",
       "disabled": true,
       "layout": "IPY_MODEL_d8911e01cbf94f438a452ace370b6191",
       "style": "IPY_MODEL_67193b14e24f490cb4db3f3fa9e7e6c4",
       "tooltip": "Click to import the selected asset"
      }
     },
     "e7e933aef9c1450f97e1fe6415328cb9": {
      "model_module": "@jupyter-widgets/base",
      "model_module_version": "2.0.0",
      "model_name": "LayoutModel",
      "state": {
       "height": "28px",
       "padding": "0px 0px 0px 4px",
       "width": "28px"
      }
     },
     "e96d6e96aa354b05a6a3e7bf8fcc6567": {
      "model_module": "ipytree",
      "model_module_version": "^0.2",
      "model_name": "NodeModel",
      "state": {
       "_id": "9a3eb80d-e6a8-4ea3-80f1-4e8cda65b663",
       "_model_module_version": "^0.2",
       "_view_module_version": "^0.2",
       "icon": "file",
       "name": "center_pivot_irrigation_detector.py"
      }
     },
     "e98aa2ec7eaa43d082d72bfeca8dc6ac": {
      "model_module": "ipytree",
      "model_module_version": "^0.2",
      "model_name": "NodeModel",
      "state": {
       "_id": "d7bd3824-b2cd-4378-aa8f-aa90b395fe8a",
       "_model_module_version": "^0.2",
       "_view_module_version": "^0.2",
       "icon": "file",
       "name": "select_by_attributes.py"
      }
     },
     "e997894e5cbb4c8896653240c0822b2b": {
      "model_module": "ipytree",
      "model_module_version": "^0.2",
      "model_name": "NodeModel",
      "state": {
       "_id": "17f1d1a3-e016-4349-8391-6e96e640faed",
       "_model_module_version": "^0.2",
       "_view_module_version": "^0.2",
       "icon": "file",
       "name": "export_TimeSeries.py"
      }
     },
     "e9e9677fea70494fac0acd20baafbe4e": {
      "model_module": "ipytree",
      "model_module_version": "^0.2",
      "model_name": "NodeModel",
      "state": {
       "_id": "37504502-a1af-4d60-a013-20a7b43a7e66",
       "_model_module_version": "^0.2",
       "_view_module_version": "^0.2",
       "icon": "file",
       "name": "landsat_simple_composite.py"
      }
     },
     "ea2113114d5f453fae28a28b0e7468a2": {
      "model_module": "@jupyter-widgets/controls",
      "model_module_version": "2.0.0",
      "model_name": "ToggleButtonModel",
      "state": {
       "button_style": "primary",
       "icon": "folder-open",
       "layout": "IPY_MODEL_ca2bd8bddf6446cabbd6dd68be1c730c",
       "style": "IPY_MODEL_14a877a1c4114edcb8498fe92115cb5b",
       "tooltip": "Open local vector/raster data"
      }
     },
     "ea41500a5e00432da0deed9e4856e235": {
      "model_module": "ipytree",
      "model_module_version": "^0.2",
      "model_name": "NodeModel",
      "state": {
       "_id": "d41df60d-b720-4af2-93d3-4a1ad15ebfcd",
       "_model_module_version": "^0.2",
       "_view_module_version": "^0.2",
       "icon": "file",
       "name": "filtering_by_band_names.py"
      }
     },
     "ea4dba46430243bcb3579f9c22e3f7f2": {
      "model_module": "ipytree",
      "model_module_version": "^0.2",
      "model_name": "NodeModel",
      "state": {
       "_id": "e32cdd8e-6874-4f37-950e-fa261607f1b4",
       "_model_module_version": "^0.2",
       "_view_module_version": "^0.2",
       "icon": "file",
       "name": "landsat_path_row_limit.py"
      }
     },
     "ea6f310772e8423fb76cd6f0018d3ac1": {
      "model_module": "ipytree",
      "model_module_version": "^0.2",
      "model_name": "NodeModel",
      "state": {
       "_id": "67675fd3-db2b-44ac-bdd7-c3921a43e7c2",
       "_model_module_version": "^0.2",
       "_view_module_version": "^0.2",
       "icon": "file",
       "name": "clustering.py"
      }
     },
     "ea844892f6f246c4b6d51401098fee5d": {
      "model_module": "@jupyter-widgets/controls",
      "model_module_version": "2.0.0",
      "model_name": "ToggleButtonStyleModel",
      "state": {
       "description_width": "",
       "font_family": null,
       "font_size": null,
       "font_style": null,
       "font_variant": null,
       "font_weight": null,
       "text_color": null,
       "text_decoration": null
      }
     },
     "eafcb37d9dc94941ae711953ae12273e": {
      "model_module": "ipytree",
      "model_module_version": "^0.2",
      "model_name": "NodeModel",
      "state": {
       "_id": "42266fee-da58-4741-94dd-c203894ab055",
       "_model_module_version": "^0.2",
       "_view_module_version": "^0.2",
       "icon": "file",
       "name": "save_all_joins.py"
      }
     },
     "eb29ec3c43a94176badeb1293a75907a": {
      "model_module": "ipytree",
      "model_module_version": "^0.2",
      "model_name": "NodeModel",
      "state": {
       "_id": "7d144f4f-65ec-4043-8e52-d43d7899a51b",
       "_model_module_version": "^0.2",
       "_view_module_version": "^0.2",
       "icon": "file",
       "name": "ClippedComposite.py"
      }
     },
     "eb2a338ccebe4ba39135afe539603742": {
      "model_module": "ipytree",
      "model_module_version": "^0.2",
      "model_name": "NodeModel",
      "state": {
       "_id": "1dabb661-aac8-4cbc-8415-029173858bff",
       "_model_module_version": "^0.2",
       "_view_module_version": "^0.2",
       "icon": "file",
       "name": "global_land_ice_measurements.py"
      }
     },
     "eb37f14b89474a819fbc8bc8a3ba2bc0": {
      "model_module": "@jupyter-widgets/base",
      "model_module_version": "2.0.0",
      "model_name": "LayoutModel",
      "state": {}
     },
     "ebe86977fc7d41a892a0784d1b36b58a": {
      "model_module": "ipytree",
      "model_module_version": "^0.2",
      "model_name": "NodeModel",
      "state": {
       "_id": "76e9310a-228a-4acd-aed3-c0cd260b4060",
       "_model_module_version": "^0.2",
       "_view_module_version": "^0.2",
       "name": "FeatureCollection",
       "nodes": [
        "IPY_MODEL_a955e075200c4f74b3c0c0799818e30c",
        "IPY_MODEL_3327a515761d4a43bb12929c0fd97205",
        "IPY_MODEL_897ab1c99fa74c66a4ccf6a99aecfc5e",
        "IPY_MODEL_abf91cd30e364607bb9701c6f240144a",
        "IPY_MODEL_75982844c3e44b5fbbb9f21478158b03",
        "IPY_MODEL_66af5bbc5d2c42969768da6e795023a7",
        "IPY_MODEL_b8006e480a88401c8d7f2c3a18662881",
        "IPY_MODEL_cd35fba5ff8844bfad16b9d42bf9b41b",
        "IPY_MODEL_56d858ecc1b74cc6bc8d9f5e82a6b65f",
        "IPY_MODEL_1c39929430874520b80089e67d362652",
        "IPY_MODEL_fe4e526e36694fff8391242ca7b8ad73",
        "IPY_MODEL_d9877da3b8d744458ed07c1a498b326f",
        "IPY_MODEL_f887e15651c44f6eabdaf33ad2d9cc82",
        "IPY_MODEL_c57f8d6a190c4f29bf7bfe6eb0db7fcb",
        "IPY_MODEL_190cf8e9afa441e48d5f0c615c0de39d",
        "IPY_MODEL_7857f25863074f9ba5cbf56be391a5fd",
        "IPY_MODEL_0f4071314d334ae2bbab2bcb13194984",
        "IPY_MODEL_70b59b26b71347e9b1884928548b4a85",
        "IPY_MODEL_507c77e66b4f4146b8502144e3d516ef",
        "IPY_MODEL_9164c30297ce4ecf8c9d8045db430b5e",
        "IPY_MODEL_3dda974d5230465ea6887721a8cd9475",
        "IPY_MODEL_0b9dda76986345ab83bf6dd1f97bb016",
        "IPY_MODEL_d61b6afa736941e28ac9b7b92d580d38",
        "IPY_MODEL_02f3ec30e89b48feb4e1e4cc8a7f6f64",
        "IPY_MODEL_67626d4ac3c94642b55cd553e7cd2e70",
        "IPY_MODEL_6def978d824443f48341be15c2168a0e",
        "IPY_MODEL_f5f3384774c54e6abcbc1b3634935882",
        "IPY_MODEL_70a0b02f232445f3b04518e9a0553517",
        "IPY_MODEL_2e295f25e78a40ec87aa474cdb298451",
        "IPY_MODEL_272cd7784c554171a82e1889afaaee6a",
        "IPY_MODEL_d995a664bd9f4aefb90a0076d79c2d3c",
        "IPY_MODEL_2b8fd2cfe7e24480bdef241af485cabc",
        "IPY_MODEL_e98aa2ec7eaa43d082d72bfeca8dc6ac",
        "IPY_MODEL_5982353d2c514c539337973dc428121d",
        "IPY_MODEL_54db4b4f935b47218d00451b515ee1de",
        "IPY_MODEL_2f32237dc52f4d8f8f086046c5af8522",
        "IPY_MODEL_fea9c8d54020466688aff7d2a027187b",
        "IPY_MODEL_4e0075e5472d4566b052ed7db38f4ee7",
        "IPY_MODEL_449ca5e4c156466087218b2699d71a97"
       ],
       "opened": false
      }
     },
     "ec65e517a4d54b2fbca72da167561a3b": {
      "model_module": "ipytree",
      "model_module_version": "^0.2",
      "model_name": "NodeModel",
      "state": {
       "_id": "ad9509f4-04c3-4300-91a9-6fc5517d3849",
       "_model_module_version": "^0.2",
       "_view_module_version": "^0.2",
       "icon": "file",
       "name": "utils-hillshadeRgb.py"
      }
     },
     "ecbae7b6328c4e279dcc7a481ff0c2d8": {
      "model_module": "ipytree",
      "model_module_version": "^0.2",
      "model_name": "NodeModel",
      "state": {
       "_id": "4f7bb60e-c6b8-4ebb-b438-9fd0e47c4767",
       "_model_module_version": "^0.2",
       "_view_module_version": "^0.2",
       "icon": "file",
       "name": "us_census_blocks.py"
      }
     },
     "ed2b201667f04104bd83890c37ca6c7f": {
      "model_module": "ipytree",
      "model_module_version": "^0.2",
      "model_name": "NodeModel",
      "state": {
       "_id": "bac0070c-8eaf-4608-a445-556bd0c170c3",
       "_model_module_version": "^0.2",
       "_view_module_version": "^0.2",
       "icon": "file",
       "name": "image_metadata.py"
      }
     },
     "ed8f1e13555f47b09f0eee6b4dae4902": {
      "model_module": "ipytree",
      "model_module_version": "^0.2",
      "model_name": "NodeModel",
      "state": {
       "_id": "081a364f-8490-4155-8396-d073b36d53c6",
       "_model_module_version": "^0.2",
       "_view_module_version": "^0.2",
       "icon": "file",
       "name": "select_by_strings.py"
      }
     },
     "ee0624123817448ab71da43524c8724b": {
      "model_module": "ipytree",
      "model_module_version": "^0.2",
      "model_name": "NodeModel",
      "state": {
       "_id": "a38da3b9-1cad-4542-98d5-4d05b67b64b1",
       "_model_module_version": "^0.2",
       "_view_module_version": "^0.2",
       "icon": "file",
       "name": "08_masking.py"
      }
     },
     "ee1632abc920487b80842208b210457d": {
      "model_module": "ipytree",
      "model_module_version": "^0.2",
      "model_name": "NodeModel",
      "state": {
       "_id": "cadf7c17-325a-4d35-80f0-6b69dc9dfa3e",
       "_model_module_version": "^0.2",
       "_view_module_version": "^0.2",
       "icon": "file",
       "name": "reduce_region.py"
      }
     },
     "ee28f11bd5ac40a493617c149b9bc2f8": {
      "model_module": "@jupyter-widgets/base",
      "model_module_version": "2.0.0",
      "model_name": "LayoutModel",
      "state": {}
     },
     "ee7bc430e0fd459fbe2eff04c2ff73f5": {
      "model_module": "ipytree",
      "model_module_version": "^0.2",
      "model_name": "NodeModel",
      "state": {
       "_id": "6dccad20-5d13-4129-b37b-d1604c6c6966",
       "_model_module_version": "^0.2",
       "_view_module_version": "^0.2",
       "name": "MachineLearning",
       "nodes": [
        "IPY_MODEL_19e0fc3616f04cfb9f51343bf73467af",
        "IPY_MODEL_ea6f310772e8423fb76cd6f0018d3ac1",
        "IPY_MODEL_ae19108714984416b5057adb168b1086",
        "IPY_MODEL_d7271eaf907f411098185b1eb7396651"
       ],
       "opened": false
      }
     },
     "eef45b6d0fcf41fbb96315ac0bc74b3f": {
      "model_module": "ipytree",
      "model_module_version": "^0.2",
      "model_name": "NodeModel",
      "state": {
       "_id": "460e1ecd-fa7c-4b3e-83ea-d3ff585822dd",
       "_model_module_version": "^0.2",
       "_view_module_version": "^0.2",
       "icon": "file",
       "name": "filtering_collection.py"
      }
     },
     "ef06a49a2ee64863b6c1c0bf31ae2465": {
      "model_module": "@jupyter-widgets/base",
      "model_module_version": "2.0.0",
      "model_name": "LayoutModel",
      "state": {}
     },
     "ef0c9cac459d437981a51f2bce95e4a5": {
      "model_module": "ipytree",
      "model_module_version": "^0.2",
      "model_name": "NodeModel",
      "state": {
       "_id": "1fc9984c-e5e1-4769-84fa-4335cb7b78ff",
       "_model_module_version": "^0.2",
       "_view_module_version": "^0.2",
       "icon": "file",
       "name": "landsat_filtering.py"
      }
     },
     "ef3c0e39cdba4338836bea72a74fbbe7": {
      "model_module": "ipytree",
      "model_module_version": "^0.2",
      "model_name": "NodeModel",
      "state": {
       "_id": "e3bec395-6904-48a8-b9d4-f2c3826d8b09",
       "_model_module_version": "^0.2",
       "_view_module_version": "^0.2",
       "icon": "file",
       "name": "clipping.py"
      }
     },
     "ef8e88f3070e4b29a3aead028b387f74": {
      "model_module": "ipytree",
      "model_module_version": "^0.2",
      "model_name": "NodeModel",
      "state": {
       "_id": "36030669-db51-4817-a32a-51e011ea81fd",
       "_model_module_version": "^0.2",
       "_view_module_version": "^0.2",
       "icon": "file",
       "name": "landsat_wrs2_grid.py"
      }
     },
     "ef9a86ea8a234d59a1f677755ea0b832": {
      "model_module": "ipytree",
      "model_module_version": "^0.2",
      "model_name": "NodeModel",
      "state": {
       "_id": "130bb394-3a53-43a4-be88-a50245abb023",
       "_model_module_version": "^0.2",
       "_view_module_version": "^0.2",
       "icon": "file",
       "name": "image_color_palettes.py"
      }
     },
     "efa6d794c4194a3f9f3f58aae85cee4b": {
      "model_module": "ipytree",
      "model_module_version": "^0.2",
      "model_name": "NodeModel",
      "state": {
       "_id": "98477ac6-aac0-405b-b04f-fc364940c9eb",
       "_model_module_version": "^0.2",
       "_view_module_version": "^0.2",
       "icon": "file",
       "name": "ntl_linear_fit.py"
      }
     },
     "efcb58a2711046c7a716702bd1d67ba6": {
      "model_module": "ipytree",
      "model_module_version": "^0.2",
      "model_name": "NodeModel",
      "state": {
       "_id": "9ecb5ea9-fc4b-451c-87d2-005061ee7c93",
       "_model_module_version": "^0.2",
       "_view_module_version": "^0.2",
       "icon": "file",
       "name": "image_displacement.py"
      }
     },
     "eff5af4c87784e789606d93ecd3e4dd2": {
      "model_module": "ipytree",
      "model_module_version": "^0.2",
      "model_name": "NodeModel",
      "state": {
       "_id": "a8494859-9ac4-414a-b3cf-8384d49b0349",
       "_model_module_version": "^0.2",
       "_view_module_version": "^0.2",
       "icon": "file",
       "name": "image_reductions.py"
      }
     },
     "f010ba3a14e243f482ba6138762fc9c9": {
      "model_module": "@jupyter-widgets/base",
      "model_module_version": "2.0.0",
      "model_name": "LayoutModel",
      "state": {
       "height": "auto",
       "padding": "0px 0px 0px 4px",
       "width": "auto"
      }
     },
     "f022a066607149f0879b4cc31ec610ee": {
      "model_module": "ipytree",
      "model_module_version": "^0.2",
      "model_name": "NodeModel",
      "state": {
       "_id": "46a8a909-83bd-45fe-955f-4a22bb6f771b",
       "_model_module_version": "^0.2",
       "_view_module_version": "^0.2",
       "name": "HowEarthEngineWorks",
       "nodes": [
        "IPY_MODEL_8a406eafe6344b8988faa658ea74018e",
        "IPY_MODEL_96379a79331340f4b77f4773da03dc53",
        "IPY_MODEL_9398f1d5b36c41429e65acc936ce1933"
       ],
       "opened": false
      }
     },
     "f0bae66ba19e4dbc8566bb470570e3f1": {
      "model_module": "ipytree",
      "model_module_version": "^0.2",
      "model_name": "NodeModel",
      "state": {
       "_id": "9e592376-2254-4eb4-ac67-04b751e1e7c6",
       "_model_module_version": "^0.2",
       "_view_module_version": "^0.2",
       "icon": "file",
       "name": "landsat8_toa_reflectance_qa_band.py"
      }
     },
     "f0c2b941dbc44e58a7ad396405e330a8": {
      "model_module": "@jupyter-widgets/base",
      "model_module_version": "2.0.0",
      "model_name": "LayoutModel",
      "state": {
       "height": "auto",
       "padding": "0px 0px 0px 4px",
       "width": "auto"
      }
     },
     "f0efddd8b654447e806bbd7f7f26d6fe": {
      "model_module": "ipytree",
      "model_module_version": "^0.2",
      "model_name": "NodeModel",
      "state": {
       "_id": "374cc86f-59b6-43fb-ba77-e48dd6a0dd9e",
       "_model_module_version": "^0.2",
       "_view_module_version": "^0.2",
       "icon": "file",
       "name": "image_overview.py"
      }
     },
     "f11adff4bf7040f4a3107c8b16659879": {
      "model_module": "@jupyter-widgets/controls",
      "model_module_version": "2.0.0",
      "model_name": "HBoxModel",
      "state": {
       "children": [
        "IPY_MODEL_e7930c12b04346b5bb087deee63fab7b",
        "IPY_MODEL_b77b895efd8f4f5991b9f0d85286529f"
       ],
       "layout": "IPY_MODEL_baae2917852b4e709719ef8e83ba90ec"
      }
     },
     "f13ae92f047e4573b5ceb62ed203ba57": {
      "model_module": "ipytree",
      "model_module_version": "^0.2",
      "model_name": "NodeModel",
      "state": {
       "_id": "36efb5a6-83f2-4464-8fc3-f32d68650a1d",
       "_model_module_version": "^0.2",
       "_view_module_version": "^0.2",
       "icon": "file",
       "name": "overview.py"
      }
     },
     "f152957e72684d4f9ace98907c9efad6": {
      "model_module": "jupyter-leaflet",
      "model_module_version": "^0.18",
      "model_name": "LeafletDrawControlModel",
      "state": {
       "_model_module_version": "^0.18",
       "_view_module_version": "^0.18",
       "marker": {
        "shapeOptions": {
         "color": "#3388ff"
        }
       },
       "options": [
        "position"
       ],
       "polygon": {
        "shapeOptions": {
         "clickable": true,
         "color": "#3388ff",
         "fill": true,
         "fillColor": null,
         "fillOpacity": 0.2,
         "opacity": 0.5,
         "stroke": true,
         "weight": 4
        }
       },
       "polyline": {
        "shapeOptions": {
         "clickable": true,
         "color": "#3388ff",
         "fill": false,
         "opacity": 0.5,
         "stroke": true,
         "weight": 4
        }
       },
       "rectangle": {
        "shapeOptions": {
         "clickable": true,
         "color": "#3388ff",
         "fill": true,
         "fillColor": null,
         "fillOpacity": 0.2,
         "opacity": 0.5,
         "stroke": true,
         "weight": 4
        }
       }
      }
     },
     "f1793052910149f792c1692621cc5552": {
      "model_module": "@jupyter-widgets/base",
      "model_module_version": "2.0.0",
      "model_name": "LayoutModel",
      "state": {
       "height": "600px"
      }
     },
     "f20bf0e59ad340d8a8516f4b7d3f37bd": {
      "model_module": "ipytree",
      "model_module_version": "^0.2",
      "model_name": "NodeModel",
      "state": {
       "_id": "4d597d37-a7f7-4ebe-90f1-0fae2de4d0d8",
       "_model_module_version": "^0.2",
       "_view_module_version": "^0.2",
       "icon": "file",
       "name": "center_pivot_irrigation_detector.py"
      }
     },
     "f2931e987f7549b085cdaf5ccdddaf03": {
      "model_module": "ipytree",
      "model_module_version": "^0.2",
      "model_name": "NodeModel",
      "state": {
       "_id": "a5b3efc6-541a-498d-b272-8052c3045eb6",
       "_model_module_version": "^0.2",
       "_view_module_version": "^0.2",
       "icon": "file",
       "name": "where_operators.py"
      }
     },
     "f2afeaf0561a4179bd3b0076b62cd707": {
      "model_module": "@jupyter-widgets/base",
      "model_module_version": "2.0.0",
      "model_name": "LayoutModel",
      "state": {
       "max_width": "310px"
      }
     },
     "f2bf0154e87d4a31acdfac4bfec229c9": {
      "model_module": "ipytree",
      "model_module_version": "^0.2",
      "model_name": "NodeModel",
      "state": {
       "_id": "e8308f74-048a-43ca-ae27-3f7318977c0c",
       "_model_module_version": "^0.2",
       "_view_module_version": "^0.2",
       "name": "Reader",
       "opened": false
      }
     },
     "f2cdcaf6666441b083daba721aa27606": {
      "model_module": "ipytree",
      "model_module_version": "^0.2",
      "model_name": "NodeModel",
      "state": {
       "_id": "3b359fa5-079a-4d04-9b51-c539c64cb575",
       "_model_module_version": "^0.2",
       "_view_module_version": "^0.2",
       "icon": "file",
       "name": "extract_value_to_points.py"
      }
     },
     "f2d0414ef0a94465b8c8603e7dc2ee7f": {
      "model_module": "ipytree",
      "model_module_version": "^0.2",
      "model_name": "NodeModel",
      "state": {
       "_id": "7bd9ea76-8d88-4730-9813-4b4b8f04e90b",
       "_model_module_version": "^0.2",
       "_view_module_version": "^0.2",
       "icon": "file",
       "name": "filter_poly.py"
      }
     },
     "f3aee46384704259b21d648d99186dd2": {
      "model_module": "@jupyter-widgets/base",
      "model_module_version": "2.0.0",
      "model_name": "LayoutModel",
      "state": {
       "height": "28px",
       "padding": "0px 0px 0px 4px",
       "width": "28px"
      }
     },
     "f3d21e37c4674317b525075c67c7cd2e": {
      "model_module": "ipytree",
      "model_module_version": "^0.2",
      "model_name": "NodeModel",
      "state": {
       "_id": "259fd855-5af5-4be1-b709-dffa85690aa1",
       "_model_module_version": "^0.2",
       "_view_module_version": "^0.2",
       "icon": "file",
       "name": "clipped_composite.py",
       "selected": true
      }
     },
     "f3e3f2acbbb744c6bca42781dcdf0738": {
      "model_module": "@jupyter-widgets/base",
      "model_module_version": "2.0.0",
      "model_name": "LayoutModel",
      "state": {}
     },
     "f3fba1a57bbb4f99b7993e9a8ea796a2": {
      "model_module": "ipytree",
      "model_module_version": "^0.2",
      "model_name": "NodeModel",
      "state": {
       "_id": "bed3a360-1d74-4dc2-905e-f84ee580d19a",
       "_model_module_version": "^0.2",
       "_view_module_version": "^0.2",
       "icon": "file",
       "name": "image_patch_area.py"
      }
     },
     "f44c89612dea4f2eb1487c8999ab25f0": {
      "model_module": "ipytree",
      "model_module_version": "^0.2",
      "model_name": "NodeModel",
      "state": {
       "_id": "70514e01-a3e0-4183-8d4d-4bac5b51c32e",
       "_model_module_version": "^0.2",
       "_view_module_version": "^0.2",
       "icon": "file",
       "name": "map_add_features.py"
      }
     },
     "f490c81b91a84a0d80d38e0adecf4d37": {
      "model_module": "ipytree",
      "model_module_version": "^0.2",
      "model_name": "NodeModel",
      "state": {
       "_id": "7a9a199b-6777-4398-a6c2-9c9179b4053a",
       "_model_module_version": "^0.2",
       "_view_module_version": "^0.2",
       "icon": "file",
       "name": "landsat_radiance.py"
      }
     },
     "f4a75ab831b544d88e2470fddeab908e": {
      "model_module": "@jupyter-widgets/controls",
      "model_module_version": "2.0.0",
      "model_name": "ToggleButtonStyleModel",
      "state": {
       "description_width": "",
       "font_family": null,
       "font_size": null,
       "font_style": null,
       "font_variant": null,
       "font_weight": null,
       "text_color": null,
       "text_decoration": null
      }
     },
     "f4e6ac49eb5b43bb9ff964d3eda8e77d": {
      "model_module": "ipytree",
      "model_module_version": "^0.2",
      "model_name": "NodeModel",
      "state": {
       "_id": "9ae672b6-2b1f-46c7-8b2b-4367fa689589",
       "_model_module_version": "^0.2",
       "_view_module_version": "^0.2",
       "icon": "file",
       "name": "pansharpen.py"
      }
     },
     "f5153cc6c4494802a88cf9067c6a741a": {
      "model_module": "@jupyter-widgets/controls",
      "model_module_version": "2.0.0",
      "model_name": "TextStyleModel",
      "state": {
       "description_width": "",
       "font_size": null,
       "text_color": null
      }
     },
     "f5239c8b55f544a3bc058257d5ffb628": {
      "model_module": "ipytree",
      "model_module_version": "^0.2",
      "model_name": "NodeModel",
      "state": {
       "_id": "ce4b28ad-c2a8-45f0-bc2e-f09a3c2c7b16",
       "_model_module_version": "^0.2",
       "_view_module_version": "^0.2",
       "icon": "file",
       "name": "metadata_aggregation.py"
      }
     },
     "f54fddd7c7514b63ba5c0cfb6482cd5a": {
      "model_module": "@jupyter-widgets/controls",
      "model_module_version": "2.0.0",
      "model_name": "TextStyleModel",
      "state": {
       "description_width": "",
       "font_size": null,
       "text_color": null
      }
     },
     "f5876845071d4d8b90c40d81929ee3d1": {
      "model_module": "@jupyter-widgets/controls",
      "model_module_version": "2.0.0",
      "model_name": "ToggleButtonModel",
      "state": {
       "button_style": "primary",
       "icon": "line-chart",
       "layout": "IPY_MODEL_17cf3ce8600447f1883a8ea1d05a11e5",
       "style": "IPY_MODEL_3dbd9f11e9ca45019bbc5a636f420b0a",
       "tooltip": "Creating and plotting transects"
      }
     },
     "f5c3e283a4cd4322af75dc52d60bfec6": {
      "model_module": "ipytree",
      "model_module_version": "^0.2",
      "model_name": "NodeModel",
      "state": {
       "_id": "c9267b1b-7976-4535-8c6b-15eb15fdc7a0",
       "_model_module_version": "^0.2",
       "_view_module_version": "^0.2",
       "icon": "file",
       "name": "array_sorting.py"
      }
     },
     "f5f3384774c54e6abcbc1b3634935882": {
      "model_module": "ipytree",
      "model_module_version": "^0.2",
      "model_name": "NodeModel",
      "state": {
       "_id": "0f364e92-ccc4-425c-af69-6ab2e8fd22da",
       "_model_module_version": "^0.2",
       "_view_module_version": "^0.2",
       "icon": "file",
       "name": "minimum_bounding_geometry.py"
      }
     },
     "f71d1629253a4425a555be8a8cf3c206": {
      "model_module": "@jupyter-widgets/controls",
      "model_module_version": "2.0.0",
      "model_name": "TextStyleModel",
      "state": {
       "description_width": "",
       "font_size": null,
       "text_color": null
      }
     },
     "f72d04cfe75540758bdf9f944b91cbe0": {
      "model_module": "ipytree",
      "model_module_version": "^0.2",
      "model_name": "NodeModel",
      "state": {
       "_id": "ec044287-cc22-4c8a-96db-3d05114e1857",
       "_model_module_version": "^0.2",
       "_view_module_version": "^0.2",
       "icon": "file",
       "name": "edge_detection.py"
      }
     },
     "f75ead8e361e4f4f986cde4af6c204c0": {
      "model_module": "ipytree",
      "model_module_version": "^0.2",
      "model_name": "NodeModel",
      "state": {
       "_id": "1281be8b-9808-436f-b3f7-0553935fbd32",
       "_model_module_version": "^0.2",
       "_view_module_version": "^0.2",
       "name": "Terrain",
       "nodes": [
        "IPY_MODEL_6a5d621d857047a78fa4cc19b84eb49f",
        "IPY_MODEL_4810b1b31ce2495a9633d644342c3d86",
        "IPY_MODEL_3684bfa11070413a8cd094e9cc0b3844",
        "IPY_MODEL_97005da41b68407db36220bc9864102a",
        "IPY_MODEL_8341c672c32e43979e52e8cf7f7511fe",
        "IPY_MODEL_035a3787f5aa4f32868ddb6c332e0372",
        "IPY_MODEL_a8cc9f6a5c1d48a590fe8264343d71fe",
        "IPY_MODEL_49ab5a6cfc9849239628169d977b9b61",
        "IPY_MODEL_52b8cf9903c647ad85f074de979e51fd",
        "IPY_MODEL_dd497d8fbe62447fae209f5727eaa910",
        "IPY_MODEL_e12015eed26a40158897a1360d22232b",
        "IPY_MODEL_b3aebc7b8bad4c2fb1ba756ce2b7f06b",
        "IPY_MODEL_75ccde6921594a35a5c87ce866b9e414",
        "IPY_MODEL_11d694188f544f1db4d7750247be53b9",
        "IPY_MODEL_8a0d73fe1bab47deb74b25dadb6c824b",
        "IPY_MODEL_7c5d9cc2475f41d69330f9a00ddf9240",
        "IPY_MODEL_d61db3a2ee5d4406a28a4fd62825892e",
        "IPY_MODEL_e1ee059c57214336bfb2c36fd54b5e69",
        "IPY_MODEL_78d3ce4de6a545ca8884bcdd42d73644",
        "IPY_MODEL_e3b82255dbc74e6585ec17f76f8c4056"
       ],
       "opened": false
      }
     },
     "f7afd07dc137449fb29c486bd13b5b57": {
      "model_module": "@jupyter-widgets/controls",
      "model_module_version": "2.0.0",
      "model_name": "HTMLModel",
      "state": {
       "layout": "IPY_MODEL_db8d38481da841abb5681905fe43e3f4",
       "style": "IPY_MODEL_4a13b6285f3146ad8b8a226bd885799f"
      }
     },
     "f7b4ddf6e1c840e6aabd87ac363219a8": {
      "model_module": "@jupyter-widgets/base",
      "model_module_version": "2.0.0",
      "model_name": "LayoutModel",
      "state": {}
     },
     "f7f15119c4454976a7213a59a1d8324b": {
      "model_module": "ipytree",
      "model_module_version": "^0.2",
      "model_name": "NodeModel",
      "state": {
       "_id": "f1e84676-90be-45b2-9d2d-3dff723e1ae3",
       "_model_module_version": "^0.2",
       "_view_module_version": "^0.2",
       "icon": "file",
       "name": "ntl_linear_fit.py"
      }
     },
     "f824bb4b627d42d6a2786788932d30b8": {
      "model_module": "@jupyter-widgets/controls",
      "model_module_version": "2.0.0",
      "model_name": "TextModel",
      "state": {
       "layout": "IPY_MODEL_a421f2d8868f49d29c9b101156a82627",
       "placeholder": "Enter the link to a Git repository here...",
       "style": "IPY_MODEL_4f987362156742029402cbfc8aa8f2eb"
      }
     },
     "f887e15651c44f6eabdaf33ad2d9cc82": {
      "model_module": "ipytree",
      "model_module_version": "^0.2",
      "model_name": "NodeModel",
      "state": {
       "_id": "a844c645-bcbb-4ec4-8175-4a4a127d2fa3",
       "_model_module_version": "^0.2",
       "_view_module_version": "^0.2",
       "icon": "file",
       "name": "creating_feature.py"
      }
     },
     "f8c1361752c84c15afb3fbb9feeff4b4": {
      "model_module": "ipytree",
      "model_module_version": "^0.2",
      "model_name": "NodeModel",
      "state": {
       "_id": "809cef4f-adc4-4c0f-b230-9854b2a48ba7",
       "_model_module_version": "^0.2",
       "_view_module_version": "^0.2",
       "name": "Terrain",
       "nodes": [
        "IPY_MODEL_aac3cba28511404a84218d8ced2939c2",
        "IPY_MODEL_c9fcb543c54049ed8497df7020ffa6cd",
        "IPY_MODEL_85465ad5f5f54b6892e0b4a7e77f0ca6",
        "IPY_MODEL_9a68304079914388900ab03e42597a5f",
        "IPY_MODEL_6f9c8bbdbe39473591188c2ee0bc1fbe",
        "IPY_MODEL_d106fb7e4e8f4e86b7139f7ba9f7c116",
        "IPY_MODEL_943a48e6a58e4f5b8c914d17d50cbe1a",
        "IPY_MODEL_39596619cf3d499aa96efe1afb30f8d7",
        "IPY_MODEL_d5826c2235784d2c84e44c3ac0e0a812",
        "IPY_MODEL_23984c0fcd5a4976a870ad7c51449b16",
        "IPY_MODEL_7a5b8f8680544ddaad12f8536382dd9d",
        "IPY_MODEL_25846be247f94c0b90061e39b83446df",
        "IPY_MODEL_7db1b79461634d3b8b1fd5d9d06b6744",
        "IPY_MODEL_11a92a65da0942ae9cb3c6c24cc6caa7",
        "IPY_MODEL_16aee99f6374499993ddee0e61e9c6c7",
        "IPY_MODEL_5fca8b8b3d96452f9dd478e30faf22bc",
        "IPY_MODEL_2e22ce2c7ea44c18bcf2132b094241c8",
        "IPY_MODEL_5f9df6cb2cbb4d87a56988845d47382c",
        "IPY_MODEL_6df45b87d1fa49ac95e03d1ed3c43f76",
        "IPY_MODEL_7b50af6acd724fb89944eddc21e3b9ec"
       ],
       "opened": false
      }
     },
     "f8c39041c54f40479bdc50675532a05b": {
      "model_module": "ipytree",
      "model_module_version": "^0.2",
      "model_name": "NodeModel",
      "state": {
       "_id": "a4c05471-a8b4-4d74-b856-7bb712852743",
       "_model_module_version": "^0.2",
       "_view_module_version": "^0.2",
       "icon": "file",
       "name": "filtering_by_metadata.py"
      }
     },
     "f932a7e44250426aa96f9bf989ea92c2": {
      "model_module": "ipytree",
      "model_module_version": "^0.2",
      "model_name": "NodeModel",
      "state": {
       "_id": "5f7ffacc-84ea-4962-b767-86258e7e91fa",
       "_model_module_version": "^0.2",
       "_view_module_version": "^0.2",
       "name": "Writer",
       "opened": false
      }
     },
     "f98978e98dc742ffbde2deb233959355": {
      "model_module": "ipytree",
      "model_module_version": "^0.2",
      "model_name": "NodeModel",
      "state": {
       "_id": "e6fa740a-889a-4aa4-b18e-615b8ce3ac6b",
       "_model_module_version": "^0.2",
       "_view_module_version": "^0.2",
       "name": "AssetManagement",
       "nodes": [
        "IPY_MODEL_4bac5d8d465448a69ad1cd8f749352dc",
        "IPY_MODEL_2e6e9b26b39440f68bfbbed2aea8e4dc",
        "IPY_MODEL_e997894e5cbb4c8896653240c0822b2b",
        "IPY_MODEL_c5982378f55f4b3aa3fe0f777fcae90e",
        "IPY_MODEL_66f0aa5af4d9489dbf9d780492119414",
        "IPY_MODEL_87030086e2a1494db5520f1515b67962",
        "IPY_MODEL_5a645a6e656b464e9da58b91a4236e54",
        "IPY_MODEL_1a12bf92c4564a3e895afda3174a8454",
        "IPY_MODEL_617017909085497abfa01a0b146c0790"
       ],
       "opened": false
      }
     },
     "f9c099567f5f4989ad9b5708cbe59d34": {
      "model_module": "@jupyter-widgets/base",
      "model_module_version": "2.0.0",
      "model_name": "LayoutModel",
      "state": {
       "height": "auto",
       "padding": "0px 0px 0px 4px",
       "width": "auto"
      }
     },
     "f9ef72ff24534ed092a68b10cd927dae": {
      "model_module": "ipytree",
      "model_module_version": "^0.2",
      "model_name": "NodeModel",
      "state": {
       "_id": "6b6c149f-feb8-40ab-94a3-0b35a22b876b",
       "_model_module_version": "^0.2",
       "_view_module_version": "^0.2",
       "icon": "file",
       "name": "metadata.py"
      }
     },
     "fa36fad4bac44cf58ff16b92fa520817": {
      "model_module": "jupyter-leaflet",
      "model_module_version": "^0.18",
      "model_name": "LeafletMeasureControlModel",
      "state": {
       "_model_module_version": "^0.18",
       "_view_module_version": "^0.18",
       "active_color": "orange",
       "options": [
        "active_color",
        "capture_z_index",
        "completed_color",
        "popup_options",
        "position",
        "primary_area_unit",
        "primary_length_unit",
        "secondary_area_unit",
        "secondary_length_unit"
       ],
       "position": "bottomleft",
       "primary_length_unit": "kilometers",
       "secondary_area_unit": null,
       "secondary_length_unit": null
      }
     },
     "fa59bb3741e6431bb383057197caf6a7": {
      "model_module": "jupyter-leaflet",
      "model_module_version": "^0.18",
      "model_name": "LeafletMapModel",
      "state": {
       "_model_module_version": "^0.18",
       "_view_module_version": "^0.18",
       "bottom": 812,
       "controls": [
        "IPY_MODEL_6e8d25e7fd7f465ebde58dfdf7f07fef",
        "IPY_MODEL_562c2158c0004728afa36f3055f13b36",
        "IPY_MODEL_e61eb6bb72e64330b3234cbf4c834571",
        "IPY_MODEL_f152957e72684d4f9ace98907c9efad6",
        "IPY_MODEL_d4545673527f4b33876b3da20afbdbfb",
        "IPY_MODEL_616e19d002694fbb95f1fd3cd7541d67",
        "IPY_MODEL_e3d41191558c4679ba26fc2771ab3ecf",
        "IPY_MODEL_364e9bad74bf45d0b5ca37032c779c0f"
       ],
       "default_style": "IPY_MODEL_2c64df5995e04ecd9038e209345a7d41",
       "dragging_style": "IPY_MODEL_50149ceeaed142bf86de0e604b9dcddf",
       "east": 190.54687500000003,
       "fullscreen": false,
       "interpolation": "bilinear",
       "layers": [
        "IPY_MODEL_03310330597a4db8bc87f8affa1b531c"
       ],
       "layout": "IPY_MODEL_f1793052910149f792c1692621cc5552",
       "left": -30,
       "max_zoom": 24,
       "modisdate": "2024-03-03",
       "north": 71.9653876991313,
       "options": [
        "bounce_at_zoom_limits",
        "box_zoom",
        "center",
        "close_popup_on_click",
        "double_click_zoom",
        "dragging",
        "fullscreen",
        "inertia",
        "inertia_deceleration",
        "inertia_max_speed",
        "interpolation",
        "keyboard",
        "keyboard_pan_offset",
        "keyboard_zoom_offset",
        "max_zoom",
        "min_zoom",
        "prefer_canvas",
        "scroll_wheel_zoom",
        "tap",
        "tap_tolerance",
        "touch_zoom",
        "world_copy_jump",
        "zoom",
        "zoom_animation_threshold",
        "zoom_delta",
        "zoom_snap"
       ],
       "prefer_canvas": false,
       "right": 1054,
       "scroll_wheel_zoom": true,
       "south": -71.96538769913128,
       "style": "IPY_MODEL_2456a34a47324a4a9079c61dd91336c2",
       "top": 212,
       "west": -190.54687500000003,
       "window_url": "http://localhost:8889/lab",
       "zoom": 2
      }
     },
     "fa85b6902dd0403a84d2bb185c829666": {
      "model_module": "ipytree",
      "model_module_version": "^0.2",
      "model_name": "NodeModel",
      "state": {
       "_id": "a93ce394-7529-4f0a-831f-c5b45c0183af",
       "_model_module_version": "^0.2",
       "_view_module_version": "^0.2",
       "icon": "file",
       "name": "join.py"
      }
     },
     "fa8cc1c53a034f6187b82b5fec32237f": {
      "model_module": "ipytree",
      "model_module_version": "^0.2",
      "model_name": "NodeModel",
      "state": {
       "_id": "502818f5-5f44-4080-b49c-4458eb2c418d",
       "_model_module_version": "^0.2",
       "_view_module_version": "^0.2",
       "icon": "file",
       "name": "image_color_ramp.py"
      }
     },
     "fab348a8fb374d4e9f8e1706ac7fd1de": {
      "model_module": "ipytree",
      "model_module_version": "^0.2",
      "model_name": "NodeModel",
      "state": {
       "_id": "3685363b-ef4c-4029-8700-2c5ca75789fc",
       "_model_module_version": "^0.2",
       "_view_module_version": "^0.2",
       "name": "earthengine-py-examples",
       "nodes": [
        "IPY_MODEL_b786aea2c92d4f15ac284f791d41a61a",
        "IPY_MODEL_3bd1ff1e5d1042e59b131fbb2f7b168f",
        "IPY_MODEL_c58fd660f4264834a63fb10188042807",
        "IPY_MODEL_d27d1416882143109e405fccfdd2170c",
        "IPY_MODEL_6785b143a5d04437ab8218978255f679",
        "IPY_MODEL_f98978e98dc742ffbde2deb233959355",
        "IPY_MODEL_e04c6f6acb464f5cae713e5558fbb3af",
        "IPY_MODEL_ebe86977fc7d41a892a0784d1b36b58a",
        "IPY_MODEL_de4a2bd450ee42f1b2f6f13b76e06d44",
        "IPY_MODEL_56f425c9305741978a409329ce95a480",
        "IPY_MODEL_a11162721ce543f389e99a3118cbcb88",
        "IPY_MODEL_f022a066607149f0879b4cc31ec610ee",
        "IPY_MODEL_0c47ab9f85f14934bad1da82f865b511",
        "IPY_MODEL_15652ddc65cb463780ee5f2957a1bb8d",
        "IPY_MODEL_909e61fdc341435b9d3e3399ab70c4ca",
        "IPY_MODEL_fc7d31e1c4624c6abc88863b85c5a7df",
        "IPY_MODEL_2e32c3c7d1e7483abf927ad25013455d",
        "IPY_MODEL_c3eb5cf9c8bd4316a3983d414c4d3d71",
        "IPY_MODEL_2cee89fc4d7a44819e69b29d9314b4f5",
        "IPY_MODEL_e2e98774bbdf401db255cdec6a4ac1db",
        "IPY_MODEL_b075805c6c3743edbb0a3a45cfa2b9b4"
       ],
       "opened": false
      }
     },
     "facb427c56fd4205a924bbccfc3092d4": {
      "model_module": "ipytree",
      "model_module_version": "^0.2",
      "model_name": "NodeModel",
      "state": {
       "_id": "8d85da8b-35cb-419c-8c15-36e27caf1aa4",
       "_model_module_version": "^0.2",
       "_view_module_version": "^0.2",
       "icon": "file",
       "name": "3_water_class_transition.py"
      }
     },
     "fb0f9f57d39547b881fc560ffda216ad": {
      "model_module": "@jupyter-widgets/controls",
      "model_module_version": "2.0.0",
      "model_name": "HBoxModel",
      "state": {
       "children": [
        "IPY_MODEL_b6e9d6ff1f384a438be47e05851a8fee"
       ],
       "layout": "IPY_MODEL_65dc36c9f57e49c4ba9b8652f2721d67"
      }
     },
     "fb4703aa5c01465a9f1538be82083840": {
      "model_module": "ipytree",
      "model_module_version": "^0.2",
      "model_name": "NodeModel",
      "state": {
       "_id": "c66f84dd-eb59-4bd2-86d4-3ebdf75fd2c1",
       "_model_module_version": "^0.2",
       "_view_module_version": "^0.2",
       "icon": "file",
       "name": "select_by_location.py"
      }
     },
     "fb723d2a201746e3832b9d7776bc89fd": {
      "model_module": "@jupyter-widgets/controls",
      "model_module_version": "2.0.0",
      "model_name": "ButtonModel",
      "state": {
       "button_style": "primary",
       "description": "Save",
       "layout": "IPY_MODEL_59a60dbccbb84d5a8ea8cc09d0c3ed0f",
       "style": "IPY_MODEL_e1d00862c7434f9f918034eedc3912a2",
       "tooltip": "Save edits to file."
      }
     },
     "fbda20e69c7c429088198c175fe546f1": {
      "model_module": "@jupyter-widgets/base",
      "model_module_version": "2.0.0",
      "model_name": "LayoutModel",
      "state": {
       "max_width": "650px"
      }
     },
     "fc7d31e1c4624c6abc88863b85c5a7df": {
      "model_module": "ipytree",
      "model_module_version": "^0.2",
      "model_name": "NodeModel",
      "state": {
       "_id": "ce478e15-d1f5-4e4f-b599-dd82ddccd64d",
       "_model_module_version": "^0.2",
       "_view_module_version": "^0.2",
       "name": "Join",
       "nodes": [
        "IPY_MODEL_6809c5f47842454cbc590bc63f61974c",
        "IPY_MODEL_891b62b69c7d461cb2a9812b4f800875",
        "IPY_MODEL_200679c016934f2ebf0380009fc9826d",
        "IPY_MODEL_eafcb37d9dc94941ae711953ae12273e",
        "IPY_MODEL_02605ab02f51453d8321393baa2e2c08",
        "IPY_MODEL_b02b81628d904bb0aa5626d78294faf6",
        "IPY_MODEL_3787513c19274e80b0183b37b4fba1c5"
       ],
       "opened": false
      }
     },
     "fd62995341a748e59013795a7ddfd568": {
      "model_module": "ipytree",
      "model_module_version": "^0.2",
      "model_name": "NodeModel",
      "state": {
       "_id": "bd747220-89a1-4838-9800-f9cc34815818",
       "_model_module_version": "^0.2",
       "_view_module_version": "^0.2",
       "icon": "file",
       "name": "from_name.py"
      }
     },
     "fd9e2e3e7a4545b79d994917c80d59ad": {
      "model_module": "ipytree",
      "model_module_version": "^0.2",
      "model_name": "NodeModel",
      "state": {
       "_id": "6a4193ed-80a6-4a44-9317-25dc93ab18ef",
       "_model_module_version": "^0.2",
       "_view_module_version": "^0.2",
       "icon": "file",
       "name": "landsat8_surface_reflectance-copy.py"
      }
     },
     "fde8795e1bc6479e8050be40871ec3c9": {
      "model_module": "ipytree",
      "model_module_version": "^0.2",
      "model_name": "NodeModel",
      "state": {
       "_id": "921c96e1-9faa-44a1-b3ce-8f5fde03aaee",
       "_model_module_version": "^0.2",
       "_view_module_version": "^0.2",
       "icon": "file",
       "name": "us_census_roads.py"
      }
     },
     "fe1613107eea42239ba09e9745ecbe4f": {
      "model_module": "ipytree",
      "model_module_version": "^0.2",
      "model_name": "NodeModel",
      "state": {
       "_id": "c404f10a-7ce2-4be8-b304-62e69414ac16",
       "_model_module_version": "^0.2",
       "_view_module_version": "^0.2",
       "icon": "file",
       "name": "jrc_metadata.py"
      }
     },
     "fe4e526e36694fff8391242ca7b8ad73": {
      "model_module": "ipytree",
      "model_module_version": "^0.2",
      "model_name": "NodeModel",
      "state": {
       "_id": "9c4e0516-32c8-426c-8db0-a4ab426721cd",
       "_model_module_version": "^0.2",
       "_view_module_version": "^0.2",
       "icon": "file",
       "name": "computed_area_filter.py"
      }
     },
     "fea9c8d54020466688aff7d2a027187b": {
      "model_module": "ipytree",
      "model_module_version": "^0.2",
      "model_name": "NodeModel",
      "state": {
       "_id": "b193f148-3ea8-4a4a-a8b4-1faa1f953b26",
       "_model_module_version": "^0.2",
       "_view_module_version": "^0.2",
       "icon": "file",
       "name": "set_properties.py"
      }
     },
     "fed435445eaf4487a80671e5ddf49298": {
      "model_module": "ipytree",
      "model_module_version": "^0.2",
      "model_name": "NodeModel",
      "state": {
       "_id": "3ce453e1-74b3-4633-bf0f-66fb6617fe68",
       "_model_module_version": "^0.2",
       "_view_module_version": "^0.2",
       "icon": "file",
       "name": "reclassify.py"
      }
     },
     "ffb239bf1366422f882b04b3949c6754": {
      "model_module": "ipytree",
      "model_module_version": "^0.2",
      "model_name": "NodeModel",
      "state": {
       "_id": "9b4835df-3c4c-4145-9f68-d5e9f4b2be96",
       "_model_module_version": "^0.2",
       "_view_module_version": "^0.2",
       "icon": "file",
       "name": "mean_std_image.py"
      }
     },
     "ffc6be4b074e48768d68e7bf8c701715": {
      "model_module": "@jupyter-widgets/base",
      "model_module_version": "2.0.0",
      "model_name": "LayoutModel",
      "state": {
       "height": "auto",
       "padding": "0px 0px 0px 4px",
       "width": "auto"
      }
     },
     "ffc9cbc3a472438f99f330a807a180e4": {
      "model_module": "ipytree",
      "model_module_version": "^0.2",
      "model_name": "NodeModel",
      "state": {
       "_id": "21161d84-d49a-4fcc-9540-bb3577deb947",
       "_model_module_version": "^0.2",
       "_view_module_version": "^0.2",
       "icon": "file",
       "name": "landsat_cloud_score.py"
      }
     },
     "ffe3e14021314db28db8e6aae0313bae": {
      "model_module": "ipytree",
      "model_module_version": "^0.2",
      "model_name": "NodeModel",
      "state": {
       "_id": "d92d7dca-fa8f-4e27-8f28-f825d31ea920",
       "_model_module_version": "^0.2",
       "_view_module_version": "^0.2",
       "icon": "file",
       "name": "conditional_operations.py"
      }
     }
    },
    "version_major": 2,
    "version_minor": 0
   }
  }
 },
 "nbformat": 4,
 "nbformat_minor": 5
}
