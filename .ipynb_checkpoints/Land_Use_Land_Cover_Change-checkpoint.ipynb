{
 "cells": [
  {
   "cell_type": "code",
   "execution_count": 6,
   "id": "38164953-42b9-4cde-95de-a9fbe0f2eb31",
   "metadata": {},
   "outputs": [
    {
     "data": {
      "text/html": [
       "\n",
       "            <style>\n",
       "                .geemap-dark {\n",
       "                    --jp-widgets-color: white;\n",
       "                    --jp-widgets-label-color: white;\n",
       "                    --jp-ui-font-color1: white;\n",
       "                    --jp-layout-color2: #454545;\n",
       "                    background-color: #383838;\n",
       "                }\n",
       "\n",
       "                .geemap-dark .jupyter-button {\n",
       "                    --jp-layout-color3: #383838;\n",
       "                }\n",
       "\n",
       "                .geemap-colab {\n",
       "                    background-color: var(--colab-primary-surface-color, white);\n",
       "                }\n",
       "\n",
       "                .geemap-colab .jupyter-button {\n",
       "                    --jp-layout-color3: var(--colab-primary-surface-color, white);\n",
       "                }\n",
       "            </style>\n",
       "            "
      ],
      "text/plain": [
       "<IPython.core.display.HTML object>"
      ]
     },
     "metadata": {},
     "output_type": "display_data"
    },
    {
     "ename": "ImportError",
     "evalue": "cannot import name 'basemaps' from 'geemap.basemaps' (C:\\Users\\Naznamz\\anaconda3\\envs\\GoogleEarthEngine_Py_3_8\\lib\\site-packages\\geemap\\basemaps.py)",
     "output_type": "error",
     "traceback": [
      "\u001b[1;31m---------------------------------------------------------------------------\u001b[0m",
      "\u001b[1;31mImportError\u001b[0m                               Traceback (most recent call last)",
      "Cell \u001b[1;32mIn[6], line 4\u001b[0m\n\u001b[0;32m      2\u001b[0m \u001b[38;5;28;01mimport\u001b[39;00m \u001b[38;5;21;01mee\u001b[39;00m\n\u001b[0;32m      3\u001b[0m \u001b[38;5;28;01mimport\u001b[39;00m \u001b[38;5;21;01mos\u001b[39;00m\n\u001b[1;32m----> 4\u001b[0m \u001b[38;5;28;01mfrom\u001b[39;00m \u001b[38;5;21;01mgeemap\u001b[39;00m\u001b[38;5;21;01m.\u001b[39;00m\u001b[38;5;21;01mbasemaps\u001b[39;00m \u001b[38;5;28;01mimport\u001b[39;00m basemaps\n",
      "\u001b[1;31mImportError\u001b[0m: cannot import name 'basemaps' from 'geemap.basemaps' (C:\\Users\\Naznamz\\anaconda3\\envs\\GoogleEarthEngine_Py_3_8\\lib\\site-packages\\geemap\\basemaps.py)"
     ]
    }
   ],
   "source": [
    "import geemap\n",
    "import ee\n",
    "import os\n",
    "from geemap.basemaps import basemaps"
   ]
  },
  {
   "cell_type": "code",
   "execution_count": 2,
   "id": "39529fa9-bdd4-457d-a576-36bab60132ca",
   "metadata": {},
   "outputs": [
    {
     "data": {
      "text/html": [
       "\n",
       "            <style>\n",
       "                .geemap-dark {\n",
       "                    --jp-widgets-color: white;\n",
       "                    --jp-widgets-label-color: white;\n",
       "                    --jp-ui-font-color1: white;\n",
       "                    --jp-layout-color2: #454545;\n",
       "                    background-color: #383838;\n",
       "                }\n",
       "\n",
       "                .geemap-dark .jupyter-button {\n",
       "                    --jp-layout-color3: #383838;\n",
       "                }\n",
       "\n",
       "                .geemap-colab {\n",
       "                    background-color: var(--colab-primary-surface-color, white);\n",
       "                }\n",
       "\n",
       "                .geemap-colab .jupyter-button {\n",
       "                    --jp-layout-color3: var(--colab-primary-surface-color, white);\n",
       "                }\n",
       "            </style>\n",
       "            "
      ],
      "text/plain": [
       "<IPython.core.display.HTML object>"
      ]
     },
     "metadata": {},
     "output_type": "display_data"
    }
   ],
   "source": [
    "ee.Initialize()"
   ]
  },
  {
   "cell_type": "code",
   "execution_count": 2,
   "id": "124e6c78-5c75-4a31-ba49-658436375ef1",
   "metadata": {},
   "outputs": [
    {
     "data": {
      "text/html": [
       "\n",
       "            <style>\n",
       "                .geemap-dark {\n",
       "                    --jp-widgets-color: white;\n",
       "                    --jp-widgets-label-color: white;\n",
       "                    --jp-ui-font-color1: white;\n",
       "                    --jp-layout-color2: #454545;\n",
       "                    background-color: #383838;\n",
       "                }\n",
       "\n",
       "                .geemap-dark .jupyter-button {\n",
       "                    --jp-layout-color3: #383838;\n",
       "                }\n",
       "\n",
       "                .geemap-colab {\n",
       "                    background-color: var(--colab-primary-surface-color, white);\n",
       "                }\n",
       "\n",
       "                .geemap-colab .jupyter-button {\n",
       "                    --jp-layout-color3: var(--colab-primary-surface-color, white);\n",
       "                }\n",
       "            </style>\n",
       "            "
      ],
      "text/plain": [
       "<IPython.core.display.HTML object>"
      ]
     },
     "metadata": {},
     "output_type": "display_data"
    },
    {
     "name": "stdout",
     "output_type": "stream",
     "text": [
      "Downloading https://github.com/gee-community/geemap/archive/master.zip ...\n",
      "Unzipping geemap-master.zip ...\n",
      "Data downloaded to: C:\\Users\\Naznamz\\Downloads\\geemap-master\n",
      "\n",
      "Please comment out 'geemap.update_package()' and restart the kernel to take effect:\n",
      "Jupyter menu -> Kernel -> Restart & Clear Output\n"
     ]
    }
   ],
   "source": [
    "geemap.update_package()"
   ]
  },
  {
   "cell_type": "code",
   "execution_count": 3,
   "id": "04fa0668-7372-448a-8acb-d3a2a16a3d0d",
   "metadata": {},
   "outputs": [
    {
     "data": {
      "text/html": [
       "\n",
       "            <style>\n",
       "                .geemap-dark {\n",
       "                    --jp-widgets-color: white;\n",
       "                    --jp-widgets-label-color: white;\n",
       "                    --jp-ui-font-color1: white;\n",
       "                    --jp-layout-color2: #454545;\n",
       "                    background-color: #383838;\n",
       "                }\n",
       "\n",
       "                .geemap-dark .jupyter-button {\n",
       "                    --jp-layout-color3: #383838;\n",
       "                }\n",
       "\n",
       "                .geemap-colab {\n",
       "                    background-color: var(--colab-primary-surface-color, white);\n",
       "                }\n",
       "\n",
       "                .geemap-colab .jupyter-button {\n",
       "                    --jp-layout-color3: var(--colab-primary-surface-color, white);\n",
       "                }\n",
       "            </style>\n",
       "            "
      ],
      "text/plain": [
       "<IPython.core.display.HTML object>"
      ]
     },
     "metadata": {},
     "output_type": "display_data"
    }
   ],
   "source": [
    "Map = geemap.Map()\n"
   ]
  },
  {
   "cell_type": "code",
   "execution_count": 4,
   "id": "30bfd544-e7ba-4d13-bed1-b9edc2c40d69",
   "metadata": {},
   "outputs": [
    {
     "data": {
      "text/html": [
       "\n",
       "            <style>\n",
       "                .geemap-dark {\n",
       "                    --jp-widgets-color: white;\n",
       "                    --jp-widgets-label-color: white;\n",
       "                    --jp-ui-font-color1: white;\n",
       "                    --jp-layout-color2: #454545;\n",
       "                    background-color: #383838;\n",
       "                }\n",
       "\n",
       "                .geemap-dark .jupyter-button {\n",
       "                    --jp-layout-color3: #383838;\n",
       "                }\n",
       "\n",
       "                .geemap-colab {\n",
       "                    background-color: var(--colab-primary-surface-color, white);\n",
       "                }\n",
       "\n",
       "                .geemap-colab .jupyter-button {\n",
       "                    --jp-layout-color3: var(--colab-primary-surface-color, white);\n",
       "                }\n",
       "            </style>\n",
       "            "
      ],
      "text/plain": [
       "<IPython.core.display.HTML object>"
      ]
     },
     "metadata": {},
     "output_type": "display_data"
    },
    {
     "data": {
      "application/vnd.jupyter.widget-view+json": {
       "model_id": "d2fc96111f7e43b188357943a79a8189",
       "version_major": 2,
       "version_minor": 0
      },
      "text/plain": [
       "Map(center=[0, 0], controls=(WidgetControl(options=['position', 'transparent_bg'], widget=SearchDataGUI(childr…"
      ]
     },
     "execution_count": 4,
     "metadata": {},
     "output_type": "execute_result"
    }
   ],
   "source": [
    "Map"
   ]
  },
  {
   "cell_type": "code",
   "execution_count": 5,
   "id": "55810133-6c04-4a8b-94fc-bb6adf39ef58",
   "metadata": {},
   "outputs": [
    {
     "data": {
      "text/html": [
       "\n",
       "            <style>\n",
       "                .geemap-dark {\n",
       "                    --jp-widgets-color: white;\n",
       "                    --jp-widgets-label-color: white;\n",
       "                    --jp-ui-font-color1: white;\n",
       "                    --jp-layout-color2: #454545;\n",
       "                    background-color: #383838;\n",
       "                }\n",
       "\n",
       "                .geemap-dark .jupyter-button {\n",
       "                    --jp-layout-color3: #383838;\n",
       "                }\n",
       "\n",
       "                .geemap-colab {\n",
       "                    background-color: var(--colab-primary-surface-color, white);\n",
       "                }\n",
       "\n",
       "                .geemap-colab .jupyter-button {\n",
       "                    --jp-layout-color3: var(--colab-primary-surface-color, white);\n",
       "                }\n",
       "            </style>\n",
       "            "
      ],
      "text/plain": [
       "<IPython.core.display.HTML object>"
      ]
     },
     "metadata": {},
     "output_type": "display_data"
    },
    {
     "data": {
      "application/vnd.jupyter.widget-view+json": {
       "model_id": "e582c494043f405dbd66b6b1cfab36fd",
       "version_major": 2,
       "version_minor": 0
      },
      "text/plain": [
       "HBox(children=(VBox(), VBox()))"
      ]
     },
     "metadata": {},
     "output_type": "display_data"
    }
   ],
   "source": [
    "geemap.ee_search()"
   ]
  },
  {
   "cell_type": "code",
   "execution_count": 7,
   "id": "7c6c066b-70a9-4a48-9b38-8d58554a1d97",
   "metadata": {},
   "outputs": [
    {
     "data": {
      "text/html": [
       "\n",
       "            <style>\n",
       "                .geemap-dark {\n",
       "                    --jp-widgets-color: white;\n",
       "                    --jp-widgets-label-color: white;\n",
       "                    --jp-ui-font-color1: white;\n",
       "                    --jp-layout-color2: #454545;\n",
       "                    background-color: #383838;\n",
       "                }\n",
       "\n",
       "                .geemap-dark .jupyter-button {\n",
       "                    --jp-layout-color3: #383838;\n",
       "                }\n",
       "\n",
       "                .geemap-colab {\n",
       "                    background-color: var(--colab-primary-surface-color, white);\n",
       "                }\n",
       "\n",
       "                .geemap-colab .jupyter-button {\n",
       "                    --jp-layout-color3: var(--colab-primary-surface-color, white);\n",
       "                }\n",
       "            </style>\n",
       "            "
      ],
      "text/plain": [
       "<IPython.core.display.HTML object>"
      ]
     },
     "metadata": {},
     "output_type": "display_data"
    }
   ],
   "source": [
    "##geemap.upload()"
   ]
  },
  {
   "cell_type": "markdown",
   "id": "b190b70c-46e5-47c3-b2a7-96c21f099c87",
   "metadata": {},
   "source": [
    "Loading a Shapefile"
   ]
  },
  {
   "cell_type": "code",
   "execution_count": 15,
   "id": "4730dc06-013c-4fdd-a67e-7a7c9e5a6c8e",
   "metadata": {},
   "outputs": [
    {
     "data": {
      "text/html": [
       "\n",
       "            <style>\n",
       "                .geemap-dark {\n",
       "                    --jp-widgets-color: white;\n",
       "                    --jp-widgets-label-color: white;\n",
       "                    --jp-ui-font-color1: white;\n",
       "                    --jp-layout-color2: #454545;\n",
       "                    background-color: #383838;\n",
       "                }\n",
       "\n",
       "                .geemap-dark .jupyter-button {\n",
       "                    --jp-layout-color3: #383838;\n",
       "                }\n",
       "\n",
       "                .geemap-colab {\n",
       "                    background-color: var(--colab-primary-surface-color, white);\n",
       "                }\n",
       "\n",
       "                .geemap-colab .jupyter-button {\n",
       "                    --jp-layout-color3: var(--colab-primary-surface-color, white);\n",
       "                }\n",
       "            </style>\n",
       "            "
      ],
      "text/plain": [
       "<IPython.core.display.HTML object>"
      ]
     },
     "metadata": {},
     "output_type": "display_data"
    },
    {
     "name": "stdout",
     "output_type": "stream",
     "text": [
      "GeoPandas is required to perform reprojection of the data. See https://geopandas.org/install.html\n"
     ]
    }
   ],
   "source": [
    "Shapefile_path = 'F:\\Collecting and Analysing Data\\Maps\\Shapefiles\\Selection of Study Sites\\Study_Sites_V1.shp'\n",
    "shp_ee = geemap.shp_to_ee(Shapefile_path)\n",
    "Map.addLayer(shp_ee, {}, 'Shapefile')\n",
    "shp_ee"
   ]
  },
  {
   "cell_type": "markdown",
   "id": "b03173e8-ea8d-4cbf-b495-1b36adb6959a",
   "metadata": {},
   "source": [
    "Image Collection"
   ]
  },
  {
   "cell_type": "code",
   "execution_count": 35,
   "id": "7a10340e-aafc-45c7-ad73-510e41888810",
   "metadata": {},
   "outputs": [
    {
     "data": {
      "text/html": [
       "\n",
       "            <style>\n",
       "                .geemap-dark {\n",
       "                    --jp-widgets-color: white;\n",
       "                    --jp-widgets-label-color: white;\n",
       "                    --jp-ui-font-color1: white;\n",
       "                    --jp-layout-color2: #454545;\n",
       "                    background-color: #383838;\n",
       "                }\n",
       "\n",
       "                .geemap-dark .jupyter-button {\n",
       "                    --jp-layout-color3: #383838;\n",
       "                }\n",
       "\n",
       "                .geemap-colab {\n",
       "                    background-color: var(--colab-primary-surface-color, white);\n",
       "                }\n",
       "\n",
       "                .geemap-colab .jupyter-button {\n",
       "                    --jp-layout-color3: var(--colab-primary-surface-color, white);\n",
       "                }\n",
       "            </style>\n",
       "            "
      ],
      "text/plain": [
       "<IPython.core.display.HTML object>"
      ]
     },
     "metadata": {},
     "output_type": "display_data"
    }
   ],
   "source": [
    "LUUBWE_sentinel = ee.ImageCollection('COPERNICUS/S2') \\\n",
    ".filterDate('2018-01-01', '2019-01-01') \\\n",
    ".filterBounds(roi)"
   ]
  },
  {
   "cell_type": "markdown",
   "id": "594e49f4-b490-4fd2-b4df-83d9bf39646a",
   "metadata": {},
   "source": [
    "Shapefile Collection"
   ]
  },
  {
   "cell_type": "code",
   "execution_count": 44,
   "id": "970e0c7d-2e95-46eb-b966-8e48bac3cffb",
   "metadata": {
    "scrolled": true
   },
   "outputs": [
    {
     "data": {
      "text/html": [
       "\n",
       "            <style>\n",
       "                .geemap-dark {\n",
       "                    --jp-widgets-color: white;\n",
       "                    --jp-widgets-label-color: white;\n",
       "                    --jp-ui-font-color1: white;\n",
       "                    --jp-layout-color2: #454545;\n",
       "                    background-color: #383838;\n",
       "                }\n",
       "\n",
       "                .geemap-dark .jupyter-button {\n",
       "                    --jp-layout-color3: #383838;\n",
       "                }\n",
       "\n",
       "                .geemap-colab {\n",
       "                    background-color: var(--colab-primary-surface-color, white);\n",
       "                }\n",
       "\n",
       "                .geemap-colab .jupyter-button {\n",
       "                    --jp-layout-color3: var(--colab-primary-surface-color, white);\n",
       "                }\n",
       "            </style>\n",
       "            "
      ],
      "text/plain": [
       "<IPython.core.display.HTML object>"
      ]
     },
     "metadata": {},
     "output_type": "display_data"
    }
   ],
   "source": [
    "Wards = ee.FeatureCollection('Shapfile_Path');\n",
    "roi = Wards.filter(ee.Filter.eq('WardNm2020','LUUBWE'));\n",
    "##LUUBWE_boundary = Wards.filter(ee.Filter.eq('WardNm2020','LUUBWE'));\n",
    "#roi = ee.FeatureCollection(LUUBWE_boundary).geometry();"
   ]
  },
  {
   "cell_type": "markdown",
   "id": "0ebf84e1-892a-450d-9e5d-56d90fe5fd9e",
   "metadata": {},
   "source": [
    "Cliping the Image and adding it to the Map "
   ]
  },
  {
   "cell_type": "code",
   "execution_count": 47,
   "id": "c3770547-ff15-4bb5-b819-1b7400b54e8d",
   "metadata": {},
   "outputs": [
    {
     "data": {
      "text/html": [
       "\n",
       "            <style>\n",
       "                .geemap-dark {\n",
       "                    --jp-widgets-color: white;\n",
       "                    --jp-widgets-label-color: white;\n",
       "                    --jp-ui-font-color1: white;\n",
       "                    --jp-layout-color2: #454545;\n",
       "                    background-color: #383838;\n",
       "                }\n",
       "\n",
       "                .geemap-dark .jupyter-button {\n",
       "                    --jp-layout-color3: #383838;\n",
       "                }\n",
       "\n",
       "                .geemap-colab {\n",
       "                    background-color: var(--colab-primary-surface-color, white);\n",
       "                }\n",
       "\n",
       "                .geemap-colab .jupyter-button {\n",
       "                    --jp-layout-color3: var(--colab-primary-surface-color, white);\n",
       "                }\n",
       "            </style>\n",
       "            "
      ],
      "text/plain": [
       "<IPython.core.display.HTML object>"
      ]
     },
     "metadata": {},
     "output_type": "display_data"
    },
    {
     "ename": "AttributeError",
     "evalue": "'ImageCollection' object has no attribute 'clip'",
     "output_type": "error",
     "traceback": [
      "\u001b[1;31m---------------------------------------------------------------------------\u001b[0m",
      "\u001b[1;31mAttributeError\u001b[0m                            Traceback (most recent call last)",
      "Cell \u001b[1;32mIn[47], line 8\u001b[0m\n\u001b[0;32m      1\u001b[0m rgbVis \u001b[38;5;241m=\u001b[39m {\u001b[38;5;124m'\u001b[39m\u001b[38;5;124mbands\u001b[39m\u001b[38;5;124m'\u001b[39m:[\u001b[38;5;124m'\u001b[39m\u001b[38;5;124mB4\u001b[39m\u001b[38;5;124m'\u001b[39m,\u001b[38;5;124m'\u001b[39m\u001b[38;5;124mB3\u001b[39m\u001b[38;5;124m'\u001b[39m,\u001b[38;5;124m'\u001b[39m\u001b[38;5;124mB2\u001b[39m\u001b[38;5;124m'\u001b[39m], \u001b[38;5;28mmin\u001b[39m: \u001b[38;5;241m0\u001b[39m, \u001b[38;5;28mmax\u001b[39m: \u001b[38;5;241m0.3\u001b[39m};\n\u001b[0;32m      2\u001b[0m \u001b[38;5;66;03m##LUUBWE_sentinel_median = LUUBWE_sentinel.median();\u001b[39;00m\n\u001b[0;32m      3\u001b[0m \u001b[38;5;66;03m##LUUBWE_sentinel_clip = LUUBWE_sentinel_median.clip(roi);\u001b[39;00m\n\u001b[0;32m      4\u001b[0m \u001b[38;5;66;03m##LUUBWE_sentinel_clip = LUUBWE_sentinel.clip(roi);\u001b[39;00m\n\u001b[0;32m      5\u001b[0m \u001b[38;5;66;03m##Map.addLayer(LUUBWE_boundary, {color:'red'});\u001b[39;00m\n\u001b[0;32m      6\u001b[0m \u001b[38;5;66;03m##Map.addLayer(LUUBWE_boundary);\u001b[39;00m\n\u001b[0;32m      7\u001b[0m \u001b[38;5;66;03m##Map.addLayer(LUUBWE_sentinel_clip, rgbVis);\u001b[39;00m\n\u001b[1;32m----> 8\u001b[0m Map\u001b[38;5;241m.\u001b[39maddLayer(\u001b[43mLUUBWE_sentinel\u001b[49m\u001b[38;5;241;43m.\u001b[39;49m\u001b[43mclip\u001b[49m(roi), rgbVis);\n\u001b[0;32m      9\u001b[0m Map\u001b[38;5;241m.\u001b[39mcenterObject(LUUBWE_sentinel_clip, \u001b[38;5;241m10\u001b[39m);\n",
      "\u001b[1;31mAttributeError\u001b[0m: 'ImageCollection' object has no attribute 'clip'"
     ]
    }
   ],
   "source": [
    "rgbVis = {'bands':['B4','B3','B2'], min: 0, max: 0.3};\n",
    "##LUUBWE_sentinel_median = LUUBWE_sentinel.median();\n",
    "##LUUBWE_sentinel_clip = LUUBWE_sentinel_median.clip(roi);\n",
    "##LUUBWE_sentinel_clip = LUUBWE_sentinel.clip(roi);\n",
    "##Map.addLayer(LUUBWE_boundary, {color:'red'});\n",
    "##Map.addLayer(LUUBWE_boundary);\n",
    "##Map.addLayer(LUUBWE_sentinel_clip, rgbVis);\n",
    "Map.addLayer(LUUBWE_sentinel.clip(roi), rgbVis);\n",
    "Map.centerObject(LUUBWE_sentinel_clip, 10);"
   ]
  },
  {
   "cell_type": "markdown",
   "id": "620578c4-2939-4657-b514-b2e40c7ac5d9",
   "metadata": {},
   "source": [
    "Area of the shapefile"
   ]
  },
  {
   "cell_type": "code",
   "execution_count": null,
   "id": "a8651ae9-0aec-4ee9-9a7a-051adc409089",
   "metadata": {},
   "outputs": [],
   "source": [
    "var  LUUBWE_Area =  LUUBWE_boundary.geometry().area();\n",
    "var  LUUBWE_Area_sqKm = ee.Number(LUUBWE_Area).divide(1e6);\n",
    "print( LUUBWE_Area_sqKm);"
   ]
  },
  {
   "cell_type": "markdown",
   "id": "28c2ceec-ac64-4ea3-873f-dfb5553499d6",
   "metadata": {},
   "source": [
    "Supervised classification"
   ]
  },
  {
   "cell_type": "code",
   "execution_count": null,
   "id": "2ab136fc-07f7-4e3a-984d-adf226cc0e13",
   "metadata": {},
   "outputs": [],
   "source": []
  },
  {
   "cell_type": "markdown",
   "id": "d4e63282-9004-46f6-bc98-314fc2e17bec",
   "metadata": {},
   "source": [
    "Merge all the training points"
   ]
  },
  {
   "cell_type": "code",
   "execution_count": null,
   "id": "1ae090f0-6c90-4017-93f6-c981a4f44296",
   "metadata": {},
   "outputs": [],
   "source": [
    "var lable = \"Class\";\n",
    "var sample = Waterbody.merge(Builtup).merge(Cropland).merge(Vegetation).merge(Bareland);\n",
    "var bands = ['B2','B3','B4','B5','B6','B7'];\n",
    "var training = LUUBWE_sentinel_clip.select(bands).sampleRegions({\n",
    "  collection: sample, \n",
    "  properties: ['Class'], \n",
    "  scale: 30\n",
    "});\n",
    "print('training', training);"
   ]
  },
  {
   "cell_type": "markdown",
   "id": "31a99239-f75d-4641-8a64-fe6c74a1206b",
   "metadata": {},
   "source": [
    "Training dataset divided in two ways\n",
    "Traing the model: 80%\n",
    "Test the model: 20% data for testing"
   ]
  },
  {
   "cell_type": "code",
   "execution_count": null,
   "id": "50fd5a3a-6166-4047-a68b-7bbe9f2a02b3",
   "metadata": {},
   "outputs": [],
   "source": [
    "var dataset = training.randomColumn();\n",
    "var trainset = dataset.filter(ee.Filter.lessThan('random', 0.8));\n",
    "var testset = dataset.filter(ee.Filter.greaterThanOrEquals('random', 0.8));\n"
   ]
  },
  {
   "cell_type": "markdown",
   "id": "f7c0ae47-a6b6-444c-b375-adc3e399be76",
   "metadata": {},
   "source": [
    "Create the Model CART"
   ]
  },
  {
   "cell_type": "code",
   "execution_count": null,
   "id": "cbed9bbd-372d-488d-b3e8-9373d08aace6",
   "metadata": {},
   "outputs": [],
   "source": [
    "var classifier = ee.Classifier.smileCart().train(trainset, lable, bands);"
   ]
  },
  {
   "cell_type": "markdown",
   "id": "2720f476-649c-4197-a5e4-e9ae842c6ecc",
   "metadata": {},
   "source": [
    "Classify the sentinel image"
   ]
  },
  {
   "cell_type": "code",
   "execution_count": null,
   "id": "c5dbb12e-43e6-436a-bb9b-f63cdaf0aa81",
   "metadata": {},
   "outputs": [],
   "source": [
    "var classified = LUUBWE_sentinel_clip.classify(classifier);\n",
    "print('classified', classified);"
   ]
  },
  {
   "cell_type": "markdown",
   "id": "cba8efd2-d2d1-44e7-a430-5789ee624f38",
   "metadata": {},
   "source": [
    "Visualisation of the classification"
   ]
  },
  {
   "cell_type": "code",
   "execution_count": null,
   "id": "026d487f-2927-47f4-bcf5-7672854ec758",
   "metadata": {},
   "outputs": [],
   "source": [
    "var landcoverpalette = [\n",
    "  'blue',\n",
    "  'red',\n",
    "  'yellow',\n",
    "  'green',\n",
    "  'grey',\n",
    "  ];\n",
    "  \n",
    "Map.addLayer(classified.clip(roi),{'min': 0, 'max': 4, 'palette': landcoverpalette});"
   ]
  },
  {
   "cell_type": "markdown",
   "id": "a6bfcb15-bdd0-41f6-a722-1f7c8fa380d7",
   "metadata": {},
   "source": [
    "Get information about the trained classifier."
   ]
  },
  {
   "cell_type": "code",
   "execution_count": null,
   "id": "07f01113-0ab6-42c4-ac57-f8cbb567f101",
   "metadata": {},
   "outputs": [],
   "source": [
    "print('Results of trained classifier', classifier.explain());"
   ]
  },
  {
   "cell_type": "markdown",
   "id": "1727e932-000b-437f-9f8f-c08c3e1d153e",
   "metadata": {},
   "source": [
    "Acuracy assement\n",
    "\n",
    "Get a confusion matrix and overall accuracy for the training sample."
   ]
  },
  {
   "cell_type": "code",
   "execution_count": null,
   "id": "108711fc-35cb-4b4e-b9d0-6ef523bd06b0",
   "metadata": {},
   "outputs": [],
   "source": [
    "var trainAccuracy = classifier.confusionMatrix();\n",
    "print('Training error matrix', trainAccuracy);\n",
    "print('Training overall accuracy', trainAccuracy.accuracy());"
   ]
  },
  {
   "cell_type": "markdown",
   "id": "565af8db-405e-4aa0-825f-33fb74012f07",
   "metadata": {},
   "source": [
    "Get a confusion matrix and overall accuracy for the validation sample."
   ]
  },
  {
   "cell_type": "code",
   "execution_count": null,
   "id": "ac494585-c520-4500-89cd-d2268f6575c7",
   "metadata": {},
   "outputs": [],
   "source": [
    "testset = trainset.classify(classifier);\n",
    "var validationAccuracy = testset.errorMatrix(lable, 'classification');\n",
    "print('Validation error matrix', validationAccuracy);\n",
    "print('Validation accuracy', validationAccuracy.accuracy());"
   ]
  },
  {
   "cell_type": "markdown",
   "id": "a059c1e3-35ba-4c6b-a489-c012e03ac6cb",
   "metadata": {},
   "source": [
    "Calculating Area by Class by Reagion\n",
    "Calculating the Nested Group area of classes"
   ]
  },
  {
   "cell_type": "code",
   "execution_count": null,
   "id": "ececff12-d65c-4a64-889f-b994c8067d6b",
   "metadata": {},
   "outputs": [],
   "source": [
    "var areaImage = ee.Image.pixelArea().addBands(classified);\n",
    "var areas = areaImage.reduceRegion({\n",
    "  reducer: ee.Reducer.sum().group({\n",
    "    groupField:1,\n",
    "    groupName: 'class'}), \n",
    "    geometry: roi,\n",
    "    scale: 10,\n",
    "    maxPixels: 1e13});\n",
    "\n",
    "print(areaImage);"
   ]
  },
  {
   "cell_type": "markdown",
   "id": "d49572b5-a7d9-48ee-b80c-414742c86221",
   "metadata": {},
   "source": [
    "Flatening the Nested Gropus areas of classes"
   ]
  },
  {
   "cell_type": "code",
   "execution_count": null,
   "id": "f48d94ca-f9e2-4553-afee-58cb9863cef9",
   "metadata": {},
   "outputs": [],
   "source": [
    "var classAreas = ee.List(areas.get('groups'));\n",
    "var classAreaLists = classAreas.map(function(item){\n",
    "  var areaDic = ee.Dictionary(item)\n",
    "  var classNumber = ee.Number(areaDic.get('class')).format()\n",
    "  var area = ee.Number(areaDic.get('sum')).divide(1e6).round()\n",
    "  return ee.List([classNumber, area])\n",
    "});\n",
    "\n",
    "var results = ee.Dictionary(classAreaLists.flatten());\n",
    "print(results);"
   ]
  },
  {
   "cell_type": "markdown",
   "id": "0feae633-e212-41b1-b8ef-bb5cd8e0a820",
   "metadata": {},
   "source": [
    "Export Image"
   ]
  },
  {
   "cell_type": "code",
   "execution_count": null,
   "id": "aba6ec20-cc44-4ff6-a34b-8399d4d3941d",
   "metadata": {},
   "outputs": [],
   "source": [
    "Export.image.toDrive({\n",
    "image:classified,\n",
    "description: 'LUUBWE_sentinel_classified_2019',\n",
    "fileFormat: 'GeoTIFF',\n",
    "scale: 10,\n",
    "region: roi,\n",
    "});"
   ]
  },
  {
   "cell_type": "markdown",
   "id": "8b5227de-4a54-4a50-b949-b7ece7fb1bf7",
   "metadata": {},
   "source": [
    "Export table to your google drive"
   ]
  },
  {
   "cell_type": "code",
   "execution_count": null,
   "id": "28c39368-0b70-4785-90fc-a2c413941990",
   "metadata": {},
   "outputs": [],
   "source": [
    "Export.table.toDrive({\n",
    "        collection: results,\n",
    "        description: 'classAreaLists', \n",
    "        folder: 'EE',\n",
    "    fileNamePrefix: 'classAreas', \n",
    "    fileFormat: 'CSV'\n",
    "    });"
   ]
  }
 ],
 "metadata": {
  "kernelspec": {
   "display_name": "GoogleEarthEngine_Py_3_8",
   "language": "python",
   "name": "googleearthengine_py_3_8"
  },
  "language_info": {
   "codemirror_mode": {
    "name": "ipython",
    "version": 3
   },
   "file_extension": ".py",
   "mimetype": "text/x-python",
   "name": "python",
   "nbconvert_exporter": "python",
   "pygments_lexer": "ipython3",
   "version": "3.8.18"
  },
  "widgets": {
   "application/vnd.jupyter.widget-state+json": {
    "state": {
     "002877cf20ed41bdaa58a9b0c7ab9464": {
      "model_module": "@jupyter-widgets/base",
      "model_module_version": "2.0.0",
      "model_name": "LayoutModel",
      "state": {
       "max_width": "279px",
       "min_width": "279px"
      }
     },
     "013f14c1ef3f483191bb2ec840649db7": {
      "model_module": "@jupyter-widgets/base",
      "model_module_version": "2.0.0",
      "model_name": "LayoutModel",
      "state": {
       "height": "auto",
       "padding": "0px 0px 0px 4px",
       "width": "auto"
      }
     },
     "035e3c115ec74210bc999e54dc55af85": {
      "model_module": "@jupyter-widgets/controls",
      "model_module_version": "2.0.0",
      "model_name": "ToggleButtonStyleModel",
      "state": {
       "description_width": "",
       "font_family": null,
       "font_size": null,
       "font_style": null,
       "font_variant": null,
       "font_weight": null,
       "text_color": null,
       "text_decoration": null
      }
     },
     "045fcf9eb6d14d4c8246a9b2ea8ded91": {
      "model_module": "@jupyter-widgets/base",
      "model_module_version": "2.0.0",
      "model_name": "LayoutModel",
      "state": {}
     },
     "05e8a359c9254b78bd7254dee39c14ac": {
      "model_module": "@jupyter-widgets/controls",
      "model_module_version": "2.0.0",
      "model_name": "ToggleButtonModel",
      "state": {
       "button_style": "primary",
       "icon": "hand-o-up",
       "layout": "IPY_MODEL_013f14c1ef3f483191bb2ec840649db7",
       "style": "IPY_MODEL_209dbc76a0bf4e1ebba876512c9ddde1",
       "tooltip": "Collect training samples"
      }
     },
     "08fec28fb9a9472eb1860292d0deb921": {
      "model_module": "@jupyter-widgets/controls",
      "model_module_version": "2.0.0",
      "model_name": "ToggleButtonModel",
      "state": {
       "button_style": "primary",
       "icon": "info",
       "layout": "IPY_MODEL_a965a016a51349ffb674e6a7817ed194",
       "style": "IPY_MODEL_23bb68d8ad01495495ed6a740f5a2f03",
       "tooltip": "Inspector"
      }
     },
     "0d00376af63e4bc98089a4e1cbd6fe92": {
      "model_module": "@jupyter-widgets/base",
      "model_module_version": "2.0.0",
      "model_name": "LayoutModel",
      "state": {
       "max_width": "57px",
       "min_width": "57px"
      }
     },
     "0d6e5023aaf84324a8d1d141ba183809": {
      "model_module": "@jupyter-widgets/controls",
      "model_module_version": "2.0.0",
      "model_name": "ToggleButtonModel",
      "state": {
       "icon": "server",
       "layout": "IPY_MODEL_797a297a4a7146e58047747a084d0796",
       "style": "IPY_MODEL_97b20c0114324ef5bd7fdacb9eb0e618",
       "tooltip": "Layers"
      }
     },
     "0f0585cd21be4baa835b64c1215ebab1": {
      "model_module": "@jupyter-widgets/base",
      "model_module_version": "2.0.0",
      "model_name": "LayoutModel",
      "state": {
       "height": "auto",
       "padding": "0px 0px 0px 4px",
       "width": "auto"
      }
     },
     "0fe57ccfeaef4d2183bcf9cffe237165": {
      "model_module": "@jupyter-widgets/controls",
      "model_module_version": "2.0.0",
      "model_name": "CheckboxModel",
      "state": {
       "description": "OpenStreetMap.Mapnik",
       "disabled": false,
       "indent": false,
       "layout": "IPY_MODEL_e3dac55bb16541a383ee2c5661cbe42c",
       "style": "IPY_MODEL_fe27d73eda334d76b1b27377503550b5",
       "value": true
      }
     },
     "10bff93c8df1498e9c8f36b85828b973": {
      "model_module": "ipyevents",
      "model_module_version": "2.0.2",
      "model_name": "EventModel",
      "state": {
       "_supported_key_events": [
        "keydown",
        "keyup"
       ],
       "_supported_mouse_events": [
        "click",
        "auxclick",
        "dblclick",
        "mouseenter",
        "mouseleave",
        "mousedown",
        "mouseup",
        "mousemove",
        "wheel",
        "contextmenu",
        "dragstart",
        "drag",
        "dragend",
        "dragenter",
        "dragover",
        "dragleave",
        "drop"
       ],
       "_supported_touch_events": [
        "touchstart",
        "touchend",
        "touchmove",
        "touchcancel"
       ],
       "_view_module": "@jupyter-widgets/controls",
       "source": "IPY_MODEL_ce0f833ceca94151bcdbf9e638c1d9f9",
       "throttle_or_debounce": "",
       "watched_events": [
        "mouseenter",
        "mouseleave"
       ],
       "xy_coordinate_system": ""
      }
     },
     "10d8ed5ac19b4de8a013ceafa7813a7d": {
      "model_module": "jupyter-leaflet",
      "model_module_version": "^0.18",
      "model_name": "LeafletAttributionControlModel",
      "state": {
       "_model_module_version": "^0.18",
       "_view_module_version": "^0.18",
       "options": [
        "position",
        "prefix"
       ],
       "position": "bottomright",
       "prefix": "ipyleaflet"
      }
     },
     "11364c9d1fd943979ae2245ccbd0b99c": {
      "model_module": "@jupyter-widgets/controls",
      "model_module_version": "2.0.0",
      "model_name": "ToggleButtonStyleModel",
      "state": {
       "description_width": "",
       "font_family": null,
       "font_size": null,
       "font_style": null,
       "font_variant": null,
       "font_weight": null,
       "text_color": null,
       "text_decoration": null
      }
     },
     "115c2057df164577bb972d01e37481e9": {
      "model_module": "@jupyter-widgets/controls",
      "model_module_version": "2.0.0",
      "model_name": "ButtonStyleModel",
      "state": {
       "font_family": null,
       "font_size": null,
       "font_style": null,
       "font_variant": null,
       "font_weight": null,
       "text_color": null,
       "text_decoration": null
      }
     },
     "11ba86dfb2084822a9608c635e62263a": {
      "model_module": "@jupyter-widgets/controls",
      "model_module_version": "2.0.0",
      "model_name": "ToggleButtonModel",
      "state": {
       "button_style": "primary",
       "icon": "random",
       "layout": "IPY_MODEL_0f0585cd21be4baa835b64c1215ebab1",
       "style": "IPY_MODEL_29a6dd97d13247c5b3ddbc16cf02aa4c",
       "tooltip": "Sankey plots"
      }
     },
     "12df3e8456c1426588ef3360fe5e10e8": {
      "model_module": "@jupyter-widgets/controls",
      "model_module_version": "2.0.0",
      "model_name": "CheckboxStyleModel",
      "state": {
       "description_width": ""
      }
     },
     "13a83e1b7e3545c0bb63c45bb04dcbe3": {
      "model_module": "@jupyter-widgets/controls",
      "model_module_version": "2.0.0",
      "model_name": "ToggleButtonStyleModel",
      "state": {
       "description_width": "",
       "font_family": null,
       "font_size": null,
       "font_style": null,
       "font_variant": null,
       "font_weight": null,
       "text_color": null,
       "text_decoration": null
      }
     },
     "154bfaaa5b9b44a29a971ae0be94724e": {
      "model_module": "@jupyter-widgets/controls",
      "model_module_version": "2.0.0",
      "model_name": "ToggleButtonModel",
      "state": {
       "button_style": "primary",
       "icon": "gears",
       "layout": "IPY_MODEL_37843048449c4616a78de81558b9dd94",
       "style": "IPY_MODEL_a1753d9f8b0b424090cd03acf08f0d05",
       "tooltip": "WhiteboxTools for local geoprocessing"
      }
     },
     "1b53e3c161c241c7a18038e83c3fb126": {
      "model_module": "@jupyter-widgets/controls",
      "model_module_version": "2.0.0",
      "model_name": "ToggleButtonModel",
      "state": {
       "button_style": "primary",
       "icon": "globe",
       "layout": "IPY_MODEL_6cfd5462526545d8b1d48fe5f535465e",
       "style": "IPY_MODEL_5f3bcbfdc28242f797a2d4eeb9763be5",
       "tooltip": "Create timelapse"
      }
     },
     "1c5bac9383044e8f8fd0d8e76cc58b1d": {
      "model_module": "jupyter-leaflet",
      "model_module_version": "^0.18",
      "model_name": "LeafletTileLayerModel",
      "state": {
       "_model_module_version": "^0.18",
       "_view_module_version": "^0.18",
       "attribution": "&copy; <a href=\"https://www.openstreetmap.org/copyright\">OpenStreetMap</a> contributors",
       "base": true,
       "max_zoom": 19,
       "min_zoom": 1,
       "name": "OpenStreetMap.Mapnik",
       "options": [
        "attribution",
        "bounds",
        "detect_retina",
        "max_native_zoom",
        "max_zoom",
        "min_native_zoom",
        "min_zoom",
        "no_wrap",
        "tile_size",
        "tms",
        "zoom_offset"
       ],
       "url": "https://tile.openstreetmap.org/{z}/{x}/{y}.png"
      }
     },
     "1da7aac7e6ec4a9d88a30c4fc734cfdd": {
      "model_module": "@jupyter-widgets/controls",
      "model_module_version": "2.0.0",
      "model_name": "HBoxModel",
      "state": {
       "children": [
        "IPY_MODEL_4f319ebb69544ce592256daec997dd38",
        "IPY_MODEL_71934ead235c44c2ba116e685c0f0442"
       ],
       "layout": "IPY_MODEL_45aa0a38cbfc44c0a5925c81bc0f4896"
      }
     },
     "2037e388379b48528467913f536f7b4f": {
      "model_module": "@jupyter-widgets/base",
      "model_module_version": "2.0.0",
      "model_name": "LayoutModel",
      "state": {}
     },
     "209dbc76a0bf4e1ebba876512c9ddde1": {
      "model_module": "@jupyter-widgets/controls",
      "model_module_version": "2.0.0",
      "model_name": "ToggleButtonStyleModel",
      "state": {
       "description_width": "",
       "font_family": null,
       "font_size": null,
       "font_style": null,
       "font_variant": null,
       "font_weight": null,
       "text_color": null,
       "text_decoration": null
      }
     },
     "233be41b59b043a1acd6937040faadda": {
      "model_module": "@jupyter-widgets/controls",
      "model_module_version": "2.0.0",
      "model_name": "ToggleButtonStyleModel",
      "state": {
       "description_width": "",
       "font_family": null,
       "font_size": null,
       "font_style": null,
       "font_variant": null,
       "font_weight": null,
       "text_color": null,
       "text_decoration": null
      }
     },
     "23ab7a0a35ec4ec3ac3bb4722120481b": {
      "model_module": "@jupyter-widgets/controls",
      "model_module_version": "2.0.0",
      "model_name": "ToggleButtonStyleModel",
      "state": {
       "description_width": "",
       "font_family": null,
       "font_size": null,
       "font_style": null,
       "font_variant": null,
       "font_weight": null,
       "text_color": null,
       "text_decoration": null
      }
     },
     "23bb68d8ad01495495ed6a740f5a2f03": {
      "model_module": "@jupyter-widgets/controls",
      "model_module_version": "2.0.0",
      "model_name": "ToggleButtonStyleModel",
      "state": {
       "description_width": "",
       "font_family": null,
       "font_size": null,
       "font_style": null,
       "font_variant": null,
       "font_weight": null,
       "text_color": null,
       "text_decoration": null
      }
     },
     "29a6dd97d13247c5b3ddbc16cf02aa4c": {
      "model_module": "@jupyter-widgets/controls",
      "model_module_version": "2.0.0",
      "model_name": "ToggleButtonStyleModel",
      "state": {
       "description_width": "",
       "font_family": null,
       "font_size": null,
       "font_style": null,
       "font_variant": null,
       "font_weight": null,
       "text_color": null,
       "text_decoration": null
      }
     },
     "2b067eaa79eb4414bc8fb3da4f1c95e0": {
      "model_module": "@jupyter-widgets/controls",
      "model_module_version": "2.0.0",
      "model_name": "ToggleButtonStyleModel",
      "state": {
       "description_width": "",
       "font_family": null,
       "font_size": null,
       "font_style": null,
       "font_variant": null,
       "font_weight": null,
       "text_color": null,
       "text_decoration": null
      }
     },
     "2e7ae34b02344f76812801a0578f86c3": {
      "model_module": "@jupyter-widgets/controls",
      "model_module_version": "2.0.0",
      "model_name": "ToggleButtonStyleModel",
      "state": {
       "description_width": "",
       "font_family": null,
       "font_size": null,
       "font_style": null,
       "font_variant": null,
       "font_weight": null,
       "text_color": null,
       "text_decoration": null
      }
     },
     "377ba3ecc8c64599a030d406880894d3": {
      "model_module": "@jupyter-widgets/controls",
      "model_module_version": "2.0.0",
      "model_name": "HTMLStyleModel",
      "state": {
       "description_width": "",
       "font_size": null,
       "text_color": null
      }
     },
     "37843048449c4616a78de81558b9dd94": {
      "model_module": "@jupyter-widgets/base",
      "model_module_version": "2.0.0",
      "model_name": "LayoutModel",
      "state": {
       "height": "auto",
       "padding": "0px 0px 0px 4px",
       "width": "auto"
      }
     },
     "37bd286cdfde45b9a65bd24e5cf052f9": {
      "model_module": "@jupyter-widgets/controls",
      "model_module_version": "2.0.0",
      "model_name": "VBoxModel",
      "state": {
       "_dom_classes": [
        "geemap-light"
       ],
       "children": [
        "IPY_MODEL_84fff5005e1044c1af63dec00244ebc2",
        "IPY_MODEL_cbcc6c0f9a284c1a99a1d6cd2b370dce"
       ],
       "layout": "IPY_MODEL_41ceaf274ea04849bff6910fd2979abf"
      }
     },
     "3c3662f2b4da4a92914fb3a2a816ff6d": {
      "model_module": "@jupyter-widgets/controls",
      "model_module_version": "2.0.0",
      "model_name": "HBoxModel",
      "state": {
       "_dom_classes": [
        "geemap-light"
       ],
       "_view_count": 1,
       "children": [
        "IPY_MODEL_45307c12392846028f65651171732c23"
       ],
       "layout": "IPY_MODEL_abbb99fdfbe24a959453144317642794"
      }
     },
     "3e2e3f2fc46641a69d7969c2e1e0a98d": {
      "model_module": "@jupyter-widgets/base",
      "model_module_version": "2.0.0",
      "model_name": "LayoutModel",
      "state": {
       "height": "auto",
       "padding": "0px 0px 0px 4px",
       "width": "auto"
      }
     },
     "41ceaf274ea04849bff6910fd2979abf": {
      "model_module": "@jupyter-widgets/base",
      "model_module_version": "2.0.0",
      "model_name": "LayoutModel",
      "state": {}
     },
     "43ffe3e255c74a848a21c489e7fe23cc": {
      "model_module": "@jupyter-widgets/base",
      "model_module_version": "2.0.0",
      "model_name": "LayoutModel",
      "state": {
       "height": "28px",
       "padding": "0px 0px 0px 4px",
       "width": "28px"
      }
     },
     "44b2a229638f42dda00be43c267a916e": {
      "model_module": "@jupyter-widgets/controls",
      "model_module_version": "2.0.0",
      "model_name": "HTMLModel",
      "state": {
       "layout": "IPY_MODEL_045fcf9eb6d14d4c8246a9b2ea8ded91",
       "style": "IPY_MODEL_377ba3ecc8c64599a030d406880894d3"
      }
     },
     "45307c12392846028f65651171732c23": {
      "model_module": "@jupyter-widgets/controls",
      "model_module_version": "2.0.0",
      "model_name": "ToggleButtonModel",
      "state": {
       "icon": "globe",
       "layout": "IPY_MODEL_43ffe3e255c74a848a21c489e7fe23cc",
       "style": "IPY_MODEL_c028969130784b7aac04f0fbbce91a56",
       "tooltip": "Search location/data"
      }
     },
     "45aa0a38cbfc44c0a5925c81bc0f4896": {
      "model_module": "@jupyter-widgets/base",
      "model_module_version": "2.0.0",
      "model_name": "LayoutModel",
      "state": {}
     },
     "45f35f8fe50943e5a1c3177f5db0eb41": {
      "model_module": "@jupyter-widgets/base",
      "model_module_version": "2.0.0",
      "model_name": "LayoutModel",
      "state": {
       "grid_gap": "1px 1px",
       "grid_template_columns": "32px 32px 32px ",
       "grid_template_rows": "32px 32px ",
       "padding": "5px",
       "width": "109px"
      }
     },
     "4667baf723ad46e6b9b289c2906c97e2": {
      "model_module": "@jupyter-widgets/controls",
      "model_module_version": "2.0.0",
      "model_name": "DescriptionStyleModel",
      "state": {
       "description_width": ""
      }
     },
     "471ad113a2e04f3aafb2492845cf9a90": {
      "model_module": "jupyter-leaflet",
      "model_module_version": "^0.18",
      "model_name": "LeafletFullScreenControlModel",
      "state": {
       "_model_module_version": "^0.18",
       "_view_module_version": "^0.18",
       "options": [
        "position"
       ]
      }
     },
     "47b66ee751da46ce9d62f9433c5be685": {
      "model_module": "@jupyter-widgets/output",
      "model_module_version": "1.0.0",
      "model_name": "OutputModel",
      "state": {
       "layout": "IPY_MODEL_c0570b6ac64d44ff9deb01d4bff30f68"
      }
     },
     "4f319ebb69544ce592256daec997dd38": {
      "model_module": "@jupyter-widgets/controls",
      "model_module_version": "2.0.0",
      "model_name": "ButtonModel",
      "state": {
       "button_style": "primary",
       "description": "import",
       "layout": "IPY_MODEL_0d00376af63e4bc98089a4e1cbd6fe92",
       "style": "IPY_MODEL_ccb4564dbf8940279f8570ae0e710528",
       "tooltip": "Click to import the selected asset"
      }
     },
     "4ffa7a572b894e489bce5cbff7e90717": {
      "model_module": "@jupyter-widgets/base",
      "model_module_version": "2.0.0",
      "model_name": "LayoutModel",
      "state": {
       "height": "25px",
       "padding": "0px",
       "width": "25px"
      }
     },
     "502804564d804219a30f11b34d8135f0": {
      "model_module": "@jupyter-widgets/base",
      "model_module_version": "2.0.0",
      "model_name": "LayoutModel",
      "state": {
       "height": "auto",
       "padding": "0px 0px 0px 4px",
       "width": "auto"
      }
     },
     "50fc9563eb154fc3a3d0dee84e78a060": {
      "model_module": "jupyter-leaflet",
      "model_module_version": "^0.18",
      "model_name": "LeafletMapStyleModel",
      "state": {
       "_model_module_version": "^0.18",
       "cursor": "move"
      }
     },
     "524724628cb141e99b718f6630e9b992": {
      "model_module": "@jupyter-widgets/base",
      "model_module_version": "2.0.0",
      "model_name": "LayoutModel",
      "state": {}
     },
     "54f36c4dbf43455482ff2a39bb7ef7d7": {
      "model_module": "@jupyter-widgets/controls",
      "model_module_version": "2.0.0",
      "model_name": "CheckboxModel",
      "state": {
       "description": "All layers on/off",
       "disabled": false,
       "indent": false,
       "layout": "IPY_MODEL_57a71345ead1435ebd2859774635267f",
       "style": "IPY_MODEL_12df3e8456c1426588ef3360fe5e10e8",
       "value": false
      }
     },
     "56352377af074008ba3348ecb34209f9": {
      "model_module": "@jupyter-widgets/controls",
      "model_module_version": "2.0.0",
      "model_name": "GridBoxModel",
      "state": {
       "children": [
        "IPY_MODEL_08fec28fb9a9472eb1860292d0deb921",
        "IPY_MODEL_f67a928fb4c04eb69f6bab482d4de06e",
        "IPY_MODEL_1b53e3c161c241c7a18038e83c3fb126",
        "IPY_MODEL_f294f8167e764790854721a067d5b341",
        "IPY_MODEL_5fddfaf4399044cd865ed650c66a944c",
        "IPY_MODEL_e47f2832aa384249bb676714a2529adc"
       ],
       "layout": "IPY_MODEL_45f35f8fe50943e5a1c3177f5db0eb41"
      }
     },
     "57a71345ead1435ebd2859774635267f": {
      "model_module": "@jupyter-widgets/base",
      "model_module_version": "2.0.0",
      "model_name": "LayoutModel",
      "state": {
       "height": "18px",
       "padding": "0px 8px 25px 8px",
       "width": "30ex"
      }
     },
     "58292355648e437c83edcd080af73ae5": {
      "model_module": "@jupyter-widgets/base",
      "model_module_version": "2.0.0",
      "model_name": "LayoutModel",
      "state": {
       "height": "auto",
       "padding": "0px 0px 0px 4px",
       "width": "auto"
      }
     },
     "5f0e52b6642643e187966216f1a7fbd5": {
      "model_module": "@jupyter-widgets/base",
      "model_module_version": "2.0.0",
      "model_name": "LayoutModel",
      "state": {
       "height": "auto",
       "padding": "0px 0px 0px 4px",
       "width": "auto"
      }
     },
     "5f11ceb5d6414b4cad1c3ea4748dc0fe": {
      "model_module": "@jupyter-widgets/controls",
      "model_module_version": "2.0.0",
      "model_name": "ToggleButtonModel",
      "state": {
       "icon": "wrench",
       "layout": "IPY_MODEL_a1e4f5fb3fcc4248805fedb3e4ffed96",
       "style": "IPY_MODEL_233be41b59b043a1acd6937040faadda",
       "tooltip": "Toolbar"
      }
     },
     "5f3bcbfdc28242f797a2d4eeb9763be5": {
      "model_module": "@jupyter-widgets/controls",
      "model_module_version": "2.0.0",
      "model_name": "ToggleButtonStyleModel",
      "state": {
       "description_width": "",
       "font_family": null,
       "font_size": null,
       "font_style": null,
       "font_variant": null,
       "font_weight": null,
       "text_color": null,
       "text_decoration": null
      }
     },
     "5f76473a28cc4b1e9cb86c9f6057d7cb": {
      "model_module": "@jupyter-widgets/controls",
      "model_module_version": "2.0.0",
      "model_name": "ToggleButtonModel",
      "state": {
       "button_style": "primary",
       "icon": "fast-forward",
       "layout": "IPY_MODEL_dd4b17cdbace42bf91cd868e79142d28",
       "style": "IPY_MODEL_13a83e1b7e3545c0bb63c45bb04dcbe3",
       "tooltip": "Activate timeslider"
      }
     },
     "5fddfaf4399044cd865ed650c66a944c": {
      "model_module": "@jupyter-widgets/controls",
      "model_module_version": "2.0.0",
      "model_name": "ToggleButtonModel",
      "state": {
       "button_style": "primary",
       "icon": "retweet",
       "layout": "IPY_MODEL_8aba53e8e27d49fbb895cd8a129f876d",
       "style": "IPY_MODEL_11364c9d1fd943979ae2245ccbd0b99c",
       "tooltip": "Convert Earth Engine JavaScript to Python"
      }
     },
     "6acb923201f446df888877d8b6f78136": {
      "model_module": "@jupyter-widgets/controls",
      "model_module_version": "2.0.0",
      "model_name": "FloatSliderModel",
      "state": {
       "behavior": "drag-tap",
       "layout": "IPY_MODEL_a4a88253aaaf49008782e9c7033f300e",
       "max": 1,
       "readout": false,
       "step": 0.01,
       "style": "IPY_MODEL_6e86a9db74974d2ab778cc2d7ce96a7b",
       "value": 1
      }
     },
     "6b7a92af50144ce18bcaa246ab34c169": {
      "model_module": "@jupyter-widgets/base",
      "model_module_version": "2.0.0",
      "model_name": "LayoutModel",
      "state": {}
     },
     "6cfd5462526545d8b1d48fe5f535465e": {
      "model_module": "@jupyter-widgets/base",
      "model_module_version": "2.0.0",
      "model_name": "LayoutModel",
      "state": {
       "height": "auto",
       "padding": "0px 0px 0px 4px",
       "width": "auto"
      }
     },
     "6d9ce47322ba4cb6b846f23959e205b7": {
      "model_module": "@jupyter-widgets/base",
      "model_module_version": "2.0.0",
      "model_name": "LayoutModel",
      "state": {}
     },
     "6e86a9db74974d2ab778cc2d7ce96a7b": {
      "model_module": "@jupyter-widgets/controls",
      "model_module_version": "2.0.0",
      "model_name": "SliderStyleModel",
      "state": {
       "description_width": ""
      }
     },
     "6fbdaad530914076aaa21f0b65f3b56b": {
      "model_module": "jupyter-leaflet",
      "model_module_version": "^0.18",
      "model_name": "LeafletMeasureControlModel",
      "state": {
       "_model_module_version": "^0.18",
       "_view_module_version": "^0.18",
       "active_color": "orange",
       "options": [
        "active_color",
        "capture_z_index",
        "completed_color",
        "popup_options",
        "position",
        "primary_area_unit",
        "primary_length_unit",
        "secondary_area_unit",
        "secondary_length_unit"
       ],
       "position": "bottomleft",
       "primary_length_unit": "kilometers",
       "secondary_area_unit": null,
       "secondary_length_unit": null
      }
     },
     "71934ead235c44c2ba116e685c0f0442": {
      "model_module": "@jupyter-widgets/controls",
      "model_module_version": "2.0.0",
      "model_name": "DropdownModel",
      "state": {
       "index": null,
       "layout": "IPY_MODEL_002877cf20ed41bdaa58a9b0c7ab9464",
       "style": "IPY_MODEL_4667baf723ad46e6b9b289c2906c97e2"
      }
     },
     "74cfd0d7c6994f26bbbe6a1a79b28e64": {
      "model_module": "@jupyter-widgets/controls",
      "model_module_version": "2.0.0",
      "model_name": "ToggleButtonModel",
      "state": {
       "button_style": "primary",
       "icon": "eraser",
       "layout": "IPY_MODEL_c1c1476068714a7a8d9f6ef21032f85f",
       "style": "IPY_MODEL_ae606eff1c3a4251975f36996f594156",
       "tooltip": "Remove all drawn features"
      }
     },
     "7887f037e9da497b890a55c9744c8b80": {
      "model_module": "@jupyter-widgets/controls",
      "model_module_version": "2.0.0",
      "model_name": "ToggleButtonStyleModel",
      "state": {
       "description_width": "",
       "font_family": null,
       "font_size": null,
       "font_style": null,
       "font_variant": null,
       "font_weight": null,
       "text_color": null,
       "text_decoration": null
      }
     },
     "797a297a4a7146e58047747a084d0796": {
      "model_module": "@jupyter-widgets/base",
      "model_module_version": "2.0.0",
      "model_name": "LayoutModel",
      "state": {
       "height": "28px",
       "width": "72px"
      }
     },
     "7af1d46279714e98a2cce8af21598cf1": {
      "model_module": "jupyter-leaflet",
      "model_module_version": "^0.18",
      "model_name": "LeafletWidgetControlModel",
      "state": {
       "_model_module": "jupyter-leaflet",
       "_model_module_version": "^0.18",
       "_view_count": null,
       "_view_module": "jupyter-leaflet",
       "_view_module_version": "^0.18",
       "options": [
        "position",
        "transparent_bg"
       ],
       "position": "topleft",
       "widget": "IPY_MODEL_3c3662f2b4da4a92914fb3a2a816ff6d"
      }
     },
     "7b5ad4f4373c455ca7fb5226c573f3f0": {
      "model_module": "@jupyter-widgets/controls",
      "model_module_version": "2.0.0",
      "model_name": "ToggleButtonModel",
      "state": {
       "button_style": "primary",
       "icon": "adjust",
       "layout": "IPY_MODEL_5f0e52b6642643e187966216f1a7fbd5",
       "style": "IPY_MODEL_aba98fa3a67b4ffc8655c94943cf1919",
       "tooltip": "Planet imagery"
      }
     },
     "7bffc9e21ed2440783bcad759400089f": {
      "model_module": "@jupyter-widgets/controls",
      "model_module_version": "2.0.0",
      "model_name": "VBoxModel",
      "state": {
       "children": [
        "IPY_MODEL_56352377af074008ba3348ecb34209f9"
       ],
       "layout": "IPY_MODEL_6b7a92af50144ce18bcaa246ab34c169"
      }
     },
     "7f325498e26c488ba447fcb49cac5151": {
      "model_module": "@jupyter-widgets/controls",
      "model_module_version": "2.0.0",
      "model_name": "DescriptionStyleModel",
      "state": {
       "description_width": ""
      }
     },
     "84fff5005e1044c1af63dec00244ebc2": {
      "model_module": "@jupyter-widgets/controls",
      "model_module_version": "2.0.0",
      "model_name": "HBoxModel",
      "state": {
       "children": [
        "IPY_MODEL_94cd4bb0400d4b23a3d5a70213528e52",
        "IPY_MODEL_e31dce8ea73843059b8adc400588e382"
       ],
       "layout": "IPY_MODEL_ae6ccf0d8ef74af694dee6ba7b74286d"
      }
     },
     "85da6c2ae92c422d84431471d25ee1a9": {
      "model_module": "@jupyter-widgets/controls",
      "model_module_version": "2.0.0",
      "model_name": "ToggleButtonsModel",
      "state": {
       "_options_labels": [
        "name/address",
        "lat-lon",
        "data"
       ],
       "button_style": "",
       "icons": [],
       "index": 0,
       "layout": "IPY_MODEL_2037e388379b48528467913f536f7b4f",
       "style": "IPY_MODEL_e84f9be02d5645ce8523368864d96b6b",
       "tooltips": [
        "Search by place name or address",
        "Search by lat-lon coordinates",
        "Search Earth Engine data catalog"
       ]
      }
     },
     "88ddb97468d34e3193b54cf84c143d0b": {
      "model_module": "@jupyter-widgets/base",
      "model_module_version": "2.0.0",
      "model_name": "LayoutModel",
      "state": {
       "height": "auto",
       "padding": "0px 0px 0px 4px",
       "width": "auto"
      }
     },
     "895a594ca10541358cf2cd7afafcb00d": {
      "model_module": "@jupyter-widgets/controls",
      "model_module_version": "2.0.0",
      "model_name": "ToggleButtonModel",
      "state": {
       "button_style": "primary",
       "icon": "question",
       "layout": "IPY_MODEL_c2aa7ac993384a138eb55c3991defbc6",
       "style": "IPY_MODEL_95b33939916b4b9480c5dcba14d74a82",
       "tooltip": "Get help"
      }
     },
     "8aba53e8e27d49fbb895cd8a129f876d": {
      "model_module": "@jupyter-widgets/base",
      "model_module_version": "2.0.0",
      "model_name": "LayoutModel",
      "state": {
       "height": "auto",
       "padding": "0px 0px 0px 4px",
       "width": "auto"
      }
     },
     "94cd4bb0400d4b23a3d5a70213528e52": {
      "model_module": "@jupyter-widgets/controls",
      "model_module_version": "2.0.0",
      "model_name": "ButtonModel",
      "state": {
       "button_style": "primary",
       "icon": "times",
       "layout": "IPY_MODEL_a5316633e110495b89a5d381deb15cb9",
       "style": "IPY_MODEL_d94be4558dd2489d97b8c96ddbd5d402",
       "tooltip": "Close the tool"
      }
     },
     "95b33939916b4b9480c5dcba14d74a82": {
      "model_module": "@jupyter-widgets/controls",
      "model_module_version": "2.0.0",
      "model_name": "ToggleButtonStyleModel",
      "state": {
       "description_width": "",
       "font_family": null,
       "font_size": null,
       "font_style": null,
       "font_variant": null,
       "font_weight": null,
       "text_color": null,
       "text_decoration": null
      }
     },
     "966793c37d0f4b3e82b0f3bdc414722c": {
      "model_module": "@jupyter-widgets/base",
      "model_module_version": "2.0.0",
      "model_name": "LayoutModel",
      "state": {
       "padding": "0px 8px 0px 8px"
      }
     },
     "97b20c0114324ef5bd7fdacb9eb0e618": {
      "model_module": "@jupyter-widgets/controls",
      "model_module_version": "2.0.0",
      "model_name": "ToggleButtonStyleModel",
      "state": {
       "description_width": "",
       "font_family": null,
       "font_size": null,
       "font_style": null,
       "font_variant": null,
       "font_weight": null,
       "text_color": null,
       "text_decoration": null
      }
     },
     "98e96329eeaf4ae59bff56312b15cc8a": {
      "model_module": "@jupyter-widgets/base",
      "model_module_version": "2.0.0",
      "model_name": "LayoutModel",
      "state": {}
     },
     "9c7588f4809c4232918456fa007aafac": {
      "model_module": "@jupyter-widgets/base",
      "model_module_version": "2.0.0",
      "model_name": "LayoutModel",
      "state": {
       "width": "500px"
      }
     },
     "9f57f647b1e44563b37edac541b451ac": {
      "model_module": "jupyter-leaflet",
      "model_module_version": "^0.18",
      "model_name": "LeafletMapStyleModel",
      "state": {
       "_model_module_version": "^0.18"
      }
     },
     "a1753d9f8b0b424090cd03acf08f0d05": {
      "model_module": "@jupyter-widgets/controls",
      "model_module_version": "2.0.0",
      "model_name": "ToggleButtonStyleModel",
      "state": {
       "description_width": "",
       "font_family": null,
       "font_size": null,
       "font_style": null,
       "font_variant": null,
       "font_weight": null,
       "text_color": null,
       "text_decoration": null
      }
     },
     "a1e4f5fb3fcc4248805fedb3e4ffed96": {
      "model_module": "@jupyter-widgets/base",
      "model_module_version": "2.0.0",
      "model_name": "LayoutModel",
      "state": {
       "height": "28px",
       "padding": "0px 0px 0px 4px",
       "width": "28px"
      }
     },
     "a4a88253aaaf49008782e9c7033f300e": {
      "model_module": "@jupyter-widgets/base",
      "model_module_version": "2.0.0",
      "model_name": "LayoutModel",
      "state": {
       "width": "80px"
      }
     },
     "a5316633e110495b89a5d381deb15cb9": {
      "model_module": "@jupyter-widgets/base",
      "model_module_version": "2.0.0",
      "model_name": "LayoutModel",
      "state": {
       "height": "28px",
       "padding": "0px",
       "width": "28px"
      }
     },
     "a668f7bf07c8416a8e0e8415f7574f9d": {
      "model_module": "@jupyter-widgets/base",
      "model_module_version": "2.0.0",
      "model_name": "LayoutModel",
      "state": {
       "height": "auto",
       "padding": "0px 0px 0px 4px",
       "width": "auto"
      }
     },
     "a965a016a51349ffb674e6a7817ed194": {
      "model_module": "@jupyter-widgets/base",
      "model_module_version": "2.0.0",
      "model_name": "LayoutModel",
      "state": {
       "height": "auto",
       "padding": "0px 0px 0px 4px",
       "width": "auto"
      }
     },
     "aba98fa3a67b4ffc8655c94943cf1919": {
      "model_module": "@jupyter-widgets/controls",
      "model_module_version": "2.0.0",
      "model_name": "ToggleButtonStyleModel",
      "state": {
       "description_width": "",
       "font_family": null,
       "font_size": null,
       "font_style": null,
       "font_variant": null,
       "font_weight": null,
       "text_color": null,
       "text_decoration": null
      }
     },
     "abbb3c6850a4436d8f9f633b7f594769": {
      "model_module": "@jupyter-widgets/base",
      "model_module_version": "2.0.0",
      "model_name": "LayoutModel",
      "state": {
       "height": "600px"
      }
     },
     "abbb99fdfbe24a959453144317642794": {
      "model_module": "@jupyter-widgets/base",
      "model_module_version": "2.0.0",
      "model_name": "LayoutModel",
      "state": {}
     },
     "adb44342d356485b8b1eafb6d2c99c9f": {
      "model_module": "@jupyter-widgets/base",
      "model_module_version": "2.0.0",
      "model_name": "LayoutModel",
      "state": {
       "height": "auto",
       "padding": "0px 0px 0px 4px",
       "width": "auto"
      }
     },
     "ae606eff1c3a4251975f36996f594156": {
      "model_module": "@jupyter-widgets/controls",
      "model_module_version": "2.0.0",
      "model_name": "ToggleButtonStyleModel",
      "state": {
       "description_width": "",
       "font_family": null,
       "font_size": null,
       "font_style": null,
       "font_variant": null,
       "font_weight": null,
       "text_color": null,
       "text_decoration": null
      }
     },
     "ae6ccf0d8ef74af694dee6ba7b74286d": {
      "model_module": "@jupyter-widgets/base",
      "model_module_version": "2.0.0",
      "model_name": "LayoutModel",
      "state": {
       "display": "none"
      }
     },
     "b1564159780e4552a12da6fdf5d175fa": {
      "model_module": "jupyter-leaflet",
      "model_module_version": "^0.18",
      "model_name": "LeafletZoomControlModel",
      "state": {
       "_model_module_version": "^0.18",
       "_view_module_version": "^0.18",
       "options": [
        "position",
        "zoom_in_text",
        "zoom_in_title",
        "zoom_out_text",
        "zoom_out_title"
       ]
      }
     },
     "b8eba405c6544bcc9525871dc9abc0fe": {
      "model_module": "@jupyter-widgets/base",
      "model_module_version": "2.0.0",
      "model_name": "LayoutModel",
      "state": {
       "height": "28px",
       "padding": "0px 0px 0px 4px",
       "width": "28px"
      }
     },
     "bae32232cea343f0a716cae744784e6d": {
      "model_module": "@jupyter-widgets/controls",
      "model_module_version": "2.0.0",
      "model_name": "RadioButtonsModel",
      "state": {
       "index": null,
       "layout": "IPY_MODEL_6d9ce47322ba4cb6b846f23959e205b7",
       "style": "IPY_MODEL_7f325498e26c488ba447fcb49cac5151"
      }
     },
     "bc4a3407ae854525a4b16041a6922552": {
      "model_module": "jupyter-leaflet",
      "model_module_version": "^0.18",
      "model_name": "LeafletWidgetControlModel",
      "state": {
       "_model_module": "jupyter-leaflet",
       "_model_module_version": "^0.18",
       "_view_count": null,
       "_view_module": "jupyter-leaflet",
       "_view_module_version": "^0.18",
       "options": [
        "position",
        "transparent_bg"
       ],
       "position": "topright",
       "widget": "IPY_MODEL_ce0f833ceca94151bcdbf9e638c1d9f9"
      }
     },
     "be05270aefe2484194f181c1f0f70c2a": {
      "model_module": "@jupyter-widgets/controls",
      "model_module_version": "2.0.0",
      "model_name": "HBoxModel",
      "state": {
       "children": [
        "IPY_MODEL_0d6e5023aaf84324a8d1d141ba183809",
        "IPY_MODEL_5f11ceb5d6414b4cad1c3ea4748dc0fe"
       ],
       "layout": "IPY_MODEL_98e96329eeaf4ae59bff56312b15cc8a"
      }
     },
     "be740f4f0c2a4fd2bccfefebc48d3957": {
      "model_module": "@jupyter-widgets/controls",
      "model_module_version": "2.0.0",
      "model_name": "ToggleButtonModel",
      "state": {
       "button_style": "primary",
       "icon": "google",
       "layout": "IPY_MODEL_3e2e3f2fc46641a69d7969c2e1e0a98d",
       "style": "IPY_MODEL_23ab7a0a35ec4ec3ac3bb4722120481b",
       "tooltip": "GEE Toolbox for cloud computing"
      }
     },
     "c028969130784b7aac04f0fbbce91a56": {
      "model_module": "@jupyter-widgets/controls",
      "model_module_version": "2.0.0",
      "model_name": "ToggleButtonStyleModel",
      "state": {
       "description_width": "",
       "font_family": null,
       "font_size": null,
       "font_style": null,
       "font_variant": null,
       "font_weight": null,
       "text_color": null,
       "text_decoration": null
      }
     },
     "c0570b6ac64d44ff9deb01d4bff30f68": {
      "model_module": "@jupyter-widgets/base",
      "model_module_version": "2.0.0",
      "model_name": "LayoutModel",
      "state": {
       "max_height": "350px",
       "max_width": "340px",
       "overflow": "scroll"
      }
     },
     "c1c1476068714a7a8d9f6ef21032f85f": {
      "model_module": "@jupyter-widgets/base",
      "model_module_version": "2.0.0",
      "model_name": "LayoutModel",
      "state": {
       "height": "auto",
       "padding": "0px 0px 0px 4px",
       "width": "auto"
      }
     },
     "c271de06500941e08eedb893363f5f81": {
      "model_module": "jupyter-leaflet",
      "model_module_version": "^0.18",
      "model_name": "LeafletMapStyleModel",
      "state": {
       "_model_module_version": "^0.18"
      }
     },
     "c2aa7ac993384a138eb55c3991defbc6": {
      "model_module": "@jupyter-widgets/base",
      "model_module_version": "2.0.0",
      "model_name": "LayoutModel",
      "state": {
       "height": "auto",
       "padding": "0px 0px 0px 4px",
       "width": "auto"
      }
     },
     "c5c6dfb15a7c476eb48b376179761e25": {
      "model_module": "@jupyter-widgets/controls",
      "model_module_version": "2.0.0",
      "model_name": "ToggleButtonStyleModel",
      "state": {
       "description_width": "",
       "font_family": null,
       "font_size": null,
       "font_style": null,
       "font_variant": null,
       "font_weight": null,
       "text_color": null,
       "text_decoration": null
      }
     },
     "c6e7c23fedc14a9ea794ef0031fbf7c5": {
      "model_module": "@jupyter-widgets/base",
      "model_module_version": "2.0.0",
      "model_name": "LayoutModel",
      "state": {}
     },
     "ca4fd460b6c749bb80ef07f0226e7f5c": {
      "model_module": "@jupyter-widgets/controls",
      "model_module_version": "2.0.0",
      "model_name": "ToggleButtonStyleModel",
      "state": {
       "description_width": "",
       "font_family": null,
       "font_size": null,
       "font_style": null,
       "font_variant": null,
       "font_weight": null,
       "text_color": null,
       "text_decoration": null
      }
     },
     "cbcc6c0f9a284c1a99a1d6cd2b370dce": {
      "model_module": "@jupyter-widgets/controls",
      "model_module_version": "2.0.0",
      "model_name": "VBoxModel",
      "state": {
       "children": [
        "IPY_MODEL_54f36c4dbf43455482ff2a39bb7ef7d7",
        "IPY_MODEL_d8574e5499a546899c3dc7ed98fe36c3"
       ],
       "layout": "IPY_MODEL_524724628cb141e99b718f6630e9b992"
      }
     },
     "cc70ac7ddb804e24af9d18dba2312abf": {
      "model_module": "jupyter-leaflet",
      "model_module_version": "^0.18",
      "model_name": "LeafletScaleControlModel",
      "state": {
       "_model_module_version": "^0.18",
       "_view_module_version": "^0.18",
       "imperial": true,
       "max_width": 100,
       "metric": true,
       "options": [
        "imperial",
        "max_width",
        "metric",
        "position",
        "update_when_idle"
       ],
       "position": "bottomleft",
       "update_when_idle": false
      }
     },
     "ccb4564dbf8940279f8570ae0e710528": {
      "model_module": "@jupyter-widgets/controls",
      "model_module_version": "2.0.0",
      "model_name": "ButtonStyleModel",
      "state": {
       "font_family": null,
       "font_size": null,
       "font_style": null,
       "font_variant": null,
       "font_weight": null,
       "text_color": null,
       "text_decoration": null
      }
     },
     "ccc1f442e757449ead7b9c179d0a3352": {
      "model_module": "@jupyter-widgets/controls",
      "model_module_version": "2.0.0",
      "model_name": "ToggleButtonModel",
      "state": {
       "button_style": "primary",
       "icon": "line-chart",
       "layout": "IPY_MODEL_f0ab2ed4b4e34a8da173cd6d8511d8a7",
       "style": "IPY_MODEL_2e7ae34b02344f76812801a0578f86c3",
       "tooltip": "Creating and plotting transects"
      }
     },
     "ce0f833ceca94151bcdbf9e638c1d9f9": {
      "model_module": "@jupyter-widgets/controls",
      "model_module_version": "2.0.0",
      "model_name": "VBoxModel",
      "state": {
       "_dom_classes": [
        "geemap-light"
       ],
       "_view_count": 1,
       "children": [
        "IPY_MODEL_5f11ceb5d6414b4cad1c3ea4748dc0fe"
       ],
       "layout": "IPY_MODEL_e13080fc3ce349ed84efcaf1111bb9bd"
      }
     },
     "d2fc96111f7e43b188357943a79a8189": {
      "model_module": "jupyter-leaflet",
      "model_module_version": "^0.18",
      "model_name": "LeafletMapModel",
      "state": {
       "_model_module_version": "^0.18",
       "_view_module_version": "^0.18",
       "bottom": 812,
       "controls": [
        "IPY_MODEL_7af1d46279714e98a2cce8af21598cf1",
        "IPY_MODEL_b1564159780e4552a12da6fdf5d175fa",
        "IPY_MODEL_471ad113a2e04f3aafb2492845cf9a90",
        "IPY_MODEL_ddffb2a610814b0b80549d2406f6e64a",
        "IPY_MODEL_cc70ac7ddb804e24af9d18dba2312abf",
        "IPY_MODEL_6fbdaad530914076aaa21f0b65f3b56b",
        "IPY_MODEL_bc4a3407ae854525a4b16041a6922552",
        "IPY_MODEL_10d8ed5ac19b4de8a013ceafa7813a7d"
       ],
       "default_style": "IPY_MODEL_9f57f647b1e44563b37edac541b451ac",
       "dragging_style": "IPY_MODEL_50fc9563eb154fc3a3d0dee84e78a060",
       "east": 174.0234375,
       "fullscreen": false,
       "interpolation": "bilinear",
       "layers": [
        "IPY_MODEL_1c5bac9383044e8f8fd0d8e76cc58b1d"
       ],
       "layout": "IPY_MODEL_abbb3c6850a4436d8f9f633b7f594769",
       "left": 17,
       "max_zoom": 24,
       "modisdate": "2024-03-06",
       "north": 71.9653876991313,
       "options": [
        "bounce_at_zoom_limits",
        "box_zoom",
        "center",
        "close_popup_on_click",
        "double_click_zoom",
        "dragging",
        "fullscreen",
        "inertia",
        "inertia_deceleration",
        "inertia_max_speed",
        "interpolation",
        "keyboard",
        "keyboard_pan_offset",
        "keyboard_zoom_offset",
        "max_zoom",
        "min_zoom",
        "prefer_canvas",
        "scroll_wheel_zoom",
        "tap",
        "tap_tolerance",
        "touch_zoom",
        "world_copy_jump",
        "zoom",
        "zoom_animation_threshold",
        "zoom_delta",
        "zoom_snap"
       ],
       "prefer_canvas": false,
       "right": 1007,
       "scroll_wheel_zoom": true,
       "south": -71.96538769913128,
       "style": "IPY_MODEL_c271de06500941e08eedb893363f5f81",
       "top": 212,
       "west": -174.0234375,
       "window_url": "http://localhost:8888/lab",
       "zoom": 2
      }
     },
     "d81a9ddd81ce4ab9b09af8b3d72da5e9": {
      "model_module": "@jupyter-widgets/controls",
      "model_module_version": "2.0.0",
      "model_name": "TextStyleModel",
      "state": {
       "description_width": "",
       "font_size": null,
       "text_color": null
      }
     },
     "d8574e5499a546899c3dc7ed98fe36c3": {
      "model_module": "@jupyter-widgets/controls",
      "model_module_version": "2.0.0",
      "model_name": "HBoxModel",
      "state": {
       "children": [
        "IPY_MODEL_0fe57ccfeaef4d2183bcf9cffe237165",
        "IPY_MODEL_e8c33a32ac9b4604967f483a94c0391c",
        "IPY_MODEL_6acb923201f446df888877d8b6f78136"
       ],
       "layout": "IPY_MODEL_966793c37d0f4b3e82b0f3bdc414722c"
      }
     },
     "d94be4558dd2489d97b8c96ddbd5d402": {
      "model_module": "@jupyter-widgets/controls",
      "model_module_version": "2.0.0",
      "model_name": "ButtonStyleModel",
      "state": {
       "font_family": null,
       "font_size": null,
       "font_style": null,
       "font_variant": null,
       "font_weight": null,
       "text_color": null,
       "text_decoration": null
      }
     },
     "dd4b17cdbace42bf91cd868e79142d28": {
      "model_module": "@jupyter-widgets/base",
      "model_module_version": "2.0.0",
      "model_name": "LayoutModel",
      "state": {
       "height": "auto",
       "padding": "0px 0px 0px 4px",
       "width": "auto"
      }
     },
     "ddffb2a610814b0b80549d2406f6e64a": {
      "model_module": "jupyter-leaflet",
      "model_module_version": "^0.18",
      "model_name": "LeafletDrawControlModel",
      "state": {
       "_model_module_version": "^0.18",
       "_view_module_version": "^0.18",
       "marker": {
        "shapeOptions": {
         "color": "#3388ff"
        }
       },
       "options": [
        "position"
       ],
       "polygon": {
        "shapeOptions": {
         "clickable": true,
         "color": "#3388ff",
         "fill": true,
         "fillColor": null,
         "fillOpacity": 0.2,
         "opacity": 0.5,
         "stroke": true,
         "weight": 4
        }
       },
       "polyline": {
        "shapeOptions": {
         "clickable": true,
         "color": "#3388ff",
         "fill": false,
         "opacity": 0.5,
         "stroke": true,
         "weight": 4
        }
       },
       "rectangle": {
        "shapeOptions": {
         "clickable": true,
         "color": "#3388ff",
         "fill": true,
         "fillColor": null,
         "fillOpacity": 0.2,
         "opacity": 0.5,
         "stroke": true,
         "weight": 4
        }
       }
      }
     },
     "dfdb74897c8541b1b789da23986baca2": {
      "model_module": "@jupyter-widgets/controls",
      "model_module_version": "2.0.0",
      "model_name": "ToggleButtonStyleModel",
      "state": {
       "description_width": "",
       "font_family": null,
       "font_size": null,
       "font_style": null,
       "font_variant": null,
       "font_weight": null,
       "text_color": null,
       "text_decoration": null
      }
     },
     "e13080fc3ce349ed84efcaf1111bb9bd": {
      "model_module": "@jupyter-widgets/base",
      "model_module_version": "2.0.0",
      "model_name": "LayoutModel",
      "state": {}
     },
     "e31dce8ea73843059b8adc400588e382": {
      "model_module": "@jupyter-widgets/controls",
      "model_module_version": "2.0.0",
      "model_name": "ToggleButtonModel",
      "state": {
       "icon": "server",
       "layout": "IPY_MODEL_b8eba405c6544bcc9525871dc9abc0fe",
       "style": "IPY_MODEL_035e3c115ec74210bc999e54dc55af85",
       "tooltip": "Layer Manager",
       "value": true
      }
     },
     "e3dac55bb16541a383ee2c5661cbe42c": {
      "model_module": "@jupyter-widgets/base",
      "model_module_version": "2.0.0",
      "model_name": "LayoutModel",
      "state": {
       "height": "18px",
       "width": "140px"
      }
     },
     "e47f2832aa384249bb676714a2529adc": {
      "model_module": "@jupyter-widgets/controls",
      "model_module_version": "2.0.0",
      "model_name": "ToggleButtonModel",
      "state": {
       "button_style": "primary",
       "icon": "plus",
       "layout": "IPY_MODEL_502804564d804219a30f11b34d8135f0",
       "style": "IPY_MODEL_ca4fd460b6c749bb80ef07f0226e7f5c",
       "tooltip": "Expand toolbar"
      }
     },
     "e4a3bf62c55e4e0f98b07a4d480d249f": {
      "model_module": "ipyevents",
      "model_module_version": "2.0.2",
      "model_name": "EventModel",
      "state": {
       "_supported_key_events": [
        "keydown",
        "keyup"
       ],
       "_supported_mouse_events": [
        "click",
        "auxclick",
        "dblclick",
        "mouseenter",
        "mouseleave",
        "mousedown",
        "mouseup",
        "mousemove",
        "wheel",
        "contextmenu",
        "dragstart",
        "drag",
        "dragend",
        "dragenter",
        "dragover",
        "dragleave",
        "drop"
       ],
       "_supported_touch_events": [
        "touchstart",
        "touchend",
        "touchmove",
        "touchcancel"
       ],
       "_view_module": "@jupyter-widgets/controls",
       "source": "IPY_MODEL_3c3662f2b4da4a92914fb3a2a816ff6d",
       "throttle_or_debounce": "",
       "watched_events": [
        "mouseenter",
        "mouseleave"
       ],
       "xy_coordinate_system": ""
      }
     },
     "e79a7a072ba54743b97b5f8de8d94348": {
      "model_module": "@jupyter-widgets/controls",
      "model_module_version": "2.0.0",
      "model_name": "VBoxModel",
      "state": {
       "children": [
        "IPY_MODEL_85da6c2ae92c422d84431471d25ee1a9",
        "IPY_MODEL_f0d5f47d0fdc42bca4a04a3bb7198caa"
       ],
       "layout": "IPY_MODEL_c6e7c23fedc14a9ea794ef0031fbf7c5"
      }
     },
     "e84f9be02d5645ce8523368864d96b6b": {
      "model_module": "@jupyter-widgets/controls",
      "model_module_version": "2.0.0",
      "model_name": "ToggleButtonsStyleModel",
      "state": {
       "button_width": "110px",
       "description_width": ""
      }
     },
     "e8c33a32ac9b4604967f483a94c0391c": {
      "model_module": "@jupyter-widgets/controls",
      "model_module_version": "2.0.0",
      "model_name": "ButtonModel",
      "state": {
       "icon": "gear",
       "layout": "IPY_MODEL_4ffa7a572b894e489bce5cbff7e90717",
       "style": "IPY_MODEL_115c2057df164577bb972d01e37481e9",
       "tooltip": "OpenStreetMap.Mapnik"
      }
     },
     "eae967aa36a742ebb05b1e4ababe8009": {
      "model_module": "@jupyter-widgets/controls",
      "model_module_version": "2.0.0",
      "model_name": "ToggleButtonModel",
      "state": {
       "button_style": "primary",
       "icon": "folder-open",
       "layout": "IPY_MODEL_a668f7bf07c8416a8e0e8415f7574f9d",
       "style": "IPY_MODEL_7887f037e9da497b890a55c9744c8b80",
       "tooltip": "Open local vector/raster data"
      }
     },
     "f0ab2ed4b4e34a8da173cd6d8511d8a7": {
      "model_module": "@jupyter-widgets/base",
      "model_module_version": "2.0.0",
      "model_name": "LayoutModel",
      "state": {
       "height": "auto",
       "padding": "0px 0px 0px 4px",
       "width": "auto"
      }
     },
     "f0d5f47d0fdc42bca4a04a3bb7198caa": {
      "model_module": "@jupyter-widgets/controls",
      "model_module_version": "2.0.0",
      "model_name": "TextModel",
      "state": {
       "layout": "IPY_MODEL_fd6438e30a0449ce864034d81b039914",
       "placeholder": "Search by place name or address",
       "style": "IPY_MODEL_d81a9ddd81ce4ab9b09af8b3d72da5e9",
       "tooltip": "Search location"
      }
     },
     "f294f8167e764790854721a067d5b341": {
      "model_module": "@jupyter-widgets/controls",
      "model_module_version": "2.0.0",
      "model_name": "ToggleButtonModel",
      "state": {
       "button_style": "primary",
       "icon": "map",
       "layout": "IPY_MODEL_58292355648e437c83edcd080af73ae5",
       "style": "IPY_MODEL_2b067eaa79eb4414bc8fb3da4f1c95e0",
       "tooltip": "Change basemap"
      }
     },
     "f67a928fb4c04eb69f6bab482d4de06e": {
      "model_module": "@jupyter-widgets/controls",
      "model_module_version": "2.0.0",
      "model_name": "ToggleButtonModel",
      "state": {
       "button_style": "primary",
       "icon": "bar-chart",
       "layout": "IPY_MODEL_88ddb97468d34e3193b54cf84c143d0b",
       "style": "IPY_MODEL_dfdb74897c8541b1b789da23986baca2",
       "tooltip": "Plotting"
      }
     },
     "fa12532531e6497e95b58809c835491d": {
      "model_module": "@jupyter-widgets/controls",
      "model_module_version": "2.0.0",
      "model_name": "ToggleButtonModel",
      "state": {
       "button_style": "primary",
       "icon": "info-circle",
       "layout": "IPY_MODEL_adb44342d356485b8b1eafb6d2c99c9f",
       "style": "IPY_MODEL_c5c6dfb15a7c476eb48b376179761e25",
       "tooltip": "Get COG/STAC pixel value"
      }
     },
     "fd6438e30a0449ce864034d81b039914": {
      "model_module": "@jupyter-widgets/base",
      "model_module_version": "2.0.0",
      "model_name": "LayoutModel",
      "state": {
       "width": "340px"
      }
     },
     "fe27d73eda334d76b1b27377503550b5": {
      "model_module": "@jupyter-widgets/controls",
      "model_module_version": "2.0.0",
      "model_name": "CheckboxStyleModel",
      "state": {
       "description_width": ""
      }
     }
    },
    "version_major": 2,
    "version_minor": 0
   }
  }
 },
 "nbformat": 4,
 "nbformat_minor": 5
}
