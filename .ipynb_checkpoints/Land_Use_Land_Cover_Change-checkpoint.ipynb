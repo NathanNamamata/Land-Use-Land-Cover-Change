{
 "cells": [
  {
   "cell_type": "code",
   "execution_count": 55,
   "id": "38164953-42b9-4cde-95de-a9fbe0f2eb31",
   "metadata": {},
   "outputs": [
    {
     "data": {
      "text/html": [
       "\n",
       "            <style>\n",
       "                .geemap-dark {\n",
       "                    --jp-widgets-color: white;\n",
       "                    --jp-widgets-label-color: white;\n",
       "                    --jp-ui-font-color1: white;\n",
       "                    --jp-layout-color2: #454545;\n",
       "                    background-color: #383838;\n",
       "                }\n",
       "\n",
       "                .geemap-dark .jupyter-button {\n",
       "                    --jp-layout-color3: #383838;\n",
       "                }\n",
       "\n",
       "                .geemap-colab {\n",
       "                    background-color: var(--colab-primary-surface-color, white);\n",
       "                }\n",
       "\n",
       "                .geemap-colab .jupyter-button {\n",
       "                    --jp-layout-color3: var(--colab-primary-surface-color, white);\n",
       "                }\n",
       "            </style>\n",
       "            "
      ],
      "text/plain": [
       "<IPython.core.display.HTML object>"
      ]
     },
     "metadata": {},
     "output_type": "display_data"
    }
   ],
   "source": [
    "import geemap\n",
    "import ee\n",
    "import numpy as np\n",
    "import matplotlib.pyplot as plt"
   ]
  },
  {
   "cell_type": "code",
   "execution_count": 37,
   "id": "39529fa9-bdd4-457d-a576-36bab60132ca",
   "metadata": {},
   "outputs": [
    {
     "data": {
      "text/html": [
       "\n",
       "            <style>\n",
       "                .geemap-dark {\n",
       "                    --jp-widgets-color: white;\n",
       "                    --jp-widgets-label-color: white;\n",
       "                    --jp-ui-font-color1: white;\n",
       "                    --jp-layout-color2: #454545;\n",
       "                    background-color: #383838;\n",
       "                }\n",
       "\n",
       "                .geemap-dark .jupyter-button {\n",
       "                    --jp-layout-color3: #383838;\n",
       "                }\n",
       "\n",
       "                .geemap-colab {\n",
       "                    background-color: var(--colab-primary-surface-color, white);\n",
       "                }\n",
       "\n",
       "                .geemap-colab .jupyter-button {\n",
       "                    --jp-layout-color3: var(--colab-primary-surface-color, white);\n",
       "                }\n",
       "            </style>\n",
       "            "
      ],
      "text/plain": [
       "<IPython.core.display.HTML object>"
      ]
     },
     "metadata": {},
     "output_type": "display_data"
    }
   ],
   "source": [
    "ee.Initialize()"
   ]
  },
  {
   "cell_type": "code",
   "execution_count": 38,
   "id": "124e6c78-5c75-4a31-ba49-658436375ef1",
   "metadata": {},
   "outputs": [
    {
     "data": {
      "text/html": [
       "\n",
       "            <style>\n",
       "                .geemap-dark {\n",
       "                    --jp-widgets-color: white;\n",
       "                    --jp-widgets-label-color: white;\n",
       "                    --jp-ui-font-color1: white;\n",
       "                    --jp-layout-color2: #454545;\n",
       "                    background-color: #383838;\n",
       "                }\n",
       "\n",
       "                .geemap-dark .jupyter-button {\n",
       "                    --jp-layout-color3: #383838;\n",
       "                }\n",
       "\n",
       "                .geemap-colab {\n",
       "                    background-color: var(--colab-primary-surface-color, white);\n",
       "                }\n",
       "\n",
       "                .geemap-colab .jupyter-button {\n",
       "                    --jp-layout-color3: var(--colab-primary-surface-color, white);\n",
       "                }\n",
       "            </style>\n",
       "            "
      ],
      "text/plain": [
       "<IPython.core.display.HTML object>"
      ]
     },
     "metadata": {},
     "output_type": "display_data"
    },
    {
     "name": "stdout",
     "output_type": "stream",
     "text": [
      "Downloading https://github.com/gee-community/geemap/archive/master.zip ...\n",
      "Unzipping geemap-master.zip ...\n",
      "Data downloaded to: C:\\Users\\Naznamz\\Downloads\\geemap-master\n",
      "\n",
      "Please comment out 'geemap.update_package()' and restart the kernel to take effect:\n",
      "Jupyter menu -> Kernel -> Restart & Clear Output\n"
     ]
    }
   ],
   "source": [
    "geemap.update_package()"
   ]
  },
  {
   "cell_type": "code",
   "execution_count": 63,
   "id": "04fa0668-7372-448a-8acb-d3a2a16a3d0d",
   "metadata": {},
   "outputs": [
    {
     "data": {
      "text/html": [
       "\n",
       "            <style>\n",
       "                .geemap-dark {\n",
       "                    --jp-widgets-color: white;\n",
       "                    --jp-widgets-label-color: white;\n",
       "                    --jp-ui-font-color1: white;\n",
       "                    --jp-layout-color2: #454545;\n",
       "                    background-color: #383838;\n",
       "                }\n",
       "\n",
       "                .geemap-dark .jupyter-button {\n",
       "                    --jp-layout-color3: #383838;\n",
       "                }\n",
       "\n",
       "                .geemap-colab {\n",
       "                    background-color: var(--colab-primary-surface-color, white);\n",
       "                }\n",
       "\n",
       "                .geemap-colab .jupyter-button {\n",
       "                    --jp-layout-color3: var(--colab-primary-surface-color, white);\n",
       "                }\n",
       "            </style>\n",
       "            "
      ],
      "text/plain": [
       "<IPython.core.display.HTML object>"
      ]
     },
     "metadata": {},
     "output_type": "display_data"
    },
    {
     "name": "stdout",
     "output_type": "stream",
     "text": [
      "Esri.WorldImagery has been already added before.\n"
     ]
    }
   ],
   "source": [
    "Map = geemap.Map()\n",
    "Map.add_basemap('HYBRID') \n",
    "Map.add_basemap('SATELLITE')"
   ]
  },
  {
   "cell_type": "code",
   "execution_count": 64,
   "id": "aa608be6-d373-4385-8092-7fa4d48a1bb1",
   "metadata": {},
   "outputs": [
    {
     "data": {
      "text/html": [
       "\n",
       "            <style>\n",
       "                .geemap-dark {\n",
       "                    --jp-widgets-color: white;\n",
       "                    --jp-widgets-label-color: white;\n",
       "                    --jp-ui-font-color1: white;\n",
       "                    --jp-layout-color2: #454545;\n",
       "                    background-color: #383838;\n",
       "                }\n",
       "\n",
       "                .geemap-dark .jupyter-button {\n",
       "                    --jp-layout-color3: #383838;\n",
       "                }\n",
       "\n",
       "                .geemap-colab {\n",
       "                    background-color: var(--colab-primary-surface-color, white);\n",
       "                }\n",
       "\n",
       "                .geemap-colab .jupyter-button {\n",
       "                    --jp-layout-color3: var(--colab-primary-surface-color, white);\n",
       "                }\n",
       "            </style>\n",
       "            "
      ],
      "text/plain": [
       "<IPython.core.display.HTML object>"
      ]
     },
     "metadata": {},
     "output_type": "display_data"
    }
   ],
   "source": [
    "##basemaps = geemap.ee_basemaps.keys()\n",
    "##print(basemaps)"
   ]
  },
  {
   "cell_type": "code",
   "execution_count": 65,
   "id": "989150d6-185e-4351-9c2c-268c6641a386",
   "metadata": {},
   "outputs": [
    {
     "data": {
      "text/html": [
       "\n",
       "            <style>\n",
       "                .geemap-dark {\n",
       "                    --jp-widgets-color: white;\n",
       "                    --jp-widgets-label-color: white;\n",
       "                    --jp-ui-font-color1: white;\n",
       "                    --jp-layout-color2: #454545;\n",
       "                    background-color: #383838;\n",
       "                }\n",
       "\n",
       "                .geemap-dark .jupyter-button {\n",
       "                    --jp-layout-color3: #383838;\n",
       "                }\n",
       "\n",
       "                .geemap-colab {\n",
       "                    background-color: var(--colab-primary-surface-color, white);\n",
       "                }\n",
       "\n",
       "                .geemap-colab .jupyter-button {\n",
       "                    --jp-layout-color3: var(--colab-primary-surface-color, white);\n",
       "                }\n",
       "            </style>\n",
       "            "
      ],
      "text/plain": [
       "<IPython.core.display.HTML object>"
      ]
     },
     "metadata": {},
     "output_type": "display_data"
    }
   ],
   "source": [
    "##for basemap in basemaps:\n",
    "   ## print(basemap)"
   ]
  },
  {
   "cell_type": "code",
   "execution_count": 66,
   "id": "30bfd544-e7ba-4d13-bed1-b9edc2c40d69",
   "metadata": {},
   "outputs": [
    {
     "data": {
      "text/html": [
       "\n",
       "            <style>\n",
       "                .geemap-dark {\n",
       "                    --jp-widgets-color: white;\n",
       "                    --jp-widgets-label-color: white;\n",
       "                    --jp-ui-font-color1: white;\n",
       "                    --jp-layout-color2: #454545;\n",
       "                    background-color: #383838;\n",
       "                }\n",
       "\n",
       "                .geemap-dark .jupyter-button {\n",
       "                    --jp-layout-color3: #383838;\n",
       "                }\n",
       "\n",
       "                .geemap-colab {\n",
       "                    background-color: var(--colab-primary-surface-color, white);\n",
       "                }\n",
       "\n",
       "                .geemap-colab .jupyter-button {\n",
       "                    --jp-layout-color3: var(--colab-primary-surface-color, white);\n",
       "                }\n",
       "            </style>\n",
       "            "
      ],
      "text/plain": [
       "<IPython.core.display.HTML object>"
      ]
     },
     "metadata": {},
     "output_type": "display_data"
    },
    {
     "data": {
      "application/vnd.jupyter.widget-view+json": {
       "model_id": "a9b22135cfee4d06bfacfc881d9868b6",
       "version_major": 2,
       "version_minor": 0
      },
      "text/plain": [
       "Map(center=[0, 0], controls=(WidgetControl(options=['position', 'transparent_bg'], widget=SearchDataGUI(childr…"
      ]
     },
     "execution_count": 66,
     "metadata": {},
     "output_type": "execute_result"
    }
   ],
   "source": [
    "##Map.split_map(left_layer = 'NLCD 2016 CONUS Land Cover' , right_layer ='NLCD 2001 CONUS Land Cover')\n",
    "Map"
   ]
  },
  {
   "cell_type": "code",
   "execution_count": 67,
   "id": "55810133-6c04-4a8b-94fc-bb6adf39ef58",
   "metadata": {},
   "outputs": [
    {
     "data": {
      "text/html": [
       "\n",
       "            <style>\n",
       "                .geemap-dark {\n",
       "                    --jp-widgets-color: white;\n",
       "                    --jp-widgets-label-color: white;\n",
       "                    --jp-ui-font-color1: white;\n",
       "                    --jp-layout-color2: #454545;\n",
       "                    background-color: #383838;\n",
       "                }\n",
       "\n",
       "                .geemap-dark .jupyter-button {\n",
       "                    --jp-layout-color3: #383838;\n",
       "                }\n",
       "\n",
       "                .geemap-colab {\n",
       "                    background-color: var(--colab-primary-surface-color, white);\n",
       "                }\n",
       "\n",
       "                .geemap-colab .jupyter-button {\n",
       "                    --jp-layout-color3: var(--colab-primary-surface-color, white);\n",
       "                }\n",
       "            </style>\n",
       "            "
      ],
      "text/plain": [
       "<IPython.core.display.HTML object>"
      ]
     },
     "metadata": {},
     "output_type": "display_data"
    }
   ],
   "source": [
    "##geemap.ee_search()"
   ]
  },
  {
   "cell_type": "code",
   "execution_count": 68,
   "id": "7c6c066b-70a9-4a48-9b38-8d58554a1d97",
   "metadata": {},
   "outputs": [
    {
     "data": {
      "text/html": [
       "\n",
       "            <style>\n",
       "                .geemap-dark {\n",
       "                    --jp-widgets-color: white;\n",
       "                    --jp-widgets-label-color: white;\n",
       "                    --jp-ui-font-color1: white;\n",
       "                    --jp-layout-color2: #454545;\n",
       "                    background-color: #383838;\n",
       "                }\n",
       "\n",
       "                .geemap-dark .jupyter-button {\n",
       "                    --jp-layout-color3: #383838;\n",
       "                }\n",
       "\n",
       "                .geemap-colab {\n",
       "                    background-color: var(--colab-primary-surface-color, white);\n",
       "                }\n",
       "\n",
       "                .geemap-colab .jupyter-button {\n",
       "                    --jp-layout-color3: var(--colab-primary-surface-color, white);\n",
       "                }\n",
       "            </style>\n",
       "            "
      ],
      "text/plain": [
       "<IPython.core.display.HTML object>"
      ]
     },
     "metadata": {},
     "output_type": "display_data"
    }
   ],
   "source": [
    "##geemap.upload()"
   ]
  },
  {
   "cell_type": "markdown",
   "id": "b190b70c-46e5-47c3-b2a7-96c21f099c87",
   "metadata": {},
   "source": [
    "Loading a Shapefile"
   ]
  },
  {
   "cell_type": "code",
   "execution_count": 81,
   "id": "4730dc06-013c-4fdd-a67e-7a7c9e5a6c8e",
   "metadata": {},
   "outputs": [
    {
     "data": {
      "text/html": [
       "\n",
       "            <style>\n",
       "                .geemap-dark {\n",
       "                    --jp-widgets-color: white;\n",
       "                    --jp-widgets-label-color: white;\n",
       "                    --jp-ui-font-color1: white;\n",
       "                    --jp-layout-color2: #454545;\n",
       "                    background-color: #383838;\n",
       "                }\n",
       "\n",
       "                .geemap-dark .jupyter-button {\n",
       "                    --jp-layout-color3: #383838;\n",
       "                }\n",
       "\n",
       "                .geemap-colab {\n",
       "                    background-color: var(--colab-primary-surface-color, white);\n",
       "                }\n",
       "\n",
       "                .geemap-colab .jupyter-button {\n",
       "                    --jp-layout-color3: var(--colab-primary-surface-color, white);\n",
       "                }\n",
       "            </style>\n",
       "            "
      ],
      "text/plain": [
       "<IPython.core.display.HTML object>"
      ]
     },
     "metadata": {},
     "output_type": "display_data"
    },
    {
     "name": "stdout",
     "output_type": "stream",
     "text": [
      "GeoPandas is required to perform reprojection of the data. See https://geopandas.org/install.html\n",
      "None\n"
     ]
    }
   ],
   "source": [
    "Shapefile_path = 'F:/Collecting and Analysing Data/Maps/Shapefiles/Selection of Study Sites/Study_Sites_V1.shp'\n",
    "Wards = geemap.shp_to_ee(Shapefile_path)\n",
    "##roi = Wards.filter(ee.Filter.eq('WardNm2020','LUUBWE'));\n",
    "Map.addLayer(Wards, {}, 'Shapefile')\n",
    "print(Wards)\n",
    "plt.show()"
   ]
  },
  {
   "cell_type": "markdown",
   "id": "b03173e8-ea8d-4cbf-b495-1b36adb6959a",
   "metadata": {},
   "source": [
    "Image Collection"
   ]
  },
  {
   "cell_type": "code",
   "execution_count": 78,
   "id": "7a10340e-aafc-45c7-ad73-510e41888810",
   "metadata": {},
   "outputs": [
    {
     "data": {
      "text/html": [
       "\n",
       "            <style>\n",
       "                .geemap-dark {\n",
       "                    --jp-widgets-color: white;\n",
       "                    --jp-widgets-label-color: white;\n",
       "                    --jp-ui-font-color1: white;\n",
       "                    --jp-layout-color2: #454545;\n",
       "                    background-color: #383838;\n",
       "                }\n",
       "\n",
       "                .geemap-dark .jupyter-button {\n",
       "                    --jp-layout-color3: #383838;\n",
       "                }\n",
       "\n",
       "                .geemap-colab {\n",
       "                    background-color: var(--colab-primary-surface-color, white);\n",
       "                }\n",
       "\n",
       "                .geemap-colab .jupyter-button {\n",
       "                    --jp-layout-color3: var(--colab-primary-surface-color, white);\n",
       "                }\n",
       "            </style>\n",
       "            "
      ],
      "text/plain": [
       "<IPython.core.display.HTML object>"
      ]
     },
     "metadata": {},
     "output_type": "display_data"
    }
   ],
   "source": [
    "LUUBWE_sentinel = ee.ImageCollection('COPERNICUS/S2') \\\n",
    ".filterDate('2018-01-01', '2019-01-01') \\\n",
    ".filterBounds(Wards) \\\n",
    ".sort ('CLOUD_COVER') \\\n",
    ".first() \\\n",
    ".select('B[1-7]')"
   ]
  },
  {
   "cell_type": "code",
   "execution_count": 71,
   "id": "22a596cb-d285-4fd6-8625-cde6fa91f593",
   "metadata": {},
   "outputs": [
    {
     "data": {
      "text/html": [
       "\n",
       "            <style>\n",
       "                .geemap-dark {\n",
       "                    --jp-widgets-color: white;\n",
       "                    --jp-widgets-label-color: white;\n",
       "                    --jp-ui-font-color1: white;\n",
       "                    --jp-layout-color2: #454545;\n",
       "                    background-color: #383838;\n",
       "                }\n",
       "\n",
       "                .geemap-dark .jupyter-button {\n",
       "                    --jp-layout-color3: #383838;\n",
       "                }\n",
       "\n",
       "                .geemap-colab {\n",
       "                    background-color: var(--colab-primary-surface-color, white);\n",
       "                }\n",
       "\n",
       "                .geemap-colab .jupyter-button {\n",
       "                    --jp-layout-color3: var(--colab-primary-surface-color, white);\n",
       "                }\n",
       "            </style>\n",
       "            "
      ],
      "text/plain": [
       "<IPython.core.display.HTML object>"
      ]
     },
     "metadata": {},
     "output_type": "display_data"
    }
   ],
   "source": [
    "##LUUBWE_sentinel.get('CLOUD_COVER').getInfo()"
   ]
  },
  {
   "cell_type": "markdown",
   "id": "594e49f4-b490-4fd2-b4df-83d9bf39646a",
   "metadata": {},
   "source": [
    "Shapefile Collection"
   ]
  },
  {
   "cell_type": "code",
   "execution_count": 72,
   "id": "970e0c7d-2e95-46eb-b966-8e48bac3cffb",
   "metadata": {
    "scrolled": true
   },
   "outputs": [
    {
     "data": {
      "text/html": [
       "\n",
       "            <style>\n",
       "                .geemap-dark {\n",
       "                    --jp-widgets-color: white;\n",
       "                    --jp-widgets-label-color: white;\n",
       "                    --jp-ui-font-color1: white;\n",
       "                    --jp-layout-color2: #454545;\n",
       "                    background-color: #383838;\n",
       "                }\n",
       "\n",
       "                .geemap-dark .jupyter-button {\n",
       "                    --jp-layout-color3: #383838;\n",
       "                }\n",
       "\n",
       "                .geemap-colab {\n",
       "                    background-color: var(--colab-primary-surface-color, white);\n",
       "                }\n",
       "\n",
       "                .geemap-colab .jupyter-button {\n",
       "                    --jp-layout-color3: var(--colab-primary-surface-color, white);\n",
       "                }\n",
       "            </style>\n",
       "            "
      ],
      "text/plain": [
       "<IPython.core.display.HTML object>"
      ]
     },
     "metadata": {},
     "output_type": "display_data"
    }
   ],
   "source": [
    "##Wards = ee.FeatureCollection('Shapfile_Path');\n",
    "##roi = Wards.filter(ee.Filter.eq('WardNm2020','LUUBWE'));\n",
    "##LUUBWE_boundary = Wards.filter(ee.Filter.eq('WardNm2020','LUUBWE'));\n",
    "#roi = ee.FeatureCollection(LUUBWE_boundary).geometry();"
   ]
  },
  {
   "cell_type": "markdown",
   "id": "0ebf84e1-892a-450d-9e5d-56d90fe5fd9e",
   "metadata": {},
   "source": [
    "Cliping the Image and adding it to the Map "
   ]
  },
  {
   "cell_type": "code",
   "execution_count": 74,
   "id": "c3770547-ff15-4bb5-b819-1b7400b54e8d",
   "metadata": {},
   "outputs": [
    {
     "data": {
      "text/html": [
       "\n",
       "            <style>\n",
       "                .geemap-dark {\n",
       "                    --jp-widgets-color: white;\n",
       "                    --jp-widgets-label-color: white;\n",
       "                    --jp-ui-font-color1: white;\n",
       "                    --jp-layout-color2: #454545;\n",
       "                    background-color: #383838;\n",
       "                }\n",
       "\n",
       "                .geemap-dark .jupyter-button {\n",
       "                    --jp-layout-color3: #383838;\n",
       "                }\n",
       "\n",
       "                .geemap-colab {\n",
       "                    background-color: var(--colab-primary-surface-color, white);\n",
       "                }\n",
       "\n",
       "                .geemap-colab .jupyter-button {\n",
       "                    --jp-layout-color3: var(--colab-primary-surface-color, white);\n",
       "                }\n",
       "            </style>\n",
       "            "
      ],
      "text/plain": [
       "<IPython.core.display.HTML object>"
      ]
     },
     "metadata": {},
     "output_type": "display_data"
    },
    {
     "ename": "EEException",
     "evalue": "Image.select: Parameter 'input' is required.",
     "output_type": "error",
     "traceback": [
      "\u001b[1;31m---------------------------------------------------------------------------\u001b[0m",
      "\u001b[1;31mHttpError\u001b[0m                                 Traceback (most recent call last)",
      "File \u001b[1;32m~\\anaconda3\\envs\\GoogleEarthEngine_Py_3_8\\lib\\site-packages\\ee\\data.py:402\u001b[0m, in \u001b[0;36m_execute_cloud_call\u001b[1;34m(call, num_retries)\u001b[0m\n\u001b[0;32m    401\u001b[0m \u001b[38;5;28;01mtry\u001b[39;00m:\n\u001b[1;32m--> 402\u001b[0m   \u001b[38;5;28;01mreturn\u001b[39;00m \u001b[43mcall\u001b[49m\u001b[38;5;241;43m.\u001b[39;49m\u001b[43mexecute\u001b[49m\u001b[43m(\u001b[49m\u001b[43mnum_retries\u001b[49m\u001b[38;5;241;43m=\u001b[39;49m\u001b[43mnum_retries\u001b[49m\u001b[43m)\u001b[49m\n\u001b[0;32m    403\u001b[0m \u001b[38;5;28;01mexcept\u001b[39;00m googleapiclient\u001b[38;5;241m.\u001b[39merrors\u001b[38;5;241m.\u001b[39mHttpError \u001b[38;5;28;01mas\u001b[39;00m e:\n",
      "File \u001b[1;32m~\\anaconda3\\envs\\GoogleEarthEngine_Py_3_8\\lib\\site-packages\\googleapiclient\\_helpers.py:130\u001b[0m, in \u001b[0;36mpositional.<locals>.positional_decorator.<locals>.positional_wrapper\u001b[1;34m(*args, **kwargs)\u001b[0m\n\u001b[0;32m    129\u001b[0m         logger\u001b[38;5;241m.\u001b[39mwarning(message)\n\u001b[1;32m--> 130\u001b[0m \u001b[38;5;28;01mreturn\u001b[39;00m \u001b[43mwrapped\u001b[49m\u001b[43m(\u001b[49m\u001b[38;5;241;43m*\u001b[39;49m\u001b[43margs\u001b[49m\u001b[43m,\u001b[49m\u001b[43m \u001b[49m\u001b[38;5;241;43m*\u001b[39;49m\u001b[38;5;241;43m*\u001b[39;49m\u001b[43mkwargs\u001b[49m\u001b[43m)\u001b[49m\n",
      "File \u001b[1;32m~\\anaconda3\\envs\\GoogleEarthEngine_Py_3_8\\lib\\site-packages\\googleapiclient\\http.py:938\u001b[0m, in \u001b[0;36mHttpRequest.execute\u001b[1;34m(self, http, num_retries)\u001b[0m\n\u001b[0;32m    937\u001b[0m \u001b[38;5;28;01mif\u001b[39;00m resp\u001b[38;5;241m.\u001b[39mstatus \u001b[38;5;241m>\u001b[39m\u001b[38;5;241m=\u001b[39m \u001b[38;5;241m300\u001b[39m:\n\u001b[1;32m--> 938\u001b[0m     \u001b[38;5;28;01mraise\u001b[39;00m HttpError(resp, content, uri\u001b[38;5;241m=\u001b[39m\u001b[38;5;28mself\u001b[39m\u001b[38;5;241m.\u001b[39muri)\n\u001b[0;32m    939\u001b[0m \u001b[38;5;28;01mreturn\u001b[39;00m \u001b[38;5;28mself\u001b[39m\u001b[38;5;241m.\u001b[39mpostproc(resp, content)\n",
      "\u001b[1;31mHttpError\u001b[0m: <HttpError 400 when requesting https://earthengine.googleapis.com/v1/projects/earthengine-legacy/value:compute?prettyPrint=false&alt=json returned \"Image.select: Parameter 'input' is required.\". Details: \"Image.select: Parameter 'input' is required.\">",
      "\nDuring handling of the above exception, another exception occurred:\n",
      "\u001b[1;31mEEException\u001b[0m                               Traceback (most recent call last)",
      "Cell \u001b[1;32mIn[74], line 9\u001b[0m\n\u001b[0;32m      1\u001b[0m rgbVis \u001b[38;5;241m=\u001b[39m {\u001b[38;5;124m'\u001b[39m\u001b[38;5;124mbands\u001b[39m\u001b[38;5;124m'\u001b[39m:[\u001b[38;5;124m'\u001b[39m\u001b[38;5;124mB4\u001b[39m\u001b[38;5;124m'\u001b[39m,\u001b[38;5;124m'\u001b[39m\u001b[38;5;124mB3\u001b[39m\u001b[38;5;124m'\u001b[39m,\u001b[38;5;124m'\u001b[39m\u001b[38;5;124mB2\u001b[39m\u001b[38;5;124m'\u001b[39m], \u001b[38;5;28mmin\u001b[39m: \u001b[38;5;241m0\u001b[39m, \u001b[38;5;28mmax\u001b[39m: \u001b[38;5;241m0.3\u001b[39m};\n\u001b[0;32m      2\u001b[0m \u001b[38;5;66;03m##LUUBWE_sentinel_median = LUUBWE_sentinel.median();\u001b[39;00m\n\u001b[0;32m      3\u001b[0m \u001b[38;5;66;03m##LUUBWE_sentinel_clip = LUUBWE_sentinel_median.clip(roi);\u001b[39;00m\n\u001b[0;32m      4\u001b[0m \u001b[38;5;66;03m##LUUBWE_sentinel_clip = LUUBWE_sentinel.clip(roi);\u001b[39;00m\n\u001b[1;32m   (...)\u001b[0m\n\u001b[0;32m      7\u001b[0m \u001b[38;5;66;03m##Map.addLayer(LUUBWE_sentinel_clip, rgbVis);\u001b[39;00m\n\u001b[0;32m      8\u001b[0m \u001b[38;5;66;03m##Map.addLayer(LUUBWE_sentinel.clip(Wards), rgbVis);\u001b[39;00m\n\u001b[1;32m----> 9\u001b[0m \u001b[43mMap\u001b[49m\u001b[38;5;241;43m.\u001b[39;49m\u001b[43mcenterObject\u001b[49m\u001b[43m(\u001b[49m\u001b[43mLUUBWE_sentinel\u001b[49m\u001b[43m,\u001b[49m\u001b[43m \u001b[49m\u001b[38;5;241;43m10\u001b[39;49m\u001b[43m)\u001b[49m;\n",
      "File \u001b[1;32m~\\anaconda3\\envs\\GoogleEarthEngine_Py_3_8\\lib\\site-packages\\geemap\\geemap.py:387\u001b[0m, in \u001b[0;36mMap.center_object\u001b[1;34m(self, ee_object, zoom)\u001b[0m\n\u001b[0;32m    380\u001b[0m \u001b[38;5;28;01mdef\u001b[39;00m \u001b[38;5;21mcenter_object\u001b[39m(\u001b[38;5;28mself\u001b[39m, ee_object, zoom\u001b[38;5;241m=\u001b[39m\u001b[38;5;28;01mNone\u001b[39;00m):\n\u001b[0;32m    381\u001b[0m \u001b[38;5;250m    \u001b[39m\u001b[38;5;124;03m\"\"\"Centers the map view on a given object.\u001b[39;00m\n\u001b[0;32m    382\u001b[0m \n\u001b[0;32m    383\u001b[0m \u001b[38;5;124;03m    Args:\u001b[39;00m\n\u001b[0;32m    384\u001b[0m \u001b[38;5;124;03m        ee_object (Element|Geometry): An Earth Engine object to center on a geometry, image or feature.\u001b[39;00m\n\u001b[0;32m    385\u001b[0m \u001b[38;5;124;03m        zoom (int, optional): The zoom level, from 1 to 24. Defaults to None.\u001b[39;00m\n\u001b[0;32m    386\u001b[0m \u001b[38;5;124;03m    \"\"\"\u001b[39;00m\n\u001b[1;32m--> 387\u001b[0m     \u001b[38;5;28;43msuper\u001b[39;49m\u001b[43m(\u001b[49m\u001b[43m)\u001b[49m\u001b[38;5;241;43m.\u001b[39;49m\u001b[43mcenter_object\u001b[49m\u001b[43m(\u001b[49m\u001b[43mee_object\u001b[49m\u001b[43m,\u001b[49m\u001b[43m \u001b[49m\u001b[43mzoom\u001b[49m\u001b[43m)\u001b[49m\n\u001b[0;32m    388\u001b[0m     \u001b[38;5;28;01mif\u001b[39;00m is_arcpy():\n\u001b[0;32m    389\u001b[0m         bds \u001b[38;5;241m=\u001b[39m \u001b[38;5;28mself\u001b[39m\u001b[38;5;241m.\u001b[39mbounds\n",
      "File \u001b[1;32m~\\anaconda3\\envs\\GoogleEarthEngine_Py_3_8\\lib\\site-packages\\geemap\\core.py:536\u001b[0m, in \u001b[0;36mMap.center_object\u001b[1;34m(self, ee_object, zoom)\u001b[0m\n\u001b[0;32m    534\u001b[0m \u001b[38;5;28;01mif\u001b[39;00m \u001b[38;5;129;01mnot\u001b[39;00m \u001b[38;5;28misinstance\u001b[39m(zoom, \u001b[38;5;28mint\u001b[39m):\n\u001b[0;32m    535\u001b[0m     \u001b[38;5;28;01mraise\u001b[39;00m \u001b[38;5;167;01mValueError\u001b[39;00m(\u001b[38;5;124m\"\u001b[39m\u001b[38;5;124mZoom must be an integer.\u001b[39m\u001b[38;5;124m\"\u001b[39m)\n\u001b[1;32m--> 536\u001b[0m centroid \u001b[38;5;241m=\u001b[39m \u001b[43mgeometry\u001b[49m\u001b[38;5;241;43m.\u001b[39;49m\u001b[43mcentroid\u001b[49m\u001b[43m(\u001b[49m\u001b[43mmaxError\u001b[49m\u001b[38;5;241;43m=\u001b[39;49m\u001b[43mmax_error\u001b[49m\u001b[43m)\u001b[49m\u001b[38;5;241;43m.\u001b[39;49m\u001b[43mgetInfo\u001b[49m\u001b[43m(\u001b[49m\u001b[43m)\u001b[49m[\u001b[38;5;124m\"\u001b[39m\u001b[38;5;124mcoordinates\u001b[39m\u001b[38;5;124m\"\u001b[39m]\n\u001b[0;32m    537\u001b[0m \u001b[38;5;28mself\u001b[39m\u001b[38;5;241m.\u001b[39mset_center(centroid[\u001b[38;5;241m0\u001b[39m], centroid[\u001b[38;5;241m1\u001b[39m], zoom)\n",
      "File \u001b[1;32m~\\anaconda3\\envs\\GoogleEarthEngine_Py_3_8\\lib\\site-packages\\ee\\computedobject.py:107\u001b[0m, in \u001b[0;36mComputedObject.getInfo\u001b[1;34m(self)\u001b[0m\n\u001b[0;32m    101\u001b[0m \u001b[38;5;28;01mdef\u001b[39;00m \u001b[38;5;21mgetInfo\u001b[39m(\u001b[38;5;28mself\u001b[39m) \u001b[38;5;241m-\u001b[39m\u001b[38;5;241m>\u001b[39m Optional[Any]:\n\u001b[0;32m    102\u001b[0m \u001b[38;5;250m  \u001b[39m\u001b[38;5;124;03m\"\"\"Fetch and return information about this object.\u001b[39;00m\n\u001b[0;32m    103\u001b[0m \n\u001b[0;32m    104\u001b[0m \u001b[38;5;124;03m  Returns:\u001b[39;00m\n\u001b[0;32m    105\u001b[0m \u001b[38;5;124;03m    The object can evaluate to anything.\u001b[39;00m\n\u001b[0;32m    106\u001b[0m \u001b[38;5;124;03m  \"\"\"\u001b[39;00m\n\u001b[1;32m--> 107\u001b[0m   \u001b[38;5;28;01mreturn\u001b[39;00m \u001b[43mdata\u001b[49m\u001b[38;5;241;43m.\u001b[39;49m\u001b[43mcomputeValue\u001b[49m\u001b[43m(\u001b[49m\u001b[38;5;28;43mself\u001b[39;49m\u001b[43m)\u001b[49m\n",
      "File \u001b[1;32m~\\anaconda3\\envs\\GoogleEarthEngine_Py_3_8\\lib\\site-packages\\ee\\data.py:1101\u001b[0m, in \u001b[0;36mcomputeValue\u001b[1;34m(obj)\u001b[0m\n\u001b[0;32m   1098\u001b[0m body \u001b[38;5;241m=\u001b[39m {\u001b[38;5;124m'\u001b[39m\u001b[38;5;124mexpression\u001b[39m\u001b[38;5;124m'\u001b[39m: serializer\u001b[38;5;241m.\u001b[39mencode(obj, for_cloud_api\u001b[38;5;241m=\u001b[39m\u001b[38;5;28;01mTrue\u001b[39;00m)}\n\u001b[0;32m   1099\u001b[0m _maybe_populate_workload_tag(body)\n\u001b[1;32m-> 1101\u001b[0m \u001b[38;5;28;01mreturn\u001b[39;00m \u001b[43m_execute_cloud_call\u001b[49m\u001b[43m(\u001b[49m\n\u001b[0;32m   1102\u001b[0m \u001b[43m    \u001b[49m\u001b[43m_get_cloud_projects\u001b[49m\u001b[43m(\u001b[49m\u001b[43m)\u001b[49m\n\u001b[0;32m   1103\u001b[0m \u001b[43m    \u001b[49m\u001b[38;5;241;43m.\u001b[39;49m\u001b[43mvalue\u001b[49m\u001b[43m(\u001b[49m\u001b[43m)\u001b[49m\n\u001b[0;32m   1104\u001b[0m \u001b[43m    \u001b[49m\u001b[38;5;241;43m.\u001b[39;49m\u001b[43mcompute\u001b[49m\u001b[43m(\u001b[49m\u001b[43mbody\u001b[49m\u001b[38;5;241;43m=\u001b[39;49m\u001b[43mbody\u001b[49m\u001b[43m,\u001b[49m\u001b[43m \u001b[49m\u001b[43mproject\u001b[49m\u001b[38;5;241;43m=\u001b[39;49m\u001b[43m_get_projects_path\u001b[49m\u001b[43m(\u001b[49m\u001b[43m)\u001b[49m\u001b[43m,\u001b[49m\u001b[43m \u001b[49m\u001b[43mprettyPrint\u001b[49m\u001b[38;5;241;43m=\u001b[39;49m\u001b[38;5;28;43;01mFalse\u001b[39;49;00m\u001b[43m)\u001b[49m\n\u001b[0;32m   1105\u001b[0m \u001b[43m\u001b[49m\u001b[43m)\u001b[49m[\u001b[38;5;124m'\u001b[39m\u001b[38;5;124mresult\u001b[39m\u001b[38;5;124m'\u001b[39m]\n",
      "File \u001b[1;32m~\\anaconda3\\envs\\GoogleEarthEngine_Py_3_8\\lib\\site-packages\\ee\\data.py:404\u001b[0m, in \u001b[0;36m_execute_cloud_call\u001b[1;34m(call, num_retries)\u001b[0m\n\u001b[0;32m    402\u001b[0m   \u001b[38;5;28;01mreturn\u001b[39;00m call\u001b[38;5;241m.\u001b[39mexecute(num_retries\u001b[38;5;241m=\u001b[39mnum_retries)\n\u001b[0;32m    403\u001b[0m \u001b[38;5;28;01mexcept\u001b[39;00m googleapiclient\u001b[38;5;241m.\u001b[39merrors\u001b[38;5;241m.\u001b[39mHttpError \u001b[38;5;28;01mas\u001b[39;00m e:\n\u001b[1;32m--> 404\u001b[0m   \u001b[38;5;28;01mraise\u001b[39;00m _translate_cloud_exception(e)\n",
      "\u001b[1;31mEEException\u001b[0m: Image.select: Parameter 'input' is required."
     ]
    }
   ],
   "source": [
    "rgbVis = {'bands':['B4','B3','B2'], min: 0, max: 0.3};\n",
    "##LUUBWE_sentinel_median = LUUBWE_sentinel.median();\n",
    "##LUUBWE_sentinel_clip = LUUBWE_sentinel_median.clip(roi);\n",
    "##LUUBWE_sentinel_clip = LUUBWE_sentinel.clip(roi);\n",
    "##Map.addLayer(LUUBWE_boundary, {color:'red'});\n",
    "##Map.addLayer(LUUBWE_boundary);\n",
    "##Map.addLayer(LUUBWE_sentinel_clip, rgbVis);\n",
    "##Map.addLayer(LUUBWE_sentinel.clip(Wards), rgbVis);\n",
    "Map.centerObject(LUUBWE_sentinel, 10);"
   ]
  },
  {
   "cell_type": "markdown",
   "id": "620578c4-2939-4657-b514-b2e40c7ac5d9",
   "metadata": {},
   "source": [
    "Area of the shapefile"
   ]
  },
  {
   "cell_type": "code",
   "execution_count": 75,
   "id": "a8651ae9-0aec-4ee9-9a7a-051adc409089",
   "metadata": {},
   "outputs": [
    {
     "data": {
      "text/html": [
       "\n",
       "            <style>\n",
       "                .geemap-dark {\n",
       "                    --jp-widgets-color: white;\n",
       "                    --jp-widgets-label-color: white;\n",
       "                    --jp-ui-font-color1: white;\n",
       "                    --jp-layout-color2: #454545;\n",
       "                    background-color: #383838;\n",
       "                }\n",
       "\n",
       "                .geemap-dark .jupyter-button {\n",
       "                    --jp-layout-color3: #383838;\n",
       "                }\n",
       "\n",
       "                .geemap-colab {\n",
       "                    background-color: var(--colab-primary-surface-color, white);\n",
       "                }\n",
       "\n",
       "                .geemap-colab .jupyter-button {\n",
       "                    --jp-layout-color3: var(--colab-primary-surface-color, white);\n",
       "                }\n",
       "            </style>\n",
       "            "
      ],
      "text/plain": [
       "<IPython.core.display.HTML object>"
      ]
     },
     "metadata": {},
     "output_type": "display_data"
    },
    {
     "ename": "NameError",
     "evalue": "name 'LUUBWE_boundary' is not defined",
     "output_type": "error",
     "traceback": [
      "\u001b[1;31m---------------------------------------------------------------------------\u001b[0m",
      "\u001b[1;31mNameError\u001b[0m                                 Traceback (most recent call last)",
      "Cell \u001b[1;32mIn[75], line 1\u001b[0m\n\u001b[1;32m----> 1\u001b[0m LUUBWE_Area \u001b[38;5;241m=\u001b[39m  \u001b[43mLUUBWE_boundary\u001b[49m\u001b[38;5;241m.\u001b[39mgeometry()\u001b[38;5;241m.\u001b[39marea();\n\u001b[0;32m      2\u001b[0m LUUBWE_Area_sqKm \u001b[38;5;241m=\u001b[39m ee\u001b[38;5;241m.\u001b[39mNumber(LUUBWE_Area)\u001b[38;5;241m.\u001b[39mdivide(\u001b[38;5;241m1e6\u001b[39m);\n\u001b[0;32m      3\u001b[0m \u001b[38;5;28mprint\u001b[39m( LUUBWE_Area_sqKm);\n",
      "\u001b[1;31mNameError\u001b[0m: name 'LUUBWE_boundary' is not defined"
     ]
    }
   ],
   "source": [
    "LUUBWE_Area =  LUUBWE_boundary.geometry().area();\n",
    "LUUBWE_Area_sqKm = ee.Number(LUUBWE_Area).divide(1e6);\n",
    "print( LUUBWE_Area_sqKm);"
   ]
  },
  {
   "cell_type": "markdown",
   "id": "28c2ceec-ac64-4ea3-873f-dfb5553499d6",
   "metadata": {},
   "source": [
    "Supervised classification"
   ]
  },
  {
   "cell_type": "code",
   "execution_count": null,
   "id": "2ab136fc-07f7-4e3a-984d-adf226cc0e13",
   "metadata": {},
   "outputs": [],
   "source": []
  },
  {
   "cell_type": "markdown",
   "id": "d4e63282-9004-46f6-bc98-314fc2e17bec",
   "metadata": {},
   "source": [
    "Merge all the training points"
   ]
  },
  {
   "cell_type": "code",
   "execution_count": null,
   "id": "1ae090f0-6c90-4017-93f6-c981a4f44296",
   "metadata": {},
   "outputs": [],
   "source": [
    "var lable = \"Class\";\n",
    "var sample = Waterbody.merge(Builtup).merge(Cropland).merge(Vegetation).merge(Bareland);\n",
    "var bands = ['B2','B3','B4','B5','B6','B7'];\n",
    "var training = LUUBWE_sentinel_clip.select(bands).sampleRegions({\n",
    "  collection: sample, \n",
    "  properties: ['Class'], \n",
    "  scale: 30\n",
    "});\n",
    "print('training', training);"
   ]
  },
  {
   "cell_type": "markdown",
   "id": "31a99239-f75d-4641-8a64-fe6c74a1206b",
   "metadata": {},
   "source": [
    "Training dataset divided in two ways\n",
    "Traing the model: 80%\n",
    "Test the model: 20% data for testing"
   ]
  },
  {
   "cell_type": "code",
   "execution_count": null,
   "id": "50fd5a3a-6166-4047-a68b-7bbe9f2a02b3",
   "metadata": {},
   "outputs": [],
   "source": [
    "var dataset = training.randomColumn();\n",
    "var trainset = dataset.filter(ee.Filter.lessThan('random', 0.8));\n",
    "var testset = dataset.filter(ee.Filter.greaterThanOrEquals('random', 0.8));\n"
   ]
  },
  {
   "cell_type": "markdown",
   "id": "f7c0ae47-a6b6-444c-b375-adc3e399be76",
   "metadata": {},
   "source": [
    "Create the Model CART"
   ]
  },
  {
   "cell_type": "code",
   "execution_count": null,
   "id": "cbed9bbd-372d-488d-b3e8-9373d08aace6",
   "metadata": {},
   "outputs": [],
   "source": [
    "var classifier = ee.Classifier.smileCart().train(trainset, lable, bands);"
   ]
  },
  {
   "cell_type": "markdown",
   "id": "2720f476-649c-4197-a5e4-e9ae842c6ecc",
   "metadata": {},
   "source": [
    "Classify the sentinel image"
   ]
  },
  {
   "cell_type": "code",
   "execution_count": null,
   "id": "c5dbb12e-43e6-436a-bb9b-f63cdaf0aa81",
   "metadata": {},
   "outputs": [],
   "source": [
    "var classified = LUUBWE_sentinel_clip.classify(classifier);\n",
    "print('classified', classified);"
   ]
  },
  {
   "cell_type": "markdown",
   "id": "cba8efd2-d2d1-44e7-a430-5789ee624f38",
   "metadata": {},
   "source": [
    "Visualisation of the classification"
   ]
  },
  {
   "cell_type": "code",
   "execution_count": null,
   "id": "026d487f-2927-47f4-bcf5-7672854ec758",
   "metadata": {},
   "outputs": [],
   "source": [
    "var landcoverpalette = [\n",
    "  'blue',\n",
    "  'red',\n",
    "  'yellow',\n",
    "  'green',\n",
    "  'grey',\n",
    "  ];\n",
    "  \n",
    "Map.addLayer(classified.clip(roi),{'min': 0, 'max': 4, 'palette': landcoverpalette});"
   ]
  },
  {
   "cell_type": "markdown",
   "id": "a6bfcb15-bdd0-41f6-a722-1f7c8fa380d7",
   "metadata": {},
   "source": [
    "Get information about the trained classifier."
   ]
  },
  {
   "cell_type": "code",
   "execution_count": null,
   "id": "07f01113-0ab6-42c4-ac57-f8cbb567f101",
   "metadata": {},
   "outputs": [],
   "source": [
    "print('Results of trained classifier', classifier.explain());"
   ]
  },
  {
   "cell_type": "markdown",
   "id": "1727e932-000b-437f-9f8f-c08c3e1d153e",
   "metadata": {},
   "source": [
    "Acuracy assement\n",
    "\n",
    "Get a confusion matrix and overall accuracy for the training sample."
   ]
  },
  {
   "cell_type": "code",
   "execution_count": null,
   "id": "108711fc-35cb-4b4e-b9d0-6ef523bd06b0",
   "metadata": {},
   "outputs": [],
   "source": [
    "var trainAccuracy = classifier.confusionMatrix();\n",
    "print('Training error matrix', trainAccuracy);\n",
    "print('Training overall accuracy', trainAccuracy.accuracy());"
   ]
  },
  {
   "cell_type": "markdown",
   "id": "565af8db-405e-4aa0-825f-33fb74012f07",
   "metadata": {},
   "source": [
    "Get a confusion matrix and overall accuracy for the validation sample."
   ]
  },
  {
   "cell_type": "code",
   "execution_count": null,
   "id": "ac494585-c520-4500-89cd-d2268f6575c7",
   "metadata": {},
   "outputs": [],
   "source": [
    "testset = trainset.classify(classifier);\n",
    "var validationAccuracy = testset.errorMatrix(lable, 'classification');\n",
    "print('Validation error matrix', validationAccuracy);\n",
    "print('Validation accuracy', validationAccuracy.accuracy());"
   ]
  },
  {
   "cell_type": "markdown",
   "id": "a059c1e3-35ba-4c6b-a489-c012e03ac6cb",
   "metadata": {},
   "source": [
    "Calculating Area by Class by Reagion\n",
    "Calculating the Nested Group area of classes"
   ]
  },
  {
   "cell_type": "code",
   "execution_count": null,
   "id": "ececff12-d65c-4a64-889f-b994c8067d6b",
   "metadata": {},
   "outputs": [],
   "source": [
    "var areaImage = ee.Image.pixelArea().addBands(classified);\n",
    "var areas = areaImage.reduceRegion({\n",
    "  reducer: ee.Reducer.sum().group({\n",
    "    groupField:1,\n",
    "    groupName: 'class'}), \n",
    "    geometry: roi,\n",
    "    scale: 10,\n",
    "    maxPixels: 1e13});\n",
    "\n",
    "print(areaImage);"
   ]
  },
  {
   "cell_type": "markdown",
   "id": "d49572b5-a7d9-48ee-b80c-414742c86221",
   "metadata": {},
   "source": [
    "Flatening the Nested Gropus areas of classes"
   ]
  },
  {
   "cell_type": "code",
   "execution_count": null,
   "id": "f48d94ca-f9e2-4553-afee-58cb9863cef9",
   "metadata": {},
   "outputs": [],
   "source": [
    "var classAreas = ee.List(areas.get('groups'));\n",
    "var classAreaLists = classAreas.map(function(item){\n",
    "  var areaDic = ee.Dictionary(item)\n",
    "  var classNumber = ee.Number(areaDic.get('class')).format()\n",
    "  var area = ee.Number(areaDic.get('sum')).divide(1e6).round()\n",
    "  return ee.List([classNumber, area])\n",
    "});\n",
    "\n",
    "var results = ee.Dictionary(classAreaLists.flatten());\n",
    "print(results);"
   ]
  },
  {
   "cell_type": "markdown",
   "id": "0feae633-e212-41b1-b8ef-bb5cd8e0a820",
   "metadata": {},
   "source": [
    "Export Image"
   ]
  },
  {
   "cell_type": "code",
   "execution_count": null,
   "id": "aba6ec20-cc44-4ff6-a34b-8399d4d3941d",
   "metadata": {},
   "outputs": [],
   "source": [
    "Export.image.toDrive({\n",
    "image:classified,\n",
    "description: 'LUUBWE_sentinel_classified_2019',\n",
    "fileFormat: 'GeoTIFF',\n",
    "scale: 10,\n",
    "region: roi,\n",
    "});"
   ]
  },
  {
   "cell_type": "markdown",
   "id": "8b5227de-4a54-4a50-b949-b7ece7fb1bf7",
   "metadata": {},
   "source": [
    "Export table to your google drive"
   ]
  },
  {
   "cell_type": "code",
   "execution_count": null,
   "id": "28c39368-0b70-4785-90fc-a2c413941990",
   "metadata": {},
   "outputs": [],
   "source": [
    "Export.table.toDrive({\n",
    "        collection: results,\n",
    "        description: 'classAreaLists', \n",
    "        folder: 'EE',\n",
    "    fileNamePrefix: 'classAreas', \n",
    "    fileFormat: 'CSV'\n",
    "    });"
   ]
  }
 ],
 "metadata": {
  "kernelspec": {
   "display_name": "GoogleEarthEngine_Py_3_8",
   "language": "python",
   "name": "googleearthengine_py_3_8"
  },
  "language_info": {
   "codemirror_mode": {
    "name": "ipython",
    "version": 3
   },
   "file_extension": ".py",
   "mimetype": "text/x-python",
   "name": "python",
   "nbconvert_exporter": "python",
   "pygments_lexer": "ipython3",
   "version": "3.8.18"
  },
  "widgets": {
   "application/vnd.jupyter.widget-state+json": {
    "state": {
     "0053dd0c967d4c65a7ae07e4fa390f61": {
      "model_module": "@jupyter-widgets/controls",
      "model_module_version": "2.0.0",
      "model_name": "TextStyleModel",
      "state": {
       "description_width": "",
       "font_size": null,
       "text_color": null
      }
     },
     "007fbe97aa95493bb226210c0279b263": {
      "model_module": "ipytree",
      "model_module_version": "^0.2",
      "model_name": "NodeModel",
      "state": {
       "_id": "afd352a6-3aec-4e1a-b67e-6fd5f8610b88",
       "_model_module_version": "^0.2",
       "_view_module_version": "^0.2",
       "icon": "file",
       "name": "band_math.py"
      }
     },
     "008ec109b7e04250a239e1057ef23681": {
      "model_module": "jupyter-leaflet",
      "model_module_version": "^0.18",
      "model_name": "LeafletMapModel",
      "state": {
       "_model_module_version": "^0.18",
       "_view_module_version": "^0.18",
       "controls": [
        "IPY_MODEL_4a736c2ae3f742e5a22556585fabc1bf",
        "IPY_MODEL_a64b27e495554e3f8ac0dbebfbad147c",
        "IPY_MODEL_fce6edb025d44096b083ab747f29c136",
        "IPY_MODEL_a374df28fef84434a241e53585655026",
        "IPY_MODEL_0a5dea383fab408698b7e74c9862398e",
        "IPY_MODEL_5c7b7762302447698ceeae7485b4ee86",
        "IPY_MODEL_317407d58c2e46e1bbb6f7959832aeda",
        "IPY_MODEL_378443d063fd496f9adb61471297ea36"
       ],
       "default_style": "IPY_MODEL_be18e07eb53e459e973e4971cf58dc79",
       "dragging_style": "IPY_MODEL_0a9c59707b5a450cbab15c49b5443052",
       "fullscreen": false,
       "interpolation": "bilinear",
       "layers": [
        "IPY_MODEL_e486e2df6f1b4efc9ced4397670a732f",
        "IPY_MODEL_5fca0f4ffa3e4353af951562639893df"
       ],
       "layout": "IPY_MODEL_cd71a257e5fc4f64ad79f6ddf8f39dc4",
       "max_zoom": 24,
       "modisdate": "2024-03-07",
       "options": [
        "bounce_at_zoom_limits",
        "box_zoom",
        "center",
        "close_popup_on_click",
        "double_click_zoom",
        "dragging",
        "fullscreen",
        "inertia",
        "inertia_deceleration",
        "inertia_max_speed",
        "interpolation",
        "keyboard",
        "keyboard_pan_offset",
        "keyboard_zoom_offset",
        "max_zoom",
        "min_zoom",
        "prefer_canvas",
        "scroll_wheel_zoom",
        "tap",
        "tap_tolerance",
        "touch_zoom",
        "world_copy_jump",
        "zoom",
        "zoom_animation_threshold",
        "zoom_delta",
        "zoom_snap"
       ],
       "prefer_canvas": false,
       "scroll_wheel_zoom": true,
       "style": "IPY_MODEL_b572833e49cf4dc193b2917be2e633e9",
       "window_url": "http://localhost:8888/lab",
       "zoom": 2
      }
     },
     "00dcf3f9da1145b89e08eb402231d442": {
      "model_module": "ipytree",
      "model_module_version": "^0.2",
      "model_name": "NodeModel",
      "state": {
       "_id": "4b3db124-d41b-4006-bec5-cd04d961f9f1",
       "_model_module_version": "^0.2",
       "_view_module_version": "^0.2",
       "icon": "file",
       "name": "01_hello_world.py"
      }
     },
     "01259a63995a4b3fa93941c0e3b81b95": {
      "model_module": "ipytree",
      "model_module_version": "^0.2",
      "model_name": "NodeModel",
      "state": {
       "_id": "493b67cf-4b83-4a74-9c33-e763bcbd1b0e",
       "_model_module_version": "^0.2",
       "_view_module_version": "^0.2",
       "icon": "file",
       "name": "jrc_global_surface_water.py"
      }
     },
     "01520de15c244604801768f9e4f46aae": {
      "model_module": "@jupyter-widgets/base",
      "model_module_version": "2.0.0",
      "model_name": "LayoutModel",
      "state": {
       "height": "28px",
       "padding": "0px 0px 0px 4px",
       "width": "28px"
      }
     },
     "015823b3d4bc49838895f42f6efc4545": {
      "model_module": "jupyter-leaflet",
      "model_module_version": "^0.18",
      "model_name": "LeafletZoomControlModel",
      "state": {
       "_model_module_version": "^0.18",
       "_view_module_version": "^0.18",
       "options": [
        "position",
        "zoom_in_text",
        "zoom_in_title",
        "zoom_out_text",
        "zoom_out_title"
       ]
      }
     },
     "016e456106244560a6cf2672ea3e7884": {
      "model_module": "ipytree",
      "model_module_version": "^0.2",
      "model_name": "NodeModel",
      "state": {
       "_id": "5aed32c0-4f6e-431b-b63c-fa11c0d58812",
       "_model_module_version": "^0.2",
       "_view_module_version": "^0.2",
       "icon": "file",
       "name": "clipped_composite.py"
      }
     },
     "018182318b994f1cbbc9347f049e18aa": {
      "model_module": "@jupyter-widgets/controls",
      "model_module_version": "2.0.0",
      "model_name": "ToggleButtonStyleModel",
      "state": {
       "description_width": "",
       "font_family": null,
       "font_size": null,
       "font_style": null,
       "font_variant": null,
       "font_weight": null,
       "text_color": null,
       "text_decoration": null
      }
     },
     "01833cd9b6c44cf68a9e6872534e3489": {
      "model_module": "@jupyter-widgets/controls",
      "model_module_version": "2.0.0",
      "model_name": "ButtonModel",
      "state": {
       "button_style": "primary",
       "icon": "times",
       "layout": "IPY_MODEL_e9503af8f7d6487f81d574efbab9abe1",
       "style": "IPY_MODEL_c47c2bce72ae4c349caed5a6a6a2e40f",
       "tooltip": "Close the basemap widget"
      }
     },
     "01aac547b3174c978816e4210aab7258": {
      "model_module": "ipytree",
      "model_module_version": "^0.2",
      "model_name": "NodeModel",
      "state": {
       "_id": "a463ebd4-7f4f-41dd-a4cb-4128f03b211f",
       "_model_module_version": "^0.2",
       "_view_module_version": "^0.2",
       "name": "Gena",
       "nodes": [
        "IPY_MODEL_ad8aaac2482f47df97d1f5ec3d121a5e",
        "IPY_MODEL_1b9c160a98bf4bbcb6b478494164e426",
        "IPY_MODEL_3763db7581a54e9b9b9ba30b219207a0",
        "IPY_MODEL_691fde2f746b434682c4466081fbaa44",
        "IPY_MODEL_f9e3f14d32d44d47bd20dda243892f21",
        "IPY_MODEL_020c570c5a104b64b6100930b2699fdd",
        "IPY_MODEL_ae05cd24ba3145f8a3a76b4b409a2c38",
        "IPY_MODEL_a8338288f9ed4ba4974c9457f1e139db",
        "IPY_MODEL_53db306f19044f00aedf894ca586b380",
        "IPY_MODEL_2460d9a12945439bbaefee71548859f5",
        "IPY_MODEL_c5fb9a4745cf48ca9129fbded03db7f5",
        "IPY_MODEL_0d35f3c5b63844dd95a3b483ab64bff0",
        "IPY_MODEL_24949cfc973c4d0c99c0b0988d6e715d",
        "IPY_MODEL_dd1f7953e98d4b48bef0fb5eeb29f4ab"
       ],
       "opened": false
      }
     },
     "01b37ff544604c5b8333ca2771a07313": {
      "model_module": "@jupyter-widgets/controls",
      "model_module_version": "2.0.0",
      "model_name": "ToggleButtonModel",
      "state": {
       "button_style": "primary",
       "icon": "question",
       "layout": "IPY_MODEL_edf5f181d6f54b8fb1d767cc1228c51d",
       "style": "IPY_MODEL_ab09a1d10f1941468bd846dd9cfe43c9",
       "tooltip": "Get help"
      }
     },
     "01e88ab44f90488bb4bbe05bc2d9ab9a": {
      "model_module": "ipytree",
      "model_module_version": "^0.2",
      "model_name": "NodeModel",
      "state": {
       "_id": "4538903c-c09c-4d64-a5be-edf8e8b2fad4",
       "_model_module_version": "^0.2",
       "_view_module_version": "^0.2",
       "icon": "file",
       "name": "05_map_function.py"
      }
     },
     "01ea033befd6449e83768530c4af5a2b": {
      "model_module": "ipytree",
      "model_module_version": "^0.2",
      "model_name": "NodeModel",
      "state": {
       "_id": "ffa8e2af-a36f-40be-a291-9cafeffb16d5",
       "_model_module_version": "^0.2",
       "_view_module_version": "^0.2",
       "icon": "file",
       "name": "save_all_joins.py"
      }
     },
     "020c570c5a104b64b6100930b2699fdd": {
      "model_module": "ipytree",
      "model_module_version": "^0.2",
      "model_name": "NodeModel",
      "state": {
       "_id": "05e9fc7c-82f5-482a-8149-90a61c99f328",
       "_model_module_version": "^0.2",
       "_view_module_version": "^0.2",
       "icon": "file",
       "name": "map_center_object.py"
      }
     },
     "021c85b7342f42a9b14fc3c39750ba28": {
      "model_module": "ipytree",
      "model_module_version": "^0.2",
      "model_name": "NodeModel",
      "state": {
       "_id": "5703f537-d214-4b89-bae4-b85844f9ff34",
       "_model_module_version": "^0.2",
       "_view_module_version": "^0.2",
       "icon": "file",
       "name": "filter_range_contains.py"
      }
     },
     "02765d74a83b47f1a896e4e6ecb9484e": {
      "model_module": "ipytree",
      "model_module_version": "^0.2",
      "model_name": "NodeModel",
      "state": {
       "_id": "0446b01a-7ad0-479b-a2b7-a2130ee3d1fb",
       "_model_module_version": "^0.2",
       "_view_module_version": "^0.2",
       "name": "Image",
       "nodes": [
        "IPY_MODEL_1eb84e5883154ee5a622e13f02f78d08",
        "IPY_MODEL_19fe849573754bb88b5e49f738f89b74",
        "IPY_MODEL_6eaf202a43d945068174eb2f83381d18",
        "IPY_MODEL_be559d46fe8248c195161af652165732",
        "IPY_MODEL_4d60018f3d2d4f0b83a1b31a2b80155a",
        "IPY_MODEL_4c0601a7601347efb2e1fff61a1dd393",
        "IPY_MODEL_38afb52983794935b89a91aea85baa0b",
        "IPY_MODEL_2ef88a85ba4c4fe3ae1766d1529f4fc2",
        "IPY_MODEL_f55793e5c9324391928616d7daa81bd5",
        "IPY_MODEL_35d49e6ab7a5457690410e0b387d1c60",
        "IPY_MODEL_de6489e5d2764da8b70dbcfa5e4f0c15",
        "IPY_MODEL_b5bdc618396346b8a5a1b3fff95cd812",
        "IPY_MODEL_45bbd2b67a7148ce92d8e5172bcac654",
        "IPY_MODEL_4b1793ba84ec42e08a4740fd6bccad60",
        "IPY_MODEL_8bde9521fced4876b42588f63058fe64",
        "IPY_MODEL_af3462cfc82e4752bf050d4b16183984",
        "IPY_MODEL_c051d9af48e14c9ba2db426c60ea342a",
        "IPY_MODEL_8448ab5008f140c59ea0086a2ea648d8",
        "IPY_MODEL_ce8296a6fd834b64a41dd7c8b28aaeec",
        "IPY_MODEL_185983f478c74d02a2730f2b46e0711d",
        "IPY_MODEL_6ae3d9273d674c72a8b22867c541115d",
        "IPY_MODEL_d72b9af5f8c940ffa3af7c0127569059",
        "IPY_MODEL_5250c31fc52a4375a5f2174061516711",
        "IPY_MODEL_b3d4d87600c54972827b16905fcc9414",
        "IPY_MODEL_0ca0c186501548a9ac2b73188ff9e5b2",
        "IPY_MODEL_4c602963854849c5ad136fca07eb1026",
        "IPY_MODEL_3c61806712e44b62890e49ddf623aadc",
        "IPY_MODEL_cf49a77c0edb4eeebce9508ed7067268",
        "IPY_MODEL_2186942794184ca793d8089bdec77d78",
        "IPY_MODEL_df99507b5cfb41a1939585e9eef39a72",
        "IPY_MODEL_7517acb021d84412a454edb1b166a026",
        "IPY_MODEL_3612f2a8ae5e40c1bbde9ae98d575081",
        "IPY_MODEL_9897357dd6d24416a36232eaaddbcca1",
        "IPY_MODEL_572f01d05d174ac1bcae96d56ec23c15",
        "IPY_MODEL_8b3c3e16d72749df82fe55e99aa4457b",
        "IPY_MODEL_658047b649224851851375e2c3aa0ba7",
        "IPY_MODEL_638f303cda144f3c8676d391f2b69b40",
        "IPY_MODEL_16e1b96d7bc84ecea24e52b63154ea84",
        "IPY_MODEL_63df458368fa44b280b25644fd60f9f0",
        "IPY_MODEL_9808fb51b4124c3ebf90b08d48fdb280",
        "IPY_MODEL_14816915f5df466695f3a5ab59af02b1",
        "IPY_MODEL_d20d9cde0fc24d22a9c3bba269a34112",
        "IPY_MODEL_20137988c0b847779fe5eb7a04db4597",
        "IPY_MODEL_20b708d2785e4db2886f0649411c94fb",
        "IPY_MODEL_67a650a2425d472a952ae56a702efeb9",
        "IPY_MODEL_c9b9be1451574b208fe240fc704428f1",
        "IPY_MODEL_6c3b19e0de0a435f92dd1048362692be",
        "IPY_MODEL_4632e0bcf2444f629a2ef433aba33070",
        "IPY_MODEL_c8e36eaf7ebd441eaf0f0601096fae51",
        "IPY_MODEL_ca9f1127f75f416f92798a797fa799e0",
        "IPY_MODEL_cfa137eff2e94a48b647841211c6ccbe",
        "IPY_MODEL_8fdbb5c2dbe947a79e35911ec55d8442",
        "IPY_MODEL_c6de886b4bc54ed6870b2cc770e753b9",
        "IPY_MODEL_abbd0e86af834b269de664255a294e54",
        "IPY_MODEL_9b6ca1766cfd483f9444cee20bf553c8"
       ],
       "opened": false
      }
     },
     "0280e54913614a8da125cc164f5fe0d6": {
      "model_module": "ipytree",
      "model_module_version": "^0.2",
      "model_name": "NodeModel",
      "state": {
       "_id": "cf12a011-ec9f-404a-b6d8-c799a24e4833",
       "_model_module_version": "^0.2",
       "_view_module_version": "^0.2",
       "icon": "file",
       "name": "hillshade.py"
      }
     },
     "029551208b2e4fefb2de270eef5702a8": {
      "model_module": "@jupyter-widgets/base",
      "model_module_version": "2.0.0",
      "model_name": "LayoutModel",
      "state": {}
     },
     "02e7eeefee634f04abd92f5106f2b2bc": {
      "model_module": "ipytree",
      "model_module_version": "^0.2",
      "model_name": "NodeModel",
      "state": {
       "_id": "5216c524-4f73-4504-9546-07bfaffb4ee3",
       "_model_module_version": "^0.2",
       "_view_module_version": "^0.2",
       "icon": "file",
       "name": "usgs_watershed_boundary.py"
      }
     },
     "0308c94fc7464fd08bff834a7353fff5": {
      "model_module": "@jupyter-widgets/controls",
      "model_module_version": "2.0.0",
      "model_name": "ToggleButtonModel",
      "state": {
       "button_style": "primary",
       "icon": "info-circle",
       "layout": "IPY_MODEL_06d5215ef617485cb7a87ac377184dd3",
       "style": "IPY_MODEL_563728348ab64d469a13f4893be1a83f",
       "tooltip": "Get COG/STAC pixel value"
      }
     },
     "032b2ec5e0054375b101d49355085176": {
      "model_module": "ipytree",
      "model_module_version": "^0.2",
      "model_name": "NodeModel",
      "state": {
       "_id": "eca3074d-52df-4f87-96a8-6a9547d09aa2",
       "_model_module_version": "^0.2",
       "_view_module_version": "^0.2",
       "icon": "file",
       "name": "landcover_cleanup.py"
      }
     },
     "0357f2ffb6cc42e59ae8fe3241453a99": {
      "model_module": "@jupyter-widgets/controls",
      "model_module_version": "2.0.0",
      "model_name": "GridBoxModel",
      "state": {
       "children": [
        "IPY_MODEL_cb6688a1b7a14695aea0c050519420a4",
        "IPY_MODEL_5a2c1713224a45e19e81bf89f438b4db",
        "IPY_MODEL_a6b8887a93ee4e1cad1e4e8d7a28641b",
        "IPY_MODEL_fee9748a6aae449f8d4914ff5acf3046",
        "IPY_MODEL_8256a0f9a07c424f967ccc3f5110b9e7",
        "IPY_MODEL_f34e5e65eaf348418a50d82f4a40dfd0"
       ],
       "layout": "IPY_MODEL_8cd062e74488438695a35dc796998214"
      }
     },
     "035a01b013334f5f83fc16f0bfd2a054": {
      "model_module": "jupyter-leaflet",
      "model_module_version": "^0.18",
      "model_name": "LeafletWidgetControlModel",
      "state": {
       "_model_module": "jupyter-leaflet",
       "_model_module_version": "^0.18",
       "_view_count": null,
       "_view_module": "jupyter-leaflet",
       "_view_module_version": "^0.18",
       "options": [
        "position",
        "transparent_bg"
       ],
       "position": "topleft",
       "widget": "IPY_MODEL_3425b80cbda748119023fdf5cc0a1df3"
      }
     },
     "037be7b191364583bf485f86304a552c": {
      "model_module": "ipytree",
      "model_module_version": "^0.2",
      "model_name": "NodeModel",
      "state": {
       "_id": "7aadba68-5462-43ce-8ff7-f130cb6e675a",
       "_model_module_version": "^0.2",
       "_view_module_version": "^0.2",
       "name": "GlobalSurfaceWater",
       "nodes": [
        "IPY_MODEL_7dbebf2d07d4479998cddac5f0de45f2",
        "IPY_MODEL_dd56e95d0eef4606bc24c2cf07902080",
        "IPY_MODEL_d515342e638f4e7c924789069b168d56"
       ],
       "opened": false
      }
     },
     "038f76eb8c2a4cf0b3e73f0e605fb4db": {
      "model_module": "@jupyter-widgets/controls",
      "model_module_version": "2.0.0",
      "model_name": "DescriptionStyleModel",
      "state": {
       "description_width": ""
      }
     },
     "0448a1980bf845f1a9b6b5a487a307eb": {
      "model_module": "@jupyter-widgets/base",
      "model_module_version": "2.0.0",
      "model_name": "LayoutModel",
      "state": {}
     },
     "0449b936a46f4806bdafdf66b95b238c": {
      "model_module": "@jupyter-widgets/base",
      "model_module_version": "2.0.0",
      "model_name": "LayoutModel",
      "state": {
       "height": "auto",
       "padding": "0px 0px 0px 4px",
       "width": "auto"
      }
     },
     "049c6b15623b41a694dff887fc254a5b": {
      "model_module": "@jupyter-widgets/controls",
      "model_module_version": "2.0.0",
      "model_name": "ToggleButtonStyleModel",
      "state": {
       "description_width": "",
       "font_family": null,
       "font_size": null,
       "font_style": null,
       "font_variant": null,
       "font_weight": null,
       "text_color": null,
       "text_decoration": null
      }
     },
     "04befccbb3c340919c27f3e12c9ebe2f": {
      "model_module": "@jupyter-widgets/base",
      "model_module_version": "2.0.0",
      "model_name": "LayoutModel",
      "state": {
       "height": "28px",
       "padding": "0px 0px 0px 4px",
       "width": "28px"
      }
     },
     "04dea76a538b49558c526941f7817b3e": {
      "model_module": "@jupyter-widgets/base",
      "model_module_version": "2.0.0",
      "model_name": "LayoutModel",
      "state": {}
     },
     "04fcba5dad5641368913c09a647dde24": {
      "model_module": "ipytree",
      "model_module_version": "^0.2",
      "model_name": "NodeModel",
      "state": {
       "_id": "a9f925ef-56a7-4b80-93f9-a59822f02664",
       "_model_module_version": "^0.2",
       "_view_module_version": "^0.2",
       "icon": "file",
       "name": "inner_joins.py"
      }
     },
     "04ff2c7fd1af48bd93b3752d1a2a2826": {
      "model_module": "@jupyter-widgets/controls",
      "model_module_version": "2.0.0",
      "model_name": "ToggleButtonStyleModel",
      "state": {
       "description_width": "",
       "font_family": null,
       "font_size": null,
       "font_style": null,
       "font_variant": null,
       "font_weight": null,
       "text_color": null,
       "text_decoration": null
      }
     },
     "05504095b3af45f8ab7c0dfaaffa722f": {
      "model_module": "ipytree",
      "model_module_version": "^0.2",
      "model_name": "NodeModel",
      "state": {
       "_id": "2852979f-19b7-46b2-a3ed-6df8c225e5e8",
       "_model_module_version": "^0.2",
       "_view_module_version": "^0.2",
       "icon": "file",
       "name": "landsat8_toa_reflectance_qa_band.py"
      }
     },
     "05c2004ba1aa4e0e83c0fc6af533103a": {
      "model_module": "@jupyter-widgets/controls",
      "model_module_version": "2.0.0",
      "model_name": "ToggleButtonStyleModel",
      "state": {
       "description_width": "",
       "font_family": null,
       "font_size": null,
       "font_style": null,
       "font_variant": null,
       "font_weight": null,
       "text_color": null,
       "text_decoration": null
      }
     },
     "05d3e81f837e4e5b8c78cc5fbcc9e81b": {
      "model_module": "@jupyter-widgets/controls",
      "model_module_version": "2.0.0",
      "model_name": "ToggleButtonModel",
      "state": {
       "button_style": "primary",
       "icon": "google",
       "layout": "IPY_MODEL_2fc1f9239d414af1a9eb600147098aac",
       "style": "IPY_MODEL_7c4e3c473b50438ca69fd7ae3afc8ff8",
       "tooltip": "GEE Toolbox for cloud computing"
      }
     },
     "0623b0915c474255bff8f6fd59d57729": {
      "model_module": "ipytree",
      "model_module_version": "^0.2",
      "model_name": "NodeModel",
      "state": {
       "_id": "c37dada9-96c4-434b-ba9e-51138c383012",
       "_model_module_version": "^0.2",
       "_view_module_version": "^0.2",
       "icon": "file",
       "name": "reverse_mask.py"
      }
     },
     "06258ebf2f9142899c930f64d4fbbbc6": {
      "model_module": "@jupyter-widgets/base",
      "model_module_version": "2.0.0",
      "model_name": "LayoutModel",
      "state": {
       "width": "340px"
      }
     },
     "06270aea17324cdba3ca0b069479b057": {
      "model_module": "@jupyter-widgets/base",
      "model_module_version": "2.0.0",
      "model_name": "LayoutModel",
      "state": {}
     },
     "0628df6bf51e44808093b57a02090095": {
      "model_module": "@jupyter-widgets/base",
      "model_module_version": "2.0.0",
      "model_name": "LayoutModel",
      "state": {}
     },
     "06498a70168747c1ad88ec99349b5f9e": {
      "model_module": "ipytree",
      "model_module_version": "^0.2",
      "model_name": "NodeModel",
      "state": {
       "_id": "712d2dfd-19ed-4352-a86e-f5146848a905",
       "_model_module_version": "^0.2",
       "_view_module_version": "^0.2",
       "icon": "file",
       "name": "landsat_wrs2_grid.py"
      }
     },
     "069834bb7cc04f96a14380c46626b6f0": {
      "model_module": "@jupyter-widgets/controls",
      "model_module_version": "2.0.0",
      "model_name": "ToggleButtonModel",
      "state": {
       "button_style": "primary",
       "icon": "info-circle",
       "layout": "IPY_MODEL_ddff0e22cffe425ab495e89b8bdfb9b6",
       "style": "IPY_MODEL_4c810c1cd5d84424a6cedb3550f5b640",
       "tooltip": "Get COG/STAC pixel value"
      }
     },
     "06a9169792794ffbbda769a98e8ef665": {
      "model_module": "@jupyter-widgets/base",
      "model_module_version": "2.0.0",
      "model_name": "LayoutModel",
      "state": {
       "height": "auto",
       "padding": "0px 0px 0px 4px",
       "width": "auto"
      }
     },
     "06d5215ef617485cb7a87ac377184dd3": {
      "model_module": "@jupyter-widgets/base",
      "model_module_version": "2.0.0",
      "model_name": "LayoutModel",
      "state": {
       "height": "auto",
       "padding": "0px 0px 0px 4px",
       "width": "auto"
      }
     },
     "07526697c8e04becb3dc84228725fedd": {
      "model_module": "@jupyter-widgets/controls",
      "model_module_version": "2.0.0",
      "model_name": "ToggleButtonModel",
      "state": {
       "icon": "wrench",
       "layout": "IPY_MODEL_b36494af40344aa191266181686cdc32",
       "style": "IPY_MODEL_f0d89fe2057a4c24aae3e7539f841386",
       "tooltip": "Toolbar"
      }
     },
     "0760b270831246619f40ce68ba76b1b0": {
      "model_module": "ipytree",
      "model_module_version": "^0.2",
      "model_name": "NodeModel",
      "state": {
       "_id": "5e8cedb4-334e-464f-9dd2-90323cd821ca",
       "_model_module_version": "^0.2",
       "_view_module_version": "^0.2",
       "icon": "file",
       "name": "landsat8_surface_reflectance-copy.py"
      }
     },
     "079aa685874e4ba0bf9c2ce62117c26b": {
      "model_module": "ipytree",
      "model_module_version": "^0.2",
      "model_name": "NodeModel",
      "state": {
       "_id": "b1e68eef-f381-4e1a-8565-0e786971977b",
       "_model_module_version": "^0.2",
       "_view_module_version": "^0.2",
       "icon": "file",
       "name": "remove_colors.py"
      }
     },
     "07a1395446764110885fb6bad5cc1bd2": {
      "model_module": "ipyevents",
      "model_module_version": "2.0.2",
      "model_name": "EventModel",
      "state": {
       "_supported_key_events": [
        "keydown",
        "keyup"
       ],
       "_supported_mouse_events": [
        "click",
        "auxclick",
        "dblclick",
        "mouseenter",
        "mouseleave",
        "mousedown",
        "mouseup",
        "mousemove",
        "wheel",
        "contextmenu",
        "dragstart",
        "drag",
        "dragend",
        "dragenter",
        "dragover",
        "dragleave",
        "drop"
       ],
       "_supported_touch_events": [
        "touchstart",
        "touchend",
        "touchmove",
        "touchcancel"
       ],
       "_view_module": "@jupyter-widgets/controls",
       "source": "IPY_MODEL_e5229e2b33a144abbfa9209600a1123a",
       "throttle_or_debounce": "",
       "watched_events": [
        "mouseenter",
        "mouseleave"
       ],
       "xy_coordinate_system": ""
      }
     },
     "07ef005622224fe8bfa06357eca0c59d": {
      "model_module": "@jupyter-widgets/base",
      "model_module_version": "2.0.0",
      "model_name": "LayoutModel",
      "state": {
       "height": "28px",
       "padding": "0px 0px 0px 4px",
       "width": "28px"
      }
     },
     "0811a80c11a146ee8f9203b9d111de06": {
      "model_module": "@jupyter-widgets/base",
      "model_module_version": "2.0.0",
      "model_name": "LayoutModel",
      "state": {
       "width": "32px"
      }
     },
     "08303fc31bb546dc9e758eda81a3fba6": {
      "model_module": "ipytree",
      "model_module_version": "^0.2",
      "model_name": "NodeModel",
      "state": {
       "_id": "70b55882-29e1-4ea5-8e96-c7e04b858abc",
       "_model_module_version": "^0.2",
       "_view_module_version": "^0.2",
       "icon": "file",
       "name": "us_census_blocks.py"
      }
     },
     "084a0d170fc144a882a28acbe7651908": {
      "model_module": "@jupyter-widgets/controls",
      "model_module_version": "2.0.0",
      "model_name": "VBoxModel",
      "state": {
       "children": [
        "IPY_MODEL_ed19fe69bf254740bf6661d9fe0fd08f",
        "IPY_MODEL_09af2253e3554f5f833211766a9124ee"
       ],
       "layout": "IPY_MODEL_c8d70989aed9429fb370efb147a6bece"
      }
     },
     "085c09bf2362495cbbb5293e711abc84": {
      "model_module": "ipytree",
      "model_module_version": "^0.2",
      "model_name": "NodeModel",
      "state": {
       "_id": "8ac15250-cb81-4cbd-9ac4-11cddf1a3bc7",
       "_model_module_version": "^0.2",
       "_view_module_version": "^0.2",
       "name": "Writer",
       "opened": false
      }
     },
     "086260ca70b2480facc4ec87c864c143": {
      "model_module": "jupyter-leaflet",
      "model_module_version": "^0.18",
      "model_name": "LeafletWidgetControlModel",
      "state": {
       "_model_module": "jupyter-leaflet",
       "_model_module_version": "^0.18",
       "_view_count": null,
       "_view_module": "jupyter-leaflet",
       "_view_module_version": "^0.18",
       "options": [
        "position",
        "transparent_bg"
       ],
       "position": "topleft",
       "widget": "IPY_MODEL_f176bf54501d4757ac51511fc084aa65"
      }
     },
     "08855f749837423fa36661afab8a204a": {
      "model_module": "@jupyter-widgets/base",
      "model_module_version": "2.0.0",
      "model_name": "LayoutModel",
      "state": {}
     },
     "08d993aadee14c23ba7dbaff2749bbeb": {
      "model_module": "@jupyter-widgets/controls",
      "model_module_version": "2.0.0",
      "model_name": "DescriptionStyleModel",
      "state": {
       "description_width": ""
      }
     },
     "08e587bd4c0242e09dfe885c5feb42e9": {
      "model_module": "@jupyter-widgets/controls",
      "model_module_version": "2.0.0",
      "model_name": "ToggleButtonStyleModel",
      "state": {
       "description_width": "",
       "font_family": null,
       "font_size": null,
       "font_style": null,
       "font_variant": null,
       "font_weight": null,
       "text_color": null,
       "text_decoration": null
      }
     },
     "095b63af64594778a999688815bce219": {
      "model_module": "jupyter-leaflet",
      "model_module_version": "^0.18",
      "model_name": "LeafletMapStyleModel",
      "state": {
       "_model_module_version": "^0.18",
       "cursor": "move"
      }
     },
     "09af2253e3554f5f833211766a9124ee": {
      "model_module": "@jupyter-widgets/controls",
      "model_module_version": "2.0.0",
      "model_name": "TextModel",
      "state": {
       "layout": "IPY_MODEL_41cc6f8e013e4d5baa13617af15e3d86",
       "placeholder": "Search by place name or address",
       "style": "IPY_MODEL_71e27c9177584cd78e14241a7ee64065",
       "tooltip": "Search location"
      }
     },
     "09f15f50a0ef414998bd180e98915d73": {
      "model_module": "ipytree",
      "model_module_version": "^0.2",
      "model_name": "NodeModel",
      "state": {
       "_id": "2b817fca-ca9a-4321-9fd3-3fd5c6ad4635",
       "_model_module_version": "^0.2",
       "_view_module_version": "^0.2",
       "icon": "file",
       "name": "inverted_joins.py"
      }
     },
     "0a0404bb7ec24cb2b335bcf24f4cca82": {
      "model_module": "@jupyter-widgets/controls",
      "model_module_version": "2.0.0",
      "model_name": "TextStyleModel",
      "state": {
       "description_width": "",
       "font_size": null,
       "text_color": null
      }
     },
     "0a04d399797e409ab1393706123fe831": {
      "model_module": "ipytree",
      "model_module_version": "^0.2",
      "model_name": "NodeModel",
      "state": {
       "_id": "8e7e4426-28c4-45a3-b68c-0fe94b5f118b",
       "_model_module_version": "^0.2",
       "_view_module_version": "^0.2",
       "icon": "file",
       "name": "intersect.py"
      }
     },
     "0a42257d70ea45c9860917c03e57258b": {
      "model_module": "@jupyter-widgets/controls",
      "model_module_version": "2.0.0",
      "model_name": "VBoxModel",
      "state": {
       "children": [
        "IPY_MODEL_fd3732c3d38a4667880418599206665d",
        "IPY_MODEL_9acac20fdf9f4378b8c1acfb49511045"
       ],
       "layout": "IPY_MODEL_dcfbd4245e9441fd93c7b97c9baebc79"
      }
     },
     "0a5dea383fab408698b7e74c9862398e": {
      "model_module": "jupyter-leaflet",
      "model_module_version": "^0.18",
      "model_name": "LeafletScaleControlModel",
      "state": {
       "_model_module_version": "^0.18",
       "_view_module_version": "^0.18",
       "imperial": true,
       "max_width": 100,
       "metric": true,
       "options": [
        "imperial",
        "max_width",
        "metric",
        "position",
        "update_when_idle"
       ],
       "position": "bottomleft",
       "update_when_idle": false
      }
     },
     "0a880685db714eb9ae6d4beebc6d6c07": {
      "model_module": "ipytree",
      "model_module_version": "^0.2",
      "model_name": "NodeModel",
      "state": {
       "_id": "4d48d1d1-38c2-44da-8b67-cd46bcdb3cd1",
       "_model_module_version": "^0.2",
       "_view_module_version": "^0.2",
       "icon": "file",
       "name": "random_color_visualizer.py"
      }
     },
     "0a9c59707b5a450cbab15c49b5443052": {
      "model_module": "jupyter-leaflet",
      "model_module_version": "^0.18",
      "model_name": "LeafletMapStyleModel",
      "state": {
       "_model_module_version": "^0.18",
       "cursor": "move"
      }
     },
     "0aeb22da36224c319cddc354aafac8ba": {
      "model_module": "@jupyter-widgets/controls",
      "model_module_version": "2.0.0",
      "model_name": "ButtonModel",
      "state": {
       "button_style": "primary",
       "description": "Save",
       "disabled": true,
       "layout": "IPY_MODEL_a34f01aabb64464ab9d2bc3fa4fcd46b",
       "style": "IPY_MODEL_d50323764ad6443eb3e1bef993a76566",
       "tooltip": "Save edits to file."
      }
     },
     "0b1b729411df411081ab1efd076fef49": {
      "model_module": "@jupyter-widgets/controls",
      "model_module_version": "2.0.0",
      "model_name": "ToggleButtonModel",
      "state": {
       "button_style": "primary",
       "icon": "eraser",
       "layout": "IPY_MODEL_b5d2298cdc7644e99a5baa0d9cbac657",
       "style": "IPY_MODEL_6e372cf09c264edca062bb74300a8172",
       "tooltip": "Remove all drawn features"
      }
     },
     "0b746c5077034718b29184ddfa85b296": {
      "model_module": "@jupyter-widgets/controls",
      "model_module_version": "2.0.0",
      "model_name": "ToggleButtonModel",
      "state": {
       "button_style": "primary",
       "icon": "random",
       "layout": "IPY_MODEL_268c7d6a654241a68fea804660bbfaa8",
       "style": "IPY_MODEL_db66448af9374e82a01252a66edc1600",
       "tooltip": "Sankey plots"
      }
     },
     "0b83c393081a41bdb2a8e622e7b3e524": {
      "model_module": "ipytree",
      "model_module_version": "^0.2",
      "model_name": "NodeModel",
      "state": {
       "_id": "80087f66-14c9-4b53-a754-860ffb7ad2d4",
       "_model_module_version": "^0.2",
       "_view_module_version": "^0.2",
       "icon": "file",
       "name": "qgis_to_geemap.py"
      }
     },
     "0b85863b825b422896dc3043f3caf387": {
      "model_module": "ipytree",
      "model_module_version": "^0.2",
      "model_name": "NodeModel",
      "state": {
       "_id": "de8b9e21-6f5b-43e5-a71b-a9cdda23a55c",
       "_model_module_version": "^0.2",
       "_view_module_version": "^0.2",
       "icon": "file",
       "name": "pansharpen.py"
      }
     },
     "0b9145228d874b1083f63e48bdacd03b": {
      "model_module": "@jupyter-widgets/base",
      "model_module_version": "2.0.0",
      "model_name": "LayoutModel",
      "state": {
       "grid_gap": "1px 1px",
       "grid_template_columns": "32px 32px 32px ",
       "grid_template_rows": "32px 32px ",
       "padding": "5px",
       "width": "109px"
      }
     },
     "0bbd2d8971814ea18052085286649f20": {
      "model_module": "jupyter-leaflet",
      "model_module_version": "^0.18",
      "model_name": "LeafletDrawControlModel",
      "state": {
       "_model_module_version": "^0.18",
       "_view_module_version": "^0.18",
       "marker": {
        "shapeOptions": {
         "color": "#3388ff"
        }
       },
       "options": [
        "position"
       ],
       "polygon": {
        "shapeOptions": {
         "clickable": true,
         "color": "#3388ff",
         "fill": true,
         "fillColor": null,
         "fillOpacity": 0.2,
         "opacity": 0.5,
         "stroke": true,
         "weight": 4
        }
       },
       "polyline": {
        "shapeOptions": {
         "clickable": true,
         "color": "#3388ff",
         "fill": false,
         "opacity": 0.5,
         "stroke": true,
         "weight": 4
        }
       },
       "rectangle": {
        "shapeOptions": {
         "clickable": true,
         "color": "#3388ff",
         "fill": true,
         "fillColor": null,
         "fillOpacity": 0.2,
         "opacity": 0.5,
         "stroke": true,
         "weight": 4
        }
       }
      }
     },
     "0bda9d855dd546dfb82a5433f6473d4f": {
      "model_module": "@jupyter-widgets/controls",
      "model_module_version": "2.0.0",
      "model_name": "ToggleButtonStyleModel",
      "state": {
       "description_width": "",
       "font_family": null,
       "font_size": null,
       "font_style": null,
       "font_variant": null,
       "font_weight": null,
       "text_color": null,
       "text_decoration": null
      }
     },
     "0bf691b4cafa474c85ca572c28b9d1d5": {
      "model_module": "@jupyter-widgets/controls",
      "model_module_version": "2.0.0",
      "model_name": "DescriptionStyleModel",
      "state": {
       "description_width": ""
      }
     },
     "0c3916b2846d41a795239f4ae761d065": {
      "model_module": "@jupyter-widgets/controls",
      "model_module_version": "2.0.0",
      "model_name": "ToggleButtonStyleModel",
      "state": {
       "description_width": "",
       "font_family": null,
       "font_size": null,
       "font_style": null,
       "font_variant": null,
       "font_weight": null,
       "text_color": null,
       "text_decoration": null
      }
     },
     "0c5244c0fadc4ec4a51785ab0bdbd021": {
      "model_module": "@jupyter-widgets/controls",
      "model_module_version": "2.0.0",
      "model_name": "ToggleButtonModel",
      "state": {
       "button_style": "primary",
       "icon": "question",
       "layout": "IPY_MODEL_3659b15d039943d6b4aeebfe4afb9aca",
       "style": "IPY_MODEL_bf00032d8deb4340a52dd40d4b46cf38",
       "tooltip": "Get help"
      }
     },
     "0c642faea8004a178b065f4edea8695f": {
      "model_module": "@jupyter-widgets/base",
      "model_module_version": "2.0.0",
      "model_name": "LayoutModel",
      "state": {
       "height": "auto",
       "padding": "0px 0px 0px 4px",
       "width": "auto"
      }
     },
     "0c9d31f7b1db451f9f23cefe2450e344": {
      "model_module": "@jupyter-widgets/base",
      "model_module_version": "2.0.0",
      "model_name": "LayoutModel",
      "state": {
       "height": "auto",
       "padding": "0px 0px 0px 4px",
       "width": "auto"
      }
     },
     "0ca064d094cb46a4855f58f02446d305": {
      "model_module": "ipytree",
      "model_module_version": "^0.2",
      "model_name": "NodeModel",
      "state": {
       "_id": "94b5f5ed-fb3c-4e0a-b2b7-27a92087314b",
       "_model_module_version": "^0.2",
       "_view_module_version": "^0.2",
       "icon": "file",
       "name": "exporting_data.py"
      }
     },
     "0ca0c186501548a9ac2b73188ff9e5b2": {
      "model_module": "ipytree",
      "model_module_version": "^0.2",
      "model_name": "NodeModel",
      "state": {
       "_id": "c5ee4f45-3b9d-4183-84e4-5016502f4e67",
       "_model_module_version": "^0.2",
       "_view_module_version": "^0.2",
       "icon": "file",
       "name": "hdr_landsat.py"
      }
     },
     "0cb7083115424b058bafc965db9ba562": {
      "model_module": "ipytree",
      "model_module_version": "^0.2",
      "model_name": "NodeModel",
      "state": {
       "_id": "b82f6e8a-9d58-4cfc-9e65-84e4d39a408e",
       "_model_module_version": "^0.2",
       "_view_module_version": "^0.2",
       "icon": "file",
       "name": "map_function.py"
      }
     },
     "0d1342e1dcd544b98096debd6d605993": {
      "model_module": "@jupyter-widgets/controls",
      "model_module_version": "2.0.0",
      "model_name": "TextStyleModel",
      "state": {
       "description_width": "",
       "font_size": null,
       "text_color": null
      }
     },
     "0d24ce1f10f3446bbc5f846588f30dd2": {
      "model_module": "ipytree",
      "model_module_version": "^0.2",
      "model_name": "NodeModel",
      "state": {
       "_id": "a4da06ab-e075-49a2-9fab-5a13d3cf0c29",
       "_model_module_version": "^0.2",
       "_view_module_version": "^0.2",
       "icon": "file",
       "name": "styled_layer_descriptors.py"
      }
     },
     "0d35f3c5b63844dd95a3b483ab64bff0": {
      "model_module": "ipytree",
      "model_module_version": "^0.2",
      "model_name": "NodeModel",
      "state": {
       "_id": "bb084f38-d040-439c-bd5b-e5ab79544b7a",
       "_model_module_version": "^0.2",
       "_view_module_version": "^0.2",
       "icon": "file",
       "name": "palettes_crameri_oleron_dem.py"
      }
     },
     "0d58a71ea850460a8c1db9170846240d": {
      "model_module": "@jupyter-widgets/controls",
      "model_module_version": "2.0.0",
      "model_name": "ToggleButtonModel",
      "state": {
       "button_style": "primary",
       "icon": "adjust",
       "layout": "IPY_MODEL_4ae98c3e2ecf4bc4bb2b102dcfbf9b19",
       "style": "IPY_MODEL_3abf322009904f7f8059b3a6c458cadc",
       "tooltip": "Planet imagery"
      }
     },
     "0d817c0c3e8c44cc87338fdc8985567a": {
      "model_module": "@jupyter-widgets/controls",
      "model_module_version": "2.0.0",
      "model_name": "ToggleButtonStyleModel",
      "state": {
       "description_width": "",
       "font_family": null,
       "font_size": null,
       "font_style": null,
       "font_variant": null,
       "font_weight": null,
       "text_color": null,
       "text_decoration": null
      }
     },
     "0e13b5bfc05e4a958bd8d5daa09df919": {
      "model_module": "ipytree",
      "model_module_version": "^0.2",
      "model_name": "NodeModel",
      "state": {
       "_id": "2902eda4-2c5c-46da-aae1-395fc4898d14",
       "_model_module_version": "^0.2",
       "_view_module_version": "^0.2",
       "icon": "file",
       "name": "distance.py"
      }
     },
     "0e458b9593a54141b0f91c212f4087b3": {
      "model_module": "@jupyter-widgets/controls",
      "model_module_version": "2.0.0",
      "model_name": "ToggleButtonsModel",
      "state": {
       "_options_labels": [
        "name/address",
        "lat-lon",
        "data"
       ],
       "button_style": "",
       "icons": [],
       "index": 0,
       "layout": "IPY_MODEL_18a36fd1a64a4a4d9ffdec64b97361ed",
       "style": "IPY_MODEL_31814961fdbc4773a88b4f025cfcdeaf",
       "tooltips": [
        "Search by place name or address",
        "Search by lat-lon coordinates",
        "Search Earth Engine data catalog"
       ]
      }
     },
     "0e5ce36a4b004e37944f1f927b9fb854": {
      "model_module": "@jupyter-widgets/controls",
      "model_module_version": "2.0.0",
      "model_name": "ToggleButtonsStyleModel",
      "state": {
       "button_width": "110px",
       "description_width": ""
      }
     },
     "0e60ab31e51e4211b652a7fdda9f6b31": {
      "model_module": "ipytree",
      "model_module_version": "^0.2",
      "model_name": "NodeModel",
      "state": {
       "_id": "127dff99-2ab6-4484-895b-9fb35609e51b",
       "_model_module_version": "^0.2",
       "_view_module_version": "^0.2",
       "icon": "file",
       "name": "map_function.py"
      }
     },
     "0e648e5de6c94460b1a4631aff151d5c": {
      "model_module": "@jupyter-widgets/base",
      "model_module_version": "2.0.0",
      "model_name": "LayoutModel",
      "state": {
       "height": "auto",
       "padding": "0px 0px 0px 4px",
       "width": "auto"
      }
     },
     "0ee221bbfa7540bcb1384dff849d1e5e": {
      "model_module": "ipytree",
      "model_module_version": "^0.2",
      "model_name": "NodeModel",
      "state": {
       "_id": "d64cd96e-4882-441d-9de1-5fbae9778253",
       "_model_module_version": "^0.2",
       "_view_module_version": "^0.2",
       "name": "AssetManagement",
       "nodes": [
        "IPY_MODEL_8e9de87b2b2a466fbb641d4911756d98",
        "IPY_MODEL_e42111178fbb4a7da9144d197081c128",
        "IPY_MODEL_139516cafa4447a3bd2996b5bc5f215a",
        "IPY_MODEL_3436ce1e455742238dfee35c5e404fdf",
        "IPY_MODEL_cf9eded2ce114d29882e7accc8824289",
        "IPY_MODEL_e61e4e6ca9f84317b92f93284043cc38",
        "IPY_MODEL_9bae96efa56d40eeab35317b233f6db0",
        "IPY_MODEL_dec9a456abb54e9fbfac1e12bdfa9313",
        "IPY_MODEL_ad766723683c4f3ab65d8845ab526b36"
       ],
       "opened": false
      }
     },
     "0f2ae04dd87846aea6056f3130c545e6": {
      "model_module": "@jupyter-widgets/controls",
      "model_module_version": "2.0.0",
      "model_name": "ToggleButtonModel",
      "state": {
       "button_style": "primary",
       "icon": "globe",
       "layout": "IPY_MODEL_3fe673c9608f40d0988a3da14418d423",
       "style": "IPY_MODEL_82f6f96087344e0ea08002c2d071c8d9",
       "tooltip": "Create timelapse"
      }
     },
     "0f6053e6566c4074a36972ec2d50495f": {
      "model_module": "@jupyter-widgets/controls",
      "model_module_version": "2.0.0",
      "model_name": "HBoxModel",
      "state": {
       "children": [
        "IPY_MODEL_fe4da18fa4c14b4089c8d3e1004a9f5d"
       ],
       "layout": "IPY_MODEL_bd4ac41fe4b04cf48077c04660f571fd"
      }
     },
     "0f7755441319477a9a389d48ee59cc7e": {
      "model_module": "@jupyter-widgets/controls",
      "model_module_version": "2.0.0",
      "model_name": "ToggleButtonStyleModel",
      "state": {
       "description_width": "",
       "font_family": null,
       "font_size": null,
       "font_style": null,
       "font_variant": null,
       "font_weight": null,
       "text_color": null,
       "text_decoration": null
      }
     },
     "0f85185b9dea42aab22cf747f600af7b": {
      "model_module": "ipytree",
      "model_module_version": "^0.2",
      "model_name": "NodeModel",
      "state": {
       "_id": "2a6d0c36-a548-40ec-a262-e0b0292bc8fc",
       "_model_module_version": "^0.2",
       "_view_module_version": "^0.2",
       "icon": "file",
       "name": "03_finding_images.py"
      }
     },
     "0fb27a350cc543a88fcf5f89a2693c12": {
      "model_module": "ipytree",
      "model_module_version": "^0.2",
      "model_name": "NodeModel",
      "state": {
       "_id": "d31bef3e-3c8b-479b-8680-7a6c1eeb7069",
       "_model_module_version": "^0.2",
       "_view_module_version": "^0.2",
       "icon": "file",
       "name": "landsat_filtering.py"
      }
     },
     "0fbdd9fe8b6248dc8ae3e016b51f32ff": {
      "model_module": "@jupyter-widgets/base",
      "model_module_version": "2.0.0",
      "model_name": "LayoutModel",
      "state": {}
     },
     "0ff2e233f9a54844a4af4ea9e3af8e1c": {
      "model_module": "ipytree",
      "model_module_version": "^0.2",
      "model_name": "NodeModel",
      "state": {
       "_id": "f9064966-2f75-4b9a-89d3-d076444861b3",
       "_model_module_version": "^0.2",
       "_view_module_version": "^0.2",
       "icon": "file",
       "name": "array_sorting.py"
      }
     },
     "0ff45447459e43b3884eda076f456b1c": {
      "model_module": "ipytree",
      "model_module_version": "^0.2",
      "model_name": "NodeModel",
      "state": {
       "_id": "3f3bf3b3-1edd-4d40-8f81-eec5ed8d9743",
       "_model_module_version": "^0.2",
       "_view_module_version": "^0.2",
       "icon": "file",
       "name": "map_center_object_no_zoom.py"
      }
     },
     "1005094d42ac48a4ba3981df09245e00": {
      "model_module": "jupyter-leaflet",
      "model_module_version": "^0.18",
      "model_name": "LeafletWidgetControlModel",
      "state": {
       "_model_module": "jupyter-leaflet",
       "_model_module_version": "^0.18",
       "_view_count": null,
       "_view_module": "jupyter-leaflet",
       "_view_module_version": "^0.18",
       "options": [
        "position",
        "transparent_bg"
       ],
       "position": "topleft",
       "widget": "IPY_MODEL_44e7cb6d5521460aa37602fbfc984b33"
      }
     },
     "100f0e7a8e8546dd90e89c0c30a32285": {
      "model_module": "@jupyter-widgets/base",
      "model_module_version": "2.0.0",
      "model_name": "LayoutModel",
      "state": {}
     },
     "10530b2d43f440efbaeb457e7bb2cf14": {
      "model_module": "@jupyter-widgets/controls",
      "model_module_version": "2.0.0",
      "model_name": "HBoxModel",
      "state": {
       "children": [
        "IPY_MODEL_826a912b426146c8ae8e0052c14c0eee",
        "IPY_MODEL_3b34d1fe37d9494ea422ef0972a8b9a7"
       ],
       "layout": "IPY_MODEL_ee2e4d92a49d46a1a2be4fc416d60b74"
      }
     },
     "1084bc6559a8435bbe653a311d9f1bf0": {
      "model_module": "ipytree",
      "model_module_version": "^0.2",
      "model_name": "NodeModel",
      "state": {
       "_id": "59baca97-ce73-40c2-bbe8-56a8828a317b",
       "_model_module_version": "^0.2",
       "_view_module_version": "^0.2",
       "icon": "file",
       "name": "search_by_buffer_distance.py"
      }
     },
     "1101c41dbd62499b8741053a827906f0": {
      "model_module": "@jupyter-widgets/controls",
      "model_module_version": "2.0.0",
      "model_name": "ToggleButtonModel",
      "state": {
       "button_style": "primary",
       "icon": "question",
       "layout": "IPY_MODEL_8496093b4cf24ef3b8ee5c23ba5cde60",
       "style": "IPY_MODEL_559adcbc47f14af7b83fbc0eab436045",
       "tooltip": "Get help"
      }
     },
     "1114b9cca87b4d15b4ea361458ba77fb": {
      "model_module": "ipytree",
      "model_module_version": "^0.2",
      "model_name": "NodeModel",
      "state": {
       "_id": "ebe59bd3-76c3-48d5-ab74-3834ee9b56d4",
       "_model_module_version": "^0.2",
       "_view_module_version": "^0.2",
       "icon": "file",
       "name": "get_image_centroid.py"
      }
     },
     "11198868cd7646e6a936765e65ade495": {
      "model_module": "@jupyter-widgets/base",
      "model_module_version": "2.0.0",
      "model_name": "LayoutModel",
      "state": {
       "height": "auto",
       "padding": "0px 0px 0px 4px",
       "width": "auto"
      }
     },
     "1126f9e0d6f345f5a97c7243779bc6a3": {
      "model_module": "ipytree",
      "model_module_version": "^0.2",
      "model_name": "NodeModel",
      "state": {
       "_id": "8352edf0-cfb5-4000-8415-ff7450011662",
       "_model_module_version": "^0.2",
       "_view_module_version": "^0.2",
       "icon": "file",
       "name": "sentinel-2.py"
      }
     },
     "1186d07945044f5089f30a47cde74e23": {
      "model_module": "jupyter-leaflet",
      "model_module_version": "^0.18",
      "model_name": "LeafletMapStyleModel",
      "state": {
       "_model_module_version": "^0.18",
       "cursor": "move"
      }
     },
     "11898a6971cc41f39a005dc29c960479": {
      "model_module": "@jupyter-widgets/controls",
      "model_module_version": "2.0.0",
      "model_name": "ToggleButtonStyleModel",
      "state": {
       "description_width": "",
       "font_family": null,
       "font_size": null,
       "font_style": null,
       "font_variant": null,
       "font_weight": null,
       "text_color": null,
       "text_decoration": null
      }
     },
     "119c0f8689ef4bdbaa53eae57d9ea8dc": {
      "model_module": "@jupyter-widgets/controls",
      "model_module_version": "2.0.0",
      "model_name": "ToggleButtonModel",
      "state": {
       "button_style": "primary",
       "icon": "line-chart",
       "layout": "IPY_MODEL_7a01870c214d4e8aa2096b9a258f2734",
       "style": "IPY_MODEL_8526847ef516442da2ac439bd5208a46",
       "tooltip": "Creating and plotting transects"
      }
     },
     "11ac81d7985740aa97cc03ed478acd58": {
      "model_module": "ipytree",
      "model_module_version": "^0.2",
      "model_name": "NodeModel",
      "state": {
       "_id": "9d9b2be3-49ae-4845-a24a-93723128eae1",
       "_model_module_version": "^0.2",
       "_view_module_version": "^0.2",
       "name": "ImageCollection",
       "nodes": [
        "IPY_MODEL_016e456106244560a6cf2672ea3e7884",
        "IPY_MODEL_2f00800e38994a519241cba81282ffbd",
        "IPY_MODEL_3e4dd877403b44c792a2754f708a91c2",
        "IPY_MODEL_166fdc75493e40e192d6b79427710360",
        "IPY_MODEL_6da4f8a6ad104236872369e533bfa504",
        "IPY_MODEL_bc9209a6211745d4ad14d5db1fd678bf",
        "IPY_MODEL_3fef04b1a36645c18fed4176b9103103",
        "IPY_MODEL_9f71bf98a2ff4e4f8ce2ff0103f04145",
        "IPY_MODEL_2a9787040aad4074b6dd72f01936b470",
        "IPY_MODEL_1114b9cca87b4d15b4ea361458ba77fb",
        "IPY_MODEL_0fb27a350cc543a88fcf5f89a2693c12",
        "IPY_MODEL_15c2ca3a6d864a8e83275e47d651bf6b",
        "IPY_MODEL_8529c4677fe946c594e21c67e9ee4c6f",
        "IPY_MODEL_0cb7083115424b058bafc965db9ba562",
        "IPY_MODEL_eddde11895c14d009cae319246c1425b",
        "IPY_MODEL_9e3a1565164e4ed985b69be6b97b8b17",
        "IPY_MODEL_1fd97baf63394cb79520d2440780a873",
        "IPY_MODEL_dc468b4227614ecb8bc33f16161933ee",
        "IPY_MODEL_88abae8516494737a7d13a13eece9e26",
        "IPY_MODEL_898992a500bb40c2989bb4372c7b1170"
       ],
       "opened": false
      }
     },
     "11b77767a99744e492d266e81b857b99": {
      "model_module": "@jupyter-widgets/controls",
      "model_module_version": "2.0.0",
      "model_name": "TextStyleModel",
      "state": {
       "description_width": "",
       "font_size": null,
       "text_color": null
      }
     },
     "11b911daa41c412da489875e12bc6d90": {
      "model_module": "@jupyter-widgets/controls",
      "model_module_version": "2.0.0",
      "model_name": "ToggleButtonModel",
      "state": {
       "button_style": "primary",
       "icon": "globe",
       "layout": "IPY_MODEL_f91b858b67a947a284af13939a854155",
       "style": "IPY_MODEL_fa560b5c5b7c4b839debe1f2d7466b9c",
       "tooltip": "Create timelapse"
      }
     },
     "11cab149d32a4aa7ba8c08fd42c41dbe": {
      "model_module": "ipytree",
      "model_module_version": "^0.2",
      "model_name": "NodeModel",
      "state": {
       "_id": "d4fe623f-a06e-458f-a641-0d4a76a2ce84",
       "_model_module_version": "^0.2",
       "_view_module_version": "^0.2",
       "icon": "file",
       "name": "set_image_properties.py"
      }
     },
     "121c8e8b238d48f991165d7d2930ce49": {
      "model_module": "@jupyter-widgets/controls",
      "model_module_version": "2.0.0",
      "model_name": "ToggleButtonStyleModel",
      "state": {
       "description_width": "",
       "font_family": null,
       "font_size": null,
       "font_style": null,
       "font_variant": null,
       "font_weight": null,
       "text_color": null,
       "text_decoration": null
      }
     },
     "124c18c85ea140dead49c786d4bf829c": {
      "model_module": "jupyter-leaflet",
      "model_module_version": "^0.18",
      "model_name": "LeafletWidgetControlModel",
      "state": {
       "_model_module": "jupyter-leaflet",
       "_model_module_version": "^0.18",
       "_view_count": null,
       "_view_module": "jupyter-leaflet",
       "_view_module_version": "^0.18",
       "options": [
        "position",
        "transparent_bg"
       ],
       "position": "topleft",
       "widget": "IPY_MODEL_b9e56cef87b2455cbed3cc417e37e62f"
      }
     },
     "1277ccd864404536bea698c80489f2ce": {
      "model_module": "@jupyter-widgets/controls",
      "model_module_version": "2.0.0",
      "model_name": "TextModel",
      "state": {
       "layout": "IPY_MODEL_713cb66364c84e449f1e43316751ecd6",
       "placeholder": "Filter scripts...",
       "style": "IPY_MODEL_3e246c5a130f45b5bf3bb29713b7f4a0"
      }
     },
     "129659ca8286450d8d1a4857c372cd13": {
      "model_module": "@jupyter-widgets/base",
      "model_module_version": "2.0.0",
      "model_name": "LayoutModel",
      "state": {}
     },
     "129d448e29cf4212846890efb413a73c": {
      "model_module": "@jupyter-widgets/controls",
      "model_module_version": "2.0.0",
      "model_name": "ToggleButtonModel",
      "state": {
       "button_style": "primary",
       "icon": "bar-chart",
       "layout": "IPY_MODEL_b965f8e42d634af492d78ca77e313791",
       "style": "IPY_MODEL_312cef98702648428e1be38312b2b63e",
       "tooltip": "Plotting"
      }
     },
     "12d56f62f0d745ef918e525a92a3b046": {
      "model_module": "@jupyter-widgets/controls",
      "model_module_version": "2.0.0",
      "model_name": "TextModel",
      "state": {
       "layout": "IPY_MODEL_2cdbb16155264e9f80661f2e239234e0",
       "placeholder": "Enter the link to a Git repository here...",
       "style": "IPY_MODEL_720c922c8cc04636af206dea0635538e"
      }
     },
     "131adaa131114676945ba50f4b8a1cb6": {
      "model_module": "@jupyter-widgets/base",
      "model_module_version": "2.0.0",
      "model_name": "LayoutModel",
      "state": {
       "height": "auto",
       "padding": "0px 0px 0px 4px",
       "width": "auto"
      }
     },
     "134885eb1a964302803880a845ec06a7": {
      "model_module": "@jupyter-widgets/base",
      "model_module_version": "2.0.0",
      "model_name": "LayoutModel",
      "state": {
       "height": "auto",
       "padding": "0px 0px 0px 4px",
       "width": "auto"
      }
     },
     "1349dcb30ebe4757bebe3a64f24a76f3": {
      "model_module": "ipyevents",
      "model_module_version": "2.0.2",
      "model_name": "EventModel",
      "state": {
       "_supported_key_events": [
        "keydown",
        "keyup"
       ],
       "_supported_mouse_events": [
        "click",
        "auxclick",
        "dblclick",
        "mouseenter",
        "mouseleave",
        "mousedown",
        "mouseup",
        "mousemove",
        "wheel",
        "contextmenu",
        "dragstart",
        "drag",
        "dragend",
        "dragenter",
        "dragover",
        "dragleave",
        "drop"
       ],
       "_supported_touch_events": [
        "touchstart",
        "touchend",
        "touchmove",
        "touchcancel"
       ],
       "_view_module": "@jupyter-widgets/controls",
       "source": "IPY_MODEL_d651f480ef344fc3a5f93e8bf6a8c6ce",
       "throttle_or_debounce": "",
       "watched_events": [
        "mouseenter",
        "mouseleave"
       ],
       "xy_coordinate_system": ""
      }
     },
     "134f596ecbe647fd9fb4625475a4b55d": {
      "model_module": "@jupyter-widgets/base",
      "model_module_version": "2.0.0",
      "model_name": "LayoutModel",
      "state": {
       "max_height": "350px",
       "max_width": "340px",
       "overflow": "scroll"
      }
     },
     "1387f261db64413788f93b5f0b4107ac": {
      "model_module": "@jupyter-widgets/base",
      "model_module_version": "2.0.0",
      "model_name": "LayoutModel",
      "state": {}
     },
     "139516cafa4447a3bd2996b5bc5f215a": {
      "model_module": "ipytree",
      "model_module_version": "^0.2",
      "model_name": "NodeModel",
      "state": {
       "_id": "d2987fa6-0aa3-4171-b27a-4ba6145af874",
       "_model_module_version": "^0.2",
       "_view_module_version": "^0.2",
       "icon": "file",
       "name": "export_TimeSeries.py"
      }
     },
     "13a23c7d00914277a30a20cb6066f86e": {
      "model_module": "jupyter-leaflet",
      "model_module_version": "^0.18",
      "model_name": "LeafletDrawControlModel",
      "state": {
       "_model_module_version": "^0.18",
       "_view_module_version": "^0.18",
       "marker": {
        "shapeOptions": {
         "color": "#3388ff"
        }
       },
       "options": [
        "position"
       ],
       "polygon": {
        "shapeOptions": {
         "clickable": true,
         "color": "#3388ff",
         "fill": true,
         "fillColor": null,
         "fillOpacity": 0.2,
         "opacity": 0.5,
         "stroke": true,
         "weight": 4
        }
       },
       "polyline": {
        "shapeOptions": {
         "clickable": true,
         "color": "#3388ff",
         "fill": false,
         "opacity": 0.5,
         "stroke": true,
         "weight": 4
        }
       },
       "rectangle": {
        "shapeOptions": {
         "clickable": true,
         "color": "#3388ff",
         "fill": true,
         "fillColor": null,
         "fillOpacity": 0.2,
         "opacity": 0.5,
         "stroke": true,
         "weight": 4
        }
       }
      }
     },
     "13b2f40557b04b0eaa46b9a06e37551e": {
      "model_module": "ipytree",
      "model_module_version": "^0.2",
      "model_name": "NodeModel",
      "state": {
       "_id": "dc9ff448-8bc2-4231-be68-d13fc5a8fc1d",
       "_model_module_version": "^0.2",
       "_view_module_version": "^0.2",
       "icon": "file",
       "name": "eigen_analysis.py"
      }
     },
     "13fa5541380a43f686974606e478046c": {
      "model_module": "ipytree",
      "model_module_version": "^0.2",
      "model_name": "NodeModel",
      "state": {
       "_id": "773539fb-a461-4ac3-a10c-f96a18c60437",
       "_model_module_version": "^0.2",
       "_view_module_version": "^0.2",
       "icon": "file",
       "name": "us_ned_chili.py"
      }
     },
     "13fcdd5cecfd437c8c424059a0a0987b": {
      "model_module": "ipytree",
      "model_module_version": "^0.2",
      "model_name": "NodeModel",
      "state": {
       "_id": "d72eea15-e046-4059-a207-d040c4f126db",
       "_model_module_version": "^0.2",
       "_view_module_version": "^0.2",
       "icon": "file",
       "name": "us_lithology.py"
      }
     },
     "140318abd3f941939064b007b63d8c25": {
      "model_module": "@jupyter-widgets/controls",
      "model_module_version": "2.0.0",
      "model_name": "ToggleButtonModel",
      "state": {
       "button_style": "primary",
       "icon": "retweet",
       "layout": "IPY_MODEL_25bb13ee540543e5960962b159b78c5a",
       "style": "IPY_MODEL_46cecc4b86ae4f4e9a219bc11a787540",
       "tooltip": "Convert Earth Engine JavaScript to Python"
      }
     },
     "1411827d97cc40c69f5e4f5afd3cc330": {
      "model_module": "ipytree",
      "model_module_version": "^0.2",
      "model_name": "NodeModel",
      "state": {
       "_id": "1ccd6dbc-6b02-4f77-b63a-de1aefccdeee",
       "_model_module_version": "^0.2",
       "_view_module_version": "^0.2",
       "icon": "file",
       "name": "creating_feature_collection.py"
      }
     },
     "142d138017d742d2a46c23c6610e8a2c": {
      "model_module": "ipytree",
      "model_module_version": "^0.2",
      "model_name": "NodeModel",
      "state": {
       "_id": "8ef489cb-544c-4d94-965a-67fcdcc3d754",
       "_model_module_version": "^0.2",
       "_view_module_version": "^0.2",
       "icon": "file",
       "name": "srtm_topo_diversity.py"
      }
     },
     "14476ace46ef475cb239656b07d2d92b": {
      "model_module": "@jupyter-widgets/controls",
      "model_module_version": "2.0.0",
      "model_name": "VBoxModel",
      "state": {
       "children": [
        "IPY_MODEL_9547ad5f433240bd9341fdc6eeaa32fe"
       ],
       "layout": "IPY_MODEL_cd75cf62d1764d4c98c185e6d3b9f87a"
      }
     },
     "1471715803bc40fb8bfe288bec7936b7": {
      "model_module": "jupyter-leaflet",
      "model_module_version": "^0.18",
      "model_name": "LeafletWidgetControlModel",
      "state": {
       "_model_module": "jupyter-leaflet",
       "_model_module_version": "^0.18",
       "_view_count": null,
       "_view_module": "jupyter-leaflet",
       "_view_module_version": "^0.18",
       "options": [
        "position",
        "transparent_bg"
       ],
       "position": "topright",
       "widget": "IPY_MODEL_1fd11245ddf742d2afb58a83980702ea"
      }
     },
     "14816915f5df466695f3a5ab59af02b1": {
      "model_module": "ipytree",
      "model_module_version": "^0.2",
      "model_name": "NodeModel",
      "state": {
       "_id": "abbc1163-a587-40ef-9753-c3aa6b997fe5",
       "_model_module_version": "^0.2",
       "_view_module_version": "^0.2",
       "icon": "file",
       "name": "pixel_area.py"
      }
     },
     "14cb1cbacb8242e98ab41d306aff4bcf": {
      "model_module": "@jupyter-widgets/controls",
      "model_module_version": "2.0.0",
      "model_name": "ToggleButtonStyleModel",
      "state": {
       "description_width": "",
       "font_family": null,
       "font_size": null,
       "font_style": null,
       "font_variant": null,
       "font_weight": null,
       "text_color": null,
       "text_decoration": null
      }
     },
     "14cdd0876de443ed9244b8a175631580": {
      "model_module": "@jupyter-widgets/controls",
      "model_module_version": "2.0.0",
      "model_name": "TextStyleModel",
      "state": {
       "description_width": "",
       "font_size": null,
       "text_color": null
      }
     },
     "14f008ff01e34531845d95d65233ba75": {
      "model_module": "ipytree",
      "model_module_version": "^0.2",
      "model_name": "NodeModel",
      "state": {
       "_id": "4a0614e8-ffec-42de-903c-7a2ee2cc8ab8",
       "_model_module_version": "^0.2",
       "_view_module_version": "^0.2",
       "icon": "file",
       "name": "where.py"
      }
     },
     "14f7b1284572413c81b47c6ba4849e82": {
      "model_module": "@jupyter-widgets/controls",
      "model_module_version": "2.0.0",
      "model_name": "ToggleButtonStyleModel",
      "state": {
       "description_width": "",
       "font_family": null,
       "font_size": null,
       "font_style": null,
       "font_variant": null,
       "font_weight": null,
       "text_color": null,
       "text_decoration": null
      }
     },
     "1502ba0c0b5f4ed8af00b799e73d95a8": {
      "model_module": "jupyter-leaflet",
      "model_module_version": "^0.18",
      "model_name": "LeafletMapStyleModel",
      "state": {
       "_model_module_version": "^0.18"
      }
     },
     "156d6a82e0c142f39bd6dfe50b6b3304": {
      "model_module": "@jupyter-widgets/base",
      "model_module_version": "2.0.0",
      "model_name": "LayoutModel",
      "state": {}
     },
     "1599293c39354e459d67e37c3361d8c7": {
      "model_module": "ipytree",
      "model_module_version": "^0.2",
      "model_name": "NodeModel",
      "state": {
       "_id": "a55972a5-255b-4953-aeac-71f2163c602a",
       "_model_module_version": "^0.2",
       "_view_module_version": "^0.2",
       "icon": "file",
       "name": "overview.py"
      }
     },
     "15c2ca3a6d864a8e83275e47d651bf6b": {
      "model_module": "ipytree",
      "model_module_version": "^0.2",
      "model_name": "NodeModel",
      "state": {
       "_id": "3378c308-680d-4c39-b2b8-599aaf391db6",
       "_model_module_version": "^0.2",
       "_view_module_version": "^0.2",
       "icon": "file",
       "name": "landsat_simple_composite.py"
      }
     },
     "1635f790b9434bb49f1663247f272a5b": {
      "model_module": "ipytree",
      "model_module_version": "^0.2",
      "model_name": "NodeModel",
      "state": {
       "_id": "17020325-ec1d-425a-930b-c5505e2c30d1",
       "_model_module_version": "^0.2",
       "_view_module_version": "^0.2",
       "icon": "file",
       "name": "landsat_symbology.py"
      }
     },
     "164b77003fcc420aaf838022c0eaca73": {
      "model_module": "@jupyter-widgets/controls",
      "model_module_version": "2.0.0",
      "model_name": "DescriptionStyleModel",
      "state": {
       "description_width": ""
      }
     },
     "165bc9e8a8284501a2053987baaed370": {
      "model_module": "ipyevents",
      "model_module_version": "2.0.2",
      "model_name": "EventModel",
      "state": {
       "_supported_key_events": [
        "keydown",
        "keyup"
       ],
       "_supported_mouse_events": [
        "click",
        "auxclick",
        "dblclick",
        "mouseenter",
        "mouseleave",
        "mousedown",
        "mouseup",
        "mousemove",
        "wheel",
        "contextmenu",
        "dragstart",
        "drag",
        "dragend",
        "dragenter",
        "dragover",
        "dragleave",
        "drop"
       ],
       "_supported_touch_events": [
        "touchstart",
        "touchend",
        "touchmove",
        "touchcancel"
       ],
       "_view_module": "@jupyter-widgets/controls",
       "source": "IPY_MODEL_ecd01fa8bbfd4b14b2bff2c89f1e10fa",
       "throttle_or_debounce": "",
       "watched_events": [
        "mouseenter",
        "mouseleave"
       ],
       "xy_coordinate_system": ""
      }
     },
     "165eb87f41424a3eb09f71f95f595a9c": {
      "model_module": "@jupyter-widgets/base",
      "model_module_version": "2.0.0",
      "model_name": "LayoutModel",
      "state": {
       "height": "auto",
       "padding": "0px 0px 0px 4px",
       "width": "auto"
      }
     },
     "166fdc75493e40e192d6b79427710360": {
      "model_module": "ipytree",
      "model_module_version": "^0.2",
      "model_name": "NodeModel",
      "state": {
       "_id": "5d6a6836-c1c1-443e-862f-bbf3bae536dd",
       "_model_module_version": "^0.2",
       "_view_module_version": "^0.2",
       "icon": "file",
       "name": "expression_map.py"
      }
     },
     "169f6f73e1344cb69602edf30f405d3f": {
      "model_module": "ipytree",
      "model_module_version": "^0.2",
      "model_name": "NodeModel",
      "state": {
       "_id": "005ab5c3-8a17-4192-8c68-9e50ee98cd57",
       "_model_module_version": "^0.2",
       "_view_module_version": "^0.2",
       "name": "Vectors",
       "nodes": [
        "IPY_MODEL_6bdf59a722804b3cbb8eea7964cff5e3",
        "IPY_MODEL_c8bab87c648a42dbb4f2e228c2b83263",
        "IPY_MODEL_aa8e06bb3e30406bb1d939b672b44935",
        "IPY_MODEL_e91be72954d843d38ebd31fe028f10ba",
        "IPY_MODEL_504a8c6ac50048c49edf6d65a37d37ad",
        "IPY_MODEL_08303fc31bb546dc9e758eda81a3fba6",
        "IPY_MODEL_573df87f17c347948af3e0952111e6e3",
        "IPY_MODEL_2b441ee2cb324345a7079197dd935f8a",
        "IPY_MODEL_8305b864436045f6b973e9b35f0b1997",
        "IPY_MODEL_740e12b6c1ec4992bdc0f9ea223882ee",
        "IPY_MODEL_abc97379fcae449e9c21087fd792fb95",
        "IPY_MODEL_ea303a2b1c2d4be2a9977ee7f8d30b54",
        "IPY_MODEL_dfbbf3b76094486da46431ff0979b71d",
        "IPY_MODEL_2037e0e4c19848d28182932bc0d12b1c",
        "IPY_MODEL_dbed2e44831c44da99f929dbcd2a6c71"
       ],
       "opened": false
      }
     },
     "16c6e01e338644a9b9b2c08a8c177674": {
      "model_module": "ipytree",
      "model_module_version": "^0.2",
      "model_name": "NodeModel",
      "state": {
       "_id": "d56cb899-8dc2-4960-b0da-a4964a6a686e",
       "_model_module_version": "^0.2",
       "_view_module_version": "^0.2",
       "icon": "file",
       "name": "filtering_by_calendar_range.py"
      }
     },
     "16e1b96d7bc84ecea24e52b63154ea84": {
      "model_module": "ipytree",
      "model_module_version": "^0.2",
      "model_name": "NodeModel",
      "state": {
       "_id": "269bfc72-1145-4dd3-8ea8-58640158ae67",
       "_model_module_version": "^0.2",
       "_view_module_version": "^0.2",
       "icon": "file",
       "name": "normalized_difference.py"
      }
     },
     "16e87bb1b18845e6bf117d0bba5fff05": {
      "model_module": "ipytree",
      "model_module_version": "^0.2",
      "model_name": "NodeModel",
      "state": {
       "_id": "3967b9d6-3512-41a3-a9ea-79f21720c326",
       "_model_module_version": "^0.2",
       "_view_module_version": "^0.2",
       "icon": "file",
       "name": "clustering.py"
      }
     },
     "16f674fb10214185983ad57aa1aeb9e3": {
      "model_module": "@jupyter-widgets/base",
      "model_module_version": "2.0.0",
      "model_name": "LayoutModel",
      "state": {}
     },
     "16f6f9529b6b468a8065e71ca16bfd33": {
      "model_module": "ipytree",
      "model_module_version": "^0.2",
      "model_name": "NodeModel",
      "state": {
       "_id": "659f25fa-990b-42b8-9289-eeeee0aa10b9",
       "_model_module_version": "^0.2",
       "_view_module_version": "^0.2",
       "icon": "file",
       "name": "srtm_landforms.py"
      }
     },
     "170ac1e32dd24532926494090835f46e": {
      "model_module": "@jupyter-widgets/controls",
      "model_module_version": "2.0.0",
      "model_name": "HBoxModel",
      "state": {
       "children": [
        "IPY_MODEL_4390142a79144b02b995587fd9a6a753",
        "IPY_MODEL_1bb7180d0fa046e69ec86b66847b5358"
       ],
       "layout": "IPY_MODEL_c764ff65ca4a4162a8c0d265a7191c3f"
      }
     },
     "1714ec1f44d5403ca464e1a27a0ab356": {
      "model_module": "ipytree",
      "model_module_version": "^0.2",
      "model_name": "NodeModel",
      "state": {
       "_id": "22c7f53e-513c-42ae-b55d-b9294892d897",
       "_model_module_version": "^0.2",
       "_view_module_version": "^0.2",
       "icon": "file",
       "name": "from_ee_asset.py"
      }
     },
     "1727ea8a6f3243da98ce05fac77f6724": {
      "model_module": "ipytree",
      "model_module_version": "^0.2",
      "model_name": "NodeModel",
      "state": {
       "_id": "86093eb0-478f-49cc-8e97-7f1846f9e052",
       "_model_module_version": "^0.2",
       "_view_module_version": "^0.2",
       "icon": "file",
       "name": "metadata_aggregation.py"
      }
     },
     "173fc6d9178040d3bd33e345bc796009": {
      "model_module": "ipytree",
      "model_module_version": "^0.2",
      "model_name": "NodeModel",
      "state": {
       "_id": "1413f35f-ffe3-4102-b930-de729e0734d2",
       "_model_module_version": "^0.2",
       "_view_module_version": "^0.2",
       "icon": "file",
       "name": "image_stats_by_band.py"
      }
     },
     "1754513312ce42bfa5bdb875058d1ee4": {
      "model_module": "@jupyter-widgets/base",
      "model_module_version": "2.0.0",
      "model_name": "LayoutModel",
      "state": {
       "height": "auto",
       "padding": "0px 0px 0px 4px",
       "width": "auto"
      }
     },
     "175d92ad4347437ea9cf5f70945e1d24": {
      "model_module": "jupyter-leaflet",
      "model_module_version": "^0.18",
      "model_name": "LeafletMapModel",
      "state": {
       "_model_module_version": "^0.18",
       "_view_module_version": "^0.18",
       "center": [
        0,
        0.3515625
       ],
       "controls": [
        "IPY_MODEL_984c3bf4d21e4fa3ba7a025214a872c8",
        "IPY_MODEL_62cc7a798c9442039700d5e5b66b5985",
        "IPY_MODEL_f5e65470bea5499fbcab342f036d0a7c",
        "IPY_MODEL_b1be0980f8f141ecab84b8daa919f24f",
        "IPY_MODEL_6078377628f14854bf95045184ce724f",
        "IPY_MODEL_ed20987bb1df49cca49843f817ab19a2",
        "IPY_MODEL_672fefbcdeba4f2aa5315626cf15c25d",
        "IPY_MODEL_5967e8bf57564beea20e06f848e53333"
       ],
       "default_style": "IPY_MODEL_fd4463181d4c43ffa744f37dfaab4215",
       "dragging_style": "IPY_MODEL_48a3a67806fb4cecb4ca782d15f3cbee",
       "east": null,
       "fullscreen": false,
       "interpolation": "bilinear",
       "layers": [
        "IPY_MODEL_32853f3cb37d43cb84cb3f69e56c9947",
        "IPY_MODEL_574c35128a5047078a6e32fdaac8fdfe"
       ],
       "layout": "IPY_MODEL_5bb8d691869443a7befcbd0d04eb04db",
       "max_zoom": 24,
       "modisdate": "2024-03-07",
       "north": -90,
       "options": [
        "bounce_at_zoom_limits",
        "box_zoom",
        "center",
        "close_popup_on_click",
        "double_click_zoom",
        "dragging",
        "fullscreen",
        "inertia",
        "inertia_deceleration",
        "inertia_max_speed",
        "interpolation",
        "keyboard",
        "keyboard_pan_offset",
        "keyboard_zoom_offset",
        "max_zoom",
        "min_zoom",
        "prefer_canvas",
        "scroll_wheel_zoom",
        "tap",
        "tap_tolerance",
        "touch_zoom",
        "world_copy_jump",
        "zoom",
        "zoom_animation_threshold",
        "zoom_delta",
        "zoom_snap"
       ],
       "prefer_canvas": false,
       "scroll_wheel_zoom": true,
       "south": 90,
       "style": "IPY_MODEL_fd4463181d4c43ffa744f37dfaab4215",
       "west": null,
       "window_url": "http://localhost:8888/lab",
       "zoom": 2
      }
     },
     "175e2102e7764940a0d0372fea35901c": {
      "model_module": "@jupyter-widgets/base",
      "model_module_version": "2.0.0",
      "model_name": "LayoutModel",
      "state": {
       "height": "600px",
       "width": "630px"
      }
     },
     "17a599e3e87b4ca49b359c2e9be8f554": {
      "model_module": "@jupyter-widgets/controls",
      "model_module_version": "2.0.0",
      "model_name": "ToggleButtonStyleModel",
      "state": {
       "description_width": "",
       "font_family": null,
       "font_size": null,
       "font_style": null,
       "font_variant": null,
       "font_weight": null,
       "text_color": null,
       "text_decoration": null
      }
     },
     "17b3592d97f0411cb060d050c8287b13": {
      "model_module": "ipytree",
      "model_module_version": "^0.2",
      "model_name": "NodeModel",
      "state": {
       "_id": "75159dd8-3e84-4693-aace-f66a9dc41e4a",
       "_model_module_version": "^0.2",
       "_view_module_version": "^0.2",
       "name": "Visualization",
       "nodes": [
        "IPY_MODEL_dcdecac7683341a7ac990680a04d7131",
        "IPY_MODEL_c4c0d5ccb17a45ff9eb51f29b8ee6f34",
        "IPY_MODEL_837f9b69fd294411be0fe0ab1949258e",
        "IPY_MODEL_a09ef73a8675403d9e989383ff32e6b4",
        "IPY_MODEL_a4983e85483f44778346da6c0d396e39",
        "IPY_MODEL_667dd7a4819a4810b981412d7b8ac7c1",
        "IPY_MODEL_e594fcd89809480f811036bd8f7335d8",
        "IPY_MODEL_19dcea11771249ee8241e1d6677a47fc",
        "IPY_MODEL_60dca5578a034aa28e394db02f5a9260",
        "IPY_MODEL_5a718ba1abdb497897dbea3f5174570d",
        "IPY_MODEL_6141dbacf55b4e268cf6bb0ad62c4a46",
        "IPY_MODEL_970dba9e970441f4a3abd1c643847333",
        "IPY_MODEL_81e4ad11138146af99fa86025921ff33",
        "IPY_MODEL_194d135986be42b19d18505db3b2f615",
        "IPY_MODEL_0a880685db714eb9ae6d4beebc6d6c07",
        "IPY_MODEL_290fce69971a4d79b5c40507b4fe9f66",
        "IPY_MODEL_0d24ce1f10f3446bbc5f846588f30dd2",
        "IPY_MODEL_6d876bce126b431aa87f3b1739f8d425",
        "IPY_MODEL_9218a55cb68247b7a1c8eaa28a998461",
        "IPY_MODEL_4b9bb32ee2744ef4893a3e7bc1bb2695",
        "IPY_MODEL_be99b58625db45f18c4b2b01a04cfb6b"
       ],
       "opened": false
      }
     },
     "1810f7ff99ed49b1a93564260befb057": {
      "model_module": "@jupyter-widgets/controls",
      "model_module_version": "2.0.0",
      "model_name": "ToggleButtonModel",
      "state": {
       "button_style": "primary",
       "icon": "adjust",
       "layout": "IPY_MODEL_e744aa3566ee44b68caa0273108521a5",
       "style": "IPY_MODEL_8832026cca514e71a73ffb7a3752b99d",
       "tooltip": "Planet imagery"
      }
     },
     "181b5261794e4283a83b9f4bf80c498a": {
      "model_module": "@jupyter-widgets/controls",
      "model_module_version": "2.0.0",
      "model_name": "ToggleButtonStyleModel",
      "state": {
       "description_width": "",
       "font_family": null,
       "font_size": null,
       "font_style": null,
       "font_variant": null,
       "font_weight": null,
       "text_color": null,
       "text_decoration": null
      }
     },
     "1851559926b549159c3807b1a8339a19": {
      "model_module": "jupyter-leaflet",
      "model_module_version": "^0.18",
      "model_name": "LeafletScaleControlModel",
      "state": {
       "_model_module_version": "^0.18",
       "_view_module_version": "^0.18",
       "imperial": true,
       "max_width": 100,
       "metric": true,
       "options": [
        "imperial",
        "max_width",
        "metric",
        "position",
        "update_when_idle"
       ],
       "position": "bottomleft",
       "update_when_idle": false
      }
     },
     "185983f478c74d02a2730f2b46e0711d": {
      "model_module": "ipytree",
      "model_module_version": "^0.2",
      "model_name": "NodeModel",
      "state": {
       "_id": "4547885e-9118-47f0-9c66-9666ac32f019",
       "_model_module_version": "^0.2",
       "_view_module_version": "^0.2",
       "icon": "file",
       "name": "get_band_name_and_type.py"
      }
     },
     "1880219305744d48890fbc134ae374c0": {
      "model_module": "@jupyter-widgets/controls",
      "model_module_version": "2.0.0",
      "model_name": "ToggleButtonModel",
      "state": {
       "button_style": "primary",
       "icon": "eraser",
       "layout": "IPY_MODEL_b132b24388c64996bd7cde3aae6a6f03",
       "style": "IPY_MODEL_a2e43e0a6dee4edd831a1ee354ddea43",
       "tooltip": "Remove all drawn features"
      }
     },
     "1889ab24dec24806a3fa27c136126922": {
      "model_module": "ipytree",
      "model_module_version": "^0.2",
      "model_name": "NodeModel",
      "state": {
       "_id": "60eab91f-3b86-40da-9595-f7cdfab4e2b2",
       "_model_module_version": "^0.2",
       "_view_module_version": "^0.2",
       "icon": "file",
       "name": "jrc_monthly_history.py"
      }
     },
     "18a36fd1a64a4a4d9ffdec64b97361ed": {
      "model_module": "@jupyter-widgets/base",
      "model_module_version": "2.0.0",
      "model_name": "LayoutModel",
      "state": {}
     },
     "18a3a98e4092421f9cd66d5d37eadbe9": {
      "model_module": "jupyter-leaflet",
      "model_module_version": "^0.18",
      "model_name": "LeafletMeasureControlModel",
      "state": {
       "_model_module_version": "^0.18",
       "_view_module_version": "^0.18",
       "active_color": "orange",
       "options": [
        "active_color",
        "capture_z_index",
        "completed_color",
        "popup_options",
        "position",
        "primary_area_unit",
        "primary_length_unit",
        "secondary_area_unit",
        "secondary_length_unit"
       ],
       "position": "bottomleft",
       "primary_length_unit": "kilometers",
       "secondary_area_unit": null,
       "secondary_length_unit": null
      }
     },
     "18b4e71d19fb4dac92923f7d635c76b0": {
      "model_module": "@jupyter-widgets/controls",
      "model_module_version": "2.0.0",
      "model_name": "ToggleButtonModel",
      "state": {
       "button_style": "primary",
       "icon": "info",
       "layout": "IPY_MODEL_c5f046fb2b7b46cfb92a30d6b6af3dae",
       "style": "IPY_MODEL_54d85e99b94e4505b23bb7f3b7541324",
       "tooltip": "Inspector"
      }
     },
     "18f3fa3671094c60996e533f510cbf3d": {
      "model_module": "@jupyter-widgets/controls",
      "model_module_version": "2.0.0",
      "model_name": "ToggleButtonStyleModel",
      "state": {
       "description_width": "",
       "font_family": null,
       "font_size": null,
       "font_style": null,
       "font_variant": null,
       "font_weight": null,
       "text_color": null,
       "text_decoration": null
      }
     },
     "18fdaea84b614388a5d21d6c96b01643": {
      "model_module": "@jupyter-widgets/controls",
      "model_module_version": "2.0.0",
      "model_name": "ToggleButtonModel",
      "state": {
       "button_style": "primary",
       "icon": "line-chart",
       "layout": "IPY_MODEL_a680e1cc33b64f15b0bc8693dd71bd6b",
       "style": "IPY_MODEL_e7c12c31da734229831748840197067f",
       "tooltip": "Creating and plotting transects"
      }
     },
     "1948a393e6c444ac8f4b925770354298": {
      "model_module": "@jupyter-widgets/base",
      "model_module_version": "2.0.0",
      "model_name": "LayoutModel",
      "state": {}
     },
     "194d135986be42b19d18505db3b2f615": {
      "model_module": "ipytree",
      "model_module_version": "^0.2",
      "model_name": "NodeModel",
      "state": {
       "_id": "074bb755-671b-4157-9599-78335e7a654d",
       "_model_module_version": "^0.2",
       "_view_module_version": "^0.2",
       "icon": "file",
       "name": "nwi_wetlands_symbology.py"
      }
     },
     "199fcad276a5461196ed7f6c53b62bfd": {
      "model_module": "ipytree",
      "model_module_version": "^0.2",
      "model_name": "NodeModel",
      "state": {
       "_id": "32baac9d-20db-480a-bca8-2b36f4599d50",
       "_model_module_version": "^0.2",
       "_view_module_version": "^0.2",
       "icon": "file",
       "name": "center_pivot_irrigation_detector.py"
      }
     },
     "19ab6414bbbd4b1c9f99cb7d88ad6e60": {
      "model_module": "ipytree",
      "model_module_version": "^0.2",
      "model_name": "NodeModel",
      "state": {
       "_id": "c770ef49-a41c-4a57-bfaa-dcaf27f3daab",
       "_model_module_version": "^0.2",
       "_view_module_version": "^0.2",
       "icon": "file",
       "name": "3_water_class_transition.py"
      }
     },
     "19d7d59ae2f24f51a530356207978442": {
      "model_module": "@jupyter-widgets/controls",
      "model_module_version": "2.0.0",
      "model_name": "DropdownModel",
      "state": {
       "index": null,
       "layout": "IPY_MODEL_7f143b5a25d14776bca0ace9039a4fd3",
       "style": "IPY_MODEL_7cb05dd209ec41b5aaad501cf596480f"
      }
     },
     "19dcea11771249ee8241e1d6677a47fc": {
      "model_module": "ipytree",
      "model_module_version": "^0.2",
      "model_name": "NodeModel",
      "state": {
       "_id": "5f775d75-6a0b-4893-85f3-ca351806a540",
       "_model_module_version": "^0.2",
       "_view_module_version": "^0.2",
       "icon": "file",
       "name": "image_stretch.py"
      }
     },
     "19fe849573754bb88b5e49f738f89b74": {
      "model_module": "ipytree",
      "model_module_version": "^0.2",
      "model_name": "NodeModel",
      "state": {
       "_id": "86c1c3a0-11ba-4b9b-9906-942456265989",
       "_model_module_version": "^0.2",
       "_view_module_version": "^0.2",
       "icon": "file",
       "name": "band_stats.py"
      }
     },
     "1a1d0531a76645828fdba0b11526a625": {
      "model_module": "@jupyter-widgets/controls",
      "model_module_version": "2.0.0",
      "model_name": "ToggleButtonModel",
      "state": {
       "icon": "wrench",
       "layout": "IPY_MODEL_893db387f58d42d293301e737f5c264a",
       "style": "IPY_MODEL_843f70da5f394fb2988c302c71f1adc5",
       "tooltip": "Toolbar"
      }
     },
     "1a1d4f3e86bb4bf48085dd0df6024de1": {
      "model_module": "@jupyter-widgets/controls",
      "model_module_version": "2.0.0",
      "model_name": "ToggleButtonModel",
      "state": {
       "button_style": "primary",
       "icon": "line-chart",
       "layout": "IPY_MODEL_0c642faea8004a178b065f4edea8695f",
       "style": "IPY_MODEL_6ac4e46417754f7aa29b38a8db46f616",
       "tooltip": "Creating and plotting transects"
      }
     },
     "1a36bfdeb72a47948a63c1efd4d174cc": {
      "model_module": "ipytree",
      "model_module_version": "^0.2",
      "model_name": "NodeModel",
      "state": {
       "_id": "cb6e8741-7094-4951-aeed-639d5a6efd1b",
       "_model_module_version": "^0.2",
       "_view_module_version": "^0.2",
       "icon": "file",
       "name": "spectral_unmixing.py"
      }
     },
     "1a617507d460441eaebed558558cb7f1": {
      "model_module": "@jupyter-widgets/controls",
      "model_module_version": "2.0.0",
      "model_name": "ToggleButtonModel",
      "state": {
       "button_style": "primary",
       "icon": "adjust",
       "layout": "IPY_MODEL_c0b67b1470414cb18e15162ebd91c456",
       "style": "IPY_MODEL_d2aa6563762e4c309a825920146867c8",
       "tooltip": "Planet imagery"
      }
     },
     "1ab1d2a7ec8b4b0e9650c44502da2aca": {
      "model_module": "@jupyter-widgets/base",
      "model_module_version": "2.0.0",
      "model_name": "LayoutModel",
      "state": {
       "height": "28px",
       "padding": "0px 0px 0px 4px",
       "width": "28px"
      }
     },
     "1ac432d450ae4ed0aa01c005c39e60ff": {
      "model_module": "@jupyter-widgets/controls",
      "model_module_version": "2.0.0",
      "model_name": "ToggleButtonModel",
      "state": {
       "button_style": "primary",
       "icon": "adjust",
       "layout": "IPY_MODEL_2b4660cbad424f598a2caf0951dba894",
       "style": "IPY_MODEL_e0ebdace1ef2424681ac305dd7f028e7",
       "tooltip": "Planet imagery"
      }
     },
     "1ac7153764e74cf29b816cb5f897d0c5": {
      "model_module": "@jupyter-widgets/base",
      "model_module_version": "2.0.0",
      "model_name": "LayoutModel",
      "state": {
       "height": "auto",
       "padding": "0px 0px 0px 4px",
       "width": "auto"
      }
     },
     "1b3b09f3284e41a7ba27453b5671eaf3": {
      "model_module": "@jupyter-widgets/base",
      "model_module_version": "2.0.0",
      "model_name": "LayoutModel",
      "state": {
       "height": "auto",
       "padding": "0px 0px 0px 4px",
       "width": "auto"
      }
     },
     "1b784621fc644ea191455d825c16a9bf": {
      "model_module": "@jupyter-widgets/controls",
      "model_module_version": "2.0.0",
      "model_name": "ToggleButtonModel",
      "state": {
       "button_style": "primary",
       "icon": "hand-o-up",
       "layout": "IPY_MODEL_c2f879beadbc42a7b2e3f89366fa759f",
       "style": "IPY_MODEL_86989120f760433fa3565bd117b483c3",
       "tooltip": "Collect training samples"
      }
     },
     "1b9c160a98bf4bbcb6b478494164e426": {
      "model_module": "ipytree",
      "model_module_version": "^0.2",
      "model_name": "NodeModel",
      "state": {
       "_id": "ece183c6-116e-4d76-8d5f-e98040840e59",
       "_model_module_version": "^0.2",
       "_view_module_version": "^0.2",
       "icon": "file",
       "name": "hillshade.py"
      }
     },
     "1ba9ed3c23b6458f88794887fa1ad307": {
      "model_module": "ipytree",
      "model_module_version": "^0.2",
      "model_name": "NodeModel",
      "state": {
       "_id": "77e4199e-0bd9-4cf3-a912-6d6918d84998",
       "_model_module_version": "^0.2",
       "_view_module_version": "^0.2",
       "name": "Reader",
       "opened": false
      }
     },
     "1bb7180d0fa046e69ec86b66847b5358": {
      "model_module": "@jupyter-widgets/controls",
      "model_module_version": "2.0.0",
      "model_name": "DropdownModel",
      "state": {
       "index": null,
       "layout": "IPY_MODEL_4fdbdf70d31845a68e1851cfdc113819",
       "style": "IPY_MODEL_cda930c75c074e2fbfa50048d27036c0"
      }
     },
     "1bd6e98268304114a1fa9e774d5777a7": {
      "model_module": "@jupyter-widgets/controls",
      "model_module_version": "2.0.0",
      "model_name": "DescriptionStyleModel",
      "state": {
       "description_width": ""
      }
     },
     "1c2596e4995d439b95c455df23918180": {
      "model_module": "ipytree",
      "model_module_version": "^0.2",
      "model_name": "NodeModel",
      "state": {
       "_id": "fdcb0ffa-5ea4-48fe-ad9d-9f6dca11c391",
       "_model_module_version": "^0.2",
       "_view_module_version": "^0.2",
       "icon": "file",
       "name": "resampling.py"
      }
     },
     "1c31c31672a344cca594abec6a6becb5": {
      "model_module": "@jupyter-widgets/controls",
      "model_module_version": "2.0.0",
      "model_name": "ToggleButtonStyleModel",
      "state": {
       "description_width": "",
       "font_family": null,
       "font_size": null,
       "font_style": null,
       "font_variant": null,
       "font_weight": null,
       "text_color": null,
       "text_decoration": null
      }
     },
     "1c388ade7cd24dfeb736748334d1cf1e": {
      "model_module": "@jupyter-widgets/controls",
      "model_module_version": "2.0.0",
      "model_name": "VBoxModel",
      "state": {
       "children": [
        "IPY_MODEL_0357f2ffb6cc42e59ae8fe3241453a99"
       ],
       "layout": "IPY_MODEL_2d2a91f5b17146b9b1efa657116a1f62"
      }
     },
     "1c4714d52d274913b1b90293aaa20d7a": {
      "model_module": "@jupyter-widgets/base",
      "model_module_version": "2.0.0",
      "model_name": "LayoutModel",
      "state": {
       "width": "340px"
      }
     },
     "1c884c1c5a7241e390c91763f335b2aa": {
      "model_module": "@jupyter-widgets/controls",
      "model_module_version": "2.0.0",
      "model_name": "ToggleButtonStyleModel",
      "state": {
       "description_width": "",
       "font_family": null,
       "font_size": null,
       "font_style": null,
       "font_variant": null,
       "font_weight": null,
       "text_color": null,
       "text_decoration": null
      }
     },
     "1c885d874ae24caebf25bf314d288bef": {
      "model_module": "@jupyter-widgets/controls",
      "model_module_version": "2.0.0",
      "model_name": "ToggleButtonStyleModel",
      "state": {
       "description_width": "",
       "font_family": null,
       "font_size": null,
       "font_style": null,
       "font_variant": null,
       "font_weight": null,
       "text_color": null,
       "text_decoration": null
      }
     },
     "1cad800817474130a2d1ad5ebd0cfffa": {
      "model_module": "@jupyter-widgets/controls",
      "model_module_version": "2.0.0",
      "model_name": "ButtonStyleModel",
      "state": {
       "font_family": null,
       "font_size": null,
       "font_style": null,
       "font_variant": null,
       "font_weight": null,
       "text_color": null,
       "text_decoration": null
      }
     },
     "1cd3a43760d847e18c228b54a35ecf02": {
      "model_module": "@jupyter-widgets/output",
      "model_module_version": "1.0.0",
      "model_name": "OutputModel",
      "state": {
       "layout": "IPY_MODEL_58fe3eae7034430cb52406ca1c8ba2f3"
      }
     },
     "1d1c219f2362404aa8508e411ce8fdb5": {
      "model_module": "ipyevents",
      "model_module_version": "2.0.2",
      "model_name": "EventModel",
      "state": {
       "_supported_key_events": [
        "keydown",
        "keyup"
       ],
       "_supported_mouse_events": [
        "click",
        "auxclick",
        "dblclick",
        "mouseenter",
        "mouseleave",
        "mousedown",
        "mouseup",
        "mousemove",
        "wheel",
        "contextmenu",
        "dragstart",
        "drag",
        "dragend",
        "dragenter",
        "dragover",
        "dragleave",
        "drop"
       ],
       "_supported_touch_events": [
        "touchstart",
        "touchend",
        "touchmove",
        "touchcancel"
       ],
       "_view_module": "@jupyter-widgets/controls",
       "source": "IPY_MODEL_44e7cb6d5521460aa37602fbfc984b33",
       "throttle_or_debounce": "",
       "watched_events": [
        "mouseenter",
        "mouseleave"
       ],
       "xy_coordinate_system": ""
      }
     },
     "1d3636be748f4227a3131adede3093ef": {
      "model_module": "jupyter-leaflet",
      "model_module_version": "^0.18",
      "model_name": "LeafletFullScreenControlModel",
      "state": {
       "_model_module_version": "^0.18",
       "_view_module_version": "^0.18",
       "options": [
        "position"
       ]
      }
     },
     "1d8c281e742c451ea844bd08ebe7e2da": {
      "model_module": "@jupyter-widgets/base",
      "model_module_version": "2.0.0",
      "model_name": "LayoutModel",
      "state": {
       "height": "auto",
       "padding": "0px 0px 0px 4px",
       "width": "auto"
      }
     },
     "1ddad51eea7a425aab55d2533e2fe5e9": {
      "model_module": "@jupyter-widgets/controls",
      "model_module_version": "2.0.0",
      "model_name": "ButtonModel",
      "state": {
       "button_style": "primary",
       "description": "import",
       "layout": "IPY_MODEL_3e74909b6aba4822b2a95374dddd11f3",
       "style": "IPY_MODEL_e25f7911a4b74d79821872a32b0cb906",
       "tooltip": "Click to import the selected asset"
      }
     },
     "1de1f3b0ffc14a208adb91b1b1db2379": {
      "model_module": "jupyter-leaflet",
      "model_module_version": "^0.18",
      "model_name": "LeafletTileLayerModel",
      "state": {
       "_model_module_version": "^0.18",
       "_view_module_version": "^0.18",
       "attribution": "Esri",
       "max_zoom": 24,
       "name": "Esri.WorldImagery",
       "options": [
        "attribution",
        "bounds",
        "detect_retina",
        "max_native_zoom",
        "max_zoom",
        "min_native_zoom",
        "min_zoom",
        "no_wrap",
        "tile_size",
        "tms",
        "zoom_offset"
       ],
       "url": "https://server.arcgisonline.com/ArcGIS/rest/services/World_Imagery/MapServer/tile/{z}/{y}/{x}"
      }
     },
     "1e0c24cfd445425bb3d06454aa5ff4d1": {
      "model_module": "ipytree",
      "model_module_version": "^0.2",
      "model_name": "NodeModel",
      "state": {
       "_id": "a6f7b04e-fa66-4ba8-b9de-113613b004a2",
       "_model_module_version": "^0.2",
       "_view_module_version": "^0.2",
       "icon": "file",
       "name": "landsat_simple_composite.py"
      }
     },
     "1e798d8b0f36458a9b5274bb00e9fddd": {
      "model_module": "ipytree",
      "model_module_version": "^0.2",
      "model_name": "NodeModel",
      "state": {
       "_id": "25664fc7-7088-45e5-ad7a-9511824974e4",
       "_model_module_version": "^0.2",
       "_view_module_version": "^0.2",
       "icon": "file",
       "name": "column_statistics.py"
      }
     },
     "1e877bb3531c46fcba634afb9aa9ef7e": {
      "model_module": "@jupyter-widgets/base",
      "model_module_version": "2.0.0",
      "model_name": "LayoutModel",
      "state": {
       "height": "28px",
       "width": "72px"
      }
     },
     "1e969975b44048279fdc35f13dc7063d": {
      "model_module": "ipytree",
      "model_module_version": "^0.2",
      "model_name": "NodeModel",
      "state": {
       "_id": "8753fb8f-4947-4111-b424-00a4a4bd3874",
       "_model_module_version": "^0.2",
       "_view_module_version": "^0.2",
       "icon": "file",
       "name": "filtered_composite.py"
      }
     },
     "1eb2088fe1544de4848f62c9f6446f33": {
      "model_module": "ipytree",
      "model_module_version": "^0.2",
      "model_name": "NodeModel",
      "state": {
       "_id": "9219a958-b282-42bd-a68a-aa9c4b166a76",
       "_model_module_version": "^0.2",
       "_view_module_version": "^0.2",
       "icon": "file",
       "name": "column_statistics_by_group.py"
      }
     },
     "1eb84e5883154ee5a622e13f02f78d08": {
      "model_module": "ipytree",
      "model_module_version": "^0.2",
      "model_name": "NodeModel",
      "state": {
       "_id": "044b3c8c-7d1e-464f-8ef4-ff2d66897419",
       "_model_module_version": "^0.2",
       "_view_module_version": "^0.2",
       "icon": "file",
       "name": "band_math.py"
      }
     },
     "1ef8a7d5bc4f47bfba120342a829bcf6": {
      "model_module": "@jupyter-widgets/controls",
      "model_module_version": "2.0.0",
      "model_name": "TextModel",
      "state": {
       "layout": "IPY_MODEL_2de67ac75a1d472a9b5b6b155826d327",
       "placeholder": "Search by place name or address",
       "style": "IPY_MODEL_b7a201d5a6094bd2b8a9fd4b54a2bbe4",
       "tooltip": "Search location"
      }
     },
     "1f3895bdc58f495698a59730c5506360": {
      "model_module": "ipytree",
      "model_module_version": "^0.2",
      "model_name": "NodeModel",
      "state": {
       "_id": "2013d77b-d1b9-48ca-b911-0a2863d7572d",
       "_model_module_version": "^0.2",
       "_view_module_version": "^0.2",
       "icon": "file",
       "name": "weighted_reductions.py"
      }
     },
     "1f55089fbe814df2b9d1d5fe704f6457": {
      "model_module": "@jupyter-widgets/controls",
      "model_module_version": "2.0.0",
      "model_name": "ToggleButtonStyleModel",
      "state": {
       "description_width": "",
       "font_family": null,
       "font_size": null,
       "font_style": null,
       "font_variant": null,
       "font_weight": null,
       "text_color": null,
       "text_decoration": null
      }
     },
     "1f7b4eeaa8cf4070b6a93f30230ea60b": {
      "model_module": "@jupyter-widgets/controls",
      "model_module_version": "2.0.0",
      "model_name": "ToggleButtonStyleModel",
      "state": {
       "description_width": "",
       "font_family": null,
       "font_size": null,
       "font_style": null,
       "font_variant": null,
       "font_weight": null,
       "text_color": null,
       "text_decoration": null
      }
     },
     "1f801f73612240f48fd48427d5da8b46": {
      "model_module": "@jupyter-widgets/base",
      "model_module_version": "2.0.0",
      "model_name": "LayoutModel",
      "state": {}
     },
     "1fd11245ddf742d2afb58a83980702ea": {
      "model_module": "@jupyter-widgets/controls",
      "model_module_version": "2.0.0",
      "model_name": "ToggleButtonModel",
      "state": {
       "icon": "times",
       "layout": "IPY_MODEL_83c4906a2e654cdaa2fc8f90b71a536d",
       "style": "IPY_MODEL_34cb100fa0034fbd891e4bd8f2cb2303",
       "tooltip": "Close split-panel map"
      }
     },
     "1fd97baf63394cb79520d2440780a873": {
      "model_module": "ipytree",
      "model_module_version": "^0.2",
      "model_name": "NodeModel",
      "state": {
       "_id": "12eb882b-e8c4-4093-8e94-9e8e7c67d327",
       "_model_module_version": "^0.2",
       "_view_module_version": "^0.2",
       "icon": "file",
       "name": "overview.py"
      }
     },
     "2008ee78e8784c8d9ee0c3b1c5477929": {
      "model_module": "ipytree",
      "model_module_version": "^0.2",
      "model_name": "NodeModel",
      "state": {
       "_id": "ac8d84cd-ffc8-406a-9fe1-7602be1c3875",
       "_model_module_version": "^0.2",
       "_view_module_version": "^0.2",
       "icon": "file",
       "name": "cell_statistics.py"
      }
     },
     "20137988c0b847779fe5eb7a04db4597": {
      "model_module": "ipytree",
      "model_module_version": "^0.2",
      "model_name": "NodeModel",
      "state": {
       "_id": "6483a2c1-36b7-4125-b2a3-57eb385f5bfb",
       "_model_module_version": "^0.2",
       "_view_module_version": "^0.2",
       "icon": "file",
       "name": "polynomial.py"
      }
     },
     "201814c6c9c147a2b42eb91a6acc183c": {
      "model_module": "ipytree",
      "model_module_version": "^0.2",
      "model_name": "NodeModel",
      "state": {
       "_id": "731598ff-d777-4a1b-a446-a897c53f74d0",
       "_model_module_version": "^0.2",
       "_view_module_version": "^0.2",
       "name": "JavaScripts",
       "nodes": [
        "IPY_MODEL_9f562b07520f4b6e95e72c614bbe958b",
        "IPY_MODEL_ab6383e5e6634f82b73d7c3270d793b9",
        "IPY_MODEL_78b3c63c03634425bbde88f52c6c6f23"
       ],
       "opened": false
      }
     },
     "2037e0e4c19848d28182932bc0d12b1c": {
      "model_module": "ipytree",
      "model_module_version": "^0.2",
      "model_name": "NodeModel",
      "state": {
       "_id": "6dfed429-fa8b-4932-9d54-0afd9249b880",
       "_model_module_version": "^0.2",
       "_view_module_version": "^0.2",
       "icon": "file",
       "name": "usgs_watershed_boundary.py"
      }
     },
     "203ce4c92cd24f94a77e01428075f326": {
      "model_module": "@jupyter-widgets/controls",
      "model_module_version": "2.0.0",
      "model_name": "ToggleButtonModel",
      "state": {
       "button_style": "primary",
       "icon": "globe",
       "layout": "IPY_MODEL_d22a4ece351441e99d8c23e0b3e6b48f",
       "style": "IPY_MODEL_961cb3a9dae84e169167a8c12f6dc88a",
       "tooltip": "Create timelapse"
      }
     },
     "206e134eb98b42c8a9c3b2c7108cb9bc": {
      "model_module": "ipytree",
      "model_module_version": "^0.2",
      "model_name": "NodeModel",
      "state": {
       "_id": "0d80f494-9bcf-4bb8-b804-d4e5dc5f6198",
       "_model_module_version": "^0.2",
       "_view_module_version": "^0.2",
       "icon": "file",
       "name": "ndwi_map.py"
      }
     },
     "209f8e8141204aa9a65ed7bcb53161aa": {
      "model_module": "ipytree",
      "model_module_version": "^0.2",
      "model_name": "NodeModel",
      "state": {
       "_id": "b49faea6-9bc7-4f95-9625-7fbf07096890",
       "_model_module_version": "^0.2",
       "_view_module_version": "^0.2",
       "icon": "file",
       "name": "random_samples.py"
      }
     },
     "20b708d2785e4db2886f0649411c94fb": {
      "model_module": "ipytree",
      "model_module_version": "^0.2",
      "model_name": "NodeModel",
      "state": {
       "_id": "3e80f6b7-1058-40d0-85c2-93eb8e1f6988",
       "_model_module_version": "^0.2",
       "_view_module_version": "^0.2",
       "icon": "file",
       "name": "reclassify.py"
      }
     },
     "210321bc3de04907a7d0a85e9770e9d9": {
      "model_module": "@jupyter-widgets/controls",
      "model_module_version": "2.0.0",
      "model_name": "ToggleButtonStyleModel",
      "state": {
       "description_width": "",
       "font_family": null,
       "font_size": null,
       "font_style": null,
       "font_variant": null,
       "font_weight": null,
       "text_color": null,
       "text_decoration": null
      }
     },
     "21115e9178d24f308a118e9a498059b8": {
      "model_module": "@jupyter-widgets/base",
      "model_module_version": "2.0.0",
      "model_name": "LayoutModel",
      "state": {
       "max_height": "350px",
       "max_width": "340px",
       "overflow": "scroll"
      }
     },
     "21141aa78c5c46c19a44aaa9d11221f3": {
      "model_module": "@jupyter-widgets/base",
      "model_module_version": "2.0.0",
      "model_name": "LayoutModel",
      "state": {
       "height": "600px"
      }
     },
     "2158a3ed596648a3a98aad33e7c9f6ea": {
      "model_module": "jupyter-leaflet",
      "model_module_version": "^0.18",
      "model_name": "LeafletWMSLayerModel",
      "state": {
       "_model_module_version": "^0.18",
       "_view_module_version": "^0.18",
       "attribution": "MRLC",
       "crs": {
        "custom": false,
        "name": "EPSG3857"
       },
       "format": "image/png",
       "layers": "NLCD_2016_Land_Cover_L48",
       "name": "NLCD 2016 CONUS Land Cover",
       "options": [
        "attribution",
        "bounds",
        "detect_retina",
        "format",
        "layers",
        "max_native_zoom",
        "max_zoom",
        "min_native_zoom",
        "min_zoom",
        "no_wrap",
        "styles",
        "tile_size",
        "tms",
        "transparent",
        "uppercase",
        "zoom_offset"
       ],
       "transparent": true,
       "url": "https://www.mrlc.gov/geoserver/mrlc_display/NLCD_2016_Land_Cover_L48/wms?"
      }
     },
     "2186942794184ca793d8089bdec77d78": {
      "model_module": "ipytree",
      "model_module_version": "^0.2",
      "model_name": "NodeModel",
      "state": {
       "_id": "777013a0-b6a9-44f3-b708-825f93b0f80d",
       "_model_module_version": "^0.2",
       "_view_module_version": "^0.2",
       "icon": "file",
       "name": "image_displacement.py"
      }
     },
     "21a06dc653414dbb9045ae5b81936e18": {
      "model_module": "ipytree",
      "model_module_version": "^0.2",
      "model_name": "NodeModel",
      "state": {
       "_id": "1425c430-9505-40d0-a0a8-823c9481a497",
       "_model_module_version": "^0.2",
       "_view_module_version": "^0.2",
       "icon": "file",
       "name": "map_set_zoom.py"
      }
     },
     "21a8856e7e914dac947de765c9da9f87": {
      "model_module": "ipytree",
      "model_module_version": "^0.2",
      "model_name": "NodeModel",
      "state": {
       "_id": "6d723fb2-6401-4158-b56c-ab613161483b",
       "_model_module_version": "^0.2",
       "_view_module_version": "^0.2",
       "icon": "file",
       "name": "add_area_column.py"
      }
     },
     "21acc48e1d4647d18ff10ba45370a891": {
      "model_module": "ipytree",
      "model_module_version": "^0.2",
      "model_name": "NodeModel",
      "state": {
       "_id": "4d014ecd-d319-452a-b87e-3ef076401c83",
       "_model_module_version": "^0.2",
       "_view_module_version": "^0.2",
       "icon": "file",
       "name": "2_water_occurrence_change_intensity.py"
      }
     },
     "21fd0a02bee94eec9727510f42d70e6e": {
      "model_module": "ipytree",
      "model_module_version": "^0.2",
      "model_name": "NodeModel",
      "state": {
       "_id": "8e4f978a-7548-4943-9647-fe70eff481e0",
       "_model_module_version": "^0.2",
       "_view_module_version": "^0.2",
       "icon": "file",
       "name": "add_area_column.py"
      }
     },
     "2207cba2861e47be992194f625b9c835": {
      "model_module": "ipytree",
      "model_module_version": "^0.2",
      "model_name": "NodeModel",
      "state": {
       "_id": "011d493f-69ed-4bde-876a-d24918de4fe5",
       "_model_module_version": "^0.2",
       "_view_module_version": "^0.2",
       "icon": "file",
       "name": "international_boundary.py"
      }
     },
     "2232355e27244b19a5f24ac585d874bf": {
      "model_module": "@jupyter-widgets/base",
      "model_module_version": "2.0.0",
      "model_name": "LayoutModel",
      "state": {
       "height": "28px",
       "padding": "0px 0px 0px 4px",
       "width": "28px"
      }
     },
     "225f20a9a6494ba5961234aed945f0b8": {
      "model_module": "@jupyter-widgets/base",
      "model_module_version": "2.0.0",
      "model_name": "LayoutModel",
      "state": {
       "height": "auto",
       "padding": "0px 0px 0px 4px",
       "width": "auto"
      }
     },
     "229eeeac2eed4230b8b933d248562628": {
      "model_module": "@jupyter-widgets/base",
      "model_module_version": "2.0.0",
      "model_name": "LayoutModel",
      "state": {}
     },
     "22bb1e5ed9a14a15af4e3947d5c7a2a2": {
      "model_module": "@jupyter-widgets/output",
      "model_module_version": "1.0.0",
      "model_name": "OutputModel",
      "state": {
       "layout": "IPY_MODEL_44c3b91e60d94e089d0a5d8399575e62",
       "outputs": [
        {
         "data": {
          "application/vnd.jupyter.widget-view+json": {
           "model_id": "3d96f90c78024b19b6d9eada24b8a68c",
           "version_major": 2,
           "version_minor": 0
          },
          "text/plain": "Tree(multiple_selection=False, nodes=(Node(name='Archive', opened=False), Node(name='Examples', nodes=(Node(na…"
         },
         "metadata": {},
         "output_type": "display_data"
        }
       ]
      }
     },
     "22de4e98a44f403da73eac2275971cdb": {
      "model_module": "jupyter-leaflet",
      "model_module_version": "^0.18",
      "model_name": "LeafletMapStyleModel",
      "state": {
       "_model_module_version": "^0.18"
      }
     },
     "23425e10aa834d5595b8f2cfac25156e": {
      "model_module": "ipytree",
      "model_module_version": "^0.2",
      "model_name": "NodeModel",
      "state": {
       "_id": "ece6db4d-a4e2-40e9-b148-145d81ee4207",
       "_model_module_version": "^0.2",
       "_view_module_version": "^0.2",
       "icon": "file",
       "name": "stats_of_an_image_region.py"
      }
     },
     "236c8c557c69428e9fb1dc617e56fec1": {
      "model_module": "ipytree",
      "model_module_version": "^0.2",
      "model_name": "NodeModel",
      "state": {
       "_id": "d50c3eab-8ef2-4921-9910-0a34aabab5cc",
       "_model_module_version": "^0.2",
       "_view_module_version": "^0.2",
       "icon": "file",
       "name": "where_operators.py"
      }
     },
     "238e1a5dc71740679939c30711571241": {
      "model_module": "@jupyter-widgets/base",
      "model_module_version": "2.0.0",
      "model_name": "LayoutModel",
      "state": {
       "height": "auto",
       "padding": "0px 0px 0px 4px",
       "width": "auto"
      }
     },
     "23c891fac1594f39bfcf58144f3dc52f": {
      "model_module": "@jupyter-widgets/controls",
      "model_module_version": "2.0.0",
      "model_name": "VBoxModel",
      "state": {
       "children": [
        "IPY_MODEL_ce4d263066414d1b9232723d2c9b8530"
       ],
       "layout": "IPY_MODEL_58890d9bce6a4ff8be949338a4990a2a"
      }
     },
     "23ca0a632aab44d68af438133783f1d9": {
      "model_module": "ipytree",
      "model_module_version": "^0.2",
      "model_name": "NodeModel",
      "state": {
       "_id": "a0852f18-b289-4f97-aecc-f8d4b27f08f7",
       "_model_module_version": "^0.2",
       "_view_module_version": "^0.2",
       "icon": "file",
       "name": "srtm.py"
      }
     },
     "23db33ceb51c4790a998801756a0807c": {
      "model_module": "ipytree",
      "model_module_version": "^0.2",
      "model_name": "NodeModel",
      "state": {
       "_id": "f91a839c-cf3e-4846-8e89-7729f8166887",
       "_model_module_version": "^0.2",
       "_view_module_version": "^0.2",
       "icon": "file",
       "name": "merge_feature_collections.py"
      }
     },
     "2460d9a12945439bbaefee71548859f5": {
      "model_module": "ipytree",
      "model_module_version": "^0.2",
      "model_name": "NodeModel",
      "state": {
       "_id": "fcf8c8ee-f070-4cc5-ad24-d32a56814c58",
       "_model_module_version": "^0.2",
       "_view_module_version": "^0.2",
       "icon": "file",
       "name": "map_set_center.py"
      }
     },
     "2472477057114c51afa416b3ef5661c1": {
      "model_module": "ipytree",
      "model_module_version": "^0.2",
      "model_name": "NodeModel",
      "state": {
       "_id": "fa8371d2-6d13-48b0-b1a5-2bdb82ff6f21",
       "_model_module_version": "^0.2",
       "_view_module_version": "^0.2",
       "icon": "file",
       "name": "image_thumbnail.py"
      }
     },
     "24949cfc973c4d0c99c0b0988d6e715d": {
      "model_module": "ipytree",
      "model_module_version": "^0.2",
      "model_name": "NodeModel",
      "state": {
       "_id": "08fb54a4-d5f8-4a2c-9e53-e37ca8dbde97",
       "_model_module_version": "^0.2",
       "_view_module_version": "^0.2",
       "icon": "file",
       "name": "test_sentinel2.py"
      }
     },
     "2496c89884194994a116be4e9dbb1886": {
      "model_module": "@jupyter-widgets/base",
      "model_module_version": "2.0.0",
      "model_name": "LayoutModel",
      "state": {
       "height": "auto",
       "padding": "0px 0px 0px 4px",
       "width": "auto"
      }
     },
     "250b693a62c9446aad8e2940008be91c": {
      "model_module": "@jupyter-widgets/controls",
      "model_module_version": "2.0.0",
      "model_name": "ButtonModel",
      "state": {
       "button_style": "primary",
       "icon": "times",
       "layout": "IPY_MODEL_385f73a0c4da4ac993eddf70b44dba1e",
       "style": "IPY_MODEL_2dc171cafa1f413c9f2c692ca01eabcd",
       "tooltip": "Close the basemap widget"
      }
     },
     "2544d34005144c5e992a3555d7a636ea": {
      "model_module": "@jupyter-widgets/controls",
      "model_module_version": "2.0.0",
      "model_name": "HBoxModel",
      "state": {
       "children": [
        "IPY_MODEL_ee889ddd0dd047609fa12b62ea1db6f4",
        "IPY_MODEL_e04c02d6e462424bb6cf67d6d96ed570"
       ],
       "layout": "IPY_MODEL_3b3fe2b1c01c47369e1b8f9621b0639b"
      }
     },
     "255ab8f9ca8d416da6a7be92a18e1312": {
      "model_module": "@jupyter-widgets/controls",
      "model_module_version": "2.0.0",
      "model_name": "ToggleButtonModel",
      "state": {
       "button_style": "primary",
       "icon": "gears",
       "layout": "IPY_MODEL_2496c89884194994a116be4e9dbb1886",
       "style": "IPY_MODEL_79a925190d4644adb9ffcf05953cc7b0",
       "tooltip": "WhiteboxTools for local geoprocessing"
      }
     },
     "256d0408bbb8477d995f815ebaf98fae": {
      "model_module": "@jupyter-widgets/controls",
      "model_module_version": "2.0.0",
      "model_name": "VBoxModel",
      "state": {
       "children": [
        "IPY_MODEL_448a7118006a4655a042f1820f35afb9"
       ],
       "layout": "IPY_MODEL_16f674fb10214185983ad57aa1aeb9e3"
      }
     },
     "258602e76ad345699bd460a9ca0febec": {
      "model_module": "@jupyter-widgets/controls",
      "model_module_version": "2.0.0",
      "model_name": "ToggleButtonModel",
      "state": {
       "button_style": "primary",
       "icon": "folder-open",
       "layout": "IPY_MODEL_5a8284163c5f47769fbdd3f2ca424841",
       "style": "IPY_MODEL_bf11840f886f4bd89b515027cc0f0504",
       "tooltip": "Open local vector/raster data"
      }
     },
     "258cad47113f471aa8b480570e34a657": {
      "model_module": "@jupyter-widgets/base",
      "model_module_version": "2.0.0",
      "model_name": "LayoutModel",
      "state": {
       "height": "auto",
       "padding": "0px 0px 0px 4px",
       "width": "auto"
      }
     },
     "259553236c744ef7a97b6b1ebf9731c5": {
      "model_module": "@jupyter-widgets/controls",
      "model_module_version": "2.0.0",
      "model_name": "ToggleButtonsStyleModel",
      "state": {
       "button_width": "100px",
       "description_width": ""
      }
     },
     "25bb13ee540543e5960962b159b78c5a": {
      "model_module": "@jupyter-widgets/base",
      "model_module_version": "2.0.0",
      "model_name": "LayoutModel",
      "state": {
       "height": "auto",
       "padding": "0px 0px 0px 4px",
       "width": "auto"
      }
     },
     "26263705cd7f47788f6226e743745f6d": {
      "model_module": "@jupyter-widgets/base",
      "model_module_version": "2.0.0",
      "model_name": "LayoutModel",
      "state": {
       "max_width": "57px",
       "min_width": "57px"
      }
     },
     "262d1d45160842a6807261be483af445": {
      "model_module": "@jupyter-widgets/base",
      "model_module_version": "2.0.0",
      "model_name": "LayoutModel",
      "state": {
       "height": "600px"
      }
     },
     "267901e826d44b43881aa2d8d89a9290": {
      "model_module": "jupyter-leaflet",
      "model_module_version": "^0.18",
      "model_name": "LeafletTileLayerModel",
      "state": {
       "_model_module_version": "^0.18",
       "_view_module_version": "^0.18",
       "attribution": "Esri",
       "max_zoom": 24,
       "name": "Esri.WorldImagery",
       "options": [
        "attribution",
        "bounds",
        "detect_retina",
        "max_native_zoom",
        "max_zoom",
        "min_native_zoom",
        "min_zoom",
        "no_wrap",
        "tile_size",
        "tms",
        "zoom_offset"
       ],
       "url": "https://server.arcgisonline.com/ArcGIS/rest/services/World_Imagery/MapServer/tile/{z}/{y}/{x}"
      }
     },
     "268c7d6a654241a68fea804660bbfaa8": {
      "model_module": "@jupyter-widgets/base",
      "model_module_version": "2.0.0",
      "model_name": "LayoutModel",
      "state": {
       "height": "auto",
       "padding": "0px 0px 0px 4px",
       "width": "auto"
      }
     },
     "269b017c20984439a32973eb39ad1a81": {
      "model_module": "jupyter-leaflet",
      "model_module_version": "^0.18",
      "model_name": "LeafletFullScreenControlModel",
      "state": {
       "_model_module_version": "^0.18",
       "_view_module_version": "^0.18",
       "options": [
        "position"
       ]
      }
     },
     "269c608ae96547e68e941d780ce3a68c": {
      "model_module": "@jupyter-widgets/controls",
      "model_module_version": "2.0.0",
      "model_name": "TextModel",
      "state": {
       "layout": "IPY_MODEL_e0fd317856894f4e99a552d5a45cc596",
       "placeholder": "Search by place name or address",
       "style": "IPY_MODEL_eb2ee60c20474335954df73d9d2a2c45",
       "tooltip": "Search location"
      }
     },
     "26a5faeadd9b4c2cba33186cf769a84c": {
      "model_module": "ipytree",
      "model_module_version": "^0.2",
      "model_name": "NodeModel",
      "state": {
       "_id": "e20dbb4a-ad19-4c53-8198-cfef151ec37e",
       "_model_module_version": "^0.2",
       "_view_module_version": "^0.2",
       "name": "GetStarted",
       "nodes": [
        "IPY_MODEL_93d15f3e14e842a791803175d8bc0c02",
        "IPY_MODEL_f57c67f1e7864901b55cd1e1141d654c",
        "IPY_MODEL_0f85185b9dea42aab22cf747f600af7b",
        "IPY_MODEL_7e4d07f579d844f69e7ab5b0542fd0f6",
        "IPY_MODEL_01e88ab44f90488bb4bbe05bc2d9ab9a",
        "IPY_MODEL_d1615b85e1d04ff19db4ef4e67b2509a",
        "IPY_MODEL_8d079bc4b4e04c79aba7b3554545f72b",
        "IPY_MODEL_bfb581cff2164a93ade7fc03a0cfc53b",
        "IPY_MODEL_452e77175a734f5ca7d5443fc2f334b3"
       ],
       "opened": false
      }
     },
     "26b6a962af034bad978eafaa9b98fea7": {
      "model_module": "@jupyter-widgets/controls",
      "model_module_version": "2.0.0",
      "model_name": "ToggleButtonStyleModel",
      "state": {
       "description_width": "",
       "font_family": null,
       "font_size": null,
       "font_style": null,
       "font_variant": null,
       "font_weight": null,
       "text_color": null,
       "text_decoration": null
      }
     },
     "26c1c63ea9424e17b708a357796cbde6": {
      "model_module": "@jupyter-widgets/output",
      "model_module_version": "1.0.0",
      "model_name": "OutputModel",
      "state": {
       "layout": "IPY_MODEL_8ac3aefda687422b8924bce3c1dfdf8b"
      }
     },
     "2711b4dcddd8403e807ba4fa6c5a23e7": {
      "model_module": "@jupyter-widgets/base",
      "model_module_version": "2.0.0",
      "model_name": "LayoutModel",
      "state": {}
     },
     "2740006fb09c4ae691da35baa953fb7a": {
      "model_module": "@jupyter-widgets/controls",
      "model_module_version": "2.0.0",
      "model_name": "ToggleButtonModel",
      "state": {
       "button_style": "primary",
       "icon": "plus",
       "layout": "IPY_MODEL_0449b936a46f4806bdafdf66b95b238c",
       "style": "IPY_MODEL_32c6ca1c76884e6bb5f6231bf0945c5f",
       "tooltip": "Expand toolbar"
      }
     },
     "27420a96ae77409d8576e328a02ac77b": {
      "model_module": "jupyter-leaflet",
      "model_module_version": "^0.18",
      "model_name": "LeafletTileLayerModel",
      "state": {
       "_model_module_version": "^0.18",
       "_view_module_version": "^0.18",
       "attribution": "&copy; <a href=\"https://www.openstreetmap.org/copyright\">OpenStreetMap</a> contributors",
       "base": true,
       "max_zoom": 19,
       "min_zoom": 1,
       "name": "OpenStreetMap.Mapnik",
       "options": [
        "attribution",
        "bounds",
        "detect_retina",
        "max_native_zoom",
        "max_zoom",
        "min_native_zoom",
        "min_zoom",
        "no_wrap",
        "tile_size",
        "tms",
        "zoom_offset"
       ],
       "url": "https://tile.openstreetmap.org/{z}/{x}/{y}.png"
      }
     },
     "278dd977d941431a914b749199ecb0ea": {
      "model_module": "ipytree",
      "model_module_version": "^0.2",
      "model_name": "NodeModel",
      "state": {
       "_id": "22594ea3-8a27-4d64-bcbe-4f982fef0293",
       "_model_module_version": "^0.2",
       "_view_module_version": "^0.2",
       "name": "Filter",
       "nodes": [
        "IPY_MODEL_d604ca51065e43aca7976d9c9614d435",
        "IPY_MODEL_673f7ac839c84ee8b34f8b3c82ce85e2",
        "IPY_MODEL_6b157d0c1ccc41b9bb15c79c172e027b",
        "IPY_MODEL_81756116f3d743278581549cc1b70c88",
        "IPY_MODEL_e6d2e1bbaa934a728e7c278d5c10b2fa",
        "IPY_MODEL_d3be0f9a91884aeda4a65d5bb6dac512",
        "IPY_MODEL_7d4398078f454330b63a832823fc3730"
       ],
       "opened": false
      }
     },
     "27b10415f3284273938c3d4849826645": {
      "model_module": "@jupyter-widgets/base",
      "model_module_version": "2.0.0",
      "model_name": "LayoutModel",
      "state": {}
     },
     "27c788f901594896b8e87ff546b7cb95": {
      "model_module": "@jupyter-widgets/controls",
      "model_module_version": "2.0.0",
      "model_name": "ToggleButtonModel",
      "state": {
       "icon": "globe",
       "layout": "IPY_MODEL_04befccbb3c340919c27f3e12c9ebe2f",
       "style": "IPY_MODEL_bf3f72812d1347eb9c4394baed05e612",
       "tooltip": "Search location/data"
      }
     },
     "2813e7ba1d7e4dc989f3d54196fbbf54": {
      "model_module": "@jupyter-widgets/controls",
      "model_module_version": "2.0.0",
      "model_name": "HBoxModel",
      "state": {
       "children": [
        "IPY_MODEL_a7f2d0377a9241d7b720b6c17c5055b0",
        "IPY_MODEL_1a1d0531a76645828fdba0b11526a625"
       ],
       "layout": "IPY_MODEL_b6513f25728043eeb8d4f809464b6143"
      }
     },
     "286f842be8ed491590f962c707411c86": {
      "model_module": "@jupyter-widgets/controls",
      "model_module_version": "2.0.0",
      "model_name": "ToggleButtonStyleModel",
      "state": {
       "description_width": "",
       "font_family": null,
       "font_size": null,
       "font_style": null,
       "font_variant": null,
       "font_weight": null,
       "text_color": null,
       "text_decoration": null
      }
     },
     "2898f71e20634e108e4cf888e68aa0a5": {
      "model_module": "@jupyter-widgets/controls",
      "model_module_version": "2.0.0",
      "model_name": "HTMLStyleModel",
      "state": {
       "description_width": "",
       "font_size": null,
       "text_color": null
      }
     },
     "28e0cee4691d4c5e82fb755d2245bc88": {
      "model_module": "@jupyter-widgets/controls",
      "model_module_version": "2.0.0",
      "model_name": "ToggleButtonsStyleModel",
      "state": {
       "button_width": "110px",
       "description_width": ""
      }
     },
     "28ebac7666dc48718cd00621d79c8fa4": {
      "model_module": "ipytree",
      "model_module_version": "^0.2",
      "model_name": "NodeModel",
      "state": {
       "_id": "5b0a1c23-6599-4cb5-8f31-b24d67815ab2",
       "_model_module_version": "^0.2",
       "_view_module_version": "^0.2",
       "name": "Array",
       "nodes": [
        "IPY_MODEL_e33ada06bf894d1cbfb30acdeccb9129",
        "IPY_MODEL_0ff2e233f9a54844a4af4ea9e3af8e1c",
        "IPY_MODEL_556de27f93a142beb69fd77a78dd882c",
        "IPY_MODEL_915ef94a95c14f349054988d03941ae7",
        "IPY_MODEL_de2507c4b8124c81a27e70cfc6ccdfe4",
        "IPY_MODEL_f97ac84c0b1a4e37a51172818a8eef66",
        "IPY_MODEL_909395b3cf594f5f8a8ce413996257a7",
        "IPY_MODEL_1a36bfdeb72a47948a63c1efd4d174cc"
       ],
       "opened": false
      }
     },
     "28f78850cbb4403197a597369cac47e7": {
      "model_module": "@jupyter-widgets/base",
      "model_module_version": "2.0.0",
      "model_name": "LayoutModel",
      "state": {}
     },
     "2901a14d157741169ee42a8b1b1428d3": {
      "model_module": "@jupyter-widgets/base",
      "model_module_version": "2.0.0",
      "model_name": "LayoutModel",
      "state": {
       "height": "auto",
       "padding": "0px 0px 0px 4px",
       "width": "auto"
      }
     },
     "290fce69971a4d79b5c40507b4fe9f66": {
      "model_module": "ipytree",
      "model_module_version": "^0.2",
      "model_name": "NodeModel",
      "state": {
       "_id": "c4653ce0-b1a9-47a9-b421-3b5144285dcf",
       "_model_module_version": "^0.2",
       "_view_module_version": "^0.2",
       "icon": "file",
       "name": "rendering_categorical_maps.py"
      }
     },
     "294aa0e4dff149c187842a25491c46bf": {
      "model_module": "@jupyter-widgets/base",
      "model_module_version": "2.0.0",
      "model_name": "LayoutModel",
      "state": {
       "height": "auto",
       "padding": "0px 0px 0px 4px",
       "width": "auto"
      }
     },
     "299dca6dbd0542fd9061f27dc3b60d01": {
      "model_module": "jupyter-leaflet",
      "model_module_version": "^0.18",
      "model_name": "LeafletWidgetControlModel",
      "state": {
       "_model_module": "jupyter-leaflet",
       "_model_module_version": "^0.18",
       "_view_count": null,
       "_view_module": "jupyter-leaflet",
       "_view_module_version": "^0.18",
       "options": [
        "position",
        "transparent_bg"
       ],
       "position": "topright",
       "widget": "IPY_MODEL_e5229e2b33a144abbfa9209600a1123a"
      }
     },
     "29a4677524b44095b287839e9f22aa4b": {
      "model_module": "ipytree",
      "model_module_version": "^0.2",
      "model_name": "NodeModel",
      "state": {
       "_id": "cb87a8f9-864d-4c90-bb1d-0abc10e836dd",
       "_model_module_version": "^0.2",
       "_view_module_version": "^0.2",
       "icon": "file",
       "name": "center_pivot_irrigation_detector.py"
      }
     },
     "2a1d514a8c4d4c3a8bb2b6836397afbe": {
      "model_module": "@jupyter-widgets/controls",
      "model_module_version": "2.0.0",
      "model_name": "ToggleButtonStyleModel",
      "state": {
       "description_width": "",
       "font_family": null,
       "font_size": null,
       "font_style": null,
       "font_variant": null,
       "font_weight": null,
       "text_color": null,
       "text_decoration": null
      }
     },
     "2a325acd1bbc4435a760aea9b40cd8ab": {
      "model_module": "@jupyter-widgets/controls",
      "model_module_version": "2.0.0",
      "model_name": "ToggleButtonModel",
      "state": {
       "button_style": "primary",
       "icon": "bar-chart",
       "layout": "IPY_MODEL_c1ee35200ff54b7f9897bf0b99f1ce14",
       "style": "IPY_MODEL_9681cd638b35491287399e4002d94b35",
       "tooltip": "Plotting"
      }
     },
     "2a9787040aad4074b6dd72f01936b470": {
      "model_module": "ipytree",
      "model_module_version": "^0.2",
      "model_name": "NodeModel",
      "state": {
       "_id": "c64f322f-8f54-4540-be02-7a8b22393ba3",
       "_model_module_version": "^0.2",
       "_view_module_version": "^0.2",
       "icon": "file",
       "name": "filtering_collection.py"
      }
     },
     "2ab38e97a3a047b4b4a93231ae1ec71f": {
      "model_module": "@jupyter-widgets/base",
      "model_module_version": "2.0.0",
      "model_name": "LayoutModel",
      "state": {}
     },
     "2ac55ae11f354ffb8790a1247134ac2c": {
      "model_module": "@jupyter-widgets/controls",
      "model_module_version": "2.0.0",
      "model_name": "ToggleButtonStyleModel",
      "state": {
       "description_width": "",
       "font_family": null,
       "font_size": null,
       "font_style": null,
       "font_variant": null,
       "font_weight": null,
       "text_color": null,
       "text_decoration": null
      }
     },
     "2adcbe01ed42437e81ff6b0207bfa5ba": {
      "model_module": "ipytree",
      "model_module_version": "^0.2",
      "model_name": "NodeModel",
      "state": {
       "_id": "7af4cd69-2bd0-42e6-b498-eedf2faeb361",
       "_model_module_version": "^0.2",
       "_view_module_version": "^0.2",
       "icon": "file",
       "name": "map_add_features.py"
      }
     },
     "2ae7476f02be4a5b964479b8a130f088": {
      "model_module": "@jupyter-widgets/controls",
      "model_module_version": "2.0.0",
      "model_name": "ToggleButtonModel",
      "state": {
       "button_style": "primary",
       "icon": "info-circle",
       "layout": "IPY_MODEL_e1fe580ea37f4bb68515eb290415bc19",
       "style": "IPY_MODEL_33e413482f094c468697a6cc3c1a66bd",
       "tooltip": "Get COG/STAC pixel value"
      }
     },
     "2b441ee2cb324345a7079197dd935f8a": {
      "model_module": "ipytree",
      "model_module_version": "^0.2",
      "model_name": "NodeModel",
      "state": {
       "_id": "3293705e-8902-47a4-b190-29846b205c78",
       "_model_module_version": "^0.2",
       "_view_module_version": "^0.2",
       "icon": "file",
       "name": "us_census_datasets.py"
      }
     },
     "2b4660cbad424f598a2caf0951dba894": {
      "model_module": "@jupyter-widgets/base",
      "model_module_version": "2.0.0",
      "model_name": "LayoutModel",
      "state": {
       "height": "auto",
       "padding": "0px 0px 0px 4px",
       "width": "auto"
      }
     },
     "2b8653145463408d89edcf11f135f2a9": {
      "model_module": "@jupyter-widgets/controls",
      "model_module_version": "2.0.0",
      "model_name": "ToggleButtonStyleModel",
      "state": {
       "description_width": "",
       "font_family": null,
       "font_size": null,
       "font_style": null,
       "font_variant": null,
       "font_weight": null,
       "text_color": null,
       "text_decoration": null
      }
     },
     "2b952d80cd8b40bfae55e57dad92911d": {
      "model_module": "ipytree",
      "model_module_version": "^0.2",
      "model_name": "NodeModel",
      "state": {
       "_id": "2c75fe1e-0571-42ce-8e98-d70a61f9ad02",
       "_model_module_version": "^0.2",
       "_view_module_version": "^0.2",
       "icon": "file",
       "name": "buffer.py"
      }
     },
     "2b953ce1e1b140acbb1c5fb07a8c18c7": {
      "model_module": "ipytree",
      "model_module_version": "^0.2",
      "model_name": "NodeModel",
      "state": {
       "_id": "89e92d65-861d-4f93-bb01-1c7dccabccec",
       "_model_module_version": "^0.2",
       "_view_module_version": "^0.2",
       "icon": "file",
       "name": "clipping.py"
      }
     },
     "2bac5dab48534c2e9d52ea16ee0296e7": {
      "model_module": "@jupyter-widgets/base",
      "model_module_version": "2.0.0",
      "model_name": "LayoutModel",
      "state": {
       "max_height": "350px",
       "max_width": "340px",
       "overflow": "scroll"
      }
     },
     "2bb4bd2b8a62452ba33cd2d607e9e5b7": {
      "model_module": "@jupyter-widgets/output",
      "model_module_version": "1.0.0",
      "model_name": "OutputModel",
      "state": {
       "layout": "IPY_MODEL_ecafcb543f07484cb7e96555cec43d0f"
      }
     },
     "2bcf03868a544369b13a17f42426a899": {
      "model_module": "@jupyter-widgets/controls",
      "model_module_version": "2.0.0",
      "model_name": "ToggleButtonsModel",
      "state": {
       "_options_labels": [
        "name/address",
        "lat-lon",
        "data"
       ],
       "button_style": "",
       "icons": [],
       "index": 0,
       "layout": "IPY_MODEL_3b0fd7b1752048e993d147d628291a61",
       "style": "IPY_MODEL_bf1b7a1bb8f9402fa8314e8dec9375a5",
       "tooltips": [
        "Search by place name or address",
        "Search by lat-lon coordinates",
        "Search Earth Engine data catalog"
       ]
      }
     },
     "2be00b0c8c1e46bea929ef9090396e6a": {
      "model_module": "@jupyter-widgets/controls",
      "model_module_version": "2.0.0",
      "model_name": "ToggleButtonStyleModel",
      "state": {
       "description_width": "",
       "font_family": null,
       "font_size": null,
       "font_style": null,
       "font_variant": null,
       "font_weight": null,
       "text_color": null,
       "text_decoration": null
      }
     },
     "2c31daa11c6e43a8bca327c757c4928b": {
      "model_module": "@jupyter-widgets/controls",
      "model_module_version": "2.0.0",
      "model_name": "ToggleButtonModel",
      "state": {
       "button_style": "primary",
       "icon": "google",
       "layout": "IPY_MODEL_e25900e604414e2d8fbe90caca257da4",
       "style": "IPY_MODEL_0d817c0c3e8c44cc87338fdc8985567a",
       "tooltip": "GEE Toolbox for cloud computing"
      }
     },
     "2c3c97329aeb496f83f61246ee90d466": {
      "model_module": "ipytree",
      "model_module_version": "^0.2",
      "model_name": "NodeModel",
      "state": {
       "_id": "cd86260a-fc96-41e5-95fd-3af83ffa338d",
       "_model_module_version": "^0.2",
       "_view_module_version": "^0.2",
       "icon": "file",
       "name": "alos_landforms.py"
      }
     },
     "2c82a4c0f5ef4d5aa09b62dd2f5e159e": {
      "model_module": "jupyter-leaflet",
      "model_module_version": "^0.18",
      "model_name": "LeafletWidgetControlModel",
      "state": {
       "_model_module": "jupyter-leaflet",
       "_model_module_version": "^0.18",
       "_view_count": null,
       "_view_module": "jupyter-leaflet",
       "_view_module_version": "^0.18",
       "options": [
        "position",
        "transparent_bg"
       ],
       "position": "topleft",
       "widget": "IPY_MODEL_64492fb5cb8c452f9203eaebe79889d3"
      }
     },
     "2c8bc6ddabee4552a39899e2fb7f1626": {
      "model_module": "@jupyter-widgets/base",
      "model_module_version": "2.0.0",
      "model_name": "LayoutModel",
      "state": {
       "height": "auto",
       "padding": "0px 0px 0px 4px",
       "width": "auto"
      }
     },
     "2ca5e02015e148aa8e7f952176674d85": {
      "model_module": "@jupyter-widgets/controls",
      "model_module_version": "2.0.0",
      "model_name": "ToggleButtonStyleModel",
      "state": {
       "description_width": "",
       "font_family": null,
       "font_size": null,
       "font_style": null,
       "font_variant": null,
       "font_weight": null,
       "text_color": null,
       "text_decoration": null
      }
     },
     "2cdbb16155264e9f80661f2e239234e0": {
      "model_module": "@jupyter-widgets/base",
      "model_module_version": "2.0.0",
      "model_name": "LayoutModel",
      "state": {
       "width": "475px"
      }
     },
     "2d155f4ce33a47bdbd634bd14ed0e360": {
      "model_module": "jupyter-leaflet",
      "model_module_version": "^0.18",
      "model_name": "LeafletTileLayerModel",
      "state": {
       "_model_module_version": "^0.18",
       "_view_module_version": "^0.18",
       "attribution": "Esri",
       "max_zoom": 24,
       "name": "Esri.WorldImagery",
       "options": [
        "attribution",
        "bounds",
        "detect_retina",
        "max_native_zoom",
        "max_zoom",
        "min_native_zoom",
        "min_zoom",
        "no_wrap",
        "tile_size",
        "tms",
        "zoom_offset"
       ],
       "url": "https://server.arcgisonline.com/ArcGIS/rest/services/World_Imagery/MapServer/tile/{z}/{y}/{x}"
      }
     },
     "2d2a91f5b17146b9b1efa657116a1f62": {
      "model_module": "@jupyter-widgets/base",
      "model_module_version": "2.0.0",
      "model_name": "LayoutModel",
      "state": {}
     },
     "2d3e33dc9a33477b9ba5695bc4124dc2": {
      "model_module": "jupyter-leaflet",
      "model_module_version": "^0.18",
      "model_name": "LeafletMapStyleModel",
      "state": {
       "_model_module_version": "^0.18",
       "cursor": "move"
      }
     },
     "2d914a71553341beb17844be8ced92bc": {
      "model_module": "ipytree",
      "model_module_version": "^0.2",
      "model_name": "NodeModel",
      "state": {
       "_id": "3bca1b43-48f4-4007-b4c7-3e5940f9f725",
       "_model_module_version": "^0.2",
       "_view_module_version": "^0.2",
       "icon": "file",
       "name": "buffer.py"
      }
     },
     "2d99bd7dce2c47d5a0b7ea3b61da4811": {
      "model_module": "ipytree",
      "model_module_version": "^0.2",
      "model_name": "NodeModel",
      "state": {
       "_id": "5a693d69-ff65-4629-805f-d2a082d73dfd",
       "_model_module_version": "^0.2",
       "_view_module_version": "^0.2",
       "icon": "file",
       "name": "rendering_categorical_maps.py"
      }
     },
     "2dc09bb0e6544b22b02eb9dcdf7f3931": {
      "model_module": "@jupyter-widgets/base",
      "model_module_version": "2.0.0",
      "model_name": "LayoutModel",
      "state": {
       "width": "200px"
      }
     },
     "2dc171cafa1f413c9f2c692ca01eabcd": {
      "model_module": "@jupyter-widgets/controls",
      "model_module_version": "2.0.0",
      "model_name": "ButtonStyleModel",
      "state": {
       "font_family": null,
       "font_size": null,
       "font_style": null,
       "font_variant": null,
       "font_weight": null,
       "text_color": null,
       "text_decoration": null
      }
     },
     "2dc559d407ee4274a046ac8cf04095c4": {
      "model_module": "jupyter-leaflet",
      "model_module_version": "^0.18",
      "model_name": "LeafletScaleControlModel",
      "state": {
       "_model_module_version": "^0.18",
       "_view_module_version": "^0.18",
       "imperial": true,
       "max_width": 100,
       "metric": true,
       "options": [
        "imperial",
        "max_width",
        "metric",
        "position",
        "update_when_idle"
       ],
       "position": "bottomleft",
       "update_when_idle": false
      }
     },
     "2ddc782073b5421593a307867998ce14": {
      "model_module": "@jupyter-widgets/base",
      "model_module_version": "2.0.0",
      "model_name": "LayoutModel",
      "state": {
       "height": "auto",
       "padding": "0px 0px 0px 4px",
       "width": "auto"
      }
     },
     "2de67ac75a1d472a9b5b6b155826d327": {
      "model_module": "@jupyter-widgets/base",
      "model_module_version": "2.0.0",
      "model_name": "LayoutModel",
      "state": {
       "width": "340px"
      }
     },
     "2deebb6ec62c49eb9959a518388ce0d1": {
      "model_module": "ipytree",
      "model_module_version": "^0.2",
      "model_name": "NodeModel",
      "state": {
       "_id": "4dc17cd8-9706-4f04-8798-3d50923f494a",
       "_model_module_version": "^0.2",
       "_view_module_version": "^0.2",
       "name": "CloudMasking",
       "nodes": [
        "IPY_MODEL_360b51de928a433aa8974486807766cc",
        "IPY_MODEL_4fb857a1106e4e3380b3f5ceb8132342",
        "IPY_MODEL_ec3a80d2730c4dd5a723daa7f0c9deaa",
        "IPY_MODEL_914513db1ba94092be13655ab96e86b2",
        "IPY_MODEL_c0a328f6f73b42b28d86b1665f235d7f"
       ],
       "opened": false
      }
     },
     "2dfa38134aee4b7ba766e87d5de4635e": {
      "model_module": "ipytree",
      "model_module_version": "^0.2",
      "model_name": "NodeModel",
      "state": {
       "_id": "868004b2-ed85-477d-b1c3-1151b4da0016",
       "_model_module_version": "^0.2",
       "_view_module_version": "^0.2",
       "icon": "file",
       "name": "cart_classifier.py"
      }
     },
     "2e7111e49e4940deb9e007ad4c624d6f": {
      "model_module": "@jupyter-widgets/controls",
      "model_module_version": "2.0.0",
      "model_name": "ToggleButtonModel",
      "state": {
       "button_style": "primary",
       "icon": "bar-chart",
       "layout": "IPY_MODEL_eb341745620141adb5762bf57b5e96ed",
       "style": "IPY_MODEL_68b04d235f6e4e2b8efcb00e9876ff68",
       "tooltip": "Plotting"
      }
     },
     "2ec5e241b2ab45ca98a3351ccc62ccf9": {
      "model_module": "ipytree",
      "model_module_version": "^0.2",
      "model_name": "NodeModel",
      "state": {
       "_id": "36b0bef0-c617-4b22-b6e7-01f7eb858a52",
       "_model_module_version": "^0.2",
       "_view_module_version": "^0.2",
       "icon": "file",
       "name": "qgis_to_geemap.py"
      }
     },
     "2ef88a85ba4c4fe3ae1766d1529f4fc2": {
      "model_module": "ipytree",
      "model_module_version": "^0.2",
      "model_name": "NodeModel",
      "state": {
       "_id": "f480e2bf-c71b-4514-a722-3111f18bfa1b",
       "_model_module_version": "^0.2",
       "_view_module_version": "^0.2",
       "icon": "file",
       "name": "composite_bands.py"
      }
     },
     "2f00800e38994a519241cba81282ffbd": {
      "model_module": "ipytree",
      "model_module_version": "^0.2",
      "model_name": "NodeModel",
      "state": {
       "_id": "9019e26e-e369-4cbd-8bc2-7e0219d88b47",
       "_model_module_version": "^0.2",
       "_view_module_version": "^0.2",
       "icon": "file",
       "name": "convert_imagecollection_to_image.py"
      }
     },
     "2f3171c9c1d44ae9ae13323de9705431": {
      "model_module": "@jupyter-widgets/base",
      "model_module_version": "2.0.0",
      "model_name": "LayoutModel",
      "state": {
       "height": "auto",
       "padding": "0px 0px 0px 4px",
       "width": "auto"
      }
     },
     "2f635479ec744580a5c468fceb62b209": {
      "model_module": "@jupyter-widgets/controls",
      "model_module_version": "2.0.0",
      "model_name": "ToggleButtonStyleModel",
      "state": {
       "description_width": "",
       "font_family": null,
       "font_size": null,
       "font_style": null,
       "font_variant": null,
       "font_weight": null,
       "text_color": null,
       "text_decoration": null
      }
     },
     "2f8ec63fb14446dfad24d7bc0f26e6a6": {
      "model_module": "ipytree",
      "model_module_version": "^0.2",
      "model_name": "NodeModel",
      "state": {
       "_id": "9422ded9-02d8-4336-b533-cd4437052540",
       "_model_module_version": "^0.2",
       "_view_module_version": "^0.2",
       "icon": "file",
       "name": "landsat_simple_composite.py"
      }
     },
     "2f9a057cc6a74879bc7830cd75cd1dad": {
      "model_module": "ipytree",
      "model_module_version": "^0.2",
      "model_name": "NodeModel",
      "state": {
       "_id": "1716bac2-a931-4c13-a6aa-45470cb95500",
       "_model_module_version": "^0.2",
       "_view_module_version": "^0.2",
       "icon": "file",
       "name": "decorrelation_stretch.py"
      }
     },
     "2fb52ae26a744e24acabcfbba6c615e1": {
      "model_module": "@jupyter-widgets/base",
      "model_module_version": "2.0.0",
      "model_name": "LayoutModel",
      "state": {}
     },
     "2fc1f9239d414af1a9eb600147098aac": {
      "model_module": "@jupyter-widgets/base",
      "model_module_version": "2.0.0",
      "model_name": "LayoutModel",
      "state": {
       "height": "auto",
       "padding": "0px 0px 0px 4px",
       "width": "auto"
      }
     },
     "2fef27a1683f4648bc7bdb657b3bad3e": {
      "model_module": "@jupyter-widgets/base",
      "model_module_version": "2.0.0",
      "model_name": "LayoutModel",
      "state": {
       "height": "28px",
       "padding": "0px 0px 0px 4px",
       "width": "28px"
      }
     },
     "2ffff69b77c1455ab046438b926a930a": {
      "model_module": "@jupyter-widgets/controls",
      "model_module_version": "2.0.0",
      "model_name": "ToggleButtonModel",
      "state": {
       "button_style": "primary",
       "icon": "question",
       "layout": "IPY_MODEL_6b5f99963286436c8b78b59a8a212ee4",
       "style": "IPY_MODEL_cbfc50647d1b4eefbc5f1955d5d962c0",
       "tooltip": "Get help"
      }
     },
     "304ba3fd1eb64dc7a8c738932778efe2": {
      "model_module": "@jupyter-widgets/base",
      "model_module_version": "2.0.0",
      "model_name": "LayoutModel",
      "state": {
       "width": "310px"
      }
     },
     "307b2452490f471b85014537549db8bc": {
      "model_module": "ipytree",
      "model_module_version": "^0.2",
      "model_name": "NodeModel",
      "state": {
       "_id": "d1b2868a-7dba-4835-a226-ecc0b77b1785",
       "_model_module_version": "^0.2",
       "_view_module_version": "^0.2",
       "name": "Writer",
       "opened": false
      }
     },
     "30860bca685c4026a3346d8be73f177d": {
      "model_module": "@jupyter-widgets/controls",
      "model_module_version": "2.0.0",
      "model_name": "ToggleButtonModel",
      "state": {
       "button_style": "primary",
       "icon": "retweet",
       "layout": "IPY_MODEL_6a06c99698cf4bf6b84f04ef54682fe2",
       "style": "IPY_MODEL_971136c7b9d0475488f055eb3f029c88",
       "tooltip": "Convert Earth Engine JavaScript to Python"
      }
     },
     "30a3b55a85bf45499f2d57a499fbdd0b": {
      "model_module": "ipytree",
      "model_module_version": "^0.2",
      "model_name": "NodeModel",
      "state": {
       "_id": "8bdd5729-d95c-4db6-a5f3-38d90648c783",
       "_model_module_version": "^0.2",
       "_view_module_version": "^0.2",
       "name": "GlobalSurfaceWater",
       "nodes": [
        "IPY_MODEL_7035dc6fca8e42b384f226e4b287ed2b",
        "IPY_MODEL_21acc48e1d4647d18ff10ba45370a891",
        "IPY_MODEL_19ab6414bbbd4b1c9f99cb7d88ad6e60"
       ],
       "opened": false
      }
     },
     "30c163044a594f86abb56615d37e83b0": {
      "model_module": "ipytree",
      "model_module_version": "^0.2",
      "model_name": "NodeModel",
      "state": {
       "_id": "40f96f57-522a-47f9-976d-5acf7edd1f6b",
       "_model_module_version": "^0.2",
       "_view_module_version": "^0.2",
       "icon": "file",
       "name": "filtering_feature_collection.py"
      }
     },
     "311ec8f46f6a491b9b284612678ff6e7": {
      "model_module": "@jupyter-widgets/controls",
      "model_module_version": "2.0.0",
      "model_name": "ToggleButtonModel",
      "state": {
       "button_style": "primary",
       "icon": "adjust",
       "layout": "IPY_MODEL_fa6340fea13846818f59ed3629b0b573",
       "style": "IPY_MODEL_2ca5e02015e148aa8e7f952176674d85",
       "tooltip": "Planet imagery"
      }
     },
     "312cef98702648428e1be38312b2b63e": {
      "model_module": "@jupyter-widgets/controls",
      "model_module_version": "2.0.0",
      "model_name": "ToggleButtonStyleModel",
      "state": {
       "description_width": "",
       "font_family": null,
       "font_size": null,
       "font_style": null,
       "font_variant": null,
       "font_weight": null,
       "text_color": null,
       "text_decoration": null
      }
     },
     "314d03999ce3476e8370f0ef486195ca": {
      "model_module": "ipytree",
      "model_module_version": "^0.2",
      "model_name": "NodeModel",
      "state": {
       "_id": "15896538-9243-496c-af67-9f5fe974bd02",
       "_model_module_version": "^0.2",
       "_view_module_version": "^0.2",
       "icon": "file",
       "name": "centroid.py"
      }
     },
     "317407d58c2e46e1bbb6f7959832aeda": {
      "model_module": "jupyter-leaflet",
      "model_module_version": "^0.18",
      "model_name": "LeafletWidgetControlModel",
      "state": {
       "_model_module": "jupyter-leaflet",
       "_model_module_version": "^0.18",
       "_view_count": null,
       "_view_module": "jupyter-leaflet",
       "_view_module_version": "^0.18",
       "options": [
        "position",
        "transparent_bg"
       ],
       "position": "topright",
       "widget": "IPY_MODEL_bc7d26e4c50d4c93916e841262f28c65"
      }
     },
     "31814961fdbc4773a88b4f025cfcdeaf": {
      "model_module": "@jupyter-widgets/controls",
      "model_module_version": "2.0.0",
      "model_name": "ToggleButtonsStyleModel",
      "state": {
       "button_width": "110px",
       "description_width": ""
      }
     },
     "31ba8d7594dc4a2e8eac4c2b7254572f": {
      "model_module": "@jupyter-widgets/controls",
      "model_module_version": "2.0.0",
      "model_name": "ToggleButtonModel",
      "state": {
       "button_style": "primary",
       "icon": "fast-forward",
       "layout": "IPY_MODEL_626f9aeeed6249a4955e58b30edefe1c",
       "style": "IPY_MODEL_9f94bf736b874393820a117d2e97d665",
       "tooltip": "Activate timeslider"
      }
     },
     "31bd126efdd7474d899e792f428a74cc": {
      "model_module": "@jupyter-widgets/controls",
      "model_module_version": "2.0.0",
      "model_name": "ToggleButtonStyleModel",
      "state": {
       "description_width": "",
       "font_family": null,
       "font_size": null,
       "font_style": null,
       "font_variant": null,
       "font_weight": null,
       "text_color": null,
       "text_decoration": null
      }
     },
     "31bde28eee4c4622a3f8b44eef77e558": {
      "model_module": "ipytree",
      "model_module_version": "^0.2",
      "model_name": "NodeModel",
      "state": {
       "_id": "d2d8e24a-eae7-4095-9f94-3f8394444008",
       "_model_module_version": "^0.2",
       "_view_module_version": "^0.2",
       "icon": "file",
       "name": "NormalizedDifference.py"
      }
     },
     "31de2d8a523542209cb16b50ff2eb546": {
      "model_module": "@jupyter-widgets/controls",
      "model_module_version": "2.0.0",
      "model_name": "ToggleButtonStyleModel",
      "state": {
       "description_width": "",
       "font_family": null,
       "font_size": null,
       "font_style": null,
       "font_variant": null,
       "font_weight": null,
       "text_color": null,
       "text_decoration": null
      }
     },
     "31fffdf338dc4c14aa6692b81ae91e8e": {
      "model_module": "@jupyter-widgets/controls",
      "model_module_version": "2.0.0",
      "model_name": "ToggleButtonsStyleModel",
      "state": {
       "button_width": "110px",
       "description_width": ""
      }
     },
     "3210ec9f3279467fa946e2a5af62f7a5": {
      "model_module": "@jupyter-widgets/controls",
      "model_module_version": "2.0.0",
      "model_name": "HTMLModel",
      "state": {
       "layout": "IPY_MODEL_6fab24f86e104ef2a9997424d9ff7ea5",
       "style": "IPY_MODEL_68f88d25233e4e948b0330d9f8bb570a"
      }
     },
     "32853f3cb37d43cb84cb3f69e56c9947": {
      "model_module": "jupyter-leaflet",
      "model_module_version": "^0.18",
      "model_name": "LeafletTileLayerModel",
      "state": {
       "_model_module_version": "^0.18",
       "_view_module_version": "^0.18",
       "attribution": "&copy; <a href=\"https://www.openstreetmap.org/copyright\">OpenStreetMap</a> contributors",
       "base": true,
       "max_zoom": 19,
       "min_zoom": 1,
       "name": "OpenStreetMap.Mapnik",
       "options": [
        "attribution",
        "bounds",
        "detect_retina",
        "max_native_zoom",
        "max_zoom",
        "min_native_zoom",
        "min_zoom",
        "no_wrap",
        "tile_size",
        "tms",
        "zoom_offset"
       ],
       "url": "https://tile.openstreetmap.org/{z}/{x}/{y}.png"
      }
     },
     "329f257a0e9b4017ad13262bde06f0d8": {
      "model_module": "@jupyter-widgets/base",
      "model_module_version": "2.0.0",
      "model_name": "LayoutModel",
      "state": {
       "height": "auto",
       "padding": "0px 0px 0px 4px",
       "width": "auto"
      }
     },
     "32a7253718ff4fc28ded234b2854b3be": {
      "model_module": "ipytree",
      "model_module_version": "^0.2",
      "model_name": "NodeModel",
      "state": {
       "_id": "d6dbacf1-1216-43f3-8cc6-2bce33fa278e",
       "_model_module_version": "^0.2",
       "_view_module_version": "^0.2",
       "icon": "file",
       "name": "04_band_math.py"
      }
     },
     "32c6ca1c76884e6bb5f6231bf0945c5f": {
      "model_module": "@jupyter-widgets/controls",
      "model_module_version": "2.0.0",
      "model_name": "ToggleButtonStyleModel",
      "state": {
       "description_width": "",
       "font_family": null,
       "font_size": null,
       "font_style": null,
       "font_variant": null,
       "font_weight": null,
       "text_color": null,
       "text_decoration": null
      }
     },
     "32cf5a716f5940ec93439839bfb69699": {
      "model_module": "@jupyter-widgets/controls",
      "model_module_version": "2.0.0",
      "model_name": "ToggleButtonModel",
      "state": {
       "button_style": "primary",
       "icon": "question",
       "layout": "IPY_MODEL_a7af4eb9ab50434eaf90a7e35a320361",
       "style": "IPY_MODEL_75dc886adf97459d96eae96ad708285b",
       "tooltip": "Get help"
      }
     },
     "32df5b7a860d453ba888558d63742f3e": {
      "model_module": "@jupyter-widgets/base",
      "model_module_version": "2.0.0",
      "model_name": "LayoutModel",
      "state": {}
     },
     "330d3362f2fb4cb0adfeb5f05e5d9d38": {
      "model_module": "jupyter-leaflet",
      "model_module_version": "^0.18",
      "model_name": "LeafletFullScreenControlModel",
      "state": {
       "_model_module_version": "^0.18",
       "_view_module_version": "^0.18",
       "options": [
        "position"
       ]
      }
     },
     "331f1e5df8484d0f8289e6d1f6a66db7": {
      "model_module": "@jupyter-widgets/base",
      "model_module_version": "2.0.0",
      "model_name": "LayoutModel",
      "state": {
       "max_width": "57px",
       "min_width": "57px"
      }
     },
     "33404dee89f94c3090c10c67482b64a6": {
      "model_module": "ipytree",
      "model_module_version": "^0.2",
      "model_name": "NodeModel",
      "state": {
       "_id": "a753a558-1b75-44e0-ad00-4d76010f91c1",
       "_model_module_version": "^0.2",
       "_view_module_version": "^0.2",
       "icon": "file",
       "name": "image_clipping.py"
      }
     },
     "33985ae559194bae9554e241ce3dab01": {
      "model_module": "@jupyter-widgets/controls",
      "model_module_version": "2.0.0",
      "model_name": "ToggleButtonModel",
      "state": {
       "button_style": "primary",
       "icon": "retweet",
       "layout": "IPY_MODEL_fb7c2d81a5c3460496a067a91756ba7c",
       "style": "IPY_MODEL_979e3c6e7deb47389095c9ce1e787d32",
       "tooltip": "Convert Earth Engine JavaScript to Python"
      }
     },
     "33a49cea84ff4271830877c4f6a07470": {
      "model_module": "@jupyter-widgets/controls",
      "model_module_version": "2.0.0",
      "model_name": "ToggleButtonModel",
      "state": {
       "button_style": "primary",
       "icon": "random",
       "layout": "IPY_MODEL_e05cbab470f64b20be53e6be547b05b5",
       "style": "IPY_MODEL_08e587bd4c0242e09dfe885c5feb42e9",
       "tooltip": "Sankey plots"
      }
     },
     "33d02ed9f55c4bd99d9c5a803f634f79": {
      "model_module": "@jupyter-widgets/controls",
      "model_module_version": "2.0.0",
      "model_name": "ToggleButtonStyleModel",
      "state": {
       "description_width": "",
       "font_family": null,
       "font_size": null,
       "font_style": null,
       "font_variant": null,
       "font_weight": null,
       "text_color": null,
       "text_decoration": null
      }
     },
     "33d0a67a334540ef942df9c13765fa18": {
      "model_module": "ipytree",
      "model_module_version": "^0.2",
      "model_name": "NodeModel",
      "state": {
       "_id": "22914a71-7917-417c-8f54-dc54e30c5d07",
       "_model_module_version": "^0.2",
       "_view_module_version": "^0.2",
       "icon": "file",
       "name": "get_properties.py"
      }
     },
     "33e413482f094c468697a6cc3c1a66bd": {
      "model_module": "@jupyter-widgets/controls",
      "model_module_version": "2.0.0",
      "model_name": "ToggleButtonStyleModel",
      "state": {
       "description_width": "",
       "font_family": null,
       "font_size": null,
       "font_style": null,
       "font_variant": null,
       "font_weight": null,
       "text_color": null,
       "text_decoration": null
      }
     },
     "34175d54827942d9910ef85250fb32d4": {
      "model_module": "ipytree",
      "model_module_version": "^0.2",
      "model_name": "NodeModel",
      "state": {
       "_id": "59ac53c6-8451-44ec-af93-1485994d00e6",
       "_model_module_version": "^0.2",
       "_view_module_version": "^0.2",
       "icon": "file",
       "name": "set_properties.py"
      }
     },
     "3425b80cbda748119023fdf5cc0a1df3": {
      "model_module": "@jupyter-widgets/controls",
      "model_module_version": "2.0.0",
      "model_name": "HBoxModel",
      "state": {
       "_dom_classes": [
        "geemap-light"
       ],
       "_view_count": 1,
       "children": [
        "IPY_MODEL_ad11fadbe66241ffaededbe8e40e740c"
       ],
       "layout": "IPY_MODEL_64e220d3868b462b85ff9b27d5cad094"
      }
     },
     "342972ce94e04173a6d2c83195a82ddd": {
      "model_module": "ipytree",
      "model_module_version": "^0.2",
      "model_name": "NodeModel",
      "state": {
       "_id": "e3ba509b-e787-4304-8f62-4708cda52805",
       "_model_module_version": "^0.2",
       "_view_module_version": "^0.2",
       "icon": "file",
       "name": "symbology.py"
      }
     },
     "3436ce1e455742238dfee35c5e404fdf": {
      "model_module": "ipytree",
      "model_module_version": "^0.2",
      "model_name": "NodeModel",
      "state": {
       "_id": "88058bda-02bd-4923-888a-79a0a72cc976",
       "_model_module_version": "^0.2",
       "_view_module_version": "^0.2",
       "icon": "file",
       "name": "export_TimeSeries2.py"
      }
     },
     "3441875ac0f64044b5118569b0da656b": {
      "model_module": "@jupyter-widgets/controls",
      "model_module_version": "2.0.0",
      "model_name": "ToggleButtonModel",
      "state": {
       "button_style": "primary",
       "icon": "hand-o-up",
       "layout": "IPY_MODEL_4eb16588a66f424f9a4c182be99483e6",
       "style": "IPY_MODEL_d1843ac3cb724c25beb57093c4960928",
       "tooltip": "Collect training samples"
      }
     },
     "3450b8ed442f4be0a418ef77a471669d": {
      "model_module": "ipyevents",
      "model_module_version": "2.0.2",
      "model_name": "EventModel",
      "state": {
       "_supported_key_events": [
        "keydown",
        "keyup"
       ],
       "_supported_mouse_events": [
        "click",
        "auxclick",
        "dblclick",
        "mouseenter",
        "mouseleave",
        "mousedown",
        "mouseup",
        "mousemove",
        "wheel",
        "contextmenu",
        "dragstart",
        "drag",
        "dragend",
        "dragenter",
        "dragover",
        "dragleave",
        "drop"
       ],
       "_supported_touch_events": [
        "touchstart",
        "touchend",
        "touchmove",
        "touchcancel"
       ],
       "_view_module": "@jupyter-widgets/controls",
       "source": "IPY_MODEL_b63e20538106440b9a043c4c89563a4e",
       "throttle_or_debounce": "",
       "watched_events": [
        "mouseenter",
        "mouseleave"
       ],
       "xy_coordinate_system": ""
      }
     },
     "3477f77a48c6465b8d348a0daeab4cc7": {
      "model_module": "@jupyter-widgets/controls",
      "model_module_version": "2.0.0",
      "model_name": "ButtonModel",
      "state": {
       "button_style": "primary",
       "description": "import",
       "disabled": true,
       "layout": "IPY_MODEL_a621b87cb9ee4243a36de7e66603372f",
       "style": "IPY_MODEL_800f18dfcc974e66bc081831be9eda05",
       "tooltip": "import the content to a new cell"
      }
     },
     "347df735d84b4b46a45d09f8ab4a8c4d": {
      "model_module": "ipytree",
      "model_module_version": "^0.2",
      "model_name": "NodeModel",
      "state": {
       "_id": "804a36cc-7548-436f-9241-5a9d60294a8b",
       "_model_module_version": "^0.2",
       "_view_module_version": "^0.2",
       "icon": "file",
       "name": "segmentation_snic.py"
      }
     },
     "349c1837299d48da94ebc15c24f78b2c": {
      "model_module": "ipytree",
      "model_module_version": "^0.2",
      "model_name": "NodeModel",
      "state": {
       "_id": "096b1e7d-2aac-4ddf-83e8-e2cf87deef4f",
       "_model_module_version": "^0.2",
       "_view_module_version": "^0.2",
       "icon": "file",
       "name": "get_image_id.py"
      }
     },
     "349d3ac9915147edb07f59877f7bd695": {
      "model_module": "@jupyter-widgets/controls",
      "model_module_version": "2.0.0",
      "model_name": "VBoxModel",
      "state": {
       "children": [
        "IPY_MODEL_a0057748c83a4d99986d5e5b01f6bd97",
        "IPY_MODEL_1ef8a7d5bc4f47bfba120342a829bcf6"
       ],
       "layout": "IPY_MODEL_32df5b7a860d453ba888558d63742f3e"
      }
     },
     "34a6bf625bb84541bde656c93fcffc8c": {
      "model_module": "ipytree",
      "model_module_version": "^0.2",
      "model_name": "NodeModel",
      "state": {
       "_id": "ba44c590-3deb-43d5-8673-6dcd7aa4864d",
       "_model_module_version": "^0.2",
       "_view_module_version": "^0.2",
       "name": "NAIP",
       "nodes": [
        "IPY_MODEL_beebdb55d4254065b5e1995a9b4d591f",
        "IPY_MODEL_57cea5aaeafa4333a6813cb80bd42f08",
        "IPY_MODEL_abe05fbd5f0d4fc3b594ed9d505c9013",
        "IPY_MODEL_e7725b67640843e1a5b824c3c374b47c",
        "IPY_MODEL_58d5c03636284255ba3acd9570736c5f",
        "IPY_MODEL_a73a72d07108482fa2c486e443595436",
        "IPY_MODEL_206e134eb98b42c8a9c3b2c7108cb9bc",
        "IPY_MODEL_395478d038084af7b50d2ec125a13b6c",
        "IPY_MODEL_ece15ad245984665a2c5bdb5f14eb58d"
       ],
       "opened": false
      }
     },
     "34a8bd0041a84a54bf2f36aef68ef64a": {
      "model_module": "jupyter-leaflet",
      "model_module_version": "^0.18",
      "model_name": "LeafletFullScreenControlModel",
      "state": {
       "_model_module_version": "^0.18",
       "_view_module_version": "^0.18",
       "options": [
        "position"
       ]
      }
     },
     "34b7fe56508f4f1983d5fcf1e61609fe": {
      "model_module": "@jupyter-widgets/base",
      "model_module_version": "2.0.0",
      "model_name": "LayoutModel",
      "state": {
       "height": "auto",
       "padding": "0px 0px 0px 4px",
       "width": "auto"
      }
     },
     "34c27dd0085d4b8db8ddfd77f74878f5": {
      "model_module": "ipytree",
      "model_module_version": "^0.2",
      "model_name": "NodeModel",
      "state": {
       "_id": "dfc0ba34-cb11-4c32-b302-521712d0050c",
       "_model_module_version": "^0.2",
       "_view_module_version": "^0.2",
       "icon": "file",
       "name": "usda_naip.py"
      }
     },
     "34cb100fa0034fbd891e4bd8f2cb2303": {
      "model_module": "@jupyter-widgets/controls",
      "model_module_version": "2.0.0",
      "model_name": "ToggleButtonStyleModel",
      "state": {
       "description_width": "",
       "font_family": null,
       "font_size": null,
       "font_style": null,
       "font_variant": null,
       "font_weight": null,
       "text_color": null,
       "text_decoration": null
      }
     },
     "34eaadcb46eb494bb6c83783d074cb6c": {
      "model_module": "@jupyter-widgets/base",
      "model_module_version": "2.0.0",
      "model_name": "LayoutModel",
      "state": {}
     },
     "35792e88572943d78ac562544a40e806": {
      "model_module": "jupyter-leaflet",
      "model_module_version": "^0.18",
      "model_name": "LeafletZoomControlModel",
      "state": {
       "_model_module_version": "^0.18",
       "_view_module_version": "^0.18",
       "options": [
        "position",
        "zoom_in_text",
        "zoom_in_title",
        "zoom_out_text",
        "zoom_out_title"
       ]
      }
     },
     "357ad648c0584d35a33bd849310ee264": {
      "model_module": "@jupyter-widgets/base",
      "model_module_version": "2.0.0",
      "model_name": "LayoutModel",
      "state": {}
     },
     "3598eee23b4f4595a3b5a4ee530a1fc9": {
      "model_module": "@jupyter-widgets/controls",
      "model_module_version": "2.0.0",
      "model_name": "VBoxModel",
      "state": {
       "children": [
        "IPY_MODEL_c5e30498caf34de5813758d4ef2fb199"
       ],
       "layout": "IPY_MODEL_543e0a0164a2498cb4d2f02111726cd3"
      }
     },
     "359d9090e92447dba59ad43e18a74610": {
      "model_module": "@jupyter-widgets/base",
      "model_module_version": "2.0.0",
      "model_name": "LayoutModel",
      "state": {}
     },
     "35cd510b658d4966acf00df7b1f15d3b": {
      "model_module": "@jupyter-widgets/base",
      "model_module_version": "2.0.0",
      "model_name": "LayoutModel",
      "state": {}
     },
     "35d49e6ab7a5457690410e0b387d1c60": {
      "model_module": "ipytree",
      "model_module_version": "^0.2",
      "model_name": "NodeModel",
      "state": {
       "_id": "3283ff06-cba2-4263-aec1-22e5d34620a8",
       "_model_module_version": "^0.2",
       "_view_module_version": "^0.2",
       "icon": "file",
       "name": "connected_pixel_count.py"
      }
     },
     "360b51de928a433aa8974486807766cc": {
      "model_module": "ipytree",
      "model_module_version": "^0.2",
      "model_name": "NodeModel",
      "state": {
       "_id": "1bf43bd5-0097-40e5-b65e-05dc370346bb",
       "_model_module_version": "^0.2",
       "_view_module_version": "^0.2",
       "icon": "file",
       "name": "landsat457_surface_reflectance.py"
      }
     },
     "3612f2a8ae5e40c1bbde9ae98d575081": {
      "model_module": "ipytree",
      "model_module_version": "^0.2",
      "model_name": "NodeModel",
      "state": {
       "_id": "2e8b5f7a-d021-4ba9-95c7-a071610e170e",
       "_model_module_version": "^0.2",
       "_view_module_version": "^0.2",
       "icon": "file",
       "name": "image_patch_area.py"
      }
     },
     "36543e6eeef442b38effb68b4f49aeb1": {
      "model_module": "ipytree",
      "model_module_version": "^0.2",
      "model_name": "NodeModel",
      "state": {
       "_id": "9a11e902-da8c-4163-93ec-87221505d4b0",
       "_model_module_version": "^0.2",
       "_view_module_version": "^0.2",
       "icon": "file",
       "name": "texture.py"
      }
     },
     "3659b15d039943d6b4aeebfe4afb9aca": {
      "model_module": "@jupyter-widgets/base",
      "model_module_version": "2.0.0",
      "model_name": "LayoutModel",
      "state": {
       "height": "auto",
       "padding": "0px 0px 0px 4px",
       "width": "auto"
      }
     },
     "365ae2ba4ff140bb944b44375d6358ff": {
      "model_module": "jupyter-leaflet",
      "model_module_version": "^0.18",
      "model_name": "LeafletWidgetControlModel",
      "state": {
       "_model_module": "jupyter-leaflet",
       "_model_module_version": "^0.18",
       "_view_count": null,
       "_view_module": "jupyter-leaflet",
       "_view_module_version": "^0.18",
       "options": [
        "position",
        "transparent_bg"
       ],
       "position": "topright",
       "widget": "IPY_MODEL_fc4b645cdd5345b48af1b647c451deff"
      }
     },
     "3662f4652fc84a2184a709a4bb15e772": {
      "model_module": "@jupyter-widgets/controls",
      "model_module_version": "2.0.0",
      "model_name": "VBoxModel",
      "state": {
       "children": [
        "IPY_MODEL_ecabbe7915b2408084e67349952223b0"
       ],
       "layout": "IPY_MODEL_2ab38e97a3a047b4b4a93231ae1ec71f"
      }
     },
     "367efee7a37c47d68cb532118e8e83c9": {
      "model_module": "@jupyter-widgets/base",
      "model_module_version": "2.0.0",
      "model_name": "LayoutModel",
      "state": {}
     },
     "36bdcae09a244e6da9e81d03385261c1": {
      "model_module": "ipytree",
      "model_module_version": "^0.2",
      "model_name": "NodeModel",
      "state": {
       "_id": "135326fd-6cb8-4b57-b03b-70fc2d84655f",
       "_model_module_version": "^0.2",
       "_view_module_version": "^0.2",
       "icon": "file",
       "name": "filter_neq.py"
      }
     },
     "36be5a50fc0541b4b6a6b32e93cffcb7": {
      "model_module": "ipytree",
      "model_module_version": "^0.2",
      "model_name": "NodeModel",
      "state": {
       "_id": "37c1bd2a-74ea-4600-9049-82c018c3b819",
       "_model_module_version": "^0.2",
       "_view_module_version": "^0.2",
       "icon": "file",
       "name": "image_displacement.py"
      }
     },
     "36dc432c524847719623dbb3811f64da": {
      "model_module": "@jupyter-widgets/controls",
      "model_module_version": "2.0.0",
      "model_name": "ToggleButtonStyleModel",
      "state": {
       "description_width": "",
       "font_family": null,
       "font_size": null,
       "font_style": null,
       "font_variant": null,
       "font_weight": null,
       "text_color": null,
       "text_decoration": null
      }
     },
     "36eec3743f724463a3041577b052aa48": {
      "model_module": "ipytree",
      "model_module_version": "^0.2",
      "model_name": "NodeModel",
      "state": {
       "_id": "6379db3a-e029-49ce-a125-94df8cff02d2",
       "_model_module_version": "^0.2",
       "_view_module_version": "^0.2",
       "icon": "file",
       "name": "image_reductions.py"
      }
     },
     "36faa73cf40846a2b619612621fc1586": {
      "model_module": "ipytree",
      "model_module_version": "^0.2",
      "model_name": "NodeModel",
      "state": {
       "_id": "ee9cd24b-3f33-4c8c-93ee-07d05d0c1495",
       "_model_module_version": "^0.2",
       "_view_module_version": "^0.2",
       "icon": "file",
       "name": "styled_layer_descriptors.py"
      }
     },
     "36fbcec953a24e5597bacc5219f11878": {
      "model_module": "ipytree",
      "model_module_version": "^0.2",
      "model_name": "NodeModel",
      "state": {
       "_id": "2848e792-1e38-4d19-9410-ca53e1faa8e7",
       "_model_module_version": "^0.2",
       "_view_module_version": "^0.2",
       "icon": "file",
       "name": "resolve_ecoregions.py"
      }
     },
     "3740cb2179644a868e27c2a5ad13f231": {
      "model_module": "@jupyter-widgets/controls",
      "model_module_version": "2.0.0",
      "model_name": "TextModel",
      "state": {
       "layout": "IPY_MODEL_55ed119ae33c4569814e6da742de5a09",
       "placeholder": "Search by place name or address",
       "style": "IPY_MODEL_a559d25afc944c00ad3014caf5129ae5",
       "tooltip": "Search location"
      }
     },
     "374cd765399646d2a2bd0627f5015b5e": {
      "model_module": "@jupyter-widgets/base",
      "model_module_version": "2.0.0",
      "model_name": "LayoutModel",
      "state": {}
     },
     "3763db7581a54e9b9b9ba30b219207a0": {
      "model_module": "ipytree",
      "model_module_version": "^0.2",
      "model_name": "NodeModel",
      "state": {
       "_id": "de667e0f-d40f-407e-a855-fdc1fc051954",
       "_model_module_version": "^0.2",
       "_view_module_version": "^0.2",
       "icon": "file",
       "name": "hillshade_and_water.py"
      }
     },
     "3766fb3c98b04555bfdef43f85d7aebe": {
      "model_module": "@jupyter-widgets/base",
      "model_module_version": "2.0.0",
      "model_name": "LayoutModel",
      "state": {}
     },
     "378443d063fd496f9adb61471297ea36": {
      "model_module": "jupyter-leaflet",
      "model_module_version": "^0.18",
      "model_name": "LeafletAttributionControlModel",
      "state": {
       "_model_module_version": "^0.18",
       "_view_module_version": "^0.18",
       "options": [
        "position",
        "prefix"
       ],
       "position": "bottomright",
       "prefix": "ipyleaflet"
      }
     },
     "378acf45a3fa436f9df78d14c890dd0e": {
      "model_module": "ipytree",
      "model_module_version": "^0.2",
      "model_name": "NodeModel",
      "state": {
       "_id": "a47ccdcc-5983-4dfe-9a20-0645a3bf485d",
       "_model_module_version": "^0.2",
       "_view_module_version": "^0.2",
       "icon": "file",
       "name": "save_all_joins.py"
      }
     },
     "37a56801a33a4c58a855282640945842": {
      "model_module": "@jupyter-widgets/controls",
      "model_module_version": "2.0.0",
      "model_name": "ToggleButtonModel",
      "state": {
       "button_style": "primary",
       "icon": "gears",
       "layout": "IPY_MODEL_f47b80daa3fa4c6ca45e0520af848c50",
       "style": "IPY_MODEL_935a45c5d94b47178b3ee432dd2f0505",
       "tooltip": "WhiteboxTools for local geoprocessing"
      }
     },
     "37edf6efefb94178a8f2d458859a3488": {
      "model_module": "ipytree",
      "model_module_version": "^0.2",
      "model_name": "NodeModel",
      "state": {
       "_id": "34464f54-a57c-4694-82ca-6a539f69b359",
       "_model_module_version": "^0.2",
       "_view_module_version": "^0.2",
       "icon": "file",
       "name": "nwi_wetlands_symbology.py"
      }
     },
     "38350a93bc5d4292b78b0359884f4472": {
      "model_module": "@jupyter-widgets/controls",
      "model_module_version": "2.0.0",
      "model_name": "HBoxModel",
      "state": {
       "children": [
        "IPY_MODEL_77fe721820c24c97a664ce1f655e6950",
        "IPY_MODEL_9d5a9ffe804b425cae18c97fdbde50e8"
       ],
       "layout": "IPY_MODEL_974d3b04a0334cb598c389bf58a0e37e"
      }
     },
     "38437776bffd4f5795f3a3dbcd29f9ce": {
      "model_module": "@jupyter-widgets/base",
      "model_module_version": "2.0.0",
      "model_name": "LayoutModel",
      "state": {}
     },
     "385f73a0c4da4ac993eddf70b44dba1e": {
      "model_module": "@jupyter-widgets/base",
      "model_module_version": "2.0.0",
      "model_name": "LayoutModel",
      "state": {
       "width": "32px"
      }
     },
     "3862ef54cd9941d093584d8dafa537a0": {
      "model_module": "ipytree",
      "model_module_version": "^0.2",
      "model_name": "NodeModel",
      "state": {
       "_id": "3e8cd7af-e772-4ba7-bbc4-6774395466d5",
       "_model_module_version": "^0.2",
       "_view_module_version": "^0.2",
       "icon": "file",
       "name": "clipping.py"
      }
     },
     "38afb52983794935b89a91aea85baa0b": {
      "model_module": "ipytree",
      "model_module_version": "^0.2",
      "model_name": "NodeModel",
      "state": {
       "_id": "b4bc9739-67d3-45b0-80dd-8fba4dfa77ff",
       "_model_module_version": "^0.2",
       "_view_module_version": "^0.2",
       "icon": "file",
       "name": "clipping.py"
      }
     },
     "38bd1118f5564b1d88d5b8288d191240": {
      "model_module": "@jupyter-widgets/controls",
      "model_module_version": "2.0.0",
      "model_name": "ToggleButtonModel",
      "state": {
       "button_style": "primary",
       "icon": "fast-forward",
       "layout": "IPY_MODEL_cfbc4ffc534c44348fb9ce2fcdb51a60",
       "style": "IPY_MODEL_90ce947080704e5eaf9a127770e3da07",
       "tooltip": "Activate timeslider"
      }
     },
     "38bf99c063fb4f62a9a8a4ec16f0f823": {
      "model_module": "ipytree",
      "model_module_version": "^0.2",
      "model_name": "NodeModel",
      "state": {
       "_id": "a92f9d7e-ca59-4895-80ff-a5b3b342381d",
       "_model_module_version": "^0.2",
       "_view_module_version": "^0.2",
       "icon": "file",
       "name": "select_by_strings.py"
      }
     },
     "38d1fb09beb64c36a90f1cf46ff89d71": {
      "model_module": "ipytree",
      "model_module_version": "^0.2",
      "model_name": "NodeModel",
      "state": {
       "_id": "35880c21-d4f6-4b05-891b-3e2ead6f256e",
       "_model_module_version": "^0.2",
       "_view_module_version": "^0.2",
       "icon": "file",
       "name": "export_csv.py"
      }
     },
     "38eab3a6dfb24115b982c9b62fc88119": {
      "model_module": "@jupyter-widgets/controls",
      "model_module_version": "2.0.0",
      "model_name": "ToggleButtonStyleModel",
      "state": {
       "description_width": "",
       "font_family": null,
       "font_size": null,
       "font_style": null,
       "font_variant": null,
       "font_weight": null,
       "text_color": null,
       "text_decoration": null
      }
     },
     "38f47b2e57ab4537adb3a2a1885b94c2": {
      "model_module": "@jupyter-widgets/base",
      "model_module_version": "2.0.0",
      "model_name": "LayoutModel",
      "state": {
       "height": "auto",
       "padding": "0px 0px 0px 4px",
       "width": "auto"
      }
     },
     "3923ede260844dd9be38e7a55241c151": {
      "model_module": "ipytree",
      "model_module_version": "^0.2",
      "model_name": "NodeModel",
      "state": {
       "_id": "e93424d6-126e-4cbb-bfb2-de7378872e64",
       "_model_module_version": "^0.2",
       "_view_module_version": "^0.2",
       "icon": "file",
       "name": "jrc_metadata.py"
      }
     },
     "394e1ca6de944d94b9593732f8f03dc3": {
      "model_module": "@jupyter-widgets/controls",
      "model_module_version": "2.0.0",
      "model_name": "ToggleButtonStyleModel",
      "state": {
       "description_width": "",
       "font_family": null,
       "font_size": null,
       "font_style": null,
       "font_variant": null,
       "font_weight": null,
       "text_color": null,
       "text_decoration": null
      }
     },
     "395478d038084af7b50d2ec125a13b6c": {
      "model_module": "ipytree",
      "model_module_version": "^0.2",
      "model_name": "NodeModel",
      "state": {
       "_id": "a56f04dc-c50f-43e2-98ef-6085b441e609",
       "_model_module_version": "^0.2",
       "_view_module_version": "^0.2",
       "icon": "file",
       "name": "ndwi_single.py"
      }
     },
     "396d5aaf4bac42c1b1d58af8a04b31a7": {
      "model_module": "ipytree",
      "model_module_version": "^0.2",
      "model_name": "NodeModel",
      "state": {
       "_id": "0ef59516-8bb2-4230-a068-b2849d18f623",
       "_model_module_version": "^0.2",
       "_view_module_version": "^0.2",
       "icon": "file",
       "name": "stats_by_group.py"
      }
     },
     "398256522cfc467fa2d73743b3dc6bb9": {
      "model_module": "@jupyter-widgets/controls",
      "model_module_version": "2.0.0",
      "model_name": "ToggleButtonStyleModel",
      "state": {
       "description_width": "",
       "font_family": null,
       "font_size": null,
       "font_style": null,
       "font_variant": null,
       "font_weight": null,
       "text_color": null,
       "text_decoration": null
      }
     },
     "3a02c6e340f8423eb5b57d191e8d162f": {
      "model_module": "ipytree",
      "model_module_version": "^0.2",
      "model_name": "NodeModel",
      "state": {
       "_id": "765ad2e8-ef12-4151-a130-bb5d4d35473f",
       "_model_module_version": "^0.2",
       "_view_module_version": "^0.2",
       "name": "Visualization",
       "nodes": [
        "IPY_MODEL_7b77f2f5063c4b648e6d36a6cc9f7ca1",
        "IPY_MODEL_0280e54913614a8da125cc164f5fe0d6",
        "IPY_MODEL_33404dee89f94c3090c10c67482b64a6",
        "IPY_MODEL_c3b3e82a7e00485ea89f777e373cb646",
        "IPY_MODEL_dd9e026e98de4718b4c6b18a4c5c4d59",
        "IPY_MODEL_e1d32045be934f56a4bb4bd67200e850",
        "IPY_MODEL_59e077f2e9284705877933804e2937b7",
        "IPY_MODEL_a6f3982195334039af08dc9bc0c1aec0",
        "IPY_MODEL_2472477057114c51afa416b3ef5661c1",
        "IPY_MODEL_1635f790b9434bb49f1663247f272a5b",
        "IPY_MODEL_6ee9c5b6e1074133b86d8cdfccfeaef5",
        "IPY_MODEL_6f61fc5f158e4a2cbdf94bbc206b22e8",
        "IPY_MODEL_5bf538da0bf64a81add0a523dc275ff7",
        "IPY_MODEL_37edf6efefb94178a8f2d458859a3488",
        "IPY_MODEL_ee582e10f40d4423bed12f19f2523326",
        "IPY_MODEL_2d99bd7dce2c47d5a0b7ea3b61da4811",
        "IPY_MODEL_36faa73cf40846a2b619612621fc1586",
        "IPY_MODEL_d99b796e5eaa4f28816117e48db2c0c9",
        "IPY_MODEL_5b1bed213e3849b2a2335f6b3cac515b",
        "IPY_MODEL_c31da5e1273345cc8c06b2e77484ecec",
        "IPY_MODEL_5abe511f6ad4480a840ec96978aa5b07"
       ],
       "opened": false
      }
     },
     "3a07a06813914f28a5441185cf962f33": {
      "model_module": "@jupyter-widgets/base",
      "model_module_version": "2.0.0",
      "model_name": "LayoutModel",
      "state": {
       "max_width": "279px",
       "min_width": "279px"
      }
     },
     "3a3a2522b3ea4959a96178723676310c": {
      "model_module": "@jupyter-widgets/controls",
      "model_module_version": "2.0.0",
      "model_name": "ToggleButtonStyleModel",
      "state": {
       "description_width": "",
       "font_family": null,
       "font_size": null,
       "font_style": null,
       "font_variant": null,
       "font_weight": null,
       "text_color": null,
       "text_decoration": null
      }
     },
     "3abf322009904f7f8059b3a6c458cadc": {
      "model_module": "@jupyter-widgets/controls",
      "model_module_version": "2.0.0",
      "model_name": "ToggleButtonStyleModel",
      "state": {
       "description_width": "",
       "font_family": null,
       "font_size": null,
       "font_style": null,
       "font_variant": null,
       "font_weight": null,
       "text_color": null,
       "text_decoration": null
      }
     },
     "3afc533fca024b4e9867d801ba2a1ea2": {
      "model_module": "ipytree",
      "model_module_version": "^0.2",
      "model_name": "NodeModel",
      "state": {
       "_id": "7a58f8cd-d698-4ccf-b093-ef70f964f7c8",
       "_model_module_version": "^0.2",
       "_view_module_version": "^0.2",
       "icon": "file",
       "name": "vector_symbology.py"
      }
     },
     "3b0fd7b1752048e993d147d628291a61": {
      "model_module": "@jupyter-widgets/base",
      "model_module_version": "2.0.0",
      "model_name": "LayoutModel",
      "state": {}
     },
     "3b2a25594a2847a68622a853337d01e0": {
      "model_module": "@jupyter-widgets/base",
      "model_module_version": "2.0.0",
      "model_name": "LayoutModel",
      "state": {}
     },
     "3b34d1fe37d9494ea422ef0972a8b9a7": {
      "model_module": "@jupyter-widgets/controls",
      "model_module_version": "2.0.0",
      "model_name": "DropdownModel",
      "state": {
       "index": null,
       "layout": "IPY_MODEL_5699f090acc8417581b6ef6f88dbb74c",
       "style": "IPY_MODEL_ffc7a55a44284a1cb0ed362d7871457e"
      }
     },
     "3b3fe2b1c01c47369e1b8f9621b0639b": {
      "model_module": "@jupyter-widgets/base",
      "model_module_version": "2.0.0",
      "model_name": "LayoutModel",
      "state": {}
     },
     "3b49c25088684b3e97e9a58cf24af1ad": {
      "model_module": "@jupyter-widgets/controls",
      "model_module_version": "2.0.0",
      "model_name": "ToggleButtonModel",
      "state": {
       "button_style": "primary",
       "icon": "folder-open",
       "layout": "IPY_MODEL_d2e0736933af42fbb20dfb387a6bd4f7",
       "style": "IPY_MODEL_6d84ba559be34bbc8c5471903ab326b8",
       "tooltip": "Open local vector/raster data"
      }
     },
     "3b63f20994334aaf95b58bd1de09a032": {
      "model_module": "@jupyter-widgets/base",
      "model_module_version": "2.0.0",
      "model_name": "LayoutModel",
      "state": {}
     },
     "3b74709a7c294118bb57ae1790726d2d": {
      "model_module": "@jupyter-widgets/base",
      "model_module_version": "2.0.0",
      "model_name": "LayoutModel",
      "state": {
       "height": "auto",
       "padding": "0px 0px 0px 4px",
       "width": "auto"
      }
     },
     "3b84d0a46b934ed7a2cbfba794937810": {
      "model_module": "ipytree",
      "model_module_version": "^0.2",
      "model_name": "NodeModel",
      "state": {
       "_id": "8a69a1d8-7986-42f1-83c4-6912f617b35b",
       "_model_module_version": "^0.2",
       "_view_module_version": "^0.2",
       "icon": "file",
       "name": "reduce_resolution.py"
      }
     },
     "3b9589aa5282498785f594a1c305eb61": {
      "model_module": "@jupyter-widgets/base",
      "model_module_version": "2.0.0",
      "model_name": "LayoutModel",
      "state": {
       "height": "auto",
       "padding": "0px 0px 0px 4px",
       "width": "auto"
      }
     },
     "3c02e8dcf62b4573ac0f420d0878cf5e": {
      "model_module": "@jupyter-widgets/controls",
      "model_module_version": "2.0.0",
      "model_name": "ButtonModel",
      "state": {
       "button_style": "primary",
       "description": "import",
       "layout": "IPY_MODEL_b1b08b1d45af4b2d83a9930a813cc4d0",
       "style": "IPY_MODEL_9cf0d2c259fa4a499b77f723685b3d6b",
       "tooltip": "Click to import the selected asset"
      }
     },
     "3c37daf60e9f4d9e95141583a230595c": {
      "model_module": "@jupyter-widgets/controls",
      "model_module_version": "2.0.0",
      "model_name": "ToggleButtonModel",
      "state": {
       "button_style": "primary",
       "icon": "question",
       "layout": "IPY_MODEL_c6f7dde0314a4a52a19bfdff9d2aa30e",
       "style": "IPY_MODEL_d8334984259a47b8a124d2939eb75335",
       "tooltip": "Get help"
      }
     },
     "3c43f881b4c54246a69737cfc70d61f8": {
      "model_module": "ipytree",
      "model_module_version": "^0.2",
      "model_name": "NodeModel",
      "state": {
       "_id": "ce2cb2bc-889c-4658-bd25-5b8bd1fa66ee",
       "_model_module_version": "^0.2",
       "_view_module_version": "^0.2",
       "icon": "file",
       "name": "image_overview.py"
      }
     },
     "3c4bb2b050d94badab2bb0988aef5bac": {
      "model_module": "@jupyter-widgets/base",
      "model_module_version": "2.0.0",
      "model_name": "LayoutModel",
      "state": {
       "height": "auto",
       "padding": "0px 0px 0px 4px",
       "width": "auto"
      }
     },
     "3c5256b7db7048d6b277f7e3dde4df95": {
      "model_module": "@jupyter-widgets/base",
      "model_module_version": "2.0.0",
      "model_name": "LayoutModel",
      "state": {
       "height": "auto",
       "padding": "0px 0px 0px 4px",
       "width": "auto"
      }
     },
     "3c61806712e44b62890e49ddf623aadc": {
      "model_module": "ipytree",
      "model_module_version": "^0.2",
      "model_name": "NodeModel",
      "state": {
       "_id": "8c49673e-9015-4a8f-b09c-ea30624b5777",
       "_model_module_version": "^0.2",
       "_view_module_version": "^0.2",
       "icon": "file",
       "name": "hough_transform.py"
      }
     },
     "3c78bddda1664f0c98abc2878e42eea7": {
      "model_module": "@jupyter-widgets/controls",
      "model_module_version": "2.0.0",
      "model_name": "ButtonStyleModel",
      "state": {
       "font_family": null,
       "font_size": null,
       "font_style": null,
       "font_variant": null,
       "font_weight": null,
       "text_color": null,
       "text_decoration": null
      }
     },
     "3c8974b8b53f4c04af43851bb44b9954": {
      "model_module": "@jupyter-widgets/base",
      "model_module_version": "2.0.0",
      "model_name": "LayoutModel",
      "state": {
       "height": "600px"
      }
     },
     "3c9ee2d75c214838a9bbc84525f9719f": {
      "model_module": "@jupyter-widgets/controls",
      "model_module_version": "2.0.0",
      "model_name": "ToggleButtonStyleModel",
      "state": {
       "description_width": "",
       "font_family": null,
       "font_size": null,
       "font_style": null,
       "font_variant": null,
       "font_weight": null,
       "text_color": null,
       "text_decoration": null
      }
     },
     "3ce1e2d8dd604491ace88c52970c7e7e": {
      "model_module": "@jupyter-widgets/controls",
      "model_module_version": "2.0.0",
      "model_name": "RadioButtonsModel",
      "state": {
       "index": null,
       "layout": "IPY_MODEL_d605465e2e954776aff4f03f838194b7",
       "style": "IPY_MODEL_fbec256b07c14053bb94850742c6e0de"
      }
     },
     "3ce276be9c72496994d55dae632ed870": {
      "model_module": "@jupyter-widgets/controls",
      "model_module_version": "2.0.0",
      "model_name": "ToggleButtonModel",
      "state": {
       "button_style": "primary",
       "icon": "info",
       "layout": "IPY_MODEL_11198868cd7646e6a936765e65ade495",
       "style": "IPY_MODEL_31de2d8a523542209cb16b50ff2eb546",
       "tooltip": "Inspector"
      }
     },
     "3d3216c056ca4305900f430d754d35cf": {
      "model_module": "@jupyter-widgets/base",
      "model_module_version": "2.0.0",
      "model_name": "LayoutModel",
      "state": {
       "height": "auto",
       "padding": "0px 0px 0px 4px",
       "width": "auto"
      }
     },
     "3d467f93772d44f5879a515a6c16d770": {
      "model_module": "jupyter-leaflet",
      "model_module_version": "^0.18",
      "model_name": "LeafletMapModel",
      "state": {
       "_model_module_version": "^0.18",
       "_view_module_version": "^0.18",
       "controls": [
        "IPY_MODEL_2c82a4c0f5ef4d5aa09b62dd2f5e159e",
        "IPY_MODEL_015823b3d4bc49838895f42f6efc4545",
        "IPY_MODEL_f3359dfe41784479b5f5e9c0ea214133",
        "IPY_MODEL_96475923288b43b69065da7b59128c16",
        "IPY_MODEL_d968f97eb58c4a3b863bc119a02f138b",
        "IPY_MODEL_974cd16ad9bd4defa9e2351c8911ce6f",
        "IPY_MODEL_608210df68024bea8ae0cadbfb346263",
        "IPY_MODEL_d35922a697f8461a8c8fe75c15c5056b"
       ],
       "default_style": "IPY_MODEL_fb55f1ba49124d979286ffb2cd808201",
       "dragging_style": "IPY_MODEL_2d3e33dc9a33477b9ba5695bc4124dc2",
       "fullscreen": false,
       "interpolation": "bilinear",
       "layers": [
        "IPY_MODEL_e43a3385f1e544a4ab73d8589c915843",
        "IPY_MODEL_2d155f4ce33a47bdbd634bd14ed0e360"
       ],
       "layout": "IPY_MODEL_262d1d45160842a6807261be483af445",
       "max_zoom": 24,
       "modisdate": "2024-03-07",
       "options": [
        "bounce_at_zoom_limits",
        "box_zoom",
        "center",
        "close_popup_on_click",
        "double_click_zoom",
        "dragging",
        "fullscreen",
        "inertia",
        "inertia_deceleration",
        "inertia_max_speed",
        "interpolation",
        "keyboard",
        "keyboard_pan_offset",
        "keyboard_zoom_offset",
        "max_zoom",
        "min_zoom",
        "prefer_canvas",
        "scroll_wheel_zoom",
        "tap",
        "tap_tolerance",
        "touch_zoom",
        "world_copy_jump",
        "zoom",
        "zoom_animation_threshold",
        "zoom_delta",
        "zoom_snap"
       ],
       "prefer_canvas": false,
       "scroll_wheel_zoom": true,
       "style": "IPY_MODEL_dfe06e592ae2447396c1e02d7357943f",
       "window_url": "http://localhost:8888/lab",
       "zoom": 2
      }
     },
     "3d96f90c78024b19b6d9eada24b8a68c": {
      "model_module": "ipytree",
      "model_module_version": "^0.2",
      "model_name": "TreeModel",
      "state": {
       "_model_module_version": "^0.2",
       "_view_module_version": "^0.2",
       "layout": "IPY_MODEL_a6b08803a11a4d47ba2c886b9b5ba163",
       "multiple_selection": false,
       "nodes": [
        "IPY_MODEL_d4ec1429b2aa4d9596821c80c97961d7",
        "IPY_MODEL_84c12bdc4b164e0895f44866fd7db1a5",
        "IPY_MODEL_d4974b4c038a409c91243482a92959b1",
        "IPY_MODEL_99d3ac6507e64507a897aec1e21c9080",
        "IPY_MODEL_085c09bf2362495cbbb5293e711abc84"
       ]
      }
     },
     "3d97ff0879f34861be2f9bc42f1282d2": {
      "model_module": "jupyter-leaflet",
      "model_module_version": "^0.18",
      "model_name": "LeafletWidgetControlModel",
      "state": {
       "_model_module": "jupyter-leaflet",
       "_model_module_version": "^0.18",
       "_view_count": null,
       "_view_module": "jupyter-leaflet",
       "_view_module_version": "^0.18",
       "options": [
        "position",
        "transparent_bg"
       ],
       "position": "topright",
       "widget": "IPY_MODEL_e929b2fb5b054a559605d89eb6a349fa"
      }
     },
     "3dbabde178994f588be5051c67827005": {
      "model_module": "@jupyter-widgets/controls",
      "model_module_version": "2.0.0",
      "model_name": "HTMLStyleModel",
      "state": {
       "description_width": "",
       "font_size": null,
       "text_color": null
      }
     },
     "3dd27c5f5c9c4292816ffd636298af9a": {
      "model_module": "ipytree",
      "model_module_version": "^0.2",
      "model_name": "NodeModel",
      "state": {
       "_id": "ad2c5c32-d940-4248-8a45-199aa2efdab6",
       "_model_module_version": "^0.2",
       "_view_module_version": "^0.2",
       "icon": "file",
       "name": "03_finding_images.py"
      }
     },
     "3e13ee8e78254b21a190baa952f6ad4a": {
      "model_module": "ipytree",
      "model_module_version": "^0.2",
      "model_name": "NodeModel",
      "state": {
       "_id": "2242f5f2-0e2a-4c9b-a0f4-368ff535504b",
       "_model_module_version": "^0.2",
       "_view_module_version": "^0.2",
       "icon": "file",
       "name": "map_set_center.py"
      }
     },
     "3e246c5a130f45b5bf3bb29713b7f4a0": {
      "model_module": "@jupyter-widgets/controls",
      "model_module_version": "2.0.0",
      "model_name": "TextStyleModel",
      "state": {
       "description_width": "",
       "font_size": null,
       "text_color": null
      }
     },
     "3e3ddc325a404bef9f98c74344f8df1a": {
      "model_module": "@jupyter-widgets/controls",
      "model_module_version": "2.0.0",
      "model_name": "ToggleButtonStyleModel",
      "state": {
       "description_width": "",
       "font_family": null,
       "font_size": null,
       "font_style": null,
       "font_variant": null,
       "font_weight": null,
       "text_color": null,
       "text_decoration": null
      }
     },
     "3e4dd877403b44c792a2754f708a91c2": {
      "model_module": "ipytree",
      "model_module_version": "^0.2",
      "model_name": "NodeModel",
      "state": {
       "_id": "372ecb4c-c56d-40db-9609-d3936aecfe93",
       "_model_module_version": "^0.2",
       "_view_module_version": "^0.2",
       "icon": "file",
       "name": "creating_monthly_imagery.py"
      }
     },
     "3e74909b6aba4822b2a95374dddd11f3": {
      "model_module": "@jupyter-widgets/base",
      "model_module_version": "2.0.0",
      "model_name": "LayoutModel",
      "state": {
       "max_width": "57px",
       "min_width": "57px"
      }
     },
     "3ea7a045f5f749d8be9c50e729a35d2d": {
      "model_module": "ipytree",
      "model_module_version": "^0.2",
      "model_name": "NodeModel",
      "state": {
       "_id": "41f6ace6-a5b4-4ab0-9588-f15f88318903",
       "_model_module_version": "^0.2",
       "_view_module_version": "^0.2",
       "icon": "file",
       "name": "sort_by_cloud_and_date.py"
      }
     },
     "3f1f75eba51a451ea279bec64fe17440": {
      "model_module": "@jupyter-widgets/controls",
      "model_module_version": "2.0.0",
      "model_name": "TextModel",
      "state": {
       "layout": "IPY_MODEL_7119d3e8017647318809dc3ed0bb8293",
       "placeholder": "Filter scripts...",
       "style": "IPY_MODEL_0d1342e1dcd544b98096debd6d605993"
      }
     },
     "3f2cee13684f46a28be155d695065d54": {
      "model_module": "ipytree",
      "model_module_version": "^0.2",
      "model_name": "NodeModel",
      "state": {
       "_id": "068aea7d-c8da-48e4-8f9f-980a4d20a6df",
       "_model_module_version": "^0.2",
       "_view_module_version": "^0.2",
       "icon": "file",
       "name": "filter_in_list.py"
      }
     },
     "3f35789735564eac9bed4a3dd3039905": {
      "model_module": "@jupyter-widgets/base",
      "model_module_version": "2.0.0",
      "model_name": "LayoutModel",
      "state": {
       "height": "auto",
       "padding": "0px 0px 0px 4px",
       "width": "auto"
      }
     },
     "3f608d3ffe8a4bacae767dedf0698547": {
      "model_module": "@jupyter-widgets/controls",
      "model_module_version": "2.0.0",
      "model_name": "ToggleButtonStyleModel",
      "state": {
       "description_width": "",
       "font_family": null,
       "font_size": null,
       "font_style": null,
       "font_variant": null,
       "font_weight": null,
       "text_color": null,
       "text_decoration": null
      }
     },
     "3f9dcebad7b844cfa22f4bb344a87149": {
      "model_module": "@jupyter-widgets/controls",
      "model_module_version": "2.0.0",
      "model_name": "ToggleButtonModel",
      "state": {
       "button_style": "primary",
       "icon": "line-chart",
       "layout": "IPY_MODEL_e641eb9c615a4bfcac73db9532d68ab2",
       "style": "IPY_MODEL_8245113b432b416e83d2eed1c0d8cbef",
       "tooltip": "Creating and plotting transects"
      }
     },
     "3fa2a4f93f034bdaae2128a977ddd99a": {
      "model_module": "ipytree",
      "model_module_version": "^0.2",
      "model_name": "NodeModel",
      "state": {
       "_id": "cbc17fe2-6fe2-40a2-99d3-0da392c4248d",
       "_model_module_version": "^0.2",
       "_view_module_version": "^0.2",
       "icon": "file",
       "name": "confusion_matrix.py"
      }
     },
     "3fad2d2c717d415fb29032b09210fc5c": {
      "model_module": "ipytree",
      "model_module_version": "^0.2",
      "model_name": "NodeModel",
      "state": {
       "_id": "f98f8482-2634-4699-be05-59bd4eb8017a",
       "_model_module_version": "^0.2",
       "_view_module_version": "^0.2",
       "icon": "file",
       "name": "stats_of_image_neighborhoods.py"
      }
     },
     "3fe673c9608f40d0988a3da14418d423": {
      "model_module": "@jupyter-widgets/base",
      "model_module_version": "2.0.0",
      "model_name": "LayoutModel",
      "state": {
       "height": "auto",
       "padding": "0px 0px 0px 4px",
       "width": "auto"
      }
     },
     "3fef04b1a36645c18fed4176b9103103": {
      "model_module": "ipytree",
      "model_module_version": "^0.2",
      "model_name": "NodeModel",
      "state": {
       "_id": "77e861d8-c0d1-4455-927d-21ad215564be",
       "_model_module_version": "^0.2",
       "_view_module_version": "^0.2",
       "icon": "file",
       "name": "filtering_by_calendar_range.py"
      }
     },
     "3ff8634ac45b4252b433ce387998cc47": {
      "model_module": "ipytree",
      "model_module_version": "^0.2",
      "model_name": "NodeModel",
      "state": {
       "_id": "77b91d6a-004a-43e1-afc0-78dc300ce74a",
       "_model_module_version": "^0.2",
       "_view_module_version": "^0.2",
       "icon": "file",
       "name": "canada_dem.py"
      }
     },
     "4004a6a7a2ab4eabb861d94e524ce96a": {
      "model_module": "@jupyter-widgets/controls",
      "model_module_version": "2.0.0",
      "model_name": "ToggleButtonStyleModel",
      "state": {
       "description_width": "",
       "font_family": null,
       "font_size": null,
       "font_style": null,
       "font_variant": null,
       "font_weight": null,
       "text_color": null,
       "text_decoration": null
      }
     },
     "4035942334394d5d8572436d97d51e43": {
      "model_module": "@jupyter-widgets/base",
      "model_module_version": "2.0.0",
      "model_name": "LayoutModel",
      "state": {
       "height": "auto",
       "padding": "0px 0px 0px 4px",
       "width": "auto"
      }
     },
     "40522840c622440ba1d024fce072c2fd": {
      "model_module": "@jupyter-widgets/controls",
      "model_module_version": "2.0.0",
      "model_name": "ToggleButtonModel",
      "state": {
       "button_style": "primary",
       "icon": "google",
       "layout": "IPY_MODEL_e971669b63b04ad4aaa31e68200854ca",
       "style": "IPY_MODEL_c8d2b2b4ca434e2d83817a856b85c16d",
       "tooltip": "GEE Toolbox for cloud computing"
      }
     },
     "40599642794f43a189ade299d56f2218": {
      "model_module": "jupyter-leaflet",
      "model_module_version": "^0.18",
      "model_name": "LeafletMeasureControlModel",
      "state": {
       "_model_module_version": "^0.18",
       "_view_module_version": "^0.18",
       "active_color": "orange",
       "options": [
        "active_color",
        "capture_z_index",
        "completed_color",
        "popup_options",
        "position",
        "primary_area_unit",
        "primary_length_unit",
        "secondary_area_unit",
        "secondary_length_unit"
       ],
       "position": "bottomleft",
       "primary_length_unit": "kilometers",
       "secondary_area_unit": null,
       "secondary_length_unit": null
      }
     },
     "41245f9ed17149e98a4502e178f3d161": {
      "model_module": "ipytree",
      "model_module_version": "^0.2",
      "model_name": "NodeModel",
      "state": {
       "_id": "4a75c879-04c4-484a-9c0b-335cf34ae44c",
       "_model_module_version": "^0.2",
       "_view_module_version": "^0.2",
       "name": "Tutorials",
       "nodes": [
        "IPY_MODEL_30a3b55a85bf45499f2d57a499fbdd0b",
        "IPY_MODEL_7f9aa2904087433fbe79bb000b7cd5b8"
       ]
      }
     },
     "41433472cd9447f1b720b4931df8ee90": {
      "model_module": "@jupyter-widgets/controls",
      "model_module_version": "2.0.0",
      "model_name": "ToggleButtonModel",
      "state": {
       "button_style": "primary",
       "icon": "fast-forward",
       "layout": "IPY_MODEL_b3921a552b254be2b132d71d8d40fda6",
       "style": "IPY_MODEL_2a1d514a8c4d4c3a8bb2b6836397afbe",
       "tooltip": "Activate timeslider"
      }
     },
     "41472d4318584c17bd958d4b4c474ed7": {
      "model_module": "@jupyter-widgets/controls",
      "model_module_version": "2.0.0",
      "model_name": "VBoxModel",
      "state": {
       "children": [
        "IPY_MODEL_6bc0d522cc8c48089b4b186213c01d8d"
       ],
       "layout": "IPY_MODEL_34eaadcb46eb494bb6c83783d074cb6c"
      }
     },
     "4171d87bf6174bf8894f76f4c032e434": {
      "model_module": "@jupyter-widgets/base",
      "model_module_version": "2.0.0",
      "model_name": "LayoutModel",
      "state": {
       "height": "auto",
       "padding": "0px 0px 0px 4px",
       "width": "auto"
      }
     },
     "41c88c634a1042a2bac9583929bca37a": {
      "model_module": "@jupyter-widgets/base",
      "model_module_version": "2.0.0",
      "model_name": "LayoutModel",
      "state": {
       "height": "auto",
       "padding": "0px 0px 0px 4px",
       "width": "auto"
      }
     },
     "41cc6f8e013e4d5baa13617af15e3d86": {
      "model_module": "@jupyter-widgets/base",
      "model_module_version": "2.0.0",
      "model_name": "LayoutModel",
      "state": {
       "width": "340px"
      }
     },
     "41edc3c143294c7cbba44b56322464a3": {
      "model_module": "@jupyter-widgets/controls",
      "model_module_version": "2.0.0",
      "model_name": "ToggleButtonModel",
      "state": {
       "icon": "wrench",
       "layout": "IPY_MODEL_1ab1d2a7ec8b4b0e9650c44502da2aca",
       "style": "IPY_MODEL_65d3dbeb5b9c45c28243a2446b8b7bfc",
       "tooltip": "Toolbar"
      }
     },
     "4219de05272044f99ecd0055d277f1f0": {
      "model_module": "ipytree",
      "model_module_version": "^0.2",
      "model_name": "NodeModel",
      "state": {
       "_id": "d9eeae09-c5e2-4c27-ad66-5e495fb36383",
       "_model_module_version": "^0.2",
       "_view_module_version": "^0.2",
       "icon": "file",
       "name": "vector_symbology.py"
      }
     },
     "4235983334044909a466fcb7115c1a17": {
      "model_module": "@jupyter-widgets/controls",
      "model_module_version": "2.0.0",
      "model_name": "ToggleButtonModel",
      "state": {
       "button_style": "primary",
       "icon": "eraser",
       "layout": "IPY_MODEL_451e145dc3d84cbf82c6b4e7cae785a3",
       "style": "IPY_MODEL_394e1ca6de944d94b9593732f8f03dc3",
       "tooltip": "Remove all drawn features"
      }
     },
     "425261506e084f618e22d03a34be4c84": {
      "model_module": "ipytree",
      "model_module_version": "^0.2",
      "model_name": "NodeModel",
      "state": {
       "_id": "899281c8-e828-471a-9fb3-c94235a53103",
       "_model_module_version": "^0.2",
       "_view_module_version": "^0.2",
       "icon": "file",
       "name": "svm_classifier.py"
      }
     },
     "4281799217534af7bbae7b828a2712b1": {
      "model_module": "@jupyter-widgets/controls",
      "model_module_version": "2.0.0",
      "model_name": "ToggleButtonStyleModel",
      "state": {
       "description_width": "",
       "font_family": null,
       "font_size": null,
       "font_style": null,
       "font_variant": null,
       "font_weight": null,
       "text_color": null,
       "text_decoration": null
      }
     },
     "42ace985569146ebbf43f035029926d4": {
      "model_module": "@jupyter-widgets/base",
      "model_module_version": "2.0.0",
      "model_name": "LayoutModel",
      "state": {}
     },
     "42c24a45d69e4736bebf3d9a14e102ee": {
      "model_module": "@jupyter-widgets/controls",
      "model_module_version": "2.0.0",
      "model_name": "ToggleButtonStyleModel",
      "state": {
       "description_width": "",
       "font_family": null,
       "font_size": null,
       "font_style": null,
       "font_variant": null,
       "font_weight": null,
       "text_color": null,
       "text_decoration": null
      }
     },
     "438a472d8b0a457abfef4bc3609fedb0": {
      "model_module": "ipytree",
      "model_module_version": "^0.2",
      "model_name": "NodeModel",
      "state": {
       "_id": "a74d2a0e-f98d-447d-b281-78879efc533a",
       "_model_module_version": "^0.2",
       "_view_module_version": "^0.2",
       "icon": "file",
       "name": "sentinel-1_filtering.py"
      }
     },
     "4390142a79144b02b995587fd9a6a753": {
      "model_module": "@jupyter-widgets/controls",
      "model_module_version": "2.0.0",
      "model_name": "ButtonModel",
      "state": {
       "button_style": "primary",
       "description": "import",
       "layout": "IPY_MODEL_26263705cd7f47788f6226e743745f6d",
       "style": "IPY_MODEL_88e03e6428364851817597b168218b1d",
       "tooltip": "Click to import the selected asset"
      }
     },
     "439df6d23b634dbab3c1f0def7170184": {
      "model_module": "@jupyter-widgets/controls",
      "model_module_version": "2.0.0",
      "model_name": "ToggleButtonModel",
      "state": {
       "button_style": "primary",
       "icon": "random",
       "layout": "IPY_MODEL_4682fea3fdda46f680b9a464d9ad64a0",
       "style": "IPY_MODEL_2b8653145463408d89edcf11f135f2a9",
       "tooltip": "Sankey plots"
      }
     },
     "43ae37a475c64b5b9d6d02159b39ff70": {
      "model_module": "@jupyter-widgets/controls",
      "model_module_version": "2.0.0",
      "model_name": "ToggleButtonStyleModel",
      "state": {
       "description_width": "",
       "font_family": null,
       "font_size": null,
       "font_style": null,
       "font_variant": null,
       "font_weight": null,
       "text_color": null,
       "text_decoration": null
      }
     },
     "43e5868c84c244aea0243683964844fe": {
      "model_module": "@jupyter-widgets/controls",
      "model_module_version": "2.0.0",
      "model_name": "ToggleButtonModel",
      "state": {
       "button_style": "primary",
       "icon": "globe",
       "layout": "IPY_MODEL_4171d87bf6174bf8894f76f4c032e434",
       "style": "IPY_MODEL_d962997044514c9ea40987040b472e1c",
       "tooltip": "Create timelapse"
      }
     },
     "43f479a25b7a4417804a20665ead0531": {
      "model_module": "@jupyter-widgets/controls",
      "model_module_version": "2.0.0",
      "model_name": "DescriptionStyleModel",
      "state": {
       "description_width": ""
      }
     },
     "44220465f105426084c7d81d5b39aedb": {
      "model_module": "@jupyter-widgets/controls",
      "model_module_version": "2.0.0",
      "model_name": "HBoxModel",
      "state": {
       "children": [
        "IPY_MODEL_99d28225beb74688b51901ae11b8fba2",
        "IPY_MODEL_256d0408bbb8477d995f815ebaf98fae"
       ],
       "layout": "IPY_MODEL_aeec2d87e387484a9b112d2474531602"
      }
     },
     "442955f9a6114079bc7c436f8927cc23": {
      "model_module": "@jupyter-widgets/base",
      "model_module_version": "2.0.0",
      "model_name": "LayoutModel",
      "state": {
       "height": "28px",
       "padding": "0px 0px 0px 4px",
       "width": "28px"
      }
     },
     "448a7118006a4655a042f1820f35afb9": {
      "model_module": "@jupyter-widgets/output",
      "model_module_version": "1.0.0",
      "model_name": "OutputModel",
      "state": {
       "layout": "IPY_MODEL_f8650cc1cb7f4452ad05b4ca241061ab"
      }
     },
     "44951ebcf3284d6d9c63a043ab319d36": {
      "model_module": "@jupyter-widgets/controls",
      "model_module_version": "2.0.0",
      "model_name": "ToggleButtonModel",
      "state": {
       "button_style": "primary",
       "icon": "folder-open",
       "layout": "IPY_MODEL_3b9589aa5282498785f594a1c305eb61",
       "style": "IPY_MODEL_0c3916b2846d41a795239f4ae761d065",
       "tooltip": "Open local vector/raster data"
      }
     },
     "44c3b91e60d94e089d0a5d8399575e62": {
      "model_module": "@jupyter-widgets/base",
      "model_module_version": "2.0.0",
      "model_name": "LayoutModel",
      "state": {
       "max_width": "310px"
      }
     },
     "44c9b382c626443199db09ec0f3ef889": {
      "model_module": "@jupyter-widgets/base",
      "model_module_version": "2.0.0",
      "model_name": "LayoutModel",
      "state": {}
     },
     "44dd17b5d8bd4d789392aa20120dbec9": {
      "model_module": "@jupyter-widgets/base",
      "model_module_version": "2.0.0",
      "model_name": "LayoutModel",
      "state": {
       "height": "auto",
       "padding": "0px 0px 0px 4px",
       "width": "auto"
      }
     },
     "44e7cb6d5521460aa37602fbfc984b33": {
      "model_module": "@jupyter-widgets/controls",
      "model_module_version": "2.0.0",
      "model_name": "HBoxModel",
      "state": {
       "_dom_classes": [
        "geemap-light"
       ],
       "_view_count": 1,
       "children": [
        "IPY_MODEL_a71cfc4469354dffbba6b9b71426599b"
       ],
       "layout": "IPY_MODEL_a579d03942834623ab77fa6e1aed1339"
      }
     },
     "4508b3f2c5a2474196e3480ee12dccd2": {
      "model_module": "@jupyter-widgets/base",
      "model_module_version": "2.0.0",
      "model_name": "LayoutModel",
      "state": {}
     },
     "451e145dc3d84cbf82c6b4e7cae785a3": {
      "model_module": "@jupyter-widgets/base",
      "model_module_version": "2.0.0",
      "model_name": "LayoutModel",
      "state": {
       "height": "auto",
       "padding": "0px 0px 0px 4px",
       "width": "auto"
      }
     },
     "452e77175a734f5ca7d5443fc2f334b3": {
      "model_module": "ipytree",
      "model_module_version": "^0.2",
      "model_name": "NodeModel",
      "state": {
       "_id": "3c0f263a-b61a-4e37-878c-604f6b0af241",
       "_model_module_version": "^0.2",
       "_view_module_version": "^0.2",
       "icon": "file",
       "name": "09_a_complete_example.py"
      }
     },
     "4573a325a74c464d84e474c8b3ff58e8": {
      "model_module": "jupyter-leaflet",
      "model_module_version": "^0.18",
      "model_name": "LeafletMapStyleModel",
      "state": {
       "_model_module_version": "^0.18"
      }
     },
     "457a479675a84fc28a71d4690483050e": {
      "model_module": "ipytree",
      "model_module_version": "^0.2",
      "model_name": "NodeModel",
      "state": {
       "_id": "2c6503fd-c029-4514-9df5-d6157b4a6592",
       "_model_module_version": "^0.2",
       "_view_module_version": "^0.2",
       "icon": "file",
       "name": "cart_classifier.py"
      }
     },
     "45981528ac0a45e59978a1ff04d96e0b": {
      "model_module": "@jupyter-widgets/controls",
      "model_module_version": "2.0.0",
      "model_name": "ToggleButtonModel",
      "state": {
       "button_style": "primary",
       "icon": "hand-o-up",
       "layout": "IPY_MODEL_ed946fd5e2b84d69b01648277228d82f",
       "style": "IPY_MODEL_33d02ed9f55c4bd99d9c5a803f634f79",
       "tooltip": "Collect training samples"
      }
     },
     "45bbd2b67a7148ce92d8e5172bcac654": {
      "model_module": "ipytree",
      "model_module_version": "^0.2",
      "model_name": "NodeModel",
      "state": {
       "_id": "9c485cc7-ff9f-4428-8c4b-0b9836b6beee",
       "_model_module_version": "^0.2",
       "_view_module_version": "^0.2",
       "icon": "file",
       "name": "cumulative_cost_mapping.py"
      }
     },
     "45ca3cbd266247589c68ffe4988985c3": {
      "model_module": "@jupyter-widgets/controls",
      "model_module_version": "2.0.0",
      "model_name": "ToggleButtonModel",
      "state": {
       "button_style": "primary",
       "icon": "bar-chart",
       "layout": "IPY_MODEL_68c13a3c14c64f549c4587af1bd893c1",
       "style": "IPY_MODEL_cb3d509153c74d958fbf63d47a170ab5",
       "tooltip": "Plotting"
      }
     },
     "45e09ce0618c45e6a4bb94b72bd4fa77": {
      "model_module": "@jupyter-widgets/base",
      "model_module_version": "2.0.0",
      "model_name": "LayoutModel",
      "state": {}
     },
     "45e6559a603c483eb5928f7d49e04071": {
      "model_module": "@jupyter-widgets/base",
      "model_module_version": "2.0.0",
      "model_name": "LayoutModel",
      "state": {
       "height": "28px",
       "width": "72px"
      }
     },
     "461aad38752842c1811189bae72c3b9f": {
      "model_module": "@jupyter-widgets/controls",
      "model_module_version": "2.0.0",
      "model_name": "HTMLModel",
      "state": {
       "layout": "IPY_MODEL_129659ca8286450d8d1a4857c372cd13",
       "style": "IPY_MODEL_f7b6401a4b374fb8aa3291343c2bdf9f"
      }
     },
     "462ecf36351e49e680b784791e59dff8": {
      "model_module": "ipytree",
      "model_module_version": "^0.2",
      "model_name": "NodeModel",
      "state": {
       "_id": "f546e5c1-facc-4a6b-8cfc-3e2e2bd6d256",
       "_model_module_version": "^0.2",
       "_view_module_version": "^0.2",
       "icon": "file",
       "name": "geometric_operations.py"
      }
     },
     "4632e0bcf2444f629a2ef433aba33070": {
      "model_module": "ipytree",
      "model_module_version": "^0.2",
      "model_name": "NodeModel",
      "state": {
       "_id": "2ac06ff9-c8a1-4f77-af9b-c74a776ffafe",
       "_model_module_version": "^0.2",
       "_view_module_version": "^0.2",
       "icon": "file",
       "name": "select_bands.py"
      }
     },
     "4653428903df46e9aa1b82ae9af6fcb6": {
      "model_module": "@jupyter-widgets/controls",
      "model_module_version": "2.0.0",
      "model_name": "ToggleButtonModel",
      "state": {
       "button_style": "primary",
       "icon": "eraser",
       "layout": "IPY_MODEL_e9b5efa8970a496eb7ea3624346ca88d",
       "style": "IPY_MODEL_1c31c31672a344cca594abec6a6becb5",
       "tooltip": "Remove all drawn features"
      }
     },
     "467580024e214db3bd251b3ba661107b": {
      "model_module": "ipytree",
      "model_module_version": "^0.2",
      "model_name": "NodeModel",
      "state": {
       "_id": "d24503a7-6d55-40d0-8c51-8ee1871c55d9",
       "_model_module_version": "^0.2",
       "_view_module_version": "^0.2",
       "icon": "file",
       "name": "utils-hillshadeRgb.py"
      }
     },
     "46806c7966d7402186a15320cc397729": {
      "model_module": "ipytree",
      "model_module_version": "^0.2",
      "model_name": "NodeModel",
      "state": {
       "_id": "94d4dda2-32be-46f9-87b3-69be24ff2514",
       "_model_module_version": "^0.2",
       "_view_module_version": "^0.2",
       "icon": "file",
       "name": "sentinel-2.py"
      }
     },
     "4682fea3fdda46f680b9a464d9ad64a0": {
      "model_module": "@jupyter-widgets/base",
      "model_module_version": "2.0.0",
      "model_name": "LayoutModel",
      "state": {
       "height": "auto",
       "padding": "0px 0px 0px 4px",
       "width": "auto"
      }
     },
     "46c2c63919814184b36033b3316472ee": {
      "model_module": "@jupyter-widgets/controls",
      "model_module_version": "2.0.0",
      "model_name": "HBoxModel",
      "state": {
       "_dom_classes": [
        "geemap-light"
       ],
       "_view_count": 1,
       "children": [
        "IPY_MODEL_ede7a9ea97454cd0ab1729fb1191fa4e"
       ],
       "layout": "IPY_MODEL_aac3318ee9024ca2861cb2a5c7db5715"
      }
     },
     "46cecc4b86ae4f4e9a219bc11a787540": {
      "model_module": "@jupyter-widgets/controls",
      "model_module_version": "2.0.0",
      "model_name": "ToggleButtonStyleModel",
      "state": {
       "description_width": "",
       "font_family": null,
       "font_size": null,
       "font_style": null,
       "font_variant": null,
       "font_weight": null,
       "text_color": null,
       "text_decoration": null
      }
     },
     "4720fcd416734aaa9fe67d25ba77808b": {
      "model_module": "@jupyter-widgets/controls",
      "model_module_version": "2.0.0",
      "model_name": "ToggleButtonModel",
      "state": {
       "button_style": "primary",
       "icon": "gears",
       "layout": "IPY_MODEL_c938e3c2f809440caaedbe67c189a2f1",
       "style": "IPY_MODEL_56012a22bb1a4eef87401f5dd740e4cb",
       "tooltip": "WhiteboxTools for local geoprocessing"
      }
     },
     "47ba674322114006bae01ae33d925e5a": {
      "model_module": "ipytree",
      "model_module_version": "^0.2",
      "model_name": "NodeModel",
      "state": {
       "_id": "0dbc6d00-b2d4-40ca-bd58-833d3f4b864b",
       "_model_module_version": "^0.2",
       "_view_module_version": "^0.2",
       "icon": "file",
       "name": "image_metadata.py"
      }
     },
     "47e3c0a7f88942559e40e834d3a3fc53": {
      "model_module": "ipytree",
      "model_module_version": "^0.2",
      "model_name": "NodeModel",
      "state": {
       "_id": "4c6c8ed8-6f27-4f88-b346-7b754655f2d9",
       "_model_module_version": "^0.2",
       "_view_module_version": "^0.2",
       "icon": "file",
       "name": "us_ned_landforms.py"
      }
     },
     "47fbd4a406e84a48ba1c3d176146184d": {
      "model_module": "@jupyter-widgets/base",
      "model_module_version": "2.0.0",
      "model_name": "LayoutModel",
      "state": {
       "height": "28px",
       "padding": "0px 0px 0px 4px",
       "width": "28px"
      }
     },
     "480acac322f44f3987d4cfe30873ce36": {
      "model_module": "@jupyter-widgets/controls",
      "model_module_version": "2.0.0",
      "model_name": "ToggleButtonModel",
      "state": {
       "button_style": "primary",
       "icon": "google",
       "layout": "IPY_MODEL_c3501d09fcd041ac9cbec7f9ea9954ca",
       "style": "IPY_MODEL_5a43edf3b8b94db0bf4b6c03a5824250",
       "tooltip": "GEE Toolbox for cloud computing"
      }
     },
     "4812a3da6b0a4ad9a858408ea9473356": {
      "model_module": "@jupyter-widgets/controls",
      "model_module_version": "2.0.0",
      "model_name": "ToggleButtonStyleModel",
      "state": {
       "description_width": "",
       "font_family": null,
       "font_size": null,
       "font_style": null,
       "font_variant": null,
       "font_weight": null,
       "text_color": null,
       "text_decoration": null
      }
     },
     "484985de79274096b5236fe99f267c62": {
      "model_module": "@jupyter-widgets/controls",
      "model_module_version": "2.0.0",
      "model_name": "ToggleButtonModel",
      "state": {
       "button_style": "primary",
       "icon": "plus",
       "layout": "IPY_MODEL_64e4020af772475493246b0351a9d54d",
       "style": "IPY_MODEL_89ac719ff2ad4d69af6f00776ce48283",
       "tooltip": "Expand toolbar"
      }
     },
     "4851b80d5bfe49edad40f0653274fde1": {
      "model_module": "ipytree",
      "model_module_version": "^0.2",
      "model_name": "NodeModel",
      "state": {
       "_id": "65daf488-cfb1-4101-8dc8-b7501c4db0ae",
       "_model_module_version": "^0.2",
       "_view_module_version": "^0.2",
       "icon": "file",
       "name": "reduce_to_image.py"
      }
     },
     "48526f1faaa144c2993355fa87a680a0": {
      "model_module": "ipytree",
      "model_module_version": "^0.2",
      "model_name": "NodeModel",
      "state": {
       "_id": "7a98f343-271a-4298-b15d-b0280d5d9d5a",
       "_model_module_version": "^0.2",
       "_view_module_version": "^0.2",
       "icon": "file",
       "name": "export_TimeSeries2.py"
      }
     },
     "48a3a67806fb4cecb4ca782d15f3cbee": {
      "model_module": "jupyter-leaflet",
      "model_module_version": "^0.18",
      "model_name": "LeafletMapStyleModel",
      "state": {
       "_model_module_version": "^0.18",
       "cursor": "move"
      }
     },
     "48bd058a20fd435da9376fb17effe4ba": {
      "model_module": "ipytree",
      "model_module_version": "^0.2",
      "model_name": "NodeModel",
      "state": {
       "_id": "1febb777-7fd5-4291-a574-82e6e064337b",
       "_model_module_version": "^0.2",
       "_view_module_version": "^0.2",
       "icon": "file",
       "name": "linear_regression.py"
      }
     },
     "48c4866745294ffc8fb9131f4d214f50": {
      "model_module": "ipytree",
      "model_module_version": "^0.2",
      "model_name": "NodeModel",
      "state": {
       "_id": "f54d8f76-2728-4573-bbdb-c328fd8e4b67",
       "_model_module_version": "^0.2",
       "_view_module_version": "^0.2",
       "icon": "file",
       "name": "clipped_composite.py"
      }
     },
     "48f5265672b645638583791ae29b6eb9": {
      "model_module": "jupyter-leaflet",
      "model_module_version": "^0.18",
      "model_name": "LeafletZoomControlModel",
      "state": {
       "_model_module_version": "^0.18",
       "_view_module_version": "^0.18",
       "options": [
        "position",
        "zoom_in_text",
        "zoom_in_title",
        "zoom_out_text",
        "zoom_out_title"
       ]
      }
     },
     "49c597ccf14e495fa1d5f8ee777bdc0a": {
      "model_module": "@jupyter-widgets/controls",
      "model_module_version": "2.0.0",
      "model_name": "VBoxModel",
      "state": {
       "children": [
        "IPY_MODEL_75c0d402cd0b4eacb8b8555d51b3a344"
       ],
       "layout": "IPY_MODEL_2fb52ae26a744e24acabcfbba6c615e1"
      }
     },
     "49d10702d00e4c319c96fe80ad2f914a": {
      "model_module": "@jupyter-widgets/controls",
      "model_module_version": "2.0.0",
      "model_name": "ToggleButtonModel",
      "state": {
       "button_style": "primary",
       "icon": "info",
       "layout": "IPY_MODEL_0c9d31f7b1db451f9f23cefe2450e344",
       "style": "IPY_MODEL_f6b06e21d19c4cab80ba37ec2127d3d4",
       "tooltip": "Inspector"
      }
     },
     "4a1980738f514e36b400104ce89ddcc6": {
      "model_module": "jupyter-leaflet",
      "model_module_version": "^0.18",
      "model_name": "LeafletDrawControlModel",
      "state": {
       "_model_module_version": "^0.18",
       "_view_module_version": "^0.18",
       "marker": {
        "shapeOptions": {
         "color": "#3388ff"
        }
       },
       "options": [
        "position"
       ],
       "polygon": {
        "shapeOptions": {
         "clickable": true,
         "color": "#3388ff",
         "fill": true,
         "fillColor": null,
         "fillOpacity": 0.2,
         "opacity": 0.5,
         "stroke": true,
         "weight": 4
        }
       },
       "polyline": {
        "shapeOptions": {
         "clickable": true,
         "color": "#3388ff",
         "fill": false,
         "opacity": 0.5,
         "stroke": true,
         "weight": 4
        }
       },
       "rectangle": {
        "shapeOptions": {
         "clickable": true,
         "color": "#3388ff",
         "fill": true,
         "fillColor": null,
         "fillOpacity": 0.2,
         "opacity": 0.5,
         "stroke": true,
         "weight": 4
        }
       }
      }
     },
     "4a521655e9d34f43b5df60b44c9a3d7d": {
      "model_module": "ipytree",
      "model_module_version": "^0.2",
      "model_name": "NodeModel",
      "state": {
       "_id": "93a942d1-f9ec-41ef-9d92-baf1acee8ba5",
       "_model_module_version": "^0.2",
       "_view_module_version": "^0.2",
       "icon": "file",
       "name": "us_ned_landforms.py"
      }
     },
     "4a736c2ae3f742e5a22556585fabc1bf": {
      "model_module": "jupyter-leaflet",
      "model_module_version": "^0.18",
      "model_name": "LeafletWidgetControlModel",
      "state": {
       "_model_module": "jupyter-leaflet",
       "_model_module_version": "^0.18",
       "_view_count": null,
       "_view_module": "jupyter-leaflet",
       "_view_module_version": "^0.18",
       "options": [
        "position",
        "transparent_bg"
       ],
       "position": "topleft",
       "widget": "IPY_MODEL_c57ae8e752ae457dad9f3b4fa273b563"
      }
     },
     "4aa168f93b8c4cb4bc035f37e12b6887": {
      "model_module": "ipytree",
      "model_module_version": "^0.2",
      "model_name": "NodeModel",
      "state": {
       "_id": "5fbe964f-a510-496f-b0b5-e3fb8d79a3b7",
       "_model_module_version": "^0.2",
       "_view_module_version": "^0.2",
       "icon": "file",
       "name": "select_by_strings.py"
      }
     },
     "4ad001034bc5427ca4d868972fa268e9": {
      "model_module": "ipytree",
      "model_module_version": "^0.2",
      "model_name": "NodeModel",
      "state": {
       "_id": "79cfbbcd-1d70-46e0-99ff-dc5a48c9cb77",
       "_model_module_version": "^0.2",
       "_view_module_version": "^0.2",
       "icon": "file",
       "name": "hillshade.py"
      }
     },
     "4ad06b8dec934ab8b864d86e088722ef": {
      "model_module": "ipytree",
      "model_module_version": "^0.2",
      "model_name": "NodeModel",
      "state": {
       "_id": "3bd00eca-d120-4cdf-bd6c-3581dd8253ad",
       "_model_module_version": "^0.2",
       "_view_module_version": "^0.2",
       "icon": "file",
       "name": "world_database_on_protected_areas.py"
      }
     },
     "4ad6ab372b2344be92183119c9af0392": {
      "model_module": "jupyter-leaflet",
      "model_module_version": "^0.18",
      "model_name": "LeafletMapStyleModel",
      "state": {
       "_model_module_version": "^0.18"
      }
     },
     "4ae98c3e2ecf4bc4bb2b102dcfbf9b19": {
      "model_module": "@jupyter-widgets/base",
      "model_module_version": "2.0.0",
      "model_name": "LayoutModel",
      "state": {
       "height": "auto",
       "padding": "0px 0px 0px 4px",
       "width": "auto"
      }
     },
     "4afac3ba6c4348c7907c4b7704c0847f": {
      "model_module": "@jupyter-widgets/controls",
      "model_module_version": "2.0.0",
      "model_name": "ToggleButtonModel",
      "state": {
       "button_style": "primary",
       "icon": "map",
       "layout": "IPY_MODEL_1ac7153764e74cf29b816cb5f897d0c5",
       "style": "IPY_MODEL_210321bc3de04907a7d0a85e9770e9d9",
       "tooltip": "Change basemap"
      }
     },
     "4b0b350ff43041a5beda54d3e9ff0f2c": {
      "model_module": "@jupyter-widgets/base",
      "model_module_version": "2.0.0",
      "model_name": "LayoutModel",
      "state": {}
     },
     "4b15c187d4e14fd8b9eac90d11911843": {
      "model_module": "@jupyter-widgets/controls",
      "model_module_version": "2.0.0",
      "model_name": "VBoxModel",
      "state": {
       "children": [
        "IPY_MODEL_fe64655bec9146be88eefae029197024"
       ],
       "layout": "IPY_MODEL_570b92923336485b8acf6e777814e7c6"
      }
     },
     "4b1793ba84ec42e08a4740fd6bccad60": {
      "model_module": "ipytree",
      "model_module_version": "^0.2",
      "model_name": "NodeModel",
      "state": {
       "_id": "3a3bace7-98ba-436a-8bb9-8c699b529c53",
       "_model_module_version": "^0.2",
       "_view_module_version": "^0.2",
       "icon": "file",
       "name": "download.py"
      }
     },
     "4b5aaec3e6ef42c088b4f3ce78ac0d40": {
      "model_module": "@jupyter-widgets/base",
      "model_module_version": "2.0.0",
      "model_name": "LayoutModel",
      "state": {}
     },
     "4b68e6e180894cf39eeb74fd8005f361": {
      "model_module": "@jupyter-widgets/base",
      "model_module_version": "2.0.0",
      "model_name": "LayoutModel",
      "state": {}
     },
     "4b9bb32ee2744ef4893a3e7bc1bb2695": {
      "model_module": "ipytree",
      "model_module_version": "^0.2",
      "model_name": "NodeModel",
      "state": {
       "_id": "65588ebc-9f0b-4a31-a1f3-a5c2905cad4c",
       "_model_module_version": "^0.2",
       "_view_module_version": "^0.2",
       "icon": "file",
       "name": "visualizing_feature_collection.py"
      }
     },
     "4bcfc987ae2a4768847aa06f6d72144a": {
      "model_module": "@jupyter-widgets/controls",
      "model_module_version": "2.0.0",
      "model_name": "ToggleButtonModel",
      "state": {
       "icon": "server",
       "layout": "IPY_MODEL_8c3db24fe0b448c28f413222356efa40",
       "style": "IPY_MODEL_e6b7ec826ed54be685ca783da59260dc",
       "tooltip": "Layers"
      }
     },
     "4bf2a43f1c204336a60d7952e1529b64": {
      "model_module": "ipytree",
      "model_module_version": "^0.2",
      "model_name": "NodeModel",
      "state": {
       "_id": "e177132a-fa87-4146-9c5a-8523a2a5fe46",
       "_model_module_version": "^0.2",
       "_view_module_version": "^0.2",
       "name": "Gena",
       "nodes": [
        "IPY_MODEL_d9ce1e08610f4ab3a0887d1e161988b6",
        "IPY_MODEL_4ad001034bc5427ca4d868972fa268e9",
        "IPY_MODEL_839c2ae730d84d198ef571c9d9c44fc3",
        "IPY_MODEL_f0082288e3854ceca59ab3d92090a1df",
        "IPY_MODEL_2adcbe01ed42437e81ff6b0207bfa5ba",
        "IPY_MODEL_6b4a64469fd84ea0a1238edb0417cc5b",
        "IPY_MODEL_0ff45447459e43b3884eda076f456b1c",
        "IPY_MODEL_4fd36057312f46659438f85b50d979de",
        "IPY_MODEL_d8de0325bdef42d0ae79b2c72fc763d1",
        "IPY_MODEL_3e13ee8e78254b21a190baa952f6ad4a",
        "IPY_MODEL_21a06dc653414dbb9045ae5b81936e18",
        "IPY_MODEL_d78866e30f544a74b4b28202af2ef645",
        "IPY_MODEL_8973da4f720945ffb4b33691c9b58b2f",
        "IPY_MODEL_7329482a7a304ae990e02065d9209ce5"
       ],
       "opened": false
      }
     },
     "4c0601a7601347efb2e1fff61a1dd393": {
      "model_module": "ipytree",
      "model_module_version": "^0.2",
      "model_name": "NodeModel",
      "state": {
       "_id": "16a8903e-fea1-4c87-8432-c77b105b507e",
       "_model_module_version": "^0.2",
       "_view_module_version": "^0.2",
       "icon": "file",
       "name": "clamp.py"
      }
     },
     "4c09c64fd4f340338fdb482f2d90c649": {
      "model_module": "ipytree",
      "model_module_version": "^0.2",
      "model_name": "NodeModel",
      "state": {
       "_id": "6e23863c-e7c0-4bd6-804a-43323cb1f1bd",
       "_model_module_version": "^0.2",
       "_view_module_version": "^0.2",
       "icon": "file",
       "name": "cumulative_cost_mapping.py"
      }
     },
     "4c20315c410c48ff8e2e6505c029420f": {
      "model_module": "@jupyter-widgets/base",
      "model_module_version": "2.0.0",
      "model_name": "LayoutModel",
      "state": {}
     },
     "4c59d0e74e0e466e9041cba4bb50f6ce": {
      "model_module": "ipytree",
      "model_module_version": "^0.2",
      "model_name": "NodeModel",
      "state": {
       "_id": "19d2ee21-c9b2-4e9d-be9a-828ac01de40f",
       "_model_module_version": "^0.2",
       "_view_module_version": "^0.2",
       "icon": "file",
       "name": "08_masking.py"
      }
     },
     "4c602963854849c5ad136fca07eb1026": {
      "model_module": "ipytree",
      "model_module_version": "^0.2",
      "model_name": "NodeModel",
      "state": {
       "_id": "349ee24c-5cea-4440-a55e-682f45d0a933",
       "_model_module_version": "^0.2",
       "_view_module_version": "^0.2",
       "icon": "file",
       "name": "hillshade.py"
      }
     },
     "4c6b9d53c11b454285d4184e024f6e06": {
      "model_module": "ipytree",
      "model_module_version": "^0.2",
      "model_name": "NodeModel",
      "state": {
       "_id": "f07d4b47-3b9b-4d03-abde-3dda2b6ec89a",
       "_model_module_version": "^0.2",
       "_view_module_version": "^0.2",
       "name": "Vectors",
       "nodes": [
        "IPY_MODEL_90450d5f881e4d64893674e2a70c52a5",
        "IPY_MODEL_9a890769db5b457e862beed68ccff12b",
        "IPY_MODEL_2207cba2861e47be992194f625b9c835",
        "IPY_MODEL_06498a70168747c1ad88ec99349b5f9e",
        "IPY_MODEL_36fbcec953a24e5597bacc5219f11878",
        "IPY_MODEL_88e1a6c258f64d508090eb1cccd062e0",
        "IPY_MODEL_68a1b37c68a646438801a7f286406b56",
        "IPY_MODEL_e3a3211a99be4a4489014ff24676c440",
        "IPY_MODEL_ba2825d549ef41aa8bd87ad7db3fe9e5",
        "IPY_MODEL_b7b39a22b0c84711b8a5f63d22240afb",
        "IPY_MODEL_6ef76002e82f4c89b28ee085ced400ae",
        "IPY_MODEL_a3cde40ec7e14fc2a8c849f10457a35b",
        "IPY_MODEL_da89dc0cc4c746eeaf139946783092a8",
        "IPY_MODEL_02e7eeefee634f04abd92f5106f2b2bc",
        "IPY_MODEL_4ad06b8dec934ab8b864d86e088722ef"
       ],
       "opened": false
      }
     },
     "4c810c1cd5d84424a6cedb3550f5b640": {
      "model_module": "@jupyter-widgets/controls",
      "model_module_version": "2.0.0",
      "model_name": "ToggleButtonStyleModel",
      "state": {
       "description_width": "",
       "font_family": null,
       "font_size": null,
       "font_style": null,
       "font_variant": null,
       "font_weight": null,
       "text_color": null,
       "text_decoration": null
      }
     },
     "4c913ea6f87546e587fb2f8605dadd9c": {
      "model_module": "@jupyter-widgets/controls",
      "model_module_version": "2.0.0",
      "model_name": "ToggleButtonModel",
      "state": {
       "button_style": "primary",
       "icon": "map",
       "layout": "IPY_MODEL_34b7fe56508f4f1983d5fcf1e61609fe",
       "style": "IPY_MODEL_db7328dbb22a4acfb3fa90c465d0dbac",
       "tooltip": "Change basemap"
      }
     },
     "4cfa38ee59c94f73a62451e3d8ba389d": {
      "model_module": "@jupyter-widgets/controls",
      "model_module_version": "2.0.0",
      "model_name": "ToggleButtonModel",
      "state": {
       "button_style": "primary",
       "icon": "random",
       "layout": "IPY_MODEL_ad9040d87e664db3a822adeabba658c0",
       "style": "IPY_MODEL_a1667824cc1a4a6cbf2db2bb781a5b34",
       "tooltip": "Sankey plots"
      }
     },
     "4d60018f3d2d4f0b83a1b31a2b80155a": {
      "model_module": "ipytree",
      "model_module_version": "^0.2",
      "model_name": "NodeModel",
      "state": {
       "_id": "6cbfe1dc-6348-4b67-a21d-a29791e78d83",
       "_model_module_version": "^0.2",
       "_view_module_version": "^0.2",
       "icon": "file",
       "name": "center_pivot_irrigation_detector.py"
      }
     },
     "4d6553b84a1e4943b100f74ac1417f60": {
      "model_module": "@jupyter-widgets/controls",
      "model_module_version": "2.0.0",
      "model_name": "HTMLModel",
      "state": {
       "layout": "IPY_MODEL_229eeeac2eed4230b8b933d248562628",
       "style": "IPY_MODEL_cc5f0057c1514726aa46056b9d334e3b"
      }
     },
     "4d9bda4d893b4df9b2977c12cfad775f": {
      "model_module": "@jupyter-widgets/base",
      "model_module_version": "2.0.0",
      "model_name": "LayoutModel",
      "state": {}
     },
     "4db55dff2d8949c79994987d5da5808e": {
      "model_module": "ipytree",
      "model_module_version": "^0.2",
      "model_name": "NodeModel",
      "state": {
       "_id": "39e4f2d8-a84f-42c8-b03b-0fa75aac9b75",
       "_model_module_version": "^0.2",
       "_view_module_version": "^0.2",
       "icon": "file",
       "name": "naip_imagery.py"
      }
     },
     "4e11dcea17334ec7a9c5cdb4b18999fb": {
      "model_module": "@jupyter-widgets/controls",
      "model_module_version": "2.0.0",
      "model_name": "ToggleButtonsModel",
      "state": {
       "_options_labels": [
        "name/address",
        "lat-lon",
        "data"
       ],
       "button_style": "",
       "icons": [],
       "index": 0,
       "layout": "IPY_MODEL_8cbda37e028d48cab157c53bac45adb8",
       "style": "IPY_MODEL_c148a0fc4fff4d74b9f178a8da79652e",
       "tooltips": [
        "Search by place name or address",
        "Search by lat-lon coordinates",
        "Search Earth Engine data catalog"
       ]
      }
     },
     "4e36e287e6e74b0fbea2d47b642cf806": {
      "model_module": "@jupyter-widgets/base",
      "model_module_version": "2.0.0",
      "model_name": "LayoutModel",
      "state": {
       "max_width": "279px",
       "min_width": "279px"
      }
     },
     "4e43b45de6e84ff4961afdfb544c7ad8": {
      "model_module": "ipytree",
      "model_module_version": "^0.2",
      "model_name": "NodeModel",
      "state": {
       "_id": "755bb5a2-d0e1-451f-9207-831caa44d624",
       "_model_module_version": "^0.2",
       "_view_module_version": "^0.2",
       "icon": "file",
       "name": "using_weights.py"
      }
     },
     "4eb16588a66f424f9a4c182be99483e6": {
      "model_module": "@jupyter-widgets/base",
      "model_module_version": "2.0.0",
      "model_name": "LayoutModel",
      "state": {
       "height": "auto",
       "padding": "0px 0px 0px 4px",
       "width": "auto"
      }
     },
     "4eee515a0c1f4020aca8bf2b0f2e56b2": {
      "model_module": "ipytree",
      "model_module_version": "^0.2",
      "model_name": "NodeModel",
      "state": {
       "_id": "78aaa9aa-bf3b-4400-8e05-6c408f05faed",
       "_model_module_version": "^0.2",
       "_view_module_version": "^0.2",
       "icon": "file",
       "name": "normalized_difference.py"
      }
     },
     "4f9cf82166ce41bda1a3aed1d432f052": {
      "model_module": "ipytree",
      "model_module_version": "^0.2",
      "model_name": "NodeModel",
      "state": {
       "_id": "1dd1540b-6eed-4331-9539-7a873ff0f375",
       "_model_module_version": "^0.2",
       "_view_module_version": "^0.2",
       "icon": "file",
       "name": "spatial_joins.py"
      }
     },
     "4fb857a1106e4e3380b3f5ceb8132342": {
      "model_module": "ipytree",
      "model_module_version": "^0.2",
      "model_name": "NodeModel",
      "state": {
       "_id": "d17cb752-d49d-4899-bcd4-f905de3d7cb7",
       "_model_module_version": "^0.2",
       "_view_module_version": "^0.2",
       "icon": "file",
       "name": "landsat8_surface_reflectance-copy.py"
      }
     },
     "4fc56e43bffd404a8364d9df1015f59e": {
      "model_module": "ipytree",
      "model_module_version": "^0.2",
      "model_name": "NodeModel",
      "state": {
       "_id": "6fbe611a-67f7-4454-8aca-dd1ce3c24d5b",
       "_model_module_version": "^0.2",
       "_view_module_version": "^0.2",
       "icon": "file",
       "name": "mean_std_image.py"
      }
     },
     "4fd36057312f46659438f85b50d979de": {
      "model_module": "ipytree",
      "model_module_version": "^0.2",
      "model_name": "NodeModel",
      "state": {
       "_id": "a0109e60-a36d-4fb7-ad48-aca2dd9231bd",
       "_model_module_version": "^0.2",
       "_view_module_version": "^0.2",
       "icon": "file",
       "name": "map_get_bounds.py"
      }
     },
     "4fdbdf70d31845a68e1851cfdc113819": {
      "model_module": "@jupyter-widgets/base",
      "model_module_version": "2.0.0",
      "model_name": "LayoutModel",
      "state": {
       "max_width": "279px",
       "min_width": "279px"
      }
     },
     "5014b15ffc4946df85f8f24d5807f4d8": {
      "model_module": "@jupyter-widgets/controls",
      "model_module_version": "2.0.0",
      "model_name": "ToggleButtonStyleModel",
      "state": {
       "description_width": "",
       "font_family": null,
       "font_size": null,
       "font_style": null,
       "font_variant": null,
       "font_weight": null,
       "text_color": null,
       "text_decoration": null
      }
     },
     "503a7cd8b2ad4c30876ef70f9521f653": {
      "model_module": "@jupyter-widgets/controls",
      "model_module_version": "2.0.0",
      "model_name": "ToggleButtonModel",
      "state": {
       "button_style": "primary",
       "icon": "minus",
       "layout": "IPY_MODEL_da300fba2d1947c6a972c902571a9ade",
       "style": "IPY_MODEL_018182318b994f1cbbc9347f049e18aa",
       "tooltip": "Collapse toolbar"
      }
     },
     "504a8c6ac50048c49edf6d65a37d37ad": {
      "model_module": "ipytree",
      "model_module_version": "^0.2",
      "model_name": "NodeModel",
      "state": {
       "_id": "8b1fec1c-1d7f-48fd-87b3-a52143c206a4",
       "_model_module_version": "^0.2",
       "_view_module_version": "^0.2",
       "icon": "file",
       "name": "resolve_ecoregions.py"
      }
     },
     "50a5e17401584b2b827de00e9ff1f5e1": {
      "model_module": "@jupyter-widgets/base",
      "model_module_version": "2.0.0",
      "model_name": "LayoutModel",
      "state": {}
     },
     "50b7bee49c174d7ea595d77ec60b256a": {
      "model_module": "@jupyter-widgets/controls",
      "model_module_version": "2.0.0",
      "model_name": "ToggleButtonStyleModel",
      "state": {
       "description_width": "",
       "font_family": null,
       "font_size": null,
       "font_style": null,
       "font_variant": null,
       "font_weight": null,
       "text_color": null,
       "text_decoration": null
      }
     },
     "50db9b70fb0a445c9a87a948219b3c5e": {
      "model_module": "@jupyter-widgets/controls",
      "model_module_version": "2.0.0",
      "model_name": "ToggleButtonModel",
      "state": {
       "button_style": "primary",
       "icon": "folder-open",
       "layout": "IPY_MODEL_1d8c281e742c451ea844bd08ebe7e2da",
       "style": "IPY_MODEL_7c8b4234a92e48e3b02efcd10516da7d",
       "tooltip": "Open local vector/raster data"
      }
     },
     "5112c71131154de59fe47ec06ebb2132": {
      "model_module": "ipytree",
      "model_module_version": "^0.2",
      "model_name": "NodeModel",
      "state": {
       "_id": "b9e88f22-1e2f-4672-88e3-8bf5ebfacb00",
       "_model_module_version": "^0.2",
       "_view_module_version": "^0.2",
       "icon": "file",
       "name": "metadata.py"
      }
     },
     "513836b862f7429fab1acdfd10476d38": {
      "model_module": "ipytree",
      "model_module_version": "^0.2",
      "model_name": "NodeModel",
      "state": {
       "_id": "efb603f3-1334-4dce-a525-c38a1eb195a5",
       "_model_module_version": "^0.2",
       "_view_module_version": "^0.2",
       "icon": "file",
       "name": "get_image_resolution.py"
      }
     },
     "513fdec56f454ac3bb09a8dcb20e5c01": {
      "model_module": "@jupyter-widgets/controls",
      "model_module_version": "2.0.0",
      "model_name": "ToggleButtonModel",
      "state": {
       "button_style": "primary",
       "icon": "hand-o-up",
       "layout": "IPY_MODEL_1754513312ce42bfa5bdb875058d1ee4",
       "style": "IPY_MODEL_e0f6be72d5b04fe9b82ca16957784fa3",
       "tooltip": "Collect training samples"
      }
     },
     "518d485178ca4daf8811aea55098bbe8": {
      "model_module": "@jupyter-widgets/controls",
      "model_module_version": "2.0.0",
      "model_name": "ToggleButtonModel",
      "state": {
       "button_style": "primary",
       "icon": "fast-forward",
       "layout": "IPY_MODEL_d641dd392d504fd3a7ffdb96cfa9261d",
       "style": "IPY_MODEL_822f94578e9f446094bff93742257ec7",
       "tooltip": "Activate timeslider"
      }
     },
     "51a0bc9b9def4f1aaa0e1643f8e0ef1e": {
      "model_module": "jupyter-leaflet",
      "model_module_version": "^0.18",
      "model_name": "LeafletAttributionControlModel",
      "state": {
       "_model_module_version": "^0.18",
       "_view_module_version": "^0.18",
       "options": [
        "position",
        "prefix"
       ],
       "position": "bottomright",
       "prefix": "ipyleaflet"
      }
     },
     "51ae734d7a1e4d42902e5deb05ae6052": {
      "model_module": "jupyter-leaflet",
      "model_module_version": "^0.18",
      "model_name": "LeafletSplitMapControlModel",
      "state": {
       "_model_module_version": "^0.18",
       "_model_name": "LeafletSplitMapControlModel",
       "_view_module_version": "^0.18",
       "_view_name": "LeafletSplitMapControlView",
       "left_layer": "IPY_MODEL_a11dff8cb7e04417bb0f5f006104d9a2",
       "options": [
        "position"
       ],
       "right_layer": "IPY_MODEL_e26129b4ab0140a6b6ca5821dece6ef8"
      }
     },
     "51dc79032e7d46e3aa869d97a36a9395": {
      "model_module": "@jupyter-widgets/controls",
      "model_module_version": "2.0.0",
      "model_name": "VBoxModel",
      "state": {
       "_dom_classes": [
        "geemap-light"
       ],
       "_view_count": 0,
       "children": [
        "IPY_MODEL_41edc3c143294c7cbba44b56322464a3"
       ],
       "layout": "IPY_MODEL_42ace985569146ebbf43f035029926d4"
      }
     },
     "5250c31fc52a4375a5f2174061516711": {
      "model_module": "ipytree",
      "model_module_version": "^0.2",
      "model_name": "NodeModel",
      "state": {
       "_id": "efc2806a-07fb-4924-ad91-c0f49a401be0",
       "_model_module_version": "^0.2",
       "_view_module_version": "^0.2",
       "icon": "file",
       "name": "get_image_resolution.py"
      }
     },
     "526ab7014f094deaba868fe2020386b4": {
      "model_module": "@jupyter-widgets/controls",
      "model_module_version": "2.0.0",
      "model_name": "RadioButtonsModel",
      "state": {
       "index": null,
       "layout": "IPY_MODEL_3766fb3c98b04555bfdef43f85d7aebe",
       "style": "IPY_MODEL_cd865613fd694f4aa9f6e83ec37b7fa8"
      }
     },
     "52b06b8ae9424e7f8cfe5728af9cd009": {
      "model_module": "ipytree",
      "model_module_version": "^0.2",
      "model_name": "NodeModel",
      "state": {
       "_id": "1a078ee5-d217-4f02-b0b0-cc0872821c4c",
       "_model_module_version": "^0.2",
       "_view_module_version": "^0.2",
       "icon": "file",
       "name": "image_smoothing.py"
      }
     },
     "532cca047892448eae1a9a9598b81a14": {
      "model_module": "ipytree",
      "model_module_version": "^0.2",
      "model_name": "NodeModel",
      "state": {
       "_id": "456f40b8-5d0c-42e4-b120-d9b19dbcb796",
       "_model_module_version": "^0.2",
       "_view_module_version": "^0.2",
       "icon": "file",
       "name": "map_function.py"
      }
     },
     "534426a7ff0e475fbab9a14a03b2c0f8": {
      "model_module": "@jupyter-widgets/base",
      "model_module_version": "2.0.0",
      "model_name": "LayoutModel",
      "state": {
       "height": "auto",
       "padding": "0px 0px 0px 4px",
       "width": "auto"
      }
     },
     "53468a8b04744a7094e068fa7855ff93": {
      "model_module": "ipytree",
      "model_module_version": "^0.2",
      "model_name": "NodeModel",
      "state": {
       "_id": "08fec325-007d-454c-b407-e31ea04d60b9",
       "_model_module_version": "^0.2",
       "_view_module_version": "^0.2",
       "name": "Join",
       "nodes": [
        "IPY_MODEL_6053e6d6b5c0465d854b67fda546c8a9",
        "IPY_MODEL_0a04d399797e409ab1393706123fe831",
        "IPY_MODEL_d63740a237424a2bbc426f75dc17b50c",
        "IPY_MODEL_378acf45a3fa436f9df78d14c890dd0e",
        "IPY_MODEL_df121ade02a348caa63fb1c9e5996afa",
        "IPY_MODEL_560668292903432cada27b1a13249e3f",
        "IPY_MODEL_a583ac66c72543338a40698c0ab4894c"
       ],
       "opened": false
      }
     },
     "534e23a0ea724f22a728f94832e6e8ff": {
      "model_module": "@jupyter-widgets/base",
      "model_module_version": "2.0.0",
      "model_name": "LayoutModel",
      "state": {
       "height": "28px",
       "width": "72px"
      }
     },
     "538c159687c244288d21e305962ba82e": {
      "model_module": "@jupyter-widgets/controls",
      "model_module_version": "2.0.0",
      "model_name": "ToggleButtonStyleModel",
      "state": {
       "description_width": "",
       "font_family": null,
       "font_size": null,
       "font_style": null,
       "font_variant": null,
       "font_weight": null,
       "text_color": null,
       "text_decoration": null
      }
     },
     "53db306f19044f00aedf894ca586b380": {
      "model_module": "ipytree",
      "model_module_version": "^0.2",
      "model_name": "NodeModel",
      "state": {
       "_id": "dcbf7ac5-d125-4338-b265-52a2c0caed49",
       "_model_module_version": "^0.2",
       "_view_module_version": "^0.2",
       "icon": "file",
       "name": "map_get_center.py"
      }
     },
     "53ffa55fd08746bc9009da34bffb2ec2": {
      "model_module": "@jupyter-widgets/controls",
      "model_module_version": "2.0.0",
      "model_name": "ToggleButtonStyleModel",
      "state": {
       "description_width": "",
       "font_family": null,
       "font_size": null,
       "font_style": null,
       "font_variant": null,
       "font_weight": null,
       "text_color": null,
       "text_decoration": null
      }
     },
     "543aa5a00f92471cb4a960270f5118c0": {
      "model_module": "@jupyter-widgets/base",
      "model_module_version": "2.0.0",
      "model_name": "LayoutModel",
      "state": {}
     },
     "543e0a0164a2498cb4d2f02111726cd3": {
      "model_module": "@jupyter-widgets/base",
      "model_module_version": "2.0.0",
      "model_name": "LayoutModel",
      "state": {}
     },
     "54896411c0484510b6dba40eb25baab8": {
      "model_module": "@jupyter-widgets/base",
      "model_module_version": "2.0.0",
      "model_name": "LayoutModel",
      "state": {}
     },
     "54d85e99b94e4505b23bb7f3b7541324": {
      "model_module": "@jupyter-widgets/controls",
      "model_module_version": "2.0.0",
      "model_name": "ToggleButtonStyleModel",
      "state": {
       "description_width": "",
       "font_family": null,
       "font_size": null,
       "font_style": null,
       "font_variant": null,
       "font_weight": null,
       "text_color": null,
       "text_decoration": null
      }
     },
     "55157534c5654a639590038ada0bf7e4": {
      "model_module": "jupyter-leaflet",
      "model_module_version": "^0.18",
      "model_name": "LeafletWMSLayerModel",
      "state": {
       "_model_module_version": "^0.18",
       "_view_module_version": "^0.18",
       "attribution": "MRLC",
       "crs": {
        "custom": false,
        "name": "EPSG3857"
       },
       "format": "image/png",
       "layers": "NLCD_2001_Land_Cover_L48",
       "name": "NLCD 2001 CONUS Land Cover",
       "options": [
        "attribution",
        "bounds",
        "detect_retina",
        "format",
        "layers",
        "max_native_zoom",
        "max_zoom",
        "min_native_zoom",
        "min_zoom",
        "no_wrap",
        "styles",
        "tile_size",
        "tms",
        "transparent",
        "uppercase",
        "zoom_offset"
       ],
       "transparent": true,
       "url": "https://www.mrlc.gov/geoserver/mrlc_display/NLCD_2001_Land_Cover_L48/wms?"
      }
     },
     "5551379f627e47a7bfcc11313b90b837": {
      "model_module": "jupyter-leaflet",
      "model_module_version": "^0.18",
      "model_name": "LeafletMapStyleModel",
      "state": {
       "_model_module_version": "^0.18"
      }
     },
     "556de27f93a142beb69fd77a78dd882c": {
      "model_module": "ipytree",
      "model_module_version": "^0.2",
      "model_name": "NodeModel",
      "state": {
       "_id": "818b8804-5b36-459f-ae93-9d865d06e639",
       "_model_module_version": "^0.2",
       "_view_module_version": "^0.2",
       "icon": "file",
       "name": "array_transformations.py"
      }
     },
     "5594f3021d71499799e80ae9fe3620cc": {
      "model_module": "@jupyter-widgets/base",
      "model_module_version": "2.0.0",
      "model_name": "LayoutModel",
      "state": {}
     },
     "559adcbc47f14af7b83fbc0eab436045": {
      "model_module": "@jupyter-widgets/controls",
      "model_module_version": "2.0.0",
      "model_name": "ToggleButtonStyleModel",
      "state": {
       "description_width": "",
       "font_family": null,
       "font_size": null,
       "font_style": null,
       "font_variant": null,
       "font_weight": null,
       "text_color": null,
       "text_decoration": null
      }
     },
     "55a1591758c347a38af9c671799aaef5": {
      "model_module": "@jupyter-widgets/controls",
      "model_module_version": "2.0.0",
      "model_name": "ToggleButtonModel",
      "state": {
       "icon": "wrench",
       "layout": "IPY_MODEL_b6d8ce3d68c34033806f649422e51401",
       "style": "IPY_MODEL_4812a3da6b0a4ad9a858408ea9473356",
       "tooltip": "Toolbar"
      }
     },
     "55afa777f1844105a5089614149784b1": {
      "model_module": "ipytree",
      "model_module_version": "^0.2",
      "model_name": "NodeModel",
      "state": {
       "_id": "63c2efac-bdb1-45a1-8655-044408fab8b9",
       "_model_module_version": "^0.2",
       "_view_module_version": "^0.2",
       "icon": "file",
       "name": "object_based.py"
      }
     },
     "55ed119ae33c4569814e6da742de5a09": {
      "model_module": "@jupyter-widgets/base",
      "model_module_version": "2.0.0",
      "model_name": "LayoutModel",
      "state": {
       "width": "340px"
      }
     },
     "56012a22bb1a4eef87401f5dd740e4cb": {
      "model_module": "@jupyter-widgets/controls",
      "model_module_version": "2.0.0",
      "model_name": "ToggleButtonStyleModel",
      "state": {
       "description_width": "",
       "font_family": null,
       "font_size": null,
       "font_style": null,
       "font_variant": null,
       "font_weight": null,
       "text_color": null,
       "text_decoration": null
      }
     },
     "560668292903432cada27b1a13249e3f": {
      "model_module": "ipytree",
      "model_module_version": "^0.2",
      "model_name": "NodeModel",
      "state": {
       "_id": "e9e4a8b3-88f9-4a64-832b-e6fc36219c01",
       "_model_module_version": "^0.2",
       "_view_module_version": "^0.2",
       "icon": "file",
       "name": "simple_joins.py"
      }
     },
     "562d0825d03245deb946b3082fd53640": {
      "model_module": "@jupyter-widgets/base",
      "model_module_version": "2.0.0",
      "model_name": "LayoutModel",
      "state": {}
     },
     "563728348ab64d469a13f4893be1a83f": {
      "model_module": "@jupyter-widgets/controls",
      "model_module_version": "2.0.0",
      "model_name": "ToggleButtonStyleModel",
      "state": {
       "description_width": "",
       "font_family": null,
       "font_size": null,
       "font_style": null,
       "font_variant": null,
       "font_weight": null,
       "text_color": null,
       "text_decoration": null
      }
     },
     "5699f090acc8417581b6ef6f88dbb74c": {
      "model_module": "@jupyter-widgets/base",
      "model_module_version": "2.0.0",
      "model_name": "LayoutModel",
      "state": {
       "max_width": "279px",
       "min_width": "279px"
      }
     },
     "56c3fc056e9c441ea63cb9bcf1bd4761": {
      "model_module": "@jupyter-widgets/controls",
      "model_module_version": "2.0.0",
      "model_name": "TextModel",
      "state": {
       "layout": "IPY_MODEL_fffe9f62ab6c4aa3a0069d67fbb8cd98",
       "placeholder": "Search by place name or address",
       "style": "IPY_MODEL_14cdd0876de443ed9244b8a175631580",
       "tooltip": "Search location"
      }
     },
     "57002430af954e0084159953d02affac": {
      "model_module": "jupyter-leaflet",
      "model_module_version": "^0.18",
      "model_name": "LeafletDrawControlModel",
      "state": {
       "_model_module_version": "^0.18",
       "_view_module_version": "^0.18",
       "marker": {
        "shapeOptions": {
         "color": "#3388ff"
        }
       },
       "options": [
        "position"
       ],
       "rectangle": {
        "shapeOptions": {
         "color": "#3388ff"
        }
       }
      }
     },
     "570b92923336485b8acf6e777814e7c6": {
      "model_module": "@jupyter-widgets/base",
      "model_module_version": "2.0.0",
      "model_name": "LayoutModel",
      "state": {}
     },
     "570f0c24e6ac496b9422d705779a7fce": {
      "model_module": "jupyter-leaflet",
      "model_module_version": "^0.18",
      "model_name": "LeafletWidgetControlModel",
      "state": {
       "_model_module": "jupyter-leaflet",
       "_model_module_version": "^0.18",
       "_view_count": null,
       "_view_module": "jupyter-leaflet",
       "_view_module_version": "^0.18",
       "options": [
        "position",
        "transparent_bg"
       ],
       "position": "topright",
       "widget": "IPY_MODEL_9134e17d78f2497cbf2971f7f471294f"
      }
     },
     "57263bb3b08b44aaa4f1912170ea1bc8": {
      "model_module": "ipytree",
      "model_module_version": "^0.2",
      "model_name": "NodeModel",
      "state": {
       "_id": "cbe47ca7-3cac-4831-9f91-54e8ef7c7c02",
       "_model_module_version": "^0.2",
       "_view_module_version": "^0.2",
       "icon": "file",
       "name": "svm_classifier.py"
      }
     },
     "572f01d05d174ac1bcae96d56ec23c15": {
      "model_module": "ipytree",
      "model_module_version": "^0.2",
      "model_name": "NodeModel",
      "state": {
       "_id": "f4cfe6dc-24ee-4fa3-a6cb-cbd4de85adba",
       "_model_module_version": "^0.2",
       "_view_module_version": "^0.2",
       "icon": "file",
       "name": "image_stats_by_band.py"
      }
     },
     "573a6bf51c3c4ceda048cda32232e205": {
      "model_module": "@jupyter-widgets/controls",
      "model_module_version": "2.0.0",
      "model_name": "ToggleButtonModel",
      "state": {
       "button_style": "primary",
       "icon": "retweet",
       "layout": "IPY_MODEL_a7f45c379e7943718f4d9e15c8f9f041",
       "style": "IPY_MODEL_31bd126efdd7474d899e792f428a74cc",
       "tooltip": "Convert Earth Engine JavaScript to Python"
      }
     },
     "573df87f17c347948af3e0952111e6e3": {
      "model_module": "ipytree",
      "model_module_version": "^0.2",
      "model_name": "NodeModel",
      "state": {
       "_id": "2a6de9a5-3958-4401-befb-be42beef8bec",
       "_model_module_version": "^0.2",
       "_view_module_version": "^0.2",
       "icon": "file",
       "name": "us_census_counties.py"
      }
     },
     "57442a1778824b3d953b3cb3c339e807": {
      "model_module": "ipytree",
      "model_module_version": "^0.2",
      "model_name": "NodeModel",
      "state": {
       "_id": "9e396f7c-560e-4daa-b367-cd7fb1468d07",
       "_model_module_version": "^0.2",
       "_view_module_version": "^0.2",
       "icon": "file",
       "name": "stats_of_columns.py"
      }
     },
     "574c35128a5047078a6e32fdaac8fdfe": {
      "model_module": "jupyter-leaflet",
      "model_module_version": "^0.18",
      "model_name": "LeafletTileLayerModel",
      "state": {
       "_model_module_version": "^0.18",
       "_view_module_version": "^0.18",
       "attribution": "Esri",
       "max_zoom": 24,
       "name": "Esri.WorldImagery",
       "options": [
        "attribution",
        "bounds",
        "detect_retina",
        "max_native_zoom",
        "max_zoom",
        "min_native_zoom",
        "min_zoom",
        "no_wrap",
        "tile_size",
        "tms",
        "zoom_offset"
       ],
       "url": "https://server.arcgisonline.com/ArcGIS/rest/services/World_Imagery/MapServer/tile/{z}/{y}/{x}"
      }
     },
     "5757f78547da48f688a8a51f6af8c6b0": {
      "model_module": "@jupyter-widgets/controls",
      "model_module_version": "2.0.0",
      "model_name": "HBoxModel",
      "state": {
       "children": [
        "IPY_MODEL_1ddad51eea7a425aab55d2533e2fe5e9",
        "IPY_MODEL_86da033092b04920abcd9d86aa813cfd"
       ],
       "layout": "IPY_MODEL_6946f37531ea4b8592598cde23ecf5c8"
      }
     },
     "57586074e75e467c96b7bfca49b019c2": {
      "model_module": "@jupyter-widgets/controls",
      "model_module_version": "2.0.0",
      "model_name": "ToggleButtonModel",
      "state": {
       "button_style": "primary",
       "icon": "eraser",
       "layout": "IPY_MODEL_258cad47113f471aa8b480570e34a657",
       "style": "IPY_MODEL_1f55089fbe814df2b9d1d5fe704f6457",
       "tooltip": "Remove all drawn features"
      }
     },
     "57694ad1281042c6932fedc9396cd1a4": {
      "model_module": "@jupyter-widgets/base",
      "model_module_version": "2.0.0",
      "model_name": "LayoutModel",
      "state": {
       "height": "auto",
       "padding": "0px 0px 0px 4px",
       "width": "auto"
      }
     },
     "57cea5aaeafa4333a6813cb80bd42f08": {
      "model_module": "ipytree",
      "model_module_version": "^0.2",
      "model_name": "NodeModel",
      "state": {
       "_id": "4c687ed1-d2b0-4b00-bf98-2ae531d3682d",
       "_model_module_version": "^0.2",
       "_view_module_version": "^0.2",
       "icon": "file",
       "name": "filtering.py"
      }
     },
     "5805586ba4094d428d950cd62f2d3422": {
      "model_module": "ipytree",
      "model_module_version": "^0.2",
      "model_name": "NodeModel",
      "state": {
       "_id": "1412fb23-5303-4708-b627-aeb91bb848ce",
       "_model_module_version": "^0.2",
       "_view_module_version": "^0.2",
       "name": "AssetManagement",
       "nodes": [
        "IPY_MODEL_de7c89f30d1848bb8901845d5f7c6e68",
        "IPY_MODEL_622d8b07b8124941b8abe4a80d87ff43",
        "IPY_MODEL_b3bcb38c732d4a54a3b92216f5fc0ba6",
        "IPY_MODEL_48526f1faaa144c2993355fa87a680a0",
        "IPY_MODEL_38d1fb09beb64c36a90f1cf46ff89d71",
        "IPY_MODEL_f1fb1ecf846c42149e6671aaa1965610",
        "IPY_MODEL_c08631617d49439a98d310af0e68126d",
        "IPY_MODEL_96d3b18409c84a10baa4b4212bf3b2fc",
        "IPY_MODEL_0ca064d094cb46a4855f58f02446d305"
       ],
       "opened": false
      }
     },
     "580fafb8db1e4e3dabc52ae621bb3598": {
      "model_module": "@jupyter-widgets/controls",
      "model_module_version": "2.0.0",
      "model_name": "ButtonModel",
      "state": {
       "button_style": "primary",
       "description": "import",
       "disabled": true,
       "layout": "IPY_MODEL_fdcf19ab8855412e9a25489ad4af5e22",
       "style": "IPY_MODEL_e3842a749c764ac28ad0f2dc945c2df5",
       "tooltip": "import the content to a new cell"
      }
     },
     "585ce24e8bed4fe6979c16880a87b6c7": {
      "model_module": "ipytree",
      "model_module_version": "^0.2",
      "model_name": "NodeModel",
      "state": {
       "_id": "d1e6400a-3fe4-4c55-8ac9-742348ab4f62",
       "_model_module_version": "^0.2",
       "_view_module_version": "^0.2",
       "icon": "file",
       "name": "usgs_watersheds.py"
      }
     },
     "58890d9bce6a4ff8be949338a4990a2a": {
      "model_module": "@jupyter-widgets/base",
      "model_module_version": "2.0.0",
      "model_name": "LayoutModel",
      "state": {}
     },
     "589a240551d441da9620fc8f378270b6": {
      "model_module": "@jupyter-widgets/base",
      "model_module_version": "2.0.0",
      "model_name": "LayoutModel",
      "state": {
       "height": "auto",
       "padding": "0px 0px 0px 4px",
       "width": "auto"
      }
     },
     "58ac0aa971c9464fb5b2afb25e76c9a1": {
      "model_module": "@jupyter-widgets/controls",
      "model_module_version": "2.0.0",
      "model_name": "ToggleButtonStyleModel",
      "state": {
       "description_width": "",
       "font_family": null,
       "font_size": null,
       "font_style": null,
       "font_variant": null,
       "font_weight": null,
       "text_color": null,
       "text_decoration": null
      }
     },
     "58d5c03636284255ba3acd9570736c5f": {
      "model_module": "ipytree",
      "model_module_version": "^0.2",
      "model_name": "NodeModel",
      "state": {
       "_id": "e579dbb2-52ed-4dc8-905f-4cb6d4c87480",
       "_model_module_version": "^0.2",
       "_view_module_version": "^0.2",
       "icon": "file",
       "name": "metadata.py"
      }
     },
     "58fe3eae7034430cb52406ca1c8ba2f3": {
      "model_module": "@jupyter-widgets/base",
      "model_module_version": "2.0.0",
      "model_name": "LayoutModel",
      "state": {
       "max_height": "350px",
       "max_width": "340px",
       "overflow": "scroll"
      }
     },
     "5906a6ba98014383b6aacf915cfa95e4": {
      "model_module": "@jupyter-widgets/controls",
      "model_module_version": "2.0.0",
      "model_name": "ToggleButtonModel",
      "state": {
       "button_style": "primary",
       "icon": "globe",
       "layout": "IPY_MODEL_294aa0e4dff149c187842a25491c46bf",
       "style": "IPY_MODEL_9ace805950684534b67978c389f5c3b3",
       "tooltip": "Create timelapse"
      }
     },
     "59283abbafe14195a3edfa8221a7111d": {
      "model_module": "@jupyter-widgets/base",
      "model_module_version": "2.0.0",
      "model_name": "LayoutModel",
      "state": {
       "height": "auto",
       "padding": "0px 0px 0px 4px",
       "width": "auto"
      }
     },
     "592cc33ba8d6470ab6e1c7ff4cf83d18": {
      "model_module": "ipytree",
      "model_module_version": "^0.2",
      "model_name": "NodeModel",
      "state": {
       "_id": "bcf45afa-8753-4ec7-a787-50a20f8fbf75",
       "_model_module_version": "^0.2",
       "_view_module_version": "^0.2",
       "icon": "file",
       "name": "fire_australia.py"
      }
     },
     "5945087503fd4dada9acf64b0342a024": {
      "model_module": "@jupyter-widgets/base",
      "model_module_version": "2.0.0",
      "model_name": "LayoutModel",
      "state": {
       "height": "auto",
       "padding": "0px 0px 0px 4px",
       "width": "auto"
      }
     },
     "5946c062beae449b8119d04ae373ffd6": {
      "model_module": "@jupyter-widgets/base",
      "model_module_version": "2.0.0",
      "model_name": "LayoutModel",
      "state": {}
     },
     "595f86709dfd494c9f7aa6912c86a6ac": {
      "model_module": "@jupyter-widgets/controls",
      "model_module_version": "2.0.0",
      "model_name": "ToggleButtonStyleModel",
      "state": {
       "description_width": "",
       "font_family": null,
       "font_size": null,
       "font_style": null,
       "font_variant": null,
       "font_weight": null,
       "text_color": null,
       "text_decoration": null
      }
     },
     "5965efa6e1f14e828b26ecdfdf11ab3e": {
      "model_module": "ipytree",
      "model_module_version": "^0.2",
      "model_name": "NodeModel",
      "state": {
       "_id": "4457b1e8-8dff-431c-9ef5-adca07c3abbd",
       "_model_module_version": "^0.2",
       "_view_module_version": "^0.2",
       "icon": "file",
       "name": "idw_interpolation.py"
      }
     },
     "5966135cd30e4d9baa1dd5eacb0fb03b": {
      "model_module": "ipytree",
      "model_module_version": "^0.2",
      "model_name": "NodeModel",
      "state": {
       "_id": "01e7303d-bd93-4bec-a67c-0f31eb99a928",
       "_model_module_version": "^0.2",
       "_view_module_version": "^0.2",
       "icon": "file",
       "name": "metadata_aggregation.py"
      }
     },
     "5967e8bf57564beea20e06f848e53333": {
      "model_module": "jupyter-leaflet",
      "model_module_version": "^0.18",
      "model_name": "LeafletAttributionControlModel",
      "state": {
       "_model_module_version": "^0.18",
       "_view_module_version": "^0.18",
       "options": [
        "position",
        "prefix"
       ],
       "position": "bottomright",
       "prefix": "ipyleaflet"
      }
     },
     "598813555ca0464b8c068570470535a6": {
      "model_module": "@jupyter-widgets/controls",
      "model_module_version": "2.0.0",
      "model_name": "DropdownModel",
      "state": {
       "_options_labels": [
        "OpenStreetMap",
        "Esri.WorldStreetMap",
        "Esri.WorldImagery",
        "Esri.WorldTopoMap",
        "FWS NWI Wetlands",
        "FWS NWI Wetlands Raster",
        "NLCD 2021 CONUS Land Cover",
        "NLCD 2019 CONUS Land Cover",
        "NLCD 2016 CONUS Land Cover",
        "NLCD 2013 CONUS Land Cover",
        "NLCD 2011 CONUS Land Cover",
        "NLCD 2008 CONUS Land Cover",
        "NLCD 2006 CONUS Land Cover",
        "NLCD 2004 CONUS Land Cover",
        "NLCD 2001 CONUS Land Cover",
        "USGS NAIP Imagery",
        "USGS NAIP Imagery False Color",
        "USGS NAIP Imagery NDVI",
        "USGS Hydrography",
        "USGS 3DEP Elevation",
        "ESA Worldcover 2020",
        "ESA Worldcover 2020 S2 FCC",
        "ESA Worldcover 2020 S2 TCC",
        "ESA Worldcover 2021",
        "ESA Worldcover 2021 S2 FCC",
        "ESA Worldcover 2021 S2 TCC",
        "BasemapAT.basemap",
        "BasemapAT.grau",
        "BasemapAT.highdpi",
        "BasemapAT.orthofoto",
        "BasemapAT.overlay",
        "BasemapAT.surface",
        "BasemapAT.terrain",
        "CartoDB.DarkMatter",
        "CartoDB.DarkMatterNoLabels",
        "CartoDB.DarkMatterOnlyLabels",
        "CartoDB.Positron",
        "CartoDB.PositronNoLabels",
        "CartoDB.PositronOnlyLabels",
        "CartoDB.Voyager",
        "CartoDB.VoyagerLabelsUnder",
        "CartoDB.VoyagerNoLabels",
        "CartoDB.VoyagerOnlyLabels",
        "CyclOSM",
        "Esri.AntarcticBasemap",
        "Esri.AntarcticImagery",
        "Esri.ArcticImagery",
        "Esri.ArcticOceanBase",
        "Esri.ArcticOceanReference",
        "Esri.DeLorme",
        "Esri.NatGeoWorldMap",
        "Esri.OceanBasemap",
        "Esri.WorldGrayCanvas",
        "Esri.WorldPhysical",
        "Esri.WorldShadedRelief",
        "Esri.WorldTerrain",
        "FreeMapSK",
        "Gaode.Normal",
        "Gaode.Satellite",
        "HikeBike.HikeBike",
        "HikeBike.HillShading",
        "JusticeMap.americanIndian",
        "JusticeMap.asian",
        "JusticeMap.black",
        "JusticeMap.hispanic",
        "JusticeMap.income",
        "JusticeMap.multi",
        "JusticeMap.nonWhite",
        "JusticeMap.plurality",
        "JusticeMap.white",
        "MtbMap",
        "NASAGIBS.ASTER_GDEM_Greyscale_Shaded_Relief",
        "NASAGIBS.BlueMarble",
        "NASAGIBS.BlueMarble3031",
        "NASAGIBS.BlueMarble3413",
        "NASAGIBS.ModisAquaBands721CR",
        "NASAGIBS.ModisAquaTrueColorCR",
        "NASAGIBS.ModisTerraAOD",
        "NASAGIBS.ModisTerraBands367CR",
        "NASAGIBS.ModisTerraBands721CR",
        "NASAGIBS.ModisTerraChlorophyll",
        "NASAGIBS.ModisTerraLSTDay",
        "NASAGIBS.ModisTerraSnowCover",
        "NASAGIBS.ModisTerraTrueColorCR",
        "NASAGIBS.ViirsEarthAtNight2012",
        "NASAGIBS.ViirsTrueColorCR",
        "NLS",
        "OPNVKarte",
        "OneMapSG.Default",
        "OneMapSG.Grey",
        "OneMapSG.LandLot",
        "OneMapSG.Night",
        "OneMapSG.Original",
        "OpenAIP",
        "OpenFireMap",
        "OpenRailwayMap",
        "OpenSeaMap",
        "OpenSnowMap.pistes",
        "OpenStreetMap.BZH",
        "OpenStreetMap.BlackAndWhite",
        "OpenStreetMap.CH",
        "OpenStreetMap.DE",
        "OpenStreetMap.HOT",
        "OpenStreetMap.Mapnik",
        "OpenTopoMap",
        "SafeCast",
        "Stadia.AlidadeSmooth",
        "Stadia.AlidadeSmoothDark",
        "Stadia.OSMBright",
        "Stadia.Outdoors",
        "Stadia.StamenTerrain",
        "Stadia.StamenTerrainBackground",
        "Stadia.StamenTerrainLabels",
        "Stadia.StamenTerrainLines",
        "Stadia.StamenToner",
        "Stadia.StamenTonerBackground",
        "Stadia.StamenTonerLabels",
        "Stadia.StamenTonerLines",
        "Stadia.StamenTonerLite",
        "Stadia.StamenWatercolor",
        "Strava.All",
        "Strava.Ride",
        "Strava.Run",
        "Strava.Water",
        "Strava.Winter",
        "SwissFederalGeoportal.JourneyThroughTime",
        "SwissFederalGeoportal.NationalMapColor",
        "SwissFederalGeoportal.NationalMapGrey",
        "SwissFederalGeoportal.SWISSIMAGE",
        "USGS.USImagery",
        "USGS.USImageryTopo",
        "USGS.USTopo",
        "WaymarkedTrails.cycling",
        "WaymarkedTrails.hiking",
        "WaymarkedTrails.mtb",
        "WaymarkedTrails.riding",
        "WaymarkedTrails.skating",
        "WaymarkedTrails.slopes",
        "nlmaps.grijs",
        "nlmaps.luchtfoto",
        "nlmaps.pastel",
        "nlmaps.standaard",
        "nlmaps.water"
       ],
       "index": 19,
       "layout": "IPY_MODEL_5a5c7e131f9b4556b4ce65f224a54461",
       "style": "IPY_MODEL_9e8b1c982c2c487bb6e884ffb7995e91"
      }
     },
     "599b8330d9fb421bb8e53eaf41cda6e0": {
      "model_module": "@jupyter-widgets/controls",
      "model_module_version": "2.0.0",
      "model_name": "TextStyleModel",
      "state": {
       "description_width": "",
       "font_size": null,
       "text_color": null
      }
     },
     "59de6f5a728c4757882ece22060ae796": {
      "model_module": "@jupyter-widgets/controls",
      "model_module_version": "2.0.0",
      "model_name": "HBoxModel",
      "state": {
       "children": [
        "IPY_MODEL_75f83e73d34b4a84b7fd8b72b9d59342",
        "IPY_MODEL_97f7c07d0efa47d3bab7c689f299a863"
       ],
       "layout": "IPY_MODEL_357ad648c0584d35a33bd849310ee264"
      }
     },
     "59e077f2e9284705877933804e2937b7": {
      "model_module": "ipytree",
      "model_module_version": "^0.2",
      "model_name": "NodeModel",
      "state": {
       "_id": "5d8d44af-906b-4d5d-8481-4b1cc4803639",
       "_model_module_version": "^0.2",
       "_view_module_version": "^0.2",
       "icon": "file",
       "name": "image_rgb_composite.py"
      }
     },
     "5a1be8af4f5447d7a9d5e4ce4026b91c": {
      "model_module": "@jupyter-widgets/controls",
      "model_module_version": "2.0.0",
      "model_name": "ToggleButtonStyleModel",
      "state": {
       "description_width": "",
       "font_family": null,
       "font_size": null,
       "font_style": null,
       "font_variant": null,
       "font_weight": null,
       "text_color": null,
       "text_decoration": null
      }
     },
     "5a2c1713224a45e19e81bf89f438b4db": {
      "model_module": "@jupyter-widgets/controls",
      "model_module_version": "2.0.0",
      "model_name": "ToggleButtonModel",
      "state": {
       "button_style": "primary",
       "icon": "bar-chart",
       "layout": "IPY_MODEL_767109c869ba4e938f8f0c5703991dd3",
       "style": "IPY_MODEL_2ac55ae11f354ffb8790a1247134ac2c",
       "tooltip": "Plotting"
      }
     },
     "5a43edf3b8b94db0bf4b6c03a5824250": {
      "model_module": "@jupyter-widgets/controls",
      "model_module_version": "2.0.0",
      "model_name": "ToggleButtonStyleModel",
      "state": {
       "description_width": "",
       "font_family": null,
       "font_size": null,
       "font_style": null,
       "font_variant": null,
       "font_weight": null,
       "text_color": null,
       "text_decoration": null
      }
     },
     "5a5c7e131f9b4556b4ce65f224a54461": {
      "model_module": "@jupyter-widgets/base",
      "model_module_version": "2.0.0",
      "model_name": "LayoutModel",
      "state": {
       "width": "200px"
      }
     },
     "5a62411306d84439b3da2f2ab0a619f9": {
      "model_module": "ipytree",
      "model_module_version": "^0.2",
      "model_name": "NodeModel",
      "state": {
       "_id": "45288ced-8b94-4d4e-b462-92286336b9c3",
       "_model_module_version": "^0.2",
       "_view_module_version": "^0.2",
       "icon": "file",
       "name": "image_reductions.py"
      }
     },
     "5a68c7722adf4b129b99e72756404a0b": {
      "model_module": "@jupyter-widgets/base",
      "model_module_version": "2.0.0",
      "model_name": "LayoutModel",
      "state": {
       "max_width": "279px",
       "min_width": "279px"
      }
     },
     "5a6d128dc01445ba80cd49b972680a40": {
      "model_module": "@jupyter-widgets/base",
      "model_module_version": "2.0.0",
      "model_name": "LayoutModel",
      "state": {
       "max_width": "650px"
      }
     },
     "5a718ba1abdb497897dbea3f5174570d": {
      "model_module": "ipytree",
      "model_module_version": "^0.2",
      "model_name": "NodeModel",
      "state": {
       "_id": "87c0beb0-e2a3-47e8-ac90-25e002f2e490",
       "_model_module_version": "^0.2",
       "_view_module_version": "^0.2",
       "icon": "file",
       "name": "landsat_symbology.py"
      }
     },
     "5a742af3aa5b42e7b166af2eec6bc6d0": {
      "model_module": "ipytree",
      "model_module_version": "^0.2",
      "model_name": "NodeModel",
      "state": {
       "_id": "1414dba4-841b-4ae2-b43f-9074b8282a35",
       "_model_module_version": "^0.2",
       "_view_module_version": "^0.2",
       "icon": "file",
       "name": "landsat_radiance.py"
      }
     },
     "5a8284163c5f47769fbdd3f2ca424841": {
      "model_module": "@jupyter-widgets/base",
      "model_module_version": "2.0.0",
      "model_name": "LayoutModel",
      "state": {
       "height": "auto",
       "padding": "0px 0px 0px 4px",
       "width": "auto"
      }
     },
     "5aa2f40db51e43179c033274424a5155": {
      "model_module": "@jupyter-widgets/controls",
      "model_module_version": "2.0.0",
      "model_name": "ToggleButtonStyleModel",
      "state": {
       "description_width": "",
       "font_family": null,
       "font_size": null,
       "font_style": null,
       "font_variant": null,
       "font_weight": null,
       "text_color": null,
       "text_decoration": null
      }
     },
     "5abe511f6ad4480a840ec96978aa5b07": {
      "model_module": "ipytree",
      "model_module_version": "^0.2",
      "model_name": "NodeModel",
      "state": {
       "_id": "d3d11878-2bc6-4cce-9cc5-9e3580d0b69e",
       "_model_module_version": "^0.2",
       "_view_module_version": "^0.2",
       "icon": "file",
       "name": "visualizing_geometries.py"
      }
     },
     "5addf1c9571a4fa8a601bb46b9c7a7a1": {
      "model_module": "ipytree",
      "model_module_version": "^0.2",
      "model_name": "NodeModel",
      "state": {
       "_id": "bf1e36ff-6a38-4a95-9f47-35141eff7d25",
       "_model_module_version": "^0.2",
       "_view_module_version": "^0.2",
       "icon": "file",
       "name": "from_name.py"
      }
     },
     "5ae0653a3e494a77a4397ea4b6347b0e": {
      "model_module": "jupyter-leaflet",
      "model_module_version": "^0.18",
      "model_name": "LeafletTileLayerModel",
      "state": {
       "_model_module_version": "^0.18",
       "_view_module_version": "^0.18",
       "attribution": "Esri",
       "max_zoom": 24,
       "name": "Esri.WorldImagery",
       "options": [
        "attribution",
        "bounds",
        "detect_retina",
        "max_native_zoom",
        "max_zoom",
        "min_native_zoom",
        "min_zoom",
        "no_wrap",
        "tile_size",
        "tms",
        "zoom_offset"
       ],
       "url": "https://server.arcgisonline.com/ArcGIS/rest/services/World_Imagery/MapServer/tile/{z}/{y}/{x}"
      }
     },
     "5ae90950a8f94a1c9167e5fe1ebc989e": {
      "model_module": "jupyter-leaflet",
      "model_module_version": "^0.18",
      "model_name": "LeafletZoomControlModel",
      "state": {
       "_model_module_version": "^0.18",
       "_view_module_version": "^0.18",
       "options": [
        "position",
        "zoom_in_text",
        "zoom_in_title",
        "zoom_out_text",
        "zoom_out_title"
       ]
      }
     },
     "5b045e93683f468ca26c1249e31d162c": {
      "model_module": "ipytree",
      "model_module_version": "^0.2",
      "model_name": "TreeModel",
      "state": {
       "_model_module_version": "^0.2",
       "_view_module_version": "^0.2",
       "layout": "IPY_MODEL_e84b6faddcd94c38a31a5258145fa6cf",
       "multiple_selection": false,
       "nodes": [
        "IPY_MODEL_d3886fa545e547a3a404d30dacf15e9f",
        "IPY_MODEL_da4e1bae214d45f1bb6a2b0286f3bfa3",
        "IPY_MODEL_6d6196c4663e459395783f06683bb4e6",
        "IPY_MODEL_1ba9ed3c23b6458f88794887fa1ad307",
        "IPY_MODEL_307b2452490f471b85014537549db8bc"
       ]
      }
     },
     "5b1bed213e3849b2a2335f6b3cac515b": {
      "model_module": "ipytree",
      "model_module_version": "^0.2",
      "model_name": "NodeModel",
      "state": {
       "_id": "af333c61-307f-41fe-b18e-b3dabb642317",
       "_model_module_version": "^0.2",
       "_view_module_version": "^0.2",
       "icon": "file",
       "name": "us_counties.py"
      }
     },
     "5bae728019d9474ea0857176de832df5": {
      "model_module": "ipytree",
      "model_module_version": "^0.2",
      "model_name": "NodeModel",
      "state": {
       "_id": "cf60052c-ce16-44d6-805b-02615e4b0438",
       "_model_module_version": "^0.2",
       "_view_module_version": "^0.2",
       "icon": "file",
       "name": "composite_bands.py"
      }
     },
     "5bb8d691869443a7befcbd0d04eb04db": {
      "model_module": "@jupyter-widgets/base",
      "model_module_version": "2.0.0",
      "model_name": "LayoutModel",
      "state": {
       "height": "600px"
      }
     },
     "5bc6346439c44920ba50dd3e025e837c": {
      "model_module": "ipytree",
      "model_module_version": "^0.2",
      "model_name": "NodeModel",
      "state": {
       "_id": "ae31d74a-e99b-4c35-8b87-0159941a7d70",
       "_model_module_version": "^0.2",
       "_view_module_version": "^0.2",
       "icon": "file",
       "name": "07_image_statistics.py"
      }
     },
     "5bca2b5f5dda40b292ce2b84476a4f40": {
      "model_module": "@jupyter-widgets/controls",
      "model_module_version": "2.0.0",
      "model_name": "ToggleButtonStyleModel",
      "state": {
       "description_width": "",
       "font_family": null,
       "font_size": null,
       "font_style": null,
       "font_variant": null,
       "font_weight": null,
       "text_color": null,
       "text_decoration": null
      }
     },
     "5bf538da0bf64a81add0a523dc275ff7": {
      "model_module": "ipytree",
      "model_module_version": "^0.2",
      "model_name": "NodeModel",
      "state": {
       "_id": "1683be7a-f3c1-41b3-8d7f-a2ad6c71a4ba",
       "_model_module_version": "^0.2",
       "_view_module_version": "^0.2",
       "icon": "file",
       "name": "nlcd_land_cover.py"
      }
     },
     "5c17e3706343417180b316cb06ee60ea": {
      "model_module": "ipytree",
      "model_module_version": "^0.2",
      "model_name": "NodeModel",
      "state": {
       "_id": "4a5efc07-1bce-46b8-9283-7b209e545f18",
       "_model_module_version": "^0.2",
       "_view_module_version": "^0.2",
       "icon": "file",
       "name": "us_ned.py"
      }
     },
     "5c1a960521704d35abdc2b1336882619": {
      "model_module": "@jupyter-widgets/controls",
      "model_module_version": "2.0.0",
      "model_name": "ToggleButtonModel",
      "state": {
       "button_style": "primary",
       "icon": "info",
       "layout": "IPY_MODEL_589a240551d441da9620fc8f378270b6",
       "style": "IPY_MODEL_6c185e4f22d849be8d5cbfa9731438a5",
       "tooltip": "Inspector"
      }
     },
     "5c1b65ea7cb94a8bafb36eb5d609cc18": {
      "model_module": "ipytree",
      "model_module_version": "^0.2",
      "model_name": "NodeModel",
      "state": {
       "_id": "22824bd5-43a2-4134-8c5a-76334c20f9a7",
       "_model_module_version": "^0.2",
       "_view_module_version": "^0.2",
       "icon": "file",
       "name": "column_statistics.py"
      }
     },
     "5c2b47331684434db9c9dbf2848c8609": {
      "model_module": "@jupyter-widgets/controls",
      "model_module_version": "2.0.0",
      "model_name": "ToggleButtonModel",
      "state": {
       "icon": "server",
       "layout": "IPY_MODEL_d01f5a26d73f4ddb82440ec77d02fa2d",
       "style": "IPY_MODEL_2be00b0c8c1e46bea929ef9090396e6a",
       "tooltip": "Layers"
      }
     },
     "5c322ebdc970402facdfff86ac323e12": {
      "model_module": "@jupyter-widgets/base",
      "model_module_version": "2.0.0",
      "model_name": "LayoutModel",
      "state": {}
     },
     "5c38898a39954624bb230b41b3117699": {
      "model_module": "jupyter-leaflet",
      "model_module_version": "^0.18",
      "model_name": "LeafletWMSLayerModel",
      "state": {
       "_model_module_version": "^0.18",
       "_view_module_version": "^0.18",
       "attribution": "USGS",
       "crs": {
        "custom": false,
        "name": "EPSG3857"
       },
       "format": "image/png",
       "layers": "33DEPElevation:Hillshade Elevation Tinted",
       "name": "USGS 3DEP Elevation",
       "options": [
        "attribution",
        "bounds",
        "detect_retina",
        "format",
        "layers",
        "max_native_zoom",
        "max_zoom",
        "min_native_zoom",
        "min_zoom",
        "no_wrap",
        "styles",
        "tile_size",
        "tms",
        "transparent",
        "uppercase",
        "zoom_offset"
       ],
       "transparent": true,
       "url": "https://elevation.nationalmap.gov/arcgis/services/3DEPElevation/ImageServer/WMSServer?"
      }
     },
     "5c41fbaf1fed42dbafe6b44e71b31333": {
      "model_module": "@jupyter-widgets/controls",
      "model_module_version": "2.0.0",
      "model_name": "ToggleButtonModel",
      "state": {
       "icon": "globe",
       "layout": "IPY_MODEL_727dc7da2208451ba151fc7558659009",
       "style": "IPY_MODEL_14f7b1284572413c81b47c6ba4849e82",
       "tooltip": "Search location/data"
      }
     },
     "5c7b7762302447698ceeae7485b4ee86": {
      "model_module": "jupyter-leaflet",
      "model_module_version": "^0.18",
      "model_name": "LeafletMeasureControlModel",
      "state": {
       "_model_module_version": "^0.18",
       "_view_module_version": "^0.18",
       "active_color": "orange",
       "options": [
        "active_color",
        "capture_z_index",
        "completed_color",
        "popup_options",
        "position",
        "primary_area_unit",
        "primary_length_unit",
        "secondary_area_unit",
        "secondary_length_unit"
       ],
       "position": "bottomleft",
       "primary_length_unit": "kilometers",
       "secondary_area_unit": null,
       "secondary_length_unit": null
      }
     },
     "5cbd6c8cefa34c168506ee239a1befcc": {
      "model_module": "ipytree",
      "model_module_version": "^0.2",
      "model_name": "NodeModel",
      "state": {
       "_id": "08a88b59-d0d2-4b8f-9297-41081d399a73",
       "_model_module_version": "^0.2",
       "_view_module_version": "^0.2",
       "icon": "file",
       "name": "us_ned_topo_diversity.py"
      }
     },
     "5cc2a38149474f9c916b74b1cbf53a65": {
      "model_module": "ipytree",
      "model_module_version": "^0.2",
      "model_name": "NodeModel",
      "state": {
       "_id": "6750e01a-24a2-409b-811e-cdca5df304a0",
       "_model_module_version": "^0.2",
       "_view_module_version": "^0.2",
       "icon": "file",
       "name": "add_new_attribute.py"
      }
     },
     "5cf1bfef035d427686244b48362c53cd": {
      "model_module": "@jupyter-widgets/base",
      "model_module_version": "2.0.0",
      "model_name": "LayoutModel",
      "state": {}
     },
     "5d5d9d2ff09c4bf2a7f24e096fc27610": {
      "model_module": "@jupyter-widgets/base",
      "model_module_version": "2.0.0",
      "model_name": "LayoutModel",
      "state": {
       "height": "28px",
       "width": "72px"
      }
     },
     "5d7203864c354e63aff0fe5c322ecf13": {
      "model_module": "@jupyter-widgets/controls",
      "model_module_version": "2.0.0",
      "model_name": "ToggleButtonModel",
      "state": {
       "button_style": "primary",
       "icon": "gears",
       "layout": "IPY_MODEL_134885eb1a964302803880a845ec06a7",
       "style": "IPY_MODEL_7bea1c10bd7342b7b6b6eaeaf1439f1f",
       "tooltip": "WhiteboxTools for local geoprocessing"
      }
     },
     "5d7844bcb5c342558d78d8bb29a41993": {
      "model_module": "ipytree",
      "model_module_version": "^0.2",
      "model_name": "NodeModel",
      "state": {
       "_id": "26f15c50-d293-4d1f-a462-a9fdd6729f8a",
       "_model_module_version": "^0.2",
       "_view_module_version": "^0.2",
       "icon": "file",
       "name": "us_cropland.py"
      }
     },
     "5df7b1c6a3ad4e0cb82b0f49e113904b": {
      "model_module": "@jupyter-widgets/controls",
      "model_module_version": "2.0.0",
      "model_name": "ToggleButtonModel",
      "state": {
       "button_style": "primary",
       "icon": "line-chart",
       "layout": "IPY_MODEL_2c8bc6ddabee4552a39899e2fb7f1626",
       "style": "IPY_MODEL_9f1a39657b1c4fecb956cee1e9355864",
       "tooltip": "Creating and plotting transects"
      }
     },
     "5e13a632876e490cb73767666ef1925f": {
      "model_module": "@jupyter-widgets/base",
      "model_module_version": "2.0.0",
      "model_name": "LayoutModel",
      "state": {
       "height": "auto",
       "padding": "0px 0px 0px 4px",
       "width": "auto"
      }
     },
     "5e2e075c8edc4d4fa19cd28652a50a8a": {
      "model_module": "@jupyter-widgets/output",
      "model_module_version": "1.0.0",
      "model_name": "OutputModel",
      "state": {
       "layout": "IPY_MODEL_9585739a1725494e87d79abcfd20a3c9"
      }
     },
     "5e493ce179924df697131b161bed9d65": {
      "model_module": "ipytree",
      "model_module_version": "^0.2",
      "model_name": "NodeModel",
      "state": {
       "_id": "feb9d83c-c032-4ee9-8c05-97d9b6e80852",
       "_model_module_version": "^0.2",
       "_view_module_version": "^0.2",
       "icon": "file",
       "name": "us_ned_topo_diversity.py"
      }
     },
     "5e6d4dc23eda41a097cfe66f0421dfd5": {
      "model_module": "@jupyter-widgets/base",
      "model_module_version": "2.0.0",
      "model_name": "LayoutModel",
      "state": {
       "height": "600px"
      }
     },
     "5e77ba85aa624ba5a3f16805e329398f": {
      "model_module": "@jupyter-widgets/controls",
      "model_module_version": "2.0.0",
      "model_name": "ToggleButtonModel",
      "state": {
       "icon": "globe",
       "layout": "IPY_MODEL_2232355e27244b19a5f24ac585d874bf",
       "style": "IPY_MODEL_26b6a962af034bad978eafaa9b98fea7",
       "tooltip": "Search location/data"
      }
     },
     "5ee51622f8bc4261b3b43f74febea237": {
      "model_module": "ipytree",
      "model_module_version": "^0.2",
      "model_name": "NodeModel",
      "state": {
       "_id": "19229105-a692-481b-a9ba-28f2d4210d9e",
       "_model_module_version": "^0.2",
       "_view_module_version": "^0.2",
       "name": "CloudMasking",
       "nodes": [
        "IPY_MODEL_631d3194835c4e26a7886897ae38f1e9",
        "IPY_MODEL_0760b270831246619f40ce68ba76b1b0",
        "IPY_MODEL_05504095b3af45f8ab7c0dfaaffa722f",
        "IPY_MODEL_fb088a4627ae4b41b1aac946e71b8f6e",
        "IPY_MODEL_46806c7966d7402186a15320cc397729"
       ],
       "opened": false
      }
     },
     "5fb03244e1a74443b06539aa4ff75173": {
      "model_module": "@jupyter-widgets/controls",
      "model_module_version": "2.0.0",
      "model_name": "VBoxModel",
      "state": {
       "children": [
        "IPY_MODEL_b476d10b3b9e4d649ae4941ff6b3ae63",
        "IPY_MODEL_bdd7cd92760d4fe08cd187ba61dec52e"
       ],
       "layout": "IPY_MODEL_4d9bda4d893b4df9b2977c12cfad775f"
      }
     },
     "5fc5e4c3bedd4d718d59955ba3b7765c": {
      "model_module": "@jupyter-widgets/base",
      "model_module_version": "2.0.0",
      "model_name": "LayoutModel",
      "state": {
       "height": "auto",
       "padding": "0px 0px 0px 4px",
       "width": "auto"
      }
     },
     "5fca0f4ffa3e4353af951562639893df": {
      "model_module": "jupyter-leaflet",
      "model_module_version": "^0.18",
      "model_name": "LeafletTileLayerModel",
      "state": {
       "_model_module_version": "^0.18",
       "_view_module_version": "^0.18",
       "attribution": "Esri",
       "max_zoom": 24,
       "name": "Esri.WorldImagery",
       "options": [
        "attribution",
        "bounds",
        "detect_retina",
        "max_native_zoom",
        "max_zoom",
        "min_native_zoom",
        "min_zoom",
        "no_wrap",
        "tile_size",
        "tms",
        "zoom_offset"
       ],
       "url": "https://server.arcgisonline.com/ArcGIS/rest/services/World_Imagery/MapServer/tile/{z}/{y}/{x}"
      }
     },
     "5ff5340576be4dafa2c6dcc16980d5e1": {
      "model_module": "@jupyter-widgets/base",
      "model_module_version": "2.0.0",
      "model_name": "LayoutModel",
      "state": {
       "height": "auto",
       "padding": "0px 0px 0px 4px",
       "width": "auto"
      }
     },
     "6053e6d6b5c0465d854b67fda546c8a9": {
      "model_module": "ipytree",
      "model_module_version": "^0.2",
      "model_name": "NodeModel",
      "state": {
       "_id": "8039e6a8-8205-4435-b83f-9f9da233f28d",
       "_model_module_version": "^0.2",
       "_view_module_version": "^0.2",
       "icon": "file",
       "name": "inner_joins.py"
      }
     },
     "6078377628f14854bf95045184ce724f": {
      "model_module": "jupyter-leaflet",
      "model_module_version": "^0.18",
      "model_name": "LeafletScaleControlModel",
      "state": {
       "_model_module_version": "^0.18",
       "_view_module_version": "^0.18",
       "imperial": true,
       "max_width": 100,
       "metric": true,
       "options": [
        "imperial",
        "max_width",
        "metric",
        "position",
        "update_when_idle"
       ],
       "position": "bottomleft",
       "update_when_idle": false
      }
     },
     "607ad29796fe48aaa20e88b64375834c": {
      "model_module": "@jupyter-widgets/base",
      "model_module_version": "2.0.0",
      "model_name": "LayoutModel",
      "state": {}
     },
     "6080ec7346b4405f8d6cb706d5d94224": {
      "model_module": "ipytree",
      "model_module_version": "^0.2",
      "model_name": "NodeModel",
      "state": {
       "_id": "c300456b-6b29-46c4-98e5-a4201ae48223",
       "_model_module_version": "^0.2",
       "_view_module_version": "^0.2",
       "icon": "file",
       "name": "mosaicking.py"
      }
     },
     "608210df68024bea8ae0cadbfb346263": {
      "model_module": "jupyter-leaflet",
      "model_module_version": "^0.18",
      "model_name": "LeafletWidgetControlModel",
      "state": {
       "_model_module": "jupyter-leaflet",
       "_model_module_version": "^0.18",
       "_view_count": null,
       "_view_module": "jupyter-leaflet",
       "_view_module_version": "^0.18",
       "options": [
        "position",
        "transparent_bg"
       ],
       "position": "topright",
       "widget": "IPY_MODEL_51dc79032e7d46e3aa869d97a36a9395"
      }
     },
     "60dca5578a034aa28e394db02f5a9260": {
      "model_module": "ipytree",
      "model_module_version": "^0.2",
      "model_name": "NodeModel",
      "state": {
       "_id": "012d61b7-0c08-4b99-b8d7-762accea163d",
       "_model_module_version": "^0.2",
       "_view_module_version": "^0.2",
       "icon": "file",
       "name": "image_thumbnail.py"
      }
     },
     "6117cc3147dc4a249aeb81b284785d94": {
      "model_module": "@jupyter-widgets/controls",
      "model_module_version": "2.0.0",
      "model_name": "ToggleButtonModel",
      "state": {
       "button_style": "primary",
       "icon": "line-chart",
       "layout": "IPY_MODEL_b2412305532242f69895a2c806b2fc12",
       "style": "IPY_MODEL_f71e84e3907c4a26ac6eaa83d86ffc94",
       "tooltip": "Creating and plotting transects"
      }
     },
     "612b015a86144062a4a3ec9c60b950be": {
      "model_module": "ipytree",
      "model_module_version": "^0.2",
      "model_name": "NodeModel",
      "state": {
       "_id": "d8b4478c-33df-402b-87e0-4439351d5631",
       "_model_module_version": "^0.2",
       "_view_module_version": "^0.2",
       "icon": "file",
       "name": "zero_crossing.py"
      }
     },
     "613c9704c1c54bfd9cbdc51068668cc6": {
      "model_module": "@jupyter-widgets/controls",
      "model_module_version": "2.0.0",
      "model_name": "RadioButtonsModel",
      "state": {
       "index": null,
       "layout": "IPY_MODEL_3b2a25594a2847a68622a853337d01e0",
       "style": "IPY_MODEL_1bd6e98268304114a1fa9e774d5777a7"
      }
     },
     "6141dbacf55b4e268cf6bb0ad62c4a46": {
      "model_module": "ipytree",
      "model_module_version": "^0.2",
      "model_name": "NodeModel",
      "state": {
       "_id": "27bb3235-35cc-4ead-ab5a-259837e375f2",
       "_model_module_version": "^0.2",
       "_view_module_version": "^0.2",
       "icon": "file",
       "name": "ndvi_symbology.py"
      }
     },
     "61a2d47ae2d34f86899b245b8b808126": {
      "model_module": "@jupyter-widgets/base",
      "model_module_version": "2.0.0",
      "model_name": "LayoutModel",
      "state": {
       "max_width": "279px",
       "min_width": "279px"
      }
     },
     "61b9788101724d3fa6b430ac84313820": {
      "model_module": "@jupyter-widgets/controls",
      "model_module_version": "2.0.0",
      "model_name": "ToggleButtonModel",
      "state": {
       "button_style": "primary",
       "icon": "map",
       "layout": "IPY_MODEL_772b49fb00024362bfde2482caa640f8",
       "style": "IPY_MODEL_53ffa55fd08746bc9009da34bffb2ec2",
       "tooltip": "Change basemap",
       "value": true
      }
     },
     "61bfc95368224becbc7249b61036c42e": {
      "model_module": "ipytree",
      "model_module_version": "^0.2",
      "model_name": "NodeModel",
      "state": {
       "_id": "e65f3f51-d9b7-4446-b576-ee018b15f2bb",
       "_model_module_version": "^0.2",
       "_view_module_version": "^0.2",
       "icon": "file",
       "name": "DeferredExecution.py"
      }
     },
     "61c9b61a10bb48e7add1e45e38876e71": {
      "model_module": "@jupyter-widgets/controls",
      "model_module_version": "2.0.0",
      "model_name": "ToggleButtonsModel",
      "state": {
       "_options_labels": [
        "name/address",
        "lat-lon",
        "data"
       ],
       "button_style": "",
       "icons": [],
       "index": 0,
       "layout": "IPY_MODEL_ea8bd4bc874c4f1fb0f1953dbda611e3",
       "style": "IPY_MODEL_db2993a659f64382b862a2970538400f",
       "tooltips": [
        "Search by place name or address",
        "Search by lat-lon coordinates",
        "Search Earth Engine data catalog"
       ]
      }
     },
     "61e67d0083dc414b89e024dea45bc39c": {
      "model_module": "jupyter-leaflet",
      "model_module_version": "^0.18",
      "model_name": "LeafletAttributionControlModel",
      "state": {
       "_model_module_version": "^0.18",
       "_view_module_version": "^0.18",
       "options": [
        "position",
        "prefix"
       ],
       "position": "bottomright",
       "prefix": "ipyleaflet"
      }
     },
     "620082c020ca4e3daf538b1e33ae34b1": {
      "model_module": "ipytree",
      "model_module_version": "^0.2",
      "model_name": "NodeModel",
      "state": {
       "_id": "31e87e84-3a26-4e47-8a1c-58292ae4fbb1",
       "_model_module_version": "^0.2",
       "_view_module_version": "^0.2",
       "icon": "file",
       "name": "polynomial.py"
      }
     },
     "6216d069875147dc8083e5447605f66e": {
      "model_module": "@jupyter-widgets/controls",
      "model_module_version": "2.0.0",
      "model_name": "TextareaModel",
      "state": {
       "layout": "IPY_MODEL_175e2102e7764940a0d0372fea35901c",
       "style": "IPY_MODEL_a0663a99b6234c6eaa6f063e14deaf11"
      }
     },
     "6217e73f4511429c8964cb2ad32f228b": {
      "model_module": "ipytree",
      "model_module_version": "^0.2",
      "model_name": "NodeModel",
      "state": {
       "_id": "9358bf86-0273-4612-9555-e57807bb1394",
       "_model_module_version": "^0.2",
       "_view_module_version": "^0.2",
       "icon": "file",
       "name": "us_ned_chili.py"
      }
     },
     "6221667f50ab49a8a352da4db9a862e0": {
      "model_module": "@jupyter-widgets/base",
      "model_module_version": "2.0.0",
      "model_name": "LayoutModel",
      "state": {
       "height": "auto",
       "padding": "0px 0px 0px 4px",
       "width": "auto"
      }
     },
     "622a1cd6f25b4d84a2842580ef4e116a": {
      "model_module": "ipytree",
      "model_module_version": "^0.2",
      "model_name": "NodeModel",
      "state": {
       "_id": "c17c2a0b-70f6-483b-8d30-8566b9032e4b",
       "_model_module_version": "^0.2",
       "_view_module_version": "^0.2",
       "name": "Water",
       "nodes": [
        "IPY_MODEL_eb627888277e46eab7cda671514f773f",
        "IPY_MODEL_01259a63995a4b3fa93941c0e3b81b95",
        "IPY_MODEL_cbafbfe3490a4baea5772a84f3bc853a",
        "IPY_MODEL_1889ab24dec24806a3fa27c136126922",
        "IPY_MODEL_c8f2f04a774e4d22ae6b307b2da92eff",
        "IPY_MODEL_7eb44e76e6e6498dac143ac2fb8ae53c",
        "IPY_MODEL_fd8a97ccd0cf462baa53ed434af9b481"
       ],
       "opened": false
      }
     },
     "622d8b07b8124941b8abe4a80d87ff43": {
      "model_module": "ipytree",
      "model_module_version": "^0.2",
      "model_name": "NodeModel",
      "state": {
       "_id": "c35898c6-b505-4ec8-9349-e07843a259d3",
       "_model_module_version": "^0.2",
       "_view_module_version": "^0.2",
       "icon": "file",
       "name": "export_ImageCollection.py"
      }
     },
     "6230425e48f549be96dee64650317a97": {
      "model_module": "@jupyter-widgets/output",
      "model_module_version": "1.0.0",
      "model_name": "OutputModel",
      "state": {
       "layout": "IPY_MODEL_134f596ecbe647fd9fb4625475a4b55d"
      }
     },
     "626f9aeeed6249a4955e58b30edefe1c": {
      "model_module": "@jupyter-widgets/base",
      "model_module_version": "2.0.0",
      "model_name": "LayoutModel",
      "state": {
       "height": "auto",
       "padding": "0px 0px 0px 4px",
       "width": "auto"
      }
     },
     "62ae93c23908448cb016910bacadcf7d": {
      "model_module": "ipytree",
      "model_module_version": "^0.2",
      "model_name": "NodeModel",
      "state": {
       "_id": "63967663-98df-4af4-8a57-6fe4a8b701b1",
       "_model_module_version": "^0.2",
       "_view_module_version": "^0.2",
       "icon": "file",
       "name": "srtm_chili.py"
      }
     },
     "62afb4290519488b993048463f6f3db5": {
      "model_module": "@jupyter-widgets/controls",
      "model_module_version": "2.0.0",
      "model_name": "ToggleButtonStyleModel",
      "state": {
       "description_width": "",
       "font_family": null,
       "font_size": null,
       "font_style": null,
       "font_variant": null,
       "font_weight": null,
       "text_color": null,
       "text_decoration": null
      }
     },
     "62cc7a798c9442039700d5e5b66b5985": {
      "model_module": "jupyter-leaflet",
      "model_module_version": "^0.18",
      "model_name": "LeafletZoomControlModel",
      "state": {
       "_model_module_version": "^0.18",
       "_view_module_version": "^0.18",
       "options": [
        "position",
        "zoom_in_text",
        "zoom_in_title",
        "zoom_out_text",
        "zoom_out_title"
       ]
      }
     },
     "62e9141056234342aa7535a5a3bfc488": {
      "model_module": "jupyter-leaflet",
      "model_module_version": "^0.18",
      "model_name": "LeafletZoomControlModel",
      "state": {
       "_model_module_version": "^0.18",
       "_view_module_version": "^0.18",
       "options": [
        "position",
        "zoom_in_text",
        "zoom_in_title",
        "zoom_out_text",
        "zoom_out_title"
       ]
      }
     },
     "631d3194835c4e26a7886897ae38f1e9": {
      "model_module": "ipytree",
      "model_module_version": "^0.2",
      "model_name": "NodeModel",
      "state": {
       "_id": "1be5842f-e6fd-45be-afb0-200eea7b6d50",
       "_model_module_version": "^0.2",
       "_view_module_version": "^0.2",
       "icon": "file",
       "name": "landsat457_surface_reflectance.py"
      }
     },
     "633b06fcdd5645f9b305136892600fa8": {
      "model_module": "ipytree",
      "model_module_version": "^0.2",
      "model_name": "NodeModel",
      "state": {
       "_id": "311f10e1-35e5-4cbf-8b63-4876d45dade7",
       "_model_module_version": "^0.2",
       "_view_module_version": "^0.2",
       "name": "JavaScripts",
       "nodes": [
        "IPY_MODEL_b1ccc186d4094575b88ec0601050e28d",
        "IPY_MODEL_da1c36d50e714503a41fcd91ba12fd27",
        "IPY_MODEL_31bde28eee4c4622a3f8b44eef77e558"
       ],
       "opened": false
      }
     },
     "634f767cca634dcda06cf02344393c94": {
      "model_module": "ipytree",
      "model_module_version": "^0.2",
      "model_name": "NodeModel",
      "state": {
       "_id": "573fc590-127e-4cb0-9637-08b2f4600fdb",
       "_model_module_version": "^0.2",
       "_view_module_version": "^0.2",
       "icon": "file",
       "name": "distance.py"
      }
     },
     "635e85d597af4b008243b868600b80dc": {
      "model_module": "@jupyter-widgets/controls",
      "model_module_version": "2.0.0",
      "model_name": "ToggleButtonsModel",
      "state": {
       "_options_labels": [
        "name/address",
        "lat-lon",
        "data"
       ],
       "button_style": "",
       "icons": [],
       "index": 0,
       "layout": "IPY_MODEL_73f8493810b745edaa0f7c7af54b744c",
       "style": "IPY_MODEL_bdeca93edb4144d9b0e7d152e2c71899",
       "tooltips": [
        "Search by place name or address",
        "Search by lat-lon coordinates",
        "Search Earth Engine data catalog"
       ]
      }
     },
     "6373a2d0d8be4702a89d9999a5367d2f": {
      "model_module": "jupyter-leaflet",
      "model_module_version": "^0.18",
      "model_name": "LeafletMapStyleModel",
      "state": {
       "_model_module_version": "^0.18",
       "cursor": "move"
      }
     },
     "638f303cda144f3c8676d391f2b69b40": {
      "model_module": "ipytree",
      "model_module_version": "^0.2",
      "model_name": "NodeModel",
      "state": {
       "_id": "9fe798a9-1e09-4f83-83e7-f368b3fd49b5",
       "_model_module_version": "^0.2",
       "_view_module_version": "^0.2",
       "icon": "file",
       "name": "morphological_operations.py"
      }
     },
     "63c88b1d06e94e86acb22d38c21029ed": {
      "model_module": "ipytree",
      "model_module_version": "^0.2",
      "model_name": "NodeModel",
      "state": {
       "_id": "0e21834d-8de8-4379-9b01-b249e7388900",
       "_model_module_version": "^0.2",
       "_view_module_version": "^0.2",
       "icon": "file",
       "name": "naip_imagery.py"
      }
     },
     "63df458368fa44b280b25644fd60f9f0": {
      "model_module": "ipytree",
      "model_module_version": "^0.2",
      "model_name": "NodeModel",
      "state": {
       "_id": "865578c4-359f-4286-bcbe-525fbbd00810",
       "_model_module_version": "^0.2",
       "_view_module_version": "^0.2",
       "icon": "file",
       "name": "object_based.py"
      }
     },
     "64492fb5cb8c452f9203eaebe79889d3": {
      "model_module": "@jupyter-widgets/controls",
      "model_module_version": "2.0.0",
      "model_name": "HBoxModel",
      "state": {
       "_dom_classes": [
        "geemap-light"
       ],
       "_view_count": 0,
       "children": [
        "IPY_MODEL_97c93ebeea2d4b7680202e0fbd6f5ed0"
       ],
       "layout": "IPY_MODEL_e18037aff9444d9fa60cd30e509eac3f"
      }
     },
     "644e9233c9d247ae833b03acf4f85dac": {
      "model_module": "ipytree",
      "model_module_version": "^0.2",
      "model_name": "NodeModel",
      "state": {
       "_id": "e3a50da1-bb38-42c4-ae0f-be0cf8491cc2",
       "_model_module_version": "^0.2",
       "_view_module_version": "^0.2",
       "icon": "file",
       "name": "ndwi_map.py"
      }
     },
     "649069edd53c4bae826449075c1b7f74": {
      "model_module": "@jupyter-widgets/controls",
      "model_module_version": "2.0.0",
      "model_name": "TextModel",
      "state": {
       "layout": "IPY_MODEL_bcffebda743c4b498851099e4bc1c51d",
       "style": "IPY_MODEL_0053dd0c967d4c65a7ae07e4fa390f61"
      }
     },
     "64ba30d5eb0d4e67a53583b320c189ac": {
      "model_module": "jupyter-leaflet",
      "model_module_version": "^0.18",
      "model_name": "LeafletScaleControlModel",
      "state": {
       "_model_module_version": "^0.18",
       "_view_module_version": "^0.18",
       "imperial": true,
       "max_width": 100,
       "metric": true,
       "options": [
        "imperial",
        "max_width",
        "metric",
        "position",
        "update_when_idle"
       ],
       "position": "bottomleft",
       "update_when_idle": false
      }
     },
     "64e220d3868b462b85ff9b27d5cad094": {
      "model_module": "@jupyter-widgets/base",
      "model_module_version": "2.0.0",
      "model_name": "LayoutModel",
      "state": {}
     },
     "64e4020af772475493246b0351a9d54d": {
      "model_module": "@jupyter-widgets/base",
      "model_module_version": "2.0.0",
      "model_name": "LayoutModel",
      "state": {
       "height": "auto",
       "padding": "0px 0px 0px 4px",
       "width": "auto"
      }
     },
     "6504862e50714fc5be33dce1406f71fb": {
      "model_module": "@jupyter-widgets/base",
      "model_module_version": "2.0.0",
      "model_name": "LayoutModel",
      "state": {}
     },
     "6504aff55eb84a9ca1a0d28219f59d35": {
      "model_module": "ipytree",
      "model_module_version": "^0.2",
      "model_name": "NodeModel",
      "state": {
       "_id": "568f969e-0a15-4359-92f3-7640391ed74e",
       "_model_module_version": "^0.2",
       "_view_module_version": "^0.2",
       "icon": "file",
       "name": "alos_landforms.py"
      }
     },
     "650aa7692547403ea01a5d47a35d2ce6": {
      "model_module": "ipytree",
      "model_module_version": "^0.2",
      "model_name": "NodeModel",
      "state": {
       "_id": "1efade96-4018-4ced-928e-a98cb7f56b0b",
       "_model_module_version": "^0.2",
       "_view_module_version": "^0.2",
       "icon": "file",
       "name": "search_by_buffer_distance.py"
      }
     },
     "65165bc9db6a43888425f6bfdb1d977c": {
      "model_module": "jupyter-leaflet",
      "model_module_version": "^0.18",
      "model_name": "LeafletMapModel",
      "state": {
       "_model_module_version": "^0.18",
       "_view_module_version": "^0.18",
       "bottom": 812,
       "controls": [
        "IPY_MODEL_857be8137265473aa7bf9445bedfb01c",
        "IPY_MODEL_8e27fe407edd46d6b9a47900b2ad02b1",
        "IPY_MODEL_ae07ba49dadd486084d0bc373399cab8",
        "IPY_MODEL_13a23c7d00914277a30a20cb6066f86e",
        "IPY_MODEL_2dc559d407ee4274a046ac8cf04095c4",
        "IPY_MODEL_78427c648d0a44a19b16b5498fabbf70",
        "IPY_MODEL_570f0c24e6ac496b9422d705779a7fce",
        "IPY_MODEL_8d0b9f7e17524db2af71618464d663c0",
        "IPY_MODEL_e3f3d973fa794aaab25b80aa607aff86"
       ],
       "default_style": "IPY_MODEL_1502ba0c0b5f4ed8af00b799e73d95a8",
       "dragging_style": "IPY_MODEL_967baebc38e047d68d1cc14b9606c773",
       "east": 155.39062500000003,
       "fullscreen": false,
       "interpolation": "bilinear",
       "layers": [
        "IPY_MODEL_27420a96ae77409d8576e328a02ac77b",
        "IPY_MODEL_267901e826d44b43881aa2d8d89a9290"
       ],
       "layout": "IPY_MODEL_3c8974b8b53f4c04af43851bb44b9954",
       "left": 70,
       "max_zoom": 24,
       "modisdate": "2024-03-07",
       "north": 71.9653876991313,
       "options": [
        "bounce_at_zoom_limits",
        "box_zoom",
        "center",
        "close_popup_on_click",
        "double_click_zoom",
        "dragging",
        "fullscreen",
        "inertia",
        "inertia_deceleration",
        "inertia_max_speed",
        "interpolation",
        "keyboard",
        "keyboard_pan_offset",
        "keyboard_zoom_offset",
        "max_zoom",
        "min_zoom",
        "prefer_canvas",
        "scroll_wheel_zoom",
        "tap",
        "tap_tolerance",
        "touch_zoom",
        "world_copy_jump",
        "zoom",
        "zoom_animation_threshold",
        "zoom_delta",
        "zoom_snap"
       ],
       "prefer_canvas": false,
       "right": 954,
       "scroll_wheel_zoom": true,
       "south": -71.96538769913128,
       "style": "IPY_MODEL_922f49c587a9417293aecc9da714ea84",
       "top": 212,
       "west": -155.39062500000003,
       "window_url": "http://localhost:8888/lab",
       "zoom": 2
      }
     },
     "653b54ed03e640138b225469a6e9c94b": {
      "model_module": "@jupyter-widgets/controls",
      "model_module_version": "2.0.0",
      "model_name": "ToggleButtonModel",
      "state": {
       "button_style": "primary",
       "icon": "info-circle",
       "layout": "IPY_MODEL_44dd17b5d8bd4d789392aa20120dbec9",
       "style": "IPY_MODEL_1c884c1c5a7241e390c91763f335b2aa",
       "tooltip": "Get COG/STAC pixel value"
      }
     },
     "65536eeb953b4b12a0ac537439949160": {
      "model_module": "@jupyter-widgets/controls",
      "model_module_version": "2.0.0",
      "model_name": "ToggleButtonModel",
      "state": {
       "button_style": "primary",
       "icon": "info-circle",
       "layout": "IPY_MODEL_b25173d8af8e4ea2aec363ef80290d16",
       "style": "IPY_MODEL_f8bff24f6bf34dbc8d4e196502a6c037",
       "tooltip": "Get COG/STAC pixel value"
      }
     },
     "6578dad843df4482bd72e96558a184b6": {
      "model_module": "ipytree",
      "model_module_version": "^0.2",
      "model_name": "NodeModel",
      "state": {
       "_id": "ee461e75-c97f-419c-a561-488282442ac4",
       "_model_module_version": "^0.2",
       "_view_module_version": "^0.2",
       "icon": "file",
       "name": "from_polygons.py"
      }
     },
     "658047b649224851851375e2c3aa0ba7": {
      "model_module": "ipytree",
      "model_module_version": "^0.2",
      "model_name": "NodeModel",
      "state": {
       "_id": "9d19324a-ec0f-47ef-95a6-ad43a0336288",
       "_model_module_version": "^0.2",
       "_view_module_version": "^0.2",
       "icon": "file",
       "name": "landcover_cleanup.py"
      }
     },
     "65b450c05cd347fbb3e0024a694936c4": {
      "model_module": "@jupyter-widgets/controls",
      "model_module_version": "2.0.0",
      "model_name": "ToggleButtonStyleModel",
      "state": {
       "description_width": "",
       "font_family": null,
       "font_size": null,
       "font_style": null,
       "font_variant": null,
       "font_weight": null,
       "text_color": null,
       "text_decoration": null
      }
     },
     "65bec88e23a24ea89ef6458ff9889c3d": {
      "model_module": "@jupyter-widgets/controls",
      "model_module_version": "2.0.0",
      "model_name": "ToggleButtonStyleModel",
      "state": {
       "description_width": "",
       "font_family": null,
       "font_size": null,
       "font_style": null,
       "font_variant": null,
       "font_weight": null,
       "text_color": null,
       "text_decoration": null
      }
     },
     "65d3dbeb5b9c45c28243a2446b8b7bfc": {
      "model_module": "@jupyter-widgets/controls",
      "model_module_version": "2.0.0",
      "model_name": "ToggleButtonStyleModel",
      "state": {
       "description_width": "",
       "font_family": null,
       "font_size": null,
       "font_style": null,
       "font_variant": null,
       "font_weight": null,
       "text_color": null,
       "text_decoration": null
      }
     },
     "667dd7a4819a4810b981412d7b8ac7c1": {
      "model_module": "ipytree",
      "model_module_version": "^0.2",
      "model_name": "NodeModel",
      "state": {
       "_id": "da4dd89a-fe72-4c5e-bea9-fa0893765f77",
       "_model_module_version": "^0.2",
       "_view_module_version": "^0.2",
       "icon": "file",
       "name": "image_mosaicking.py"
      }
     },
     "66a923aedb5940c3af70e0776c17a4ac": {
      "model_module": "@jupyter-widgets/controls",
      "model_module_version": "2.0.0",
      "model_name": "ToggleButtonStyleModel",
      "state": {
       "description_width": "",
       "font_family": null,
       "font_size": null,
       "font_style": null,
       "font_variant": null,
       "font_weight": null,
       "text_color": null,
       "text_decoration": null
      }
     },
     "66bbdfb3c6a2485b99187bf84712baa9": {
      "model_module": "@jupyter-widgets/controls",
      "model_module_version": "2.0.0",
      "model_name": "RadioButtonsModel",
      "state": {
       "index": null,
       "layout": "IPY_MODEL_eac39daf16c44dfc89fa45a928e27716",
       "style": "IPY_MODEL_80e999a0069942519346c56fa92f11b6"
      }
     },
     "672fefbcdeba4f2aa5315626cf15c25d": {
      "model_module": "jupyter-leaflet",
      "model_module_version": "^0.18",
      "model_name": "LeafletWidgetControlModel",
      "state": {
       "_model_module": "jupyter-leaflet",
       "_model_module_version": "^0.18",
       "_view_count": null,
       "_view_module": "jupyter-leaflet",
       "_view_module_version": "^0.18",
       "options": [
        "position",
        "transparent_bg"
       ],
       "position": "topright",
       "widget": "IPY_MODEL_ef7812dda922455288eb6e664048d7e0"
      }
     },
     "673f7ac839c84ee8b34f8b3c82ce85e2": {
      "model_module": "ipytree",
      "model_module_version": "^0.2",
      "model_name": "NodeModel",
      "state": {
       "_id": "ddfb3479-a962-4cb7-8497-18ce7d069cfa",
       "_model_module_version": "^0.2",
       "_view_module_version": "^0.2",
       "icon": "file",
       "name": "filter_in_list.py"
      }
     },
     "675ada32d37b47ada48ecf9df7bad881": {
      "model_module": "ipyevents",
      "model_module_version": "2.0.2",
      "model_name": "EventModel",
      "state": {
       "_supported_key_events": [
        "keydown",
        "keyup"
       ],
       "_supported_mouse_events": [
        "click",
        "auxclick",
        "dblclick",
        "mouseenter",
        "mouseleave",
        "mousedown",
        "mouseup",
        "mousemove",
        "wheel",
        "contextmenu",
        "dragstart",
        "drag",
        "dragend",
        "dragenter",
        "dragover",
        "dragleave",
        "drop"
       ],
       "_supported_touch_events": [
        "touchstart",
        "touchend",
        "touchmove",
        "touchcancel"
       ],
       "_view_module": "@jupyter-widgets/controls",
       "source": "IPY_MODEL_9134e17d78f2497cbf2971f7f471294f",
       "throttle_or_debounce": "",
       "watched_events": [
        "mouseenter",
        "mouseleave"
       ],
       "xy_coordinate_system": ""
      }
     },
     "67a650a2425d472a952ae56a702efeb9": {
      "model_module": "ipytree",
      "model_module_version": "^0.2",
      "model_name": "NodeModel",
      "state": {
       "_id": "b82f0a13-bb20-4d40-833f-879aac0536f3",
       "_model_module_version": "^0.2",
       "_view_module_version": "^0.2",
       "icon": "file",
       "name": "reduce_region.py"
      }
     },
     "67b47ab318f64877b5f103e3a1328fd8": {
      "model_module": "@jupyter-widgets/base",
      "model_module_version": "2.0.0",
      "model_name": "LayoutModel",
      "state": {
       "height": "auto",
       "padding": "0px 0px 0px 4px",
       "width": "auto"
      }
     },
     "68a1b37c68a646438801a7f286406b56": {
      "model_module": "ipytree",
      "model_module_version": "^0.2",
      "model_name": "NodeModel",
      "state": {
       "_id": "a584fde8-416d-44b8-a1b7-59386506edba",
       "_model_module_version": "^0.2",
       "_view_module_version": "^0.2",
       "icon": "file",
       "name": "us_census_counties.py"
      }
     },
     "68b04d235f6e4e2b8efcb00e9876ff68": {
      "model_module": "@jupyter-widgets/controls",
      "model_module_version": "2.0.0",
      "model_name": "ToggleButtonStyleModel",
      "state": {
       "description_width": "",
       "font_family": null,
       "font_size": null,
       "font_style": null,
       "font_variant": null,
       "font_weight": null,
       "text_color": null,
       "text_decoration": null
      }
     },
     "68c13a3c14c64f549c4587af1bd893c1": {
      "model_module": "@jupyter-widgets/base",
      "model_module_version": "2.0.0",
      "model_name": "LayoutModel",
      "state": {
       "height": "auto",
       "padding": "0px 0px 0px 4px",
       "width": "auto"
      }
     },
     "68f88d25233e4e948b0330d9f8bb570a": {
      "model_module": "@jupyter-widgets/controls",
      "model_module_version": "2.0.0",
      "model_name": "HTMLStyleModel",
      "state": {
       "description_width": "",
       "font_size": null,
       "text_color": null
      }
     },
     "68fee134d6564b3ba1e34738c4d7d7c7": {
      "model_module": "@jupyter-widgets/base",
      "model_module_version": "2.0.0",
      "model_name": "LayoutModel",
      "state": {}
     },
     "691fde2f746b434682c4466081fbaa44": {
      "model_module": "ipytree",
      "model_module_version": "^0.2",
      "model_name": "NodeModel",
      "state": {
       "_id": "8747e039-c7c6-4284-9c42-642e57d31337",
       "_model_module_version": "^0.2",
       "_view_module_version": "^0.2",
       "icon": "file",
       "name": "landsat_median.py"
      }
     },
     "6946f37531ea4b8592598cde23ecf5c8": {
      "model_module": "@jupyter-widgets/base",
      "model_module_version": "2.0.0",
      "model_name": "LayoutModel",
      "state": {}
     },
     "695d6ee57f21461b8941ac8685b4ee9a": {
      "model_module": "@jupyter-widgets/base",
      "model_module_version": "2.0.0",
      "model_name": "LayoutModel",
      "state": {
       "max_width": "57px",
       "min_width": "57px"
      }
     },
     "69a6d0fd620a4d0385ffb3685e65bb6d": {
      "model_module": "ipytree",
      "model_module_version": "^0.2",
      "model_name": "NodeModel",
      "state": {
       "_id": "329709dd-3fb1-456d-b714-55e3804f16b6",
       "_model_module_version": "^0.2",
       "_view_module_version": "^0.2",
       "name": "Algorithms",
       "nodes": [
        "IPY_MODEL_29a4677524b44095b287839e9f22aa4b",
        "IPY_MODEL_6fe03659be804d16a0829022fafa4d50",
        "IPY_MODEL_cc9613d40f2f4dc690631b67a19e0723",
        "IPY_MODEL_ec40d501532c4194b48e940ac08a05d6",
        "IPY_MODEL_2f8ec63fb14446dfad24d7bc0f26e6a6",
        "IPY_MODEL_8fe41334143c498989d0f023eed9196e",
        "IPY_MODEL_ed8b23962c2d48e7ae860d936465931d",
        "IPY_MODEL_3b84d0a46b934ed7a2cbfba794937810",
        "IPY_MODEL_b3995e9958ec4dfd875d07c8d839d4d5",
        "IPY_MODEL_7dc6c79f969448bb809f1ac91d68684b",
        "IPY_MODEL_438a472d8b0a457abfef4bc3609fedb0",
        "IPY_MODEL_2deebb6ec62c49eb9959a518388ce0d1",
        "IPY_MODEL_f6775d28a7154aa4a269d95088427fec"
       ],
       "opened": false
      }
     },
     "69b9cb2741454e3895a04fbc1eba27aa": {
      "model_module": "@jupyter-widgets/controls",
      "model_module_version": "2.0.0",
      "model_name": "RadioButtonsModel",
      "state": {
       "index": null,
       "layout": "IPY_MODEL_9cbaba8b153a4eceb617ff356c3ca025",
       "style": "IPY_MODEL_98abce60b8c64f9385a51c28ce49c60b"
      }
     },
     "69d4bd2371d14359961db95a84a1469b": {
      "model_module": "@jupyter-widgets/base",
      "model_module_version": "2.0.0",
      "model_name": "LayoutModel",
      "state": {
       "grid_gap": "1px 1px",
       "grid_template_columns": "32px 32px 32px ",
       "grid_template_rows": "32px 32px ",
       "padding": "5px",
       "width": "109px"
      }
     },
     "6a06c99698cf4bf6b84f04ef54682fe2": {
      "model_module": "@jupyter-widgets/base",
      "model_module_version": "2.0.0",
      "model_name": "LayoutModel",
      "state": {
       "height": "auto",
       "padding": "0px 0px 0px 4px",
       "width": "auto"
      }
     },
     "6a64c3ea5c824b9caebc19d8f115df48": {
      "model_module": "ipytree",
      "model_module_version": "^0.2",
      "model_name": "NodeModel",
      "state": {
       "_id": "f75694e7-00f7-4f13-aa08-835ae8345d29",
       "_model_module_version": "^0.2",
       "_view_module_version": "^0.2",
       "icon": "file",
       "name": "median_reducer.py"
      }
     },
     "6a7f054ab77f4ac6a60b30f0ab2c953b": {
      "model_module": "@jupyter-widgets/controls",
      "model_module_version": "2.0.0",
      "model_name": "ToggleButtonModel",
      "state": {
       "icon": "globe",
       "layout": "IPY_MODEL_b8b72750e2ca42ddb11caa6341b3bf5b",
       "style": "IPY_MODEL_14cb1cbacb8242e98ab41d306aff4bcf",
       "tooltip": "Search location/data"
      }
     },
     "6ac4e46417754f7aa29b38a8db46f616": {
      "model_module": "@jupyter-widgets/controls",
      "model_module_version": "2.0.0",
      "model_name": "ToggleButtonStyleModel",
      "state": {
       "description_width": "",
       "font_family": null,
       "font_size": null,
       "font_style": null,
       "font_variant": null,
       "font_weight": null,
       "text_color": null,
       "text_decoration": null
      }
     },
     "6ae3d9273d674c72a8b22867c541115d": {
      "model_module": "ipytree",
      "model_module_version": "^0.2",
      "model_name": "NodeModel",
      "state": {
       "_id": "29b5c056-1ae5-4bfa-a52a-e85765e2c688",
       "_model_module_version": "^0.2",
       "_view_module_version": "^0.2",
       "icon": "file",
       "name": "get_image_extent.py"
      }
     },
     "6b157d0c1ccc41b9bb15c79c172e027b": {
      "model_module": "ipytree",
      "model_module_version": "^0.2",
      "model_name": "NodeModel",
      "state": {
       "_id": "ec967bd1-4eb1-4798-8970-d9c65d6b0ed6",
       "_model_module_version": "^0.2",
       "_view_module_version": "^0.2",
       "icon": "file",
       "name": "filter_neq.py"
      }
     },
     "6b4a64469fd84ea0a1238edb0417cc5b": {
      "model_module": "ipytree",
      "model_module_version": "^0.2",
      "model_name": "NodeModel",
      "state": {
       "_id": "8323bc6f-d482-4a54-9852-0fcc5d54b1a1",
       "_model_module_version": "^0.2",
       "_view_module_version": "^0.2",
       "icon": "file",
       "name": "map_center_object.py"
      }
     },
     "6b5f99963286436c8b78b59a8a212ee4": {
      "model_module": "@jupyter-widgets/base",
      "model_module_version": "2.0.0",
      "model_name": "LayoutModel",
      "state": {
       "height": "auto",
       "padding": "0px 0px 0px 4px",
       "width": "auto"
      }
     },
     "6b678ff32f7f420d8b8f987dc2d44a60": {
      "model_module": "ipyevents",
      "model_module_version": "2.0.2",
      "model_name": "EventModel",
      "state": {
       "_supported_key_events": [
        "keydown",
        "keyup"
       ],
       "_supported_mouse_events": [
        "click",
        "auxclick",
        "dblclick",
        "mouseenter",
        "mouseleave",
        "mousedown",
        "mouseup",
        "mousemove",
        "wheel",
        "contextmenu",
        "dragstart",
        "drag",
        "dragend",
        "dragenter",
        "dragover",
        "dragleave",
        "drop"
       ],
       "_supported_touch_events": [
        "touchstart",
        "touchend",
        "touchmove",
        "touchcancel"
       ],
       "_view_module": "@jupyter-widgets/controls",
       "source": "IPY_MODEL_791858fe772f4470ad984c64283202de",
       "throttle_or_debounce": "",
       "watched_events": [
        "mouseenter",
        "mouseleave"
       ],
       "xy_coordinate_system": ""
      }
     },
     "6b69fb13d3324476ad5586b23796798c": {
      "model_module": "jupyter-leaflet",
      "model_module_version": "^0.18",
      "model_name": "LeafletTileLayerModel",
      "state": {
       "_model_module_version": "^0.18",
       "_view_module_version": "^0.18",
       "attribution": "Esri",
       "max_zoom": 24,
       "name": "Esri.WorldImagery",
       "options": [
        "attribution",
        "bounds",
        "detect_retina",
        "max_native_zoom",
        "max_zoom",
        "min_native_zoom",
        "min_zoom",
        "no_wrap",
        "tile_size",
        "tms",
        "zoom_offset"
       ],
       "url": "https://server.arcgisonline.com/ArcGIS/rest/services/World_Imagery/MapServer/tile/{z}/{y}/{x}"
      }
     },
     "6b7ea916331d49ab9c5a56e23a356d02": {
      "model_module": "ipytree",
      "model_module_version": "^0.2",
      "model_name": "NodeModel",
      "state": {
       "_id": "58d50e65-865e-4689-8c42-98141d544375",
       "_model_module_version": "^0.2",
       "_view_module_version": "^0.2",
       "icon": "file",
       "name": "alos_global_dsm.py"
      }
     },
     "6baa530804c6498c8c8905a02219e600": {
      "model_module": "ipytree",
      "model_module_version": "^0.2",
      "model_name": "NodeModel",
      "state": {
       "_id": "3fe664fb-bbfa-4313-a0e6-4fb04ff8e625",
       "_model_module_version": "^0.2",
       "_view_module_version": "^0.2",
       "icon": "file",
       "name": "array_transformations.py"
      }
     },
     "6bc0d522cc8c48089b4b186213c01d8d": {
      "model_module": "@jupyter-widgets/controls",
      "model_module_version": "2.0.0",
      "model_name": "GridBoxModel",
      "state": {
       "children": [
        "IPY_MODEL_f7cf14a09a7a4727a056bd16cd866266",
        "IPY_MODEL_f945f41b548d41c58f2ae9bad4787102",
        "IPY_MODEL_11b911daa41c412da489875e12bc6d90",
        "IPY_MODEL_cc3fa8de8de44ab7b6e3359f4f2beaa2",
        "IPY_MODEL_c758ba07fd264265b2edecd50a7c1fee",
        "IPY_MODEL_2740006fb09c4ae691da35baa953fb7a"
       ],
       "layout": "IPY_MODEL_f4a3a2df48fe42848a7d3c2f4ac95f52"
      }
     },
     "6bdf59a722804b3cbb8eea7964cff5e3": {
      "model_module": "ipytree",
      "model_module_version": "^0.2",
      "model_name": "NodeModel",
      "state": {
       "_id": "2a9e0197-9c43-4996-acab-76b075462dc2",
       "_model_module_version": "^0.2",
       "_view_module_version": "^0.2",
       "icon": "file",
       "name": "global_land_ice_measurements.py"
      }
     },
     "6be6738efb4940c985792ee2b3b37a54": {
      "model_module": "@jupyter-widgets/controls",
      "model_module_version": "2.0.0",
      "model_name": "ToggleButtonModel",
      "state": {
       "button_style": "primary",
       "icon": "folder-open",
       "layout": "IPY_MODEL_3b74709a7c294118bb57ae1790726d2d",
       "style": "IPY_MODEL_a5b1479fee084ef389e43845e4d4f080",
       "tooltip": "Open local vector/raster data"
      }
     },
     "6bec238663ed4d95a9c44f7cae5ac3c4": {
      "model_module": "@jupyter-widgets/controls",
      "model_module_version": "2.0.0",
      "model_name": "GridBoxModel",
      "state": {
       "children": [
        "IPY_MODEL_3ce276be9c72496994d55dae632ed870",
        "IPY_MODEL_2e7111e49e4940deb9e007ad4c624d6f",
        "IPY_MODEL_203ce4c92cd24f94a77e01428075f326",
        "IPY_MODEL_61b9788101724d3fa6b430ac84313820",
        "IPY_MODEL_33985ae559194bae9554e241ce3dab01",
        "IPY_MODEL_503a7cd8b2ad4c30876ef70f9521f653",
        "IPY_MODEL_7ec770cd031248ebbcfef715aecfd0e6",
        "IPY_MODEL_ae2f4872010c43ffb25c6fbc59505ac1",
        "IPY_MODEL_fef152afa95a4c9ea2b0b51acf6469f7",
        "IPY_MODEL_ba1f4d7151a9408a8041aa30e58bf4c5",
        "IPY_MODEL_38bd1118f5564b1d88d5b8288d191240",
        "IPY_MODEL_7744d429d55e41ac9632df334b07d241",
        "IPY_MODEL_ed14a1998bd04a2581a04d940aa8d5df",
        "IPY_MODEL_0b746c5077034718b29184ddfa85b296",
        "IPY_MODEL_a52c473c11be49e9b61455095a2f3433",
        "IPY_MODEL_75a03f5d6493407d9698bad049e19480",
        "IPY_MODEL_abecec8a5a0445fc9cf59b444e9e3aa0"
       ],
       "layout": "IPY_MODEL_8d6b4b40108d474eab73529d12ec3de9"
      }
     },
     "6c185e4f22d849be8d5cbfa9731438a5": {
      "model_module": "@jupyter-widgets/controls",
      "model_module_version": "2.0.0",
      "model_name": "ToggleButtonStyleModel",
      "state": {
       "description_width": "",
       "font_family": null,
       "font_size": null,
       "font_style": null,
       "font_variant": null,
       "font_weight": null,
       "text_color": null,
       "text_decoration": null
      }
     },
     "6c3b19e0de0a435f92dd1048362692be": {
      "model_module": "ipytree",
      "model_module_version": "^0.2",
      "model_name": "NodeModel",
      "state": {
       "_id": "98ec0b5b-7117-4310-93f4-d2558d1965f8",
       "_model_module_version": "^0.2",
       "_view_module_version": "^0.2",
       "icon": "file",
       "name": "rename_bands.py"
      }
     },
     "6cb23059e86a485d805f9d3f24d9243d": {
      "model_module": "ipytree",
      "model_module_version": "^0.2",
      "model_name": "NodeModel",
      "state": {
       "_id": "9f030348-ea62-4169-8ab7-2366b170ca6a",
       "_model_module_version": "^0.2",
       "_view_module_version": "^0.2",
       "icon": "file",
       "name": "find_image_by_path_row.py"
      }
     },
     "6cc1a5a5bd194b1aa64a714dfa15650e": {
      "model_module": "ipytree",
      "model_module_version": "^0.2",
      "model_name": "NodeModel",
      "state": {
       "_id": "be5aa96c-b088-4cdf-9f4f-1cd621029db3",
       "_model_module_version": "^0.2",
       "_view_module_version": "^0.2",
       "icon": "file",
       "name": "array_images.py"
      }
     },
     "6cd0da484c7c43328adf1bf3a02a104e": {
      "model_module": "ipyevents",
      "model_module_version": "2.0.2",
      "model_name": "EventModel",
      "state": {
       "_supported_key_events": [
        "keydown",
        "keyup"
       ],
       "_supported_mouse_events": [
        "click",
        "auxclick",
        "dblclick",
        "mouseenter",
        "mouseleave",
        "mousedown",
        "mouseup",
        "mousemove",
        "wheel",
        "contextmenu",
        "dragstart",
        "drag",
        "dragend",
        "dragenter",
        "dragover",
        "dragleave",
        "drop"
       ],
       "_supported_touch_events": [
        "touchstart",
        "touchend",
        "touchmove",
        "touchcancel"
       ],
       "_view_module": "@jupyter-widgets/controls",
       "source": "IPY_MODEL_ef7812dda922455288eb6e664048d7e0",
       "throttle_or_debounce": "",
       "watched_events": [
        "mouseenter",
        "mouseleave"
       ],
       "xy_coordinate_system": ""
      }
     },
     "6ce97b3fdc3c4cdfbf65970db036418c": {
      "model_module": "@jupyter-widgets/controls",
      "model_module_version": "2.0.0",
      "model_name": "ToggleButtonStyleModel",
      "state": {
       "description_width": "",
       "font_family": null,
       "font_size": null,
       "font_style": null,
       "font_variant": null,
       "font_weight": null,
       "text_color": null,
       "text_decoration": null
      }
     },
     "6cf274944f8a4b4ca5581ba92282cb51": {
      "model_module": "@jupyter-widgets/base",
      "model_module_version": "2.0.0",
      "model_name": "LayoutModel",
      "state": {}
     },
     "6d0d745a999041ccaec0a0efaae963d0": {
      "model_module": "jupyter-leaflet",
      "model_module_version": "^0.18",
      "model_name": "LeafletAttributionControlModel",
      "state": {
       "_model_module_version": "^0.18",
       "_view_module_version": "^0.18",
       "options": [
        "position",
        "prefix"
       ],
       "position": "bottomright",
       "prefix": "ipyleaflet"
      }
     },
     "6d25fce488254b3d84b368a8ee23cb57": {
      "model_module": "@jupyter-widgets/controls",
      "model_module_version": "2.0.0",
      "model_name": "ToggleButtonModel",
      "state": {
       "button_style": "primary",
       "icon": "line-chart",
       "layout": "IPY_MODEL_8f914f7f5463408994bb2d3112dd5bca",
       "style": "IPY_MODEL_8899cb1094794f2880f7558d0883ca3e",
       "tooltip": "Creating and plotting transects"
      }
     },
     "6d6196c4663e459395783f06683bb4e6": {
      "model_module": "ipytree",
      "model_module_version": "^0.2",
      "model_name": "NodeModel",
      "state": {
       "_id": "6ce61186-b592-45cf-820a-6a006f63327b",
       "_model_module_version": "^0.2",
       "_view_module_version": "^0.2",
       "name": "Owner",
       "opened": false
      }
     },
     "6d84ba559be34bbc8c5471903ab326b8": {
      "model_module": "@jupyter-widgets/controls",
      "model_module_version": "2.0.0",
      "model_name": "ToggleButtonStyleModel",
      "state": {
       "description_width": "",
       "font_family": null,
       "font_size": null,
       "font_style": null,
       "font_variant": null,
       "font_weight": null,
       "text_color": null,
       "text_decoration": null
      }
     },
     "6d876bce126b431aa87f3b1739f8d425": {
      "model_module": "ipytree",
      "model_module_version": "^0.2",
      "model_name": "NodeModel",
      "state": {
       "_id": "3d0cef60-82fe-49d0-83c4-27253bb41a1f",
       "_model_module_version": "^0.2",
       "_view_module_version": "^0.2",
       "icon": "file",
       "name": "terrain_visualization.py"
      }
     },
     "6da4f8a6ad104236872369e533bfa504": {
      "model_module": "ipytree",
      "model_module_version": "^0.2",
      "model_name": "NodeModel",
      "state": {
       "_id": "37f36ef8-c342-45e2-8467-db4dc35b24eb",
       "_model_module_version": "^0.2",
       "_view_module_version": "^0.2",
       "icon": "file",
       "name": "filtered_composite.py"
      }
     },
     "6de346a6d98749fc859a92cd10802e88": {
      "model_module": "@jupyter-widgets/base",
      "model_module_version": "2.0.0",
      "model_name": "LayoutModel",
      "state": {}
     },
     "6e0b14767c0143d3af59e6d12e178cef": {
      "model_module": "ipytree",
      "model_module_version": "^0.2",
      "model_name": "NodeModel",
      "state": {
       "_id": "e7cdb46b-2483-4947-a786-b01a43c5f240",
       "_model_module_version": "^0.2",
       "_view_module_version": "^0.2",
       "icon": "file",
       "name": "min_max_reducer.py"
      }
     },
     "6e372cf09c264edca062bb74300a8172": {
      "model_module": "@jupyter-widgets/controls",
      "model_module_version": "2.0.0",
      "model_name": "ToggleButtonStyleModel",
      "state": {
       "description_width": "",
       "font_family": null,
       "font_size": null,
       "font_style": null,
       "font_variant": null,
       "font_weight": null,
       "text_color": null,
       "text_decoration": null
      }
     },
     "6e74568b3c71472c981e9fcd90eadc15": {
      "model_module": "ipytree",
      "model_module_version": "^0.2",
      "model_name": "NodeModel",
      "state": {
       "_id": "a3ee130b-8541-404a-a9de-e60d97da258b",
       "_model_module_version": "^0.2",
       "_view_module_version": "^0.2",
       "name": "Keiko",
       "nodes": [
        "IPY_MODEL_592cc33ba8d6470ab6e1c7ff4cf83d18",
        "IPY_MODEL_977c86f5e3b04ef7a13b790760a8b296",
        "IPY_MODEL_89b34d1f5b464147a43417d544aec7d9"
       ],
       "opened": false
      }
     },
     "6e928e0e1eea4f9fb8c74d986389081a": {
      "model_module": "@jupyter-widgets/base",
      "model_module_version": "2.0.0",
      "model_name": "LayoutModel",
      "state": {}
     },
     "6eaf202a43d945068174eb2f83381d18": {
      "model_module": "ipytree",
      "model_module_version": "^0.2",
      "model_name": "NodeModel",
      "state": {
       "_id": "f7e67189-2c93-4225-a416-a6a3b9254b46",
       "_model_module_version": "^0.2",
       "_view_module_version": "^0.2",
       "icon": "file",
       "name": "canny_edge_detector.py"
      }
     },
     "6ec71e4785884a84bf6ed90b229d87e6": {
      "model_module": "@jupyter-widgets/controls",
      "model_module_version": "2.0.0",
      "model_name": "ToggleButtonStyleModel",
      "state": {
       "description_width": "",
       "font_family": null,
       "font_size": null,
       "font_style": null,
       "font_variant": null,
       "font_weight": null,
       "text_color": null,
       "text_decoration": null
      }
     },
     "6ee9c5b6e1074133b86d8cdfccfeaef5": {
      "model_module": "ipytree",
      "model_module_version": "^0.2",
      "model_name": "NodeModel",
      "state": {
       "_id": "f7a2bcb1-8073-4238-8f80-d05246239cbe",
       "_model_module_version": "^0.2",
       "_view_module_version": "^0.2",
       "icon": "file",
       "name": "ndvi_symbology.py"
      }
     },
     "6ee9d519b83742419bf2da7dfbadf2d6": {
      "model_module": "@jupyter-widgets/controls",
      "model_module_version": "2.0.0",
      "model_name": "ButtonModel",
      "state": {
       "button_style": "primary",
       "icon": "times",
       "layout": "IPY_MODEL_0811a80c11a146ee8f9203b9d111de06",
       "style": "IPY_MODEL_9d7e639314e84bd79682dee261d31c22",
       "tooltip": "Close the basemap widget"
      }
     },
     "6ef76002e82f4c89b28ee085ced400ae": {
      "model_module": "ipytree",
      "model_module_version": "^0.2",
      "model_name": "NodeModel",
      "state": {
       "_id": "2b11efdf-efeb-45d8-93ce-6b51e0b815aa",
       "_model_module_version": "^0.2",
       "_view_module_version": "^0.2",
       "icon": "file",
       "name": "us_census_tracts.py"
      }
     },
     "6f28f0a7805f482eb85ae341be5db857": {
      "model_module": "ipytree",
      "model_module_version": "^0.2",
      "model_name": "NodeModel",
      "state": {
       "_id": "2a53f970-f10b-4846-9ca1-2957f7caa066",
       "_model_module_version": "^0.2",
       "_view_module_version": "^0.2",
       "icon": "file",
       "name": "srtm_mtpi.py"
      }
     },
     "6f3f52cfc2d2487ea466544b7379ea4b": {
      "model_module": "@jupyter-widgets/controls",
      "model_module_version": "2.0.0",
      "model_name": "ToggleButtonModel",
      "state": {
       "button_style": "primary",
       "icon": "bar-chart",
       "layout": "IPY_MODEL_82ca122382254783a6cdd8bb62c6f3cf",
       "style": "IPY_MODEL_66a923aedb5940c3af70e0776c17a4ac",
       "tooltip": "Plotting"
      }
     },
     "6f601fc5066244e9946bdfe68336cbf8": {
      "model_module": "@jupyter-widgets/output",
      "model_module_version": "1.0.0",
      "model_name": "OutputModel",
      "state": {
       "layout": "IPY_MODEL_21115e9178d24f308a118e9a498059b8"
      }
     },
     "6f61fc5f158e4a2cbdf94bbc206b22e8": {
      "model_module": "ipytree",
      "model_module_version": "^0.2",
      "model_name": "NodeModel",
      "state": {
       "_id": "df7745d9-2bb4-4b93-adea-49aa72c8079e",
       "_model_module_version": "^0.2",
       "_view_module_version": "^0.2",
       "icon": "file",
       "name": "ndwi_symbology.py"
      }
     },
     "6f65f2698aca4d2993dd90719a998777": {
      "model_module": "@jupyter-widgets/controls",
      "model_module_version": "2.0.0",
      "model_name": "ToggleButtonModel",
      "state": {
       "button_style": "primary",
       "icon": "bar-chart",
       "layout": "IPY_MODEL_9d3ad950249749aaadf0cf1dc51951d6",
       "style": "IPY_MODEL_b4f0630cc66c4c25b70ff52c4645e9eb",
       "tooltip": "Plotting"
      }
     },
     "6f871ac9fc5b4d8a99ab9f7826a2e002": {
      "model_module": "@jupyter-widgets/controls",
      "model_module_version": "2.0.0",
      "model_name": "DescriptionStyleModel",
      "state": {
       "description_width": ""
      }
     },
     "6fab24f86e104ef2a9997424d9ff7ea5": {
      "model_module": "@jupyter-widgets/base",
      "model_module_version": "2.0.0",
      "model_name": "LayoutModel",
      "state": {}
     },
     "6fbe5fcac0b5461d89d20b2bb3fa2930": {
      "model_module": "ipytree",
      "model_module_version": "^0.2",
      "model_name": "NodeModel",
      "state": {
       "_id": "53f35159-4aea-4ba9-b99f-4089cf19b272",
       "_model_module_version": "^0.2",
       "_view_module_version": "^0.2",
       "icon": "file",
       "name": "filtering.py"
      }
     },
     "6fe03659be804d16a0829022fafa4d50": {
      "model_module": "ipytree",
      "model_module_version": "^0.2",
      "model_name": "NodeModel",
      "state": {
       "_id": "baaaf84a-5233-41e6-b445-db59f87c530b",
       "_model_module_version": "^0.2",
       "_view_module_version": "^0.2",
       "icon": "file",
       "name": "landsat_cloud_score.py"
      }
     },
     "7035dc6fca8e42b384f226e4b287ed2b": {
      "model_module": "ipytree",
      "model_module_version": "^0.2",
      "model_name": "NodeModel",
      "state": {
       "_id": "1cefe75e-96fa-4dd1-be21-2eb7b83918c9",
       "_model_module_version": "^0.2",
       "_view_module_version": "^0.2",
       "icon": "file",
       "name": "1_water_occurrence.py"
      }
     },
     "7043be29fd18461aa1414bd7ee268a89": {
      "model_module": "ipytree",
      "model_module_version": "^0.2",
      "model_name": "NodeModel",
      "state": {
       "_id": "63c00b8d-cc72-45f3-a62b-21a1ce939835",
       "_model_module_version": "^0.2",
       "_view_module_version": "^0.2",
       "icon": "file",
       "name": "min_max_reducer.py"
      }
     },
     "70621eb90e764c4c8badb3aadeae908b": {
      "model_module": "ipytree",
      "model_module_version": "^0.2",
      "model_name": "NodeModel",
      "state": {
       "_id": "4e6f8dc2-efb1-4d64-8e91-d819df4366d7",
       "_model_module_version": "^0.2",
       "_view_module_version": "^0.2",
       "icon": "file",
       "name": "linear_regression.py"
      }
     },
     "70aa5bce60df4463b4b1c33aa9da6171": {
      "model_module": "@jupyter-widgets/base",
      "model_module_version": "2.0.0",
      "model_name": "LayoutModel",
      "state": {}
     },
     "7119d3e8017647318809dc3ed0bb8293": {
      "model_module": "@jupyter-widgets/base",
      "model_module_version": "2.0.0",
      "model_name": "LayoutModel",
      "state": {
       "width": "310px"
      }
     },
     "713cb66364c84e449f1e43316751ecd6": {
      "model_module": "@jupyter-widgets/base",
      "model_module_version": "2.0.0",
      "model_name": "LayoutModel",
      "state": {
       "width": "310px"
      }
     },
     "714ddcd23ece46d79e7a8ffcf7347cf0": {
      "model_module": "@jupyter-widgets/controls",
      "model_module_version": "2.0.0",
      "model_name": "ToggleButtonStyleModel",
      "state": {
       "description_width": "",
       "font_family": null,
       "font_size": null,
       "font_style": null,
       "font_variant": null,
       "font_weight": null,
       "text_color": null,
       "text_decoration": null
      }
     },
     "71b439dd52d847edb7dddde5efa696fa": {
      "model_module": "ipytree",
      "model_module_version": "^0.2",
      "model_name": "NodeModel",
      "state": {
       "_id": "853263f5-792f-4277-908a-11c8e8b3553a",
       "_model_module_version": "^0.2",
       "_view_module_version": "^0.2",
       "icon": "file",
       "name": "spectral_unmixing.py"
      }
     },
     "71c453eb195341648e9e5515b531554e": {
      "model_module": "@jupyter-widgets/controls",
      "model_module_version": "2.0.0",
      "model_name": "ToggleButtonModel",
      "state": {
       "button_style": "primary",
       "icon": "retweet",
       "layout": "IPY_MODEL_b59d4fd1d688449ca50dafd09800713b",
       "style": "IPY_MODEL_50b7bee49c174d7ea595d77ec60b256a",
       "tooltip": "Convert Earth Engine JavaScript to Python"
      }
     },
     "71e27c9177584cd78e14241a7ee64065": {
      "model_module": "@jupyter-widgets/controls",
      "model_module_version": "2.0.0",
      "model_name": "TextStyleModel",
      "state": {
       "description_width": "",
       "font_size": null,
       "text_color": null
      }
     },
     "720c922c8cc04636af206dea0635538e": {
      "model_module": "@jupyter-widgets/controls",
      "model_module_version": "2.0.0",
      "model_name": "TextStyleModel",
      "state": {
       "description_width": "",
       "font_size": null,
       "text_color": null
      }
     },
     "725026f070af4b8c9680c0594dc774eb": {
      "model_module": "@jupyter-widgets/controls",
      "model_module_version": "2.0.0",
      "model_name": "ToggleButtonModel",
      "state": {
       "button_style": "primary",
       "icon": "plus",
       "layout": "IPY_MODEL_a5730d4e085f42daa9b583d8e868cf89",
       "style": "IPY_MODEL_af2961424de3496fa07d9cf49de5feab",
       "tooltip": "Expand toolbar"
      }
     },
     "72515f9b437b42a2bda305d73bde0103": {
      "model_module": "ipytree",
      "model_module_version": "^0.2",
      "model_name": "NodeModel",
      "state": {
       "_id": "47a1473b-cb38-401f-b645-b4f972495eb5",
       "_model_module_version": "^0.2",
       "_view_module_version": "^0.2",
       "icon": "file",
       "name": "center_pivot_irrigation_detector.py"
      }
     },
     "727dc7da2208451ba151fc7558659009": {
      "model_module": "@jupyter-widgets/base",
      "model_module_version": "2.0.0",
      "model_name": "LayoutModel",
      "state": {
       "height": "28px",
       "padding": "0px 0px 0px 4px",
       "width": "28px"
      }
     },
     "72936485a1754d31b5179ba77e6bc319": {
      "model_module": "@jupyter-widgets/controls",
      "model_module_version": "2.0.0",
      "model_name": "ToggleButtonsModel",
      "state": {
       "_options_labels": [
        "Scripts",
        "Docs",
        "Assets"
       ],
       "button_style": "primary",
       "icons": [],
       "index": 1,
       "layout": "IPY_MODEL_06270aea17324cdba3ca0b069479b057",
       "style": "IPY_MODEL_f838307412634466aef256c0e63c7e04",
       "tooltips": [
        "Search Earth Engine Scripts",
        "Search Earth Engine API",
        "Search Earth Engine Assets"
       ]
      }
     },
     "729d62fc814e405483bbf4df6c6cccea": {
      "model_module": "ipytree",
      "model_module_version": "^0.2",
      "model_name": "NodeModel",
      "state": {
       "_id": "e7639b15-8b7f-44f9-b107-05b0e31d2b5a",
       "_model_module_version": "^0.2",
       "_view_module_version": "^0.2",
       "icon": "file",
       "name": "creating_feature.py"
      }
     },
     "72e0cba39ac8413ca76a267c06424f98": {
      "model_module": "@jupyter-widgets/base",
      "model_module_version": "2.0.0",
      "model_name": "LayoutModel",
      "state": {
       "height": "auto",
       "padding": "0px 0px 0px 4px",
       "width": "auto"
      }
     },
     "731c148a2c0b4997a4dc69315f50424b": {
      "model_module": "@jupyter-widgets/controls",
      "model_module_version": "2.0.0",
      "model_name": "ToggleButtonStyleModel",
      "state": {
       "description_width": "",
       "font_family": null,
       "font_size": null,
       "font_style": null,
       "font_variant": null,
       "font_weight": null,
       "text_color": null,
       "text_decoration": null
      }
     },
     "7329482a7a304ae990e02065d9209ce5": {
      "model_module": "ipytree",
      "model_module_version": "^0.2",
      "model_name": "NodeModel",
      "state": {
       "_id": "f961bf84-472d-432d-8066-418c993a7919",
       "_model_module_version": "^0.2",
       "_view_module_version": "^0.2",
       "name": "contrib",
       "nodes": [
        "IPY_MODEL_fd58d1fe78b54bc2be28185889807637",
        "IPY_MODEL_467580024e214db3bd251b3ba661107b"
       ],
       "opened": false
      }
     },
     "733e4047ca89491c8542b2834e4bc9a3": {
      "model_module": "ipytree",
      "model_module_version": "^0.2",
      "model_name": "NodeModel",
      "state": {
       "_id": "b6a1b168-d760-4d93-b351-3ea513bb9693",
       "_model_module_version": "^0.2",
       "_view_module_version": "^0.2",
       "name": "Datasets",
       "nodes": [
        "IPY_MODEL_4db55dff2d8949c79994987d5da5808e",
        "IPY_MODEL_1126f9e0d6f345f5a97c7243779bc6a3",
        "IPY_MODEL_5d7844bcb5c342558d78d8bb29a41993",
        "IPY_MODEL_f1f6112ca366499594a37d17313e9f5d",
        "IPY_MODEL_f44d8457df1647b8954beca21b232b9f",
        "IPY_MODEL_e5ad61d5166f41d5952530fe6da4b022",
        "IPY_MODEL_4c6b9d53c11b454285d4184e024f6e06",
        "IPY_MODEL_7ee5bd0813cb4591b1dccebac0781dd0"
       ],
       "opened": false
      }
     },
     "734e6ab86a634d1ca7b351d1c4694a3e": {
      "model_module": "@jupyter-widgets/controls",
      "model_module_version": "2.0.0",
      "model_name": "ButtonModel",
      "state": {
       "button_style": "primary",
       "description": "import",
       "layout": "IPY_MODEL_331f1e5df8484d0f8289e6d1f6a66db7",
       "style": "IPY_MODEL_cb534a9e481d45a8bfa8ba386849a2ed",
       "tooltip": "Click to import the selected asset"
      }
     },
     "735e8896ffcb4442a78ff33a8a9ef530": {
      "model_module": "@jupyter-widgets/controls",
      "model_module_version": "2.0.0",
      "model_name": "ToggleButtonStyleModel",
      "state": {
       "description_width": "",
       "font_family": null,
       "font_size": null,
       "font_style": null,
       "font_variant": null,
       "font_weight": null,
       "text_color": null,
       "text_decoration": null
      }
     },
     "73cbf51bac7b4fb6abb76fd72524da3f": {
      "model_module": "@jupyter-widgets/controls",
      "model_module_version": "2.0.0",
      "model_name": "TextStyleModel",
      "state": {
       "description_width": "",
       "font_size": null,
       "text_color": null
      }
     },
     "73f5c77082df42c39e70c2cdfe7ab715": {
      "model_module": "ipytree",
      "model_module_version": "^0.2",
      "model_name": "NodeModel",
      "state": {
       "_id": "c4303cd6-b89a-4aec-af0b-d9214e9f16b1",
       "_model_module_version": "^0.2",
       "_view_module_version": "^0.2",
       "icon": "file",
       "name": "creating_monthly_imagery.py"
      }
     },
     "73f8493810b745edaa0f7c7af54b744c": {
      "model_module": "@jupyter-widgets/base",
      "model_module_version": "2.0.0",
      "model_name": "LayoutModel",
      "state": {}
     },
     "740e12b6c1ec4992bdc0f9ea223882ee": {
      "model_module": "ipytree",
      "model_module_version": "^0.2",
      "model_name": "NodeModel",
      "state": {
       "_id": "d66a38c4-61a4-4a8b-9c02-085410151b65",
       "_model_module_version": "^0.2",
       "_view_module_version": "^0.2",
       "icon": "file",
       "name": "us_census_states.py"
      }
     },
     "741f70aff0a6433aa9657ff0287c5a15": {
      "model_module": "jupyter-leaflet",
      "model_module_version": "^0.18",
      "model_name": "LeafletWidgetControlModel",
      "state": {
       "_model_module": "jupyter-leaflet",
       "_model_module_version": "^0.18",
       "_view_count": null,
       "_view_module": "jupyter-leaflet",
       "_view_module_version": "^0.18",
       "options": [
        "position",
        "transparent_bg"
       ],
       "position": "topright",
       "widget": "IPY_MODEL_eb0c900c9e5247ffa1074cd0c9b5ed12"
      }
     },
     "745f29ed87e1457fa6263a9babfd9ff9": {
      "model_module": "@jupyter-widgets/base",
      "model_module_version": "2.0.0",
      "model_name": "LayoutModel",
      "state": {
       "height": "auto",
       "padding": "0px 0px 0px 4px",
       "width": "auto"
      }
     },
     "7460de78ba26452cabae1dd80870c9e0": {
      "model_module": "ipytree",
      "model_module_version": "^0.2",
      "model_name": "NodeModel",
      "state": {
       "_id": "85c482f8-db9d-42bd-934d-8755abe16f65",
       "_model_module_version": "^0.2",
       "_view_module_version": "^0.2",
       "icon": "file",
       "name": "srtm_chili.py"
      }
     },
     "746fb700540443ad823c6fb834148af7": {
      "model_module": "@jupyter-widgets/base",
      "model_module_version": "2.0.0",
      "model_name": "LayoutModel",
      "state": {
       "height": "auto",
       "padding": "0px 0px 0px 4px",
       "width": "auto"
      }
     },
     "74e124f4a4b841cf9c86d6324f99f292": {
      "model_module": "@jupyter-widgets/base",
      "model_module_version": "2.0.0",
      "model_name": "LayoutModel",
      "state": {
       "height": "auto",
       "padding": "0px 0px 0px 4px",
       "width": "auto"
      }
     },
     "74ff6c0638244554aba549bee270d092": {
      "model_module": "@jupyter-widgets/base",
      "model_module_version": "2.0.0",
      "model_name": "LayoutModel",
      "state": {}
     },
     "7517acb021d84412a454edb1b166a026": {
      "model_module": "ipytree",
      "model_module_version": "^0.2",
      "model_name": "NodeModel",
      "state": {
       "_id": "13624795-2c6c-45d4-b38a-c5b7888add93",
       "_model_module_version": "^0.2",
       "_view_module_version": "^0.2",
       "icon": "file",
       "name": "image_overview.py"
      }
     },
     "75a03f5d6493407d9698bad049e19480": {
      "model_module": "@jupyter-widgets/controls",
      "model_module_version": "2.0.0",
      "model_name": "ToggleButtonModel",
      "state": {
       "button_style": "primary",
       "icon": "info-circle",
       "layout": "IPY_MODEL_b02854308750429aa4687cc4669ad3fc",
       "style": "IPY_MODEL_3c9ee2d75c214838a9bbc84525f9719f",
       "tooltip": "Get COG/STAC pixel value"
      }
     },
     "75a1bf1fff0945bc9b4b394a8ccfa4cc": {
      "model_module": "jupyter-leaflet",
      "model_module_version": "^0.18",
      "model_name": "LeafletFullScreenControlModel",
      "state": {
       "_model_module_version": "^0.18",
       "_view_module_version": "^0.18",
       "options": [
        "position"
       ]
      }
     },
     "75c0d402cd0b4eacb8b8555d51b3a344": {
      "model_module": "@jupyter-widgets/controls",
      "model_module_version": "2.0.0",
      "model_name": "GridBoxModel",
      "state": {
       "children": [
        "IPY_MODEL_49d10702d00e4c319c96fe80ad2f914a",
        "IPY_MODEL_129d448e29cf4212846890efb413a73c",
        "IPY_MODEL_8b1ed9f8d2ad4b24b75d9b202d0f5c49",
        "IPY_MODEL_4c913ea6f87546e587fb2f8605dadd9c",
        "IPY_MODEL_71c453eb195341648e9e5515b531554e",
        "IPY_MODEL_d4e121c8b2e7445fb3ee5480603e0970"
       ],
       "layout": "IPY_MODEL_69d4bd2371d14359961db95a84a1469b"
      }
     },
     "75dc886adf97459d96eae96ad708285b": {
      "model_module": "@jupyter-widgets/controls",
      "model_module_version": "2.0.0",
      "model_name": "ToggleButtonStyleModel",
      "state": {
       "description_width": "",
       "font_family": null,
       "font_size": null,
       "font_style": null,
       "font_variant": null,
       "font_weight": null,
       "text_color": null,
       "text_decoration": null
      }
     },
     "75f83e73d34b4a84b7fd8b72b9d59342": {
      "model_module": "@jupyter-widgets/controls",
      "model_module_version": "2.0.0",
      "model_name": "ButtonModel",
      "state": {
       "button_style": "primary",
       "description": "import",
       "layout": "IPY_MODEL_bf30733a10b24218818e73bd9b620ba8",
       "style": "IPY_MODEL_7ed3b2a8425b41d4a98901b56d3f16b7",
       "tooltip": "Click to import the selected asset"
      }
     },
     "76640a8ddd8444ac9e22c2f119dfe50f": {
      "model_module": "@jupyter-widgets/controls",
      "model_module_version": "2.0.0",
      "model_name": "ToggleButtonsModel",
      "state": {
       "_options_labels": [
        "Scripts",
        "Docs",
        "Assets"
       ],
       "button_style": "primary",
       "icons": [],
       "index": 0,
       "layout": "IPY_MODEL_28f78850cbb4403197a597369cac47e7",
       "style": "IPY_MODEL_259553236c744ef7a97b6b1ebf9731c5",
       "tooltips": [
        "Search Earth Engine Scripts",
        "Search Earth Engine API",
        "Search Earth Engine Assets"
       ]
      }
     },
     "767109c869ba4e938f8f0c5703991dd3": {
      "model_module": "@jupyter-widgets/base",
      "model_module_version": "2.0.0",
      "model_name": "LayoutModel",
      "state": {
       "height": "auto",
       "padding": "0px 0px 0px 4px",
       "width": "auto"
      }
     },
     "767fb3279d3146299cba4827fe1c9444": {
      "model_module": "@jupyter-widgets/base",
      "model_module_version": "2.0.0",
      "model_name": "LayoutModel",
      "state": {
       "width": "475px"
      }
     },
     "7687ee37437e4fa1b51b82d3443776c2": {
      "model_module": "jupyter-leaflet",
      "model_module_version": "^0.18",
      "model_name": "LeafletMapStyleModel",
      "state": {
       "_model_module_version": "^0.18"
      }
     },
     "76b36fcdaab444248835af195fb74057": {
      "model_module": "@jupyter-widgets/controls",
      "model_module_version": "2.0.0",
      "model_name": "ToggleButtonModel",
      "state": {
       "button_style": "primary",
       "icon": "gears",
       "layout": "IPY_MODEL_9044bd7e0ea84228b4edb8f2637112cc",
       "style": "IPY_MODEL_5bca2b5f5dda40b292ce2b84476a4f40",
       "tooltip": "WhiteboxTools for local geoprocessing"
      }
     },
     "76dee3c66cd444f3b06f98dac71ac000": {
      "model_module": "@jupyter-widgets/controls",
      "model_module_version": "2.0.0",
      "model_name": "HBoxModel",
      "state": {
       "_dom_classes": [
        "geemap-light"
       ],
       "children": [
        "IPY_MODEL_80b26e99de4f4a08987a2e9f45e1e9b8",
        "IPY_MODEL_01833cd9b6c44cf68a9e6872534e3489"
       ],
       "layout": "IPY_MODEL_562d0825d03245deb946b3082fd53640"
      }
     },
     "76e84c0bf5bb41e8aa08adddf1f9cfcc": {
      "model_module": "ipytree",
      "model_module_version": "^0.2",
      "model_name": "NodeModel",
      "state": {
       "_id": "9d442e43-39d0-4eb5-992e-39be12eaa7ec",
       "_model_module_version": "^0.2",
       "_view_module_version": "^0.2",
       "icon": "file",
       "name": "spectral_unmixing.py"
      }
     },
     "76eb632de3604252adc92fe136536ce1": {
      "model_module": "ipytree",
      "model_module_version": "^0.2",
      "model_name": "NodeModel",
      "state": {
       "_id": "e5ecb048-879d-484e-b65c-02bf9cb0d42b",
       "_model_module_version": "^0.2",
       "_view_module_version": "^0.2",
       "icon": "file",
       "name": "filtering_by_band_names.py"
      }
     },
     "76ec7e1ad2dd4bc5adaae66db7ff75ca": {
      "model_module": "@jupyter-widgets/base",
      "model_module_version": "2.0.0",
      "model_name": "LayoutModel",
      "state": {
       "height": "28px",
       "width": "72px"
      }
     },
     "772b49fb00024362bfde2482caa640f8": {
      "model_module": "@jupyter-widgets/base",
      "model_module_version": "2.0.0",
      "model_name": "LayoutModel",
      "state": {
       "height": "auto",
       "padding": "0px 0px 0px 4px",
       "width": "auto"
      }
     },
     "7744d429d55e41ac9632df334b07d241": {
      "model_module": "@jupyter-widgets/controls",
      "model_module_version": "2.0.0",
      "model_name": "ToggleButtonModel",
      "state": {
       "button_style": "primary",
       "icon": "hand-o-up",
       "layout": "IPY_MODEL_cda03ddb96e54efd8c0d6e5c1a60a0ef",
       "style": "IPY_MODEL_f01b668980b4444189e32abf24e90c07",
       "tooltip": "Collect training samples"
      }
     },
     "77e9ae84cb2e4e8b8456437ef600718a": {
      "model_module": "ipytree",
      "model_module_version": "^0.2",
      "model_name": "NodeModel",
      "state": {
       "_id": "3f922fca-e8f2-4370-ab28-6b81530f716f",
       "_model_module_version": "^0.2",
       "_view_module_version": "^0.2",
       "icon": "file",
       "name": "convert_vector_to_raster.py"
      }
     },
     "77f9a929fc9d43209c1e829ce4408a29": {
      "model_module": "ipytree",
      "model_module_version": "^0.2",
      "model_name": "NodeModel",
      "state": {
       "_id": "9d7d0250-8053-4c08-b86b-933d28cbe963",
       "_model_module_version": "^0.2",
       "_view_module_version": "^0.2",
       "icon": "file",
       "name": "Projections.py"
      }
     },
     "77fe721820c24c97a664ce1f655e6950": {
      "model_module": "@jupyter-widgets/controls",
      "model_module_version": "2.0.0",
      "model_name": "ToggleButtonModel",
      "state": {
       "icon": "server",
       "layout": "IPY_MODEL_5d5d9d2ff09c4bf2a7f24e096fc27610",
       "style": "IPY_MODEL_3e3ddc325a404bef9f98c74344f8df1a",
       "tooltip": "Layers"
      }
     },
     "783785ef9c2b4186891158cb3d1f6ad1": {
      "model_module": "@jupyter-widgets/controls",
      "model_module_version": "2.0.0",
      "model_name": "VBoxModel",
      "state": {
       "children": [
        "IPY_MODEL_2bcf03868a544369b13a17f42426a899",
        "IPY_MODEL_8a31fe7fa5564c8b9e9dcf4e7e070178"
       ],
       "layout": "IPY_MODEL_e94f8ba84b5c4391bd91440a8f30835f"
      }
     },
     "78427c648d0a44a19b16b5498fabbf70": {
      "model_module": "jupyter-leaflet",
      "model_module_version": "^0.18",
      "model_name": "LeafletMeasureControlModel",
      "state": {
       "_model_module_version": "^0.18",
       "_view_module_version": "^0.18",
       "active_color": "orange",
       "options": [
        "active_color",
        "capture_z_index",
        "completed_color",
        "popup_options",
        "position",
        "primary_area_unit",
        "primary_length_unit",
        "secondary_area_unit",
        "secondary_length_unit"
       ],
       "position": "bottomleft",
       "primary_length_unit": "kilometers",
       "secondary_area_unit": null,
       "secondary_length_unit": null
      }
     },
     "787287705b4e4590ab595c11b87aac01": {
      "model_module": "@jupyter-widgets/base",
      "model_module_version": "2.0.0",
      "model_name": "LayoutModel",
      "state": {
       "height": "auto",
       "padding": "0px 0px 0px 4px",
       "width": "auto"
      }
     },
     "78b3c63c03634425bbde88f52c6c6f23": {
      "model_module": "ipytree",
      "model_module_version": "^0.2",
      "model_name": "NodeModel",
      "state": {
       "_id": "b51f6eab-4490-4e4c-9bec-b9a1a0ce24eb",
       "_model_module_version": "^0.2",
       "_view_module_version": "^0.2",
       "icon": "file",
       "name": "NormalizedDifference.py"
      }
     },
     "78d287aa9da64e3ea194693bedd8e30a": {
      "model_module": "@jupyter-widgets/controls",
      "model_module_version": "2.0.0",
      "model_name": "HBoxModel",
      "state": {
       "children": [
        "IPY_MODEL_bf0e367a90f440e1bbfce220d9aadbe6",
        "IPY_MODEL_19d7d59ae2f24f51a530356207978442"
       ],
       "layout": "IPY_MODEL_5c322ebdc970402facdfff86ac323e12"
      }
     },
     "78d71b027fdd4724a2d9da0eab508428": {
      "model_module": "@jupyter-widgets/controls",
      "model_module_version": "2.0.0",
      "model_name": "ToggleButtonModel",
      "state": {
       "button_style": "primary",
       "icon": "info",
       "layout": "IPY_MODEL_1b3b09f3284e41a7ba27453b5671eaf3",
       "style": "IPY_MODEL_879b46568ac14cc186fc9b2eee825285",
       "tooltip": "Inspector"
      }
     },
     "7905655146064a27875bfaf16cae3209": {
      "model_module": "@jupyter-widgets/controls",
      "model_module_version": "2.0.0",
      "model_name": "ToggleButtonModel",
      "state": {
       "button_style": "primary",
       "icon": "google",
       "layout": "IPY_MODEL_74e124f4a4b841cf9c86d6324f99f292",
       "style": "IPY_MODEL_d9aabe0c2e8146c3bb98c29126cae963",
       "tooltip": "GEE Toolbox for cloud computing"
      }
     },
     "791858fe772f4470ad984c64283202de": {
      "model_module": "@jupyter-widgets/controls",
      "model_module_version": "2.0.0",
      "model_name": "VBoxModel",
      "state": {
       "_dom_classes": [
        "geemap-light"
       ],
       "_view_count": 0,
       "children": [
        "IPY_MODEL_1a1d0531a76645828fdba0b11526a625"
       ],
       "layout": "IPY_MODEL_fd9bfe814d404510bbb182d0aaa2791a"
      }
     },
     "79361d012849484db0f3a24c72c006d0": {
      "model_module": "@jupyter-widgets/controls",
      "model_module_version": "2.0.0",
      "model_name": "ToggleButtonStyleModel",
      "state": {
       "description_width": "",
       "font_family": null,
       "font_size": null,
       "font_style": null,
       "font_variant": null,
       "font_weight": null,
       "text_color": null,
       "text_decoration": null
      }
     },
     "799d0afa00eb433094bdea5731479b80": {
      "model_module": "@jupyter-widgets/controls",
      "model_module_version": "2.0.0",
      "model_name": "VBoxModel",
      "state": {
       "children": [
        "IPY_MODEL_1277ccd864404536bea698c80489f2ce",
        "IPY_MODEL_22bb1e5ed9a14a15af4e3947d5c7a2a2"
       ],
       "layout": "IPY_MODEL_4b5aaec3e6ef42c088b4f3ce78ac0d40"
      }
     },
     "79a925190d4644adb9ffcf05953cc7b0": {
      "model_module": "@jupyter-widgets/controls",
      "model_module_version": "2.0.0",
      "model_name": "ToggleButtonStyleModel",
      "state": {
       "description_width": "",
       "font_family": null,
       "font_size": null,
       "font_style": null,
       "font_variant": null,
       "font_weight": null,
       "text_color": null,
       "text_decoration": null
      }
     },
     "79c60aeeac584367837dcfbd028a4dae": {
      "model_module": "ipytree",
      "model_module_version": "^0.2",
      "model_name": "NodeModel",
      "state": {
       "_id": "13e1c06c-12cf-4bfd-bd69-4a3a1a54acbe",
       "_model_module_version": "^0.2",
       "_view_module_version": "^0.2",
       "icon": "file",
       "name": "array_sorting.py"
      }
     },
     "7a01870c214d4e8aa2096b9a258f2734": {
      "model_module": "@jupyter-widgets/base",
      "model_module_version": "2.0.0",
      "model_name": "LayoutModel",
      "state": {
       "height": "auto",
       "padding": "0px 0px 0px 4px",
       "width": "auto"
      }
     },
     "7a76e220a2fd4fbfb4a8a9aa0c8eb822": {
      "model_module": "@jupyter-widgets/controls",
      "model_module_version": "2.0.0",
      "model_name": "ToggleButtonModel",
      "state": {
       "icon": "server",
       "layout": "IPY_MODEL_534e23a0ea724f22a728f94832e6e8ff",
       "style": "IPY_MODEL_049c6b15623b41a694dff887fc254a5b",
       "tooltip": "Layers"
      }
     },
     "7a8e7c0c561d471a98cea6991937efa7": {
      "model_module": "ipytree",
      "model_module_version": "^0.2",
      "model_name": "NodeModel",
      "state": {
       "_id": "8800f0fd-3551-4f25-bbe8-d97ae5a7f429",
       "_model_module_version": "^0.2",
       "_view_module_version": "^0.2",
       "icon": "file",
       "name": "rename_bands.py"
      }
     },
     "7aaf6969cd304f1a840ccfcdb86afd0d": {
      "model_module": "@jupyter-widgets/controls",
      "model_module_version": "2.0.0",
      "model_name": "VBoxModel",
      "state": {
       "children": [
        "IPY_MODEL_0e458b9593a54141b0f91c212f4087b3",
        "IPY_MODEL_56c3fc056e9c441ea63cb9bcf1bd4761"
       ],
       "layout": "IPY_MODEL_0448a1980bf845f1a9b6b5a487a307eb"
      }
     },
     "7af8ebc8bbe54a04a4b219f3f81e93f7": {
      "model_module": "ipytree",
      "model_module_version": "^0.2",
      "model_name": "NodeModel",
      "state": {
       "_id": "2a150248-4423-45aa-88dd-a67e0bc4b2ce",
       "_model_module_version": "^0.2",
       "_view_module_version": "^0.2",
       "icon": "file",
       "name": "computed_area_filter.py"
      }
     },
     "7b12611e400840359c8d8eed24be07cc": {
      "model_module": "@jupyter-widgets/base",
      "model_module_version": "2.0.0",
      "model_name": "LayoutModel",
      "state": {
       "height": "auto",
       "padding": "0px 0px 0px 4px",
       "width": "auto"
      }
     },
     "7b3f75cc03094dfebd5ecff59c46ed2e": {
      "model_module": "@jupyter-widgets/base",
      "model_module_version": "2.0.0",
      "model_name": "LayoutModel",
      "state": {
       "max_width": "279px",
       "min_width": "279px"
      }
     },
     "7b77f2f5063c4b648e6d36a6cc9f7ca1": {
      "model_module": "ipytree",
      "model_module_version": "^0.2",
      "model_name": "NodeModel",
      "state": {
       "_id": "832db1f2-63db-46c9-abdc-cdd2e756f515",
       "_model_module_version": "^0.2",
       "_view_module_version": "^0.2",
       "icon": "file",
       "name": "color_by_attribute.py"
      }
     },
     "7b949bb22f134e07b3ec45aae773f6b8": {
      "model_module": "@jupyter-widgets/base",
      "model_module_version": "2.0.0",
      "model_name": "LayoutModel",
      "state": {
       "grid_gap": "1px 1px",
       "grid_template_columns": "32px 32px 32px ",
       "grid_template_rows": "32px 32px ",
       "padding": "5px",
       "width": "109px"
      }
     },
     "7bc011105c6c4f5d99c1bd58cbc20235": {
      "model_module": "@jupyter-widgets/controls",
      "model_module_version": "2.0.0",
      "model_name": "ToggleButtonStyleModel",
      "state": {
       "description_width": "",
       "font_family": null,
       "font_size": null,
       "font_style": null,
       "font_variant": null,
       "font_weight": null,
       "text_color": null,
       "text_decoration": null
      }
     },
     "7bea1c10bd7342b7b6b6eaeaf1439f1f": {
      "model_module": "@jupyter-widgets/controls",
      "model_module_version": "2.0.0",
      "model_name": "ToggleButtonStyleModel",
      "state": {
       "description_width": "",
       "font_family": null,
       "font_size": null,
       "font_style": null,
       "font_variant": null,
       "font_weight": null,
       "text_color": null,
       "text_decoration": null
      }
     },
     "7c3f64d0446e4530a0f0b9540c506869": {
      "model_module": "@jupyter-widgets/base",
      "model_module_version": "2.0.0",
      "model_name": "LayoutModel",
      "state": {}
     },
     "7c4e3c473b50438ca69fd7ae3afc8ff8": {
      "model_module": "@jupyter-widgets/controls",
      "model_module_version": "2.0.0",
      "model_name": "ToggleButtonStyleModel",
      "state": {
       "description_width": "",
       "font_family": null,
       "font_size": null,
       "font_style": null,
       "font_variant": null,
       "font_weight": null,
       "text_color": null,
       "text_decoration": null
      }
     },
     "7c8b4234a92e48e3b02efcd10516da7d": {
      "model_module": "@jupyter-widgets/controls",
      "model_module_version": "2.0.0",
      "model_name": "ToggleButtonStyleModel",
      "state": {
       "description_width": "",
       "font_family": null,
       "font_size": null,
       "font_style": null,
       "font_variant": null,
       "font_weight": null,
       "text_color": null,
       "text_decoration": null
      }
     },
     "7cb05dd209ec41b5aaad501cf596480f": {
      "model_module": "@jupyter-widgets/controls",
      "model_module_version": "2.0.0",
      "model_name": "DescriptionStyleModel",
      "state": {
       "description_width": ""
      }
     },
     "7ced531637d74b62ad83d1b67a20724f": {
      "model_module": "@jupyter-widgets/controls",
      "model_module_version": "2.0.0",
      "model_name": "ToggleButtonModel",
      "state": {
       "button_style": "primary",
       "icon": "info-circle",
       "layout": "IPY_MODEL_932daf74e81b4d5395caca163f69a8db",
       "style": "IPY_MODEL_3a3a2522b3ea4959a96178723676310c",
       "tooltip": "Get COG/STAC pixel value"
      }
     },
     "7cf6e42bafed487da7fc1d2c669559f7": {
      "model_module": "@jupyter-widgets/controls",
      "model_module_version": "2.0.0",
      "model_name": "ToggleButtonStyleModel",
      "state": {
       "description_width": "",
       "font_family": null,
       "font_size": null,
       "font_style": null,
       "font_variant": null,
       "font_weight": null,
       "text_color": null,
       "text_decoration": null
      }
     },
     "7d2279d0bbae493f9353f68b0c80555a": {
      "model_module": "@jupyter-widgets/base",
      "model_module_version": "2.0.0",
      "model_name": "LayoutModel",
      "state": {}
     },
     "7d3d837938964fb993cc85ba2ece2c1c": {
      "model_module": "@jupyter-widgets/base",
      "model_module_version": "2.0.0",
      "model_name": "LayoutModel",
      "state": {}
     },
     "7d4398078f454330b63a832823fc3730": {
      "model_module": "ipytree",
      "model_module_version": "^0.2",
      "model_name": "NodeModel",
      "state": {
       "_id": "42bfe0a7-018f-4766-872f-7606a4912e2b",
       "_model_module_version": "^0.2",
       "_view_module_version": "^0.2",
       "icon": "file",
       "name": "filter_string_starts_with.py"
      }
     },
     "7d4b2fc59f13436c8ac26ec96f7d6652": {
      "model_module": "ipytree",
      "model_module_version": "^0.2",
      "model_name": "NodeModel",
      "state": {
       "_id": "046db0aa-4c8b-40ae-ac08-e160f87e4576",
       "_model_module_version": "^0.2",
       "_view_module_version": "^0.2",
       "icon": "file",
       "name": "jrc_monthly_history.py"
      }
     },
     "7d7bf73f449f4c6eb8e034c899a8a850": {
      "model_module": "ipytree",
      "model_module_version": "^0.2",
      "model_name": "NodeModel",
      "state": {
       "_id": "a7f7ff1b-3148-4edd-a868-90e46d958d38",
       "_model_module_version": "^0.2",
       "_view_module_version": "^0.2",
       "name": "Array",
       "nodes": [
        "IPY_MODEL_6cc1a5a5bd194b1aa64a714dfa15650e",
        "IPY_MODEL_79c60aeeac584367837dcfbd028a4dae",
        "IPY_MODEL_6baa530804c6498c8c8905a02219e600",
        "IPY_MODEL_2f9a057cc6a74879bc7830cd75cd1dad",
        "IPY_MODEL_13b2f40557b04b0eaa46b9a06e37551e",
        "IPY_MODEL_a6c9dbb784964a8f8b6d715b1e2e0f30",
        "IPY_MODEL_dede98365ca14eb5b34f4803cbbfdc9d",
        "IPY_MODEL_76e84c0bf5bb41e8aa08adddf1f9cfcc"
       ],
       "opened": false
      }
     },
     "7db8c60dc6074a64bf2dc3b1bf2035af": {
      "model_module": "ipytree",
      "model_module_version": "^0.2",
      "model_name": "NodeModel",
      "state": {
       "_id": "d831e4c9-9ee9-4467-8187-c210d4b35c88",
       "_model_module_version": "^0.2",
       "_view_module_version": "^0.2",
       "icon": "file",
       "name": "glcf_global_inland_water.py"
      }
     },
     "7dbebf2d07d4479998cddac5f0de45f2": {
      "model_module": "ipytree",
      "model_module_version": "^0.2",
      "model_name": "NodeModel",
      "state": {
       "_id": "501ccd66-f5be-4abf-b584-11a37f2f1ab7",
       "_model_module_version": "^0.2",
       "_view_module_version": "^0.2",
       "icon": "file",
       "name": "1_water_occurrence.py"
      }
     },
     "7dc6c79f969448bb809f1ac91d68684b": {
      "model_module": "ipytree",
      "model_module_version": "^0.2",
      "model_name": "NodeModel",
      "state": {
       "_id": "fd866db3-6434-4a8c-9fcc-619dbaaf757a",
       "_model_module_version": "^0.2",
       "_view_module_version": "^0.2",
       "icon": "file",
       "name": "resampling2.py"
      }
     },
     "7de8fec0955b4966885c66500a4943c6": {
      "model_module": "ipytree",
      "model_module_version": "^0.2",
      "model_name": "NodeModel",
      "state": {
       "_id": "33fc6997-30c2-460a-bf12-01be42863cd9",
       "_model_module_version": "^0.2",
       "_view_module_version": "^0.2",
       "name": "MachineLearning",
       "nodes": [
        "IPY_MODEL_457a479675a84fc28a71d4690483050e",
        "IPY_MODEL_f9f96d0362434ef080cb2b1b9bb21159",
        "IPY_MODEL_3fa2a4f93f034bdaae2128a977ddd99a",
        "IPY_MODEL_425261506e084f618e22d03a34be4c84"
       ],
       "opened": false
      }
     },
     "7e4d07f579d844f69e7ab5b0542fd0f6": {
      "model_module": "ipytree",
      "model_module_version": "^0.2",
      "model_name": "NodeModel",
      "state": {
       "_id": "f62e3874-82bf-417a-a7f6-9cf11ca935cc",
       "_model_module_version": "^0.2",
       "_view_module_version": "^0.2",
       "icon": "file",
       "name": "04_band_math.py"
      }
     },
     "7eb44e76e6e6498dac143ac2fb8ae53c": {
      "model_module": "ipytree",
      "model_module_version": "^0.2",
      "model_name": "NodeModel",
      "state": {
       "_id": "22a78587-bb9c-4ce8-bde6-bba04a6799ee",
       "_model_module_version": "^0.2",
       "_view_module_version": "^0.2",
       "icon": "file",
       "name": "jrc_yearly_history.py"
      }
     },
     "7ec4dac2dacb4168abbc9ca46b247cfe": {
      "model_module": "@jupyter-widgets/base",
      "model_module_version": "2.0.0",
      "model_name": "LayoutModel",
      "state": {
       "width": "200px"
      }
     },
     "7ec770cd031248ebbcfef715aecfd0e6": {
      "model_module": "@jupyter-widgets/controls",
      "model_module_version": "2.0.0",
      "model_name": "ToggleButtonModel",
      "state": {
       "button_style": "primary",
       "icon": "eraser",
       "layout": "IPY_MODEL_8163abeedc23492e9cf034edc06fbd76",
       "style": "IPY_MODEL_a3ef2ef6b8264b60831355424c74abed",
       "tooltip": "Remove all drawn features"
      }
     },
     "7ed3b2a8425b41d4a98901b56d3f16b7": {
      "model_module": "@jupyter-widgets/controls",
      "model_module_version": "2.0.0",
      "model_name": "ButtonStyleModel",
      "state": {
       "font_family": null,
       "font_size": null,
       "font_style": null,
       "font_variant": null,
       "font_weight": null,
       "text_color": null,
       "text_decoration": null
      }
     },
     "7ee5bd0813cb4591b1dccebac0781dd0": {
      "model_module": "ipytree",
      "model_module_version": "^0.2",
      "model_name": "NodeModel",
      "state": {
       "_id": "6fe820ba-01be-46de-ab4c-e9162036e77f",
       "_model_module_version": "^0.2",
       "_view_module_version": "^0.2",
       "name": "Water",
       "nodes": [
        "IPY_MODEL_7db8c60dc6074a64bf2dc3b1bf2035af",
        "IPY_MODEL_ecf18e2c1ec54b67bab0dde56bd07309",
        "IPY_MODEL_3923ede260844dd9be38e7a55241c151",
        "IPY_MODEL_7d4b2fc59f13436c8ac26ec96f7d6652",
        "IPY_MODEL_e0535307c6a746d2a92937ac68a800bc",
        "IPY_MODEL_d277f8c6842a462e9682a6dfdd9bd49f",
        "IPY_MODEL_585ce24e8bed4fe6979c16880a87b6c7"
       ],
       "opened": false
      }
     },
     "7f143b5a25d14776bca0ace9039a4fd3": {
      "model_module": "@jupyter-widgets/base",
      "model_module_version": "2.0.0",
      "model_name": "LayoutModel",
      "state": {
       "max_width": "279px",
       "min_width": "279px"
      }
     },
     "7f8fd72162a4446da83389a07a43b2ce": {
      "model_module": "jupyter-leaflet",
      "model_module_version": "^0.18",
      "model_name": "LeafletWidgetControlModel",
      "state": {
       "_model_module": "jupyter-leaflet",
       "_model_module_version": "^0.18",
       "_view_count": null,
       "_view_module": "jupyter-leaflet",
       "_view_module_version": "^0.18",
       "options": [
        "position",
        "transparent_bg"
       ],
       "position": "topright",
       "widget": "IPY_MODEL_8fcf3cadb4bb450fa47746832004cd19"
      }
     },
     "7f9aa2904087433fbe79bb000b7cd5b8": {
      "model_module": "ipytree",
      "model_module_version": "^0.2",
      "model_name": "NodeModel",
      "state": {
       "_id": "6f5904c9-138a-4f96-9dbe-f4095653da7e",
       "_model_module_version": "^0.2",
       "_view_module_version": "^0.2",
       "name": "Keiko",
       "nodes": [
        "IPY_MODEL_81a5881071544e98bc51416d179e615d",
        "IPY_MODEL_849e373de2334ba1b5739abba26a5663",
        "IPY_MODEL_079aa685874e4ba0bf9c2ce62117c26b"
       ],
       "opened": false
      }
     },
     "7fc7a15f8d134c82bb4cf76bde01e51a": {
      "model_module": "@jupyter-widgets/controls",
      "model_module_version": "2.0.0",
      "model_name": "ToggleButtonModel",
      "state": {
       "button_style": "primary",
       "icon": "hand-o-up",
       "layout": "IPY_MODEL_bc5b9b13df6f43218d79f87aeaaa855f",
       "style": "IPY_MODEL_4004a6a7a2ab4eabb861d94e524ce96a",
       "tooltip": "Collect training samples"
      }
     },
     "800ea0a075344377ae941ba730c44595": {
      "model_module": "@jupyter-widgets/output",
      "model_module_version": "1.0.0",
      "model_name": "OutputModel",
      "state": {
       "layout": "IPY_MODEL_a56a7cdbe8474c678d85c1ef8bf97ee1"
      }
     },
     "800f18dfcc974e66bc081831be9eda05": {
      "model_module": "@jupyter-widgets/controls",
      "model_module_version": "2.0.0",
      "model_name": "ButtonStyleModel",
      "state": {
       "font_family": null,
       "font_size": null,
       "font_style": null,
       "font_variant": null,
       "font_weight": null,
       "text_color": null,
       "text_decoration": null
      }
     },
     "8095bad0b6024151b1617348ab097b81": {
      "model_module": "ipytree",
      "model_module_version": "^0.2",
      "model_name": "NodeModel",
      "state": {
       "_id": "80365288-0268-4b40-b315-39a9ed3fe4cb",
       "_model_module_version": "^0.2",
       "_view_module_version": "^0.2",
       "icon": "file",
       "name": "reducing_collection.py"
      }
     },
     "80a1af3c79014600ae07d69088115697": {
      "model_module": "ipytree",
      "model_module_version": "^0.2",
      "model_name": "NodeModel",
      "state": {
       "_id": "b58da5e6-b158-4c9f-aaea-4cd0655c6924",
       "_model_module_version": "^0.2",
       "_view_module_version": "^0.2",
       "icon": "file",
       "name": "creating_feature_collection.py"
      }
     },
     "80b26e99de4f4a08987a2e9f45e1e9b8": {
      "model_module": "@jupyter-widgets/controls",
      "model_module_version": "2.0.0",
      "model_name": "DropdownModel",
      "state": {
       "_options_labels": [
        "OpenStreetMap",
        "Esri.WorldStreetMap",
        "Esri.WorldImagery",
        "Esri.WorldTopoMap",
        "FWS NWI Wetlands",
        "FWS NWI Wetlands Raster",
        "NLCD 2021 CONUS Land Cover",
        "NLCD 2019 CONUS Land Cover",
        "NLCD 2016 CONUS Land Cover",
        "NLCD 2013 CONUS Land Cover",
        "NLCD 2011 CONUS Land Cover",
        "NLCD 2008 CONUS Land Cover",
        "NLCD 2006 CONUS Land Cover",
        "NLCD 2004 CONUS Land Cover",
        "NLCD 2001 CONUS Land Cover",
        "USGS NAIP Imagery",
        "USGS NAIP Imagery False Color",
        "USGS NAIP Imagery NDVI",
        "USGS Hydrography",
        "USGS 3DEP Elevation",
        "ESA Worldcover 2020",
        "ESA Worldcover 2020 S2 FCC",
        "ESA Worldcover 2020 S2 TCC",
        "ESA Worldcover 2021",
        "ESA Worldcover 2021 S2 FCC",
        "ESA Worldcover 2021 S2 TCC",
        "BasemapAT.basemap",
        "BasemapAT.grau",
        "BasemapAT.highdpi",
        "BasemapAT.orthofoto",
        "BasemapAT.overlay",
        "BasemapAT.surface",
        "BasemapAT.terrain",
        "CartoDB.DarkMatter",
        "CartoDB.DarkMatterNoLabels",
        "CartoDB.DarkMatterOnlyLabels",
        "CartoDB.Positron",
        "CartoDB.PositronNoLabels",
        "CartoDB.PositronOnlyLabels",
        "CartoDB.Voyager",
        "CartoDB.VoyagerLabelsUnder",
        "CartoDB.VoyagerNoLabels",
        "CartoDB.VoyagerOnlyLabels",
        "CyclOSM",
        "Esri.AntarcticBasemap",
        "Esri.AntarcticImagery",
        "Esri.ArcticImagery",
        "Esri.ArcticOceanBase",
        "Esri.ArcticOceanReference",
        "Esri.DeLorme",
        "Esri.NatGeoWorldMap",
        "Esri.OceanBasemap",
        "Esri.WorldGrayCanvas",
        "Esri.WorldPhysical",
        "Esri.WorldShadedRelief",
        "Esri.WorldTerrain",
        "FreeMapSK",
        "Gaode.Normal",
        "Gaode.Satellite",
        "HikeBike.HikeBike",
        "HikeBike.HillShading",
        "JusticeMap.americanIndian",
        "JusticeMap.asian",
        "JusticeMap.black",
        "JusticeMap.hispanic",
        "JusticeMap.income",
        "JusticeMap.multi",
        "JusticeMap.nonWhite",
        "JusticeMap.plurality",
        "JusticeMap.white",
        "MtbMap",
        "NASAGIBS.ASTER_GDEM_Greyscale_Shaded_Relief",
        "NASAGIBS.BlueMarble",
        "NASAGIBS.BlueMarble3031",
        "NASAGIBS.BlueMarble3413",
        "NASAGIBS.ModisAquaBands721CR",
        "NASAGIBS.ModisAquaTrueColorCR",
        "NASAGIBS.ModisTerraAOD",
        "NASAGIBS.ModisTerraBands367CR",
        "NASAGIBS.ModisTerraBands721CR",
        "NASAGIBS.ModisTerraChlorophyll",
        "NASAGIBS.ModisTerraLSTDay",
        "NASAGIBS.ModisTerraSnowCover",
        "NASAGIBS.ModisTerraTrueColorCR",
        "NASAGIBS.ViirsEarthAtNight2012",
        "NASAGIBS.ViirsTrueColorCR",
        "NLS",
        "OPNVKarte",
        "OneMapSG.Default",
        "OneMapSG.Grey",
        "OneMapSG.LandLot",
        "OneMapSG.Night",
        "OneMapSG.Original",
        "OpenAIP",
        "OpenFireMap",
        "OpenRailwayMap",
        "OpenSeaMap",
        "OpenSnowMap.pistes",
        "OpenStreetMap.BZH",
        "OpenStreetMap.BlackAndWhite",
        "OpenStreetMap.CH",
        "OpenStreetMap.DE",
        "OpenStreetMap.HOT",
        "OpenStreetMap.Mapnik",
        "OpenTopoMap",
        "SafeCast",
        "Stadia.AlidadeSmooth",
        "Stadia.AlidadeSmoothDark",
        "Stadia.OSMBright",
        "Stadia.Outdoors",
        "Stadia.StamenTerrain",
        "Stadia.StamenTerrainBackground",
        "Stadia.StamenTerrainLabels",
        "Stadia.StamenTerrainLines",
        "Stadia.StamenToner",
        "Stadia.StamenTonerBackground",
        "Stadia.StamenTonerLabels",
        "Stadia.StamenTonerLines",
        "Stadia.StamenTonerLite",
        "Stadia.StamenWatercolor",
        "Strava.All",
        "Strava.Ride",
        "Strava.Run",
        "Strava.Water",
        "Strava.Winter",
        "SwissFederalGeoportal.JourneyThroughTime",
        "SwissFederalGeoportal.NationalMapColor",
        "SwissFederalGeoportal.NationalMapGrey",
        "SwissFederalGeoportal.SWISSIMAGE",
        "USGS.USImagery",
        "USGS.USImageryTopo",
        "USGS.USTopo",
        "WaymarkedTrails.cycling",
        "WaymarkedTrails.hiking",
        "WaymarkedTrails.mtb",
        "WaymarkedTrails.riding",
        "WaymarkedTrails.skating",
        "WaymarkedTrails.slopes",
        "nlmaps.grijs",
        "nlmaps.luchtfoto",
        "nlmaps.pastel",
        "nlmaps.standaard",
        "nlmaps.water"
       ],
       "index": 0,
       "layout": "IPY_MODEL_2dc09bb0e6544b22b02eb9dcdf7f3931",
       "style": "IPY_MODEL_86b66a0df1e9422d9cf6b74e6eea8b55"
      }
     },
     "80c2e29fc6ed4ae6982ec77006ac6fc8": {
      "model_module": "ipytree",
      "model_module_version": "^0.2",
      "model_name": "NodeModel",
      "state": {
       "_id": "7204f647-75a5-46d7-8699-b75aa4148a8f",
       "_model_module_version": "^0.2",
       "_view_module_version": "^0.2",
       "icon": "file",
       "name": "pixel_area.py"
      }
     },
     "80e999a0069942519346c56fa92f11b6": {
      "model_module": "@jupyter-widgets/controls",
      "model_module_version": "2.0.0",
      "model_name": "DescriptionStyleModel",
      "state": {
       "description_width": ""
      }
     },
     "80fb32be66854ad5bd949fbcad928c24": {
      "model_module": "ipytree",
      "model_module_version": "^0.2",
      "model_name": "NodeModel",
      "state": {
       "_id": "6a395447-9b2b-4155-8d78-06d8af3d9854",
       "_model_module_version": "^0.2",
       "_view_module_version": "^0.2",
       "name": "NAIP",
       "nodes": [
        "IPY_MODEL_a3500d53dc464b769fb1cfa615c66367",
        "IPY_MODEL_6fbe5fcac0b5461d89d20b2bb3fa2930",
        "IPY_MODEL_9e82405144a54b2a919dcd53597bc459",
        "IPY_MODEL_bc421cfdbe9343ee9afc7c83e03dccdf",
        "IPY_MODEL_5112c71131154de59fe47ec06ebb2132",
        "IPY_MODEL_f3c94bfa107c42b1bf1ff5a8c551ef30",
        "IPY_MODEL_644e9233c9d247ae833b03acf4f85dac",
        "IPY_MODEL_986c4494d64649c09dc150292b6c8dd2",
        "IPY_MODEL_ff6e5ecf75cd49f0aec64efe9d5330e6"
       ],
       "opened": false
      }
     },
     "81409d1242cb4729996a42dccb083d5e": {
      "model_module": "ipyevents",
      "model_module_version": "2.0.2",
      "model_name": "EventModel",
      "state": {
       "_supported_key_events": [
        "keydown",
        "keyup"
       ],
       "_supported_mouse_events": [
        "click",
        "auxclick",
        "dblclick",
        "mouseenter",
        "mouseleave",
        "mousedown",
        "mouseup",
        "mousemove",
        "wheel",
        "contextmenu",
        "dragstart",
        "drag",
        "dragend",
        "dragenter",
        "dragover",
        "dragleave",
        "drop"
       ],
       "_supported_touch_events": [
        "touchstart",
        "touchend",
        "touchmove",
        "touchcancel"
       ],
       "_view_module": "@jupyter-widgets/controls",
       "source": "IPY_MODEL_c57ae8e752ae457dad9f3b4fa273b563",
       "throttle_or_debounce": "",
       "watched_events": [
        "mouseenter",
        "mouseleave"
       ],
       "xy_coordinate_system": ""
      }
     },
     "8163abeedc23492e9cf034edc06fbd76": {
      "model_module": "@jupyter-widgets/base",
      "model_module_version": "2.0.0",
      "model_name": "LayoutModel",
      "state": {
       "height": "auto",
       "padding": "0px 0px 0px 4px",
       "width": "auto"
      }
     },
     "81756116f3d743278581549cc1b70c88": {
      "model_module": "ipytree",
      "model_module_version": "^0.2",
      "model_name": "NodeModel",
      "state": {
       "_id": "d1e1e41f-8763-433b-93ce-be582a94e325",
       "_model_module_version": "^0.2",
       "_view_module_version": "^0.2",
       "icon": "file",
       "name": "filter_range_contains.py"
      }
     },
     "81a5881071544e98bc51416d179e615d": {
      "model_module": "ipytree",
      "model_module_version": "^0.2",
      "model_name": "NodeModel",
      "state": {
       "_id": "9645d0f0-3b72-4117-83e3-170fc008d4ef",
       "_model_module_version": "^0.2",
       "_view_module_version": "^0.2",
       "icon": "file",
       "name": "fire_australia.py"
      }
     },
     "81e4ad11138146af99fa86025921ff33": {
      "model_module": "ipytree",
      "model_module_version": "^0.2",
      "model_name": "NodeModel",
      "state": {
       "_id": "19e98b0d-c803-40ec-8efd-1a1e1cdf3cf0",
       "_model_module_version": "^0.2",
       "_view_module_version": "^0.2",
       "icon": "file",
       "name": "nlcd_land_cover.py"
      }
     },
     "81e84b7dcccd4eb88ef0cfbff8f3a472": {
      "model_module": "@jupyter-widgets/base",
      "model_module_version": "2.0.0",
      "model_name": "LayoutModel",
      "state": {
       "height": "600px",
       "width": "630px"
      }
     },
     "821996d182f9403f96c985ac73dc67b3": {
      "model_module": "@jupyter-widgets/controls",
      "model_module_version": "2.0.0",
      "model_name": "ToggleButtonStyleModel",
      "state": {
       "description_width": "",
       "font_family": null,
       "font_size": null,
       "font_style": null,
       "font_variant": null,
       "font_weight": null,
       "text_color": null,
       "text_decoration": null
      }
     },
     "82245a1064db44fa815a812fd2f27ead": {
      "model_module": "ipytree",
      "model_module_version": "^0.2",
      "model_name": "NodeModel",
      "state": {
       "_id": "04348268-8409-4168-bdcb-9c7b37ecf79f",
       "_model_module_version": "^0.2",
       "_view_module_version": "^0.2",
       "name": "Reducer",
       "nodes": [
        "IPY_MODEL_b07c9f1f64754cc6855a223835152794",
        "IPY_MODEL_c9e9292aec0f43e0a143b208c4c63ad0",
        "IPY_MODEL_5a62411306d84439b3da2f2ab0a619f9",
        "IPY_MODEL_48bd058a20fd435da9376fb17effe4ba",
        "IPY_MODEL_a16f0b8248e9457ea1e54312e6ca47b5",
        "IPY_MODEL_4fc56e43bffd404a8364d9df1015f59e",
        "IPY_MODEL_6a64c3ea5c824b9caebc19d8f115df48",
        "IPY_MODEL_6e0b14767c0143d3af59e6d12e178cef",
        "IPY_MODEL_c77ba4089da54a72a6883c0be85926d5",
        "IPY_MODEL_23425e10aa834d5595b8f2cfac25156e",
        "IPY_MODEL_57442a1778824b3d953b3cb3c339e807",
        "IPY_MODEL_a1f7e82233a0420b9078877fa1065bd5",
        "IPY_MODEL_bcb4d62ddc6a48cdb8086169765fbf97",
        "IPY_MODEL_4e43b45de6e84ff4961afdfb544c7ad8",
        "IPY_MODEL_bbf3f8fd6ff64daa817f69390e1c42d2",
        "IPY_MODEL_b1fad762eea24e59ba7b1bea85a363fd"
       ],
       "opened": false
      }
     },
     "822f94578e9f446094bff93742257ec7": {
      "model_module": "@jupyter-widgets/controls",
      "model_module_version": "2.0.0",
      "model_name": "ToggleButtonStyleModel",
      "state": {
       "description_width": "",
       "font_family": null,
       "font_size": null,
       "font_style": null,
       "font_variant": null,
       "font_weight": null,
       "text_color": null,
       "text_decoration": null
      }
     },
     "8245113b432b416e83d2eed1c0d8cbef": {
      "model_module": "@jupyter-widgets/controls",
      "model_module_version": "2.0.0",
      "model_name": "ToggleButtonStyleModel",
      "state": {
       "description_width": "",
       "font_family": null,
       "font_size": null,
       "font_style": null,
       "font_variant": null,
       "font_weight": null,
       "text_color": null,
       "text_decoration": null
      }
     },
     "8256a0f9a07c424f967ccc3f5110b9e7": {
      "model_module": "@jupyter-widgets/controls",
      "model_module_version": "2.0.0",
      "model_name": "ToggleButtonModel",
      "state": {
       "button_style": "primary",
       "icon": "retweet",
       "layout": "IPY_MODEL_fa847d05dff84634a7bc1e197c5ded8f",
       "style": "IPY_MODEL_735e8896ffcb4442a78ff33a8a9ef530",
       "tooltip": "Convert Earth Engine JavaScript to Python"
      }
     },
     "826a912b426146c8ae8e0052c14c0eee": {
      "model_module": "@jupyter-widgets/controls",
      "model_module_version": "2.0.0",
      "model_name": "ButtonModel",
      "state": {
       "button_style": "primary",
       "description": "import",
       "layout": "IPY_MODEL_bb425da0a7b74c7e8fe39565770eee8a",
       "style": "IPY_MODEL_bb1995cf46fd4aae93e723f681c4fa5b",
       "tooltip": "Click to import the selected asset"
      }
     },
     "82888c5c1c0b4c6584819d9934e85efa": {
      "model_module": "ipytree",
      "model_module_version": "^0.2",
      "model_name": "NodeModel",
      "state": {
       "_id": "6e6304e4-31f4-4f7c-9726-d3b8b9bd4545",
       "_model_module_version": "^0.2",
       "_view_module_version": "^0.2",
       "icon": "file",
       "name": "column_info.py"
      }
     },
     "82ca122382254783a6cdd8bb62c6f3cf": {
      "model_module": "@jupyter-widgets/base",
      "model_module_version": "2.0.0",
      "model_name": "LayoutModel",
      "state": {
       "height": "auto",
       "padding": "0px 0px 0px 4px",
       "width": "auto"
      }
     },
     "82defab18092494597791e40dddc8f70": {
      "model_module": "@jupyter-widgets/controls",
      "model_module_version": "2.0.0",
      "model_name": "VBoxModel",
      "state": {
       "children": [
        "IPY_MODEL_61c9b61a10bb48e7add1e45e38876e71",
        "IPY_MODEL_9f835fae2e224d92a235ea8735de4ab6"
       ],
       "layout": "IPY_MODEL_4c20315c410c48ff8e2e6505c029420f"
      }
     },
     "82f6f96087344e0ea08002c2d071c8d9": {
      "model_module": "@jupyter-widgets/controls",
      "model_module_version": "2.0.0",
      "model_name": "ToggleButtonStyleModel",
      "state": {
       "description_width": "",
       "font_family": null,
       "font_size": null,
       "font_style": null,
       "font_variant": null,
       "font_weight": null,
       "text_color": null,
       "text_decoration": null
      }
     },
     "8305b864436045f6b973e9b35f0b1997": {
      "model_module": "ipytree",
      "model_module_version": "^0.2",
      "model_name": "NodeModel",
      "state": {
       "_id": "a368948e-fc6b-494f-a187-bf1321994219",
       "_model_module_version": "^0.2",
       "_view_module_version": "^0.2",
       "icon": "file",
       "name": "us_census_roads.py"
      }
     },
     "831657a627ef4e8bb32883fbf6a872e4": {
      "model_module": "ipytree",
      "model_module_version": "^0.2",
      "model_name": "NodeModel",
      "state": {
       "_id": "32388d4d-52de-4155-832a-0699803beac2",
       "_model_module_version": "^0.2",
       "_view_module_version": "^0.2",
       "icon": "file",
       "name": "simplify_polygons.py"
      }
     },
     "832faf39bdbd4ab4b6f11c5339d4f7c7": {
      "model_module": "ipytree",
      "model_module_version": "^0.2",
      "model_name": "NodeModel",
      "state": {
       "_id": "62032a61-017f-4297-9741-ac827734fef1",
       "_model_module_version": "^0.2",
       "_view_module_version": "^0.2",
       "icon": "file",
       "name": "select_by_location.py"
      }
     },
     "8332f3f3f75e4e5b8e1159b5d2e81fa5": {
      "model_module": "ipytree",
      "model_module_version": "^0.2",
      "model_name": "NodeModel",
      "state": {
       "_id": "c23ede48-c845-4585-81b8-d481adb90160",
       "_model_module_version": "^0.2",
       "_view_module_version": "^0.2",
       "icon": "file",
       "name": "hydrosheds_dem.py"
      }
     },
     "8334c5c4087f4e5abc60f56573aa14a3": {
      "model_module": "@jupyter-widgets/controls",
      "model_module_version": "2.0.0",
      "model_name": "ToggleButtonStyleModel",
      "state": {
       "description_width": "",
       "font_family": null,
       "font_size": null,
       "font_style": null,
       "font_variant": null,
       "font_weight": null,
       "text_color": null,
       "text_decoration": null
      }
     },
     "837f9b69fd294411be0fe0ab1949258e": {
      "model_module": "ipytree",
      "model_module_version": "^0.2",
      "model_name": "NodeModel",
      "state": {
       "_id": "b948ecd2-c560-40cb-8032-2fefb1f808e0",
       "_model_module_version": "^0.2",
       "_view_module_version": "^0.2",
       "icon": "file",
       "name": "image_clipping.py"
      }
     },
     "839c2ae730d84d198ef571c9d9c44fc3": {
      "model_module": "ipytree",
      "model_module_version": "^0.2",
      "model_name": "NodeModel",
      "state": {
       "_id": "4add81d5-61f0-4872-b28d-d85c5f816784",
       "_model_module_version": "^0.2",
       "_view_module_version": "^0.2",
       "icon": "file",
       "name": "hillshade_and_water.py"
      }
     },
     "83c4906a2e654cdaa2fc8f90b71a536d": {
      "model_module": "@jupyter-widgets/base",
      "model_module_version": "2.0.0",
      "model_name": "LayoutModel",
      "state": {
       "height": "28px",
       "padding": "0px 0px 0px 4px",
       "width": "28px"
      }
     },
     "843f70da5f394fb2988c302c71f1adc5": {
      "model_module": "@jupyter-widgets/controls",
      "model_module_version": "2.0.0",
      "model_name": "ToggleButtonStyleModel",
      "state": {
       "description_width": "",
       "font_family": null,
       "font_size": null,
       "font_style": null,
       "font_variant": null,
       "font_weight": null,
       "text_color": null,
       "text_decoration": null
      }
     },
     "8448ab5008f140c59ea0086a2ea648d8": {
      "model_module": "ipytree",
      "model_module_version": "^0.2",
      "model_name": "NodeModel",
      "state": {
       "_id": "ac5ba353-85d5-4839-a821-323af6ed6166",
       "_model_module_version": "^0.2",
       "_view_module_version": "^0.2",
       "icon": "file",
       "name": "find_image_by_path_row.py"
      }
     },
     "8461b38fc2014c21b6d437713f408914": {
      "model_module": "ipytree",
      "model_module_version": "^0.2",
      "model_name": "NodeModel",
      "state": {
       "_id": "06d10988-0418-4749-9d6c-1e00bf0dc607",
       "_model_module_version": "^0.2",
       "_view_module_version": "^0.2",
       "icon": "file",
       "name": "column_statistics_multiple.py"
      }
     },
     "8496093b4cf24ef3b8ee5c23ba5cde60": {
      "model_module": "@jupyter-widgets/base",
      "model_module_version": "2.0.0",
      "model_name": "LayoutModel",
      "state": {
       "height": "auto",
       "padding": "0px 0px 0px 4px",
       "width": "auto"
      }
     },
     "849e373de2334ba1b5739abba26a5663": {
      "model_module": "ipytree",
      "model_module_version": "^0.2",
      "model_name": "NodeModel",
      "state": {
       "_id": "40c36464-9332-4ab3-aeb5-1faf5d61de1f",
       "_model_module_version": "^0.2",
       "_view_module_version": "^0.2",
       "icon": "file",
       "name": "glad_alert.py"
      }
     },
     "84c12bdc4b164e0895f44866fd7db1a5": {
      "model_module": "ipytree",
      "model_module_version": "^0.2",
      "model_name": "NodeModel",
      "state": {
       "_id": "01887fff-e5e1-4fba-8fb2-85782d464ed2",
       "_model_module_version": "^0.2",
       "_view_module_version": "^0.2",
       "name": "Examples",
       "nodes": [
        "IPY_MODEL_b9d960eeb4e544f3a32f8d1bfa2edc49"
       ],
       "opened": false
      }
     },
     "8526847ef516442da2ac439bd5208a46": {
      "model_module": "@jupyter-widgets/controls",
      "model_module_version": "2.0.0",
      "model_name": "ToggleButtonStyleModel",
      "state": {
       "description_width": "",
       "font_family": null,
       "font_size": null,
       "font_style": null,
       "font_variant": null,
       "font_weight": null,
       "text_color": null,
       "text_decoration": null
      }
     },
     "8529c4677fe946c594e21c67e9ee4c6f": {
      "model_module": "ipytree",
      "model_module_version": "^0.2",
      "model_name": "NodeModel",
      "state": {
       "_id": "159c7e7e-bff8-4fe9-9c69-5b7ca6d77fa9",
       "_model_module_version": "^0.2",
       "_view_module_version": "^0.2",
       "icon": "file",
       "name": "linear_fit.py"
      }
     },
     "853347be39e441198b7619dd9ab0b3ce": {
      "model_module": "@jupyter-widgets/base",
      "model_module_version": "2.0.0",
      "model_name": "LayoutModel",
      "state": {
       "height": "28px",
       "width": "72px"
      }
     },
     "855e16aa964043a7870da126be3a14e7": {
      "model_module": "@jupyter-widgets/controls",
      "model_module_version": "2.0.0",
      "model_name": "ToggleButtonModel",
      "state": {
       "button_style": "primary",
       "icon": "hand-o-up",
       "layout": "IPY_MODEL_ad38723dab2a494385e6381f3a8d4113",
       "style": "IPY_MODEL_5aa2f40db51e43179c033274424a5155",
       "tooltip": "Collect training samples"
      }
     },
     "857be8137265473aa7bf9445bedfb01c": {
      "model_module": "jupyter-leaflet",
      "model_module_version": "^0.18",
      "model_name": "LeafletWidgetControlModel",
      "state": {
       "_model_module": "jupyter-leaflet",
       "_model_module_version": "^0.18",
       "_view_count": null,
       "_view_module": "jupyter-leaflet",
       "_view_module_version": "^0.18",
       "options": [
        "position",
        "transparent_bg"
       ],
       "position": "topleft",
       "widget": "IPY_MODEL_ecd01fa8bbfd4b14b2bff2c89f1e10fa"
      }
     },
     "859b42d400c146e58e4b404470312c0f": {
      "model_module": "@jupyter-widgets/base",
      "model_module_version": "2.0.0",
      "model_name": "LayoutModel",
      "state": {
       "height": "auto",
       "padding": "0px 0px 0px 4px",
       "width": "auto"
      }
     },
     "8614a616770e40f79f7c46afc054d932": {
      "model_module": "jupyter-leaflet",
      "model_module_version": "^0.18",
      "model_name": "LeafletWidgetControlModel",
      "state": {
       "_model_module": "jupyter-leaflet",
       "_model_module_version": "^0.18",
       "_view_count": null,
       "_view_module": "jupyter-leaflet",
       "_view_module_version": "^0.18",
       "options": [
        "position",
        "transparent_bg"
       ],
       "position": "topright",
       "widget": "IPY_MODEL_791858fe772f4470ad984c64283202de"
      }
     },
     "86463b0280d449789b2550d89f39e8bd": {
      "model_module": "jupyter-leaflet",
      "model_module_version": "^0.18",
      "model_name": "LeafletTileLayerModel",
      "state": {
       "_model_module_version": "^0.18",
       "_view_module_version": "^0.18",
       "attribution": "Esri",
       "max_zoom": 24,
       "name": "Esri.WorldImagery",
       "options": [
        "attribution",
        "bounds",
        "detect_retina",
        "max_native_zoom",
        "max_zoom",
        "min_native_zoom",
        "min_zoom",
        "no_wrap",
        "tile_size",
        "tms",
        "zoom_offset"
       ],
       "url": "https://server.arcgisonline.com/ArcGIS/rest/services/World_Imagery/MapServer/tile/{z}/{y}/{x}"
      }
     },
     "86989120f760433fa3565bd117b483c3": {
      "model_module": "@jupyter-widgets/controls",
      "model_module_version": "2.0.0",
      "model_name": "ToggleButtonStyleModel",
      "state": {
       "description_width": "",
       "font_family": null,
       "font_size": null,
       "font_style": null,
       "font_variant": null,
       "font_weight": null,
       "text_color": null,
       "text_decoration": null
      }
     },
     "869906dcf2c240988bfed38b3e3dcf2e": {
      "model_module": "@jupyter-widgets/controls",
      "model_module_version": "2.0.0",
      "model_name": "HBoxModel",
      "state": {
       "children": [
        "IPY_MODEL_d73ec9876578457eb08abe93a3e6d630",
        "IPY_MODEL_41edc3c143294c7cbba44b56322464a3"
       ],
       "layout": "IPY_MODEL_0628df6bf51e44808093b57a02090095"
      }
     },
     "869bb9d4b4424e948f862f909e23d420": {
      "model_module": "@jupyter-widgets/controls",
      "model_module_version": "2.0.0",
      "model_name": "ToggleButtonStyleModel",
      "state": {
       "description_width": "",
       "font_family": null,
       "font_size": null,
       "font_style": null,
       "font_variant": null,
       "font_weight": null,
       "text_color": null,
       "text_decoration": null
      }
     },
     "86b66a0df1e9422d9cf6b74e6eea8b55": {
      "model_module": "@jupyter-widgets/controls",
      "model_module_version": "2.0.0",
      "model_name": "DescriptionStyleModel",
      "state": {
       "description_width": ""
      }
     },
     "86da033092b04920abcd9d86aa813cfd": {
      "model_module": "@jupyter-widgets/controls",
      "model_module_version": "2.0.0",
      "model_name": "DropdownModel",
      "state": {
       "index": null,
       "layout": "IPY_MODEL_61a2d47ae2d34f86899b245b8b808126",
       "style": "IPY_MODEL_a9ea1c749c0c49d888e2be7813bdc713"
      }
     },
     "872a30177c4d43d29682b670ab5647b7": {
      "model_module": "@jupyter-widgets/base",
      "model_module_version": "2.0.0",
      "model_name": "LayoutModel",
      "state": {
       "height": "28px",
       "padding": "0px 0px 0px 4px",
       "width": "28px"
      }
     },
     "875b6206709b4e98bcd127f1c1462944": {
      "model_module": "ipytree",
      "model_module_version": "^0.2",
      "model_name": "NodeModel",
      "state": {
       "_id": "f3351680-4d65-47de-b8d1-0aa919a47001",
       "_model_module_version": "^0.2",
       "_view_module_version": "^0.2",
       "icon": "file",
       "name": "join.py"
      }
     },
     "8793209cae81444ba9d904fc82af0409": {
      "model_module": "ipytree",
      "model_module_version": "^0.2",
      "model_name": "NodeModel",
      "state": {
       "_id": "70330804-32fb-4bb8-a3d8-a857925e0023",
       "_model_module_version": "^0.2",
       "_view_module_version": "^0.2",
       "icon": "file",
       "name": "column_statistics_by_group.py"
      }
     },
     "879b46568ac14cc186fc9b2eee825285": {
      "model_module": "@jupyter-widgets/controls",
      "model_module_version": "2.0.0",
      "model_name": "ToggleButtonStyleModel",
      "state": {
       "description_width": "",
       "font_family": null,
       "font_size": null,
       "font_style": null,
       "font_variant": null,
       "font_weight": null,
       "text_color": null,
       "text_decoration": null
      }
     },
     "8832026cca514e71a73ffb7a3752b99d": {
      "model_module": "@jupyter-widgets/controls",
      "model_module_version": "2.0.0",
      "model_name": "ToggleButtonStyleModel",
      "state": {
       "description_width": "",
       "font_family": null,
       "font_size": null,
       "font_style": null,
       "font_variant": null,
       "font_weight": null,
       "text_color": null,
       "text_decoration": null
      }
     },
     "8847492f6c68465c9b147a95e7652865": {
      "model_module": "ipytree",
      "model_module_version": "^0.2",
      "model_name": "NodeModel",
      "state": {
       "_id": "33ab0525-a117-4267-9ed3-5abe0788abdf",
       "_model_module_version": "^0.2",
       "_view_module_version": "^0.2",
       "icon": "file",
       "name": "get_band_name_and_type.py"
      }
     },
     "8887977a9cbe46f5afd0ff2ba1f409ef": {
      "model_module": "@jupyter-widgets/base",
      "model_module_version": "2.0.0",
      "model_name": "LayoutModel",
      "state": {}
     },
     "8899cb1094794f2880f7558d0883ca3e": {
      "model_module": "@jupyter-widgets/controls",
      "model_module_version": "2.0.0",
      "model_name": "ToggleButtonStyleModel",
      "state": {
       "description_width": "",
       "font_family": null,
       "font_size": null,
       "font_style": null,
       "font_variant": null,
       "font_weight": null,
       "text_color": null,
       "text_decoration": null
      }
     },
     "88abae8516494737a7d13a13eece9e26": {
      "model_module": "ipytree",
      "model_module_version": "^0.2",
      "model_name": "NodeModel",
      "state": {
       "_id": "0fef7259-0eb8-4eec-be45-0f876931feb8",
       "_model_module_version": "^0.2",
       "_view_module_version": "^0.2",
       "icon": "file",
       "name": "select_image_by_index.py"
      }
     },
     "88e03e6428364851817597b168218b1d": {
      "model_module": "@jupyter-widgets/controls",
      "model_module_version": "2.0.0",
      "model_name": "ButtonStyleModel",
      "state": {
       "font_family": null,
       "font_size": null,
       "font_style": null,
       "font_variant": null,
       "font_weight": null,
       "text_color": null,
       "text_decoration": null
      }
     },
     "88e1a6c258f64d508090eb1cccd062e0": {
      "model_module": "ipytree",
      "model_module_version": "^0.2",
      "model_name": "NodeModel",
      "state": {
       "_id": "af835286-532e-4ed1-a32f-78f163759c33",
       "_model_module_version": "^0.2",
       "_view_module_version": "^0.2",
       "icon": "file",
       "name": "us_census_blocks.py"
      }
     },
     "88e58148c7e3422aa8bb8e9be3fcb4bd": {
      "model_module": "ipytree",
      "model_module_version": "^0.2",
      "model_name": "NodeModel",
      "state": {
       "_id": "84fe927b-6aa2-4cf0-993c-63b08f38eab6",
       "_model_module_version": "^0.2",
       "_view_module_version": "^0.2",
       "icon": "file",
       "name": "sentinel-1_filtering.py"
      }
     },
     "893db387f58d42d293301e737f5c264a": {
      "model_module": "@jupyter-widgets/base",
      "model_module_version": "2.0.0",
      "model_name": "LayoutModel",
      "state": {
       "height": "28px",
       "padding": "0px 0px 0px 4px",
       "width": "28px"
      }
     },
     "895988af75624a349d1c73e70ef62ef9": {
      "model_module": "ipytree",
      "model_module_version": "^0.2",
      "model_name": "NodeModel",
      "state": {
       "_id": "0e1a2f99-7866-414d-8982-cf3cc305df96",
       "_model_module_version": "^0.2",
       "_view_module_version": "^0.2",
       "icon": "file",
       "name": "usgs_nlcd.py"
      }
     },
     "8961f883ba3f4f2db1707848d93fe19b": {
      "model_module": "ipytree",
      "model_module_version": "^0.2",
      "model_name": "NodeModel",
      "state": {
       "_id": "93a19d4d-7c87-41e4-874b-a73832940507",
       "_model_module_version": "^0.2",
       "_view_module_version": "^0.2",
       "icon": "file",
       "name": "minimum_bounding_geometry.py"
      }
     },
     "8973da4f720945ffb4b33691c9b58b2f": {
      "model_module": "ipytree",
      "model_module_version": "^0.2",
      "model_name": "NodeModel",
      "state": {
       "_id": "f636f2d8-e0b1-4dc1-bd87-613f2a396c60",
       "_model_module_version": "^0.2",
       "_view_module_version": "^0.2",
       "icon": "file",
       "name": "test_sentinel2.py"
      }
     },
     "898992a500bb40c2989bb4372c7b1170": {
      "model_module": "ipytree",
      "model_module_version": "^0.2",
      "model_name": "NodeModel",
      "state": {
       "_id": "977f9f8e-eb95-4807-ac38-24590661fe3f",
       "_model_module_version": "^0.2",
       "_view_module_version": "^0.2",
       "icon": "file",
       "name": "sort_by_cloud_and_date.py"
      }
     },
     "899ba498885041eeaf233fb22e51886e": {
      "model_module": "@jupyter-widgets/controls",
      "model_module_version": "2.0.0",
      "model_name": "DropdownModel",
      "state": {
       "_options_labels": [
        "OpenStreetMap",
        "Esri.WorldStreetMap",
        "Esri.WorldImagery",
        "Esri.WorldTopoMap",
        "FWS NWI Wetlands",
        "FWS NWI Wetlands Raster",
        "NLCD 2021 CONUS Land Cover",
        "NLCD 2019 CONUS Land Cover",
        "NLCD 2016 CONUS Land Cover",
        "NLCD 2013 CONUS Land Cover",
        "NLCD 2011 CONUS Land Cover",
        "NLCD 2008 CONUS Land Cover",
        "NLCD 2006 CONUS Land Cover",
        "NLCD 2004 CONUS Land Cover",
        "NLCD 2001 CONUS Land Cover",
        "USGS NAIP Imagery",
        "USGS NAIP Imagery False Color",
        "USGS NAIP Imagery NDVI",
        "USGS Hydrography",
        "USGS 3DEP Elevation",
        "ESA Worldcover 2020",
        "ESA Worldcover 2020 S2 FCC",
        "ESA Worldcover 2020 S2 TCC",
        "ESA Worldcover 2021",
        "ESA Worldcover 2021 S2 FCC",
        "ESA Worldcover 2021 S2 TCC",
        "BasemapAT.basemap",
        "BasemapAT.grau",
        "BasemapAT.highdpi",
        "BasemapAT.orthofoto",
        "BasemapAT.overlay",
        "BasemapAT.surface",
        "BasemapAT.terrain",
        "CartoDB.DarkMatter",
        "CartoDB.DarkMatterNoLabels",
        "CartoDB.DarkMatterOnlyLabels",
        "CartoDB.Positron",
        "CartoDB.PositronNoLabels",
        "CartoDB.PositronOnlyLabels",
        "CartoDB.Voyager",
        "CartoDB.VoyagerLabelsUnder",
        "CartoDB.VoyagerNoLabels",
        "CartoDB.VoyagerOnlyLabels",
        "CyclOSM",
        "Esri.AntarcticBasemap",
        "Esri.AntarcticImagery",
        "Esri.ArcticImagery",
        "Esri.ArcticOceanBase",
        "Esri.ArcticOceanReference",
        "Esri.DeLorme",
        "Esri.NatGeoWorldMap",
        "Esri.OceanBasemap",
        "Esri.WorldGrayCanvas",
        "Esri.WorldPhysical",
        "Esri.WorldShadedRelief",
        "Esri.WorldTerrain",
        "FreeMapSK",
        "Gaode.Normal",
        "Gaode.Satellite",
        "HikeBike.HikeBike",
        "HikeBike.HillShading",
        "JusticeMap.americanIndian",
        "JusticeMap.asian",
        "JusticeMap.black",
        "JusticeMap.hispanic",
        "JusticeMap.income",
        "JusticeMap.multi",
        "JusticeMap.nonWhite",
        "JusticeMap.plurality",
        "JusticeMap.white",
        "MtbMap",
        "NASAGIBS.ASTER_GDEM_Greyscale_Shaded_Relief",
        "NASAGIBS.BlueMarble",
        "NASAGIBS.BlueMarble3031",
        "NASAGIBS.BlueMarble3413",
        "NASAGIBS.ModisAquaBands721CR",
        "NASAGIBS.ModisAquaTrueColorCR",
        "NASAGIBS.ModisTerraAOD",
        "NASAGIBS.ModisTerraBands367CR",
        "NASAGIBS.ModisTerraBands721CR",
        "NASAGIBS.ModisTerraChlorophyll",
        "NASAGIBS.ModisTerraLSTDay",
        "NASAGIBS.ModisTerraSnowCover",
        "NASAGIBS.ModisTerraTrueColorCR",
        "NASAGIBS.ViirsEarthAtNight2012",
        "NASAGIBS.ViirsTrueColorCR",
        "NLS",
        "OPNVKarte",
        "OneMapSG.Default",
        "OneMapSG.Grey",
        "OneMapSG.LandLot",
        "OneMapSG.Night",
        "OneMapSG.Original",
        "OpenAIP",
        "OpenFireMap",
        "OpenRailwayMap",
        "OpenSeaMap",
        "OpenSnowMap.pistes",
        "OpenStreetMap.BZH",
        "OpenStreetMap.BlackAndWhite",
        "OpenStreetMap.CH",
        "OpenStreetMap.DE",
        "OpenStreetMap.HOT",
        "OpenStreetMap.Mapnik",
        "OpenTopoMap",
        "SafeCast",
        "Stadia.AlidadeSmooth",
        "Stadia.AlidadeSmoothDark",
        "Stadia.OSMBright",
        "Stadia.Outdoors",
        "Stadia.StamenTerrain",
        "Stadia.StamenTerrainBackground",
        "Stadia.StamenTerrainLabels",
        "Stadia.StamenTerrainLines",
        "Stadia.StamenToner",
        "Stadia.StamenTonerBackground",
        "Stadia.StamenTonerLabels",
        "Stadia.StamenTonerLines",
        "Stadia.StamenTonerLite",
        "Stadia.StamenWatercolor",
        "Strava.All",
        "Strava.Ride",
        "Strava.Run",
        "Strava.Water",
        "Strava.Winter",
        "SwissFederalGeoportal.JourneyThroughTime",
        "SwissFederalGeoportal.NationalMapColor",
        "SwissFederalGeoportal.NationalMapGrey",
        "SwissFederalGeoportal.SWISSIMAGE",
        "USGS.USImagery",
        "USGS.USImageryTopo",
        "USGS.USTopo",
        "WaymarkedTrails.cycling",
        "WaymarkedTrails.hiking",
        "WaymarkedTrails.mtb",
        "WaymarkedTrails.riding",
        "WaymarkedTrails.skating",
        "WaymarkedTrails.slopes",
        "nlmaps.grijs",
        "nlmaps.luchtfoto",
        "nlmaps.pastel",
        "nlmaps.standaard",
        "nlmaps.water"
       ],
       "index": 3,
       "layout": "IPY_MODEL_7ec4dac2dacb4168abbc9ca46b247cfe",
       "style": "IPY_MODEL_0bf691b4cafa474c85ca572c28b9d1d5"
      }
     },
     "899cbbf1eeed4162b5695231c68e9caf": {
      "model_module": "@jupyter-widgets/controls",
      "model_module_version": "2.0.0",
      "model_name": "ToggleButtonModel",
      "state": {
       "button_style": "primary",
       "icon": "bar-chart",
       "layout": "IPY_MODEL_5ff5340576be4dafa2c6dcc16980d5e1",
       "style": "IPY_MODEL_62afb4290519488b993048463f6f3db5",
       "tooltip": "Plotting"
      }
     },
     "89ac719ff2ad4d69af6f00776ce48283": {
      "model_module": "@jupyter-widgets/controls",
      "model_module_version": "2.0.0",
      "model_name": "ToggleButtonStyleModel",
      "state": {
       "description_width": "",
       "font_family": null,
       "font_size": null,
       "font_style": null,
       "font_variant": null,
       "font_weight": null,
       "text_color": null,
       "text_decoration": null
      }
     },
     "89b34d1f5b464147a43417d544aec7d9": {
      "model_module": "ipytree",
      "model_module_version": "^0.2",
      "model_name": "NodeModel",
      "state": {
       "_id": "c8fc1cb2-1124-40d0-bb91-5d691ee665ab",
       "_model_module_version": "^0.2",
       "_view_module_version": "^0.2",
       "icon": "file",
       "name": "remove_colors.py"
      }
     },
     "8a31fe7fa5564c8b9e9dcf4e7e070178": {
      "model_module": "@jupyter-widgets/controls",
      "model_module_version": "2.0.0",
      "model_name": "TextModel",
      "state": {
       "layout": "IPY_MODEL_e50ee3419d6149ed84bf466f8f2b21e7",
       "placeholder": "Search by place name or address",
       "style": "IPY_MODEL_904f34f3a16e40a0a1df066f0848e6ce",
       "tooltip": "Search location"
      }
     },
     "8a4a48a72a134ecf8d508092098c981d": {
      "model_module": "@jupyter-widgets/controls",
      "model_module_version": "2.0.0",
      "model_name": "ButtonModel",
      "state": {
       "button_style": "primary",
       "description": "Clone",
       "layout": "IPY_MODEL_4b0b350ff43041a5beda54d3e9ff0f2c",
       "style": "IPY_MODEL_c6d037b0171f4d19b9947ab51e058f82",
       "tooltip": "Clone the repository to folder."
      }
     },
     "8a732cb67e9a49b2bf1ddfbf8a4d4f95": {
      "model_module": "@jupyter-widgets/controls",
      "model_module_version": "2.0.0",
      "model_name": "HBoxModel",
      "state": {
       "children": [
        "IPY_MODEL_3c02e8dcf62b4573ac0f420d0878cf5e",
        "IPY_MODEL_98a17921fe4345e282a7330e0b7d6178"
       ],
       "layout": "IPY_MODEL_2711b4dcddd8403e807ba4fa6c5a23e7"
      }
     },
     "8ac3aefda687422b8924bce3c1dfdf8b": {
      "model_module": "@jupyter-widgets/base",
      "model_module_version": "2.0.0",
      "model_name": "LayoutModel",
      "state": {
       "max_height": "350px",
       "max_width": "340px",
       "overflow": "scroll"
      }
     },
     "8b056e84aaf948efb743cfa688c81c34": {
      "model_module": "ipytree",
      "model_module_version": "^0.2",
      "model_name": "NodeModel",
      "state": {
       "_id": "03b56318-8029-40f2-9fdb-a41fee28c2a0",
       "_model_module_version": "^0.2",
       "_view_module_version": "^0.2",
       "icon": "file",
       "name": "column_statistics_multiple.py"
      }
     },
     "8b1ed9f8d2ad4b24b75d9b202d0f5c49": {
      "model_module": "@jupyter-widgets/controls",
      "model_module_version": "2.0.0",
      "model_name": "ToggleButtonModel",
      "state": {
       "button_style": "primary",
       "icon": "globe",
       "layout": "IPY_MODEL_06a9169792794ffbbda769a98e8ef665",
       "style": "IPY_MODEL_0f7755441319477a9a389d48ee59cc7e",
       "tooltip": "Create timelapse"
      }
     },
     "8b3c3e16d72749df82fe55e99aa4457b": {
      "model_module": "ipytree",
      "model_module_version": "^0.2",
      "model_name": "NodeModel",
      "state": {
       "_id": "3bb5bccc-3515-4cea-85da-46aaff310a84",
       "_model_module_version": "^0.2",
       "_view_module_version": "^0.2",
       "icon": "file",
       "name": "image_vis.py"
      }
     },
     "8b42190eeba54517aaddc5f8571cad28": {
      "model_module": "@jupyter-widgets/base",
      "model_module_version": "2.0.0",
      "model_name": "LayoutModel",
      "state": {
       "height": "auto",
       "padding": "0px 0px 0px 4px",
       "width": "auto"
      }
     },
     "8b7fcafcfb0240e7bfa608f9bcc70b57": {
      "model_module": "@jupyter-widgets/controls",
      "model_module_version": "2.0.0",
      "model_name": "ToggleButtonModel",
      "state": {
       "button_style": "primary",
       "icon": "random",
       "layout": "IPY_MODEL_dbcd3f18b9184927b459dd8eb96d3ec4",
       "style": "IPY_MODEL_ac34d4dd79e94b0a9d8150a067acc0aa",
       "tooltip": "Sankey plots"
      }
     },
     "8bdde5e49cb24091b9b1a2067f521036": {
      "model_module": "ipytree",
      "model_module_version": "^0.2",
      "model_name": "NodeModel",
      "state": {
       "_id": "7f90a52e-244b-4137-b06c-c9dc289fd6c7",
       "_model_module_version": "^0.2",
       "_view_module_version": "^0.2",
       "icon": "file",
       "name": "count_features.py"
      }
     },
     "8bde9521fced4876b42588f63058fe64": {
      "model_module": "ipytree",
      "model_module_version": "^0.2",
      "model_name": "NodeModel",
      "state": {
       "_id": "6f620a0f-f8b6-4e42-81ef-847d36683eb1",
       "_model_module_version": "^0.2",
       "_view_module_version": "^0.2",
       "icon": "file",
       "name": "edge_detection.py"
      }
     },
     "8c3db24fe0b448c28f413222356efa40": {
      "model_module": "@jupyter-widgets/base",
      "model_module_version": "2.0.0",
      "model_name": "LayoutModel",
      "state": {
       "height": "28px",
       "width": "72px"
      }
     },
     "8c967cedf399485ea4c683a793fdc46f": {
      "model_module": "@jupyter-widgets/base",
      "model_module_version": "2.0.0",
      "model_name": "LayoutModel",
      "state": {
       "height": "auto",
       "padding": "0px 0px 0px 4px",
       "width": "auto"
      }
     },
     "8c97340460c24b688f0f31c867dcae82": {
      "model_module": "@jupyter-widgets/controls",
      "model_module_version": "2.0.0",
      "model_name": "ToggleButtonModel",
      "state": {
       "button_style": "primary",
       "icon": "random",
       "layout": "IPY_MODEL_3c5256b7db7048d6b277f7e3dde4df95",
       "style": "IPY_MODEL_4281799217534af7bbae7b828a2712b1",
       "tooltip": "Sankey plots"
      }
     },
     "8ca0fcdd0d7a4ff985a1a2c5e57525c2": {
      "model_module": "ipytree",
      "model_module_version": "^0.2",
      "model_name": "NodeModel",
      "state": {
       "_id": "ce831e1a-3be3-4212-a946-93718056b8eb",
       "_model_module_version": "^0.2",
       "_view_module_version": "^0.2",
       "icon": "file",
       "name": "reverse_mask.py"
      }
     },
     "8ca765b6633d4da693875a268782ead2": {
      "model_module": "@jupyter-widgets/controls",
      "model_module_version": "2.0.0",
      "model_name": "HTMLStyleModel",
      "state": {
       "description_width": "",
       "font_size": null,
       "text_color": null
      }
     },
     "8cbda37e028d48cab157c53bac45adb8": {
      "model_module": "@jupyter-widgets/base",
      "model_module_version": "2.0.0",
      "model_name": "LayoutModel",
      "state": {}
     },
     "8cd062e74488438695a35dc796998214": {
      "model_module": "@jupyter-widgets/base",
      "model_module_version": "2.0.0",
      "model_name": "LayoutModel",
      "state": {
       "grid_gap": "1px 1px",
       "grid_template_columns": "32px 32px 32px ",
       "grid_template_rows": "32px 32px ",
       "padding": "5px",
       "width": "109px"
      }
     },
     "8cec2590c71542bebb1a156c08d54a1e": {
      "model_module": "@jupyter-widgets/controls",
      "model_module_version": "2.0.0",
      "model_name": "ToggleButtonStyleModel",
      "state": {
       "description_width": "",
       "font_family": null,
       "font_size": null,
       "font_style": null,
       "font_variant": null,
       "font_weight": null,
       "text_color": null,
       "text_decoration": null
      }
     },
     "8d079bc4b4e04c79aba7b3554545f72b": {
      "model_module": "ipytree",
      "model_module_version": "^0.2",
      "model_name": "NodeModel",
      "state": {
       "_id": "de22096c-5ed9-4edf-a5a8-1f19213460aa",
       "_model_module_version": "^0.2",
       "_view_module_version": "^0.2",
       "icon": "file",
       "name": "07_image_statistics.py"
      }
     },
     "8d0b9f7e17524db2af71618464d663c0": {
      "model_module": "jupyter-leaflet",
      "model_module_version": "^0.18",
      "model_name": "LeafletAttributionControlModel",
      "state": {
       "_model_module_version": "^0.18",
       "_view_module_version": "^0.18",
       "options": [
        "position",
        "prefix"
       ],
       "position": "bottomright",
       "prefix": "ipyleaflet"
      }
     },
     "8d1619aca85d47868010d6cff300e019": {
      "model_module": "@jupyter-widgets/base",
      "model_module_version": "2.0.0",
      "model_name": "LayoutModel",
      "state": {
       "height": "auto",
       "padding": "0px 0px 0px 4px",
       "width": "auto"
      }
     },
     "8d6b4b40108d474eab73529d12ec3de9": {
      "model_module": "@jupyter-widgets/base",
      "model_module_version": "2.0.0",
      "model_name": "LayoutModel",
      "state": {
       "grid_gap": "1px 1px",
       "grid_template_columns": "32px 32px 32px ",
       "grid_template_rows": "32px 32px 32px 32px 32px 32px ",
       "padding": "5px",
       "width": "109px"
      }
     },
     "8d91467d49c4465ab2bb06bb8468336c": {
      "model_module": "ipytree",
      "model_module_version": "^0.2",
      "model_name": "NodeModel",
      "state": {
       "_id": "7840eb66-5fa4-4f21-97d2-b250111904f9",
       "_model_module_version": "^0.2",
       "_view_module_version": "^0.2",
       "icon": "file",
       "name": "connected_pixel_count.py"
      }
     },
     "8dba5f57df374ef68b1335d0aa8167f0": {
      "model_module": "@jupyter-widgets/base",
      "model_module_version": "2.0.0",
      "model_name": "LayoutModel",
      "state": {
       "max_width": "57px",
       "min_width": "57px"
      }
     },
     "8e221c5982884679988837dbc1b43bdf": {
      "model_module": "ipytree",
      "model_module_version": "^0.2",
      "model_name": "NodeModel",
      "state": {
       "_id": "076b1a2a-688a-45a4-a1dc-88c51f94da03",
       "_model_module_version": "^0.2",
       "_view_module_version": "^0.2",
       "icon": "file",
       "name": "select_by_location.py"
      }
     },
     "8e27fe407edd46d6b9a47900b2ad02b1": {
      "model_module": "jupyter-leaflet",
      "model_module_version": "^0.18",
      "model_name": "LeafletZoomControlModel",
      "state": {
       "_model_module_version": "^0.18",
       "_view_module_version": "^0.18",
       "options": [
        "position",
        "zoom_in_text",
        "zoom_in_title",
        "zoom_out_text",
        "zoom_out_title"
       ]
      }
     },
     "8e496de3691a4f22b1a4e8145ecd6ff9": {
      "model_module": "ipytree",
      "model_module_version": "^0.2",
      "model_name": "NodeModel",
      "state": {
       "_id": "53046912-38bf-4a45-bea7-c59a3eade7de",
       "_model_module_version": "^0.2",
       "_view_module_version": "^0.2",
       "icon": "file",
       "name": "add_random_value_column.py"
      }
     },
     "8e4c9a943afa4038b3118b545eb291e1": {
      "model_module": "ipytree",
      "model_module_version": "^0.2",
      "model_name": "NodeModel",
      "state": {
       "_id": "718fd77f-7da5-49d6-b6f4-55f814e86e17",
       "_model_module_version": "^0.2",
       "_view_module_version": "^0.2",
       "icon": "file",
       "name": "expression_map.py"
      }
     },
     "8e618825c7d44fd78989cc0be0103042": {
      "model_module": "jupyter-leaflet",
      "model_module_version": "^0.18",
      "model_name": "LeafletSplitMapControlModel",
      "state": {
       "_model_module_version": "^0.18",
       "_model_name": "LeafletSplitMapControlModel",
       "_view_module_version": "^0.18",
       "_view_name": "LeafletSplitMapControlView",
       "left_layer": "IPY_MODEL_2158a3ed596648a3a98aad33e7c9f6ea",
       "options": [
        "position"
       ],
       "right_layer": "IPY_MODEL_b88adb1761a84012bf24caa2398e9dee"
      }
     },
     "8e9de87b2b2a466fbb641d4911756d98": {
      "model_module": "ipytree",
      "model_module_version": "^0.2",
      "model_name": "NodeModel",
      "state": {
       "_id": "70fb9648-67fe-484d-81c1-af7ef144432e",
       "_model_module_version": "^0.2",
       "_view_module_version": "^0.2",
       "icon": "file",
       "name": "export_FeatureCollection.py"
      }
     },
     "8ec705bd975845aea6fa4f4b8e5aa49f": {
      "model_module": "@jupyter-widgets/base",
      "model_module_version": "2.0.0",
      "model_name": "LayoutModel",
      "state": {
       "height": "auto",
       "padding": "0px 0px 0px 4px",
       "width": "auto"
      }
     },
     "8ef942c0b4824f7087c39fae1d5c79dc": {
      "model_module": "ipytree",
      "model_module_version": "^0.2",
      "model_name": "NodeModel",
      "state": {
       "_id": "acbcbd53-f76a-43e4-8acc-8fe0362834eb",
       "_model_module_version": "^0.2",
       "_view_module_version": "^0.2",
       "icon": "file",
       "name": "srtm.py"
      }
     },
     "8f914f7f5463408994bb2d3112dd5bca": {
      "model_module": "@jupyter-widgets/base",
      "model_module_version": "2.0.0",
      "model_name": "LayoutModel",
      "state": {
       "height": "auto",
       "padding": "0px 0px 0px 4px",
       "width": "auto"
      }
     },
     "8f9b1b5713ee47d1a321db94fb582bf9": {
      "model_module": "@jupyter-widgets/controls",
      "model_module_version": "2.0.0",
      "model_name": "ButtonStyleModel",
      "state": {
       "font_family": null,
       "font_size": null,
       "font_style": null,
       "font_variant": null,
       "font_weight": null,
       "text_color": null,
       "text_decoration": null
      }
     },
     "8fcb769db7b14eb3bffadb196c3622a5": {
      "model_module": "ipytree",
      "model_module_version": "^0.2",
      "model_name": "NodeModel",
      "state": {
       "_id": "e5e544b2-a83c-4fb8-b85d-58291006edde",
       "_model_module_version": "^0.2",
       "_view_module_version": "^0.2",
       "icon": "file",
       "name": "join.py"
      }
     },
     "8fcf3cadb4bb450fa47746832004cd19": {
      "model_module": "@jupyter-widgets/controls",
      "model_module_version": "2.0.0",
      "model_name": "ToggleButtonModel",
      "state": {
       "icon": "times",
       "layout": "IPY_MODEL_872a30177c4d43d29682b670ab5647b7",
       "style": "IPY_MODEL_acc2bb5ddbd14f7d8d304e0e6d45cc07",
       "tooltip": "Close split-panel map"
      }
     },
     "8fd814c10497491289035cad6995eb8b": {
      "model_module": "jupyter-leaflet",
      "model_module_version": "^0.18",
      "model_name": "LeafletMeasureControlModel",
      "state": {
       "_model_module_version": "^0.18",
       "_view_module_version": "^0.18",
       "active_color": "orange",
       "options": [
        "active_color",
        "capture_z_index",
        "completed_color",
        "popup_options",
        "position",
        "primary_area_unit",
        "primary_length_unit",
        "secondary_area_unit",
        "secondary_length_unit"
       ],
       "position": "bottomleft",
       "primary_length_unit": "kilometers",
       "secondary_area_unit": null,
       "secondary_length_unit": null
      }
     },
     "8fdbb5c2dbe947a79e35911ec55d8442": {
      "model_module": "ipytree",
      "model_module_version": "^0.2",
      "model_name": "NodeModel",
      "state": {
       "_id": "759d0b80-6601-4edd-81e1-52459f64658b",
       "_model_module_version": "^0.2",
       "_view_module_version": "^0.2",
       "icon": "file",
       "name": "texture.py"
      }
     },
     "8fe41334143c498989d0f023eed9196e": {
      "model_module": "ipytree",
      "model_module_version": "^0.2",
      "model_name": "NodeModel",
      "state": {
       "_id": "e29c4423-d4d2-492a-abd7-920a4bc6aad3",
       "_model_module_version": "^0.2",
       "_view_module_version": "^0.2",
       "icon": "file",
       "name": "landsat_surface_reflectance.py"
      }
     },
     "9042ba74401746f49b074ce6f204fe84": {
      "model_module": "@jupyter-widgets/base",
      "model_module_version": "2.0.0",
      "model_name": "LayoutModel",
      "state": {
       "grid_gap": "1px 1px",
       "grid_template_columns": "32px 32px 32px ",
       "grid_template_rows": "32px 32px ",
       "padding": "5px",
       "width": "109px"
      }
     },
     "9044bd7e0ea84228b4edb8f2637112cc": {
      "model_module": "@jupyter-widgets/base",
      "model_module_version": "2.0.0",
      "model_name": "LayoutModel",
      "state": {
       "height": "auto",
       "padding": "0px 0px 0px 4px",
       "width": "auto"
      }
     },
     "90450d5f881e4d64893674e2a70c52a5": {
      "model_module": "ipytree",
      "model_module_version": "^0.2",
      "model_name": "NodeModel",
      "state": {
       "_id": "93bf695b-c387-49dc-8cb0-c946549991e0",
       "_model_module_version": "^0.2",
       "_view_module_version": "^0.2",
       "icon": "file",
       "name": "global_land_ice_measurements.py"
      }
     },
     "904f34f3a16e40a0a1df066f0848e6ce": {
      "model_module": "@jupyter-widgets/controls",
      "model_module_version": "2.0.0",
      "model_name": "TextStyleModel",
      "state": {
       "description_width": "",
       "font_size": null,
       "text_color": null
      }
     },
     "9072c6ae613642328531d64bb908e5aa": {
      "model_module": "@jupyter-widgets/base",
      "model_module_version": "2.0.0",
      "model_name": "LayoutModel",
      "state": {}
     },
     "9092c30c369d4e0782e091d39851b5d8": {
      "model_module": "@jupyter-widgets/base",
      "model_module_version": "2.0.0",
      "model_name": "LayoutModel",
      "state": {
       "width": "310px"
      }
     },
     "909395b3cf594f5f8a8ce413996257a7": {
      "model_module": "ipytree",
      "model_module_version": "^0.2",
      "model_name": "NodeModel",
      "state": {
       "_id": "97fe7849-0332-41a4-beea-06e803bd22f2",
       "_model_module_version": "^0.2",
       "_view_module_version": "^0.2",
       "icon": "file",
       "name": "quality_mosaic.py"
      }
     },
     "90ce947080704e5eaf9a127770e3da07": {
      "model_module": "@jupyter-widgets/controls",
      "model_module_version": "2.0.0",
      "model_name": "ToggleButtonStyleModel",
      "state": {
       "description_width": "",
       "font_family": null,
       "font_size": null,
       "font_style": null,
       "font_variant": null,
       "font_weight": null,
       "text_color": null,
       "text_decoration": null
      }
     },
     "90fc5173a99e47788fe88f2be3697c6e": {
      "model_module": "@jupyter-widgets/controls",
      "model_module_version": "2.0.0",
      "model_name": "ToggleButtonStyleModel",
      "state": {
       "description_width": "",
       "font_family": null,
       "font_size": null,
       "font_style": null,
       "font_variant": null,
       "font_weight": null,
       "text_color": null,
       "text_decoration": null
      }
     },
     "9134e17d78f2497cbf2971f7f471294f": {
      "model_module": "@jupyter-widgets/controls",
      "model_module_version": "2.0.0",
      "model_name": "VBoxModel",
      "state": {
       "_dom_classes": [
        "geemap-light"
       ],
       "_view_count": 1,
       "children": [
        "IPY_MODEL_9d5a9ffe804b425cae18c97fdbde50e8"
       ],
       "layout": "IPY_MODEL_74ff6c0638244554aba549bee270d092"
      }
     },
     "914513db1ba94092be13655ab96e86b2": {
      "model_module": "ipytree",
      "model_module_version": "^0.2",
      "model_name": "NodeModel",
      "state": {
       "_id": "f40b7f5f-d81b-4af1-8138-837d9aafe74d",
       "_model_module_version": "^0.2",
       "_view_module_version": "^0.2",
       "icon": "file",
       "name": "modis_surface_reflectance_qa_band.py"
      }
     },
     "915ef94a95c14f349054988d03941ae7": {
      "model_module": "ipytree",
      "model_module_version": "^0.2",
      "model_name": "NodeModel",
      "state": {
       "_id": "2c315993-f87c-49d1-8208-62d18782eae2",
       "_model_module_version": "^0.2",
       "_view_module_version": "^0.2",
       "icon": "file",
       "name": "decorrelation_stretch.py"
      }
     },
     "91a6f665b0064b06950c51c4f5a7728b": {
      "model_module": "ipytree",
      "model_module_version": "^0.2",
      "model_name": "NodeModel",
      "state": {
       "_id": "e5decd0f-5ae7-4ea6-9769-6fb358a3c1c9",
       "_model_module_version": "^0.2",
       "_view_module_version": "^0.2",
       "icon": "file",
       "name": "count_features.py"
      }
     },
     "9218a55cb68247b7a1c8eaa28a998461": {
      "model_module": "ipytree",
      "model_module_version": "^0.2",
      "model_name": "NodeModel",
      "state": {
       "_id": "19550398-b9bb-438c-9599-4db061c2eb23",
       "_model_module_version": "^0.2",
       "_view_module_version": "^0.2",
       "icon": "file",
       "name": "us_counties.py"
      }
     },
     "922f49c587a9417293aecc9da714ea84": {
      "model_module": "jupyter-leaflet",
      "model_module_version": "^0.18",
      "model_name": "LeafletMapStyleModel",
      "state": {
       "_model_module_version": "^0.18"
      }
     },
     "924898ae4d1a497cbe2650414a90c23b": {
      "model_module": "@jupyter-widgets/controls",
      "model_module_version": "2.0.0",
      "model_name": "TextStyleModel",
      "state": {
       "description_width": "",
       "font_size": null,
       "text_color": null
      }
     },
     "929de0b68ffe4e139cd2c25048865991": {
      "model_module": "jupyter-leaflet",
      "model_module_version": "^0.18",
      "model_name": "LeafletZoomControlModel",
      "state": {
       "_model_module_version": "^0.18",
       "_view_module_version": "^0.18",
       "options": [
        "position",
        "zoom_in_text",
        "zoom_in_title",
        "zoom_out_text",
        "zoom_out_title"
       ]
      }
     },
     "92b61fd6550142099f8d3f3b7f111da0": {
      "model_module": "@jupyter-widgets/controls",
      "model_module_version": "2.0.0",
      "model_name": "ButtonStyleModel",
      "state": {
       "font_family": null,
       "font_size": null,
       "font_style": null,
       "font_variant": null,
       "font_weight": null,
       "text_color": null,
       "text_decoration": null
      }
     },
     "931e6423b59b4cdab9ba3148e021d071": {
      "model_module": "ipytree",
      "model_module_version": "^0.2",
      "model_name": "NodeModel",
      "state": {
       "_id": "df0fc986-d9e4-4d75-8e78-faa74b129643",
       "_model_module_version": "^0.2",
       "_view_module_version": "^0.2",
       "icon": "file",
       "name": "set_properties.py"
      }
     },
     "932daf74e81b4d5395caca163f69a8db": {
      "model_module": "@jupyter-widgets/base",
      "model_module_version": "2.0.0",
      "model_name": "LayoutModel",
      "state": {
       "height": "auto",
       "padding": "0px 0px 0px 4px",
       "width": "auto"
      }
     },
     "935a45c5d94b47178b3ee432dd2f0505": {
      "model_module": "@jupyter-widgets/controls",
      "model_module_version": "2.0.0",
      "model_name": "ToggleButtonStyleModel",
      "state": {
       "description_width": "",
       "font_family": null,
       "font_size": null,
       "font_style": null,
       "font_variant": null,
       "font_weight": null,
       "text_color": null,
       "text_decoration": null
      }
     },
     "93a2928464a345cb9d62b9589c05396b": {
      "model_module": "ipytree",
      "model_module_version": "^0.2",
      "model_name": "NodeModel",
      "state": {
       "_id": "c306f4eb-6b10-4446-b003-3e58e60f00ee",
       "_model_module_version": "^0.2",
       "_view_module_version": "^0.2",
       "icon": "file",
       "name": "us_ned_physio_diversity.py"
      }
     },
     "93bc872540324864b4892c8012136fc7": {
      "model_module": "jupyter-leaflet",
      "model_module_version": "^0.18",
      "model_name": "LeafletScaleControlModel",
      "state": {
       "_model_module_version": "^0.18",
       "_view_module_version": "^0.18",
       "imperial": true,
       "max_width": 100,
       "metric": true,
       "options": [
        "imperial",
        "max_width",
        "metric",
        "position",
        "update_when_idle"
       ],
       "position": "bottomleft",
       "update_when_idle": false
      }
     },
     "93c05ed759b34917a546e6c716377e37": {
      "model_module": "@jupyter-widgets/base",
      "model_module_version": "2.0.0",
      "model_name": "LayoutModel",
      "state": {
       "height": "28px",
       "padding": "0px 0px 0px 4px",
       "width": "28px"
      }
     },
     "93d15f3e14e842a791803175d8bc0c02": {
      "model_module": "ipytree",
      "model_module_version": "^0.2",
      "model_name": "NodeModel",
      "state": {
       "_id": "12ce248f-e596-43d2-abb1-4edfaddc8770",
       "_model_module_version": "^0.2",
       "_view_module_version": "^0.2",
       "icon": "file",
       "name": "01_hello_world.py"
      }
     },
     "93d605dc92824b73b76612c86fbe4d14": {
      "model_module": "@jupyter-widgets/controls",
      "model_module_version": "2.0.0",
      "model_name": "ToggleButtonModel",
      "state": {
       "button_style": "primary",
       "icon": "info-circle",
       "layout": "IPY_MODEL_a2cbc119580f4196b3455affe29c24bc",
       "style": "IPY_MODEL_398256522cfc467fa2d73743b3dc6bb9",
       "tooltip": "Get COG/STAC pixel value"
      }
     },
     "9405e61b052740c6b2135127ecad0c67": {
      "model_module": "@jupyter-widgets/controls",
      "model_module_version": "2.0.0",
      "model_name": "ToggleButtonModel",
      "state": {
       "button_style": "primary",
       "icon": "map",
       "layout": "IPY_MODEL_ce2f0a5da0074d2dadfb7252e339791f",
       "style": "IPY_MODEL_58ac0aa971c9464fb5b2afb25e76c9a1",
       "tooltip": "Change basemap"
      }
     },
     "94d783bed27747958b1b1c3cdb42be65": {
      "model_module": "@jupyter-widgets/base",
      "model_module_version": "2.0.0",
      "model_name": "LayoutModel",
      "state": {
       "grid_gap": "1px 1px",
       "grid_template_columns": "32px 32px 32px ",
       "grid_template_rows": "32px 32px ",
       "padding": "5px",
       "width": "109px"
      }
     },
     "94e8476cdf3a44e69eda3ef20b5726e3": {
      "model_module": "jupyter-leaflet",
      "model_module_version": "^0.18",
      "model_name": "LeafletWidgetControlModel",
      "state": {
       "_model_module": "jupyter-leaflet",
       "_model_module_version": "^0.18",
       "_view_count": null,
       "_view_module": "jupyter-leaflet",
       "_view_module_version": "^0.18",
       "options": [
        "position",
        "transparent_bg"
       ],
       "position": "topright",
       "widget": "IPY_MODEL_b2476e4542e24bdf908954a829434905"
      }
     },
     "94efadf614714664a9efc9bd0d11ab95": {
      "model_module": "@jupyter-widgets/base",
      "model_module_version": "2.0.0",
      "model_name": "LayoutModel",
      "state": {
       "height": "600px"
      }
     },
     "9518d6666ee5452da1369cb1d2719d03": {
      "model_module": "ipytree",
      "model_module_version": "^0.2",
      "model_name": "NodeModel",
      "state": {
       "_id": "bea63da0-7007-4034-99fc-e6d3f4e67cf6",
       "_model_module_version": "^0.2",
       "_view_module_version": "^0.2",
       "icon": "file",
       "name": "filtering_by_metadata.py"
      }
     },
     "9547ad5f433240bd9341fdc6eeaa32fe": {
      "model_module": "@jupyter-widgets/controls",
      "model_module_version": "2.0.0",
      "model_name": "GridBoxModel",
      "state": {
       "children": [
        "IPY_MODEL_78d71b027fdd4724a2d9da0eab508428",
        "IPY_MODEL_6f3f52cfc2d2487ea466544b7379ea4b",
        "IPY_MODEL_0f2ae04dd87846aea6056f3130c545e6",
        "IPY_MODEL_9405e61b052740c6b2135127ecad0c67",
        "IPY_MODEL_d34028b2a94f4f9facd0f612b4aa1379",
        "IPY_MODEL_725026f070af4b8c9680c0594dc774eb"
       ],
       "layout": "IPY_MODEL_ae06aa41d78845549f03654874129425"
      }
     },
     "957dd05e0bb842b189ad47f102e8f43b": {
      "model_module": "ipytree",
      "model_module_version": "^0.2",
      "model_name": "NodeModel",
      "state": {
       "_id": "43e9ae80-2ef9-425f-b5d8-30fab9322a90",
       "_model_module_version": "^0.2",
       "_view_module_version": "^0.2",
       "icon": "file",
       "name": "alos_mtpi.py"
      }
     },
     "9585739a1725494e87d79abcfd20a3c9": {
      "model_module": "@jupyter-widgets/base",
      "model_module_version": "2.0.0",
      "model_name": "LayoutModel",
      "state": {}
     },
     "95df91786dff4d2383d61c6fd688577c": {
      "model_module": "@jupyter-widgets/base",
      "model_module_version": "2.0.0",
      "model_name": "LayoutModel",
      "state": {
       "height": "auto",
       "padding": "0px 0px 0px 4px",
       "width": "auto"
      }
     },
     "9601a275826641a6a8f875c94fdec2c4": {
      "model_module": "@jupyter-widgets/controls",
      "model_module_version": "2.0.0",
      "model_name": "ToggleButtonStyleModel",
      "state": {
       "description_width": "",
       "font_family": null,
       "font_size": null,
       "font_style": null,
       "font_variant": null,
       "font_weight": null,
       "text_color": null,
       "text_decoration": null
      }
     },
     "961cb3a9dae84e169167a8c12f6dc88a": {
      "model_module": "@jupyter-widgets/controls",
      "model_module_version": "2.0.0",
      "model_name": "ToggleButtonStyleModel",
      "state": {
       "description_width": "",
       "font_family": null,
       "font_size": null,
       "font_style": null,
       "font_variant": null,
       "font_weight": null,
       "text_color": null,
       "text_decoration": null
      }
     },
     "96475923288b43b69065da7b59128c16": {
      "model_module": "jupyter-leaflet",
      "model_module_version": "^0.18",
      "model_name": "LeafletDrawControlModel",
      "state": {
       "_model_module_version": "^0.18",
       "_view_module_version": "^0.18",
       "marker": {
        "shapeOptions": {
         "color": "#3388ff"
        }
       },
       "options": [
        "position"
       ],
       "rectangle": {
        "shapeOptions": {
         "color": "#3388ff"
        }
       }
      }
     },
     "9651e8df6f10400e856ae7ae4534e330": {
      "model_module": "ipytree",
      "model_module_version": "^0.2",
      "model_name": "NodeModel",
      "state": {
       "_id": "17bee450-5964-4b09-b858-6562f7cf0282",
       "_model_module_version": "^0.2",
       "_view_module_version": "^0.2",
       "icon": "file",
       "name": "merge_feature_collections.py"
      }
     },
     "967baebc38e047d68d1cc14b9606c773": {
      "model_module": "jupyter-leaflet",
      "model_module_version": "^0.18",
      "model_name": "LeafletMapStyleModel",
      "state": {
       "_model_module_version": "^0.18",
       "cursor": "move"
      }
     },
     "9681cd638b35491287399e4002d94b35": {
      "model_module": "@jupyter-widgets/controls",
      "model_module_version": "2.0.0",
      "model_name": "ToggleButtonStyleModel",
      "state": {
       "description_width": "",
       "font_family": null,
       "font_size": null,
       "font_style": null,
       "font_variant": null,
       "font_weight": null,
       "text_color": null,
       "text_decoration": null
      }
     },
     "96d3b18409c84a10baa4b4212bf3b2fc": {
      "model_module": "ipytree",
      "model_module_version": "^0.2",
      "model_name": "NodeModel",
      "state": {
       "_id": "77bf98a8-4b77-4ff9-bb0b-71c015e5cde9",
       "_model_module_version": "^0.2",
       "_view_module_version": "^0.2",
       "icon": "file",
       "name": "export_vector.py"
      }
     },
     "96f4cbfc36d441ff8ae2f1fefb4c2420": {
      "model_module": "ipytree",
      "model_module_version": "^0.2",
      "model_name": "NodeModel",
      "state": {
       "_id": "cf74114b-2283-43b9-9447-07fb72688b3d",
       "_model_module_version": "^0.2",
       "_view_module_version": "^0.2",
       "icon": "file",
       "name": "extract_image_by_polygon.py"
      }
     },
     "970dba9e970441f4a3abd1c643847333": {
      "model_module": "ipytree",
      "model_module_version": "^0.2",
      "model_name": "NodeModel",
      "state": {
       "_id": "bbaae65e-6589-47de-ba53-2d9b972c0035",
       "_model_module_version": "^0.2",
       "_view_module_version": "^0.2",
       "icon": "file",
       "name": "ndwi_symbology.py"
      }
     },
     "971136c7b9d0475488f055eb3f029c88": {
      "model_module": "@jupyter-widgets/controls",
      "model_module_version": "2.0.0",
      "model_name": "ToggleButtonStyleModel",
      "state": {
       "description_width": "",
       "font_family": null,
       "font_size": null,
       "font_style": null,
       "font_variant": null,
       "font_weight": null,
       "text_color": null,
       "text_decoration": null
      }
     },
     "974cd16ad9bd4defa9e2351c8911ce6f": {
      "model_module": "jupyter-leaflet",
      "model_module_version": "^0.18",
      "model_name": "LeafletMeasureControlModel",
      "state": {
       "_model_module_version": "^0.18",
       "_view_module_version": "^0.18",
       "active_color": "orange",
       "options": [
        "active_color",
        "capture_z_index",
        "completed_color",
        "popup_options",
        "position",
        "primary_area_unit",
        "primary_length_unit",
        "secondary_area_unit",
        "secondary_length_unit"
       ],
       "position": "bottomleft",
       "primary_length_unit": "kilometers",
       "secondary_area_unit": null,
       "secondary_length_unit": null
      }
     },
     "974d3b04a0334cb598c389bf58a0e37e": {
      "model_module": "@jupyter-widgets/base",
      "model_module_version": "2.0.0",
      "model_name": "LayoutModel",
      "state": {}
     },
     "977c86f5e3b04ef7a13b790760a8b296": {
      "model_module": "ipytree",
      "model_module_version": "^0.2",
      "model_name": "NodeModel",
      "state": {
       "_id": "3d8ddc0f-2313-4707-a79a-4badcbb1fc48",
       "_model_module_version": "^0.2",
       "_view_module_version": "^0.2",
       "icon": "file",
       "name": "glad_alert.py"
      }
     },
     "978747193a74411f98ddff8720cd8482": {
      "model_module": "ipytree",
      "model_module_version": "^0.2",
      "model_name": "NodeModel",
      "state": {
       "_id": "844594d8-d9f5-452a-b006-9b9f264f9bc4",
       "_model_module_version": "^0.2",
       "_view_module_version": "^0.2",
       "icon": "file",
       "name": "landsat_cloud_score.py"
      }
     },
     "979e3c6e7deb47389095c9ce1e787d32": {
      "model_module": "@jupyter-widgets/controls",
      "model_module_version": "2.0.0",
      "model_name": "ToggleButtonStyleModel",
      "state": {
       "description_width": "",
       "font_family": null,
       "font_size": null,
       "font_style": null,
       "font_variant": null,
       "font_weight": null,
       "text_color": null,
       "text_decoration": null
      }
     },
     "97a2e4d267224d2d9d3fee6333f86244": {
      "model_module": "@jupyter-widgets/controls",
      "model_module_version": "2.0.0",
      "model_name": "ToggleButtonStyleModel",
      "state": {
       "description_width": "",
       "font_family": null,
       "font_size": null,
       "font_style": null,
       "font_variant": null,
       "font_weight": null,
       "text_color": null,
       "text_decoration": null
      }
     },
     "97a453c492624bb3b6063fc897a94b67": {
      "model_module": "ipytree",
      "model_module_version": "^0.2",
      "model_name": "NodeModel",
      "state": {
       "_id": "89655890-e477-40bb-8ffa-a79ded6e09cf",
       "_model_module_version": "^0.2",
       "_view_module_version": "^0.2",
       "name": "Algorithms",
       "nodes": [
        "IPY_MODEL_199fcad276a5461196ed7f6c53b62bfd",
        "IPY_MODEL_978747193a74411f98ddff8720cd8482",
        "IPY_MODEL_e22e9ca87ba24827a420a933902dceb6",
        "IPY_MODEL_5a742af3aa5b42e7b166af2eec6bc6d0",
        "IPY_MODEL_1e0c24cfd445425bb3d06454aa5ff4d1",
        "IPY_MODEL_d6e8f6ed4ed746838f3d33fcfe699170",
        "IPY_MODEL_eaae756d055c4daab0b9c00debbc700d",
        "IPY_MODEL_d9f2840075c746ce9e4a7151594f9937",
        "IPY_MODEL_1c2596e4995d439b95c455df23918180",
        "IPY_MODEL_fa6bc7f787fe4d3c9e2d32fed0fe69b0",
        "IPY_MODEL_88e58148c7e3422aa8bb8e9be3fcb4bd",
        "IPY_MODEL_5ee51622f8bc4261b3b43f74febea237",
        "IPY_MODEL_e7e3f9383ec141b595af89856f5102ef"
       ],
       "opened": false
      }
     },
     "97c93ebeea2d4b7680202e0fbd6f5ed0": {
      "model_module": "@jupyter-widgets/controls",
      "model_module_version": "2.0.0",
      "model_name": "ToggleButtonModel",
      "state": {
       "icon": "globe",
       "layout": "IPY_MODEL_442955f9a6114079bc7c436f8927cc23",
       "style": "IPY_MODEL_36dc432c524847719623dbb3811f64da",
       "tooltip": "Search location/data"
      }
     },
     "97d5409417884733b847c4a68ada3398": {
      "model_module": "ipytree",
      "model_module_version": "^0.2",
      "model_name": "NodeModel",
      "state": {
       "_id": "f307c376-21c7-47e6-a945-1dbcc9df9ccc",
       "_model_module_version": "^0.2",
       "_view_module_version": "^0.2",
       "icon": "file",
       "name": "reducing_feature_collection.py"
      }
     },
     "97d99e84776d40efb3750d1a700db3ce": {
      "model_module": "@jupyter-widgets/controls",
      "model_module_version": "2.0.0",
      "model_name": "VBoxModel",
      "state": {
       "children": [
        "IPY_MODEL_6bec238663ed4d95a9c44f7cae5ac3c4"
       ],
       "layout": "IPY_MODEL_156d6a82e0c142f39bd6dfe50b6b3304"
      }
     },
     "97f7c07d0efa47d3bab7c689f299a863": {
      "model_module": "@jupyter-widgets/controls",
      "model_module_version": "2.0.0",
      "model_name": "DropdownModel",
      "state": {
       "index": null,
       "layout": "IPY_MODEL_7b3f75cc03094dfebd5ecff59c46ed2e",
       "style": "IPY_MODEL_08d993aadee14c23ba7dbaff2749bbeb"
      }
     },
     "9808fb51b4124c3ebf90b08d48fdb280": {
      "model_module": "ipytree",
      "model_module_version": "^0.2",
      "model_name": "NodeModel",
      "state": {
       "_id": "3e888642-a559-43aa-b27c-6a513eb5340e",
       "_model_module_version": "^0.2",
       "_view_module_version": "^0.2",
       "icon": "file",
       "name": "pansharpen.py"
      }
     },
     "984c3bf4d21e4fa3ba7a025214a872c8": {
      "model_module": "jupyter-leaflet",
      "model_module_version": "^0.18",
      "model_name": "LeafletWidgetControlModel",
      "state": {
       "_model_module": "jupyter-leaflet",
       "_model_module_version": "^0.18",
       "_view_count": null,
       "_view_module": "jupyter-leaflet",
       "_view_module_version": "^0.18",
       "options": [
        "position",
        "transparent_bg"
       ],
       "position": "topleft",
       "widget": "IPY_MODEL_46c2c63919814184b36033b3316472ee"
      }
     },
     "986c4494d64649c09dc150292b6c8dd2": {
      "model_module": "ipytree",
      "model_module_version": "^0.2",
      "model_name": "NodeModel",
      "state": {
       "_id": "38215eae-a8e3-4701-9df9-cf40b58e8891",
       "_model_module_version": "^0.2",
       "_view_module_version": "^0.2",
       "icon": "file",
       "name": "ndwi_single.py"
      }
     },
     "9897357dd6d24416a36232eaaddbcca1": {
      "model_module": "ipytree",
      "model_module_version": "^0.2",
      "model_name": "NodeModel",
      "state": {
       "_id": "59283d10-a31f-4f5a-9ec0-370b2f2bf532",
       "_model_module_version": "^0.2",
       "_view_module_version": "^0.2",
       "icon": "file",
       "name": "image_smoothing.py"
      }
     },
     "98a17921fe4345e282a7330e0b7d6178": {
      "model_module": "@jupyter-widgets/controls",
      "model_module_version": "2.0.0",
      "model_name": "DropdownModel",
      "state": {
       "index": null,
       "layout": "IPY_MODEL_3a07a06813914f28a5441185cf962f33",
       "style": "IPY_MODEL_6f871ac9fc5b4d8a99ab9f7826a2e002"
      }
     },
     "98abce60b8c64f9385a51c28ce49c60b": {
      "model_module": "@jupyter-widgets/controls",
      "model_module_version": "2.0.0",
      "model_name": "DescriptionStyleModel",
      "state": {
       "description_width": ""
      }
     },
     "9907d1d698d041f387b6e3fa4b57cd4a": {
      "model_module": "@jupyter-widgets/controls",
      "model_module_version": "2.0.0",
      "model_name": "ToggleButtonModel",
      "state": {
       "button_style": "primary",
       "icon": "question",
       "layout": "IPY_MODEL_745f29ed87e1457fa6263a9babfd9ff9",
       "style": "IPY_MODEL_65b450c05cd347fbb3e0024a694936c4",
       "tooltip": "Get help"
      }
     },
     "990ebc99be50451bb841da181575fb03": {
      "model_module": "ipytree",
      "model_module_version": "^0.2",
      "model_name": "NodeModel",
      "state": {
       "_id": "68abb818-23d6-444d-a10b-20cd571e8034",
       "_model_module_version": "^0.2",
       "_view_module_version": "^0.2",
       "icon": "file",
       "name": "using_weights.py"
      }
     },
     "99684000804b4c10a88e201bf252df8e": {
      "model_module": "@jupyter-widgets/base",
      "model_module_version": "2.0.0",
      "model_name": "LayoutModel",
      "state": {}
     },
     "99c6aa2e9e4c4a90be295e8491a6f152": {
      "model_module": "@jupyter-widgets/controls",
      "model_module_version": "2.0.0",
      "model_name": "ToggleButtonModel",
      "state": {
       "button_style": "primary",
       "icon": "random",
       "layout": "IPY_MODEL_859b42d400c146e58e4b404470312c0f",
       "style": "IPY_MODEL_121c8e8b238d48f991165d7d2930ce49",
       "tooltip": "Sankey plots"
      }
     },
     "99c9f7a6cbc34bf48269e4c2ab2ecc7c": {
      "model_module": "@jupyter-widgets/base",
      "model_module_version": "2.0.0",
      "model_name": "LayoutModel",
      "state": {
       "height": "auto",
       "padding": "0px 0px 0px 4px",
       "width": "auto"
      }
     },
     "99ca1e3eb8c54655b6463a57e3ea1bd3": {
      "model_module": "@jupyter-widgets/base",
      "model_module_version": "2.0.0",
      "model_name": "LayoutModel",
      "state": {}
     },
     "99d28225beb74688b51901ae11b8fba2": {
      "model_module": "@jupyter-widgets/controls",
      "model_module_version": "2.0.0",
      "model_name": "VBoxModel",
      "state": {
       "children": [
        "IPY_MODEL_72936485a1754d31b5179ba77e6bc319",
        "IPY_MODEL_b34509feb0a441b69dad78ffe59c65c6",
        "IPY_MODEL_cd01db919be94f9d876ad129c30e1507"
       ],
       "layout": "IPY_MODEL_bfd13ab9486049dbb2e3337e4b4e317a"
      }
     },
     "99d3ac6507e64507a897aec1e21c9080": {
      "model_module": "ipytree",
      "model_module_version": "^0.2",
      "model_name": "NodeModel",
      "state": {
       "_id": "8b1f6638-b029-43e5-b55c-90bbca4c13a3",
       "_model_module_version": "^0.2",
       "_view_module_version": "^0.2",
       "name": "Reader",
       "opened": false
      }
     },
     "9a890769db5b457e862beed68ccff12b": {
      "model_module": "ipytree",
      "model_module_version": "^0.2",
      "model_name": "NodeModel",
      "state": {
       "_id": "d9ed7bce-238c-4c88-9f98-263b5012e1f3",
       "_model_module_version": "^0.2",
       "_view_module_version": "^0.2",
       "icon": "file",
       "name": "global_power_plant_database.py"
      }
     },
     "9ab38ddd78764543a88da8d389a6a4a7": {
      "model_module": "@jupyter-widgets/controls",
      "model_module_version": "2.0.0",
      "model_name": "ToggleButtonModel",
      "state": {
       "button_style": "primary",
       "icon": "folder-open",
       "layout": "IPY_MODEL_99c9f7a6cbc34bf48269e4c2ab2ecc7c",
       "style": "IPY_MODEL_286f842be8ed491590f962c707411c86",
       "tooltip": "Open local vector/raster data"
      }
     },
     "9acac20fdf9f4378b8c1acfb49511045": {
      "model_module": "@jupyter-widgets/controls",
      "model_module_version": "2.0.0",
      "model_name": "TextModel",
      "state": {
       "layout": "IPY_MODEL_1c4714d52d274913b1b90293aaa20d7a",
       "placeholder": "Search by place name or address",
       "style": "IPY_MODEL_b26d6d9bf8554b2c8959eafd3ae80dcb",
       "tooltip": "Search location"
      }
     },
     "9ace805950684534b67978c389f5c3b3": {
      "model_module": "@jupyter-widgets/controls",
      "model_module_version": "2.0.0",
      "model_name": "ToggleButtonStyleModel",
      "state": {
       "description_width": "",
       "font_family": null,
       "font_size": null,
       "font_style": null,
       "font_variant": null,
       "font_weight": null,
       "text_color": null,
       "text_decoration": null
      }
     },
     "9b19ff15c14c417ba9a9ae959737e73e": {
      "model_module": "@jupyter-widgets/controls",
      "model_module_version": "2.0.0",
      "model_name": "ToggleButtonModel",
      "state": {
       "icon": "server",
       "layout": "IPY_MODEL_1e877bb3531c46fcba634afb9aa9ef7e",
       "style": "IPY_MODEL_edfb853837c34a568d4ae34b21d3c3d7",
       "tooltip": "Layers"
      }
     },
     "9b6ca1766cfd483f9444cee20bf553c8": {
      "model_module": "ipytree",
      "model_module_version": "^0.2",
      "model_name": "NodeModel",
      "state": {
       "_id": "1993be1b-fb0a-4041-86e5-434bf1a955ce",
       "_model_module_version": "^0.2",
       "_view_module_version": "^0.2",
       "icon": "file",
       "name": "zero_crossing.py"
      }
     },
     "9b9cd7e4a7f74df7bb102ec3eaae000b": {
      "model_module": "@jupyter-widgets/controls",
      "model_module_version": "2.0.0",
      "model_name": "HBoxModel",
      "state": {
       "children": [
        "IPY_MODEL_bf05b324f62a446a8d0c3ecab1bd07d9",
        "IPY_MODEL_adaa4132710a46bdb03df205f5d3b94a"
       ],
       "layout": "IPY_MODEL_6cf274944f8a4b4ca5581ba92282cb51"
      }
     },
     "9ba9c3f0f45348ab9e0902a7b899d58f": {
      "model_module": "ipytree",
      "model_module_version": "^0.2",
      "model_name": "NodeModel",
      "state": {
       "_id": "deb072e4-bd80-4e14-9ad7-525d0a6c1ef8",
       "_model_module_version": "^0.2",
       "_view_module_version": "^0.2",
       "name": "Reducer",
       "nodes": [
        "IPY_MODEL_a2e543e7f0814e989366fea695943b5a",
        "IPY_MODEL_77e9ae84cb2e4e8b8456437ef600718a",
        "IPY_MODEL_36eec3743f724463a3041577b052aa48",
        "IPY_MODEL_70621eb90e764c4c8badb3aadeae908b",
        "IPY_MODEL_d5767861a0a545b0a3c8bcc87c170fa9",
        "IPY_MODEL_dee11ebf4bde4e628dbc9e5f2478ff46",
        "IPY_MODEL_eda6a9fc119c4558a06ff428271e3ca4",
        "IPY_MODEL_7043be29fd18461aa1414bd7ee268a89",
        "IPY_MODEL_396d5aaf4bac42c1b1d58af8a04b31a7",
        "IPY_MODEL_ea59b0a9bbb244ef9bdcc393ba27c2c3",
        "IPY_MODEL_c2a91dc1bc2a4833b4c129c02eb9cb41",
        "IPY_MODEL_3fad2d2c717d415fb29032b09210fc5c",
        "IPY_MODEL_c555ad1861064229b68682af1d4ef69e",
        "IPY_MODEL_990ebc99be50451bb841da181575fb03",
        "IPY_MODEL_1f3895bdc58f495698a59730c5506360",
        "IPY_MODEL_eb594318d23e4162bbf442527b7ec8b8"
       ],
       "opened": false
      }
     },
     "9bae96efa56d40eeab35317b233f6db0": {
      "model_module": "ipytree",
      "model_module_version": "^0.2",
      "model_name": "NodeModel",
      "state": {
       "_id": "5edcb5f5-20d4-4737-97ea-d52537a04af1",
       "_model_module_version": "^0.2",
       "_view_module_version": "^0.2",
       "icon": "file",
       "name": "export_table.py"
      }
     },
     "9c1a46c1ee7149da82577f2901ef10cd": {
      "model_module": "@jupyter-widgets/controls",
      "model_module_version": "2.0.0",
      "model_name": "HBoxModel",
      "state": {
       "children": [
        "IPY_MODEL_9facf47d26ca4b83a8122a03ae25c953",
        "IPY_MODEL_a173d33ca1214124bd29d1ef059590e5"
       ],
       "layout": "IPY_MODEL_8887977a9cbe46f5afd0ff2ba1f409ef"
      }
     },
     "9c437361cb234a2c84973f2796e1b201": {
      "model_module": "@jupyter-widgets/base",
      "model_module_version": "2.0.0",
      "model_name": "LayoutModel",
      "state": {
       "height": "auto",
       "padding": "0px 0px 0px 4px",
       "width": "auto"
      }
     },
     "9cbaba8b153a4eceb617ff356c3ca025": {
      "model_module": "@jupyter-widgets/base",
      "model_module_version": "2.0.0",
      "model_name": "LayoutModel",
      "state": {}
     },
     "9cf0d2c259fa4a499b77f723685b3d6b": {
      "model_module": "@jupyter-widgets/controls",
      "model_module_version": "2.0.0",
      "model_name": "ButtonStyleModel",
      "state": {
       "font_family": null,
       "font_size": null,
       "font_style": null,
       "font_variant": null,
       "font_weight": null,
       "text_color": null,
       "text_decoration": null
      }
     },
     "9d3ad950249749aaadf0cf1dc51951d6": {
      "model_module": "@jupyter-widgets/base",
      "model_module_version": "2.0.0",
      "model_name": "LayoutModel",
      "state": {
       "height": "auto",
       "padding": "0px 0px 0px 4px",
       "width": "auto"
      }
     },
     "9d5a9ffe804b425cae18c97fdbde50e8": {
      "model_module": "@jupyter-widgets/controls",
      "model_module_version": "2.0.0",
      "model_name": "ToggleButtonModel",
      "state": {
       "icon": "wrench",
       "layout": "IPY_MODEL_9f6310c060784621bdc478eae47d3923",
       "style": "IPY_MODEL_cd5b7d4995a24392a9b93017458d03ad",
       "tooltip": "Toolbar"
      }
     },
     "9d7541150a93438194e64abce4d4f526": {
      "model_module": "ipytree",
      "model_module_version": "^0.2",
      "model_name": "NodeModel",
      "state": {
       "_id": "99296538-83fa-404f-9b20-c7740b926719",
       "_model_module_version": "^0.2",
       "_view_module_version": "^0.2",
       "name": "earthengine-py-examples",
       "nodes": [
        "IPY_MODEL_f8b537f1d71e4a3ba477e6fcba34c191",
        "IPY_MODEL_ffb4cb3ffb7d4fe9b95a4a002019368e",
        "IPY_MODEL_2ec5e241b2ab45ca98a3351ccc62ccf9",
        "IPY_MODEL_69a6d0fd620a4d0385ffb3685e65bb6d",
        "IPY_MODEL_28ebac7666dc48718cd00621d79c8fa4",
        "IPY_MODEL_0ee221bbfa7540bcb1384dff849d1e5e",
        "IPY_MODEL_733e4047ca89491c8542b2834e4bc9a3",
        "IPY_MODEL_eec6f57c23234c648d4d5bcd06467a92",
        "IPY_MODEL_c6a8c9d8dad34fcc9e3bc97b374efe56",
        "IPY_MODEL_01aac547b3174c978816e4210aab7258",
        "IPY_MODEL_f169fd7bd9e24fe3bc92e1533c27e804",
        "IPY_MODEL_a22e41ad004f4a84a898b3f5f07f81c7",
        "IPY_MODEL_02765d74a83b47f1a896e4e6ecb9484e",
        "IPY_MODEL_11ac81d7985740aa97cc03ed478acd58",
        "IPY_MODEL_201814c6c9c147a2b42eb91a6acc183c",
        "IPY_MODEL_53468a8b04744a7094e068fa7855ff93",
        "IPY_MODEL_7de8fec0955b4966885c66500a4943c6",
        "IPY_MODEL_80fb32be66854ad5bd949fbcad928c24",
        "IPY_MODEL_82245a1064db44fa815a812fd2f27ead",
        "IPY_MODEL_41245f9ed17149e98a4502e178f3d161",
        "IPY_MODEL_17b3592d97f0411cb060d050c8287b13"
       ],
       "opened": false
      }
     },
     "9d775c1b5d344ed28748393e6ed8d4fe": {
      "model_module": "ipytree",
      "model_module_version": "^0.2",
      "model_name": "NodeModel",
      "state": {
       "_id": "9b103351-8d9d-460f-bc31-55dc12621aaa",
       "_model_module_version": "^0.2",
       "_view_module_version": "^0.2",
       "icon": "file",
       "name": "canada_dem.py"
      }
     },
     "9d7e639314e84bd79682dee261d31c22": {
      "model_module": "@jupyter-widgets/controls",
      "model_module_version": "2.0.0",
      "model_name": "ButtonStyleModel",
      "state": {
       "font_family": null,
       "font_size": null,
       "font_style": null,
       "font_variant": null,
       "font_weight": null,
       "text_color": null,
       "text_decoration": null
      }
     },
     "9e3a1565164e4ed985b69be6b97b8b17": {
      "model_module": "ipytree",
      "model_module_version": "^0.2",
      "model_name": "NodeModel",
      "state": {
       "_id": "f8e3048f-5801-4efd-813e-3a771d10a216",
       "_model_module_version": "^0.2",
       "_view_module_version": "^0.2",
       "icon": "file",
       "name": "mosaicking.py"
      }
     },
     "9e3ffcbf832e465badd634014c96bb30": {
      "model_module": "ipytree",
      "model_module_version": "^0.2",
      "model_name": "NodeModel",
      "state": {
       "_id": "6dfeba8a-deaa-458b-ab21-36a438130d02",
       "_model_module_version": "^0.2",
       "_view_module_version": "^0.2",
       "icon": "file",
       "name": "convolutions.py"
      }
     },
     "9e468c1bc9cb4270903180a49af62865": {
      "model_module": "@jupyter-widgets/controls",
      "model_module_version": "2.0.0",
      "model_name": "ToggleButtonModel",
      "state": {
       "button_style": "primary",
       "icon": "fast-forward",
       "layout": "IPY_MODEL_165eb87f41424a3eb09f71f95f595a9c",
       "style": "IPY_MODEL_d03c64a4ba7943c895709432c9dd2703",
       "tooltip": "Activate timeslider"
      }
     },
     "9e82230ff8b94c06b481f43fe7ed6e06": {
      "model_module": "ipytree",
      "model_module_version": "^0.2",
      "model_name": "NodeModel",
      "state": {
       "_id": "9d64e999-16d6-4160-9ba2-1a4afded61e0",
       "_model_module_version": "^0.2",
       "_view_module_version": "^0.2",
       "icon": "file",
       "name": "creating_feature.py"
      }
     },
     "9e82405144a54b2a919dcd53597bc459": {
      "model_module": "ipytree",
      "model_module_version": "^0.2",
      "model_name": "NodeModel",
      "state": {
       "_id": "a64ebcda-e9b9-4b74-955f-a018bdcc7e51",
       "_model_module_version": "^0.2",
       "_view_module_version": "^0.2",
       "icon": "file",
       "name": "from_name.py"
      }
     },
     "9e8b1c982c2c487bb6e884ffb7995e91": {
      "model_module": "@jupyter-widgets/controls",
      "model_module_version": "2.0.0",
      "model_name": "DescriptionStyleModel",
      "state": {
       "description_width": ""
      }
     },
     "9e8f973bfabb45ea915ee010367eec11": {
      "model_module": "ipytree",
      "model_module_version": "^0.2",
      "model_name": "NodeModel",
      "state": {
       "_id": "f8b5924d-8f7d-48ff-bd9b-5f0df2b27539",
       "_model_module_version": "^0.2",
       "_view_module_version": "^0.2",
       "icon": "file",
       "name": "us_ned_mtpi.py"
      }
     },
     "9ed35541a62c4bc6bfb9315f822fa865": {
      "model_module": "ipytree",
      "model_module_version": "^0.2",
      "model_name": "NodeModel",
      "state": {
       "_id": "bd1b4a3d-4930-4cac-8e79-93968fe4c209",
       "_model_module_version": "^0.2",
       "_view_module_version": "^0.2",
       "icon": "file",
       "name": "get_image_extent.py"
      }
     },
     "9f154dc61d7245d5af867bdb77c5761d": {
      "model_module": "@jupyter-widgets/controls",
      "model_module_version": "2.0.0",
      "model_name": "ToggleButtonModel",
      "state": {
       "button_style": "primary",
       "icon": "google",
       "layout": "IPY_MODEL_3d3216c056ca4305900f430d754d35cf",
       "style": "IPY_MODEL_cd060f2b355f498480b411b7b426d778",
       "tooltip": "GEE Toolbox for cloud computing"
      }
     },
     "9f1a39657b1c4fecb956cee1e9355864": {
      "model_module": "@jupyter-widgets/controls",
      "model_module_version": "2.0.0",
      "model_name": "ToggleButtonStyleModel",
      "state": {
       "description_width": "",
       "font_family": null,
       "font_size": null,
       "font_style": null,
       "font_variant": null,
       "font_weight": null,
       "text_color": null,
       "text_decoration": null
      }
     },
     "9f3d63957c2440359d79eb16fe279d9e": {
      "model_module": "ipytree",
      "model_module_version": "^0.2",
      "model_name": "NodeModel",
      "state": {
       "_id": "57a4636c-3df5-497a-bf27-ab1a97367708",
       "_model_module_version": "^0.2",
       "_view_module_version": "^0.2",
       "icon": "file",
       "name": "us_physiography.py"
      }
     },
     "9f562b07520f4b6e95e72c614bbe958b": {
      "model_module": "ipytree",
      "model_module_version": "^0.2",
      "model_name": "NodeModel",
      "state": {
       "_id": "a5b5f671-7468-48fa-a320-b729d7c4a19f",
       "_model_module_version": "^0.2",
       "_view_module_version": "^0.2",
       "icon": "file",
       "name": "ClippedComposite.py"
      }
     },
     "9f6310c060784621bdc478eae47d3923": {
      "model_module": "@jupyter-widgets/base",
      "model_module_version": "2.0.0",
      "model_name": "LayoutModel",
      "state": {
       "height": "28px",
       "padding": "0px 0px 0px 4px",
       "width": "28px"
      }
     },
     "9f71bf98a2ff4e4f8ce2ff0103f04145": {
      "model_module": "ipytree",
      "model_module_version": "^0.2",
      "model_name": "NodeModel",
      "state": {
       "_id": "7c8737bf-3333-4a07-a87b-f806422e02c7",
       "_model_module_version": "^0.2",
       "_view_module_version": "^0.2",
       "icon": "file",
       "name": "filtering_by_metadata.py"
      }
     },
     "9f80513d399a48e0b50260ffc3435352": {
      "model_module": "@jupyter-widgets/controls",
      "model_module_version": "2.0.0",
      "model_name": "ToggleButtonModel",
      "state": {
       "icon": "wrench",
       "layout": "IPY_MODEL_93c05ed759b34917a546e6c716377e37",
       "style": "IPY_MODEL_f8dede8802ad4543832b453962291e83",
       "tooltip": "Toolbar"
      }
     },
     "9f835fae2e224d92a235ea8735de4ab6": {
      "model_module": "@jupyter-widgets/controls",
      "model_module_version": "2.0.0",
      "model_name": "TextModel",
      "state": {
       "layout": "IPY_MODEL_b8827962a1414af3a425b16248bc50ed",
       "placeholder": "Search by place name or address",
       "style": "IPY_MODEL_599b8330d9fb421bb8e53eaf41cda6e0",
       "tooltip": "Search location"
      }
     },
     "9f94bf736b874393820a117d2e97d665": {
      "model_module": "@jupyter-widgets/controls",
      "model_module_version": "2.0.0",
      "model_name": "ToggleButtonStyleModel",
      "state": {
       "description_width": "",
       "font_family": null,
       "font_size": null,
       "font_style": null,
       "font_variant": null,
       "font_weight": null,
       "text_color": null,
       "text_decoration": null
      }
     },
     "9facf47d26ca4b83a8122a03ae25c953": {
      "model_module": "@jupyter-widgets/controls",
      "model_module_version": "2.0.0",
      "model_name": "VBoxModel",
      "state": {
       "children": [
        "IPY_MODEL_76640a8ddd8444ac9e22c2f119dfe50f",
        "IPY_MODEL_fe4da18fa4c14b4089c8d3e1004a9f5d"
       ],
       "layout": "IPY_MODEL_4508b3f2c5a2474196e3480ee12dccd2"
      }
     },
     "9fb5e3f7e72146d29f698af3a7735e21": {
      "model_module": "@jupyter-widgets/controls",
      "model_module_version": "2.0.0",
      "model_name": "ToggleButtonStyleModel",
      "state": {
       "description_width": "",
       "font_family": null,
       "font_size": null,
       "font_style": null,
       "font_variant": null,
       "font_weight": null,
       "text_color": null,
       "text_decoration": null
      }
     },
     "9fcb391d74354668b912644baf648d0c": {
      "model_module": "@jupyter-widgets/controls",
      "model_module_version": "2.0.0",
      "model_name": "HBoxModel",
      "state": {
       "children": [
        "IPY_MODEL_5c2b47331684434db9c9dbf2848c8609",
        "IPY_MODEL_d90affdad1394b72ab83c5500c176fd3"
       ],
       "layout": "IPY_MODEL_7d3d837938964fb993cc85ba2ece2c1c"
      }
     },
     "a0057748c83a4d99986d5e5b01f6bd97": {
      "model_module": "@jupyter-widgets/controls",
      "model_module_version": "2.0.0",
      "model_name": "ToggleButtonsModel",
      "state": {
       "_options_labels": [
        "name/address",
        "lat-lon",
        "data"
       ],
       "button_style": "",
       "icons": [],
       "index": 0,
       "layout": "IPY_MODEL_e6101172f5ff48cdaabf9b676a725f02",
       "style": "IPY_MODEL_31fffdf338dc4c14aa6692b81ae91e8e",
       "tooltips": [
        "Search by place name or address",
        "Search by lat-lon coordinates",
        "Search Earth Engine data catalog"
       ]
      }
     },
     "a0300db7a4ed4e578d6add2a707b136b": {
      "model_module": "ipytree",
      "model_module_version": "^0.2",
      "model_name": "NodeModel",
      "state": {
       "_id": "8f947333-b3f9-4dd2-ae28-1a750715a277",
       "_model_module_version": "^0.2",
       "_view_module_version": "^0.2",
       "icon": "file",
       "name": "morphological_operations.py"
      }
     },
     "a0663a99b6234c6eaa6f063e14deaf11": {
      "model_module": "@jupyter-widgets/controls",
      "model_module_version": "2.0.0",
      "model_name": "TextStyleModel",
      "state": {
       "description_width": "",
       "font_size": null,
       "text_color": null
      }
     },
     "a09bbc5823d24abca13517ec4f057111": {
      "model_module": "ipytree",
      "model_module_version": "^0.2",
      "model_name": "NodeModel",
      "state": {
       "_id": "2117aff8-d146-4b98-8dcc-aba05a232f78",
       "_model_module_version": "^0.2",
       "_view_module_version": "^0.2",
       "icon": "file",
       "name": "LICENSE"
      }
     },
     "a09ef73a8675403d9e989383ff32e6b4": {
      "model_module": "ipytree",
      "model_module_version": "^0.2",
      "model_name": "NodeModel",
      "state": {
       "_id": "f232ef13-4493-44b0-8b3a-0d17a26b8fde",
       "_model_module_version": "^0.2",
       "_view_module_version": "^0.2",
       "icon": "file",
       "name": "image_color_palettes.py"
      }
     },
     "a1183d0d5794488284dd4c6f46d2110b": {
      "model_module": "ipytree",
      "model_module_version": "^0.2",
      "model_name": "NodeModel",
      "state": {
       "_id": "9d834722-f057-4514-a23d-9bf0eb112fda",
       "_model_module_version": "^0.2",
       "_view_module_version": "^0.2",
       "icon": "file",
       "name": "utils-hillshadeRgb.py"
      }
     },
     "a11dff8cb7e04417bb0f5f006104d9a2": {
      "model_module": "jupyter-leaflet",
      "model_module_version": "^0.18",
      "model_name": "LeafletWMSLayerModel",
      "state": {
       "_model_module_version": "^0.18",
       "_view_module_version": "^0.18",
       "attribution": "MRLC",
       "crs": {
        "custom": false,
        "name": "EPSG3857"
       },
       "format": "image/png",
       "layers": "NLCD_2016_Land_Cover_L48",
       "name": "NLCD 2016 CONUS Land Cover",
       "options": [
        "attribution",
        "bounds",
        "detect_retina",
        "format",
        "layers",
        "max_native_zoom",
        "max_zoom",
        "min_native_zoom",
        "min_zoom",
        "no_wrap",
        "styles",
        "tile_size",
        "tms",
        "transparent",
        "uppercase",
        "zoom_offset"
       ],
       "transparent": true,
       "url": "https://www.mrlc.gov/geoserver/mrlc_display/NLCD_2016_Land_Cover_L48/wms?"
      }
     },
     "a1667824cc1a4a6cbf2db2bb781a5b34": {
      "model_module": "@jupyter-widgets/controls",
      "model_module_version": "2.0.0",
      "model_name": "ToggleButtonStyleModel",
      "state": {
       "description_width": "",
       "font_family": null,
       "font_size": null,
       "font_style": null,
       "font_variant": null,
       "font_weight": null,
       "text_color": null,
       "text_decoration": null
      }
     },
     "a16f0b8248e9457ea1e54312e6ca47b5": {
      "model_module": "ipytree",
      "model_module_version": "^0.2",
      "model_name": "NodeModel",
      "state": {
       "_id": "04044944-933f-4c1d-afca-10fe41a3fb77",
       "_model_module_version": "^0.2",
       "_view_module_version": "^0.2",
       "icon": "file",
       "name": "linear_regression_more.py"
      }
     },
     "a173d33ca1214124bd29d1ef059590e5": {
      "model_module": "@jupyter-widgets/controls",
      "model_module_version": "2.0.0",
      "model_name": "VBoxModel",
      "state": {
       "children": [
        "IPY_MODEL_b7390b9dc47d4ba790ab35757779df94"
       ],
       "layout": "IPY_MODEL_7d2279d0bbae493f9353f68b0c80555a"
      }
     },
     "a1844353889945168f3c44a6ed43f153": {
      "model_module": "ipytree",
      "model_module_version": "^0.2",
      "model_name": "NodeModel",
      "state": {
       "_id": "1b874fb8-8951-4ccb-98f4-a4859de2cc44",
       "_model_module_version": "^0.2",
       "_view_module_version": "^0.2",
       "icon": "file",
       "name": "clamp.py"
      }
     },
     "a1f7e82233a0420b9078877fa1065bd5": {
      "model_module": "ipytree",
      "model_module_version": "^0.2",
      "model_name": "NodeModel",
      "state": {
       "_id": "1e5ec824-5f77-43cb-963e-0695c8718136",
       "_model_module_version": "^0.2",
       "_view_module_version": "^0.2",
       "icon": "file",
       "name": "stats_of_image_neighborhoods.py"
      }
     },
     "a1fb25be94d848378b1bdcb02c5ae3d6": {
      "model_module": "@jupyter-widgets/base",
      "model_module_version": "2.0.0",
      "model_name": "LayoutModel",
      "state": {
       "height": "28px",
       "padding": "0px 0px 0px 4px",
       "width": "28px"
      }
     },
     "a22e41ad004f4a84a898b3f5f07f81c7": {
      "model_module": "ipytree",
      "model_module_version": "^0.2",
      "model_name": "NodeModel",
      "state": {
       "_id": "7f7b9a06-4135-4373-ac8a-586484b93666",
       "_model_module_version": "^0.2",
       "_view_module_version": "^0.2",
       "name": "HowEarthEngineWorks",
       "nodes": [
        "IPY_MODEL_b06aacb9709c4d679972fb5de58f4799",
        "IPY_MODEL_d99e0792de894c4caf332a82f3f0e219",
        "IPY_MODEL_c28dc7dd89964919aef24df2c9d66ee9"
       ],
       "opened": false
      }
     },
     "a28c250528ad42ada784d37826d1ee1b": {
      "model_module": "ipytree",
      "model_module_version": "^0.2",
      "model_name": "NodeModel",
      "state": {
       "_id": "9c758242-b4b4-449a-af1e-7df385408a70",
       "_model_module_version": "^0.2",
       "_view_module_version": "^0.2",
       "icon": "file",
       "name": "sentinel-2.py"
      }
     },
     "a2cbc119580f4196b3455affe29c24bc": {
      "model_module": "@jupyter-widgets/base",
      "model_module_version": "2.0.0",
      "model_name": "LayoutModel",
      "state": {
       "height": "auto",
       "padding": "0px 0px 0px 4px",
       "width": "auto"
      }
     },
     "a2e43e0a6dee4edd831a1ee354ddea43": {
      "model_module": "@jupyter-widgets/controls",
      "model_module_version": "2.0.0",
      "model_name": "ToggleButtonStyleModel",
      "state": {
       "description_width": "",
       "font_family": null,
       "font_size": null,
       "font_style": null,
       "font_variant": null,
       "font_weight": null,
       "text_color": null,
       "text_decoration": null
      }
     },
     "a2e543e7f0814e989366fea695943b5a": {
      "model_module": "ipytree",
      "model_module_version": "^0.2",
      "model_name": "NodeModel",
      "state": {
       "_id": "6c43eeac-fef2-4750-be8c-3b11690b21d0",
       "_model_module_version": "^0.2",
       "_view_module_version": "^0.2",
       "icon": "file",
       "name": "convert_raster_to_vector.py"
      }
     },
     "a3202215020b4dfb943369164c0134d2": {
      "model_module": "@jupyter-widgets/base",
      "model_module_version": "2.0.0",
      "model_name": "LayoutModel",
      "state": {}
     },
     "a341dc1b99894f4f8a951581f3002815": {
      "model_module": "@jupyter-widgets/base",
      "model_module_version": "2.0.0",
      "model_name": "LayoutModel",
      "state": {
       "height": "28px",
       "padding": "0px 0px 0px 4px",
       "width": "28px"
      }
     },
     "a34f01aabb64464ab9d2bc3fa4fcd46b": {
      "model_module": "@jupyter-widgets/base",
      "model_module_version": "2.0.0",
      "model_name": "LayoutModel",
      "state": {}
     },
     "a3500d53dc464b769fb1cfa615c66367": {
      "model_module": "ipytree",
      "model_module_version": "^0.2",
      "model_name": "NodeModel",
      "state": {
       "_id": "2dbb3a11-7299-43ac-b89c-c46b1764f588",
       "_model_module_version": "^0.2",
       "_view_module_version": "^0.2",
       "icon": "file",
       "name": "filter_poly.py"
      }
     },
     "a374df28fef84434a241e53585655026": {
      "model_module": "jupyter-leaflet",
      "model_module_version": "^0.18",
      "model_name": "LeafletDrawControlModel",
      "state": {
       "_model_module_version": "^0.18",
       "_view_module_version": "^0.18",
       "marker": {
        "shapeOptions": {
         "color": "#3388ff"
        }
       },
       "options": [
        "position"
       ],
       "rectangle": {
        "shapeOptions": {
         "color": "#3388ff"
        }
       }
      }
     },
     "a3932ecfc7f346afb9315139830af736": {
      "model_module": "@jupyter-widgets/base",
      "model_module_version": "2.0.0",
      "model_name": "LayoutModel",
      "state": {
       "height": "auto",
       "padding": "0px 0px 0px 4px",
       "width": "auto"
      }
     },
     "a3cde40ec7e14fc2a8c849f10457a35b": {
      "model_module": "ipytree",
      "model_module_version": "^0.2",
      "model_name": "NodeModel",
      "state": {
       "_id": "2d50b2d8-bfe5-480b-8a91-82e7177589d8",
       "_model_module_version": "^0.2",
       "_view_module_version": "^0.2",
       "icon": "file",
       "name": "us_census_zip_code.py"
      }
     },
     "a3ef2ef6b8264b60831355424c74abed": {
      "model_module": "@jupyter-widgets/controls",
      "model_module_version": "2.0.0",
      "model_name": "ToggleButtonStyleModel",
      "state": {
       "description_width": "",
       "font_family": null,
       "font_size": null,
       "font_style": null,
       "font_variant": null,
       "font_weight": null,
       "text_color": null,
       "text_decoration": null
      }
     },
     "a42310b2f41f42478a90886c8c948509": {
      "model_module": "@jupyter-widgets/controls",
      "model_module_version": "2.0.0",
      "model_name": "ToggleButtonModel",
      "state": {
       "button_style": "primary",
       "icon": "google",
       "layout": "IPY_MODEL_dd09b623b009465cba6bcc0479f2edfd",
       "style": "IPY_MODEL_8334c5c4087f4e5abc60f56573aa14a3",
       "tooltip": "GEE Toolbox for cloud computing"
      }
     },
     "a42a775a41c34a419f42d007ad6b5690": {
      "model_module": "@jupyter-widgets/controls",
      "model_module_version": "2.0.0",
      "model_name": "HTMLModel",
      "state": {
       "layout": "IPY_MODEL_5946c062beae449b8119d04ae373ffd6",
       "style": "IPY_MODEL_fb8f677bc50148eaba4713c014af2485"
      }
     },
     "a435709a280c4660bf51e8ab32620a8f": {
      "model_module": "@jupyter-widgets/controls",
      "model_module_version": "2.0.0",
      "model_name": "RadioButtonsModel",
      "state": {
       "index": null,
       "layout": "IPY_MODEL_d510750fa89c4697bb0582a53f199b84",
       "style": "IPY_MODEL_d516d74004f64fff9a3515516aba1a80"
      }
     },
     "a4983e85483f44778346da6c0d396e39": {
      "model_module": "ipytree",
      "model_module_version": "^0.2",
      "model_name": "NodeModel",
      "state": {
       "_id": "c5fbd1b5-326f-4caf-9d50-69d8361b235f",
       "_model_module_version": "^0.2",
       "_view_module_version": "^0.2",
       "icon": "file",
       "name": "image_color_ramp.py"
      }
     },
     "a514b5d95a1e498d8352fe8909f71248": {
      "model_module": "@jupyter-widgets/controls",
      "model_module_version": "2.0.0",
      "model_name": "ToggleButtonStyleModel",
      "state": {
       "description_width": "",
       "font_family": null,
       "font_size": null,
       "font_style": null,
       "font_variant": null,
       "font_weight": null,
       "text_color": null,
       "text_decoration": null
      }
     },
     "a5193b452fe143f3abaa63d99faba36b": {
      "model_module": "@jupyter-widgets/controls",
      "model_module_version": "2.0.0",
      "model_name": "ToggleButtonModel",
      "state": {
       "button_style": "primary",
       "icon": "google",
       "layout": "IPY_MODEL_4035942334394d5d8572436d97d51e43",
       "style": "IPY_MODEL_79361d012849484db0f3a24c72c006d0",
       "tooltip": "GEE Toolbox for cloud computing"
      }
     },
     "a52c473c11be49e9b61455095a2f3433": {
      "model_module": "@jupyter-widgets/controls",
      "model_module_version": "2.0.0",
      "model_name": "ToggleButtonModel",
      "state": {
       "button_style": "primary",
       "icon": "adjust",
       "layout": "IPY_MODEL_5945087503fd4dada9acf64b0342a024",
       "style": "IPY_MODEL_f3c30fd00d214d87a2e18ce914067d59",
       "tooltip": "Planet imagery"
      }
     },
     "a54927600ba847788a118e53c8d080f6": {
      "model_module": "ipyevents",
      "model_module_version": "2.0.2",
      "model_name": "EventModel",
      "state": {
       "_supported_key_events": [
        "keydown",
        "keyup"
       ],
       "_supported_mouse_events": [
        "click",
        "auxclick",
        "dblclick",
        "mouseenter",
        "mouseleave",
        "mousedown",
        "mouseup",
        "mousemove",
        "wheel",
        "contextmenu",
        "dragstart",
        "drag",
        "dragend",
        "dragenter",
        "dragover",
        "dragleave",
        "drop"
       ],
       "_supported_touch_events": [
        "touchstart",
        "touchend",
        "touchmove",
        "touchcancel"
       ],
       "_view_module": "@jupyter-widgets/controls",
       "source": "IPY_MODEL_64492fb5cb8c452f9203eaebe79889d3",
       "throttle_or_debounce": "",
       "watched_events": [
        "mouseenter",
        "mouseleave"
       ],
       "xy_coordinate_system": ""
      }
     },
     "a559d25afc944c00ad3014caf5129ae5": {
      "model_module": "@jupyter-widgets/controls",
      "model_module_version": "2.0.0",
      "model_name": "TextStyleModel",
      "state": {
       "description_width": "",
       "font_size": null,
       "text_color": null
      }
     },
     "a56a7cdbe8474c678d85c1ef8bf97ee1": {
      "model_module": "@jupyter-widgets/base",
      "model_module_version": "2.0.0",
      "model_name": "LayoutModel",
      "state": {
       "max_height": "350px",
       "max_width": "340px",
       "overflow": "scroll"
      }
     },
     "a5730d4e085f42daa9b583d8e868cf89": {
      "model_module": "@jupyter-widgets/base",
      "model_module_version": "2.0.0",
      "model_name": "LayoutModel",
      "state": {
       "height": "auto",
       "padding": "0px 0px 0px 4px",
       "width": "auto"
      }
     },
     "a579c3e0fcb44de38675d3c560f48224": {
      "model_module": "@jupyter-widgets/controls",
      "model_module_version": "2.0.0",
      "model_name": "ButtonStyleModel",
      "state": {
       "font_family": null,
       "font_size": null,
       "font_style": null,
       "font_variant": null,
       "font_weight": null,
       "text_color": null,
       "text_decoration": null
      }
     },
     "a579d03942834623ab77fa6e1aed1339": {
      "model_module": "@jupyter-widgets/base",
      "model_module_version": "2.0.0",
      "model_name": "LayoutModel",
      "state": {}
     },
     "a583ac66c72543338a40698c0ab4894c": {
      "model_module": "ipytree",
      "model_module_version": "^0.2",
      "model_name": "NodeModel",
      "state": {
       "_id": "4d0bdbde-be15-443b-8207-5b3441d228dd",
       "_model_module_version": "^0.2",
       "_view_module_version": "^0.2",
       "icon": "file",
       "name": "spatial_joins.py"
      }
     },
     "a5b1479fee084ef389e43845e4d4f080": {
      "model_module": "@jupyter-widgets/controls",
      "model_module_version": "2.0.0",
      "model_name": "ToggleButtonStyleModel",
      "state": {
       "description_width": "",
       "font_family": null,
       "font_size": null,
       "font_style": null,
       "font_variant": null,
       "font_weight": null,
       "text_color": null,
       "text_decoration": null
      }
     },
     "a5b3188acfaa4b4a803ba15ce0afe14e": {
      "model_module": "ipyevents",
      "model_module_version": "2.0.2",
      "model_name": "EventModel",
      "state": {
       "_supported_key_events": [
        "keydown",
        "keyup"
       ],
       "_supported_mouse_events": [
        "click",
        "auxclick",
        "dblclick",
        "mouseenter",
        "mouseleave",
        "mousedown",
        "mouseup",
        "mousemove",
        "wheel",
        "contextmenu",
        "dragstart",
        "drag",
        "dragend",
        "dragenter",
        "dragover",
        "dragleave",
        "drop"
       ],
       "_supported_touch_events": [
        "touchstart",
        "touchend",
        "touchmove",
        "touchcancel"
       ],
       "_view_module": "@jupyter-widgets/controls",
       "source": "IPY_MODEL_46c2c63919814184b36033b3316472ee",
       "throttle_or_debounce": "",
       "watched_events": [
        "mouseenter",
        "mouseleave"
       ],
       "xy_coordinate_system": ""
      }
     },
     "a6012f7fb6b3482d984253775357561b": {
      "model_module": "@jupyter-widgets/controls",
      "model_module_version": "2.0.0",
      "model_name": "ToggleButtonModel",
      "state": {
       "button_style": "primary",
       "icon": "hand-o-up",
       "layout": "IPY_MODEL_787287705b4e4590ab595c11b87aac01",
       "style": "IPY_MODEL_5a1be8af4f5447d7a9d5e4ce4026b91c",
       "tooltip": "Collect training samples"
      }
     },
     "a621b87cb9ee4243a36de7e66603372f": {
      "model_module": "@jupyter-widgets/base",
      "model_module_version": "2.0.0",
      "model_name": "LayoutModel",
      "state": {
       "width": "70px"
      }
     },
     "a64b27e495554e3f8ac0dbebfbad147c": {
      "model_module": "jupyter-leaflet",
      "model_module_version": "^0.18",
      "model_name": "LeafletZoomControlModel",
      "state": {
       "_model_module_version": "^0.18",
       "_view_module_version": "^0.18",
       "options": [
        "position",
        "zoom_in_text",
        "zoom_in_title",
        "zoom_out_text",
        "zoom_out_title"
       ]
      }
     },
     "a680e1cc33b64f15b0bc8693dd71bd6b": {
      "model_module": "@jupyter-widgets/base",
      "model_module_version": "2.0.0",
      "model_name": "LayoutModel",
      "state": {
       "height": "auto",
       "padding": "0px 0px 0px 4px",
       "width": "auto"
      }
     },
     "a6b08803a11a4d47ba2c886b9b5ba163": {
      "model_module": "@jupyter-widgets/base",
      "model_module_version": "2.0.0",
      "model_name": "LayoutModel",
      "state": {}
     },
     "a6b8887a93ee4e1cad1e4e8d7a28641b": {
      "model_module": "@jupyter-widgets/controls",
      "model_module_version": "2.0.0",
      "model_name": "ToggleButtonModel",
      "state": {
       "button_style": "primary",
       "icon": "globe",
       "layout": "IPY_MODEL_f5b28812ea44441480dc7aa33e9082f5",
       "style": "IPY_MODEL_1c885d874ae24caebf25bf314d288bef",
       "tooltip": "Create timelapse"
      }
     },
     "a6c9dbb784964a8f8b6d715b1e2e0f30": {
      "model_module": "ipytree",
      "model_module_version": "^0.2",
      "model_name": "NodeModel",
      "state": {
       "_id": "00daf48b-ded5-499b-9bad-50c25489879d",
       "_model_module_version": "^0.2",
       "_view_module_version": "^0.2",
       "icon": "file",
       "name": "linear_regression.py"
      }
     },
     "a6f3982195334039af08dc9bc0c1aec0": {
      "model_module": "ipytree",
      "model_module_version": "^0.2",
      "model_name": "NodeModel",
      "state": {
       "_id": "84b855fa-bc62-4b4a-9a3f-8041754ca656",
       "_model_module_version": "^0.2",
       "_view_module_version": "^0.2",
       "icon": "file",
       "name": "image_stretch.py"
      }
     },
     "a706b32c61574ce185f21291f358abb7": {
      "model_module": "@jupyter-widgets/controls",
      "model_module_version": "2.0.0",
      "model_name": "ToggleButtonModel",
      "state": {
       "icon": "globe",
       "layout": "IPY_MODEL_01520de15c244604801768f9e4f46aae",
       "style": "IPY_MODEL_ee8c82da37f646e8983187dc47d95ba7",
       "tooltip": "Search location/data"
      }
     },
     "a71cfc4469354dffbba6b9b71426599b": {
      "model_module": "@jupyter-widgets/controls",
      "model_module_version": "2.0.0",
      "model_name": "ToggleButtonModel",
      "state": {
       "icon": "globe",
       "layout": "IPY_MODEL_2fef27a1683f4648bc7bdb657b3bad3e",
       "style": "IPY_MODEL_714ddcd23ece46d79e7a8ffcf7347cf0",
       "tooltip": "Search location/data"
      }
     },
     "a73a72d07108482fa2c486e443595436": {
      "model_module": "ipytree",
      "model_module_version": "^0.2",
      "model_name": "NodeModel",
      "state": {
       "_id": "058ab68e-ed88-4d32-a6c3-ee3a97584dd7",
       "_model_module_version": "^0.2",
       "_view_module_version": "^0.2",
       "icon": "file",
       "name": "ndwi.py"
      }
     },
     "a74062321ea94422bf1b6c66d354fe79": {
      "model_module": "jupyter-leaflet",
      "model_module_version": "^0.18",
      "model_name": "LeafletMapStyleModel",
      "state": {
       "_model_module_version": "^0.18",
       "cursor": "move"
      }
     },
     "a769917c77294ebf9876e45b95b34eaa": {
      "model_module": "jupyter-leaflet",
      "model_module_version": "^0.18",
      "model_name": "LeafletMapStyleModel",
      "state": {
       "_model_module_version": "^0.18"
      }
     },
     "a7af4eb9ab50434eaf90a7e35a320361": {
      "model_module": "@jupyter-widgets/base",
      "model_module_version": "2.0.0",
      "model_name": "LayoutModel",
      "state": {
       "height": "auto",
       "padding": "0px 0px 0px 4px",
       "width": "auto"
      }
     },
     "a7f2d0377a9241d7b720b6c17c5055b0": {
      "model_module": "@jupyter-widgets/controls",
      "model_module_version": "2.0.0",
      "model_name": "ToggleButtonModel",
      "state": {
       "icon": "server",
       "layout": "IPY_MODEL_bbbaf450847e494fb386df3178a486a7",
       "style": "IPY_MODEL_d1fb29b572414a08864700c517e7b378",
       "tooltip": "Layers"
      }
     },
     "a7f45c379e7943718f4d9e15c8f9f041": {
      "model_module": "@jupyter-widgets/base",
      "model_module_version": "2.0.0",
      "model_name": "LayoutModel",
      "state": {
       "height": "auto",
       "padding": "0px 0px 0px 4px",
       "width": "auto"
      }
     },
     "a8338288f9ed4ba4974c9457f1e139db": {
      "model_module": "ipytree",
      "model_module_version": "^0.2",
      "model_name": "NodeModel",
      "state": {
       "_id": "a7f20c34-1c2d-4345-a55d-c0bc5c365198",
       "_model_module_version": "^0.2",
       "_view_module_version": "^0.2",
       "icon": "file",
       "name": "map_get_bounds.py"
      }
     },
     "a8626ebbab49452b9f7e5e9aa93d9d69": {
      "model_module": "ipyevents",
      "model_module_version": "2.0.2",
      "model_name": "EventModel",
      "state": {
       "_supported_key_events": [
        "keydown",
        "keyup"
       ],
       "_supported_mouse_events": [
        "click",
        "auxclick",
        "dblclick",
        "mouseenter",
        "mouseleave",
        "mousedown",
        "mouseup",
        "mousemove",
        "wheel",
        "contextmenu",
        "dragstart",
        "drag",
        "dragend",
        "dragenter",
        "dragover",
        "dragleave",
        "drop"
       ],
       "_supported_touch_events": [
        "touchstart",
        "touchend",
        "touchmove",
        "touchcancel"
       ],
       "_view_module": "@jupyter-widgets/controls",
       "source": "IPY_MODEL_51dc79032e7d46e3aa869d97a36a9395",
       "throttle_or_debounce": "",
       "watched_events": [
        "mouseenter",
        "mouseleave"
       ],
       "xy_coordinate_system": ""
      }
     },
     "a88673d003354a739b7f4364838e7dfe": {
      "model_module": "@jupyter-widgets/controls",
      "model_module_version": "2.0.0",
      "model_name": "ToggleButtonStyleModel",
      "state": {
       "description_width": "",
       "font_family": null,
       "font_size": null,
       "font_style": null,
       "font_variant": null,
       "font_weight": null,
       "text_color": null,
       "text_decoration": null
      }
     },
     "a8fd1912a8d44119aecb7233da7de7e7": {
      "model_module": "ipytree",
      "model_module_version": "^0.2",
      "model_name": "NodeModel",
      "state": {
       "_id": "b3cf884f-5d46-4a3f-9ab1-fdfd27edf72f",
       "_model_module_version": "^0.2",
       "_view_module_version": "^0.2",
       "icon": "file",
       "name": "get_image_centroid.py"
      }
     },
     "a9b22135cfee4d06bfacfc881d9868b6": {
      "model_module": "jupyter-leaflet",
      "model_module_version": "^0.18",
      "model_name": "LeafletMapModel",
      "state": {
       "_model_module_version": "^0.18",
       "_view_module_version": "^0.18",
       "bottom": 812,
       "controls": [
        "IPY_MODEL_1005094d42ac48a4ba3981df09245e00",
        "IPY_MODEL_e65aeffd358d4db08889e61891cd5b11",
        "IPY_MODEL_34a8bd0041a84a54bf2f36aef68ef64a",
        "IPY_MODEL_4a1980738f514e36b400104ce89ddcc6",
        "IPY_MODEL_93bc872540324864b4892c8012136fc7",
        "IPY_MODEL_8fd814c10497491289035cad6995eb8b",
        "IPY_MODEL_3d97ff0879f34861be2f9bc42f1282d2",
        "IPY_MODEL_51a0bc9b9def4f1aaa0e1643f8e0ef1e"
       ],
       "default_style": "IPY_MODEL_d5de8bd226ed460c9d47dba8c2e98822",
       "dragging_style": "IPY_MODEL_c4c60f8bea7a4f38a2c2e9723135dd85",
       "east": 155.39062500000003,
       "fullscreen": false,
       "interpolation": "bilinear",
       "layers": [
        "IPY_MODEL_f71f056f69144947b3eb9a47fef56a6a",
        "IPY_MODEL_1de1f3b0ffc14a208adb91b1b1db2379"
       ],
       "layout": "IPY_MODEL_f7220f3545b242cca5e12c92549bc998",
       "left": 70,
       "max_zoom": 24,
       "modisdate": "2024-03-07",
       "north": 71.9653876991313,
       "options": [
        "bounce_at_zoom_limits",
        "box_zoom",
        "center",
        "close_popup_on_click",
        "double_click_zoom",
        "dragging",
        "fullscreen",
        "inertia",
        "inertia_deceleration",
        "inertia_max_speed",
        "interpolation",
        "keyboard",
        "keyboard_pan_offset",
        "keyboard_zoom_offset",
        "max_zoom",
        "min_zoom",
        "prefer_canvas",
        "scroll_wheel_zoom",
        "tap",
        "tap_tolerance",
        "touch_zoom",
        "world_copy_jump",
        "zoom",
        "zoom_animation_threshold",
        "zoom_delta",
        "zoom_snap"
       ],
       "prefer_canvas": false,
       "right": 954,
       "scroll_wheel_zoom": true,
       "south": -71.96538769913128,
       "style": "IPY_MODEL_a769917c77294ebf9876e45b95b34eaa",
       "top": 212,
       "west": -155.39062500000003,
       "window_url": "http://localhost:8888/lab",
       "zoom": 2
      }
     },
     "a9ea1c749c0c49d888e2be7813bdc713": {
      "model_module": "@jupyter-widgets/controls",
      "model_module_version": "2.0.0",
      "model_name": "DescriptionStyleModel",
      "state": {
       "description_width": ""
      }
     },
     "aa8e06bb3e30406bb1d939b672b44935": {
      "model_module": "ipytree",
      "model_module_version": "^0.2",
      "model_name": "NodeModel",
      "state": {
       "_id": "c6babec5-ec59-4329-a79c-fe1b1391e328",
       "_model_module_version": "^0.2",
       "_view_module_version": "^0.2",
       "icon": "file",
       "name": "international_boundary.py"
      }
     },
     "aac3318ee9024ca2861cb2a5c7db5715": {
      "model_module": "@jupyter-widgets/base",
      "model_module_version": "2.0.0",
      "model_name": "LayoutModel",
      "state": {}
     },
     "ab09a1d10f1941468bd846dd9cfe43c9": {
      "model_module": "@jupyter-widgets/controls",
      "model_module_version": "2.0.0",
      "model_name": "ToggleButtonStyleModel",
      "state": {
       "description_width": "",
       "font_family": null,
       "font_size": null,
       "font_style": null,
       "font_variant": null,
       "font_weight": null,
       "text_color": null,
       "text_decoration": null
      }
     },
     "ab6383e5e6634f82b73d7c3270d793b9": {
      "model_module": "ipytree",
      "model_module_version": "^0.2",
      "model_name": "NodeModel",
      "state": {
       "_id": "f00baafd-84a0-4624-afbe-e48232ba053e",
       "_model_module_version": "^0.2",
       "_view_module_version": "^0.2",
       "icon": "file",
       "name": "FromName.py"
      }
     },
     "ab66a20666ea4f46b1070a138e5a9061": {
      "model_module": "@jupyter-widgets/controls",
      "model_module_version": "2.0.0",
      "model_name": "HBoxModel",
      "state": {
       "children": [
        "IPY_MODEL_d18c570561be479c8947c08704b87c0a"
       ],
       "layout": "IPY_MODEL_5594f3021d71499799e80ae9fe3620cc"
      }
     },
     "abbd0e86af834b269de664255a294e54": {
      "model_module": "ipytree",
      "model_module_version": "^0.2",
      "model_name": "NodeModel",
      "state": {
       "_id": "2f08d872-754d-4c85-abfa-891e3060ea0c",
       "_model_module_version": "^0.2",
       "_view_module_version": "^0.2",
       "icon": "file",
       "name": "where_operators.py"
      }
     },
     "abc97379fcae449e9c21087fd792fb95": {
      "model_module": "ipytree",
      "model_module_version": "^0.2",
      "model_name": "NodeModel",
      "state": {
       "_id": "53c9d44b-36f9-4599-994d-fcda32b23477",
       "_model_module_version": "^0.2",
       "_view_module_version": "^0.2",
       "icon": "file",
       "name": "us_census_tracts.py"
      }
     },
     "abe05fbd5f0d4fc3b594ed9d505c9013": {
      "model_module": "ipytree",
      "model_module_version": "^0.2",
      "model_name": "NodeModel",
      "state": {
       "_id": "7ab3b5a0-e980-45e4-b963-390a79dbd13b",
       "_model_module_version": "^0.2",
       "_view_module_version": "^0.2",
       "icon": "file",
       "name": "from_name.py"
      }
     },
     "abecec8a5a0445fc9cf59b444e9e3aa0": {
      "model_module": "@jupyter-widgets/controls",
      "model_module_version": "2.0.0",
      "model_name": "ToggleButtonModel",
      "state": {
       "button_style": "primary",
       "icon": "question",
       "layout": "IPY_MODEL_e0c8ddb56a3e4883b70b19060022fc34",
       "style": "IPY_MODEL_e1f0dd4f690541078df5c1306f279382",
       "tooltip": "Get help"
      }
     },
     "ac34d4dd79e94b0a9d8150a067acc0aa": {
      "model_module": "@jupyter-widgets/controls",
      "model_module_version": "2.0.0",
      "model_name": "ToggleButtonStyleModel",
      "state": {
       "description_width": "",
       "font_family": null,
       "font_size": null,
       "font_style": null,
       "font_variant": null,
       "font_weight": null,
       "text_color": null,
       "text_decoration": null
      }
     },
     "ac5ff2da84104b43b77d3155fb6dad39": {
      "model_module": "@jupyter-widgets/controls",
      "model_module_version": "2.0.0",
      "model_name": "ToggleButtonModel",
      "state": {
       "button_style": "primary",
       "icon": "adjust",
       "layout": "IPY_MODEL_3c4bb2b050d94badab2bb0988aef5bac",
       "style": "IPY_MODEL_9601a275826641a6a8f875c94fdec2c4",
       "tooltip": "Planet imagery"
      }
     },
     "acc2bb5ddbd14f7d8d304e0e6d45cc07": {
      "model_module": "@jupyter-widgets/controls",
      "model_module_version": "2.0.0",
      "model_name": "ToggleButtonStyleModel",
      "state": {
       "description_width": "",
       "font_family": null,
       "font_size": null,
       "font_style": null,
       "font_variant": null,
       "font_weight": null,
       "text_color": null,
       "text_decoration": null
      }
     },
     "acf958a0b6134e61ac4ff40e94af9dd9": {
      "model_module": "@jupyter-widgets/base",
      "model_module_version": "2.0.0",
      "model_name": "LayoutModel",
      "state": {
       "height": "auto",
       "padding": "0px 0px 0px 4px",
       "width": "auto"
      }
     },
     "ad11fadbe66241ffaededbe8e40e740c": {
      "model_module": "@jupyter-widgets/controls",
      "model_module_version": "2.0.0",
      "model_name": "ToggleButtonModel",
      "state": {
       "icon": "globe",
       "layout": "IPY_MODEL_47fbd4a406e84a48ba1c3d176146184d",
       "style": "IPY_MODEL_6ec71e4785884a84bf6ed90b229d87e6",
       "tooltip": "Search location/data"
      }
     },
     "ad158f2c06be449a9f91e958c762fef2": {
      "model_module": "ipytree",
      "model_module_version": "^0.2",
      "model_name": "NodeModel",
      "state": {
       "_id": "17e0806c-c950-4f51-9146-220d9c71a3d7",
       "_model_module_version": "^0.2",
       "_view_module_version": "^0.2",
       "name": "MachineLearning",
       "nodes": [
        "IPY_MODEL_2dfa38134aee4b7ba766e87d5de4635e",
        "IPY_MODEL_16e87bb1b18845e6bf117d0bba5fff05",
        "IPY_MODEL_d519f67426ce427ca7a94adb90387f70",
        "IPY_MODEL_57263bb3b08b44aaa4f1912170ea1bc8"
       ],
       "opened": false
      }
     },
     "ad38723dab2a494385e6381f3a8d4113": {
      "model_module": "@jupyter-widgets/base",
      "model_module_version": "2.0.0",
      "model_name": "LayoutModel",
      "state": {
       "height": "auto",
       "padding": "0px 0px 0px 4px",
       "width": "auto"
      }
     },
     "ad70251e5ed346f9bc211d478e2e9382": {
      "model_module": "ipytree",
      "model_module_version": "^0.2",
      "model_name": "NodeModel",
      "state": {
       "_id": "2fdfbf66-0f01-4e18-a1f3-4a0b5c8eadf6",
       "_model_module_version": "^0.2",
       "_view_module_version": "^0.2",
       "icon": "file",
       "name": "random_samples.py"
      }
     },
     "ad766723683c4f3ab65d8845ab526b36": {
      "model_module": "ipytree",
      "model_module_version": "^0.2",
      "model_name": "NodeModel",
      "state": {
       "_id": "30bc0778-a06e-42a1-a321-1cb3baf2b09e",
       "_model_module_version": "^0.2",
       "_view_module_version": "^0.2",
       "icon": "file",
       "name": "exporting_data.py"
      }
     },
     "ad8aaac2482f47df97d1f5ec3d121a5e": {
      "model_module": "ipytree",
      "model_module_version": "^0.2",
      "model_name": "NodeModel",
      "state": {
       "_id": "9475c1a2-7920-4b32-acce-3d784c01a4b5",
       "_model_module_version": "^0.2",
       "_view_module_version": "^0.2",
       "icon": "file",
       "name": "basic_image.py"
      }
     },
     "ad9040d87e664db3a822adeabba658c0": {
      "model_module": "@jupyter-widgets/base",
      "model_module_version": "2.0.0",
      "model_name": "LayoutModel",
      "state": {
       "height": "auto",
       "padding": "0px 0px 0px 4px",
       "width": "auto"
      }
     },
     "ada1e59e52744808885b233c1052aacc": {
      "model_module": "@jupyter-widgets/base",
      "model_module_version": "2.0.0",
      "model_name": "LayoutModel",
      "state": {
       "height": "auto",
       "padding": "0px 0px 0px 4px",
       "width": "auto"
      }
     },
     "adaa4132710a46bdb03df205f5d3b94a": {
      "model_module": "@jupyter-widgets/controls",
      "model_module_version": "2.0.0",
      "model_name": "DropdownModel",
      "state": {
       "index": null,
       "layout": "IPY_MODEL_4e36e287e6e74b0fbea2d47b642cf806",
       "style": "IPY_MODEL_164b77003fcc420aaf838022c0eaca73"
      }
     },
     "adeb3c3ab1ca4b2eaa7ab17c55587df8": {
      "model_module": "ipytree",
      "model_module_version": "^0.2",
      "model_name": "NodeModel",
      "state": {
       "_id": "79442e9f-a33c-4720-ba85-b32a8472675b",
       "_model_module_version": "^0.2",
       "_view_module_version": "^0.2",
       "icon": "file",
       "name": "download.py"
      }
     },
     "ae05cd24ba3145f8a3a76b4b409a2c38": {
      "model_module": "ipytree",
      "model_module_version": "^0.2",
      "model_name": "NodeModel",
      "state": {
       "_id": "4b2e6418-52f3-4f54-a4bf-e0457f93a466",
       "_model_module_version": "^0.2",
       "_view_module_version": "^0.2",
       "icon": "file",
       "name": "map_center_object_no_zoom.py"
      }
     },
     "ae06aa41d78845549f03654874129425": {
      "model_module": "@jupyter-widgets/base",
      "model_module_version": "2.0.0",
      "model_name": "LayoutModel",
      "state": {
       "grid_gap": "1px 1px",
       "grid_template_columns": "32px 32px 32px ",
       "grid_template_rows": "32px 32px ",
       "padding": "5px",
       "width": "109px"
      }
     },
     "ae07ba49dadd486084d0bc373399cab8": {
      "model_module": "jupyter-leaflet",
      "model_module_version": "^0.18",
      "model_name": "LeafletFullScreenControlModel",
      "state": {
       "_model_module_version": "^0.18",
       "_view_module_version": "^0.18",
       "options": [
        "position"
       ]
      }
     },
     "ae2f4872010c43ffb25c6fbc59505ac1": {
      "model_module": "@jupyter-widgets/controls",
      "model_module_version": "2.0.0",
      "model_name": "ToggleButtonModel",
      "state": {
       "button_style": "primary",
       "icon": "folder-open",
       "layout": "IPY_MODEL_ada1e59e52744808885b233c1052aacc",
       "style": "IPY_MODEL_5014b15ffc4946df85f8f24d5807f4d8",
       "tooltip": "Open local vector/raster data"
      }
     },
     "ae6e07b7988c44b6ad3cbc79d55f869b": {
      "model_module": "@jupyter-widgets/controls",
      "model_module_version": "2.0.0",
      "model_name": "DescriptionStyleModel",
      "state": {
       "description_width": ""
      }
     },
     "aea7bf78dd3e48e881c1de6ed7ee908d": {
      "model_module": "@jupyter-widgets/controls",
      "model_module_version": "2.0.0",
      "model_name": "HTMLModel",
      "state": {
       "layout": "IPY_MODEL_e789f02176cc4329a9c0d3a190b13044",
       "style": "IPY_MODEL_d5156586ca5441f3a61a38b53e4bc9d4"
      }
     },
     "aeec2d87e387484a9b112d2474531602": {
      "model_module": "@jupyter-widgets/base",
      "model_module_version": "2.0.0",
      "model_name": "LayoutModel",
      "state": {}
     },
     "af126b28ae7b4c5bb5723ab07086f257": {
      "model_module": "@jupyter-widgets/output",
      "model_module_version": "1.0.0",
      "model_name": "OutputModel",
      "state": {
       "layout": "IPY_MODEL_c336abb0500040a4a990ea08b22bd45b"
      }
     },
     "af2961424de3496fa07d9cf49de5feab": {
      "model_module": "@jupyter-widgets/controls",
      "model_module_version": "2.0.0",
      "model_name": "ToggleButtonStyleModel",
      "state": {
       "description_width": "",
       "font_family": null,
       "font_size": null,
       "font_style": null,
       "font_variant": null,
       "font_weight": null,
       "text_color": null,
       "text_decoration": null
      }
     },
     "af2e0e02ae6742c686cc14b0a97312ac": {
      "model_module": "ipytree",
      "model_module_version": "^0.2",
      "model_name": "NodeModel",
      "state": {
       "_id": "9b641e79-4777-43d7-a8d5-ed8a30e8cb99",
       "_model_module_version": "^0.2",
       "_view_module_version": "^0.2",
       "icon": "file",
       "name": "extract_image_by_polygon.py"
      }
     },
     "af2f440f8e944c8897011fff97532c60": {
      "model_module": "ipytree",
      "model_module_version": "^0.2",
      "model_name": "NodeModel",
      "state": {
       "_id": "e7f6507e-3a11-4158-8b83-ab40311b8e70",
       "_model_module_version": "^0.2",
       "_view_module_version": "^0.2",
       "name": "Tutorials",
       "nodes": [
        "IPY_MODEL_037be7b191364583bf485f86304a552c",
        "IPY_MODEL_6e74568b3c71472c981e9fcd90eadc15"
       ]
      }
     },
     "af3462cfc82e4752bf050d4b16183984": {
      "model_module": "ipytree",
      "model_module_version": "^0.2",
      "model_name": "NodeModel",
      "state": {
       "_id": "24c7d228-d21f-407f-8cc3-cfaf451724a2",
       "_model_module_version": "^0.2",
       "_view_module_version": "^0.2",
       "icon": "file",
       "name": "expressions.py"
      }
     },
     "af3ff9c6b7e3422d817a95944475b9ca": {
      "model_module": "@jupyter-widgets/controls",
      "model_module_version": "2.0.0",
      "model_name": "TextModel",
      "state": {
       "layout": "IPY_MODEL_767fb3279d3146299cba4827fe1c9444",
       "placeholder": "Enter the link to a Git repository here...",
       "style": "IPY_MODEL_0a0404bb7ec24cb2b335bcf24f4cca82"
      }
     },
     "af690e4a48914f6286130cc002916dc6": {
      "model_module": "@jupyter-widgets/controls",
      "model_module_version": "2.0.0",
      "model_name": "ToggleButtonModel",
      "state": {
       "button_style": "primary",
       "icon": "map",
       "layout": "IPY_MODEL_6221667f50ab49a8a352da4db9a862e0",
       "style": "IPY_MODEL_1f7b4eeaa8cf4070b6a93f30230ea60b",
       "tooltip": "Change basemap"
      }
     },
     "b024b5a828494996982cb4e8c9a3f632": {
      "model_module": "ipytree",
      "model_module_version": "^0.2",
      "model_name": "NodeModel",
      "state": {
       "_id": "67b3719d-d6e6-48e6-90ca-672a96fa4d70",
       "_model_module_version": "^0.2",
       "_view_module_version": "^0.2",
       "icon": "file",
       "name": "landsat_simple_composite.py"
      }
     },
     "b02854308750429aa4687cc4669ad3fc": {
      "model_module": "@jupyter-widgets/base",
      "model_module_version": "2.0.0",
      "model_name": "LayoutModel",
      "state": {
       "height": "auto",
       "padding": "0px 0px 0px 4px",
       "width": "auto"
      }
     },
     "b06aacb9709c4d679972fb5de58f4799": {
      "model_module": "ipytree",
      "model_module_version": "^0.2",
      "model_name": "NodeModel",
      "state": {
       "_id": "50f76c7d-4ecf-4849-b05b-8ee064725aa0",
       "_model_module_version": "^0.2",
       "_view_module_version": "^0.2",
       "icon": "file",
       "name": "ClientVsServer.py"
      }
     },
     "b07c9f1f64754cc6855a223835152794": {
      "model_module": "ipytree",
      "model_module_version": "^0.2",
      "model_name": "NodeModel",
      "state": {
       "_id": "659425a6-4901-4744-8337-7f56a74ebe70",
       "_model_module_version": "^0.2",
       "_view_module_version": "^0.2",
       "icon": "file",
       "name": "convert_raster_to_vector.py"
      }
     },
     "b09c66bcf28340de966d2c126d6af9eb": {
      "model_module": "@jupyter-widgets/base",
      "model_module_version": "2.0.0",
      "model_name": "LayoutModel",
      "state": {
       "height": "auto",
       "padding": "0px 0px 0px 4px",
       "width": "auto"
      }
     },
     "b0d30a31b2854688b7cac3d9b7d46237": {
      "model_module": "ipytree",
      "model_module_version": "^0.2",
      "model_name": "NodeModel",
      "state": {
       "_id": "632ae850-ba06-4941-b6ef-e83d3fe5d488",
       "_model_module_version": "^0.2",
       "_view_module_version": "^0.2",
       "icon": "file",
       "name": "alos_chili.py"
      }
     },
     "b0e262b22b0545088d77253ad86aff20": {
      "model_module": "@jupyter-widgets/controls",
      "model_module_version": "2.0.0",
      "model_name": "ToggleButtonStyleModel",
      "state": {
       "description_width": "",
       "font_family": null,
       "font_size": null,
       "font_style": null,
       "font_variant": null,
       "font_weight": null,
       "text_color": null,
       "text_decoration": null
      }
     },
     "b10deac96938411c976f8a3cf5f17645": {
      "model_module": "ipytree",
      "model_module_version": "^0.2",
      "model_name": "NodeModel",
      "state": {
       "_id": "52cbcda8-7d6a-4d44-9d59-e7736611351b",
       "_model_module_version": "^0.2",
       "_view_module_version": "^0.2",
       "name": "Join",
       "nodes": [
        "IPY_MODEL_04fcba5dad5641368913c09a647dde24",
        "IPY_MODEL_c5b9e40e930c46ceb7eb703b0f428a58",
        "IPY_MODEL_09f15f50a0ef414998bd180e98915d73",
        "IPY_MODEL_01ea033befd6449e83768530c4af5a2b",
        "IPY_MODEL_b299bf120f8747cab353f98a02f9e057",
        "IPY_MODEL_fa6dc615a43f4593877b80ee7a20cf7f",
        "IPY_MODEL_4f9cf82166ce41bda1a3aed1d432f052"
       ],
       "opened": false
      }
     },
     "b132b24388c64996bd7cde3aae6a6f03": {
      "model_module": "@jupyter-widgets/base",
      "model_module_version": "2.0.0",
      "model_name": "LayoutModel",
      "state": {
       "height": "auto",
       "padding": "0px 0px 0px 4px",
       "width": "auto"
      }
     },
     "b188e4624d0f41f098ad4750b1b30233": {
      "model_module": "@jupyter-widgets/controls",
      "model_module_version": "2.0.0",
      "model_name": "ToggleButtonStyleModel",
      "state": {
       "description_width": "",
       "font_family": null,
       "font_size": null,
       "font_style": null,
       "font_variant": null,
       "font_weight": null,
       "text_color": null,
       "text_decoration": null
      }
     },
     "b1b08b1d45af4b2d83a9930a813cc4d0": {
      "model_module": "@jupyter-widgets/base",
      "model_module_version": "2.0.0",
      "model_name": "LayoutModel",
      "state": {
       "max_width": "57px",
       "min_width": "57px"
      }
     },
     "b1b21861858c4266be00c0bacf1ebe9c": {
      "model_module": "ipytree",
      "model_module_version": "^0.2",
      "model_name": "NodeModel",
      "state": {
       "_id": "866d7830-6371-49a4-8d78-36ecc1513621",
       "_model_module_version": "^0.2",
       "_view_module_version": "^0.2",
       "icon": "file",
       "name": "alos_topo_diversity.py"
      }
     },
     "b1be0980f8f141ecab84b8daa919f24f": {
      "model_module": "jupyter-leaflet",
      "model_module_version": "^0.18",
      "model_name": "LeafletDrawControlModel",
      "state": {
       "_model_module_version": "^0.18",
       "_view_module_version": "^0.18",
       "marker": {
        "shapeOptions": {
         "color": "#3388ff"
        }
       },
       "options": [
        "position"
       ],
       "polygon": {
        "shapeOptions": {
         "clickable": true,
         "color": "#3388ff",
         "fill": true,
         "fillColor": null,
         "fillOpacity": 0.2,
         "opacity": 0.5,
         "stroke": true,
         "weight": 4
        }
       },
       "polyline": {
        "shapeOptions": {
         "clickable": true,
         "color": "#3388ff",
         "fill": false,
         "opacity": 0.5,
         "stroke": true,
         "weight": 4
        }
       },
       "rectangle": {
        "shapeOptions": {
         "clickable": true,
         "color": "#3388ff",
         "fill": true,
         "fillColor": null,
         "fillOpacity": 0.2,
         "opacity": 0.5,
         "stroke": true,
         "weight": 4
        }
       }
      }
     },
     "b1ccc186d4094575b88ec0601050e28d": {
      "model_module": "ipytree",
      "model_module_version": "^0.2",
      "model_name": "NodeModel",
      "state": {
       "_id": "2e934e0d-10f8-4d60-abad-a95dbc0381b5",
       "_model_module_version": "^0.2",
       "_view_module_version": "^0.2",
       "icon": "file",
       "name": "ClippedComposite.py"
      }
     },
     "b1f2c597199c4b4fa4b938ae40bf2999": {
      "model_module": "@jupyter-widgets/base",
      "model_module_version": "2.0.0",
      "model_name": "LayoutModel",
      "state": {
       "max_width": "310px"
      }
     },
     "b1fad762eea24e59ba7b1bea85a363fd": {
      "model_module": "ipytree",
      "model_module_version": "^0.2",
      "model_name": "NodeModel",
      "state": {
       "_id": "e430e725-2560-4ab9-b334-f5a59d99c31f",
       "_model_module_version": "^0.2",
       "_view_module_version": "^0.2",
       "icon": "file",
       "name": "zonal_statistics.py"
      }
     },
     "b21bd80e890542f48fc204f3a70ae682": {
      "model_module": "jupyter-leaflet",
      "model_module_version": "^0.18",
      "model_name": "LeafletDrawControlModel",
      "state": {
       "_model_module_version": "^0.18",
       "_view_module_version": "^0.18",
       "marker": {
        "shapeOptions": {
         "color": "#3388ff"
        }
       },
       "options": [
        "position"
       ],
       "rectangle": {
        "shapeOptions": {
         "color": "#3388ff"
        }
       }
      }
     },
     "b2412305532242f69895a2c806b2fc12": {
      "model_module": "@jupyter-widgets/base",
      "model_module_version": "2.0.0",
      "model_name": "LayoutModel",
      "state": {
       "height": "auto",
       "padding": "0px 0px 0px 4px",
       "width": "auto"
      }
     },
     "b2476e4542e24bdf908954a829434905": {
      "model_module": "@jupyter-widgets/controls",
      "model_module_version": "2.0.0",
      "model_name": "VBoxModel",
      "state": {
       "_dom_classes": [
        "geemap-light"
       ],
       "_view_count": 0,
       "children": [
        "IPY_MODEL_f2ef35b48094472e945e9d25cec23199"
       ],
       "layout": "IPY_MODEL_35cd510b658d4966acf00df7b1f15d3b"
      }
     },
     "b25173d8af8e4ea2aec363ef80290d16": {
      "model_module": "@jupyter-widgets/base",
      "model_module_version": "2.0.0",
      "model_name": "LayoutModel",
      "state": {
       "height": "auto",
       "padding": "0px 0px 0px 4px",
       "width": "auto"
      }
     },
     "b255ef72e5b043a69c8df5399d74c4ba": {
      "model_module": "@jupyter-widgets/base",
      "model_module_version": "2.0.0",
      "model_name": "LayoutModel",
      "state": {
       "height": "auto",
       "padding": "0px 0px 0px 4px",
       "width": "auto"
      }
     },
     "b26d6d9bf8554b2c8959eafd3ae80dcb": {
      "model_module": "@jupyter-widgets/controls",
      "model_module_version": "2.0.0",
      "model_name": "TextStyleModel",
      "state": {
       "description_width": "",
       "font_size": null,
       "text_color": null
      }
     },
     "b2799bb07d3f4a50a6037c9ad7b1cdf2": {
      "model_module": "ipytree",
      "model_module_version": "^0.2",
      "model_name": "NodeModel",
      "state": {
       "_id": "7a6222e2-6d69-4357-98bf-5913df6804b3",
       "_model_module_version": "^0.2",
       "_view_module_version": "^0.2",
       "icon": "file",
       "name": "hillshade.py"
      }
     },
     "b299bf120f8747cab353f98a02f9e057": {
      "model_module": "ipytree",
      "model_module_version": "^0.2",
      "model_name": "NodeModel",
      "state": {
       "_id": "031c3396-5264-434d-860d-86b2a44b0752",
       "_model_module_version": "^0.2",
       "_view_module_version": "^0.2",
       "icon": "file",
       "name": "save_best_joins.py"
      }
     },
     "b2d075230c1c4cb2abfda2e564a193ab": {
      "model_module": "@jupyter-widgets/controls",
      "model_module_version": "2.0.0",
      "model_name": "ToggleButtonStyleModel",
      "state": {
       "description_width": "",
       "font_family": null,
       "font_size": null,
       "font_style": null,
       "font_variant": null,
       "font_weight": null,
       "text_color": null,
       "text_decoration": null
      }
     },
     "b34509feb0a441b69dad78ffe59c65c6": {
      "model_module": "@jupyter-widgets/controls",
      "model_module_version": "2.0.0",
      "model_name": "TextModel",
      "state": {
       "layout": "IPY_MODEL_9092c30c369d4e0782e091d39851b5d8",
       "placeholder": "Filter methods...",
       "style": "IPY_MODEL_dbe4a532e0034e38ace75a4c8679e836",
       "value": "Loading..."
      }
     },
     "b35ab3a269e24cd5b9ed37b4f0fd573b": {
      "model_module": "@jupyter-widgets/base",
      "model_module_version": "2.0.0",
      "model_name": "LayoutModel",
      "state": {
       "height": "auto",
       "padding": "0px 0px 0px 4px",
       "width": "auto"
      }
     },
     "b36494af40344aa191266181686cdc32": {
      "model_module": "@jupyter-widgets/base",
      "model_module_version": "2.0.0",
      "model_name": "LayoutModel",
      "state": {
       "height": "28px",
       "padding": "0px 0px 0px 4px",
       "width": "28px"
      }
     },
     "b36ec2671ffc4eff952214f6a6f58303": {
      "model_module": "@jupyter-widgets/controls",
      "model_module_version": "2.0.0",
      "model_name": "RadioButtonsModel",
      "state": {
       "index": null,
       "layout": "IPY_MODEL_ff13081c630147ffa59070cecabbf02d",
       "style": "IPY_MODEL_038f76eb8c2a4cf0b3e73f0e605fb4db"
      }
     },
     "b377ba9dfc564d83bed4422dc756420d": {
      "model_module": "jupyter-leaflet",
      "model_module_version": "^0.18",
      "model_name": "LeafletTileLayerModel",
      "state": {
       "_model_module_version": "^0.18",
       "_view_module_version": "^0.18",
       "attribution": "Esri",
       "max_zoom": 24,
       "name": "Esri.WorldImagery",
       "options": [
        "attribution",
        "bounds",
        "detect_retina",
        "max_native_zoom",
        "max_zoom",
        "min_native_zoom",
        "min_zoom",
        "no_wrap",
        "tile_size",
        "tms",
        "zoom_offset"
       ],
       "url": "https://server.arcgisonline.com/ArcGIS/rest/services/World_Imagery/MapServer/tile/{z}/{y}/{x}"
      }
     },
     "b3921a552b254be2b132d71d8d40fda6": {
      "model_module": "@jupyter-widgets/base",
      "model_module_version": "2.0.0",
      "model_name": "LayoutModel",
      "state": {
       "height": "auto",
       "padding": "0px 0px 0px 4px",
       "width": "auto"
      }
     },
     "b3995e9958ec4dfd875d07c8d839d4d5": {
      "model_module": "ipytree",
      "model_module_version": "^0.2",
      "model_name": "NodeModel",
      "state": {
       "_id": "9975d495-0401-407a-add4-dae9debe61af",
       "_model_module_version": "^0.2",
       "_view_module_version": "^0.2",
       "icon": "file",
       "name": "resampling.py"
      }
     },
     "b3bcb38c732d4a54a3b92216f5fc0ba6": {
      "model_module": "ipytree",
      "model_module_version": "^0.2",
      "model_name": "NodeModel",
      "state": {
       "_id": "916ab9fd-0e91-43a6-8382-7aa0ad9c31df",
       "_model_module_version": "^0.2",
       "_view_module_version": "^0.2",
       "icon": "file",
       "name": "export_TimeSeries.py"
      }
     },
     "b3d4d87600c54972827b16905fcc9414": {
      "model_module": "ipytree",
      "model_module_version": "^0.2",
      "model_name": "NodeModel",
      "state": {
       "_id": "b3e1f36b-3424-4a36-bce9-7fcbb6ee9fe1",
       "_model_module_version": "^0.2",
       "_view_module_version": "^0.2",
       "icon": "file",
       "name": "gradients.py"
      }
     },
     "b476d10b3b9e4d649ae4941ff6b3ae63": {
      "model_module": "@jupyter-widgets/controls",
      "model_module_version": "2.0.0",
      "model_name": "ToggleButtonsModel",
      "state": {
       "_options_labels": [
        "name/address",
        "lat-lon",
        "data"
       ],
       "button_style": "",
       "icons": [],
       "index": 0,
       "layout": "IPY_MODEL_100f0e7a8e8546dd90e89c0c30a32285",
       "style": "IPY_MODEL_ec9cfc7933ae4e8d998dd84f57aa660f",
       "tooltips": [
        "Search by place name or address",
        "Search by lat-lon coordinates",
        "Search Earth Engine data catalog"
       ]
      }
     },
     "b4f0630cc66c4c25b70ff52c4645e9eb": {
      "model_module": "@jupyter-widgets/controls",
      "model_module_version": "2.0.0",
      "model_name": "ToggleButtonStyleModel",
      "state": {
       "description_width": "",
       "font_family": null,
       "font_size": null,
       "font_style": null,
       "font_variant": null,
       "font_weight": null,
       "text_color": null,
       "text_decoration": null
      }
     },
     "b526b59e534f4c38ba20239371e50fab": {
      "model_module": "ipytree",
      "model_module_version": "^0.2",
      "model_name": "NodeModel",
      "state": {
       "_id": "f1b0c16d-a7ff-4213-995b-34d5e068c76b",
       "_model_module_version": "^0.2",
       "_view_module_version": "^0.2",
       "icon": "file",
       "name": "srtm_mtpi.py"
      }
     },
     "b56976cccfa541bcae95b75f1dd66f26": {
      "model_module": "@jupyter-widgets/base",
      "model_module_version": "2.0.0",
      "model_name": "LayoutModel",
      "state": {
       "width": "500px"
      }
     },
     "b572833e49cf4dc193b2917be2e633e9": {
      "model_module": "jupyter-leaflet",
      "model_module_version": "^0.18",
      "model_name": "LeafletMapStyleModel",
      "state": {
       "_model_module_version": "^0.18"
      }
     },
     "b59d4fd1d688449ca50dafd09800713b": {
      "model_module": "@jupyter-widgets/base",
      "model_module_version": "2.0.0",
      "model_name": "LayoutModel",
      "state": {
       "height": "auto",
       "padding": "0px 0px 0px 4px",
       "width": "auto"
      }
     },
     "b5bdc618396346b8a5a1b3fff95cd812": {
      "model_module": "ipytree",
      "model_module_version": "^0.2",
      "model_name": "NodeModel",
      "state": {
       "_id": "b8c48451-204e-45a8-b255-2f8f453eefd5",
       "_model_module_version": "^0.2",
       "_view_module_version": "^0.2",
       "icon": "file",
       "name": "convolutions.py"
      }
     },
     "b5d2298cdc7644e99a5baa0d9cbac657": {
      "model_module": "@jupyter-widgets/base",
      "model_module_version": "2.0.0",
      "model_name": "LayoutModel",
      "state": {
       "height": "auto",
       "padding": "0px 0px 0px 4px",
       "width": "auto"
      }
     },
     "b5f07a1cc46840759391315f645d6929": {
      "model_module": "@jupyter-widgets/controls",
      "model_module_version": "2.0.0",
      "model_name": "HBoxModel",
      "state": {
       "children": [
        "IPY_MODEL_f3671d533fa34707a692077dc8ad322e",
        "IPY_MODEL_9f80513d399a48e0b50260ffc3435352"
       ],
       "layout": "IPY_MODEL_6504862e50714fc5be33dce1406f71fb"
      }
     },
     "b63e20538106440b9a043c4c89563a4e": {
      "model_module": "@jupyter-widgets/controls",
      "model_module_version": "2.0.0",
      "model_name": "HBoxModel",
      "state": {
       "_dom_classes": [
        "geemap-light"
       ],
       "_view_count": 0,
       "children": [
        "IPY_MODEL_a706b32c61574ce185f21291f358abb7"
       ],
       "layout": "IPY_MODEL_1f801f73612240f48fd48427d5da8b46"
      }
     },
     "b6513f25728043eeb8d4f809464b6143": {
      "model_module": "@jupyter-widgets/base",
      "model_module_version": "2.0.0",
      "model_name": "LayoutModel",
      "state": {}
     },
     "b66fcac531a7407d83f118684f398290": {
      "model_module": "@jupyter-widgets/controls",
      "model_module_version": "2.0.0",
      "model_name": "ToggleButtonStyleModel",
      "state": {
       "description_width": "",
       "font_family": null,
       "font_size": null,
       "font_style": null,
       "font_variant": null,
       "font_weight": null,
       "text_color": null,
       "text_decoration": null
      }
     },
     "b69638b9d2944911bd4f232466c30d13": {
      "model_module": "ipytree",
      "model_module_version": "^0.2",
      "model_name": "NodeModel",
      "state": {
       "_id": "7b52704a-18a1-4a2d-8e17-57db893f2fcd",
       "_model_module_version": "^0.2",
       "_view_module_version": "^0.2",
       "name": "ImageCollection",
       "nodes": [
        "IPY_MODEL_48c4866745294ffc8fb9131f4d214f50",
        "IPY_MODEL_f827e1cd9d684908ba663b9a878b7336",
        "IPY_MODEL_73f5c77082df42c39e70c2cdfe7ab715",
        "IPY_MODEL_8e4c9a943afa4038b3118b545eb291e1",
        "IPY_MODEL_1e969975b44048279fdc35f13dc7063d",
        "IPY_MODEL_76eb632de3604252adc92fe136536ce1",
        "IPY_MODEL_16c6e01e338644a9b9b2c08a8c177674",
        "IPY_MODEL_9518d6666ee5452da1369cb1d2719d03",
        "IPY_MODEL_ff7ddaf432a14154959910712eb8193d",
        "IPY_MODEL_a8fd1912a8d44119aecb7233da7de7e7",
        "IPY_MODEL_f7a15d1ba8fb4c76ac7669f31f8f44d6",
        "IPY_MODEL_b024b5a828494996982cb4e8c9a3f632",
        "IPY_MODEL_dc090672d9d643fca1077c2bb4387963",
        "IPY_MODEL_532cca047892448eae1a9a9598b81a14",
        "IPY_MODEL_d7292389f058418b8844872b3f4ef485",
        "IPY_MODEL_6080ec7346b4405f8d6cb706d5d94224",
        "IPY_MODEL_1599293c39354e459d67e37c3361d8c7",
        "IPY_MODEL_8095bad0b6024151b1617348ab097b81",
        "IPY_MODEL_d508e7380a6c44dcbaf076643fb5aae3",
        "IPY_MODEL_3ea7a045f5f749d8be9c50e729a35d2d"
       ],
       "opened": false
      }
     },
     "b69c522a7e234d46b9bcb3aaf5d663b3": {
      "model_module": "jupyter-leaflet",
      "model_module_version": "^0.18",
      "model_name": "LeafletDrawControlModel",
      "state": {
       "_model_module_version": "^0.18",
       "_view_module_version": "^0.18",
       "marker": {
        "shapeOptions": {
         "color": "#3388ff"
        }
       },
       "options": [
        "position"
       ],
       "rectangle": {
        "shapeOptions": {
         "color": "#3388ff"
        }
       }
      }
     },
     "b6c0aa9d97dd4e73a2c467f863a6ac2d": {
      "model_module": "@jupyter-widgets/controls",
      "model_module_version": "2.0.0",
      "model_name": "ToggleButtonStyleModel",
      "state": {
       "description_width": "",
       "font_family": null,
       "font_size": null,
       "font_style": null,
       "font_variant": null,
       "font_weight": null,
       "text_color": null,
       "text_decoration": null
      }
     },
     "b6d8ce3d68c34033806f649422e51401": {
      "model_module": "@jupyter-widgets/base",
      "model_module_version": "2.0.0",
      "model_name": "LayoutModel",
      "state": {
       "height": "28px",
       "padding": "0px 0px 0px 4px",
       "width": "28px"
      }
     },
     "b70a931ca5784c298686b904a80d409f": {
      "model_module": "jupyter-leaflet",
      "model_module_version": "^0.18",
      "model_name": "LeafletAttributionControlModel",
      "state": {
       "_model_module_version": "^0.18",
       "_view_module_version": "^0.18",
       "options": [
        "position",
        "prefix"
       ],
       "position": "bottomright",
       "prefix": "ipyleaflet"
      }
     },
     "b7390b9dc47d4ba790ab35757779df94": {
      "model_module": "@jupyter-widgets/controls",
      "model_module_version": "2.0.0",
      "model_name": "HBoxModel",
      "state": {
       "children": [
        "IPY_MODEL_fce59f99dfa748cb9cadfc649e1b2e78"
       ],
       "layout": "IPY_MODEL_27b10415f3284273938c3d4849826645"
      }
     },
     "b740a1736a904f0b9b3283a9ff6f4240": {
      "model_module": "jupyter-leaflet",
      "model_module_version": "^0.18",
      "model_name": "LeafletMeasureControlModel",
      "state": {
       "_model_module_version": "^0.18",
       "_view_module_version": "^0.18",
       "active_color": "orange",
       "options": [
        "active_color",
        "capture_z_index",
        "completed_color",
        "popup_options",
        "position",
        "primary_area_unit",
        "primary_length_unit",
        "secondary_area_unit",
        "secondary_length_unit"
       ],
       "position": "bottomleft",
       "primary_length_unit": "kilometers",
       "secondary_area_unit": null,
       "secondary_length_unit": null
      }
     },
     "b750d10f95644e2a95653ddace184efc": {
      "model_module": "ipytree",
      "model_module_version": "^0.2",
      "model_name": "NodeModel",
      "state": {
       "_id": "ba50c174-84d9-4571-bc13-cbe785cdaf69",
       "_model_module_version": "^0.2",
       "_view_module_version": "^0.2",
       "icon": "file",
       "name": "centroid.py"
      }
     },
     "b78060340b894cc38d38aea9c3f1241c": {
      "model_module": "ipytree",
      "model_module_version": "^0.2",
      "model_name": "NodeModel",
      "state": {
       "_id": "2572b331-0b5e-4151-bc9a-88e88634e1dd",
       "_model_module_version": "^0.2",
       "_view_module_version": "^0.2",
       "icon": "file",
       "name": "conditional_operations.py"
      }
     },
     "b7a201d5a6094bd2b8a9fd4b54a2bbe4": {
      "model_module": "@jupyter-widgets/controls",
      "model_module_version": "2.0.0",
      "model_name": "TextStyleModel",
      "state": {
       "description_width": "",
       "font_size": null,
       "text_color": null
      }
     },
     "b7b39a22b0c84711b8a5f63d22240afb": {
      "model_module": "ipytree",
      "model_module_version": "^0.2",
      "model_name": "NodeModel",
      "state": {
       "_id": "f1635c80-cb86-44c5-911a-b1a0707c8286",
       "_model_module_version": "^0.2",
       "_view_module_version": "^0.2",
       "icon": "file",
       "name": "us_census_states.py"
      }
     },
     "b7e13191537149208f51c2c6a9d78a64": {
      "model_module": "@jupyter-widgets/controls",
      "model_module_version": "2.0.0",
      "model_name": "HBoxModel",
      "state": {
       "children": [
        "IPY_MODEL_4bcfc987ae2a4768847aa06f6d72144a",
        "IPY_MODEL_07526697c8e04becb3dc84228725fedd"
       ],
       "layout": "IPY_MODEL_543aa5a00f92471cb4a960270f5118c0"
      }
     },
     "b8474d97249a430b95a1b707fc940b33": {
      "model_module": "ipytree",
      "model_module_version": "^0.2",
      "model_name": "NodeModel",
      "state": {
       "_id": "7308354f-cae4-4bdf-b0b7-c054a020f8fe",
       "_model_module_version": "^0.2",
       "_view_module_version": "^0.2",
       "icon": "file",
       "name": "filter_string_starts_with.py"
      }
     },
     "b84d59c5e2954dddbb7567bbf66246d7": {
      "model_module": "ipytree",
      "model_module_version": "^0.2",
      "model_name": "NodeModel",
      "state": {
       "_id": "4bba77c2-f594-4777-b605-5548219c08f5",
       "_model_module_version": "^0.2",
       "_view_module_version": "^0.2",
       "icon": "file",
       "name": "hsv_pan_sharpen.py"
      }
     },
     "b85418eb5bcb41e6b9b301902a94e342": {
      "model_module": "@jupyter-widgets/controls",
      "model_module_version": "2.0.0",
      "model_name": "ToggleButtonStyleModel",
      "state": {
       "description_width": "",
       "font_family": null,
       "font_size": null,
       "font_style": null,
       "font_variant": null,
       "font_weight": null,
       "text_color": null,
       "text_decoration": null
      }
     },
     "b88042f0de5a44b89befcc52b584136f": {
      "model_module": "@jupyter-widgets/controls",
      "model_module_version": "2.0.0",
      "model_name": "ToggleButtonModel",
      "state": {
       "button_style": "primary",
       "icon": "retweet",
       "layout": "IPY_MODEL_be022fa775a142329b6e604cad1521e9",
       "style": "IPY_MODEL_90fc5173a99e47788fe88f2be3697c6e",
       "tooltip": "Convert Earth Engine JavaScript to Python"
      }
     },
     "b8827962a1414af3a425b16248bc50ed": {
      "model_module": "@jupyter-widgets/base",
      "model_module_version": "2.0.0",
      "model_name": "LayoutModel",
      "state": {
       "width": "340px"
      }
     },
     "b88adb1761a84012bf24caa2398e9dee": {
      "model_module": "jupyter-leaflet",
      "model_module_version": "^0.18",
      "model_name": "LeafletWMSLayerModel",
      "state": {
       "_model_module_version": "^0.18",
       "_view_module_version": "^0.18",
       "attribution": "MRLC",
       "crs": {
        "custom": false,
        "name": "EPSG3857"
       },
       "format": "image/png",
       "layers": "NLCD_2001_Land_Cover_L48",
       "name": "NLCD 2001 CONUS Land Cover",
       "options": [
        "attribution",
        "bounds",
        "detect_retina",
        "format",
        "layers",
        "max_native_zoom",
        "max_zoom",
        "min_native_zoom",
        "min_zoom",
        "no_wrap",
        "styles",
        "tile_size",
        "tms",
        "transparent",
        "uppercase",
        "zoom_offset"
       ],
       "transparent": true,
       "url": "https://www.mrlc.gov/geoserver/mrlc_display/NLCD_2001_Land_Cover_L48/wms?"
      }
     },
     "b8b72750e2ca42ddb11caa6341b3bf5b": {
      "model_module": "@jupyter-widgets/base",
      "model_module_version": "2.0.0",
      "model_name": "LayoutModel",
      "state": {
       "height": "28px",
       "padding": "0px 0px 0px 4px",
       "width": "28px"
      }
     },
     "b8b9599c40e542d29d2aa1496238d5fe": {
      "model_module": "@jupyter-widgets/controls",
      "model_module_version": "2.0.0",
      "model_name": "HBoxModel",
      "state": {
       "children": [
        "IPY_MODEL_3477f77a48c6465b8d348a0daeab4cc7",
        "IPY_MODEL_649069edd53c4bae826449075c1b7f74",
        "IPY_MODEL_f40ae9293a1d4cdb9dc7456f5d464af8"
       ],
       "layout": "IPY_MODEL_4b68e6e180894cf39eeb74fd8005f361"
      }
     },
     "b8e31c66ac9546a3a8ad9b810fad8b14": {
      "model_module": "ipytree",
      "model_module_version": "^0.2",
      "model_name": "NodeModel",
      "state": {
       "_id": "3812d2d1-21d4-4c41-8ec3-134fc725989c",
       "_model_module_version": "^0.2",
       "_view_module_version": "^0.2",
       "icon": "file",
       "name": "add_new_attribute.py"
      }
     },
     "b965f8e42d634af492d78ca77e313791": {
      "model_module": "@jupyter-widgets/base",
      "model_module_version": "2.0.0",
      "model_name": "LayoutModel",
      "state": {
       "height": "auto",
       "padding": "0px 0px 0px 4px",
       "width": "auto"
      }
     },
     "b96fff0cddf444599343f75e5d5368e5": {
      "model_module": "jupyter-leaflet",
      "model_module_version": "^0.18",
      "model_name": "LeafletMapStyleModel",
      "state": {
       "_model_module_version": "^0.18"
      }
     },
     "b9d960eeb4e544f3a32f8d1bfa2edc49": {
      "model_module": "ipytree",
      "model_module_version": "^0.2",
      "model_name": "NodeModel",
      "state": {
       "_id": "3530b8dd-fdc2-4afb-a55d-454f6c6eee20",
       "_model_module_version": "^0.2",
       "_view_module_version": "^0.2",
       "name": "earthengine-py-examples",
       "nodes": [
        "IPY_MODEL_a09bbc5823d24abca13517ec4f057111",
        "IPY_MODEL_d84e6bf3ea4b413a85b741d515deb5fe",
        "IPY_MODEL_0b83c393081a41bdb2a8e622e7b3e524",
        "IPY_MODEL_97a453c492624bb3b6063fc897a94b67",
        "IPY_MODEL_7d7bf73f449f4c6eb8e034c899a8a850",
        "IPY_MODEL_5805586ba4094d428d950cd62f2d3422",
        "IPY_MODEL_f55278c2236249a9a7df9397521b5d7d",
        "IPY_MODEL_f8f52a8949a7483eb70fd9edf6e94e73",
        "IPY_MODEL_278dd977d941431a914b749199ecb0ea",
        "IPY_MODEL_4bf2a43f1c204336a60d7952e1529b64",
        "IPY_MODEL_26a5faeadd9b4c2cba33186cf769a84c",
        "IPY_MODEL_bd1a9ac30c244c9f807acdcf6d4b7cfc",
        "IPY_MODEL_bdbb9fe22e74443bb39afffc74242cda",
        "IPY_MODEL_b69638b9d2944911bd4f232466c30d13",
        "IPY_MODEL_633b06fcdd5645f9b305136892600fa8",
        "IPY_MODEL_b10deac96938411c976f8a3cf5f17645",
        "IPY_MODEL_ad158f2c06be449a9f91e958c762fef2",
        "IPY_MODEL_34a6bf625bb84541bde656c93fcffc8c",
        "IPY_MODEL_9ba9c3f0f45348ab9e0902a7b899d58f",
        "IPY_MODEL_af2f440f8e944c8897011fff97532c60",
        "IPY_MODEL_3a02c6e340f8423eb5b57d191e8d162f"
       ],
       "opened": false
      }
     },
     "b9e56cef87b2455cbed3cc417e37e62f": {
      "model_module": "@jupyter-widgets/controls",
      "model_module_version": "2.0.0",
      "model_name": "HBoxModel",
      "state": {
       "_dom_classes": [
        "geemap-light"
       ],
       "_view_count": 0,
       "children": [
        "IPY_MODEL_5e77ba85aa624ba5a3f16805e329398f"
       ],
       "layout": "IPY_MODEL_50a5e17401584b2b827de00e9ff1f5e1"
      }
     },
     "ba1f4d7151a9408a8041aa30e58bf4c5": {
      "model_module": "@jupyter-widgets/controls",
      "model_module_version": "2.0.0",
      "model_name": "ToggleButtonModel",
      "state": {
       "button_style": "primary",
       "icon": "google",
       "layout": "IPY_MODEL_f062646f463c4320ba54c0957f0551fa",
       "style": "IPY_MODEL_43ae37a475c64b5b9d6d02159b39ff70",
       "tooltip": "GEE Toolbox for cloud computing"
      }
     },
     "ba2825d549ef41aa8bd87ad7db3fe9e5": {
      "model_module": "ipytree",
      "model_module_version": "^0.2",
      "model_name": "NodeModel",
      "state": {
       "_id": "b6b95a47-fb4f-46d2-b0c1-db7079489ca3",
       "_model_module_version": "^0.2",
       "_view_module_version": "^0.2",
       "icon": "file",
       "name": "us_census_roads.py"
      }
     },
     "ba886a8895bf42f0ae1dc1db3d9f1551": {
      "model_module": "ipytree",
      "model_module_version": "^0.2",
      "model_name": "NodeModel",
      "state": {
       "_id": "80424e1b-effd-450d-bc69-c0be4a0b968d",
       "_model_module_version": "^0.2",
       "_view_module_version": "^0.2",
       "icon": "file",
       "name": "alos_global_dsm.py"
      }
     },
     "ba9d3705174046329abb3adfe815d07a": {
      "model_module": "ipytree",
      "model_module_version": "^0.2",
      "model_name": "NodeModel",
      "state": {
       "_id": "98643460-acc1-4f63-86c2-ea58cf4637c6",
       "_model_module_version": "^0.2",
       "_view_module_version": "^0.2",
       "icon": "file",
       "name": "simplify_polygons.py"
      }
     },
     "bb1995cf46fd4aae93e723f681c4fa5b": {
      "model_module": "@jupyter-widgets/controls",
      "model_module_version": "2.0.0",
      "model_name": "ButtonStyleModel",
      "state": {
       "font_family": null,
       "font_size": null,
       "font_style": null,
       "font_variant": null,
       "font_weight": null,
       "text_color": null,
       "text_decoration": null
      }
     },
     "bb425da0a7b74c7e8fe39565770eee8a": {
      "model_module": "@jupyter-widgets/base",
      "model_module_version": "2.0.0",
      "model_name": "LayoutModel",
      "state": {
       "max_width": "57px",
       "min_width": "57px"
      }
     },
     "bb5345aee3364c2d9e09c8e3c278a96e": {
      "model_module": "@jupyter-widgets/controls",
      "model_module_version": "2.0.0",
      "model_name": "HBoxModel",
      "state": {
       "children": [
        "IPY_MODEL_7a76e220a2fd4fbfb4a8a9aa0c8eb822",
        "IPY_MODEL_d7c23f165c4b4650895431326cd8fd8b"
       ],
       "layout": "IPY_MODEL_f71c3be7488b4747a7c0748a052d7c3a"
      }
     },
     "bb976818d9b94733a58ab9543eb391f8": {
      "model_module": "ipytree",
      "model_module_version": "^0.2",
      "model_name": "NodeModel",
      "state": {
       "_id": "7eef25d0-6d10-41d3-b681-7bff4a16a6f9",
       "_model_module_version": "^0.2",
       "_view_module_version": "^0.2",
       "icon": "file",
       "name": "image_vis.py"
      }
     },
     "bbbaf450847e494fb386df3178a486a7": {
      "model_module": "@jupyter-widgets/base",
      "model_module_version": "2.0.0",
      "model_name": "LayoutModel",
      "state": {
       "height": "28px",
       "width": "72px"
      }
     },
     "bbf3f8fd6ff64daa817f69390e1c42d2": {
      "model_module": "ipytree",
      "model_module_version": "^0.2",
      "model_name": "NodeModel",
      "state": {
       "_id": "a86d20f7-c3ee-4a03-9a48-5dc91017ad27",
       "_model_module_version": "^0.2",
       "_view_module_version": "^0.2",
       "icon": "file",
       "name": "weighted_reductions.py"
      }
     },
     "bc225cb6e7b8424a98855506540a871d": {
      "model_module": "jupyter-leaflet",
      "model_module_version": "^0.18",
      "model_name": "LeafletScaleControlModel",
      "state": {
       "_model_module_version": "^0.18",
       "_view_module_version": "^0.18",
       "imperial": true,
       "max_width": 100,
       "metric": true,
       "options": [
        "imperial",
        "max_width",
        "metric",
        "position",
        "update_when_idle"
       ],
       "position": "bottomleft",
       "update_when_idle": false
      }
     },
     "bc3fc16b4d874542b649371a05eda01e": {
      "model_module": "jupyter-leaflet",
      "model_module_version": "^0.18",
      "model_name": "LeafletMeasureControlModel",
      "state": {
       "_model_module_version": "^0.18",
       "_view_module_version": "^0.18",
       "active_color": "orange",
       "options": [
        "active_color",
        "capture_z_index",
        "completed_color",
        "popup_options",
        "position",
        "primary_area_unit",
        "primary_length_unit",
        "secondary_area_unit",
        "secondary_length_unit"
       ],
       "position": "bottomleft",
       "primary_length_unit": "kilometers",
       "secondary_area_unit": null,
       "secondary_length_unit": null
      }
     },
     "bc421cfdbe9343ee9afc7c83e03dccdf": {
      "model_module": "ipytree",
      "model_module_version": "^0.2",
      "model_name": "NodeModel",
      "state": {
       "_id": "604347be-587f-4be2-a0f3-49986ae5892b",
       "_model_module_version": "^0.2",
       "_view_module_version": "^0.2",
       "icon": "file",
       "name": "loop_FeatureCollection.py"
      }
     },
     "bc5b9b13df6f43218d79f87aeaaa855f": {
      "model_module": "@jupyter-widgets/base",
      "model_module_version": "2.0.0",
      "model_name": "LayoutModel",
      "state": {
       "height": "auto",
       "padding": "0px 0px 0px 4px",
       "width": "auto"
      }
     },
     "bc7d26e4c50d4c93916e841262f28c65": {
      "model_module": "@jupyter-widgets/controls",
      "model_module_version": "2.0.0",
      "model_name": "VBoxModel",
      "state": {
       "_dom_classes": [
        "geemap-light"
       ],
       "_view_count": 0,
       "children": [
        "IPY_MODEL_d7c23f165c4b4650895431326cd8fd8b"
       ],
       "layout": "IPY_MODEL_fdbb9aae3bb9445eb8e51787e8f88e56"
      }
     },
     "bc846660d876417d9f2203bd442c723c": {
      "model_module": "ipytree",
      "model_module_version": "^0.2",
      "model_name": "NodeModel",
      "state": {
       "_id": "0e725900-dbc0-4d71-9b1f-2bc0d51c9cd8",
       "_model_module_version": "^0.2",
       "_view_module_version": "^0.2",
       "icon": "file",
       "name": "idw_interpolation.py"
      }
     },
     "bc9209a6211745d4ad14d5db1fd678bf": {
      "model_module": "ipytree",
      "model_module_version": "^0.2",
      "model_name": "NodeModel",
      "state": {
       "_id": "6c3902af-700f-488f-b056-9aa6ed6ce70d",
       "_model_module_version": "^0.2",
       "_view_module_version": "^0.2",
       "icon": "file",
       "name": "filtering_by_band_names.py"
      }
     },
     "bcb4d62ddc6a48cdb8086169765fbf97": {
      "model_module": "ipytree",
      "model_module_version": "^0.2",
      "model_name": "NodeModel",
      "state": {
       "_id": "06825d5f-6feb-43d5-87dc-c50ed41c95d4",
       "_model_module_version": "^0.2",
       "_view_module_version": "^0.2",
       "icon": "file",
       "name": "stats_of_image_regions.py"
      }
     },
     "bcffebda743c4b498851099e4bc1c51d": {
      "model_module": "@jupyter-widgets/base",
      "model_module_version": "2.0.0",
      "model_name": "LayoutModel",
      "state": {
       "min_width": "400px"
      }
     },
     "bd1a9ac30c244c9f807acdcf6d4b7cfc": {
      "model_module": "ipytree",
      "model_module_version": "^0.2",
      "model_name": "NodeModel",
      "state": {
       "_id": "1cd2ef4f-b5fc-4aff-bb2f-528afb0aea6d",
       "_model_module_version": "^0.2",
       "_view_module_version": "^0.2",
       "name": "HowEarthEngineWorks",
       "nodes": [
        "IPY_MODEL_f1cec2adff254df3a1b7bdaec57cbe7d",
        "IPY_MODEL_61bfc95368224becbc7249b61036c42e",
        "IPY_MODEL_77f9a929fc9d43209c1e829ce4408a29"
       ],
       "opened": false
      }
     },
     "bd4ac41fe4b04cf48077c04660f571fd": {
      "model_module": "@jupyter-widgets/base",
      "model_module_version": "2.0.0",
      "model_name": "LayoutModel",
      "state": {}
     },
     "bd4bdc826f0e43bdbda4b79494471958": {
      "model_module": "@jupyter-widgets/controls",
      "model_module_version": "2.0.0",
      "model_name": "HBoxModel",
      "state": {
       "children": [
        "IPY_MODEL_799d0afa00eb433094bdea5731479b80"
       ],
       "layout": "IPY_MODEL_607ad29796fe48aaa20e88b64375834c"
      }
     },
     "bdbb9fe22e74443bb39afffc74242cda": {
      "model_module": "ipytree",
      "model_module_version": "^0.2",
      "model_name": "NodeModel",
      "state": {
       "_id": "784d705c-d87e-444d-a071-49710491e804",
       "_model_module_version": "^0.2",
       "_view_module_version": "^0.2",
       "name": "Image",
       "nodes": [
        "IPY_MODEL_007fbe97aa95493bb226210c0279b263",
        "IPY_MODEL_e8ed50ec847e48718341cf5753790ffe",
        "IPY_MODEL_beafcc094c5d424cbaf8d8432f2bb195",
        "IPY_MODEL_2008ee78e8784c8d9ee0c3b1c5477929",
        "IPY_MODEL_72515f9b437b42a2bda305d73bde0103",
        "IPY_MODEL_a1844353889945168f3c44a6ed43f153",
        "IPY_MODEL_3862ef54cd9941d093584d8dafa537a0",
        "IPY_MODEL_5bae728019d9474ea0857176de832df5",
        "IPY_MODEL_b78060340b894cc38d38aea9c3f1241c",
        "IPY_MODEL_8d91467d49c4465ab2bb06bb8468336c",
        "IPY_MODEL_f19bfcd40d5d486a93788759e6864781",
        "IPY_MODEL_9e3ffcbf832e465badd634014c96bb30",
        "IPY_MODEL_4c09c64fd4f340338fdb482f2d90c649",
        "IPY_MODEL_adeb3c3ab1ca4b2eaa7ab17c55587df8",
        "IPY_MODEL_cc3a3b3129d742e29e9452ac29ad4247",
        "IPY_MODEL_d479483dd584422aab1cae33d6f55ded",
        "IPY_MODEL_d65b66e2beb24212804ff5decca3cb85",
        "IPY_MODEL_6cb23059e86a485d805f9d3f24d9243d",
        "IPY_MODEL_5addf1c9571a4fa8a601bb46b9c7a7a1",
        "IPY_MODEL_8847492f6c68465c9b147a95e7652865",
        "IPY_MODEL_9ed35541a62c4bc6bfb9315f822fa865",
        "IPY_MODEL_349c1837299d48da94ebc15c24f78b2c",
        "IPY_MODEL_513836b862f7429fab1acdfd10476d38",
        "IPY_MODEL_cdbecaaccbe34eb187b245a80a6486ae",
        "IPY_MODEL_d3bf98eadf1c4f5da9de277c75d00565",
        "IPY_MODEL_b2799bb07d3f4a50a6037c9ad7b1cdf2",
        "IPY_MODEL_f885260ae43541278f2763f383b9304d",
        "IPY_MODEL_b84d59c5e2954dddbb7567bbf66246d7",
        "IPY_MODEL_36be5a50fc0541b4b6a6b32e93cffcb7",
        "IPY_MODEL_47ba674322114006bae01ae33d925e5a",
        "IPY_MODEL_3c43f881b4c54246a69737cfc70d61f8",
        "IPY_MODEL_c217d2176599416a9b5e2818ce8a61eb",
        "IPY_MODEL_52b06b8ae9424e7f8cfe5728af9cd009",
        "IPY_MODEL_173fc6d9178040d3bd33e345bc796009",
        "IPY_MODEL_bb976818d9b94733a58ab9543eb391f8",
        "IPY_MODEL_032b2ec5e0054375b101d49355085176",
        "IPY_MODEL_a0300db7a4ed4e578d6add2a707b136b",
        "IPY_MODEL_4eee515a0c1f4020aca8bf2b0f2e56b2",
        "IPY_MODEL_55afa777f1844105a5089614149784b1",
        "IPY_MODEL_0b85863b825b422896dc3043f3caf387",
        "IPY_MODEL_80c2e29fc6ed4ae6982ec77006ac6fc8",
        "IPY_MODEL_f5729bc0b791480e8b6b97cf5c20a346",
        "IPY_MODEL_620082c020ca4e3daf538b1e33ae34b1",
        "IPY_MODEL_c356a1f2bc354df2a1cc4746f3062c5e",
        "IPY_MODEL_d0199c4fa4584f02839b58ffa4ce3561",
        "IPY_MODEL_d517ff331e1c4d05a606a15bfeeb837f",
        "IPY_MODEL_7a8e7c0c561d471a98cea6991937efa7",
        "IPY_MODEL_ee1fc2035a774c3a8a6e7698f509c6d3",
        "IPY_MODEL_11cab149d32a4aa7ba8c08fd42c41dbe",
        "IPY_MODEL_71b439dd52d847edb7dddde5efa696fa",
        "IPY_MODEL_342972ce94e04173a6d2c83195a82ddd",
        "IPY_MODEL_36543e6eeef442b38effb68b4f49aeb1",
        "IPY_MODEL_14f008ff01e34531845d95d65233ba75",
        "IPY_MODEL_236c8c557c69428e9fb1dc617e56fec1",
        "IPY_MODEL_612b015a86144062a4a3ec9c60b950be"
       ],
       "opened": false
      }
     },
     "bdd7cd92760d4fe08cd187ba61dec52e": {
      "model_module": "@jupyter-widgets/controls",
      "model_module_version": "2.0.0",
      "model_name": "TextModel",
      "state": {
       "layout": "IPY_MODEL_06258ebf2f9142899c930f64d4fbbbc6",
       "placeholder": "Search by place name or address",
       "style": "IPY_MODEL_11b77767a99744e492d266e81b857b99",
       "tooltip": "Search location"
      }
     },
     "bdeca93edb4144d9b0e7d152e2c71899": {
      "model_module": "@jupyter-widgets/controls",
      "model_module_version": "2.0.0",
      "model_name": "ToggleButtonsStyleModel",
      "state": {
       "button_width": "110px",
       "description_width": ""
      }
     },
     "be022fa775a142329b6e604cad1521e9": {
      "model_module": "@jupyter-widgets/base",
      "model_module_version": "2.0.0",
      "model_name": "LayoutModel",
      "state": {
       "height": "auto",
       "padding": "0px 0px 0px 4px",
       "width": "auto"
      }
     },
     "be14dd5178e54cb69e66742d1ecfe5e2": {
      "model_module": "@jupyter-widgets/base",
      "model_module_version": "2.0.0",
      "model_name": "LayoutModel",
      "state": {
       "height": "auto",
       "padding": "0px 0px 0px 4px",
       "width": "auto"
      }
     },
     "be18e07eb53e459e973e4971cf58dc79": {
      "model_module": "jupyter-leaflet",
      "model_module_version": "^0.18",
      "model_name": "LeafletMapStyleModel",
      "state": {
       "_model_module_version": "^0.18"
      }
     },
     "be559d46fe8248c195161af652165732": {
      "model_module": "ipytree",
      "model_module_version": "^0.2",
      "model_name": "NodeModel",
      "state": {
       "_id": "b7568c39-814e-48bb-ac08-12fd218622b9",
       "_model_module_version": "^0.2",
       "_view_module_version": "^0.2",
       "icon": "file",
       "name": "cell_statistics.py"
      }
     },
     "be6bcfb37f1d436882d906ad97648862": {
      "model_module": "ipytree",
      "model_module_version": "^0.2",
      "model_name": "NodeModel",
      "state": {
       "_id": "8ad03571-1225-47f3-92de-ec88f8c48c0a",
       "_model_module_version": "^0.2",
       "_view_module_version": "^0.2",
       "icon": "file",
       "name": "get_properties.py"
      }
     },
     "be99b58625db45f18c4b2b01a04cfb6b": {
      "model_module": "ipytree",
      "model_module_version": "^0.2",
      "model_name": "NodeModel",
      "state": {
       "_id": "ae481016-71a5-4f6b-a456-9172d7631c0e",
       "_model_module_version": "^0.2",
       "_view_module_version": "^0.2",
       "icon": "file",
       "name": "visualizing_geometries.py"
      }
     },
     "beafcc094c5d424cbaf8d8432f2bb195": {
      "model_module": "ipytree",
      "model_module_version": "^0.2",
      "model_name": "NodeModel",
      "state": {
       "_id": "d6049bb4-d0e9-4b4c-bd5b-12f0c9079772",
       "_model_module_version": "^0.2",
       "_view_module_version": "^0.2",
       "icon": "file",
       "name": "canny_edge_detector.py"
      }
     },
     "beebdb55d4254065b5e1995a9b4d591f": {
      "model_module": "ipytree",
      "model_module_version": "^0.2",
      "model_name": "NodeModel",
      "state": {
       "_id": "81e499a0-c515-4152-bda4-88d4c48867f7",
       "_model_module_version": "^0.2",
       "_view_module_version": "^0.2",
       "icon": "file",
       "name": "filter_poly.py"
      }
     },
     "bf00032d8deb4340a52dd40d4b46cf38": {
      "model_module": "@jupyter-widgets/controls",
      "model_module_version": "2.0.0",
      "model_name": "ToggleButtonStyleModel",
      "state": {
       "description_width": "",
       "font_family": null,
       "font_size": null,
       "font_style": null,
       "font_variant": null,
       "font_weight": null,
       "text_color": null,
       "text_decoration": null
      }
     },
     "bf05b324f62a446a8d0c3ecab1bd07d9": {
      "model_module": "@jupyter-widgets/controls",
      "model_module_version": "2.0.0",
      "model_name": "ButtonModel",
      "state": {
       "button_style": "primary",
       "description": "import",
       "layout": "IPY_MODEL_f6c69c353e8f49d19227fd0d1cceae95",
       "style": "IPY_MODEL_92b61fd6550142099f8d3f3b7f111da0",
       "tooltip": "Click to import the selected asset"
      }
     },
     "bf0e367a90f440e1bbfce220d9aadbe6": {
      "model_module": "@jupyter-widgets/controls",
      "model_module_version": "2.0.0",
      "model_name": "ButtonModel",
      "state": {
       "button_style": "primary",
       "description": "import",
       "layout": "IPY_MODEL_8dba5f57df374ef68b1335d0aa8167f0",
       "style": "IPY_MODEL_8f9b1b5713ee47d1a321db94fb582bf9",
       "tooltip": "Click to import the selected asset"
      }
     },
     "bf11840f886f4bd89b515027cc0f0504": {
      "model_module": "@jupyter-widgets/controls",
      "model_module_version": "2.0.0",
      "model_name": "ToggleButtonStyleModel",
      "state": {
       "description_width": "",
       "font_family": null,
       "font_size": null,
       "font_style": null,
       "font_variant": null,
       "font_weight": null,
       "text_color": null,
       "text_decoration": null
      }
     },
     "bf1b7a1bb8f9402fa8314e8dec9375a5": {
      "model_module": "@jupyter-widgets/controls",
      "model_module_version": "2.0.0",
      "model_name": "ToggleButtonsStyleModel",
      "state": {
       "button_width": "110px",
       "description_width": ""
      }
     },
     "bf2455f35b1945c8a9685ea187e31d11": {
      "model_module": "ipytree",
      "model_module_version": "^0.2",
      "model_name": "NodeModel",
      "state": {
       "_id": "7f4cf0f9-2e6e-4155-b9d3-42d8ae06d688",
       "_model_module_version": "^0.2",
       "_view_module_version": "^0.2",
       "icon": "file",
       "name": "us_cropland.py"
      }
     },
     "bf2fd03dfed6491cb13d2db45ce3c08c": {
      "model_module": "jupyter-leaflet",
      "model_module_version": "^0.18",
      "model_name": "LeafletWMSLayerModel",
      "state": {
       "_model_module_version": "^0.18",
       "_view_module_version": "^0.18",
       "attribution": "MRLC",
       "crs": {
        "custom": false,
        "name": "EPSG3857"
       },
       "format": "image/png",
       "layers": "NLCD_2016_Land_Cover_L48",
       "name": "NLCD 2016 CONUS Land Cover",
       "options": [
        "attribution",
        "bounds",
        "detect_retina",
        "format",
        "layers",
        "max_native_zoom",
        "max_zoom",
        "min_native_zoom",
        "min_zoom",
        "no_wrap",
        "styles",
        "tile_size",
        "tms",
        "transparent",
        "uppercase",
        "zoom_offset"
       ],
       "transparent": true,
       "url": "https://www.mrlc.gov/geoserver/mrlc_display/NLCD_2016_Land_Cover_L48/wms?"
      }
     },
     "bf30733a10b24218818e73bd9b620ba8": {
      "model_module": "@jupyter-widgets/base",
      "model_module_version": "2.0.0",
      "model_name": "LayoutModel",
      "state": {
       "max_width": "57px",
       "min_width": "57px"
      }
     },
     "bf3f72812d1347eb9c4394baed05e612": {
      "model_module": "@jupyter-widgets/controls",
      "model_module_version": "2.0.0",
      "model_name": "ToggleButtonStyleModel",
      "state": {
       "description_width": "",
       "font_family": null,
       "font_size": null,
       "font_style": null,
       "font_variant": null,
       "font_weight": null,
       "text_color": null,
       "text_decoration": null
      }
     },
     "bfb581cff2164a93ade7fc03a0cfc53b": {
      "model_module": "ipytree",
      "model_module_version": "^0.2",
      "model_name": "NodeModel",
      "state": {
       "_id": "3ed3cec5-0bab-4359-b1e4-c68a50800374",
       "_model_module_version": "^0.2",
       "_view_module_version": "^0.2",
       "icon": "file",
       "name": "08_masking.py"
      }
     },
     "bfd13ab9486049dbb2e3337e4b4e317a": {
      "model_module": "@jupyter-widgets/base",
      "model_module_version": "2.0.0",
      "model_name": "LayoutModel",
      "state": {}
     },
     "c0490d976f584eb3bb8668d159173fab": {
      "model_module": "@jupyter-widgets/controls",
      "model_module_version": "2.0.0",
      "model_name": "ToggleButtonModel",
      "state": {
       "button_style": "primary",
       "icon": "line-chart",
       "layout": "IPY_MODEL_2f3171c9c1d44ae9ae13323de9705431",
       "style": "IPY_MODEL_181b5261794e4283a83b9f4bf80c498a",
       "tooltip": "Creating and plotting transects"
      }
     },
     "c051d9af48e14c9ba2db426c60ea342a": {
      "model_module": "ipytree",
      "model_module_version": "^0.2",
      "model_name": "NodeModel",
      "state": {
       "_id": "4a10ab75-1cfa-4513-83fb-ef0f2e621480",
       "_model_module_version": "^0.2",
       "_view_module_version": "^0.2",
       "icon": "file",
       "name": "extract_value_to_points.py"
      }
     },
     "c08631617d49439a98d310af0e68126d": {
      "model_module": "ipytree",
      "model_module_version": "^0.2",
      "model_name": "NodeModel",
      "state": {
       "_id": "40aa9181-3837-43c2-9acf-430f2c43f640",
       "_model_module_version": "^0.2",
       "_view_module_version": "^0.2",
       "icon": "file",
       "name": "export_table.py"
      }
     },
     "c0a328f6f73b42b28d86b1665f235d7f": {
      "model_module": "ipytree",
      "model_module_version": "^0.2",
      "model_name": "NodeModel",
      "state": {
       "_id": "59b03add-a0f7-452b-a2e5-d02c2123032b",
       "_model_module_version": "^0.2",
       "_view_module_version": "^0.2",
       "icon": "file",
       "name": "sentinel-2.py"
      }
     },
     "c0a56decc8604180858f736016a545bf": {
      "model_module": "jupyter-leaflet",
      "model_module_version": "^0.18",
      "model_name": "LeafletMapModel",
      "state": {
       "_model_module_version": "^0.18",
       "_view_module_version": "^0.18",
       "center": [
        0,
        0.3515625
       ],
       "controls": [
        "IPY_MODEL_035a01b013334f5f83fc16f0bfd2a054",
        "IPY_MODEL_62e9141056234342aa7535a5a3bfc488",
        "IPY_MODEL_1d3636be748f4227a3131adede3093ef",
        "IPY_MODEL_0bbd2d8971814ea18052085286649f20",
        "IPY_MODEL_64ba30d5eb0d4e67a53583b320c189ac",
        "IPY_MODEL_40599642794f43a189ade299d56f2218",
        "IPY_MODEL_299dca6dbd0542fd9061f27dc3b60d01",
        "IPY_MODEL_61e67d0083dc414b89e024dea45bc39c",
        "IPY_MODEL_741f70aff0a6433aa9657ff0287c5a15"
       ],
       "default_style": "IPY_MODEL_22de4e98a44f403da73eac2275971cdb",
       "dragging_style": "IPY_MODEL_6373a2d0d8be4702a89d9999a5367d2f",
       "east": null,
       "fullscreen": false,
       "interpolation": "bilinear",
       "layers": [
        "IPY_MODEL_fd66df8e7773429b8c78d2a946a917d6",
        "IPY_MODEL_6b69fb13d3324476ad5586b23796798c",
        "IPY_MODEL_5c38898a39954624bb230b41b3117699",
        "IPY_MODEL_d15836fa853446fda643a2c4210e55c8"
       ],
       "layout": "IPY_MODEL_94efadf614714664a9efc9bd0d11ab95",
       "max_zoom": 24,
       "modisdate": "2024-03-07",
       "north": -90,
       "options": [
        "bounce_at_zoom_limits",
        "box_zoom",
        "center",
        "close_popup_on_click",
        "double_click_zoom",
        "dragging",
        "fullscreen",
        "inertia",
        "inertia_deceleration",
        "inertia_max_speed",
        "interpolation",
        "keyboard",
        "keyboard_pan_offset",
        "keyboard_zoom_offset",
        "max_zoom",
        "min_zoom",
        "prefer_canvas",
        "scroll_wheel_zoom",
        "tap",
        "tap_tolerance",
        "touch_zoom",
        "world_copy_jump",
        "zoom",
        "zoom_animation_threshold",
        "zoom_delta",
        "zoom_snap"
       ],
       "prefer_canvas": false,
       "scroll_wheel_zoom": true,
       "south": 90,
       "style": "IPY_MODEL_22de4e98a44f403da73eac2275971cdb",
       "west": null,
       "window_url": "http://localhost:8888/lab",
       "zoom": 2
      }
     },
     "c0a8342556c646f4bbb97eff2feb71a6": {
      "model_module": "@jupyter-widgets/controls",
      "model_module_version": "2.0.0",
      "model_name": "DescriptionStyleModel",
      "state": {
       "description_width": ""
      }
     },
     "c0b67b1470414cb18e15162ebd91c456": {
      "model_module": "@jupyter-widgets/base",
      "model_module_version": "2.0.0",
      "model_name": "LayoutModel",
      "state": {
       "height": "auto",
       "padding": "0px 0px 0px 4px",
       "width": "auto"
      }
     },
     "c1307a02798e4afb863ed5c7361b50ff": {
      "model_module": "@jupyter-widgets/controls",
      "model_module_version": "2.0.0",
      "model_name": "ToggleButtonStyleModel",
      "state": {
       "description_width": "",
       "font_family": null,
       "font_size": null,
       "font_style": null,
       "font_variant": null,
       "font_weight": null,
       "text_color": null,
       "text_decoration": null
      }
     },
     "c148a0fc4fff4d74b9f178a8da79652e": {
      "model_module": "@jupyter-widgets/controls",
      "model_module_version": "2.0.0",
      "model_name": "ToggleButtonsStyleModel",
      "state": {
       "button_width": "110px",
       "description_width": ""
      }
     },
     "c1a444082513476d8725d6de348cebe6": {
      "model_module": "ipytree",
      "model_module_version": "^0.2",
      "model_name": "NodeModel",
      "state": {
       "_id": "b2e5293e-0cc6-460a-be35-f8f0091c6e6d",
       "_model_module_version": "^0.2",
       "_view_module_version": "^0.2",
       "icon": "file",
       "name": "09_a_complete_example.py"
      }
     },
     "c1bcf78eed7e40abb1bc2346617ce63d": {
      "model_module": "ipytree",
      "model_module_version": "^0.2",
      "model_name": "NodeModel",
      "state": {
       "_id": "5fd65961-867d-4fcf-b568-cc5855b67132",
       "_model_module_version": "^0.2",
       "_view_module_version": "^0.2",
       "icon": "file",
       "name": "from_polygons.py"
      }
     },
     "c1ee35200ff54b7f9897bf0b99f1ce14": {
      "model_module": "@jupyter-widgets/base",
      "model_module_version": "2.0.0",
      "model_name": "LayoutModel",
      "state": {
       "height": "auto",
       "padding": "0px 0px 0px 4px",
       "width": "auto"
      }
     },
     "c1fba3c3a69c4fbfbab8f663157e00d1": {
      "model_module": "jupyter-leaflet",
      "model_module_version": "^0.18",
      "model_name": "LeafletMapModel",
      "state": {
       "_model_module_version": "^0.18",
       "_view_module_version": "^0.18",
       "bottom": 812,
       "controls": [
        "IPY_MODEL_de34d756852c4cbda93d04819d722394",
        "IPY_MODEL_330d3362f2fb4cb0adfeb5f05e5d9d38",
        "IPY_MODEL_51ae734d7a1e4d42902e5deb05ae6052",
        "IPY_MODEL_ee6f13e5cd804f439d170d2b71c16733"
       ],
       "default_style": "IPY_MODEL_fa078cc859b741d3a6e429ae6dd13901",
       "dragging": false,
       "dragging_style": "IPY_MODEL_a74062321ea94422bf1b6c66d354fe79",
       "east": 155.39062500000003,
       "fullscreen": false,
       "interpolation": "bilinear",
       "layers": [
        "IPY_MODEL_fd1a76a9b37740f1bdf7daeca73373be",
        "IPY_MODEL_5ae0653a3e494a77a4397ea4b6347b0e"
       ],
       "layout": "IPY_MODEL_5e6d4dc23eda41a097cfe66f0421dfd5",
       "left": 70,
       "max_zoom": 24,
       "modisdate": "2024-03-07",
       "north": 71.9653876991313,
       "options": [
        "bounce_at_zoom_limits",
        "box_zoom",
        "center",
        "close_popup_on_click",
        "double_click_zoom",
        "dragging",
        "fullscreen",
        "inertia",
        "inertia_deceleration",
        "inertia_max_speed",
        "interpolation",
        "keyboard",
        "keyboard_pan_offset",
        "keyboard_zoom_offset",
        "max_zoom",
        "min_zoom",
        "prefer_canvas",
        "scroll_wheel_zoom",
        "tap",
        "tap_tolerance",
        "touch_zoom",
        "world_copy_jump",
        "zoom",
        "zoom_animation_threshold",
        "zoom_delta",
        "zoom_snap"
       ],
       "prefer_canvas": false,
       "right": 954,
       "scroll_wheel_zoom": true,
       "south": -71.96538769913128,
       "style": "IPY_MODEL_b96fff0cddf444599343f75e5d5368e5",
       "top": 212,
       "west": -155.39062500000003,
       "window_url": "http://localhost:8888/lab",
       "zoom": 2
      }
     },
     "c217d2176599416a9b5e2818ce8a61eb": {
      "model_module": "ipytree",
      "model_module_version": "^0.2",
      "model_name": "NodeModel",
      "state": {
       "_id": "06bbf96f-0373-484c-b0ca-518abd6be30f",
       "_model_module_version": "^0.2",
       "_view_module_version": "^0.2",
       "icon": "file",
       "name": "image_patch_area.py"
      }
     },
     "c28dc7dd89964919aef24df2c9d66ee9": {
      "model_module": "ipytree",
      "model_module_version": "^0.2",
      "model_name": "NodeModel",
      "state": {
       "_id": "4c754806-bae9-42b1-a4a4-6b535a4e10ec",
       "_model_module_version": "^0.2",
       "_view_module_version": "^0.2",
       "icon": "file",
       "name": "Projections.py"
      }
     },
     "c2a91dc1bc2a4833b4c129c02eb9cb41": {
      "model_module": "ipytree",
      "model_module_version": "^0.2",
      "model_name": "NodeModel",
      "state": {
       "_id": "abce87eb-6c10-4c4d-ac45-8df86def3f87",
       "_model_module_version": "^0.2",
       "_view_module_version": "^0.2",
       "icon": "file",
       "name": "stats_of_columns.py"
      }
     },
     "c2f879beadbc42a7b2e3f89366fa759f": {
      "model_module": "@jupyter-widgets/base",
      "model_module_version": "2.0.0",
      "model_name": "LayoutModel",
      "state": {
       "height": "auto",
       "padding": "0px 0px 0px 4px",
       "width": "auto"
      }
     },
     "c300709bbb194095862a1d9df5e8e9b3": {
      "model_module": "@jupyter-widgets/controls",
      "model_module_version": "2.0.0",
      "model_name": "ToggleButtonModel",
      "state": {
       "button_style": "primary",
       "icon": "globe",
       "layout": "IPY_MODEL_cc745972ccd14e37a56354c7fb8f0c58",
       "style": "IPY_MODEL_c1307a02798e4afb863ed5c7361b50ff",
       "tooltip": "Create timelapse"
      }
     },
     "c31da5e1273345cc8c06b2e77484ecec": {
      "model_module": "ipytree",
      "model_module_version": "^0.2",
      "model_name": "NodeModel",
      "state": {
       "_id": "35959631-1369-4c45-b84c-3b6dee6c9749",
       "_model_module_version": "^0.2",
       "_view_module_version": "^0.2",
       "icon": "file",
       "name": "visualizing_feature_collection.py"
      }
     },
     "c336abb0500040a4a990ea08b22bd45b": {
      "model_module": "@jupyter-widgets/base",
      "model_module_version": "2.0.0",
      "model_name": "LayoutModel",
      "state": {
       "max_height": "350px",
       "max_width": "340px",
       "overflow": "scroll"
      }
     },
     "c3501d09fcd041ac9cbec7f9ea9954ca": {
      "model_module": "@jupyter-widgets/base",
      "model_module_version": "2.0.0",
      "model_name": "LayoutModel",
      "state": {
       "height": "auto",
       "padding": "0px 0px 0px 4px",
       "width": "auto"
      }
     },
     "c356a1f2bc354df2a1cc4746f3062c5e": {
      "model_module": "ipytree",
      "model_module_version": "^0.2",
      "model_name": "NodeModel",
      "state": {
       "_id": "ff2f6f20-b9fa-441f-be0a-1ec639015f97",
       "_model_module_version": "^0.2",
       "_view_module_version": "^0.2",
       "icon": "file",
       "name": "reclassify.py"
      }
     },
     "c3b3e82a7e00485ea89f777e373cb646": {
      "model_module": "ipytree",
      "model_module_version": "^0.2",
      "model_name": "NodeModel",
      "state": {
       "_id": "4788e8cd-dc6b-4f82-a124-630bf2a0e6ee",
       "_model_module_version": "^0.2",
       "_view_module_version": "^0.2",
       "icon": "file",
       "name": "image_color_palettes.py"
      }
     },
     "c420fc08e0d744a1b5a19b181e459fb2": {
      "model_module": "@jupyter-widgets/controls",
      "model_module_version": "2.0.0",
      "model_name": "ToggleButtonModel",
      "state": {
       "button_style": "primary",
       "icon": "fast-forward",
       "layout": "IPY_MODEL_131adaa131114676945ba50f4b8a1cb6",
       "style": "IPY_MODEL_d28e3ebd62ef4659967bfb6fad8ed2ee",
       "tooltip": "Activate timeslider"
      }
     },
     "c47c2bce72ae4c349caed5a6a6a2e40f": {
      "model_module": "@jupyter-widgets/controls",
      "model_module_version": "2.0.0",
      "model_name": "ButtonStyleModel",
      "state": {
       "font_family": null,
       "font_size": null,
       "font_style": null,
       "font_variant": null,
       "font_weight": null,
       "text_color": null,
       "text_decoration": null
      }
     },
     "c47d2885867149499232e4a3c879e0dc": {
      "model_module": "jupyter-leaflet",
      "model_module_version": "^0.18",
      "model_name": "LeafletWidgetControlModel",
      "state": {
       "_model_module": "jupyter-leaflet",
       "_model_module_version": "^0.18",
       "_view_count": null,
       "_view_module": "jupyter-leaflet",
       "_view_module_version": "^0.18",
       "options": [
        "position",
        "transparent_bg"
       ],
       "position": "topright",
       "widget": "IPY_MODEL_d651f480ef344fc3a5f93e8bf6a8c6ce"
      }
     },
     "c4c0d5ccb17a45ff9eb51f29b8ee6f34": {
      "model_module": "ipytree",
      "model_module_version": "^0.2",
      "model_name": "NodeModel",
      "state": {
       "_id": "a98cc55c-ad12-4cc6-ad26-bf6d3fdd91f1",
       "_model_module_version": "^0.2",
       "_view_module_version": "^0.2",
       "icon": "file",
       "name": "hillshade.py"
      }
     },
     "c4c60f8bea7a4f38a2c2e9723135dd85": {
      "model_module": "jupyter-leaflet",
      "model_module_version": "^0.18",
      "model_name": "LeafletMapStyleModel",
      "state": {
       "_model_module_version": "^0.18",
       "cursor": "move"
      }
     },
     "c55214c40a3c417abdb1efb1a80adcc6": {
      "model_module": "@jupyter-widgets/controls",
      "model_module_version": "2.0.0",
      "model_name": "HTMLModel",
      "state": {
       "layout": "IPY_MODEL_f738db71cca04673970d7fd5d0cd06c0",
       "style": "IPY_MODEL_3dbabde178994f588be5051c67827005"
      }
     },
     "c555ad1861064229b68682af1d4ef69e": {
      "model_module": "ipytree",
      "model_module_version": "^0.2",
      "model_name": "NodeModel",
      "state": {
       "_id": "944e19ac-ee1a-47d0-90a4-43471db73c2f",
       "_model_module_version": "^0.2",
       "_view_module_version": "^0.2",
       "icon": "file",
       "name": "stats_of_image_regions.py"
      }
     },
     "c57ae8e752ae457dad9f3b4fa273b563": {
      "model_module": "@jupyter-widgets/controls",
      "model_module_version": "2.0.0",
      "model_name": "HBoxModel",
      "state": {
       "_dom_classes": [
        "geemap-light"
       ],
       "_view_count": 0,
       "children": [
        "IPY_MODEL_6a7f054ab77f4ac6a60b30f0ab2c953b"
       ],
       "layout": "IPY_MODEL_7c3f64d0446e4530a0f0b9540c506869"
      }
     },
     "c5a054f3a3df42b5bb1716eb9d06824f": {
      "model_module": "@jupyter-widgets/base",
      "model_module_version": "2.0.0",
      "model_name": "LayoutModel",
      "state": {
       "height": "28px",
       "padding": "0px 0px 0px 4px",
       "width": "28px"
      }
     },
     "c5b9e40e930c46ceb7eb703b0f428a58": {
      "model_module": "ipytree",
      "model_module_version": "^0.2",
      "model_name": "NodeModel",
      "state": {
       "_id": "85dd892c-7825-4de4-a6b1-500f9eaf2463",
       "_model_module_version": "^0.2",
       "_view_module_version": "^0.2",
       "icon": "file",
       "name": "intersect.py"
      }
     },
     "c5e30498caf34de5813758d4ef2fb199": {
      "model_module": "@jupyter-widgets/controls",
      "model_module_version": "2.0.0",
      "model_name": "GridBoxModel",
      "state": {
       "children": [
        "IPY_MODEL_e81ee0b7ad44435cabb515d028c8a591",
        "IPY_MODEL_6f65f2698aca4d2993dd90719a998777",
        "IPY_MODEL_5906a6ba98014383b6aacf915cfa95e4",
        "IPY_MODEL_4afac3ba6c4348c7907c4b7704c0847f",
        "IPY_MODEL_b88042f0de5a44b89befcc52b584136f",
        "IPY_MODEL_484985de79274096b5236fe99f267c62"
       ],
       "layout": "IPY_MODEL_9042ba74401746f49b074ce6f204fe84"
      }
     },
     "c5f046fb2b7b46cfb92a30d6b6af3dae": {
      "model_module": "@jupyter-widgets/base",
      "model_module_version": "2.0.0",
      "model_name": "LayoutModel",
      "state": {
       "height": "auto",
       "padding": "0px 0px 0px 4px",
       "width": "auto"
      }
     },
     "c5fb9a4745cf48ca9129fbded03db7f5": {
      "model_module": "ipytree",
      "model_module_version": "^0.2",
      "model_name": "NodeModel",
      "state": {
       "_id": "606e0ea0-cef1-46a7-816b-d6740accd787",
       "_model_module_version": "^0.2",
       "_view_module_version": "^0.2",
       "icon": "file",
       "name": "map_set_zoom.py"
      }
     },
     "c65fefb3070e47c88d1d1e2af0cb0c63": {
      "model_module": "@jupyter-widgets/base",
      "model_module_version": "2.0.0",
      "model_name": "LayoutModel",
      "state": {}
     },
     "c6a2c14acc5b41e295fee1e1c25d0705": {
      "model_module": "ipytree",
      "model_module_version": "^0.2",
      "model_name": "NodeModel",
      "state": {
       "_id": "2069c9e9-cfbe-4476-abf1-ef3142264f69",
       "_model_module_version": "^0.2",
       "_view_module_version": "^0.2",
       "icon": "file",
       "name": "alos_chili.py"
      }
     },
     "c6a8c9d8dad34fcc9e3bc97b374efe56": {
      "model_module": "ipytree",
      "model_module_version": "^0.2",
      "model_name": "NodeModel",
      "state": {
       "_id": "895579e4-3b79-4da5-b227-413a3c8cd66f",
       "_model_module_version": "^0.2",
       "_view_module_version": "^0.2",
       "name": "Filter",
       "nodes": [
        "IPY_MODEL_e2efe60c3c8b444e88a3c0921a1e17f9",
        "IPY_MODEL_3f2cee13684f46a28be155d695065d54",
        "IPY_MODEL_36bdcae09a244e6da9e81d03385261c1",
        "IPY_MODEL_021c85b7342f42a9b14fc3c39750ba28",
        "IPY_MODEL_e30d651cdbad4262807dad1fd2cddf4b",
        "IPY_MODEL_fab98c150eba4a72a399c5fe3bc80be5",
        "IPY_MODEL_b8474d97249a430b95a1b707fc940b33"
       ],
       "opened": false
      }
     },
     "c6d037b0171f4d19b9947ab51e058f82": {
      "model_module": "@jupyter-widgets/controls",
      "model_module_version": "2.0.0",
      "model_name": "ButtonStyleModel",
      "state": {
       "font_family": null,
       "font_size": null,
       "font_style": null,
       "font_variant": null,
       "font_weight": null,
       "text_color": null,
       "text_decoration": null
      }
     },
     "c6de886b4bc54ed6870b2cc770e753b9": {
      "model_module": "ipytree",
      "model_module_version": "^0.2",
      "model_name": "NodeModel",
      "state": {
       "_id": "7f6cbd52-e575-4a7a-8610-d5d1e4978f03",
       "_model_module_version": "^0.2",
       "_view_module_version": "^0.2",
       "icon": "file",
       "name": "where.py"
      }
     },
     "c6eb1808966742e2878a4d8355ee792e": {
      "model_module": "ipyevents",
      "model_module_version": "2.0.2",
      "model_name": "EventModel",
      "state": {
       "_supported_key_events": [
        "keydown",
        "keyup"
       ],
       "_supported_mouse_events": [
        "click",
        "auxclick",
        "dblclick",
        "mouseenter",
        "mouseleave",
        "mousedown",
        "mouseup",
        "mousemove",
        "wheel",
        "contextmenu",
        "dragstart",
        "drag",
        "dragend",
        "dragenter",
        "dragover",
        "dragleave",
        "drop"
       ],
       "_supported_touch_events": [
        "touchstart",
        "touchend",
        "touchmove",
        "touchcancel"
       ],
       "_view_module": "@jupyter-widgets/controls",
       "source": "IPY_MODEL_3425b80cbda748119023fdf5cc0a1df3",
       "throttle_or_debounce": "",
       "watched_events": [
        "mouseenter",
        "mouseleave"
       ],
       "xy_coordinate_system": ""
      }
     },
     "c6f7c6f3067d460db0a2b1edcbca6182": {
      "model_module": "@jupyter-widgets/controls",
      "model_module_version": "2.0.0",
      "model_name": "ToggleButtonStyleModel",
      "state": {
       "description_width": "",
       "font_family": null,
       "font_size": null,
       "font_style": null,
       "font_variant": null,
       "font_weight": null,
       "text_color": null,
       "text_decoration": null
      }
     },
     "c6f7dde0314a4a52a19bfdff9d2aa30e": {
      "model_module": "@jupyter-widgets/base",
      "model_module_version": "2.0.0",
      "model_name": "LayoutModel",
      "state": {
       "height": "auto",
       "padding": "0px 0px 0px 4px",
       "width": "auto"
      }
     },
     "c6fed6aae6bf417383e8d7a757807aa3": {
      "model_module": "@jupyter-widgets/controls",
      "model_module_version": "2.0.0",
      "model_name": "ToggleButtonStyleModel",
      "state": {
       "description_width": "",
       "font_family": null,
       "font_size": null,
       "font_style": null,
       "font_variant": null,
       "font_weight": null,
       "text_color": null,
       "text_decoration": null
      }
     },
     "c758ba07fd264265b2edecd50a7c1fee": {
      "model_module": "@jupyter-widgets/controls",
      "model_module_version": "2.0.0",
      "model_name": "ToggleButtonModel",
      "state": {
       "button_style": "primary",
       "icon": "retweet",
       "layout": "IPY_MODEL_7b12611e400840359c8d8eed24be07cc",
       "style": "IPY_MODEL_869bb9d4b4424e948f862f909e23d420",
       "tooltip": "Convert Earth Engine JavaScript to Python"
      }
     },
     "c764ff65ca4a4162a8c0d265a7191c3f": {
      "model_module": "@jupyter-widgets/base",
      "model_module_version": "2.0.0",
      "model_name": "LayoutModel",
      "state": {}
     },
     "c77ba4089da54a72a6883c0be85926d5": {
      "model_module": "ipytree",
      "model_module_version": "^0.2",
      "model_name": "NodeModel",
      "state": {
       "_id": "8508c5a5-a12d-414a-8d9d-9bd9ad45234a",
       "_model_module_version": "^0.2",
       "_view_module_version": "^0.2",
       "icon": "file",
       "name": "stats_by_group.py"
      }
     },
     "c7af74fbde1d4faaaa28cb110317965a": {
      "model_module": "@jupyter-widgets/controls",
      "model_module_version": "2.0.0",
      "model_name": "HBoxModel",
      "state": {
       "children": [
        "IPY_MODEL_580fafb8db1e4e3dabc52ae621bb3598",
        "IPY_MODEL_ced3e7c78c3442fe88817c9f26b2f703",
        "IPY_MODEL_0aeb22da36224c319cddc354aafac8ba"
       ],
       "layout": "IPY_MODEL_70aa5bce60df4463b4b1c33aa9da6171"
      }
     },
     "c8a58292ba1b44cb859229e90de06c7a": {
      "model_module": "ipytree",
      "model_module_version": "^0.2",
      "model_name": "NodeModel",
      "state": {
       "_id": "21ffeca7-8a1c-4f6e-a4b0-80059adcd24a",
       "_model_module_version": "^0.2",
       "_view_module_version": "^0.2",
       "icon": "file",
       "name": "srtm_landforms.py"
      }
     },
     "c8bab87c648a42dbb4f2e228c2b83263": {
      "model_module": "ipytree",
      "model_module_version": "^0.2",
      "model_name": "NodeModel",
      "state": {
       "_id": "63b7a7b2-57e7-41d5-b6da-18acdad5450b",
       "_model_module_version": "^0.2",
       "_view_module_version": "^0.2",
       "icon": "file",
       "name": "global_power_plant_database.py"
      }
     },
     "c8d2b2b4ca434e2d83817a856b85c16d": {
      "model_module": "@jupyter-widgets/controls",
      "model_module_version": "2.0.0",
      "model_name": "ToggleButtonStyleModel",
      "state": {
       "description_width": "",
       "font_family": null,
       "font_size": null,
       "font_style": null,
       "font_variant": null,
       "font_weight": null,
       "text_color": null,
       "text_decoration": null
      }
     },
     "c8d70989aed9429fb370efb147a6bece": {
      "model_module": "@jupyter-widgets/base",
      "model_module_version": "2.0.0",
      "model_name": "LayoutModel",
      "state": {}
     },
     "c8e36eaf7ebd441eaf0f0601096fae51": {
      "model_module": "ipytree",
      "model_module_version": "^0.2",
      "model_name": "NodeModel",
      "state": {
       "_id": "8f2ab4fc-7fe5-4ae0-b0cf-be4115de4a95",
       "_model_module_version": "^0.2",
       "_view_module_version": "^0.2",
       "icon": "file",
       "name": "set_image_properties.py"
      }
     },
     "c8f2f04a774e4d22ae6b307b2da92eff": {
      "model_module": "ipytree",
      "model_module_version": "^0.2",
      "model_name": "NodeModel",
      "state": {
       "_id": "fc4d72d2-6365-4e39-809d-1a360479648a",
       "_model_module_version": "^0.2",
       "_view_module_version": "^0.2",
       "icon": "file",
       "name": "jrc_monthly_recurrence.py"
      }
     },
     "c938e3c2f809440caaedbe67c189a2f1": {
      "model_module": "@jupyter-widgets/base",
      "model_module_version": "2.0.0",
      "model_name": "LayoutModel",
      "state": {
       "height": "auto",
       "padding": "0px 0px 0px 4px",
       "width": "auto"
      }
     },
     "c9b9be1451574b208fe240fc704428f1": {
      "model_module": "ipytree",
      "model_module_version": "^0.2",
      "model_name": "NodeModel",
      "state": {
       "_id": "0a4b3527-200d-4992-a9ad-6a59a596e754",
       "_model_module_version": "^0.2",
       "_view_module_version": "^0.2",
       "icon": "file",
       "name": "relational_operators.py"
      }
     },
     "c9e9292aec0f43e0a143b208c4c63ad0": {
      "model_module": "ipytree",
      "model_module_version": "^0.2",
      "model_name": "NodeModel",
      "state": {
       "_id": "344573df-3484-4ac5-948d-56a42a80c263",
       "_model_module_version": "^0.2",
       "_view_module_version": "^0.2",
       "icon": "file",
       "name": "convert_vector_to_raster.py"
      }
     },
     "ca09a59076d348909f279edfb6b30b1e": {
      "model_module": "ipytree",
      "model_module_version": "^0.2",
      "model_name": "NodeModel",
      "state": {
       "_id": "af7ac6c9-16ad-4174-b6ea-97e9bd2451a0",
       "_model_module_version": "^0.2",
       "_view_module_version": "^0.2",
       "icon": "file",
       "name": "alos_mtpi.py"
      }
     },
     "ca9f1127f75f416f92798a797fa799e0": {
      "model_module": "ipytree",
      "model_module_version": "^0.2",
      "model_name": "NodeModel",
      "state": {
       "_id": "c7c611f7-8dda-4180-91d9-3de1ba66363c",
       "_model_module_version": "^0.2",
       "_view_module_version": "^0.2",
       "icon": "file",
       "name": "spectral_unmixing.py"
      }
     },
     "cb3d509153c74d958fbf63d47a170ab5": {
      "model_module": "@jupyter-widgets/controls",
      "model_module_version": "2.0.0",
      "model_name": "ToggleButtonStyleModel",
      "state": {
       "description_width": "",
       "font_family": null,
       "font_size": null,
       "font_style": null,
       "font_variant": null,
       "font_weight": null,
       "text_color": null,
       "text_decoration": null
      }
     },
     "cb534a9e481d45a8bfa8ba386849a2ed": {
      "model_module": "@jupyter-widgets/controls",
      "model_module_version": "2.0.0",
      "model_name": "ButtonStyleModel",
      "state": {
       "font_family": null,
       "font_size": null,
       "font_style": null,
       "font_variant": null,
       "font_weight": null,
       "text_color": null,
       "text_decoration": null
      }
     },
     "cb6688a1b7a14695aea0c050519420a4": {
      "model_module": "@jupyter-widgets/controls",
      "model_module_version": "2.0.0",
      "model_name": "ToggleButtonModel",
      "state": {
       "button_style": "primary",
       "icon": "info",
       "layout": "IPY_MODEL_efd586670dbd424588a62ee460aed25f",
       "style": "IPY_MODEL_7bc011105c6c4f5d99c1bd58cbc20235",
       "tooltip": "Inspector"
      }
     },
     "cb99dfc9837046a788d016a5ac6ed95e": {
      "model_module": "@jupyter-widgets/controls",
      "model_module_version": "2.0.0",
      "model_name": "ToggleButtonModel",
      "state": {
       "button_style": "primary",
       "icon": "random",
       "layout": "IPY_MODEL_e9f9726e7c1c452e99f837b22a455ef4",
       "style": "IPY_MODEL_04ff2c7fd1af48bd93b3752d1a2a2826",
       "tooltip": "Sankey plots"
      }
     },
     "cbafbfe3490a4baea5772a84f3bc853a": {
      "model_module": "ipytree",
      "model_module_version": "^0.2",
      "model_name": "NodeModel",
      "state": {
       "_id": "f05c4422-2ac1-4eca-a915-b4ce5af3a004",
       "_model_module_version": "^0.2",
       "_view_module_version": "^0.2",
       "icon": "file",
       "name": "jrc_metadata.py"
      }
     },
     "cbd7e90988ba48fea42f24742ad7572f": {
      "model_module": "@jupyter-widgets/controls",
      "model_module_version": "2.0.0",
      "model_name": "ToggleButtonStyleModel",
      "state": {
       "description_width": "",
       "font_family": null,
       "font_size": null,
       "font_style": null,
       "font_variant": null,
       "font_weight": null,
       "text_color": null,
       "text_decoration": null
      }
     },
     "cbfc50647d1b4eefbc5f1955d5d962c0": {
      "model_module": "@jupyter-widgets/controls",
      "model_module_version": "2.0.0",
      "model_name": "ToggleButtonStyleModel",
      "state": {
       "description_width": "",
       "font_family": null,
       "font_size": null,
       "font_style": null,
       "font_variant": null,
       "font_weight": null,
       "text_color": null,
       "text_decoration": null
      }
     },
     "cc002a63efee4d42bf537fab590b6485": {
      "model_module": "@jupyter-widgets/controls",
      "model_module_version": "2.0.0",
      "model_name": "DescriptionStyleModel",
      "state": {
       "description_width": ""
      }
     },
     "cc3a3b3129d742e29e9452ac29ad4247": {
      "model_module": "ipytree",
      "model_module_version": "^0.2",
      "model_name": "NodeModel",
      "state": {
       "_id": "bba60b41-70ea-444d-9893-0969a996d183",
       "_model_module_version": "^0.2",
       "_view_module_version": "^0.2",
       "icon": "file",
       "name": "edge_detection.py"
      }
     },
     "cc3fa8de8de44ab7b6e3359f4f2beaa2": {
      "model_module": "@jupyter-widgets/controls",
      "model_module_version": "2.0.0",
      "model_name": "ToggleButtonModel",
      "state": {
       "button_style": "primary",
       "icon": "map",
       "layout": "IPY_MODEL_534426a7ff0e475fbab9a14a03b2c0f8",
       "style": "IPY_MODEL_18f3fa3671094c60996e533f510cbf3d",
       "tooltip": "Change basemap"
      }
     },
     "cc5f0057c1514726aa46056b9d334e3b": {
      "model_module": "@jupyter-widgets/controls",
      "model_module_version": "2.0.0",
      "model_name": "HTMLStyleModel",
      "state": {
       "description_width": "",
       "font_size": null,
       "text_color": null
      }
     },
     "cc745972ccd14e37a56354c7fb8f0c58": {
      "model_module": "@jupyter-widgets/base",
      "model_module_version": "2.0.0",
      "model_name": "LayoutModel",
      "state": {
       "height": "auto",
       "padding": "0px 0px 0px 4px",
       "width": "auto"
      }
     },
     "cc7db516c1f3444b97aacddb07ec73a1": {
      "model_module": "jupyter-leaflet",
      "model_module_version": "^0.18",
      "model_name": "LeafletMapModel",
      "state": {
       "_model_module_version": "^0.18",
       "_view_module_version": "^0.18",
       "bottom": 812,
       "center": [
        0,
        0.3515625
       ],
       "controls": [
        "IPY_MODEL_5ae90950a8f94a1c9167e5fe1ebc989e",
        "IPY_MODEL_f7d9be5ad2d74c979f3e94405408e8fb",
        "IPY_MODEL_fbd06d131d6a41ad87931cc7961e738b",
        "IPY_MODEL_f1f06ce956114a07815222006f181da9"
       ],
       "default_style": "IPY_MODEL_5551379f627e47a7bfcc11313b90b837",
       "dragging": false,
       "dragging_style": "IPY_MODEL_1186d07945044f5089f30a47cde74e23",
       "east": 155.7421875,
       "fullscreen": false,
       "interpolation": "bilinear",
       "layers": [
        "IPY_MODEL_ff6da8de591e4c5fb7e407793197959a",
        "IPY_MODEL_86463b0280d449789b2550d89f39e8bd"
       ],
       "layout": "IPY_MODEL_cd6c265a63634007a81b2abee57fb475",
       "left": 71,
       "max_zoom": 24,
       "modisdate": "2024-03-07",
       "north": 71.9653876991313,
       "options": [
        "bounce_at_zoom_limits",
        "box_zoom",
        "center",
        "close_popup_on_click",
        "double_click_zoom",
        "dragging",
        "fullscreen",
        "inertia",
        "inertia_deceleration",
        "inertia_max_speed",
        "interpolation",
        "keyboard",
        "keyboard_pan_offset",
        "keyboard_zoom_offset",
        "max_zoom",
        "min_zoom",
        "prefer_canvas",
        "scroll_wheel_zoom",
        "tap",
        "tap_tolerance",
        "touch_zoom",
        "world_copy_jump",
        "zoom",
        "zoom_animation_threshold",
        "zoom_delta",
        "zoom_snap"
       ],
       "prefer_canvas": false,
       "right": 955,
       "scroll_wheel_zoom": true,
       "south": -71.96538769913128,
       "style": "IPY_MODEL_5551379f627e47a7bfcc11313b90b837",
       "top": 212,
       "west": -155.03906250000003,
       "window_url": "http://localhost:8888/lab",
       "zoom": 2
      }
     },
     "cc9613d40f2f4dc690631b67a19e0723": {
      "model_module": "ipytree",
      "model_module_version": "^0.2",
      "model_name": "NodeModel",
      "state": {
       "_id": "bd614ad7-1b79-4571-bd50-327d648bc29d",
       "_model_module_version": "^0.2",
       "_view_module_version": "^0.2",
       "icon": "file",
       "name": "landsat_path_row_limit.py"
      }
     },
     "cd01db919be94f9d876ad129c30e1507": {
      "model_module": "@jupyter-widgets/output",
      "model_module_version": "1.0.0",
      "model_name": "OutputModel",
      "state": {
       "layout": "IPY_MODEL_44c9b382c626443199db09ec0f3ef889"
      }
     },
     "cd060f2b355f498480b411b7b426d778": {
      "model_module": "@jupyter-widgets/controls",
      "model_module_version": "2.0.0",
      "model_name": "ToggleButtonStyleModel",
      "state": {
       "description_width": "",
       "font_family": null,
       "font_size": null,
       "font_style": null,
       "font_variant": null,
       "font_weight": null,
       "text_color": null,
       "text_decoration": null
      }
     },
     "cd5b7d4995a24392a9b93017458d03ad": {
      "model_module": "@jupyter-widgets/controls",
      "model_module_version": "2.0.0",
      "model_name": "ToggleButtonStyleModel",
      "state": {
       "description_width": "",
       "font_family": null,
       "font_size": null,
       "font_style": null,
       "font_variant": null,
       "font_weight": null,
       "text_color": null,
       "text_decoration": null
      }
     },
     "cd6c265a63634007a81b2abee57fb475": {
      "model_module": "@jupyter-widgets/base",
      "model_module_version": "2.0.0",
      "model_name": "LayoutModel",
      "state": {
       "height": "600px"
      }
     },
     "cd71a257e5fc4f64ad79f6ddf8f39dc4": {
      "model_module": "@jupyter-widgets/base",
      "model_module_version": "2.0.0",
      "model_name": "LayoutModel",
      "state": {
       "height": "600px"
      }
     },
     "cd75cf62d1764d4c98c185e6d3b9f87a": {
      "model_module": "@jupyter-widgets/base",
      "model_module_version": "2.0.0",
      "model_name": "LayoutModel",
      "state": {}
     },
     "cd865613fd694f4aa9f6e83ec37b7fa8": {
      "model_module": "@jupyter-widgets/controls",
      "model_module_version": "2.0.0",
      "model_name": "DescriptionStyleModel",
      "state": {
       "description_width": ""
      }
     },
     "cd944cb75d7e419f90feb7dffbd82edd": {
      "model_module": "@jupyter-widgets/controls",
      "model_module_version": "2.0.0",
      "model_name": "DropdownModel",
      "state": {
       "index": null,
       "layout": "IPY_MODEL_f9237b7792ef4b36adf9ec75b1626adc",
       "style": "IPY_MODEL_ae6e07b7988c44b6ad3cbc79d55f869b"
      }
     },
     "cda03ddb96e54efd8c0d6e5c1a60a0ef": {
      "model_module": "@jupyter-widgets/base",
      "model_module_version": "2.0.0",
      "model_name": "LayoutModel",
      "state": {
       "height": "auto",
       "padding": "0px 0px 0px 4px",
       "width": "auto"
      }
     },
     "cda930c75c074e2fbfa50048d27036c0": {
      "model_module": "@jupyter-widgets/controls",
      "model_module_version": "2.0.0",
      "model_name": "DescriptionStyleModel",
      "state": {
       "description_width": ""
      }
     },
     "cdbecaaccbe34eb187b245a80a6486ae": {
      "model_module": "ipytree",
      "model_module_version": "^0.2",
      "model_name": "NodeModel",
      "state": {
       "_id": "d8599261-46ae-4eba-a4e2-6ea19612657e",
       "_model_module_version": "^0.2",
       "_view_module_version": "^0.2",
       "icon": "file",
       "name": "gradients.py"
      }
     },
     "ce2f0a5da0074d2dadfb7252e339791f": {
      "model_module": "@jupyter-widgets/base",
      "model_module_version": "2.0.0",
      "model_name": "LayoutModel",
      "state": {
       "height": "auto",
       "padding": "0px 0px 0px 4px",
       "width": "auto"
      }
     },
     "ce4d263066414d1b9232723d2c9b8530": {
      "model_module": "@jupyter-widgets/controls",
      "model_module_version": "2.0.0",
      "model_name": "GridBoxModel",
      "state": {
       "children": [
        "IPY_MODEL_5c1a960521704d35abdc2b1336882619",
        "IPY_MODEL_45ca3cbd266247589c68ffe4988985c3",
        "IPY_MODEL_43e5868c84c244aea0243683964844fe",
        "IPY_MODEL_daac0502d8624e7b8e6eece6d0b28e72",
        "IPY_MODEL_140318abd3f941939064b007b63d8c25",
        "IPY_MODEL_d75ba3c3d935455abf66ee7cd6b67b6a"
       ],
       "layout": "IPY_MODEL_0b9145228d874b1083f63e48bdacd03b"
      }
     },
     "ce8296a6fd834b64a41dd7c8b28aaeec": {
      "model_module": "ipytree",
      "model_module_version": "^0.2",
      "model_name": "NodeModel",
      "state": {
       "_id": "e97f4127-7448-4165-bf42-aca698ec972e",
       "_model_module_version": "^0.2",
       "_view_module_version": "^0.2",
       "icon": "file",
       "name": "from_name.py"
      }
     },
     "ced3e7c78c3442fe88817c9f26b2f703": {
      "model_module": "@jupyter-widgets/controls",
      "model_module_version": "2.0.0",
      "model_name": "TextModel",
      "state": {
       "layout": "IPY_MODEL_ed5ce2665a1b40b1bb963b47c0cb89e5",
       "style": "IPY_MODEL_924898ae4d1a497cbe2650414a90c23b"
      }
     },
     "cf49a77c0edb4eeebce9508ed7067268": {
      "model_module": "ipytree",
      "model_module_version": "^0.2",
      "model_name": "NodeModel",
      "state": {
       "_id": "ccfdd46a-b87c-4223-a5ec-df030133fef7",
       "_model_module_version": "^0.2",
       "_view_module_version": "^0.2",
       "icon": "file",
       "name": "hsv_pan_sharpen.py"
      }
     },
     "cf5d2e07d65448ed8481948e45472882": {
      "model_module": "@jupyter-widgets/controls",
      "model_module_version": "2.0.0",
      "model_name": "ToggleButtonModel",
      "state": {
       "button_style": "primary",
       "icon": "folder-open",
       "layout": "IPY_MODEL_5e13a632876e490cb73767666ef1925f",
       "style": "IPY_MODEL_cfde9a7cb1a44b279ac036ff0612f32c",
       "tooltip": "Open local vector/raster data"
      }
     },
     "cf7cda23c6524e3199f4c91aa3cbe79d": {
      "model_module": "ipytree",
      "model_module_version": "^0.2",
      "model_name": "NodeModel",
      "state": {
       "_id": "66b2afc0-727d-41f0-bbd1-3e2f923e46b0",
       "_model_module_version": "^0.2",
       "_view_module_version": "^0.2",
       "icon": "file",
       "name": "us_physiography.py"
      }
     },
     "cf9eded2ce114d29882e7accc8824289": {
      "model_module": "ipytree",
      "model_module_version": "^0.2",
      "model_name": "NodeModel",
      "state": {
       "_id": "83a5db65-beb3-4603-8def-8d5308c6d14b",
       "_model_module_version": "^0.2",
       "_view_module_version": "^0.2",
       "icon": "file",
       "name": "export_csv.py"
      }
     },
     "cfa137eff2e94a48b647841211c6ccbe": {
      "model_module": "ipytree",
      "model_module_version": "^0.2",
      "model_name": "NodeModel",
      "state": {
       "_id": "1fb12ac8-4b5d-430c-ba01-5f2a6ed46e34",
       "_model_module_version": "^0.2",
       "_view_module_version": "^0.2",
       "icon": "file",
       "name": "symbology.py"
      }
     },
     "cfbc4ffc534c44348fb9ce2fcdb51a60": {
      "model_module": "@jupyter-widgets/base",
      "model_module_version": "2.0.0",
      "model_name": "LayoutModel",
      "state": {
       "height": "auto",
       "padding": "0px 0px 0px 4px",
       "width": "auto"
      }
     },
     "cfde9a7cb1a44b279ac036ff0612f32c": {
      "model_module": "@jupyter-widgets/controls",
      "model_module_version": "2.0.0",
      "model_name": "ToggleButtonStyleModel",
      "state": {
       "description_width": "",
       "font_family": null,
       "font_size": null,
       "font_style": null,
       "font_variant": null,
       "font_weight": null,
       "text_color": null,
       "text_decoration": null
      }
     },
     "d0199c4fa4584f02839b58ffa4ce3561": {
      "model_module": "ipytree",
      "model_module_version": "^0.2",
      "model_name": "NodeModel",
      "state": {
       "_id": "793699f3-239e-41f5-86a2-bc9f4ccfa04e",
       "_model_module_version": "^0.2",
       "_view_module_version": "^0.2",
       "icon": "file",
       "name": "reduce_region.py"
      }
     },
     "d01f5a26d73f4ddb82440ec77d02fa2d": {
      "model_module": "@jupyter-widgets/base",
      "model_module_version": "2.0.0",
      "model_name": "LayoutModel",
      "state": {
       "height": "28px",
       "width": "72px"
      }
     },
     "d03c64a4ba7943c895709432c9dd2703": {
      "model_module": "@jupyter-widgets/controls",
      "model_module_version": "2.0.0",
      "model_name": "ToggleButtonStyleModel",
      "state": {
       "description_width": "",
       "font_family": null,
       "font_size": null,
       "font_style": null,
       "font_variant": null,
       "font_weight": null,
       "text_color": null,
       "text_decoration": null
      }
     },
     "d108d69540014a7184424422cb056649": {
      "model_module": "ipyevents",
      "model_module_version": "2.0.2",
      "model_name": "EventModel",
      "state": {
       "_supported_key_events": [
        "keydown",
        "keyup"
       ],
       "_supported_mouse_events": [
        "click",
        "auxclick",
        "dblclick",
        "mouseenter",
        "mouseleave",
        "mousedown",
        "mouseup",
        "mousemove",
        "wheel",
        "contextmenu",
        "dragstart",
        "drag",
        "dragend",
        "dragenter",
        "dragover",
        "dragleave",
        "drop"
       ],
       "_supported_touch_events": [
        "touchstart",
        "touchend",
        "touchmove",
        "touchcancel"
       ],
       "_view_module": "@jupyter-widgets/controls",
       "source": "IPY_MODEL_bc7d26e4c50d4c93916e841262f28c65",
       "throttle_or_debounce": "",
       "watched_events": [
        "mouseenter",
        "mouseleave"
       ],
       "xy_coordinate_system": ""
      }
     },
     "d135153c98a14764a4b30eba5a645a96": {
      "model_module": "@jupyter-widgets/controls",
      "model_module_version": "2.0.0",
      "model_name": "TextStyleModel",
      "state": {
       "description_width": "",
       "font_size": null,
       "text_color": null
      }
     },
     "d15836fa853446fda643a2c4210e55c8": {
      "model_module": "jupyter-leaflet",
      "model_module_version": "^0.18",
      "model_name": "LeafletTileLayerModel",
      "state": {
       "_model_module_version": "^0.18",
       "_view_module_version": "^0.18",
       "attribution": "Esri",
       "max_zoom": 24,
       "name": "Esri.WorldTopoMap",
       "options": [
        "attribution",
        "bounds",
        "detect_retina",
        "max_native_zoom",
        "max_zoom",
        "min_native_zoom",
        "min_zoom",
        "no_wrap",
        "tile_size",
        "tms",
        "zoom_offset"
       ],
       "url": "https://server.arcgisonline.com/ArcGIS/rest/services/World_Topo_Map/MapServer/tile/{z}/{y}/{x}"
      }
     },
     "d1615b85e1d04ff19db4ef4e67b2509a": {
      "model_module": "ipytree",
      "model_module_version": "^0.2",
      "model_name": "NodeModel",
      "state": {
       "_id": "0462cba0-2ad0-45cd-96a5-624a3fe9ded6",
       "_model_module_version": "^0.2",
       "_view_module_version": "^0.2",
       "icon": "file",
       "name": "06_reducing.py"
      }
     },
     "d1843ac3cb724c25beb57093c4960928": {
      "model_module": "@jupyter-widgets/controls",
      "model_module_version": "2.0.0",
      "model_name": "ToggleButtonStyleModel",
      "state": {
       "description_width": "",
       "font_family": null,
       "font_size": null,
       "font_style": null,
       "font_variant": null,
       "font_weight": null,
       "text_color": null,
       "text_decoration": null
      }
     },
     "d18c570561be479c8947c08704b87c0a": {
      "model_module": "@jupyter-widgets/controls",
      "model_module_version": "2.0.0",
      "model_name": "VBoxModel",
      "state": {
       "children": [
        "IPY_MODEL_b8b9599c40e542d29d2aa1496238d5fe",
        "IPY_MODEL_fed7cd2af0f84d15b225c7658eac0a77"
       ],
       "layout": "IPY_MODEL_68fee134d6564b3ba1e34738c4d7d7c7"
      }
     },
     "d1950ae4c77842e2929b9a9b406a198a": {
      "model_module": "ipytree",
      "model_module_version": "^0.2",
      "model_name": "NodeModel",
      "state": {
       "_id": "3ca13bb8-8e30-4da0-bc92-63d288e4a2d6",
       "_model_module_version": "^0.2",
       "_view_module_version": "^0.2",
       "icon": "file",
       "name": "06_reducing.py"
      }
     },
     "d1fb29b572414a08864700c517e7b378": {
      "model_module": "@jupyter-widgets/controls",
      "model_module_version": "2.0.0",
      "model_name": "ToggleButtonStyleModel",
      "state": {
       "description_width": "",
       "font_family": null,
       "font_size": null,
       "font_style": null,
       "font_variant": null,
       "font_weight": null,
       "text_color": null,
       "text_decoration": null
      }
     },
     "d20d9cde0fc24d22a9c3bba269a34112": {
      "model_module": "ipytree",
      "model_module_version": "^0.2",
      "model_name": "NodeModel",
      "state": {
       "_id": "b8585ffe-2584-46d2-9eda-fe8f43cc0f6d",
       "_model_module_version": "^0.2",
       "_view_module_version": "^0.2",
       "icon": "file",
       "name": "pixel_lon_lat.py"
      }
     },
     "d22a4ece351441e99d8c23e0b3e6b48f": {
      "model_module": "@jupyter-widgets/base",
      "model_module_version": "2.0.0",
      "model_name": "LayoutModel",
      "state": {
       "height": "auto",
       "padding": "0px 0px 0px 4px",
       "width": "auto"
      }
     },
     "d277f8c6842a462e9682a6dfdd9bd49f": {
      "model_module": "ipytree",
      "model_module_version": "^0.2",
      "model_name": "NodeModel",
      "state": {
       "_id": "91a7a4ee-17dd-464f-a1a7-413afc1beb0e",
       "_model_module_version": "^0.2",
       "_view_module_version": "^0.2",
       "icon": "file",
       "name": "jrc_yearly_history.py"
      }
     },
     "d28e3ebd62ef4659967bfb6fad8ed2ee": {
      "model_module": "@jupyter-widgets/controls",
      "model_module_version": "2.0.0",
      "model_name": "ToggleButtonStyleModel",
      "state": {
       "description_width": "",
       "font_family": null,
       "font_size": null,
       "font_style": null,
       "font_variant": null,
       "font_weight": null,
       "text_color": null,
       "text_decoration": null
      }
     },
     "d2aa6563762e4c309a825920146867c8": {
      "model_module": "@jupyter-widgets/controls",
      "model_module_version": "2.0.0",
      "model_name": "ToggleButtonStyleModel",
      "state": {
       "description_width": "",
       "font_family": null,
       "font_size": null,
       "font_style": null,
       "font_variant": null,
       "font_weight": null,
       "text_color": null,
       "text_decoration": null
      }
     },
     "d2e0736933af42fbb20dfb387a6bd4f7": {
      "model_module": "@jupyter-widgets/base",
      "model_module_version": "2.0.0",
      "model_name": "LayoutModel",
      "state": {
       "height": "auto",
       "padding": "0px 0px 0px 4px",
       "width": "auto"
      }
     },
     "d3048f27f52e48c3b43b5646a954e6de": {
      "model_module": "@jupyter-widgets/controls",
      "model_module_version": "2.0.0",
      "model_name": "HBoxModel",
      "state": {
       "children": [
        "IPY_MODEL_9b19ff15c14c417ba9a9ae959737e73e",
        "IPY_MODEL_55a1591758c347a38af9c671799aaef5"
       ],
       "layout": "IPY_MODEL_45e09ce0618c45e6a4bb94b72bd4fa77"
      }
     },
     "d3146f55cc524632bbf38157de4e17d9": {
      "model_module": "ipytree",
      "model_module_version": "^0.2",
      "model_name": "NodeModel",
      "state": {
       "_id": "33fa6f26-2ae0-431f-b9cf-3b4e9f1985ce",
       "_model_module_version": "^0.2",
       "_view_module_version": "^0.2",
       "icon": "file",
       "name": "filtering_feature_collection.py"
      }
     },
     "d329f254c0e048f8a8c45091152d0983": {
      "model_module": "@jupyter-widgets/output",
      "model_module_version": "1.0.0",
      "model_name": "OutputModel",
      "state": {
       "layout": "IPY_MODEL_2bac5dab48534c2e9d52ea16ee0296e7"
      }
     },
     "d34028b2a94f4f9facd0f612b4aa1379": {
      "model_module": "@jupyter-widgets/controls",
      "model_module_version": "2.0.0",
      "model_name": "ToggleButtonModel",
      "state": {
       "button_style": "primary",
       "icon": "retweet",
       "layout": "IPY_MODEL_b35ab3a269e24cd5b9ed37b4f0fd573b",
       "style": "IPY_MODEL_d898b7a8fb484777a87ac0ffd540bd49",
       "tooltip": "Convert Earth Engine JavaScript to Python"
      }
     },
     "d35922a697f8461a8c8fe75c15c5056b": {
      "model_module": "jupyter-leaflet",
      "model_module_version": "^0.18",
      "model_name": "LeafletAttributionControlModel",
      "state": {
       "_model_module_version": "^0.18",
       "_view_module_version": "^0.18",
       "options": [
        "position",
        "prefix"
       ],
       "position": "bottomright",
       "prefix": "ipyleaflet"
      }
     },
     "d35df37571ba46e0930add12822f12b7": {
      "model_module": "ipytree",
      "model_module_version": "^0.2",
      "model_name": "NodeModel",
      "state": {
       "_id": "a8ad1e88-3ba7-4b37-91fe-8daee26dac16",
       "_model_module_version": "^0.2",
       "_view_module_version": "^0.2",
       "icon": "file",
       "name": "reduce_to_image.py"
      }
     },
     "d3886fa545e547a3a404d30dacf15e9f": {
      "model_module": "ipytree",
      "model_module_version": "^0.2",
      "model_name": "NodeModel",
      "state": {
       "_id": "fb757e6f-a56e-4c74-9f07-beebb1aa609b",
       "_model_module_version": "^0.2",
       "_view_module_version": "^0.2",
       "name": "Archive",
       "opened": false
      }
     },
     "d3be0f9a91884aeda4a65d5bb6dac512": {
      "model_module": "ipytree",
      "model_module_version": "^0.2",
      "model_name": "NodeModel",
      "state": {
       "_id": "61c4b44f-299c-4dd6-aaa0-49859020c1d6",
       "_model_module_version": "^0.2",
       "_view_module_version": "^0.2",
       "icon": "file",
       "name": "filter_string_ends_with.py"
      }
     },
     "d3bf98eadf1c4f5da9de277c75d00565": {
      "model_module": "ipytree",
      "model_module_version": "^0.2",
      "model_name": "NodeModel",
      "state": {
       "_id": "bb811a40-2541-4935-82e8-3bc04176c745",
       "_model_module_version": "^0.2",
       "_view_module_version": "^0.2",
       "icon": "file",
       "name": "hdr_landsat.py"
      }
     },
     "d4008a8c48d64f0190834210db06eb1d": {
      "model_module": "ipytree",
      "model_module_version": "^0.2",
      "model_name": "NodeModel",
      "state": {
       "_id": "dadb365e-8c8b-41b5-bb34-15e7bf5f1160",
       "_model_module_version": "^0.2",
       "_view_module_version": "^0.2",
       "icon": "file",
       "name": "segmentation_snic.py"
      }
     },
     "d479483dd584422aab1cae33d6f55ded": {
      "model_module": "ipytree",
      "model_module_version": "^0.2",
      "model_name": "NodeModel",
      "state": {
       "_id": "826b6959-0a8f-415f-995b-6f4413479ffe",
       "_model_module_version": "^0.2",
       "_view_module_version": "^0.2",
       "icon": "file",
       "name": "expressions.py"
      }
     },
     "d4974b4c038a409c91243482a92959b1": {
      "model_module": "ipytree",
      "model_module_version": "^0.2",
      "model_name": "NodeModel",
      "state": {
       "_id": "f7553686-6026-4f4a-a382-35090fdcbac3",
       "_model_module_version": "^0.2",
       "_view_module_version": "^0.2",
       "name": "Owner",
       "opened": false
      }
     },
     "d4e121c8b2e7445fb3ee5480603e0970": {
      "model_module": "@jupyter-widgets/controls",
      "model_module_version": "2.0.0",
      "model_name": "ToggleButtonModel",
      "state": {
       "button_style": "primary",
       "icon": "plus",
       "layout": "IPY_MODEL_238e1a5dc71740679939c30711571241",
       "style": "IPY_MODEL_595f86709dfd494c9f7aa6912c86a6ac",
       "tooltip": "Expand toolbar"
      }
     },
     "d4ec1429b2aa4d9596821c80c97961d7": {
      "model_module": "ipytree",
      "model_module_version": "^0.2",
      "model_name": "NodeModel",
      "state": {
       "_id": "a2180de7-3f46-4185-9341-d0c4a5daf6e8",
       "_model_module_version": "^0.2",
       "_view_module_version": "^0.2",
       "name": "Archive",
       "opened": false
      }
     },
     "d4f1719023e742a29c7b4a312d665039": {
      "model_module": "@jupyter-widgets/controls",
      "model_module_version": "2.0.0",
      "model_name": "ToggleButtonModel",
      "state": {
       "button_style": "primary",
       "icon": "folder-open",
       "layout": "IPY_MODEL_0e648e5de6c94460b1a4631aff151d5c",
       "style": "IPY_MODEL_e38a9c2f7c564b4cad6276dae5574ba4",
       "tooltip": "Open local vector/raster data"
      }
     },
     "d50323764ad6443eb3e1bef993a76566": {
      "model_module": "@jupyter-widgets/controls",
      "model_module_version": "2.0.0",
      "model_name": "ButtonStyleModel",
      "state": {
       "font_family": null,
       "font_size": null,
       "font_style": null,
       "font_variant": null,
       "font_weight": null,
       "text_color": null,
       "text_decoration": null
      }
     },
     "d508e7380a6c44dcbaf076643fb5aae3": {
      "model_module": "ipytree",
      "model_module_version": "^0.2",
      "model_name": "NodeModel",
      "state": {
       "_id": "802c6734-ff8d-4530-8ca6-76d17a565440",
       "_model_module_version": "^0.2",
       "_view_module_version": "^0.2",
       "icon": "file",
       "name": "select_image_by_index.py"
      }
     },
     "d510750fa89c4697bb0582a53f199b84": {
      "model_module": "@jupyter-widgets/base",
      "model_module_version": "2.0.0",
      "model_name": "LayoutModel",
      "state": {}
     },
     "d515342e638f4e7c924789069b168d56": {
      "model_module": "ipytree",
      "model_module_version": "^0.2",
      "model_name": "NodeModel",
      "state": {
       "_id": "2c7959f4-6f14-4765-a367-3c051332699d",
       "_model_module_version": "^0.2",
       "_view_module_version": "^0.2",
       "icon": "file",
       "name": "3_water_class_transition.py"
      }
     },
     "d5156586ca5441f3a61a38b53e4bc9d4": {
      "model_module": "@jupyter-widgets/controls",
      "model_module_version": "2.0.0",
      "model_name": "HTMLStyleModel",
      "state": {
       "description_width": "",
       "font_size": null,
       "text_color": null
      }
     },
     "d516d74004f64fff9a3515516aba1a80": {
      "model_module": "@jupyter-widgets/controls",
      "model_module_version": "2.0.0",
      "model_name": "DescriptionStyleModel",
      "state": {
       "description_width": ""
      }
     },
     "d517ff331e1c4d05a606a15bfeeb837f": {
      "model_module": "ipytree",
      "model_module_version": "^0.2",
      "model_name": "NodeModel",
      "state": {
       "_id": "3f1b5908-1dc1-4a00-a204-c4a9d5445b51",
       "_model_module_version": "^0.2",
       "_view_module_version": "^0.2",
       "icon": "file",
       "name": "relational_operators.py"
      }
     },
     "d519f67426ce427ca7a94adb90387f70": {
      "model_module": "ipytree",
      "model_module_version": "^0.2",
      "model_name": "NodeModel",
      "state": {
       "_id": "668ac448-d45a-41d1-80a9-bd5992fe3302",
       "_model_module_version": "^0.2",
       "_view_module_version": "^0.2",
       "icon": "file",
       "name": "confusion_matrix.py"
      }
     },
     "d5767861a0a545b0a3c8bcc87c170fa9": {
      "model_module": "ipytree",
      "model_module_version": "^0.2",
      "model_name": "NodeModel",
      "state": {
       "_id": "90a997a3-f126-44a9-bb26-807426d1f2eb",
       "_model_module_version": "^0.2",
       "_view_module_version": "^0.2",
       "icon": "file",
       "name": "linear_regression_more.py"
      }
     },
     "d5dbee9952e54eef96010a3b82a43b55": {
      "model_module": "@jupyter-widgets/base",
      "model_module_version": "2.0.0",
      "model_name": "LayoutModel",
      "state": {}
     },
     "d5de8bd226ed460c9d47dba8c2e98822": {
      "model_module": "jupyter-leaflet",
      "model_module_version": "^0.18",
      "model_name": "LeafletMapStyleModel",
      "state": {
       "_model_module_version": "^0.18"
      }
     },
     "d604ca51065e43aca7976d9c9614d435": {
      "model_module": "ipytree",
      "model_module_version": "^0.2",
      "model_name": "NodeModel",
      "state": {
       "_id": "29236017-083a-4a5e-9267-84eec8bd1470",
       "_model_module_version": "^0.2",
       "_view_module_version": "^0.2",
       "icon": "file",
       "name": "filter_eq.py"
      }
     },
     "d605465e2e954776aff4f03f838194b7": {
      "model_module": "@jupyter-widgets/base",
      "model_module_version": "2.0.0",
      "model_name": "LayoutModel",
      "state": {}
     },
     "d61610edad4b470ab5fba612ec626825": {
      "model_module": "ipyevents",
      "model_module_version": "2.0.2",
      "model_name": "EventModel",
      "state": {
       "_supported_key_events": [
        "keydown",
        "keyup"
       ],
       "_supported_mouse_events": [
        "click",
        "auxclick",
        "dblclick",
        "mouseenter",
        "mouseleave",
        "mousedown",
        "mouseup",
        "mousemove",
        "wheel",
        "contextmenu",
        "dragstart",
        "drag",
        "dragend",
        "dragenter",
        "dragover",
        "dragleave",
        "drop"
       ],
       "_supported_touch_events": [
        "touchstart",
        "touchend",
        "touchmove",
        "touchcancel"
       ],
       "_view_module": "@jupyter-widgets/controls",
       "source": "IPY_MODEL_e929b2fb5b054a559605d89eb6a349fa",
       "throttle_or_debounce": "",
       "watched_events": [
        "mouseenter",
        "mouseleave"
       ],
       "xy_coordinate_system": ""
      }
     },
     "d6276e76bc5042d7bd4c70329160f57f": {
      "model_module": "jupyter-leaflet",
      "model_module_version": "^0.18",
      "model_name": "LeafletMapStyleModel",
      "state": {
       "_model_module_version": "^0.18"
      }
     },
     "d63740a237424a2bbc426f75dc17b50c": {
      "model_module": "ipytree",
      "model_module_version": "^0.2",
      "model_name": "NodeModel",
      "state": {
       "_id": "dd62a37e-3034-42e6-9286-8102bb6b39ac",
       "_model_module_version": "^0.2",
       "_view_module_version": "^0.2",
       "icon": "file",
       "name": "inverted_joins.py"
      }
     },
     "d641dd392d504fd3a7ffdb96cfa9261d": {
      "model_module": "@jupyter-widgets/base",
      "model_module_version": "2.0.0",
      "model_name": "LayoutModel",
      "state": {
       "height": "auto",
       "padding": "0px 0px 0px 4px",
       "width": "auto"
      }
     },
     "d651f480ef344fc3a5f93e8bf6a8c6ce": {
      "model_module": "@jupyter-widgets/controls",
      "model_module_version": "2.0.0",
      "model_name": "VBoxModel",
      "state": {
       "_dom_classes": [
        "geemap-light"
       ],
       "_view_count": 0,
       "children": [
        "IPY_MODEL_07526697c8e04becb3dc84228725fedd"
       ],
       "layout": "IPY_MODEL_359d9090e92447dba59ad43e18a74610"
      }
     },
     "d65b66e2beb24212804ff5decca3cb85": {
      "model_module": "ipytree",
      "model_module_version": "^0.2",
      "model_name": "NodeModel",
      "state": {
       "_id": "6d16e48d-f347-434f-be17-53ad49b5f777",
       "_model_module_version": "^0.2",
       "_view_module_version": "^0.2",
       "icon": "file",
       "name": "extract_value_to_points.py"
      }
     },
     "d66a06e0a9a744bea18088091b919e78": {
      "model_module": "@jupyter-widgets/base",
      "model_module_version": "2.0.0",
      "model_name": "LayoutModel",
      "state": {
       "height": "28px",
       "padding": "0px 0px 0px 4px",
       "width": "28px"
      }
     },
     "d678d03387df4d109893b61efd0920ae": {
      "model_module": "jupyter-leaflet",
      "model_module_version": "^0.18",
      "model_name": "LeafletScaleControlModel",
      "state": {
       "_model_module_version": "^0.18",
       "_view_module_version": "^0.18",
       "imperial": true,
       "max_width": 100,
       "metric": true,
       "options": [
        "imperial",
        "max_width",
        "metric",
        "position",
        "update_when_idle"
       ],
       "position": "bottomleft",
       "update_when_idle": false
      }
     },
     "d6e8f6ed4ed746838f3d33fcfe699170": {
      "model_module": "ipytree",
      "model_module_version": "^0.2",
      "model_name": "NodeModel",
      "state": {
       "_id": "66cecee8-0291-406a-b6a6-adfc03698c9b",
       "_model_module_version": "^0.2",
       "_view_module_version": "^0.2",
       "icon": "file",
       "name": "landsat_surface_reflectance.py"
      }
     },
     "d7292389f058418b8844872b3f4ef485": {
      "model_module": "ipytree",
      "model_module_version": "^0.2",
      "model_name": "NodeModel",
      "state": {
       "_id": "c06093d4-2d4c-4ffa-abfa-a9f4d1c385a0",
       "_model_module_version": "^0.2",
       "_view_module_version": "^0.2",
       "icon": "file",
       "name": "metadata.py"
      }
     },
     "d72b9af5f8c940ffa3af7c0127569059": {
      "model_module": "ipytree",
      "model_module_version": "^0.2",
      "model_name": "NodeModel",
      "state": {
       "_id": "345d3df6-5923-49f8-b3d3-69e1543a0e58",
       "_model_module_version": "^0.2",
       "_view_module_version": "^0.2",
       "icon": "file",
       "name": "get_image_id.py"
      }
     },
     "d733d7be50bf491a8f8a367f6ae0a821": {
      "model_module": "ipyevents",
      "model_module_version": "2.0.2",
      "model_name": "EventModel",
      "state": {
       "_supported_key_events": [
        "keydown",
        "keyup"
       ],
       "_supported_mouse_events": [
        "click",
        "auxclick",
        "dblclick",
        "mouseenter",
        "mouseleave",
        "mousedown",
        "mouseup",
        "mousemove",
        "wheel",
        "contextmenu",
        "dragstart",
        "drag",
        "dragend",
        "dragenter",
        "dragover",
        "dragleave",
        "drop"
       ],
       "_supported_touch_events": [
        "touchstart",
        "touchend",
        "touchmove",
        "touchcancel"
       ],
       "_view_module": "@jupyter-widgets/controls",
       "source": "IPY_MODEL_b9e56cef87b2455cbed3cc417e37e62f",
       "throttle_or_debounce": "",
       "watched_events": [
        "mouseenter",
        "mouseleave"
       ],
       "xy_coordinate_system": ""
      }
     },
     "d73ec9876578457eb08abe93a3e6d630": {
      "model_module": "@jupyter-widgets/controls",
      "model_module_version": "2.0.0",
      "model_name": "ToggleButtonModel",
      "state": {
       "icon": "server",
       "layout": "IPY_MODEL_45e6559a603c483eb5928f7d49e04071",
       "style": "IPY_MODEL_97a2e4d267224d2d9d3fee6333f86244",
       "tooltip": "Layers"
      }
     },
     "d75ba3c3d935455abf66ee7cd6b67b6a": {
      "model_module": "@jupyter-widgets/controls",
      "model_module_version": "2.0.0",
      "model_name": "ToggleButtonModel",
      "state": {
       "button_style": "primary",
       "icon": "plus",
       "layout": "IPY_MODEL_ef5ecb7ff60f4fe4a8c11ba38d88e2b6",
       "style": "IPY_MODEL_c6fed6aae6bf417383e8d7a757807aa3",
       "tooltip": "Expand toolbar"
      }
     },
     "d764e25f45b74bb39cdf2e9dc801e51a": {
      "model_module": "@jupyter-widgets/controls",
      "model_module_version": "2.0.0",
      "model_name": "VBoxModel",
      "state": {
       "children": [
        "IPY_MODEL_635e85d597af4b008243b868600b80dc",
        "IPY_MODEL_269c608ae96547e68e941d780ce3a68c"
       ],
       "layout": "IPY_MODEL_99ca1e3eb8c54655b6463a57e3ea1bd3"
      }
     },
     "d78866e30f544a74b4b28202af2ef645": {
      "model_module": "ipytree",
      "model_module_version": "^0.2",
      "model_name": "NodeModel",
      "state": {
       "_id": "40621fea-46c3-4e7c-a84b-395146ec0551",
       "_model_module_version": "^0.2",
       "_view_module_version": "^0.2",
       "icon": "file",
       "name": "palettes_crameri_oleron_dem.py"
      }
     },
     "d7887c5d88e54e6dae656897fd974d4a": {
      "model_module": "ipytree",
      "model_module_version": "^0.2",
      "model_name": "NodeModel",
      "state": {
       "_id": "a36d4274-8a09-4462-a9b0-0a3904012580",
       "_model_module_version": "^0.2",
       "_view_module_version": "^0.2",
       "icon": "file",
       "name": "map_function.py"
      }
     },
     "d7c23f165c4b4650895431326cd8fd8b": {
      "model_module": "@jupyter-widgets/controls",
      "model_module_version": "2.0.0",
      "model_name": "ToggleButtonModel",
      "state": {
       "icon": "wrench",
       "layout": "IPY_MODEL_c5a054f3a3df42b5bb1716eb9d06824f",
       "style": "IPY_MODEL_38eab3a6dfb24115b982c9b62fc88119",
       "tooltip": "Toolbar"
      }
     },
     "d81cfee074ed4a31804bf5b96f47bc98": {
      "model_module": "@jupyter-widgets/controls",
      "model_module_version": "2.0.0",
      "model_name": "ToggleButtonModel",
      "state": {
       "button_style": "primary",
       "icon": "fast-forward",
       "layout": "IPY_MODEL_225f20a9a6494ba5961234aed945f0b8",
       "style": "IPY_MODEL_11898a6971cc41f39a005dc29c960479",
       "tooltip": "Activate timeslider"
      }
     },
     "d82547ea57c24f44b8f05c4d6a3b6e29": {
      "model_module": "@jupyter-widgets/controls",
      "model_module_version": "2.0.0",
      "model_name": "HTMLModel",
      "state": {
       "layout": "IPY_MODEL_08855f749837423fa36661afab8a204a",
       "style": "IPY_MODEL_8ca765b6633d4da693875a268782ead2"
      }
     },
     "d8334984259a47b8a124d2939eb75335": {
      "model_module": "@jupyter-widgets/controls",
      "model_module_version": "2.0.0",
      "model_name": "ToggleButtonStyleModel",
      "state": {
       "description_width": "",
       "font_family": null,
       "font_size": null,
       "font_style": null,
       "font_variant": null,
       "font_weight": null,
       "text_color": null,
       "text_decoration": null
      }
     },
     "d84e6bf3ea4b413a85b741d515deb5fe": {
      "model_module": "ipytree",
      "model_module_version": "^0.2",
      "model_name": "NodeModel",
      "state": {
       "_id": "7aae8cf6-a66e-4dea-8448-9d944e7a4675",
       "_model_module_version": "^0.2",
       "_view_module_version": "^0.2",
       "icon": "file",
       "name": "README.md"
      }
     },
     "d8687d4c01894c838c0a9b05a3d2536f": {
      "model_module": "@jupyter-widgets/controls",
      "model_module_version": "2.0.0",
      "model_name": "TextModel",
      "state": {
       "layout": "IPY_MODEL_304ba3fd1eb64dc7a8c738932778efe2",
       "placeholder": "Filter scripts...",
       "style": "IPY_MODEL_d135153c98a14764a4b30eba5a645a96"
      }
     },
     "d86dc2c752444ddf905ced496739ded4": {
      "model_module": "ipytree",
      "model_module_version": "^0.2",
      "model_name": "NodeModel",
      "state": {
       "_id": "c997343e-dda8-4a65-af28-5fedf250d6b7",
       "_model_module_version": "^0.2",
       "_view_module_version": "^0.2",
       "icon": "file",
       "name": "02_adding_data_to_qgis.py"
      }
     },
     "d898b7a8fb484777a87ac0ffd540bd49": {
      "model_module": "@jupyter-widgets/controls",
      "model_module_version": "2.0.0",
      "model_name": "ToggleButtonStyleModel",
      "state": {
       "description_width": "",
       "font_family": null,
       "font_size": null,
       "font_style": null,
       "font_variant": null,
       "font_weight": null,
       "text_color": null,
       "text_decoration": null
      }
     },
     "d8b97caa367b45c2baf1ad27d068c53a": {
      "model_module": "@jupyter-widgets/controls",
      "model_module_version": "2.0.0",
      "model_name": "ToggleButtonStyleModel",
      "state": {
       "description_width": "",
       "font_family": null,
       "font_size": null,
       "font_style": null,
       "font_variant": null,
       "font_weight": null,
       "text_color": null,
       "text_decoration": null
      }
     },
     "d8d3083a67274b489037a6dd8a324b4e": {
      "model_module": "ipytree",
      "model_module_version": "^0.2",
      "model_name": "NodeModel",
      "state": {
       "_id": "c4552292-78ce-487c-8740-4b90ad90d7e0",
       "_model_module_version": "^0.2",
       "_view_module_version": "^0.2",
       "icon": "file",
       "name": "05_map_function.py"
      }
     },
     "d8de0325bdef42d0ae79b2c72fc763d1": {
      "model_module": "ipytree",
      "model_module_version": "^0.2",
      "model_name": "NodeModel",
      "state": {
       "_id": "bf3e42ee-2dca-41b1-869c-ee13e90adcbd",
       "_model_module_version": "^0.2",
       "_view_module_version": "^0.2",
       "icon": "file",
       "name": "map_get_center.py"
      }
     },
     "d90affdad1394b72ab83c5500c176fd3": {
      "model_module": "@jupyter-widgets/controls",
      "model_module_version": "2.0.0",
      "model_name": "ToggleButtonModel",
      "state": {
       "icon": "wrench",
       "layout": "IPY_MODEL_d66a06e0a9a744bea18088091b919e78",
       "style": "IPY_MODEL_a88673d003354a739b7f4364838e7dfe",
       "tooltip": "Toolbar",
       "value": true
      }
     },
     "d962997044514c9ea40987040b472e1c": {
      "model_module": "@jupyter-widgets/controls",
      "model_module_version": "2.0.0",
      "model_name": "ToggleButtonStyleModel",
      "state": {
       "description_width": "",
       "font_family": null,
       "font_size": null,
       "font_style": null,
       "font_variant": null,
       "font_weight": null,
       "text_color": null,
       "text_decoration": null
      }
     },
     "d968f97eb58c4a3b863bc119a02f138b": {
      "model_module": "jupyter-leaflet",
      "model_module_version": "^0.18",
      "model_name": "LeafletScaleControlModel",
      "state": {
       "_model_module_version": "^0.18",
       "_view_module_version": "^0.18",
       "imperial": true,
       "max_width": 100,
       "metric": true,
       "options": [
        "imperial",
        "max_width",
        "metric",
        "position",
        "update_when_idle"
       ],
       "position": "bottomleft",
       "update_when_idle": false
      }
     },
     "d9940fe0018c4e76876dcaf1c137f483": {
      "model_module": "@jupyter-widgets/controls",
      "model_module_version": "2.0.0",
      "model_name": "ButtonModel",
      "state": {
       "button_style": "primary",
       "description": "Clone",
       "layout": "IPY_MODEL_d5dbee9952e54eef96010a3b82a43b55",
       "style": "IPY_MODEL_3c78bddda1664f0c98abc2878e42eea7",
       "tooltip": "Clone the repository to folder."
      }
     },
     "d99b796e5eaa4f28816117e48db2c0c9": {
      "model_module": "ipytree",
      "model_module_version": "^0.2",
      "model_name": "NodeModel",
      "state": {
       "_id": "4f63a207-c8ad-47cf-8d63-aab15b3bb759",
       "_model_module_version": "^0.2",
       "_view_module_version": "^0.2",
       "icon": "file",
       "name": "terrain_visualization.py"
      }
     },
     "d99e0792de894c4caf332a82f3f0e219": {
      "model_module": "ipytree",
      "model_module_version": "^0.2",
      "model_name": "NodeModel",
      "state": {
       "_id": "b2ec4896-c38f-4b27-85fa-af9c0c654507",
       "_model_module_version": "^0.2",
       "_view_module_version": "^0.2",
       "icon": "file",
       "name": "DeferredExecution.py"
      }
     },
     "d9aabe0c2e8146c3bb98c29126cae963": {
      "model_module": "@jupyter-widgets/controls",
      "model_module_version": "2.0.0",
      "model_name": "ToggleButtonStyleModel",
      "state": {
       "description_width": "",
       "font_family": null,
       "font_size": null,
       "font_style": null,
       "font_variant": null,
       "font_weight": null,
       "text_color": null,
       "text_decoration": null
      }
     },
     "d9ce1e08610f4ab3a0887d1e161988b6": {
      "model_module": "ipytree",
      "model_module_version": "^0.2",
      "model_name": "NodeModel",
      "state": {
       "_id": "b13da35b-fec2-427b-92e6-3bdf6f8b230f",
       "_model_module_version": "^0.2",
       "_view_module_version": "^0.2",
       "icon": "file",
       "name": "basic_image.py"
      }
     },
     "d9f2840075c746ce9e4a7151594f9937": {
      "model_module": "ipytree",
      "model_module_version": "^0.2",
      "model_name": "NodeModel",
      "state": {
       "_id": "c4f48bf3-a357-4979-8d98-5bca8ee9ff3c",
       "_model_module_version": "^0.2",
       "_view_module_version": "^0.2",
       "icon": "file",
       "name": "reduce_resolution.py"
      }
     },
     "da1c36d50e714503a41fcd91ba12fd27": {
      "model_module": "ipytree",
      "model_module_version": "^0.2",
      "model_name": "NodeModel",
      "state": {
       "_id": "117c005f-ab6a-4fe3-811a-24901602e90b",
       "_model_module_version": "^0.2",
       "_view_module_version": "^0.2",
       "icon": "file",
       "name": "FromName.py"
      }
     },
     "da300fba2d1947c6a972c902571a9ade": {
      "model_module": "@jupyter-widgets/base",
      "model_module_version": "2.0.0",
      "model_name": "LayoutModel",
      "state": {
       "height": "auto",
       "padding": "0px 0px 0px 4px",
       "width": "auto"
      }
     },
     "da4e1bae214d45f1bb6a2b0286f3bfa3": {
      "model_module": "ipytree",
      "model_module_version": "^0.2",
      "model_name": "NodeModel",
      "state": {
       "_id": "52e078aa-8d69-4360-aaf7-892f7f142fe5",
       "_model_module_version": "^0.2",
       "_view_module_version": "^0.2",
       "name": "Examples",
       "nodes": [
        "IPY_MODEL_9d7541150a93438194e64abce4d4f526"
       ],
       "opened": false
      }
     },
     "da843da6a8cd4846a20480a2dc692aa8": {
      "model_module": "ipytree",
      "model_module_version": "^0.2",
      "model_name": "NodeModel",
      "state": {
       "_id": "6a179412-ef76-4b6f-bfbf-ef42f9f666f9",
       "_model_module_version": "^0.2",
       "_view_module_version": "^0.2",
       "icon": "file",
       "name": "srtm_topo_diversity.py"
      }
     },
     "da89dc0cc4c746eeaf139946783092a8": {
      "model_module": "ipytree",
      "model_module_version": "^0.2",
      "model_name": "NodeModel",
      "state": {
       "_id": "320b6a21-2877-423e-9715-2a1d68619c69",
       "_model_module_version": "^0.2",
       "_view_module_version": "^0.2",
       "icon": "file",
       "name": "us_epa_ecoregions.py"
      }
     },
     "da8ab4dbcf864391bb891d828c19fd94": {
      "model_module": "@jupyter-widgets/controls",
      "model_module_version": "2.0.0",
      "model_name": "ToggleButtonStyleModel",
      "state": {
       "description_width": "",
       "font_family": null,
       "font_size": null,
       "font_style": null,
       "font_variant": null,
       "font_weight": null,
       "text_color": null,
       "text_decoration": null
      }
     },
     "daac0502d8624e7b8e6eece6d0b28e72": {
      "model_module": "@jupyter-widgets/controls",
      "model_module_version": "2.0.0",
      "model_name": "ToggleButtonModel",
      "state": {
       "button_style": "primary",
       "icon": "map",
       "layout": "IPY_MODEL_8c967cedf399485ea4c683a793fdc46f",
       "style": "IPY_MODEL_ec5200952f104fc2ac618371648ca1cf",
       "tooltip": "Change basemap"
      }
     },
     "db2993a659f64382b862a2970538400f": {
      "model_module": "@jupyter-widgets/controls",
      "model_module_version": "2.0.0",
      "model_name": "ToggleButtonsStyleModel",
      "state": {
       "button_width": "110px",
       "description_width": ""
      }
     },
     "db2dbf7f72bd4ad0aa896c96169ee8a2": {
      "model_module": "@jupyter-widgets/base",
      "model_module_version": "2.0.0",
      "model_name": "LayoutModel",
      "state": {
       "max_height": "350px",
       "max_width": "340px",
       "overflow": "scroll"
      }
     },
     "db375214ff744a1d882c2f5fc3287997": {
      "model_module": "@jupyter-widgets/base",
      "model_module_version": "2.0.0",
      "model_name": "LayoutModel",
      "state": {
       "height": "auto",
       "padding": "0px 0px 0px 4px",
       "width": "auto"
      }
     },
     "db40189e6cd74c89b4530f5b28e99566": {
      "model_module": "jupyter-leaflet",
      "model_module_version": "^0.18",
      "model_name": "LeafletMapStyleModel",
      "state": {
       "_model_module_version": "^0.18"
      }
     },
     "db66448af9374e82a01252a66edc1600": {
      "model_module": "@jupyter-widgets/controls",
      "model_module_version": "2.0.0",
      "model_name": "ToggleButtonStyleModel",
      "state": {
       "description_width": "",
       "font_family": null,
       "font_size": null,
       "font_style": null,
       "font_variant": null,
       "font_weight": null,
       "text_color": null,
       "text_decoration": null
      }
     },
     "db7328dbb22a4acfb3fa90c465d0dbac": {
      "model_module": "@jupyter-widgets/controls",
      "model_module_version": "2.0.0",
      "model_name": "ToggleButtonStyleModel",
      "state": {
       "description_width": "",
       "font_family": null,
       "font_size": null,
       "font_style": null,
       "font_variant": null,
       "font_weight": null,
       "text_color": null,
       "text_decoration": null
      }
     },
     "db8e025110b64d35b7d87d6cf2267009": {
      "model_module": "ipytree",
      "model_module_version": "^0.2",
      "model_name": "NodeModel",
      "state": {
       "_id": "01059088-6429-480b-b6c6-e05fbf113b20",
       "_model_module_version": "^0.2",
       "_view_module_version": "^0.2",
       "icon": "file",
       "name": "select_columns.py"
      }
     },
     "dbcd047117864dff83b8f347738ae535": {
      "model_module": "ipytree",
      "model_module_version": "^0.2",
      "model_name": "NodeModel",
      "state": {
       "_id": "e5a88c87-ac20-45d3-b148-bac39c1454bb",
       "_model_module_version": "^0.2",
       "_view_module_version": "^0.2",
       "icon": "file",
       "name": "geometric_operations.py"
      }
     },
     "dbcd3f18b9184927b459dd8eb96d3ec4": {
      "model_module": "@jupyter-widgets/base",
      "model_module_version": "2.0.0",
      "model_name": "LayoutModel",
      "state": {
       "height": "auto",
       "padding": "0px 0px 0px 4px",
       "width": "auto"
      }
     },
     "dbe4a532e0034e38ace75a4c8679e836": {
      "model_module": "@jupyter-widgets/controls",
      "model_module_version": "2.0.0",
      "model_name": "TextStyleModel",
      "state": {
       "description_width": "",
       "font_size": null,
       "text_color": null
      }
     },
     "dbed2e44831c44da99f929dbcd2a6c71": {
      "model_module": "ipytree",
      "model_module_version": "^0.2",
      "model_name": "NodeModel",
      "state": {
       "_id": "d9040071-7162-4bf5-98fd-36e50b852c87",
       "_model_module_version": "^0.2",
       "_view_module_version": "^0.2",
       "icon": "file",
       "name": "world_database_on_protected_areas.py"
      }
     },
     "dc090672d9d643fca1077c2bb4387963": {
      "model_module": "ipytree",
      "model_module_version": "^0.2",
      "model_name": "NodeModel",
      "state": {
       "_id": "ca690278-0097-4b1f-b747-806d97019c0b",
       "_model_module_version": "^0.2",
       "_view_module_version": "^0.2",
       "icon": "file",
       "name": "linear_fit.py"
      }
     },
     "dc468b4227614ecb8bc33f16161933ee": {
      "model_module": "ipytree",
      "model_module_version": "^0.2",
      "model_name": "NodeModel",
      "state": {
       "_id": "5e88362b-8bf1-4c09-8210-6d61677eb285",
       "_model_module_version": "^0.2",
       "_view_module_version": "^0.2",
       "icon": "file",
       "name": "reducing_collection.py"
      }
     },
     "dc74f6207a764fcb93b9449dd25a7005": {
      "model_module": "@jupyter-widgets/controls",
      "model_module_version": "2.0.0",
      "model_name": "ToggleButtonModel",
      "state": {
       "button_style": "primary",
       "icon": "gears",
       "layout": "IPY_MODEL_db375214ff744a1d882c2f5fc3287997",
       "style": "IPY_MODEL_42c24a45d69e4736bebf3d9a14e102ee",
       "tooltip": "WhiteboxTools for local geoprocessing"
      }
     },
     "dcdecac7683341a7ac990680a04d7131": {
      "model_module": "ipytree",
      "model_module_version": "^0.2",
      "model_name": "NodeModel",
      "state": {
       "_id": "07dacdc0-269b-4282-80ae-551590c01185",
       "_model_module_version": "^0.2",
       "_view_module_version": "^0.2",
       "icon": "file",
       "name": "color_by_attribute.py"
      }
     },
     "dcfbd4245e9441fd93c7b97c9baebc79": {
      "model_module": "@jupyter-widgets/base",
      "model_module_version": "2.0.0",
      "model_name": "LayoutModel",
      "state": {}
     },
     "dd09b623b009465cba6bcc0479f2edfd": {
      "model_module": "@jupyter-widgets/base",
      "model_module_version": "2.0.0",
      "model_name": "LayoutModel",
      "state": {
       "height": "auto",
       "padding": "0px 0px 0px 4px",
       "width": "auto"
      }
     },
     "dd1f7953e98d4b48bef0fb5eeb29f4ab": {
      "model_module": "ipytree",
      "model_module_version": "^0.2",
      "model_name": "NodeModel",
      "state": {
       "_id": "00c70d9f-0460-4aa9-9088-609c2283cb67",
       "_model_module_version": "^0.2",
       "_view_module_version": "^0.2",
       "name": "contrib",
       "nodes": [
        "IPY_MODEL_e3938cd6145f44acb29079271df707a2",
        "IPY_MODEL_a1183d0d5794488284dd4c6f46d2110b"
       ],
       "opened": false
      }
     },
     "dd4e6c45d0c74f339458b78c80270dde": {
      "model_module": "ipytree",
      "model_module_version": "^0.2",
      "model_name": "NodeModel",
      "state": {
       "_id": "d1945804-ccdd-4ac6-a787-a830b73b2517",
       "_model_module_version": "^0.2",
       "_view_module_version": "^0.2",
       "icon": "file",
       "name": "us_ned_physio_diversity.py"
      }
     },
     "dd56e95d0eef4606bc24c2cf07902080": {
      "model_module": "ipytree",
      "model_module_version": "^0.2",
      "model_name": "NodeModel",
      "state": {
       "_id": "37ba975e-2d5d-4fb2-9a84-09fead559b95",
       "_model_module_version": "^0.2",
       "_view_module_version": "^0.2",
       "icon": "file",
       "name": "2_water_occurrence_change_intensity.py"
      }
     },
     "dd9e026e98de4718b4c6b18a4c5c4d59": {
      "model_module": "ipytree",
      "model_module_version": "^0.2",
      "model_name": "NodeModel",
      "state": {
       "_id": "8faaad59-af0a-4676-9ffd-7cf8cece7785",
       "_model_module_version": "^0.2",
       "_view_module_version": "^0.2",
       "icon": "file",
       "name": "image_color_ramp.py"
      }
     },
     "ddff0e22cffe425ab495e89b8bdfb9b6": {
      "model_module": "@jupyter-widgets/base",
      "model_module_version": "2.0.0",
      "model_name": "LayoutModel",
      "state": {
       "height": "auto",
       "padding": "0px 0px 0px 4px",
       "width": "auto"
      }
     },
     "de2507c4b8124c81a27e70cfc6ccdfe4": {
      "model_module": "ipytree",
      "model_module_version": "^0.2",
      "model_name": "NodeModel",
      "state": {
       "_id": "220fb4af-a77a-4650-9699-c91b0a7436da",
       "_model_module_version": "^0.2",
       "_view_module_version": "^0.2",
       "icon": "file",
       "name": "eigen_analysis.py"
      }
     },
     "de34d756852c4cbda93d04819d722394": {
      "model_module": "jupyter-leaflet",
      "model_module_version": "^0.18",
      "model_name": "LeafletZoomControlModel",
      "state": {
       "_model_module_version": "^0.18",
       "_view_module_version": "^0.18",
       "options": [
        "position",
        "zoom_in_text",
        "zoom_in_title",
        "zoom_out_text",
        "zoom_out_title"
       ]
      }
     },
     "de6489e5d2764da8b70dbcfa5e4f0c15": {
      "model_module": "ipytree",
      "model_module_version": "^0.2",
      "model_name": "NodeModel",
      "state": {
       "_id": "471244e5-efd6-498e-aa25-1911b6d59a05",
       "_model_module_version": "^0.2",
       "_view_module_version": "^0.2",
       "icon": "file",
       "name": "convert_bands_to_image_collection.py"
      }
     },
     "de7aaeeac97b4d70995ac902af9f8b4a": {
      "model_module": "@jupyter-widgets/controls",
      "model_module_version": "2.0.0",
      "model_name": "ToggleButtonModel",
      "state": {
       "button_style": "primary",
       "icon": "gears",
       "layout": "IPY_MODEL_fcf44b4ad37d4060a1d0aae8f33fd5d1",
       "style": "IPY_MODEL_b0e262b22b0545088d77253ad86aff20",
       "tooltip": "WhiteboxTools for local geoprocessing"
      }
     },
     "de7c89f30d1848bb8901845d5f7c6e68": {
      "model_module": "ipytree",
      "model_module_version": "^0.2",
      "model_name": "NodeModel",
      "state": {
       "_id": "f586434d-680f-415e-bfa7-096dc3908187",
       "_model_module_version": "^0.2",
       "_view_module_version": "^0.2",
       "icon": "file",
       "name": "export_FeatureCollection.py"
      }
     },
     "dec9a456abb54e9fbfac1e12bdfa9313": {
      "model_module": "ipytree",
      "model_module_version": "^0.2",
      "model_name": "NodeModel",
      "state": {
       "_id": "350ce88e-6d45-4cea-b65b-b8f62027bdf4",
       "_model_module_version": "^0.2",
       "_view_module_version": "^0.2",
       "icon": "file",
       "name": "export_vector.py"
      }
     },
     "dede98365ca14eb5b34f4803cbbfdc9d": {
      "model_module": "ipytree",
      "model_module_version": "^0.2",
      "model_name": "NodeModel",
      "state": {
       "_id": "2f4292f2-851c-4e3e-a52c-600191abad77",
       "_model_module_version": "^0.2",
       "_view_module_version": "^0.2",
       "icon": "file",
       "name": "quality_mosaic.py"
      }
     },
     "dee11ebf4bde4e628dbc9e5f2478ff46": {
      "model_module": "ipytree",
      "model_module_version": "^0.2",
      "model_name": "NodeModel",
      "state": {
       "_id": "d85beb1e-f015-4a85-bae5-20bc259f85a8",
       "_model_module_version": "^0.2",
       "_view_module_version": "^0.2",
       "icon": "file",
       "name": "mean_std_image.py"
      }
     },
     "df121ade02a348caa63fb1c9e5996afa": {
      "model_module": "ipytree",
      "model_module_version": "^0.2",
      "model_name": "NodeModel",
      "state": {
       "_id": "06d5e7ae-b6e7-4be2-93ed-b0962a921ce7",
       "_model_module_version": "^0.2",
       "_view_module_version": "^0.2",
       "icon": "file",
       "name": "save_best_joins.py"
      }
     },
     "df2bc1c273d941f0bb43f2bb3c197786": {
      "model_module": "ipytree",
      "model_module_version": "^0.2",
      "model_name": "NodeModel",
      "state": {
       "_id": "f6503d99-1788-4e8b-a186-86a812e45f59",
       "_model_module_version": "^0.2",
       "_view_module_version": "^0.2",
       "icon": "file",
       "name": "hydrosheds_dem.py"
      }
     },
     "df8b5c636e11491d9d33c97b9145f7f8": {
      "model_module": "ipytree",
      "model_module_version": "^0.2",
      "model_name": "NodeModel",
      "state": {
       "_id": "cd851225-7f41-4c6b-9d56-5b05d9194797",
       "_model_module_version": "^0.2",
       "_view_module_version": "^0.2",
       "icon": "file",
       "name": "us_lithology.py"
      }
     },
     "df99507b5cfb41a1939585e9eef39a72": {
      "model_module": "ipytree",
      "model_module_version": "^0.2",
      "model_name": "NodeModel",
      "state": {
       "_id": "9b89c189-16f3-47d8-b711-244a413da546",
       "_model_module_version": "^0.2",
       "_view_module_version": "^0.2",
       "icon": "file",
       "name": "image_metadata.py"
      }
     },
     "df99d8b670cd413faed89cccc59f77c5": {
      "model_module": "@jupyter-widgets/controls",
      "model_module_version": "2.0.0",
      "model_name": "HBoxModel",
      "state": {
       "_dom_classes": [
        "geemap-light"
       ],
       "children": [
        "IPY_MODEL_598813555ca0464b8c068570470535a6",
        "IPY_MODEL_250b693a62c9446aad8e2940008be91c"
       ],
       "layout": "IPY_MODEL_f9c06b7d50f74a13a7bb436d7d4d7b4e"
      }
     },
     "dfbbf3b76094486da46431ff0979b71d": {
      "model_module": "ipytree",
      "model_module_version": "^0.2",
      "model_name": "NodeModel",
      "state": {
       "_id": "81d83169-9d39-4daa-a168-baea96342c95",
       "_model_module_version": "^0.2",
       "_view_module_version": "^0.2",
       "icon": "file",
       "name": "us_epa_ecoregions.py"
      }
     },
     "dfe06e592ae2447396c1e02d7357943f": {
      "model_module": "jupyter-leaflet",
      "model_module_version": "^0.18",
      "model_name": "LeafletMapStyleModel",
      "state": {
       "_model_module_version": "^0.18"
      }
     },
     "e0440acf7bdf4608af7cbf1b42a1ab2d": {
      "model_module": "@jupyter-widgets/controls",
      "model_module_version": "2.0.0",
      "model_name": "ToggleButtonModel",
      "state": {
       "button_style": "primary",
       "icon": "question",
       "layout": "IPY_MODEL_8d1619aca85d47868010d6cff300e019",
       "style": "IPY_MODEL_b85418eb5bcb41e6b9b301902a94e342",
       "tooltip": "Get help"
      }
     },
     "e04c02d6e462424bb6cf67d6d96ed570": {
      "model_module": "@jupyter-widgets/controls",
      "model_module_version": "2.0.0",
      "model_name": "DropdownModel",
      "state": {
       "index": null,
       "layout": "IPY_MODEL_5a68c7722adf4b129b99e72756404a0b",
       "style": "IPY_MODEL_43f479a25b7a4417804a20665ead0531"
      }
     },
     "e0523792c34f4d7ebeccb96266061cb1": {
      "model_module": "@jupyter-widgets/controls",
      "model_module_version": "2.0.0",
      "model_name": "HBoxModel",
      "state": {
       "children": [
        "IPY_MODEL_e48461361e17407392d9a2f4f47093ea",
        "IPY_MODEL_f2ef35b48094472e945e9d25cec23199"
       ],
       "layout": "IPY_MODEL_029551208b2e4fefb2de270eef5702a8"
      }
     },
     "e0535307c6a746d2a92937ac68a800bc": {
      "model_module": "ipytree",
      "model_module_version": "^0.2",
      "model_name": "NodeModel",
      "state": {
       "_id": "195188f7-d6d3-4d66-813c-61598646323c",
       "_model_module_version": "^0.2",
       "_view_module_version": "^0.2",
       "icon": "file",
       "name": "jrc_monthly_recurrence.py"
      }
     },
     "e05cbab470f64b20be53e6be547b05b5": {
      "model_module": "@jupyter-widgets/base",
      "model_module_version": "2.0.0",
      "model_name": "LayoutModel",
      "state": {
       "height": "auto",
       "padding": "0px 0px 0px 4px",
       "width": "auto"
      }
     },
     "e08c2bc333554d39be2becac83dae488": {
      "model_module": "ipytree",
      "model_module_version": "^0.2",
      "model_name": "NodeModel",
      "state": {
       "_id": "9fec1855-b63d-4745-bacd-512cd4f42789",
       "_model_module_version": "^0.2",
       "_view_module_version": "^0.2",
       "icon": "file",
       "name": "computed_area_filter.py"
      }
     },
     "e0c8ddb56a3e4883b70b19060022fc34": {
      "model_module": "@jupyter-widgets/base",
      "model_module_version": "2.0.0",
      "model_name": "LayoutModel",
      "state": {
       "height": "auto",
       "padding": "0px 0px 0px 4px",
       "width": "auto"
      }
     },
     "e0ebdace1ef2424681ac305dd7f028e7": {
      "model_module": "@jupyter-widgets/controls",
      "model_module_version": "2.0.0",
      "model_name": "ToggleButtonStyleModel",
      "state": {
       "description_width": "",
       "font_family": null,
       "font_size": null,
       "font_style": null,
       "font_variant": null,
       "font_weight": null,
       "text_color": null,
       "text_decoration": null
      }
     },
     "e0f6be72d5b04fe9b82ca16957784fa3": {
      "model_module": "@jupyter-widgets/controls",
      "model_module_version": "2.0.0",
      "model_name": "ToggleButtonStyleModel",
      "state": {
       "description_width": "",
       "font_family": null,
       "font_size": null,
       "font_style": null,
       "font_variant": null,
       "font_weight": null,
       "text_color": null,
       "text_decoration": null
      }
     },
     "e0fd317856894f4e99a552d5a45cc596": {
      "model_module": "@jupyter-widgets/base",
      "model_module_version": "2.0.0",
      "model_name": "LayoutModel",
      "state": {
       "width": "340px"
      }
     },
     "e18037aff9444d9fa60cd30e509eac3f": {
      "model_module": "@jupyter-widgets/base",
      "model_module_version": "2.0.0",
      "model_name": "LayoutModel",
      "state": {}
     },
     "e18f54d3e41341c7b32d25d367efd6c0": {
      "model_module": "@jupyter-widgets/controls",
      "model_module_version": "2.0.0",
      "model_name": "VBoxModel",
      "state": {
       "children": [
        "IPY_MODEL_4e11dcea17334ec7a9c5cdb4b18999fb",
        "IPY_MODEL_3740cb2179644a868e27c2a5ad13f231"
       ],
       "layout": "IPY_MODEL_5cf1bfef035d427686244b48362c53cd"
      }
     },
     "e1d32045be934f56a4bb4bd67200e850": {
      "model_module": "ipytree",
      "model_module_version": "^0.2",
      "model_name": "NodeModel",
      "state": {
       "_id": "6a566f48-470c-46b1-a72c-32c56d122082",
       "_model_module_version": "^0.2",
       "_view_module_version": "^0.2",
       "icon": "file",
       "name": "image_mosaicking.py"
      }
     },
     "e1f0dd4f690541078df5c1306f279382": {
      "model_module": "@jupyter-widgets/controls",
      "model_module_version": "2.0.0",
      "model_name": "ToggleButtonStyleModel",
      "state": {
       "description_width": "",
       "font_family": null,
       "font_size": null,
       "font_style": null,
       "font_variant": null,
       "font_weight": null,
       "text_color": null,
       "text_decoration": null
      }
     },
     "e1f4feb2157a40558bd171973bee0933": {
      "model_module": "jupyter-leaflet",
      "model_module_version": "^0.18",
      "model_name": "LeafletMapModel",
      "state": {
       "_model_module_version": "^0.18",
       "_view_module_version": "^0.18",
       "controls": [
        "IPY_MODEL_124c18c85ea140dead49c786d4bf829c",
        "IPY_MODEL_929de0b68ffe4e139cd2c25048865991",
        "IPY_MODEL_75a1bf1fff0945bc9b4b394a8ccfa4cc",
        "IPY_MODEL_57002430af954e0084159953d02affac",
        "IPY_MODEL_1851559926b549159c3807b1a8339a19",
        "IPY_MODEL_18a3a98e4092421f9cd66d5d37eadbe9",
        "IPY_MODEL_94e8476cdf3a44e69eda3ef20b5726e3",
        "IPY_MODEL_e3f4b18f61a145e8a11ab17f538df403"
       ],
       "default_style": "IPY_MODEL_4573a325a74c464d84e474c8b3ff58e8",
       "dragging_style": "IPY_MODEL_095b63af64594778a999688815bce219",
       "fullscreen": false,
       "interpolation": "bilinear",
       "layers": [
        "IPY_MODEL_f4157149150f4e76842e7bbd3ddae249",
        "IPY_MODEL_b377ba9dfc564d83bed4422dc756420d"
       ],
       "layout": "IPY_MODEL_21141aa78c5c46c19a44aaa9d11221f3",
       "max_zoom": 24,
       "modisdate": "2024-03-07",
       "options": [
        "bounce_at_zoom_limits",
        "box_zoom",
        "center",
        "close_popup_on_click",
        "double_click_zoom",
        "dragging",
        "fullscreen",
        "inertia",
        "inertia_deceleration",
        "inertia_max_speed",
        "interpolation",
        "keyboard",
        "keyboard_pan_offset",
        "keyboard_zoom_offset",
        "max_zoom",
        "min_zoom",
        "prefer_canvas",
        "scroll_wheel_zoom",
        "tap",
        "tap_tolerance",
        "touch_zoom",
        "world_copy_jump",
        "zoom",
        "zoom_animation_threshold",
        "zoom_delta",
        "zoom_snap"
       ],
       "prefer_canvas": false,
       "scroll_wheel_zoom": true,
       "style": "IPY_MODEL_db40189e6cd74c89b4530f5b28e99566",
       "window_url": "http://localhost:8888/lab",
       "zoom": 2
      }
     },
     "e1fe0a9f10f34b34b0461b8486c6be95": {
      "model_module": "ipytree",
      "model_module_version": "^0.2",
      "model_name": "NodeModel",
      "state": {
       "_id": "7294df2c-ee70-4824-8c4a-de13949dc3ba",
       "_model_module_version": "^0.2",
       "_view_module_version": "^0.2",
       "icon": "file",
       "name": "add_random_value_column.py"
      }
     },
     "e1fe580ea37f4bb68515eb290415bc19": {
      "model_module": "@jupyter-widgets/base",
      "model_module_version": "2.0.0",
      "model_name": "LayoutModel",
      "state": {
       "height": "auto",
       "padding": "0px 0px 0px 4px",
       "width": "auto"
      }
     },
     "e22b51d732064012a6f95fb2aca75a4b": {
      "model_module": "@jupyter-widgets/controls",
      "model_module_version": "2.0.0",
      "model_name": "ToggleButtonStyleModel",
      "state": {
       "description_width": "",
       "font_family": null,
       "font_size": null,
       "font_style": null,
       "font_variant": null,
       "font_weight": null,
       "text_color": null,
       "text_decoration": null
      }
     },
     "e22e9ca87ba24827a420a933902dceb6": {
      "model_module": "ipytree",
      "model_module_version": "^0.2",
      "model_name": "NodeModel",
      "state": {
       "_id": "5b822582-e05a-4bf3-ac3f-91a6c7a4f9e3",
       "_model_module_version": "^0.2",
       "_view_module_version": "^0.2",
       "icon": "file",
       "name": "landsat_path_row_limit.py"
      }
     },
     "e25900e604414e2d8fbe90caca257da4": {
      "model_module": "@jupyter-widgets/base",
      "model_module_version": "2.0.0",
      "model_name": "LayoutModel",
      "state": {
       "height": "auto",
       "padding": "0px 0px 0px 4px",
       "width": "auto"
      }
     },
     "e25f7911a4b74d79821872a32b0cb906": {
      "model_module": "@jupyter-widgets/controls",
      "model_module_version": "2.0.0",
      "model_name": "ButtonStyleModel",
      "state": {
       "font_family": null,
       "font_size": null,
       "font_style": null,
       "font_variant": null,
       "font_weight": null,
       "text_color": null,
       "text_decoration": null
      }
     },
     "e26129b4ab0140a6b6ca5821dece6ef8": {
      "model_module": "jupyter-leaflet",
      "model_module_version": "^0.18",
      "model_name": "LeafletWMSLayerModel",
      "state": {
       "_model_module_version": "^0.18",
       "_view_module_version": "^0.18",
       "attribution": "MRLC",
       "crs": {
        "custom": false,
        "name": "EPSG3857"
       },
       "format": "image/png",
       "layers": "NLCD_2001_Land_Cover_L48",
       "name": "NLCD 2001 CONUS Land Cover",
       "options": [
        "attribution",
        "bounds",
        "detect_retina",
        "format",
        "layers",
        "max_native_zoom",
        "max_zoom",
        "min_native_zoom",
        "min_zoom",
        "no_wrap",
        "styles",
        "tile_size",
        "tms",
        "transparent",
        "uppercase",
        "zoom_offset"
       ],
       "transparent": true,
       "url": "https://www.mrlc.gov/geoserver/mrlc_display/NLCD_2001_Land_Cover_L48/wms?"
      }
     },
     "e2efe60c3c8b444e88a3c0921a1e17f9": {
      "model_module": "ipytree",
      "model_module_version": "^0.2",
      "model_name": "NodeModel",
      "state": {
       "_id": "e2b98115-c2ff-42a8-b424-db3b50d4b8f9",
       "_model_module_version": "^0.2",
       "_view_module_version": "^0.2",
       "icon": "file",
       "name": "filter_eq.py"
      }
     },
     "e2f3538aafcb41bcbe184795a9a52b44": {
      "model_module": "@jupyter-widgets/controls",
      "model_module_version": "2.0.0",
      "model_name": "HTMLModel",
      "state": {
       "layout": "IPY_MODEL_a3202215020b4dfb943369164c0134d2",
       "style": "IPY_MODEL_2898f71e20634e108e4cf888e68aa0a5"
      }
     },
     "e2f4575fc97144f6be7a2aa89e14d7f5": {
      "model_module": "@jupyter-widgets/controls",
      "model_module_version": "2.0.0",
      "model_name": "HTMLModel",
      "state": {
       "layout": "IPY_MODEL_3b63f20994334aaf95b58bd1de09a032",
       "style": "IPY_MODEL_f38a2d29ec9145d5b4d563527a76e671"
      }
     },
     "e30d651cdbad4262807dad1fd2cddf4b": {
      "model_module": "ipytree",
      "model_module_version": "^0.2",
      "model_name": "NodeModel",
      "state": {
       "_id": "37cbf7fe-d964-44f8-a107-8222b7b04664",
       "_model_module_version": "^0.2",
       "_view_module_version": "^0.2",
       "icon": "file",
       "name": "filter_string_contains.py"
      }
     },
     "e32268810a0a4b0bb4b6e9db32e7df40": {
      "model_module": "@jupyter-widgets/controls",
      "model_module_version": "2.0.0",
      "model_name": "ToggleButtonModel",
      "state": {
       "button_style": "primary",
       "icon": "plus",
       "layout": "IPY_MODEL_be14dd5178e54cb69e66742d1ecfe5e2",
       "style": "IPY_MODEL_c6f7c6f3067d460db0a2b1edcbca6182",
       "tooltip": "Expand toolbar"
      }
     },
     "e33ada06bf894d1cbfb30acdeccb9129": {
      "model_module": "ipytree",
      "model_module_version": "^0.2",
      "model_name": "NodeModel",
      "state": {
       "_id": "201bdfaf-6d3e-4f57-9c99-30e9ec720cf9",
       "_model_module_version": "^0.2",
       "_view_module_version": "^0.2",
       "icon": "file",
       "name": "array_images.py"
      }
     },
     "e3842a749c764ac28ad0f2dc945c2df5": {
      "model_module": "@jupyter-widgets/controls",
      "model_module_version": "2.0.0",
      "model_name": "ButtonStyleModel",
      "state": {
       "font_family": null,
       "font_size": null,
       "font_style": null,
       "font_variant": null,
       "font_weight": null,
       "text_color": null,
       "text_decoration": null
      }
     },
     "e38a9c2f7c564b4cad6276dae5574ba4": {
      "model_module": "@jupyter-widgets/controls",
      "model_module_version": "2.0.0",
      "model_name": "ToggleButtonStyleModel",
      "state": {
       "description_width": "",
       "font_family": null,
       "font_size": null,
       "font_style": null,
       "font_variant": null,
       "font_weight": null,
       "text_color": null,
       "text_decoration": null
      }
     },
     "e3938cd6145f44acb29079271df707a2": {
      "model_module": "ipytree",
      "model_module_version": "^0.2",
      "model_name": "NodeModel",
      "state": {
       "_id": "f9c818c0-7d4f-48c4-8818-edf15d861e01",
       "_model_module_version": "^0.2",
       "_view_module_version": "^0.2",
       "icon": "file",
       "name": "palettes-test-crameri-dem.py"
      }
     },
     "e3a3211a99be4a4489014ff24676c440": {
      "model_module": "ipytree",
      "model_module_version": "^0.2",
      "model_name": "NodeModel",
      "state": {
       "_id": "a1f86afe-2348-4aa2-b8db-147e7fc8eee3",
       "_model_module_version": "^0.2",
       "_view_module_version": "^0.2",
       "icon": "file",
       "name": "us_census_datasets.py"
      }
     },
     "e3f3d973fa794aaab25b80aa607aff86": {
      "model_module": "jupyter-leaflet",
      "model_module_version": "^0.18",
      "model_name": "LeafletWidgetControlModel",
      "state": {
       "_model_module": "jupyter-leaflet",
       "_model_module_version": "^0.18",
       "_view_count": null,
       "_view_module": "jupyter-leaflet",
       "_view_module_version": "^0.18",
       "options": [
        "position",
        "transparent_bg"
       ],
       "position": "topright",
       "widget": "IPY_MODEL_76dee3c66cd444f3b06f98dac71ac000"
      }
     },
     "e3f4b18f61a145e8a11ab17f538df403": {
      "model_module": "jupyter-leaflet",
      "model_module_version": "^0.18",
      "model_name": "LeafletAttributionControlModel",
      "state": {
       "_model_module_version": "^0.18",
       "_view_module_version": "^0.18",
       "options": [
        "position",
        "prefix"
       ],
       "position": "bottomright",
       "prefix": "ipyleaflet"
      }
     },
     "e414d3b7816240d1b7c30c81f5cfb1d6": {
      "model_module": "@jupyter-widgets/controls",
      "model_module_version": "2.0.0",
      "model_name": "ToggleButtonModel",
      "state": {
       "button_style": "primary",
       "icon": "hand-o-up",
       "layout": "IPY_MODEL_746fb700540443ad823c6fb834148af7",
       "style": "IPY_MODEL_8cec2590c71542bebb1a156c08d54a1e",
       "tooltip": "Collect training samples"
      }
     },
     "e419089cf6eb466cbdaa1624ef7d93a6": {
      "model_module": "ipytree",
      "model_module_version": "^0.2",
      "model_name": "NodeModel",
      "state": {
       "_id": "0b0a8d5a-467e-4ac6-ae9b-50d2984f6b20",
       "_model_module_version": "^0.2",
       "_view_module_version": "^0.2",
       "icon": "file",
       "name": "clipping.py"
      }
     },
     "e42111178fbb4a7da9144d197081c128": {
      "model_module": "ipytree",
      "model_module_version": "^0.2",
      "model_name": "NodeModel",
      "state": {
       "_id": "7c475217-542b-4ec6-add8-57903409d265",
       "_model_module_version": "^0.2",
       "_view_module_version": "^0.2",
       "icon": "file",
       "name": "export_ImageCollection.py"
      }
     },
     "e43a3385f1e544a4ab73d8589c915843": {
      "model_module": "jupyter-leaflet",
      "model_module_version": "^0.18",
      "model_name": "LeafletTileLayerModel",
      "state": {
       "_model_module_version": "^0.18",
       "_view_module_version": "^0.18",
       "attribution": "&copy; <a href=\"https://www.openstreetmap.org/copyright\">OpenStreetMap</a> contributors",
       "base": true,
       "max_zoom": 19,
       "min_zoom": 1,
       "name": "OpenStreetMap.Mapnik",
       "options": [
        "attribution",
        "bounds",
        "detect_retina",
        "max_native_zoom",
        "max_zoom",
        "min_native_zoom",
        "min_zoom",
        "no_wrap",
        "tile_size",
        "tms",
        "zoom_offset"
       ],
       "url": "https://tile.openstreetmap.org/{z}/{x}/{y}.png"
      }
     },
     "e48461361e17407392d9a2f4f47093ea": {
      "model_module": "@jupyter-widgets/controls",
      "model_module_version": "2.0.0",
      "model_name": "ToggleButtonModel",
      "state": {
       "icon": "server",
       "layout": "IPY_MODEL_853347be39e441198b7619dd9ab0b3ce",
       "style": "IPY_MODEL_b2d075230c1c4cb2abfda2e564a193ab",
       "tooltip": "Layers"
      }
     },
     "e486e2df6f1b4efc9ced4397670a732f": {
      "model_module": "jupyter-leaflet",
      "model_module_version": "^0.18",
      "model_name": "LeafletTileLayerModel",
      "state": {
       "_model_module_version": "^0.18",
       "_view_module_version": "^0.18",
       "attribution": "&copy; <a href=\"https://www.openstreetmap.org/copyright\">OpenStreetMap</a> contributors",
       "base": true,
       "max_zoom": 19,
       "min_zoom": 1,
       "name": "OpenStreetMap.Mapnik",
       "options": [
        "attribution",
        "bounds",
        "detect_retina",
        "max_native_zoom",
        "max_zoom",
        "min_native_zoom",
        "min_zoom",
        "no_wrap",
        "tile_size",
        "tms",
        "zoom_offset"
       ],
       "url": "https://tile.openstreetmap.org/{z}/{x}/{y}.png"
      }
     },
     "e50ee3419d6149ed84bf466f8f2b21e7": {
      "model_module": "@jupyter-widgets/base",
      "model_module_version": "2.0.0",
      "model_name": "LayoutModel",
      "state": {
       "width": "340px"
      }
     },
     "e5229e2b33a144abbfa9209600a1123a": {
      "model_module": "@jupyter-widgets/controls",
      "model_module_version": "2.0.0",
      "model_name": "VBoxModel",
      "state": {
       "_dom_classes": [
        "geemap-light"
       ],
       "_view_count": 1,
       "children": [
        "IPY_MODEL_9fcb391d74354668b912644baf648d0c",
        "IPY_MODEL_97d99e84776d40efb3750d1a700db3ce"
       ],
       "layout": "IPY_MODEL_efaeec574fc64e74bde2d87e212a582a"
      }
     },
     "e58bd8ceefca4137bf3000c9b62374bc": {
      "model_module": "@jupyter-widgets/controls",
      "model_module_version": "2.0.0",
      "model_name": "ToggleButtonModel",
      "state": {
       "button_style": "primary",
       "icon": "eraser",
       "layout": "IPY_MODEL_95df91786dff4d2383d61c6fd688577c",
       "style": "IPY_MODEL_da8ab4dbcf864391bb891d828c19fd94",
       "tooltip": "Remove all drawn features"
      }
     },
     "e594fcd89809480f811036bd8f7335d8": {
      "model_module": "ipytree",
      "model_module_version": "^0.2",
      "model_name": "NodeModel",
      "state": {
       "_id": "55a1b241-ceb3-488f-8c8b-1288e67d6f87",
       "_model_module_version": "^0.2",
       "_view_module_version": "^0.2",
       "icon": "file",
       "name": "image_rgb_composite.py"
      }
     },
     "e5ad61d5166f41d5952530fe6da4b022": {
      "model_module": "ipytree",
      "model_module_version": "^0.2",
      "model_name": "NodeModel",
      "state": {
       "_id": "4bc07977-3194-4077-bd18-97b6ac092354",
       "_model_module_version": "^0.2",
       "_view_module_version": "^0.2",
       "name": "Terrain",
       "nodes": [
        "IPY_MODEL_c6a2c14acc5b41e295fee1e1c25d0705",
        "IPY_MODEL_6b7ea916331d49ab9c5a56e23a356d02",
        "IPY_MODEL_6504aff55eb84a9ca1a0d28219f59d35",
        "IPY_MODEL_ca09a59076d348909f279edfb6b30b1e",
        "IPY_MODEL_f94ea3c75d634ce8a6a48de86f1caf96",
        "IPY_MODEL_9d775c1b5d344ed28748393e6ed8d4fe",
        "IPY_MODEL_8332f3f3f75e4e5b8e1159b5d2e81fa5",
        "IPY_MODEL_8ef942c0b4824f7087c39fae1d5c79dc",
        "IPY_MODEL_62ae93c23908448cb016910bacadcf7d",
        "IPY_MODEL_16f6f9529b6b468a8065e71ca16bfd33",
        "IPY_MODEL_b526b59e534f4c38ba20239371e50fab",
        "IPY_MODEL_142d138017d742d2a46c23c6610e8a2c",
        "IPY_MODEL_13fcdd5cecfd437c8c424059a0a0987b",
        "IPY_MODEL_e6cc881e97ad4d5a8fc6796201d4a4ef",
        "IPY_MODEL_13fa5541380a43f686974606e478046c",
        "IPY_MODEL_4a521655e9d34f43b5df60b44c9a3d7d",
        "IPY_MODEL_fc42c84499b44aaab0ed8e717bf08c8f",
        "IPY_MODEL_dd4e6c45d0c74f339458b78c80270dde",
        "IPY_MODEL_5e493ce179924df697131b161bed9d65",
        "IPY_MODEL_9f3d63957c2440359d79eb16fe279d9e"
       ],
       "opened": false
      }
     },
     "e5f0aca93aba447cab0b09dc3ce2ebf1": {
      "model_module": "ipytree",
      "model_module_version": "^0.2",
      "model_name": "NodeModel",
      "state": {
       "_id": "7169c0ba-1d95-4c29-b8e6-37a10181399a",
       "_model_module_version": "^0.2",
       "_view_module_version": "^0.2",
       "icon": "file",
       "name": "column_info.py"
      }
     },
     "e6101172f5ff48cdaabf9b676a725f02": {
      "model_module": "@jupyter-widgets/base",
      "model_module_version": "2.0.0",
      "model_name": "LayoutModel",
      "state": {}
     },
     "e61e4e6ca9f84317b92f93284043cc38": {
      "model_module": "ipytree",
      "model_module_version": "^0.2",
      "model_name": "NodeModel",
      "state": {
       "_id": "aa15113e-ee93-4edf-a2e5-bc4c8b11f658",
       "_model_module_version": "^0.2",
       "_view_module_version": "^0.2",
       "icon": "file",
       "name": "export_raster.py"
      }
     },
     "e641eb9c615a4bfcac73db9532d68ab2": {
      "model_module": "@jupyter-widgets/base",
      "model_module_version": "2.0.0",
      "model_name": "LayoutModel",
      "state": {
       "height": "auto",
       "padding": "0px 0px 0px 4px",
       "width": "auto"
      }
     },
     "e65aeffd358d4db08889e61891cd5b11": {
      "model_module": "jupyter-leaflet",
      "model_module_version": "^0.18",
      "model_name": "LeafletZoomControlModel",
      "state": {
       "_model_module_version": "^0.18",
       "_view_module_version": "^0.18",
       "options": [
        "position",
        "zoom_in_text",
        "zoom_in_title",
        "zoom_out_text",
        "zoom_out_title"
       ]
      }
     },
     "e6b7ec826ed54be685ca783da59260dc": {
      "model_module": "@jupyter-widgets/controls",
      "model_module_version": "2.0.0",
      "model_name": "ToggleButtonStyleModel",
      "state": {
       "description_width": "",
       "font_family": null,
       "font_size": null,
       "font_style": null,
       "font_variant": null,
       "font_weight": null,
       "text_color": null,
       "text_decoration": null
      }
     },
     "e6cc881e97ad4d5a8fc6796201d4a4ef": {
      "model_module": "ipytree",
      "model_module_version": "^0.2",
      "model_name": "NodeModel",
      "state": {
       "_id": "816cb607-4df0-4f3d-ad18-dd6281df5332",
       "_model_module_version": "^0.2",
       "_view_module_version": "^0.2",
       "icon": "file",
       "name": "us_ned.py"
      }
     },
     "e6d2e1bbaa934a728e7c278d5c10b2fa": {
      "model_module": "ipytree",
      "model_module_version": "^0.2",
      "model_name": "NodeModel",
      "state": {
       "_id": "23d5b500-866f-420c-9349-7ce25b535d94",
       "_model_module_version": "^0.2",
       "_view_module_version": "^0.2",
       "icon": "file",
       "name": "filter_string_contains.py"
      }
     },
     "e744aa3566ee44b68caa0273108521a5": {
      "model_module": "@jupyter-widgets/base",
      "model_module_version": "2.0.0",
      "model_name": "LayoutModel",
      "state": {
       "height": "auto",
       "padding": "0px 0px 0px 4px",
       "width": "auto"
      }
     },
     "e7725b67640843e1a5b824c3c374b47c": {
      "model_module": "ipytree",
      "model_module_version": "^0.2",
      "model_name": "NodeModel",
      "state": {
       "_id": "d7a0fba6-8251-4409-9e0f-2c607914a65d",
       "_model_module_version": "^0.2",
       "_view_module_version": "^0.2",
       "icon": "file",
       "name": "loop_FeatureCollection.py"
      }
     },
     "e789f02176cc4329a9c0d3a190b13044": {
      "model_module": "@jupyter-widgets/base",
      "model_module_version": "2.0.0",
      "model_name": "LayoutModel",
      "state": {}
     },
     "e7c12c31da734229831748840197067f": {
      "model_module": "@jupyter-widgets/controls",
      "model_module_version": "2.0.0",
      "model_name": "ToggleButtonStyleModel",
      "state": {
       "description_width": "",
       "font_family": null,
       "font_size": null,
       "font_style": null,
       "font_variant": null,
       "font_weight": null,
       "text_color": null,
       "text_decoration": null
      }
     },
     "e7e3f9383ec141b595af89856f5102ef": {
      "model_module": "ipytree",
      "model_module_version": "^0.2",
      "model_name": "NodeModel",
      "state": {
       "_id": "d3c38a9c-9b62-423c-b001-d5de2b303ede",
       "_model_module_version": "^0.2",
       "_view_module_version": "^0.2",
       "name": "Segmentation",
       "nodes": [
        "IPY_MODEL_347df735d84b4b46a45d09f8ab4a8c4d"
       ],
       "opened": false
      }
     },
     "e812510d490f40529f8c30d2e5790c0d": {
      "model_module": "@jupyter-widgets/controls",
      "model_module_version": "2.0.0",
      "model_name": "ToggleButtonModel",
      "state": {
       "button_style": "primary",
       "icon": "eraser",
       "layout": "IPY_MODEL_2901a14d157741169ee42a8b1b1428d3",
       "style": "IPY_MODEL_eaad633adc994081ba0f1908f477db52",
       "tooltip": "Remove all drawn features"
      }
     },
     "e818dc5409204405be1bab86d21850dd": {
      "model_module": "@jupyter-widgets/controls",
      "model_module_version": "2.0.0",
      "model_name": "ToggleButtonModel",
      "state": {
       "button_style": "primary",
       "icon": "info",
       "layout": "IPY_MODEL_8b42190eeba54517aaddc5f8571cad28",
       "style": "IPY_MODEL_d8b97caa367b45c2baf1ad27d068c53a",
       "tooltip": "Inspector"
      }
     },
     "e81ee0b7ad44435cabb515d028c8a591": {
      "model_module": "@jupyter-widgets/controls",
      "model_module_version": "2.0.0",
      "model_name": "ToggleButtonModel",
      "state": {
       "button_style": "primary",
       "icon": "info",
       "layout": "IPY_MODEL_72e0cba39ac8413ca76a267c06424f98",
       "style": "IPY_MODEL_b188e4624d0f41f098ad4750b1b30233",
       "tooltip": "Inspector"
      }
     },
     "e84b6faddcd94c38a31a5258145fa6cf": {
      "model_module": "@jupyter-widgets/base",
      "model_module_version": "2.0.0",
      "model_name": "LayoutModel",
      "state": {}
     },
     "e8663d5eaa4e491ea681ccc0bcb2295d": {
      "model_module": "@jupyter-widgets/controls",
      "model_module_version": "2.0.0",
      "model_name": "RadioButtonsModel",
      "state": {
       "index": null,
       "layout": "IPY_MODEL_04dea76a538b49558c526941f7817b3e",
       "style": "IPY_MODEL_c0a8342556c646f4bbb97eff2feb71a6"
      }
     },
     "e8ed50ec847e48718341cf5753790ffe": {
      "model_module": "ipytree",
      "model_module_version": "^0.2",
      "model_name": "NodeModel",
      "state": {
       "_id": "97975e9c-80e3-4879-8915-65fc2769c32e",
       "_model_module_version": "^0.2",
       "_view_module_version": "^0.2",
       "icon": "file",
       "name": "band_stats.py"
      }
     },
     "e91be72954d843d38ebd31fe028f10ba": {
      "model_module": "ipytree",
      "model_module_version": "^0.2",
      "model_name": "NodeModel",
      "state": {
       "_id": "a647026c-2766-4f92-96fb-018eb15472c3",
       "_model_module_version": "^0.2",
       "_view_module_version": "^0.2",
       "icon": "file",
       "name": "landsat_wrs2_grid.py"
      }
     },
     "e929b2fb5b054a559605d89eb6a349fa": {
      "model_module": "@jupyter-widgets/controls",
      "model_module_version": "2.0.0",
      "model_name": "VBoxModel",
      "state": {
       "_dom_classes": [
        "geemap-light"
       ],
       "_view_count": 1,
       "children": [
        "IPY_MODEL_9f80513d399a48e0b50260ffc3435352"
       ],
       "layout": "IPY_MODEL_9072c6ae613642328531d64bb908e5aa"
      }
     },
     "e941f5fa7b654f02b711bce9953e2a94": {
      "model_module": "ipytree",
      "model_module_version": "^0.2",
      "model_name": "NodeModel",
      "state": {
       "_id": "3d21b876-01c9-471b-b110-e717b85c7057",
       "_model_module_version": "^0.2",
       "_view_module_version": "^0.2",
       "icon": "file",
       "name": "from_ee_asset.py"
      }
     },
     "e94f8ba84b5c4391bd91440a8f30835f": {
      "model_module": "@jupyter-widgets/base",
      "model_module_version": "2.0.0",
      "model_name": "LayoutModel",
      "state": {}
     },
     "e9503af8f7d6487f81d574efbab9abe1": {
      "model_module": "@jupyter-widgets/base",
      "model_module_version": "2.0.0",
      "model_name": "LayoutModel",
      "state": {
       "width": "32px"
      }
     },
     "e95de9a6d03e44c9b94fa252f253c37d": {
      "model_module": "@jupyter-widgets/controls",
      "model_module_version": "2.0.0",
      "model_name": "ToggleButtonModel",
      "state": {
       "button_style": "primary",
       "icon": "random",
       "layout": "IPY_MODEL_a3932ecfc7f346afb9315139830af736",
       "style": "IPY_MODEL_2f635479ec744580a5c468fceb62b209",
       "tooltip": "Sankey plots"
      }
     },
     "e971669b63b04ad4aaa31e68200854ca": {
      "model_module": "@jupyter-widgets/base",
      "model_module_version": "2.0.0",
      "model_name": "LayoutModel",
      "state": {
       "height": "auto",
       "padding": "0px 0px 0px 4px",
       "width": "auto"
      }
     },
     "e9b5efa8970a496eb7ea3624346ca88d": {
      "model_module": "@jupyter-widgets/base",
      "model_module_version": "2.0.0",
      "model_name": "LayoutModel",
      "state": {
       "height": "auto",
       "padding": "0px 0px 0px 4px",
       "width": "auto"
      }
     },
     "e9f7f90ed5a147e19c8c39d4da2183cc": {
      "model_module": "jupyter-leaflet",
      "model_module_version": "^0.18",
      "model_name": "LeafletWidgetControlModel",
      "state": {
       "_model_module": "jupyter-leaflet",
       "_model_module_version": "^0.18",
       "_view_count": null,
       "_view_module": "jupyter-leaflet",
       "_view_module_version": "^0.18",
       "options": [
        "position",
        "transparent_bg"
       ],
       "position": "topleft",
       "widget": "IPY_MODEL_b63e20538106440b9a043c4c89563a4e"
      }
     },
     "e9f9726e7c1c452e99f837b22a455ef4": {
      "model_module": "@jupyter-widgets/base",
      "model_module_version": "2.0.0",
      "model_name": "LayoutModel",
      "state": {
       "height": "auto",
       "padding": "0px 0px 0px 4px",
       "width": "auto"
      }
     },
     "ea303a2b1c2d4be2a9977ee7f8d30b54": {
      "model_module": "ipytree",
      "model_module_version": "^0.2",
      "model_name": "NodeModel",
      "state": {
       "_id": "6f2a4737-18bc-432b-af53-c37a2aeefe30",
       "_model_module_version": "^0.2",
       "_view_module_version": "^0.2",
       "icon": "file",
       "name": "us_census_zip_code.py"
      }
     },
     "ea59b0a9bbb244ef9bdcc393ba27c2c3": {
      "model_module": "ipytree",
      "model_module_version": "^0.2",
      "model_name": "NodeModel",
      "state": {
       "_id": "9fb36ac9-b052-4c95-86da-f5b188819b8e",
       "_model_module_version": "^0.2",
       "_view_module_version": "^0.2",
       "icon": "file",
       "name": "stats_of_an_image_region.py"
      }
     },
     "ea8bd4bc874c4f1fb0f1953dbda611e3": {
      "model_module": "@jupyter-widgets/base",
      "model_module_version": "2.0.0",
      "model_name": "LayoutModel",
      "state": {}
     },
     "eaad633adc994081ba0f1908f477db52": {
      "model_module": "@jupyter-widgets/controls",
      "model_module_version": "2.0.0",
      "model_name": "ToggleButtonStyleModel",
      "state": {
       "description_width": "",
       "font_family": null,
       "font_size": null,
       "font_style": null,
       "font_variant": null,
       "font_weight": null,
       "text_color": null,
       "text_decoration": null
      }
     },
     "eaae756d055c4daab0b9c00debbc700d": {
      "model_module": "ipytree",
      "model_module_version": "^0.2",
      "model_name": "NodeModel",
      "state": {
       "_id": "3c2e9d8d-cfb8-4d02-b9bd-1a26c85ff6e7",
       "_model_module_version": "^0.2",
       "_view_module_version": "^0.2",
       "icon": "file",
       "name": "ntl_linear_fit.py"
      }
     },
     "eac39daf16c44dfc89fa45a928e27716": {
      "model_module": "@jupyter-widgets/base",
      "model_module_version": "2.0.0",
      "model_name": "LayoutModel",
      "state": {}
     },
     "eb0c900c9e5247ffa1074cd0c9b5ed12": {
      "model_module": "@jupyter-widgets/controls",
      "model_module_version": "2.0.0",
      "model_name": "HBoxModel",
      "state": {
       "_dom_classes": [
        "geemap-light"
       ],
       "children": [
        "IPY_MODEL_899ba498885041eeaf233fb22e51886e",
        "IPY_MODEL_6ee9d519b83742419bf2da7dfbadf2d6"
       ],
       "layout": "IPY_MODEL_0fbdd9fe8b6248dc8ae3e016b51f32ff"
      }
     },
     "eb2ee60c20474335954df73d9d2a2c45": {
      "model_module": "@jupyter-widgets/controls",
      "model_module_version": "2.0.0",
      "model_name": "TextStyleModel",
      "state": {
       "description_width": "",
       "font_size": null,
       "text_color": null
      }
     },
     "eb341745620141adb5762bf57b5e96ed": {
      "model_module": "@jupyter-widgets/base",
      "model_module_version": "2.0.0",
      "model_name": "LayoutModel",
      "state": {
       "height": "auto",
       "padding": "0px 0px 0px 4px",
       "width": "auto"
      }
     },
     "eb594318d23e4162bbf442527b7ec8b8": {
      "model_module": "ipytree",
      "model_module_version": "^0.2",
      "model_name": "NodeModel",
      "state": {
       "_id": "7316a0e0-cb9b-4de8-a94c-e809800b1e3b",
       "_model_module_version": "^0.2",
       "_view_module_version": "^0.2",
       "icon": "file",
       "name": "zonal_statistics.py"
      }
     },
     "eb627888277e46eab7cda671514f773f": {
      "model_module": "ipytree",
      "model_module_version": "^0.2",
      "model_name": "NodeModel",
      "state": {
       "_id": "09a9b354-de3c-4cd8-a231-637bc488510c",
       "_model_module_version": "^0.2",
       "_view_module_version": "^0.2",
       "icon": "file",
       "name": "glcf_global_inland_water.py"
      }
     },
     "ec3a80d2730c4dd5a723daa7f0c9deaa": {
      "model_module": "ipytree",
      "model_module_version": "^0.2",
      "model_name": "NodeModel",
      "state": {
       "_id": "be7e2203-3963-4471-8834-d0629db25d97",
       "_model_module_version": "^0.2",
       "_view_module_version": "^0.2",
       "icon": "file",
       "name": "landsat8_toa_reflectance_qa_band.py"
      }
     },
     "ec40d501532c4194b48e940ac08a05d6": {
      "model_module": "ipytree",
      "model_module_version": "^0.2",
      "model_name": "NodeModel",
      "state": {
       "_id": "29912afb-41e6-4a8b-833e-d96a1db52954",
       "_model_module_version": "^0.2",
       "_view_module_version": "^0.2",
       "icon": "file",
       "name": "landsat_radiance.py"
      }
     },
     "ec5200952f104fc2ac618371648ca1cf": {
      "model_module": "@jupyter-widgets/controls",
      "model_module_version": "2.0.0",
      "model_name": "ToggleButtonStyleModel",
      "state": {
       "description_width": "",
       "font_family": null,
       "font_size": null,
       "font_style": null,
       "font_variant": null,
       "font_weight": null,
       "text_color": null,
       "text_decoration": null
      }
     },
     "ec9cfc7933ae4e8d998dd84f57aa660f": {
      "model_module": "@jupyter-widgets/controls",
      "model_module_version": "2.0.0",
      "model_name": "ToggleButtonsStyleModel",
      "state": {
       "button_width": "110px",
       "description_width": ""
      }
     },
     "ecabbe7915b2408084e67349952223b0": {
      "model_module": "@jupyter-widgets/controls",
      "model_module_version": "2.0.0",
      "model_name": "GridBoxModel",
      "state": {
       "children": [
        "IPY_MODEL_e818dc5409204405be1bab86d21850dd",
        "IPY_MODEL_899cbbf1eeed4162b5695231c68e9caf",
        "IPY_MODEL_c300709bbb194095862a1d9df5e8e9b3",
        "IPY_MODEL_af690e4a48914f6286130cc002916dc6",
        "IPY_MODEL_573a6bf51c3c4ceda048cda32232e205",
        "IPY_MODEL_f787ef5fa4de4098bc2bf2d960fc8e8e"
       ],
       "layout": "IPY_MODEL_7b949bb22f134e07b3ec45aae773f6b8"
      }
     },
     "ecafcb543f07484cb7e96555cec43d0f": {
      "model_module": "@jupyter-widgets/base",
      "model_module_version": "2.0.0",
      "model_name": "LayoutModel",
      "state": {
       "max_height": "350px",
       "max_width": "340px",
       "overflow": "scroll"
      }
     },
     "ecbd52b846e34d91a39613e100d29490": {
      "model_module": "ipytree",
      "model_module_version": "^0.2",
      "model_name": "NodeModel",
      "state": {
       "_id": "260639a3-b235-4e73-baa9-6b4325b62a4f",
       "_model_module_version": "^0.2",
       "_view_module_version": "^0.2",
       "icon": "file",
       "name": "minimum_bounding_geometry.py"
      }
     },
     "ecd01fa8bbfd4b14b2bff2c89f1e10fa": {
      "model_module": "@jupyter-widgets/controls",
      "model_module_version": "2.0.0",
      "model_name": "HBoxModel",
      "state": {
       "_dom_classes": [
        "geemap-light"
       ],
       "_view_count": 1,
       "children": [
        "IPY_MODEL_5c41fbaf1fed42dbafe6b44e71b31333"
       ],
       "layout": "IPY_MODEL_54896411c0484510b6dba40eb25baab8"
      }
     },
     "ece15ad245984665a2c5bdb5f14eb58d": {
      "model_module": "ipytree",
      "model_module_version": "^0.2",
      "model_name": "NodeModel",
      "state": {
       "_id": "d4fd33fa-4894-4c4a-b4ef-2d2288a451b5",
       "_model_module_version": "^0.2",
       "_view_module_version": "^0.2",
       "icon": "file",
       "name": "ndwi_timeseries.py"
      }
     },
     "ecf18e2c1ec54b67bab0dde56bd07309": {
      "model_module": "ipytree",
      "model_module_version": "^0.2",
      "model_name": "NodeModel",
      "state": {
       "_id": "fdb54327-695a-4be0-9d8d-e18057255188",
       "_model_module_version": "^0.2",
       "_view_module_version": "^0.2",
       "icon": "file",
       "name": "jrc_global_surface_water.py"
      }
     },
     "ed14a1998bd04a2581a04d940aa8d5df": {
      "model_module": "@jupyter-widgets/controls",
      "model_module_version": "2.0.0",
      "model_name": "ToggleButtonModel",
      "state": {
       "button_style": "primary",
       "icon": "line-chart",
       "layout": "IPY_MODEL_38f47b2e57ab4537adb3a2a1885b94c2",
       "style": "IPY_MODEL_e22b51d732064012a6f95fb2aca75a4b",
       "tooltip": "Creating and plotting transects"
      }
     },
     "ed19fe69bf254740bf6661d9fe0fd08f": {
      "model_module": "@jupyter-widgets/controls",
      "model_module_version": "2.0.0",
      "model_name": "ToggleButtonsModel",
      "state": {
       "_options_labels": [
        "name/address",
        "lat-lon",
        "data"
       ],
       "button_style": "",
       "icons": [],
       "index": 0,
       "layout": "IPY_MODEL_38437776bffd4f5795f3a3dbcd29f9ce",
       "style": "IPY_MODEL_28e0cee4691d4c5e82fb755d2245bc88",
       "tooltips": [
        "Search by place name or address",
        "Search by lat-lon coordinates",
        "Search Earth Engine data catalog"
       ]
      }
     },
     "ed20987bb1df49cca49843f817ab19a2": {
      "model_module": "jupyter-leaflet",
      "model_module_version": "^0.18",
      "model_name": "LeafletMeasureControlModel",
      "state": {
       "_model_module_version": "^0.18",
       "_view_module_version": "^0.18",
       "active_color": "orange",
       "options": [
        "active_color",
        "capture_z_index",
        "completed_color",
        "popup_options",
        "position",
        "primary_area_unit",
        "primary_length_unit",
        "secondary_area_unit",
        "secondary_length_unit"
       ],
       "position": "bottomleft",
       "primary_length_unit": "kilometers",
       "secondary_area_unit": null,
       "secondary_length_unit": null
      }
     },
     "ed579115cb3a446d85541917d2ccd6e9": {
      "model_module": "@jupyter-widgets/controls",
      "model_module_version": "2.0.0",
      "model_name": "ToggleButtonModel",
      "state": {
       "button_style": "primary",
       "icon": "fast-forward",
       "layout": "IPY_MODEL_2ddc782073b5421593a307867998ce14",
       "style": "IPY_MODEL_b66fcac531a7407d83f118684f398290",
       "tooltip": "Activate timeslider"
      }
     },
     "ed5ce2665a1b40b1bb963b47c0cb89e5": {
      "model_module": "@jupyter-widgets/base",
      "model_module_version": "2.0.0",
      "model_name": "LayoutModel",
      "state": {
       "min_width": "400px"
      }
     },
     "ed648f7074f0446c9504484732e16fc3": {
      "model_module": "ipytree",
      "model_module_version": "^0.2",
      "model_name": "NodeModel",
      "state": {
       "_id": "a06bb511-1f54-4460-9b03-b269da6bec21",
       "_model_module_version": "^0.2",
       "_view_module_version": "^0.2",
       "icon": "file",
       "name": "reducing_feature_collection.py"
      }
     },
     "ed8b23962c2d48e7ae860d936465931d": {
      "model_module": "ipytree",
      "model_module_version": "^0.2",
      "model_name": "NodeModel",
      "state": {
       "_id": "abacf80e-8b06-4621-b683-f0cc173f241b",
       "_model_module_version": "^0.2",
       "_view_module_version": "^0.2",
       "icon": "file",
       "name": "ntl_linear_fit.py"
      }
     },
     "ed946fd5e2b84d69b01648277228d82f": {
      "model_module": "@jupyter-widgets/base",
      "model_module_version": "2.0.0",
      "model_name": "LayoutModel",
      "state": {
       "height": "auto",
       "padding": "0px 0px 0px 4px",
       "width": "auto"
      }
     },
     "eda6a9fc119c4558a06ff428271e3ca4": {
      "model_module": "ipytree",
      "model_module_version": "^0.2",
      "model_name": "NodeModel",
      "state": {
       "_id": "2bde800d-06b8-4880-890a-ce9f59216881",
       "_model_module_version": "^0.2",
       "_view_module_version": "^0.2",
       "icon": "file",
       "name": "median_reducer.py"
      }
     },
     "eddde11895c14d009cae319246c1425b": {
      "model_module": "ipytree",
      "model_module_version": "^0.2",
      "model_name": "NodeModel",
      "state": {
       "_id": "9cc85439-6e71-43fd-a455-2c23d6d8f29d",
       "_model_module_version": "^0.2",
       "_view_module_version": "^0.2",
       "icon": "file",
       "name": "metadata.py"
      }
     },
     "ede7a9ea97454cd0ab1729fb1191fa4e": {
      "model_module": "@jupyter-widgets/controls",
      "model_module_version": "2.0.0",
      "model_name": "ToggleButtonModel",
      "state": {
       "icon": "globe",
       "layout": "IPY_MODEL_07ef005622224fe8bfa06357eca0c59d",
       "style": "IPY_MODEL_f66f51997ba247f1b16f91a11f43c24f",
       "tooltip": "Search location/data"
      }
     },
     "edf5f181d6f54b8fb1d767cc1228c51d": {
      "model_module": "@jupyter-widgets/base",
      "model_module_version": "2.0.0",
      "model_name": "LayoutModel",
      "state": {
       "height": "auto",
       "padding": "0px 0px 0px 4px",
       "width": "auto"
      }
     },
     "edfb853837c34a568d4ae34b21d3c3d7": {
      "model_module": "@jupyter-widgets/controls",
      "model_module_version": "2.0.0",
      "model_name": "ToggleButtonStyleModel",
      "state": {
       "description_width": "",
       "font_family": null,
       "font_size": null,
       "font_style": null,
       "font_variant": null,
       "font_weight": null,
       "text_color": null,
       "text_decoration": null
      }
     },
     "ee1fc2035a774c3a8a6e7698f509c6d3": {
      "model_module": "ipytree",
      "model_module_version": "^0.2",
      "model_name": "NodeModel",
      "state": {
       "_id": "22aa1547-0a1d-4199-b2a1-e62f1da39e8a",
       "_model_module_version": "^0.2",
       "_view_module_version": "^0.2",
       "icon": "file",
       "name": "select_bands.py"
      }
     },
     "ee2e4d92a49d46a1a2be4fc416d60b74": {
      "model_module": "@jupyter-widgets/base",
      "model_module_version": "2.0.0",
      "model_name": "LayoutModel",
      "state": {}
     },
     "ee582e10f40d4423bed12f19f2523326": {
      "model_module": "ipytree",
      "model_module_version": "^0.2",
      "model_name": "NodeModel",
      "state": {
       "_id": "c2f740fa-7c98-49bc-a92b-706cad1da89b",
       "_model_module_version": "^0.2",
       "_view_module_version": "^0.2",
       "icon": "file",
       "name": "random_color_visualizer.py"
      }
     },
     "ee6f13e5cd804f439d170d2b71c16733": {
      "model_module": "jupyter-leaflet",
      "model_module_version": "^0.18",
      "model_name": "LeafletLayersControlModel",
      "state": {
       "_model_module_version": "^0.18",
       "_view_module_version": "^0.18",
       "collapsed": true,
       "options": [
        "collapsed",
        "position"
       ],
       "position": "topright"
      }
     },
     "ee889ddd0dd047609fa12b62ea1db6f4": {
      "model_module": "@jupyter-widgets/controls",
      "model_module_version": "2.0.0",
      "model_name": "ButtonModel",
      "state": {
       "button_style": "primary",
       "description": "import",
       "layout": "IPY_MODEL_695d6ee57f21461b8941ac8685b4ee9a",
       "style": "IPY_MODEL_a579c3e0fcb44de38675d3c560f48224",
       "tooltip": "Click to import the selected asset"
      }
     },
     "ee8c82da37f646e8983187dc47d95ba7": {
      "model_module": "@jupyter-widgets/controls",
      "model_module_version": "2.0.0",
      "model_name": "ToggleButtonStyleModel",
      "state": {
       "description_width": "",
       "font_family": null,
       "font_size": null,
       "font_style": null,
       "font_variant": null,
       "font_weight": null,
       "text_color": null,
       "text_decoration": null
      }
     },
     "eec22c208e224bd58dd4fd7ea98e4605": {
      "model_module": "@jupyter-widgets/controls",
      "model_module_version": "2.0.0",
      "model_name": "RadioButtonsModel",
      "state": {
       "index": null,
       "layout": "IPY_MODEL_1387f261db64413788f93b5f0b4107ac",
       "style": "IPY_MODEL_cc002a63efee4d42bf537fab590b6485"
      }
     },
     "eec6f57c23234c648d4d5bcd06467a92": {
      "model_module": "ipytree",
      "model_module_version": "^0.2",
      "model_name": "NodeModel",
      "state": {
       "_id": "456d4c2c-d350-4da2-9d25-08244fa5eed5",
       "_model_module_version": "^0.2",
       "_view_module_version": "^0.2",
       "name": "FeatureCollection",
       "nodes": [
        "IPY_MODEL_21a8856e7e914dac947de765c9da9f87",
        "IPY_MODEL_b8e31c66ac9546a3a8ad9b810fad8b14",
        "IPY_MODEL_8e496de3691a4f22b1a4e8145ecd6ff9",
        "IPY_MODEL_2b952d80cd8b40bfae55e57dad92911d",
        "IPY_MODEL_314d03999ce3476e8370f0ef486195ca",
        "IPY_MODEL_e419089cf6eb466cbdaa1624ef7d93a6",
        "IPY_MODEL_e5f0aca93aba447cab0b09dc3ce2ebf1",
        "IPY_MODEL_5c1b65ea7cb94a8bafb36eb5d609cc18",
        "IPY_MODEL_1eb2088fe1544de4848f62c9f6446f33",
        "IPY_MODEL_8461b38fc2014c21b6d437713f408914",
        "IPY_MODEL_e08c2bc333554d39be2becac83dae488",
        "IPY_MODEL_8bdde5e49cb24091b9b1a2067f521036",
        "IPY_MODEL_729d62fc814e405483bbf4df6c6cccea",
        "IPY_MODEL_80a1af3c79014600ae07d69088115697",
        "IPY_MODEL_634f767cca634dcda06cf02344393c94",
        "IPY_MODEL_96f4cbfc36d441ff8ae2f1fefb4c2420",
        "IPY_MODEL_d3146f55cc524632bbf38157de4e17d9",
        "IPY_MODEL_e941f5fa7b654f02b711bce9953e2a94",
        "IPY_MODEL_c1bcf78eed7e40abb1bc2346617ce63d",
        "IPY_MODEL_dbcd047117864dff83b8f347738ae535",
        "IPY_MODEL_be6bcfb37f1d436882d906ad97648862",
        "IPY_MODEL_5965efa6e1f14e828b26ecdfdf11ab3e",
        "IPY_MODEL_875b6206709b4e98bcd127f1c1462944",
        "IPY_MODEL_d7887c5d88e54e6dae656897fd974d4a",
        "IPY_MODEL_9651e8df6f10400e856ae7ae4534e330",
        "IPY_MODEL_5966135cd30e4d9baa1dd5eacb0fb03b",
        "IPY_MODEL_8961f883ba3f4f2db1707848d93fe19b",
        "IPY_MODEL_209f8e8141204aa9a65ed7bcb53161aa",
        "IPY_MODEL_4851b80d5bfe49edad40f0653274fde1",
        "IPY_MODEL_97d5409417884733b847c4a68ada3398",
        "IPY_MODEL_0623b0915c474255bff8f6fd59d57729",
        "IPY_MODEL_650aa7692547403ea01a5d47a35d2ce6",
        "IPY_MODEL_ff151b8a19734d60a7bcbd171b45bca5",
        "IPY_MODEL_8e221c5982884679988837dbc1b43bdf",
        "IPY_MODEL_4aa168f93b8c4cb4bc035f37e12b6887",
        "IPY_MODEL_f0bdbb21468544ab9cbe2e5fcd8a1dba",
        "IPY_MODEL_34175d54827942d9910ef85250fb32d4",
        "IPY_MODEL_ba9d3705174046329abb3adfe815d07a",
        "IPY_MODEL_4219de05272044f99ecd0055d277f1f0"
       ],
       "opened": false
      }
     },
     "eee6ac85d98e479b90401a21d20a430e": {
      "model_module": "@jupyter-widgets/controls",
      "model_module_version": "2.0.0",
      "model_name": "ToggleButtonModel",
      "state": {
       "button_style": "primary",
       "icon": "adjust",
       "layout": "IPY_MODEL_9c437361cb234a2c84973f2796e1b201",
       "style": "IPY_MODEL_65bec88e23a24ea89ef6458ff9889c3d",
       "tooltip": "Planet imagery"
      }
     },
     "ef560944755446fc8de843c268779e69": {
      "model_module": "@jupyter-widgets/controls",
      "model_module_version": "2.0.0",
      "model_name": "HBoxModel",
      "state": {
       "children": [
        "IPY_MODEL_734e6ab86a634d1ca7b351d1c4694a3e",
        "IPY_MODEL_cd944cb75d7e419f90feb7dffbd82edd"
       ],
       "layout": "IPY_MODEL_99684000804b4c10a88e201bf252df8e"
      }
     },
     "ef5ecb7ff60f4fe4a8c11ba38d88e2b6": {
      "model_module": "@jupyter-widgets/base",
      "model_module_version": "2.0.0",
      "model_name": "LayoutModel",
      "state": {
       "height": "auto",
       "padding": "0px 0px 0px 4px",
       "width": "auto"
      }
     },
     "ef7812dda922455288eb6e664048d7e0": {
      "model_module": "@jupyter-widgets/controls",
      "model_module_version": "2.0.0",
      "model_name": "VBoxModel",
      "state": {
       "_dom_classes": [
        "geemap-light"
       ],
       "_view_count": 1,
       "children": [
        "IPY_MODEL_55a1591758c347a38af9c671799aaef5"
       ],
       "layout": "IPY_MODEL_c65fefb3070e47c88d1d1e2af0cb0c63"
      }
     },
     "efaeec574fc64e74bde2d87e212a582a": {
      "model_module": "@jupyter-widgets/base",
      "model_module_version": "2.0.0",
      "model_name": "LayoutModel",
      "state": {}
     },
     "efd586670dbd424588a62ee460aed25f": {
      "model_module": "@jupyter-widgets/base",
      "model_module_version": "2.0.0",
      "model_name": "LayoutModel",
      "state": {
       "height": "auto",
       "padding": "0px 0px 0px 4px",
       "width": "auto"
      }
     },
     "efd933fc9f5947c79a0af9b6c7030323": {
      "model_module": "@jupyter-widgets/controls",
      "model_module_version": "2.0.0",
      "model_name": "ToggleButtonStyleModel",
      "state": {
       "description_width": "",
       "font_family": null,
       "font_size": null,
       "font_style": null,
       "font_variant": null,
       "font_weight": null,
       "text_color": null,
       "text_decoration": null
      }
     },
     "f0082288e3854ceca59ab3d92090a1df": {
      "model_module": "ipytree",
      "model_module_version": "^0.2",
      "model_name": "NodeModel",
      "state": {
       "_id": "1eeb1b5b-ca18-4956-a65e-5eb5d83f4fe1",
       "_model_module_version": "^0.2",
       "_view_module_version": "^0.2",
       "icon": "file",
       "name": "landsat_median.py"
      }
     },
     "f01b668980b4444189e32abf24e90c07": {
      "model_module": "@jupyter-widgets/controls",
      "model_module_version": "2.0.0",
      "model_name": "ToggleButtonStyleModel",
      "state": {
       "description_width": "",
       "font_family": null,
       "font_size": null,
       "font_style": null,
       "font_variant": null,
       "font_weight": null,
       "text_color": null,
       "text_decoration": null
      }
     },
     "f062646f463c4320ba54c0957f0551fa": {
      "model_module": "@jupyter-widgets/base",
      "model_module_version": "2.0.0",
      "model_name": "LayoutModel",
      "state": {
       "height": "auto",
       "padding": "0px 0px 0px 4px",
       "width": "auto"
      }
     },
     "f0a8bd53f81341658a9ccf7664da727a": {
      "model_module": "@jupyter-widgets/controls",
      "model_module_version": "2.0.0",
      "model_name": "ToggleButtonModel",
      "state": {
       "button_style": "primary",
       "icon": "adjust",
       "layout": "IPY_MODEL_f779a2fb805247d0947fa0cf3b5bc2f3",
       "style": "IPY_MODEL_f45b66512c434022944a286b772d5c43",
       "tooltip": "Planet imagery"
      }
     },
     "f0bdbb21468544ab9cbe2e5fcd8a1dba": {
      "model_module": "ipytree",
      "model_module_version": "^0.2",
      "model_name": "NodeModel",
      "state": {
       "_id": "eb81cb14-816f-46d0-a487-d7a962ea4f0d",
       "_model_module_version": "^0.2",
       "_view_module_version": "^0.2",
       "icon": "file",
       "name": "select_columns.py"
      }
     },
     "f0d89fe2057a4c24aae3e7539f841386": {
      "model_module": "@jupyter-widgets/controls",
      "model_module_version": "2.0.0",
      "model_name": "ToggleButtonStyleModel",
      "state": {
       "description_width": "",
       "font_family": null,
       "font_size": null,
       "font_style": null,
       "font_variant": null,
       "font_weight": null,
       "text_color": null,
       "text_decoration": null
      }
     },
     "f169fd7bd9e24fe3bc92e1533c27e804": {
      "model_module": "ipytree",
      "model_module_version": "^0.2",
      "model_name": "NodeModel",
      "state": {
       "_id": "20fef4c0-d6e1-4628-9cea-5942e757b0ba",
       "_model_module_version": "^0.2",
       "_view_module_version": "^0.2",
       "name": "GetStarted",
       "nodes": [
        "IPY_MODEL_00dcf3f9da1145b89e08eb402231d442",
        "IPY_MODEL_d86dc2c752444ddf905ced496739ded4",
        "IPY_MODEL_3dd27c5f5c9c4292816ffd636298af9a",
        "IPY_MODEL_32a7253718ff4fc28ded234b2854b3be",
        "IPY_MODEL_d8d3083a67274b489037a6dd8a324b4e",
        "IPY_MODEL_d1950ae4c77842e2929b9a9b406a198a",
        "IPY_MODEL_5bc6346439c44920ba50dd3e025e837c",
        "IPY_MODEL_4c59d0e74e0e466e9041cba4bb50f6ce",
        "IPY_MODEL_c1a444082513476d8725d6de348cebe6"
       ],
       "opened": false
      }
     },
     "f176bf54501d4757ac51511fc084aa65": {
      "model_module": "@jupyter-widgets/controls",
      "model_module_version": "2.0.0",
      "model_name": "HBoxModel",
      "state": {
       "_dom_classes": [
        "geemap-light"
       ],
       "_view_count": 0,
       "children": [
        "IPY_MODEL_27c788f901594896b8e87ff546b7cb95"
       ],
       "layout": "IPY_MODEL_6e928e0e1eea4f9fb8c74d986389081a"
      }
     },
     "f19bfcd40d5d486a93788759e6864781": {
      "model_module": "ipytree",
      "model_module_version": "^0.2",
      "model_name": "NodeModel",
      "state": {
       "_id": "939345ad-2ec4-4733-befe-d22940eb4896",
       "_model_module_version": "^0.2",
       "_view_module_version": "^0.2",
       "icon": "file",
       "name": "convert_bands_to_image_collection.py"
      }
     },
     "f1cec2adff254df3a1b7bdaec57cbe7d": {
      "model_module": "ipytree",
      "model_module_version": "^0.2",
      "model_name": "NodeModel",
      "state": {
       "_id": "b0f1eb89-a592-4c41-bcd1-b7c45e03361f",
       "_model_module_version": "^0.2",
       "_view_module_version": "^0.2",
       "icon": "file",
       "name": "ClientVsServer.py"
      }
     },
     "f1f06ce956114a07815222006f181da9": {
      "model_module": "jupyter-leaflet",
      "model_module_version": "^0.18",
      "model_name": "LeafletLayersControlModel",
      "state": {
       "_model_module_version": "^0.18",
       "_view_module_version": "^0.18",
       "collapsed": true,
       "options": [
        "collapsed",
        "position"
       ],
       "position": "topright"
      }
     },
     "f1f6112ca366499594a37d17313e9f5d": {
      "model_module": "ipytree",
      "model_module_version": "^0.2",
      "model_name": "NodeModel",
      "state": {
       "_id": "8581edc4-b9ef-4b5d-82f3-b4be13e79142",
       "_model_module_version": "^0.2",
       "_view_module_version": "^0.2",
       "icon": "file",
       "name": "usda_naip.py"
      }
     },
     "f1fb1ecf846c42149e6671aaa1965610": {
      "model_module": "ipytree",
      "model_module_version": "^0.2",
      "model_name": "NodeModel",
      "state": {
       "_id": "2a913153-afe5-4bc3-8d03-75002c07d6e3",
       "_model_module_version": "^0.2",
       "_view_module_version": "^0.2",
       "icon": "file",
       "name": "export_raster.py"
      }
     },
     "f244d0dfcd344dfc80f6dbad47353411": {
      "model_module": "jupyter-leaflet",
      "model_module_version": "^0.18",
      "model_name": "LeafletFullScreenControlModel",
      "state": {
       "_model_module_version": "^0.18",
       "_view_module_version": "^0.18",
       "options": [
        "position"
       ]
      }
     },
     "f2ef35b48094472e945e9d25cec23199": {
      "model_module": "@jupyter-widgets/controls",
      "model_module_version": "2.0.0",
      "model_name": "ToggleButtonModel",
      "state": {
       "icon": "wrench",
       "layout": "IPY_MODEL_a1fb25be94d848378b1bdcb02c5ae3d6",
       "style": "IPY_MODEL_9fb5e3f7e72146d29f698af3a7735e21",
       "tooltip": "Toolbar"
      }
     },
     "f3359dfe41784479b5f5e9c0ea214133": {
      "model_module": "jupyter-leaflet",
      "model_module_version": "^0.18",
      "model_name": "LeafletFullScreenControlModel",
      "state": {
       "_model_module_version": "^0.18",
       "_view_module_version": "^0.18",
       "options": [
        "position"
       ]
      }
     },
     "f34e5e65eaf348418a50d82f4a40dfd0": {
      "model_module": "@jupyter-widgets/controls",
      "model_module_version": "2.0.0",
      "model_name": "ToggleButtonModel",
      "state": {
       "button_style": "primary",
       "icon": "plus",
       "layout": "IPY_MODEL_acf958a0b6134e61ac4ff40e94af9dd9",
       "style": "IPY_MODEL_0bda9d855dd546dfb82a5433f6473d4f",
       "tooltip": "Expand toolbar"
      }
     },
     "f3671d533fa34707a692077dc8ad322e": {
      "model_module": "@jupyter-widgets/controls",
      "model_module_version": "2.0.0",
      "model_name": "ToggleButtonModel",
      "state": {
       "icon": "server",
       "layout": "IPY_MODEL_76ec7e1ad2dd4bc5adaae66db7ff75ca",
       "style": "IPY_MODEL_cbd7e90988ba48fea42f24742ad7572f",
       "tooltip": "Layers"
      }
     },
     "f38a2d29ec9145d5b4d563527a76e671": {
      "model_module": "@jupyter-widgets/controls",
      "model_module_version": "2.0.0",
      "model_name": "HTMLStyleModel",
      "state": {
       "description_width": "",
       "font_size": null,
       "text_color": null
      }
     },
     "f38fe7c63399444ab082b51c0ddf802d": {
      "model_module": "@jupyter-widgets/controls",
      "model_module_version": "2.0.0",
      "model_name": "ToggleButtonModel",
      "state": {
       "button_style": "primary",
       "icon": "info-circle",
       "layout": "IPY_MODEL_57694ad1281042c6932fedc9396cd1a4",
       "style": "IPY_MODEL_05c2004ba1aa4e0e83c0fc6af533103a",
       "tooltip": "Get COG/STAC pixel value"
      }
     },
     "f3a1e0bd68244aa0aa2d08b3b9fa4295": {
      "model_module": "jupyter-leaflet",
      "model_module_version": "^0.18",
      "model_name": "LeafletZoomControlModel",
      "state": {
       "_model_module_version": "^0.18",
       "_view_module_version": "^0.18",
       "options": [
        "position",
        "zoom_in_text",
        "zoom_in_title",
        "zoom_out_text",
        "zoom_out_title"
       ]
      }
     },
     "f3c30fd00d214d87a2e18ce914067d59": {
      "model_module": "@jupyter-widgets/controls",
      "model_module_version": "2.0.0",
      "model_name": "ToggleButtonStyleModel",
      "state": {
       "description_width": "",
       "font_family": null,
       "font_size": null,
       "font_style": null,
       "font_variant": null,
       "font_weight": null,
       "text_color": null,
       "text_decoration": null
      }
     },
     "f3c94bfa107c42b1bf1ff5a8c551ef30": {
      "model_module": "ipytree",
      "model_module_version": "^0.2",
      "model_name": "NodeModel",
      "state": {
       "_id": "d9c51c21-7055-4625-a0e7-0157bd8a4e45",
       "_model_module_version": "^0.2",
       "_view_module_version": "^0.2",
       "icon": "file",
       "name": "ndwi.py"
      }
     },
     "f40ae9293a1d4cdb9dc7456f5d464af8": {
      "model_module": "@jupyter-widgets/controls",
      "model_module_version": "2.0.0",
      "model_name": "ButtonModel",
      "state": {
       "button_style": "primary",
       "description": "Save",
       "disabled": true,
       "layout": "IPY_MODEL_374cd765399646d2a2bd0627f5015b5e",
       "style": "IPY_MODEL_1cad800817474130a2d1ad5ebd0cfffa",
       "tooltip": "Save edits to file."
      }
     },
     "f4157149150f4e76842e7bbd3ddae249": {
      "model_module": "jupyter-leaflet",
      "model_module_version": "^0.18",
      "model_name": "LeafletTileLayerModel",
      "state": {
       "_model_module_version": "^0.18",
       "_view_module_version": "^0.18",
       "attribution": "&copy; <a href=\"https://www.openstreetmap.org/copyright\">OpenStreetMap</a> contributors",
       "base": true,
       "max_zoom": 19,
       "min_zoom": 1,
       "name": "OpenStreetMap.Mapnik",
       "options": [
        "attribution",
        "bounds",
        "detect_retina",
        "max_native_zoom",
        "max_zoom",
        "min_native_zoom",
        "min_zoom",
        "no_wrap",
        "tile_size",
        "tms",
        "zoom_offset"
       ],
       "url": "https://tile.openstreetmap.org/{z}/{x}/{y}.png"
      }
     },
     "f44d8457df1647b8954beca21b232b9f": {
      "model_module": "ipytree",
      "model_module_version": "^0.2",
      "model_name": "NodeModel",
      "state": {
       "_id": "623b8bc5-b43a-423d-a51b-9997e1364a25",
       "_model_module_version": "^0.2",
       "_view_module_version": "^0.2",
       "icon": "file",
       "name": "usgs_nlcd.py"
      }
     },
     "f45a5db4ba574e6084db4a0aa6188c87": {
      "model_module": "ipyevents",
      "model_module_version": "2.0.2",
      "model_name": "EventModel",
      "state": {
       "_supported_key_events": [
        "keydown",
        "keyup"
       ],
       "_supported_mouse_events": [
        "click",
        "auxclick",
        "dblclick",
        "mouseenter",
        "mouseleave",
        "mousedown",
        "mouseup",
        "mousemove",
        "wheel",
        "contextmenu",
        "dragstart",
        "drag",
        "dragend",
        "dragenter",
        "dragover",
        "dragleave",
        "drop"
       ],
       "_supported_touch_events": [
        "touchstart",
        "touchend",
        "touchmove",
        "touchcancel"
       ],
       "_view_module": "@jupyter-widgets/controls",
       "source": "IPY_MODEL_b2476e4542e24bdf908954a829434905",
       "throttle_or_debounce": "",
       "watched_events": [
        "mouseenter",
        "mouseleave"
       ],
       "xy_coordinate_system": ""
      }
     },
     "f45b66512c434022944a286b772d5c43": {
      "model_module": "@jupyter-widgets/controls",
      "model_module_version": "2.0.0",
      "model_name": "ToggleButtonStyleModel",
      "state": {
       "description_width": "",
       "font_family": null,
       "font_size": null,
       "font_style": null,
       "font_variant": null,
       "font_weight": null,
       "text_color": null,
       "text_decoration": null
      }
     },
     "f47b80daa3fa4c6ca45e0520af848c50": {
      "model_module": "@jupyter-widgets/base",
      "model_module_version": "2.0.0",
      "model_name": "LayoutModel",
      "state": {
       "height": "auto",
       "padding": "0px 0px 0px 4px",
       "width": "auto"
      }
     },
     "f4a3a2df48fe42848a7d3c2f4ac95f52": {
      "model_module": "@jupyter-widgets/base",
      "model_module_version": "2.0.0",
      "model_name": "LayoutModel",
      "state": {
       "grid_gap": "1px 1px",
       "grid_template_columns": "32px 32px 32px ",
       "grid_template_rows": "32px 32px ",
       "padding": "5px",
       "width": "109px"
      }
     },
     "f4cf30960e934be6bee38e58b1db4d63": {
      "model_module": "@jupyter-widgets/controls",
      "model_module_version": "2.0.0",
      "model_name": "ToggleButtonModel",
      "state": {
       "button_style": "primary",
       "icon": "globe",
       "layout": "IPY_MODEL_b09c66bcf28340de966d2c126d6af9eb",
       "style": "IPY_MODEL_821996d182f9403f96c985ac73dc67b3",
       "tooltip": "Create timelapse"
      }
     },
     "f5404441b88c4807acde65e1996dca44": {
      "model_module": "@jupyter-widgets/output",
      "model_module_version": "1.0.0",
      "model_name": "OutputModel",
      "state": {
       "layout": "IPY_MODEL_db2dbf7f72bd4ad0aa896c96169ee8a2"
      }
     },
     "f55278c2236249a9a7df9397521b5d7d": {
      "model_module": "ipytree",
      "model_module_version": "^0.2",
      "model_name": "NodeModel",
      "state": {
       "_id": "f6652d28-937c-46a7-8cf0-18dfb67c96d4",
       "_model_module_version": "^0.2",
       "_view_module_version": "^0.2",
       "name": "Datasets",
       "nodes": [
        "IPY_MODEL_63c88b1d06e94e86acb22d38c21029ed",
        "IPY_MODEL_a28c250528ad42ada784d37826d1ee1b",
        "IPY_MODEL_bf2455f35b1945c8a9685ea187e31d11",
        "IPY_MODEL_34c27dd0085d4b8db8ddfd77f74878f5",
        "IPY_MODEL_895988af75624a349d1c73e70ef62ef9",
        "IPY_MODEL_fe1b8a64f29443b7b6f25b42afcc5c1e",
        "IPY_MODEL_169f6f73e1344cb69602edf30f405d3f",
        "IPY_MODEL_622a1cd6f25b4d84a2842580ef4e116a"
       ],
       "opened": false
      }
     },
     "f55793e5c9324391928616d7daa81bd5": {
      "model_module": "ipytree",
      "model_module_version": "^0.2",
      "model_name": "NodeModel",
      "state": {
       "_id": "8d13e6e8-d67a-459d-aa6a-2d47fa3d59f0",
       "_model_module_version": "^0.2",
       "_view_module_version": "^0.2",
       "icon": "file",
       "name": "conditional_operations.py"
      }
     },
     "f5729bc0b791480e8b6b97cf5c20a346": {
      "model_module": "ipytree",
      "model_module_version": "^0.2",
      "model_name": "NodeModel",
      "state": {
       "_id": "64f0fc64-82c2-4118-ad41-9efbf8d23692",
       "_model_module_version": "^0.2",
       "_view_module_version": "^0.2",
       "icon": "file",
       "name": "pixel_lon_lat.py"
      }
     },
     "f57c67f1e7864901b55cd1e1141d654c": {
      "model_module": "ipytree",
      "model_module_version": "^0.2",
      "model_name": "NodeModel",
      "state": {
       "_id": "60de9a9b-634f-4ae9-b340-340a219e975e",
       "_model_module_version": "^0.2",
       "_view_module_version": "^0.2",
       "icon": "file",
       "name": "02_adding_data_to_qgis.py"
      }
     },
     "f5b28812ea44441480dc7aa33e9082f5": {
      "model_module": "@jupyter-widgets/base",
      "model_module_version": "2.0.0",
      "model_name": "LayoutModel",
      "state": {
       "height": "auto",
       "padding": "0px 0px 0px 4px",
       "width": "auto"
      }
     },
     "f5e65470bea5499fbcab342f036d0a7c": {
      "model_module": "jupyter-leaflet",
      "model_module_version": "^0.18",
      "model_name": "LeafletFullScreenControlModel",
      "state": {
       "_model_module_version": "^0.18",
       "_view_module_version": "^0.18",
       "options": [
        "position"
       ]
      }
     },
     "f66f51997ba247f1b16f91a11f43c24f": {
      "model_module": "@jupyter-widgets/controls",
      "model_module_version": "2.0.0",
      "model_name": "ToggleButtonStyleModel",
      "state": {
       "description_width": "",
       "font_family": null,
       "font_size": null,
       "font_style": null,
       "font_variant": null,
       "font_weight": null,
       "text_color": null,
       "text_decoration": null
      }
     },
     "f6775d28a7154aa4a269d95088427fec": {
      "model_module": "ipytree",
      "model_module_version": "^0.2",
      "model_name": "NodeModel",
      "state": {
       "_id": "cd5bd158-e94c-43fd-b82c-fa39a3c86ab9",
       "_model_module_version": "^0.2",
       "_view_module_version": "^0.2",
       "name": "Segmentation",
       "nodes": [
        "IPY_MODEL_d4008a8c48d64f0190834210db06eb1d"
       ],
       "opened": false
      }
     },
     "f6b06e21d19c4cab80ba37ec2127d3d4": {
      "model_module": "@jupyter-widgets/controls",
      "model_module_version": "2.0.0",
      "model_name": "ToggleButtonStyleModel",
      "state": {
       "description_width": "",
       "font_family": null,
       "font_size": null,
       "font_style": null,
       "font_variant": null,
       "font_weight": null,
       "text_color": null,
       "text_decoration": null
      }
     },
     "f6c69c353e8f49d19227fd0d1cceae95": {
      "model_module": "@jupyter-widgets/base",
      "model_module_version": "2.0.0",
      "model_name": "LayoutModel",
      "state": {
       "max_width": "57px",
       "min_width": "57px"
      }
     },
     "f6e485f989ca4b48bbf22c9506efa023": {
      "model_module": "@jupyter-widgets/controls",
      "model_module_version": "2.0.0",
      "model_name": "ToggleButtonModel",
      "state": {
       "button_style": "primary",
       "icon": "fast-forward",
       "layout": "IPY_MODEL_41c88c634a1042a2bac9583929bca37a",
       "style": "IPY_MODEL_7cf6e42bafed487da7fc1d2c669559f7",
       "tooltip": "Activate timeslider"
      }
     },
     "f71c3be7488b4747a7c0748a052d7c3a": {
      "model_module": "@jupyter-widgets/base",
      "model_module_version": "2.0.0",
      "model_name": "LayoutModel",
      "state": {}
     },
     "f71e84e3907c4a26ac6eaa83d86ffc94": {
      "model_module": "@jupyter-widgets/controls",
      "model_module_version": "2.0.0",
      "model_name": "ToggleButtonStyleModel",
      "state": {
       "description_width": "",
       "font_family": null,
       "font_size": null,
       "font_style": null,
       "font_variant": null,
       "font_weight": null,
       "text_color": null,
       "text_decoration": null
      }
     },
     "f71f056f69144947b3eb9a47fef56a6a": {
      "model_module": "jupyter-leaflet",
      "model_module_version": "^0.18",
      "model_name": "LeafletTileLayerModel",
      "state": {
       "_model_module_version": "^0.18",
       "_view_module_version": "^0.18",
       "attribution": "&copy; <a href=\"https://www.openstreetmap.org/copyright\">OpenStreetMap</a> contributors",
       "base": true,
       "max_zoom": 19,
       "min_zoom": 1,
       "name": "OpenStreetMap.Mapnik",
       "options": [
        "attribution",
        "bounds",
        "detect_retina",
        "max_native_zoom",
        "max_zoom",
        "min_native_zoom",
        "min_zoom",
        "no_wrap",
        "tile_size",
        "tms",
        "zoom_offset"
       ],
       "url": "https://tile.openstreetmap.org/{z}/{x}/{y}.png"
      }
     },
     "f7220f3545b242cca5e12c92549bc998": {
      "model_module": "@jupyter-widgets/base",
      "model_module_version": "2.0.0",
      "model_name": "LayoutModel",
      "state": {
       "height": "600px"
      }
     },
     "f738db71cca04673970d7fd5d0cd06c0": {
      "model_module": "@jupyter-widgets/base",
      "model_module_version": "2.0.0",
      "model_name": "LayoutModel",
      "state": {}
     },
     "f779a2fb805247d0947fa0cf3b5bc2f3": {
      "model_module": "@jupyter-widgets/base",
      "model_module_version": "2.0.0",
      "model_name": "LayoutModel",
      "state": {
       "height": "auto",
       "padding": "0px 0px 0px 4px",
       "width": "auto"
      }
     },
     "f787ef5fa4de4098bc2bf2d960fc8e8e": {
      "model_module": "@jupyter-widgets/controls",
      "model_module_version": "2.0.0",
      "model_name": "ToggleButtonModel",
      "state": {
       "button_style": "primary",
       "icon": "plus",
       "layout": "IPY_MODEL_8ec705bd975845aea6fa4f4b8e5aa49f",
       "style": "IPY_MODEL_b6c0aa9d97dd4e73a2c467f863a6ac2d",
       "tooltip": "Expand toolbar"
      }
     },
     "f78dfc92d0754c948728e4b52756fe0c": {
      "model_module": "@jupyter-widgets/base",
      "model_module_version": "2.0.0",
      "model_name": "LayoutModel",
      "state": {
       "height": "auto",
       "padding": "0px 0px 0px 4px",
       "width": "auto"
      }
     },
     "f7a15d1ba8fb4c76ac7669f31f8f44d6": {
      "model_module": "ipytree",
      "model_module_version": "^0.2",
      "model_name": "NodeModel",
      "state": {
       "_id": "abda493d-0aab-45ca-845b-c31687cd2ea1",
       "_model_module_version": "^0.2",
       "_view_module_version": "^0.2",
       "icon": "file",
       "name": "landsat_filtering.py"
      }
     },
     "f7b6401a4b374fb8aa3291343c2bdf9f": {
      "model_module": "@jupyter-widgets/controls",
      "model_module_version": "2.0.0",
      "model_name": "HTMLStyleModel",
      "state": {
       "description_width": "",
       "font_size": null,
       "text_color": null
      }
     },
     "f7cf14a09a7a4727a056bd16cd866266": {
      "model_module": "@jupyter-widgets/controls",
      "model_module_version": "2.0.0",
      "model_name": "ToggleButtonModel",
      "state": {
       "button_style": "primary",
       "icon": "info",
       "layout": "IPY_MODEL_67b47ab318f64877b5f103e3a1328fd8",
       "style": "IPY_MODEL_efd933fc9f5947c79a0af9b6c7030323",
       "tooltip": "Inspector"
      }
     },
     "f7d9be5ad2d74c979f3e94405408e8fb": {
      "model_module": "jupyter-leaflet",
      "model_module_version": "^0.18",
      "model_name": "LeafletFullScreenControlModel",
      "state": {
       "_model_module_version": "^0.18",
       "_view_module_version": "^0.18",
       "options": [
        "position"
       ]
      }
     },
     "f827e1cd9d684908ba663b9a878b7336": {
      "model_module": "ipytree",
      "model_module_version": "^0.2",
      "model_name": "NodeModel",
      "state": {
       "_id": "c19ae8a0-1fc0-444e-a4b3-d54b9544aa6e",
       "_model_module_version": "^0.2",
       "_view_module_version": "^0.2",
       "icon": "file",
       "name": "convert_imagecollection_to_image.py"
      }
     },
     "f838307412634466aef256c0e63c7e04": {
      "model_module": "@jupyter-widgets/controls",
      "model_module_version": "2.0.0",
      "model_name": "ToggleButtonsStyleModel",
      "state": {
       "button_width": "100px",
       "description_width": ""
      }
     },
     "f851b27277964f71b1508634c1e98406": {
      "model_module": "jupyter-leaflet",
      "model_module_version": "^0.18",
      "model_name": "LeafletLayersControlModel",
      "state": {
       "_model_module_version": "^0.18",
       "_view_module_version": "^0.18",
       "collapsed": true,
       "options": [
        "collapsed",
        "position"
       ],
       "position": "topright"
      }
     },
     "f8650cc1cb7f4452ad05b4ca241061ab": {
      "model_module": "@jupyter-widgets/base",
      "model_module_version": "2.0.0",
      "model_name": "LayoutModel",
      "state": {
       "max_width": "650px"
      }
     },
     "f885260ae43541278f2763f383b9304d": {
      "model_module": "ipytree",
      "model_module_version": "^0.2",
      "model_name": "NodeModel",
      "state": {
       "_id": "637b625e-6177-4b39-8548-728cff788dd7",
       "_model_module_version": "^0.2",
       "_view_module_version": "^0.2",
       "icon": "file",
       "name": "hough_transform.py"
      }
     },
     "f8b537f1d71e4a3ba477e6fcba34c191": {
      "model_module": "ipytree",
      "model_module_version": "^0.2",
      "model_name": "NodeModel",
      "state": {
       "_id": "1fa9895f-e7da-4d4c-bfb8-1723d1842a8c",
       "_model_module_version": "^0.2",
       "_view_module_version": "^0.2",
       "icon": "file",
       "name": "LICENSE"
      }
     },
     "f8bff24f6bf34dbc8d4e196502a6c037": {
      "model_module": "@jupyter-widgets/controls",
      "model_module_version": "2.0.0",
      "model_name": "ToggleButtonStyleModel",
      "state": {
       "description_width": "",
       "font_family": null,
       "font_size": null,
       "font_style": null,
       "font_variant": null,
       "font_weight": null,
       "text_color": null,
       "text_decoration": null
      }
     },
     "f8dede8802ad4543832b453962291e83": {
      "model_module": "@jupyter-widgets/controls",
      "model_module_version": "2.0.0",
      "model_name": "ToggleButtonStyleModel",
      "state": {
       "description_width": "",
       "font_family": null,
       "font_size": null,
       "font_style": null,
       "font_variant": null,
       "font_weight": null,
       "text_color": null,
       "text_decoration": null
      }
     },
     "f8f52a8949a7483eb70fd9edf6e94e73": {
      "model_module": "ipytree",
      "model_module_version": "^0.2",
      "model_name": "NodeModel",
      "state": {
       "_id": "cf2b77da-c930-4316-add0-828f7b9f7130",
       "_model_module_version": "^0.2",
       "_view_module_version": "^0.2",
       "name": "FeatureCollection",
       "nodes": [
        "IPY_MODEL_21fd0a02bee94eec9727510f42d70e6e",
        "IPY_MODEL_5cc2a38149474f9c916b74b1cbf53a65",
        "IPY_MODEL_e1fe0a9f10f34b34b0461b8486c6be95",
        "IPY_MODEL_2d914a71553341beb17844be8ced92bc",
        "IPY_MODEL_b750d10f95644e2a95653ddace184efc",
        "IPY_MODEL_2b953ce1e1b140acbb1c5fb07a8c18c7",
        "IPY_MODEL_82888c5c1c0b4c6584819d9934e85efa",
        "IPY_MODEL_1e798d8b0f36458a9b5274bb00e9fddd",
        "IPY_MODEL_8793209cae81444ba9d904fc82af0409",
        "IPY_MODEL_8b056e84aaf948efb743cfa688c81c34",
        "IPY_MODEL_7af8ebc8bbe54a04a4b219f3f81e93f7",
        "IPY_MODEL_91a6f665b0064b06950c51c4f5a7728b",
        "IPY_MODEL_9e82230ff8b94c06b481f43fe7ed6e06",
        "IPY_MODEL_1411827d97cc40c69f5e4f5afd3cc330",
        "IPY_MODEL_0e13b5bfc05e4a958bd8d5daa09df919",
        "IPY_MODEL_af2e0e02ae6742c686cc14b0a97312ac",
        "IPY_MODEL_30c163044a594f86abb56615d37e83b0",
        "IPY_MODEL_1714ec1f44d5403ca464e1a27a0ab356",
        "IPY_MODEL_6578dad843df4482bd72e96558a184b6",
        "IPY_MODEL_462ecf36351e49e680b784791e59dff8",
        "IPY_MODEL_33d0a67a334540ef942df9c13765fa18",
        "IPY_MODEL_bc846660d876417d9f2203bd442c723c",
        "IPY_MODEL_8fcb769db7b14eb3bffadb196c3622a5",
        "IPY_MODEL_0e60ab31e51e4211b652a7fdda9f6b31",
        "IPY_MODEL_23db33ceb51c4790a998801756a0807c",
        "IPY_MODEL_1727ea8a6f3243da98ce05fac77f6724",
        "IPY_MODEL_ecbd52b846e34d91a39613e100d29490",
        "IPY_MODEL_ad70251e5ed346f9bc211d478e2e9382",
        "IPY_MODEL_d35df37571ba46e0930add12822f12b7",
        "IPY_MODEL_ed648f7074f0446c9504484732e16fc3",
        "IPY_MODEL_8ca0fcdd0d7a4ff985a1a2c5e57525c2",
        "IPY_MODEL_1084bc6559a8435bbe653a311d9f1bf0",
        "IPY_MODEL_fd9d38b7bc2741a89796af15f27ccf36",
        "IPY_MODEL_832faf39bdbd4ab4b6f11c5339d4f7c7",
        "IPY_MODEL_38bf99c063fb4f62a9a8a4ec16f0f823",
        "IPY_MODEL_db8e025110b64d35b7d87d6cf2267009",
        "IPY_MODEL_931e6423b59b4cdab9ba3148e021d071",
        "IPY_MODEL_831657a627ef4e8bb32883fbf6a872e4",
        "IPY_MODEL_3afc533fca024b4e9867d801ba2a1ea2"
       ],
       "opened": false
      }
     },
     "f91b858b67a947a284af13939a854155": {
      "model_module": "@jupyter-widgets/base",
      "model_module_version": "2.0.0",
      "model_name": "LayoutModel",
      "state": {
       "height": "auto",
       "padding": "0px 0px 0px 4px",
       "width": "auto"
      }
     },
     "f9237b7792ef4b36adf9ec75b1626adc": {
      "model_module": "@jupyter-widgets/base",
      "model_module_version": "2.0.0",
      "model_name": "LayoutModel",
      "state": {
       "max_width": "279px",
       "min_width": "279px"
      }
     },
     "f945f41b548d41c58f2ae9bad4787102": {
      "model_module": "@jupyter-widgets/controls",
      "model_module_version": "2.0.0",
      "model_name": "ToggleButtonModel",
      "state": {
       "button_style": "primary",
       "icon": "bar-chart",
       "layout": "IPY_MODEL_5fc5e4c3bedd4d718d59955ba3b7765c",
       "style": "IPY_MODEL_731c148a2c0b4997a4dc69315f50424b",
       "tooltip": "Plotting"
      }
     },
     "f94ea3c75d634ce8a6a48de86f1caf96": {
      "model_module": "ipytree",
      "model_module_version": "^0.2",
      "model_name": "NodeModel",
      "state": {
       "_id": "bd180289-06e1-4dcc-886d-bc9fe9386584",
       "_model_module_version": "^0.2",
       "_view_module_version": "^0.2",
       "icon": "file",
       "name": "alos_topo_diversity.py"
      }
     },
     "f9798875fcbc4c719636b6a0c30aa079": {
      "model_module": "@jupyter-widgets/controls",
      "model_module_version": "2.0.0",
      "model_name": "ToggleButtonModel",
      "state": {
       "button_style": "primary",
       "icon": "map",
       "layout": "IPY_MODEL_b255ef72e5b043a69c8df5399d74c4ba",
       "style": "IPY_MODEL_17a599e3e87b4ca49b359c2e9be8f554",
       "tooltip": "Change basemap"
      }
     },
     "f97ac84c0b1a4e37a51172818a8eef66": {
      "model_module": "ipytree",
      "model_module_version": "^0.2",
      "model_name": "NodeModel",
      "state": {
       "_id": "7dd8d15e-228c-4d1c-9161-a2a64b1a8042",
       "_model_module_version": "^0.2",
       "_view_module_version": "^0.2",
       "icon": "file",
       "name": "linear_regression.py"
      }
     },
     "f9c06b7d50f74a13a7bb436d7d4d7b4e": {
      "model_module": "@jupyter-widgets/base",
      "model_module_version": "2.0.0",
      "model_name": "LayoutModel",
      "state": {}
     },
     "f9e3f14d32d44d47bd20dda243892f21": {
      "model_module": "ipytree",
      "model_module_version": "^0.2",
      "model_name": "NodeModel",
      "state": {
       "_id": "d31d2de6-2179-454f-87e9-6363442ad35c",
       "_model_module_version": "^0.2",
       "_view_module_version": "^0.2",
       "icon": "file",
       "name": "map_add_features.py"
      }
     },
     "f9f96d0362434ef080cb2b1b9bb21159": {
      "model_module": "ipytree",
      "model_module_version": "^0.2",
      "model_name": "NodeModel",
      "state": {
       "_id": "cf65a84d-a4ff-4413-bad1-ca7b6228910b",
       "_model_module_version": "^0.2",
       "_view_module_version": "^0.2",
       "icon": "file",
       "name": "clustering.py"
      }
     },
     "fa078cc859b741d3a6e429ae6dd13901": {
      "model_module": "jupyter-leaflet",
      "model_module_version": "^0.18",
      "model_name": "LeafletMapStyleModel",
      "state": {
       "_model_module_version": "^0.18"
      }
     },
     "fa4634fb681a47b9a7544036091d70f2": {
      "model_module": "@jupyter-widgets/output",
      "model_module_version": "1.0.0",
      "model_name": "OutputModel",
      "state": {
       "layout": "IPY_MODEL_5a6d128dc01445ba80cd49b972680a40"
      }
     },
     "fa560b5c5b7c4b839debe1f2d7466b9c": {
      "model_module": "@jupyter-widgets/controls",
      "model_module_version": "2.0.0",
      "model_name": "ToggleButtonStyleModel",
      "state": {
       "description_width": "",
       "font_family": null,
       "font_size": null,
       "font_style": null,
       "font_variant": null,
       "font_weight": null,
       "text_color": null,
       "text_decoration": null
      }
     },
     "fa6340fea13846818f59ed3629b0b573": {
      "model_module": "@jupyter-widgets/base",
      "model_module_version": "2.0.0",
      "model_name": "LayoutModel",
      "state": {
       "height": "auto",
       "padding": "0px 0px 0px 4px",
       "width": "auto"
      }
     },
     "fa6bc7f787fe4d3c9e2d32fed0fe69b0": {
      "model_module": "ipytree",
      "model_module_version": "^0.2",
      "model_name": "NodeModel",
      "state": {
       "_id": "cf5a5ea5-1850-4234-8a4b-3e2b7a7f949f",
       "_model_module_version": "^0.2",
       "_view_module_version": "^0.2",
       "icon": "file",
       "name": "resampling2.py"
      }
     },
     "fa6dc615a43f4593877b80ee7a20cf7f": {
      "model_module": "ipytree",
      "model_module_version": "^0.2",
      "model_name": "NodeModel",
      "state": {
       "_id": "8ef829d8-3466-49be-9ed4-a4cb2fe72995",
       "_model_module_version": "^0.2",
       "_view_module_version": "^0.2",
       "icon": "file",
       "name": "simple_joins.py"
      }
     },
     "fa72c457c7bb47de898cd28a239ce777": {
      "model_module": "@jupyter-widgets/controls",
      "model_module_version": "2.0.0",
      "model_name": "ToggleButtonModel",
      "state": {
       "button_style": "primary",
       "icon": "eraser",
       "layout": "IPY_MODEL_329f257a0e9b4017ad13262bde06f0d8",
       "style": "IPY_MODEL_6ce97b3fdc3c4cdfbf65970db036418c",
       "tooltip": "Remove all drawn features"
      }
     },
     "fa847d05dff84634a7bc1e197c5ded8f": {
      "model_module": "@jupyter-widgets/base",
      "model_module_version": "2.0.0",
      "model_name": "LayoutModel",
      "state": {
       "height": "auto",
       "padding": "0px 0px 0px 4px",
       "width": "auto"
      }
     },
     "fa8cd4d64f0a4d07a1183d3d7406846c": {
      "model_module": "ipyevents",
      "model_module_version": "2.0.2",
      "model_name": "EventModel",
      "state": {
       "_supported_key_events": [
        "keydown",
        "keyup"
       ],
       "_supported_mouse_events": [
        "click",
        "auxclick",
        "dblclick",
        "mouseenter",
        "mouseleave",
        "mousedown",
        "mouseup",
        "mousemove",
        "wheel",
        "contextmenu",
        "dragstart",
        "drag",
        "dragend",
        "dragenter",
        "dragover",
        "dragleave",
        "drop"
       ],
       "_supported_touch_events": [
        "touchstart",
        "touchend",
        "touchmove",
        "touchcancel"
       ],
       "_view_module": "@jupyter-widgets/controls",
       "source": "IPY_MODEL_f176bf54501d4757ac51511fc084aa65",
       "throttle_or_debounce": "",
       "watched_events": [
        "mouseenter",
        "mouseleave"
       ],
       "xy_coordinate_system": ""
      }
     },
     "fab98c150eba4a72a399c5fe3bc80be5": {
      "model_module": "ipytree",
      "model_module_version": "^0.2",
      "model_name": "NodeModel",
      "state": {
       "_id": "89c33223-6d01-4ccf-b56e-386062c0fcab",
       "_model_module_version": "^0.2",
       "_view_module_version": "^0.2",
       "icon": "file",
       "name": "filter_string_ends_with.py"
      }
     },
     "fb088a4627ae4b41b1aac946e71b8f6e": {
      "model_module": "ipytree",
      "model_module_version": "^0.2",
      "model_name": "NodeModel",
      "state": {
       "_id": "4eca9b32-c6ac-47df-af42-22eaebfbe5c9",
       "_model_module_version": "^0.2",
       "_view_module_version": "^0.2",
       "icon": "file",
       "name": "modis_surface_reflectance_qa_band.py"
      }
     },
     "fb55f1ba49124d979286ffb2cd808201": {
      "model_module": "jupyter-leaflet",
      "model_module_version": "^0.18",
      "model_name": "LeafletMapStyleModel",
      "state": {
       "_model_module_version": "^0.18"
      }
     },
     "fb72c8c7a09846f98f403547eb72d506": {
      "model_module": "@jupyter-widgets/controls",
      "model_module_version": "2.0.0",
      "model_name": "ToggleButtonStyleModel",
      "state": {
       "description_width": "",
       "font_family": null,
       "font_size": null,
       "font_style": null,
       "font_variant": null,
       "font_weight": null,
       "text_color": null,
       "text_decoration": null
      }
     },
     "fb7c2d81a5c3460496a067a91756ba7c": {
      "model_module": "@jupyter-widgets/base",
      "model_module_version": "2.0.0",
      "model_name": "LayoutModel",
      "state": {
       "height": "auto",
       "padding": "0px 0px 0px 4px",
       "width": "auto"
      }
     },
     "fb8f677bc50148eaba4713c014af2485": {
      "model_module": "@jupyter-widgets/controls",
      "model_module_version": "2.0.0",
      "model_name": "HTMLStyleModel",
      "state": {
       "description_width": "",
       "font_size": null,
       "text_color": null
      }
     },
     "fbb9c1b9659c4820bb45f6d66965d3af": {
      "model_module": "jupyter-leaflet",
      "model_module_version": "^0.18",
      "model_name": "LeafletFullScreenControlModel",
      "state": {
       "_model_module_version": "^0.18",
       "_view_module_version": "^0.18",
       "options": [
        "position"
       ]
      }
     },
     "fbd06d131d6a41ad87931cc7961e738b": {
      "model_module": "jupyter-leaflet",
      "model_module_version": "^0.18",
      "model_name": "LeafletSplitMapControlModel",
      "state": {
       "_model_module_version": "^0.18",
       "_model_name": "LeafletSplitMapControlModel",
       "_view_module_version": "^0.18",
       "_view_name": "LeafletSplitMapControlView",
       "left_layer": "IPY_MODEL_bf2fd03dfed6491cb13d2db45ce3c08c",
       "options": [
        "position"
       ],
       "right_layer": "IPY_MODEL_55157534c5654a639590038ada0bf7e4"
      }
     },
     "fbec256b07c14053bb94850742c6e0de": {
      "model_module": "@jupyter-widgets/controls",
      "model_module_version": "2.0.0",
      "model_name": "DescriptionStyleModel",
      "state": {
       "description_width": ""
      }
     },
     "fc42c84499b44aaab0ed8e717bf08c8f": {
      "model_module": "ipytree",
      "model_module_version": "^0.2",
      "model_name": "NodeModel",
      "state": {
       "_id": "7aa75382-60af-4b69-ae4f-4ab217217bb4",
       "_model_module_version": "^0.2",
       "_view_module_version": "^0.2",
       "icon": "file",
       "name": "us_ned_mtpi.py"
      }
     },
     "fc4b645cdd5345b48af1b647c451deff": {
      "model_module": "@jupyter-widgets/controls",
      "model_module_version": "2.0.0",
      "model_name": "ToggleButtonModel",
      "state": {
       "icon": "times",
       "layout": "IPY_MODEL_a341dc1b99894f4f8a951581f3002815",
       "style": "IPY_MODEL_a514b5d95a1e498d8352fe8909f71248",
       "tooltip": "Close split-panel map"
      }
     },
     "fce59f99dfa748cb9cadfc649e1b2e78": {
      "model_module": "@jupyter-widgets/controls",
      "model_module_version": "2.0.0",
      "model_name": "VBoxModel",
      "state": {
       "children": [
        "IPY_MODEL_c7af74fbde1d4faaaa28cb110317965a",
        "IPY_MODEL_6216d069875147dc8083e5447605f66e"
       ],
       "layout": "IPY_MODEL_6de346a6d98749fc859a92cd10802e88"
      }
     },
     "fce6edb025d44096b083ab747f29c136": {
      "model_module": "jupyter-leaflet",
      "model_module_version": "^0.18",
      "model_name": "LeafletFullScreenControlModel",
      "state": {
       "_model_module_version": "^0.18",
       "_view_module_version": "^0.18",
       "options": [
        "position"
       ]
      }
     },
     "fcf44b4ad37d4060a1d0aae8f33fd5d1": {
      "model_module": "@jupyter-widgets/base",
      "model_module_version": "2.0.0",
      "model_name": "LayoutModel",
      "state": {
       "height": "auto",
       "padding": "0px 0px 0px 4px",
       "width": "auto"
      }
     },
     "fd1a76a9b37740f1bdf7daeca73373be": {
      "model_module": "jupyter-leaflet",
      "model_module_version": "^0.18",
      "model_name": "LeafletTileLayerModel",
      "state": {
       "_model_module_version": "^0.18",
       "_view_module_version": "^0.18",
       "attribution": "&copy; <a href=\"https://www.openstreetmap.org/copyright\">OpenStreetMap</a> contributors",
       "base": true,
       "max_zoom": 19,
       "min_zoom": 1,
       "name": "OpenStreetMap.Mapnik",
       "options": [
        "attribution",
        "bounds",
        "detect_retina",
        "max_native_zoom",
        "max_zoom",
        "min_native_zoom",
        "min_zoom",
        "no_wrap",
        "tile_size",
        "tms",
        "zoom_offset"
       ],
       "url": "https://tile.openstreetmap.org/{z}/{x}/{y}.png"
      }
     },
     "fd3732c3d38a4667880418599206665d": {
      "model_module": "@jupyter-widgets/controls",
      "model_module_version": "2.0.0",
      "model_name": "ToggleButtonsModel",
      "state": {
       "_options_labels": [
        "name/address",
        "lat-lon",
        "data"
       ],
       "button_style": "",
       "icons": [],
       "index": 0,
       "layout": "IPY_MODEL_367efee7a37c47d68cb532118e8e83c9",
       "style": "IPY_MODEL_0e5ce36a4b004e37944f1f927b9fb854",
       "tooltips": [
        "Search by place name or address",
        "Search by lat-lon coordinates",
        "Search Earth Engine data catalog"
       ]
      }
     },
     "fd4463181d4c43ffa744f37dfaab4215": {
      "model_module": "jupyter-leaflet",
      "model_module_version": "^0.18",
      "model_name": "LeafletMapStyleModel",
      "state": {
       "_model_module_version": "^0.18"
      }
     },
     "fd58d1fe78b54bc2be28185889807637": {
      "model_module": "ipytree",
      "model_module_version": "^0.2",
      "model_name": "NodeModel",
      "state": {
       "_id": "01681a31-c7d3-431e-bd94-3843435ec99a",
       "_model_module_version": "^0.2",
       "_view_module_version": "^0.2",
       "icon": "file",
       "name": "palettes-test-crameri-dem.py"
      }
     },
     "fd66df8e7773429b8c78d2a946a917d6": {
      "model_module": "jupyter-leaflet",
      "model_module_version": "^0.18",
      "model_name": "LeafletTileLayerModel",
      "state": {
       "_model_module_version": "^0.18",
       "_view_module_version": "^0.18",
       "attribution": "&copy; <a href=\"https://www.openstreetmap.org/copyright\">OpenStreetMap</a> contributors",
       "base": true,
       "max_zoom": 19,
       "min_zoom": 1,
       "name": "OpenStreetMap.Mapnik",
       "options": [
        "attribution",
        "bounds",
        "detect_retina",
        "max_native_zoom",
        "max_zoom",
        "min_native_zoom",
        "min_zoom",
        "no_wrap",
        "tile_size",
        "tms",
        "zoom_offset"
       ],
       "url": "https://tile.openstreetmap.org/{z}/{x}/{y}.png"
      }
     },
     "fd8a97ccd0cf462baa53ed434af9b481": {
      "model_module": "ipytree",
      "model_module_version": "^0.2",
      "model_name": "NodeModel",
      "state": {
       "_id": "e8df351f-d0c7-4b90-89ec-d5a0ad5a6fca",
       "_model_module_version": "^0.2",
       "_view_module_version": "^0.2",
       "icon": "file",
       "name": "usgs_watersheds.py"
      }
     },
     "fd9bfe814d404510bbb182d0aaa2791a": {
      "model_module": "@jupyter-widgets/base",
      "model_module_version": "2.0.0",
      "model_name": "LayoutModel",
      "state": {}
     },
     "fd9d38b7bc2741a89796af15f27ccf36": {
      "model_module": "ipytree",
      "model_module_version": "^0.2",
      "model_name": "NodeModel",
      "state": {
       "_id": "c926a015-fdf6-4536-a8b8-91a2d163c93d",
       "_model_module_version": "^0.2",
       "_view_module_version": "^0.2",
       "icon": "file",
       "name": "select_by_attributes.py"
      }
     },
     "fdbb9aae3bb9445eb8e51787e8f88e56": {
      "model_module": "@jupyter-widgets/base",
      "model_module_version": "2.0.0",
      "model_name": "LayoutModel",
      "state": {}
     },
     "fdcf19ab8855412e9a25489ad4af5e22": {
      "model_module": "@jupyter-widgets/base",
      "model_module_version": "2.0.0",
      "model_name": "LayoutModel",
      "state": {
       "width": "70px"
      }
     },
     "fe1b8a64f29443b7b6f25b42afcc5c1e": {
      "model_module": "ipytree",
      "model_module_version": "^0.2",
      "model_name": "NodeModel",
      "state": {
       "_id": "88196c32-50f9-4c56-8266-2d4857daa066",
       "_model_module_version": "^0.2",
       "_view_module_version": "^0.2",
       "name": "Terrain",
       "nodes": [
        "IPY_MODEL_b0d30a31b2854688b7cac3d9b7d46237",
        "IPY_MODEL_ba886a8895bf42f0ae1dc1db3d9f1551",
        "IPY_MODEL_2c3c97329aeb496f83f61246ee90d466",
        "IPY_MODEL_957dd05e0bb842b189ad47f102e8f43b",
        "IPY_MODEL_b1b21861858c4266be00c0bacf1ebe9c",
        "IPY_MODEL_3ff8634ac45b4252b433ce387998cc47",
        "IPY_MODEL_df2bc1c273d941f0bb43f2bb3c197786",
        "IPY_MODEL_23ca0a632aab44d68af438133783f1d9",
        "IPY_MODEL_7460de78ba26452cabae1dd80870c9e0",
        "IPY_MODEL_c8a58292ba1b44cb859229e90de06c7a",
        "IPY_MODEL_6f28f0a7805f482eb85ae341be5db857",
        "IPY_MODEL_da843da6a8cd4846a20480a2dc692aa8",
        "IPY_MODEL_df8b5c636e11491d9d33c97b9145f7f8",
        "IPY_MODEL_5c17e3706343417180b316cb06ee60ea",
        "IPY_MODEL_6217e73f4511429c8964cb2ad32f228b",
        "IPY_MODEL_47e3c0a7f88942559e40e834d3a3fc53",
        "IPY_MODEL_9e8f973bfabb45ea915ee010367eec11",
        "IPY_MODEL_93a2928464a345cb9d62b9589c05396b",
        "IPY_MODEL_5cbd6c8cefa34c168506ee239a1befcc",
        "IPY_MODEL_cf7cda23c6524e3199f4c91aa3cbe79d"
       ],
       "opened": false
      }
     },
     "fe4da18fa4c14b4089c8d3e1004a9f5d": {
      "model_module": "@jupyter-widgets/controls",
      "model_module_version": "2.0.0",
      "model_name": "VBoxModel",
      "state": {
       "children": [
        "IPY_MODEL_d8687d4c01894c838c0a9b05a3d2536f",
        "IPY_MODEL_ffa2ce296d894724b0eb7ad14d3ef892"
       ],
       "layout": "IPY_MODEL_1948a393e6c444ac8f4b925770354298"
      }
     },
     "fe64655bec9146be88eefae029197024": {
      "model_module": "@jupyter-widgets/controls",
      "model_module_version": "2.0.0",
      "model_name": "GridBoxModel",
      "state": {
       "children": [
        "IPY_MODEL_18b4e71d19fb4dac92923f7d635c76b0",
        "IPY_MODEL_2a325acd1bbc4435a760aea9b40cd8ab",
        "IPY_MODEL_f4cf30960e934be6bee38e58b1db4d63",
        "IPY_MODEL_f9798875fcbc4c719636b6a0c30aa079",
        "IPY_MODEL_30860bca685c4026a3346d8be73f177d",
        "IPY_MODEL_e32268810a0a4b0bb4b6e9db32e7df40"
       ],
       "layout": "IPY_MODEL_94d783bed27747958b1b1c3cdb42be65"
      }
     },
     "fed7cd2af0f84d15b225c7658eac0a77": {
      "model_module": "@jupyter-widgets/controls",
      "model_module_version": "2.0.0",
      "model_name": "TextareaModel",
      "state": {
       "layout": "IPY_MODEL_81e84b7dcccd4eb88ef0cfbff8f3a472",
       "style": "IPY_MODEL_73cbf51bac7b4fb6abb76fd72524da3f"
      }
     },
     "fee9748a6aae449f8d4914ff5acf3046": {
      "model_module": "@jupyter-widgets/controls",
      "model_module_version": "2.0.0",
      "model_name": "ToggleButtonModel",
      "state": {
       "button_style": "primary",
       "icon": "map",
       "layout": "IPY_MODEL_59283abbafe14195a3edfa8221a7111d",
       "style": "IPY_MODEL_3f608d3ffe8a4bacae767dedf0698547",
       "tooltip": "Change basemap",
       "value": true
      }
     },
     "fef152afa95a4c9ea2b0b51acf6469f7": {
      "model_module": "@jupyter-widgets/controls",
      "model_module_version": "2.0.0",
      "model_name": "ToggleButtonModel",
      "state": {
       "button_style": "primary",
       "icon": "gears",
       "layout": "IPY_MODEL_f78dfc92d0754c948728e4b52756fe0c",
       "style": "IPY_MODEL_538c159687c244288d21e305962ba82e",
       "tooltip": "WhiteboxTools for local geoprocessing"
      }
     },
     "ff13081c630147ffa59070cecabbf02d": {
      "model_module": "@jupyter-widgets/base",
      "model_module_version": "2.0.0",
      "model_name": "LayoutModel",
      "state": {}
     },
     "ff151b8a19734d60a7bcbd171b45bca5": {
      "model_module": "ipytree",
      "model_module_version": "^0.2",
      "model_name": "NodeModel",
      "state": {
       "_id": "476d436b-757c-4325-bd3c-c880dfc16f3c",
       "_model_module_version": "^0.2",
       "_view_module_version": "^0.2",
       "icon": "file",
       "name": "select_by_attributes.py"
      }
     },
     "ff6da8de591e4c5fb7e407793197959a": {
      "model_module": "jupyter-leaflet",
      "model_module_version": "^0.18",
      "model_name": "LeafletTileLayerModel",
      "state": {
       "_model_module_version": "^0.18",
       "_view_module_version": "^0.18",
       "attribution": "&copy; <a href=\"https://www.openstreetmap.org/copyright\">OpenStreetMap</a> contributors",
       "base": true,
       "max_zoom": 19,
       "min_zoom": 1,
       "name": "OpenStreetMap.Mapnik",
       "options": [
        "attribution",
        "bounds",
        "detect_retina",
        "max_native_zoom",
        "max_zoom",
        "min_native_zoom",
        "min_zoom",
        "no_wrap",
        "tile_size",
        "tms",
        "zoom_offset"
       ],
       "url": "https://tile.openstreetmap.org/{z}/{x}/{y}.png"
      }
     },
     "ff6e5ecf75cd49f0aec64efe9d5330e6": {
      "model_module": "ipytree",
      "model_module_version": "^0.2",
      "model_name": "NodeModel",
      "state": {
       "_id": "b3b86810-c518-45d3-8975-685c730f3c5a",
       "_model_module_version": "^0.2",
       "_view_module_version": "^0.2",
       "icon": "file",
       "name": "ndwi_timeseries.py"
      }
     },
     "ff7ddaf432a14154959910712eb8193d": {
      "model_module": "ipytree",
      "model_module_version": "^0.2",
      "model_name": "NodeModel",
      "state": {
       "_id": "2a7dc29a-b23d-49ab-b3d5-5f23d91684f5",
       "_model_module_version": "^0.2",
       "_view_module_version": "^0.2",
       "icon": "file",
       "name": "filtering_collection.py"
      }
     },
     "ff95a08686a54876b2558205678567cd": {
      "model_module": "@jupyter-widgets/controls",
      "model_module_version": "2.0.0",
      "model_name": "ToggleButtonModel",
      "state": {
       "button_style": "primary",
       "icon": "gears",
       "layout": "IPY_MODEL_3f35789735564eac9bed4a3dd3039905",
       "style": "IPY_MODEL_fb72c8c7a09846f98f403547eb72d506",
       "tooltip": "WhiteboxTools for local geoprocessing"
      }
     },
     "ffa2ce296d894724b0eb7ad14d3ef892": {
      "model_module": "@jupyter-widgets/output",
      "model_module_version": "1.0.0",
      "model_name": "OutputModel",
      "state": {
       "layout": "IPY_MODEL_b1f2c597199c4b4fa4b938ae40bf2999",
       "outputs": [
        {
         "data": {
          "application/vnd.jupyter.widget-view+json": {
           "model_id": "5b045e93683f468ca26c1249e31d162c",
           "version_major": 2,
           "version_minor": 0
          },
          "text/plain": "Tree(multiple_selection=False, nodes=(Node(name='Archive', opened=False), Node(name='Examples', nodes=(Node(na…"
         },
         "metadata": {},
         "output_type": "display_data"
        }
       ]
      }
     },
     "ffb4cb3ffb7d4fe9b95a4a002019368e": {
      "model_module": "ipytree",
      "model_module_version": "^0.2",
      "model_name": "NodeModel",
      "state": {
       "_id": "3058197e-4d25-4816-890e-514cf8081c33",
       "_model_module_version": "^0.2",
       "_view_module_version": "^0.2",
       "icon": "file",
       "name": "README.md"
      }
     },
     "ffc7a55a44284a1cb0ed362d7871457e": {
      "model_module": "@jupyter-widgets/controls",
      "model_module_version": "2.0.0",
      "model_name": "DescriptionStyleModel",
      "state": {
       "description_width": ""
      }
     },
     "fffe9f62ab6c4aa3a0069d67fbb8cd98": {
      "model_module": "@jupyter-widgets/base",
      "model_module_version": "2.0.0",
      "model_name": "LayoutModel",
      "state": {
       "width": "340px"
      }
     },
     "undefined": {
      "model_module": "ipyevents",
      "model_module_version": "2.0.0",
      "model_name": "EventModel",
      "state": {
       "_view_name": "ErrorWidgetView",
       "error": {},
       "msg": "Model class 'EventModel' from module 'ipyevents' is loaded but can not be instantiated"
      }
     }
    },
    "version_major": 2,
    "version_minor": 0
   }
  }
 },
 "nbformat": 4,
 "nbformat_minor": 5
}
