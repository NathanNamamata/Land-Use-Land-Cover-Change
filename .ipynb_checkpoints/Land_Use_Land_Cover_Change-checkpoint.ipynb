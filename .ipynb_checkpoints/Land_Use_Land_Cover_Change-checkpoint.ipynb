{
 "cells": [
  {
   "cell_type": "code",
   "execution_count": 1,
   "id": "38164953-42b9-4cde-95de-a9fbe0f2eb31",
   "metadata": {},
   "outputs": [],
   "source": [
    "import geemap\n",
    "import ee\n",
    "import os\n",
    "##from geemap.basemaps import basemaps"
   ]
  },
  {
   "cell_type": "code",
   "execution_count": 2,
   "id": "39529fa9-bdd4-457d-a576-36bab60132ca",
   "metadata": {},
   "outputs": [
    {
     "data": {
      "text/html": [
       "\n",
       "            <style>\n",
       "                .geemap-dark {\n",
       "                    --jp-widgets-color: white;\n",
       "                    --jp-widgets-label-color: white;\n",
       "                    --jp-ui-font-color1: white;\n",
       "                    --jp-layout-color2: #454545;\n",
       "                    background-color: #383838;\n",
       "                }\n",
       "\n",
       "                .geemap-dark .jupyter-button {\n",
       "                    --jp-layout-color3: #383838;\n",
       "                }\n",
       "\n",
       "                .geemap-colab {\n",
       "                    background-color: var(--colab-primary-surface-color, white);\n",
       "                }\n",
       "\n",
       "                .geemap-colab .jupyter-button {\n",
       "                    --jp-layout-color3: var(--colab-primary-surface-color, white);\n",
       "                }\n",
       "            </style>\n",
       "            "
      ],
      "text/plain": [
       "<IPython.core.display.HTML object>"
      ]
     },
     "metadata": {},
     "output_type": "display_data"
    }
   ],
   "source": [
    "ee.Initialize()"
   ]
  },
  {
   "cell_type": "code",
   "execution_count": 11,
   "id": "124e6c78-5c75-4a31-ba49-658436375ef1",
   "metadata": {},
   "outputs": [
    {
     "data": {
      "text/html": [
       "\n",
       "            <style>\n",
       "                .geemap-dark {\n",
       "                    --jp-widgets-color: white;\n",
       "                    --jp-widgets-label-color: white;\n",
       "                    --jp-ui-font-color1: white;\n",
       "                    --jp-layout-color2: #454545;\n",
       "                    background-color: #383838;\n",
       "                }\n",
       "\n",
       "                .geemap-dark .jupyter-button {\n",
       "                    --jp-layout-color3: #383838;\n",
       "                }\n",
       "\n",
       "                .geemap-colab {\n",
       "                    background-color: var(--colab-primary-surface-color, white);\n",
       "                }\n",
       "\n",
       "                .geemap-colab .jupyter-button {\n",
       "                    --jp-layout-color3: var(--colab-primary-surface-color, white);\n",
       "                }\n",
       "            </style>\n",
       "            "
      ],
      "text/plain": [
       "<IPython.core.display.HTML object>"
      ]
     },
     "metadata": {},
     "output_type": "display_data"
    },
    {
     "name": "stdout",
     "output_type": "stream",
     "text": [
      "Downloading https://github.com/gee-community/geemap/archive/master.zip ...\n",
      "Unzipping geemap-master.zip ...\n",
      "Data downloaded to: C:\\Users\\Naznamz\\Downloads\\geemap-master\n",
      "\n",
      "Please comment out 'geemap.update_package()' and restart the kernel to take effect:\n",
      "Jupyter menu -> Kernel -> Restart & Clear Output\n"
     ]
    }
   ],
   "source": [
    "geemap.update_package()"
   ]
  },
  {
   "cell_type": "code",
   "execution_count": 23,
   "id": "04fa0668-7372-448a-8acb-d3a2a16a3d0d",
   "metadata": {},
   "outputs": [
    {
     "data": {
      "text/html": [
       "\n",
       "            <style>\n",
       "                .geemap-dark {\n",
       "                    --jp-widgets-color: white;\n",
       "                    --jp-widgets-label-color: white;\n",
       "                    --jp-ui-font-color1: white;\n",
       "                    --jp-layout-color2: #454545;\n",
       "                    background-color: #383838;\n",
       "                }\n",
       "\n",
       "                .geemap-dark .jupyter-button {\n",
       "                    --jp-layout-color3: #383838;\n",
       "                }\n",
       "\n",
       "                .geemap-colab {\n",
       "                    background-color: var(--colab-primary-surface-color, white);\n",
       "                }\n",
       "\n",
       "                .geemap-colab .jupyter-button {\n",
       "                    --jp-layout-color3: var(--colab-primary-surface-color, white);\n",
       "                }\n",
       "            </style>\n",
       "            "
      ],
      "text/plain": [
       "<IPython.core.display.HTML object>"
      ]
     },
     "metadata": {},
     "output_type": "display_data"
    },
    {
     "name": "stdout",
     "output_type": "stream",
     "text": [
      "Esri.WorldImagery has been already added before.\n"
     ]
    }
   ],
   "source": [
    "Map = geemap.Map()\n",
    "Map.add_basemap('HYBRID') \n",
    "Map.add_basemap('SATELLITE')"
   ]
  },
  {
   "cell_type": "code",
   "execution_count": 27,
   "id": "eab7c783-c101-45af-8e22-b025469f4748",
   "metadata": {},
   "outputs": [
    {
     "data": {
      "text/html": [
       "\n",
       "            <style>\n",
       "                .geemap-dark {\n",
       "                    --jp-widgets-color: white;\n",
       "                    --jp-widgets-label-color: white;\n",
       "                    --jp-ui-font-color1: white;\n",
       "                    --jp-layout-color2: #454545;\n",
       "                    background-color: #383838;\n",
       "                }\n",
       "\n",
       "                .geemap-dark .jupyter-button {\n",
       "                    --jp-layout-color3: #383838;\n",
       "                }\n",
       "\n",
       "                .geemap-colab {\n",
       "                    background-color: var(--colab-primary-surface-color, white);\n",
       "                }\n",
       "\n",
       "                .geemap-colab .jupyter-button {\n",
       "                    --jp-layout-color3: var(--colab-primary-surface-color, white);\n",
       "                }\n",
       "            </style>\n",
       "            "
      ],
      "text/plain": [
       "<IPython.core.display.HTML object>"
      ]
     },
     "metadata": {},
     "output_type": "display_data"
    },
    {
     "ename": "AttributeError",
     "evalue": "module 'geemap' has no attribute 'ee_basemaps'",
     "output_type": "error",
     "traceback": [
      "\u001b[1;31m---------------------------------------------------------------------------\u001b[0m",
      "\u001b[1;31mAttributeError\u001b[0m                            Traceback (most recent call last)",
      "Cell \u001b[1;32mIn[27], line 1\u001b[0m\n\u001b[1;32m----> 1\u001b[0m basemaps \u001b[38;5;241m=\u001b[39m \u001b[43mgeemap\u001b[49m\u001b[38;5;241;43m.\u001b[39;49m\u001b[43mee_basemaps\u001b[49m\u001b[38;5;241m.\u001b[39mkeys()\n\u001b[0;32m      2\u001b[0m \u001b[38;5;28mprint\u001b[39m(basemaps)\n",
      "\u001b[1;31mAttributeError\u001b[0m: module 'geemap' has no attribute 'ee_basemaps'"
     ]
    }
   ],
   "source": [
    "basemaps = geemap.ee_basemaps.keys()\n",
    "print(basemaps)"
   ]
  },
  {
   "cell_type": "code",
   "execution_count": 26,
   "id": "0e3d977a-f4ed-4034-92ea-2e6a4ad5ee1d",
   "metadata": {},
   "outputs": [
    {
     "data": {
      "text/html": [
       "\n",
       "            <style>\n",
       "                .geemap-dark {\n",
       "                    --jp-widgets-color: white;\n",
       "                    --jp-widgets-label-color: white;\n",
       "                    --jp-ui-font-color1: white;\n",
       "                    --jp-layout-color2: #454545;\n",
       "                    background-color: #383838;\n",
       "                }\n",
       "\n",
       "                .geemap-dark .jupyter-button {\n",
       "                    --jp-layout-color3: #383838;\n",
       "                }\n",
       "\n",
       "                .geemap-colab {\n",
       "                    background-color: var(--colab-primary-surface-color, white);\n",
       "                }\n",
       "\n",
       "                .geemap-colab .jupyter-button {\n",
       "                    --jp-layout-color3: var(--colab-primary-surface-color, white);\n",
       "                }\n",
       "            </style>\n",
       "            "
      ],
      "text/plain": [
       "<IPython.core.display.HTML object>"
      ]
     },
     "metadata": {},
     "output_type": "display_data"
    },
    {
     "ename": "NameError",
     "evalue": "name 'basemaps' is not defined",
     "output_type": "error",
     "traceback": [
      "\u001b[1;31m---------------------------------------------------------------------------\u001b[0m",
      "\u001b[1;31mNameError\u001b[0m                                 Traceback (most recent call last)",
      "Cell \u001b[1;32mIn[26], line 1\u001b[0m\n\u001b[1;32m----> 1\u001b[0m \u001b[38;5;28;01mfor\u001b[39;00m basemap \u001b[38;5;129;01min\u001b[39;00m \u001b[43mbasemaps\u001b[49m:\n\u001b[0;32m      2\u001b[0m     \u001b[38;5;28mprint\u001b[39m(basemap)\n",
      "\u001b[1;31mNameError\u001b[0m: name 'basemaps' is not defined"
     ]
    }
   ],
   "source": [
    "for basemap in basemaps:\n",
    "    print(basemap)"
   ]
  },
  {
   "cell_type": "code",
   "execution_count": 29,
   "id": "30bfd544-e7ba-4d13-bed1-b9edc2c40d69",
   "metadata": {},
   "outputs": [
    {
     "data": {
      "text/html": [
       "\n",
       "            <style>\n",
       "                .geemap-dark {\n",
       "                    --jp-widgets-color: white;\n",
       "                    --jp-widgets-label-color: white;\n",
       "                    --jp-ui-font-color1: white;\n",
       "                    --jp-layout-color2: #454545;\n",
       "                    background-color: #383838;\n",
       "                }\n",
       "\n",
       "                .geemap-dark .jupyter-button {\n",
       "                    --jp-layout-color3: #383838;\n",
       "                }\n",
       "\n",
       "                .geemap-colab {\n",
       "                    background-color: var(--colab-primary-surface-color, white);\n",
       "                }\n",
       "\n",
       "                .geemap-colab .jupyter-button {\n",
       "                    --jp-layout-color3: var(--colab-primary-surface-color, white);\n",
       "                }\n",
       "            </style>\n",
       "            "
      ],
      "text/plain": [
       "<IPython.core.display.HTML object>"
      ]
     },
     "metadata": {},
     "output_type": "display_data"
    },
    {
     "data": {
      "application/vnd.jupyter.widget-view+json": {
       "model_id": "cc7db516c1f3444b97aacddb07ec73a1",
       "version_major": 2,
       "version_minor": 0
      },
      "text/plain": [
       "Map(center=[0, 0], controls=(ZoomControl(options=['position', 'zoom_in_text', 'zoom_in_title', 'zoom_out_text'…"
      ]
     },
     "execution_count": 29,
     "metadata": {},
     "output_type": "execute_result"
    }
   ],
   "source": [
    "Map.split_map(left_layer = 'NLCD 2016 CONUS Land Cover' , right_layer ='NLCD 2001 CONUS Land Cover')\n",
    "Map"
   ]
  },
  {
   "cell_type": "code",
   "execution_count": 8,
   "id": "55810133-6c04-4a8b-94fc-bb6adf39ef58",
   "metadata": {},
   "outputs": [
    {
     "data": {
      "text/html": [
       "\n",
       "            <style>\n",
       "                .geemap-dark {\n",
       "                    --jp-widgets-color: white;\n",
       "                    --jp-widgets-label-color: white;\n",
       "                    --jp-ui-font-color1: white;\n",
       "                    --jp-layout-color2: #454545;\n",
       "                    background-color: #383838;\n",
       "                }\n",
       "\n",
       "                .geemap-dark .jupyter-button {\n",
       "                    --jp-layout-color3: #383838;\n",
       "                }\n",
       "\n",
       "                .geemap-colab {\n",
       "                    background-color: var(--colab-primary-surface-color, white);\n",
       "                }\n",
       "\n",
       "                .geemap-colab .jupyter-button {\n",
       "                    --jp-layout-color3: var(--colab-primary-surface-color, white);\n",
       "                }\n",
       "            </style>\n",
       "            "
      ],
      "text/plain": [
       "<IPython.core.display.HTML object>"
      ]
     },
     "metadata": {},
     "output_type": "display_data"
    },
    {
     "data": {
      "application/vnd.jupyter.widget-view+json": {
       "model_id": "9c1a46c1ee7149da82577f2901ef10cd",
       "version_major": 2,
       "version_minor": 0
      },
      "text/plain": [
       "HBox(children=(VBox(), VBox()))"
      ]
     },
     "metadata": {},
     "output_type": "display_data"
    }
   ],
   "source": [
    "geemap.ee_search()"
   ]
  },
  {
   "cell_type": "code",
   "execution_count": 9,
   "id": "7c6c066b-70a9-4a48-9b38-8d58554a1d97",
   "metadata": {},
   "outputs": [
    {
     "data": {
      "text/html": [
       "\n",
       "            <style>\n",
       "                .geemap-dark {\n",
       "                    --jp-widgets-color: white;\n",
       "                    --jp-widgets-label-color: white;\n",
       "                    --jp-ui-font-color1: white;\n",
       "                    --jp-layout-color2: #454545;\n",
       "                    background-color: #383838;\n",
       "                }\n",
       "\n",
       "                .geemap-dark .jupyter-button {\n",
       "                    --jp-layout-color3: #383838;\n",
       "                }\n",
       "\n",
       "                .geemap-colab {\n",
       "                    background-color: var(--colab-primary-surface-color, white);\n",
       "                }\n",
       "\n",
       "                .geemap-colab .jupyter-button {\n",
       "                    --jp-layout-color3: var(--colab-primary-surface-color, white);\n",
       "                }\n",
       "            </style>\n",
       "            "
      ],
      "text/plain": [
       "<IPython.core.display.HTML object>"
      ]
     },
     "metadata": {},
     "output_type": "display_data"
    }
   ],
   "source": [
    "##geemap.upload()"
   ]
  },
  {
   "cell_type": "markdown",
   "id": "b190b70c-46e5-47c3-b2a7-96c21f099c87",
   "metadata": {},
   "source": [
    "Loading a Shapefile"
   ]
  },
  {
   "cell_type": "code",
   "execution_count": 25,
   "id": "4730dc06-013c-4fdd-a67e-7a7c9e5a6c8e",
   "metadata": {},
   "outputs": [
    {
     "data": {
      "text/html": [
       "\n",
       "            <style>\n",
       "                .geemap-dark {\n",
       "                    --jp-widgets-color: white;\n",
       "                    --jp-widgets-label-color: white;\n",
       "                    --jp-ui-font-color1: white;\n",
       "                    --jp-layout-color2: #454545;\n",
       "                    background-color: #383838;\n",
       "                }\n",
       "\n",
       "                .geemap-dark .jupyter-button {\n",
       "                    --jp-layout-color3: #383838;\n",
       "                }\n",
       "\n",
       "                .geemap-colab {\n",
       "                    background-color: var(--colab-primary-surface-color, white);\n",
       "                }\n",
       "\n",
       "                .geemap-colab .jupyter-button {\n",
       "                    --jp-layout-color3: var(--colab-primary-surface-color, white);\n",
       "                }\n",
       "            </style>\n",
       "            "
      ],
      "text/plain": [
       "<IPython.core.display.HTML object>"
      ]
     },
     "metadata": {},
     "output_type": "display_data"
    },
    {
     "name": "stdout",
     "output_type": "stream",
     "text": [
      "GeoPandas is required to perform reprojection of the data. See https://geopandas.org/install.html\n"
     ]
    },
    {
     "ename": "AttributeError",
     "evalue": "'str' object has no attribute 'filter'",
     "output_type": "error",
     "traceback": [
      "\u001b[1;31m---------------------------------------------------------------------------\u001b[0m",
      "\u001b[1;31mAttributeError\u001b[0m                            Traceback (most recent call last)",
      "Cell \u001b[1;32mIn[25], line 3\u001b[0m\n\u001b[0;32m      1\u001b[0m Shapefile_path \u001b[38;5;241m=\u001b[39m \u001b[38;5;124m'\u001b[39m\u001b[38;5;124mF:\u001b[39m\u001b[38;5;124m\\\u001b[39m\u001b[38;5;124mCollecting and Analysing Data\u001b[39m\u001b[38;5;124m\\\u001b[39m\u001b[38;5;124mMaps\u001b[39m\u001b[38;5;124m\\\u001b[39m\u001b[38;5;124mShapefiles\u001b[39m\u001b[38;5;124m\\\u001b[39m\u001b[38;5;124mSelection of Study Sites\u001b[39m\u001b[38;5;124m\\\u001b[39m\u001b[38;5;124mStudy_Sites_V1.shp\u001b[39m\u001b[38;5;124m'\u001b[39m\n\u001b[0;32m      2\u001b[0m Wards \u001b[38;5;241m=\u001b[39m geemap\u001b[38;5;241m.\u001b[39mshp_to_ee(Shapefile_path)\n\u001b[1;32m----> 3\u001b[0m roi \u001b[38;5;241m=\u001b[39m \u001b[43mShapefile_path\u001b[49m\u001b[38;5;241;43m.\u001b[39;49m\u001b[43mfilter\u001b[49m(ee\u001b[38;5;241m.\u001b[39mFilter\u001b[38;5;241m.\u001b[39meq(\u001b[38;5;124m'\u001b[39m\u001b[38;5;124mWardNm2020\u001b[39m\u001b[38;5;124m'\u001b[39m,\u001b[38;5;124m'\u001b[39m\u001b[38;5;124mLUUBWE\u001b[39m\u001b[38;5;124m'\u001b[39m));\n\u001b[0;32m      4\u001b[0m Map\u001b[38;5;241m.\u001b[39maddLayer(Wards, {}, \u001b[38;5;124m'\u001b[39m\u001b[38;5;124mShapefile\u001b[39m\u001b[38;5;124m'\u001b[39m)\n",
      "\u001b[1;31mAttributeError\u001b[0m: 'str' object has no attribute 'filter'"
     ]
    }
   ],
   "source": [
    "Shapefile_path = 'F:\\Collecting and Analysing Data\\Maps\\Shapefiles\\Selection of Study Sites\\Study_Sites_V1.shp'\n",
    "Wards = geemap.shp_to_ee(Shapefile_path)\n",
    "roi = Shapefile_path.filter(ee.Filter.eq('WardNm2020','LUUBWE'));\n",
    "Map.addLayer(Wards, {}, 'Shapefile')"
   ]
  },
  {
   "cell_type": "markdown",
   "id": "b03173e8-ea8d-4cbf-b495-1b36adb6959a",
   "metadata": {},
   "source": [
    "Image Collection"
   ]
  },
  {
   "cell_type": "code",
   "execution_count": 11,
   "id": "7a10340e-aafc-45c7-ad73-510e41888810",
   "metadata": {},
   "outputs": [
    {
     "data": {
      "text/html": [
       "\n",
       "            <style>\n",
       "                .geemap-dark {\n",
       "                    --jp-widgets-color: white;\n",
       "                    --jp-widgets-label-color: white;\n",
       "                    --jp-ui-font-color1: white;\n",
       "                    --jp-layout-color2: #454545;\n",
       "                    background-color: #383838;\n",
       "                }\n",
       "\n",
       "                .geemap-dark .jupyter-button {\n",
       "                    --jp-layout-color3: #383838;\n",
       "                }\n",
       "\n",
       "                .geemap-colab {\n",
       "                    background-color: var(--colab-primary-surface-color, white);\n",
       "                }\n",
       "\n",
       "                .geemap-colab .jupyter-button {\n",
       "                    --jp-layout-color3: var(--colab-primary-surface-color, white);\n",
       "                }\n",
       "            </style>\n",
       "            "
      ],
      "text/plain": [
       "<IPython.core.display.HTML object>"
      ]
     },
     "metadata": {},
     "output_type": "display_data"
    },
    {
     "ename": "NameError",
     "evalue": "name 'roi' is not defined",
     "output_type": "error",
     "traceback": [
      "\u001b[1;31m---------------------------------------------------------------------------\u001b[0m",
      "\u001b[1;31mNameError\u001b[0m                                 Traceback (most recent call last)",
      "Cell \u001b[1;32mIn[11], line 3\u001b[0m\n\u001b[0;32m      1\u001b[0m LUUBWE_sentinel \u001b[38;5;241m=\u001b[39m ee\u001b[38;5;241m.\u001b[39mImageCollection(\u001b[38;5;124m'\u001b[39m\u001b[38;5;124mCOPERNICUS/S2\u001b[39m\u001b[38;5;124m'\u001b[39m) \\\n\u001b[0;32m      2\u001b[0m \u001b[38;5;241m.\u001b[39mfilterDate(\u001b[38;5;124m'\u001b[39m\u001b[38;5;124m2018-01-01\u001b[39m\u001b[38;5;124m'\u001b[39m, \u001b[38;5;124m'\u001b[39m\u001b[38;5;124m2019-01-01\u001b[39m\u001b[38;5;124m'\u001b[39m) \\\n\u001b[1;32m----> 3\u001b[0m \u001b[38;5;241m.\u001b[39mfilterBounds(\u001b[43mroi\u001b[49m) \\\n\u001b[0;32m      4\u001b[0m \u001b[38;5;241m.\u001b[39msort (\u001b[38;5;124m'\u001b[39m\u001b[38;5;124mCLOUD_COVER\u001b[39m\u001b[38;5;124m'\u001b[39m) \\\n\u001b[0;32m      5\u001b[0m \u001b[38;5;241m.\u001b[39mfirst() \\\n\u001b[0;32m      6\u001b[0m \u001b[38;5;241m.\u001b[39mselect(\u001b[38;5;124m'\u001b[39m\u001b[38;5;124mB[1-7]\u001b[39m\u001b[38;5;124m'\u001b[39m)\n",
      "\u001b[1;31mNameError\u001b[0m: name 'roi' is not defined"
     ]
    }
   ],
   "source": [
    "LUUBWE_sentinel = ee.ImageCollection('COPERNICUS/S2') \\\n",
    ".filterDate('2018-01-01', '2019-01-01') \\\n",
    ".filterBounds(roi) \\\n",
    ".sort ('CLOUD_COVER') \\\n",
    ".first() \\\n",
    ".select('B[1-7]')"
   ]
  },
  {
   "cell_type": "code",
   "execution_count": 12,
   "id": "22a596cb-d285-4fd6-8625-cde6fa91f593",
   "metadata": {},
   "outputs": [
    {
     "data": {
      "text/html": [
       "\n",
       "            <style>\n",
       "                .geemap-dark {\n",
       "                    --jp-widgets-color: white;\n",
       "                    --jp-widgets-label-color: white;\n",
       "                    --jp-ui-font-color1: white;\n",
       "                    --jp-layout-color2: #454545;\n",
       "                    background-color: #383838;\n",
       "                }\n",
       "\n",
       "                .geemap-dark .jupyter-button {\n",
       "                    --jp-layout-color3: #383838;\n",
       "                }\n",
       "\n",
       "                .geemap-colab {\n",
       "                    background-color: var(--colab-primary-surface-color, white);\n",
       "                }\n",
       "\n",
       "                .geemap-colab .jupyter-button {\n",
       "                    --jp-layout-color3: var(--colab-primary-surface-color, white);\n",
       "                }\n",
       "            </style>\n",
       "            "
      ],
      "text/plain": [
       "<IPython.core.display.HTML object>"
      ]
     },
     "metadata": {},
     "output_type": "display_data"
    },
    {
     "ename": "NameError",
     "evalue": "name 'LUUBWE_sentinel' is not defined",
     "output_type": "error",
     "traceback": [
      "\u001b[1;31m---------------------------------------------------------------------------\u001b[0m",
      "\u001b[1;31mNameError\u001b[0m                                 Traceback (most recent call last)",
      "Cell \u001b[1;32mIn[12], line 1\u001b[0m\n\u001b[1;32m----> 1\u001b[0m \u001b[43mLUUBWE_sentinel\u001b[49m\u001b[38;5;241m.\u001b[39mget(\u001b[38;5;124m'\u001b[39m\u001b[38;5;124mCLOUD_COVER\u001b[39m\u001b[38;5;124m'\u001b[39m)\u001b[38;5;241m.\u001b[39mgetInfo()\n",
      "\u001b[1;31mNameError\u001b[0m: name 'LUUBWE_sentinel' is not defined"
     ]
    }
   ],
   "source": [
    "LUUBWE_sentinel.get('CLOUD_COVER').getInfo()"
   ]
  },
  {
   "cell_type": "markdown",
   "id": "594e49f4-b490-4fd2-b4df-83d9bf39646a",
   "metadata": {},
   "source": [
    "Shapefile Collection"
   ]
  },
  {
   "cell_type": "code",
   "execution_count": 15,
   "id": "970e0c7d-2e95-46eb-b966-8e48bac3cffb",
   "metadata": {
    "scrolled": true
   },
   "outputs": [
    {
     "data": {
      "text/html": [
       "\n",
       "            <style>\n",
       "                .geemap-dark {\n",
       "                    --jp-widgets-color: white;\n",
       "                    --jp-widgets-label-color: white;\n",
       "                    --jp-ui-font-color1: white;\n",
       "                    --jp-layout-color2: #454545;\n",
       "                    background-color: #383838;\n",
       "                }\n",
       "\n",
       "                .geemap-dark .jupyter-button {\n",
       "                    --jp-layout-color3: #383838;\n",
       "                }\n",
       "\n",
       "                .geemap-colab {\n",
       "                    background-color: var(--colab-primary-surface-color, white);\n",
       "                }\n",
       "\n",
       "                .geemap-colab .jupyter-button {\n",
       "                    --jp-layout-color3: var(--colab-primary-surface-color, white);\n",
       "                }\n",
       "            </style>\n",
       "            "
      ],
      "text/plain": [
       "<IPython.core.display.HTML object>"
      ]
     },
     "metadata": {},
     "output_type": "display_data"
    },
    {
     "ename": "AttributeError",
     "evalue": "'NoneType' object has no attribute 'filter'",
     "output_type": "error",
     "traceback": [
      "\u001b[1;31m---------------------------------------------------------------------------\u001b[0m",
      "\u001b[1;31mAttributeError\u001b[0m                            Traceback (most recent call last)",
      "Cell \u001b[1;32mIn[15], line 2\u001b[0m\n\u001b[0;32m      1\u001b[0m \u001b[38;5;66;03m##Wards = ee.FeatureCollection('Shapfile_Path');\u001b[39;00m\n\u001b[1;32m----> 2\u001b[0m roi \u001b[38;5;241m=\u001b[39m \u001b[43mWards\u001b[49m\u001b[38;5;241;43m.\u001b[39;49m\u001b[43mfilter\u001b[49m(ee\u001b[38;5;241m.\u001b[39mFilter\u001b[38;5;241m.\u001b[39meq(\u001b[38;5;124m'\u001b[39m\u001b[38;5;124mWardNm2020\u001b[39m\u001b[38;5;124m'\u001b[39m,\u001b[38;5;124m'\u001b[39m\u001b[38;5;124mLUUBWE\u001b[39m\u001b[38;5;124m'\u001b[39m));\n\u001b[0;32m      3\u001b[0m \u001b[38;5;66;03m##LUUBWE_boundary = Wards.filter(ee.Filter.eq('WardNm2020','LUUBWE'));\u001b[39;00m\n\u001b[0;32m      4\u001b[0m \u001b[38;5;66;03m#roi = ee.FeatureCollection(LUUBWE_boundary).geometry();\u001b[39;00m\n",
      "\u001b[1;31mAttributeError\u001b[0m: 'NoneType' object has no attribute 'filter'"
     ]
    }
   ],
   "source": [
    "##Wards = ee.FeatureCollection('Shapfile_Path');\n",
    "roi = Wards.filter(ee.Filter.eq('WardNm2020','LUUBWE'));\n",
    "##LUUBWE_boundary = Wards.filter(ee.Filter.eq('WardNm2020','LUUBWE'));\n",
    "#roi = ee.FeatureCollection(LUUBWE_boundary).geometry();"
   ]
  },
  {
   "cell_type": "markdown",
   "id": "0ebf84e1-892a-450d-9e5d-56d90fe5fd9e",
   "metadata": {},
   "source": [
    "Cliping the Image and adding it to the Map "
   ]
  },
  {
   "cell_type": "code",
   "execution_count": 23,
   "id": "c3770547-ff15-4bb5-b819-1b7400b54e8d",
   "metadata": {},
   "outputs": [
    {
     "data": {
      "text/html": [
       "\n",
       "            <style>\n",
       "                .geemap-dark {\n",
       "                    --jp-widgets-color: white;\n",
       "                    --jp-widgets-label-color: white;\n",
       "                    --jp-ui-font-color1: white;\n",
       "                    --jp-layout-color2: #454545;\n",
       "                    background-color: #383838;\n",
       "                }\n",
       "\n",
       "                .geemap-dark .jupyter-button {\n",
       "                    --jp-layout-color3: #383838;\n",
       "                }\n",
       "\n",
       "                .geemap-colab {\n",
       "                    background-color: var(--colab-primary-surface-color, white);\n",
       "                }\n",
       "\n",
       "                .geemap-colab .jupyter-button {\n",
       "                    --jp-layout-color3: var(--colab-primary-surface-color, white);\n",
       "                }\n",
       "            </style>\n",
       "            "
      ],
      "text/plain": [
       "<IPython.core.display.HTML object>"
      ]
     },
     "metadata": {},
     "output_type": "display_data"
    },
    {
     "ename": "NameError",
     "evalue": "name 'LUUBWE_sentinel' is not defined",
     "output_type": "error",
     "traceback": [
      "\u001b[1;31m---------------------------------------------------------------------------\u001b[0m",
      "\u001b[1;31mNameError\u001b[0m                                 Traceback (most recent call last)",
      "Cell \u001b[1;32mIn[23], line 8\u001b[0m\n\u001b[0;32m      1\u001b[0m rgbVis \u001b[38;5;241m=\u001b[39m {\u001b[38;5;124m'\u001b[39m\u001b[38;5;124mbands\u001b[39m\u001b[38;5;124m'\u001b[39m:[\u001b[38;5;124m'\u001b[39m\u001b[38;5;124mB4\u001b[39m\u001b[38;5;124m'\u001b[39m,\u001b[38;5;124m'\u001b[39m\u001b[38;5;124mB3\u001b[39m\u001b[38;5;124m'\u001b[39m,\u001b[38;5;124m'\u001b[39m\u001b[38;5;124mB2\u001b[39m\u001b[38;5;124m'\u001b[39m], \u001b[38;5;28mmin\u001b[39m: \u001b[38;5;241m0\u001b[39m, \u001b[38;5;28mmax\u001b[39m: \u001b[38;5;241m0.3\u001b[39m};\n\u001b[0;32m      2\u001b[0m \u001b[38;5;66;03m##LUUBWE_sentinel_median = LUUBWE_sentinel.median();\u001b[39;00m\n\u001b[0;32m      3\u001b[0m \u001b[38;5;66;03m##LUUBWE_sentinel_clip = LUUBWE_sentinel_median.clip(roi);\u001b[39;00m\n\u001b[0;32m      4\u001b[0m \u001b[38;5;66;03m##LUUBWE_sentinel_clip = LUUBWE_sentinel.clip(roi);\u001b[39;00m\n\u001b[0;32m      5\u001b[0m \u001b[38;5;66;03m##Map.addLayer(LUUBWE_boundary, {color:'red'});\u001b[39;00m\n\u001b[0;32m      6\u001b[0m \u001b[38;5;66;03m##Map.addLayer(LUUBWE_boundary);\u001b[39;00m\n\u001b[0;32m      7\u001b[0m \u001b[38;5;66;03m##Map.addLayer(LUUBWE_sentinel_clip, rgbVis);\u001b[39;00m\n\u001b[1;32m----> 8\u001b[0m Map\u001b[38;5;241m.\u001b[39maddLayer(\u001b[43mLUUBWE_sentinel\u001b[49m\u001b[38;5;241m.\u001b[39mclip(roi), rgbVis);\n\u001b[0;32m      9\u001b[0m Map\u001b[38;5;241m.\u001b[39mcenterObject(LUUBWE_sentinel_clip, \u001b[38;5;241m10\u001b[39m);\n",
      "\u001b[1;31mNameError\u001b[0m: name 'LUUBWE_sentinel' is not defined"
     ]
    }
   ],
   "source": [
    "rgbVis = {'bands':['B4','B3','B2'], min: 0, max: 0.3};\n",
    "##LUUBWE_sentinel_median = LUUBWE_sentinel.median();\n",
    "##LUUBWE_sentinel_clip = LUUBWE_sentinel_median.clip(roi);\n",
    "##LUUBWE_sentinel_clip = LUUBWE_sentinel.clip(roi);\n",
    "##Map.addLayer(LUUBWE_boundary, {color:'red'});\n",
    "##Map.addLayer(LUUBWE_boundary);\n",
    "##Map.addLayer(LUUBWE_sentinel_clip, rgbVis);\n",
    "Map.addLayer(LUUBWE_sentinel.clip(roi), rgbVis);\n",
    "Map.centerObject(LUUBWE_sentinel_clip, 10);"
   ]
  },
  {
   "cell_type": "markdown",
   "id": "620578c4-2939-4657-b514-b2e40c7ac5d9",
   "metadata": {},
   "source": [
    "Area of the shapefile"
   ]
  },
  {
   "cell_type": "code",
   "execution_count": 25,
   "id": "a8651ae9-0aec-4ee9-9a7a-051adc409089",
   "metadata": {},
   "outputs": [
    {
     "data": {
      "text/html": [
       "\n",
       "            <style>\n",
       "                .geemap-dark {\n",
       "                    --jp-widgets-color: white;\n",
       "                    --jp-widgets-label-color: white;\n",
       "                    --jp-ui-font-color1: white;\n",
       "                    --jp-layout-color2: #454545;\n",
       "                    background-color: #383838;\n",
       "                }\n",
       "\n",
       "                .geemap-dark .jupyter-button {\n",
       "                    --jp-layout-color3: #383838;\n",
       "                }\n",
       "\n",
       "                .geemap-colab {\n",
       "                    background-color: var(--colab-primary-surface-color, white);\n",
       "                }\n",
       "\n",
       "                .geemap-colab .jupyter-button {\n",
       "                    --jp-layout-color3: var(--colab-primary-surface-color, white);\n",
       "                }\n",
       "            </style>\n",
       "            "
      ],
      "text/plain": [
       "<IPython.core.display.HTML object>"
      ]
     },
     "metadata": {},
     "output_type": "display_data"
    },
    {
     "ename": "NameError",
     "evalue": "name 'LUUBWE_boundary' is not defined",
     "output_type": "error",
     "traceback": [
      "\u001b[1;31m---------------------------------------------------------------------------\u001b[0m",
      "\u001b[1;31mNameError\u001b[0m                                 Traceback (most recent call last)",
      "Cell \u001b[1;32mIn[25], line 1\u001b[0m\n\u001b[1;32m----> 1\u001b[0m LUUBWE_Area \u001b[38;5;241m=\u001b[39m  \u001b[43mLUUBWE_boundary\u001b[49m\u001b[38;5;241m.\u001b[39mgeometry()\u001b[38;5;241m.\u001b[39marea();\n\u001b[0;32m      2\u001b[0m LUUBWE_Area_sqKm \u001b[38;5;241m=\u001b[39m ee\u001b[38;5;241m.\u001b[39mNumber(LUUBWE_Area)\u001b[38;5;241m.\u001b[39mdivide(\u001b[38;5;241m1e6\u001b[39m);\n\u001b[0;32m      3\u001b[0m \u001b[38;5;28mprint\u001b[39m( LUUBWE_Area_sqKm);\n",
      "\u001b[1;31mNameError\u001b[0m: name 'LUUBWE_boundary' is not defined"
     ]
    }
   ],
   "source": [
    "LUUBWE_Area =  LUUBWE_boundary.geometry().area();\n",
    "LUUBWE_Area_sqKm = ee.Number(LUUBWE_Area).divide(1e6);\n",
    "print( LUUBWE_Area_sqKm);"
   ]
  },
  {
   "cell_type": "markdown",
   "id": "28c2ceec-ac64-4ea3-873f-dfb5553499d6",
   "metadata": {},
   "source": [
    "Supervised classification"
   ]
  },
  {
   "cell_type": "code",
   "execution_count": null,
   "id": "2ab136fc-07f7-4e3a-984d-adf226cc0e13",
   "metadata": {},
   "outputs": [],
   "source": []
  },
  {
   "cell_type": "markdown",
   "id": "d4e63282-9004-46f6-bc98-314fc2e17bec",
   "metadata": {},
   "source": [
    "Merge all the training points"
   ]
  },
  {
   "cell_type": "code",
   "execution_count": null,
   "id": "1ae090f0-6c90-4017-93f6-c981a4f44296",
   "metadata": {},
   "outputs": [],
   "source": [
    "var lable = \"Class\";\n",
    "var sample = Waterbody.merge(Builtup).merge(Cropland).merge(Vegetation).merge(Bareland);\n",
    "var bands = ['B2','B3','B4','B5','B6','B7'];\n",
    "var training = LUUBWE_sentinel_clip.select(bands).sampleRegions({\n",
    "  collection: sample, \n",
    "  properties: ['Class'], \n",
    "  scale: 30\n",
    "});\n",
    "print('training', training);"
   ]
  },
  {
   "cell_type": "markdown",
   "id": "31a99239-f75d-4641-8a64-fe6c74a1206b",
   "metadata": {},
   "source": [
    "Training dataset divided in two ways\n",
    "Traing the model: 80%\n",
    "Test the model: 20% data for testing"
   ]
  },
  {
   "cell_type": "code",
   "execution_count": null,
   "id": "50fd5a3a-6166-4047-a68b-7bbe9f2a02b3",
   "metadata": {},
   "outputs": [],
   "source": [
    "var dataset = training.randomColumn();\n",
    "var trainset = dataset.filter(ee.Filter.lessThan('random', 0.8));\n",
    "var testset = dataset.filter(ee.Filter.greaterThanOrEquals('random', 0.8));\n"
   ]
  },
  {
   "cell_type": "markdown",
   "id": "f7c0ae47-a6b6-444c-b375-adc3e399be76",
   "metadata": {},
   "source": [
    "Create the Model CART"
   ]
  },
  {
   "cell_type": "code",
   "execution_count": null,
   "id": "cbed9bbd-372d-488d-b3e8-9373d08aace6",
   "metadata": {},
   "outputs": [],
   "source": [
    "var classifier = ee.Classifier.smileCart().train(trainset, lable, bands);"
   ]
  },
  {
   "cell_type": "markdown",
   "id": "2720f476-649c-4197-a5e4-e9ae842c6ecc",
   "metadata": {},
   "source": [
    "Classify the sentinel image"
   ]
  },
  {
   "cell_type": "code",
   "execution_count": null,
   "id": "c5dbb12e-43e6-436a-bb9b-f63cdaf0aa81",
   "metadata": {},
   "outputs": [],
   "source": [
    "var classified = LUUBWE_sentinel_clip.classify(classifier);\n",
    "print('classified', classified);"
   ]
  },
  {
   "cell_type": "markdown",
   "id": "cba8efd2-d2d1-44e7-a430-5789ee624f38",
   "metadata": {},
   "source": [
    "Visualisation of the classification"
   ]
  },
  {
   "cell_type": "code",
   "execution_count": null,
   "id": "026d487f-2927-47f4-bcf5-7672854ec758",
   "metadata": {},
   "outputs": [],
   "source": [
    "var landcoverpalette = [\n",
    "  'blue',\n",
    "  'red',\n",
    "  'yellow',\n",
    "  'green',\n",
    "  'grey',\n",
    "  ];\n",
    "  \n",
    "Map.addLayer(classified.clip(roi),{'min': 0, 'max': 4, 'palette': landcoverpalette});"
   ]
  },
  {
   "cell_type": "markdown",
   "id": "a6bfcb15-bdd0-41f6-a722-1f7c8fa380d7",
   "metadata": {},
   "source": [
    "Get information about the trained classifier."
   ]
  },
  {
   "cell_type": "code",
   "execution_count": null,
   "id": "07f01113-0ab6-42c4-ac57-f8cbb567f101",
   "metadata": {},
   "outputs": [],
   "source": [
    "print('Results of trained classifier', classifier.explain());"
   ]
  },
  {
   "cell_type": "markdown",
   "id": "1727e932-000b-437f-9f8f-c08c3e1d153e",
   "metadata": {},
   "source": [
    "Acuracy assement\n",
    "\n",
    "Get a confusion matrix and overall accuracy for the training sample."
   ]
  },
  {
   "cell_type": "code",
   "execution_count": null,
   "id": "108711fc-35cb-4b4e-b9d0-6ef523bd06b0",
   "metadata": {},
   "outputs": [],
   "source": [
    "var trainAccuracy = classifier.confusionMatrix();\n",
    "print('Training error matrix', trainAccuracy);\n",
    "print('Training overall accuracy', trainAccuracy.accuracy());"
   ]
  },
  {
   "cell_type": "markdown",
   "id": "565af8db-405e-4aa0-825f-33fb74012f07",
   "metadata": {},
   "source": [
    "Get a confusion matrix and overall accuracy for the validation sample."
   ]
  },
  {
   "cell_type": "code",
   "execution_count": null,
   "id": "ac494585-c520-4500-89cd-d2268f6575c7",
   "metadata": {},
   "outputs": [],
   "source": [
    "testset = trainset.classify(classifier);\n",
    "var validationAccuracy = testset.errorMatrix(lable, 'classification');\n",
    "print('Validation error matrix', validationAccuracy);\n",
    "print('Validation accuracy', validationAccuracy.accuracy());"
   ]
  },
  {
   "cell_type": "markdown",
   "id": "a059c1e3-35ba-4c6b-a489-c012e03ac6cb",
   "metadata": {},
   "source": [
    "Calculating Area by Class by Reagion\n",
    "Calculating the Nested Group area of classes"
   ]
  },
  {
   "cell_type": "code",
   "execution_count": null,
   "id": "ececff12-d65c-4a64-889f-b994c8067d6b",
   "metadata": {},
   "outputs": [],
   "source": [
    "var areaImage = ee.Image.pixelArea().addBands(classified);\n",
    "var areas = areaImage.reduceRegion({\n",
    "  reducer: ee.Reducer.sum().group({\n",
    "    groupField:1,\n",
    "    groupName: 'class'}), \n",
    "    geometry: roi,\n",
    "    scale: 10,\n",
    "    maxPixels: 1e13});\n",
    "\n",
    "print(areaImage);"
   ]
  },
  {
   "cell_type": "markdown",
   "id": "d49572b5-a7d9-48ee-b80c-414742c86221",
   "metadata": {},
   "source": [
    "Flatening the Nested Gropus areas of classes"
   ]
  },
  {
   "cell_type": "code",
   "execution_count": null,
   "id": "f48d94ca-f9e2-4553-afee-58cb9863cef9",
   "metadata": {},
   "outputs": [],
   "source": [
    "var classAreas = ee.List(areas.get('groups'));\n",
    "var classAreaLists = classAreas.map(function(item){\n",
    "  var areaDic = ee.Dictionary(item)\n",
    "  var classNumber = ee.Number(areaDic.get('class')).format()\n",
    "  var area = ee.Number(areaDic.get('sum')).divide(1e6).round()\n",
    "  return ee.List([classNumber, area])\n",
    "});\n",
    "\n",
    "var results = ee.Dictionary(classAreaLists.flatten());\n",
    "print(results);"
   ]
  },
  {
   "cell_type": "markdown",
   "id": "0feae633-e212-41b1-b8ef-bb5cd8e0a820",
   "metadata": {},
   "source": [
    "Export Image"
   ]
  },
  {
   "cell_type": "code",
   "execution_count": null,
   "id": "aba6ec20-cc44-4ff6-a34b-8399d4d3941d",
   "metadata": {},
   "outputs": [],
   "source": [
    "Export.image.toDrive({\n",
    "image:classified,\n",
    "description: 'LUUBWE_sentinel_classified_2019',\n",
    "fileFormat: 'GeoTIFF',\n",
    "scale: 10,\n",
    "region: roi,\n",
    "});"
   ]
  },
  {
   "cell_type": "markdown",
   "id": "8b5227de-4a54-4a50-b949-b7ece7fb1bf7",
   "metadata": {},
   "source": [
    "Export table to your google drive"
   ]
  },
  {
   "cell_type": "code",
   "execution_count": null,
   "id": "28c39368-0b70-4785-90fc-a2c413941990",
   "metadata": {},
   "outputs": [],
   "source": [
    "Export.table.toDrive({\n",
    "        collection: results,\n",
    "        description: 'classAreaLists', \n",
    "        folder: 'EE',\n",
    "    fileNamePrefix: 'classAreas', \n",
    "    fileFormat: 'CSV'\n",
    "    });"
   ]
  }
 ],
 "metadata": {
  "kernelspec": {
   "display_name": "GoogleEarthEngine_Py_3_8",
   "language": "python",
   "name": "googleearthengine_py_3_8"
  },
  "language_info": {
   "codemirror_mode": {
    "name": "ipython",
    "version": 3
   },
   "file_extension": ".py",
   "mimetype": "text/x-python",
   "name": "python",
   "nbconvert_exporter": "python",
   "pygments_lexer": "ipython3",
   "version": "3.8.18"
  },
  "widgets": {
   "application/vnd.jupyter.widget-state+json": {
    "state": {
     "008ec109b7e04250a239e1057ef23681": {
      "model_module": "jupyter-leaflet",
      "model_module_version": "^0.18",
      "model_name": "LeafletMapModel",
      "state": {
       "_model_module_version": "^0.18",
       "_view_module_version": "^0.18",
       "controls": [
        "IPY_MODEL_4a736c2ae3f742e5a22556585fabc1bf",
        "IPY_MODEL_a64b27e495554e3f8ac0dbebfbad147c",
        "IPY_MODEL_fce6edb025d44096b083ab747f29c136",
        "IPY_MODEL_a374df28fef84434a241e53585655026",
        "IPY_MODEL_0a5dea383fab408698b7e74c9862398e",
        "IPY_MODEL_5c7b7762302447698ceeae7485b4ee86",
        "IPY_MODEL_317407d58c2e46e1bbb6f7959832aeda",
        "IPY_MODEL_378443d063fd496f9adb61471297ea36"
       ],
       "default_style": "IPY_MODEL_be18e07eb53e459e973e4971cf58dc79",
       "dragging_style": "IPY_MODEL_0a9c59707b5a450cbab15c49b5443052",
       "fullscreen": false,
       "interpolation": "bilinear",
       "layers": [
        "IPY_MODEL_e486e2df6f1b4efc9ced4397670a732f",
        "IPY_MODEL_5fca0f4ffa3e4353af951562639893df"
       ],
       "layout": "IPY_MODEL_cd71a257e5fc4f64ad79f6ddf8f39dc4",
       "max_zoom": 24,
       "modisdate": "2024-03-07",
       "options": [
        "bounce_at_zoom_limits",
        "box_zoom",
        "center",
        "close_popup_on_click",
        "double_click_zoom",
        "dragging",
        "fullscreen",
        "inertia",
        "inertia_deceleration",
        "inertia_max_speed",
        "interpolation",
        "keyboard",
        "keyboard_pan_offset",
        "keyboard_zoom_offset",
        "max_zoom",
        "min_zoom",
        "prefer_canvas",
        "scroll_wheel_zoom",
        "tap",
        "tap_tolerance",
        "touch_zoom",
        "world_copy_jump",
        "zoom",
        "zoom_animation_threshold",
        "zoom_delta",
        "zoom_snap"
       ],
       "prefer_canvas": false,
       "scroll_wheel_zoom": true,
       "style": "IPY_MODEL_b572833e49cf4dc193b2917be2e633e9",
       "window_url": "http://localhost:8888/lab",
       "zoom": 2
      }
     },
     "00dcf3f9da1145b89e08eb402231d442": {
      "model_module": "ipytree",
      "model_module_version": "^0.2",
      "model_name": "NodeModel",
      "state": {
       "_id": "4b3db124-d41b-4006-bec5-cd04d961f9f1",
       "_model_module_version": "^0.2",
       "_view_module_version": "^0.2",
       "icon": "file",
       "name": "01_hello_world.py"
      }
     },
     "015823b3d4bc49838895f42f6efc4545": {
      "model_module": "jupyter-leaflet",
      "model_module_version": "^0.18",
      "model_name": "LeafletZoomControlModel",
      "state": {
       "_model_module_version": "^0.18",
       "_view_module_version": "^0.18",
       "options": [
        "position",
        "zoom_in_text",
        "zoom_in_title",
        "zoom_out_text",
        "zoom_out_title"
       ]
      }
     },
     "016e456106244560a6cf2672ea3e7884": {
      "model_module": "ipytree",
      "model_module_version": "^0.2",
      "model_name": "NodeModel",
      "state": {
       "_id": "5aed32c0-4f6e-431b-b63c-fa11c0d58812",
       "_model_module_version": "^0.2",
       "_view_module_version": "^0.2",
       "icon": "file",
       "name": "clipped_composite.py"
      }
     },
     "018182318b994f1cbbc9347f049e18aa": {
      "model_module": "@jupyter-widgets/controls",
      "model_module_version": "2.0.0",
      "model_name": "ToggleButtonStyleModel",
      "state": {
       "description_width": "",
       "font_family": null,
       "font_size": null,
       "font_style": null,
       "font_variant": null,
       "font_weight": null,
       "text_color": null,
       "text_decoration": null
      }
     },
     "01aac547b3174c978816e4210aab7258": {
      "model_module": "ipytree",
      "model_module_version": "^0.2",
      "model_name": "NodeModel",
      "state": {
       "_id": "a463ebd4-7f4f-41dd-a4cb-4128f03b211f",
       "_model_module_version": "^0.2",
       "_view_module_version": "^0.2",
       "name": "Gena",
       "nodes": [
        "IPY_MODEL_ad8aaac2482f47df97d1f5ec3d121a5e",
        "IPY_MODEL_1b9c160a98bf4bbcb6b478494164e426",
        "IPY_MODEL_3763db7581a54e9b9b9ba30b219207a0",
        "IPY_MODEL_691fde2f746b434682c4466081fbaa44",
        "IPY_MODEL_f9e3f14d32d44d47bd20dda243892f21",
        "IPY_MODEL_020c570c5a104b64b6100930b2699fdd",
        "IPY_MODEL_ae05cd24ba3145f8a3a76b4b409a2c38",
        "IPY_MODEL_a8338288f9ed4ba4974c9457f1e139db",
        "IPY_MODEL_53db306f19044f00aedf894ca586b380",
        "IPY_MODEL_2460d9a12945439bbaefee71548859f5",
        "IPY_MODEL_c5fb9a4745cf48ca9129fbded03db7f5",
        "IPY_MODEL_0d35f3c5b63844dd95a3b483ab64bff0",
        "IPY_MODEL_24949cfc973c4d0c99c0b0988d6e715d",
        "IPY_MODEL_dd1f7953e98d4b48bef0fb5eeb29f4ab"
       ],
       "opened": false
      }
     },
     "01b37ff544604c5b8333ca2771a07313": {
      "model_module": "@jupyter-widgets/controls",
      "model_module_version": "2.0.0",
      "model_name": "ToggleButtonModel",
      "state": {
       "button_style": "primary",
       "icon": "question",
       "layout": "IPY_MODEL_edf5f181d6f54b8fb1d767cc1228c51d",
       "style": "IPY_MODEL_ab09a1d10f1941468bd846dd9cfe43c9",
       "tooltip": "Get help"
      }
     },
     "020c570c5a104b64b6100930b2699fdd": {
      "model_module": "ipytree",
      "model_module_version": "^0.2",
      "model_name": "NodeModel",
      "state": {
       "_id": "05e9fc7c-82f5-482a-8149-90a61c99f328",
       "_model_module_version": "^0.2",
       "_view_module_version": "^0.2",
       "icon": "file",
       "name": "map_center_object.py"
      }
     },
     "021c85b7342f42a9b14fc3c39750ba28": {
      "model_module": "ipytree",
      "model_module_version": "^0.2",
      "model_name": "NodeModel",
      "state": {
       "_id": "5703f537-d214-4b89-bae4-b85844f9ff34",
       "_model_module_version": "^0.2",
       "_view_module_version": "^0.2",
       "icon": "file",
       "name": "filter_range_contains.py"
      }
     },
     "02765d74a83b47f1a896e4e6ecb9484e": {
      "model_module": "ipytree",
      "model_module_version": "^0.2",
      "model_name": "NodeModel",
      "state": {
       "_id": "0446b01a-7ad0-479b-a2b7-a2130ee3d1fb",
       "_model_module_version": "^0.2",
       "_view_module_version": "^0.2",
       "name": "Image",
       "nodes": [
        "IPY_MODEL_1eb84e5883154ee5a622e13f02f78d08",
        "IPY_MODEL_19fe849573754bb88b5e49f738f89b74",
        "IPY_MODEL_6eaf202a43d945068174eb2f83381d18",
        "IPY_MODEL_be559d46fe8248c195161af652165732",
        "IPY_MODEL_4d60018f3d2d4f0b83a1b31a2b80155a",
        "IPY_MODEL_4c0601a7601347efb2e1fff61a1dd393",
        "IPY_MODEL_38afb52983794935b89a91aea85baa0b",
        "IPY_MODEL_2ef88a85ba4c4fe3ae1766d1529f4fc2",
        "IPY_MODEL_f55793e5c9324391928616d7daa81bd5",
        "IPY_MODEL_35d49e6ab7a5457690410e0b387d1c60",
        "IPY_MODEL_de6489e5d2764da8b70dbcfa5e4f0c15",
        "IPY_MODEL_b5bdc618396346b8a5a1b3fff95cd812",
        "IPY_MODEL_45bbd2b67a7148ce92d8e5172bcac654",
        "IPY_MODEL_4b1793ba84ec42e08a4740fd6bccad60",
        "IPY_MODEL_8bde9521fced4876b42588f63058fe64",
        "IPY_MODEL_af3462cfc82e4752bf050d4b16183984",
        "IPY_MODEL_c051d9af48e14c9ba2db426c60ea342a",
        "IPY_MODEL_8448ab5008f140c59ea0086a2ea648d8",
        "IPY_MODEL_ce8296a6fd834b64a41dd7c8b28aaeec",
        "IPY_MODEL_185983f478c74d02a2730f2b46e0711d",
        "IPY_MODEL_6ae3d9273d674c72a8b22867c541115d",
        "IPY_MODEL_d72b9af5f8c940ffa3af7c0127569059",
        "IPY_MODEL_5250c31fc52a4375a5f2174061516711",
        "IPY_MODEL_b3d4d87600c54972827b16905fcc9414",
        "IPY_MODEL_0ca0c186501548a9ac2b73188ff9e5b2",
        "IPY_MODEL_4c602963854849c5ad136fca07eb1026",
        "IPY_MODEL_3c61806712e44b62890e49ddf623aadc",
        "IPY_MODEL_cf49a77c0edb4eeebce9508ed7067268",
        "IPY_MODEL_2186942794184ca793d8089bdec77d78",
        "IPY_MODEL_df99507b5cfb41a1939585e9eef39a72",
        "IPY_MODEL_7517acb021d84412a454edb1b166a026",
        "IPY_MODEL_3612f2a8ae5e40c1bbde9ae98d575081",
        "IPY_MODEL_9897357dd6d24416a36232eaaddbcca1",
        "IPY_MODEL_572f01d05d174ac1bcae96d56ec23c15",
        "IPY_MODEL_8b3c3e16d72749df82fe55e99aa4457b",
        "IPY_MODEL_658047b649224851851375e2c3aa0ba7",
        "IPY_MODEL_638f303cda144f3c8676d391f2b69b40",
        "IPY_MODEL_16e1b96d7bc84ecea24e52b63154ea84",
        "IPY_MODEL_63df458368fa44b280b25644fd60f9f0",
        "IPY_MODEL_9808fb51b4124c3ebf90b08d48fdb280",
        "IPY_MODEL_14816915f5df466695f3a5ab59af02b1",
        "IPY_MODEL_d20d9cde0fc24d22a9c3bba269a34112",
        "IPY_MODEL_20137988c0b847779fe5eb7a04db4597",
        "IPY_MODEL_20b708d2785e4db2886f0649411c94fb",
        "IPY_MODEL_67a650a2425d472a952ae56a702efeb9",
        "IPY_MODEL_c9b9be1451574b208fe240fc704428f1",
        "IPY_MODEL_6c3b19e0de0a435f92dd1048362692be",
        "IPY_MODEL_4632e0bcf2444f629a2ef433aba33070",
        "IPY_MODEL_c8e36eaf7ebd441eaf0f0601096fae51",
        "IPY_MODEL_ca9f1127f75f416f92798a797fa799e0",
        "IPY_MODEL_cfa137eff2e94a48b647841211c6ccbe",
        "IPY_MODEL_8fdbb5c2dbe947a79e35911ec55d8442",
        "IPY_MODEL_c6de886b4bc54ed6870b2cc770e753b9",
        "IPY_MODEL_abbd0e86af834b269de664255a294e54",
        "IPY_MODEL_9b6ca1766cfd483f9444cee20bf553c8"
       ],
       "opened": false
      }
     },
     "029551208b2e4fefb2de270eef5702a8": {
      "model_module": "@jupyter-widgets/base",
      "model_module_version": "2.0.0",
      "model_name": "LayoutModel",
      "state": {}
     },
     "02e7eeefee634f04abd92f5106f2b2bc": {
      "model_module": "ipytree",
      "model_module_version": "^0.2",
      "model_name": "NodeModel",
      "state": {
       "_id": "5216c524-4f73-4504-9546-07bfaffb4ee3",
       "_model_module_version": "^0.2",
       "_view_module_version": "^0.2",
       "icon": "file",
       "name": "usgs_watershed_boundary.py"
      }
     },
     "0308c94fc7464fd08bff834a7353fff5": {
      "model_module": "@jupyter-widgets/controls",
      "model_module_version": "2.0.0",
      "model_name": "ToggleButtonModel",
      "state": {
       "button_style": "primary",
       "icon": "info-circle",
       "layout": "IPY_MODEL_06d5215ef617485cb7a87ac377184dd3",
       "style": "IPY_MODEL_563728348ab64d469a13f4893be1a83f",
       "tooltip": "Get COG/STAC pixel value"
      }
     },
     "035a01b013334f5f83fc16f0bfd2a054": {
      "model_module": "jupyter-leaflet",
      "model_module_version": "^0.18",
      "model_name": "LeafletWidgetControlModel",
      "state": {
       "_model_module": "jupyter-leaflet",
       "_model_module_version": "^0.18",
       "_view_count": null,
       "_view_module": "jupyter-leaflet",
       "_view_module_version": "^0.18",
       "options": [
        "position",
        "transparent_bg"
       ],
       "position": "topleft",
       "widget": "IPY_MODEL_3425b80cbda748119023fdf5cc0a1df3"
      }
     },
     "038f76eb8c2a4cf0b3e73f0e605fb4db": {
      "model_module": "@jupyter-widgets/controls",
      "model_module_version": "2.0.0",
      "model_name": "DescriptionStyleModel",
      "state": {
       "description_width": ""
      }
     },
     "0448a1980bf845f1a9b6b5a487a307eb": {
      "model_module": "@jupyter-widgets/base",
      "model_module_version": "2.0.0",
      "model_name": "LayoutModel",
      "state": {}
     },
     "049c6b15623b41a694dff887fc254a5b": {
      "model_module": "@jupyter-widgets/controls",
      "model_module_version": "2.0.0",
      "model_name": "ToggleButtonStyleModel",
      "state": {
       "description_width": "",
       "font_family": null,
       "font_size": null,
       "font_style": null,
       "font_variant": null,
       "font_weight": null,
       "text_color": null,
       "text_decoration": null
      }
     },
     "04befccbb3c340919c27f3e12c9ebe2f": {
      "model_module": "@jupyter-widgets/base",
      "model_module_version": "2.0.0",
      "model_name": "LayoutModel",
      "state": {
       "height": "28px",
       "padding": "0px 0px 0px 4px",
       "width": "28px"
      }
     },
     "04dea76a538b49558c526941f7817b3e": {
      "model_module": "@jupyter-widgets/base",
      "model_module_version": "2.0.0",
      "model_name": "LayoutModel",
      "state": {}
     },
     "05c2004ba1aa4e0e83c0fc6af533103a": {
      "model_module": "@jupyter-widgets/controls",
      "model_module_version": "2.0.0",
      "model_name": "ToggleButtonStyleModel",
      "state": {
       "description_width": "",
       "font_family": null,
       "font_size": null,
       "font_style": null,
       "font_variant": null,
       "font_weight": null,
       "text_color": null,
       "text_decoration": null
      }
     },
     "05d3e81f837e4e5b8c78cc5fbcc9e81b": {
      "model_module": "@jupyter-widgets/controls",
      "model_module_version": "2.0.0",
      "model_name": "ToggleButtonModel",
      "state": {
       "button_style": "primary",
       "icon": "google",
       "layout": "IPY_MODEL_2fc1f9239d414af1a9eb600147098aac",
       "style": "IPY_MODEL_7c4e3c473b50438ca69fd7ae3afc8ff8",
       "tooltip": "GEE Toolbox for cloud computing"
      }
     },
     "0623b0915c474255bff8f6fd59d57729": {
      "model_module": "ipytree",
      "model_module_version": "^0.2",
      "model_name": "NodeModel",
      "state": {
       "_id": "c37dada9-96c4-434b-ba9e-51138c383012",
       "_model_module_version": "^0.2",
       "_view_module_version": "^0.2",
       "icon": "file",
       "name": "reverse_mask.py"
      }
     },
     "0628df6bf51e44808093b57a02090095": {
      "model_module": "@jupyter-widgets/base",
      "model_module_version": "2.0.0",
      "model_name": "LayoutModel",
      "state": {}
     },
     "06498a70168747c1ad88ec99349b5f9e": {
      "model_module": "ipytree",
      "model_module_version": "^0.2",
      "model_name": "NodeModel",
      "state": {
       "_id": "712d2dfd-19ed-4352-a86e-f5146848a905",
       "_model_module_version": "^0.2",
       "_view_module_version": "^0.2",
       "icon": "file",
       "name": "landsat_wrs2_grid.py"
      }
     },
     "06a9169792794ffbbda769a98e8ef665": {
      "model_module": "@jupyter-widgets/base",
      "model_module_version": "2.0.0",
      "model_name": "LayoutModel",
      "state": {
       "height": "auto",
       "padding": "0px 0px 0px 4px",
       "width": "auto"
      }
     },
     "06d5215ef617485cb7a87ac377184dd3": {
      "model_module": "@jupyter-widgets/base",
      "model_module_version": "2.0.0",
      "model_name": "LayoutModel",
      "state": {
       "height": "auto",
       "padding": "0px 0px 0px 4px",
       "width": "auto"
      }
     },
     "07526697c8e04becb3dc84228725fedd": {
      "model_module": "@jupyter-widgets/controls",
      "model_module_version": "2.0.0",
      "model_name": "ToggleButtonModel",
      "state": {
       "icon": "wrench",
       "layout": "IPY_MODEL_b36494af40344aa191266181686cdc32",
       "style": "IPY_MODEL_f0d89fe2057a4c24aae3e7539f841386",
       "tooltip": "Toolbar"
      }
     },
     "079aa685874e4ba0bf9c2ce62117c26b": {
      "model_module": "ipytree",
      "model_module_version": "^0.2",
      "model_name": "NodeModel",
      "state": {
       "_id": "b1e68eef-f381-4e1a-8565-0e786971977b",
       "_model_module_version": "^0.2",
       "_view_module_version": "^0.2",
       "icon": "file",
       "name": "remove_colors.py"
      }
     },
     "07a1395446764110885fb6bad5cc1bd2": {
      "model_module": "ipyevents",
      "model_module_version": "2.0.2",
      "model_name": "EventModel",
      "state": {
       "_supported_key_events": [
        "keydown",
        "keyup"
       ],
       "_supported_mouse_events": [
        "click",
        "auxclick",
        "dblclick",
        "mouseenter",
        "mouseleave",
        "mousedown",
        "mouseup",
        "mousemove",
        "wheel",
        "contextmenu",
        "dragstart",
        "drag",
        "dragend",
        "dragenter",
        "dragover",
        "dragleave",
        "drop"
       ],
       "_supported_touch_events": [
        "touchstart",
        "touchend",
        "touchmove",
        "touchcancel"
       ],
       "_view_module": "@jupyter-widgets/controls",
       "source": "IPY_MODEL_e5229e2b33a144abbfa9209600a1123a",
       "throttle_or_debounce": "",
       "watched_events": [
        "mouseenter",
        "mouseleave"
       ],
       "xy_coordinate_system": ""
      }
     },
     "07ef005622224fe8bfa06357eca0c59d": {
      "model_module": "@jupyter-widgets/base",
      "model_module_version": "2.0.0",
      "model_name": "LayoutModel",
      "state": {
       "height": "28px",
       "padding": "0px 0px 0px 4px",
       "width": "28px"
      }
     },
     "0811a80c11a146ee8f9203b9d111de06": {
      "model_module": "@jupyter-widgets/base",
      "model_module_version": "2.0.0",
      "model_name": "LayoutModel",
      "state": {
       "width": "32px"
      }
     },
     "086260ca70b2480facc4ec87c864c143": {
      "model_module": "jupyter-leaflet",
      "model_module_version": "^0.18",
      "model_name": "LeafletWidgetControlModel",
      "state": {
       "_model_module": "jupyter-leaflet",
       "_model_module_version": "^0.18",
       "_view_count": null,
       "_view_module": "jupyter-leaflet",
       "_view_module_version": "^0.18",
       "options": [
        "position",
        "transparent_bg"
       ],
       "position": "topleft",
       "widget": "IPY_MODEL_f176bf54501d4757ac51511fc084aa65"
      }
     },
     "08855f749837423fa36661afab8a204a": {
      "model_module": "@jupyter-widgets/base",
      "model_module_version": "2.0.0",
      "model_name": "LayoutModel",
      "state": {}
     },
     "08d993aadee14c23ba7dbaff2749bbeb": {
      "model_module": "@jupyter-widgets/controls",
      "model_module_version": "2.0.0",
      "model_name": "DescriptionStyleModel",
      "state": {
       "description_width": ""
      }
     },
     "08e587bd4c0242e09dfe885c5feb42e9": {
      "model_module": "@jupyter-widgets/controls",
      "model_module_version": "2.0.0",
      "model_name": "ToggleButtonStyleModel",
      "state": {
       "description_width": "",
       "font_family": null,
       "font_size": null,
       "font_style": null,
       "font_variant": null,
       "font_weight": null,
       "text_color": null,
       "text_decoration": null
      }
     },
     "095b63af64594778a999688815bce219": {
      "model_module": "jupyter-leaflet",
      "model_module_version": "^0.18",
      "model_name": "LeafletMapStyleModel",
      "state": {
       "_model_module_version": "^0.18",
       "cursor": "move"
      }
     },
     "0a04d399797e409ab1393706123fe831": {
      "model_module": "ipytree",
      "model_module_version": "^0.2",
      "model_name": "NodeModel",
      "state": {
       "_id": "8e7e4426-28c4-45a3-b68c-0fe94b5f118b",
       "_model_module_version": "^0.2",
       "_view_module_version": "^0.2",
       "icon": "file",
       "name": "intersect.py"
      }
     },
     "0a42257d70ea45c9860917c03e57258b": {
      "model_module": "@jupyter-widgets/controls",
      "model_module_version": "2.0.0",
      "model_name": "VBoxModel",
      "state": {
       "children": [
        "IPY_MODEL_fd3732c3d38a4667880418599206665d",
        "IPY_MODEL_9acac20fdf9f4378b8c1acfb49511045"
       ],
       "layout": "IPY_MODEL_dcfbd4245e9441fd93c7b97c9baebc79"
      }
     },
     "0a5dea383fab408698b7e74c9862398e": {
      "model_module": "jupyter-leaflet",
      "model_module_version": "^0.18",
      "model_name": "LeafletScaleControlModel",
      "state": {
       "_model_module_version": "^0.18",
       "_view_module_version": "^0.18",
       "imperial": true,
       "max_width": 100,
       "metric": true,
       "options": [
        "imperial",
        "max_width",
        "metric",
        "position",
        "update_when_idle"
       ],
       "position": "bottomleft",
       "update_when_idle": false
      }
     },
     "0a880685db714eb9ae6d4beebc6d6c07": {
      "model_module": "ipytree",
      "model_module_version": "^0.2",
      "model_name": "NodeModel",
      "state": {
       "_id": "4d48d1d1-38c2-44da-8b67-cd46bcdb3cd1",
       "_model_module_version": "^0.2",
       "_view_module_version": "^0.2",
       "icon": "file",
       "name": "random_color_visualizer.py"
      }
     },
     "0a9c59707b5a450cbab15c49b5443052": {
      "model_module": "jupyter-leaflet",
      "model_module_version": "^0.18",
      "model_name": "LeafletMapStyleModel",
      "state": {
       "_model_module_version": "^0.18",
       "cursor": "move"
      }
     },
     "0aeb22da36224c319cddc354aafac8ba": {
      "model_module": "@jupyter-widgets/controls",
      "model_module_version": "2.0.0",
      "model_name": "ButtonModel",
      "state": {
       "button_style": "primary",
       "description": "Save",
       "disabled": true,
       "layout": "IPY_MODEL_a34f01aabb64464ab9d2bc3fa4fcd46b",
       "style": "IPY_MODEL_d50323764ad6443eb3e1bef993a76566",
       "tooltip": "Save edits to file."
      }
     },
     "0b746c5077034718b29184ddfa85b296": {
      "model_module": "@jupyter-widgets/controls",
      "model_module_version": "2.0.0",
      "model_name": "ToggleButtonModel",
      "state": {
       "button_style": "primary",
       "icon": "random",
       "layout": "IPY_MODEL_268c7d6a654241a68fea804660bbfaa8",
       "style": "IPY_MODEL_db66448af9374e82a01252a66edc1600",
       "tooltip": "Sankey plots"
      }
     },
     "0b9145228d874b1083f63e48bdacd03b": {
      "model_module": "@jupyter-widgets/base",
      "model_module_version": "2.0.0",
      "model_name": "LayoutModel",
      "state": {
       "grid_gap": "1px 1px",
       "grid_template_columns": "32px 32px 32px ",
       "grid_template_rows": "32px 32px ",
       "padding": "5px",
       "width": "109px"
      }
     },
     "0bbd2d8971814ea18052085286649f20": {
      "model_module": "jupyter-leaflet",
      "model_module_version": "^0.18",
      "model_name": "LeafletDrawControlModel",
      "state": {
       "_model_module_version": "^0.18",
       "_view_module_version": "^0.18",
       "marker": {
        "shapeOptions": {
         "color": "#3388ff"
        }
       },
       "options": [
        "position"
       ],
       "polygon": {
        "shapeOptions": {
         "clickable": true,
         "color": "#3388ff",
         "fill": true,
         "fillColor": null,
         "fillOpacity": 0.2,
         "opacity": 0.5,
         "stroke": true,
         "weight": 4
        }
       },
       "polyline": {
        "shapeOptions": {
         "clickable": true,
         "color": "#3388ff",
         "fill": false,
         "opacity": 0.5,
         "stroke": true,
         "weight": 4
        }
       },
       "rectangle": {
        "shapeOptions": {
         "clickable": true,
         "color": "#3388ff",
         "fill": true,
         "fillColor": null,
         "fillOpacity": 0.2,
         "opacity": 0.5,
         "stroke": true,
         "weight": 4
        }
       }
      }
     },
     "0bf691b4cafa474c85ca572c28b9d1d5": {
      "model_module": "@jupyter-widgets/controls",
      "model_module_version": "2.0.0",
      "model_name": "DescriptionStyleModel",
      "state": {
       "description_width": ""
      }
     },
     "0c3916b2846d41a795239f4ae761d065": {
      "model_module": "@jupyter-widgets/controls",
      "model_module_version": "2.0.0",
      "model_name": "ToggleButtonStyleModel",
      "state": {
       "description_width": "",
       "font_family": null,
       "font_size": null,
       "font_style": null,
       "font_variant": null,
       "font_weight": null,
       "text_color": null,
       "text_decoration": null
      }
     },
     "0c5244c0fadc4ec4a51785ab0bdbd021": {
      "model_module": "@jupyter-widgets/controls",
      "model_module_version": "2.0.0",
      "model_name": "ToggleButtonModel",
      "state": {
       "button_style": "primary",
       "icon": "question",
       "layout": "IPY_MODEL_3659b15d039943d6b4aeebfe4afb9aca",
       "style": "IPY_MODEL_bf00032d8deb4340a52dd40d4b46cf38",
       "tooltip": "Get help"
      }
     },
     "0c9d31f7b1db451f9f23cefe2450e344": {
      "model_module": "@jupyter-widgets/base",
      "model_module_version": "2.0.0",
      "model_name": "LayoutModel",
      "state": {
       "height": "auto",
       "padding": "0px 0px 0px 4px",
       "width": "auto"
      }
     },
     "0ca0c186501548a9ac2b73188ff9e5b2": {
      "model_module": "ipytree",
      "model_module_version": "^0.2",
      "model_name": "NodeModel",
      "state": {
       "_id": "c5ee4f45-3b9d-4183-84e4-5016502f4e67",
       "_model_module_version": "^0.2",
       "_view_module_version": "^0.2",
       "icon": "file",
       "name": "hdr_landsat.py"
      }
     },
     "0cb7083115424b058bafc965db9ba562": {
      "model_module": "ipytree",
      "model_module_version": "^0.2",
      "model_name": "NodeModel",
      "state": {
       "_id": "b82f6e8a-9d58-4cfc-9e65-84e4d39a408e",
       "_model_module_version": "^0.2",
       "_view_module_version": "^0.2",
       "icon": "file",
       "name": "map_function.py"
      }
     },
     "0d1342e1dcd544b98096debd6d605993": {
      "model_module": "@jupyter-widgets/controls",
      "model_module_version": "2.0.0",
      "model_name": "TextStyleModel",
      "state": {
       "description_width": "",
       "font_size": null,
       "text_color": null
      }
     },
     "0d24ce1f10f3446bbc5f846588f30dd2": {
      "model_module": "ipytree",
      "model_module_version": "^0.2",
      "model_name": "NodeModel",
      "state": {
       "_id": "a4da06ab-e075-49a2-9fab-5a13d3cf0c29",
       "_model_module_version": "^0.2",
       "_view_module_version": "^0.2",
       "icon": "file",
       "name": "styled_layer_descriptors.py"
      }
     },
     "0d35f3c5b63844dd95a3b483ab64bff0": {
      "model_module": "ipytree",
      "model_module_version": "^0.2",
      "model_name": "NodeModel",
      "state": {
       "_id": "bb084f38-d040-439c-bd5b-e5ab79544b7a",
       "_model_module_version": "^0.2",
       "_view_module_version": "^0.2",
       "icon": "file",
       "name": "palettes_crameri_oleron_dem.py"
      }
     },
     "0d58a71ea850460a8c1db9170846240d": {
      "model_module": "@jupyter-widgets/controls",
      "model_module_version": "2.0.0",
      "model_name": "ToggleButtonModel",
      "state": {
       "button_style": "primary",
       "icon": "adjust",
       "layout": "IPY_MODEL_4ae98c3e2ecf4bc4bb2b102dcfbf9b19",
       "style": "IPY_MODEL_3abf322009904f7f8059b3a6c458cadc",
       "tooltip": "Planet imagery"
      }
     },
     "0d817c0c3e8c44cc87338fdc8985567a": {
      "model_module": "@jupyter-widgets/controls",
      "model_module_version": "2.0.0",
      "model_name": "ToggleButtonStyleModel",
      "state": {
       "description_width": "",
       "font_family": null,
       "font_size": null,
       "font_style": null,
       "font_variant": null,
       "font_weight": null,
       "text_color": null,
       "text_decoration": null
      }
     },
     "0e458b9593a54141b0f91c212f4087b3": {
      "model_module": "@jupyter-widgets/controls",
      "model_module_version": "2.0.0",
      "model_name": "ToggleButtonsModel",
      "state": {
       "_options_labels": [
        "name/address",
        "lat-lon",
        "data"
       ],
       "button_style": "",
       "icons": [],
       "index": 0,
       "layout": "IPY_MODEL_18a36fd1a64a4a4d9ffdec64b97361ed",
       "style": "IPY_MODEL_31814961fdbc4773a88b4f025cfcdeaf",
       "tooltips": [
        "Search by place name or address",
        "Search by lat-lon coordinates",
        "Search Earth Engine data catalog"
       ]
      }
     },
     "0e5ce36a4b004e37944f1f927b9fb854": {
      "model_module": "@jupyter-widgets/controls",
      "model_module_version": "2.0.0",
      "model_name": "ToggleButtonsStyleModel",
      "state": {
       "button_width": "110px",
       "description_width": ""
      }
     },
     "0ee221bbfa7540bcb1384dff849d1e5e": {
      "model_module": "ipytree",
      "model_module_version": "^0.2",
      "model_name": "NodeModel",
      "state": {
       "_id": "d64cd96e-4882-441d-9de1-5fbae9778253",
       "_model_module_version": "^0.2",
       "_view_module_version": "^0.2",
       "name": "AssetManagement",
       "nodes": [
        "IPY_MODEL_8e9de87b2b2a466fbb641d4911756d98",
        "IPY_MODEL_e42111178fbb4a7da9144d197081c128",
        "IPY_MODEL_139516cafa4447a3bd2996b5bc5f215a",
        "IPY_MODEL_3436ce1e455742238dfee35c5e404fdf",
        "IPY_MODEL_cf9eded2ce114d29882e7accc8824289",
        "IPY_MODEL_e61e4e6ca9f84317b92f93284043cc38",
        "IPY_MODEL_9bae96efa56d40eeab35317b233f6db0",
        "IPY_MODEL_dec9a456abb54e9fbfac1e12bdfa9313",
        "IPY_MODEL_ad766723683c4f3ab65d8845ab526b36"
       ],
       "opened": false
      }
     },
     "0f2ae04dd87846aea6056f3130c545e6": {
      "model_module": "@jupyter-widgets/controls",
      "model_module_version": "2.0.0",
      "model_name": "ToggleButtonModel",
      "state": {
       "button_style": "primary",
       "icon": "globe",
       "layout": "IPY_MODEL_3fe673c9608f40d0988a3da14418d423",
       "style": "IPY_MODEL_82f6f96087344e0ea08002c2d071c8d9",
       "tooltip": "Create timelapse"
      }
     },
     "0f6053e6566c4074a36972ec2d50495f": {
      "model_module": "@jupyter-widgets/controls",
      "model_module_version": "2.0.0",
      "model_name": "HBoxModel",
      "state": {
       "children": [
        "IPY_MODEL_fe4da18fa4c14b4089c8d3e1004a9f5d"
       ],
       "layout": "IPY_MODEL_bd4ac41fe4b04cf48077c04660f571fd"
      }
     },
     "0f7755441319477a9a389d48ee59cc7e": {
      "model_module": "@jupyter-widgets/controls",
      "model_module_version": "2.0.0",
      "model_name": "ToggleButtonStyleModel",
      "state": {
       "description_width": "",
       "font_family": null,
       "font_size": null,
       "font_style": null,
       "font_variant": null,
       "font_weight": null,
       "text_color": null,
       "text_decoration": null
      }
     },
     "0fb27a350cc543a88fcf5f89a2693c12": {
      "model_module": "ipytree",
      "model_module_version": "^0.2",
      "model_name": "NodeModel",
      "state": {
       "_id": "d31bef3e-3c8b-479b-8680-7a6c1eeb7069",
       "_model_module_version": "^0.2",
       "_view_module_version": "^0.2",
       "icon": "file",
       "name": "landsat_filtering.py"
      }
     },
     "0fbdd9fe8b6248dc8ae3e016b51f32ff": {
      "model_module": "@jupyter-widgets/base",
      "model_module_version": "2.0.0",
      "model_name": "LayoutModel",
      "state": {}
     },
     "0ff2e233f9a54844a4af4ea9e3af8e1c": {
      "model_module": "ipytree",
      "model_module_version": "^0.2",
      "model_name": "NodeModel",
      "state": {
       "_id": "f9064966-2f75-4b9a-89d3-d076444861b3",
       "_model_module_version": "^0.2",
       "_view_module_version": "^0.2",
       "icon": "file",
       "name": "array_sorting.py"
      }
     },
     "1101c41dbd62499b8741053a827906f0": {
      "model_module": "@jupyter-widgets/controls",
      "model_module_version": "2.0.0",
      "model_name": "ToggleButtonModel",
      "state": {
       "button_style": "primary",
       "icon": "question",
       "layout": "IPY_MODEL_8496093b4cf24ef3b8ee5c23ba5cde60",
       "style": "IPY_MODEL_559adcbc47f14af7b83fbc0eab436045",
       "tooltip": "Get help"
      }
     },
     "1114b9cca87b4d15b4ea361458ba77fb": {
      "model_module": "ipytree",
      "model_module_version": "^0.2",
      "model_name": "NodeModel",
      "state": {
       "_id": "ebe59bd3-76c3-48d5-ab74-3834ee9b56d4",
       "_model_module_version": "^0.2",
       "_view_module_version": "^0.2",
       "icon": "file",
       "name": "get_image_centroid.py"
      }
     },
     "11198868cd7646e6a936765e65ade495": {
      "model_module": "@jupyter-widgets/base",
      "model_module_version": "2.0.0",
      "model_name": "LayoutModel",
      "state": {
       "height": "auto",
       "padding": "0px 0px 0px 4px",
       "width": "auto"
      }
     },
     "1126f9e0d6f345f5a97c7243779bc6a3": {
      "model_module": "ipytree",
      "model_module_version": "^0.2",
      "model_name": "NodeModel",
      "state": {
       "_id": "8352edf0-cfb5-4000-8415-ff7450011662",
       "_model_module_version": "^0.2",
       "_view_module_version": "^0.2",
       "icon": "file",
       "name": "sentinel-2.py"
      }
     },
     "1186d07945044f5089f30a47cde74e23": {
      "model_module": "jupyter-leaflet",
      "model_module_version": "^0.18",
      "model_name": "LeafletMapStyleModel",
      "state": {
       "_model_module_version": "^0.18",
       "cursor": "move"
      }
     },
     "11898a6971cc41f39a005dc29c960479": {
      "model_module": "@jupyter-widgets/controls",
      "model_module_version": "2.0.0",
      "model_name": "ToggleButtonStyleModel",
      "state": {
       "description_width": "",
       "font_family": null,
       "font_size": null,
       "font_style": null,
       "font_variant": null,
       "font_weight": null,
       "text_color": null,
       "text_decoration": null
      }
     },
     "119c0f8689ef4bdbaa53eae57d9ea8dc": {
      "model_module": "@jupyter-widgets/controls",
      "model_module_version": "2.0.0",
      "model_name": "ToggleButtonModel",
      "state": {
       "button_style": "primary",
       "icon": "line-chart",
       "layout": "IPY_MODEL_7a01870c214d4e8aa2096b9a258f2734",
       "style": "IPY_MODEL_8526847ef516442da2ac439bd5208a46",
       "tooltip": "Creating and plotting transects"
      }
     },
     "11ac81d7985740aa97cc03ed478acd58": {
      "model_module": "ipytree",
      "model_module_version": "^0.2",
      "model_name": "NodeModel",
      "state": {
       "_id": "9d9b2be3-49ae-4845-a24a-93723128eae1",
       "_model_module_version": "^0.2",
       "_view_module_version": "^0.2",
       "name": "ImageCollection",
       "nodes": [
        "IPY_MODEL_016e456106244560a6cf2672ea3e7884",
        "IPY_MODEL_2f00800e38994a519241cba81282ffbd",
        "IPY_MODEL_3e4dd877403b44c792a2754f708a91c2",
        "IPY_MODEL_166fdc75493e40e192d6b79427710360",
        "IPY_MODEL_6da4f8a6ad104236872369e533bfa504",
        "IPY_MODEL_bc9209a6211745d4ad14d5db1fd678bf",
        "IPY_MODEL_3fef04b1a36645c18fed4176b9103103",
        "IPY_MODEL_9f71bf98a2ff4e4f8ce2ff0103f04145",
        "IPY_MODEL_2a9787040aad4074b6dd72f01936b470",
        "IPY_MODEL_1114b9cca87b4d15b4ea361458ba77fb",
        "IPY_MODEL_0fb27a350cc543a88fcf5f89a2693c12",
        "IPY_MODEL_15c2ca3a6d864a8e83275e47d651bf6b",
        "IPY_MODEL_8529c4677fe946c594e21c67e9ee4c6f",
        "IPY_MODEL_0cb7083115424b058bafc965db9ba562",
        "IPY_MODEL_eddde11895c14d009cae319246c1425b",
        "IPY_MODEL_9e3a1565164e4ed985b69be6b97b8b17",
        "IPY_MODEL_1fd97baf63394cb79520d2440780a873",
        "IPY_MODEL_dc468b4227614ecb8bc33f16161933ee",
        "IPY_MODEL_88abae8516494737a7d13a13eece9e26",
        "IPY_MODEL_898992a500bb40c2989bb4372c7b1170"
       ],
       "opened": false
      }
     },
     "121c8e8b238d48f991165d7d2930ce49": {
      "model_module": "@jupyter-widgets/controls",
      "model_module_version": "2.0.0",
      "model_name": "ToggleButtonStyleModel",
      "state": {
       "description_width": "",
       "font_family": null,
       "font_size": null,
       "font_style": null,
       "font_variant": null,
       "font_weight": null,
       "text_color": null,
       "text_decoration": null
      }
     },
     "124c18c85ea140dead49c786d4bf829c": {
      "model_module": "jupyter-leaflet",
      "model_module_version": "^0.18",
      "model_name": "LeafletWidgetControlModel",
      "state": {
       "_model_module": "jupyter-leaflet",
       "_model_module_version": "^0.18",
       "_view_count": null,
       "_view_module": "jupyter-leaflet",
       "_view_module_version": "^0.18",
       "options": [
        "position",
        "transparent_bg"
       ],
       "position": "topleft",
       "widget": "IPY_MODEL_b9e56cef87b2455cbed3cc417e37e62f"
      }
     },
     "129d448e29cf4212846890efb413a73c": {
      "model_module": "@jupyter-widgets/controls",
      "model_module_version": "2.0.0",
      "model_name": "ToggleButtonModel",
      "state": {
       "button_style": "primary",
       "icon": "bar-chart",
       "layout": "IPY_MODEL_b965f8e42d634af492d78ca77e313791",
       "style": "IPY_MODEL_312cef98702648428e1be38312b2b63e",
       "tooltip": "Plotting"
      }
     },
     "12d56f62f0d745ef918e525a92a3b046": {
      "model_module": "@jupyter-widgets/controls",
      "model_module_version": "2.0.0",
      "model_name": "TextModel",
      "state": {
       "layout": "IPY_MODEL_2cdbb16155264e9f80661f2e239234e0",
       "placeholder": "Enter the link to a Git repository here...",
       "style": "IPY_MODEL_720c922c8cc04636af206dea0635538e"
      }
     },
     "131adaa131114676945ba50f4b8a1cb6": {
      "model_module": "@jupyter-widgets/base",
      "model_module_version": "2.0.0",
      "model_name": "LayoutModel",
      "state": {
       "height": "auto",
       "padding": "0px 0px 0px 4px",
       "width": "auto"
      }
     },
     "134885eb1a964302803880a845ec06a7": {
      "model_module": "@jupyter-widgets/base",
      "model_module_version": "2.0.0",
      "model_name": "LayoutModel",
      "state": {
       "height": "auto",
       "padding": "0px 0px 0px 4px",
       "width": "auto"
      }
     },
     "1349dcb30ebe4757bebe3a64f24a76f3": {
      "model_module": "ipyevents",
      "model_module_version": "2.0.2",
      "model_name": "EventModel",
      "state": {
       "_supported_key_events": [
        "keydown",
        "keyup"
       ],
       "_supported_mouse_events": [
        "click",
        "auxclick",
        "dblclick",
        "mouseenter",
        "mouseleave",
        "mousedown",
        "mouseup",
        "mousemove",
        "wheel",
        "contextmenu",
        "dragstart",
        "drag",
        "dragend",
        "dragenter",
        "dragover",
        "dragleave",
        "drop"
       ],
       "_supported_touch_events": [
        "touchstart",
        "touchend",
        "touchmove",
        "touchcancel"
       ],
       "_view_module": "@jupyter-widgets/controls",
       "source": "IPY_MODEL_d651f480ef344fc3a5f93e8bf6a8c6ce",
       "throttle_or_debounce": "",
       "watched_events": [
        "mouseenter",
        "mouseleave"
       ],
       "xy_coordinate_system": ""
      }
     },
     "1387f261db64413788f93b5f0b4107ac": {
      "model_module": "@jupyter-widgets/base",
      "model_module_version": "2.0.0",
      "model_name": "LayoutModel",
      "state": {}
     },
     "139516cafa4447a3bd2996b5bc5f215a": {
      "model_module": "ipytree",
      "model_module_version": "^0.2",
      "model_name": "NodeModel",
      "state": {
       "_id": "d2987fa6-0aa3-4171-b27a-4ba6145af874",
       "_model_module_version": "^0.2",
       "_view_module_version": "^0.2",
       "icon": "file",
       "name": "export_TimeSeries.py"
      }
     },
     "13fa5541380a43f686974606e478046c": {
      "model_module": "ipytree",
      "model_module_version": "^0.2",
      "model_name": "NodeModel",
      "state": {
       "_id": "773539fb-a461-4ac3-a10c-f96a18c60437",
       "_model_module_version": "^0.2",
       "_view_module_version": "^0.2",
       "icon": "file",
       "name": "us_ned_chili.py"
      }
     },
     "13fcdd5cecfd437c8c424059a0a0987b": {
      "model_module": "ipytree",
      "model_module_version": "^0.2",
      "model_name": "NodeModel",
      "state": {
       "_id": "d72eea15-e046-4059-a207-d040c4f126db",
       "_model_module_version": "^0.2",
       "_view_module_version": "^0.2",
       "icon": "file",
       "name": "us_lithology.py"
      }
     },
     "140318abd3f941939064b007b63d8c25": {
      "model_module": "@jupyter-widgets/controls",
      "model_module_version": "2.0.0",
      "model_name": "ToggleButtonModel",
      "state": {
       "button_style": "primary",
       "icon": "retweet",
       "layout": "IPY_MODEL_25bb13ee540543e5960962b159b78c5a",
       "style": "IPY_MODEL_46cecc4b86ae4f4e9a219bc11a787540",
       "tooltip": "Convert Earth Engine JavaScript to Python"
      }
     },
     "142d138017d742d2a46c23c6610e8a2c": {
      "model_module": "ipytree",
      "model_module_version": "^0.2",
      "model_name": "NodeModel",
      "state": {
       "_id": "8ef489cb-544c-4d94-965a-67fcdcc3d754",
       "_model_module_version": "^0.2",
       "_view_module_version": "^0.2",
       "icon": "file",
       "name": "srtm_topo_diversity.py"
      }
     },
     "14476ace46ef475cb239656b07d2d92b": {
      "model_module": "@jupyter-widgets/controls",
      "model_module_version": "2.0.0",
      "model_name": "VBoxModel",
      "state": {
       "children": [
        "IPY_MODEL_9547ad5f433240bd9341fdc6eeaa32fe"
       ],
       "layout": "IPY_MODEL_cd75cf62d1764d4c98c185e6d3b9f87a"
      }
     },
     "14816915f5df466695f3a5ab59af02b1": {
      "model_module": "ipytree",
      "model_module_version": "^0.2",
      "model_name": "NodeModel",
      "state": {
       "_id": "abbc1163-a587-40ef-9753-c3aa6b997fe5",
       "_model_module_version": "^0.2",
       "_view_module_version": "^0.2",
       "icon": "file",
       "name": "pixel_area.py"
      }
     },
     "14cb1cbacb8242e98ab41d306aff4bcf": {
      "model_module": "@jupyter-widgets/controls",
      "model_module_version": "2.0.0",
      "model_name": "ToggleButtonStyleModel",
      "state": {
       "description_width": "",
       "font_family": null,
       "font_size": null,
       "font_style": null,
       "font_variant": null,
       "font_weight": null,
       "text_color": null,
       "text_decoration": null
      }
     },
     "14cdd0876de443ed9244b8a175631580": {
      "model_module": "@jupyter-widgets/controls",
      "model_module_version": "2.0.0",
      "model_name": "TextStyleModel",
      "state": {
       "description_width": "",
       "font_size": null,
       "text_color": null
      }
     },
     "156d6a82e0c142f39bd6dfe50b6b3304": {
      "model_module": "@jupyter-widgets/base",
      "model_module_version": "2.0.0",
      "model_name": "LayoutModel",
      "state": {}
     },
     "15c2ca3a6d864a8e83275e47d651bf6b": {
      "model_module": "ipytree",
      "model_module_version": "^0.2",
      "model_name": "NodeModel",
      "state": {
       "_id": "3378c308-680d-4c39-b2b8-599aaf391db6",
       "_model_module_version": "^0.2",
       "_view_module_version": "^0.2",
       "icon": "file",
       "name": "landsat_simple_composite.py"
      }
     },
     "164b77003fcc420aaf838022c0eaca73": {
      "model_module": "@jupyter-widgets/controls",
      "model_module_version": "2.0.0",
      "model_name": "DescriptionStyleModel",
      "state": {
       "description_width": ""
      }
     },
     "166fdc75493e40e192d6b79427710360": {
      "model_module": "ipytree",
      "model_module_version": "^0.2",
      "model_name": "NodeModel",
      "state": {
       "_id": "5d6a6836-c1c1-443e-862f-bbf3bae536dd",
       "_model_module_version": "^0.2",
       "_view_module_version": "^0.2",
       "icon": "file",
       "name": "expression_map.py"
      }
     },
     "16e1b96d7bc84ecea24e52b63154ea84": {
      "model_module": "ipytree",
      "model_module_version": "^0.2",
      "model_name": "NodeModel",
      "state": {
       "_id": "269bfc72-1145-4dd3-8ea8-58640158ae67",
       "_model_module_version": "^0.2",
       "_view_module_version": "^0.2",
       "icon": "file",
       "name": "normalized_difference.py"
      }
     },
     "16f6f9529b6b468a8065e71ca16bfd33": {
      "model_module": "ipytree",
      "model_module_version": "^0.2",
      "model_name": "NodeModel",
      "state": {
       "_id": "659f25fa-990b-42b8-9289-eeeee0aa10b9",
       "_model_module_version": "^0.2",
       "_view_module_version": "^0.2",
       "icon": "file",
       "name": "srtm_landforms.py"
      }
     },
     "170ac1e32dd24532926494090835f46e": {
      "model_module": "@jupyter-widgets/controls",
      "model_module_version": "2.0.0",
      "model_name": "HBoxModel",
      "state": {
       "children": [
        "IPY_MODEL_4390142a79144b02b995587fd9a6a753",
        "IPY_MODEL_1bb7180d0fa046e69ec86b66847b5358"
       ],
       "layout": "IPY_MODEL_c764ff65ca4a4162a8c0d265a7191c3f"
      }
     },
     "1754513312ce42bfa5bdb875058d1ee4": {
      "model_module": "@jupyter-widgets/base",
      "model_module_version": "2.0.0",
      "model_name": "LayoutModel",
      "state": {
       "height": "auto",
       "padding": "0px 0px 0px 4px",
       "width": "auto"
      }
     },
     "175d92ad4347437ea9cf5f70945e1d24": {
      "model_module": "jupyter-leaflet",
      "model_module_version": "^0.18",
      "model_name": "LeafletMapModel",
      "state": {
       "_model_module_version": "^0.18",
       "_view_module_version": "^0.18",
       "bottom": 812,
       "controls": [
        "IPY_MODEL_984c3bf4d21e4fa3ba7a025214a872c8",
        "IPY_MODEL_62cc7a798c9442039700d5e5b66b5985",
        "IPY_MODEL_f5e65470bea5499fbcab342f036d0a7c",
        "IPY_MODEL_b1be0980f8f141ecab84b8daa919f24f",
        "IPY_MODEL_6078377628f14854bf95045184ce724f",
        "IPY_MODEL_ed20987bb1df49cca49843f817ab19a2",
        "IPY_MODEL_672fefbcdeba4f2aa5315626cf15c25d",
        "IPY_MODEL_5967e8bf57564beea20e06f848e53333"
       ],
       "default_style": "IPY_MODEL_fd4463181d4c43ffa744f37dfaab4215",
       "dragging_style": "IPY_MODEL_48a3a67806fb4cecb4ca782d15f3cbee",
       "east": 155.7421875,
       "fullscreen": false,
       "interpolation": "bilinear",
       "layers": [
        "IPY_MODEL_32853f3cb37d43cb84cb3f69e56c9947",
        "IPY_MODEL_574c35128a5047078a6e32fdaac8fdfe"
       ],
       "layout": "IPY_MODEL_5bb8d691869443a7befcbd0d04eb04db",
       "left": 70,
       "max_zoom": 24,
       "modisdate": "2024-03-07",
       "north": 71.9653876991313,
       "options": [
        "bounce_at_zoom_limits",
        "box_zoom",
        "center",
        "close_popup_on_click",
        "double_click_zoom",
        "dragging",
        "fullscreen",
        "inertia",
        "inertia_deceleration",
        "inertia_max_speed",
        "interpolation",
        "keyboard",
        "keyboard_pan_offset",
        "keyboard_zoom_offset",
        "max_zoom",
        "min_zoom",
        "prefer_canvas",
        "scroll_wheel_zoom",
        "tap",
        "tap_tolerance",
        "touch_zoom",
        "world_copy_jump",
        "zoom",
        "zoom_animation_threshold",
        "zoom_delta",
        "zoom_snap"
       ],
       "prefer_canvas": false,
       "right": 955,
       "scroll_wheel_zoom": true,
       "south": -71.96538769913128,
       "style": "IPY_MODEL_d6276e76bc5042d7bd4c70329160f57f",
       "top": 212,
       "west": -155.39062500000003,
       "window_url": "http://localhost:8888/lab",
       "zoom": 2
      }
     },
     "175e2102e7764940a0d0372fea35901c": {
      "model_module": "@jupyter-widgets/base",
      "model_module_version": "2.0.0",
      "model_name": "LayoutModel",
      "state": {
       "height": "600px",
       "width": "630px"
      }
     },
     "17b3592d97f0411cb060d050c8287b13": {
      "model_module": "ipytree",
      "model_module_version": "^0.2",
      "model_name": "NodeModel",
      "state": {
       "_id": "75159dd8-3e84-4693-aace-f66a9dc41e4a",
       "_model_module_version": "^0.2",
       "_view_module_version": "^0.2",
       "name": "Visualization",
       "nodes": [
        "IPY_MODEL_dcdecac7683341a7ac990680a04d7131",
        "IPY_MODEL_c4c0d5ccb17a45ff9eb51f29b8ee6f34",
        "IPY_MODEL_837f9b69fd294411be0fe0ab1949258e",
        "IPY_MODEL_a09ef73a8675403d9e989383ff32e6b4",
        "IPY_MODEL_a4983e85483f44778346da6c0d396e39",
        "IPY_MODEL_667dd7a4819a4810b981412d7b8ac7c1",
        "IPY_MODEL_e594fcd89809480f811036bd8f7335d8",
        "IPY_MODEL_19dcea11771249ee8241e1d6677a47fc",
        "IPY_MODEL_60dca5578a034aa28e394db02f5a9260",
        "IPY_MODEL_5a718ba1abdb497897dbea3f5174570d",
        "IPY_MODEL_6141dbacf55b4e268cf6bb0ad62c4a46",
        "IPY_MODEL_970dba9e970441f4a3abd1c643847333",
        "IPY_MODEL_81e4ad11138146af99fa86025921ff33",
        "IPY_MODEL_194d135986be42b19d18505db3b2f615",
        "IPY_MODEL_0a880685db714eb9ae6d4beebc6d6c07",
        "IPY_MODEL_290fce69971a4d79b5c40507b4fe9f66",
        "IPY_MODEL_0d24ce1f10f3446bbc5f846588f30dd2",
        "IPY_MODEL_6d876bce126b431aa87f3b1739f8d425",
        "IPY_MODEL_9218a55cb68247b7a1c8eaa28a998461",
        "IPY_MODEL_4b9bb32ee2744ef4893a3e7bc1bb2695",
        "IPY_MODEL_be99b58625db45f18c4b2b01a04cfb6b"
       ],
       "opened": false
      }
     },
     "181b5261794e4283a83b9f4bf80c498a": {
      "model_module": "@jupyter-widgets/controls",
      "model_module_version": "2.0.0",
      "model_name": "ToggleButtonStyleModel",
      "state": {
       "description_width": "",
       "font_family": null,
       "font_size": null,
       "font_style": null,
       "font_variant": null,
       "font_weight": null,
       "text_color": null,
       "text_decoration": null
      }
     },
     "1851559926b549159c3807b1a8339a19": {
      "model_module": "jupyter-leaflet",
      "model_module_version": "^0.18",
      "model_name": "LeafletScaleControlModel",
      "state": {
       "_model_module_version": "^0.18",
       "_view_module_version": "^0.18",
       "imperial": true,
       "max_width": 100,
       "metric": true,
       "options": [
        "imperial",
        "max_width",
        "metric",
        "position",
        "update_when_idle"
       ],
       "position": "bottomleft",
       "update_when_idle": false
      }
     },
     "185983f478c74d02a2730f2b46e0711d": {
      "model_module": "ipytree",
      "model_module_version": "^0.2",
      "model_name": "NodeModel",
      "state": {
       "_id": "4547885e-9118-47f0-9c66-9666ac32f019",
       "_model_module_version": "^0.2",
       "_view_module_version": "^0.2",
       "icon": "file",
       "name": "get_band_name_and_type.py"
      }
     },
     "1880219305744d48890fbc134ae374c0": {
      "model_module": "@jupyter-widgets/controls",
      "model_module_version": "2.0.0",
      "model_name": "ToggleButtonModel",
      "state": {
       "button_style": "primary",
       "icon": "eraser",
       "layout": "IPY_MODEL_b132b24388c64996bd7cde3aae6a6f03",
       "style": "IPY_MODEL_a2e43e0a6dee4edd831a1ee354ddea43",
       "tooltip": "Remove all drawn features"
      }
     },
     "18a36fd1a64a4a4d9ffdec64b97361ed": {
      "model_module": "@jupyter-widgets/base",
      "model_module_version": "2.0.0",
      "model_name": "LayoutModel",
      "state": {}
     },
     "18a3a98e4092421f9cd66d5d37eadbe9": {
      "model_module": "jupyter-leaflet",
      "model_module_version": "^0.18",
      "model_name": "LeafletMeasureControlModel",
      "state": {
       "_model_module_version": "^0.18",
       "_view_module_version": "^0.18",
       "active_color": "orange",
       "options": [
        "active_color",
        "capture_z_index",
        "completed_color",
        "popup_options",
        "position",
        "primary_area_unit",
        "primary_length_unit",
        "secondary_area_unit",
        "secondary_length_unit"
       ],
       "position": "bottomleft",
       "primary_length_unit": "kilometers",
       "secondary_area_unit": null,
       "secondary_length_unit": null
      }
     },
     "18fdaea84b614388a5d21d6c96b01643": {
      "model_module": "@jupyter-widgets/controls",
      "model_module_version": "2.0.0",
      "model_name": "ToggleButtonModel",
      "state": {
       "button_style": "primary",
       "icon": "line-chart",
       "layout": "IPY_MODEL_a680e1cc33b64f15b0bc8693dd71bd6b",
       "style": "IPY_MODEL_e7c12c31da734229831748840197067f",
       "tooltip": "Creating and plotting transects"
      }
     },
     "1948a393e6c444ac8f4b925770354298": {
      "model_module": "@jupyter-widgets/base",
      "model_module_version": "2.0.0",
      "model_name": "LayoutModel",
      "state": {}
     },
     "194d135986be42b19d18505db3b2f615": {
      "model_module": "ipytree",
      "model_module_version": "^0.2",
      "model_name": "NodeModel",
      "state": {
       "_id": "074bb755-671b-4157-9599-78335e7a654d",
       "_model_module_version": "^0.2",
       "_view_module_version": "^0.2",
       "icon": "file",
       "name": "nwi_wetlands_symbology.py"
      }
     },
     "19ab6414bbbd4b1c9f99cb7d88ad6e60": {
      "model_module": "ipytree",
      "model_module_version": "^0.2",
      "model_name": "NodeModel",
      "state": {
       "_id": "c770ef49-a41c-4a57-bfaa-dcaf27f3daab",
       "_model_module_version": "^0.2",
       "_view_module_version": "^0.2",
       "icon": "file",
       "name": "3_water_class_transition.py"
      }
     },
     "19dcea11771249ee8241e1d6677a47fc": {
      "model_module": "ipytree",
      "model_module_version": "^0.2",
      "model_name": "NodeModel",
      "state": {
       "_id": "5f775d75-6a0b-4893-85f3-ca351806a540",
       "_model_module_version": "^0.2",
       "_view_module_version": "^0.2",
       "icon": "file",
       "name": "image_stretch.py"
      }
     },
     "19fe849573754bb88b5e49f738f89b74": {
      "model_module": "ipytree",
      "model_module_version": "^0.2",
      "model_name": "NodeModel",
      "state": {
       "_id": "86c1c3a0-11ba-4b9b-9906-942456265989",
       "_model_module_version": "^0.2",
       "_view_module_version": "^0.2",
       "icon": "file",
       "name": "band_stats.py"
      }
     },
     "1a36bfdeb72a47948a63c1efd4d174cc": {
      "model_module": "ipytree",
      "model_module_version": "^0.2",
      "model_name": "NodeModel",
      "state": {
       "_id": "cb6e8741-7094-4951-aeed-639d5a6efd1b",
       "_model_module_version": "^0.2",
       "_view_module_version": "^0.2",
       "icon": "file",
       "name": "spectral_unmixing.py"
      }
     },
     "1a617507d460441eaebed558558cb7f1": {
      "model_module": "@jupyter-widgets/controls",
      "model_module_version": "2.0.0",
      "model_name": "ToggleButtonModel",
      "state": {
       "button_style": "primary",
       "icon": "adjust",
       "layout": "IPY_MODEL_c0b67b1470414cb18e15162ebd91c456",
       "style": "IPY_MODEL_d2aa6563762e4c309a825920146867c8",
       "tooltip": "Planet imagery"
      }
     },
     "1ab1d2a7ec8b4b0e9650c44502da2aca": {
      "model_module": "@jupyter-widgets/base",
      "model_module_version": "2.0.0",
      "model_name": "LayoutModel",
      "state": {
       "height": "28px",
       "padding": "0px 0px 0px 4px",
       "width": "28px"
      }
     },
     "1ac432d450ae4ed0aa01c005c39e60ff": {
      "model_module": "@jupyter-widgets/controls",
      "model_module_version": "2.0.0",
      "model_name": "ToggleButtonModel",
      "state": {
       "button_style": "primary",
       "icon": "adjust",
       "layout": "IPY_MODEL_2b4660cbad424f598a2caf0951dba894",
       "style": "IPY_MODEL_e0ebdace1ef2424681ac305dd7f028e7",
       "tooltip": "Planet imagery"
      }
     },
     "1ac7153764e74cf29b816cb5f897d0c5": {
      "model_module": "@jupyter-widgets/base",
      "model_module_version": "2.0.0",
      "model_name": "LayoutModel",
      "state": {
       "height": "auto",
       "padding": "0px 0px 0px 4px",
       "width": "auto"
      }
     },
     "1b3b09f3284e41a7ba27453b5671eaf3": {
      "model_module": "@jupyter-widgets/base",
      "model_module_version": "2.0.0",
      "model_name": "LayoutModel",
      "state": {
       "height": "auto",
       "padding": "0px 0px 0px 4px",
       "width": "auto"
      }
     },
     "1b784621fc644ea191455d825c16a9bf": {
      "model_module": "@jupyter-widgets/controls",
      "model_module_version": "2.0.0",
      "model_name": "ToggleButtonModel",
      "state": {
       "button_style": "primary",
       "icon": "hand-o-up",
       "layout": "IPY_MODEL_c2f879beadbc42a7b2e3f89366fa759f",
       "style": "IPY_MODEL_86989120f760433fa3565bd117b483c3",
       "tooltip": "Collect training samples"
      }
     },
     "1b9c160a98bf4bbcb6b478494164e426": {
      "model_module": "ipytree",
      "model_module_version": "^0.2",
      "model_name": "NodeModel",
      "state": {
       "_id": "ece183c6-116e-4d76-8d5f-e98040840e59",
       "_model_module_version": "^0.2",
       "_view_module_version": "^0.2",
       "icon": "file",
       "name": "hillshade.py"
      }
     },
     "1ba9ed3c23b6458f88794887fa1ad307": {
      "model_module": "ipytree",
      "model_module_version": "^0.2",
      "model_name": "NodeModel",
      "state": {
       "_id": "77e4199e-0bd9-4cf3-a912-6d6918d84998",
       "_model_module_version": "^0.2",
       "_view_module_version": "^0.2",
       "name": "Reader",
       "opened": false
      }
     },
     "1bb7180d0fa046e69ec86b66847b5358": {
      "model_module": "@jupyter-widgets/controls",
      "model_module_version": "2.0.0",
      "model_name": "DropdownModel",
      "state": {
       "index": null,
       "layout": "IPY_MODEL_4fdbdf70d31845a68e1851cfdc113819",
       "style": "IPY_MODEL_cda930c75c074e2fbfa50048d27036c0"
      }
     },
     "1bd6e98268304114a1fa9e774d5777a7": {
      "model_module": "@jupyter-widgets/controls",
      "model_module_version": "2.0.0",
      "model_name": "DescriptionStyleModel",
      "state": {
       "description_width": ""
      }
     },
     "1c31c31672a344cca594abec6a6becb5": {
      "model_module": "@jupyter-widgets/controls",
      "model_module_version": "2.0.0",
      "model_name": "ToggleButtonStyleModel",
      "state": {
       "description_width": "",
       "font_family": null,
       "font_size": null,
       "font_style": null,
       "font_variant": null,
       "font_weight": null,
       "text_color": null,
       "text_decoration": null
      }
     },
     "1c4714d52d274913b1b90293aaa20d7a": {
      "model_module": "@jupyter-widgets/base",
      "model_module_version": "2.0.0",
      "model_name": "LayoutModel",
      "state": {
       "width": "340px"
      }
     },
     "1d3636be748f4227a3131adede3093ef": {
      "model_module": "jupyter-leaflet",
      "model_module_version": "^0.18",
      "model_name": "LeafletFullScreenControlModel",
      "state": {
       "_model_module_version": "^0.18",
       "_view_module_version": "^0.18",
       "options": [
        "position"
       ]
      }
     },
     "1d8c281e742c451ea844bd08ebe7e2da": {
      "model_module": "@jupyter-widgets/base",
      "model_module_version": "2.0.0",
      "model_name": "LayoutModel",
      "state": {
       "height": "auto",
       "padding": "0px 0px 0px 4px",
       "width": "auto"
      }
     },
     "1ddad51eea7a425aab55d2533e2fe5e9": {
      "model_module": "@jupyter-widgets/controls",
      "model_module_version": "2.0.0",
      "model_name": "ButtonModel",
      "state": {
       "button_style": "primary",
       "description": "import",
       "layout": "IPY_MODEL_3e74909b6aba4822b2a95374dddd11f3",
       "style": "IPY_MODEL_e25f7911a4b74d79821872a32b0cb906",
       "tooltip": "Click to import the selected asset"
      }
     },
     "1e877bb3531c46fcba634afb9aa9ef7e": {
      "model_module": "@jupyter-widgets/base",
      "model_module_version": "2.0.0",
      "model_name": "LayoutModel",
      "state": {
       "height": "28px",
       "width": "72px"
      }
     },
     "1eb2088fe1544de4848f62c9f6446f33": {
      "model_module": "ipytree",
      "model_module_version": "^0.2",
      "model_name": "NodeModel",
      "state": {
       "_id": "9219a958-b282-42bd-a68a-aa9c4b166a76",
       "_model_module_version": "^0.2",
       "_view_module_version": "^0.2",
       "icon": "file",
       "name": "column_statistics_by_group.py"
      }
     },
     "1eb84e5883154ee5a622e13f02f78d08": {
      "model_module": "ipytree",
      "model_module_version": "^0.2",
      "model_name": "NodeModel",
      "state": {
       "_id": "044b3c8c-7d1e-464f-8ef4-ff2d66897419",
       "_model_module_version": "^0.2",
       "_view_module_version": "^0.2",
       "icon": "file",
       "name": "band_math.py"
      }
     },
     "1f7b4eeaa8cf4070b6a93f30230ea60b": {
      "model_module": "@jupyter-widgets/controls",
      "model_module_version": "2.0.0",
      "model_name": "ToggleButtonStyleModel",
      "state": {
       "description_width": "",
       "font_family": null,
       "font_size": null,
       "font_style": null,
       "font_variant": null,
       "font_weight": null,
       "text_color": null,
       "text_decoration": null
      }
     },
     "1fd97baf63394cb79520d2440780a873": {
      "model_module": "ipytree",
      "model_module_version": "^0.2",
      "model_name": "NodeModel",
      "state": {
       "_id": "12eb882b-e8c4-4093-8e94-9e8e7c67d327",
       "_model_module_version": "^0.2",
       "_view_module_version": "^0.2",
       "icon": "file",
       "name": "overview.py"
      }
     },
     "20137988c0b847779fe5eb7a04db4597": {
      "model_module": "ipytree",
      "model_module_version": "^0.2",
      "model_name": "NodeModel",
      "state": {
       "_id": "6483a2c1-36b7-4125-b2a3-57eb385f5bfb",
       "_model_module_version": "^0.2",
       "_view_module_version": "^0.2",
       "icon": "file",
       "name": "polynomial.py"
      }
     },
     "201814c6c9c147a2b42eb91a6acc183c": {
      "model_module": "ipytree",
      "model_module_version": "^0.2",
      "model_name": "NodeModel",
      "state": {
       "_id": "731598ff-d777-4a1b-a446-a897c53f74d0",
       "_model_module_version": "^0.2",
       "_view_module_version": "^0.2",
       "name": "JavaScripts",
       "nodes": [
        "IPY_MODEL_9f562b07520f4b6e95e72c614bbe958b",
        "IPY_MODEL_ab6383e5e6634f82b73d7c3270d793b9",
        "IPY_MODEL_78b3c63c03634425bbde88f52c6c6f23"
       ],
       "opened": false
      }
     },
     "203ce4c92cd24f94a77e01428075f326": {
      "model_module": "@jupyter-widgets/controls",
      "model_module_version": "2.0.0",
      "model_name": "ToggleButtonModel",
      "state": {
       "button_style": "primary",
       "icon": "globe",
       "layout": "IPY_MODEL_d22a4ece351441e99d8c23e0b3e6b48f",
       "style": "IPY_MODEL_961cb3a9dae84e169167a8c12f6dc88a",
       "tooltip": "Create timelapse"
      }
     },
     "209f8e8141204aa9a65ed7bcb53161aa": {
      "model_module": "ipytree",
      "model_module_version": "^0.2",
      "model_name": "NodeModel",
      "state": {
       "_id": "b49faea6-9bc7-4f95-9625-7fbf07096890",
       "_model_module_version": "^0.2",
       "_view_module_version": "^0.2",
       "icon": "file",
       "name": "random_samples.py"
      }
     },
     "20b708d2785e4db2886f0649411c94fb": {
      "model_module": "ipytree",
      "model_module_version": "^0.2",
      "model_name": "NodeModel",
      "state": {
       "_id": "3e80f6b7-1058-40d0-85c2-93eb8e1f6988",
       "_model_module_version": "^0.2",
       "_view_module_version": "^0.2",
       "icon": "file",
       "name": "reclassify.py"
      }
     },
     "210321bc3de04907a7d0a85e9770e9d9": {
      "model_module": "@jupyter-widgets/controls",
      "model_module_version": "2.0.0",
      "model_name": "ToggleButtonStyleModel",
      "state": {
       "description_width": "",
       "font_family": null,
       "font_size": null,
       "font_style": null,
       "font_variant": null,
       "font_weight": null,
       "text_color": null,
       "text_decoration": null
      }
     },
     "21115e9178d24f308a118e9a498059b8": {
      "model_module": "@jupyter-widgets/base",
      "model_module_version": "2.0.0",
      "model_name": "LayoutModel",
      "state": {
       "max_height": "350px",
       "max_width": "340px",
       "overflow": "scroll"
      }
     },
     "21141aa78c5c46c19a44aaa9d11221f3": {
      "model_module": "@jupyter-widgets/base",
      "model_module_version": "2.0.0",
      "model_name": "LayoutModel",
      "state": {
       "height": "600px"
      }
     },
     "2186942794184ca793d8089bdec77d78": {
      "model_module": "ipytree",
      "model_module_version": "^0.2",
      "model_name": "NodeModel",
      "state": {
       "_id": "777013a0-b6a9-44f3-b708-825f93b0f80d",
       "_model_module_version": "^0.2",
       "_view_module_version": "^0.2",
       "icon": "file",
       "name": "image_displacement.py"
      }
     },
     "21a8856e7e914dac947de765c9da9f87": {
      "model_module": "ipytree",
      "model_module_version": "^0.2",
      "model_name": "NodeModel",
      "state": {
       "_id": "6d723fb2-6401-4158-b56c-ab613161483b",
       "_model_module_version": "^0.2",
       "_view_module_version": "^0.2",
       "icon": "file",
       "name": "add_area_column.py"
      }
     },
     "21acc48e1d4647d18ff10ba45370a891": {
      "model_module": "ipytree",
      "model_module_version": "^0.2",
      "model_name": "NodeModel",
      "state": {
       "_id": "4d014ecd-d319-452a-b87e-3ef076401c83",
       "_model_module_version": "^0.2",
       "_view_module_version": "^0.2",
       "icon": "file",
       "name": "2_water_occurrence_change_intensity.py"
      }
     },
     "2207cba2861e47be992194f625b9c835": {
      "model_module": "ipytree",
      "model_module_version": "^0.2",
      "model_name": "NodeModel",
      "state": {
       "_id": "011d493f-69ed-4bde-876a-d24918de4fe5",
       "_model_module_version": "^0.2",
       "_view_module_version": "^0.2",
       "icon": "file",
       "name": "international_boundary.py"
      }
     },
     "2232355e27244b19a5f24ac585d874bf": {
      "model_module": "@jupyter-widgets/base",
      "model_module_version": "2.0.0",
      "model_name": "LayoutModel",
      "state": {
       "height": "28px",
       "padding": "0px 0px 0px 4px",
       "width": "28px"
      }
     },
     "225f20a9a6494ba5961234aed945f0b8": {
      "model_module": "@jupyter-widgets/base",
      "model_module_version": "2.0.0",
      "model_name": "LayoutModel",
      "state": {
       "height": "auto",
       "padding": "0px 0px 0px 4px",
       "width": "auto"
      }
     },
     "229eeeac2eed4230b8b933d248562628": {
      "model_module": "@jupyter-widgets/base",
      "model_module_version": "2.0.0",
      "model_name": "LayoutModel",
      "state": {}
     },
     "22de4e98a44f403da73eac2275971cdb": {
      "model_module": "jupyter-leaflet",
      "model_module_version": "^0.18",
      "model_name": "LeafletMapStyleModel",
      "state": {
       "_model_module_version": "^0.18"
      }
     },
     "23425e10aa834d5595b8f2cfac25156e": {
      "model_module": "ipytree",
      "model_module_version": "^0.2",
      "model_name": "NodeModel",
      "state": {
       "_id": "ece6db4d-a4e2-40e9-b148-145d81ee4207",
       "_model_module_version": "^0.2",
       "_view_module_version": "^0.2",
       "icon": "file",
       "name": "stats_of_an_image_region.py"
      }
     },
     "238e1a5dc71740679939c30711571241": {
      "model_module": "@jupyter-widgets/base",
      "model_module_version": "2.0.0",
      "model_name": "LayoutModel",
      "state": {
       "height": "auto",
       "padding": "0px 0px 0px 4px",
       "width": "auto"
      }
     },
     "23c891fac1594f39bfcf58144f3dc52f": {
      "model_module": "@jupyter-widgets/controls",
      "model_module_version": "2.0.0",
      "model_name": "VBoxModel",
      "state": {
       "children": [
        "IPY_MODEL_ce4d263066414d1b9232723d2c9b8530"
       ],
       "layout": "IPY_MODEL_58890d9bce6a4ff8be949338a4990a2a"
      }
     },
     "2460d9a12945439bbaefee71548859f5": {
      "model_module": "ipytree",
      "model_module_version": "^0.2",
      "model_name": "NodeModel",
      "state": {
       "_id": "fcf8c8ee-f070-4cc5-ad24-d32a56814c58",
       "_model_module_version": "^0.2",
       "_view_module_version": "^0.2",
       "icon": "file",
       "name": "map_set_center.py"
      }
     },
     "24949cfc973c4d0c99c0b0988d6e715d": {
      "model_module": "ipytree",
      "model_module_version": "^0.2",
      "model_name": "NodeModel",
      "state": {
       "_id": "08fb54a4-d5f8-4a2c-9e53-e37ca8dbde97",
       "_model_module_version": "^0.2",
       "_view_module_version": "^0.2",
       "icon": "file",
       "name": "test_sentinel2.py"
      }
     },
     "2496c89884194994a116be4e9dbb1886": {
      "model_module": "@jupyter-widgets/base",
      "model_module_version": "2.0.0",
      "model_name": "LayoutModel",
      "state": {
       "height": "auto",
       "padding": "0px 0px 0px 4px",
       "width": "auto"
      }
     },
     "250b693a62c9446aad8e2940008be91c": {
      "model_module": "@jupyter-widgets/controls",
      "model_module_version": "2.0.0",
      "model_name": "ButtonModel",
      "state": {
       "button_style": "primary",
       "icon": "times",
       "layout": "IPY_MODEL_385f73a0c4da4ac993eddf70b44dba1e",
       "style": "IPY_MODEL_2dc171cafa1f413c9f2c692ca01eabcd",
       "tooltip": "Close the basemap widget"
      }
     },
     "2544d34005144c5e992a3555d7a636ea": {
      "model_module": "@jupyter-widgets/controls",
      "model_module_version": "2.0.0",
      "model_name": "HBoxModel",
      "state": {
       "children": [
        "IPY_MODEL_ee889ddd0dd047609fa12b62ea1db6f4",
        "IPY_MODEL_e04c02d6e462424bb6cf67d6d96ed570"
       ],
       "layout": "IPY_MODEL_3b3fe2b1c01c47369e1b8f9621b0639b"
      }
     },
     "255ab8f9ca8d416da6a7be92a18e1312": {
      "model_module": "@jupyter-widgets/controls",
      "model_module_version": "2.0.0",
      "model_name": "ToggleButtonModel",
      "state": {
       "button_style": "primary",
       "icon": "gears",
       "layout": "IPY_MODEL_2496c89884194994a116be4e9dbb1886",
       "style": "IPY_MODEL_79a925190d4644adb9ffcf05953cc7b0",
       "tooltip": "WhiteboxTools for local geoprocessing"
      }
     },
     "258602e76ad345699bd460a9ca0febec": {
      "model_module": "@jupyter-widgets/controls",
      "model_module_version": "2.0.0",
      "model_name": "ToggleButtonModel",
      "state": {
       "button_style": "primary",
       "icon": "folder-open",
       "layout": "IPY_MODEL_5a8284163c5f47769fbdd3f2ca424841",
       "style": "IPY_MODEL_bf11840f886f4bd89b515027cc0f0504",
       "tooltip": "Open local vector/raster data"
      }
     },
     "259553236c744ef7a97b6b1ebf9731c5": {
      "model_module": "@jupyter-widgets/controls",
      "model_module_version": "2.0.0",
      "model_name": "ToggleButtonsStyleModel",
      "state": {
       "button_width": "100px",
       "description_width": ""
      }
     },
     "25bb13ee540543e5960962b159b78c5a": {
      "model_module": "@jupyter-widgets/base",
      "model_module_version": "2.0.0",
      "model_name": "LayoutModel",
      "state": {
       "height": "auto",
       "padding": "0px 0px 0px 4px",
       "width": "auto"
      }
     },
     "26263705cd7f47788f6226e743745f6d": {
      "model_module": "@jupyter-widgets/base",
      "model_module_version": "2.0.0",
      "model_name": "LayoutModel",
      "state": {
       "max_width": "57px",
       "min_width": "57px"
      }
     },
     "262d1d45160842a6807261be483af445": {
      "model_module": "@jupyter-widgets/base",
      "model_module_version": "2.0.0",
      "model_name": "LayoutModel",
      "state": {
       "height": "600px"
      }
     },
     "268c7d6a654241a68fea804660bbfaa8": {
      "model_module": "@jupyter-widgets/base",
      "model_module_version": "2.0.0",
      "model_name": "LayoutModel",
      "state": {
       "height": "auto",
       "padding": "0px 0px 0px 4px",
       "width": "auto"
      }
     },
     "269c608ae96547e68e941d780ce3a68c": {
      "model_module": "@jupyter-widgets/controls",
      "model_module_version": "2.0.0",
      "model_name": "TextModel",
      "state": {
       "layout": "IPY_MODEL_e0fd317856894f4e99a552d5a45cc596",
       "placeholder": "Search by place name or address",
       "style": "IPY_MODEL_eb2ee60c20474335954df73d9d2a2c45",
       "tooltip": "Search location"
      }
     },
     "26b6a962af034bad978eafaa9b98fea7": {
      "model_module": "@jupyter-widgets/controls",
      "model_module_version": "2.0.0",
      "model_name": "ToggleButtonStyleModel",
      "state": {
       "description_width": "",
       "font_family": null,
       "font_size": null,
       "font_style": null,
       "font_variant": null,
       "font_weight": null,
       "text_color": null,
       "text_decoration": null
      }
     },
     "27b10415f3284273938c3d4849826645": {
      "model_module": "@jupyter-widgets/base",
      "model_module_version": "2.0.0",
      "model_name": "LayoutModel",
      "state": {}
     },
     "27c788f901594896b8e87ff546b7cb95": {
      "model_module": "@jupyter-widgets/controls",
      "model_module_version": "2.0.0",
      "model_name": "ToggleButtonModel",
      "state": {
       "icon": "globe",
       "layout": "IPY_MODEL_04befccbb3c340919c27f3e12c9ebe2f",
       "style": "IPY_MODEL_bf3f72812d1347eb9c4394baed05e612",
       "tooltip": "Search location/data"
      }
     },
     "286f842be8ed491590f962c707411c86": {
      "model_module": "@jupyter-widgets/controls",
      "model_module_version": "2.0.0",
      "model_name": "ToggleButtonStyleModel",
      "state": {
       "description_width": "",
       "font_family": null,
       "font_size": null,
       "font_style": null,
       "font_variant": null,
       "font_weight": null,
       "text_color": null,
       "text_decoration": null
      }
     },
     "28ebac7666dc48718cd00621d79c8fa4": {
      "model_module": "ipytree",
      "model_module_version": "^0.2",
      "model_name": "NodeModel",
      "state": {
       "_id": "5b0a1c23-6599-4cb5-8f31-b24d67815ab2",
       "_model_module_version": "^0.2",
       "_view_module_version": "^0.2",
       "name": "Array",
       "nodes": [
        "IPY_MODEL_e33ada06bf894d1cbfb30acdeccb9129",
        "IPY_MODEL_0ff2e233f9a54844a4af4ea9e3af8e1c",
        "IPY_MODEL_556de27f93a142beb69fd77a78dd882c",
        "IPY_MODEL_915ef94a95c14f349054988d03941ae7",
        "IPY_MODEL_de2507c4b8124c81a27e70cfc6ccdfe4",
        "IPY_MODEL_f97ac84c0b1a4e37a51172818a8eef66",
        "IPY_MODEL_909395b3cf594f5f8a8ce413996257a7",
        "IPY_MODEL_1a36bfdeb72a47948a63c1efd4d174cc"
       ],
       "opened": false
      }
     },
     "28f78850cbb4403197a597369cac47e7": {
      "model_module": "@jupyter-widgets/base",
      "model_module_version": "2.0.0",
      "model_name": "LayoutModel",
      "state": {}
     },
     "2901a14d157741169ee42a8b1b1428d3": {
      "model_module": "@jupyter-widgets/base",
      "model_module_version": "2.0.0",
      "model_name": "LayoutModel",
      "state": {
       "height": "auto",
       "padding": "0px 0px 0px 4px",
       "width": "auto"
      }
     },
     "290fce69971a4d79b5c40507b4fe9f66": {
      "model_module": "ipytree",
      "model_module_version": "^0.2",
      "model_name": "NodeModel",
      "state": {
       "_id": "c4653ce0-b1a9-47a9-b421-3b5144285dcf",
       "_model_module_version": "^0.2",
       "_view_module_version": "^0.2",
       "icon": "file",
       "name": "rendering_categorical_maps.py"
      }
     },
     "294aa0e4dff149c187842a25491c46bf": {
      "model_module": "@jupyter-widgets/base",
      "model_module_version": "2.0.0",
      "model_name": "LayoutModel",
      "state": {
       "height": "auto",
       "padding": "0px 0px 0px 4px",
       "width": "auto"
      }
     },
     "299dca6dbd0542fd9061f27dc3b60d01": {
      "model_module": "jupyter-leaflet",
      "model_module_version": "^0.18",
      "model_name": "LeafletWidgetControlModel",
      "state": {
       "_model_module": "jupyter-leaflet",
       "_model_module_version": "^0.18",
       "_view_count": null,
       "_view_module": "jupyter-leaflet",
       "_view_module_version": "^0.18",
       "options": [
        "position",
        "transparent_bg"
       ],
       "position": "topright",
       "widget": "IPY_MODEL_e5229e2b33a144abbfa9209600a1123a"
      }
     },
     "29a4677524b44095b287839e9f22aa4b": {
      "model_module": "ipytree",
      "model_module_version": "^0.2",
      "model_name": "NodeModel",
      "state": {
       "_id": "cb87a8f9-864d-4c90-bb1d-0abc10e836dd",
       "_model_module_version": "^0.2",
       "_view_module_version": "^0.2",
       "icon": "file",
       "name": "center_pivot_irrigation_detector.py"
      }
     },
     "2a9787040aad4074b6dd72f01936b470": {
      "model_module": "ipytree",
      "model_module_version": "^0.2",
      "model_name": "NodeModel",
      "state": {
       "_id": "c64f322f-8f54-4540-be02-7a8b22393ba3",
       "_model_module_version": "^0.2",
       "_view_module_version": "^0.2",
       "icon": "file",
       "name": "filtering_collection.py"
      }
     },
     "2ab38e97a3a047b4b4a93231ae1ec71f": {
      "model_module": "@jupyter-widgets/base",
      "model_module_version": "2.0.0",
      "model_name": "LayoutModel",
      "state": {}
     },
     "2b4660cbad424f598a2caf0951dba894": {
      "model_module": "@jupyter-widgets/base",
      "model_module_version": "2.0.0",
      "model_name": "LayoutModel",
      "state": {
       "height": "auto",
       "padding": "0px 0px 0px 4px",
       "width": "auto"
      }
     },
     "2b952d80cd8b40bfae55e57dad92911d": {
      "model_module": "ipytree",
      "model_module_version": "^0.2",
      "model_name": "NodeModel",
      "state": {
       "_id": "2c75fe1e-0571-42ce-8e98-d70a61f9ad02",
       "_model_module_version": "^0.2",
       "_view_module_version": "^0.2",
       "icon": "file",
       "name": "buffer.py"
      }
     },
     "2bac5dab48534c2e9d52ea16ee0296e7": {
      "model_module": "@jupyter-widgets/base",
      "model_module_version": "2.0.0",
      "model_name": "LayoutModel",
      "state": {
       "max_height": "350px",
       "max_width": "340px",
       "overflow": "scroll"
      }
     },
     "2bb4bd2b8a62452ba33cd2d607e9e5b7": {
      "model_module": "@jupyter-widgets/output",
      "model_module_version": "1.0.0",
      "model_name": "OutputModel",
      "state": {
       "layout": "IPY_MODEL_ecafcb543f07484cb7e96555cec43d0f"
      }
     },
     "2bcf03868a544369b13a17f42426a899": {
      "model_module": "@jupyter-widgets/controls",
      "model_module_version": "2.0.0",
      "model_name": "ToggleButtonsModel",
      "state": {
       "_options_labels": [
        "name/address",
        "lat-lon",
        "data"
       ],
       "button_style": "",
       "icons": [],
       "index": 0,
       "layout": "IPY_MODEL_3b0fd7b1752048e993d147d628291a61",
       "style": "IPY_MODEL_bf1b7a1bb8f9402fa8314e8dec9375a5",
       "tooltips": [
        "Search by place name or address",
        "Search by lat-lon coordinates",
        "Search Earth Engine data catalog"
       ]
      }
     },
     "2be00b0c8c1e46bea929ef9090396e6a": {
      "model_module": "@jupyter-widgets/controls",
      "model_module_version": "2.0.0",
      "model_name": "ToggleButtonStyleModel",
      "state": {
       "description_width": "",
       "font_family": null,
       "font_size": null,
       "font_style": null,
       "font_variant": null,
       "font_weight": null,
       "text_color": null,
       "text_decoration": null
      }
     },
     "2c31daa11c6e43a8bca327c757c4928b": {
      "model_module": "@jupyter-widgets/controls",
      "model_module_version": "2.0.0",
      "model_name": "ToggleButtonModel",
      "state": {
       "button_style": "primary",
       "icon": "google",
       "layout": "IPY_MODEL_e25900e604414e2d8fbe90caca257da4",
       "style": "IPY_MODEL_0d817c0c3e8c44cc87338fdc8985567a",
       "tooltip": "GEE Toolbox for cloud computing"
      }
     },
     "2c82a4c0f5ef4d5aa09b62dd2f5e159e": {
      "model_module": "jupyter-leaflet",
      "model_module_version": "^0.18",
      "model_name": "LeafletWidgetControlModel",
      "state": {
       "_model_module": "jupyter-leaflet",
       "_model_module_version": "^0.18",
       "_view_count": null,
       "_view_module": "jupyter-leaflet",
       "_view_module_version": "^0.18",
       "options": [
        "position",
        "transparent_bg"
       ],
       "position": "topleft",
       "widget": "IPY_MODEL_64492fb5cb8c452f9203eaebe79889d3"
      }
     },
     "2ca5e02015e148aa8e7f952176674d85": {
      "model_module": "@jupyter-widgets/controls",
      "model_module_version": "2.0.0",
      "model_name": "ToggleButtonStyleModel",
      "state": {
       "description_width": "",
       "font_family": null,
       "font_size": null,
       "font_style": null,
       "font_variant": null,
       "font_weight": null,
       "text_color": null,
       "text_decoration": null
      }
     },
     "2cdbb16155264e9f80661f2e239234e0": {
      "model_module": "@jupyter-widgets/base",
      "model_module_version": "2.0.0",
      "model_name": "LayoutModel",
      "state": {
       "width": "475px"
      }
     },
     "2d155f4ce33a47bdbd634bd14ed0e360": {
      "model_module": "jupyter-leaflet",
      "model_module_version": "^0.18",
      "model_name": "LeafletTileLayerModel",
      "state": {
       "_model_module_version": "^0.18",
       "_view_module_version": "^0.18",
       "attribution": "Esri",
       "max_zoom": 24,
       "name": "Esri.WorldImagery",
       "options": [
        "attribution",
        "bounds",
        "detect_retina",
        "max_native_zoom",
        "max_zoom",
        "min_native_zoom",
        "min_zoom",
        "no_wrap",
        "tile_size",
        "tms",
        "zoom_offset"
       ],
       "url": "https://server.arcgisonline.com/ArcGIS/rest/services/World_Imagery/MapServer/tile/{z}/{y}/{x}"
      }
     },
     "2d3e33dc9a33477b9ba5695bc4124dc2": {
      "model_module": "jupyter-leaflet",
      "model_module_version": "^0.18",
      "model_name": "LeafletMapStyleModel",
      "state": {
       "_model_module_version": "^0.18",
       "cursor": "move"
      }
     },
     "2dc171cafa1f413c9f2c692ca01eabcd": {
      "model_module": "@jupyter-widgets/controls",
      "model_module_version": "2.0.0",
      "model_name": "ButtonStyleModel",
      "state": {
       "font_family": null,
       "font_size": null,
       "font_style": null,
       "font_variant": null,
       "font_weight": null,
       "text_color": null,
       "text_decoration": null
      }
     },
     "2ddc782073b5421593a307867998ce14": {
      "model_module": "@jupyter-widgets/base",
      "model_module_version": "2.0.0",
      "model_name": "LayoutModel",
      "state": {
       "height": "auto",
       "padding": "0px 0px 0px 4px",
       "width": "auto"
      }
     },
     "2deebb6ec62c49eb9959a518388ce0d1": {
      "model_module": "ipytree",
      "model_module_version": "^0.2",
      "model_name": "NodeModel",
      "state": {
       "_id": "4dc17cd8-9706-4f04-8798-3d50923f494a",
       "_model_module_version": "^0.2",
       "_view_module_version": "^0.2",
       "name": "CloudMasking",
       "nodes": [
        "IPY_MODEL_360b51de928a433aa8974486807766cc",
        "IPY_MODEL_4fb857a1106e4e3380b3f5ceb8132342",
        "IPY_MODEL_ec3a80d2730c4dd5a723daa7f0c9deaa",
        "IPY_MODEL_914513db1ba94092be13655ab96e86b2",
        "IPY_MODEL_c0a328f6f73b42b28d86b1665f235d7f"
       ],
       "opened": false
      }
     },
     "2e7111e49e4940deb9e007ad4c624d6f": {
      "model_module": "@jupyter-widgets/controls",
      "model_module_version": "2.0.0",
      "model_name": "ToggleButtonModel",
      "state": {
       "button_style": "primary",
       "icon": "bar-chart",
       "layout": "IPY_MODEL_eb341745620141adb5762bf57b5e96ed",
       "style": "IPY_MODEL_68b04d235f6e4e2b8efcb00e9876ff68",
       "tooltip": "Plotting"
      }
     },
     "2ec5e241b2ab45ca98a3351ccc62ccf9": {
      "model_module": "ipytree",
      "model_module_version": "^0.2",
      "model_name": "NodeModel",
      "state": {
       "_id": "36b0bef0-c617-4b22-b6e7-01f7eb858a52",
       "_model_module_version": "^0.2",
       "_view_module_version": "^0.2",
       "icon": "file",
       "name": "qgis_to_geemap.py"
      }
     },
     "2ef88a85ba4c4fe3ae1766d1529f4fc2": {
      "model_module": "ipytree",
      "model_module_version": "^0.2",
      "model_name": "NodeModel",
      "state": {
       "_id": "f480e2bf-c71b-4514-a722-3111f18bfa1b",
       "_model_module_version": "^0.2",
       "_view_module_version": "^0.2",
       "icon": "file",
       "name": "composite_bands.py"
      }
     },
     "2f00800e38994a519241cba81282ffbd": {
      "model_module": "ipytree",
      "model_module_version": "^0.2",
      "model_name": "NodeModel",
      "state": {
       "_id": "9019e26e-e369-4cbd-8bc2-7e0219d88b47",
       "_model_module_version": "^0.2",
       "_view_module_version": "^0.2",
       "icon": "file",
       "name": "convert_imagecollection_to_image.py"
      }
     },
     "2f3171c9c1d44ae9ae13323de9705431": {
      "model_module": "@jupyter-widgets/base",
      "model_module_version": "2.0.0",
      "model_name": "LayoutModel",
      "state": {
       "height": "auto",
       "padding": "0px 0px 0px 4px",
       "width": "auto"
      }
     },
     "2f8ec63fb14446dfad24d7bc0f26e6a6": {
      "model_module": "ipytree",
      "model_module_version": "^0.2",
      "model_name": "NodeModel",
      "state": {
       "_id": "9422ded9-02d8-4336-b533-cd4437052540",
       "_model_module_version": "^0.2",
       "_view_module_version": "^0.2",
       "icon": "file",
       "name": "landsat_simple_composite.py"
      }
     },
     "2fb52ae26a744e24acabcfbba6c615e1": {
      "model_module": "@jupyter-widgets/base",
      "model_module_version": "2.0.0",
      "model_name": "LayoutModel",
      "state": {}
     },
     "2fc1f9239d414af1a9eb600147098aac": {
      "model_module": "@jupyter-widgets/base",
      "model_module_version": "2.0.0",
      "model_name": "LayoutModel",
      "state": {
       "height": "auto",
       "padding": "0px 0px 0px 4px",
       "width": "auto"
      }
     },
     "304ba3fd1eb64dc7a8c738932778efe2": {
      "model_module": "@jupyter-widgets/base",
      "model_module_version": "2.0.0",
      "model_name": "LayoutModel",
      "state": {
       "width": "310px"
      }
     },
     "307b2452490f471b85014537549db8bc": {
      "model_module": "ipytree",
      "model_module_version": "^0.2",
      "model_name": "NodeModel",
      "state": {
       "_id": "d1b2868a-7dba-4835-a226-ecc0b77b1785",
       "_model_module_version": "^0.2",
       "_view_module_version": "^0.2",
       "name": "Writer",
       "opened": false
      }
     },
     "30a3b55a85bf45499f2d57a499fbdd0b": {
      "model_module": "ipytree",
      "model_module_version": "^0.2",
      "model_name": "NodeModel",
      "state": {
       "_id": "8bdd5729-d95c-4db6-a5f3-38d90648c783",
       "_model_module_version": "^0.2",
       "_view_module_version": "^0.2",
       "name": "GlobalSurfaceWater",
       "nodes": [
        "IPY_MODEL_7035dc6fca8e42b384f226e4b287ed2b",
        "IPY_MODEL_21acc48e1d4647d18ff10ba45370a891",
        "IPY_MODEL_19ab6414bbbd4b1c9f99cb7d88ad6e60"
       ],
       "opened": false
      }
     },
     "311ec8f46f6a491b9b284612678ff6e7": {
      "model_module": "@jupyter-widgets/controls",
      "model_module_version": "2.0.0",
      "model_name": "ToggleButtonModel",
      "state": {
       "button_style": "primary",
       "icon": "adjust",
       "layout": "IPY_MODEL_fa6340fea13846818f59ed3629b0b573",
       "style": "IPY_MODEL_2ca5e02015e148aa8e7f952176674d85",
       "tooltip": "Planet imagery"
      }
     },
     "312cef98702648428e1be38312b2b63e": {
      "model_module": "@jupyter-widgets/controls",
      "model_module_version": "2.0.0",
      "model_name": "ToggleButtonStyleModel",
      "state": {
       "description_width": "",
       "font_family": null,
       "font_size": null,
       "font_style": null,
       "font_variant": null,
       "font_weight": null,
       "text_color": null,
       "text_decoration": null
      }
     },
     "314d03999ce3476e8370f0ef486195ca": {
      "model_module": "ipytree",
      "model_module_version": "^0.2",
      "model_name": "NodeModel",
      "state": {
       "_id": "15896538-9243-496c-af67-9f5fe974bd02",
       "_model_module_version": "^0.2",
       "_view_module_version": "^0.2",
       "icon": "file",
       "name": "centroid.py"
      }
     },
     "317407d58c2e46e1bbb6f7959832aeda": {
      "model_module": "jupyter-leaflet",
      "model_module_version": "^0.18",
      "model_name": "LeafletWidgetControlModel",
      "state": {
       "_model_module": "jupyter-leaflet",
       "_model_module_version": "^0.18",
       "_view_count": null,
       "_view_module": "jupyter-leaflet",
       "_view_module_version": "^0.18",
       "options": [
        "position",
        "transparent_bg"
       ],
       "position": "topright",
       "widget": "IPY_MODEL_bc7d26e4c50d4c93916e841262f28c65"
      }
     },
     "31814961fdbc4773a88b4f025cfcdeaf": {
      "model_module": "@jupyter-widgets/controls",
      "model_module_version": "2.0.0",
      "model_name": "ToggleButtonsStyleModel",
      "state": {
       "button_width": "110px",
       "description_width": ""
      }
     },
     "31ba8d7594dc4a2e8eac4c2b7254572f": {
      "model_module": "@jupyter-widgets/controls",
      "model_module_version": "2.0.0",
      "model_name": "ToggleButtonModel",
      "state": {
       "button_style": "primary",
       "icon": "fast-forward",
       "layout": "IPY_MODEL_626f9aeeed6249a4955e58b30edefe1c",
       "style": "IPY_MODEL_9f94bf736b874393820a117d2e97d665",
       "tooltip": "Activate timeslider"
      }
     },
     "31bd126efdd7474d899e792f428a74cc": {
      "model_module": "@jupyter-widgets/controls",
      "model_module_version": "2.0.0",
      "model_name": "ToggleButtonStyleModel",
      "state": {
       "description_width": "",
       "font_family": null,
       "font_size": null,
       "font_style": null,
       "font_variant": null,
       "font_weight": null,
       "text_color": null,
       "text_decoration": null
      }
     },
     "31de2d8a523542209cb16b50ff2eb546": {
      "model_module": "@jupyter-widgets/controls",
      "model_module_version": "2.0.0",
      "model_name": "ToggleButtonStyleModel",
      "state": {
       "description_width": "",
       "font_family": null,
       "font_size": null,
       "font_style": null,
       "font_variant": null,
       "font_weight": null,
       "text_color": null,
       "text_decoration": null
      }
     },
     "32853f3cb37d43cb84cb3f69e56c9947": {
      "model_module": "jupyter-leaflet",
      "model_module_version": "^0.18",
      "model_name": "LeafletTileLayerModel",
      "state": {
       "_model_module_version": "^0.18",
       "_view_module_version": "^0.18",
       "attribution": "&copy; <a href=\"https://www.openstreetmap.org/copyright\">OpenStreetMap</a> contributors",
       "base": true,
       "max_zoom": 19,
       "min_zoom": 1,
       "name": "OpenStreetMap.Mapnik",
       "options": [
        "attribution",
        "bounds",
        "detect_retina",
        "max_native_zoom",
        "max_zoom",
        "min_native_zoom",
        "min_zoom",
        "no_wrap",
        "tile_size",
        "tms",
        "zoom_offset"
       ],
       "url": "https://tile.openstreetmap.org/{z}/{x}/{y}.png"
      }
     },
     "32a7253718ff4fc28ded234b2854b3be": {
      "model_module": "ipytree",
      "model_module_version": "^0.2",
      "model_name": "NodeModel",
      "state": {
       "_id": "d6dbacf1-1216-43f3-8cc6-2bce33fa278e",
       "_model_module_version": "^0.2",
       "_view_module_version": "^0.2",
       "icon": "file",
       "name": "04_band_math.py"
      }
     },
     "331f1e5df8484d0f8289e6d1f6a66db7": {
      "model_module": "@jupyter-widgets/base",
      "model_module_version": "2.0.0",
      "model_name": "LayoutModel",
      "state": {
       "max_width": "57px",
       "min_width": "57px"
      }
     },
     "33985ae559194bae9554e241ce3dab01": {
      "model_module": "@jupyter-widgets/controls",
      "model_module_version": "2.0.0",
      "model_name": "ToggleButtonModel",
      "state": {
       "button_style": "primary",
       "icon": "retweet",
       "layout": "IPY_MODEL_fb7c2d81a5c3460496a067a91756ba7c",
       "style": "IPY_MODEL_979e3c6e7deb47389095c9ce1e787d32",
       "tooltip": "Convert Earth Engine JavaScript to Python"
      }
     },
     "33a49cea84ff4271830877c4f6a07470": {
      "model_module": "@jupyter-widgets/controls",
      "model_module_version": "2.0.0",
      "model_name": "ToggleButtonModel",
      "state": {
       "button_style": "primary",
       "icon": "random",
       "layout": "IPY_MODEL_e05cbab470f64b20be53e6be547b05b5",
       "style": "IPY_MODEL_08e587bd4c0242e09dfe885c5feb42e9",
       "tooltip": "Sankey plots"
      }
     },
     "33d02ed9f55c4bd99d9c5a803f634f79": {
      "model_module": "@jupyter-widgets/controls",
      "model_module_version": "2.0.0",
      "model_name": "ToggleButtonStyleModel",
      "state": {
       "description_width": "",
       "font_family": null,
       "font_size": null,
       "font_style": null,
       "font_variant": null,
       "font_weight": null,
       "text_color": null,
       "text_decoration": null
      }
     },
     "34175d54827942d9910ef85250fb32d4": {
      "model_module": "ipytree",
      "model_module_version": "^0.2",
      "model_name": "NodeModel",
      "state": {
       "_id": "59ac53c6-8451-44ec-af93-1485994d00e6",
       "_model_module_version": "^0.2",
       "_view_module_version": "^0.2",
       "icon": "file",
       "name": "set_properties.py"
      }
     },
     "3425b80cbda748119023fdf5cc0a1df3": {
      "model_module": "@jupyter-widgets/controls",
      "model_module_version": "2.0.0",
      "model_name": "HBoxModel",
      "state": {
       "_dom_classes": [
        "geemap-light"
       ],
       "_view_count": 1,
       "children": [
        "IPY_MODEL_ad11fadbe66241ffaededbe8e40e740c"
       ],
       "layout": "IPY_MODEL_64e220d3868b462b85ff9b27d5cad094"
      }
     },
     "3436ce1e455742238dfee35c5e404fdf": {
      "model_module": "ipytree",
      "model_module_version": "^0.2",
      "model_name": "NodeModel",
      "state": {
       "_id": "88058bda-02bd-4923-888a-79a0a72cc976",
       "_model_module_version": "^0.2",
       "_view_module_version": "^0.2",
       "icon": "file",
       "name": "export_TimeSeries2.py"
      }
     },
     "3441875ac0f64044b5118569b0da656b": {
      "model_module": "@jupyter-widgets/controls",
      "model_module_version": "2.0.0",
      "model_name": "ToggleButtonModel",
      "state": {
       "button_style": "primary",
       "icon": "hand-o-up",
       "layout": "IPY_MODEL_4eb16588a66f424f9a4c182be99483e6",
       "style": "IPY_MODEL_d1843ac3cb724c25beb57093c4960928",
       "tooltip": "Collect training samples"
      }
     },
     "34b7fe56508f4f1983d5fcf1e61609fe": {
      "model_module": "@jupyter-widgets/base",
      "model_module_version": "2.0.0",
      "model_name": "LayoutModel",
      "state": {
       "height": "auto",
       "padding": "0px 0px 0px 4px",
       "width": "auto"
      }
     },
     "357ad648c0584d35a33bd849310ee264": {
      "model_module": "@jupyter-widgets/base",
      "model_module_version": "2.0.0",
      "model_name": "LayoutModel",
      "state": {}
     },
     "3598eee23b4f4595a3b5a4ee530a1fc9": {
      "model_module": "@jupyter-widgets/controls",
      "model_module_version": "2.0.0",
      "model_name": "VBoxModel",
      "state": {
       "children": [
        "IPY_MODEL_c5e30498caf34de5813758d4ef2fb199"
       ],
       "layout": "IPY_MODEL_543e0a0164a2498cb4d2f02111726cd3"
      }
     },
     "359d9090e92447dba59ad43e18a74610": {
      "model_module": "@jupyter-widgets/base",
      "model_module_version": "2.0.0",
      "model_name": "LayoutModel",
      "state": {}
     },
     "35cd510b658d4966acf00df7b1f15d3b": {
      "model_module": "@jupyter-widgets/base",
      "model_module_version": "2.0.0",
      "model_name": "LayoutModel",
      "state": {}
     },
     "35d49e6ab7a5457690410e0b387d1c60": {
      "model_module": "ipytree",
      "model_module_version": "^0.2",
      "model_name": "NodeModel",
      "state": {
       "_id": "3283ff06-cba2-4263-aec1-22e5d34620a8",
       "_model_module_version": "^0.2",
       "_view_module_version": "^0.2",
       "icon": "file",
       "name": "connected_pixel_count.py"
      }
     },
     "360b51de928a433aa8974486807766cc": {
      "model_module": "ipytree",
      "model_module_version": "^0.2",
      "model_name": "NodeModel",
      "state": {
       "_id": "1bf43bd5-0097-40e5-b65e-05dc370346bb",
       "_model_module_version": "^0.2",
       "_view_module_version": "^0.2",
       "icon": "file",
       "name": "landsat457_surface_reflectance.py"
      }
     },
     "3612f2a8ae5e40c1bbde9ae98d575081": {
      "model_module": "ipytree",
      "model_module_version": "^0.2",
      "model_name": "NodeModel",
      "state": {
       "_id": "2e8b5f7a-d021-4ba9-95c7-a071610e170e",
       "_model_module_version": "^0.2",
       "_view_module_version": "^0.2",
       "icon": "file",
       "name": "image_patch_area.py"
      }
     },
     "3659b15d039943d6b4aeebfe4afb9aca": {
      "model_module": "@jupyter-widgets/base",
      "model_module_version": "2.0.0",
      "model_name": "LayoutModel",
      "state": {
       "height": "auto",
       "padding": "0px 0px 0px 4px",
       "width": "auto"
      }
     },
     "365ae2ba4ff140bb944b44375d6358ff": {
      "model_module": "jupyter-leaflet",
      "model_module_version": "^0.18",
      "model_name": "LeafletWidgetControlModel",
      "state": {
       "_model_module": "jupyter-leaflet",
       "_model_module_version": "^0.18",
       "_view_count": null,
       "_view_module": "jupyter-leaflet",
       "_view_module_version": "^0.18",
       "options": [
        "position",
        "transparent_bg"
       ],
       "position": "topright",
       "widget": "IPY_MODEL_fc4b645cdd5345b48af1b647c451deff"
      }
     },
     "3662f4652fc84a2184a709a4bb15e772": {
      "model_module": "@jupyter-widgets/controls",
      "model_module_version": "2.0.0",
      "model_name": "VBoxModel",
      "state": {
       "children": [
        "IPY_MODEL_ecabbe7915b2408084e67349952223b0"
       ],
       "layout": "IPY_MODEL_2ab38e97a3a047b4b4a93231ae1ec71f"
      }
     },
     "367efee7a37c47d68cb532118e8e83c9": {
      "model_module": "@jupyter-widgets/base",
      "model_module_version": "2.0.0",
      "model_name": "LayoutModel",
      "state": {}
     },
     "36bdcae09a244e6da9e81d03385261c1": {
      "model_module": "ipytree",
      "model_module_version": "^0.2",
      "model_name": "NodeModel",
      "state": {
       "_id": "135326fd-6cb8-4b57-b03b-70fc2d84655f",
       "_model_module_version": "^0.2",
       "_view_module_version": "^0.2",
       "icon": "file",
       "name": "filter_neq.py"
      }
     },
     "36dc432c524847719623dbb3811f64da": {
      "model_module": "@jupyter-widgets/controls",
      "model_module_version": "2.0.0",
      "model_name": "ToggleButtonStyleModel",
      "state": {
       "description_width": "",
       "font_family": null,
       "font_size": null,
       "font_style": null,
       "font_variant": null,
       "font_weight": null,
       "text_color": null,
       "text_decoration": null
      }
     },
     "36fbcec953a24e5597bacc5219f11878": {
      "model_module": "ipytree",
      "model_module_version": "^0.2",
      "model_name": "NodeModel",
      "state": {
       "_id": "2848e792-1e38-4d19-9410-ca53e1faa8e7",
       "_model_module_version": "^0.2",
       "_view_module_version": "^0.2",
       "icon": "file",
       "name": "resolve_ecoregions.py"
      }
     },
     "3740cb2179644a868e27c2a5ad13f231": {
      "model_module": "@jupyter-widgets/controls",
      "model_module_version": "2.0.0",
      "model_name": "TextModel",
      "state": {
       "layout": "IPY_MODEL_55ed119ae33c4569814e6da742de5a09",
       "placeholder": "Search by place name or address",
       "style": "IPY_MODEL_a559d25afc944c00ad3014caf5129ae5",
       "tooltip": "Search location"
      }
     },
     "3763db7581a54e9b9b9ba30b219207a0": {
      "model_module": "ipytree",
      "model_module_version": "^0.2",
      "model_name": "NodeModel",
      "state": {
       "_id": "de667e0f-d40f-407e-a855-fdc1fc051954",
       "_model_module_version": "^0.2",
       "_view_module_version": "^0.2",
       "icon": "file",
       "name": "hillshade_and_water.py"
      }
     },
     "3766fb3c98b04555bfdef43f85d7aebe": {
      "model_module": "@jupyter-widgets/base",
      "model_module_version": "2.0.0",
      "model_name": "LayoutModel",
      "state": {}
     },
     "378443d063fd496f9adb61471297ea36": {
      "model_module": "jupyter-leaflet",
      "model_module_version": "^0.18",
      "model_name": "LeafletAttributionControlModel",
      "state": {
       "_model_module_version": "^0.18",
       "_view_module_version": "^0.18",
       "options": [
        "position",
        "prefix"
       ],
       "position": "bottomright",
       "prefix": "ipyleaflet"
      }
     },
     "378acf45a3fa436f9df78d14c890dd0e": {
      "model_module": "ipytree",
      "model_module_version": "^0.2",
      "model_name": "NodeModel",
      "state": {
       "_id": "a47ccdcc-5983-4dfe-9a20-0645a3bf485d",
       "_model_module_version": "^0.2",
       "_view_module_version": "^0.2",
       "icon": "file",
       "name": "save_all_joins.py"
      }
     },
     "37a56801a33a4c58a855282640945842": {
      "model_module": "@jupyter-widgets/controls",
      "model_module_version": "2.0.0",
      "model_name": "ToggleButtonModel",
      "state": {
       "button_style": "primary",
       "icon": "gears",
       "layout": "IPY_MODEL_f47b80daa3fa4c6ca45e0520af848c50",
       "style": "IPY_MODEL_935a45c5d94b47178b3ee432dd2f0505",
       "tooltip": "WhiteboxTools for local geoprocessing"
      }
     },
     "385f73a0c4da4ac993eddf70b44dba1e": {
      "model_module": "@jupyter-widgets/base",
      "model_module_version": "2.0.0",
      "model_name": "LayoutModel",
      "state": {
       "width": "32px"
      }
     },
     "38afb52983794935b89a91aea85baa0b": {
      "model_module": "ipytree",
      "model_module_version": "^0.2",
      "model_name": "NodeModel",
      "state": {
       "_id": "b4bc9739-67d3-45b0-80dd-8fba4dfa77ff",
       "_model_module_version": "^0.2",
       "_view_module_version": "^0.2",
       "icon": "file",
       "name": "clipping.py"
      }
     },
     "38bd1118f5564b1d88d5b8288d191240": {
      "model_module": "@jupyter-widgets/controls",
      "model_module_version": "2.0.0",
      "model_name": "ToggleButtonModel",
      "state": {
       "button_style": "primary",
       "icon": "fast-forward",
       "layout": "IPY_MODEL_cfbc4ffc534c44348fb9ce2fcdb51a60",
       "style": "IPY_MODEL_90ce947080704e5eaf9a127770e3da07",
       "tooltip": "Activate timeslider"
      }
     },
     "38eab3a6dfb24115b982c9b62fc88119": {
      "model_module": "@jupyter-widgets/controls",
      "model_module_version": "2.0.0",
      "model_name": "ToggleButtonStyleModel",
      "state": {
       "description_width": "",
       "font_family": null,
       "font_size": null,
       "font_style": null,
       "font_variant": null,
       "font_weight": null,
       "text_color": null,
       "text_decoration": null
      }
     },
     "38f47b2e57ab4537adb3a2a1885b94c2": {
      "model_module": "@jupyter-widgets/base",
      "model_module_version": "2.0.0",
      "model_name": "LayoutModel",
      "state": {
       "height": "auto",
       "padding": "0px 0px 0px 4px",
       "width": "auto"
      }
     },
     "3923ede260844dd9be38e7a55241c151": {
      "model_module": "ipytree",
      "model_module_version": "^0.2",
      "model_name": "NodeModel",
      "state": {
       "_id": "e93424d6-126e-4cbb-bfb2-de7378872e64",
       "_model_module_version": "^0.2",
       "_view_module_version": "^0.2",
       "icon": "file",
       "name": "jrc_metadata.py"
      }
     },
     "394e1ca6de944d94b9593732f8f03dc3": {
      "model_module": "@jupyter-widgets/controls",
      "model_module_version": "2.0.0",
      "model_name": "ToggleButtonStyleModel",
      "state": {
       "description_width": "",
       "font_family": null,
       "font_size": null,
       "font_style": null,
       "font_variant": null,
       "font_weight": null,
       "text_color": null,
       "text_decoration": null
      }
     },
     "398256522cfc467fa2d73743b3dc6bb9": {
      "model_module": "@jupyter-widgets/controls",
      "model_module_version": "2.0.0",
      "model_name": "ToggleButtonStyleModel",
      "state": {
       "description_width": "",
       "font_family": null,
       "font_size": null,
       "font_style": null,
       "font_variant": null,
       "font_weight": null,
       "text_color": null,
       "text_decoration": null
      }
     },
     "3a3a2522b3ea4959a96178723676310c": {
      "model_module": "@jupyter-widgets/controls",
      "model_module_version": "2.0.0",
      "model_name": "ToggleButtonStyleModel",
      "state": {
       "description_width": "",
       "font_family": null,
       "font_size": null,
       "font_style": null,
       "font_variant": null,
       "font_weight": null,
       "text_color": null,
       "text_decoration": null
      }
     },
     "3abf322009904f7f8059b3a6c458cadc": {
      "model_module": "@jupyter-widgets/controls",
      "model_module_version": "2.0.0",
      "model_name": "ToggleButtonStyleModel",
      "state": {
       "description_width": "",
       "font_family": null,
       "font_size": null,
       "font_style": null,
       "font_variant": null,
       "font_weight": null,
       "text_color": null,
       "text_decoration": null
      }
     },
     "3b0fd7b1752048e993d147d628291a61": {
      "model_module": "@jupyter-widgets/base",
      "model_module_version": "2.0.0",
      "model_name": "LayoutModel",
      "state": {}
     },
     "3b2a25594a2847a68622a853337d01e0": {
      "model_module": "@jupyter-widgets/base",
      "model_module_version": "2.0.0",
      "model_name": "LayoutModel",
      "state": {}
     },
     "3b3fe2b1c01c47369e1b8f9621b0639b": {
      "model_module": "@jupyter-widgets/base",
      "model_module_version": "2.0.0",
      "model_name": "LayoutModel",
      "state": {}
     },
     "3b63f20994334aaf95b58bd1de09a032": {
      "model_module": "@jupyter-widgets/base",
      "model_module_version": "2.0.0",
      "model_name": "LayoutModel",
      "state": {}
     },
     "3b84d0a46b934ed7a2cbfba794937810": {
      "model_module": "ipytree",
      "model_module_version": "^0.2",
      "model_name": "NodeModel",
      "state": {
       "_id": "8a69a1d8-7986-42f1-83c4-6912f617b35b",
       "_model_module_version": "^0.2",
       "_view_module_version": "^0.2",
       "icon": "file",
       "name": "reduce_resolution.py"
      }
     },
     "3b9589aa5282498785f594a1c305eb61": {
      "model_module": "@jupyter-widgets/base",
      "model_module_version": "2.0.0",
      "model_name": "LayoutModel",
      "state": {
       "height": "auto",
       "padding": "0px 0px 0px 4px",
       "width": "auto"
      }
     },
     "3c5256b7db7048d6b277f7e3dde4df95": {
      "model_module": "@jupyter-widgets/base",
      "model_module_version": "2.0.0",
      "model_name": "LayoutModel",
      "state": {
       "height": "auto",
       "padding": "0px 0px 0px 4px",
       "width": "auto"
      }
     },
     "3c61806712e44b62890e49ddf623aadc": {
      "model_module": "ipytree",
      "model_module_version": "^0.2",
      "model_name": "NodeModel",
      "state": {
       "_id": "8c49673e-9015-4a8f-b09c-ea30624b5777",
       "_model_module_version": "^0.2",
       "_view_module_version": "^0.2",
       "icon": "file",
       "name": "hough_transform.py"
      }
     },
     "3c9ee2d75c214838a9bbc84525f9719f": {
      "model_module": "@jupyter-widgets/controls",
      "model_module_version": "2.0.0",
      "model_name": "ToggleButtonStyleModel",
      "state": {
       "description_width": "",
       "font_family": null,
       "font_size": null,
       "font_style": null,
       "font_variant": null,
       "font_weight": null,
       "text_color": null,
       "text_decoration": null
      }
     },
     "3ce276be9c72496994d55dae632ed870": {
      "model_module": "@jupyter-widgets/controls",
      "model_module_version": "2.0.0",
      "model_name": "ToggleButtonModel",
      "state": {
       "button_style": "primary",
       "icon": "info",
       "layout": "IPY_MODEL_11198868cd7646e6a936765e65ade495",
       "style": "IPY_MODEL_31de2d8a523542209cb16b50ff2eb546",
       "tooltip": "Inspector"
      }
     },
     "3d3216c056ca4305900f430d754d35cf": {
      "model_module": "@jupyter-widgets/base",
      "model_module_version": "2.0.0",
      "model_name": "LayoutModel",
      "state": {
       "height": "auto",
       "padding": "0px 0px 0px 4px",
       "width": "auto"
      }
     },
     "3d467f93772d44f5879a515a6c16d770": {
      "model_module": "jupyter-leaflet",
      "model_module_version": "^0.18",
      "model_name": "LeafletMapModel",
      "state": {
       "_model_module_version": "^0.18",
       "_view_module_version": "^0.18",
       "controls": [
        "IPY_MODEL_2c82a4c0f5ef4d5aa09b62dd2f5e159e",
        "IPY_MODEL_015823b3d4bc49838895f42f6efc4545",
        "IPY_MODEL_f3359dfe41784479b5f5e9c0ea214133",
        "IPY_MODEL_96475923288b43b69065da7b59128c16",
        "IPY_MODEL_d968f97eb58c4a3b863bc119a02f138b",
        "IPY_MODEL_974cd16ad9bd4defa9e2351c8911ce6f",
        "IPY_MODEL_608210df68024bea8ae0cadbfb346263",
        "IPY_MODEL_d35922a697f8461a8c8fe75c15c5056b"
       ],
       "default_style": "IPY_MODEL_fb55f1ba49124d979286ffb2cd808201",
       "dragging_style": "IPY_MODEL_2d3e33dc9a33477b9ba5695bc4124dc2",
       "fullscreen": false,
       "interpolation": "bilinear",
       "layers": [
        "IPY_MODEL_e43a3385f1e544a4ab73d8589c915843",
        "IPY_MODEL_2d155f4ce33a47bdbd634bd14ed0e360"
       ],
       "layout": "IPY_MODEL_262d1d45160842a6807261be483af445",
       "max_zoom": 24,
       "modisdate": "2024-03-07",
       "options": [
        "bounce_at_zoom_limits",
        "box_zoom",
        "center",
        "close_popup_on_click",
        "double_click_zoom",
        "dragging",
        "fullscreen",
        "inertia",
        "inertia_deceleration",
        "inertia_max_speed",
        "interpolation",
        "keyboard",
        "keyboard_pan_offset",
        "keyboard_zoom_offset",
        "max_zoom",
        "min_zoom",
        "prefer_canvas",
        "scroll_wheel_zoom",
        "tap",
        "tap_tolerance",
        "touch_zoom",
        "world_copy_jump",
        "zoom",
        "zoom_animation_threshold",
        "zoom_delta",
        "zoom_snap"
       ],
       "prefer_canvas": false,
       "scroll_wheel_zoom": true,
       "style": "IPY_MODEL_dfe06e592ae2447396c1e02d7357943f",
       "window_url": "http://localhost:8888/lab",
       "zoom": 2
      }
     },
     "3dbabde178994f588be5051c67827005": {
      "model_module": "@jupyter-widgets/controls",
      "model_module_version": "2.0.0",
      "model_name": "HTMLStyleModel",
      "state": {
       "description_width": "",
       "font_size": null,
       "text_color": null
      }
     },
     "3dd27c5f5c9c4292816ffd636298af9a": {
      "model_module": "ipytree",
      "model_module_version": "^0.2",
      "model_name": "NodeModel",
      "state": {
       "_id": "ad2c5c32-d940-4248-8a45-199aa2efdab6",
       "_model_module_version": "^0.2",
       "_view_module_version": "^0.2",
       "icon": "file",
       "name": "03_finding_images.py"
      }
     },
     "3e4dd877403b44c792a2754f708a91c2": {
      "model_module": "ipytree",
      "model_module_version": "^0.2",
      "model_name": "NodeModel",
      "state": {
       "_id": "372ecb4c-c56d-40db-9609-d3936aecfe93",
       "_model_module_version": "^0.2",
       "_view_module_version": "^0.2",
       "icon": "file",
       "name": "creating_monthly_imagery.py"
      }
     },
     "3e74909b6aba4822b2a95374dddd11f3": {
      "model_module": "@jupyter-widgets/base",
      "model_module_version": "2.0.0",
      "model_name": "LayoutModel",
      "state": {
       "max_width": "57px",
       "min_width": "57px"
      }
     },
     "3f1f75eba51a451ea279bec64fe17440": {
      "model_module": "@jupyter-widgets/controls",
      "model_module_version": "2.0.0",
      "model_name": "TextModel",
      "state": {
       "layout": "IPY_MODEL_7119d3e8017647318809dc3ed0bb8293",
       "placeholder": "Filter scripts...",
       "style": "IPY_MODEL_0d1342e1dcd544b98096debd6d605993"
      }
     },
     "3f2cee13684f46a28be155d695065d54": {
      "model_module": "ipytree",
      "model_module_version": "^0.2",
      "model_name": "NodeModel",
      "state": {
       "_id": "068aea7d-c8da-48e4-8f9f-980a4d20a6df",
       "_model_module_version": "^0.2",
       "_view_module_version": "^0.2",
       "icon": "file",
       "name": "filter_in_list.py"
      }
     },
     "3fa2a4f93f034bdaae2128a977ddd99a": {
      "model_module": "ipytree",
      "model_module_version": "^0.2",
      "model_name": "NodeModel",
      "state": {
       "_id": "cbc17fe2-6fe2-40a2-99d3-0da392c4248d",
       "_model_module_version": "^0.2",
       "_view_module_version": "^0.2",
       "icon": "file",
       "name": "confusion_matrix.py"
      }
     },
     "3fe673c9608f40d0988a3da14418d423": {
      "model_module": "@jupyter-widgets/base",
      "model_module_version": "2.0.0",
      "model_name": "LayoutModel",
      "state": {
       "height": "auto",
       "padding": "0px 0px 0px 4px",
       "width": "auto"
      }
     },
     "3fef04b1a36645c18fed4176b9103103": {
      "model_module": "ipytree",
      "model_module_version": "^0.2",
      "model_name": "NodeModel",
      "state": {
       "_id": "77e861d8-c0d1-4455-927d-21ad215564be",
       "_model_module_version": "^0.2",
       "_view_module_version": "^0.2",
       "icon": "file",
       "name": "filtering_by_calendar_range.py"
      }
     },
     "4035942334394d5d8572436d97d51e43": {
      "model_module": "@jupyter-widgets/base",
      "model_module_version": "2.0.0",
      "model_name": "LayoutModel",
      "state": {
       "height": "auto",
       "padding": "0px 0px 0px 4px",
       "width": "auto"
      }
     },
     "40599642794f43a189ade299d56f2218": {
      "model_module": "jupyter-leaflet",
      "model_module_version": "^0.18",
      "model_name": "LeafletMeasureControlModel",
      "state": {
       "_model_module_version": "^0.18",
       "_view_module_version": "^0.18",
       "active_color": "orange",
       "options": [
        "active_color",
        "capture_z_index",
        "completed_color",
        "popup_options",
        "position",
        "primary_area_unit",
        "primary_length_unit",
        "secondary_area_unit",
        "secondary_length_unit"
       ],
       "position": "bottomleft",
       "primary_length_unit": "kilometers",
       "secondary_area_unit": null,
       "secondary_length_unit": null
      }
     },
     "41245f9ed17149e98a4502e178f3d161": {
      "model_module": "ipytree",
      "model_module_version": "^0.2",
      "model_name": "NodeModel",
      "state": {
       "_id": "4a75c879-04c4-484a-9c0b-335cf34ae44c",
       "_model_module_version": "^0.2",
       "_view_module_version": "^0.2",
       "name": "Tutorials",
       "nodes": [
        "IPY_MODEL_30a3b55a85bf45499f2d57a499fbdd0b",
        "IPY_MODEL_7f9aa2904087433fbe79bb000b7cd5b8"
       ]
      }
     },
     "4171d87bf6174bf8894f76f4c032e434": {
      "model_module": "@jupyter-widgets/base",
      "model_module_version": "2.0.0",
      "model_name": "LayoutModel",
      "state": {
       "height": "auto",
       "padding": "0px 0px 0px 4px",
       "width": "auto"
      }
     },
     "41c88c634a1042a2bac9583929bca37a": {
      "model_module": "@jupyter-widgets/base",
      "model_module_version": "2.0.0",
      "model_name": "LayoutModel",
      "state": {
       "height": "auto",
       "padding": "0px 0px 0px 4px",
       "width": "auto"
      }
     },
     "41edc3c143294c7cbba44b56322464a3": {
      "model_module": "@jupyter-widgets/controls",
      "model_module_version": "2.0.0",
      "model_name": "ToggleButtonModel",
      "state": {
       "icon": "wrench",
       "layout": "IPY_MODEL_1ab1d2a7ec8b4b0e9650c44502da2aca",
       "style": "IPY_MODEL_65d3dbeb5b9c45c28243a2446b8b7bfc",
       "tooltip": "Toolbar"
      }
     },
     "4219de05272044f99ecd0055d277f1f0": {
      "model_module": "ipytree",
      "model_module_version": "^0.2",
      "model_name": "NodeModel",
      "state": {
       "_id": "d9eeae09-c5e2-4c27-ad66-5e495fb36383",
       "_model_module_version": "^0.2",
       "_view_module_version": "^0.2",
       "icon": "file",
       "name": "vector_symbology.py"
      }
     },
     "4235983334044909a466fcb7115c1a17": {
      "model_module": "@jupyter-widgets/controls",
      "model_module_version": "2.0.0",
      "model_name": "ToggleButtonModel",
      "state": {
       "button_style": "primary",
       "icon": "eraser",
       "layout": "IPY_MODEL_451e145dc3d84cbf82c6b4e7cae785a3",
       "style": "IPY_MODEL_394e1ca6de944d94b9593732f8f03dc3",
       "tooltip": "Remove all drawn features"
      }
     },
     "425261506e084f618e22d03a34be4c84": {
      "model_module": "ipytree",
      "model_module_version": "^0.2",
      "model_name": "NodeModel",
      "state": {
       "_id": "899281c8-e828-471a-9fb3-c94235a53103",
       "_model_module_version": "^0.2",
       "_view_module_version": "^0.2",
       "icon": "file",
       "name": "svm_classifier.py"
      }
     },
     "4281799217534af7bbae7b828a2712b1": {
      "model_module": "@jupyter-widgets/controls",
      "model_module_version": "2.0.0",
      "model_name": "ToggleButtonStyleModel",
      "state": {
       "description_width": "",
       "font_family": null,
       "font_size": null,
       "font_style": null,
       "font_variant": null,
       "font_weight": null,
       "text_color": null,
       "text_decoration": null
      }
     },
     "42ace985569146ebbf43f035029926d4": {
      "model_module": "@jupyter-widgets/base",
      "model_module_version": "2.0.0",
      "model_name": "LayoutModel",
      "state": {}
     },
     "42c24a45d69e4736bebf3d9a14e102ee": {
      "model_module": "@jupyter-widgets/controls",
      "model_module_version": "2.0.0",
      "model_name": "ToggleButtonStyleModel",
      "state": {
       "description_width": "",
       "font_family": null,
       "font_size": null,
       "font_style": null,
       "font_variant": null,
       "font_weight": null,
       "text_color": null,
       "text_decoration": null
      }
     },
     "438a472d8b0a457abfef4bc3609fedb0": {
      "model_module": "ipytree",
      "model_module_version": "^0.2",
      "model_name": "NodeModel",
      "state": {
       "_id": "a74d2a0e-f98d-447d-b281-78879efc533a",
       "_model_module_version": "^0.2",
       "_view_module_version": "^0.2",
       "icon": "file",
       "name": "sentinel-1_filtering.py"
      }
     },
     "4390142a79144b02b995587fd9a6a753": {
      "model_module": "@jupyter-widgets/controls",
      "model_module_version": "2.0.0",
      "model_name": "ButtonModel",
      "state": {
       "button_style": "primary",
       "description": "import",
       "layout": "IPY_MODEL_26263705cd7f47788f6226e743745f6d",
       "style": "IPY_MODEL_88e03e6428364851817597b168218b1d",
       "tooltip": "Click to import the selected asset"
      }
     },
     "43ae37a475c64b5b9d6d02159b39ff70": {
      "model_module": "@jupyter-widgets/controls",
      "model_module_version": "2.0.0",
      "model_name": "ToggleButtonStyleModel",
      "state": {
       "description_width": "",
       "font_family": null,
       "font_size": null,
       "font_style": null,
       "font_variant": null,
       "font_weight": null,
       "text_color": null,
       "text_decoration": null
      }
     },
     "43e5868c84c244aea0243683964844fe": {
      "model_module": "@jupyter-widgets/controls",
      "model_module_version": "2.0.0",
      "model_name": "ToggleButtonModel",
      "state": {
       "button_style": "primary",
       "icon": "globe",
       "layout": "IPY_MODEL_4171d87bf6174bf8894f76f4c032e434",
       "style": "IPY_MODEL_d962997044514c9ea40987040b472e1c",
       "tooltip": "Create timelapse"
      }
     },
     "43f479a25b7a4417804a20665ead0531": {
      "model_module": "@jupyter-widgets/controls",
      "model_module_version": "2.0.0",
      "model_name": "DescriptionStyleModel",
      "state": {
       "description_width": ""
      }
     },
     "442955f9a6114079bc7c436f8927cc23": {
      "model_module": "@jupyter-widgets/base",
      "model_module_version": "2.0.0",
      "model_name": "LayoutModel",
      "state": {
       "height": "28px",
       "padding": "0px 0px 0px 4px",
       "width": "28px"
      }
     },
     "44951ebcf3284d6d9c63a043ab319d36": {
      "model_module": "@jupyter-widgets/controls",
      "model_module_version": "2.0.0",
      "model_name": "ToggleButtonModel",
      "state": {
       "button_style": "primary",
       "icon": "folder-open",
       "layout": "IPY_MODEL_3b9589aa5282498785f594a1c305eb61",
       "style": "IPY_MODEL_0c3916b2846d41a795239f4ae761d065",
       "tooltip": "Open local vector/raster data"
      }
     },
     "4508b3f2c5a2474196e3480ee12dccd2": {
      "model_module": "@jupyter-widgets/base",
      "model_module_version": "2.0.0",
      "model_name": "LayoutModel",
      "state": {}
     },
     "451e145dc3d84cbf82c6b4e7cae785a3": {
      "model_module": "@jupyter-widgets/base",
      "model_module_version": "2.0.0",
      "model_name": "LayoutModel",
      "state": {
       "height": "auto",
       "padding": "0px 0px 0px 4px",
       "width": "auto"
      }
     },
     "4573a325a74c464d84e474c8b3ff58e8": {
      "model_module": "jupyter-leaflet",
      "model_module_version": "^0.18",
      "model_name": "LeafletMapStyleModel",
      "state": {
       "_model_module_version": "^0.18"
      }
     },
     "457a479675a84fc28a71d4690483050e": {
      "model_module": "ipytree",
      "model_module_version": "^0.2",
      "model_name": "NodeModel",
      "state": {
       "_id": "2c6503fd-c029-4514-9df5-d6157b4a6592",
       "_model_module_version": "^0.2",
       "_view_module_version": "^0.2",
       "icon": "file",
       "name": "cart_classifier.py"
      }
     },
     "45981528ac0a45e59978a1ff04d96e0b": {
      "model_module": "@jupyter-widgets/controls",
      "model_module_version": "2.0.0",
      "model_name": "ToggleButtonModel",
      "state": {
       "button_style": "primary",
       "icon": "hand-o-up",
       "layout": "IPY_MODEL_ed946fd5e2b84d69b01648277228d82f",
       "style": "IPY_MODEL_33d02ed9f55c4bd99d9c5a803f634f79",
       "tooltip": "Collect training samples"
      }
     },
     "45bbd2b67a7148ce92d8e5172bcac654": {
      "model_module": "ipytree",
      "model_module_version": "^0.2",
      "model_name": "NodeModel",
      "state": {
       "_id": "9c485cc7-ff9f-4428-8c4b-0b9836b6beee",
       "_model_module_version": "^0.2",
       "_view_module_version": "^0.2",
       "icon": "file",
       "name": "cumulative_cost_mapping.py"
      }
     },
     "45ca3cbd266247589c68ffe4988985c3": {
      "model_module": "@jupyter-widgets/controls",
      "model_module_version": "2.0.0",
      "model_name": "ToggleButtonModel",
      "state": {
       "button_style": "primary",
       "icon": "bar-chart",
       "layout": "IPY_MODEL_68c13a3c14c64f549c4587af1bd893c1",
       "style": "IPY_MODEL_cb3d509153c74d958fbf63d47a170ab5",
       "tooltip": "Plotting"
      }
     },
     "45e09ce0618c45e6a4bb94b72bd4fa77": {
      "model_module": "@jupyter-widgets/base",
      "model_module_version": "2.0.0",
      "model_name": "LayoutModel",
      "state": {}
     },
     "45e6559a603c483eb5928f7d49e04071": {
      "model_module": "@jupyter-widgets/base",
      "model_module_version": "2.0.0",
      "model_name": "LayoutModel",
      "state": {
       "height": "28px",
       "width": "72px"
      }
     },
     "4632e0bcf2444f629a2ef433aba33070": {
      "model_module": "ipytree",
      "model_module_version": "^0.2",
      "model_name": "NodeModel",
      "state": {
       "_id": "2ac06ff9-c8a1-4f77-af9b-c74a776ffafe",
       "_model_module_version": "^0.2",
       "_view_module_version": "^0.2",
       "icon": "file",
       "name": "select_bands.py"
      }
     },
     "4653428903df46e9aa1b82ae9af6fcb6": {
      "model_module": "@jupyter-widgets/controls",
      "model_module_version": "2.0.0",
      "model_name": "ToggleButtonModel",
      "state": {
       "button_style": "primary",
       "icon": "eraser",
       "layout": "IPY_MODEL_e9b5efa8970a496eb7ea3624346ca88d",
       "style": "IPY_MODEL_1c31c31672a344cca594abec6a6becb5",
       "tooltip": "Remove all drawn features"
      }
     },
     "46c2c63919814184b36033b3316472ee": {
      "model_module": "@jupyter-widgets/controls",
      "model_module_version": "2.0.0",
      "model_name": "HBoxModel",
      "state": {
       "_dom_classes": [
        "geemap-light"
       ],
       "_view_count": 1,
       "children": [
        "IPY_MODEL_ede7a9ea97454cd0ab1729fb1191fa4e"
       ],
       "layout": "IPY_MODEL_aac3318ee9024ca2861cb2a5c7db5715"
      }
     },
     "46cecc4b86ae4f4e9a219bc11a787540": {
      "model_module": "@jupyter-widgets/controls",
      "model_module_version": "2.0.0",
      "model_name": "ToggleButtonStyleModel",
      "state": {
       "description_width": "",
       "font_family": null,
       "font_size": null,
       "font_style": null,
       "font_variant": null,
       "font_weight": null,
       "text_color": null,
       "text_decoration": null
      }
     },
     "4720fcd416734aaa9fe67d25ba77808b": {
      "model_module": "@jupyter-widgets/controls",
      "model_module_version": "2.0.0",
      "model_name": "ToggleButtonModel",
      "state": {
       "button_style": "primary",
       "icon": "gears",
       "layout": "IPY_MODEL_c938e3c2f809440caaedbe67c189a2f1",
       "style": "IPY_MODEL_56012a22bb1a4eef87401f5dd740e4cb",
       "tooltip": "WhiteboxTools for local geoprocessing"
      }
     },
     "47fbd4a406e84a48ba1c3d176146184d": {
      "model_module": "@jupyter-widgets/base",
      "model_module_version": "2.0.0",
      "model_name": "LayoutModel",
      "state": {
       "height": "28px",
       "padding": "0px 0px 0px 4px",
       "width": "28px"
      }
     },
     "4812a3da6b0a4ad9a858408ea9473356": {
      "model_module": "@jupyter-widgets/controls",
      "model_module_version": "2.0.0",
      "model_name": "ToggleButtonStyleModel",
      "state": {
       "description_width": "",
       "font_family": null,
       "font_size": null,
       "font_style": null,
       "font_variant": null,
       "font_weight": null,
       "text_color": null,
       "text_decoration": null
      }
     },
     "484985de79274096b5236fe99f267c62": {
      "model_module": "@jupyter-widgets/controls",
      "model_module_version": "2.0.0",
      "model_name": "ToggleButtonModel",
      "state": {
       "button_style": "primary",
       "icon": "plus",
       "layout": "IPY_MODEL_64e4020af772475493246b0351a9d54d",
       "style": "IPY_MODEL_89ac719ff2ad4d69af6f00776ce48283",
       "tooltip": "Expand toolbar"
      }
     },
     "4851b80d5bfe49edad40f0653274fde1": {
      "model_module": "ipytree",
      "model_module_version": "^0.2",
      "model_name": "NodeModel",
      "state": {
       "_id": "65daf488-cfb1-4101-8dc8-b7501c4db0ae",
       "_model_module_version": "^0.2",
       "_view_module_version": "^0.2",
       "icon": "file",
       "name": "reduce_to_image.py"
      }
     },
     "48a3a67806fb4cecb4ca782d15f3cbee": {
      "model_module": "jupyter-leaflet",
      "model_module_version": "^0.18",
      "model_name": "LeafletMapStyleModel",
      "state": {
       "_model_module_version": "^0.18",
       "cursor": "move"
      }
     },
     "48bd058a20fd435da9376fb17effe4ba": {
      "model_module": "ipytree",
      "model_module_version": "^0.2",
      "model_name": "NodeModel",
      "state": {
       "_id": "1febb777-7fd5-4291-a574-82e6e064337b",
       "_model_module_version": "^0.2",
       "_view_module_version": "^0.2",
       "icon": "file",
       "name": "linear_regression.py"
      }
     },
     "48f5265672b645638583791ae29b6eb9": {
      "model_module": "jupyter-leaflet",
      "model_module_version": "^0.18",
      "model_name": "LeafletZoomControlModel",
      "state": {
       "_model_module_version": "^0.18",
       "_view_module_version": "^0.18",
       "options": [
        "position",
        "zoom_in_text",
        "zoom_in_title",
        "zoom_out_text",
        "zoom_out_title"
       ]
      }
     },
     "49c597ccf14e495fa1d5f8ee777bdc0a": {
      "model_module": "@jupyter-widgets/controls",
      "model_module_version": "2.0.0",
      "model_name": "VBoxModel",
      "state": {
       "children": [
        "IPY_MODEL_75c0d402cd0b4eacb8b8555d51b3a344"
       ],
       "layout": "IPY_MODEL_2fb52ae26a744e24acabcfbba6c615e1"
      }
     },
     "49d10702d00e4c319c96fe80ad2f914a": {
      "model_module": "@jupyter-widgets/controls",
      "model_module_version": "2.0.0",
      "model_name": "ToggleButtonModel",
      "state": {
       "button_style": "primary",
       "icon": "info",
       "layout": "IPY_MODEL_0c9d31f7b1db451f9f23cefe2450e344",
       "style": "IPY_MODEL_f6b06e21d19c4cab80ba37ec2127d3d4",
       "tooltip": "Inspector"
      }
     },
     "4a521655e9d34f43b5df60b44c9a3d7d": {
      "model_module": "ipytree",
      "model_module_version": "^0.2",
      "model_name": "NodeModel",
      "state": {
       "_id": "93a942d1-f9ec-41ef-9d92-baf1acee8ba5",
       "_model_module_version": "^0.2",
       "_view_module_version": "^0.2",
       "icon": "file",
       "name": "us_ned_landforms.py"
      }
     },
     "4a736c2ae3f742e5a22556585fabc1bf": {
      "model_module": "jupyter-leaflet",
      "model_module_version": "^0.18",
      "model_name": "LeafletWidgetControlModel",
      "state": {
       "_model_module": "jupyter-leaflet",
       "_model_module_version": "^0.18",
       "_view_count": null,
       "_view_module": "jupyter-leaflet",
       "_view_module_version": "^0.18",
       "options": [
        "position",
        "transparent_bg"
       ],
       "position": "topleft",
       "widget": "IPY_MODEL_c57ae8e752ae457dad9f3b4fa273b563"
      }
     },
     "4aa168f93b8c4cb4bc035f37e12b6887": {
      "model_module": "ipytree",
      "model_module_version": "^0.2",
      "model_name": "NodeModel",
      "state": {
       "_id": "5fbe964f-a510-496f-b0b5-e3fb8d79a3b7",
       "_model_module_version": "^0.2",
       "_view_module_version": "^0.2",
       "icon": "file",
       "name": "select_by_strings.py"
      }
     },
     "4ad06b8dec934ab8b864d86e088722ef": {
      "model_module": "ipytree",
      "model_module_version": "^0.2",
      "model_name": "NodeModel",
      "state": {
       "_id": "3bd00eca-d120-4cdf-bd6c-3581dd8253ad",
       "_model_module_version": "^0.2",
       "_view_module_version": "^0.2",
       "icon": "file",
       "name": "world_database_on_protected_areas.py"
      }
     },
     "4ad6ab372b2344be92183119c9af0392": {
      "model_module": "jupyter-leaflet",
      "model_module_version": "^0.18",
      "model_name": "LeafletMapStyleModel",
      "state": {
       "_model_module_version": "^0.18"
      }
     },
     "4ae98c3e2ecf4bc4bb2b102dcfbf9b19": {
      "model_module": "@jupyter-widgets/base",
      "model_module_version": "2.0.0",
      "model_name": "LayoutModel",
      "state": {
       "height": "auto",
       "padding": "0px 0px 0px 4px",
       "width": "auto"
      }
     },
     "4afac3ba6c4348c7907c4b7704c0847f": {
      "model_module": "@jupyter-widgets/controls",
      "model_module_version": "2.0.0",
      "model_name": "ToggleButtonModel",
      "state": {
       "button_style": "primary",
       "icon": "map",
       "layout": "IPY_MODEL_1ac7153764e74cf29b816cb5f897d0c5",
       "style": "IPY_MODEL_210321bc3de04907a7d0a85e9770e9d9",
       "tooltip": "Change basemap"
      }
     },
     "4b0b350ff43041a5beda54d3e9ff0f2c": {
      "model_module": "@jupyter-widgets/base",
      "model_module_version": "2.0.0",
      "model_name": "LayoutModel",
      "state": {}
     },
     "4b1793ba84ec42e08a4740fd6bccad60": {
      "model_module": "ipytree",
      "model_module_version": "^0.2",
      "model_name": "NodeModel",
      "state": {
       "_id": "3a3bace7-98ba-436a-8bb9-8c699b529c53",
       "_model_module_version": "^0.2",
       "_view_module_version": "^0.2",
       "icon": "file",
       "name": "download.py"
      }
     },
     "4b9bb32ee2744ef4893a3e7bc1bb2695": {
      "model_module": "ipytree",
      "model_module_version": "^0.2",
      "model_name": "NodeModel",
      "state": {
       "_id": "65588ebc-9f0b-4a31-a1f3-a5c2905cad4c",
       "_model_module_version": "^0.2",
       "_view_module_version": "^0.2",
       "icon": "file",
       "name": "visualizing_feature_collection.py"
      }
     },
     "4bcfc987ae2a4768847aa06f6d72144a": {
      "model_module": "@jupyter-widgets/controls",
      "model_module_version": "2.0.0",
      "model_name": "ToggleButtonModel",
      "state": {
       "icon": "server",
       "layout": "IPY_MODEL_8c3db24fe0b448c28f413222356efa40",
       "style": "IPY_MODEL_e6b7ec826ed54be685ca783da59260dc",
       "tooltip": "Layers"
      }
     },
     "4c0601a7601347efb2e1fff61a1dd393": {
      "model_module": "ipytree",
      "model_module_version": "^0.2",
      "model_name": "NodeModel",
      "state": {
       "_id": "16a8903e-fea1-4c87-8432-c77b105b507e",
       "_model_module_version": "^0.2",
       "_view_module_version": "^0.2",
       "icon": "file",
       "name": "clamp.py"
      }
     },
     "4c20315c410c48ff8e2e6505c029420f": {
      "model_module": "@jupyter-widgets/base",
      "model_module_version": "2.0.0",
      "model_name": "LayoutModel",
      "state": {}
     },
     "4c59d0e74e0e466e9041cba4bb50f6ce": {
      "model_module": "ipytree",
      "model_module_version": "^0.2",
      "model_name": "NodeModel",
      "state": {
       "_id": "19d2ee21-c9b2-4e9d-be9a-828ac01de40f",
       "_model_module_version": "^0.2",
       "_view_module_version": "^0.2",
       "icon": "file",
       "name": "08_masking.py"
      }
     },
     "4c602963854849c5ad136fca07eb1026": {
      "model_module": "ipytree",
      "model_module_version": "^0.2",
      "model_name": "NodeModel",
      "state": {
       "_id": "349ee24c-5cea-4440-a55e-682f45d0a933",
       "_model_module_version": "^0.2",
       "_view_module_version": "^0.2",
       "icon": "file",
       "name": "hillshade.py"
      }
     },
     "4c6b9d53c11b454285d4184e024f6e06": {
      "model_module": "ipytree",
      "model_module_version": "^0.2",
      "model_name": "NodeModel",
      "state": {
       "_id": "f07d4b47-3b9b-4d03-abde-3dda2b6ec89a",
       "_model_module_version": "^0.2",
       "_view_module_version": "^0.2",
       "name": "Vectors",
       "nodes": [
        "IPY_MODEL_90450d5f881e4d64893674e2a70c52a5",
        "IPY_MODEL_9a890769db5b457e862beed68ccff12b",
        "IPY_MODEL_2207cba2861e47be992194f625b9c835",
        "IPY_MODEL_06498a70168747c1ad88ec99349b5f9e",
        "IPY_MODEL_36fbcec953a24e5597bacc5219f11878",
        "IPY_MODEL_88e1a6c258f64d508090eb1cccd062e0",
        "IPY_MODEL_68a1b37c68a646438801a7f286406b56",
        "IPY_MODEL_e3a3211a99be4a4489014ff24676c440",
        "IPY_MODEL_ba2825d549ef41aa8bd87ad7db3fe9e5",
        "IPY_MODEL_b7b39a22b0c84711b8a5f63d22240afb",
        "IPY_MODEL_6ef76002e82f4c89b28ee085ced400ae",
        "IPY_MODEL_a3cde40ec7e14fc2a8c849f10457a35b",
        "IPY_MODEL_da89dc0cc4c746eeaf139946783092a8",
        "IPY_MODEL_02e7eeefee634f04abd92f5106f2b2bc",
        "IPY_MODEL_4ad06b8dec934ab8b864d86e088722ef"
       ],
       "opened": false
      }
     },
     "4c913ea6f87546e587fb2f8605dadd9c": {
      "model_module": "@jupyter-widgets/controls",
      "model_module_version": "2.0.0",
      "model_name": "ToggleButtonModel",
      "state": {
       "button_style": "primary",
       "icon": "map",
       "layout": "IPY_MODEL_34b7fe56508f4f1983d5fcf1e61609fe",
       "style": "IPY_MODEL_db7328dbb22a4acfb3fa90c465d0dbac",
       "tooltip": "Change basemap"
      }
     },
     "4cfa38ee59c94f73a62451e3d8ba389d": {
      "model_module": "@jupyter-widgets/controls",
      "model_module_version": "2.0.0",
      "model_name": "ToggleButtonModel",
      "state": {
       "button_style": "primary",
       "icon": "random",
       "layout": "IPY_MODEL_ad9040d87e664db3a822adeabba658c0",
       "style": "IPY_MODEL_a1667824cc1a4a6cbf2db2bb781a5b34",
       "tooltip": "Sankey plots"
      }
     },
     "4d60018f3d2d4f0b83a1b31a2b80155a": {
      "model_module": "ipytree",
      "model_module_version": "^0.2",
      "model_name": "NodeModel",
      "state": {
       "_id": "6cbfe1dc-6348-4b67-a21d-a29791e78d83",
       "_model_module_version": "^0.2",
       "_view_module_version": "^0.2",
       "icon": "file",
       "name": "center_pivot_irrigation_detector.py"
      }
     },
     "4d6553b84a1e4943b100f74ac1417f60": {
      "model_module": "@jupyter-widgets/controls",
      "model_module_version": "2.0.0",
      "model_name": "HTMLModel",
      "state": {
       "layout": "IPY_MODEL_229eeeac2eed4230b8b933d248562628",
       "style": "IPY_MODEL_cc5f0057c1514726aa46056b9d334e3b"
      }
     },
     "4db55dff2d8949c79994987d5da5808e": {
      "model_module": "ipytree",
      "model_module_version": "^0.2",
      "model_name": "NodeModel",
      "state": {
       "_id": "39e4f2d8-a84f-42c8-b03b-0fa75aac9b75",
       "_model_module_version": "^0.2",
       "_view_module_version": "^0.2",
       "icon": "file",
       "name": "naip_imagery.py"
      }
     },
     "4e11dcea17334ec7a9c5cdb4b18999fb": {
      "model_module": "@jupyter-widgets/controls",
      "model_module_version": "2.0.0",
      "model_name": "ToggleButtonsModel",
      "state": {
       "_options_labels": [
        "name/address",
        "lat-lon",
        "data"
       ],
       "button_style": "",
       "icons": [],
       "index": 0,
       "layout": "IPY_MODEL_8cbda37e028d48cab157c53bac45adb8",
       "style": "IPY_MODEL_c148a0fc4fff4d74b9f178a8da79652e",
       "tooltips": [
        "Search by place name or address",
        "Search by lat-lon coordinates",
        "Search Earth Engine data catalog"
       ]
      }
     },
     "4e36e287e6e74b0fbea2d47b642cf806": {
      "model_module": "@jupyter-widgets/base",
      "model_module_version": "2.0.0",
      "model_name": "LayoutModel",
      "state": {
       "max_width": "279px",
       "min_width": "279px"
      }
     },
     "4e43b45de6e84ff4961afdfb544c7ad8": {
      "model_module": "ipytree",
      "model_module_version": "^0.2",
      "model_name": "NodeModel",
      "state": {
       "_id": "755bb5a2-d0e1-451f-9207-831caa44d624",
       "_model_module_version": "^0.2",
       "_view_module_version": "^0.2",
       "icon": "file",
       "name": "using_weights.py"
      }
     },
     "4eb16588a66f424f9a4c182be99483e6": {
      "model_module": "@jupyter-widgets/base",
      "model_module_version": "2.0.0",
      "model_name": "LayoutModel",
      "state": {
       "height": "auto",
       "padding": "0px 0px 0px 4px",
       "width": "auto"
      }
     },
     "4fb857a1106e4e3380b3f5ceb8132342": {
      "model_module": "ipytree",
      "model_module_version": "^0.2",
      "model_name": "NodeModel",
      "state": {
       "_id": "d17cb752-d49d-4899-bcd4-f905de3d7cb7",
       "_model_module_version": "^0.2",
       "_view_module_version": "^0.2",
       "icon": "file",
       "name": "landsat8_surface_reflectance-copy.py"
      }
     },
     "4fc56e43bffd404a8364d9df1015f59e": {
      "model_module": "ipytree",
      "model_module_version": "^0.2",
      "model_name": "NodeModel",
      "state": {
       "_id": "6fbe611a-67f7-4454-8aca-dd1ce3c24d5b",
       "_model_module_version": "^0.2",
       "_view_module_version": "^0.2",
       "icon": "file",
       "name": "mean_std_image.py"
      }
     },
     "4fdbdf70d31845a68e1851cfdc113819": {
      "model_module": "@jupyter-widgets/base",
      "model_module_version": "2.0.0",
      "model_name": "LayoutModel",
      "state": {
       "max_width": "279px",
       "min_width": "279px"
      }
     },
     "5014b15ffc4946df85f8f24d5807f4d8": {
      "model_module": "@jupyter-widgets/controls",
      "model_module_version": "2.0.0",
      "model_name": "ToggleButtonStyleModel",
      "state": {
       "description_width": "",
       "font_family": null,
       "font_size": null,
       "font_style": null,
       "font_variant": null,
       "font_weight": null,
       "text_color": null,
       "text_decoration": null
      }
     },
     "503a7cd8b2ad4c30876ef70f9521f653": {
      "model_module": "@jupyter-widgets/controls",
      "model_module_version": "2.0.0",
      "model_name": "ToggleButtonModel",
      "state": {
       "button_style": "primary",
       "icon": "minus",
       "layout": "IPY_MODEL_da300fba2d1947c6a972c902571a9ade",
       "style": "IPY_MODEL_018182318b994f1cbbc9347f049e18aa",
       "tooltip": "Collapse toolbar"
      }
     },
     "50a5e17401584b2b827de00e9ff1f5e1": {
      "model_module": "@jupyter-widgets/base",
      "model_module_version": "2.0.0",
      "model_name": "LayoutModel",
      "state": {}
     },
     "50b7bee49c174d7ea595d77ec60b256a": {
      "model_module": "@jupyter-widgets/controls",
      "model_module_version": "2.0.0",
      "model_name": "ToggleButtonStyleModel",
      "state": {
       "description_width": "",
       "font_family": null,
       "font_size": null,
       "font_style": null,
       "font_variant": null,
       "font_weight": null,
       "text_color": null,
       "text_decoration": null
      }
     },
     "50db9b70fb0a445c9a87a948219b3c5e": {
      "model_module": "@jupyter-widgets/controls",
      "model_module_version": "2.0.0",
      "model_name": "ToggleButtonModel",
      "state": {
       "button_style": "primary",
       "icon": "folder-open",
       "layout": "IPY_MODEL_1d8c281e742c451ea844bd08ebe7e2da",
       "style": "IPY_MODEL_7c8b4234a92e48e3b02efcd10516da7d",
       "tooltip": "Open local vector/raster data"
      }
     },
     "5112c71131154de59fe47ec06ebb2132": {
      "model_module": "ipytree",
      "model_module_version": "^0.2",
      "model_name": "NodeModel",
      "state": {
       "_id": "b9e88f22-1e2f-4672-88e3-8bf5ebfacb00",
       "_model_module_version": "^0.2",
       "_view_module_version": "^0.2",
       "icon": "file",
       "name": "metadata.py"
      }
     },
     "513fdec56f454ac3bb09a8dcb20e5c01": {
      "model_module": "@jupyter-widgets/controls",
      "model_module_version": "2.0.0",
      "model_name": "ToggleButtonModel",
      "state": {
       "button_style": "primary",
       "icon": "hand-o-up",
       "layout": "IPY_MODEL_1754513312ce42bfa5bdb875058d1ee4",
       "style": "IPY_MODEL_e0f6be72d5b04fe9b82ca16957784fa3",
       "tooltip": "Collect training samples"
      }
     },
     "51dc79032e7d46e3aa869d97a36a9395": {
      "model_module": "@jupyter-widgets/controls",
      "model_module_version": "2.0.0",
      "model_name": "VBoxModel",
      "state": {
       "_dom_classes": [
        "geemap-light"
       ],
       "_view_count": 0,
       "children": [
        "IPY_MODEL_41edc3c143294c7cbba44b56322464a3"
       ],
       "layout": "IPY_MODEL_42ace985569146ebbf43f035029926d4"
      }
     },
     "5250c31fc52a4375a5f2174061516711": {
      "model_module": "ipytree",
      "model_module_version": "^0.2",
      "model_name": "NodeModel",
      "state": {
       "_id": "efc2806a-07fb-4924-ad91-c0f49a401be0",
       "_model_module_version": "^0.2",
       "_view_module_version": "^0.2",
       "icon": "file",
       "name": "get_image_resolution.py"
      }
     },
     "526ab7014f094deaba868fe2020386b4": {
      "model_module": "@jupyter-widgets/controls",
      "model_module_version": "2.0.0",
      "model_name": "RadioButtonsModel",
      "state": {
       "index": null,
       "layout": "IPY_MODEL_3766fb3c98b04555bfdef43f85d7aebe",
       "style": "IPY_MODEL_cd865613fd694f4aa9f6e83ec37b7fa8"
      }
     },
     "53468a8b04744a7094e068fa7855ff93": {
      "model_module": "ipytree",
      "model_module_version": "^0.2",
      "model_name": "NodeModel",
      "state": {
       "_id": "08fec325-007d-454c-b407-e31ea04d60b9",
       "_model_module_version": "^0.2",
       "_view_module_version": "^0.2",
       "name": "Join",
       "nodes": [
        "IPY_MODEL_6053e6d6b5c0465d854b67fda546c8a9",
        "IPY_MODEL_0a04d399797e409ab1393706123fe831",
        "IPY_MODEL_d63740a237424a2bbc426f75dc17b50c",
        "IPY_MODEL_378acf45a3fa436f9df78d14c890dd0e",
        "IPY_MODEL_df121ade02a348caa63fb1c9e5996afa",
        "IPY_MODEL_560668292903432cada27b1a13249e3f",
        "IPY_MODEL_a583ac66c72543338a40698c0ab4894c"
       ],
       "opened": false
      }
     },
     "534e23a0ea724f22a728f94832e6e8ff": {
      "model_module": "@jupyter-widgets/base",
      "model_module_version": "2.0.0",
      "model_name": "LayoutModel",
      "state": {
       "height": "28px",
       "width": "72px"
      }
     },
     "538c159687c244288d21e305962ba82e": {
      "model_module": "@jupyter-widgets/controls",
      "model_module_version": "2.0.0",
      "model_name": "ToggleButtonStyleModel",
      "state": {
       "description_width": "",
       "font_family": null,
       "font_size": null,
       "font_style": null,
       "font_variant": null,
       "font_weight": null,
       "text_color": null,
       "text_decoration": null
      }
     },
     "53db306f19044f00aedf894ca586b380": {
      "model_module": "ipytree",
      "model_module_version": "^0.2",
      "model_name": "NodeModel",
      "state": {
       "_id": "dcbf7ac5-d125-4338-b265-52a2c0caed49",
       "_model_module_version": "^0.2",
       "_view_module_version": "^0.2",
       "icon": "file",
       "name": "map_get_center.py"
      }
     },
     "53ffa55fd08746bc9009da34bffb2ec2": {
      "model_module": "@jupyter-widgets/controls",
      "model_module_version": "2.0.0",
      "model_name": "ToggleButtonStyleModel",
      "state": {
       "description_width": "",
       "font_family": null,
       "font_size": null,
       "font_style": null,
       "font_variant": null,
       "font_weight": null,
       "text_color": null,
       "text_decoration": null
      }
     },
     "543aa5a00f92471cb4a960270f5118c0": {
      "model_module": "@jupyter-widgets/base",
      "model_module_version": "2.0.0",
      "model_name": "LayoutModel",
      "state": {}
     },
     "543e0a0164a2498cb4d2f02111726cd3": {
      "model_module": "@jupyter-widgets/base",
      "model_module_version": "2.0.0",
      "model_name": "LayoutModel",
      "state": {}
     },
     "55157534c5654a639590038ada0bf7e4": {
      "model_module": "jupyter-leaflet",
      "model_module_version": "^0.18",
      "model_name": "LeafletWMSLayerModel",
      "state": {
       "_model_module_version": "^0.18",
       "_view_module_version": "^0.18",
       "attribution": "MRLC",
       "crs": {
        "custom": false,
        "name": "EPSG3857"
       },
       "format": "image/png",
       "layers": "NLCD_2001_Land_Cover_L48",
       "name": "NLCD 2001 CONUS Land Cover",
       "options": [
        "attribution",
        "bounds",
        "detect_retina",
        "format",
        "layers",
        "max_native_zoom",
        "max_zoom",
        "min_native_zoom",
        "min_zoom",
        "no_wrap",
        "styles",
        "tile_size",
        "tms",
        "transparent",
        "uppercase",
        "zoom_offset"
       ],
       "transparent": true,
       "url": "https://www.mrlc.gov/geoserver/mrlc_display/NLCD_2001_Land_Cover_L48/wms?"
      }
     },
     "5551379f627e47a7bfcc11313b90b837": {
      "model_module": "jupyter-leaflet",
      "model_module_version": "^0.18",
      "model_name": "LeafletMapStyleModel",
      "state": {
       "_model_module_version": "^0.18"
      }
     },
     "556de27f93a142beb69fd77a78dd882c": {
      "model_module": "ipytree",
      "model_module_version": "^0.2",
      "model_name": "NodeModel",
      "state": {
       "_id": "818b8804-5b36-459f-ae93-9d865d06e639",
       "_model_module_version": "^0.2",
       "_view_module_version": "^0.2",
       "icon": "file",
       "name": "array_transformations.py"
      }
     },
     "559adcbc47f14af7b83fbc0eab436045": {
      "model_module": "@jupyter-widgets/controls",
      "model_module_version": "2.0.0",
      "model_name": "ToggleButtonStyleModel",
      "state": {
       "description_width": "",
       "font_family": null,
       "font_size": null,
       "font_style": null,
       "font_variant": null,
       "font_weight": null,
       "text_color": null,
       "text_decoration": null
      }
     },
     "55a1591758c347a38af9c671799aaef5": {
      "model_module": "@jupyter-widgets/controls",
      "model_module_version": "2.0.0",
      "model_name": "ToggleButtonModel",
      "state": {
       "icon": "wrench",
       "layout": "IPY_MODEL_b6d8ce3d68c34033806f649422e51401",
       "style": "IPY_MODEL_4812a3da6b0a4ad9a858408ea9473356",
       "tooltip": "Toolbar"
      }
     },
     "55ed119ae33c4569814e6da742de5a09": {
      "model_module": "@jupyter-widgets/base",
      "model_module_version": "2.0.0",
      "model_name": "LayoutModel",
      "state": {
       "width": "340px"
      }
     },
     "56012a22bb1a4eef87401f5dd740e4cb": {
      "model_module": "@jupyter-widgets/controls",
      "model_module_version": "2.0.0",
      "model_name": "ToggleButtonStyleModel",
      "state": {
       "description_width": "",
       "font_family": null,
       "font_size": null,
       "font_style": null,
       "font_variant": null,
       "font_weight": null,
       "text_color": null,
       "text_decoration": null
      }
     },
     "560668292903432cada27b1a13249e3f": {
      "model_module": "ipytree",
      "model_module_version": "^0.2",
      "model_name": "NodeModel",
      "state": {
       "_id": "e9e4a8b3-88f9-4a64-832b-e6fc36219c01",
       "_model_module_version": "^0.2",
       "_view_module_version": "^0.2",
       "icon": "file",
       "name": "simple_joins.py"
      }
     },
     "563728348ab64d469a13f4893be1a83f": {
      "model_module": "@jupyter-widgets/controls",
      "model_module_version": "2.0.0",
      "model_name": "ToggleButtonStyleModel",
      "state": {
       "description_width": "",
       "font_family": null,
       "font_size": null,
       "font_style": null,
       "font_variant": null,
       "font_weight": null,
       "text_color": null,
       "text_decoration": null
      }
     },
     "56c3fc056e9c441ea63cb9bcf1bd4761": {
      "model_module": "@jupyter-widgets/controls",
      "model_module_version": "2.0.0",
      "model_name": "TextModel",
      "state": {
       "layout": "IPY_MODEL_fffe9f62ab6c4aa3a0069d67fbb8cd98",
       "placeholder": "Search by place name or address",
       "style": "IPY_MODEL_14cdd0876de443ed9244b8a175631580",
       "tooltip": "Search location"
      }
     },
     "57002430af954e0084159953d02affac": {
      "model_module": "jupyter-leaflet",
      "model_module_version": "^0.18",
      "model_name": "LeafletDrawControlModel",
      "state": {
       "_model_module_version": "^0.18",
       "_view_module_version": "^0.18",
       "marker": {
        "shapeOptions": {
         "color": "#3388ff"
        }
       },
       "options": [
        "position"
       ],
       "rectangle": {
        "shapeOptions": {
         "color": "#3388ff"
        }
       }
      }
     },
     "572f01d05d174ac1bcae96d56ec23c15": {
      "model_module": "ipytree",
      "model_module_version": "^0.2",
      "model_name": "NodeModel",
      "state": {
       "_id": "f4cfe6dc-24ee-4fa3-a6cb-cbd4de85adba",
       "_model_module_version": "^0.2",
       "_view_module_version": "^0.2",
       "icon": "file",
       "name": "image_stats_by_band.py"
      }
     },
     "573a6bf51c3c4ceda048cda32232e205": {
      "model_module": "@jupyter-widgets/controls",
      "model_module_version": "2.0.0",
      "model_name": "ToggleButtonModel",
      "state": {
       "button_style": "primary",
       "icon": "retweet",
       "layout": "IPY_MODEL_a7f45c379e7943718f4d9e15c8f9f041",
       "style": "IPY_MODEL_31bd126efdd7474d899e792f428a74cc",
       "tooltip": "Convert Earth Engine JavaScript to Python"
      }
     },
     "57442a1778824b3d953b3cb3c339e807": {
      "model_module": "ipytree",
      "model_module_version": "^0.2",
      "model_name": "NodeModel",
      "state": {
       "_id": "9e396f7c-560e-4daa-b367-cd7fb1468d07",
       "_model_module_version": "^0.2",
       "_view_module_version": "^0.2",
       "icon": "file",
       "name": "stats_of_columns.py"
      }
     },
     "574c35128a5047078a6e32fdaac8fdfe": {
      "model_module": "jupyter-leaflet",
      "model_module_version": "^0.18",
      "model_name": "LeafletTileLayerModel",
      "state": {
       "_model_module_version": "^0.18",
       "_view_module_version": "^0.18",
       "attribution": "Esri",
       "max_zoom": 24,
       "name": "Esri.WorldImagery",
       "options": [
        "attribution",
        "bounds",
        "detect_retina",
        "max_native_zoom",
        "max_zoom",
        "min_native_zoom",
        "min_zoom",
        "no_wrap",
        "tile_size",
        "tms",
        "zoom_offset"
       ],
       "url": "https://server.arcgisonline.com/ArcGIS/rest/services/World_Imagery/MapServer/tile/{z}/{y}/{x}"
      }
     },
     "5757f78547da48f688a8a51f6af8c6b0": {
      "model_module": "@jupyter-widgets/controls",
      "model_module_version": "2.0.0",
      "model_name": "HBoxModel",
      "state": {
       "children": [
        "IPY_MODEL_1ddad51eea7a425aab55d2533e2fe5e9",
        "IPY_MODEL_86da033092b04920abcd9d86aa813cfd"
       ],
       "layout": "IPY_MODEL_6946f37531ea4b8592598cde23ecf5c8"
      }
     },
     "57694ad1281042c6932fedc9396cd1a4": {
      "model_module": "@jupyter-widgets/base",
      "model_module_version": "2.0.0",
      "model_name": "LayoutModel",
      "state": {
       "height": "auto",
       "padding": "0px 0px 0px 4px",
       "width": "auto"
      }
     },
     "580fafb8db1e4e3dabc52ae621bb3598": {
      "model_module": "@jupyter-widgets/controls",
      "model_module_version": "2.0.0",
      "model_name": "ButtonModel",
      "state": {
       "button_style": "primary",
       "description": "import",
       "disabled": true,
       "layout": "IPY_MODEL_fdcf19ab8855412e9a25489ad4af5e22",
       "style": "IPY_MODEL_e3842a749c764ac28ad0f2dc945c2df5",
       "tooltip": "import the content to a new cell"
      }
     },
     "585ce24e8bed4fe6979c16880a87b6c7": {
      "model_module": "ipytree",
      "model_module_version": "^0.2",
      "model_name": "NodeModel",
      "state": {
       "_id": "d1e6400a-3fe4-4c55-8ac9-742348ab4f62",
       "_model_module_version": "^0.2",
       "_view_module_version": "^0.2",
       "icon": "file",
       "name": "usgs_watersheds.py"
      }
     },
     "58890d9bce6a4ff8be949338a4990a2a": {
      "model_module": "@jupyter-widgets/base",
      "model_module_version": "2.0.0",
      "model_name": "LayoutModel",
      "state": {}
     },
     "589a240551d441da9620fc8f378270b6": {
      "model_module": "@jupyter-widgets/base",
      "model_module_version": "2.0.0",
      "model_name": "LayoutModel",
      "state": {
       "height": "auto",
       "padding": "0px 0px 0px 4px",
       "width": "auto"
      }
     },
     "58ac0aa971c9464fb5b2afb25e76c9a1": {
      "model_module": "@jupyter-widgets/controls",
      "model_module_version": "2.0.0",
      "model_name": "ToggleButtonStyleModel",
      "state": {
       "description_width": "",
       "font_family": null,
       "font_size": null,
       "font_style": null,
       "font_variant": null,
       "font_weight": null,
       "text_color": null,
       "text_decoration": null
      }
     },
     "5906a6ba98014383b6aacf915cfa95e4": {
      "model_module": "@jupyter-widgets/controls",
      "model_module_version": "2.0.0",
      "model_name": "ToggleButtonModel",
      "state": {
       "button_style": "primary",
       "icon": "globe",
       "layout": "IPY_MODEL_294aa0e4dff149c187842a25491c46bf",
       "style": "IPY_MODEL_9ace805950684534b67978c389f5c3b3",
       "tooltip": "Create timelapse"
      }
     },
     "5945087503fd4dada9acf64b0342a024": {
      "model_module": "@jupyter-widgets/base",
      "model_module_version": "2.0.0",
      "model_name": "LayoutModel",
      "state": {
       "height": "auto",
       "padding": "0px 0px 0px 4px",
       "width": "auto"
      }
     },
     "5946c062beae449b8119d04ae373ffd6": {
      "model_module": "@jupyter-widgets/base",
      "model_module_version": "2.0.0",
      "model_name": "LayoutModel",
      "state": {}
     },
     "595f86709dfd494c9f7aa6912c86a6ac": {
      "model_module": "@jupyter-widgets/controls",
      "model_module_version": "2.0.0",
      "model_name": "ToggleButtonStyleModel",
      "state": {
       "description_width": "",
       "font_family": null,
       "font_size": null,
       "font_style": null,
       "font_variant": null,
       "font_weight": null,
       "text_color": null,
       "text_decoration": null
      }
     },
     "5965efa6e1f14e828b26ecdfdf11ab3e": {
      "model_module": "ipytree",
      "model_module_version": "^0.2",
      "model_name": "NodeModel",
      "state": {
       "_id": "4457b1e8-8dff-431c-9ef5-adca07c3abbd",
       "_model_module_version": "^0.2",
       "_view_module_version": "^0.2",
       "icon": "file",
       "name": "idw_interpolation.py"
      }
     },
     "5966135cd30e4d9baa1dd5eacb0fb03b": {
      "model_module": "ipytree",
      "model_module_version": "^0.2",
      "model_name": "NodeModel",
      "state": {
       "_id": "01e7303d-bd93-4bec-a67c-0f31eb99a928",
       "_model_module_version": "^0.2",
       "_view_module_version": "^0.2",
       "icon": "file",
       "name": "metadata_aggregation.py"
      }
     },
     "5967e8bf57564beea20e06f848e53333": {
      "model_module": "jupyter-leaflet",
      "model_module_version": "^0.18",
      "model_name": "LeafletAttributionControlModel",
      "state": {
       "_model_module_version": "^0.18",
       "_view_module_version": "^0.18",
       "options": [
        "position",
        "prefix"
       ],
       "position": "bottomright",
       "prefix": "ipyleaflet"
      }
     },
     "598813555ca0464b8c068570470535a6": {
      "model_module": "@jupyter-widgets/controls",
      "model_module_version": "2.0.0",
      "model_name": "DropdownModel",
      "state": {
       "_options_labels": [
        "OpenStreetMap",
        "Esri.WorldStreetMap",
        "Esri.WorldImagery",
        "Esri.WorldTopoMap",
        "FWS NWI Wetlands",
        "FWS NWI Wetlands Raster",
        "NLCD 2021 CONUS Land Cover",
        "NLCD 2019 CONUS Land Cover",
        "NLCD 2016 CONUS Land Cover",
        "NLCD 2013 CONUS Land Cover",
        "NLCD 2011 CONUS Land Cover",
        "NLCD 2008 CONUS Land Cover",
        "NLCD 2006 CONUS Land Cover",
        "NLCD 2004 CONUS Land Cover",
        "NLCD 2001 CONUS Land Cover",
        "USGS NAIP Imagery",
        "USGS NAIP Imagery False Color",
        "USGS NAIP Imagery NDVI",
        "USGS Hydrography",
        "USGS 3DEP Elevation",
        "ESA Worldcover 2020",
        "ESA Worldcover 2020 S2 FCC",
        "ESA Worldcover 2020 S2 TCC",
        "ESA Worldcover 2021",
        "ESA Worldcover 2021 S2 FCC",
        "ESA Worldcover 2021 S2 TCC",
        "BasemapAT.basemap",
        "BasemapAT.grau",
        "BasemapAT.highdpi",
        "BasemapAT.orthofoto",
        "BasemapAT.overlay",
        "BasemapAT.surface",
        "BasemapAT.terrain",
        "CartoDB.DarkMatter",
        "CartoDB.DarkMatterNoLabels",
        "CartoDB.DarkMatterOnlyLabels",
        "CartoDB.Positron",
        "CartoDB.PositronNoLabels",
        "CartoDB.PositronOnlyLabels",
        "CartoDB.Voyager",
        "CartoDB.VoyagerLabelsUnder",
        "CartoDB.VoyagerNoLabels",
        "CartoDB.VoyagerOnlyLabels",
        "CyclOSM",
        "Esri.AntarcticBasemap",
        "Esri.AntarcticImagery",
        "Esri.ArcticImagery",
        "Esri.ArcticOceanBase",
        "Esri.ArcticOceanReference",
        "Esri.DeLorme",
        "Esri.NatGeoWorldMap",
        "Esri.OceanBasemap",
        "Esri.WorldGrayCanvas",
        "Esri.WorldPhysical",
        "Esri.WorldShadedRelief",
        "Esri.WorldTerrain",
        "FreeMapSK",
        "Gaode.Normal",
        "Gaode.Satellite",
        "HikeBike.HikeBike",
        "HikeBike.HillShading",
        "JusticeMap.americanIndian",
        "JusticeMap.asian",
        "JusticeMap.black",
        "JusticeMap.hispanic",
        "JusticeMap.income",
        "JusticeMap.multi",
        "JusticeMap.nonWhite",
        "JusticeMap.plurality",
        "JusticeMap.white",
        "MtbMap",
        "NASAGIBS.ASTER_GDEM_Greyscale_Shaded_Relief",
        "NASAGIBS.BlueMarble",
        "NASAGIBS.BlueMarble3031",
        "NASAGIBS.BlueMarble3413",
        "NASAGIBS.ModisAquaBands721CR",
        "NASAGIBS.ModisAquaTrueColorCR",
        "NASAGIBS.ModisTerraAOD",
        "NASAGIBS.ModisTerraBands367CR",
        "NASAGIBS.ModisTerraBands721CR",
        "NASAGIBS.ModisTerraChlorophyll",
        "NASAGIBS.ModisTerraLSTDay",
        "NASAGIBS.ModisTerraSnowCover",
        "NASAGIBS.ModisTerraTrueColorCR",
        "NASAGIBS.ViirsEarthAtNight2012",
        "NASAGIBS.ViirsTrueColorCR",
        "NLS",
        "OPNVKarte",
        "OneMapSG.Default",
        "OneMapSG.Grey",
        "OneMapSG.LandLot",
        "OneMapSG.Night",
        "OneMapSG.Original",
        "OpenAIP",
        "OpenFireMap",
        "OpenRailwayMap",
        "OpenSeaMap",
        "OpenSnowMap.pistes",
        "OpenStreetMap.BZH",
        "OpenStreetMap.BlackAndWhite",
        "OpenStreetMap.CH",
        "OpenStreetMap.DE",
        "OpenStreetMap.HOT",
        "OpenStreetMap.Mapnik",
        "OpenTopoMap",
        "SafeCast",
        "Stadia.AlidadeSmooth",
        "Stadia.AlidadeSmoothDark",
        "Stadia.OSMBright",
        "Stadia.Outdoors",
        "Stadia.StamenTerrain",
        "Stadia.StamenTerrainBackground",
        "Stadia.StamenTerrainLabels",
        "Stadia.StamenTerrainLines",
        "Stadia.StamenToner",
        "Stadia.StamenTonerBackground",
        "Stadia.StamenTonerLabels",
        "Stadia.StamenTonerLines",
        "Stadia.StamenTonerLite",
        "Stadia.StamenWatercolor",
        "Strava.All",
        "Strava.Ride",
        "Strava.Run",
        "Strava.Water",
        "Strava.Winter",
        "SwissFederalGeoportal.JourneyThroughTime",
        "SwissFederalGeoportal.NationalMapColor",
        "SwissFederalGeoportal.NationalMapGrey",
        "SwissFederalGeoportal.SWISSIMAGE",
        "USGS.USImagery",
        "USGS.USImageryTopo",
        "USGS.USTopo",
        "WaymarkedTrails.cycling",
        "WaymarkedTrails.hiking",
        "WaymarkedTrails.mtb",
        "WaymarkedTrails.riding",
        "WaymarkedTrails.skating",
        "WaymarkedTrails.slopes",
        "nlmaps.grijs",
        "nlmaps.luchtfoto",
        "nlmaps.pastel",
        "nlmaps.standaard",
        "nlmaps.water"
       ],
       "index": 19,
       "layout": "IPY_MODEL_5a5c7e131f9b4556b4ce65f224a54461",
       "style": "IPY_MODEL_9e8b1c982c2c487bb6e884ffb7995e91"
      }
     },
     "599b8330d9fb421bb8e53eaf41cda6e0": {
      "model_module": "@jupyter-widgets/controls",
      "model_module_version": "2.0.0",
      "model_name": "TextStyleModel",
      "state": {
       "description_width": "",
       "font_size": null,
       "text_color": null
      }
     },
     "59de6f5a728c4757882ece22060ae796": {
      "model_module": "@jupyter-widgets/controls",
      "model_module_version": "2.0.0",
      "model_name": "HBoxModel",
      "state": {
       "children": [
        "IPY_MODEL_75f83e73d34b4a84b7fd8b72b9d59342",
        "IPY_MODEL_97f7c07d0efa47d3bab7c689f299a863"
       ],
       "layout": "IPY_MODEL_357ad648c0584d35a33bd849310ee264"
      }
     },
     "5a5c7e131f9b4556b4ce65f224a54461": {
      "model_module": "@jupyter-widgets/base",
      "model_module_version": "2.0.0",
      "model_name": "LayoutModel",
      "state": {
       "width": "200px"
      }
     },
     "5a62411306d84439b3da2f2ab0a619f9": {
      "model_module": "ipytree",
      "model_module_version": "^0.2",
      "model_name": "NodeModel",
      "state": {
       "_id": "45288ced-8b94-4d4e-b462-92286336b9c3",
       "_model_module_version": "^0.2",
       "_view_module_version": "^0.2",
       "icon": "file",
       "name": "image_reductions.py"
      }
     },
     "5a68c7722adf4b129b99e72756404a0b": {
      "model_module": "@jupyter-widgets/base",
      "model_module_version": "2.0.0",
      "model_name": "LayoutModel",
      "state": {
       "max_width": "279px",
       "min_width": "279px"
      }
     },
     "5a6d128dc01445ba80cd49b972680a40": {
      "model_module": "@jupyter-widgets/base",
      "model_module_version": "2.0.0",
      "model_name": "LayoutModel",
      "state": {
       "max_width": "650px"
      }
     },
     "5a718ba1abdb497897dbea3f5174570d": {
      "model_module": "ipytree",
      "model_module_version": "^0.2",
      "model_name": "NodeModel",
      "state": {
       "_id": "87c0beb0-e2a3-47e8-ac90-25e002f2e490",
       "_model_module_version": "^0.2",
       "_view_module_version": "^0.2",
       "icon": "file",
       "name": "landsat_symbology.py"
      }
     },
     "5a8284163c5f47769fbdd3f2ca424841": {
      "model_module": "@jupyter-widgets/base",
      "model_module_version": "2.0.0",
      "model_name": "LayoutModel",
      "state": {
       "height": "auto",
       "padding": "0px 0px 0px 4px",
       "width": "auto"
      }
     },
     "5aa2f40db51e43179c033274424a5155": {
      "model_module": "@jupyter-widgets/controls",
      "model_module_version": "2.0.0",
      "model_name": "ToggleButtonStyleModel",
      "state": {
       "description_width": "",
       "font_family": null,
       "font_size": null,
       "font_style": null,
       "font_variant": null,
       "font_weight": null,
       "text_color": null,
       "text_decoration": null
      }
     },
     "5ae90950a8f94a1c9167e5fe1ebc989e": {
      "model_module": "jupyter-leaflet",
      "model_module_version": "^0.18",
      "model_name": "LeafletZoomControlModel",
      "state": {
       "_model_module_version": "^0.18",
       "_view_module_version": "^0.18",
       "options": [
        "position",
        "zoom_in_text",
        "zoom_in_title",
        "zoom_out_text",
        "zoom_out_title"
       ]
      }
     },
     "5b045e93683f468ca26c1249e31d162c": {
      "model_module": "ipytree",
      "model_module_version": "^0.2",
      "model_name": "TreeModel",
      "state": {
       "_model_module_version": "^0.2",
       "_view_module_version": "^0.2",
       "layout": "IPY_MODEL_e84b6faddcd94c38a31a5258145fa6cf",
       "multiple_selection": false,
       "nodes": [
        "IPY_MODEL_d3886fa545e547a3a404d30dacf15e9f",
        "IPY_MODEL_da4e1bae214d45f1bb6a2b0286f3bfa3",
        "IPY_MODEL_6d6196c4663e459395783f06683bb4e6",
        "IPY_MODEL_1ba9ed3c23b6458f88794887fa1ad307",
        "IPY_MODEL_307b2452490f471b85014537549db8bc"
       ]
      }
     },
     "5bb8d691869443a7befcbd0d04eb04db": {
      "model_module": "@jupyter-widgets/base",
      "model_module_version": "2.0.0",
      "model_name": "LayoutModel",
      "state": {
       "height": "600px"
      }
     },
     "5bc6346439c44920ba50dd3e025e837c": {
      "model_module": "ipytree",
      "model_module_version": "^0.2",
      "model_name": "NodeModel",
      "state": {
       "_id": "ae31d74a-e99b-4c35-8b87-0159941a7d70",
       "_model_module_version": "^0.2",
       "_view_module_version": "^0.2",
       "icon": "file",
       "name": "07_image_statistics.py"
      }
     },
     "5c1a960521704d35abdc2b1336882619": {
      "model_module": "@jupyter-widgets/controls",
      "model_module_version": "2.0.0",
      "model_name": "ToggleButtonModel",
      "state": {
       "button_style": "primary",
       "icon": "info",
       "layout": "IPY_MODEL_589a240551d441da9620fc8f378270b6",
       "style": "IPY_MODEL_6c185e4f22d849be8d5cbfa9731438a5",
       "tooltip": "Inspector"
      }
     },
     "5c1b65ea7cb94a8bafb36eb5d609cc18": {
      "model_module": "ipytree",
      "model_module_version": "^0.2",
      "model_name": "NodeModel",
      "state": {
       "_id": "22824bd5-43a2-4134-8c5a-76334c20f9a7",
       "_model_module_version": "^0.2",
       "_view_module_version": "^0.2",
       "icon": "file",
       "name": "column_statistics.py"
      }
     },
     "5c2b47331684434db9c9dbf2848c8609": {
      "model_module": "@jupyter-widgets/controls",
      "model_module_version": "2.0.0",
      "model_name": "ToggleButtonModel",
      "state": {
       "icon": "server",
       "layout": "IPY_MODEL_d01f5a26d73f4ddb82440ec77d02fa2d",
       "style": "IPY_MODEL_2be00b0c8c1e46bea929ef9090396e6a",
       "tooltip": "Layers"
      }
     },
     "5c38898a39954624bb230b41b3117699": {
      "model_module": "jupyter-leaflet",
      "model_module_version": "^0.18",
      "model_name": "LeafletWMSLayerModel",
      "state": {
       "_model_module_version": "^0.18",
       "_view_module_version": "^0.18",
       "attribution": "USGS",
       "crs": {
        "custom": false,
        "name": "EPSG3857"
       },
       "format": "image/png",
       "layers": "33DEPElevation:Hillshade Elevation Tinted",
       "name": "USGS 3DEP Elevation",
       "options": [
        "attribution",
        "bounds",
        "detect_retina",
        "format",
        "layers",
        "max_native_zoom",
        "max_zoom",
        "min_native_zoom",
        "min_zoom",
        "no_wrap",
        "styles",
        "tile_size",
        "tms",
        "transparent",
        "uppercase",
        "zoom_offset"
       ],
       "transparent": true,
       "url": "https://elevation.nationalmap.gov/arcgis/services/3DEPElevation/ImageServer/WMSServer?"
      }
     },
     "5c7b7762302447698ceeae7485b4ee86": {
      "model_module": "jupyter-leaflet",
      "model_module_version": "^0.18",
      "model_name": "LeafletMeasureControlModel",
      "state": {
       "_model_module_version": "^0.18",
       "_view_module_version": "^0.18",
       "active_color": "orange",
       "options": [
        "active_color",
        "capture_z_index",
        "completed_color",
        "popup_options",
        "position",
        "primary_area_unit",
        "primary_length_unit",
        "secondary_area_unit",
        "secondary_length_unit"
       ],
       "position": "bottomleft",
       "primary_length_unit": "kilometers",
       "secondary_area_unit": null,
       "secondary_length_unit": null
      }
     },
     "5cf1bfef035d427686244b48362c53cd": {
      "model_module": "@jupyter-widgets/base",
      "model_module_version": "2.0.0",
      "model_name": "LayoutModel",
      "state": {}
     },
     "5d7203864c354e63aff0fe5c322ecf13": {
      "model_module": "@jupyter-widgets/controls",
      "model_module_version": "2.0.0",
      "model_name": "ToggleButtonModel",
      "state": {
       "button_style": "primary",
       "icon": "gears",
       "layout": "IPY_MODEL_134885eb1a964302803880a845ec06a7",
       "style": "IPY_MODEL_7bea1c10bd7342b7b6b6eaeaf1439f1f",
       "tooltip": "WhiteboxTools for local geoprocessing"
      }
     },
     "5d7844bcb5c342558d78d8bb29a41993": {
      "model_module": "ipytree",
      "model_module_version": "^0.2",
      "model_name": "NodeModel",
      "state": {
       "_id": "26f15c50-d293-4d1f-a462-a9fdd6729f8a",
       "_model_module_version": "^0.2",
       "_view_module_version": "^0.2",
       "icon": "file",
       "name": "us_cropland.py"
      }
     },
     "5e13a632876e490cb73767666ef1925f": {
      "model_module": "@jupyter-widgets/base",
      "model_module_version": "2.0.0",
      "model_name": "LayoutModel",
      "state": {
       "height": "auto",
       "padding": "0px 0px 0px 4px",
       "width": "auto"
      }
     },
     "5e2e075c8edc4d4fa19cd28652a50a8a": {
      "model_module": "@jupyter-widgets/output",
      "model_module_version": "1.0.0",
      "model_name": "OutputModel",
      "state": {
       "layout": "IPY_MODEL_9585739a1725494e87d79abcfd20a3c9"
      }
     },
     "5e493ce179924df697131b161bed9d65": {
      "model_module": "ipytree",
      "model_module_version": "^0.2",
      "model_name": "NodeModel",
      "state": {
       "_id": "feb9d83c-c032-4ee9-8c05-97d9b6e80852",
       "_model_module_version": "^0.2",
       "_view_module_version": "^0.2",
       "icon": "file",
       "name": "us_ned_topo_diversity.py"
      }
     },
     "5e77ba85aa624ba5a3f16805e329398f": {
      "model_module": "@jupyter-widgets/controls",
      "model_module_version": "2.0.0",
      "model_name": "ToggleButtonModel",
      "state": {
       "icon": "globe",
       "layout": "IPY_MODEL_2232355e27244b19a5f24ac585d874bf",
       "style": "IPY_MODEL_26b6a962af034bad978eafaa9b98fea7",
       "tooltip": "Search location/data"
      }
     },
     "5fca0f4ffa3e4353af951562639893df": {
      "model_module": "jupyter-leaflet",
      "model_module_version": "^0.18",
      "model_name": "LeafletTileLayerModel",
      "state": {
       "_model_module_version": "^0.18",
       "_view_module_version": "^0.18",
       "attribution": "Esri",
       "max_zoom": 24,
       "name": "Esri.WorldImagery",
       "options": [
        "attribution",
        "bounds",
        "detect_retina",
        "max_native_zoom",
        "max_zoom",
        "min_native_zoom",
        "min_zoom",
        "no_wrap",
        "tile_size",
        "tms",
        "zoom_offset"
       ],
       "url": "https://server.arcgisonline.com/ArcGIS/rest/services/World_Imagery/MapServer/tile/{z}/{y}/{x}"
      }
     },
     "5ff5340576be4dafa2c6dcc16980d5e1": {
      "model_module": "@jupyter-widgets/base",
      "model_module_version": "2.0.0",
      "model_name": "LayoutModel",
      "state": {
       "height": "auto",
       "padding": "0px 0px 0px 4px",
       "width": "auto"
      }
     },
     "6053e6d6b5c0465d854b67fda546c8a9": {
      "model_module": "ipytree",
      "model_module_version": "^0.2",
      "model_name": "NodeModel",
      "state": {
       "_id": "8039e6a8-8205-4435-b83f-9f9da233f28d",
       "_model_module_version": "^0.2",
       "_view_module_version": "^0.2",
       "icon": "file",
       "name": "inner_joins.py"
      }
     },
     "6078377628f14854bf95045184ce724f": {
      "model_module": "jupyter-leaflet",
      "model_module_version": "^0.18",
      "model_name": "LeafletScaleControlModel",
      "state": {
       "_model_module_version": "^0.18",
       "_view_module_version": "^0.18",
       "imperial": true,
       "max_width": 100,
       "metric": true,
       "options": [
        "imperial",
        "max_width",
        "metric",
        "position",
        "update_when_idle"
       ],
       "position": "bottomleft",
       "update_when_idle": false
      }
     },
     "608210df68024bea8ae0cadbfb346263": {
      "model_module": "jupyter-leaflet",
      "model_module_version": "^0.18",
      "model_name": "LeafletWidgetControlModel",
      "state": {
       "_model_module": "jupyter-leaflet",
       "_model_module_version": "^0.18",
       "_view_count": null,
       "_view_module": "jupyter-leaflet",
       "_view_module_version": "^0.18",
       "options": [
        "position",
        "transparent_bg"
       ],
       "position": "topright",
       "widget": "IPY_MODEL_51dc79032e7d46e3aa869d97a36a9395"
      }
     },
     "60dca5578a034aa28e394db02f5a9260": {
      "model_module": "ipytree",
      "model_module_version": "^0.2",
      "model_name": "NodeModel",
      "state": {
       "_id": "012d61b7-0c08-4b99-b8d7-762accea163d",
       "_model_module_version": "^0.2",
       "_view_module_version": "^0.2",
       "icon": "file",
       "name": "image_thumbnail.py"
      }
     },
     "6117cc3147dc4a249aeb81b284785d94": {
      "model_module": "@jupyter-widgets/controls",
      "model_module_version": "2.0.0",
      "model_name": "ToggleButtonModel",
      "state": {
       "button_style": "primary",
       "icon": "line-chart",
       "layout": "IPY_MODEL_b2412305532242f69895a2c806b2fc12",
       "style": "IPY_MODEL_f71e84e3907c4a26ac6eaa83d86ffc94",
       "tooltip": "Creating and plotting transects"
      }
     },
     "613c9704c1c54bfd9cbdc51068668cc6": {
      "model_module": "@jupyter-widgets/controls",
      "model_module_version": "2.0.0",
      "model_name": "RadioButtonsModel",
      "state": {
       "index": null,
       "layout": "IPY_MODEL_3b2a25594a2847a68622a853337d01e0",
       "style": "IPY_MODEL_1bd6e98268304114a1fa9e774d5777a7"
      }
     },
     "6141dbacf55b4e268cf6bb0ad62c4a46": {
      "model_module": "ipytree",
      "model_module_version": "^0.2",
      "model_name": "NodeModel",
      "state": {
       "_id": "27bb3235-35cc-4ead-ab5a-259837e375f2",
       "_model_module_version": "^0.2",
       "_view_module_version": "^0.2",
       "icon": "file",
       "name": "ndvi_symbology.py"
      }
     },
     "61a2d47ae2d34f86899b245b8b808126": {
      "model_module": "@jupyter-widgets/base",
      "model_module_version": "2.0.0",
      "model_name": "LayoutModel",
      "state": {
       "max_width": "279px",
       "min_width": "279px"
      }
     },
     "61b9788101724d3fa6b430ac84313820": {
      "model_module": "@jupyter-widgets/controls",
      "model_module_version": "2.0.0",
      "model_name": "ToggleButtonModel",
      "state": {
       "button_style": "primary",
       "icon": "map",
       "layout": "IPY_MODEL_772b49fb00024362bfde2482caa640f8",
       "style": "IPY_MODEL_53ffa55fd08746bc9009da34bffb2ec2",
       "tooltip": "Change basemap",
       "value": true
      }
     },
     "61c9b61a10bb48e7add1e45e38876e71": {
      "model_module": "@jupyter-widgets/controls",
      "model_module_version": "2.0.0",
      "model_name": "ToggleButtonsModel",
      "state": {
       "_options_labels": [
        "name/address",
        "lat-lon",
        "data"
       ],
       "button_style": "",
       "icons": [],
       "index": 0,
       "layout": "IPY_MODEL_ea8bd4bc874c4f1fb0f1953dbda611e3",
       "style": "IPY_MODEL_db2993a659f64382b862a2970538400f",
       "tooltips": [
        "Search by place name or address",
        "Search by lat-lon coordinates",
        "Search Earth Engine data catalog"
       ]
      }
     },
     "61e67d0083dc414b89e024dea45bc39c": {
      "model_module": "jupyter-leaflet",
      "model_module_version": "^0.18",
      "model_name": "LeafletAttributionControlModel",
      "state": {
       "_model_module_version": "^0.18",
       "_view_module_version": "^0.18",
       "options": [
        "position",
        "prefix"
       ],
       "position": "bottomright",
       "prefix": "ipyleaflet"
      }
     },
     "6216d069875147dc8083e5447605f66e": {
      "model_module": "@jupyter-widgets/controls",
      "model_module_version": "2.0.0",
      "model_name": "TextareaModel",
      "state": {
       "layout": "IPY_MODEL_175e2102e7764940a0d0372fea35901c",
       "style": "IPY_MODEL_a0663a99b6234c6eaa6f063e14deaf11"
      }
     },
     "6221667f50ab49a8a352da4db9a862e0": {
      "model_module": "@jupyter-widgets/base",
      "model_module_version": "2.0.0",
      "model_name": "LayoutModel",
      "state": {
       "height": "auto",
       "padding": "0px 0px 0px 4px",
       "width": "auto"
      }
     },
     "626f9aeeed6249a4955e58b30edefe1c": {
      "model_module": "@jupyter-widgets/base",
      "model_module_version": "2.0.0",
      "model_name": "LayoutModel",
      "state": {
       "height": "auto",
       "padding": "0px 0px 0px 4px",
       "width": "auto"
      }
     },
     "62ae93c23908448cb016910bacadcf7d": {
      "model_module": "ipytree",
      "model_module_version": "^0.2",
      "model_name": "NodeModel",
      "state": {
       "_id": "63967663-98df-4af4-8a57-6fe4a8b701b1",
       "_model_module_version": "^0.2",
       "_view_module_version": "^0.2",
       "icon": "file",
       "name": "srtm_chili.py"
      }
     },
     "62afb4290519488b993048463f6f3db5": {
      "model_module": "@jupyter-widgets/controls",
      "model_module_version": "2.0.0",
      "model_name": "ToggleButtonStyleModel",
      "state": {
       "description_width": "",
       "font_family": null,
       "font_size": null,
       "font_style": null,
       "font_variant": null,
       "font_weight": null,
       "text_color": null,
       "text_decoration": null
      }
     },
     "62cc7a798c9442039700d5e5b66b5985": {
      "model_module": "jupyter-leaflet",
      "model_module_version": "^0.18",
      "model_name": "LeafletZoomControlModel",
      "state": {
       "_model_module_version": "^0.18",
       "_view_module_version": "^0.18",
       "options": [
        "position",
        "zoom_in_text",
        "zoom_in_title",
        "zoom_out_text",
        "zoom_out_title"
       ]
      }
     },
     "62e9141056234342aa7535a5a3bfc488": {
      "model_module": "jupyter-leaflet",
      "model_module_version": "^0.18",
      "model_name": "LeafletZoomControlModel",
      "state": {
       "_model_module_version": "^0.18",
       "_view_module_version": "^0.18",
       "options": [
        "position",
        "zoom_in_text",
        "zoom_in_title",
        "zoom_out_text",
        "zoom_out_title"
       ]
      }
     },
     "634f767cca634dcda06cf02344393c94": {
      "model_module": "ipytree",
      "model_module_version": "^0.2",
      "model_name": "NodeModel",
      "state": {
       "_id": "573fc590-127e-4cb0-9637-08b2f4600fdb",
       "_model_module_version": "^0.2",
       "_view_module_version": "^0.2",
       "icon": "file",
       "name": "distance.py"
      }
     },
     "635e85d597af4b008243b868600b80dc": {
      "model_module": "@jupyter-widgets/controls",
      "model_module_version": "2.0.0",
      "model_name": "ToggleButtonsModel",
      "state": {
       "_options_labels": [
        "name/address",
        "lat-lon",
        "data"
       ],
       "button_style": "",
       "icons": [],
       "index": 0,
       "layout": "IPY_MODEL_73f8493810b745edaa0f7c7af54b744c",
       "style": "IPY_MODEL_bdeca93edb4144d9b0e7d152e2c71899",
       "tooltips": [
        "Search by place name or address",
        "Search by lat-lon coordinates",
        "Search Earth Engine data catalog"
       ]
      }
     },
     "6373a2d0d8be4702a89d9999a5367d2f": {
      "model_module": "jupyter-leaflet",
      "model_module_version": "^0.18",
      "model_name": "LeafletMapStyleModel",
      "state": {
       "_model_module_version": "^0.18",
       "cursor": "move"
      }
     },
     "638f303cda144f3c8676d391f2b69b40": {
      "model_module": "ipytree",
      "model_module_version": "^0.2",
      "model_name": "NodeModel",
      "state": {
       "_id": "9fe798a9-1e09-4f83-83e7-f368b3fd49b5",
       "_model_module_version": "^0.2",
       "_view_module_version": "^0.2",
       "icon": "file",
       "name": "morphological_operations.py"
      }
     },
     "63df458368fa44b280b25644fd60f9f0": {
      "model_module": "ipytree",
      "model_module_version": "^0.2",
      "model_name": "NodeModel",
      "state": {
       "_id": "865578c4-359f-4286-bcbe-525fbbd00810",
       "_model_module_version": "^0.2",
       "_view_module_version": "^0.2",
       "icon": "file",
       "name": "object_based.py"
      }
     },
     "64492fb5cb8c452f9203eaebe79889d3": {
      "model_module": "@jupyter-widgets/controls",
      "model_module_version": "2.0.0",
      "model_name": "HBoxModel",
      "state": {
       "_dom_classes": [
        "geemap-light"
       ],
       "_view_count": 0,
       "children": [
        "IPY_MODEL_97c93ebeea2d4b7680202e0fbd6f5ed0"
       ],
       "layout": "IPY_MODEL_e18037aff9444d9fa60cd30e509eac3f"
      }
     },
     "644e9233c9d247ae833b03acf4f85dac": {
      "model_module": "ipytree",
      "model_module_version": "^0.2",
      "model_name": "NodeModel",
      "state": {
       "_id": "e3a50da1-bb38-42c4-ae0f-be0cf8491cc2",
       "_model_module_version": "^0.2",
       "_view_module_version": "^0.2",
       "icon": "file",
       "name": "ndwi_map.py"
      }
     },
     "64ba30d5eb0d4e67a53583b320c189ac": {
      "model_module": "jupyter-leaflet",
      "model_module_version": "^0.18",
      "model_name": "LeafletScaleControlModel",
      "state": {
       "_model_module_version": "^0.18",
       "_view_module_version": "^0.18",
       "imperial": true,
       "max_width": 100,
       "metric": true,
       "options": [
        "imperial",
        "max_width",
        "metric",
        "position",
        "update_when_idle"
       ],
       "position": "bottomleft",
       "update_when_idle": false
      }
     },
     "64e220d3868b462b85ff9b27d5cad094": {
      "model_module": "@jupyter-widgets/base",
      "model_module_version": "2.0.0",
      "model_name": "LayoutModel",
      "state": {}
     },
     "64e4020af772475493246b0351a9d54d": {
      "model_module": "@jupyter-widgets/base",
      "model_module_version": "2.0.0",
      "model_name": "LayoutModel",
      "state": {
       "height": "auto",
       "padding": "0px 0px 0px 4px",
       "width": "auto"
      }
     },
     "6504aff55eb84a9ca1a0d28219f59d35": {
      "model_module": "ipytree",
      "model_module_version": "^0.2",
      "model_name": "NodeModel",
      "state": {
       "_id": "568f969e-0a15-4359-92f3-7640391ed74e",
       "_model_module_version": "^0.2",
       "_view_module_version": "^0.2",
       "icon": "file",
       "name": "alos_landforms.py"
      }
     },
     "650aa7692547403ea01a5d47a35d2ce6": {
      "model_module": "ipytree",
      "model_module_version": "^0.2",
      "model_name": "NodeModel",
      "state": {
       "_id": "1efade96-4018-4ced-928e-a98cb7f56b0b",
       "_model_module_version": "^0.2",
       "_view_module_version": "^0.2",
       "icon": "file",
       "name": "search_by_buffer_distance.py"
      }
     },
     "65536eeb953b4b12a0ac537439949160": {
      "model_module": "@jupyter-widgets/controls",
      "model_module_version": "2.0.0",
      "model_name": "ToggleButtonModel",
      "state": {
       "button_style": "primary",
       "icon": "info-circle",
       "layout": "IPY_MODEL_b25173d8af8e4ea2aec363ef80290d16",
       "style": "IPY_MODEL_f8bff24f6bf34dbc8d4e196502a6c037",
       "tooltip": "Get COG/STAC pixel value"
      }
     },
     "658047b649224851851375e2c3aa0ba7": {
      "model_module": "ipytree",
      "model_module_version": "^0.2",
      "model_name": "NodeModel",
      "state": {
       "_id": "9d19324a-ec0f-47ef-95a6-ad43a0336288",
       "_model_module_version": "^0.2",
       "_view_module_version": "^0.2",
       "icon": "file",
       "name": "landcover_cleanup.py"
      }
     },
     "65b450c05cd347fbb3e0024a694936c4": {
      "model_module": "@jupyter-widgets/controls",
      "model_module_version": "2.0.0",
      "model_name": "ToggleButtonStyleModel",
      "state": {
       "description_width": "",
       "font_family": null,
       "font_size": null,
       "font_style": null,
       "font_variant": null,
       "font_weight": null,
       "text_color": null,
       "text_decoration": null
      }
     },
     "65bec88e23a24ea89ef6458ff9889c3d": {
      "model_module": "@jupyter-widgets/controls",
      "model_module_version": "2.0.0",
      "model_name": "ToggleButtonStyleModel",
      "state": {
       "description_width": "",
       "font_family": null,
       "font_size": null,
       "font_style": null,
       "font_variant": null,
       "font_weight": null,
       "text_color": null,
       "text_decoration": null
      }
     },
     "65d3dbeb5b9c45c28243a2446b8b7bfc": {
      "model_module": "@jupyter-widgets/controls",
      "model_module_version": "2.0.0",
      "model_name": "ToggleButtonStyleModel",
      "state": {
       "description_width": "",
       "font_family": null,
       "font_size": null,
       "font_style": null,
       "font_variant": null,
       "font_weight": null,
       "text_color": null,
       "text_decoration": null
      }
     },
     "667dd7a4819a4810b981412d7b8ac7c1": {
      "model_module": "ipytree",
      "model_module_version": "^0.2",
      "model_name": "NodeModel",
      "state": {
       "_id": "da4dd89a-fe72-4c5e-bea9-fa0893765f77",
       "_model_module_version": "^0.2",
       "_view_module_version": "^0.2",
       "icon": "file",
       "name": "image_mosaicking.py"
      }
     },
     "66a923aedb5940c3af70e0776c17a4ac": {
      "model_module": "@jupyter-widgets/controls",
      "model_module_version": "2.0.0",
      "model_name": "ToggleButtonStyleModel",
      "state": {
       "description_width": "",
       "font_family": null,
       "font_size": null,
       "font_style": null,
       "font_variant": null,
       "font_weight": null,
       "text_color": null,
       "text_decoration": null
      }
     },
     "66bbdfb3c6a2485b99187bf84712baa9": {
      "model_module": "@jupyter-widgets/controls",
      "model_module_version": "2.0.0",
      "model_name": "RadioButtonsModel",
      "state": {
       "index": null,
       "layout": "IPY_MODEL_eac39daf16c44dfc89fa45a928e27716",
       "style": "IPY_MODEL_80e999a0069942519346c56fa92f11b6"
      }
     },
     "672fefbcdeba4f2aa5315626cf15c25d": {
      "model_module": "jupyter-leaflet",
      "model_module_version": "^0.18",
      "model_name": "LeafletWidgetControlModel",
      "state": {
       "_model_module": "jupyter-leaflet",
       "_model_module_version": "^0.18",
       "_view_count": null,
       "_view_module": "jupyter-leaflet",
       "_view_module_version": "^0.18",
       "options": [
        "position",
        "transparent_bg"
       ],
       "position": "topright",
       "widget": "IPY_MODEL_ef7812dda922455288eb6e664048d7e0"
      }
     },
     "67a650a2425d472a952ae56a702efeb9": {
      "model_module": "ipytree",
      "model_module_version": "^0.2",
      "model_name": "NodeModel",
      "state": {
       "_id": "b82f0a13-bb20-4d40-833f-879aac0536f3",
       "_model_module_version": "^0.2",
       "_view_module_version": "^0.2",
       "icon": "file",
       "name": "reduce_region.py"
      }
     },
     "68a1b37c68a646438801a7f286406b56": {
      "model_module": "ipytree",
      "model_module_version": "^0.2",
      "model_name": "NodeModel",
      "state": {
       "_id": "a584fde8-416d-44b8-a1b7-59386506edba",
       "_model_module_version": "^0.2",
       "_view_module_version": "^0.2",
       "icon": "file",
       "name": "us_census_counties.py"
      }
     },
     "68b04d235f6e4e2b8efcb00e9876ff68": {
      "model_module": "@jupyter-widgets/controls",
      "model_module_version": "2.0.0",
      "model_name": "ToggleButtonStyleModel",
      "state": {
       "description_width": "",
       "font_family": null,
       "font_size": null,
       "font_style": null,
       "font_variant": null,
       "font_weight": null,
       "text_color": null,
       "text_decoration": null
      }
     },
     "68c13a3c14c64f549c4587af1bd893c1": {
      "model_module": "@jupyter-widgets/base",
      "model_module_version": "2.0.0",
      "model_name": "LayoutModel",
      "state": {
       "height": "auto",
       "padding": "0px 0px 0px 4px",
       "width": "auto"
      }
     },
     "691fde2f746b434682c4466081fbaa44": {
      "model_module": "ipytree",
      "model_module_version": "^0.2",
      "model_name": "NodeModel",
      "state": {
       "_id": "8747e039-c7c6-4284-9c42-642e57d31337",
       "_model_module_version": "^0.2",
       "_view_module_version": "^0.2",
       "icon": "file",
       "name": "landsat_median.py"
      }
     },
     "6946f37531ea4b8592598cde23ecf5c8": {
      "model_module": "@jupyter-widgets/base",
      "model_module_version": "2.0.0",
      "model_name": "LayoutModel",
      "state": {}
     },
     "695d6ee57f21461b8941ac8685b4ee9a": {
      "model_module": "@jupyter-widgets/base",
      "model_module_version": "2.0.0",
      "model_name": "LayoutModel",
      "state": {
       "max_width": "57px",
       "min_width": "57px"
      }
     },
     "69a6d0fd620a4d0385ffb3685e65bb6d": {
      "model_module": "ipytree",
      "model_module_version": "^0.2",
      "model_name": "NodeModel",
      "state": {
       "_id": "329709dd-3fb1-456d-b714-55e3804f16b6",
       "_model_module_version": "^0.2",
       "_view_module_version": "^0.2",
       "name": "Algorithms",
       "nodes": [
        "IPY_MODEL_29a4677524b44095b287839e9f22aa4b",
        "IPY_MODEL_6fe03659be804d16a0829022fafa4d50",
        "IPY_MODEL_cc9613d40f2f4dc690631b67a19e0723",
        "IPY_MODEL_ec40d501532c4194b48e940ac08a05d6",
        "IPY_MODEL_2f8ec63fb14446dfad24d7bc0f26e6a6",
        "IPY_MODEL_8fe41334143c498989d0f023eed9196e",
        "IPY_MODEL_ed8b23962c2d48e7ae860d936465931d",
        "IPY_MODEL_3b84d0a46b934ed7a2cbfba794937810",
        "IPY_MODEL_b3995e9958ec4dfd875d07c8d839d4d5",
        "IPY_MODEL_7dc6c79f969448bb809f1ac91d68684b",
        "IPY_MODEL_438a472d8b0a457abfef4bc3609fedb0",
        "IPY_MODEL_2deebb6ec62c49eb9959a518388ce0d1",
        "IPY_MODEL_f6775d28a7154aa4a269d95088427fec"
       ],
       "opened": false
      }
     },
     "69d4bd2371d14359961db95a84a1469b": {
      "model_module": "@jupyter-widgets/base",
      "model_module_version": "2.0.0",
      "model_name": "LayoutModel",
      "state": {
       "grid_gap": "1px 1px",
       "grid_template_columns": "32px 32px 32px ",
       "grid_template_rows": "32px 32px ",
       "padding": "5px",
       "width": "109px"
      }
     },
     "6a64c3ea5c824b9caebc19d8f115df48": {
      "model_module": "ipytree",
      "model_module_version": "^0.2",
      "model_name": "NodeModel",
      "state": {
       "_id": "f75694e7-00f7-4f13-aa08-835ae8345d29",
       "_model_module_version": "^0.2",
       "_view_module_version": "^0.2",
       "icon": "file",
       "name": "median_reducer.py"
      }
     },
     "6a7f054ab77f4ac6a60b30f0ab2c953b": {
      "model_module": "@jupyter-widgets/controls",
      "model_module_version": "2.0.0",
      "model_name": "ToggleButtonModel",
      "state": {
       "icon": "globe",
       "layout": "IPY_MODEL_b8b72750e2ca42ddb11caa6341b3bf5b",
       "style": "IPY_MODEL_14cb1cbacb8242e98ab41d306aff4bcf",
       "tooltip": "Search location/data"
      }
     },
     "6ae3d9273d674c72a8b22867c541115d": {
      "model_module": "ipytree",
      "model_module_version": "^0.2",
      "model_name": "NodeModel",
      "state": {
       "_id": "29b5c056-1ae5-4bfa-a52a-e85765e2c688",
       "_model_module_version": "^0.2",
       "_view_module_version": "^0.2",
       "icon": "file",
       "name": "get_image_extent.py"
      }
     },
     "6b69fb13d3324476ad5586b23796798c": {
      "model_module": "jupyter-leaflet",
      "model_module_version": "^0.18",
      "model_name": "LeafletTileLayerModel",
      "state": {
       "_model_module_version": "^0.18",
       "_view_module_version": "^0.18",
       "attribution": "Esri",
       "max_zoom": 24,
       "name": "Esri.WorldImagery",
       "options": [
        "attribution",
        "bounds",
        "detect_retina",
        "max_native_zoom",
        "max_zoom",
        "min_native_zoom",
        "min_zoom",
        "no_wrap",
        "tile_size",
        "tms",
        "zoom_offset"
       ],
       "url": "https://server.arcgisonline.com/ArcGIS/rest/services/World_Imagery/MapServer/tile/{z}/{y}/{x}"
      }
     },
     "6b7ea916331d49ab9c5a56e23a356d02": {
      "model_module": "ipytree",
      "model_module_version": "^0.2",
      "model_name": "NodeModel",
      "state": {
       "_id": "58d50e65-865e-4689-8c42-98141d544375",
       "_model_module_version": "^0.2",
       "_view_module_version": "^0.2",
       "icon": "file",
       "name": "alos_global_dsm.py"
      }
     },
     "6bec238663ed4d95a9c44f7cae5ac3c4": {
      "model_module": "@jupyter-widgets/controls",
      "model_module_version": "2.0.0",
      "model_name": "GridBoxModel",
      "state": {
       "children": [
        "IPY_MODEL_3ce276be9c72496994d55dae632ed870",
        "IPY_MODEL_2e7111e49e4940deb9e007ad4c624d6f",
        "IPY_MODEL_203ce4c92cd24f94a77e01428075f326",
        "IPY_MODEL_61b9788101724d3fa6b430ac84313820",
        "IPY_MODEL_33985ae559194bae9554e241ce3dab01",
        "IPY_MODEL_503a7cd8b2ad4c30876ef70f9521f653",
        "IPY_MODEL_7ec770cd031248ebbcfef715aecfd0e6",
        "IPY_MODEL_ae2f4872010c43ffb25c6fbc59505ac1",
        "IPY_MODEL_fef152afa95a4c9ea2b0b51acf6469f7",
        "IPY_MODEL_ba1f4d7151a9408a8041aa30e58bf4c5",
        "IPY_MODEL_38bd1118f5564b1d88d5b8288d191240",
        "IPY_MODEL_7744d429d55e41ac9632df334b07d241",
        "IPY_MODEL_ed14a1998bd04a2581a04d940aa8d5df",
        "IPY_MODEL_0b746c5077034718b29184ddfa85b296",
        "IPY_MODEL_a52c473c11be49e9b61455095a2f3433",
        "IPY_MODEL_75a03f5d6493407d9698bad049e19480",
        "IPY_MODEL_abecec8a5a0445fc9cf59b444e9e3aa0"
       ],
       "layout": "IPY_MODEL_8d6b4b40108d474eab73529d12ec3de9"
      }
     },
     "6c185e4f22d849be8d5cbfa9731438a5": {
      "model_module": "@jupyter-widgets/controls",
      "model_module_version": "2.0.0",
      "model_name": "ToggleButtonStyleModel",
      "state": {
       "description_width": "",
       "font_family": null,
       "font_size": null,
       "font_style": null,
       "font_variant": null,
       "font_weight": null,
       "text_color": null,
       "text_decoration": null
      }
     },
     "6c3b19e0de0a435f92dd1048362692be": {
      "model_module": "ipytree",
      "model_module_version": "^0.2",
      "model_name": "NodeModel",
      "state": {
       "_id": "98ec0b5b-7117-4310-93f4-d2558d1965f8",
       "_model_module_version": "^0.2",
       "_view_module_version": "^0.2",
       "icon": "file",
       "name": "rename_bands.py"
      }
     },
     "6cd0da484c7c43328adf1bf3a02a104e": {
      "model_module": "ipyevents",
      "model_module_version": "2.0.2",
      "model_name": "EventModel",
      "state": {
       "_supported_key_events": [
        "keydown",
        "keyup"
       ],
       "_supported_mouse_events": [
        "click",
        "auxclick",
        "dblclick",
        "mouseenter",
        "mouseleave",
        "mousedown",
        "mouseup",
        "mousemove",
        "wheel",
        "contextmenu",
        "dragstart",
        "drag",
        "dragend",
        "dragenter",
        "dragover",
        "dragleave",
        "drop"
       ],
       "_supported_touch_events": [
        "touchstart",
        "touchend",
        "touchmove",
        "touchcancel"
       ],
       "_view_module": "@jupyter-widgets/controls",
       "source": "IPY_MODEL_ef7812dda922455288eb6e664048d7e0",
       "throttle_or_debounce": "",
       "watched_events": [
        "mouseenter",
        "mouseleave"
       ],
       "xy_coordinate_system": ""
      }
     },
     "6cf274944f8a4b4ca5581ba92282cb51": {
      "model_module": "@jupyter-widgets/base",
      "model_module_version": "2.0.0",
      "model_name": "LayoutModel",
      "state": {}
     },
     "6d25fce488254b3d84b368a8ee23cb57": {
      "model_module": "@jupyter-widgets/controls",
      "model_module_version": "2.0.0",
      "model_name": "ToggleButtonModel",
      "state": {
       "button_style": "primary",
       "icon": "line-chart",
       "layout": "IPY_MODEL_8f914f7f5463408994bb2d3112dd5bca",
       "style": "IPY_MODEL_8899cb1094794f2880f7558d0883ca3e",
       "tooltip": "Creating and plotting transects"
      }
     },
     "6d6196c4663e459395783f06683bb4e6": {
      "model_module": "ipytree",
      "model_module_version": "^0.2",
      "model_name": "NodeModel",
      "state": {
       "_id": "6ce61186-b592-45cf-820a-6a006f63327b",
       "_model_module_version": "^0.2",
       "_view_module_version": "^0.2",
       "name": "Owner",
       "opened": false
      }
     },
     "6d876bce126b431aa87f3b1739f8d425": {
      "model_module": "ipytree",
      "model_module_version": "^0.2",
      "model_name": "NodeModel",
      "state": {
       "_id": "3d0cef60-82fe-49d0-83c4-27253bb41a1f",
       "_model_module_version": "^0.2",
       "_view_module_version": "^0.2",
       "icon": "file",
       "name": "terrain_visualization.py"
      }
     },
     "6da4f8a6ad104236872369e533bfa504": {
      "model_module": "ipytree",
      "model_module_version": "^0.2",
      "model_name": "NodeModel",
      "state": {
       "_id": "37f36ef8-c342-45e2-8467-db4dc35b24eb",
       "_model_module_version": "^0.2",
       "_view_module_version": "^0.2",
       "icon": "file",
       "name": "filtered_composite.py"
      }
     },
     "6de346a6d98749fc859a92cd10802e88": {
      "model_module": "@jupyter-widgets/base",
      "model_module_version": "2.0.0",
      "model_name": "LayoutModel",
      "state": {}
     },
     "6e0b14767c0143d3af59e6d12e178cef": {
      "model_module": "ipytree",
      "model_module_version": "^0.2",
      "model_name": "NodeModel",
      "state": {
       "_id": "e7cdb46b-2483-4947-a786-b01a43c5f240",
       "_model_module_version": "^0.2",
       "_view_module_version": "^0.2",
       "icon": "file",
       "name": "min_max_reducer.py"
      }
     },
     "6e928e0e1eea4f9fb8c74d986389081a": {
      "model_module": "@jupyter-widgets/base",
      "model_module_version": "2.0.0",
      "model_name": "LayoutModel",
      "state": {}
     },
     "6eaf202a43d945068174eb2f83381d18": {
      "model_module": "ipytree",
      "model_module_version": "^0.2",
      "model_name": "NodeModel",
      "state": {
       "_id": "f7e67189-2c93-4225-a416-a6a3b9254b46",
       "_model_module_version": "^0.2",
       "_view_module_version": "^0.2",
       "icon": "file",
       "name": "canny_edge_detector.py"
      }
     },
     "6ec71e4785884a84bf6ed90b229d87e6": {
      "model_module": "@jupyter-widgets/controls",
      "model_module_version": "2.0.0",
      "model_name": "ToggleButtonStyleModel",
      "state": {
       "description_width": "",
       "font_family": null,
       "font_size": null,
       "font_style": null,
       "font_variant": null,
       "font_weight": null,
       "text_color": null,
       "text_decoration": null
      }
     },
     "6ee9d519b83742419bf2da7dfbadf2d6": {
      "model_module": "@jupyter-widgets/controls",
      "model_module_version": "2.0.0",
      "model_name": "ButtonModel",
      "state": {
       "button_style": "primary",
       "icon": "times",
       "layout": "IPY_MODEL_0811a80c11a146ee8f9203b9d111de06",
       "style": "IPY_MODEL_9d7e639314e84bd79682dee261d31c22",
       "tooltip": "Close the basemap widget"
      }
     },
     "6ef76002e82f4c89b28ee085ced400ae": {
      "model_module": "ipytree",
      "model_module_version": "^0.2",
      "model_name": "NodeModel",
      "state": {
       "_id": "2b11efdf-efeb-45d8-93ce-6b51e0b815aa",
       "_model_module_version": "^0.2",
       "_view_module_version": "^0.2",
       "icon": "file",
       "name": "us_census_tracts.py"
      }
     },
     "6f3f52cfc2d2487ea466544b7379ea4b": {
      "model_module": "@jupyter-widgets/controls",
      "model_module_version": "2.0.0",
      "model_name": "ToggleButtonModel",
      "state": {
       "button_style": "primary",
       "icon": "bar-chart",
       "layout": "IPY_MODEL_82ca122382254783a6cdd8bb62c6f3cf",
       "style": "IPY_MODEL_66a923aedb5940c3af70e0776c17a4ac",
       "tooltip": "Plotting"
      }
     },
     "6f601fc5066244e9946bdfe68336cbf8": {
      "model_module": "@jupyter-widgets/output",
      "model_module_version": "1.0.0",
      "model_name": "OutputModel",
      "state": {
       "layout": "IPY_MODEL_21115e9178d24f308a118e9a498059b8"
      }
     },
     "6f65f2698aca4d2993dd90719a998777": {
      "model_module": "@jupyter-widgets/controls",
      "model_module_version": "2.0.0",
      "model_name": "ToggleButtonModel",
      "state": {
       "button_style": "primary",
       "icon": "bar-chart",
       "layout": "IPY_MODEL_9d3ad950249749aaadf0cf1dc51951d6",
       "style": "IPY_MODEL_b4f0630cc66c4c25b70ff52c4645e9eb",
       "tooltip": "Plotting"
      }
     },
     "6fbe5fcac0b5461d89d20b2bb3fa2930": {
      "model_module": "ipytree",
      "model_module_version": "^0.2",
      "model_name": "NodeModel",
      "state": {
       "_id": "53f35159-4aea-4ba9-b99f-4089cf19b272",
       "_model_module_version": "^0.2",
       "_view_module_version": "^0.2",
       "icon": "file",
       "name": "filtering.py"
      }
     },
     "6fe03659be804d16a0829022fafa4d50": {
      "model_module": "ipytree",
      "model_module_version": "^0.2",
      "model_name": "NodeModel",
      "state": {
       "_id": "baaaf84a-5233-41e6-b445-db59f87c530b",
       "_model_module_version": "^0.2",
       "_view_module_version": "^0.2",
       "icon": "file",
       "name": "landsat_cloud_score.py"
      }
     },
     "7035dc6fca8e42b384f226e4b287ed2b": {
      "model_module": "ipytree",
      "model_module_version": "^0.2",
      "model_name": "NodeModel",
      "state": {
       "_id": "1cefe75e-96fa-4dd1-be21-2eb7b83918c9",
       "_model_module_version": "^0.2",
       "_view_module_version": "^0.2",
       "icon": "file",
       "name": "1_water_occurrence.py"
      }
     },
     "70aa5bce60df4463b4b1c33aa9da6171": {
      "model_module": "@jupyter-widgets/base",
      "model_module_version": "2.0.0",
      "model_name": "LayoutModel",
      "state": {}
     },
     "7119d3e8017647318809dc3ed0bb8293": {
      "model_module": "@jupyter-widgets/base",
      "model_module_version": "2.0.0",
      "model_name": "LayoutModel",
      "state": {
       "width": "310px"
      }
     },
     "71c453eb195341648e9e5515b531554e": {
      "model_module": "@jupyter-widgets/controls",
      "model_module_version": "2.0.0",
      "model_name": "ToggleButtonModel",
      "state": {
       "button_style": "primary",
       "icon": "retweet",
       "layout": "IPY_MODEL_b59d4fd1d688449ca50dafd09800713b",
       "style": "IPY_MODEL_50b7bee49c174d7ea595d77ec60b256a",
       "tooltip": "Convert Earth Engine JavaScript to Python"
      }
     },
     "720c922c8cc04636af206dea0635538e": {
      "model_module": "@jupyter-widgets/controls",
      "model_module_version": "2.0.0",
      "model_name": "TextStyleModel",
      "state": {
       "description_width": "",
       "font_size": null,
       "text_color": null
      }
     },
     "725026f070af4b8c9680c0594dc774eb": {
      "model_module": "@jupyter-widgets/controls",
      "model_module_version": "2.0.0",
      "model_name": "ToggleButtonModel",
      "state": {
       "button_style": "primary",
       "icon": "plus",
       "layout": "IPY_MODEL_a5730d4e085f42daa9b583d8e868cf89",
       "style": "IPY_MODEL_af2961424de3496fa07d9cf49de5feab",
       "tooltip": "Expand toolbar"
      }
     },
     "729d62fc814e405483bbf4df6c6cccea": {
      "model_module": "ipytree",
      "model_module_version": "^0.2",
      "model_name": "NodeModel",
      "state": {
       "_id": "e7639b15-8b7f-44f9-b107-05b0e31d2b5a",
       "_model_module_version": "^0.2",
       "_view_module_version": "^0.2",
       "icon": "file",
       "name": "creating_feature.py"
      }
     },
     "72e0cba39ac8413ca76a267c06424f98": {
      "model_module": "@jupyter-widgets/base",
      "model_module_version": "2.0.0",
      "model_name": "LayoutModel",
      "state": {
       "height": "auto",
       "padding": "0px 0px 0px 4px",
       "width": "auto"
      }
     },
     "733e4047ca89491c8542b2834e4bc9a3": {
      "model_module": "ipytree",
      "model_module_version": "^0.2",
      "model_name": "NodeModel",
      "state": {
       "_id": "b6a1b168-d760-4d93-b351-3ea513bb9693",
       "_model_module_version": "^0.2",
       "_view_module_version": "^0.2",
       "name": "Datasets",
       "nodes": [
        "IPY_MODEL_4db55dff2d8949c79994987d5da5808e",
        "IPY_MODEL_1126f9e0d6f345f5a97c7243779bc6a3",
        "IPY_MODEL_5d7844bcb5c342558d78d8bb29a41993",
        "IPY_MODEL_f1f6112ca366499594a37d17313e9f5d",
        "IPY_MODEL_f44d8457df1647b8954beca21b232b9f",
        "IPY_MODEL_e5ad61d5166f41d5952530fe6da4b022",
        "IPY_MODEL_4c6b9d53c11b454285d4184e024f6e06",
        "IPY_MODEL_7ee5bd0813cb4591b1dccebac0781dd0"
       ],
       "opened": false
      }
     },
     "734e6ab86a634d1ca7b351d1c4694a3e": {
      "model_module": "@jupyter-widgets/controls",
      "model_module_version": "2.0.0",
      "model_name": "ButtonModel",
      "state": {
       "button_style": "primary",
       "description": "import",
       "layout": "IPY_MODEL_331f1e5df8484d0f8289e6d1f6a66db7",
       "style": "IPY_MODEL_cb534a9e481d45a8bfa8ba386849a2ed",
       "tooltip": "Click to import the selected asset"
      }
     },
     "73f8493810b745edaa0f7c7af54b744c": {
      "model_module": "@jupyter-widgets/base",
      "model_module_version": "2.0.0",
      "model_name": "LayoutModel",
      "state": {}
     },
     "741f70aff0a6433aa9657ff0287c5a15": {
      "model_module": "jupyter-leaflet",
      "model_module_version": "^0.18",
      "model_name": "LeafletWidgetControlModel",
      "state": {
       "_model_module": "jupyter-leaflet",
       "_model_module_version": "^0.18",
       "_view_count": null,
       "_view_module": "jupyter-leaflet",
       "_view_module_version": "^0.18",
       "options": [
        "position",
        "transparent_bg"
       ],
       "position": "topright",
       "widget": "IPY_MODEL_eb0c900c9e5247ffa1074cd0c9b5ed12"
      }
     },
     "745f29ed87e1457fa6263a9babfd9ff9": {
      "model_module": "@jupyter-widgets/base",
      "model_module_version": "2.0.0",
      "model_name": "LayoutModel",
      "state": {
       "height": "auto",
       "padding": "0px 0px 0px 4px",
       "width": "auto"
      }
     },
     "74e124f4a4b841cf9c86d6324f99f292": {
      "model_module": "@jupyter-widgets/base",
      "model_module_version": "2.0.0",
      "model_name": "LayoutModel",
      "state": {
       "height": "auto",
       "padding": "0px 0px 0px 4px",
       "width": "auto"
      }
     },
     "7517acb021d84412a454edb1b166a026": {
      "model_module": "ipytree",
      "model_module_version": "^0.2",
      "model_name": "NodeModel",
      "state": {
       "_id": "13624795-2c6c-45d4-b38a-c5b7888add93",
       "_model_module_version": "^0.2",
       "_view_module_version": "^0.2",
       "icon": "file",
       "name": "image_overview.py"
      }
     },
     "75a03f5d6493407d9698bad049e19480": {
      "model_module": "@jupyter-widgets/controls",
      "model_module_version": "2.0.0",
      "model_name": "ToggleButtonModel",
      "state": {
       "button_style": "primary",
       "icon": "info-circle",
       "layout": "IPY_MODEL_b02854308750429aa4687cc4669ad3fc",
       "style": "IPY_MODEL_3c9ee2d75c214838a9bbc84525f9719f",
       "tooltip": "Get COG/STAC pixel value"
      }
     },
     "75a1bf1fff0945bc9b4b394a8ccfa4cc": {
      "model_module": "jupyter-leaflet",
      "model_module_version": "^0.18",
      "model_name": "LeafletFullScreenControlModel",
      "state": {
       "_model_module_version": "^0.18",
       "_view_module_version": "^0.18",
       "options": [
        "position"
       ]
      }
     },
     "75c0d402cd0b4eacb8b8555d51b3a344": {
      "model_module": "@jupyter-widgets/controls",
      "model_module_version": "2.0.0",
      "model_name": "GridBoxModel",
      "state": {
       "children": [
        "IPY_MODEL_49d10702d00e4c319c96fe80ad2f914a",
        "IPY_MODEL_129d448e29cf4212846890efb413a73c",
        "IPY_MODEL_8b1ed9f8d2ad4b24b75d9b202d0f5c49",
        "IPY_MODEL_4c913ea6f87546e587fb2f8605dadd9c",
        "IPY_MODEL_71c453eb195341648e9e5515b531554e",
        "IPY_MODEL_d4e121c8b2e7445fb3ee5480603e0970"
       ],
       "layout": "IPY_MODEL_69d4bd2371d14359961db95a84a1469b"
      }
     },
     "75f83e73d34b4a84b7fd8b72b9d59342": {
      "model_module": "@jupyter-widgets/controls",
      "model_module_version": "2.0.0",
      "model_name": "ButtonModel",
      "state": {
       "button_style": "primary",
       "description": "import",
       "layout": "IPY_MODEL_bf30733a10b24218818e73bd9b620ba8",
       "style": "IPY_MODEL_7ed3b2a8425b41d4a98901b56d3f16b7",
       "tooltip": "Click to import the selected asset"
      }
     },
     "76640a8ddd8444ac9e22c2f119dfe50f": {
      "model_module": "@jupyter-widgets/controls",
      "model_module_version": "2.0.0",
      "model_name": "ToggleButtonsModel",
      "state": {
       "_options_labels": [
        "Scripts",
        "Docs",
        "Assets"
       ],
       "button_style": "primary",
       "icons": [],
       "index": 0,
       "layout": "IPY_MODEL_28f78850cbb4403197a597369cac47e7",
       "style": "IPY_MODEL_259553236c744ef7a97b6b1ebf9731c5",
       "tooltips": [
        "Search Earth Engine Scripts",
        "Search Earth Engine API",
        "Search Earth Engine Assets"
       ]
      }
     },
     "7687ee37437e4fa1b51b82d3443776c2": {
      "model_module": "jupyter-leaflet",
      "model_module_version": "^0.18",
      "model_name": "LeafletMapStyleModel",
      "state": {
       "_model_module_version": "^0.18"
      }
     },
     "772b49fb00024362bfde2482caa640f8": {
      "model_module": "@jupyter-widgets/base",
      "model_module_version": "2.0.0",
      "model_name": "LayoutModel",
      "state": {
       "height": "auto",
       "padding": "0px 0px 0px 4px",
       "width": "auto"
      }
     },
     "7744d429d55e41ac9632df334b07d241": {
      "model_module": "@jupyter-widgets/controls",
      "model_module_version": "2.0.0",
      "model_name": "ToggleButtonModel",
      "state": {
       "button_style": "primary",
       "icon": "hand-o-up",
       "layout": "IPY_MODEL_cda03ddb96e54efd8c0d6e5c1a60a0ef",
       "style": "IPY_MODEL_f01b668980b4444189e32abf24e90c07",
       "tooltip": "Collect training samples"
      }
     },
     "783785ef9c2b4186891158cb3d1f6ad1": {
      "model_module": "@jupyter-widgets/controls",
      "model_module_version": "2.0.0",
      "model_name": "VBoxModel",
      "state": {
       "children": [
        "IPY_MODEL_2bcf03868a544369b13a17f42426a899",
        "IPY_MODEL_8a31fe7fa5564c8b9e9dcf4e7e070178"
       ],
       "layout": "IPY_MODEL_e94f8ba84b5c4391bd91440a8f30835f"
      }
     },
     "78b3c63c03634425bbde88f52c6c6f23": {
      "model_module": "ipytree",
      "model_module_version": "^0.2",
      "model_name": "NodeModel",
      "state": {
       "_id": "b51f6eab-4490-4e4c-9bec-b9a1a0ce24eb",
       "_model_module_version": "^0.2",
       "_view_module_version": "^0.2",
       "icon": "file",
       "name": "NormalizedDifference.py"
      }
     },
     "78d71b027fdd4724a2d9da0eab508428": {
      "model_module": "@jupyter-widgets/controls",
      "model_module_version": "2.0.0",
      "model_name": "ToggleButtonModel",
      "state": {
       "button_style": "primary",
       "icon": "info",
       "layout": "IPY_MODEL_1b3b09f3284e41a7ba27453b5671eaf3",
       "style": "IPY_MODEL_879b46568ac14cc186fc9b2eee825285",
       "tooltip": "Inspector"
      }
     },
     "7905655146064a27875bfaf16cae3209": {
      "model_module": "@jupyter-widgets/controls",
      "model_module_version": "2.0.0",
      "model_name": "ToggleButtonModel",
      "state": {
       "button_style": "primary",
       "icon": "google",
       "layout": "IPY_MODEL_74e124f4a4b841cf9c86d6324f99f292",
       "style": "IPY_MODEL_d9aabe0c2e8146c3bb98c29126cae963",
       "tooltip": "GEE Toolbox for cloud computing"
      }
     },
     "79361d012849484db0f3a24c72c006d0": {
      "model_module": "@jupyter-widgets/controls",
      "model_module_version": "2.0.0",
      "model_name": "ToggleButtonStyleModel",
      "state": {
       "description_width": "",
       "font_family": null,
       "font_size": null,
       "font_style": null,
       "font_variant": null,
       "font_weight": null,
       "text_color": null,
       "text_decoration": null
      }
     },
     "79a925190d4644adb9ffcf05953cc7b0": {
      "model_module": "@jupyter-widgets/controls",
      "model_module_version": "2.0.0",
      "model_name": "ToggleButtonStyleModel",
      "state": {
       "description_width": "",
       "font_family": null,
       "font_size": null,
       "font_style": null,
       "font_variant": null,
       "font_weight": null,
       "text_color": null,
       "text_decoration": null
      }
     },
     "7a01870c214d4e8aa2096b9a258f2734": {
      "model_module": "@jupyter-widgets/base",
      "model_module_version": "2.0.0",
      "model_name": "LayoutModel",
      "state": {
       "height": "auto",
       "padding": "0px 0px 0px 4px",
       "width": "auto"
      }
     },
     "7a76e220a2fd4fbfb4a8a9aa0c8eb822": {
      "model_module": "@jupyter-widgets/controls",
      "model_module_version": "2.0.0",
      "model_name": "ToggleButtonModel",
      "state": {
       "icon": "server",
       "layout": "IPY_MODEL_534e23a0ea724f22a728f94832e6e8ff",
       "style": "IPY_MODEL_049c6b15623b41a694dff887fc254a5b",
       "tooltip": "Layers"
      }
     },
     "7aaf6969cd304f1a840ccfcdb86afd0d": {
      "model_module": "@jupyter-widgets/controls",
      "model_module_version": "2.0.0",
      "model_name": "VBoxModel",
      "state": {
       "children": [
        "IPY_MODEL_0e458b9593a54141b0f91c212f4087b3",
        "IPY_MODEL_56c3fc056e9c441ea63cb9bcf1bd4761"
       ],
       "layout": "IPY_MODEL_0448a1980bf845f1a9b6b5a487a307eb"
      }
     },
     "7b3f75cc03094dfebd5ecff59c46ed2e": {
      "model_module": "@jupyter-widgets/base",
      "model_module_version": "2.0.0",
      "model_name": "LayoutModel",
      "state": {
       "max_width": "279px",
       "min_width": "279px"
      }
     },
     "7b949bb22f134e07b3ec45aae773f6b8": {
      "model_module": "@jupyter-widgets/base",
      "model_module_version": "2.0.0",
      "model_name": "LayoutModel",
      "state": {
       "grid_gap": "1px 1px",
       "grid_template_columns": "32px 32px 32px ",
       "grid_template_rows": "32px 32px ",
       "padding": "5px",
       "width": "109px"
      }
     },
     "7bea1c10bd7342b7b6b6eaeaf1439f1f": {
      "model_module": "@jupyter-widgets/controls",
      "model_module_version": "2.0.0",
      "model_name": "ToggleButtonStyleModel",
      "state": {
       "description_width": "",
       "font_family": null,
       "font_size": null,
       "font_style": null,
       "font_variant": null,
       "font_weight": null,
       "text_color": null,
       "text_decoration": null
      }
     },
     "7c3f64d0446e4530a0f0b9540c506869": {
      "model_module": "@jupyter-widgets/base",
      "model_module_version": "2.0.0",
      "model_name": "LayoutModel",
      "state": {}
     },
     "7c4e3c473b50438ca69fd7ae3afc8ff8": {
      "model_module": "@jupyter-widgets/controls",
      "model_module_version": "2.0.0",
      "model_name": "ToggleButtonStyleModel",
      "state": {
       "description_width": "",
       "font_family": null,
       "font_size": null,
       "font_style": null,
       "font_variant": null,
       "font_weight": null,
       "text_color": null,
       "text_decoration": null
      }
     },
     "7c8b4234a92e48e3b02efcd10516da7d": {
      "model_module": "@jupyter-widgets/controls",
      "model_module_version": "2.0.0",
      "model_name": "ToggleButtonStyleModel",
      "state": {
       "description_width": "",
       "font_family": null,
       "font_size": null,
       "font_style": null,
       "font_variant": null,
       "font_weight": null,
       "text_color": null,
       "text_decoration": null
      }
     },
     "7ced531637d74b62ad83d1b67a20724f": {
      "model_module": "@jupyter-widgets/controls",
      "model_module_version": "2.0.0",
      "model_name": "ToggleButtonModel",
      "state": {
       "button_style": "primary",
       "icon": "info-circle",
       "layout": "IPY_MODEL_932daf74e81b4d5395caca163f69a8db",
       "style": "IPY_MODEL_3a3a2522b3ea4959a96178723676310c",
       "tooltip": "Get COG/STAC pixel value"
      }
     },
     "7cf6e42bafed487da7fc1d2c669559f7": {
      "model_module": "@jupyter-widgets/controls",
      "model_module_version": "2.0.0",
      "model_name": "ToggleButtonStyleModel",
      "state": {
       "description_width": "",
       "font_family": null,
       "font_size": null,
       "font_style": null,
       "font_variant": null,
       "font_weight": null,
       "text_color": null,
       "text_decoration": null
      }
     },
     "7d2279d0bbae493f9353f68b0c80555a": {
      "model_module": "@jupyter-widgets/base",
      "model_module_version": "2.0.0",
      "model_name": "LayoutModel",
      "state": {}
     },
     "7d3d837938964fb993cc85ba2ece2c1c": {
      "model_module": "@jupyter-widgets/base",
      "model_module_version": "2.0.0",
      "model_name": "LayoutModel",
      "state": {}
     },
     "7d4b2fc59f13436c8ac26ec96f7d6652": {
      "model_module": "ipytree",
      "model_module_version": "^0.2",
      "model_name": "NodeModel",
      "state": {
       "_id": "046db0aa-4c8b-40ae-ac08-e160f87e4576",
       "_model_module_version": "^0.2",
       "_view_module_version": "^0.2",
       "icon": "file",
       "name": "jrc_monthly_history.py"
      }
     },
     "7db8c60dc6074a64bf2dc3b1bf2035af": {
      "model_module": "ipytree",
      "model_module_version": "^0.2",
      "model_name": "NodeModel",
      "state": {
       "_id": "d831e4c9-9ee9-4467-8187-c210d4b35c88",
       "_model_module_version": "^0.2",
       "_view_module_version": "^0.2",
       "icon": "file",
       "name": "glcf_global_inland_water.py"
      }
     },
     "7dc6c79f969448bb809f1ac91d68684b": {
      "model_module": "ipytree",
      "model_module_version": "^0.2",
      "model_name": "NodeModel",
      "state": {
       "_id": "fd866db3-6434-4a8c-9fcc-619dbaaf757a",
       "_model_module_version": "^0.2",
       "_view_module_version": "^0.2",
       "icon": "file",
       "name": "resampling2.py"
      }
     },
     "7de8fec0955b4966885c66500a4943c6": {
      "model_module": "ipytree",
      "model_module_version": "^0.2",
      "model_name": "NodeModel",
      "state": {
       "_id": "33fc6997-30c2-460a-bf12-01be42863cd9",
       "_model_module_version": "^0.2",
       "_view_module_version": "^0.2",
       "name": "MachineLearning",
       "nodes": [
        "IPY_MODEL_457a479675a84fc28a71d4690483050e",
        "IPY_MODEL_f9f96d0362434ef080cb2b1b9bb21159",
        "IPY_MODEL_3fa2a4f93f034bdaae2128a977ddd99a",
        "IPY_MODEL_425261506e084f618e22d03a34be4c84"
       ],
       "opened": false
      }
     },
     "7ec4dac2dacb4168abbc9ca46b247cfe": {
      "model_module": "@jupyter-widgets/base",
      "model_module_version": "2.0.0",
      "model_name": "LayoutModel",
      "state": {
       "width": "200px"
      }
     },
     "7ec770cd031248ebbcfef715aecfd0e6": {
      "model_module": "@jupyter-widgets/controls",
      "model_module_version": "2.0.0",
      "model_name": "ToggleButtonModel",
      "state": {
       "button_style": "primary",
       "icon": "eraser",
       "layout": "IPY_MODEL_8163abeedc23492e9cf034edc06fbd76",
       "style": "IPY_MODEL_a3ef2ef6b8264b60831355424c74abed",
       "tooltip": "Remove all drawn features"
      }
     },
     "7ed3b2a8425b41d4a98901b56d3f16b7": {
      "model_module": "@jupyter-widgets/controls",
      "model_module_version": "2.0.0",
      "model_name": "ButtonStyleModel",
      "state": {
       "font_family": null,
       "font_size": null,
       "font_style": null,
       "font_variant": null,
       "font_weight": null,
       "text_color": null,
       "text_decoration": null
      }
     },
     "7ee5bd0813cb4591b1dccebac0781dd0": {
      "model_module": "ipytree",
      "model_module_version": "^0.2",
      "model_name": "NodeModel",
      "state": {
       "_id": "6fe820ba-01be-46de-ab4c-e9162036e77f",
       "_model_module_version": "^0.2",
       "_view_module_version": "^0.2",
       "name": "Water",
       "nodes": [
        "IPY_MODEL_7db8c60dc6074a64bf2dc3b1bf2035af",
        "IPY_MODEL_ecf18e2c1ec54b67bab0dde56bd07309",
        "IPY_MODEL_3923ede260844dd9be38e7a55241c151",
        "IPY_MODEL_7d4b2fc59f13436c8ac26ec96f7d6652",
        "IPY_MODEL_e0535307c6a746d2a92937ac68a800bc",
        "IPY_MODEL_d277f8c6842a462e9682a6dfdd9bd49f",
        "IPY_MODEL_585ce24e8bed4fe6979c16880a87b6c7"
       ],
       "opened": false
      }
     },
     "7f9aa2904087433fbe79bb000b7cd5b8": {
      "model_module": "ipytree",
      "model_module_version": "^0.2",
      "model_name": "NodeModel",
      "state": {
       "_id": "6f5904c9-138a-4f96-9dbe-f4095653da7e",
       "_model_module_version": "^0.2",
       "_view_module_version": "^0.2",
       "name": "Keiko",
       "nodes": [
        "IPY_MODEL_81a5881071544e98bc51416d179e615d",
        "IPY_MODEL_849e373de2334ba1b5739abba26a5663",
        "IPY_MODEL_079aa685874e4ba0bf9c2ce62117c26b"
       ],
       "opened": false
      }
     },
     "800ea0a075344377ae941ba730c44595": {
      "model_module": "@jupyter-widgets/output",
      "model_module_version": "1.0.0",
      "model_name": "OutputModel",
      "state": {
       "layout": "IPY_MODEL_a56a7cdbe8474c678d85c1ef8bf97ee1"
      }
     },
     "80a1af3c79014600ae07d69088115697": {
      "model_module": "ipytree",
      "model_module_version": "^0.2",
      "model_name": "NodeModel",
      "state": {
       "_id": "b58da5e6-b158-4c9f-aaea-4cd0655c6924",
       "_model_module_version": "^0.2",
       "_view_module_version": "^0.2",
       "icon": "file",
       "name": "creating_feature_collection.py"
      }
     },
     "80e999a0069942519346c56fa92f11b6": {
      "model_module": "@jupyter-widgets/controls",
      "model_module_version": "2.0.0",
      "model_name": "DescriptionStyleModel",
      "state": {
       "description_width": ""
      }
     },
     "80fb32be66854ad5bd949fbcad928c24": {
      "model_module": "ipytree",
      "model_module_version": "^0.2",
      "model_name": "NodeModel",
      "state": {
       "_id": "6a395447-9b2b-4155-8d78-06d8af3d9854",
       "_model_module_version": "^0.2",
       "_view_module_version": "^0.2",
       "name": "NAIP",
       "nodes": [
        "IPY_MODEL_a3500d53dc464b769fb1cfa615c66367",
        "IPY_MODEL_6fbe5fcac0b5461d89d20b2bb3fa2930",
        "IPY_MODEL_9e82405144a54b2a919dcd53597bc459",
        "IPY_MODEL_bc421cfdbe9343ee9afc7c83e03dccdf",
        "IPY_MODEL_5112c71131154de59fe47ec06ebb2132",
        "IPY_MODEL_f3c94bfa107c42b1bf1ff5a8c551ef30",
        "IPY_MODEL_644e9233c9d247ae833b03acf4f85dac",
        "IPY_MODEL_986c4494d64649c09dc150292b6c8dd2",
        "IPY_MODEL_ff6e5ecf75cd49f0aec64efe9d5330e6"
       ],
       "opened": false
      }
     },
     "81409d1242cb4729996a42dccb083d5e": {
      "model_module": "ipyevents",
      "model_module_version": "2.0.2",
      "model_name": "EventModel",
      "state": {
       "_supported_key_events": [
        "keydown",
        "keyup"
       ],
       "_supported_mouse_events": [
        "click",
        "auxclick",
        "dblclick",
        "mouseenter",
        "mouseleave",
        "mousedown",
        "mouseup",
        "mousemove",
        "wheel",
        "contextmenu",
        "dragstart",
        "drag",
        "dragend",
        "dragenter",
        "dragover",
        "dragleave",
        "drop"
       ],
       "_supported_touch_events": [
        "touchstart",
        "touchend",
        "touchmove",
        "touchcancel"
       ],
       "_view_module": "@jupyter-widgets/controls",
       "source": "IPY_MODEL_c57ae8e752ae457dad9f3b4fa273b563",
       "throttle_or_debounce": "",
       "watched_events": [
        "mouseenter",
        "mouseleave"
       ],
       "xy_coordinate_system": ""
      }
     },
     "8163abeedc23492e9cf034edc06fbd76": {
      "model_module": "@jupyter-widgets/base",
      "model_module_version": "2.0.0",
      "model_name": "LayoutModel",
      "state": {
       "height": "auto",
       "padding": "0px 0px 0px 4px",
       "width": "auto"
      }
     },
     "81a5881071544e98bc51416d179e615d": {
      "model_module": "ipytree",
      "model_module_version": "^0.2",
      "model_name": "NodeModel",
      "state": {
       "_id": "9645d0f0-3b72-4117-83e3-170fc008d4ef",
       "_model_module_version": "^0.2",
       "_view_module_version": "^0.2",
       "icon": "file",
       "name": "fire_australia.py"
      }
     },
     "81e4ad11138146af99fa86025921ff33": {
      "model_module": "ipytree",
      "model_module_version": "^0.2",
      "model_name": "NodeModel",
      "state": {
       "_id": "19e98b0d-c803-40ec-8efd-1a1e1cdf3cf0",
       "_model_module_version": "^0.2",
       "_view_module_version": "^0.2",
       "icon": "file",
       "name": "nlcd_land_cover.py"
      }
     },
     "82245a1064db44fa815a812fd2f27ead": {
      "model_module": "ipytree",
      "model_module_version": "^0.2",
      "model_name": "NodeModel",
      "state": {
       "_id": "04348268-8409-4168-bdcb-9c7b37ecf79f",
       "_model_module_version": "^0.2",
       "_view_module_version": "^0.2",
       "name": "Reducer",
       "nodes": [
        "IPY_MODEL_b07c9f1f64754cc6855a223835152794",
        "IPY_MODEL_c9e9292aec0f43e0a143b208c4c63ad0",
        "IPY_MODEL_5a62411306d84439b3da2f2ab0a619f9",
        "IPY_MODEL_48bd058a20fd435da9376fb17effe4ba",
        "IPY_MODEL_a16f0b8248e9457ea1e54312e6ca47b5",
        "IPY_MODEL_4fc56e43bffd404a8364d9df1015f59e",
        "IPY_MODEL_6a64c3ea5c824b9caebc19d8f115df48",
        "IPY_MODEL_6e0b14767c0143d3af59e6d12e178cef",
        "IPY_MODEL_c77ba4089da54a72a6883c0be85926d5",
        "IPY_MODEL_23425e10aa834d5595b8f2cfac25156e",
        "IPY_MODEL_57442a1778824b3d953b3cb3c339e807",
        "IPY_MODEL_a1f7e82233a0420b9078877fa1065bd5",
        "IPY_MODEL_bcb4d62ddc6a48cdb8086169765fbf97",
        "IPY_MODEL_4e43b45de6e84ff4961afdfb544c7ad8",
        "IPY_MODEL_bbf3f8fd6ff64daa817f69390e1c42d2",
        "IPY_MODEL_b1fad762eea24e59ba7b1bea85a363fd"
       ],
       "opened": false
      }
     },
     "82ca122382254783a6cdd8bb62c6f3cf": {
      "model_module": "@jupyter-widgets/base",
      "model_module_version": "2.0.0",
      "model_name": "LayoutModel",
      "state": {
       "height": "auto",
       "padding": "0px 0px 0px 4px",
       "width": "auto"
      }
     },
     "82defab18092494597791e40dddc8f70": {
      "model_module": "@jupyter-widgets/controls",
      "model_module_version": "2.0.0",
      "model_name": "VBoxModel",
      "state": {
       "children": [
        "IPY_MODEL_61c9b61a10bb48e7add1e45e38876e71",
        "IPY_MODEL_9f835fae2e224d92a235ea8735de4ab6"
       ],
       "layout": "IPY_MODEL_4c20315c410c48ff8e2e6505c029420f"
      }
     },
     "82f6f96087344e0ea08002c2d071c8d9": {
      "model_module": "@jupyter-widgets/controls",
      "model_module_version": "2.0.0",
      "model_name": "ToggleButtonStyleModel",
      "state": {
       "description_width": "",
       "font_family": null,
       "font_size": null,
       "font_style": null,
       "font_variant": null,
       "font_weight": null,
       "text_color": null,
       "text_decoration": null
      }
     },
     "8332f3f3f75e4e5b8e1159b5d2e81fa5": {
      "model_module": "ipytree",
      "model_module_version": "^0.2",
      "model_name": "NodeModel",
      "state": {
       "_id": "c23ede48-c845-4585-81b8-d481adb90160",
       "_model_module_version": "^0.2",
       "_view_module_version": "^0.2",
       "icon": "file",
       "name": "hydrosheds_dem.py"
      }
     },
     "837f9b69fd294411be0fe0ab1949258e": {
      "model_module": "ipytree",
      "model_module_version": "^0.2",
      "model_name": "NodeModel",
      "state": {
       "_id": "b948ecd2-c560-40cb-8032-2fefb1f808e0",
       "_model_module_version": "^0.2",
       "_view_module_version": "^0.2",
       "icon": "file",
       "name": "image_clipping.py"
      }
     },
     "8448ab5008f140c59ea0086a2ea648d8": {
      "model_module": "ipytree",
      "model_module_version": "^0.2",
      "model_name": "NodeModel",
      "state": {
       "_id": "ac5ba353-85d5-4839-a821-323af6ed6166",
       "_model_module_version": "^0.2",
       "_view_module_version": "^0.2",
       "icon": "file",
       "name": "find_image_by_path_row.py"
      }
     },
     "8461b38fc2014c21b6d437713f408914": {
      "model_module": "ipytree",
      "model_module_version": "^0.2",
      "model_name": "NodeModel",
      "state": {
       "_id": "06d10988-0418-4749-9d6c-1e00bf0dc607",
       "_model_module_version": "^0.2",
       "_view_module_version": "^0.2",
       "icon": "file",
       "name": "column_statistics_multiple.py"
      }
     },
     "8496093b4cf24ef3b8ee5c23ba5cde60": {
      "model_module": "@jupyter-widgets/base",
      "model_module_version": "2.0.0",
      "model_name": "LayoutModel",
      "state": {
       "height": "auto",
       "padding": "0px 0px 0px 4px",
       "width": "auto"
      }
     },
     "849e373de2334ba1b5739abba26a5663": {
      "model_module": "ipytree",
      "model_module_version": "^0.2",
      "model_name": "NodeModel",
      "state": {
       "_id": "40c36464-9332-4ab3-aeb5-1faf5d61de1f",
       "_model_module_version": "^0.2",
       "_view_module_version": "^0.2",
       "icon": "file",
       "name": "glad_alert.py"
      }
     },
     "8526847ef516442da2ac439bd5208a46": {
      "model_module": "@jupyter-widgets/controls",
      "model_module_version": "2.0.0",
      "model_name": "ToggleButtonStyleModel",
      "state": {
       "description_width": "",
       "font_family": null,
       "font_size": null,
       "font_style": null,
       "font_variant": null,
       "font_weight": null,
       "text_color": null,
       "text_decoration": null
      }
     },
     "8529c4677fe946c594e21c67e9ee4c6f": {
      "model_module": "ipytree",
      "model_module_version": "^0.2",
      "model_name": "NodeModel",
      "state": {
       "_id": "159c7e7e-bff8-4fe9-9c69-5b7ca6d77fa9",
       "_model_module_version": "^0.2",
       "_view_module_version": "^0.2",
       "icon": "file",
       "name": "linear_fit.py"
      }
     },
     "853347be39e441198b7619dd9ab0b3ce": {
      "model_module": "@jupyter-widgets/base",
      "model_module_version": "2.0.0",
      "model_name": "LayoutModel",
      "state": {
       "height": "28px",
       "width": "72px"
      }
     },
     "855e16aa964043a7870da126be3a14e7": {
      "model_module": "@jupyter-widgets/controls",
      "model_module_version": "2.0.0",
      "model_name": "ToggleButtonModel",
      "state": {
       "button_style": "primary",
       "icon": "hand-o-up",
       "layout": "IPY_MODEL_ad38723dab2a494385e6381f3a8d4113",
       "style": "IPY_MODEL_5aa2f40db51e43179c033274424a5155",
       "tooltip": "Collect training samples"
      }
     },
     "859b42d400c146e58e4b404470312c0f": {
      "model_module": "@jupyter-widgets/base",
      "model_module_version": "2.0.0",
      "model_name": "LayoutModel",
      "state": {
       "height": "auto",
       "padding": "0px 0px 0px 4px",
       "width": "auto"
      }
     },
     "86463b0280d449789b2550d89f39e8bd": {
      "model_module": "jupyter-leaflet",
      "model_module_version": "^0.18",
      "model_name": "LeafletTileLayerModel",
      "state": {
       "_model_module_version": "^0.18",
       "_view_module_version": "^0.18",
       "attribution": "Esri",
       "max_zoom": 24,
       "name": "Esri.WorldImagery",
       "options": [
        "attribution",
        "bounds",
        "detect_retina",
        "max_native_zoom",
        "max_zoom",
        "min_native_zoom",
        "min_zoom",
        "no_wrap",
        "tile_size",
        "tms",
        "zoom_offset"
       ],
       "url": "https://server.arcgisonline.com/ArcGIS/rest/services/World_Imagery/MapServer/tile/{z}/{y}/{x}"
      }
     },
     "86989120f760433fa3565bd117b483c3": {
      "model_module": "@jupyter-widgets/controls",
      "model_module_version": "2.0.0",
      "model_name": "ToggleButtonStyleModel",
      "state": {
       "description_width": "",
       "font_family": null,
       "font_size": null,
       "font_style": null,
       "font_variant": null,
       "font_weight": null,
       "text_color": null,
       "text_decoration": null
      }
     },
     "869906dcf2c240988bfed38b3e3dcf2e": {
      "model_module": "@jupyter-widgets/controls",
      "model_module_version": "2.0.0",
      "model_name": "HBoxModel",
      "state": {
       "children": [
        "IPY_MODEL_d73ec9876578457eb08abe93a3e6d630",
        "IPY_MODEL_41edc3c143294c7cbba44b56322464a3"
       ],
       "layout": "IPY_MODEL_0628df6bf51e44808093b57a02090095"
      }
     },
     "86da033092b04920abcd9d86aa813cfd": {
      "model_module": "@jupyter-widgets/controls",
      "model_module_version": "2.0.0",
      "model_name": "DropdownModel",
      "state": {
       "index": null,
       "layout": "IPY_MODEL_61a2d47ae2d34f86899b245b8b808126",
       "style": "IPY_MODEL_a9ea1c749c0c49d888e2be7813bdc713"
      }
     },
     "875b6206709b4e98bcd127f1c1462944": {
      "model_module": "ipytree",
      "model_module_version": "^0.2",
      "model_name": "NodeModel",
      "state": {
       "_id": "f3351680-4d65-47de-b8d1-0aa919a47001",
       "_model_module_version": "^0.2",
       "_view_module_version": "^0.2",
       "icon": "file",
       "name": "join.py"
      }
     },
     "879b46568ac14cc186fc9b2eee825285": {
      "model_module": "@jupyter-widgets/controls",
      "model_module_version": "2.0.0",
      "model_name": "ToggleButtonStyleModel",
      "state": {
       "description_width": "",
       "font_family": null,
       "font_size": null,
       "font_style": null,
       "font_variant": null,
       "font_weight": null,
       "text_color": null,
       "text_decoration": null
      }
     },
     "8887977a9cbe46f5afd0ff2ba1f409ef": {
      "model_module": "@jupyter-widgets/base",
      "model_module_version": "2.0.0",
      "model_name": "LayoutModel",
      "state": {}
     },
     "8899cb1094794f2880f7558d0883ca3e": {
      "model_module": "@jupyter-widgets/controls",
      "model_module_version": "2.0.0",
      "model_name": "ToggleButtonStyleModel",
      "state": {
       "description_width": "",
       "font_family": null,
       "font_size": null,
       "font_style": null,
       "font_variant": null,
       "font_weight": null,
       "text_color": null,
       "text_decoration": null
      }
     },
     "88abae8516494737a7d13a13eece9e26": {
      "model_module": "ipytree",
      "model_module_version": "^0.2",
      "model_name": "NodeModel",
      "state": {
       "_id": "0fef7259-0eb8-4eec-be45-0f876931feb8",
       "_model_module_version": "^0.2",
       "_view_module_version": "^0.2",
       "icon": "file",
       "name": "select_image_by_index.py"
      }
     },
     "88e03e6428364851817597b168218b1d": {
      "model_module": "@jupyter-widgets/controls",
      "model_module_version": "2.0.0",
      "model_name": "ButtonStyleModel",
      "state": {
       "font_family": null,
       "font_size": null,
       "font_style": null,
       "font_variant": null,
       "font_weight": null,
       "text_color": null,
       "text_decoration": null
      }
     },
     "88e1a6c258f64d508090eb1cccd062e0": {
      "model_module": "ipytree",
      "model_module_version": "^0.2",
      "model_name": "NodeModel",
      "state": {
       "_id": "af835286-532e-4ed1-a32f-78f163759c33",
       "_model_module_version": "^0.2",
       "_view_module_version": "^0.2",
       "icon": "file",
       "name": "us_census_blocks.py"
      }
     },
     "8961f883ba3f4f2db1707848d93fe19b": {
      "model_module": "ipytree",
      "model_module_version": "^0.2",
      "model_name": "NodeModel",
      "state": {
       "_id": "93a19d4d-7c87-41e4-874b-a73832940507",
       "_model_module_version": "^0.2",
       "_view_module_version": "^0.2",
       "icon": "file",
       "name": "minimum_bounding_geometry.py"
      }
     },
     "898992a500bb40c2989bb4372c7b1170": {
      "model_module": "ipytree",
      "model_module_version": "^0.2",
      "model_name": "NodeModel",
      "state": {
       "_id": "977f9f8e-eb95-4807-ac38-24590661fe3f",
       "_model_module_version": "^0.2",
       "_view_module_version": "^0.2",
       "icon": "file",
       "name": "sort_by_cloud_and_date.py"
      }
     },
     "899ba498885041eeaf233fb22e51886e": {
      "model_module": "@jupyter-widgets/controls",
      "model_module_version": "2.0.0",
      "model_name": "DropdownModel",
      "state": {
       "_options_labels": [
        "OpenStreetMap",
        "Esri.WorldStreetMap",
        "Esri.WorldImagery",
        "Esri.WorldTopoMap",
        "FWS NWI Wetlands",
        "FWS NWI Wetlands Raster",
        "NLCD 2021 CONUS Land Cover",
        "NLCD 2019 CONUS Land Cover",
        "NLCD 2016 CONUS Land Cover",
        "NLCD 2013 CONUS Land Cover",
        "NLCD 2011 CONUS Land Cover",
        "NLCD 2008 CONUS Land Cover",
        "NLCD 2006 CONUS Land Cover",
        "NLCD 2004 CONUS Land Cover",
        "NLCD 2001 CONUS Land Cover",
        "USGS NAIP Imagery",
        "USGS NAIP Imagery False Color",
        "USGS NAIP Imagery NDVI",
        "USGS Hydrography",
        "USGS 3DEP Elevation",
        "ESA Worldcover 2020",
        "ESA Worldcover 2020 S2 FCC",
        "ESA Worldcover 2020 S2 TCC",
        "ESA Worldcover 2021",
        "ESA Worldcover 2021 S2 FCC",
        "ESA Worldcover 2021 S2 TCC",
        "BasemapAT.basemap",
        "BasemapAT.grau",
        "BasemapAT.highdpi",
        "BasemapAT.orthofoto",
        "BasemapAT.overlay",
        "BasemapAT.surface",
        "BasemapAT.terrain",
        "CartoDB.DarkMatter",
        "CartoDB.DarkMatterNoLabels",
        "CartoDB.DarkMatterOnlyLabels",
        "CartoDB.Positron",
        "CartoDB.PositronNoLabels",
        "CartoDB.PositronOnlyLabels",
        "CartoDB.Voyager",
        "CartoDB.VoyagerLabelsUnder",
        "CartoDB.VoyagerNoLabels",
        "CartoDB.VoyagerOnlyLabels",
        "CyclOSM",
        "Esri.AntarcticBasemap",
        "Esri.AntarcticImagery",
        "Esri.ArcticImagery",
        "Esri.ArcticOceanBase",
        "Esri.ArcticOceanReference",
        "Esri.DeLorme",
        "Esri.NatGeoWorldMap",
        "Esri.OceanBasemap",
        "Esri.WorldGrayCanvas",
        "Esri.WorldPhysical",
        "Esri.WorldShadedRelief",
        "Esri.WorldTerrain",
        "FreeMapSK",
        "Gaode.Normal",
        "Gaode.Satellite",
        "HikeBike.HikeBike",
        "HikeBike.HillShading",
        "JusticeMap.americanIndian",
        "JusticeMap.asian",
        "JusticeMap.black",
        "JusticeMap.hispanic",
        "JusticeMap.income",
        "JusticeMap.multi",
        "JusticeMap.nonWhite",
        "JusticeMap.plurality",
        "JusticeMap.white",
        "MtbMap",
        "NASAGIBS.ASTER_GDEM_Greyscale_Shaded_Relief",
        "NASAGIBS.BlueMarble",
        "NASAGIBS.BlueMarble3031",
        "NASAGIBS.BlueMarble3413",
        "NASAGIBS.ModisAquaBands721CR",
        "NASAGIBS.ModisAquaTrueColorCR",
        "NASAGIBS.ModisTerraAOD",
        "NASAGIBS.ModisTerraBands367CR",
        "NASAGIBS.ModisTerraBands721CR",
        "NASAGIBS.ModisTerraChlorophyll",
        "NASAGIBS.ModisTerraLSTDay",
        "NASAGIBS.ModisTerraSnowCover",
        "NASAGIBS.ModisTerraTrueColorCR",
        "NASAGIBS.ViirsEarthAtNight2012",
        "NASAGIBS.ViirsTrueColorCR",
        "NLS",
        "OPNVKarte",
        "OneMapSG.Default",
        "OneMapSG.Grey",
        "OneMapSG.LandLot",
        "OneMapSG.Night",
        "OneMapSG.Original",
        "OpenAIP",
        "OpenFireMap",
        "OpenRailwayMap",
        "OpenSeaMap",
        "OpenSnowMap.pistes",
        "OpenStreetMap.BZH",
        "OpenStreetMap.BlackAndWhite",
        "OpenStreetMap.CH",
        "OpenStreetMap.DE",
        "OpenStreetMap.HOT",
        "OpenStreetMap.Mapnik",
        "OpenTopoMap",
        "SafeCast",
        "Stadia.AlidadeSmooth",
        "Stadia.AlidadeSmoothDark",
        "Stadia.OSMBright",
        "Stadia.Outdoors",
        "Stadia.StamenTerrain",
        "Stadia.StamenTerrainBackground",
        "Stadia.StamenTerrainLabels",
        "Stadia.StamenTerrainLines",
        "Stadia.StamenToner",
        "Stadia.StamenTonerBackground",
        "Stadia.StamenTonerLabels",
        "Stadia.StamenTonerLines",
        "Stadia.StamenTonerLite",
        "Stadia.StamenWatercolor",
        "Strava.All",
        "Strava.Ride",
        "Strava.Run",
        "Strava.Water",
        "Strava.Winter",
        "SwissFederalGeoportal.JourneyThroughTime",
        "SwissFederalGeoportal.NationalMapColor",
        "SwissFederalGeoportal.NationalMapGrey",
        "SwissFederalGeoportal.SWISSIMAGE",
        "USGS.USImagery",
        "USGS.USImageryTopo",
        "USGS.USTopo",
        "WaymarkedTrails.cycling",
        "WaymarkedTrails.hiking",
        "WaymarkedTrails.mtb",
        "WaymarkedTrails.riding",
        "WaymarkedTrails.skating",
        "WaymarkedTrails.slopes",
        "nlmaps.grijs",
        "nlmaps.luchtfoto",
        "nlmaps.pastel",
        "nlmaps.standaard",
        "nlmaps.water"
       ],
       "index": 3,
       "layout": "IPY_MODEL_7ec4dac2dacb4168abbc9ca46b247cfe",
       "style": "IPY_MODEL_0bf691b4cafa474c85ca572c28b9d1d5"
      }
     },
     "899cbbf1eeed4162b5695231c68e9caf": {
      "model_module": "@jupyter-widgets/controls",
      "model_module_version": "2.0.0",
      "model_name": "ToggleButtonModel",
      "state": {
       "button_style": "primary",
       "icon": "bar-chart",
       "layout": "IPY_MODEL_5ff5340576be4dafa2c6dcc16980d5e1",
       "style": "IPY_MODEL_62afb4290519488b993048463f6f3db5",
       "tooltip": "Plotting"
      }
     },
     "89ac719ff2ad4d69af6f00776ce48283": {
      "model_module": "@jupyter-widgets/controls",
      "model_module_version": "2.0.0",
      "model_name": "ToggleButtonStyleModel",
      "state": {
       "description_width": "",
       "font_family": null,
       "font_size": null,
       "font_style": null,
       "font_variant": null,
       "font_weight": null,
       "text_color": null,
       "text_decoration": null
      }
     },
     "8a31fe7fa5564c8b9e9dcf4e7e070178": {
      "model_module": "@jupyter-widgets/controls",
      "model_module_version": "2.0.0",
      "model_name": "TextModel",
      "state": {
       "layout": "IPY_MODEL_e50ee3419d6149ed84bf466f8f2b21e7",
       "placeholder": "Search by place name or address",
       "style": "IPY_MODEL_904f34f3a16e40a0a1df066f0848e6ce",
       "tooltip": "Search location"
      }
     },
     "8a4a48a72a134ecf8d508092098c981d": {
      "model_module": "@jupyter-widgets/controls",
      "model_module_version": "2.0.0",
      "model_name": "ButtonModel",
      "state": {
       "button_style": "primary",
       "description": "Clone",
       "layout": "IPY_MODEL_4b0b350ff43041a5beda54d3e9ff0f2c",
       "style": "IPY_MODEL_c6d037b0171f4d19b9947ab51e058f82",
       "tooltip": "Clone the repository to folder."
      }
     },
     "8b1ed9f8d2ad4b24b75d9b202d0f5c49": {
      "model_module": "@jupyter-widgets/controls",
      "model_module_version": "2.0.0",
      "model_name": "ToggleButtonModel",
      "state": {
       "button_style": "primary",
       "icon": "globe",
       "layout": "IPY_MODEL_06a9169792794ffbbda769a98e8ef665",
       "style": "IPY_MODEL_0f7755441319477a9a389d48ee59cc7e",
       "tooltip": "Create timelapse"
      }
     },
     "8b3c3e16d72749df82fe55e99aa4457b": {
      "model_module": "ipytree",
      "model_module_version": "^0.2",
      "model_name": "NodeModel",
      "state": {
       "_id": "3bb5bccc-3515-4cea-85da-46aaff310a84",
       "_model_module_version": "^0.2",
       "_view_module_version": "^0.2",
       "icon": "file",
       "name": "image_vis.py"
      }
     },
     "8b42190eeba54517aaddc5f8571cad28": {
      "model_module": "@jupyter-widgets/base",
      "model_module_version": "2.0.0",
      "model_name": "LayoutModel",
      "state": {
       "height": "auto",
       "padding": "0px 0px 0px 4px",
       "width": "auto"
      }
     },
     "8b7fcafcfb0240e7bfa608f9bcc70b57": {
      "model_module": "@jupyter-widgets/controls",
      "model_module_version": "2.0.0",
      "model_name": "ToggleButtonModel",
      "state": {
       "button_style": "primary",
       "icon": "random",
       "layout": "IPY_MODEL_dbcd3f18b9184927b459dd8eb96d3ec4",
       "style": "IPY_MODEL_ac34d4dd79e94b0a9d8150a067acc0aa",
       "tooltip": "Sankey plots"
      }
     },
     "8bdde5e49cb24091b9b1a2067f521036": {
      "model_module": "ipytree",
      "model_module_version": "^0.2",
      "model_name": "NodeModel",
      "state": {
       "_id": "7f90a52e-244b-4137-b06c-c9dc289fd6c7",
       "_model_module_version": "^0.2",
       "_view_module_version": "^0.2",
       "icon": "file",
       "name": "count_features.py"
      }
     },
     "8bde9521fced4876b42588f63058fe64": {
      "model_module": "ipytree",
      "model_module_version": "^0.2",
      "model_name": "NodeModel",
      "state": {
       "_id": "6f620a0f-f8b6-4e42-81ef-847d36683eb1",
       "_model_module_version": "^0.2",
       "_view_module_version": "^0.2",
       "icon": "file",
       "name": "edge_detection.py"
      }
     },
     "8c3db24fe0b448c28f413222356efa40": {
      "model_module": "@jupyter-widgets/base",
      "model_module_version": "2.0.0",
      "model_name": "LayoutModel",
      "state": {
       "height": "28px",
       "width": "72px"
      }
     },
     "8c967cedf399485ea4c683a793fdc46f": {
      "model_module": "@jupyter-widgets/base",
      "model_module_version": "2.0.0",
      "model_name": "LayoutModel",
      "state": {
       "height": "auto",
       "padding": "0px 0px 0px 4px",
       "width": "auto"
      }
     },
     "8c97340460c24b688f0f31c867dcae82": {
      "model_module": "@jupyter-widgets/controls",
      "model_module_version": "2.0.0",
      "model_name": "ToggleButtonModel",
      "state": {
       "button_style": "primary",
       "icon": "random",
       "layout": "IPY_MODEL_3c5256b7db7048d6b277f7e3dde4df95",
       "style": "IPY_MODEL_4281799217534af7bbae7b828a2712b1",
       "tooltip": "Sankey plots"
      }
     },
     "8ca765b6633d4da693875a268782ead2": {
      "model_module": "@jupyter-widgets/controls",
      "model_module_version": "2.0.0",
      "model_name": "HTMLStyleModel",
      "state": {
       "description_width": "",
       "font_size": null,
       "text_color": null
      }
     },
     "8cbda37e028d48cab157c53bac45adb8": {
      "model_module": "@jupyter-widgets/base",
      "model_module_version": "2.0.0",
      "model_name": "LayoutModel",
      "state": {}
     },
     "8d1619aca85d47868010d6cff300e019": {
      "model_module": "@jupyter-widgets/base",
      "model_module_version": "2.0.0",
      "model_name": "LayoutModel",
      "state": {
       "height": "auto",
       "padding": "0px 0px 0px 4px",
       "width": "auto"
      }
     },
     "8d6b4b40108d474eab73529d12ec3de9": {
      "model_module": "@jupyter-widgets/base",
      "model_module_version": "2.0.0",
      "model_name": "LayoutModel",
      "state": {
       "grid_gap": "1px 1px",
       "grid_template_columns": "32px 32px 32px ",
       "grid_template_rows": "32px 32px 32px 32px 32px 32px ",
       "padding": "5px",
       "width": "109px"
      }
     },
     "8e221c5982884679988837dbc1b43bdf": {
      "model_module": "ipytree",
      "model_module_version": "^0.2",
      "model_name": "NodeModel",
      "state": {
       "_id": "076b1a2a-688a-45a4-a1dc-88c51f94da03",
       "_model_module_version": "^0.2",
       "_view_module_version": "^0.2",
       "icon": "file",
       "name": "select_by_location.py"
      }
     },
     "8e496de3691a4f22b1a4e8145ecd6ff9": {
      "model_module": "ipytree",
      "model_module_version": "^0.2",
      "model_name": "NodeModel",
      "state": {
       "_id": "53046912-38bf-4a45-bea7-c59a3eade7de",
       "_model_module_version": "^0.2",
       "_view_module_version": "^0.2",
       "icon": "file",
       "name": "add_random_value_column.py"
      }
     },
     "8e9de87b2b2a466fbb641d4911756d98": {
      "model_module": "ipytree",
      "model_module_version": "^0.2",
      "model_name": "NodeModel",
      "state": {
       "_id": "70fb9648-67fe-484d-81c1-af7ef144432e",
       "_model_module_version": "^0.2",
       "_view_module_version": "^0.2",
       "icon": "file",
       "name": "export_FeatureCollection.py"
      }
     },
     "8ec705bd975845aea6fa4f4b8e5aa49f": {
      "model_module": "@jupyter-widgets/base",
      "model_module_version": "2.0.0",
      "model_name": "LayoutModel",
      "state": {
       "height": "auto",
       "padding": "0px 0px 0px 4px",
       "width": "auto"
      }
     },
     "8ef942c0b4824f7087c39fae1d5c79dc": {
      "model_module": "ipytree",
      "model_module_version": "^0.2",
      "model_name": "NodeModel",
      "state": {
       "_id": "acbcbd53-f76a-43e4-8acc-8fe0362834eb",
       "_model_module_version": "^0.2",
       "_view_module_version": "^0.2",
       "icon": "file",
       "name": "srtm.py"
      }
     },
     "8f914f7f5463408994bb2d3112dd5bca": {
      "model_module": "@jupyter-widgets/base",
      "model_module_version": "2.0.0",
      "model_name": "LayoutModel",
      "state": {
       "height": "auto",
       "padding": "0px 0px 0px 4px",
       "width": "auto"
      }
     },
     "8fdbb5c2dbe947a79e35911ec55d8442": {
      "model_module": "ipytree",
      "model_module_version": "^0.2",
      "model_name": "NodeModel",
      "state": {
       "_id": "759d0b80-6601-4edd-81e1-52459f64658b",
       "_model_module_version": "^0.2",
       "_view_module_version": "^0.2",
       "icon": "file",
       "name": "texture.py"
      }
     },
     "8fe41334143c498989d0f023eed9196e": {
      "model_module": "ipytree",
      "model_module_version": "^0.2",
      "model_name": "NodeModel",
      "state": {
       "_id": "e29c4423-d4d2-492a-abd7-920a4bc6aad3",
       "_model_module_version": "^0.2",
       "_view_module_version": "^0.2",
       "icon": "file",
       "name": "landsat_surface_reflectance.py"
      }
     },
     "9042ba74401746f49b074ce6f204fe84": {
      "model_module": "@jupyter-widgets/base",
      "model_module_version": "2.0.0",
      "model_name": "LayoutModel",
      "state": {
       "grid_gap": "1px 1px",
       "grid_template_columns": "32px 32px 32px ",
       "grid_template_rows": "32px 32px ",
       "padding": "5px",
       "width": "109px"
      }
     },
     "90450d5f881e4d64893674e2a70c52a5": {
      "model_module": "ipytree",
      "model_module_version": "^0.2",
      "model_name": "NodeModel",
      "state": {
       "_id": "93bf695b-c387-49dc-8cb0-c946549991e0",
       "_model_module_version": "^0.2",
       "_view_module_version": "^0.2",
       "icon": "file",
       "name": "global_land_ice_measurements.py"
      }
     },
     "904f34f3a16e40a0a1df066f0848e6ce": {
      "model_module": "@jupyter-widgets/controls",
      "model_module_version": "2.0.0",
      "model_name": "TextStyleModel",
      "state": {
       "description_width": "",
       "font_size": null,
       "text_color": null
      }
     },
     "909395b3cf594f5f8a8ce413996257a7": {
      "model_module": "ipytree",
      "model_module_version": "^0.2",
      "model_name": "NodeModel",
      "state": {
       "_id": "97fe7849-0332-41a4-beea-06e803bd22f2",
       "_model_module_version": "^0.2",
       "_view_module_version": "^0.2",
       "icon": "file",
       "name": "quality_mosaic.py"
      }
     },
     "90ce947080704e5eaf9a127770e3da07": {
      "model_module": "@jupyter-widgets/controls",
      "model_module_version": "2.0.0",
      "model_name": "ToggleButtonStyleModel",
      "state": {
       "description_width": "",
       "font_family": null,
       "font_size": null,
       "font_style": null,
       "font_variant": null,
       "font_weight": null,
       "text_color": null,
       "text_decoration": null
      }
     },
     "90fc5173a99e47788fe88f2be3697c6e": {
      "model_module": "@jupyter-widgets/controls",
      "model_module_version": "2.0.0",
      "model_name": "ToggleButtonStyleModel",
      "state": {
       "description_width": "",
       "font_family": null,
       "font_size": null,
       "font_style": null,
       "font_variant": null,
       "font_weight": null,
       "text_color": null,
       "text_decoration": null
      }
     },
     "914513db1ba94092be13655ab96e86b2": {
      "model_module": "ipytree",
      "model_module_version": "^0.2",
      "model_name": "NodeModel",
      "state": {
       "_id": "f40b7f5f-d81b-4af1-8138-837d9aafe74d",
       "_model_module_version": "^0.2",
       "_view_module_version": "^0.2",
       "icon": "file",
       "name": "modis_surface_reflectance_qa_band.py"
      }
     },
     "915ef94a95c14f349054988d03941ae7": {
      "model_module": "ipytree",
      "model_module_version": "^0.2",
      "model_name": "NodeModel",
      "state": {
       "_id": "2c315993-f87c-49d1-8208-62d18782eae2",
       "_model_module_version": "^0.2",
       "_view_module_version": "^0.2",
       "icon": "file",
       "name": "decorrelation_stretch.py"
      }
     },
     "9218a55cb68247b7a1c8eaa28a998461": {
      "model_module": "ipytree",
      "model_module_version": "^0.2",
      "model_name": "NodeModel",
      "state": {
       "_id": "19550398-b9bb-438c-9599-4db061c2eb23",
       "_model_module_version": "^0.2",
       "_view_module_version": "^0.2",
       "icon": "file",
       "name": "us_counties.py"
      }
     },
     "924898ae4d1a497cbe2650414a90c23b": {
      "model_module": "@jupyter-widgets/controls",
      "model_module_version": "2.0.0",
      "model_name": "TextStyleModel",
      "state": {
       "description_width": "",
       "font_size": null,
       "text_color": null
      }
     },
     "929de0b68ffe4e139cd2c25048865991": {
      "model_module": "jupyter-leaflet",
      "model_module_version": "^0.18",
      "model_name": "LeafletZoomControlModel",
      "state": {
       "_model_module_version": "^0.18",
       "_view_module_version": "^0.18",
       "options": [
        "position",
        "zoom_in_text",
        "zoom_in_title",
        "zoom_out_text",
        "zoom_out_title"
       ]
      }
     },
     "92b61fd6550142099f8d3f3b7f111da0": {
      "model_module": "@jupyter-widgets/controls",
      "model_module_version": "2.0.0",
      "model_name": "ButtonStyleModel",
      "state": {
       "font_family": null,
       "font_size": null,
       "font_style": null,
       "font_variant": null,
       "font_weight": null,
       "text_color": null,
       "text_decoration": null
      }
     },
     "932daf74e81b4d5395caca163f69a8db": {
      "model_module": "@jupyter-widgets/base",
      "model_module_version": "2.0.0",
      "model_name": "LayoutModel",
      "state": {
       "height": "auto",
       "padding": "0px 0px 0px 4px",
       "width": "auto"
      }
     },
     "935a45c5d94b47178b3ee432dd2f0505": {
      "model_module": "@jupyter-widgets/controls",
      "model_module_version": "2.0.0",
      "model_name": "ToggleButtonStyleModel",
      "state": {
       "description_width": "",
       "font_family": null,
       "font_size": null,
       "font_style": null,
       "font_variant": null,
       "font_weight": null,
       "text_color": null,
       "text_decoration": null
      }
     },
     "93d605dc92824b73b76612c86fbe4d14": {
      "model_module": "@jupyter-widgets/controls",
      "model_module_version": "2.0.0",
      "model_name": "ToggleButtonModel",
      "state": {
       "button_style": "primary",
       "icon": "info-circle",
       "layout": "IPY_MODEL_a2cbc119580f4196b3455affe29c24bc",
       "style": "IPY_MODEL_398256522cfc467fa2d73743b3dc6bb9",
       "tooltip": "Get COG/STAC pixel value"
      }
     },
     "9405e61b052740c6b2135127ecad0c67": {
      "model_module": "@jupyter-widgets/controls",
      "model_module_version": "2.0.0",
      "model_name": "ToggleButtonModel",
      "state": {
       "button_style": "primary",
       "icon": "map",
       "layout": "IPY_MODEL_ce2f0a5da0074d2dadfb7252e339791f",
       "style": "IPY_MODEL_58ac0aa971c9464fb5b2afb25e76c9a1",
       "tooltip": "Change basemap"
      }
     },
     "94e8476cdf3a44e69eda3ef20b5726e3": {
      "model_module": "jupyter-leaflet",
      "model_module_version": "^0.18",
      "model_name": "LeafletWidgetControlModel",
      "state": {
       "_model_module": "jupyter-leaflet",
       "_model_module_version": "^0.18",
       "_view_count": null,
       "_view_module": "jupyter-leaflet",
       "_view_module_version": "^0.18",
       "options": [
        "position",
        "transparent_bg"
       ],
       "position": "topright",
       "widget": "IPY_MODEL_b2476e4542e24bdf908954a829434905"
      }
     },
     "94efadf614714664a9efc9bd0d11ab95": {
      "model_module": "@jupyter-widgets/base",
      "model_module_version": "2.0.0",
      "model_name": "LayoutModel",
      "state": {
       "height": "600px"
      }
     },
     "9547ad5f433240bd9341fdc6eeaa32fe": {
      "model_module": "@jupyter-widgets/controls",
      "model_module_version": "2.0.0",
      "model_name": "GridBoxModel",
      "state": {
       "children": [
        "IPY_MODEL_78d71b027fdd4724a2d9da0eab508428",
        "IPY_MODEL_6f3f52cfc2d2487ea466544b7379ea4b",
        "IPY_MODEL_0f2ae04dd87846aea6056f3130c545e6",
        "IPY_MODEL_9405e61b052740c6b2135127ecad0c67",
        "IPY_MODEL_d34028b2a94f4f9facd0f612b4aa1379",
        "IPY_MODEL_725026f070af4b8c9680c0594dc774eb"
       ],
       "layout": "IPY_MODEL_ae06aa41d78845549f03654874129425"
      }
     },
     "9585739a1725494e87d79abcfd20a3c9": {
      "model_module": "@jupyter-widgets/base",
      "model_module_version": "2.0.0",
      "model_name": "LayoutModel",
      "state": {}
     },
     "95df91786dff4d2383d61c6fd688577c": {
      "model_module": "@jupyter-widgets/base",
      "model_module_version": "2.0.0",
      "model_name": "LayoutModel",
      "state": {
       "height": "auto",
       "padding": "0px 0px 0px 4px",
       "width": "auto"
      }
     },
     "961cb3a9dae84e169167a8c12f6dc88a": {
      "model_module": "@jupyter-widgets/controls",
      "model_module_version": "2.0.0",
      "model_name": "ToggleButtonStyleModel",
      "state": {
       "description_width": "",
       "font_family": null,
       "font_size": null,
       "font_style": null,
       "font_variant": null,
       "font_weight": null,
       "text_color": null,
       "text_decoration": null
      }
     },
     "96475923288b43b69065da7b59128c16": {
      "model_module": "jupyter-leaflet",
      "model_module_version": "^0.18",
      "model_name": "LeafletDrawControlModel",
      "state": {
       "_model_module_version": "^0.18",
       "_view_module_version": "^0.18",
       "marker": {
        "shapeOptions": {
         "color": "#3388ff"
        }
       },
       "options": [
        "position"
       ],
       "rectangle": {
        "shapeOptions": {
         "color": "#3388ff"
        }
       }
      }
     },
     "9651e8df6f10400e856ae7ae4534e330": {
      "model_module": "ipytree",
      "model_module_version": "^0.2",
      "model_name": "NodeModel",
      "state": {
       "_id": "17bee450-5964-4b09-b858-6562f7cf0282",
       "_model_module_version": "^0.2",
       "_view_module_version": "^0.2",
       "icon": "file",
       "name": "merge_feature_collections.py"
      }
     },
     "96f4cbfc36d441ff8ae2f1fefb4c2420": {
      "model_module": "ipytree",
      "model_module_version": "^0.2",
      "model_name": "NodeModel",
      "state": {
       "_id": "cf74114b-2283-43b9-9447-07fb72688b3d",
       "_model_module_version": "^0.2",
       "_view_module_version": "^0.2",
       "icon": "file",
       "name": "extract_image_by_polygon.py"
      }
     },
     "970dba9e970441f4a3abd1c643847333": {
      "model_module": "ipytree",
      "model_module_version": "^0.2",
      "model_name": "NodeModel",
      "state": {
       "_id": "bbaae65e-6589-47de-ba53-2d9b972c0035",
       "_model_module_version": "^0.2",
       "_view_module_version": "^0.2",
       "icon": "file",
       "name": "ndwi_symbology.py"
      }
     },
     "974cd16ad9bd4defa9e2351c8911ce6f": {
      "model_module": "jupyter-leaflet",
      "model_module_version": "^0.18",
      "model_name": "LeafletMeasureControlModel",
      "state": {
       "_model_module_version": "^0.18",
       "_view_module_version": "^0.18",
       "active_color": "orange",
       "options": [
        "active_color",
        "capture_z_index",
        "completed_color",
        "popup_options",
        "position",
        "primary_area_unit",
        "primary_length_unit",
        "secondary_area_unit",
        "secondary_length_unit"
       ],
       "position": "bottomleft",
       "primary_length_unit": "kilometers",
       "secondary_area_unit": null,
       "secondary_length_unit": null
      }
     },
     "979e3c6e7deb47389095c9ce1e787d32": {
      "model_module": "@jupyter-widgets/controls",
      "model_module_version": "2.0.0",
      "model_name": "ToggleButtonStyleModel",
      "state": {
       "description_width": "",
       "font_family": null,
       "font_size": null,
       "font_style": null,
       "font_variant": null,
       "font_weight": null,
       "text_color": null,
       "text_decoration": null
      }
     },
     "97a2e4d267224d2d9d3fee6333f86244": {
      "model_module": "@jupyter-widgets/controls",
      "model_module_version": "2.0.0",
      "model_name": "ToggleButtonStyleModel",
      "state": {
       "description_width": "",
       "font_family": null,
       "font_size": null,
       "font_style": null,
       "font_variant": null,
       "font_weight": null,
       "text_color": null,
       "text_decoration": null
      }
     },
     "97c93ebeea2d4b7680202e0fbd6f5ed0": {
      "model_module": "@jupyter-widgets/controls",
      "model_module_version": "2.0.0",
      "model_name": "ToggleButtonModel",
      "state": {
       "icon": "globe",
       "layout": "IPY_MODEL_442955f9a6114079bc7c436f8927cc23",
       "style": "IPY_MODEL_36dc432c524847719623dbb3811f64da",
       "tooltip": "Search location/data"
      }
     },
     "97d5409417884733b847c4a68ada3398": {
      "model_module": "ipytree",
      "model_module_version": "^0.2",
      "model_name": "NodeModel",
      "state": {
       "_id": "f307c376-21c7-47e6-a945-1dbcc9df9ccc",
       "_model_module_version": "^0.2",
       "_view_module_version": "^0.2",
       "icon": "file",
       "name": "reducing_feature_collection.py"
      }
     },
     "97d99e84776d40efb3750d1a700db3ce": {
      "model_module": "@jupyter-widgets/controls",
      "model_module_version": "2.0.0",
      "model_name": "VBoxModel",
      "state": {
       "children": [
        "IPY_MODEL_6bec238663ed4d95a9c44f7cae5ac3c4"
       ],
       "layout": "IPY_MODEL_156d6a82e0c142f39bd6dfe50b6b3304"
      }
     },
     "97f7c07d0efa47d3bab7c689f299a863": {
      "model_module": "@jupyter-widgets/controls",
      "model_module_version": "2.0.0",
      "model_name": "DropdownModel",
      "state": {
       "index": null,
       "layout": "IPY_MODEL_7b3f75cc03094dfebd5ecff59c46ed2e",
       "style": "IPY_MODEL_08d993aadee14c23ba7dbaff2749bbeb"
      }
     },
     "9808fb51b4124c3ebf90b08d48fdb280": {
      "model_module": "ipytree",
      "model_module_version": "^0.2",
      "model_name": "NodeModel",
      "state": {
       "_id": "3e888642-a559-43aa-b27c-6a513eb5340e",
       "_model_module_version": "^0.2",
       "_view_module_version": "^0.2",
       "icon": "file",
       "name": "pansharpen.py"
      }
     },
     "984c3bf4d21e4fa3ba7a025214a872c8": {
      "model_module": "jupyter-leaflet",
      "model_module_version": "^0.18",
      "model_name": "LeafletWidgetControlModel",
      "state": {
       "_model_module": "jupyter-leaflet",
       "_model_module_version": "^0.18",
       "_view_count": null,
       "_view_module": "jupyter-leaflet",
       "_view_module_version": "^0.18",
       "options": [
        "position",
        "transparent_bg"
       ],
       "position": "topleft",
       "widget": "IPY_MODEL_46c2c63919814184b36033b3316472ee"
      }
     },
     "986c4494d64649c09dc150292b6c8dd2": {
      "model_module": "ipytree",
      "model_module_version": "^0.2",
      "model_name": "NodeModel",
      "state": {
       "_id": "38215eae-a8e3-4701-9df9-cf40b58e8891",
       "_model_module_version": "^0.2",
       "_view_module_version": "^0.2",
       "icon": "file",
       "name": "ndwi_single.py"
      }
     },
     "9897357dd6d24416a36232eaaddbcca1": {
      "model_module": "ipytree",
      "model_module_version": "^0.2",
      "model_name": "NodeModel",
      "state": {
       "_id": "59283d10-a31f-4f5a-9ec0-370b2f2bf532",
       "_model_module_version": "^0.2",
       "_view_module_version": "^0.2",
       "icon": "file",
       "name": "image_smoothing.py"
      }
     },
     "9907d1d698d041f387b6e3fa4b57cd4a": {
      "model_module": "@jupyter-widgets/controls",
      "model_module_version": "2.0.0",
      "model_name": "ToggleButtonModel",
      "state": {
       "button_style": "primary",
       "icon": "question",
       "layout": "IPY_MODEL_745f29ed87e1457fa6263a9babfd9ff9",
       "style": "IPY_MODEL_65b450c05cd347fbb3e0024a694936c4",
       "tooltip": "Get help"
      }
     },
     "99684000804b4c10a88e201bf252df8e": {
      "model_module": "@jupyter-widgets/base",
      "model_module_version": "2.0.0",
      "model_name": "LayoutModel",
      "state": {}
     },
     "99c6aa2e9e4c4a90be295e8491a6f152": {
      "model_module": "@jupyter-widgets/controls",
      "model_module_version": "2.0.0",
      "model_name": "ToggleButtonModel",
      "state": {
       "button_style": "primary",
       "icon": "random",
       "layout": "IPY_MODEL_859b42d400c146e58e4b404470312c0f",
       "style": "IPY_MODEL_121c8e8b238d48f991165d7d2930ce49",
       "tooltip": "Sankey plots"
      }
     },
     "99c9f7a6cbc34bf48269e4c2ab2ecc7c": {
      "model_module": "@jupyter-widgets/base",
      "model_module_version": "2.0.0",
      "model_name": "LayoutModel",
      "state": {
       "height": "auto",
       "padding": "0px 0px 0px 4px",
       "width": "auto"
      }
     },
     "99ca1e3eb8c54655b6463a57e3ea1bd3": {
      "model_module": "@jupyter-widgets/base",
      "model_module_version": "2.0.0",
      "model_name": "LayoutModel",
      "state": {}
     },
     "9a890769db5b457e862beed68ccff12b": {
      "model_module": "ipytree",
      "model_module_version": "^0.2",
      "model_name": "NodeModel",
      "state": {
       "_id": "d9ed7bce-238c-4c88-9f98-263b5012e1f3",
       "_model_module_version": "^0.2",
       "_view_module_version": "^0.2",
       "icon": "file",
       "name": "global_power_plant_database.py"
      }
     },
     "9ab38ddd78764543a88da8d389a6a4a7": {
      "model_module": "@jupyter-widgets/controls",
      "model_module_version": "2.0.0",
      "model_name": "ToggleButtonModel",
      "state": {
       "button_style": "primary",
       "icon": "folder-open",
       "layout": "IPY_MODEL_99c9f7a6cbc34bf48269e4c2ab2ecc7c",
       "style": "IPY_MODEL_286f842be8ed491590f962c707411c86",
       "tooltip": "Open local vector/raster data"
      }
     },
     "9acac20fdf9f4378b8c1acfb49511045": {
      "model_module": "@jupyter-widgets/controls",
      "model_module_version": "2.0.0",
      "model_name": "TextModel",
      "state": {
       "layout": "IPY_MODEL_1c4714d52d274913b1b90293aaa20d7a",
       "placeholder": "Search by place name or address",
       "style": "IPY_MODEL_b26d6d9bf8554b2c8959eafd3ae80dcb",
       "tooltip": "Search location"
      }
     },
     "9ace805950684534b67978c389f5c3b3": {
      "model_module": "@jupyter-widgets/controls",
      "model_module_version": "2.0.0",
      "model_name": "ToggleButtonStyleModel",
      "state": {
       "description_width": "",
       "font_family": null,
       "font_size": null,
       "font_style": null,
       "font_variant": null,
       "font_weight": null,
       "text_color": null,
       "text_decoration": null
      }
     },
     "9b19ff15c14c417ba9a9ae959737e73e": {
      "model_module": "@jupyter-widgets/controls",
      "model_module_version": "2.0.0",
      "model_name": "ToggleButtonModel",
      "state": {
       "icon": "server",
       "layout": "IPY_MODEL_1e877bb3531c46fcba634afb9aa9ef7e",
       "style": "IPY_MODEL_edfb853837c34a568d4ae34b21d3c3d7",
       "tooltip": "Layers"
      }
     },
     "9b6ca1766cfd483f9444cee20bf553c8": {
      "model_module": "ipytree",
      "model_module_version": "^0.2",
      "model_name": "NodeModel",
      "state": {
       "_id": "1993be1b-fb0a-4041-86e5-434bf1a955ce",
       "_model_module_version": "^0.2",
       "_view_module_version": "^0.2",
       "icon": "file",
       "name": "zero_crossing.py"
      }
     },
     "9b9cd7e4a7f74df7bb102ec3eaae000b": {
      "model_module": "@jupyter-widgets/controls",
      "model_module_version": "2.0.0",
      "model_name": "HBoxModel",
      "state": {
       "children": [
        "IPY_MODEL_bf05b324f62a446a8d0c3ecab1bd07d9",
        "IPY_MODEL_adaa4132710a46bdb03df205f5d3b94a"
       ],
       "layout": "IPY_MODEL_6cf274944f8a4b4ca5581ba92282cb51"
      }
     },
     "9bae96efa56d40eeab35317b233f6db0": {
      "model_module": "ipytree",
      "model_module_version": "^0.2",
      "model_name": "NodeModel",
      "state": {
       "_id": "5edcb5f5-20d4-4737-97ea-d52537a04af1",
       "_model_module_version": "^0.2",
       "_view_module_version": "^0.2",
       "icon": "file",
       "name": "export_table.py"
      }
     },
     "9c1a46c1ee7149da82577f2901ef10cd": {
      "model_module": "@jupyter-widgets/controls",
      "model_module_version": "2.0.0",
      "model_name": "HBoxModel",
      "state": {
       "children": [
        "IPY_MODEL_9facf47d26ca4b83a8122a03ae25c953",
        "IPY_MODEL_a173d33ca1214124bd29d1ef059590e5"
       ],
       "layout": "IPY_MODEL_8887977a9cbe46f5afd0ff2ba1f409ef"
      }
     },
     "9c437361cb234a2c84973f2796e1b201": {
      "model_module": "@jupyter-widgets/base",
      "model_module_version": "2.0.0",
      "model_name": "LayoutModel",
      "state": {
       "height": "auto",
       "padding": "0px 0px 0px 4px",
       "width": "auto"
      }
     },
     "9d3ad950249749aaadf0cf1dc51951d6": {
      "model_module": "@jupyter-widgets/base",
      "model_module_version": "2.0.0",
      "model_name": "LayoutModel",
      "state": {
       "height": "auto",
       "padding": "0px 0px 0px 4px",
       "width": "auto"
      }
     },
     "9d7541150a93438194e64abce4d4f526": {
      "model_module": "ipytree",
      "model_module_version": "^0.2",
      "model_name": "NodeModel",
      "state": {
       "_id": "99296538-83fa-404f-9b20-c7740b926719",
       "_model_module_version": "^0.2",
       "_view_module_version": "^0.2",
       "name": "earthengine-py-examples",
       "nodes": [
        "IPY_MODEL_f8b537f1d71e4a3ba477e6fcba34c191",
        "IPY_MODEL_ffb4cb3ffb7d4fe9b95a4a002019368e",
        "IPY_MODEL_2ec5e241b2ab45ca98a3351ccc62ccf9",
        "IPY_MODEL_69a6d0fd620a4d0385ffb3685e65bb6d",
        "IPY_MODEL_28ebac7666dc48718cd00621d79c8fa4",
        "IPY_MODEL_0ee221bbfa7540bcb1384dff849d1e5e",
        "IPY_MODEL_733e4047ca89491c8542b2834e4bc9a3",
        "IPY_MODEL_eec6f57c23234c648d4d5bcd06467a92",
        "IPY_MODEL_c6a8c9d8dad34fcc9e3bc97b374efe56",
        "IPY_MODEL_01aac547b3174c978816e4210aab7258",
        "IPY_MODEL_f169fd7bd9e24fe3bc92e1533c27e804",
        "IPY_MODEL_a22e41ad004f4a84a898b3f5f07f81c7",
        "IPY_MODEL_02765d74a83b47f1a896e4e6ecb9484e",
        "IPY_MODEL_11ac81d7985740aa97cc03ed478acd58",
        "IPY_MODEL_201814c6c9c147a2b42eb91a6acc183c",
        "IPY_MODEL_53468a8b04744a7094e068fa7855ff93",
        "IPY_MODEL_7de8fec0955b4966885c66500a4943c6",
        "IPY_MODEL_80fb32be66854ad5bd949fbcad928c24",
        "IPY_MODEL_82245a1064db44fa815a812fd2f27ead",
        "IPY_MODEL_41245f9ed17149e98a4502e178f3d161",
        "IPY_MODEL_17b3592d97f0411cb060d050c8287b13"
       ],
       "opened": false
      }
     },
     "9d775c1b5d344ed28748393e6ed8d4fe": {
      "model_module": "ipytree",
      "model_module_version": "^0.2",
      "model_name": "NodeModel",
      "state": {
       "_id": "9b103351-8d9d-460f-bc31-55dc12621aaa",
       "_model_module_version": "^0.2",
       "_view_module_version": "^0.2",
       "icon": "file",
       "name": "canada_dem.py"
      }
     },
     "9d7e639314e84bd79682dee261d31c22": {
      "model_module": "@jupyter-widgets/controls",
      "model_module_version": "2.0.0",
      "model_name": "ButtonStyleModel",
      "state": {
       "font_family": null,
       "font_size": null,
       "font_style": null,
       "font_variant": null,
       "font_weight": null,
       "text_color": null,
       "text_decoration": null
      }
     },
     "9e3a1565164e4ed985b69be6b97b8b17": {
      "model_module": "ipytree",
      "model_module_version": "^0.2",
      "model_name": "NodeModel",
      "state": {
       "_id": "f8e3048f-5801-4efd-813e-3a771d10a216",
       "_model_module_version": "^0.2",
       "_view_module_version": "^0.2",
       "icon": "file",
       "name": "mosaicking.py"
      }
     },
     "9e82405144a54b2a919dcd53597bc459": {
      "model_module": "ipytree",
      "model_module_version": "^0.2",
      "model_name": "NodeModel",
      "state": {
       "_id": "a64ebcda-e9b9-4b74-955f-a018bdcc7e51",
       "_model_module_version": "^0.2",
       "_view_module_version": "^0.2",
       "icon": "file",
       "name": "from_name.py"
      }
     },
     "9e8b1c982c2c487bb6e884ffb7995e91": {
      "model_module": "@jupyter-widgets/controls",
      "model_module_version": "2.0.0",
      "model_name": "DescriptionStyleModel",
      "state": {
       "description_width": ""
      }
     },
     "9f154dc61d7245d5af867bdb77c5761d": {
      "model_module": "@jupyter-widgets/controls",
      "model_module_version": "2.0.0",
      "model_name": "ToggleButtonModel",
      "state": {
       "button_style": "primary",
       "icon": "google",
       "layout": "IPY_MODEL_3d3216c056ca4305900f430d754d35cf",
       "style": "IPY_MODEL_cd060f2b355f498480b411b7b426d778",
       "tooltip": "GEE Toolbox for cloud computing"
      }
     },
     "9f3d63957c2440359d79eb16fe279d9e": {
      "model_module": "ipytree",
      "model_module_version": "^0.2",
      "model_name": "NodeModel",
      "state": {
       "_id": "57a4636c-3df5-497a-bf27-ab1a97367708",
       "_model_module_version": "^0.2",
       "_view_module_version": "^0.2",
       "icon": "file",
       "name": "us_physiography.py"
      }
     },
     "9f562b07520f4b6e95e72c614bbe958b": {
      "model_module": "ipytree",
      "model_module_version": "^0.2",
      "model_name": "NodeModel",
      "state": {
       "_id": "a5b5f671-7468-48fa-a320-b729d7c4a19f",
       "_model_module_version": "^0.2",
       "_view_module_version": "^0.2",
       "icon": "file",
       "name": "ClippedComposite.py"
      }
     },
     "9f71bf98a2ff4e4f8ce2ff0103f04145": {
      "model_module": "ipytree",
      "model_module_version": "^0.2",
      "model_name": "NodeModel",
      "state": {
       "_id": "7c8737bf-3333-4a07-a87b-f806422e02c7",
       "_model_module_version": "^0.2",
       "_view_module_version": "^0.2",
       "icon": "file",
       "name": "filtering_by_metadata.py"
      }
     },
     "9f835fae2e224d92a235ea8735de4ab6": {
      "model_module": "@jupyter-widgets/controls",
      "model_module_version": "2.0.0",
      "model_name": "TextModel",
      "state": {
       "layout": "IPY_MODEL_b8827962a1414af3a425b16248bc50ed",
       "placeholder": "Search by place name or address",
       "style": "IPY_MODEL_599b8330d9fb421bb8e53eaf41cda6e0",
       "tooltip": "Search location"
      }
     },
     "9f94bf736b874393820a117d2e97d665": {
      "model_module": "@jupyter-widgets/controls",
      "model_module_version": "2.0.0",
      "model_name": "ToggleButtonStyleModel",
      "state": {
       "description_width": "",
       "font_family": null,
       "font_size": null,
       "font_style": null,
       "font_variant": null,
       "font_weight": null,
       "text_color": null,
       "text_decoration": null
      }
     },
     "9facf47d26ca4b83a8122a03ae25c953": {
      "model_module": "@jupyter-widgets/controls",
      "model_module_version": "2.0.0",
      "model_name": "VBoxModel",
      "state": {
       "children": [
        "IPY_MODEL_76640a8ddd8444ac9e22c2f119dfe50f",
        "IPY_MODEL_fe4da18fa4c14b4089c8d3e1004a9f5d"
       ],
       "layout": "IPY_MODEL_4508b3f2c5a2474196e3480ee12dccd2"
      }
     },
     "9fb5e3f7e72146d29f698af3a7735e21": {
      "model_module": "@jupyter-widgets/controls",
      "model_module_version": "2.0.0",
      "model_name": "ToggleButtonStyleModel",
      "state": {
       "description_width": "",
       "font_family": null,
       "font_size": null,
       "font_style": null,
       "font_variant": null,
       "font_weight": null,
       "text_color": null,
       "text_decoration": null
      }
     },
     "9fcb391d74354668b912644baf648d0c": {
      "model_module": "@jupyter-widgets/controls",
      "model_module_version": "2.0.0",
      "model_name": "HBoxModel",
      "state": {
       "children": [
        "IPY_MODEL_5c2b47331684434db9c9dbf2848c8609",
        "IPY_MODEL_d90affdad1394b72ab83c5500c176fd3"
       ],
       "layout": "IPY_MODEL_7d3d837938964fb993cc85ba2ece2c1c"
      }
     },
     "a0663a99b6234c6eaa6f063e14deaf11": {
      "model_module": "@jupyter-widgets/controls",
      "model_module_version": "2.0.0",
      "model_name": "TextStyleModel",
      "state": {
       "description_width": "",
       "font_size": null,
       "text_color": null
      }
     },
     "a09ef73a8675403d9e989383ff32e6b4": {
      "model_module": "ipytree",
      "model_module_version": "^0.2",
      "model_name": "NodeModel",
      "state": {
       "_id": "f232ef13-4493-44b0-8b3a-0d17a26b8fde",
       "_model_module_version": "^0.2",
       "_view_module_version": "^0.2",
       "icon": "file",
       "name": "image_color_palettes.py"
      }
     },
     "a1183d0d5794488284dd4c6f46d2110b": {
      "model_module": "ipytree",
      "model_module_version": "^0.2",
      "model_name": "NodeModel",
      "state": {
       "_id": "9d834722-f057-4514-a23d-9bf0eb112fda",
       "_model_module_version": "^0.2",
       "_view_module_version": "^0.2",
       "icon": "file",
       "name": "utils-hillshadeRgb.py"
      }
     },
     "a1667824cc1a4a6cbf2db2bb781a5b34": {
      "model_module": "@jupyter-widgets/controls",
      "model_module_version": "2.0.0",
      "model_name": "ToggleButtonStyleModel",
      "state": {
       "description_width": "",
       "font_family": null,
       "font_size": null,
       "font_style": null,
       "font_variant": null,
       "font_weight": null,
       "text_color": null,
       "text_decoration": null
      }
     },
     "a16f0b8248e9457ea1e54312e6ca47b5": {
      "model_module": "ipytree",
      "model_module_version": "^0.2",
      "model_name": "NodeModel",
      "state": {
       "_id": "04044944-933f-4c1d-afca-10fe41a3fb77",
       "_model_module_version": "^0.2",
       "_view_module_version": "^0.2",
       "icon": "file",
       "name": "linear_regression_more.py"
      }
     },
     "a173d33ca1214124bd29d1ef059590e5": {
      "model_module": "@jupyter-widgets/controls",
      "model_module_version": "2.0.0",
      "model_name": "VBoxModel",
      "state": {
       "children": [
        "IPY_MODEL_b7390b9dc47d4ba790ab35757779df94"
       ],
       "layout": "IPY_MODEL_7d2279d0bbae493f9353f68b0c80555a"
      }
     },
     "a1f7e82233a0420b9078877fa1065bd5": {
      "model_module": "ipytree",
      "model_module_version": "^0.2",
      "model_name": "NodeModel",
      "state": {
       "_id": "1e5ec824-5f77-43cb-963e-0695c8718136",
       "_model_module_version": "^0.2",
       "_view_module_version": "^0.2",
       "icon": "file",
       "name": "stats_of_image_neighborhoods.py"
      }
     },
     "a1fb25be94d848378b1bdcb02c5ae3d6": {
      "model_module": "@jupyter-widgets/base",
      "model_module_version": "2.0.0",
      "model_name": "LayoutModel",
      "state": {
       "height": "28px",
       "padding": "0px 0px 0px 4px",
       "width": "28px"
      }
     },
     "a22e41ad004f4a84a898b3f5f07f81c7": {
      "model_module": "ipytree",
      "model_module_version": "^0.2",
      "model_name": "NodeModel",
      "state": {
       "_id": "7f7b9a06-4135-4373-ac8a-586484b93666",
       "_model_module_version": "^0.2",
       "_view_module_version": "^0.2",
       "name": "HowEarthEngineWorks",
       "nodes": [
        "IPY_MODEL_b06aacb9709c4d679972fb5de58f4799",
        "IPY_MODEL_d99e0792de894c4caf332a82f3f0e219",
        "IPY_MODEL_c28dc7dd89964919aef24df2c9d66ee9"
       ],
       "opened": false
      }
     },
     "a2cbc119580f4196b3455affe29c24bc": {
      "model_module": "@jupyter-widgets/base",
      "model_module_version": "2.0.0",
      "model_name": "LayoutModel",
      "state": {
       "height": "auto",
       "padding": "0px 0px 0px 4px",
       "width": "auto"
      }
     },
     "a2e43e0a6dee4edd831a1ee354ddea43": {
      "model_module": "@jupyter-widgets/controls",
      "model_module_version": "2.0.0",
      "model_name": "ToggleButtonStyleModel",
      "state": {
       "description_width": "",
       "font_family": null,
       "font_size": null,
       "font_style": null,
       "font_variant": null,
       "font_weight": null,
       "text_color": null,
       "text_decoration": null
      }
     },
     "a341dc1b99894f4f8a951581f3002815": {
      "model_module": "@jupyter-widgets/base",
      "model_module_version": "2.0.0",
      "model_name": "LayoutModel",
      "state": {
       "height": "28px",
       "padding": "0px 0px 0px 4px",
       "width": "28px"
      }
     },
     "a34f01aabb64464ab9d2bc3fa4fcd46b": {
      "model_module": "@jupyter-widgets/base",
      "model_module_version": "2.0.0",
      "model_name": "LayoutModel",
      "state": {}
     },
     "a3500d53dc464b769fb1cfa615c66367": {
      "model_module": "ipytree",
      "model_module_version": "^0.2",
      "model_name": "NodeModel",
      "state": {
       "_id": "2dbb3a11-7299-43ac-b89c-c46b1764f588",
       "_model_module_version": "^0.2",
       "_view_module_version": "^0.2",
       "icon": "file",
       "name": "filter_poly.py"
      }
     },
     "a374df28fef84434a241e53585655026": {
      "model_module": "jupyter-leaflet",
      "model_module_version": "^0.18",
      "model_name": "LeafletDrawControlModel",
      "state": {
       "_model_module_version": "^0.18",
       "_view_module_version": "^0.18",
       "marker": {
        "shapeOptions": {
         "color": "#3388ff"
        }
       },
       "options": [
        "position"
       ],
       "rectangle": {
        "shapeOptions": {
         "color": "#3388ff"
        }
       }
      }
     },
     "a3cde40ec7e14fc2a8c849f10457a35b": {
      "model_module": "ipytree",
      "model_module_version": "^0.2",
      "model_name": "NodeModel",
      "state": {
       "_id": "2d50b2d8-bfe5-480b-8a91-82e7177589d8",
       "_model_module_version": "^0.2",
       "_view_module_version": "^0.2",
       "icon": "file",
       "name": "us_census_zip_code.py"
      }
     },
     "a3ef2ef6b8264b60831355424c74abed": {
      "model_module": "@jupyter-widgets/controls",
      "model_module_version": "2.0.0",
      "model_name": "ToggleButtonStyleModel",
      "state": {
       "description_width": "",
       "font_family": null,
       "font_size": null,
       "font_style": null,
       "font_variant": null,
       "font_weight": null,
       "text_color": null,
       "text_decoration": null
      }
     },
     "a42a775a41c34a419f42d007ad6b5690": {
      "model_module": "@jupyter-widgets/controls",
      "model_module_version": "2.0.0",
      "model_name": "HTMLModel",
      "state": {
       "layout": "IPY_MODEL_5946c062beae449b8119d04ae373ffd6",
       "style": "IPY_MODEL_fb8f677bc50148eaba4713c014af2485"
      }
     },
     "a4983e85483f44778346da6c0d396e39": {
      "model_module": "ipytree",
      "model_module_version": "^0.2",
      "model_name": "NodeModel",
      "state": {
       "_id": "c5fbd1b5-326f-4caf-9d50-69d8361b235f",
       "_model_module_version": "^0.2",
       "_view_module_version": "^0.2",
       "icon": "file",
       "name": "image_color_ramp.py"
      }
     },
     "a514b5d95a1e498d8352fe8909f71248": {
      "model_module": "@jupyter-widgets/controls",
      "model_module_version": "2.0.0",
      "model_name": "ToggleButtonStyleModel",
      "state": {
       "description_width": "",
       "font_family": null,
       "font_size": null,
       "font_style": null,
       "font_variant": null,
       "font_weight": null,
       "text_color": null,
       "text_decoration": null
      }
     },
     "a5193b452fe143f3abaa63d99faba36b": {
      "model_module": "@jupyter-widgets/controls",
      "model_module_version": "2.0.0",
      "model_name": "ToggleButtonModel",
      "state": {
       "button_style": "primary",
       "icon": "google",
       "layout": "IPY_MODEL_4035942334394d5d8572436d97d51e43",
       "style": "IPY_MODEL_79361d012849484db0f3a24c72c006d0",
       "tooltip": "GEE Toolbox for cloud computing"
      }
     },
     "a52c473c11be49e9b61455095a2f3433": {
      "model_module": "@jupyter-widgets/controls",
      "model_module_version": "2.0.0",
      "model_name": "ToggleButtonModel",
      "state": {
       "button_style": "primary",
       "icon": "adjust",
       "layout": "IPY_MODEL_5945087503fd4dada9acf64b0342a024",
       "style": "IPY_MODEL_f3c30fd00d214d87a2e18ce914067d59",
       "tooltip": "Planet imagery"
      }
     },
     "a54927600ba847788a118e53c8d080f6": {
      "model_module": "ipyevents",
      "model_module_version": "2.0.2",
      "model_name": "EventModel",
      "state": {
       "_supported_key_events": [
        "keydown",
        "keyup"
       ],
       "_supported_mouse_events": [
        "click",
        "auxclick",
        "dblclick",
        "mouseenter",
        "mouseleave",
        "mousedown",
        "mouseup",
        "mousemove",
        "wheel",
        "contextmenu",
        "dragstart",
        "drag",
        "dragend",
        "dragenter",
        "dragover",
        "dragleave",
        "drop"
       ],
       "_supported_touch_events": [
        "touchstart",
        "touchend",
        "touchmove",
        "touchcancel"
       ],
       "_view_module": "@jupyter-widgets/controls",
       "source": "IPY_MODEL_64492fb5cb8c452f9203eaebe79889d3",
       "throttle_or_debounce": "",
       "watched_events": [
        "mouseenter",
        "mouseleave"
       ],
       "xy_coordinate_system": ""
      }
     },
     "a559d25afc944c00ad3014caf5129ae5": {
      "model_module": "@jupyter-widgets/controls",
      "model_module_version": "2.0.0",
      "model_name": "TextStyleModel",
      "state": {
       "description_width": "",
       "font_size": null,
       "text_color": null
      }
     },
     "a56a7cdbe8474c678d85c1ef8bf97ee1": {
      "model_module": "@jupyter-widgets/base",
      "model_module_version": "2.0.0",
      "model_name": "LayoutModel",
      "state": {
       "max_height": "350px",
       "max_width": "340px",
       "overflow": "scroll"
      }
     },
     "a5730d4e085f42daa9b583d8e868cf89": {
      "model_module": "@jupyter-widgets/base",
      "model_module_version": "2.0.0",
      "model_name": "LayoutModel",
      "state": {
       "height": "auto",
       "padding": "0px 0px 0px 4px",
       "width": "auto"
      }
     },
     "a579c3e0fcb44de38675d3c560f48224": {
      "model_module": "@jupyter-widgets/controls",
      "model_module_version": "2.0.0",
      "model_name": "ButtonStyleModel",
      "state": {
       "font_family": null,
       "font_size": null,
       "font_style": null,
       "font_variant": null,
       "font_weight": null,
       "text_color": null,
       "text_decoration": null
      }
     },
     "a583ac66c72543338a40698c0ab4894c": {
      "model_module": "ipytree",
      "model_module_version": "^0.2",
      "model_name": "NodeModel",
      "state": {
       "_id": "4d0bdbde-be15-443b-8207-5b3441d228dd",
       "_model_module_version": "^0.2",
       "_view_module_version": "^0.2",
       "icon": "file",
       "name": "spatial_joins.py"
      }
     },
     "a5b3188acfaa4b4a803ba15ce0afe14e": {
      "model_module": "ipyevents",
      "model_module_version": "2.0.2",
      "model_name": "EventModel",
      "state": {
       "_supported_key_events": [
        "keydown",
        "keyup"
       ],
       "_supported_mouse_events": [
        "click",
        "auxclick",
        "dblclick",
        "mouseenter",
        "mouseleave",
        "mousedown",
        "mouseup",
        "mousemove",
        "wheel",
        "contextmenu",
        "dragstart",
        "drag",
        "dragend",
        "dragenter",
        "dragover",
        "dragleave",
        "drop"
       ],
       "_supported_touch_events": [
        "touchstart",
        "touchend",
        "touchmove",
        "touchcancel"
       ],
       "_view_module": "@jupyter-widgets/controls",
       "source": "IPY_MODEL_46c2c63919814184b36033b3316472ee",
       "throttle_or_debounce": "",
       "watched_events": [
        "mouseenter",
        "mouseleave"
       ],
       "xy_coordinate_system": ""
      }
     },
     "a64b27e495554e3f8ac0dbebfbad147c": {
      "model_module": "jupyter-leaflet",
      "model_module_version": "^0.18",
      "model_name": "LeafletZoomControlModel",
      "state": {
       "_model_module_version": "^0.18",
       "_view_module_version": "^0.18",
       "options": [
        "position",
        "zoom_in_text",
        "zoom_in_title",
        "zoom_out_text",
        "zoom_out_title"
       ]
      }
     },
     "a680e1cc33b64f15b0bc8693dd71bd6b": {
      "model_module": "@jupyter-widgets/base",
      "model_module_version": "2.0.0",
      "model_name": "LayoutModel",
      "state": {
       "height": "auto",
       "padding": "0px 0px 0px 4px",
       "width": "auto"
      }
     },
     "a7f45c379e7943718f4d9e15c8f9f041": {
      "model_module": "@jupyter-widgets/base",
      "model_module_version": "2.0.0",
      "model_name": "LayoutModel",
      "state": {
       "height": "auto",
       "padding": "0px 0px 0px 4px",
       "width": "auto"
      }
     },
     "a8338288f9ed4ba4974c9457f1e139db": {
      "model_module": "ipytree",
      "model_module_version": "^0.2",
      "model_name": "NodeModel",
      "state": {
       "_id": "a7f20c34-1c2d-4345-a55d-c0bc5c365198",
       "_model_module_version": "^0.2",
       "_view_module_version": "^0.2",
       "icon": "file",
       "name": "map_get_bounds.py"
      }
     },
     "a8626ebbab49452b9f7e5e9aa93d9d69": {
      "model_module": "ipyevents",
      "model_module_version": "2.0.2",
      "model_name": "EventModel",
      "state": {
       "_supported_key_events": [
        "keydown",
        "keyup"
       ],
       "_supported_mouse_events": [
        "click",
        "auxclick",
        "dblclick",
        "mouseenter",
        "mouseleave",
        "mousedown",
        "mouseup",
        "mousemove",
        "wheel",
        "contextmenu",
        "dragstart",
        "drag",
        "dragend",
        "dragenter",
        "dragover",
        "dragleave",
        "drop"
       ],
       "_supported_touch_events": [
        "touchstart",
        "touchend",
        "touchmove",
        "touchcancel"
       ],
       "_view_module": "@jupyter-widgets/controls",
       "source": "IPY_MODEL_51dc79032e7d46e3aa869d97a36a9395",
       "throttle_or_debounce": "",
       "watched_events": [
        "mouseenter",
        "mouseleave"
       ],
       "xy_coordinate_system": ""
      }
     },
     "a88673d003354a739b7f4364838e7dfe": {
      "model_module": "@jupyter-widgets/controls",
      "model_module_version": "2.0.0",
      "model_name": "ToggleButtonStyleModel",
      "state": {
       "description_width": "",
       "font_family": null,
       "font_size": null,
       "font_style": null,
       "font_variant": null,
       "font_weight": null,
       "text_color": null,
       "text_decoration": null
      }
     },
     "a9ea1c749c0c49d888e2be7813bdc713": {
      "model_module": "@jupyter-widgets/controls",
      "model_module_version": "2.0.0",
      "model_name": "DescriptionStyleModel",
      "state": {
       "description_width": ""
      }
     },
     "aac3318ee9024ca2861cb2a5c7db5715": {
      "model_module": "@jupyter-widgets/base",
      "model_module_version": "2.0.0",
      "model_name": "LayoutModel",
      "state": {}
     },
     "ab09a1d10f1941468bd846dd9cfe43c9": {
      "model_module": "@jupyter-widgets/controls",
      "model_module_version": "2.0.0",
      "model_name": "ToggleButtonStyleModel",
      "state": {
       "description_width": "",
       "font_family": null,
       "font_size": null,
       "font_style": null,
       "font_variant": null,
       "font_weight": null,
       "text_color": null,
       "text_decoration": null
      }
     },
     "ab6383e5e6634f82b73d7c3270d793b9": {
      "model_module": "ipytree",
      "model_module_version": "^0.2",
      "model_name": "NodeModel",
      "state": {
       "_id": "f00baafd-84a0-4624-afbe-e48232ba053e",
       "_model_module_version": "^0.2",
       "_view_module_version": "^0.2",
       "icon": "file",
       "name": "FromName.py"
      }
     },
     "abbd0e86af834b269de664255a294e54": {
      "model_module": "ipytree",
      "model_module_version": "^0.2",
      "model_name": "NodeModel",
      "state": {
       "_id": "2f08d872-754d-4c85-abfa-891e3060ea0c",
       "_model_module_version": "^0.2",
       "_view_module_version": "^0.2",
       "icon": "file",
       "name": "where_operators.py"
      }
     },
     "abecec8a5a0445fc9cf59b444e9e3aa0": {
      "model_module": "@jupyter-widgets/controls",
      "model_module_version": "2.0.0",
      "model_name": "ToggleButtonModel",
      "state": {
       "button_style": "primary",
       "icon": "question",
       "layout": "IPY_MODEL_e0c8ddb56a3e4883b70b19060022fc34",
       "style": "IPY_MODEL_e1f0dd4f690541078df5c1306f279382",
       "tooltip": "Get help"
      }
     },
     "ac34d4dd79e94b0a9d8150a067acc0aa": {
      "model_module": "@jupyter-widgets/controls",
      "model_module_version": "2.0.0",
      "model_name": "ToggleButtonStyleModel",
      "state": {
       "description_width": "",
       "font_family": null,
       "font_size": null,
       "font_style": null,
       "font_variant": null,
       "font_weight": null,
       "text_color": null,
       "text_decoration": null
      }
     },
     "ad11fadbe66241ffaededbe8e40e740c": {
      "model_module": "@jupyter-widgets/controls",
      "model_module_version": "2.0.0",
      "model_name": "ToggleButtonModel",
      "state": {
       "icon": "globe",
       "layout": "IPY_MODEL_47fbd4a406e84a48ba1c3d176146184d",
       "style": "IPY_MODEL_6ec71e4785884a84bf6ed90b229d87e6",
       "tooltip": "Search location/data"
      }
     },
     "ad38723dab2a494385e6381f3a8d4113": {
      "model_module": "@jupyter-widgets/base",
      "model_module_version": "2.0.0",
      "model_name": "LayoutModel",
      "state": {
       "height": "auto",
       "padding": "0px 0px 0px 4px",
       "width": "auto"
      }
     },
     "ad766723683c4f3ab65d8845ab526b36": {
      "model_module": "ipytree",
      "model_module_version": "^0.2",
      "model_name": "NodeModel",
      "state": {
       "_id": "30bc0778-a06e-42a1-a321-1cb3baf2b09e",
       "_model_module_version": "^0.2",
       "_view_module_version": "^0.2",
       "icon": "file",
       "name": "exporting_data.py"
      }
     },
     "ad8aaac2482f47df97d1f5ec3d121a5e": {
      "model_module": "ipytree",
      "model_module_version": "^0.2",
      "model_name": "NodeModel",
      "state": {
       "_id": "9475c1a2-7920-4b32-acce-3d784c01a4b5",
       "_model_module_version": "^0.2",
       "_view_module_version": "^0.2",
       "icon": "file",
       "name": "basic_image.py"
      }
     },
     "ad9040d87e664db3a822adeabba658c0": {
      "model_module": "@jupyter-widgets/base",
      "model_module_version": "2.0.0",
      "model_name": "LayoutModel",
      "state": {
       "height": "auto",
       "padding": "0px 0px 0px 4px",
       "width": "auto"
      }
     },
     "ada1e59e52744808885b233c1052aacc": {
      "model_module": "@jupyter-widgets/base",
      "model_module_version": "2.0.0",
      "model_name": "LayoutModel",
      "state": {
       "height": "auto",
       "padding": "0px 0px 0px 4px",
       "width": "auto"
      }
     },
     "adaa4132710a46bdb03df205f5d3b94a": {
      "model_module": "@jupyter-widgets/controls",
      "model_module_version": "2.0.0",
      "model_name": "DropdownModel",
      "state": {
       "index": null,
       "layout": "IPY_MODEL_4e36e287e6e74b0fbea2d47b642cf806",
       "style": "IPY_MODEL_164b77003fcc420aaf838022c0eaca73"
      }
     },
     "ae05cd24ba3145f8a3a76b4b409a2c38": {
      "model_module": "ipytree",
      "model_module_version": "^0.2",
      "model_name": "NodeModel",
      "state": {
       "_id": "4b2e6418-52f3-4f54-a4bf-e0457f93a466",
       "_model_module_version": "^0.2",
       "_view_module_version": "^0.2",
       "icon": "file",
       "name": "map_center_object_no_zoom.py"
      }
     },
     "ae06aa41d78845549f03654874129425": {
      "model_module": "@jupyter-widgets/base",
      "model_module_version": "2.0.0",
      "model_name": "LayoutModel",
      "state": {
       "grid_gap": "1px 1px",
       "grid_template_columns": "32px 32px 32px ",
       "grid_template_rows": "32px 32px ",
       "padding": "5px",
       "width": "109px"
      }
     },
     "ae2f4872010c43ffb25c6fbc59505ac1": {
      "model_module": "@jupyter-widgets/controls",
      "model_module_version": "2.0.0",
      "model_name": "ToggleButtonModel",
      "state": {
       "button_style": "primary",
       "icon": "folder-open",
       "layout": "IPY_MODEL_ada1e59e52744808885b233c1052aacc",
       "style": "IPY_MODEL_5014b15ffc4946df85f8f24d5807f4d8",
       "tooltip": "Open local vector/raster data"
      }
     },
     "ae6e07b7988c44b6ad3cbc79d55f869b": {
      "model_module": "@jupyter-widgets/controls",
      "model_module_version": "2.0.0",
      "model_name": "DescriptionStyleModel",
      "state": {
       "description_width": ""
      }
     },
     "aea7bf78dd3e48e881c1de6ed7ee908d": {
      "model_module": "@jupyter-widgets/controls",
      "model_module_version": "2.0.0",
      "model_name": "HTMLModel",
      "state": {
       "layout": "IPY_MODEL_e789f02176cc4329a9c0d3a190b13044",
       "style": "IPY_MODEL_d5156586ca5441f3a61a38b53e4bc9d4"
      }
     },
     "af126b28ae7b4c5bb5723ab07086f257": {
      "model_module": "@jupyter-widgets/output",
      "model_module_version": "1.0.0",
      "model_name": "OutputModel",
      "state": {
       "layout": "IPY_MODEL_c336abb0500040a4a990ea08b22bd45b"
      }
     },
     "af2961424de3496fa07d9cf49de5feab": {
      "model_module": "@jupyter-widgets/controls",
      "model_module_version": "2.0.0",
      "model_name": "ToggleButtonStyleModel",
      "state": {
       "description_width": "",
       "font_family": null,
       "font_size": null,
       "font_style": null,
       "font_variant": null,
       "font_weight": null,
       "text_color": null,
       "text_decoration": null
      }
     },
     "af3462cfc82e4752bf050d4b16183984": {
      "model_module": "ipytree",
      "model_module_version": "^0.2",
      "model_name": "NodeModel",
      "state": {
       "_id": "24c7d228-d21f-407f-8cc3-cfaf451724a2",
       "_model_module_version": "^0.2",
       "_view_module_version": "^0.2",
       "icon": "file",
       "name": "expressions.py"
      }
     },
     "af690e4a48914f6286130cc002916dc6": {
      "model_module": "@jupyter-widgets/controls",
      "model_module_version": "2.0.0",
      "model_name": "ToggleButtonModel",
      "state": {
       "button_style": "primary",
       "icon": "map",
       "layout": "IPY_MODEL_6221667f50ab49a8a352da4db9a862e0",
       "style": "IPY_MODEL_1f7b4eeaa8cf4070b6a93f30230ea60b",
       "tooltip": "Change basemap"
      }
     },
     "b02854308750429aa4687cc4669ad3fc": {
      "model_module": "@jupyter-widgets/base",
      "model_module_version": "2.0.0",
      "model_name": "LayoutModel",
      "state": {
       "height": "auto",
       "padding": "0px 0px 0px 4px",
       "width": "auto"
      }
     },
     "b06aacb9709c4d679972fb5de58f4799": {
      "model_module": "ipytree",
      "model_module_version": "^0.2",
      "model_name": "NodeModel",
      "state": {
       "_id": "50f76c7d-4ecf-4849-b05b-8ee064725aa0",
       "_model_module_version": "^0.2",
       "_view_module_version": "^0.2",
       "icon": "file",
       "name": "ClientVsServer.py"
      }
     },
     "b07c9f1f64754cc6855a223835152794": {
      "model_module": "ipytree",
      "model_module_version": "^0.2",
      "model_name": "NodeModel",
      "state": {
       "_id": "659425a6-4901-4744-8337-7f56a74ebe70",
       "_model_module_version": "^0.2",
       "_view_module_version": "^0.2",
       "icon": "file",
       "name": "convert_raster_to_vector.py"
      }
     },
     "b132b24388c64996bd7cde3aae6a6f03": {
      "model_module": "@jupyter-widgets/base",
      "model_module_version": "2.0.0",
      "model_name": "LayoutModel",
      "state": {
       "height": "auto",
       "padding": "0px 0px 0px 4px",
       "width": "auto"
      }
     },
     "b188e4624d0f41f098ad4750b1b30233": {
      "model_module": "@jupyter-widgets/controls",
      "model_module_version": "2.0.0",
      "model_name": "ToggleButtonStyleModel",
      "state": {
       "description_width": "",
       "font_family": null,
       "font_size": null,
       "font_style": null,
       "font_variant": null,
       "font_weight": null,
       "text_color": null,
       "text_decoration": null
      }
     },
     "b1be0980f8f141ecab84b8daa919f24f": {
      "model_module": "jupyter-leaflet",
      "model_module_version": "^0.18",
      "model_name": "LeafletDrawControlModel",
      "state": {
       "_model_module_version": "^0.18",
       "_view_module_version": "^0.18",
       "marker": {
        "shapeOptions": {
         "color": "#3388ff"
        }
       },
       "options": [
        "position"
       ],
       "polygon": {
        "shapeOptions": {
         "clickable": true,
         "color": "#3388ff",
         "fill": true,
         "fillColor": null,
         "fillOpacity": 0.2,
         "opacity": 0.5,
         "stroke": true,
         "weight": 4
        }
       },
       "polyline": {
        "shapeOptions": {
         "clickable": true,
         "color": "#3388ff",
         "fill": false,
         "opacity": 0.5,
         "stroke": true,
         "weight": 4
        }
       },
       "rectangle": {
        "shapeOptions": {
         "clickable": true,
         "color": "#3388ff",
         "fill": true,
         "fillColor": null,
         "fillOpacity": 0.2,
         "opacity": 0.5,
         "stroke": true,
         "weight": 4
        }
       }
      }
     },
     "b1f2c597199c4b4fa4b938ae40bf2999": {
      "model_module": "@jupyter-widgets/base",
      "model_module_version": "2.0.0",
      "model_name": "LayoutModel",
      "state": {
       "max_width": "310px"
      }
     },
     "b1fad762eea24e59ba7b1bea85a363fd": {
      "model_module": "ipytree",
      "model_module_version": "^0.2",
      "model_name": "NodeModel",
      "state": {
       "_id": "e430e725-2560-4ab9-b334-f5a59d99c31f",
       "_model_module_version": "^0.2",
       "_view_module_version": "^0.2",
       "icon": "file",
       "name": "zonal_statistics.py"
      }
     },
     "b21bd80e890542f48fc204f3a70ae682": {
      "model_module": "jupyter-leaflet",
      "model_module_version": "^0.18",
      "model_name": "LeafletDrawControlModel",
      "state": {
       "_model_module_version": "^0.18",
       "_view_module_version": "^0.18",
       "marker": {
        "shapeOptions": {
         "color": "#3388ff"
        }
       },
       "options": [
        "position"
       ],
       "rectangle": {
        "shapeOptions": {
         "color": "#3388ff"
        }
       }
      }
     },
     "b2412305532242f69895a2c806b2fc12": {
      "model_module": "@jupyter-widgets/base",
      "model_module_version": "2.0.0",
      "model_name": "LayoutModel",
      "state": {
       "height": "auto",
       "padding": "0px 0px 0px 4px",
       "width": "auto"
      }
     },
     "b2476e4542e24bdf908954a829434905": {
      "model_module": "@jupyter-widgets/controls",
      "model_module_version": "2.0.0",
      "model_name": "VBoxModel",
      "state": {
       "_dom_classes": [
        "geemap-light"
       ],
       "_view_count": 0,
       "children": [
        "IPY_MODEL_f2ef35b48094472e945e9d25cec23199"
       ],
       "layout": "IPY_MODEL_35cd510b658d4966acf00df7b1f15d3b"
      }
     },
     "b25173d8af8e4ea2aec363ef80290d16": {
      "model_module": "@jupyter-widgets/base",
      "model_module_version": "2.0.0",
      "model_name": "LayoutModel",
      "state": {
       "height": "auto",
       "padding": "0px 0px 0px 4px",
       "width": "auto"
      }
     },
     "b26d6d9bf8554b2c8959eafd3ae80dcb": {
      "model_module": "@jupyter-widgets/controls",
      "model_module_version": "2.0.0",
      "model_name": "TextStyleModel",
      "state": {
       "description_width": "",
       "font_size": null,
       "text_color": null
      }
     },
     "b2d075230c1c4cb2abfda2e564a193ab": {
      "model_module": "@jupyter-widgets/controls",
      "model_module_version": "2.0.0",
      "model_name": "ToggleButtonStyleModel",
      "state": {
       "description_width": "",
       "font_family": null,
       "font_size": null,
       "font_style": null,
       "font_variant": null,
       "font_weight": null,
       "text_color": null,
       "text_decoration": null
      }
     },
     "b35ab3a269e24cd5b9ed37b4f0fd573b": {
      "model_module": "@jupyter-widgets/base",
      "model_module_version": "2.0.0",
      "model_name": "LayoutModel",
      "state": {
       "height": "auto",
       "padding": "0px 0px 0px 4px",
       "width": "auto"
      }
     },
     "b36494af40344aa191266181686cdc32": {
      "model_module": "@jupyter-widgets/base",
      "model_module_version": "2.0.0",
      "model_name": "LayoutModel",
      "state": {
       "height": "28px",
       "padding": "0px 0px 0px 4px",
       "width": "28px"
      }
     },
     "b36ec2671ffc4eff952214f6a6f58303": {
      "model_module": "@jupyter-widgets/controls",
      "model_module_version": "2.0.0",
      "model_name": "RadioButtonsModel",
      "state": {
       "index": null,
       "layout": "IPY_MODEL_ff13081c630147ffa59070cecabbf02d",
       "style": "IPY_MODEL_038f76eb8c2a4cf0b3e73f0e605fb4db"
      }
     },
     "b377ba9dfc564d83bed4422dc756420d": {
      "model_module": "jupyter-leaflet",
      "model_module_version": "^0.18",
      "model_name": "LeafletTileLayerModel",
      "state": {
       "_model_module_version": "^0.18",
       "_view_module_version": "^0.18",
       "attribution": "Esri",
       "max_zoom": 24,
       "name": "Esri.WorldImagery",
       "options": [
        "attribution",
        "bounds",
        "detect_retina",
        "max_native_zoom",
        "max_zoom",
        "min_native_zoom",
        "min_zoom",
        "no_wrap",
        "tile_size",
        "tms",
        "zoom_offset"
       ],
       "url": "https://server.arcgisonline.com/ArcGIS/rest/services/World_Imagery/MapServer/tile/{z}/{y}/{x}"
      }
     },
     "b3995e9958ec4dfd875d07c8d839d4d5": {
      "model_module": "ipytree",
      "model_module_version": "^0.2",
      "model_name": "NodeModel",
      "state": {
       "_id": "9975d495-0401-407a-add4-dae9debe61af",
       "_model_module_version": "^0.2",
       "_view_module_version": "^0.2",
       "icon": "file",
       "name": "resampling.py"
      }
     },
     "b3d4d87600c54972827b16905fcc9414": {
      "model_module": "ipytree",
      "model_module_version": "^0.2",
      "model_name": "NodeModel",
      "state": {
       "_id": "b3e1f36b-3424-4a36-bce9-7fcbb6ee9fe1",
       "_model_module_version": "^0.2",
       "_view_module_version": "^0.2",
       "icon": "file",
       "name": "gradients.py"
      }
     },
     "b4f0630cc66c4c25b70ff52c4645e9eb": {
      "model_module": "@jupyter-widgets/controls",
      "model_module_version": "2.0.0",
      "model_name": "ToggleButtonStyleModel",
      "state": {
       "description_width": "",
       "font_family": null,
       "font_size": null,
       "font_style": null,
       "font_variant": null,
       "font_weight": null,
       "text_color": null,
       "text_decoration": null
      }
     },
     "b526b59e534f4c38ba20239371e50fab": {
      "model_module": "ipytree",
      "model_module_version": "^0.2",
      "model_name": "NodeModel",
      "state": {
       "_id": "f1b0c16d-a7ff-4213-995b-34d5e068c76b",
       "_model_module_version": "^0.2",
       "_view_module_version": "^0.2",
       "icon": "file",
       "name": "srtm_mtpi.py"
      }
     },
     "b56976cccfa541bcae95b75f1dd66f26": {
      "model_module": "@jupyter-widgets/base",
      "model_module_version": "2.0.0",
      "model_name": "LayoutModel",
      "state": {
       "width": "500px"
      }
     },
     "b572833e49cf4dc193b2917be2e633e9": {
      "model_module": "jupyter-leaflet",
      "model_module_version": "^0.18",
      "model_name": "LeafletMapStyleModel",
      "state": {
       "_model_module_version": "^0.18"
      }
     },
     "b59d4fd1d688449ca50dafd09800713b": {
      "model_module": "@jupyter-widgets/base",
      "model_module_version": "2.0.0",
      "model_name": "LayoutModel",
      "state": {
       "height": "auto",
       "padding": "0px 0px 0px 4px",
       "width": "auto"
      }
     },
     "b5bdc618396346b8a5a1b3fff95cd812": {
      "model_module": "ipytree",
      "model_module_version": "^0.2",
      "model_name": "NodeModel",
      "state": {
       "_id": "b8c48451-204e-45a8-b255-2f8f453eefd5",
       "_model_module_version": "^0.2",
       "_view_module_version": "^0.2",
       "icon": "file",
       "name": "convolutions.py"
      }
     },
     "b66fcac531a7407d83f118684f398290": {
      "model_module": "@jupyter-widgets/controls",
      "model_module_version": "2.0.0",
      "model_name": "ToggleButtonStyleModel",
      "state": {
       "description_width": "",
       "font_family": null,
       "font_size": null,
       "font_style": null,
       "font_variant": null,
       "font_weight": null,
       "text_color": null,
       "text_decoration": null
      }
     },
     "b6c0aa9d97dd4e73a2c467f863a6ac2d": {
      "model_module": "@jupyter-widgets/controls",
      "model_module_version": "2.0.0",
      "model_name": "ToggleButtonStyleModel",
      "state": {
       "description_width": "",
       "font_family": null,
       "font_size": null,
       "font_style": null,
       "font_variant": null,
       "font_weight": null,
       "text_color": null,
       "text_decoration": null
      }
     },
     "b6d8ce3d68c34033806f649422e51401": {
      "model_module": "@jupyter-widgets/base",
      "model_module_version": "2.0.0",
      "model_name": "LayoutModel",
      "state": {
       "height": "28px",
       "padding": "0px 0px 0px 4px",
       "width": "28px"
      }
     },
     "b70a931ca5784c298686b904a80d409f": {
      "model_module": "jupyter-leaflet",
      "model_module_version": "^0.18",
      "model_name": "LeafletAttributionControlModel",
      "state": {
       "_model_module_version": "^0.18",
       "_view_module_version": "^0.18",
       "options": [
        "position",
        "prefix"
       ],
       "position": "bottomright",
       "prefix": "ipyleaflet"
      }
     },
     "b7390b9dc47d4ba790ab35757779df94": {
      "model_module": "@jupyter-widgets/controls",
      "model_module_version": "2.0.0",
      "model_name": "HBoxModel",
      "state": {
       "children": [
        "IPY_MODEL_fce59f99dfa748cb9cadfc649e1b2e78"
       ],
       "layout": "IPY_MODEL_27b10415f3284273938c3d4849826645"
      }
     },
     "b7b39a22b0c84711b8a5f63d22240afb": {
      "model_module": "ipytree",
      "model_module_version": "^0.2",
      "model_name": "NodeModel",
      "state": {
       "_id": "f1635c80-cb86-44c5-911a-b1a0707c8286",
       "_model_module_version": "^0.2",
       "_view_module_version": "^0.2",
       "icon": "file",
       "name": "us_census_states.py"
      }
     },
     "b7e13191537149208f51c2c6a9d78a64": {
      "model_module": "@jupyter-widgets/controls",
      "model_module_version": "2.0.0",
      "model_name": "HBoxModel",
      "state": {
       "children": [
        "IPY_MODEL_4bcfc987ae2a4768847aa06f6d72144a",
        "IPY_MODEL_07526697c8e04becb3dc84228725fedd"
       ],
       "layout": "IPY_MODEL_543aa5a00f92471cb4a960270f5118c0"
      }
     },
     "b8474d97249a430b95a1b707fc940b33": {
      "model_module": "ipytree",
      "model_module_version": "^0.2",
      "model_name": "NodeModel",
      "state": {
       "_id": "7308354f-cae4-4bdf-b0b7-c054a020f8fe",
       "_model_module_version": "^0.2",
       "_view_module_version": "^0.2",
       "icon": "file",
       "name": "filter_string_starts_with.py"
      }
     },
     "b85418eb5bcb41e6b9b301902a94e342": {
      "model_module": "@jupyter-widgets/controls",
      "model_module_version": "2.0.0",
      "model_name": "ToggleButtonStyleModel",
      "state": {
       "description_width": "",
       "font_family": null,
       "font_size": null,
       "font_style": null,
       "font_variant": null,
       "font_weight": null,
       "text_color": null,
       "text_decoration": null
      }
     },
     "b88042f0de5a44b89befcc52b584136f": {
      "model_module": "@jupyter-widgets/controls",
      "model_module_version": "2.0.0",
      "model_name": "ToggleButtonModel",
      "state": {
       "button_style": "primary",
       "icon": "retweet",
       "layout": "IPY_MODEL_be022fa775a142329b6e604cad1521e9",
       "style": "IPY_MODEL_90fc5173a99e47788fe88f2be3697c6e",
       "tooltip": "Convert Earth Engine JavaScript to Python"
      }
     },
     "b8827962a1414af3a425b16248bc50ed": {
      "model_module": "@jupyter-widgets/base",
      "model_module_version": "2.0.0",
      "model_name": "LayoutModel",
      "state": {
       "width": "340px"
      }
     },
     "b8b72750e2ca42ddb11caa6341b3bf5b": {
      "model_module": "@jupyter-widgets/base",
      "model_module_version": "2.0.0",
      "model_name": "LayoutModel",
      "state": {
       "height": "28px",
       "padding": "0px 0px 0px 4px",
       "width": "28px"
      }
     },
     "b8e31c66ac9546a3a8ad9b810fad8b14": {
      "model_module": "ipytree",
      "model_module_version": "^0.2",
      "model_name": "NodeModel",
      "state": {
       "_id": "3812d2d1-21d4-4c41-8ec3-134fc725989c",
       "_model_module_version": "^0.2",
       "_view_module_version": "^0.2",
       "icon": "file",
       "name": "add_new_attribute.py"
      }
     },
     "b965f8e42d634af492d78ca77e313791": {
      "model_module": "@jupyter-widgets/base",
      "model_module_version": "2.0.0",
      "model_name": "LayoutModel",
      "state": {
       "height": "auto",
       "padding": "0px 0px 0px 4px",
       "width": "auto"
      }
     },
     "b9e56cef87b2455cbed3cc417e37e62f": {
      "model_module": "@jupyter-widgets/controls",
      "model_module_version": "2.0.0",
      "model_name": "HBoxModel",
      "state": {
       "_dom_classes": [
        "geemap-light"
       ],
       "_view_count": 0,
       "children": [
        "IPY_MODEL_5e77ba85aa624ba5a3f16805e329398f"
       ],
       "layout": "IPY_MODEL_50a5e17401584b2b827de00e9ff1f5e1"
      }
     },
     "ba1f4d7151a9408a8041aa30e58bf4c5": {
      "model_module": "@jupyter-widgets/controls",
      "model_module_version": "2.0.0",
      "model_name": "ToggleButtonModel",
      "state": {
       "button_style": "primary",
       "icon": "google",
       "layout": "IPY_MODEL_f062646f463c4320ba54c0957f0551fa",
       "style": "IPY_MODEL_43ae37a475c64b5b9d6d02159b39ff70",
       "tooltip": "GEE Toolbox for cloud computing"
      }
     },
     "ba2825d549ef41aa8bd87ad7db3fe9e5": {
      "model_module": "ipytree",
      "model_module_version": "^0.2",
      "model_name": "NodeModel",
      "state": {
       "_id": "b6b95a47-fb4f-46d2-b0c1-db7079489ca3",
       "_model_module_version": "^0.2",
       "_view_module_version": "^0.2",
       "icon": "file",
       "name": "us_census_roads.py"
      }
     },
     "ba9d3705174046329abb3adfe815d07a": {
      "model_module": "ipytree",
      "model_module_version": "^0.2",
      "model_name": "NodeModel",
      "state": {
       "_id": "98643460-acc1-4f63-86c2-ea58cf4637c6",
       "_model_module_version": "^0.2",
       "_view_module_version": "^0.2",
       "icon": "file",
       "name": "simplify_polygons.py"
      }
     },
     "bb5345aee3364c2d9e09c8e3c278a96e": {
      "model_module": "@jupyter-widgets/controls",
      "model_module_version": "2.0.0",
      "model_name": "HBoxModel",
      "state": {
       "children": [
        "IPY_MODEL_7a76e220a2fd4fbfb4a8a9aa0c8eb822",
        "IPY_MODEL_d7c23f165c4b4650895431326cd8fd8b"
       ],
       "layout": "IPY_MODEL_f71c3be7488b4747a7c0748a052d7c3a"
      }
     },
     "bbf3f8fd6ff64daa817f69390e1c42d2": {
      "model_module": "ipytree",
      "model_module_version": "^0.2",
      "model_name": "NodeModel",
      "state": {
       "_id": "a86d20f7-c3ee-4a03-9a48-5dc91017ad27",
       "_model_module_version": "^0.2",
       "_view_module_version": "^0.2",
       "icon": "file",
       "name": "weighted_reductions.py"
      }
     },
     "bc225cb6e7b8424a98855506540a871d": {
      "model_module": "jupyter-leaflet",
      "model_module_version": "^0.18",
      "model_name": "LeafletScaleControlModel",
      "state": {
       "_model_module_version": "^0.18",
       "_view_module_version": "^0.18",
       "imperial": true,
       "max_width": 100,
       "metric": true,
       "options": [
        "imperial",
        "max_width",
        "metric",
        "position",
        "update_when_idle"
       ],
       "position": "bottomleft",
       "update_when_idle": false
      }
     },
     "bc3fc16b4d874542b649371a05eda01e": {
      "model_module": "jupyter-leaflet",
      "model_module_version": "^0.18",
      "model_name": "LeafletMeasureControlModel",
      "state": {
       "_model_module_version": "^0.18",
       "_view_module_version": "^0.18",
       "active_color": "orange",
       "options": [
        "active_color",
        "capture_z_index",
        "completed_color",
        "popup_options",
        "position",
        "primary_area_unit",
        "primary_length_unit",
        "secondary_area_unit",
        "secondary_length_unit"
       ],
       "position": "bottomleft",
       "primary_length_unit": "kilometers",
       "secondary_area_unit": null,
       "secondary_length_unit": null
      }
     },
     "bc421cfdbe9343ee9afc7c83e03dccdf": {
      "model_module": "ipytree",
      "model_module_version": "^0.2",
      "model_name": "NodeModel",
      "state": {
       "_id": "604347be-587f-4be2-a0f3-49986ae5892b",
       "_model_module_version": "^0.2",
       "_view_module_version": "^0.2",
       "icon": "file",
       "name": "loop_FeatureCollection.py"
      }
     },
     "bc7d26e4c50d4c93916e841262f28c65": {
      "model_module": "@jupyter-widgets/controls",
      "model_module_version": "2.0.0",
      "model_name": "VBoxModel",
      "state": {
       "_dom_classes": [
        "geemap-light"
       ],
       "_view_count": 0,
       "children": [
        "IPY_MODEL_d7c23f165c4b4650895431326cd8fd8b"
       ],
       "layout": "IPY_MODEL_fdbb9aae3bb9445eb8e51787e8f88e56"
      }
     },
     "bc9209a6211745d4ad14d5db1fd678bf": {
      "model_module": "ipytree",
      "model_module_version": "^0.2",
      "model_name": "NodeModel",
      "state": {
       "_id": "6c3902af-700f-488f-b056-9aa6ed6ce70d",
       "_model_module_version": "^0.2",
       "_view_module_version": "^0.2",
       "icon": "file",
       "name": "filtering_by_band_names.py"
      }
     },
     "bcb4d62ddc6a48cdb8086169765fbf97": {
      "model_module": "ipytree",
      "model_module_version": "^0.2",
      "model_name": "NodeModel",
      "state": {
       "_id": "06825d5f-6feb-43d5-87dc-c50ed41c95d4",
       "_model_module_version": "^0.2",
       "_view_module_version": "^0.2",
       "icon": "file",
       "name": "stats_of_image_regions.py"
      }
     },
     "bd4ac41fe4b04cf48077c04660f571fd": {
      "model_module": "@jupyter-widgets/base",
      "model_module_version": "2.0.0",
      "model_name": "LayoutModel",
      "state": {}
     },
     "bdeca93edb4144d9b0e7d152e2c71899": {
      "model_module": "@jupyter-widgets/controls",
      "model_module_version": "2.0.0",
      "model_name": "ToggleButtonsStyleModel",
      "state": {
       "button_width": "110px",
       "description_width": ""
      }
     },
     "be022fa775a142329b6e604cad1521e9": {
      "model_module": "@jupyter-widgets/base",
      "model_module_version": "2.0.0",
      "model_name": "LayoutModel",
      "state": {
       "height": "auto",
       "padding": "0px 0px 0px 4px",
       "width": "auto"
      }
     },
     "be18e07eb53e459e973e4971cf58dc79": {
      "model_module": "jupyter-leaflet",
      "model_module_version": "^0.18",
      "model_name": "LeafletMapStyleModel",
      "state": {
       "_model_module_version": "^0.18"
      }
     },
     "be559d46fe8248c195161af652165732": {
      "model_module": "ipytree",
      "model_module_version": "^0.2",
      "model_name": "NodeModel",
      "state": {
       "_id": "b7568c39-814e-48bb-ac08-12fd218622b9",
       "_model_module_version": "^0.2",
       "_view_module_version": "^0.2",
       "icon": "file",
       "name": "cell_statistics.py"
      }
     },
     "be6bcfb37f1d436882d906ad97648862": {
      "model_module": "ipytree",
      "model_module_version": "^0.2",
      "model_name": "NodeModel",
      "state": {
       "_id": "8ad03571-1225-47f3-92de-ec88f8c48c0a",
       "_model_module_version": "^0.2",
       "_view_module_version": "^0.2",
       "icon": "file",
       "name": "get_properties.py"
      }
     },
     "be99b58625db45f18c4b2b01a04cfb6b": {
      "model_module": "ipytree",
      "model_module_version": "^0.2",
      "model_name": "NodeModel",
      "state": {
       "_id": "ae481016-71a5-4f6b-a456-9172d7631c0e",
       "_model_module_version": "^0.2",
       "_view_module_version": "^0.2",
       "icon": "file",
       "name": "visualizing_geometries.py"
      }
     },
     "bf00032d8deb4340a52dd40d4b46cf38": {
      "model_module": "@jupyter-widgets/controls",
      "model_module_version": "2.0.0",
      "model_name": "ToggleButtonStyleModel",
      "state": {
       "description_width": "",
       "font_family": null,
       "font_size": null,
       "font_style": null,
       "font_variant": null,
       "font_weight": null,
       "text_color": null,
       "text_decoration": null
      }
     },
     "bf05b324f62a446a8d0c3ecab1bd07d9": {
      "model_module": "@jupyter-widgets/controls",
      "model_module_version": "2.0.0",
      "model_name": "ButtonModel",
      "state": {
       "button_style": "primary",
       "description": "import",
       "layout": "IPY_MODEL_f6c69c353e8f49d19227fd0d1cceae95",
       "style": "IPY_MODEL_92b61fd6550142099f8d3f3b7f111da0",
       "tooltip": "Click to import the selected asset"
      }
     },
     "bf11840f886f4bd89b515027cc0f0504": {
      "model_module": "@jupyter-widgets/controls",
      "model_module_version": "2.0.0",
      "model_name": "ToggleButtonStyleModel",
      "state": {
       "description_width": "",
       "font_family": null,
       "font_size": null,
       "font_style": null,
       "font_variant": null,
       "font_weight": null,
       "text_color": null,
       "text_decoration": null
      }
     },
     "bf1b7a1bb8f9402fa8314e8dec9375a5": {
      "model_module": "@jupyter-widgets/controls",
      "model_module_version": "2.0.0",
      "model_name": "ToggleButtonsStyleModel",
      "state": {
       "button_width": "110px",
       "description_width": ""
      }
     },
     "bf2fd03dfed6491cb13d2db45ce3c08c": {
      "model_module": "jupyter-leaflet",
      "model_module_version": "^0.18",
      "model_name": "LeafletWMSLayerModel",
      "state": {
       "_model_module_version": "^0.18",
       "_view_module_version": "^0.18",
       "attribution": "MRLC",
       "crs": {
        "custom": false,
        "name": "EPSG3857"
       },
       "format": "image/png",
       "layers": "NLCD_2016_Land_Cover_L48",
       "name": "NLCD 2016 CONUS Land Cover",
       "options": [
        "attribution",
        "bounds",
        "detect_retina",
        "format",
        "layers",
        "max_native_zoom",
        "max_zoom",
        "min_native_zoom",
        "min_zoom",
        "no_wrap",
        "styles",
        "tile_size",
        "tms",
        "transparent",
        "uppercase",
        "zoom_offset"
       ],
       "transparent": true,
       "url": "https://www.mrlc.gov/geoserver/mrlc_display/NLCD_2016_Land_Cover_L48/wms?"
      }
     },
     "bf30733a10b24218818e73bd9b620ba8": {
      "model_module": "@jupyter-widgets/base",
      "model_module_version": "2.0.0",
      "model_name": "LayoutModel",
      "state": {
       "max_width": "57px",
       "min_width": "57px"
      }
     },
     "bf3f72812d1347eb9c4394baed05e612": {
      "model_module": "@jupyter-widgets/controls",
      "model_module_version": "2.0.0",
      "model_name": "ToggleButtonStyleModel",
      "state": {
       "description_width": "",
       "font_family": null,
       "font_size": null,
       "font_style": null,
       "font_variant": null,
       "font_weight": null,
       "text_color": null,
       "text_decoration": null
      }
     },
     "c0490d976f584eb3bb8668d159173fab": {
      "model_module": "@jupyter-widgets/controls",
      "model_module_version": "2.0.0",
      "model_name": "ToggleButtonModel",
      "state": {
       "button_style": "primary",
       "icon": "line-chart",
       "layout": "IPY_MODEL_2f3171c9c1d44ae9ae13323de9705431",
       "style": "IPY_MODEL_181b5261794e4283a83b9f4bf80c498a",
       "tooltip": "Creating and plotting transects"
      }
     },
     "c051d9af48e14c9ba2db426c60ea342a": {
      "model_module": "ipytree",
      "model_module_version": "^0.2",
      "model_name": "NodeModel",
      "state": {
       "_id": "4a10ab75-1cfa-4513-83fb-ef0f2e621480",
       "_model_module_version": "^0.2",
       "_view_module_version": "^0.2",
       "icon": "file",
       "name": "extract_value_to_points.py"
      }
     },
     "c0a328f6f73b42b28d86b1665f235d7f": {
      "model_module": "ipytree",
      "model_module_version": "^0.2",
      "model_name": "NodeModel",
      "state": {
       "_id": "59b03add-a0f7-452b-a2e5-d02c2123032b",
       "_model_module_version": "^0.2",
       "_view_module_version": "^0.2",
       "icon": "file",
       "name": "sentinel-2.py"
      }
     },
     "c0a56decc8604180858f736016a545bf": {
      "model_module": "jupyter-leaflet",
      "model_module_version": "^0.18",
      "model_name": "LeafletMapModel",
      "state": {
       "_model_module_version": "^0.18",
       "_view_module_version": "^0.18",
       "bottom": 812,
       "controls": [
        "IPY_MODEL_035a01b013334f5f83fc16f0bfd2a054",
        "IPY_MODEL_62e9141056234342aa7535a5a3bfc488",
        "IPY_MODEL_1d3636be748f4227a3131adede3093ef",
        "IPY_MODEL_0bbd2d8971814ea18052085286649f20",
        "IPY_MODEL_64ba30d5eb0d4e67a53583b320c189ac",
        "IPY_MODEL_40599642794f43a189ade299d56f2218",
        "IPY_MODEL_299dca6dbd0542fd9061f27dc3b60d01",
        "IPY_MODEL_61e67d0083dc414b89e024dea45bc39c",
        "IPY_MODEL_741f70aff0a6433aa9657ff0287c5a15"
       ],
       "default_style": "IPY_MODEL_22de4e98a44f403da73eac2275971cdb",
       "dragging_style": "IPY_MODEL_6373a2d0d8be4702a89d9999a5367d2f",
       "east": 155.7421875,
       "fullscreen": false,
       "interpolation": "bilinear",
       "layers": [
        "IPY_MODEL_fd66df8e7773429b8c78d2a946a917d6",
        "IPY_MODEL_6b69fb13d3324476ad5586b23796798c",
        "IPY_MODEL_5c38898a39954624bb230b41b3117699",
        "IPY_MODEL_d15836fa853446fda643a2c4210e55c8"
       ],
       "layout": "IPY_MODEL_94efadf614714664a9efc9bd0d11ab95",
       "left": 70,
       "max_zoom": 24,
       "modisdate": "2024-03-07",
       "north": 71.9653876991313,
       "options": [
        "bounce_at_zoom_limits",
        "box_zoom",
        "center",
        "close_popup_on_click",
        "double_click_zoom",
        "dragging",
        "fullscreen",
        "inertia",
        "inertia_deceleration",
        "inertia_max_speed",
        "interpolation",
        "keyboard",
        "keyboard_pan_offset",
        "keyboard_zoom_offset",
        "max_zoom",
        "min_zoom",
        "prefer_canvas",
        "scroll_wheel_zoom",
        "tap",
        "tap_tolerance",
        "touch_zoom",
        "world_copy_jump",
        "zoom",
        "zoom_animation_threshold",
        "zoom_delta",
        "zoom_snap"
       ],
       "prefer_canvas": false,
       "right": 955,
       "scroll_wheel_zoom": true,
       "south": -71.96538769913128,
       "style": "IPY_MODEL_7687ee37437e4fa1b51b82d3443776c2",
       "top": 212,
       "west": -155.39062500000003,
       "window_url": "http://localhost:8888/lab",
       "zoom": 2
      }
     },
     "c0a8342556c646f4bbb97eff2feb71a6": {
      "model_module": "@jupyter-widgets/controls",
      "model_module_version": "2.0.0",
      "model_name": "DescriptionStyleModel",
      "state": {
       "description_width": ""
      }
     },
     "c0b67b1470414cb18e15162ebd91c456": {
      "model_module": "@jupyter-widgets/base",
      "model_module_version": "2.0.0",
      "model_name": "LayoutModel",
      "state": {
       "height": "auto",
       "padding": "0px 0px 0px 4px",
       "width": "auto"
      }
     },
     "c1307a02798e4afb863ed5c7361b50ff": {
      "model_module": "@jupyter-widgets/controls",
      "model_module_version": "2.0.0",
      "model_name": "ToggleButtonStyleModel",
      "state": {
       "description_width": "",
       "font_family": null,
       "font_size": null,
       "font_style": null,
       "font_variant": null,
       "font_weight": null,
       "text_color": null,
       "text_decoration": null
      }
     },
     "c148a0fc4fff4d74b9f178a8da79652e": {
      "model_module": "@jupyter-widgets/controls",
      "model_module_version": "2.0.0",
      "model_name": "ToggleButtonsStyleModel",
      "state": {
       "button_width": "110px",
       "description_width": ""
      }
     },
     "c1a444082513476d8725d6de348cebe6": {
      "model_module": "ipytree",
      "model_module_version": "^0.2",
      "model_name": "NodeModel",
      "state": {
       "_id": "b2e5293e-0cc6-460a-be35-f8f0091c6e6d",
       "_model_module_version": "^0.2",
       "_view_module_version": "^0.2",
       "icon": "file",
       "name": "09_a_complete_example.py"
      }
     },
     "c1bcf78eed7e40abb1bc2346617ce63d": {
      "model_module": "ipytree",
      "model_module_version": "^0.2",
      "model_name": "NodeModel",
      "state": {
       "_id": "5fd65961-867d-4fcf-b568-cc5855b67132",
       "_model_module_version": "^0.2",
       "_view_module_version": "^0.2",
       "icon": "file",
       "name": "from_polygons.py"
      }
     },
     "c28dc7dd89964919aef24df2c9d66ee9": {
      "model_module": "ipytree",
      "model_module_version": "^0.2",
      "model_name": "NodeModel",
      "state": {
       "_id": "4c754806-bae9-42b1-a4a4-6b535a4e10ec",
       "_model_module_version": "^0.2",
       "_view_module_version": "^0.2",
       "icon": "file",
       "name": "Projections.py"
      }
     },
     "c2f879beadbc42a7b2e3f89366fa759f": {
      "model_module": "@jupyter-widgets/base",
      "model_module_version": "2.0.0",
      "model_name": "LayoutModel",
      "state": {
       "height": "auto",
       "padding": "0px 0px 0px 4px",
       "width": "auto"
      }
     },
     "c300709bbb194095862a1d9df5e8e9b3": {
      "model_module": "@jupyter-widgets/controls",
      "model_module_version": "2.0.0",
      "model_name": "ToggleButtonModel",
      "state": {
       "button_style": "primary",
       "icon": "globe",
       "layout": "IPY_MODEL_cc745972ccd14e37a56354c7fb8f0c58",
       "style": "IPY_MODEL_c1307a02798e4afb863ed5c7361b50ff",
       "tooltip": "Create timelapse"
      }
     },
     "c336abb0500040a4a990ea08b22bd45b": {
      "model_module": "@jupyter-widgets/base",
      "model_module_version": "2.0.0",
      "model_name": "LayoutModel",
      "state": {
       "max_height": "350px",
       "max_width": "340px",
       "overflow": "scroll"
      }
     },
     "c420fc08e0d744a1b5a19b181e459fb2": {
      "model_module": "@jupyter-widgets/controls",
      "model_module_version": "2.0.0",
      "model_name": "ToggleButtonModel",
      "state": {
       "button_style": "primary",
       "icon": "fast-forward",
       "layout": "IPY_MODEL_131adaa131114676945ba50f4b8a1cb6",
       "style": "IPY_MODEL_d28e3ebd62ef4659967bfb6fad8ed2ee",
       "tooltip": "Activate timeslider"
      }
     },
     "c47d2885867149499232e4a3c879e0dc": {
      "model_module": "jupyter-leaflet",
      "model_module_version": "^0.18",
      "model_name": "LeafletWidgetControlModel",
      "state": {
       "_model_module": "jupyter-leaflet",
       "_model_module_version": "^0.18",
       "_view_count": null,
       "_view_module": "jupyter-leaflet",
       "_view_module_version": "^0.18",
       "options": [
        "position",
        "transparent_bg"
       ],
       "position": "topright",
       "widget": "IPY_MODEL_d651f480ef344fc3a5f93e8bf6a8c6ce"
      }
     },
     "c4c0d5ccb17a45ff9eb51f29b8ee6f34": {
      "model_module": "ipytree",
      "model_module_version": "^0.2",
      "model_name": "NodeModel",
      "state": {
       "_id": "a98cc55c-ad12-4cc6-ad26-bf6d3fdd91f1",
       "_model_module_version": "^0.2",
       "_view_module_version": "^0.2",
       "icon": "file",
       "name": "hillshade.py"
      }
     },
     "c55214c40a3c417abdb1efb1a80adcc6": {
      "model_module": "@jupyter-widgets/controls",
      "model_module_version": "2.0.0",
      "model_name": "HTMLModel",
      "state": {
       "layout": "IPY_MODEL_f738db71cca04673970d7fd5d0cd06c0",
       "style": "IPY_MODEL_3dbabde178994f588be5051c67827005"
      }
     },
     "c57ae8e752ae457dad9f3b4fa273b563": {
      "model_module": "@jupyter-widgets/controls",
      "model_module_version": "2.0.0",
      "model_name": "HBoxModel",
      "state": {
       "_dom_classes": [
        "geemap-light"
       ],
       "_view_count": 0,
       "children": [
        "IPY_MODEL_6a7f054ab77f4ac6a60b30f0ab2c953b"
       ],
       "layout": "IPY_MODEL_7c3f64d0446e4530a0f0b9540c506869"
      }
     },
     "c5a054f3a3df42b5bb1716eb9d06824f": {
      "model_module": "@jupyter-widgets/base",
      "model_module_version": "2.0.0",
      "model_name": "LayoutModel",
      "state": {
       "height": "28px",
       "padding": "0px 0px 0px 4px",
       "width": "28px"
      }
     },
     "c5e30498caf34de5813758d4ef2fb199": {
      "model_module": "@jupyter-widgets/controls",
      "model_module_version": "2.0.0",
      "model_name": "GridBoxModel",
      "state": {
       "children": [
        "IPY_MODEL_e81ee0b7ad44435cabb515d028c8a591",
        "IPY_MODEL_6f65f2698aca4d2993dd90719a998777",
        "IPY_MODEL_5906a6ba98014383b6aacf915cfa95e4",
        "IPY_MODEL_4afac3ba6c4348c7907c4b7704c0847f",
        "IPY_MODEL_b88042f0de5a44b89befcc52b584136f",
        "IPY_MODEL_484985de79274096b5236fe99f267c62"
       ],
       "layout": "IPY_MODEL_9042ba74401746f49b074ce6f204fe84"
      }
     },
     "c5fb9a4745cf48ca9129fbded03db7f5": {
      "model_module": "ipytree",
      "model_module_version": "^0.2",
      "model_name": "NodeModel",
      "state": {
       "_id": "606e0ea0-cef1-46a7-816b-d6740accd787",
       "_model_module_version": "^0.2",
       "_view_module_version": "^0.2",
       "icon": "file",
       "name": "map_set_zoom.py"
      }
     },
     "c65fefb3070e47c88d1d1e2af0cb0c63": {
      "model_module": "@jupyter-widgets/base",
      "model_module_version": "2.0.0",
      "model_name": "LayoutModel",
      "state": {}
     },
     "c6a2c14acc5b41e295fee1e1c25d0705": {
      "model_module": "ipytree",
      "model_module_version": "^0.2",
      "model_name": "NodeModel",
      "state": {
       "_id": "2069c9e9-cfbe-4476-abf1-ef3142264f69",
       "_model_module_version": "^0.2",
       "_view_module_version": "^0.2",
       "icon": "file",
       "name": "alos_chili.py"
      }
     },
     "c6a8c9d8dad34fcc9e3bc97b374efe56": {
      "model_module": "ipytree",
      "model_module_version": "^0.2",
      "model_name": "NodeModel",
      "state": {
       "_id": "895579e4-3b79-4da5-b227-413a3c8cd66f",
       "_model_module_version": "^0.2",
       "_view_module_version": "^0.2",
       "name": "Filter",
       "nodes": [
        "IPY_MODEL_e2efe60c3c8b444e88a3c0921a1e17f9",
        "IPY_MODEL_3f2cee13684f46a28be155d695065d54",
        "IPY_MODEL_36bdcae09a244e6da9e81d03385261c1",
        "IPY_MODEL_021c85b7342f42a9b14fc3c39750ba28",
        "IPY_MODEL_e30d651cdbad4262807dad1fd2cddf4b",
        "IPY_MODEL_fab98c150eba4a72a399c5fe3bc80be5",
        "IPY_MODEL_b8474d97249a430b95a1b707fc940b33"
       ],
       "opened": false
      }
     },
     "c6d037b0171f4d19b9947ab51e058f82": {
      "model_module": "@jupyter-widgets/controls",
      "model_module_version": "2.0.0",
      "model_name": "ButtonStyleModel",
      "state": {
       "font_family": null,
       "font_size": null,
       "font_style": null,
       "font_variant": null,
       "font_weight": null,
       "text_color": null,
       "text_decoration": null
      }
     },
     "c6de886b4bc54ed6870b2cc770e753b9": {
      "model_module": "ipytree",
      "model_module_version": "^0.2",
      "model_name": "NodeModel",
      "state": {
       "_id": "7f6cbd52-e575-4a7a-8610-d5d1e4978f03",
       "_model_module_version": "^0.2",
       "_view_module_version": "^0.2",
       "icon": "file",
       "name": "where.py"
      }
     },
     "c6eb1808966742e2878a4d8355ee792e": {
      "model_module": "ipyevents",
      "model_module_version": "2.0.2",
      "model_name": "EventModel",
      "state": {
       "_supported_key_events": [
        "keydown",
        "keyup"
       ],
       "_supported_mouse_events": [
        "click",
        "auxclick",
        "dblclick",
        "mouseenter",
        "mouseleave",
        "mousedown",
        "mouseup",
        "mousemove",
        "wheel",
        "contextmenu",
        "dragstart",
        "drag",
        "dragend",
        "dragenter",
        "dragover",
        "dragleave",
        "drop"
       ],
       "_supported_touch_events": [
        "touchstart",
        "touchend",
        "touchmove",
        "touchcancel"
       ],
       "_view_module": "@jupyter-widgets/controls",
       "source": "IPY_MODEL_3425b80cbda748119023fdf5cc0a1df3",
       "throttle_or_debounce": "",
       "watched_events": [
        "mouseenter",
        "mouseleave"
       ],
       "xy_coordinate_system": ""
      }
     },
     "c6fed6aae6bf417383e8d7a757807aa3": {
      "model_module": "@jupyter-widgets/controls",
      "model_module_version": "2.0.0",
      "model_name": "ToggleButtonStyleModel",
      "state": {
       "description_width": "",
       "font_family": null,
       "font_size": null,
       "font_style": null,
       "font_variant": null,
       "font_weight": null,
       "text_color": null,
       "text_decoration": null
      }
     },
     "c764ff65ca4a4162a8c0d265a7191c3f": {
      "model_module": "@jupyter-widgets/base",
      "model_module_version": "2.0.0",
      "model_name": "LayoutModel",
      "state": {}
     },
     "c77ba4089da54a72a6883c0be85926d5": {
      "model_module": "ipytree",
      "model_module_version": "^0.2",
      "model_name": "NodeModel",
      "state": {
       "_id": "8508c5a5-a12d-414a-8d9d-9bd9ad45234a",
       "_model_module_version": "^0.2",
       "_view_module_version": "^0.2",
       "icon": "file",
       "name": "stats_by_group.py"
      }
     },
     "c7af74fbde1d4faaaa28cb110317965a": {
      "model_module": "@jupyter-widgets/controls",
      "model_module_version": "2.0.0",
      "model_name": "HBoxModel",
      "state": {
       "children": [
        "IPY_MODEL_580fafb8db1e4e3dabc52ae621bb3598",
        "IPY_MODEL_ced3e7c78c3442fe88817c9f26b2f703",
        "IPY_MODEL_0aeb22da36224c319cddc354aafac8ba"
       ],
       "layout": "IPY_MODEL_70aa5bce60df4463b4b1c33aa9da6171"
      }
     },
     "c8e36eaf7ebd441eaf0f0601096fae51": {
      "model_module": "ipytree",
      "model_module_version": "^0.2",
      "model_name": "NodeModel",
      "state": {
       "_id": "8f2ab4fc-7fe5-4ae0-b0cf-be4115de4a95",
       "_model_module_version": "^0.2",
       "_view_module_version": "^0.2",
       "icon": "file",
       "name": "set_image_properties.py"
      }
     },
     "c938e3c2f809440caaedbe67c189a2f1": {
      "model_module": "@jupyter-widgets/base",
      "model_module_version": "2.0.0",
      "model_name": "LayoutModel",
      "state": {
       "height": "auto",
       "padding": "0px 0px 0px 4px",
       "width": "auto"
      }
     },
     "c9b9be1451574b208fe240fc704428f1": {
      "model_module": "ipytree",
      "model_module_version": "^0.2",
      "model_name": "NodeModel",
      "state": {
       "_id": "0a4b3527-200d-4992-a9ad-6a59a596e754",
       "_model_module_version": "^0.2",
       "_view_module_version": "^0.2",
       "icon": "file",
       "name": "relational_operators.py"
      }
     },
     "c9e9292aec0f43e0a143b208c4c63ad0": {
      "model_module": "ipytree",
      "model_module_version": "^0.2",
      "model_name": "NodeModel",
      "state": {
       "_id": "344573df-3484-4ac5-948d-56a42a80c263",
       "_model_module_version": "^0.2",
       "_view_module_version": "^0.2",
       "icon": "file",
       "name": "convert_vector_to_raster.py"
      }
     },
     "ca09a59076d348909f279edfb6b30b1e": {
      "model_module": "ipytree",
      "model_module_version": "^0.2",
      "model_name": "NodeModel",
      "state": {
       "_id": "af7ac6c9-16ad-4174-b6ea-97e9bd2451a0",
       "_model_module_version": "^0.2",
       "_view_module_version": "^0.2",
       "icon": "file",
       "name": "alos_mtpi.py"
      }
     },
     "ca9f1127f75f416f92798a797fa799e0": {
      "model_module": "ipytree",
      "model_module_version": "^0.2",
      "model_name": "NodeModel",
      "state": {
       "_id": "c7c611f7-8dda-4180-91d9-3de1ba66363c",
       "_model_module_version": "^0.2",
       "_view_module_version": "^0.2",
       "icon": "file",
       "name": "spectral_unmixing.py"
      }
     },
     "cb3d509153c74d958fbf63d47a170ab5": {
      "model_module": "@jupyter-widgets/controls",
      "model_module_version": "2.0.0",
      "model_name": "ToggleButtonStyleModel",
      "state": {
       "description_width": "",
       "font_family": null,
       "font_size": null,
       "font_style": null,
       "font_variant": null,
       "font_weight": null,
       "text_color": null,
       "text_decoration": null
      }
     },
     "cb534a9e481d45a8bfa8ba386849a2ed": {
      "model_module": "@jupyter-widgets/controls",
      "model_module_version": "2.0.0",
      "model_name": "ButtonStyleModel",
      "state": {
       "font_family": null,
       "font_size": null,
       "font_style": null,
       "font_variant": null,
       "font_weight": null,
       "text_color": null,
       "text_decoration": null
      }
     },
     "cc002a63efee4d42bf537fab590b6485": {
      "model_module": "@jupyter-widgets/controls",
      "model_module_version": "2.0.0",
      "model_name": "DescriptionStyleModel",
      "state": {
       "description_width": ""
      }
     },
     "cc5f0057c1514726aa46056b9d334e3b": {
      "model_module": "@jupyter-widgets/controls",
      "model_module_version": "2.0.0",
      "model_name": "HTMLStyleModel",
      "state": {
       "description_width": "",
       "font_size": null,
       "text_color": null
      }
     },
     "cc745972ccd14e37a56354c7fb8f0c58": {
      "model_module": "@jupyter-widgets/base",
      "model_module_version": "2.0.0",
      "model_name": "LayoutModel",
      "state": {
       "height": "auto",
       "padding": "0px 0px 0px 4px",
       "width": "auto"
      }
     },
     "cc7db516c1f3444b97aacddb07ec73a1": {
      "model_module": "jupyter-leaflet",
      "model_module_version": "^0.18",
      "model_name": "LeafletMapModel",
      "state": {
       "_model_module_version": "^0.18",
       "_view_module_version": "^0.18",
       "bottom": 812,
       "controls": [
        "IPY_MODEL_5ae90950a8f94a1c9167e5fe1ebc989e",
        "IPY_MODEL_f7d9be5ad2d74c979f3e94405408e8fb",
        "IPY_MODEL_fbd06d131d6a41ad87931cc7961e738b",
        "IPY_MODEL_f1f06ce956114a07815222006f181da9"
       ],
       "default_style": "IPY_MODEL_5551379f627e47a7bfcc11313b90b837",
       "dragging": false,
       "dragging_style": "IPY_MODEL_1186d07945044f5089f30a47cde74e23",
       "east": 155.7421875,
       "fullscreen": false,
       "interpolation": "bilinear",
       "layers": [
        "IPY_MODEL_ff6da8de591e4c5fb7e407793197959a",
        "IPY_MODEL_86463b0280d449789b2550d89f39e8bd"
       ],
       "layout": "IPY_MODEL_cd6c265a63634007a81b2abee57fb475",
       "left": 70,
       "max_zoom": 24,
       "modisdate": "2024-03-07",
       "north": 71.9653876991313,
       "options": [
        "bounce_at_zoom_limits",
        "box_zoom",
        "center",
        "close_popup_on_click",
        "double_click_zoom",
        "dragging",
        "fullscreen",
        "inertia",
        "inertia_deceleration",
        "inertia_max_speed",
        "interpolation",
        "keyboard",
        "keyboard_pan_offset",
        "keyboard_zoom_offset",
        "max_zoom",
        "min_zoom",
        "prefer_canvas",
        "scroll_wheel_zoom",
        "tap",
        "tap_tolerance",
        "touch_zoom",
        "world_copy_jump",
        "zoom",
        "zoom_animation_threshold",
        "zoom_delta",
        "zoom_snap"
       ],
       "prefer_canvas": false,
       "right": 955,
       "scroll_wheel_zoom": true,
       "south": -71.96538769913128,
       "style": "IPY_MODEL_4ad6ab372b2344be92183119c9af0392",
       "top": 212,
       "west": -155.39062500000003,
       "window_url": "http://localhost:8888/lab",
       "zoom": 2
      }
     },
     "cc9613d40f2f4dc690631b67a19e0723": {
      "model_module": "ipytree",
      "model_module_version": "^0.2",
      "model_name": "NodeModel",
      "state": {
       "_id": "bd614ad7-1b79-4571-bd50-327d648bc29d",
       "_model_module_version": "^0.2",
       "_view_module_version": "^0.2",
       "icon": "file",
       "name": "landsat_path_row_limit.py"
      }
     },
     "cd060f2b355f498480b411b7b426d778": {
      "model_module": "@jupyter-widgets/controls",
      "model_module_version": "2.0.0",
      "model_name": "ToggleButtonStyleModel",
      "state": {
       "description_width": "",
       "font_family": null,
       "font_size": null,
       "font_style": null,
       "font_variant": null,
       "font_weight": null,
       "text_color": null,
       "text_decoration": null
      }
     },
     "cd6c265a63634007a81b2abee57fb475": {
      "model_module": "@jupyter-widgets/base",
      "model_module_version": "2.0.0",
      "model_name": "LayoutModel",
      "state": {
       "height": "600px"
      }
     },
     "cd71a257e5fc4f64ad79f6ddf8f39dc4": {
      "model_module": "@jupyter-widgets/base",
      "model_module_version": "2.0.0",
      "model_name": "LayoutModel",
      "state": {
       "height": "600px"
      }
     },
     "cd75cf62d1764d4c98c185e6d3b9f87a": {
      "model_module": "@jupyter-widgets/base",
      "model_module_version": "2.0.0",
      "model_name": "LayoutModel",
      "state": {}
     },
     "cd865613fd694f4aa9f6e83ec37b7fa8": {
      "model_module": "@jupyter-widgets/controls",
      "model_module_version": "2.0.0",
      "model_name": "DescriptionStyleModel",
      "state": {
       "description_width": ""
      }
     },
     "cd944cb75d7e419f90feb7dffbd82edd": {
      "model_module": "@jupyter-widgets/controls",
      "model_module_version": "2.0.0",
      "model_name": "DropdownModel",
      "state": {
       "index": null,
       "layout": "IPY_MODEL_f9237b7792ef4b36adf9ec75b1626adc",
       "style": "IPY_MODEL_ae6e07b7988c44b6ad3cbc79d55f869b"
      }
     },
     "cda03ddb96e54efd8c0d6e5c1a60a0ef": {
      "model_module": "@jupyter-widgets/base",
      "model_module_version": "2.0.0",
      "model_name": "LayoutModel",
      "state": {
       "height": "auto",
       "padding": "0px 0px 0px 4px",
       "width": "auto"
      }
     },
     "cda930c75c074e2fbfa50048d27036c0": {
      "model_module": "@jupyter-widgets/controls",
      "model_module_version": "2.0.0",
      "model_name": "DescriptionStyleModel",
      "state": {
       "description_width": ""
      }
     },
     "ce2f0a5da0074d2dadfb7252e339791f": {
      "model_module": "@jupyter-widgets/base",
      "model_module_version": "2.0.0",
      "model_name": "LayoutModel",
      "state": {
       "height": "auto",
       "padding": "0px 0px 0px 4px",
       "width": "auto"
      }
     },
     "ce4d263066414d1b9232723d2c9b8530": {
      "model_module": "@jupyter-widgets/controls",
      "model_module_version": "2.0.0",
      "model_name": "GridBoxModel",
      "state": {
       "children": [
        "IPY_MODEL_5c1a960521704d35abdc2b1336882619",
        "IPY_MODEL_45ca3cbd266247589c68ffe4988985c3",
        "IPY_MODEL_43e5868c84c244aea0243683964844fe",
        "IPY_MODEL_daac0502d8624e7b8e6eece6d0b28e72",
        "IPY_MODEL_140318abd3f941939064b007b63d8c25",
        "IPY_MODEL_d75ba3c3d935455abf66ee7cd6b67b6a"
       ],
       "layout": "IPY_MODEL_0b9145228d874b1083f63e48bdacd03b"
      }
     },
     "ce8296a6fd834b64a41dd7c8b28aaeec": {
      "model_module": "ipytree",
      "model_module_version": "^0.2",
      "model_name": "NodeModel",
      "state": {
       "_id": "e97f4127-7448-4165-bf42-aca698ec972e",
       "_model_module_version": "^0.2",
       "_view_module_version": "^0.2",
       "icon": "file",
       "name": "from_name.py"
      }
     },
     "ced3e7c78c3442fe88817c9f26b2f703": {
      "model_module": "@jupyter-widgets/controls",
      "model_module_version": "2.0.0",
      "model_name": "TextModel",
      "state": {
       "layout": "IPY_MODEL_ed5ce2665a1b40b1bb963b47c0cb89e5",
       "style": "IPY_MODEL_924898ae4d1a497cbe2650414a90c23b"
      }
     },
     "cf49a77c0edb4eeebce9508ed7067268": {
      "model_module": "ipytree",
      "model_module_version": "^0.2",
      "model_name": "NodeModel",
      "state": {
       "_id": "ccfdd46a-b87c-4223-a5ec-df030133fef7",
       "_model_module_version": "^0.2",
       "_view_module_version": "^0.2",
       "icon": "file",
       "name": "hsv_pan_sharpen.py"
      }
     },
     "cf5d2e07d65448ed8481948e45472882": {
      "model_module": "@jupyter-widgets/controls",
      "model_module_version": "2.0.0",
      "model_name": "ToggleButtonModel",
      "state": {
       "button_style": "primary",
       "icon": "folder-open",
       "layout": "IPY_MODEL_5e13a632876e490cb73767666ef1925f",
       "style": "IPY_MODEL_cfde9a7cb1a44b279ac036ff0612f32c",
       "tooltip": "Open local vector/raster data"
      }
     },
     "cf9eded2ce114d29882e7accc8824289": {
      "model_module": "ipytree",
      "model_module_version": "^0.2",
      "model_name": "NodeModel",
      "state": {
       "_id": "83a5db65-beb3-4603-8def-8d5308c6d14b",
       "_model_module_version": "^0.2",
       "_view_module_version": "^0.2",
       "icon": "file",
       "name": "export_csv.py"
      }
     },
     "cfa137eff2e94a48b647841211c6ccbe": {
      "model_module": "ipytree",
      "model_module_version": "^0.2",
      "model_name": "NodeModel",
      "state": {
       "_id": "1fb12ac8-4b5d-430c-ba01-5f2a6ed46e34",
       "_model_module_version": "^0.2",
       "_view_module_version": "^0.2",
       "icon": "file",
       "name": "symbology.py"
      }
     },
     "cfbc4ffc534c44348fb9ce2fcdb51a60": {
      "model_module": "@jupyter-widgets/base",
      "model_module_version": "2.0.0",
      "model_name": "LayoutModel",
      "state": {
       "height": "auto",
       "padding": "0px 0px 0px 4px",
       "width": "auto"
      }
     },
     "cfde9a7cb1a44b279ac036ff0612f32c": {
      "model_module": "@jupyter-widgets/controls",
      "model_module_version": "2.0.0",
      "model_name": "ToggleButtonStyleModel",
      "state": {
       "description_width": "",
       "font_family": null,
       "font_size": null,
       "font_style": null,
       "font_variant": null,
       "font_weight": null,
       "text_color": null,
       "text_decoration": null
      }
     },
     "d01f5a26d73f4ddb82440ec77d02fa2d": {
      "model_module": "@jupyter-widgets/base",
      "model_module_version": "2.0.0",
      "model_name": "LayoutModel",
      "state": {
       "height": "28px",
       "width": "72px"
      }
     },
     "d108d69540014a7184424422cb056649": {
      "model_module": "ipyevents",
      "model_module_version": "2.0.2",
      "model_name": "EventModel",
      "state": {
       "_supported_key_events": [
        "keydown",
        "keyup"
       ],
       "_supported_mouse_events": [
        "click",
        "auxclick",
        "dblclick",
        "mouseenter",
        "mouseleave",
        "mousedown",
        "mouseup",
        "mousemove",
        "wheel",
        "contextmenu",
        "dragstart",
        "drag",
        "dragend",
        "dragenter",
        "dragover",
        "dragleave",
        "drop"
       ],
       "_supported_touch_events": [
        "touchstart",
        "touchend",
        "touchmove",
        "touchcancel"
       ],
       "_view_module": "@jupyter-widgets/controls",
       "source": "IPY_MODEL_bc7d26e4c50d4c93916e841262f28c65",
       "throttle_or_debounce": "",
       "watched_events": [
        "mouseenter",
        "mouseleave"
       ],
       "xy_coordinate_system": ""
      }
     },
     "d135153c98a14764a4b30eba5a645a96": {
      "model_module": "@jupyter-widgets/controls",
      "model_module_version": "2.0.0",
      "model_name": "TextStyleModel",
      "state": {
       "description_width": "",
       "font_size": null,
       "text_color": null
      }
     },
     "d15836fa853446fda643a2c4210e55c8": {
      "model_module": "jupyter-leaflet",
      "model_module_version": "^0.18",
      "model_name": "LeafletTileLayerModel",
      "state": {
       "_model_module_version": "^0.18",
       "_view_module_version": "^0.18",
       "attribution": "Esri",
       "max_zoom": 24,
       "name": "Esri.WorldTopoMap",
       "options": [
        "attribution",
        "bounds",
        "detect_retina",
        "max_native_zoom",
        "max_zoom",
        "min_native_zoom",
        "min_zoom",
        "no_wrap",
        "tile_size",
        "tms",
        "zoom_offset"
       ],
       "url": "https://server.arcgisonline.com/ArcGIS/rest/services/World_Topo_Map/MapServer/tile/{z}/{y}/{x}"
      }
     },
     "d1843ac3cb724c25beb57093c4960928": {
      "model_module": "@jupyter-widgets/controls",
      "model_module_version": "2.0.0",
      "model_name": "ToggleButtonStyleModel",
      "state": {
       "description_width": "",
       "font_family": null,
       "font_size": null,
       "font_style": null,
       "font_variant": null,
       "font_weight": null,
       "text_color": null,
       "text_decoration": null
      }
     },
     "d1950ae4c77842e2929b9a9b406a198a": {
      "model_module": "ipytree",
      "model_module_version": "^0.2",
      "model_name": "NodeModel",
      "state": {
       "_id": "3ca13bb8-8e30-4da0-bc92-63d288e4a2d6",
       "_model_module_version": "^0.2",
       "_view_module_version": "^0.2",
       "icon": "file",
       "name": "06_reducing.py"
      }
     },
     "d20d9cde0fc24d22a9c3bba269a34112": {
      "model_module": "ipytree",
      "model_module_version": "^0.2",
      "model_name": "NodeModel",
      "state": {
       "_id": "b8585ffe-2584-46d2-9eda-fe8f43cc0f6d",
       "_model_module_version": "^0.2",
       "_view_module_version": "^0.2",
       "icon": "file",
       "name": "pixel_lon_lat.py"
      }
     },
     "d22a4ece351441e99d8c23e0b3e6b48f": {
      "model_module": "@jupyter-widgets/base",
      "model_module_version": "2.0.0",
      "model_name": "LayoutModel",
      "state": {
       "height": "auto",
       "padding": "0px 0px 0px 4px",
       "width": "auto"
      }
     },
     "d277f8c6842a462e9682a6dfdd9bd49f": {
      "model_module": "ipytree",
      "model_module_version": "^0.2",
      "model_name": "NodeModel",
      "state": {
       "_id": "91a7a4ee-17dd-464f-a1a7-413afc1beb0e",
       "_model_module_version": "^0.2",
       "_view_module_version": "^0.2",
       "icon": "file",
       "name": "jrc_yearly_history.py"
      }
     },
     "d28e3ebd62ef4659967bfb6fad8ed2ee": {
      "model_module": "@jupyter-widgets/controls",
      "model_module_version": "2.0.0",
      "model_name": "ToggleButtonStyleModel",
      "state": {
       "description_width": "",
       "font_family": null,
       "font_size": null,
       "font_style": null,
       "font_variant": null,
       "font_weight": null,
       "text_color": null,
       "text_decoration": null
      }
     },
     "d2aa6563762e4c309a825920146867c8": {
      "model_module": "@jupyter-widgets/controls",
      "model_module_version": "2.0.0",
      "model_name": "ToggleButtonStyleModel",
      "state": {
       "description_width": "",
       "font_family": null,
       "font_size": null,
       "font_style": null,
       "font_variant": null,
       "font_weight": null,
       "text_color": null,
       "text_decoration": null
      }
     },
     "d3048f27f52e48c3b43b5646a954e6de": {
      "model_module": "@jupyter-widgets/controls",
      "model_module_version": "2.0.0",
      "model_name": "HBoxModel",
      "state": {
       "children": [
        "IPY_MODEL_9b19ff15c14c417ba9a9ae959737e73e",
        "IPY_MODEL_55a1591758c347a38af9c671799aaef5"
       ],
       "layout": "IPY_MODEL_45e09ce0618c45e6a4bb94b72bd4fa77"
      }
     },
     "d3146f55cc524632bbf38157de4e17d9": {
      "model_module": "ipytree",
      "model_module_version": "^0.2",
      "model_name": "NodeModel",
      "state": {
       "_id": "33fa6f26-2ae0-431f-b9cf-3b4e9f1985ce",
       "_model_module_version": "^0.2",
       "_view_module_version": "^0.2",
       "icon": "file",
       "name": "filtering_feature_collection.py"
      }
     },
     "d329f254c0e048f8a8c45091152d0983": {
      "model_module": "@jupyter-widgets/output",
      "model_module_version": "1.0.0",
      "model_name": "OutputModel",
      "state": {
       "layout": "IPY_MODEL_2bac5dab48534c2e9d52ea16ee0296e7"
      }
     },
     "d34028b2a94f4f9facd0f612b4aa1379": {
      "model_module": "@jupyter-widgets/controls",
      "model_module_version": "2.0.0",
      "model_name": "ToggleButtonModel",
      "state": {
       "button_style": "primary",
       "icon": "retweet",
       "layout": "IPY_MODEL_b35ab3a269e24cd5b9ed37b4f0fd573b",
       "style": "IPY_MODEL_d898b7a8fb484777a87ac0ffd540bd49",
       "tooltip": "Convert Earth Engine JavaScript to Python"
      }
     },
     "d35922a697f8461a8c8fe75c15c5056b": {
      "model_module": "jupyter-leaflet",
      "model_module_version": "^0.18",
      "model_name": "LeafletAttributionControlModel",
      "state": {
       "_model_module_version": "^0.18",
       "_view_module_version": "^0.18",
       "options": [
        "position",
        "prefix"
       ],
       "position": "bottomright",
       "prefix": "ipyleaflet"
      }
     },
     "d3886fa545e547a3a404d30dacf15e9f": {
      "model_module": "ipytree",
      "model_module_version": "^0.2",
      "model_name": "NodeModel",
      "state": {
       "_id": "fb757e6f-a56e-4c74-9f07-beebb1aa609b",
       "_model_module_version": "^0.2",
       "_view_module_version": "^0.2",
       "name": "Archive",
       "opened": false
      }
     },
     "d4008a8c48d64f0190834210db06eb1d": {
      "model_module": "ipytree",
      "model_module_version": "^0.2",
      "model_name": "NodeModel",
      "state": {
       "_id": "dadb365e-8c8b-41b5-bb34-15e7bf5f1160",
       "_model_module_version": "^0.2",
       "_view_module_version": "^0.2",
       "icon": "file",
       "name": "segmentation_snic.py"
      }
     },
     "d4e121c8b2e7445fb3ee5480603e0970": {
      "model_module": "@jupyter-widgets/controls",
      "model_module_version": "2.0.0",
      "model_name": "ToggleButtonModel",
      "state": {
       "button_style": "primary",
       "icon": "plus",
       "layout": "IPY_MODEL_238e1a5dc71740679939c30711571241",
       "style": "IPY_MODEL_595f86709dfd494c9f7aa6912c86a6ac",
       "tooltip": "Expand toolbar"
      }
     },
     "d50323764ad6443eb3e1bef993a76566": {
      "model_module": "@jupyter-widgets/controls",
      "model_module_version": "2.0.0",
      "model_name": "ButtonStyleModel",
      "state": {
       "font_family": null,
       "font_size": null,
       "font_style": null,
       "font_variant": null,
       "font_weight": null,
       "text_color": null,
       "text_decoration": null
      }
     },
     "d5156586ca5441f3a61a38b53e4bc9d4": {
      "model_module": "@jupyter-widgets/controls",
      "model_module_version": "2.0.0",
      "model_name": "HTMLStyleModel",
      "state": {
       "description_width": "",
       "font_size": null,
       "text_color": null
      }
     },
     "d6276e76bc5042d7bd4c70329160f57f": {
      "model_module": "jupyter-leaflet",
      "model_module_version": "^0.18",
      "model_name": "LeafletMapStyleModel",
      "state": {
       "_model_module_version": "^0.18"
      }
     },
     "d63740a237424a2bbc426f75dc17b50c": {
      "model_module": "ipytree",
      "model_module_version": "^0.2",
      "model_name": "NodeModel",
      "state": {
       "_id": "dd62a37e-3034-42e6-9286-8102bb6b39ac",
       "_model_module_version": "^0.2",
       "_view_module_version": "^0.2",
       "icon": "file",
       "name": "inverted_joins.py"
      }
     },
     "d651f480ef344fc3a5f93e8bf6a8c6ce": {
      "model_module": "@jupyter-widgets/controls",
      "model_module_version": "2.0.0",
      "model_name": "VBoxModel",
      "state": {
       "_dom_classes": [
        "geemap-light"
       ],
       "_view_count": 0,
       "children": [
        "IPY_MODEL_07526697c8e04becb3dc84228725fedd"
       ],
       "layout": "IPY_MODEL_359d9090e92447dba59ad43e18a74610"
      }
     },
     "d66a06e0a9a744bea18088091b919e78": {
      "model_module": "@jupyter-widgets/base",
      "model_module_version": "2.0.0",
      "model_name": "LayoutModel",
      "state": {
       "height": "28px",
       "padding": "0px 0px 0px 4px",
       "width": "28px"
      }
     },
     "d72b9af5f8c940ffa3af7c0127569059": {
      "model_module": "ipytree",
      "model_module_version": "^0.2",
      "model_name": "NodeModel",
      "state": {
       "_id": "345d3df6-5923-49f8-b3d3-69e1543a0e58",
       "_model_module_version": "^0.2",
       "_view_module_version": "^0.2",
       "icon": "file",
       "name": "get_image_id.py"
      }
     },
     "d733d7be50bf491a8f8a367f6ae0a821": {
      "model_module": "ipyevents",
      "model_module_version": "2.0.2",
      "model_name": "EventModel",
      "state": {
       "_supported_key_events": [
        "keydown",
        "keyup"
       ],
       "_supported_mouse_events": [
        "click",
        "auxclick",
        "dblclick",
        "mouseenter",
        "mouseleave",
        "mousedown",
        "mouseup",
        "mousemove",
        "wheel",
        "contextmenu",
        "dragstart",
        "drag",
        "dragend",
        "dragenter",
        "dragover",
        "dragleave",
        "drop"
       ],
       "_supported_touch_events": [
        "touchstart",
        "touchend",
        "touchmove",
        "touchcancel"
       ],
       "_view_module": "@jupyter-widgets/controls",
       "source": "IPY_MODEL_b9e56cef87b2455cbed3cc417e37e62f",
       "throttle_or_debounce": "",
       "watched_events": [
        "mouseenter",
        "mouseleave"
       ],
       "xy_coordinate_system": ""
      }
     },
     "d73ec9876578457eb08abe93a3e6d630": {
      "model_module": "@jupyter-widgets/controls",
      "model_module_version": "2.0.0",
      "model_name": "ToggleButtonModel",
      "state": {
       "icon": "server",
       "layout": "IPY_MODEL_45e6559a603c483eb5928f7d49e04071",
       "style": "IPY_MODEL_97a2e4d267224d2d9d3fee6333f86244",
       "tooltip": "Layers"
      }
     },
     "d75ba3c3d935455abf66ee7cd6b67b6a": {
      "model_module": "@jupyter-widgets/controls",
      "model_module_version": "2.0.0",
      "model_name": "ToggleButtonModel",
      "state": {
       "button_style": "primary",
       "icon": "plus",
       "layout": "IPY_MODEL_ef5ecb7ff60f4fe4a8c11ba38d88e2b6",
       "style": "IPY_MODEL_c6fed6aae6bf417383e8d7a757807aa3",
       "tooltip": "Expand toolbar"
      }
     },
     "d764e25f45b74bb39cdf2e9dc801e51a": {
      "model_module": "@jupyter-widgets/controls",
      "model_module_version": "2.0.0",
      "model_name": "VBoxModel",
      "state": {
       "children": [
        "IPY_MODEL_635e85d597af4b008243b868600b80dc",
        "IPY_MODEL_269c608ae96547e68e941d780ce3a68c"
       ],
       "layout": "IPY_MODEL_99ca1e3eb8c54655b6463a57e3ea1bd3"
      }
     },
     "d7887c5d88e54e6dae656897fd974d4a": {
      "model_module": "ipytree",
      "model_module_version": "^0.2",
      "model_name": "NodeModel",
      "state": {
       "_id": "a36d4274-8a09-4462-a9b0-0a3904012580",
       "_model_module_version": "^0.2",
       "_view_module_version": "^0.2",
       "icon": "file",
       "name": "map_function.py"
      }
     },
     "d7c23f165c4b4650895431326cd8fd8b": {
      "model_module": "@jupyter-widgets/controls",
      "model_module_version": "2.0.0",
      "model_name": "ToggleButtonModel",
      "state": {
       "icon": "wrench",
       "layout": "IPY_MODEL_c5a054f3a3df42b5bb1716eb9d06824f",
       "style": "IPY_MODEL_38eab3a6dfb24115b982c9b62fc88119",
       "tooltip": "Toolbar"
      }
     },
     "d81cfee074ed4a31804bf5b96f47bc98": {
      "model_module": "@jupyter-widgets/controls",
      "model_module_version": "2.0.0",
      "model_name": "ToggleButtonModel",
      "state": {
       "button_style": "primary",
       "icon": "fast-forward",
       "layout": "IPY_MODEL_225f20a9a6494ba5961234aed945f0b8",
       "style": "IPY_MODEL_11898a6971cc41f39a005dc29c960479",
       "tooltip": "Activate timeslider"
      }
     },
     "d82547ea57c24f44b8f05c4d6a3b6e29": {
      "model_module": "@jupyter-widgets/controls",
      "model_module_version": "2.0.0",
      "model_name": "HTMLModel",
      "state": {
       "layout": "IPY_MODEL_08855f749837423fa36661afab8a204a",
       "style": "IPY_MODEL_8ca765b6633d4da693875a268782ead2"
      }
     },
     "d8687d4c01894c838c0a9b05a3d2536f": {
      "model_module": "@jupyter-widgets/controls",
      "model_module_version": "2.0.0",
      "model_name": "TextModel",
      "state": {
       "layout": "IPY_MODEL_304ba3fd1eb64dc7a8c738932778efe2",
       "placeholder": "Filter scripts...",
       "style": "IPY_MODEL_d135153c98a14764a4b30eba5a645a96"
      }
     },
     "d86dc2c752444ddf905ced496739ded4": {
      "model_module": "ipytree",
      "model_module_version": "^0.2",
      "model_name": "NodeModel",
      "state": {
       "_id": "c997343e-dda8-4a65-af28-5fedf250d6b7",
       "_model_module_version": "^0.2",
       "_view_module_version": "^0.2",
       "icon": "file",
       "name": "02_adding_data_to_qgis.py"
      }
     },
     "d898b7a8fb484777a87ac0ffd540bd49": {
      "model_module": "@jupyter-widgets/controls",
      "model_module_version": "2.0.0",
      "model_name": "ToggleButtonStyleModel",
      "state": {
       "description_width": "",
       "font_family": null,
       "font_size": null,
       "font_style": null,
       "font_variant": null,
       "font_weight": null,
       "text_color": null,
       "text_decoration": null
      }
     },
     "d8b97caa367b45c2baf1ad27d068c53a": {
      "model_module": "@jupyter-widgets/controls",
      "model_module_version": "2.0.0",
      "model_name": "ToggleButtonStyleModel",
      "state": {
       "description_width": "",
       "font_family": null,
       "font_size": null,
       "font_style": null,
       "font_variant": null,
       "font_weight": null,
       "text_color": null,
       "text_decoration": null
      }
     },
     "d8d3083a67274b489037a6dd8a324b4e": {
      "model_module": "ipytree",
      "model_module_version": "^0.2",
      "model_name": "NodeModel",
      "state": {
       "_id": "c4552292-78ce-487c-8740-4b90ad90d7e0",
       "_model_module_version": "^0.2",
       "_view_module_version": "^0.2",
       "icon": "file",
       "name": "05_map_function.py"
      }
     },
     "d90affdad1394b72ab83c5500c176fd3": {
      "model_module": "@jupyter-widgets/controls",
      "model_module_version": "2.0.0",
      "model_name": "ToggleButtonModel",
      "state": {
       "icon": "wrench",
       "layout": "IPY_MODEL_d66a06e0a9a744bea18088091b919e78",
       "style": "IPY_MODEL_a88673d003354a739b7f4364838e7dfe",
       "tooltip": "Toolbar",
       "value": true
      }
     },
     "d962997044514c9ea40987040b472e1c": {
      "model_module": "@jupyter-widgets/controls",
      "model_module_version": "2.0.0",
      "model_name": "ToggleButtonStyleModel",
      "state": {
       "description_width": "",
       "font_family": null,
       "font_size": null,
       "font_style": null,
       "font_variant": null,
       "font_weight": null,
       "text_color": null,
       "text_decoration": null
      }
     },
     "d968f97eb58c4a3b863bc119a02f138b": {
      "model_module": "jupyter-leaflet",
      "model_module_version": "^0.18",
      "model_name": "LeafletScaleControlModel",
      "state": {
       "_model_module_version": "^0.18",
       "_view_module_version": "^0.18",
       "imperial": true,
       "max_width": 100,
       "metric": true,
       "options": [
        "imperial",
        "max_width",
        "metric",
        "position",
        "update_when_idle"
       ],
       "position": "bottomleft",
       "update_when_idle": false
      }
     },
     "d99e0792de894c4caf332a82f3f0e219": {
      "model_module": "ipytree",
      "model_module_version": "^0.2",
      "model_name": "NodeModel",
      "state": {
       "_id": "b2ec4896-c38f-4b27-85fa-af9c0c654507",
       "_model_module_version": "^0.2",
       "_view_module_version": "^0.2",
       "icon": "file",
       "name": "DeferredExecution.py"
      }
     },
     "d9aabe0c2e8146c3bb98c29126cae963": {
      "model_module": "@jupyter-widgets/controls",
      "model_module_version": "2.0.0",
      "model_name": "ToggleButtonStyleModel",
      "state": {
       "description_width": "",
       "font_family": null,
       "font_size": null,
       "font_style": null,
       "font_variant": null,
       "font_weight": null,
       "text_color": null,
       "text_decoration": null
      }
     },
     "da300fba2d1947c6a972c902571a9ade": {
      "model_module": "@jupyter-widgets/base",
      "model_module_version": "2.0.0",
      "model_name": "LayoutModel",
      "state": {
       "height": "auto",
       "padding": "0px 0px 0px 4px",
       "width": "auto"
      }
     },
     "da4e1bae214d45f1bb6a2b0286f3bfa3": {
      "model_module": "ipytree",
      "model_module_version": "^0.2",
      "model_name": "NodeModel",
      "state": {
       "_id": "52e078aa-8d69-4360-aaf7-892f7f142fe5",
       "_model_module_version": "^0.2",
       "_view_module_version": "^0.2",
       "name": "Examples",
       "nodes": [
        "IPY_MODEL_9d7541150a93438194e64abce4d4f526"
       ],
       "opened": false
      }
     },
     "da89dc0cc4c746eeaf139946783092a8": {
      "model_module": "ipytree",
      "model_module_version": "^0.2",
      "model_name": "NodeModel",
      "state": {
       "_id": "320b6a21-2877-423e-9715-2a1d68619c69",
       "_model_module_version": "^0.2",
       "_view_module_version": "^0.2",
       "icon": "file",
       "name": "us_epa_ecoregions.py"
      }
     },
     "da8ab4dbcf864391bb891d828c19fd94": {
      "model_module": "@jupyter-widgets/controls",
      "model_module_version": "2.0.0",
      "model_name": "ToggleButtonStyleModel",
      "state": {
       "description_width": "",
       "font_family": null,
       "font_size": null,
       "font_style": null,
       "font_variant": null,
       "font_weight": null,
       "text_color": null,
       "text_decoration": null
      }
     },
     "daac0502d8624e7b8e6eece6d0b28e72": {
      "model_module": "@jupyter-widgets/controls",
      "model_module_version": "2.0.0",
      "model_name": "ToggleButtonModel",
      "state": {
       "button_style": "primary",
       "icon": "map",
       "layout": "IPY_MODEL_8c967cedf399485ea4c683a793fdc46f",
       "style": "IPY_MODEL_ec5200952f104fc2ac618371648ca1cf",
       "tooltip": "Change basemap"
      }
     },
     "db2993a659f64382b862a2970538400f": {
      "model_module": "@jupyter-widgets/controls",
      "model_module_version": "2.0.0",
      "model_name": "ToggleButtonsStyleModel",
      "state": {
       "button_width": "110px",
       "description_width": ""
      }
     },
     "db2dbf7f72bd4ad0aa896c96169ee8a2": {
      "model_module": "@jupyter-widgets/base",
      "model_module_version": "2.0.0",
      "model_name": "LayoutModel",
      "state": {
       "max_height": "350px",
       "max_width": "340px",
       "overflow": "scroll"
      }
     },
     "db375214ff744a1d882c2f5fc3287997": {
      "model_module": "@jupyter-widgets/base",
      "model_module_version": "2.0.0",
      "model_name": "LayoutModel",
      "state": {
       "height": "auto",
       "padding": "0px 0px 0px 4px",
       "width": "auto"
      }
     },
     "db40189e6cd74c89b4530f5b28e99566": {
      "model_module": "jupyter-leaflet",
      "model_module_version": "^0.18",
      "model_name": "LeafletMapStyleModel",
      "state": {
       "_model_module_version": "^0.18"
      }
     },
     "db66448af9374e82a01252a66edc1600": {
      "model_module": "@jupyter-widgets/controls",
      "model_module_version": "2.0.0",
      "model_name": "ToggleButtonStyleModel",
      "state": {
       "description_width": "",
       "font_family": null,
       "font_size": null,
       "font_style": null,
       "font_variant": null,
       "font_weight": null,
       "text_color": null,
       "text_decoration": null
      }
     },
     "db7328dbb22a4acfb3fa90c465d0dbac": {
      "model_module": "@jupyter-widgets/controls",
      "model_module_version": "2.0.0",
      "model_name": "ToggleButtonStyleModel",
      "state": {
       "description_width": "",
       "font_family": null,
       "font_size": null,
       "font_style": null,
       "font_variant": null,
       "font_weight": null,
       "text_color": null,
       "text_decoration": null
      }
     },
     "dbcd047117864dff83b8f347738ae535": {
      "model_module": "ipytree",
      "model_module_version": "^0.2",
      "model_name": "NodeModel",
      "state": {
       "_id": "e5a88c87-ac20-45d3-b148-bac39c1454bb",
       "_model_module_version": "^0.2",
       "_view_module_version": "^0.2",
       "icon": "file",
       "name": "geometric_operations.py"
      }
     },
     "dbcd3f18b9184927b459dd8eb96d3ec4": {
      "model_module": "@jupyter-widgets/base",
      "model_module_version": "2.0.0",
      "model_name": "LayoutModel",
      "state": {
       "height": "auto",
       "padding": "0px 0px 0px 4px",
       "width": "auto"
      }
     },
     "dc468b4227614ecb8bc33f16161933ee": {
      "model_module": "ipytree",
      "model_module_version": "^0.2",
      "model_name": "NodeModel",
      "state": {
       "_id": "5e88362b-8bf1-4c09-8210-6d61677eb285",
       "_model_module_version": "^0.2",
       "_view_module_version": "^0.2",
       "icon": "file",
       "name": "reducing_collection.py"
      }
     },
     "dc74f6207a764fcb93b9449dd25a7005": {
      "model_module": "@jupyter-widgets/controls",
      "model_module_version": "2.0.0",
      "model_name": "ToggleButtonModel",
      "state": {
       "button_style": "primary",
       "icon": "gears",
       "layout": "IPY_MODEL_db375214ff744a1d882c2f5fc3287997",
       "style": "IPY_MODEL_42c24a45d69e4736bebf3d9a14e102ee",
       "tooltip": "WhiteboxTools for local geoprocessing"
      }
     },
     "dcdecac7683341a7ac990680a04d7131": {
      "model_module": "ipytree",
      "model_module_version": "^0.2",
      "model_name": "NodeModel",
      "state": {
       "_id": "07dacdc0-269b-4282-80ae-551590c01185",
       "_model_module_version": "^0.2",
       "_view_module_version": "^0.2",
       "icon": "file",
       "name": "color_by_attribute.py"
      }
     },
     "dcfbd4245e9441fd93c7b97c9baebc79": {
      "model_module": "@jupyter-widgets/base",
      "model_module_version": "2.0.0",
      "model_name": "LayoutModel",
      "state": {}
     },
     "dd1f7953e98d4b48bef0fb5eeb29f4ab": {
      "model_module": "ipytree",
      "model_module_version": "^0.2",
      "model_name": "NodeModel",
      "state": {
       "_id": "00c70d9f-0460-4aa9-9088-609c2283cb67",
       "_model_module_version": "^0.2",
       "_view_module_version": "^0.2",
       "name": "contrib",
       "nodes": [
        "IPY_MODEL_e3938cd6145f44acb29079271df707a2",
        "IPY_MODEL_a1183d0d5794488284dd4c6f46d2110b"
       ],
       "opened": false
      }
     },
     "dd4e6c45d0c74f339458b78c80270dde": {
      "model_module": "ipytree",
      "model_module_version": "^0.2",
      "model_name": "NodeModel",
      "state": {
       "_id": "d1945804-ccdd-4ac6-a787-a830b73b2517",
       "_model_module_version": "^0.2",
       "_view_module_version": "^0.2",
       "icon": "file",
       "name": "us_ned_physio_diversity.py"
      }
     },
     "de2507c4b8124c81a27e70cfc6ccdfe4": {
      "model_module": "ipytree",
      "model_module_version": "^0.2",
      "model_name": "NodeModel",
      "state": {
       "_id": "220fb4af-a77a-4650-9699-c91b0a7436da",
       "_model_module_version": "^0.2",
       "_view_module_version": "^0.2",
       "icon": "file",
       "name": "eigen_analysis.py"
      }
     },
     "de6489e5d2764da8b70dbcfa5e4f0c15": {
      "model_module": "ipytree",
      "model_module_version": "^0.2",
      "model_name": "NodeModel",
      "state": {
       "_id": "471244e5-efd6-498e-aa25-1911b6d59a05",
       "_model_module_version": "^0.2",
       "_view_module_version": "^0.2",
       "icon": "file",
       "name": "convert_bands_to_image_collection.py"
      }
     },
     "dec9a456abb54e9fbfac1e12bdfa9313": {
      "model_module": "ipytree",
      "model_module_version": "^0.2",
      "model_name": "NodeModel",
      "state": {
       "_id": "350ce88e-6d45-4cea-b65b-b8f62027bdf4",
       "_model_module_version": "^0.2",
       "_view_module_version": "^0.2",
       "icon": "file",
       "name": "export_vector.py"
      }
     },
     "df121ade02a348caa63fb1c9e5996afa": {
      "model_module": "ipytree",
      "model_module_version": "^0.2",
      "model_name": "NodeModel",
      "state": {
       "_id": "06d5e7ae-b6e7-4be2-93ed-b0962a921ce7",
       "_model_module_version": "^0.2",
       "_view_module_version": "^0.2",
       "icon": "file",
       "name": "save_best_joins.py"
      }
     },
     "df99507b5cfb41a1939585e9eef39a72": {
      "model_module": "ipytree",
      "model_module_version": "^0.2",
      "model_name": "NodeModel",
      "state": {
       "_id": "9b89c189-16f3-47d8-b711-244a413da546",
       "_model_module_version": "^0.2",
       "_view_module_version": "^0.2",
       "icon": "file",
       "name": "image_metadata.py"
      }
     },
     "df99d8b670cd413faed89cccc59f77c5": {
      "model_module": "@jupyter-widgets/controls",
      "model_module_version": "2.0.0",
      "model_name": "HBoxModel",
      "state": {
       "_dom_classes": [
        "geemap-light"
       ],
       "children": [
        "IPY_MODEL_598813555ca0464b8c068570470535a6",
        "IPY_MODEL_250b693a62c9446aad8e2940008be91c"
       ],
       "layout": "IPY_MODEL_f9c06b7d50f74a13a7bb436d7d4d7b4e"
      }
     },
     "dfe06e592ae2447396c1e02d7357943f": {
      "model_module": "jupyter-leaflet",
      "model_module_version": "^0.18",
      "model_name": "LeafletMapStyleModel",
      "state": {
       "_model_module_version": "^0.18"
      }
     },
     "e0440acf7bdf4608af7cbf1b42a1ab2d": {
      "model_module": "@jupyter-widgets/controls",
      "model_module_version": "2.0.0",
      "model_name": "ToggleButtonModel",
      "state": {
       "button_style": "primary",
       "icon": "question",
       "layout": "IPY_MODEL_8d1619aca85d47868010d6cff300e019",
       "style": "IPY_MODEL_b85418eb5bcb41e6b9b301902a94e342",
       "tooltip": "Get help"
      }
     },
     "e04c02d6e462424bb6cf67d6d96ed570": {
      "model_module": "@jupyter-widgets/controls",
      "model_module_version": "2.0.0",
      "model_name": "DropdownModel",
      "state": {
       "index": null,
       "layout": "IPY_MODEL_5a68c7722adf4b129b99e72756404a0b",
       "style": "IPY_MODEL_43f479a25b7a4417804a20665ead0531"
      }
     },
     "e0523792c34f4d7ebeccb96266061cb1": {
      "model_module": "@jupyter-widgets/controls",
      "model_module_version": "2.0.0",
      "model_name": "HBoxModel",
      "state": {
       "children": [
        "IPY_MODEL_e48461361e17407392d9a2f4f47093ea",
        "IPY_MODEL_f2ef35b48094472e945e9d25cec23199"
       ],
       "layout": "IPY_MODEL_029551208b2e4fefb2de270eef5702a8"
      }
     },
     "e0535307c6a746d2a92937ac68a800bc": {
      "model_module": "ipytree",
      "model_module_version": "^0.2",
      "model_name": "NodeModel",
      "state": {
       "_id": "195188f7-d6d3-4d66-813c-61598646323c",
       "_model_module_version": "^0.2",
       "_view_module_version": "^0.2",
       "icon": "file",
       "name": "jrc_monthly_recurrence.py"
      }
     },
     "e05cbab470f64b20be53e6be547b05b5": {
      "model_module": "@jupyter-widgets/base",
      "model_module_version": "2.0.0",
      "model_name": "LayoutModel",
      "state": {
       "height": "auto",
       "padding": "0px 0px 0px 4px",
       "width": "auto"
      }
     },
     "e08c2bc333554d39be2becac83dae488": {
      "model_module": "ipytree",
      "model_module_version": "^0.2",
      "model_name": "NodeModel",
      "state": {
       "_id": "9fec1855-b63d-4745-bacd-512cd4f42789",
       "_model_module_version": "^0.2",
       "_view_module_version": "^0.2",
       "icon": "file",
       "name": "computed_area_filter.py"
      }
     },
     "e0c8ddb56a3e4883b70b19060022fc34": {
      "model_module": "@jupyter-widgets/base",
      "model_module_version": "2.0.0",
      "model_name": "LayoutModel",
      "state": {
       "height": "auto",
       "padding": "0px 0px 0px 4px",
       "width": "auto"
      }
     },
     "e0ebdace1ef2424681ac305dd7f028e7": {
      "model_module": "@jupyter-widgets/controls",
      "model_module_version": "2.0.0",
      "model_name": "ToggleButtonStyleModel",
      "state": {
       "description_width": "",
       "font_family": null,
       "font_size": null,
       "font_style": null,
       "font_variant": null,
       "font_weight": null,
       "text_color": null,
       "text_decoration": null
      }
     },
     "e0f6be72d5b04fe9b82ca16957784fa3": {
      "model_module": "@jupyter-widgets/controls",
      "model_module_version": "2.0.0",
      "model_name": "ToggleButtonStyleModel",
      "state": {
       "description_width": "",
       "font_family": null,
       "font_size": null,
       "font_style": null,
       "font_variant": null,
       "font_weight": null,
       "text_color": null,
       "text_decoration": null
      }
     },
     "e0fd317856894f4e99a552d5a45cc596": {
      "model_module": "@jupyter-widgets/base",
      "model_module_version": "2.0.0",
      "model_name": "LayoutModel",
      "state": {
       "width": "340px"
      }
     },
     "e18037aff9444d9fa60cd30e509eac3f": {
      "model_module": "@jupyter-widgets/base",
      "model_module_version": "2.0.0",
      "model_name": "LayoutModel",
      "state": {}
     },
     "e18f54d3e41341c7b32d25d367efd6c0": {
      "model_module": "@jupyter-widgets/controls",
      "model_module_version": "2.0.0",
      "model_name": "VBoxModel",
      "state": {
       "children": [
        "IPY_MODEL_4e11dcea17334ec7a9c5cdb4b18999fb",
        "IPY_MODEL_3740cb2179644a868e27c2a5ad13f231"
       ],
       "layout": "IPY_MODEL_5cf1bfef035d427686244b48362c53cd"
      }
     },
     "e1f0dd4f690541078df5c1306f279382": {
      "model_module": "@jupyter-widgets/controls",
      "model_module_version": "2.0.0",
      "model_name": "ToggleButtonStyleModel",
      "state": {
       "description_width": "",
       "font_family": null,
       "font_size": null,
       "font_style": null,
       "font_variant": null,
       "font_weight": null,
       "text_color": null,
       "text_decoration": null
      }
     },
     "e1f4feb2157a40558bd171973bee0933": {
      "model_module": "jupyter-leaflet",
      "model_module_version": "^0.18",
      "model_name": "LeafletMapModel",
      "state": {
       "_model_module_version": "^0.18",
       "_view_module_version": "^0.18",
       "controls": [
        "IPY_MODEL_124c18c85ea140dead49c786d4bf829c",
        "IPY_MODEL_929de0b68ffe4e139cd2c25048865991",
        "IPY_MODEL_75a1bf1fff0945bc9b4b394a8ccfa4cc",
        "IPY_MODEL_57002430af954e0084159953d02affac",
        "IPY_MODEL_1851559926b549159c3807b1a8339a19",
        "IPY_MODEL_18a3a98e4092421f9cd66d5d37eadbe9",
        "IPY_MODEL_94e8476cdf3a44e69eda3ef20b5726e3",
        "IPY_MODEL_e3f4b18f61a145e8a11ab17f538df403"
       ],
       "default_style": "IPY_MODEL_4573a325a74c464d84e474c8b3ff58e8",
       "dragging_style": "IPY_MODEL_095b63af64594778a999688815bce219",
       "fullscreen": false,
       "interpolation": "bilinear",
       "layers": [
        "IPY_MODEL_f4157149150f4e76842e7bbd3ddae249",
        "IPY_MODEL_b377ba9dfc564d83bed4422dc756420d"
       ],
       "layout": "IPY_MODEL_21141aa78c5c46c19a44aaa9d11221f3",
       "max_zoom": 24,
       "modisdate": "2024-03-07",
       "options": [
        "bounce_at_zoom_limits",
        "box_zoom",
        "center",
        "close_popup_on_click",
        "double_click_zoom",
        "dragging",
        "fullscreen",
        "inertia",
        "inertia_deceleration",
        "inertia_max_speed",
        "interpolation",
        "keyboard",
        "keyboard_pan_offset",
        "keyboard_zoom_offset",
        "max_zoom",
        "min_zoom",
        "prefer_canvas",
        "scroll_wheel_zoom",
        "tap",
        "tap_tolerance",
        "touch_zoom",
        "world_copy_jump",
        "zoom",
        "zoom_animation_threshold",
        "zoom_delta",
        "zoom_snap"
       ],
       "prefer_canvas": false,
       "scroll_wheel_zoom": true,
       "style": "IPY_MODEL_db40189e6cd74c89b4530f5b28e99566",
       "window_url": "http://localhost:8888/lab",
       "zoom": 2
      }
     },
     "e22b51d732064012a6f95fb2aca75a4b": {
      "model_module": "@jupyter-widgets/controls",
      "model_module_version": "2.0.0",
      "model_name": "ToggleButtonStyleModel",
      "state": {
       "description_width": "",
       "font_family": null,
       "font_size": null,
       "font_style": null,
       "font_variant": null,
       "font_weight": null,
       "text_color": null,
       "text_decoration": null
      }
     },
     "e25900e604414e2d8fbe90caca257da4": {
      "model_module": "@jupyter-widgets/base",
      "model_module_version": "2.0.0",
      "model_name": "LayoutModel",
      "state": {
       "height": "auto",
       "padding": "0px 0px 0px 4px",
       "width": "auto"
      }
     },
     "e25f7911a4b74d79821872a32b0cb906": {
      "model_module": "@jupyter-widgets/controls",
      "model_module_version": "2.0.0",
      "model_name": "ButtonStyleModel",
      "state": {
       "font_family": null,
       "font_size": null,
       "font_style": null,
       "font_variant": null,
       "font_weight": null,
       "text_color": null,
       "text_decoration": null
      }
     },
     "e2efe60c3c8b444e88a3c0921a1e17f9": {
      "model_module": "ipytree",
      "model_module_version": "^0.2",
      "model_name": "NodeModel",
      "state": {
       "_id": "e2b98115-c2ff-42a8-b424-db3b50d4b8f9",
       "_model_module_version": "^0.2",
       "_view_module_version": "^0.2",
       "icon": "file",
       "name": "filter_eq.py"
      }
     },
     "e2f4575fc97144f6be7a2aa89e14d7f5": {
      "model_module": "@jupyter-widgets/controls",
      "model_module_version": "2.0.0",
      "model_name": "HTMLModel",
      "state": {
       "layout": "IPY_MODEL_3b63f20994334aaf95b58bd1de09a032",
       "style": "IPY_MODEL_f38a2d29ec9145d5b4d563527a76e671"
      }
     },
     "e30d651cdbad4262807dad1fd2cddf4b": {
      "model_module": "ipytree",
      "model_module_version": "^0.2",
      "model_name": "NodeModel",
      "state": {
       "_id": "37cbf7fe-d964-44f8-a107-8222b7b04664",
       "_model_module_version": "^0.2",
       "_view_module_version": "^0.2",
       "icon": "file",
       "name": "filter_string_contains.py"
      }
     },
     "e33ada06bf894d1cbfb30acdeccb9129": {
      "model_module": "ipytree",
      "model_module_version": "^0.2",
      "model_name": "NodeModel",
      "state": {
       "_id": "201bdfaf-6d3e-4f57-9c99-30e9ec720cf9",
       "_model_module_version": "^0.2",
       "_view_module_version": "^0.2",
       "icon": "file",
       "name": "array_images.py"
      }
     },
     "e3842a749c764ac28ad0f2dc945c2df5": {
      "model_module": "@jupyter-widgets/controls",
      "model_module_version": "2.0.0",
      "model_name": "ButtonStyleModel",
      "state": {
       "font_family": null,
       "font_size": null,
       "font_style": null,
       "font_variant": null,
       "font_weight": null,
       "text_color": null,
       "text_decoration": null
      }
     },
     "e3938cd6145f44acb29079271df707a2": {
      "model_module": "ipytree",
      "model_module_version": "^0.2",
      "model_name": "NodeModel",
      "state": {
       "_id": "f9c818c0-7d4f-48c4-8818-edf15d861e01",
       "_model_module_version": "^0.2",
       "_view_module_version": "^0.2",
       "icon": "file",
       "name": "palettes-test-crameri-dem.py"
      }
     },
     "e3a3211a99be4a4489014ff24676c440": {
      "model_module": "ipytree",
      "model_module_version": "^0.2",
      "model_name": "NodeModel",
      "state": {
       "_id": "a1f86afe-2348-4aa2-b8db-147e7fc8eee3",
       "_model_module_version": "^0.2",
       "_view_module_version": "^0.2",
       "icon": "file",
       "name": "us_census_datasets.py"
      }
     },
     "e3f4b18f61a145e8a11ab17f538df403": {
      "model_module": "jupyter-leaflet",
      "model_module_version": "^0.18",
      "model_name": "LeafletAttributionControlModel",
      "state": {
       "_model_module_version": "^0.18",
       "_view_module_version": "^0.18",
       "options": [
        "position",
        "prefix"
       ],
       "position": "bottomright",
       "prefix": "ipyleaflet"
      }
     },
     "e419089cf6eb466cbdaa1624ef7d93a6": {
      "model_module": "ipytree",
      "model_module_version": "^0.2",
      "model_name": "NodeModel",
      "state": {
       "_id": "0b0a8d5a-467e-4ac6-ae9b-50d2984f6b20",
       "_model_module_version": "^0.2",
       "_view_module_version": "^0.2",
       "icon": "file",
       "name": "clipping.py"
      }
     },
     "e42111178fbb4a7da9144d197081c128": {
      "model_module": "ipytree",
      "model_module_version": "^0.2",
      "model_name": "NodeModel",
      "state": {
       "_id": "7c475217-542b-4ec6-add8-57903409d265",
       "_model_module_version": "^0.2",
       "_view_module_version": "^0.2",
       "icon": "file",
       "name": "export_ImageCollection.py"
      }
     },
     "e43a3385f1e544a4ab73d8589c915843": {
      "model_module": "jupyter-leaflet",
      "model_module_version": "^0.18",
      "model_name": "LeafletTileLayerModel",
      "state": {
       "_model_module_version": "^0.18",
       "_view_module_version": "^0.18",
       "attribution": "&copy; <a href=\"https://www.openstreetmap.org/copyright\">OpenStreetMap</a> contributors",
       "base": true,
       "max_zoom": 19,
       "min_zoom": 1,
       "name": "OpenStreetMap.Mapnik",
       "options": [
        "attribution",
        "bounds",
        "detect_retina",
        "max_native_zoom",
        "max_zoom",
        "min_native_zoom",
        "min_zoom",
        "no_wrap",
        "tile_size",
        "tms",
        "zoom_offset"
       ],
       "url": "https://tile.openstreetmap.org/{z}/{x}/{y}.png"
      }
     },
     "e48461361e17407392d9a2f4f47093ea": {
      "model_module": "@jupyter-widgets/controls",
      "model_module_version": "2.0.0",
      "model_name": "ToggleButtonModel",
      "state": {
       "icon": "server",
       "layout": "IPY_MODEL_853347be39e441198b7619dd9ab0b3ce",
       "style": "IPY_MODEL_b2d075230c1c4cb2abfda2e564a193ab",
       "tooltip": "Layers"
      }
     },
     "e486e2df6f1b4efc9ced4397670a732f": {
      "model_module": "jupyter-leaflet",
      "model_module_version": "^0.18",
      "model_name": "LeafletTileLayerModel",
      "state": {
       "_model_module_version": "^0.18",
       "_view_module_version": "^0.18",
       "attribution": "&copy; <a href=\"https://www.openstreetmap.org/copyright\">OpenStreetMap</a> contributors",
       "base": true,
       "max_zoom": 19,
       "min_zoom": 1,
       "name": "OpenStreetMap.Mapnik",
       "options": [
        "attribution",
        "bounds",
        "detect_retina",
        "max_native_zoom",
        "max_zoom",
        "min_native_zoom",
        "min_zoom",
        "no_wrap",
        "tile_size",
        "tms",
        "zoom_offset"
       ],
       "url": "https://tile.openstreetmap.org/{z}/{x}/{y}.png"
      }
     },
     "e50ee3419d6149ed84bf466f8f2b21e7": {
      "model_module": "@jupyter-widgets/base",
      "model_module_version": "2.0.0",
      "model_name": "LayoutModel",
      "state": {
       "width": "340px"
      }
     },
     "e5229e2b33a144abbfa9209600a1123a": {
      "model_module": "@jupyter-widgets/controls",
      "model_module_version": "2.0.0",
      "model_name": "VBoxModel",
      "state": {
       "_dom_classes": [
        "geemap-light"
       ],
       "_view_count": 1,
       "children": [
        "IPY_MODEL_9fcb391d74354668b912644baf648d0c",
        "IPY_MODEL_97d99e84776d40efb3750d1a700db3ce"
       ],
       "layout": "IPY_MODEL_efaeec574fc64e74bde2d87e212a582a"
      }
     },
     "e58bd8ceefca4137bf3000c9b62374bc": {
      "model_module": "@jupyter-widgets/controls",
      "model_module_version": "2.0.0",
      "model_name": "ToggleButtonModel",
      "state": {
       "button_style": "primary",
       "icon": "eraser",
       "layout": "IPY_MODEL_95df91786dff4d2383d61c6fd688577c",
       "style": "IPY_MODEL_da8ab4dbcf864391bb891d828c19fd94",
       "tooltip": "Remove all drawn features"
      }
     },
     "e594fcd89809480f811036bd8f7335d8": {
      "model_module": "ipytree",
      "model_module_version": "^0.2",
      "model_name": "NodeModel",
      "state": {
       "_id": "55a1b241-ceb3-488f-8c8b-1288e67d6f87",
       "_model_module_version": "^0.2",
       "_view_module_version": "^0.2",
       "icon": "file",
       "name": "image_rgb_composite.py"
      }
     },
     "e5ad61d5166f41d5952530fe6da4b022": {
      "model_module": "ipytree",
      "model_module_version": "^0.2",
      "model_name": "NodeModel",
      "state": {
       "_id": "4bc07977-3194-4077-bd18-97b6ac092354",
       "_model_module_version": "^0.2",
       "_view_module_version": "^0.2",
       "name": "Terrain",
       "nodes": [
        "IPY_MODEL_c6a2c14acc5b41e295fee1e1c25d0705",
        "IPY_MODEL_6b7ea916331d49ab9c5a56e23a356d02",
        "IPY_MODEL_6504aff55eb84a9ca1a0d28219f59d35",
        "IPY_MODEL_ca09a59076d348909f279edfb6b30b1e",
        "IPY_MODEL_f94ea3c75d634ce8a6a48de86f1caf96",
        "IPY_MODEL_9d775c1b5d344ed28748393e6ed8d4fe",
        "IPY_MODEL_8332f3f3f75e4e5b8e1159b5d2e81fa5",
        "IPY_MODEL_8ef942c0b4824f7087c39fae1d5c79dc",
        "IPY_MODEL_62ae93c23908448cb016910bacadcf7d",
        "IPY_MODEL_16f6f9529b6b468a8065e71ca16bfd33",
        "IPY_MODEL_b526b59e534f4c38ba20239371e50fab",
        "IPY_MODEL_142d138017d742d2a46c23c6610e8a2c",
        "IPY_MODEL_13fcdd5cecfd437c8c424059a0a0987b",
        "IPY_MODEL_e6cc881e97ad4d5a8fc6796201d4a4ef",
        "IPY_MODEL_13fa5541380a43f686974606e478046c",
        "IPY_MODEL_4a521655e9d34f43b5df60b44c9a3d7d",
        "IPY_MODEL_fc42c84499b44aaab0ed8e717bf08c8f",
        "IPY_MODEL_dd4e6c45d0c74f339458b78c80270dde",
        "IPY_MODEL_5e493ce179924df697131b161bed9d65",
        "IPY_MODEL_9f3d63957c2440359d79eb16fe279d9e"
       ],
       "opened": false
      }
     },
     "e5f0aca93aba447cab0b09dc3ce2ebf1": {
      "model_module": "ipytree",
      "model_module_version": "^0.2",
      "model_name": "NodeModel",
      "state": {
       "_id": "7169c0ba-1d95-4c29-b8e6-37a10181399a",
       "_model_module_version": "^0.2",
       "_view_module_version": "^0.2",
       "icon": "file",
       "name": "column_info.py"
      }
     },
     "e61e4e6ca9f84317b92f93284043cc38": {
      "model_module": "ipytree",
      "model_module_version": "^0.2",
      "model_name": "NodeModel",
      "state": {
       "_id": "aa15113e-ee93-4edf-a2e5-bc4c8b11f658",
       "_model_module_version": "^0.2",
       "_view_module_version": "^0.2",
       "icon": "file",
       "name": "export_raster.py"
      }
     },
     "e6b7ec826ed54be685ca783da59260dc": {
      "model_module": "@jupyter-widgets/controls",
      "model_module_version": "2.0.0",
      "model_name": "ToggleButtonStyleModel",
      "state": {
       "description_width": "",
       "font_family": null,
       "font_size": null,
       "font_style": null,
       "font_variant": null,
       "font_weight": null,
       "text_color": null,
       "text_decoration": null
      }
     },
     "e6cc881e97ad4d5a8fc6796201d4a4ef": {
      "model_module": "ipytree",
      "model_module_version": "^0.2",
      "model_name": "NodeModel",
      "state": {
       "_id": "816cb607-4df0-4f3d-ad18-dd6281df5332",
       "_model_module_version": "^0.2",
       "_view_module_version": "^0.2",
       "icon": "file",
       "name": "us_ned.py"
      }
     },
     "e789f02176cc4329a9c0d3a190b13044": {
      "model_module": "@jupyter-widgets/base",
      "model_module_version": "2.0.0",
      "model_name": "LayoutModel",
      "state": {}
     },
     "e7c12c31da734229831748840197067f": {
      "model_module": "@jupyter-widgets/controls",
      "model_module_version": "2.0.0",
      "model_name": "ToggleButtonStyleModel",
      "state": {
       "description_width": "",
       "font_family": null,
       "font_size": null,
       "font_style": null,
       "font_variant": null,
       "font_weight": null,
       "text_color": null,
       "text_decoration": null
      }
     },
     "e812510d490f40529f8c30d2e5790c0d": {
      "model_module": "@jupyter-widgets/controls",
      "model_module_version": "2.0.0",
      "model_name": "ToggleButtonModel",
      "state": {
       "button_style": "primary",
       "icon": "eraser",
       "layout": "IPY_MODEL_2901a14d157741169ee42a8b1b1428d3",
       "style": "IPY_MODEL_eaad633adc994081ba0f1908f477db52",
       "tooltip": "Remove all drawn features"
      }
     },
     "e818dc5409204405be1bab86d21850dd": {
      "model_module": "@jupyter-widgets/controls",
      "model_module_version": "2.0.0",
      "model_name": "ToggleButtonModel",
      "state": {
       "button_style": "primary",
       "icon": "info",
       "layout": "IPY_MODEL_8b42190eeba54517aaddc5f8571cad28",
       "style": "IPY_MODEL_d8b97caa367b45c2baf1ad27d068c53a",
       "tooltip": "Inspector"
      }
     },
     "e81ee0b7ad44435cabb515d028c8a591": {
      "model_module": "@jupyter-widgets/controls",
      "model_module_version": "2.0.0",
      "model_name": "ToggleButtonModel",
      "state": {
       "button_style": "primary",
       "icon": "info",
       "layout": "IPY_MODEL_72e0cba39ac8413ca76a267c06424f98",
       "style": "IPY_MODEL_b188e4624d0f41f098ad4750b1b30233",
       "tooltip": "Inspector"
      }
     },
     "e84b6faddcd94c38a31a5258145fa6cf": {
      "model_module": "@jupyter-widgets/base",
      "model_module_version": "2.0.0",
      "model_name": "LayoutModel",
      "state": {}
     },
     "e8663d5eaa4e491ea681ccc0bcb2295d": {
      "model_module": "@jupyter-widgets/controls",
      "model_module_version": "2.0.0",
      "model_name": "RadioButtonsModel",
      "state": {
       "index": null,
       "layout": "IPY_MODEL_04dea76a538b49558c526941f7817b3e",
       "style": "IPY_MODEL_c0a8342556c646f4bbb97eff2feb71a6"
      }
     },
     "e941f5fa7b654f02b711bce9953e2a94": {
      "model_module": "ipytree",
      "model_module_version": "^0.2",
      "model_name": "NodeModel",
      "state": {
       "_id": "3d21b876-01c9-471b-b110-e717b85c7057",
       "_model_module_version": "^0.2",
       "_view_module_version": "^0.2",
       "icon": "file",
       "name": "from_ee_asset.py"
      }
     },
     "e94f8ba84b5c4391bd91440a8f30835f": {
      "model_module": "@jupyter-widgets/base",
      "model_module_version": "2.0.0",
      "model_name": "LayoutModel",
      "state": {}
     },
     "e9b5efa8970a496eb7ea3624346ca88d": {
      "model_module": "@jupyter-widgets/base",
      "model_module_version": "2.0.0",
      "model_name": "LayoutModel",
      "state": {
       "height": "auto",
       "padding": "0px 0px 0px 4px",
       "width": "auto"
      }
     },
     "ea8bd4bc874c4f1fb0f1953dbda611e3": {
      "model_module": "@jupyter-widgets/base",
      "model_module_version": "2.0.0",
      "model_name": "LayoutModel",
      "state": {}
     },
     "eaad633adc994081ba0f1908f477db52": {
      "model_module": "@jupyter-widgets/controls",
      "model_module_version": "2.0.0",
      "model_name": "ToggleButtonStyleModel",
      "state": {
       "description_width": "",
       "font_family": null,
       "font_size": null,
       "font_style": null,
       "font_variant": null,
       "font_weight": null,
       "text_color": null,
       "text_decoration": null
      }
     },
     "eac39daf16c44dfc89fa45a928e27716": {
      "model_module": "@jupyter-widgets/base",
      "model_module_version": "2.0.0",
      "model_name": "LayoutModel",
      "state": {}
     },
     "eb0c900c9e5247ffa1074cd0c9b5ed12": {
      "model_module": "@jupyter-widgets/controls",
      "model_module_version": "2.0.0",
      "model_name": "HBoxModel",
      "state": {
       "_dom_classes": [
        "geemap-light"
       ],
       "children": [
        "IPY_MODEL_899ba498885041eeaf233fb22e51886e",
        "IPY_MODEL_6ee9d519b83742419bf2da7dfbadf2d6"
       ],
       "layout": "IPY_MODEL_0fbdd9fe8b6248dc8ae3e016b51f32ff"
      }
     },
     "eb2ee60c20474335954df73d9d2a2c45": {
      "model_module": "@jupyter-widgets/controls",
      "model_module_version": "2.0.0",
      "model_name": "TextStyleModel",
      "state": {
       "description_width": "",
       "font_size": null,
       "text_color": null
      }
     },
     "eb341745620141adb5762bf57b5e96ed": {
      "model_module": "@jupyter-widgets/base",
      "model_module_version": "2.0.0",
      "model_name": "LayoutModel",
      "state": {
       "height": "auto",
       "padding": "0px 0px 0px 4px",
       "width": "auto"
      }
     },
     "ec3a80d2730c4dd5a723daa7f0c9deaa": {
      "model_module": "ipytree",
      "model_module_version": "^0.2",
      "model_name": "NodeModel",
      "state": {
       "_id": "be7e2203-3963-4471-8834-d0629db25d97",
       "_model_module_version": "^0.2",
       "_view_module_version": "^0.2",
       "icon": "file",
       "name": "landsat8_toa_reflectance_qa_band.py"
      }
     },
     "ec40d501532c4194b48e940ac08a05d6": {
      "model_module": "ipytree",
      "model_module_version": "^0.2",
      "model_name": "NodeModel",
      "state": {
       "_id": "29912afb-41e6-4a8b-833e-d96a1db52954",
       "_model_module_version": "^0.2",
       "_view_module_version": "^0.2",
       "icon": "file",
       "name": "landsat_radiance.py"
      }
     },
     "ec5200952f104fc2ac618371648ca1cf": {
      "model_module": "@jupyter-widgets/controls",
      "model_module_version": "2.0.0",
      "model_name": "ToggleButtonStyleModel",
      "state": {
       "description_width": "",
       "font_family": null,
       "font_size": null,
       "font_style": null,
       "font_variant": null,
       "font_weight": null,
       "text_color": null,
       "text_decoration": null
      }
     },
     "ecabbe7915b2408084e67349952223b0": {
      "model_module": "@jupyter-widgets/controls",
      "model_module_version": "2.0.0",
      "model_name": "GridBoxModel",
      "state": {
       "children": [
        "IPY_MODEL_e818dc5409204405be1bab86d21850dd",
        "IPY_MODEL_899cbbf1eeed4162b5695231c68e9caf",
        "IPY_MODEL_c300709bbb194095862a1d9df5e8e9b3",
        "IPY_MODEL_af690e4a48914f6286130cc002916dc6",
        "IPY_MODEL_573a6bf51c3c4ceda048cda32232e205",
        "IPY_MODEL_f787ef5fa4de4098bc2bf2d960fc8e8e"
       ],
       "layout": "IPY_MODEL_7b949bb22f134e07b3ec45aae773f6b8"
      }
     },
     "ecafcb543f07484cb7e96555cec43d0f": {
      "model_module": "@jupyter-widgets/base",
      "model_module_version": "2.0.0",
      "model_name": "LayoutModel",
      "state": {
       "max_height": "350px",
       "max_width": "340px",
       "overflow": "scroll"
      }
     },
     "ecf18e2c1ec54b67bab0dde56bd07309": {
      "model_module": "ipytree",
      "model_module_version": "^0.2",
      "model_name": "NodeModel",
      "state": {
       "_id": "fdb54327-695a-4be0-9d8d-e18057255188",
       "_model_module_version": "^0.2",
       "_view_module_version": "^0.2",
       "icon": "file",
       "name": "jrc_global_surface_water.py"
      }
     },
     "ed14a1998bd04a2581a04d940aa8d5df": {
      "model_module": "@jupyter-widgets/controls",
      "model_module_version": "2.0.0",
      "model_name": "ToggleButtonModel",
      "state": {
       "button_style": "primary",
       "icon": "line-chart",
       "layout": "IPY_MODEL_38f47b2e57ab4537adb3a2a1885b94c2",
       "style": "IPY_MODEL_e22b51d732064012a6f95fb2aca75a4b",
       "tooltip": "Creating and plotting transects"
      }
     },
     "ed20987bb1df49cca49843f817ab19a2": {
      "model_module": "jupyter-leaflet",
      "model_module_version": "^0.18",
      "model_name": "LeafletMeasureControlModel",
      "state": {
       "_model_module_version": "^0.18",
       "_view_module_version": "^0.18",
       "active_color": "orange",
       "options": [
        "active_color",
        "capture_z_index",
        "completed_color",
        "popup_options",
        "position",
        "primary_area_unit",
        "primary_length_unit",
        "secondary_area_unit",
        "secondary_length_unit"
       ],
       "position": "bottomleft",
       "primary_length_unit": "kilometers",
       "secondary_area_unit": null,
       "secondary_length_unit": null
      }
     },
     "ed579115cb3a446d85541917d2ccd6e9": {
      "model_module": "@jupyter-widgets/controls",
      "model_module_version": "2.0.0",
      "model_name": "ToggleButtonModel",
      "state": {
       "button_style": "primary",
       "icon": "fast-forward",
       "layout": "IPY_MODEL_2ddc782073b5421593a307867998ce14",
       "style": "IPY_MODEL_b66fcac531a7407d83f118684f398290",
       "tooltip": "Activate timeslider"
      }
     },
     "ed5ce2665a1b40b1bb963b47c0cb89e5": {
      "model_module": "@jupyter-widgets/base",
      "model_module_version": "2.0.0",
      "model_name": "LayoutModel",
      "state": {
       "min_width": "400px"
      }
     },
     "ed8b23962c2d48e7ae860d936465931d": {
      "model_module": "ipytree",
      "model_module_version": "^0.2",
      "model_name": "NodeModel",
      "state": {
       "_id": "abacf80e-8b06-4621-b683-f0cc173f241b",
       "_model_module_version": "^0.2",
       "_view_module_version": "^0.2",
       "icon": "file",
       "name": "ntl_linear_fit.py"
      }
     },
     "ed946fd5e2b84d69b01648277228d82f": {
      "model_module": "@jupyter-widgets/base",
      "model_module_version": "2.0.0",
      "model_name": "LayoutModel",
      "state": {
       "height": "auto",
       "padding": "0px 0px 0px 4px",
       "width": "auto"
      }
     },
     "eddde11895c14d009cae319246c1425b": {
      "model_module": "ipytree",
      "model_module_version": "^0.2",
      "model_name": "NodeModel",
      "state": {
       "_id": "9cc85439-6e71-43fd-a455-2c23d6d8f29d",
       "_model_module_version": "^0.2",
       "_view_module_version": "^0.2",
       "icon": "file",
       "name": "metadata.py"
      }
     },
     "ede7a9ea97454cd0ab1729fb1191fa4e": {
      "model_module": "@jupyter-widgets/controls",
      "model_module_version": "2.0.0",
      "model_name": "ToggleButtonModel",
      "state": {
       "icon": "globe",
       "layout": "IPY_MODEL_07ef005622224fe8bfa06357eca0c59d",
       "style": "IPY_MODEL_f66f51997ba247f1b16f91a11f43c24f",
       "tooltip": "Search location/data"
      }
     },
     "edf5f181d6f54b8fb1d767cc1228c51d": {
      "model_module": "@jupyter-widgets/base",
      "model_module_version": "2.0.0",
      "model_name": "LayoutModel",
      "state": {
       "height": "auto",
       "padding": "0px 0px 0px 4px",
       "width": "auto"
      }
     },
     "edfb853837c34a568d4ae34b21d3c3d7": {
      "model_module": "@jupyter-widgets/controls",
      "model_module_version": "2.0.0",
      "model_name": "ToggleButtonStyleModel",
      "state": {
       "description_width": "",
       "font_family": null,
       "font_size": null,
       "font_style": null,
       "font_variant": null,
       "font_weight": null,
       "text_color": null,
       "text_decoration": null
      }
     },
     "ee889ddd0dd047609fa12b62ea1db6f4": {
      "model_module": "@jupyter-widgets/controls",
      "model_module_version": "2.0.0",
      "model_name": "ButtonModel",
      "state": {
       "button_style": "primary",
       "description": "import",
       "layout": "IPY_MODEL_695d6ee57f21461b8941ac8685b4ee9a",
       "style": "IPY_MODEL_a579c3e0fcb44de38675d3c560f48224",
       "tooltip": "Click to import the selected asset"
      }
     },
     "eec22c208e224bd58dd4fd7ea98e4605": {
      "model_module": "@jupyter-widgets/controls",
      "model_module_version": "2.0.0",
      "model_name": "RadioButtonsModel",
      "state": {
       "index": null,
       "layout": "IPY_MODEL_1387f261db64413788f93b5f0b4107ac",
       "style": "IPY_MODEL_cc002a63efee4d42bf537fab590b6485"
      }
     },
     "eec6f57c23234c648d4d5bcd06467a92": {
      "model_module": "ipytree",
      "model_module_version": "^0.2",
      "model_name": "NodeModel",
      "state": {
       "_id": "456d4c2c-d350-4da2-9d25-08244fa5eed5",
       "_model_module_version": "^0.2",
       "_view_module_version": "^0.2",
       "name": "FeatureCollection",
       "nodes": [
        "IPY_MODEL_21a8856e7e914dac947de765c9da9f87",
        "IPY_MODEL_b8e31c66ac9546a3a8ad9b810fad8b14",
        "IPY_MODEL_8e496de3691a4f22b1a4e8145ecd6ff9",
        "IPY_MODEL_2b952d80cd8b40bfae55e57dad92911d",
        "IPY_MODEL_314d03999ce3476e8370f0ef486195ca",
        "IPY_MODEL_e419089cf6eb466cbdaa1624ef7d93a6",
        "IPY_MODEL_e5f0aca93aba447cab0b09dc3ce2ebf1",
        "IPY_MODEL_5c1b65ea7cb94a8bafb36eb5d609cc18",
        "IPY_MODEL_1eb2088fe1544de4848f62c9f6446f33",
        "IPY_MODEL_8461b38fc2014c21b6d437713f408914",
        "IPY_MODEL_e08c2bc333554d39be2becac83dae488",
        "IPY_MODEL_8bdde5e49cb24091b9b1a2067f521036",
        "IPY_MODEL_729d62fc814e405483bbf4df6c6cccea",
        "IPY_MODEL_80a1af3c79014600ae07d69088115697",
        "IPY_MODEL_634f767cca634dcda06cf02344393c94",
        "IPY_MODEL_96f4cbfc36d441ff8ae2f1fefb4c2420",
        "IPY_MODEL_d3146f55cc524632bbf38157de4e17d9",
        "IPY_MODEL_e941f5fa7b654f02b711bce9953e2a94",
        "IPY_MODEL_c1bcf78eed7e40abb1bc2346617ce63d",
        "IPY_MODEL_dbcd047117864dff83b8f347738ae535",
        "IPY_MODEL_be6bcfb37f1d436882d906ad97648862",
        "IPY_MODEL_5965efa6e1f14e828b26ecdfdf11ab3e",
        "IPY_MODEL_875b6206709b4e98bcd127f1c1462944",
        "IPY_MODEL_d7887c5d88e54e6dae656897fd974d4a",
        "IPY_MODEL_9651e8df6f10400e856ae7ae4534e330",
        "IPY_MODEL_5966135cd30e4d9baa1dd5eacb0fb03b",
        "IPY_MODEL_8961f883ba3f4f2db1707848d93fe19b",
        "IPY_MODEL_209f8e8141204aa9a65ed7bcb53161aa",
        "IPY_MODEL_4851b80d5bfe49edad40f0653274fde1",
        "IPY_MODEL_97d5409417884733b847c4a68ada3398",
        "IPY_MODEL_0623b0915c474255bff8f6fd59d57729",
        "IPY_MODEL_650aa7692547403ea01a5d47a35d2ce6",
        "IPY_MODEL_ff151b8a19734d60a7bcbd171b45bca5",
        "IPY_MODEL_8e221c5982884679988837dbc1b43bdf",
        "IPY_MODEL_4aa168f93b8c4cb4bc035f37e12b6887",
        "IPY_MODEL_f0bdbb21468544ab9cbe2e5fcd8a1dba",
        "IPY_MODEL_34175d54827942d9910ef85250fb32d4",
        "IPY_MODEL_ba9d3705174046329abb3adfe815d07a",
        "IPY_MODEL_4219de05272044f99ecd0055d277f1f0"
       ],
       "opened": false
      }
     },
     "eee6ac85d98e479b90401a21d20a430e": {
      "model_module": "@jupyter-widgets/controls",
      "model_module_version": "2.0.0",
      "model_name": "ToggleButtonModel",
      "state": {
       "button_style": "primary",
       "icon": "adjust",
       "layout": "IPY_MODEL_9c437361cb234a2c84973f2796e1b201",
       "style": "IPY_MODEL_65bec88e23a24ea89ef6458ff9889c3d",
       "tooltip": "Planet imagery"
      }
     },
     "ef560944755446fc8de843c268779e69": {
      "model_module": "@jupyter-widgets/controls",
      "model_module_version": "2.0.0",
      "model_name": "HBoxModel",
      "state": {
       "children": [
        "IPY_MODEL_734e6ab86a634d1ca7b351d1c4694a3e",
        "IPY_MODEL_cd944cb75d7e419f90feb7dffbd82edd"
       ],
       "layout": "IPY_MODEL_99684000804b4c10a88e201bf252df8e"
      }
     },
     "ef5ecb7ff60f4fe4a8c11ba38d88e2b6": {
      "model_module": "@jupyter-widgets/base",
      "model_module_version": "2.0.0",
      "model_name": "LayoutModel",
      "state": {
       "height": "auto",
       "padding": "0px 0px 0px 4px",
       "width": "auto"
      }
     },
     "ef7812dda922455288eb6e664048d7e0": {
      "model_module": "@jupyter-widgets/controls",
      "model_module_version": "2.0.0",
      "model_name": "VBoxModel",
      "state": {
       "_dom_classes": [
        "geemap-light"
       ],
       "_view_count": 1,
       "children": [
        "IPY_MODEL_55a1591758c347a38af9c671799aaef5"
       ],
       "layout": "IPY_MODEL_c65fefb3070e47c88d1d1e2af0cb0c63"
      }
     },
     "efaeec574fc64e74bde2d87e212a582a": {
      "model_module": "@jupyter-widgets/base",
      "model_module_version": "2.0.0",
      "model_name": "LayoutModel",
      "state": {}
     },
     "f01b668980b4444189e32abf24e90c07": {
      "model_module": "@jupyter-widgets/controls",
      "model_module_version": "2.0.0",
      "model_name": "ToggleButtonStyleModel",
      "state": {
       "description_width": "",
       "font_family": null,
       "font_size": null,
       "font_style": null,
       "font_variant": null,
       "font_weight": null,
       "text_color": null,
       "text_decoration": null
      }
     },
     "f062646f463c4320ba54c0957f0551fa": {
      "model_module": "@jupyter-widgets/base",
      "model_module_version": "2.0.0",
      "model_name": "LayoutModel",
      "state": {
       "height": "auto",
       "padding": "0px 0px 0px 4px",
       "width": "auto"
      }
     },
     "f0bdbb21468544ab9cbe2e5fcd8a1dba": {
      "model_module": "ipytree",
      "model_module_version": "^0.2",
      "model_name": "NodeModel",
      "state": {
       "_id": "eb81cb14-816f-46d0-a487-d7a962ea4f0d",
       "_model_module_version": "^0.2",
       "_view_module_version": "^0.2",
       "icon": "file",
       "name": "select_columns.py"
      }
     },
     "f0d89fe2057a4c24aae3e7539f841386": {
      "model_module": "@jupyter-widgets/controls",
      "model_module_version": "2.0.0",
      "model_name": "ToggleButtonStyleModel",
      "state": {
       "description_width": "",
       "font_family": null,
       "font_size": null,
       "font_style": null,
       "font_variant": null,
       "font_weight": null,
       "text_color": null,
       "text_decoration": null
      }
     },
     "f169fd7bd9e24fe3bc92e1533c27e804": {
      "model_module": "ipytree",
      "model_module_version": "^0.2",
      "model_name": "NodeModel",
      "state": {
       "_id": "20fef4c0-d6e1-4628-9cea-5942e757b0ba",
       "_model_module_version": "^0.2",
       "_view_module_version": "^0.2",
       "name": "GetStarted",
       "nodes": [
        "IPY_MODEL_00dcf3f9da1145b89e08eb402231d442",
        "IPY_MODEL_d86dc2c752444ddf905ced496739ded4",
        "IPY_MODEL_3dd27c5f5c9c4292816ffd636298af9a",
        "IPY_MODEL_32a7253718ff4fc28ded234b2854b3be",
        "IPY_MODEL_d8d3083a67274b489037a6dd8a324b4e",
        "IPY_MODEL_d1950ae4c77842e2929b9a9b406a198a",
        "IPY_MODEL_5bc6346439c44920ba50dd3e025e837c",
        "IPY_MODEL_4c59d0e74e0e466e9041cba4bb50f6ce",
        "IPY_MODEL_c1a444082513476d8725d6de348cebe6"
       ],
       "opened": false
      }
     },
     "f176bf54501d4757ac51511fc084aa65": {
      "model_module": "@jupyter-widgets/controls",
      "model_module_version": "2.0.0",
      "model_name": "HBoxModel",
      "state": {
       "_dom_classes": [
        "geemap-light"
       ],
       "_view_count": 0,
       "children": [
        "IPY_MODEL_27c788f901594896b8e87ff546b7cb95"
       ],
       "layout": "IPY_MODEL_6e928e0e1eea4f9fb8c74d986389081a"
      }
     },
     "f1f06ce956114a07815222006f181da9": {
      "model_module": "jupyter-leaflet",
      "model_module_version": "^0.18",
      "model_name": "LeafletLayersControlModel",
      "state": {
       "_model_module_version": "^0.18",
       "_view_module_version": "^0.18",
       "collapsed": true,
       "options": [
        "collapsed",
        "position"
       ],
       "position": "topright"
      }
     },
     "f1f6112ca366499594a37d17313e9f5d": {
      "model_module": "ipytree",
      "model_module_version": "^0.2",
      "model_name": "NodeModel",
      "state": {
       "_id": "8581edc4-b9ef-4b5d-82f3-b4be13e79142",
       "_model_module_version": "^0.2",
       "_view_module_version": "^0.2",
       "icon": "file",
       "name": "usda_naip.py"
      }
     },
     "f244d0dfcd344dfc80f6dbad47353411": {
      "model_module": "jupyter-leaflet",
      "model_module_version": "^0.18",
      "model_name": "LeafletFullScreenControlModel",
      "state": {
       "_model_module_version": "^0.18",
       "_view_module_version": "^0.18",
       "options": [
        "position"
       ]
      }
     },
     "f2ef35b48094472e945e9d25cec23199": {
      "model_module": "@jupyter-widgets/controls",
      "model_module_version": "2.0.0",
      "model_name": "ToggleButtonModel",
      "state": {
       "icon": "wrench",
       "layout": "IPY_MODEL_a1fb25be94d848378b1bdcb02c5ae3d6",
       "style": "IPY_MODEL_9fb5e3f7e72146d29f698af3a7735e21",
       "tooltip": "Toolbar"
      }
     },
     "f3359dfe41784479b5f5e9c0ea214133": {
      "model_module": "jupyter-leaflet",
      "model_module_version": "^0.18",
      "model_name": "LeafletFullScreenControlModel",
      "state": {
       "_model_module_version": "^0.18",
       "_view_module_version": "^0.18",
       "options": [
        "position"
       ]
      }
     },
     "f38a2d29ec9145d5b4d563527a76e671": {
      "model_module": "@jupyter-widgets/controls",
      "model_module_version": "2.0.0",
      "model_name": "HTMLStyleModel",
      "state": {
       "description_width": "",
       "font_size": null,
       "text_color": null
      }
     },
     "f38fe7c63399444ab082b51c0ddf802d": {
      "model_module": "@jupyter-widgets/controls",
      "model_module_version": "2.0.0",
      "model_name": "ToggleButtonModel",
      "state": {
       "button_style": "primary",
       "icon": "info-circle",
       "layout": "IPY_MODEL_57694ad1281042c6932fedc9396cd1a4",
       "style": "IPY_MODEL_05c2004ba1aa4e0e83c0fc6af533103a",
       "tooltip": "Get COG/STAC pixel value"
      }
     },
     "f3c30fd00d214d87a2e18ce914067d59": {
      "model_module": "@jupyter-widgets/controls",
      "model_module_version": "2.0.0",
      "model_name": "ToggleButtonStyleModel",
      "state": {
       "description_width": "",
       "font_family": null,
       "font_size": null,
       "font_style": null,
       "font_variant": null,
       "font_weight": null,
       "text_color": null,
       "text_decoration": null
      }
     },
     "f3c94bfa107c42b1bf1ff5a8c551ef30": {
      "model_module": "ipytree",
      "model_module_version": "^0.2",
      "model_name": "NodeModel",
      "state": {
       "_id": "d9c51c21-7055-4625-a0e7-0157bd8a4e45",
       "_model_module_version": "^0.2",
       "_view_module_version": "^0.2",
       "icon": "file",
       "name": "ndwi.py"
      }
     },
     "f4157149150f4e76842e7bbd3ddae249": {
      "model_module": "jupyter-leaflet",
      "model_module_version": "^0.18",
      "model_name": "LeafletTileLayerModel",
      "state": {
       "_model_module_version": "^0.18",
       "_view_module_version": "^0.18",
       "attribution": "&copy; <a href=\"https://www.openstreetmap.org/copyright\">OpenStreetMap</a> contributors",
       "base": true,
       "max_zoom": 19,
       "min_zoom": 1,
       "name": "OpenStreetMap.Mapnik",
       "options": [
        "attribution",
        "bounds",
        "detect_retina",
        "max_native_zoom",
        "max_zoom",
        "min_native_zoom",
        "min_zoom",
        "no_wrap",
        "tile_size",
        "tms",
        "zoom_offset"
       ],
       "url": "https://tile.openstreetmap.org/{z}/{x}/{y}.png"
      }
     },
     "f44d8457df1647b8954beca21b232b9f": {
      "model_module": "ipytree",
      "model_module_version": "^0.2",
      "model_name": "NodeModel",
      "state": {
       "_id": "623b8bc5-b43a-423d-a51b-9997e1364a25",
       "_model_module_version": "^0.2",
       "_view_module_version": "^0.2",
       "icon": "file",
       "name": "usgs_nlcd.py"
      }
     },
     "f45a5db4ba574e6084db4a0aa6188c87": {
      "model_module": "ipyevents",
      "model_module_version": "2.0.2",
      "model_name": "EventModel",
      "state": {
       "_supported_key_events": [
        "keydown",
        "keyup"
       ],
       "_supported_mouse_events": [
        "click",
        "auxclick",
        "dblclick",
        "mouseenter",
        "mouseleave",
        "mousedown",
        "mouseup",
        "mousemove",
        "wheel",
        "contextmenu",
        "dragstart",
        "drag",
        "dragend",
        "dragenter",
        "dragover",
        "dragleave",
        "drop"
       ],
       "_supported_touch_events": [
        "touchstart",
        "touchend",
        "touchmove",
        "touchcancel"
       ],
       "_view_module": "@jupyter-widgets/controls",
       "source": "IPY_MODEL_b2476e4542e24bdf908954a829434905",
       "throttle_or_debounce": "",
       "watched_events": [
        "mouseenter",
        "mouseleave"
       ],
       "xy_coordinate_system": ""
      }
     },
     "f47b80daa3fa4c6ca45e0520af848c50": {
      "model_module": "@jupyter-widgets/base",
      "model_module_version": "2.0.0",
      "model_name": "LayoutModel",
      "state": {
       "height": "auto",
       "padding": "0px 0px 0px 4px",
       "width": "auto"
      }
     },
     "f5404441b88c4807acde65e1996dca44": {
      "model_module": "@jupyter-widgets/output",
      "model_module_version": "1.0.0",
      "model_name": "OutputModel",
      "state": {
       "layout": "IPY_MODEL_db2dbf7f72bd4ad0aa896c96169ee8a2"
      }
     },
     "f55793e5c9324391928616d7daa81bd5": {
      "model_module": "ipytree",
      "model_module_version": "^0.2",
      "model_name": "NodeModel",
      "state": {
       "_id": "8d13e6e8-d67a-459d-aa6a-2d47fa3d59f0",
       "_model_module_version": "^0.2",
       "_view_module_version": "^0.2",
       "icon": "file",
       "name": "conditional_operations.py"
      }
     },
     "f5e65470bea5499fbcab342f036d0a7c": {
      "model_module": "jupyter-leaflet",
      "model_module_version": "^0.18",
      "model_name": "LeafletFullScreenControlModel",
      "state": {
       "_model_module_version": "^0.18",
       "_view_module_version": "^0.18",
       "options": [
        "position"
       ]
      }
     },
     "f66f51997ba247f1b16f91a11f43c24f": {
      "model_module": "@jupyter-widgets/controls",
      "model_module_version": "2.0.0",
      "model_name": "ToggleButtonStyleModel",
      "state": {
       "description_width": "",
       "font_family": null,
       "font_size": null,
       "font_style": null,
       "font_variant": null,
       "font_weight": null,
       "text_color": null,
       "text_decoration": null
      }
     },
     "f6775d28a7154aa4a269d95088427fec": {
      "model_module": "ipytree",
      "model_module_version": "^0.2",
      "model_name": "NodeModel",
      "state": {
       "_id": "cd5bd158-e94c-43fd-b82c-fa39a3c86ab9",
       "_model_module_version": "^0.2",
       "_view_module_version": "^0.2",
       "name": "Segmentation",
       "nodes": [
        "IPY_MODEL_d4008a8c48d64f0190834210db06eb1d"
       ],
       "opened": false
      }
     },
     "f6b06e21d19c4cab80ba37ec2127d3d4": {
      "model_module": "@jupyter-widgets/controls",
      "model_module_version": "2.0.0",
      "model_name": "ToggleButtonStyleModel",
      "state": {
       "description_width": "",
       "font_family": null,
       "font_size": null,
       "font_style": null,
       "font_variant": null,
       "font_weight": null,
       "text_color": null,
       "text_decoration": null
      }
     },
     "f6c69c353e8f49d19227fd0d1cceae95": {
      "model_module": "@jupyter-widgets/base",
      "model_module_version": "2.0.0",
      "model_name": "LayoutModel",
      "state": {
       "max_width": "57px",
       "min_width": "57px"
      }
     },
     "f6e485f989ca4b48bbf22c9506efa023": {
      "model_module": "@jupyter-widgets/controls",
      "model_module_version": "2.0.0",
      "model_name": "ToggleButtonModel",
      "state": {
       "button_style": "primary",
       "icon": "fast-forward",
       "layout": "IPY_MODEL_41c88c634a1042a2bac9583929bca37a",
       "style": "IPY_MODEL_7cf6e42bafed487da7fc1d2c669559f7",
       "tooltip": "Activate timeslider"
      }
     },
     "f71c3be7488b4747a7c0748a052d7c3a": {
      "model_module": "@jupyter-widgets/base",
      "model_module_version": "2.0.0",
      "model_name": "LayoutModel",
      "state": {}
     },
     "f71e84e3907c4a26ac6eaa83d86ffc94": {
      "model_module": "@jupyter-widgets/controls",
      "model_module_version": "2.0.0",
      "model_name": "ToggleButtonStyleModel",
      "state": {
       "description_width": "",
       "font_family": null,
       "font_size": null,
       "font_style": null,
       "font_variant": null,
       "font_weight": null,
       "text_color": null,
       "text_decoration": null
      }
     },
     "f738db71cca04673970d7fd5d0cd06c0": {
      "model_module": "@jupyter-widgets/base",
      "model_module_version": "2.0.0",
      "model_name": "LayoutModel",
      "state": {}
     },
     "f787ef5fa4de4098bc2bf2d960fc8e8e": {
      "model_module": "@jupyter-widgets/controls",
      "model_module_version": "2.0.0",
      "model_name": "ToggleButtonModel",
      "state": {
       "button_style": "primary",
       "icon": "plus",
       "layout": "IPY_MODEL_8ec705bd975845aea6fa4f4b8e5aa49f",
       "style": "IPY_MODEL_b6c0aa9d97dd4e73a2c467f863a6ac2d",
       "tooltip": "Expand toolbar"
      }
     },
     "f78dfc92d0754c948728e4b52756fe0c": {
      "model_module": "@jupyter-widgets/base",
      "model_module_version": "2.0.0",
      "model_name": "LayoutModel",
      "state": {
       "height": "auto",
       "padding": "0px 0px 0px 4px",
       "width": "auto"
      }
     },
     "f7d9be5ad2d74c979f3e94405408e8fb": {
      "model_module": "jupyter-leaflet",
      "model_module_version": "^0.18",
      "model_name": "LeafletFullScreenControlModel",
      "state": {
       "_model_module_version": "^0.18",
       "_view_module_version": "^0.18",
       "options": [
        "position"
       ]
      }
     },
     "f8b537f1d71e4a3ba477e6fcba34c191": {
      "model_module": "ipytree",
      "model_module_version": "^0.2",
      "model_name": "NodeModel",
      "state": {
       "_id": "1fa9895f-e7da-4d4c-bfb8-1723d1842a8c",
       "_model_module_version": "^0.2",
       "_view_module_version": "^0.2",
       "icon": "file",
       "name": "LICENSE"
      }
     },
     "f8bff24f6bf34dbc8d4e196502a6c037": {
      "model_module": "@jupyter-widgets/controls",
      "model_module_version": "2.0.0",
      "model_name": "ToggleButtonStyleModel",
      "state": {
       "description_width": "",
       "font_family": null,
       "font_size": null,
       "font_style": null,
       "font_variant": null,
       "font_weight": null,
       "text_color": null,
       "text_decoration": null
      }
     },
     "f9237b7792ef4b36adf9ec75b1626adc": {
      "model_module": "@jupyter-widgets/base",
      "model_module_version": "2.0.0",
      "model_name": "LayoutModel",
      "state": {
       "max_width": "279px",
       "min_width": "279px"
      }
     },
     "f94ea3c75d634ce8a6a48de86f1caf96": {
      "model_module": "ipytree",
      "model_module_version": "^0.2",
      "model_name": "NodeModel",
      "state": {
       "_id": "bd180289-06e1-4dcc-886d-bc9fe9386584",
       "_model_module_version": "^0.2",
       "_view_module_version": "^0.2",
       "icon": "file",
       "name": "alos_topo_diversity.py"
      }
     },
     "f97ac84c0b1a4e37a51172818a8eef66": {
      "model_module": "ipytree",
      "model_module_version": "^0.2",
      "model_name": "NodeModel",
      "state": {
       "_id": "7dd8d15e-228c-4d1c-9161-a2a64b1a8042",
       "_model_module_version": "^0.2",
       "_view_module_version": "^0.2",
       "icon": "file",
       "name": "linear_regression.py"
      }
     },
     "f9c06b7d50f74a13a7bb436d7d4d7b4e": {
      "model_module": "@jupyter-widgets/base",
      "model_module_version": "2.0.0",
      "model_name": "LayoutModel",
      "state": {}
     },
     "f9e3f14d32d44d47bd20dda243892f21": {
      "model_module": "ipytree",
      "model_module_version": "^0.2",
      "model_name": "NodeModel",
      "state": {
       "_id": "d31d2de6-2179-454f-87e9-6363442ad35c",
       "_model_module_version": "^0.2",
       "_view_module_version": "^0.2",
       "icon": "file",
       "name": "map_add_features.py"
      }
     },
     "f9f96d0362434ef080cb2b1b9bb21159": {
      "model_module": "ipytree",
      "model_module_version": "^0.2",
      "model_name": "NodeModel",
      "state": {
       "_id": "cf65a84d-a4ff-4413-bad1-ca7b6228910b",
       "_model_module_version": "^0.2",
       "_view_module_version": "^0.2",
       "icon": "file",
       "name": "clustering.py"
      }
     },
     "fa4634fb681a47b9a7544036091d70f2": {
      "model_module": "@jupyter-widgets/output",
      "model_module_version": "1.0.0",
      "model_name": "OutputModel",
      "state": {
       "layout": "IPY_MODEL_5a6d128dc01445ba80cd49b972680a40"
      }
     },
     "fa6340fea13846818f59ed3629b0b573": {
      "model_module": "@jupyter-widgets/base",
      "model_module_version": "2.0.0",
      "model_name": "LayoutModel",
      "state": {
       "height": "auto",
       "padding": "0px 0px 0px 4px",
       "width": "auto"
      }
     },
     "fa8cd4d64f0a4d07a1183d3d7406846c": {
      "model_module": "ipyevents",
      "model_module_version": "2.0.2",
      "model_name": "EventModel",
      "state": {
       "_supported_key_events": [
        "keydown",
        "keyup"
       ],
       "_supported_mouse_events": [
        "click",
        "auxclick",
        "dblclick",
        "mouseenter",
        "mouseleave",
        "mousedown",
        "mouseup",
        "mousemove",
        "wheel",
        "contextmenu",
        "dragstart",
        "drag",
        "dragend",
        "dragenter",
        "dragover",
        "dragleave",
        "drop"
       ],
       "_supported_touch_events": [
        "touchstart",
        "touchend",
        "touchmove",
        "touchcancel"
       ],
       "_view_module": "@jupyter-widgets/controls",
       "source": "IPY_MODEL_f176bf54501d4757ac51511fc084aa65",
       "throttle_or_debounce": "",
       "watched_events": [
        "mouseenter",
        "mouseleave"
       ],
       "xy_coordinate_system": ""
      }
     },
     "fab98c150eba4a72a399c5fe3bc80be5": {
      "model_module": "ipytree",
      "model_module_version": "^0.2",
      "model_name": "NodeModel",
      "state": {
       "_id": "89c33223-6d01-4ccf-b56e-386062c0fcab",
       "_model_module_version": "^0.2",
       "_view_module_version": "^0.2",
       "icon": "file",
       "name": "filter_string_ends_with.py"
      }
     },
     "fb55f1ba49124d979286ffb2cd808201": {
      "model_module": "jupyter-leaflet",
      "model_module_version": "^0.18",
      "model_name": "LeafletMapStyleModel",
      "state": {
       "_model_module_version": "^0.18"
      }
     },
     "fb7c2d81a5c3460496a067a91756ba7c": {
      "model_module": "@jupyter-widgets/base",
      "model_module_version": "2.0.0",
      "model_name": "LayoutModel",
      "state": {
       "height": "auto",
       "padding": "0px 0px 0px 4px",
       "width": "auto"
      }
     },
     "fb8f677bc50148eaba4713c014af2485": {
      "model_module": "@jupyter-widgets/controls",
      "model_module_version": "2.0.0",
      "model_name": "HTMLStyleModel",
      "state": {
       "description_width": "",
       "font_size": null,
       "text_color": null
      }
     },
     "fbd06d131d6a41ad87931cc7961e738b": {
      "model_module": "jupyter-leaflet",
      "model_module_version": "^0.18",
      "model_name": "LeafletSplitMapControlModel",
      "state": {
       "_model_module_version": "^0.18",
       "_model_name": "LeafletSplitMapControlModel",
       "_view_module_version": "^0.18",
       "_view_name": "LeafletSplitMapControlView",
       "left_layer": "IPY_MODEL_bf2fd03dfed6491cb13d2db45ce3c08c",
       "options": [
        "position"
       ],
       "right_layer": "IPY_MODEL_55157534c5654a639590038ada0bf7e4"
      }
     },
     "fc42c84499b44aaab0ed8e717bf08c8f": {
      "model_module": "ipytree",
      "model_module_version": "^0.2",
      "model_name": "NodeModel",
      "state": {
       "_id": "7aa75382-60af-4b69-ae4f-4ab217217bb4",
       "_model_module_version": "^0.2",
       "_view_module_version": "^0.2",
       "icon": "file",
       "name": "us_ned_mtpi.py"
      }
     },
     "fc4b645cdd5345b48af1b647c451deff": {
      "model_module": "@jupyter-widgets/controls",
      "model_module_version": "2.0.0",
      "model_name": "ToggleButtonModel",
      "state": {
       "icon": "times",
       "layout": "IPY_MODEL_a341dc1b99894f4f8a951581f3002815",
       "style": "IPY_MODEL_a514b5d95a1e498d8352fe8909f71248",
       "tooltip": "Close split-panel map"
      }
     },
     "fce59f99dfa748cb9cadfc649e1b2e78": {
      "model_module": "@jupyter-widgets/controls",
      "model_module_version": "2.0.0",
      "model_name": "VBoxModel",
      "state": {
       "children": [
        "IPY_MODEL_c7af74fbde1d4faaaa28cb110317965a",
        "IPY_MODEL_6216d069875147dc8083e5447605f66e"
       ],
       "layout": "IPY_MODEL_6de346a6d98749fc859a92cd10802e88"
      }
     },
     "fce6edb025d44096b083ab747f29c136": {
      "model_module": "jupyter-leaflet",
      "model_module_version": "^0.18",
      "model_name": "LeafletFullScreenControlModel",
      "state": {
       "_model_module_version": "^0.18",
       "_view_module_version": "^0.18",
       "options": [
        "position"
       ]
      }
     },
     "fd3732c3d38a4667880418599206665d": {
      "model_module": "@jupyter-widgets/controls",
      "model_module_version": "2.0.0",
      "model_name": "ToggleButtonsModel",
      "state": {
       "_options_labels": [
        "name/address",
        "lat-lon",
        "data"
       ],
       "button_style": "",
       "icons": [],
       "index": 0,
       "layout": "IPY_MODEL_367efee7a37c47d68cb532118e8e83c9",
       "style": "IPY_MODEL_0e5ce36a4b004e37944f1f927b9fb854",
       "tooltips": [
        "Search by place name or address",
        "Search by lat-lon coordinates",
        "Search Earth Engine data catalog"
       ]
      }
     },
     "fd4463181d4c43ffa744f37dfaab4215": {
      "model_module": "jupyter-leaflet",
      "model_module_version": "^0.18",
      "model_name": "LeafletMapStyleModel",
      "state": {
       "_model_module_version": "^0.18"
      }
     },
     "fd66df8e7773429b8c78d2a946a917d6": {
      "model_module": "jupyter-leaflet",
      "model_module_version": "^0.18",
      "model_name": "LeafletTileLayerModel",
      "state": {
       "_model_module_version": "^0.18",
       "_view_module_version": "^0.18",
       "attribution": "&copy; <a href=\"https://www.openstreetmap.org/copyright\">OpenStreetMap</a> contributors",
       "base": true,
       "max_zoom": 19,
       "min_zoom": 1,
       "name": "OpenStreetMap.Mapnik",
       "options": [
        "attribution",
        "bounds",
        "detect_retina",
        "max_native_zoom",
        "max_zoom",
        "min_native_zoom",
        "min_zoom",
        "no_wrap",
        "tile_size",
        "tms",
        "zoom_offset"
       ],
       "url": "https://tile.openstreetmap.org/{z}/{x}/{y}.png"
      }
     },
     "fdbb9aae3bb9445eb8e51787e8f88e56": {
      "model_module": "@jupyter-widgets/base",
      "model_module_version": "2.0.0",
      "model_name": "LayoutModel",
      "state": {}
     },
     "fdcf19ab8855412e9a25489ad4af5e22": {
      "model_module": "@jupyter-widgets/base",
      "model_module_version": "2.0.0",
      "model_name": "LayoutModel",
      "state": {
       "width": "70px"
      }
     },
     "fe4da18fa4c14b4089c8d3e1004a9f5d": {
      "model_module": "@jupyter-widgets/controls",
      "model_module_version": "2.0.0",
      "model_name": "VBoxModel",
      "state": {
       "children": [
        "IPY_MODEL_d8687d4c01894c838c0a9b05a3d2536f",
        "IPY_MODEL_ffa2ce296d894724b0eb7ad14d3ef892"
       ],
       "layout": "IPY_MODEL_1948a393e6c444ac8f4b925770354298"
      }
     },
     "fef152afa95a4c9ea2b0b51acf6469f7": {
      "model_module": "@jupyter-widgets/controls",
      "model_module_version": "2.0.0",
      "model_name": "ToggleButtonModel",
      "state": {
       "button_style": "primary",
       "icon": "gears",
       "layout": "IPY_MODEL_f78dfc92d0754c948728e4b52756fe0c",
       "style": "IPY_MODEL_538c159687c244288d21e305962ba82e",
       "tooltip": "WhiteboxTools for local geoprocessing"
      }
     },
     "ff13081c630147ffa59070cecabbf02d": {
      "model_module": "@jupyter-widgets/base",
      "model_module_version": "2.0.0",
      "model_name": "LayoutModel",
      "state": {}
     },
     "ff151b8a19734d60a7bcbd171b45bca5": {
      "model_module": "ipytree",
      "model_module_version": "^0.2",
      "model_name": "NodeModel",
      "state": {
       "_id": "476d436b-757c-4325-bd3c-c880dfc16f3c",
       "_model_module_version": "^0.2",
       "_view_module_version": "^0.2",
       "icon": "file",
       "name": "select_by_attributes.py"
      }
     },
     "ff6da8de591e4c5fb7e407793197959a": {
      "model_module": "jupyter-leaflet",
      "model_module_version": "^0.18",
      "model_name": "LeafletTileLayerModel",
      "state": {
       "_model_module_version": "^0.18",
       "_view_module_version": "^0.18",
       "attribution": "&copy; <a href=\"https://www.openstreetmap.org/copyright\">OpenStreetMap</a> contributors",
       "base": true,
       "max_zoom": 19,
       "min_zoom": 1,
       "name": "OpenStreetMap.Mapnik",
       "options": [
        "attribution",
        "bounds",
        "detect_retina",
        "max_native_zoom",
        "max_zoom",
        "min_native_zoom",
        "min_zoom",
        "no_wrap",
        "tile_size",
        "tms",
        "zoom_offset"
       ],
       "url": "https://tile.openstreetmap.org/{z}/{x}/{y}.png"
      }
     },
     "ff6e5ecf75cd49f0aec64efe9d5330e6": {
      "model_module": "ipytree",
      "model_module_version": "^0.2",
      "model_name": "NodeModel",
      "state": {
       "_id": "b3b86810-c518-45d3-8975-685c730f3c5a",
       "_model_module_version": "^0.2",
       "_view_module_version": "^0.2",
       "icon": "file",
       "name": "ndwi_timeseries.py"
      }
     },
     "ffa2ce296d894724b0eb7ad14d3ef892": {
      "model_module": "@jupyter-widgets/output",
      "model_module_version": "1.0.0",
      "model_name": "OutputModel",
      "state": {
       "layout": "IPY_MODEL_b1f2c597199c4b4fa4b938ae40bf2999",
       "outputs": [
        {
         "data": {
          "application/vnd.jupyter.widget-view+json": {
           "model_id": "5b045e93683f468ca26c1249e31d162c",
           "version_major": 2,
           "version_minor": 0
          },
          "text/plain": "Tree(multiple_selection=False, nodes=(Node(name='Archive', opened=False), Node(name='Examples', nodes=(Node(na…"
         },
         "metadata": {},
         "output_type": "display_data"
        }
       ]
      }
     },
     "ffb4cb3ffb7d4fe9b95a4a002019368e": {
      "model_module": "ipytree",
      "model_module_version": "^0.2",
      "model_name": "NodeModel",
      "state": {
       "_id": "3058197e-4d25-4816-890e-514cf8081c33",
       "_model_module_version": "^0.2",
       "_view_module_version": "^0.2",
       "icon": "file",
       "name": "README.md"
      }
     },
     "fffe9f62ab6c4aa3a0069d67fbb8cd98": {
      "model_module": "@jupyter-widgets/base",
      "model_module_version": "2.0.0",
      "model_name": "LayoutModel",
      "state": {
       "width": "340px"
      }
     },
     "undefined": {
      "model_module": "ipyevents",
      "model_module_version": "2.0.0",
      "model_name": "EventModel",
      "state": {
       "_view_name": "ErrorWidgetView",
       "error": {},
       "msg": "Model class 'EventModel' from module 'ipyevents' is loaded but can not be instantiated"
      }
     }
    },
    "version_major": 2,
    "version_minor": 0
   }
  }
 },
 "nbformat": 4,
 "nbformat_minor": 5
}
