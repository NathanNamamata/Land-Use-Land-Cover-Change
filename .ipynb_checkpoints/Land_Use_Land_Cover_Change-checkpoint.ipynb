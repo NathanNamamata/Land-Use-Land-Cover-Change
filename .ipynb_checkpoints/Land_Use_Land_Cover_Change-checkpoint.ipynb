{
 "cells": [
  {
   "cell_type": "code",
   "execution_count": 76,
   "id": "38164953-42b9-4cde-95de-a9fbe0f2eb31",
   "metadata": {},
   "outputs": [
    {
     "data": {
      "text/html": [
       "\n",
       "            <style>\n",
       "                .geemap-dark {\n",
       "                    --jp-widgets-color: white;\n",
       "                    --jp-widgets-label-color: white;\n",
       "                    --jp-ui-font-color1: white;\n",
       "                    --jp-layout-color2: #454545;\n",
       "                    background-color: #383838;\n",
       "                }\n",
       "\n",
       "                .geemap-dark .jupyter-button {\n",
       "                    --jp-layout-color3: #383838;\n",
       "                }\n",
       "\n",
       "                .geemap-colab {\n",
       "                    background-color: var(--colab-primary-surface-color, white);\n",
       "                }\n",
       "\n",
       "                .geemap-colab .jupyter-button {\n",
       "                    --jp-layout-color3: var(--colab-primary-surface-color, white);\n",
       "                }\n",
       "            </style>\n",
       "            "
      ],
      "text/plain": [
       "<IPython.core.display.HTML object>"
      ]
     },
     "metadata": {},
     "output_type": "display_data"
    }
   ],
   "source": [
    "import geemap\n",
    "import geetools\n",
    "import ee\n",
    "#from PIL import Image\n",
    "#from pycrc.CRCCCITT import CRCCCITT\n",
    "#import numpy as np\n",
    "#import matplotlib.pyplot as plt"
   ]
  },
  {
   "cell_type": "code",
   "execution_count": 77,
   "id": "39529fa9-bdd4-457d-a576-36bab60132ca",
   "metadata": {},
   "outputs": [
    {
     "data": {
      "text/html": [
       "\n",
       "            <style>\n",
       "                .geemap-dark {\n",
       "                    --jp-widgets-color: white;\n",
       "                    --jp-widgets-label-color: white;\n",
       "                    --jp-ui-font-color1: white;\n",
       "                    --jp-layout-color2: #454545;\n",
       "                    background-color: #383838;\n",
       "                }\n",
       "\n",
       "                .geemap-dark .jupyter-button {\n",
       "                    --jp-layout-color3: #383838;\n",
       "                }\n",
       "\n",
       "                .geemap-colab {\n",
       "                    background-color: var(--colab-primary-surface-color, white);\n",
       "                }\n",
       "\n",
       "                .geemap-colab .jupyter-button {\n",
       "                    --jp-layout-color3: var(--colab-primary-surface-color, white);\n",
       "                }\n",
       "            </style>\n",
       "            "
      ],
      "text/plain": [
       "<IPython.core.display.HTML object>"
      ]
     },
     "metadata": {},
     "output_type": "display_data"
    }
   ],
   "source": [
    "ee.Authenticate()\n",
    "ee.Initialize()"
   ]
  },
  {
   "cell_type": "code",
   "execution_count": 78,
   "id": "124e6c78-5c75-4a31-ba49-658436375ef1",
   "metadata": {},
   "outputs": [
    {
     "data": {
      "text/html": [
       "\n",
       "            <style>\n",
       "                .geemap-dark {\n",
       "                    --jp-widgets-color: white;\n",
       "                    --jp-widgets-label-color: white;\n",
       "                    --jp-ui-font-color1: white;\n",
       "                    --jp-layout-color2: #454545;\n",
       "                    background-color: #383838;\n",
       "                }\n",
       "\n",
       "                .geemap-dark .jupyter-button {\n",
       "                    --jp-layout-color3: #383838;\n",
       "                }\n",
       "\n",
       "                .geemap-colab {\n",
       "                    background-color: var(--colab-primary-surface-color, white);\n",
       "                }\n",
       "\n",
       "                .geemap-colab .jupyter-button {\n",
       "                    --jp-layout-color3: var(--colab-primary-surface-color, white);\n",
       "                }\n",
       "            </style>\n",
       "            "
      ],
      "text/plain": [
       "<IPython.core.display.HTML object>"
      ]
     },
     "metadata": {},
     "output_type": "display_data"
    },
    {
     "name": "stdout",
     "output_type": "stream",
     "text": [
      "Downloading https://github.com/gee-community/geemap/archive/master.zip ...\n",
      "Unzipping geemap-master.zip ...\n",
      "Data downloaded to: C:\\Users\\nazin\\Downloads\\geemap-master\n",
      "\n",
      "Please comment out 'geemap.update_package()' and restart the kernel to take effect:\n",
      "Jupyter menu -> Kernel -> Restart & Clear Output\n"
     ]
    }
   ],
   "source": [
    "geemap.update_package()"
   ]
  },
  {
   "cell_type": "code",
   "execution_count": 79,
   "id": "86ccb6a1-2386-45df-99f6-f4675702e666",
   "metadata": {},
   "outputs": [
    {
     "data": {
      "text/html": [
       "\n",
       "            <style>\n",
       "                .geemap-dark {\n",
       "                    --jp-widgets-color: white;\n",
       "                    --jp-widgets-label-color: white;\n",
       "                    --jp-ui-font-color1: white;\n",
       "                    --jp-layout-color2: #454545;\n",
       "                    background-color: #383838;\n",
       "                }\n",
       "\n",
       "                .geemap-dark .jupyter-button {\n",
       "                    --jp-layout-color3: #383838;\n",
       "                }\n",
       "\n",
       "                .geemap-colab {\n",
       "                    background-color: var(--colab-primary-surface-color, white);\n",
       "                }\n",
       "\n",
       "                .geemap-colab .jupyter-button {\n",
       "                    --jp-layout-color3: var(--colab-primary-surface-color, white);\n",
       "                }\n",
       "            </style>\n",
       "            "
      ],
      "text/plain": [
       "<IPython.core.display.HTML object>"
      ]
     },
     "metadata": {},
     "output_type": "display_data"
    },
    {
     "data": {
      "application/vnd.jupyter.widget-view+json": {
       "model_id": "3cd732eba60b48d7bb43903634ae7cd6",
       "version_major": 2,
       "version_minor": 0
      },
      "text/plain": [
       "Map(center=[-14, 30], controls=(WidgetControl(options=['position', 'transparent_bg'], widget=SearchDataGUI(chi…"
      ]
     },
     "execution_count": 79,
     "metadata": {},
     "output_type": "execute_result"
    }
   ],
   "source": [
    "Map = geemap.Map(center=(-14, 30), zoom=6)\n",
    "Map"
   ]
  },
  {
   "cell_type": "markdown",
   "id": "b190b70c-46e5-47c3-b2a7-96c21f099c87",
   "metadata": {},
   "source": [
    "Loading a Shapefile"
   ]
  },
  {
   "cell_type": "code",
   "execution_count": 80,
   "id": "4730dc06-013c-4fdd-a67e-7a7c9e5a6c8e",
   "metadata": {},
   "outputs": [
    {
     "data": {
      "text/html": [
       "\n",
       "            <style>\n",
       "                .geemap-dark {\n",
       "                    --jp-widgets-color: white;\n",
       "                    --jp-widgets-label-color: white;\n",
       "                    --jp-ui-font-color1: white;\n",
       "                    --jp-layout-color2: #454545;\n",
       "                    background-color: #383838;\n",
       "                }\n",
       "\n",
       "                .geemap-dark .jupyter-button {\n",
       "                    --jp-layout-color3: #383838;\n",
       "                }\n",
       "\n",
       "                .geemap-colab {\n",
       "                    background-color: var(--colab-primary-surface-color, white);\n",
       "                }\n",
       "\n",
       "                .geemap-colab .jupyter-button {\n",
       "                    --jp-layout-color3: var(--colab-primary-surface-color, white);\n",
       "                }\n",
       "            </style>\n",
       "            "
      ],
      "text/plain": [
       "<IPython.core.display.HTML object>"
      ]
     },
     "metadata": {},
     "output_type": "display_data"
    },
    {
     "data": {
      "text/html": [
       "<div><style>:root {\n",
       "  --font-color-primary: var(--jp-content-font-color0, rgba(0, 0, 0, 1));\n",
       "  --font-color-secondary: var(--jp-content-font-color2, rgba(0, 0, 0, 0.6));\n",
       "  --font-color-accent: rgba(123, 31, 162, 1);\n",
       "  --border-color: var(--jp-border-color2, #e0e0e0);\n",
       "  --background-color: var(--jp-layout-color0, white);\n",
       "  --background-color-row-even: var(--jp-layout-color1, white);\n",
       "  --background-color-row-odd: var(--jp-layout-color2, #eeeeee);\n",
       "}\n",
       "\n",
       "html[theme=\"dark\"],\n",
       "body[data-theme=\"dark\"],\n",
       "body.vscode-dark {\n",
       "  --font-color-primary: rgba(255, 255, 255, 1);\n",
       "  --font-color-secondary: rgba(255, 255, 255, 0.6);\n",
       "  --font-color-accent: rgb(173, 132, 190);\n",
       "  --border-color: #2e2e2e;\n",
       "  --background-color: #111111;\n",
       "  --background-color-row-even: #111111;\n",
       "  --background-color-row-odd: #313131;\n",
       "}\n",
       "\n",
       ".ee {\n",
       "  padding: 1em;\n",
       "  line-height: 1.5em;\n",
       "  min-width: 300px;\n",
       "  max-width: 1200px;\n",
       "  overflow-y: scroll;\n",
       "  max-height: 600px;\n",
       "  border: 1px solid var(--border-color);\n",
       "  font-family: monospace;\n",
       "}\n",
       "\n",
       ".ee li {\n",
       "  list-style-type: none;\n",
       "}\n",
       "\n",
       ".ee ul {\n",
       "  padding-left: 1.5em !important;\n",
       "  margin: 0;\n",
       "}\n",
       "\n",
       ".ee > ul {\n",
       "  padding-left: 0 !important;\n",
       "}\n",
       "\n",
       ".ee-open,\n",
       ".ee-shut {\n",
       "  color: var(--font-color-secondary);\n",
       "  cursor: pointer;\n",
       "  margin: 0;\n",
       "}\n",
       "\n",
       ".ee-open:hover,\n",
       ".ee-shut:hover {\n",
       "  color: var(--font-color-primary);\n",
       "}\n",
       "\n",
       ".ee-k {\n",
       "  color: var(--font-color-accent);\n",
       "  margin-right: 6px;\n",
       "}\n",
       "\n",
       ".ee-v {\n",
       "  color: var(--font-color-primary);\n",
       "}\n",
       "\n",
       ".ee-toggle {\n",
       "  display: none;\n",
       "}\n",
       "\n",
       ".ee-shut + ul {\n",
       "  display: none;\n",
       "}\n",
       "\n",
       ".ee-open + ul {\n",
       "  display: block;\n",
       "}\n",
       "\n",
       ".ee-shut::before {\n",
       "  display: inline-block;\n",
       "  content: \"▼\";\n",
       "  margin-right: 6px;\n",
       "  transform: rotate(-90deg);\n",
       "  transition: transform 0.2s;\n",
       "}\n",
       "\n",
       ".ee-open::before {\n",
       "  transform: rotate(0deg);\n",
       "  display: inline-block;\n",
       "  content: \"▼\";\n",
       "  margin-right: 6px;\n",
       "  transition: transform 0.2s;\n",
       "}\n",
       "</style><div class='ee'><ul><li><label class='ee-shut'>FeatureCollection (1 element, 11 columns)<input type='checkbox' class='ee-toggle'></label><ul><li><span class='ee-k'>type:</span><span class='ee-v'>FeatureCollection</span></li><li><label class='ee-shut'>columns: Object (11 properties)<input type='checkbox' class='ee-toggle'></label><ul><li><span class='ee-k'>ConstName:</span><span class='ee-v'>String</span></li><li><span class='ee-k'>ConstNo:</span><span class='ee-v'>Integer</span></li><li><span class='ee-k'>CumuWardNo:</span><span class='ee-v'>Integer</span></li><li><span class='ee-k'>DistName:</span><span class='ee-v'>String</span></li><li><span class='ee-k'>DistNo:</span><span class='ee-v'>Integer</span></li><li><span class='ee-k'>PovName:</span><span class='ee-v'>String</span></li><li><span class='ee-k'>ProvNo:</span><span class='ee-v'>Integer</span></li><li><span class='ee-k'>Status:</span><span class='ee-v'>String</span></li><li><span class='ee-k'>WardNm2020:</span><span class='ee-v'>String</span></li><li><span class='ee-k'>WardNo2020:</span><span class='ee-v'>Integer</span></li><li><span class='ee-k'>system:index:</span><span class='ee-v'>String</span></li></ul></li><li><label class='ee-shut'>features: List (1 element)<input type='checkbox' class='ee-toggle'></label><ul><li><label class='ee-shut'>0: Feature (Polygon, 10 properties)<input type='checkbox' class='ee-toggle'></label><ul><li><span class='ee-k'>type:</span><span class='ee-v'>Feature</span></li><li><span class='ee-k'>id:</span><span class='ee-v'>2</span></li><li><label class='ee-shut'>geometry: Polygon (257 vertices)<input type='checkbox' class='ee-toggle'></label><ul><li><span class='ee-k'>type:</span><span class='ee-v'>Polygon</span></li><li><label class='ee-shut'>coordinates: List (1 element)<input type='checkbox' class='ee-toggle'></label><ul><li><label class='ee-shut'>0: List (257 elements)<input type='checkbox' class='ee-toggle'></label><ul><li><label class='ee-shut'>0: [26.324380089170035, -15.733154522533397]<input type='checkbox' class='ee-toggle'></label><ul><li><span class='ee-k'>0:</span><span class='ee-v'>26.324380089170035</span></li><li><span class='ee-k'>1:</span><span class='ee-v'>-15.733154522533397</span></li></ul></li><li><label class='ee-shut'>1: [26.32622526511534, -15.734535889255186]<input type='checkbox' class='ee-toggle'></label><ul><li><span class='ee-k'>0:</span><span class='ee-v'>26.32622526511534</span></li><li><span class='ee-k'>1:</span><span class='ee-v'>-15.734535889255186</span></li></ul></li><li><label class='ee-shut'>2: [26.326071676028352, -15.734496464892539]<input type='checkbox' class='ee-toggle'></label><ul><li><span class='ee-k'>0:</span><span class='ee-v'>26.326071676028352</span></li><li><span class='ee-k'>1:</span><span class='ee-v'>-15.734496464892539</span></li></ul></li><li><label class='ee-shut'>3: [26.325715155770943, -15.734839624395773]<input type='checkbox' class='ee-toggle'></label><ul><li><span class='ee-k'>0:</span><span class='ee-v'>26.325715155770943</span></li><li><span class='ee-k'>1:</span><span class='ee-v'>-15.734839624395773</span></li></ul></li><li><label class='ee-shut'>4: [26.324715017975333, -15.737234544696676]<input type='checkbox' class='ee-toggle'></label><ul><li><span class='ee-k'>0:</span><span class='ee-v'>26.324715017975333</span></li><li><span class='ee-k'>1:</span><span class='ee-v'>-15.737234544696676</span></li></ul></li><li><label class='ee-shut'>5: [26.32376618739338, -15.73950653426253]<input type='checkbox' class='ee-toggle'></label><ul><li><span class='ee-k'>0:</span><span class='ee-v'>26.32376618739338</span></li><li><span class='ee-k'>1:</span><span class='ee-v'>-15.73950653426253</span></li></ul></li><li><label class='ee-shut'>6: [26.323936600250555, -15.739801777468946]<input type='checkbox' class='ee-toggle'></label><ul><li><span class='ee-k'>0:</span><span class='ee-v'>26.323936600250555</span></li><li><span class='ee-k'>1:</span><span class='ee-v'>-15.739801777468946</span></li></ul></li><li><label class='ee-shut'>7: [26.324360386586694, -15.740535986802811]<input type='checkbox' class='ee-toggle'></label><ul><li><span class='ee-k'>0:</span><span class='ee-v'>26.324360386586694</span></li><li><span class='ee-k'>1:</span><span class='ee-v'>-15.740535986802811</span></li></ul></li><li><label class='ee-shut'>8: [26.327307609104537, -15.743647182614016]<input type='checkbox' class='ee-toggle'></label><ul><li><span class='ee-k'>0:</span><span class='ee-v'>26.327307609104537</span></li><li><span class='ee-k'>1:</span><span class='ee-v'>-15.743647182614016</span></li></ul></li><li><label class='ee-shut'>9: [26.328051927651146, -15.74483435097043]<input type='checkbox' class='ee-toggle'></label><ul><li><span class='ee-k'>0:</span><span class='ee-v'>26.328051927651146</span></li><li><span class='ee-k'>1:</span><span class='ee-v'>-15.74483435097043</span></li></ul></li><li><label class='ee-shut'>10: [26.32813948370942, -15.74497400246968]<input type='checkbox' class='ee-toggle'></label><ul><li><span class='ee-k'>0:</span><span class='ee-v'>26.32813948370942</span></li><li><span class='ee-k'>1:</span><span class='ee-v'>-15.74497400246968</span></li></ul></li><li><label class='ee-shut'>11: [26.32832787867499, -15.745493090237813]<input type='checkbox' class='ee-toggle'></label><ul><li><span class='ee-k'>0:</span><span class='ee-v'>26.32832787867499</span></li><li><span class='ee-k'>1:</span><span class='ee-v'>-15.745493090237813</span></li></ul></li><li><label class='ee-shut'>12: [26.329351649519865, -15.748313889785505]<input type='checkbox' class='ee-toggle'></label><ul><li><span class='ee-k'>0:</span><span class='ee-v'>26.329351649519865</span></li><li><span class='ee-k'>1:</span><span class='ee-v'>-15.748313889785505</span></li></ul></li><li><label class='ee-shut'>13: [26.33129774323608, -15.752294075100227]<input type='checkbox' class='ee-toggle'></label><ul><li><span class='ee-k'>0:</span><span class='ee-v'>26.33129774323608</span></li><li><span class='ee-k'>1:</span><span class='ee-v'>-15.752294075100227</span></li></ul></li><li><label class='ee-shut'>14: [26.33144322555474, -15.752591612349143]<input type='checkbox' class='ee-toggle'></label><ul><li><span class='ee-k'>0:</span><span class='ee-v'>26.33144322555474</span></li><li><span class='ee-k'>1:</span><span class='ee-v'>-15.752591612349143</span></li></ul></li><li><label class='ee-shut'>15: [26.331824520839202, -15.75345146860326]<input type='checkbox' class='ee-toggle'></label><ul><li><span class='ee-k'>0:</span><span class='ee-v'>26.331824520839202</span></li><li><span class='ee-k'>1:</span><span class='ee-v'>-15.75345146860326</span></li></ul></li><li><label class='ee-shut'>16: [26.334699432093768, -15.75993444048778]<input type='checkbox' class='ee-toggle'></label><ul><li><span class='ee-k'>0:</span><span class='ee-v'>26.334699432093768</span></li><li><span class='ee-k'>1:</span><span class='ee-v'>-15.75993444048778</span></li></ul></li><li><label class='ee-shut'>17: [26.337385207147797, -15.762953847634574]<input type='checkbox' class='ee-toggle'></label><ul><li><span class='ee-k'>0:</span><span class='ee-v'>26.337385207147797</span></li><li><span class='ee-k'>1:</span><span class='ee-v'>-15.762953847634574</span></li></ul></li><li><label class='ee-shut'>18: [26.33966692843868, -15.765424235824824]<input type='checkbox' class='ee-toggle'></label><ul><li><span class='ee-k'>0:</span><span class='ee-v'>26.33966692843868</span></li><li><span class='ee-k'>1:</span><span class='ee-v'>-15.765424235824824</span></li></ul></li><li><label class='ee-shut'>19: [26.344990945200703, -15.772332011951162]<input type='checkbox' class='ee-toggle'></label><ul><li><span class='ee-k'>0:</span><span class='ee-v'>26.344990945200703</span></li><li><span class='ee-k'>1:</span><span class='ee-v'>-15.772332011951162</span></li></ul></li><li><label class='ee-shut'>20: [26.349411780187143, -15.779102321521831]<input type='checkbox' class='ee-toggle'></label><ul><li><span class='ee-k'>0:</span><span class='ee-v'>26.349411780187143</span></li><li><span class='ee-k'>1:</span><span class='ee-v'>-15.779102321521831</span></li></ul></li><li><label class='ee-shut'>21: [26.35177772242564, -15.782573217045408]<input type='checkbox' class='ee-toggle'></label><ul><li><span class='ee-k'>0:</span><span class='ee-v'>26.35177772242564</span></li><li><span class='ee-k'>1:</span><span class='ee-v'>-15.782573217045408</span></li></ul></li><li><label class='ee-shut'>22: [26.35281059118454, -15.78408841823849]<input type='checkbox' class='ee-toggle'></label><ul><li><span class='ee-k'>0:</span><span class='ee-v'>26.35281059118454</span></li><li><span class='ee-k'>1:</span><span class='ee-v'>-15.78408841823849</span></li></ul></li><li><label class='ee-shut'>23: [26.353546002342966, -15.785766302617859]<input type='checkbox' class='ee-toggle'></label><ul><li><span class='ee-k'>0:</span><span class='ee-v'>26.353546002342966</span></li><li><span class='ee-k'>1:</span><span class='ee-v'>-15.785766302617859</span></li></ul></li><li><label class='ee-shut'>24: [26.354284202526266, -15.787450532254619]<input type='checkbox' class='ee-toggle'></label><ul><li><span class='ee-k'>0:</span><span class='ee-v'>26.354284202526266</span></li><li><span class='ee-k'>1:</span><span class='ee-v'>-15.787450532254619</span></li></ul></li><li><label class='ee-shut'>25: [26.357815500340912, -15.794266485033326]<input type='checkbox' class='ee-toggle'></label><ul><li><span class='ee-k'>0:</span><span class='ee-v'>26.357815500340912</span></li><li><span class='ee-k'>1:</span><span class='ee-v'>-15.794266485033326</span></li></ul></li><li><label class='ee-shut'>26: [26.35783452376185, -15.794303205661327]<input type='checkbox' class='ee-toggle'></label><ul><li><span class='ee-k'>0:</span><span class='ee-v'>26.35783452376185</span></li><li><span class='ee-k'>1:</span><span class='ee-v'>-15.794303205661327</span></li></ul></li><li><label class='ee-shut'>27: [26.35807658690089, -15.7947704060467]<input type='checkbox' class='ee-toggle'></label><ul><li><span class='ee-k'>0:</span><span class='ee-v'>26.35807658690089</span></li><li><span class='ee-k'>1:</span><span class='ee-v'>-15.7947704060467</span></li></ul></li><li><label class='ee-shut'>28: [26.358348517431757, -15.795295252860983]<input type='checkbox' class='ee-toggle'></label><ul><li><span class='ee-k'>0:</span><span class='ee-v'>26.358348517431757</span></li><li><span class='ee-k'>1:</span><span class='ee-v'>-15.795295252860983</span></li></ul></li><li><label class='ee-shut'>29: [26.359644588313884, -15.797306744422034]<input type='checkbox' class='ee-toggle'></label><ul><li><span class='ee-k'>0:</span><span class='ee-v'>26.359644588313884</span></li><li><span class='ee-k'>1:</span><span class='ee-v'>-15.797306744422034</span></li></ul></li><li><label class='ee-shut'>30: [26.35982212968063, -15.797582284286426]<input type='checkbox' class='ee-toggle'></label><ul><li><span class='ee-k'>0:</span><span class='ee-v'>26.35982212968063</span></li><li><span class='ee-k'>1:</span><span class='ee-v'>-15.797582284286426</span></li></ul></li><li><label class='ee-shut'>31: [26.36029142702618, -15.798340738875442]<input type='checkbox' class='ee-toggle'></label><ul><li><span class='ee-k'>0:</span><span class='ee-v'>26.36029142702618</span></li><li><span class='ee-k'>1:</span><span class='ee-v'>-15.798340738875442</span></li></ul></li><li><label class='ee-shut'>32: [26.36597802017731, -15.807530576935893]<input type='checkbox' class='ee-toggle'></label><ul><li><span class='ee-k'>0:</span><span class='ee-v'>26.36597802017731</span></li><li><span class='ee-k'>1:</span><span class='ee-v'>-15.807530576935893</span></li></ul></li><li><label class='ee-shut'>33: [26.367038681770566, -15.809531817520542]<input type='checkbox' class='ee-toggle'></label><ul><li><span class='ee-k'>0:</span><span class='ee-v'>26.367038681770566</span></li><li><span class='ee-k'>1:</span><span class='ee-v'>-15.809531817520542</span></li></ul></li><li><label class='ee-shut'>34: [26.36902031779861, -15.813270633981338]<input type='checkbox' class='ee-toggle'></label><ul><li><span class='ee-k'>0:</span><span class='ee-v'>26.36902031779861</span></li><li><span class='ee-k'>1:</span><span class='ee-v'>-15.813270633981338</span></li></ul></li><li><label class='ee-shut'>35: [26.37394027839572, -15.822211989991677]<input type='checkbox' class='ee-toggle'></label><ul><li><span class='ee-k'>0:</span><span class='ee-v'>26.37394027839572</span></li><li><span class='ee-k'>1:</span><span class='ee-v'>-15.822211989991677</span></li></ul></li><li><label class='ee-shut'>36: [26.374672820707836, -15.824488112227774]<input type='checkbox' class='ee-toggle'></label><ul><li><span class='ee-k'>0:</span><span class='ee-v'>26.374672820707836</span></li><li><span class='ee-k'>1:</span><span class='ee-v'>-15.824488112227774</span></li></ul></li><li><label class='ee-shut'>37: [26.375390121281686, -15.826716819869533]<input type='checkbox' class='ee-toggle'></label><ul><li><span class='ee-k'>0:</span><span class='ee-v'>26.375390121281686</span></li><li><span class='ee-k'>1:</span><span class='ee-v'>-15.826716819869533</span></li></ul></li><li><label class='ee-shut'>38: [26.375439860458773, -15.826755591411537]<input type='checkbox' class='ee-toggle'></label><ul><li><span class='ee-k'>0:</span><span class='ee-v'>26.375439860458773</span></li><li><span class='ee-k'>1:</span><span class='ee-v'>-15.826755591411537</span></li></ul></li><li><label class='ee-shut'>39: [26.375451383715014, -15.82676457408863]<input type='checkbox' class='ee-toggle'></label><ul><li><span class='ee-k'>0:</span><span class='ee-v'>26.375451383715014</span></li><li><span class='ee-k'>1:</span><span class='ee-v'>-15.82676457408863</span></li></ul></li><li><label class='ee-shut'>40: [26.37615069563742, -15.828614762254087]<input type='checkbox' class='ee-toggle'></label><ul><li><span class='ee-k'>0:</span><span class='ee-v'>26.37615069563742</span></li><li><span class='ee-k'>1:</span><span class='ee-v'>-15.828614762254087</span></li></ul></li><li><label class='ee-shut'>41: [26.376185027271358, -15.828691422251419]<input type='checkbox' class='ee-toggle'></label><ul><li><span class='ee-k'>0:</span><span class='ee-v'>26.376185027271358</span></li><li><span class='ee-k'>1:</span><span class='ee-v'>-15.828691422251419</span></li></ul></li><li><label class='ee-shut'>42: [26.376675041890696, -15.829785512954869]<input type='checkbox' class='ee-toggle'></label><ul><li><span class='ee-k'>0:</span><span class='ee-v'>26.376675041890696</span></li><li><span class='ee-k'>1:</span><span class='ee-v'>-15.829785512954869</span></li></ul></li><li><label class='ee-shut'>43: [26.378670094384315, -15.834239889830085]<input type='checkbox' class='ee-toggle'></label><ul><li><span class='ee-k'>0:</span><span class='ee-v'>26.378670094384315</span></li><li><span class='ee-k'>1:</span><span class='ee-v'>-15.834239889830085</span></li></ul></li><li><label class='ee-shut'>44: [26.37973965076699, -15.838264277691058]<input type='checkbox' class='ee-toggle'></label><ul><li><span class='ee-k'>0:</span><span class='ee-v'>26.37973965076699</span></li><li><span class='ee-k'>1:</span><span class='ee-v'>-15.838264277691058</span></li></ul></li><li><label class='ee-shut'>45: [26.380476456879187, -15.842128527823325]<input type='checkbox' class='ee-toggle'></label><ul><li><span class='ee-k'>0:</span><span class='ee-v'>26.380476456879187</span></li><li><span class='ee-k'>1:</span><span class='ee-v'>-15.842128527823325</span></li></ul></li><li><label class='ee-shut'>46: [26.382401659601463, -15.845512540216703]<input type='checkbox' class='ee-toggle'></label><ul><li><span class='ee-k'>0:</span><span class='ee-v'>26.382401659601463</span></li><li><span class='ee-k'>1:</span><span class='ee-v'>-15.845512540216703</span></li></ul></li><li><label class='ee-shut'>47: [26.385539025384492, -15.850771373114132]<input type='checkbox' class='ee-toggle'></label><ul><li><span class='ee-k'>0:</span><span class='ee-v'>26.385539025384492</span></li><li><span class='ee-k'>1:</span><span class='ee-v'>-15.850771373114132</span></li></ul></li><li><label class='ee-shut'>48: [26.38827233568535, -15.854543926843428]<input type='checkbox' class='ee-toggle'></label><ul><li><span class='ee-k'>0:</span><span class='ee-v'>26.38827233568535</span></li><li><span class='ee-k'>1:</span><span class='ee-v'>-15.854543926843428</span></li></ul></li><li><label class='ee-shut'>49: [26.388343639802088, -15.854566791954511]<input type='checkbox' class='ee-toggle'></label><ul><li><span class='ee-k'>0:</span><span class='ee-v'>26.388343639802088</span></li><li><span class='ee-k'>1:</span><span class='ee-v'>-15.854566791954511</span></li></ul></li><li><label class='ee-shut'>50: [26.38862076802568, -15.85619398580835]<input type='checkbox' class='ee-toggle'></label><ul><li><span class='ee-k'>0:</span><span class='ee-v'>26.38862076802568</span></li><li><span class='ee-k'>1:</span><span class='ee-v'>-15.85619398580835</span></li></ul></li><li><label class='ee-shut'>51: [26.388695794718004, -15.856634511169752]<input type='checkbox' class='ee-toggle'></label><ul><li><span class='ee-k'>0:</span><span class='ee-v'>26.388695794718004</span></li><li><span class='ee-k'>1:</span><span class='ee-v'>-15.856634511169752</span></li></ul></li><li><label class='ee-shut'>52: [26.38882290803758, -15.85694126871816]<input type='checkbox' class='ee-toggle'></label><ul><li><span class='ee-k'>0:</span><span class='ee-v'>26.38882290803758</span></li><li><span class='ee-k'>1:</span><span class='ee-v'>-15.85694126871816</span></li></ul></li><li><label class='ee-shut'>53: [26.389431620638067, -15.858410229174334]<input type='checkbox' class='ee-toggle'></label><ul><li><span class='ee-k'>0:</span><span class='ee-v'>26.389431620638067</span></li><li><span class='ee-k'>1:</span><span class='ee-v'>-15.858410229174334</span></li></ul></li><li><label class='ee-shut'>54: [26.38974007715368, -15.859598603987541]<input type='checkbox' class='ee-toggle'></label><ul><li><span class='ee-k'>0:</span><span class='ee-v'>26.38974007715368</span></li><li><span class='ee-k'>1:</span><span class='ee-v'>-15.859598603987541</span></li></ul></li><li><label class='ee-shut'>55: [26.38991708515493, -15.861206928511084]<input type='checkbox' class='ee-toggle'></label><ul><li><span class='ee-k'>0:</span><span class='ee-v'>26.38991708515493</span></li><li><span class='ee-k'>1:</span><span class='ee-v'>-15.861206928511084</span></li></ul></li><li><label class='ee-shut'>56: [26.38995361325279, -15.861397596018268]<input type='checkbox' class='ee-toggle'></label><ul><li><span class='ee-k'>0:</span><span class='ee-v'>26.38995361325279</span></li><li><span class='ee-k'>1:</span><span class='ee-v'>-15.861397596018268</span></li></ul></li><li><label class='ee-shut'>57: [26.390037283412692, -15.861834303919785]<input type='checkbox' class='ee-toggle'></label><ul><li><span class='ee-k'>0:</span><span class='ee-v'>26.390037283412692</span></li><li><span class='ee-k'>1:</span><span class='ee-v'>-15.861834303919785</span></li></ul></li><li><label class='ee-shut'>58: [26.390372406378475, -15.862626069796393]<input type='checkbox' class='ee-toggle'></label><ul><li><span class='ee-k'>0:</span><span class='ee-v'>26.390372406378475</span></li><li><span class='ee-k'>1:</span><span class='ee-v'>-15.862626069796393</span></li></ul></li><li><label class='ee-shut'>59: [26.3907913076239, -15.863615765726115]<input type='checkbox' class='ee-toggle'></label><ul><li><span class='ee-k'>0:</span><span class='ee-v'>26.3907913076239</span></li><li><span class='ee-k'>1:</span><span class='ee-v'>-15.863615765726115</span></li></ul></li><li><label class='ee-shut'>60: [26.39094268647479, -15.864220962814358]<input type='checkbox' class='ee-toggle'></label><ul><li><span class='ee-k'>0:</span><span class='ee-v'>26.39094268647479</span></li><li><span class='ee-k'>1:</span><span class='ee-v'>-15.864220962814358</span></li></ul></li><li><label class='ee-shut'>61: [26.391046707000747, -15.865169753428757]<input type='checkbox' class='ee-toggle'></label><ul><li><span class='ee-k'>0:</span><span class='ee-v'>26.391046707000747</span></li><li><span class='ee-k'>1:</span><span class='ee-v'>-15.865169753428757</span></li></ul></li><li><label class='ee-shut'>62: [26.391149466215662, -15.867098204947867]<input type='checkbox' class='ee-toggle'></label><ul><li><span class='ee-k'>0:</span><span class='ee-v'>26.391149466215662</span></li><li><span class='ee-k'>1:</span><span class='ee-v'>-15.867098204947867</span></li></ul></li><li><label class='ee-shut'>63: [26.391297888119674, -15.868031650734547]<input type='checkbox' class='ee-toggle'></label><ul><li><span class='ee-k'>0:</span><span class='ee-v'>26.391297888119674</span></li><li><span class='ee-k'>1:</span><span class='ee-v'>-15.868031650734547</span></li></ul></li><li><label class='ee-shut'>64: [26.392054936259505, -15.869802744327911]<input type='checkbox' class='ee-toggle'></label><ul><li><span class='ee-k'>0:</span><span class='ee-v'>26.392054936259505</span></li><li><span class='ee-k'>1:</span><span class='ee-v'>-15.869802744327911</span></li></ul></li><li><label class='ee-shut'>65: [26.393319217393284, -15.877225431103755]<input type='checkbox' class='ee-toggle'></label><ul><li><span class='ee-k'>0:</span><span class='ee-v'>26.393319217393284</span></li><li><span class='ee-k'>1:</span><span class='ee-v'>-15.877225431103755</span></li></ul></li><li><label class='ee-shut'>66: [26.393401754388826, -15.87746135412959]<input type='checkbox' class='ee-toggle'></label><ul><li><span class='ee-k'>0:</span><span class='ee-v'>26.393401754388826</span></li><li><span class='ee-k'>1:</span><span class='ee-v'>-15.87746135412959</span></li></ul></li><li><label class='ee-shut'>67: [26.39345584003911, -15.87787752253896]<input type='checkbox' class='ee-toggle'></label><ul><li><span class='ee-k'>0:</span><span class='ee-v'>26.39345584003911</span></li><li><span class='ee-k'>1:</span><span class='ee-v'>-15.87787752253896</span></li></ul></li><li><label class='ee-shut'>68: [26.393651030274306, -15.878088733228893]<input type='checkbox' class='ee-toggle'></label><ul><li><span class='ee-k'>0:</span><span class='ee-v'>26.393651030274306</span></li><li><span class='ee-k'>1:</span><span class='ee-v'>-15.878088733228893</span></li></ul></li><li><label class='ee-shut'>69: [26.393943821090033, -15.878393816709929]<input type='checkbox' class='ee-toggle'></label><ul><li><span class='ee-k'>0:</span><span class='ee-v'>26.393943821090033</span></li><li><span class='ee-k'>1:</span><span class='ee-v'>-15.878393816709929</span></li></ul></li><li><label class='ee-shut'>70: [26.39406581486478, -15.87858156265723]<input type='checkbox' class='ee-toggle'></label><ul><li><span class='ee-k'>0:</span><span class='ee-v'>26.39406581486478</span></li><li><span class='ee-k'>1:</span><span class='ee-v'>-15.87858156265723</span></li></ul></li><li><label class='ee-shut'>71: [26.39421220581352, -15.879074389511871]<input type='checkbox' class='ee-toggle'></label><ul><li><span class='ee-k'>0:</span><span class='ee-v'>26.39421220581352</span></li><li><span class='ee-k'>1:</span><span class='ee-v'>-15.879074389511871</span></li></ul></li><li><label class='ee-shut'>72: [26.394529393657493, -15.879801893306784]<input type='checkbox' class='ee-toggle'></label><ul><li><span class='ee-k'>0:</span><span class='ee-v'>26.394529393657493</span></li><li><span class='ee-k'>1:</span><span class='ee-v'>-15.879801893306784</span></li></ul></li><li><label class='ee-shut'>73: [26.394839114795985, -15.881749703395679]<input type='checkbox' class='ee-toggle'></label><ul><li><span class='ee-k'>0:</span><span class='ee-v'>26.394839114795985</span></li><li><span class='ee-k'>1:</span><span class='ee-v'>-15.881749703395679</span></li></ul></li><li><label class='ee-shut'>74: [26.394846579535244, -15.881796649987903]<input type='checkbox' class='ee-toggle'></label><ul><li><span class='ee-k'>0:</span><span class='ee-v'>26.394846579535244</span></li><li><span class='ee-k'>1:</span><span class='ee-v'>-15.881796649987903</span></li></ul></li><li><label class='ee-shut'>75: [26.395066169908006, -15.884143395886246]<input type='checkbox' class='ee-toggle'></label><ul><li><span class='ee-k'>0:</span><span class='ee-v'>26.395066169908006</span></li><li><span class='ee-k'>1:</span><span class='ee-v'>-15.884143395886246</span></li></ul></li><li><label class='ee-shut'>76: [26.395111451676716, -15.88525829351465]<input type='checkbox' class='ee-toggle'></label><ul><li><span class='ee-k'>0:</span><span class='ee-v'>26.395111451676716</span></li><li><span class='ee-k'>1:</span><span class='ee-v'>-15.88525829351465</span></li></ul></li><li><label class='ee-shut'>77: [26.395188165344425, -15.887147192904918]<input type='checkbox' class='ee-toggle'></label><ul><li><span class='ee-k'>0:</span><span class='ee-v'>26.395188165344425</span></li><li><span class='ee-k'>1:</span><span class='ee-v'>-15.887147192904918</span></li></ul></li><li><label class='ee-shut'>78: [26.39517895975187, -15.888563836683934]<input type='checkbox' class='ee-toggle'></label><ul><li><span class='ee-k'>0:</span><span class='ee-v'>26.39517895975187</span></li><li><span class='ee-k'>1:</span><span class='ee-v'>-15.888563836683934</span></li></ul></li><li><label class='ee-shut'>79: [26.395178817056333, -15.888585971764115]<input type='checkbox' class='ee-toggle'></label><ul><li><span class='ee-k'>0:</span><span class='ee-v'>26.395178817056333</span></li><li><span class='ee-k'>1:</span><span class='ee-v'>-15.888585971764115</span></li></ul></li><li><label class='ee-shut'>80: [26.395163767151328, -15.890901874117734]<input type='checkbox' class='ee-toggle'></label><ul><li><span class='ee-k'>0:</span><span class='ee-v'>26.395163767151328</span></li><li><span class='ee-k'>1:</span><span class='ee-v'>-15.890901874117734</span></li></ul></li><li><label class='ee-shut'>81: [26.395383357488527, -15.893506641737181]<input type='checkbox' class='ee-toggle'></label><ul><li><span class='ee-k'>0:</span><span class='ee-v'>26.395383357488527</span></li><li><span class='ee-k'>1:</span><span class='ee-v'>-15.893506641737181</span></li></ul></li><li><label class='ee-shut'>82: [26.395629598600756, -15.895550353548089]<input type='checkbox' class='ee-toggle'></label><ul><li><span class='ee-k'>0:</span><span class='ee-v'>26.395629598600756</span></li><li><span class='ee-k'>1:</span><span class='ee-v'>-15.895550353548089</span></li></ul></li><li><label class='ee-shut'>83: [26.395712745255057, -15.896240442893319]<input type='checkbox' class='ee-toggle'></label><ul><li><span class='ee-k'>0:</span><span class='ee-v'>26.395712745255057</span></li><li><span class='ee-k'>1:</span><span class='ee-v'>-15.896240442893319</span></li></ul></li><li><label class='ee-shut'>84: [26.39527356148188, -15.900628522267684]<input type='checkbox' class='ee-toggle'></label><ul><li><span class='ee-k'>0:</span><span class='ee-v'>26.39527356148188</span></li><li><span class='ee-k'>1:</span><span class='ee-v'>-15.900628522267684</span></li></ul></li><li><label class='ee-shut'>85: [26.395263674407357, -15.901135707801167]<input type='checkbox' class='ee-toggle'></label><ul><li><span class='ee-k'>0:</span><span class='ee-v'>26.395263674407357</span></li><li><span class='ee-k'>1:</span><span class='ee-v'>-15.901135707801167</span></li></ul></li><li><label class='ee-shut'>86: [26.39520622162483, -15.904082572551191]<input type='checkbox' class='ee-toggle'></label><ul><li><span class='ee-k'>0:</span><span class='ee-v'>26.39520622162483</span></li><li><span class='ee-k'>1:</span><span class='ee-v'>-15.904082572551191</span></li></ul></li><li><label class='ee-shut'>87: [26.39520321853064, -15.904236649394978]<input type='checkbox' class='ee-toggle'></label><ul><li><span class='ee-k'>0:</span><span class='ee-v'>26.39520321853064</span></li><li><span class='ee-k'>1:</span><span class='ee-v'>-15.904236649394978</span></li></ul></li><li><label class='ee-shut'>88: [26.39527356250583, -15.904594135931227]<input type='checkbox' class='ee-toggle'></label><ul><li><span class='ee-k'>0:</span><span class='ee-v'>26.39527356250583</span></li><li><span class='ee-k'>1:</span><span class='ee-v'>-15.904594135931227</span></li></ul></li><li><label class='ee-shut'>89: [26.39563954562587, -15.912313955460986]<input type='checkbox' class='ee-toggle'></label><ul><li><span class='ee-k'>0:</span><span class='ee-v'>26.39563954562587</span></li><li><span class='ee-k'>1:</span><span class='ee-v'>-15.912313955460986</span></li></ul></li><li><label class='ee-shut'>90: [26.395873318625917, -15.913455333816223]<input type='checkbox' class='ee-toggle'></label><ul><li><span class='ee-k'>0:</span><span class='ee-v'>26.395873318625917</span></li><li><span class='ee-k'>1:</span><span class='ee-v'>-15.913455333816223</span></li></ul></li><li><label class='ee-shut'>91: [26.396908292300274, -15.918508368128098]<input type='checkbox' class='ee-toggle'></label><ul><li><span class='ee-k'>0:</span><span class='ee-v'>26.396908292300274</span></li><li><span class='ee-k'>1:</span><span class='ee-v'>-15.918508368128098</span></li></ul></li><li><label class='ee-shut'>92: [26.397050982006853, -15.920963019491335]<input type='checkbox' class='ee-toggle'></label><ul><li><span class='ee-k'>0:</span><span class='ee-v'>26.397050982006853</span></li><li><span class='ee-k'>1:</span><span class='ee-v'>-15.920963019491335</span></li></ul></li><li><label class='ee-shut'>93: [26.397127882021877, -15.922285927976633]<input type='checkbox' class='ee-toggle'></label><ul><li><span class='ee-k'>0:</span><span class='ee-v'>26.397127882021877</span></li><li><span class='ee-k'>1:</span><span class='ee-v'>-15.922285927976633</span></li></ul></li><li><label class='ee-shut'>94: [26.397594324623185, -15.924426713855818]<input type='checkbox' class='ee-toggle'></label><ul><li><span class='ee-k'>0:</span><span class='ee-v'>26.397594324623185</span></li><li><span class='ee-k'>1:</span><span class='ee-v'>-15.924426713855818</span></li></ul></li><li><label class='ee-shut'>95: [26.397664659878277, -15.924749514931253]<input type='checkbox' class='ee-toggle'></label><ul><li><span class='ee-k'>0:</span><span class='ee-v'>26.397664659878277</span></li><li><span class='ee-k'>1:</span><span class='ee-v'>-15.924749514931253</span></li></ul></li><li><label class='ee-shut'>96: [26.39839662807515, -15.928949274555276]<input type='checkbox' class='ee-toggle'></label><ul><li><span class='ee-k'>0:</span><span class='ee-v'>26.39839662807515</span></li><li><span class='ee-k'>1:</span><span class='ee-v'>-15.928949274555276</span></li></ul></li><li><label class='ee-shut'>97: [26.399787368831568, -15.936363162335912]<input type='checkbox' class='ee-toggle'></label><ul><li><span class='ee-k'>0:</span><span class='ee-v'>26.399787368831568</span></li><li><span class='ee-k'>1:</span><span class='ee-v'>-15.936363162335912</span></li></ul></li><li><label class='ee-shut'>98: [26.40022654977563, -15.939131570116036]<input type='checkbox' class='ee-toggle'></label><ul><li><span class='ee-k'>0:</span><span class='ee-v'>26.40022654977563</span></li><li><span class='ee-k'>1:</span><span class='ee-v'>-15.939131570116036</span></li></ul></li><li><label class='ee-shut'>99: [26.400934120358787, -15.944433666730747]<input type='checkbox' class='ee-toggle'></label><ul><li><span class='ee-k'>0:</span><span class='ee-v'>26.400934120358787</span></li><li><span class='ee-k'>1:</span><span class='ee-v'>-15.944433666730747</span></li></ul></li><li><label class='ee-shut'>100: [26.401129310153348, -15.947694619184762]<input type='checkbox' class='ee-toggle'></label><ul><li><span class='ee-k'>0:</span><span class='ee-v'>26.401129310153348</span></li><li><span class='ee-k'>1:</span><span class='ee-v'>-15.947694619184762</span></li></ul></li><li><label class='ee-shut'>101: [26.4023492591985, -15.950486330418174]<input type='checkbox' class='ee-toggle'></label><ul><li><span class='ee-k'>0:</span><span class='ee-v'>26.4023492591985</span></li><li><span class='ee-k'>1:</span><span class='ee-v'>-15.950486330418174</span></li></ul></li><li><label class='ee-shut'>102: [26.402783446931753, -15.956924092114804]<input type='checkbox' class='ee-toggle'></label><ul><li><span class='ee-k'>0:</span><span class='ee-v'>26.402783446931753</span></li><li><span class='ee-k'>1:</span><span class='ee-v'>-15.956924092114804</span></li></ul></li><li><label class='ee-shut'>103: [26.40294703206885, -15.957230847417579]<input type='checkbox' class='ee-toggle'></label><ul><li><span class='ee-k'>0:</span><span class='ee-v'>26.40294703206885</span></li><li><span class='ee-k'>1:</span><span class='ee-v'>-15.957230847417579</span></li></ul></li><li><label class='ee-shut'>104: [26.402922634463774, -15.96009279878443]<input type='checkbox' class='ee-toggle'></label><ul><li><span class='ee-k'>0:</span><span class='ee-v'>26.402922634463774</span></li><li><span class='ee-k'>1:</span><span class='ee-v'>-15.96009279878443</span></li></ul></li><li><label class='ee-shut'>105: [26.402947032986543, -15.965323966103014]<input type='checkbox' class='ee-toggle'></label><ul><li><span class='ee-k'>0:</span><span class='ee-v'>26.402947032986543</span></li><li><span class='ee-k'>1:</span><span class='ee-v'>-15.965323966103014</span></li></ul></li><li><label class='ee-shut'>106: [26.40258875512292, -15.966529577098443]<input type='checkbox' class='ee-toggle'></label><ul><li><span class='ee-k'>0:</span><span class='ee-v'>26.40258875512292</span></li><li><span class='ee-k'>1:</span><span class='ee-v'>-15.966529577098443</span></li></ul></li><li><label class='ee-shut'>107: [26.401873480211812, -15.968936441987582]<input type='checkbox' class='ee-toggle'></label><ul><li><span class='ee-k'>0:</span><span class='ee-v'>26.401873480211812</span></li><li><span class='ee-k'>1:</span><span class='ee-v'>-15.968936441987582</span></li></ul></li><li><label class='ee-shut'>108: [26.40093892471843, -15.971378479921471]<input type='checkbox' class='ee-toggle'></label><ul><li><span class='ee-k'>0:</span><span class='ee-v'>26.40093892471843</span></li><li><span class='ee-k'>1:</span><span class='ee-v'>-15.971378479921471</span></li></ul></li><li><label class='ee-shut'>109: [26.400921920137122, -15.971422913502856]<input type='checkbox' class='ee-toggle'></label><ul><li><span class='ee-k'>0:</span><span class='ee-v'>26.400921920137122</span></li><li><span class='ee-k'>1:</span><span class='ee-v'>-15.971422913502856</span></li></ul></li><li><label class='ee-shut'>110: [26.40014115537294, -15.973815526350755]<input type='checkbox' class='ee-toggle'></label><ul><li><span class='ee-k'>0:</span><span class='ee-v'>26.40014115537294</span></li><li><span class='ee-k'>1:</span><span class='ee-v'>-15.973815526350755</span></li></ul></li><li><label class='ee-shut'>111: [26.399733338005184, -15.975652056917337]<input type='checkbox' class='ee-toggle'></label><ul><li><span class='ee-k'>0:</span><span class='ee-v'>26.399733338005184</span></li><li><span class='ee-k'>1:</span><span class='ee-v'>-15.975652056917337</span></li></ul></li><li><label class='ee-shut'>112: [26.39967757338309, -15.975903175734079]<input type='checkbox' class='ee-toggle'></label><ul><li><span class='ee-k'>0:</span><span class='ee-v'>26.39967757338309</span></li><li><span class='ee-k'>1:</span><span class='ee-v'>-15.975903175734079</span></li></ul></li><li><label class='ee-shut'>113: [26.399277704021774, -15.978089613095126]<input type='checkbox' class='ee-toggle'></label><ul><li><span class='ee-k'>0:</span><span class='ee-v'>26.399277704021774</span></li><li><span class='ee-k'>1:</span><span class='ee-v'>-15.978089613095126</span></li></ul></li><li><label class='ee-shut'>114: [26.398506422798377, -15.98230672623257]<input type='checkbox' class='ee-toggle'></label><ul><li><span class='ee-k'>0:</span><span class='ee-v'>26.398506422798377</span></li><li><span class='ee-k'>1:</span><span class='ee-v'>-15.98230672623257</span></li></ul></li><li><label class='ee-shut'>115: [26.394236606394326, -15.989976642982507]<input type='checkbox' class='ee-toggle'></label><ul><li><span class='ee-k'>0:</span><span class='ee-v'>26.394236606394326</span></li><li><span class='ee-k'>1:</span><span class='ee-v'>-15.989976642982507</span></li></ul></li><li><label class='ee-shut'>116: [26.39227251047643, -15.991666947016704]<input type='checkbox' class='ee-toggle'></label><ul><li><span class='ee-k'>0:</span><span class='ee-v'>26.39227251047643</span></li><li><span class='ee-k'>1:</span><span class='ee-v'>-15.991666947016704</span></li></ul></li><li><label class='ee-shut'>117: [26.391674714777317, -15.992181396924536]<input type='checkbox' class='ee-toggle'></label><ul><li><span class='ee-k'>0:</span><span class='ee-v'>26.391674714777317</span></li><li><span class='ee-k'>1:</span><span class='ee-v'>-15.992181396924536</span></li></ul></li><li><label class='ee-shut'>118: [26.391549102499486, -15.992297509337872]<input type='checkbox' class='ee-toggle'></label><ul><li><span class='ee-k'>0:</span><span class='ee-v'>26.391549102499486</span></li><li><span class='ee-k'>1:</span><span class='ee-v'>-15.992297509337872</span></li></ul></li><li><label class='ee-shut'>119: [26.3885028501278, -15.995113212967803]<input type='checkbox' class='ee-toggle'></label><ul><li><span class='ee-k'>0:</span><span class='ee-v'>26.3885028501278</span></li><li><span class='ee-k'>1:</span><span class='ee-v'>-15.995113212967803</span></li></ul></li><li><label class='ee-shut'>120: [26.387258504339478, -15.99635629108001]<input type='checkbox' class='ee-toggle'></label><ul><li><span class='ee-k'>0:</span><span class='ee-v'>26.387258504339478</span></li><li><span class='ee-k'>1:</span><span class='ee-v'>-15.99635629108001</span></li></ul></li><li><label class='ee-shut'>121: [26.386459650941312, -15.996881302860261]<input type='checkbox' class='ee-toggle'></label><ul><li><span class='ee-k'>0:</span><span class='ee-v'>26.386459650941312</span></li><li><span class='ee-k'>1:</span><span class='ee-v'>-15.996881302860261</span></li></ul></li><li><label class='ee-shut'>122: [26.38486740704599, -15.997927717263641]<input type='checkbox' class='ee-toggle'></label><ul><li><span class='ee-k'>0:</span><span class='ee-v'>26.38486740704599</span></li><li><span class='ee-k'>1:</span><span class='ee-v'>-15.997927717263641</span></li></ul></li><li><label class='ee-shut'>123: [26.383040308277092, -15.998992732412948]<input type='checkbox' class='ee-toggle'></label><ul><li><span class='ee-k'>0:</span><span class='ee-v'>26.383040308277092</span></li><li><span class='ee-k'>1:</span><span class='ee-v'>-15.998992732412948</span></li></ul></li><li><label class='ee-shut'>124: [26.382666383198018, -15.999210686524433]<input type='checkbox' class='ee-toggle'></label><ul><li><span class='ee-k'>0:</span><span class='ee-v'>26.382666383198018</span></li><li><span class='ee-k'>1:</span><span class='ee-v'>-15.999210686524433</span></li></ul></li><li><label class='ee-shut'>125: [26.382573908057513, -15.999264591850375]<input type='checkbox' class='ee-toggle'></label><ul><li><span class='ee-k'>0:</span><span class='ee-v'>26.382573908057513</span></li><li><span class='ee-k'>1:</span><span class='ee-v'>-15.999264591850375</span></li></ul></li><li><label class='ee-shut'>126: [26.380987975693294, -15.999546036902483]<input type='checkbox' class='ee-toggle'></label><ul><li><span class='ee-k'>0:</span><span class='ee-v'>26.380987975693294</span></li><li><span class='ee-k'>1:</span><span class='ee-v'>-15.999546036902483</span></li></ul></li><li><label class='ee-shut'>127: [26.378914062478835, -16.000108929253052]<input type='checkbox' class='ee-toggle'></label><ul><li><span class='ee-k'>0:</span><span class='ee-v'>26.378914062478835</span></li><li><span class='ee-k'>1:</span><span class='ee-v'>-16.000108929253052</span></li></ul></li><li><label class='ee-shut'>128: [26.37875519654193, -16.000215283062182]<input type='checkbox' class='ee-toggle'></label><ul><li><span class='ee-k'>0:</span><span class='ee-v'>26.37875519654193</span></li><li><span class='ee-k'>1:</span><span class='ee-v'>-16.000215283062182</span></li></ul></li><li><label class='ee-shut'>129: [26.377547720498196, -16.00102362293063]<input type='checkbox' class='ee-toggle'></label><ul><li><span class='ee-k'>0:</span><span class='ee-v'>26.377547720498196</span></li><li><span class='ee-k'>1:</span><span class='ee-v'>-16.00102362293063</span></li></ul></li><li><label class='ee-shut'>130: [26.37713444461686, -16.001072602161333]<input type='checkbox' class='ee-toggle'></label><ul><li><span class='ee-k'>0:</span><span class='ee-v'>26.37713444461686</span></li><li><span class='ee-k'>1:</span><span class='ee-v'>-16.001072602161333</span></li></ul></li><li><label class='ee-shut'>131: [26.375865893502837, -16.001222939996968]<input type='checkbox' class='ee-toggle'></label><ul><li><span class='ee-k'>0:</span><span class='ee-v'>26.375865893502837</span></li><li><span class='ee-k'>1:</span><span class='ee-v'>-16.001222939996968</span></li></ul></li><li><label class='ee-shut'>132: [26.37576659772378, -16.00123470676441]<input type='checkbox' class='ee-toggle'></label><ul><li><span class='ee-k'>0:</span><span class='ee-v'>26.37576659772378</span></li><li><span class='ee-k'>1:</span><span class='ee-v'>-16.00123470676441</span></li></ul></li><li><label class='ee-shut'>133: [26.370350029687813, -16.00822376864322]<input type='checkbox' class='ee-toggle'></label><ul><li><span class='ee-k'>0:</span><span class='ee-v'>26.370350029687813</span></li><li><span class='ee-k'>1:</span><span class='ee-v'>-16.00822376864322</span></li></ul></li><li><label class='ee-shut'>134: [26.36881289630334, -16.010334509800725]<input type='checkbox' class='ee-toggle'></label><ul><li><span class='ee-k'>0:</span><span class='ee-v'>26.36881289630334</span></li><li><span class='ee-k'>1:</span><span class='ee-v'>-16.010334509800725</span></li></ul></li><li><label class='ee-shut'>135: [26.368216161424336, -16.011075489082252]<input type='checkbox' class='ee-toggle'></label><ul><li><span class='ee-k'>0:</span><span class='ee-v'>26.368216161424336</span></li><li><span class='ee-k'>1:</span><span class='ee-v'>-16.011075489082252</span></li></ul></li><li><label class='ee-shut'>136: [26.36538484253371, -16.01459110516499]<input type='checkbox' class='ee-toggle'></label><ul><li><span class='ee-k'>0:</span><span class='ee-v'>26.36538484253371</span></li><li><span class='ee-k'>1:</span><span class='ee-v'>-16.01459110516499</span></li></ul></li><li><label class='ee-shut'>137: [26.358333544395183, -16.02378410371396]<input type='checkbox' class='ee-toggle'></label><ul><li><span class='ee-k'>0:</span><span class='ee-v'>26.358333544395183</span></li><li><span class='ee-k'>1:</span><span class='ee-v'>-16.02378410371396</span></li></ul></li><li><label class='ee-shut'>138: [26.357767263433725, -16.024506337337588]<input type='checkbox' class='ee-toggle'></label><ul><li><span class='ee-k'>0:</span><span class='ee-v'>26.357767263433725</span></li><li><span class='ee-k'>1:</span><span class='ee-v'>-16.024506337337588</span></li></ul></li><li><label class='ee-shut'>139: [26.35705976721914, -16.02540866752826]<input type='checkbox' class='ee-toggle'></label><ul><li><span class='ee-k'>0:</span><span class='ee-v'>26.35705976721914</span></li><li><span class='ee-k'>1:</span><span class='ee-v'>-16.02540866752826</span></li></ul></li><li><label class='ee-shut'>140: [26.354969075941707, -16.028075035060567]<input type='checkbox' class='ee-toggle'></label><ul><li><span class='ee-k'>0:</span><span class='ee-v'>26.354969075941707</span></li><li><span class='ee-k'>1:</span><span class='ee-v'>-16.028075035060567</span></li></ul></li><li><label class='ee-shut'>141: [26.353258561774, -16.03025647178272]<input type='checkbox' class='ee-toggle'></label><ul><li><span class='ee-k'>0:</span><span class='ee-v'>26.353258561774</span></li><li><span class='ee-k'>1:</span><span class='ee-v'>-16.03025647178272</span></li></ul></li><li><label class='ee-shut'>142: [26.350815443041835, -16.033549746758744]<input type='checkbox' class='ee-toggle'></label><ul><li><span class='ee-k'>0:</span><span class='ee-v'>26.350815443041835</span></li><li><span class='ee-k'>1:</span><span class='ee-v'>-16.033549746758744</span></li></ul></li><li><label class='ee-shut'>143: [26.349379128957025, -16.03548580257051]<input type='checkbox' class='ee-toggle'></label><ul><li><span class='ee-k'>0:</span><span class='ee-v'>26.349379128957025</span></li><li><span class='ee-k'>1:</span><span class='ee-v'>-16.03548580257051</span></li></ul></li><li><label class='ee-shut'>144: [26.347524808656658, -16.037572809081063]<input type='checkbox' class='ee-toggle'></label><ul><li><span class='ee-k'>0:</span><span class='ee-v'>26.347524808656658</span></li><li><span class='ee-k'>1:</span><span class='ee-v'>-16.037572809081063</span></li></ul></li><li><label class='ee-shut'>145: [26.345694887129472, -16.03984738150478]<input type='checkbox' class='ee-toggle'></label><ul><li><span class='ee-k'>0:</span><span class='ee-v'>26.345694887129472</span></li><li><span class='ee-k'>1:</span><span class='ee-v'>-16.03984738150478</span></li></ul></li><li><label class='ee-shut'>146: [26.343777842615975, -16.042348854507072]<input type='checkbox' class='ee-toggle'></label><ul><li><span class='ee-k'>0:</span><span class='ee-v'>26.343777842615975</span></li><li><span class='ee-k'>1:</span><span class='ee-v'>-16.042348854507072</span></li></ul></li><li><label class='ee-shut'>147: [26.339351157569023, -16.048124741482297]<input type='checkbox' class='ee-toggle'></label><ul><li><span class='ee-k'>0:</span><span class='ee-v'>26.339351157569023</span></li><li><span class='ee-k'>1:</span><span class='ee-v'>-16.048124741482297</span></li></ul></li><li><label class='ee-shut'>148: [26.336911363546427, -16.051133985832962]<input type='checkbox' class='ee-toggle'></label><ul><li><span class='ee-k'>0:</span><span class='ee-v'>26.336911363546427</span></li><li><span class='ee-k'>1:</span><span class='ee-v'>-16.051133985832962</span></li></ul></li><li><label class='ee-shut'>149: [26.333324615859496, -16.055557659181602]<input type='checkbox' class='ee-toggle'></label><ul><li><span class='ee-k'>0:</span><span class='ee-v'>26.333324615859496</span></li><li><span class='ee-k'>1:</span><span class='ee-v'>-16.055557659181602</span></li></ul></li><li><label class='ee-shut'>150: [26.322591778302552, -16.069410331027814]<input type='checkbox' class='ee-toggle'></label><ul><li><span class='ee-k'>0:</span><span class='ee-v'>26.322591778302552</span></li><li><span class='ee-k'>1:</span><span class='ee-v'>-16.069410331027814</span></li></ul></li><li><label class='ee-shut'>151: [26.315470803668557, -16.077922309908324]<input type='checkbox' class='ee-toggle'></label><ul><li><span class='ee-k'>0:</span><span class='ee-v'>26.315470803668557</span></li><li><span class='ee-k'>1:</span><span class='ee-v'>-16.077922309908324</span></li></ul></li><li><label class='ee-shut'>152: [26.30162598955717, -16.09607790206461]<input type='checkbox' class='ee-toggle'></label><ul><li><span class='ee-k'>0:</span><span class='ee-v'>26.30162598955717</span></li><li><span class='ee-k'>1:</span><span class='ee-v'>-16.09607790206461</span></li></ul></li><li><label class='ee-shut'>153: [26.30012890841585, -16.09795662155255]<input type='checkbox' class='ee-toggle'></label><ul><li><span class='ee-k'>0:</span><span class='ee-v'>26.30012890841585</span></li><li><span class='ee-k'>1:</span><span class='ee-v'>-16.09795662155255</span></li></ul></li><li><label class='ee-shut'>154: [26.299201153895826, -16.099120854212302]<input type='checkbox' class='ee-toggle'></label><ul><li><span class='ee-k'>0:</span><span class='ee-v'>26.299201153895826</span></li><li><span class='ee-k'>1:</span><span class='ee-v'>-16.099120854212302</span></li></ul></li><li><label class='ee-shut'>155: [26.299183174040923, -16.099143416044523]<input type='checkbox' class='ee-toggle'></label><ul><li><span class='ee-k'>0:</span><span class='ee-v'>26.299183174040923</span></li><li><span class='ee-k'>1:</span><span class='ee-v'>-16.099143416044523</span></li></ul></li><li><label class='ee-shut'>156: [26.299167127800825, -16.09910697668414]<input type='checkbox' class='ee-toggle'></label><ul><li><span class='ee-k'>0:</span><span class='ee-v'>26.299167127800825</span></li><li><span class='ee-k'>1:</span><span class='ee-v'>-16.09910697668414</span></li></ul></li><li><label class='ee-shut'>157: [26.295786357911503, -16.09142927612735]<input type='checkbox' class='ee-toggle'></label><ul><li><span class='ee-k'>0:</span><span class='ee-v'>26.295786357911503</span></li><li><span class='ee-k'>1:</span><span class='ee-v'>-16.09142927612735</span></li></ul></li><li><label class='ee-shut'>158: [26.290661654858237, -16.08617702477344]<input type='checkbox' class='ee-toggle'></label><ul><li><span class='ee-k'>0:</span><span class='ee-v'>26.290661654858237</span></li><li><span class='ee-k'>1:</span><span class='ee-v'>-16.08617702477344</span></li></ul></li><li><label class='ee-shut'>159: [26.290605543716428, -16.086195895479282]<input type='checkbox' class='ee-toggle'></label><ul><li><span class='ee-k'>0:</span><span class='ee-v'>26.290605543716428</span></li><li><span class='ee-k'>1:</span><span class='ee-v'>-16.086195895479282</span></li></ul></li><li><label class='ee-shut'>160: [26.286488199060067, -16.07956925721451]<input type='checkbox' class='ee-toggle'></label><ul><li><span class='ee-k'>0:</span><span class='ee-v'>26.286488199060067</span></li><li><span class='ee-k'>1:</span><span class='ee-v'>-16.07956925721451</span></li></ul></li><li><label class='ee-shut'>161: [26.28511776118101, -16.075416155793913]<input type='checkbox' class='ee-toggle'></label><ul><li><span class='ee-k'>0:</span><span class='ee-v'>26.28511776118101</span></li><li><span class='ee-k'>1:</span><span class='ee-v'>-16.075416155793913</span></li></ul></li><li><label class='ee-shut'>162: [26.282376885947684, -16.06832529287349]<input type='checkbox' class='ee-toggle'></label><ul><li><span class='ee-k'>0:</span><span class='ee-v'>26.282376885947684</span></li><li><span class='ee-k'>1:</span><span class='ee-v'>-16.06832529287349</span></li></ul></li><li><label class='ee-shut'>163: [26.28079561174779, -16.064070654572973]<input type='checkbox' class='ee-toggle'></label><ul><li><span class='ee-k'>0:</span><span class='ee-v'>26.28079561174779</span></li><li><span class='ee-k'>1:</span><span class='ee-v'>-16.064070654572973</span></li></ul></li><li><label class='ee-shut'>164: [26.27636804304975, -16.060221140981987]<input type='checkbox' class='ee-toggle'></label><ul><li><span class='ee-k'>0:</span><span class='ee-v'>26.27636804304975</span></li><li><span class='ee-k'>1:</span><span class='ee-v'>-16.060221140981987</span></li></ul></li><li><label class='ee-shut'>165: [26.274259677658645, -16.056168940536132]<input type='checkbox' class='ee-toggle'></label><ul><li><span class='ee-k'>0:</span><span class='ee-v'>26.274259677658645</span></li><li><span class='ee-k'>1:</span><span class='ee-v'>-16.056168940536132</span></li></ul></li><li><label class='ee-shut'>166: [26.27130796576302, -16.0518127345129]<input type='checkbox' class='ee-toggle'></label><ul><li><span class='ee-k'>0:</span><span class='ee-v'>26.27130796576302</span></li><li><span class='ee-k'>1:</span><span class='ee-v'>-16.0518127345129</span></li></ul></li><li><label class='ee-shut'>167: [26.263717848278567, -16.045227589654314]<input type='checkbox' class='ee-toggle'></label><ul><li><span class='ee-k'>0:</span><span class='ee-v'>26.263717848278567</span></li><li><span class='ee-k'>1:</span><span class='ee-v'>-16.045227589654314</span></li></ul></li><li><label class='ee-shut'>168: [26.26234741044819, -16.042998721438835]<input type='checkbox' class='ee-toggle'></label><ul><li><span class='ee-k'>0:</span><span class='ee-v'>26.26234741044819</span></li><li><span class='ee-k'>1:</span><span class='ee-v'>-16.042998721438835</span></li></ul></li><li><label class='ee-shut'>169: [26.260976973655705, -16.040769829108516]<input type='checkbox' class='ee-toggle'></label><ul><li><span class='ee-k'>0:</span><span class='ee-v'>26.260976973655705</span></li><li><span class='ee-k'>1:</span><span class='ee-v'>-16.040769829108516</span></li></ul></li><li><label class='ee-shut'>170: [26.258130679283045, -16.0376290751951]<input type='checkbox' class='ee-toggle'></label><ul><li><span class='ee-k'>0:</span><span class='ee-v'>26.258130679283045</span></li><li><span class='ee-k'>1:</span><span class='ee-v'>-16.0376290751951</span></li></ul></li><li><label class='ee-shut'>171: [26.25676024190012, -16.03529880560994]<input type='checkbox' class='ee-toggle'></label><ul><li><span class='ee-k'>0:</span><span class='ee-v'>26.25676024190012</span></li><li><span class='ee-k'>1:</span><span class='ee-v'>-16.03529880560994</span></li></ul></li><li><label class='ee-shut'>172: [26.25338685670735, -16.03104346173355]<input type='checkbox' class='ee-toggle'></label><ul><li><span class='ee-k'>0:</span><span class='ee-v'>26.25338685670735</span></li><li><span class='ee-k'>1:</span><span class='ee-v'>-16.03104346173355</span></li></ul></li><li><label class='ee-shut'>173: [26.24959179855015, -16.02932103432998]<input type='checkbox' class='ee-toggle'></label><ul><li><span class='ee-k'>0:</span><span class='ee-v'>26.24959179855015</span></li><li><span class='ee-k'>1:</span><span class='ee-v'>-16.02932103432998</span></li></ul></li><li><label class='ee-shut'>174: [26.245058812252818, -16.025876135672142]<input type='checkbox' class='ee-toggle'></label><ul><li><span class='ee-k'>0:</span><span class='ee-v'>26.245058812252818</span></li><li><span class='ee-k'>1:</span><span class='ee-v'>-16.025876135672142</span></li></ul></li><li><label class='ee-shut'>175: [26.2409474980689, -16.023849696525957]<input type='checkbox' class='ee-toggle'></label><ul><li><span class='ee-k'>0:</span><span class='ee-v'>26.2409474980689</span></li><li><span class='ee-k'>1:</span><span class='ee-v'>-16.023849696525957</span></li></ul></li><li><label class='ee-shut'>176: [26.235149493436012, -16.018986158287387]<input type='checkbox' class='ee-toggle'></label><ul><li><span class='ee-k'>0:</span><span class='ee-v'>26.235149493436012</span></li><li><span class='ee-k'>1:</span><span class='ee-v'>-16.018986158287387</span></li></ul></li><li><label class='ee-shut'>177: [26.23188152578823, -16.016959650166054]<input type='checkbox' class='ee-toggle'></label><ul><li><span class='ee-k'>0:</span><span class='ee-v'>26.23188152578823</span></li><li><span class='ee-k'>1:</span><span class='ee-v'>-16.016959650166054</span></li></ul></li><li><label class='ee-shut'>178: [26.21649045559192, -16.00267217942364]<input type='checkbox' class='ee-toggle'></label><ul><li><span class='ee-k'>0:</span><span class='ee-v'>26.21649045559192</span></li><li><span class='ee-k'>1:</span><span class='ee-v'>-16.00267217942364</span></li></ul></li><li><label class='ee-shut'>179: [26.209849103151647, -16.00044283609664]<input type='checkbox' class='ee-toggle'></label><ul><li><span class='ee-k'>0:</span><span class='ee-v'>26.209849103151647</span></li><li><span class='ee-k'>1:</span><span class='ee-v'>-16.00044283609664</span></li></ul></li><li><label class='ee-shut'>180: [26.20594862685528, -15.997504119299185]<input type='checkbox' class='ee-toggle'></label><ul><li><span class='ee-k'>0:</span><span class='ee-v'>26.20594862685528</span></li><li><span class='ee-k'>1:</span><span class='ee-v'>-15.997504119299185</span></li></ul></li><li><label class='ee-shut'>181: [26.20036145703153, -15.993957332615347]<input type='checkbox' class='ee-toggle'></label><ul><li><span class='ee-k'>0:</span><span class='ee-v'>26.20036145703153</span></li><li><span class='ee-k'>1:</span><span class='ee-v'>-15.993957332615347</span></li></ul></li><li><label class='ee-shut'>182: [26.19372010496263, -15.992234586230525]<input type='checkbox' class='ee-toggle'></label><ul><li><span class='ee-k'>0:</span><span class='ee-v'>26.19372010496263</span></li><li><span class='ee-k'>1:</span><span class='ee-v'>-15.992234586230525</span></li></ul></li><li><label class='ee-shut'>183: [26.188976282748015, -15.989802447477013]<input type='checkbox' class='ee-toggle'></label><ul><li><span class='ee-k'>0:</span><span class='ee-v'>26.188976282748015</span></li><li><span class='ee-k'>1:</span><span class='ee-v'>-15.989802447477013</span></li></ul></li><li><label class='ee-shut'>184: [26.178856126735695, -15.985444791437848]<input type='checkbox' class='ee-toggle'></label><ul><li><span class='ee-k'>0:</span><span class='ee-v'>26.178856126735695</span></li><li><span class='ee-k'>1:</span><span class='ee-v'>-15.985444791437848</span></li></ul></li><li><label class='ee-shut'>185: [26.161456261227645, -15.985854933786994]<input type='checkbox' class='ee-toggle'></label><ul><li><span class='ee-k'>0:</span><span class='ee-v'>26.161456261227645</span></li><li><span class='ee-k'>1:</span><span class='ee-v'>-15.985854933786994</span></li></ul></li><li><label class='ee-shut'>186: [26.16432799133709, -15.915654504103168]<input type='checkbox' class='ee-toggle'></label><ul><li><span class='ee-k'>0:</span><span class='ee-v'>26.16432799133709</span></li><li><span class='ee-k'>1:</span><span class='ee-v'>-15.915654504103168</span></li></ul></li><li><label class='ee-shut'>187: [26.164703581000616, -15.906443899329835]<input type='checkbox' class='ee-toggle'></label><ul><li><span class='ee-k'>0:</span><span class='ee-v'>26.164703581000616</span></li><li><span class='ee-k'>1:</span><span class='ee-v'>-15.906443899329835</span></li></ul></li><li><label class='ee-shut'>188: [26.167041750614327, -15.903258297763912]<input type='checkbox' class='ee-toggle'></label><ul><li><span class='ee-k'>0:</span><span class='ee-v'>26.167041750614327</span></li><li><span class='ee-k'>1:</span><span class='ee-v'>-15.903258297763912</span></li></ul></li><li><label class='ee-shut'>189: [26.167041755251695, -15.885808934780398]<input type='checkbox' class='ee-toggle'></label><ul><li><span class='ee-k'>0:</span><span class='ee-v'>26.167041755251695</span></li><li><span class='ee-k'>1:</span><span class='ee-v'>-15.885808934780398</span></li></ul></li><li><label class='ee-shut'>190: [26.16704175008165, -15.883768816805228]<input type='checkbox' class='ee-toggle'></label><ul><li><span class='ee-k'>0:</span><span class='ee-v'>26.16704175008165</span></li><li><span class='ee-k'>1:</span><span class='ee-v'>-15.883768816805228</span></li></ul></li><li><label class='ee-shut'>191: [26.169185072055818, -15.878333912731083]<input type='checkbox' class='ee-toggle'></label><ul><li><span class='ee-k'>0:</span><span class='ee-v'>26.169185072055818</span></li><li><span class='ee-k'>1:</span><span class='ee-v'>-15.878333912731083</span></li></ul></li><li><label class='ee-shut'>192: [26.169769613541412, -15.860528891965068]<input type='checkbox' class='ee-toggle'></label><ul><li><span class='ee-k'>0:</span><span class='ee-v'>26.169769613541412</span></li><li><span class='ee-k'>1:</span><span class='ee-v'>-15.860528891965068</span></li></ul></li><li><label class='ee-shut'>193: [26.172107783123963, -15.854718491155316]<input type='checkbox' class='ee-toggle'></label><ul><li><span class='ee-k'>0:</span><span class='ee-v'>26.172107783123963</span></li><li><span class='ee-k'>1:</span><span class='ee-v'>-15.854718491155316</span></li></ul></li><li><label class='ee-shut'>194: [26.172497478110948, -15.838973340952979]<input type='checkbox' class='ee-toggle'></label><ul><li><span class='ee-k'>0:</span><span class='ee-v'>26.172497478110948</span></li><li><span class='ee-k'>1:</span><span class='ee-v'>-15.838973340952979</span></li></ul></li><li><label class='ee-shut'>195: [26.174056257888665, -15.825851444483058]<input type='checkbox' class='ee-toggle'></label><ul><li><span class='ee-k'>0:</span><span class='ee-v'>26.174056257888665</span></li><li><span class='ee-k'>1:</span><span class='ee-v'>-15.825851444483058</span></li></ul></li><li><label class='ee-shut'>196: [26.175009483111833, -15.819431689569818]<input type='checkbox' class='ee-toggle'></label><ul><li><span class='ee-k'>0:</span><span class='ee-v'>26.175009483111833</span></li><li><span class='ee-k'>1:</span><span class='ee-v'>-15.819431689569818</span></li></ul></li><li><label class='ee-shut'>197: [26.178558985547177, -15.818929469823317]<input type='checkbox' class='ee-toggle'></label><ul><li><span class='ee-k'>0:</span><span class='ee-v'>26.178558985547177</span></li><li><span class='ee-k'>1:</span><span class='ee-v'>-15.818929469823317</span></li></ul></li><li><label class='ee-shut'>198: [26.182306998321597, -15.817013737088246]<input type='checkbox' class='ee-toggle'></label><ul><li><span class='ee-k'>0:</span><span class='ee-v'>26.182306998321597</span></li><li><span class='ee-k'>1:</span><span class='ee-v'>-15.817013737088246</span></li></ul></li><li><label class='ee-shut'>199: [26.19050577474564, -15.817239118278655]<input type='checkbox' class='ee-toggle'></label><ul><li><span class='ee-k'>0:</span><span class='ee-v'>26.19050577474564</span></li><li><span class='ee-k'>1:</span><span class='ee-v'>-15.817239118278655</span></li></ul></li><li><label class='ee-shut'>200: [26.194605162807754, -15.820394428841308]<input type='checkbox' class='ee-toggle'></label><ul><li><span class='ee-k'>0:</span><span class='ee-v'>26.194605162807754</span></li><li><span class='ee-k'>1:</span><span class='ee-v'>-15.820394428841308</span></li></ul></li><li><label class='ee-shut'>201: [26.198587425759033, -15.823437004082628]<input type='checkbox' class='ee-toggle'></label><ul><li><span class='ee-k'>0:</span><span class='ee-v'>26.198587425759033</span></li><li><span class='ee-k'>1:</span><span class='ee-v'>-15.823437004082628</span></li></ul></li><li><label class='ee-shut'>202: [26.202452564085615, -15.825465360642394]<input type='checkbox' class='ee-toggle'></label><ul><li><span class='ee-k'>0:</span><span class='ee-v'>26.202452564085615</span></li><li><span class='ee-k'>1:</span><span class='ee-v'>-15.825465360642394</span></li></ul></li><li><label class='ee-shut'>203: [26.205849199767208, -15.824000438133078]<input type='checkbox' class='ee-toggle'></label><ul><li><span class='ee-k'>0:</span><span class='ee-v'>26.205849199767208</span></li><li><span class='ee-k'>1:</span><span class='ee-v'>-15.824000438133078</span></li></ul></li><li><label class='ee-shut'>204: [26.210299964712462, -15.821070561471236]<input type='checkbox' class='ee-toggle'></label><ul><li><span class='ee-k'>0:</span><span class='ee-v'>26.210299964712462</span></li><li><span class='ee-k'>1:</span><span class='ee-v'>-15.821070561471236</span></li></ul></li><li><label class='ee-shut'>205: [26.212416930198188, -15.816115055359798]<input type='checkbox' class='ee-toggle'></label><ul><li><span class='ee-k'>0:</span><span class='ee-v'>26.212416930198188</span></li><li><span class='ee-k'>1:</span><span class='ee-v'>-15.816115055359798</span></li></ul></li><li><label class='ee-shut'>206: [26.21521941604771, -15.813810519966857]<input type='checkbox' class='ee-toggle'></label><ul><li><span class='ee-k'>0:</span><span class='ee-v'>26.21521941604771</span></li><li><span class='ee-k'>1:</span><span class='ee-v'>-15.813810519966857</span></li></ul></li><li><label class='ee-shut'>207: [26.219669995485045, -15.814534526542491]<input type='checkbox' class='ee-toggle'></label><ul><li><span class='ee-k'>0:</span><span class='ee-v'>26.219669995485045</span></li><li><span class='ee-k'>1:</span><span class='ee-v'>-15.814534526542491</span></li></ul></li><li><label class='ee-shut'>208: [26.223652258454464, -15.814534527064879]<input type='checkbox' class='ee-toggle'></label><ul><li><span class='ee-k'>0:</span><span class='ee-v'>26.223652258454464</span></li><li><span class='ee-k'>1:</span><span class='ee-v'>-15.814534527064879</span></li></ul></li><li><label class='ee-shut'>209: [26.22469920397749, -15.813380368451785]<input type='checkbox' class='ee-toggle'></label><ul><li><span class='ee-k'>0:</span><span class='ee-v'>26.22469920397749</span></li><li><span class='ee-k'>1:</span><span class='ee-v'>-15.813380368451785</span></li></ul></li><li><label class='ee-shut'>210: [26.226229017000158, -15.810702961452131]<input type='checkbox' class='ee-toggle'></label><ul><li><span class='ee-k'>0:</span><span class='ee-v'>26.226229017000158</span></li><li><span class='ee-k'>1:</span><span class='ee-v'>-15.810702961452131</span></li></ul></li><li><label class='ee-shut'>211: [26.227400270919983, -15.804391987422232]<input type='checkbox' class='ee-toggle'></label><ul><li><span class='ee-k'>0:</span><span class='ee-v'>26.227400270919983</span></li><li><span class='ee-k'>1:</span><span class='ee-v'>-15.804391987422232</span></li></ul></li><li><label class='ee-shut'>212: [26.230211280803054, -15.801011028301733]<input type='checkbox' class='ee-toggle'></label><ul><li><span class='ee-k'>0:</span><span class='ee-v'>26.230211280803054</span></li><li><span class='ee-k'>1:</span><span class='ee-v'>-15.801011028301733</span></li></ul></li><li><label class='ee-shut'>213: [26.234779170421973, -15.797291907220263]<input type='checkbox' class='ee-toggle'></label><ul><li><span class='ee-k'>0:</span><span class='ee-v'>26.234779170421973</span></li><li><span class='ee-k'>1:</span><span class='ee-v'>-15.797291907220263</span></li></ul></li><li><label class='ee-shut'>214: [26.24075256481087, -15.796615696346993]<input type='checkbox' class='ee-toggle'></label><ul><li><span class='ee-k'>0:</span><span class='ee-v'>26.24075256481087</span></li><li><span class='ee-k'>1:</span><span class='ee-v'>-15.796615696346993</span></li></ul></li><li><label class='ee-shut'>215: [26.243446448591534, -15.794812455878827]<input type='checkbox' class='ee-toggle'></label><ul><li><span class='ee-k'>0:</span><span class='ee-v'>26.243446448591534</span></li><li><span class='ee-k'>1:</span><span class='ee-v'>-15.794812455878827</span></li></ul></li><li><label class='ee-shut'>216: [26.245437579750426, -15.793347310099314]<input type='checkbox' class='ee-toggle'></label><ul><li><span class='ee-k'>0:</span><span class='ee-v'>26.245437579750426</span></li><li><span class='ee-k'>1:</span><span class='ee-v'>-15.793347310099314</span></li></ul></li><li><label class='ee-shut'>217: [26.246733545899723, -15.79042069520424]<input type='checkbox' class='ee-toggle'></label><ul><li><span class='ee-k'>0:</span><span class='ee-v'>26.246733545899723</span></li><li><span class='ee-k'>1:</span><span class='ee-v'>-15.79042069520424</span></li></ul></li><li><label class='ee-shut'>218: [26.247428711779765, -15.783992674247784]<input type='checkbox' class='ee-toggle'></label><ul><li><span class='ee-k'>0:</span><span class='ee-v'>26.247428711779765</span></li><li><span class='ee-k'>1:</span><span class='ee-v'>-15.783992674247784</span></li></ul></li><li><label class='ee-shut'>219: [26.246986775190322, -15.77825141520559]<input type='checkbox' class='ee-toggle'></label><ul><li><span class='ee-k'>0:</span><span class='ee-v'>26.246986775190322</span></li><li><span class='ee-k'>1:</span><span class='ee-v'>-15.77825141520559</span></li></ul></li><li><label class='ee-shut'>220: [26.246960209782262, -15.777906293691055]<input type='checkbox' class='ee-toggle'></label><ul><li><span class='ee-k'>0:</span><span class='ee-v'>26.246960209782262</span></li><li><span class='ee-k'>1:</span><span class='ee-v'>-15.777906293691055</span></li></ul></li><li><label class='ee-shut'>221: [26.245554706127137, -15.774412178639164]<input type='checkbox' class='ee-toggle'></label><ul><li><span class='ee-k'>0:</span><span class='ee-v'>26.245554706127137</span></li><li><span class='ee-k'>1:</span><span class='ee-v'>-15.774412178639164</span></li></ul></li><li><label class='ee-shut'>222: [26.245320454467112, -15.771932446834255]<input type='checkbox' class='ee-toggle'></label><ul><li><span class='ee-k'>0:</span><span class='ee-v'>26.245320454467112</span></li><li><span class='ee-k'>1:</span><span class='ee-v'>-15.771932446834255</span></li></ul></li><li><label class='ee-shut'>223: [26.242860821658507, -15.766522018522911]<input type='checkbox' class='ee-toggle'></label><ul><li><span class='ee-k'>0:</span><span class='ee-v'>26.242860821658507</span></li><li><span class='ee-k'>1:</span><span class='ee-v'>-15.766522018522911</span></li></ul></li><li><label class='ee-shut'>224: [26.24450057691154, -15.763929470045358]<input type='checkbox' class='ee-toggle'></label><ul><li><span class='ee-k'>0:</span><span class='ee-v'>26.24450057691154</span></li><li><span class='ee-k'>1:</span><span class='ee-v'>-15.763929470045358</span></li></ul></li><li><label class='ee-shut'>225: [26.247168693594446, -15.762410133569022]<input type='checkbox' class='ee-toggle'></label><ul><li><span class='ee-k'>0:</span><span class='ee-v'>26.247168693594446</span></li><li><span class='ee-k'>1:</span><span class='ee-v'>-15.762410133569022</span></li></ul></li><li><label class='ee-shut'>226: [26.251176723904617, -15.763478588476321]<input type='checkbox' class='ee-toggle'></label><ul><li><span class='ee-k'>0:</span><span class='ee-v'>26.251176723904617</span></li><li><span class='ee-k'>1:</span><span class='ee-v'>-15.763478588476321</span></li></ul></li><li><label class='ee-shut'>227: [26.25433910960648, -15.76415490990144]<input type='checkbox' class='ee-toggle'></label><ul><li><span class='ee-k'>0:</span><span class='ee-v'>26.25433910960648</span></li><li><span class='ee-k'>1:</span><span class='ee-v'>-15.76415490990144</span></li></ul></li><li><label class='ee-shut'>228: [26.254639339136144, -15.76436736252541]<input type='checkbox' class='ee-toggle'></label><ul><li><span class='ee-k'>0:</span><span class='ee-v'>26.254639339136144</span></li><li><span class='ee-k'>1:</span><span class='ee-v'>-15.76436736252541</span></li></ul></li><li><label class='ee-shut'>229: [26.258321371783833, -15.766972892652538]<input type='checkbox' class='ee-toggle'></label><ul><li><span class='ee-k'>0:</span><span class='ee-v'>26.258321371783833</span></li><li><span class='ee-k'>1:</span><span class='ee-v'>-15.766972892652538</span></li></ul></li><li><label class='ee-shut'>230: [26.264294766929346, -15.769001816468872]<input type='checkbox' class='ee-toggle'></label><ul><li><span class='ee-k'>0:</span><span class='ee-v'>26.264294766929346</span></li><li><span class='ee-k'>1:</span><span class='ee-v'>-15.769001816468872</span></li></ul></li><li><label class='ee-shut'>231: [26.268628405851306, -15.770918002146482]<input type='checkbox' class='ee-toggle'></label><ul><li><span class='ee-k'>0:</span><span class='ee-v'>26.268628405851306</span></li><li><span class='ee-k'>1:</span><span class='ee-v'>-15.770918002146482</span></li></ul></li><li><label class='ee-shut'>232: [26.272493543146453, -15.772157878950177]<input type='checkbox' class='ee-toggle'></label><ul><li><span class='ee-k'>0:</span><span class='ee-v'>26.272493543146453</span></li><li><span class='ee-k'>1:</span><span class='ee-v'>-15.772157878950177</span></li></ul></li><li><label class='ee-shut'>233: [26.278232687906648, -15.772834170973304]<input type='checkbox' class='ee-toggle'></label><ul><li><span class='ee-k'>0:</span><span class='ee-v'>26.278232687906648</span></li><li><span class='ee-k'>1:</span><span class='ee-v'>-15.772834170973304</span></li></ul></li><li><label class='ee-shut'>234: [26.285666127903877, -15.772053776653783]<input type='checkbox' class='ee-toggle'></label><ul><li><span class='ee-k'>0:</span><span class='ee-v'>26.285666127903877</span></li><li><span class='ee-k'>1:</span><span class='ee-v'>-15.772053776653783</span></li></ul></li><li><label class='ee-shut'>235: [26.290296602460277, -15.768325510556958]<input type='checkbox' class='ee-toggle'></label><ul><li><span class='ee-k'>0:</span><span class='ee-v'>26.290296602460277</span></li><li><span class='ee-k'>1:</span><span class='ee-v'>-15.768325510556958</span></li></ul></li><li><label class='ee-shut'>236: [26.295450119328382, -15.763140426890454]<input type='checkbox' class='ee-toggle'></label><ul><li><span class='ee-k'>0:</span><span class='ee-v'>26.295450119328382</span></li><li><span class='ee-k'>1:</span><span class='ee-v'>-15.763140426890454</span></li></ul></li><li><label class='ee-shut'>237: [26.298261128183725, -15.757391593084689]<input type='checkbox' class='ee-toggle'></label><ul><li><span class='ee-k'>0:</span><span class='ee-v'>26.298261128183725</span></li><li><span class='ee-k'>1:</span><span class='ee-v'>-15.757391593084689</span></li></ul></li><li><label class='ee-shut'>238: [26.298906649250657, -15.753441601358343]<input type='checkbox' class='ee-toggle'></label><ul><li><span class='ee-k'>0:</span><span class='ee-v'>26.298906649250657</span></li><li><span class='ee-k'>1:</span><span class='ee-v'>-15.753441601358343</span></li></ul></li><li><label class='ee-shut'>239: [26.297324126084273, -15.750628050015052]<input type='checkbox' class='ee-toggle'></label><ul><li><span class='ee-k'>0:</span><span class='ee-v'>26.297324126084273</span></li><li><span class='ee-k'>1:</span><span class='ee-v'>-15.750628050015052</span></li></ul></li><li><label class='ee-shut'>240: [26.295918621221045, -15.750289866658589]<input type='checkbox' class='ee-toggle'></label><ul><li><span class='ee-k'>0:</span><span class='ee-v'>26.295918621221045</span></li><li><span class='ee-k'>1:</span><span class='ee-v'>-15.750289866658589</span></li></ul></li><li><label class='ee-shut'>241: [26.292287734354062, -15.749613498869731]<input type='checkbox' class='ee-toggle'></label><ul><li><span class='ee-k'>0:</span><span class='ee-v'>26.292287734354062</span></li><li><span class='ee-k'>1:</span><span class='ee-v'>-15.749613498869731</span></li></ul></li><li><label class='ee-shut'>242: [26.292053483316725, -15.74600616591419]<input type='checkbox' class='ee-toggle'></label><ul><li><span class='ee-k'>0:</span><span class='ee-v'>26.292053483316725</span></li><li><span class='ee-k'>1:</span><span class='ee-v'>-15.74600616591419</span></li></ul></li><li><label class='ee-shut'>243: [26.294378297088812, -15.743284524535758]<input type='checkbox' class='ee-toggle'></label><ul><li><span class='ee-k'>0:</span><span class='ee-v'>26.294378297088812</span></li><li><span class='ee-k'>1:</span><span class='ee-v'>-15.743284524535758</span></li></ul></li><li><label class='ee-shut'>244: [26.299957185892524, -15.73715751356706]<input type='checkbox' class='ee-toggle'></label><ul><li><span class='ee-k'>0:</span><span class='ee-v'>26.299957185892524</span></li><li><span class='ee-k'>1:</span><span class='ee-v'>-15.73715751356706</span></li></ul></li><li><label class='ee-shut'>245: [26.30236051703076, -15.733605471460749]<input type='checkbox' class='ee-toggle'></label><ul><li><span class='ee-k'>0:</span><span class='ee-v'>26.30236051703076</span></li><li><span class='ee-k'>1:</span><span class='ee-v'>-15.733605471460749</span></li></ul></li><li><label class='ee-shut'>246: [26.302594768059848, -15.731576194469525]<input type='checkbox' class='ee-toggle'></label><ul><li><span class='ee-k'>0:</span><span class='ee-v'>26.302594768059848</span></li><li><span class='ee-k'>1:</span><span class='ee-v'>-15.731576194469525</span></li></ul></li><li><label class='ee-shut'>247: [26.30273219075753, -15.729557346820568]<input type='checkbox' class='ee-toggle'></label><ul><li><span class='ee-k'>0:</span><span class='ee-v'>26.30273219075753</span></li><li><span class='ee-k'>1:</span><span class='ee-v'>-15.729557346820568</span></li></ul></li><li><label class='ee-shut'>248: [26.30287843771722, -15.729428702782851]<input type='checkbox' class='ee-toggle'></label><ul><li><span class='ee-k'>0:</span><span class='ee-v'>26.30287843771722</span></li><li><span class='ee-k'>1:</span><span class='ee-v'>-15.729428702782851</span></li></ul></li><li><label class='ee-shut'>249: [26.305302564999714, -15.727296358466596]<input type='checkbox' class='ee-toggle'></label><ul><li><span class='ee-k'>0:</span><span class='ee-v'>26.305302564999714</span></li><li><span class='ee-k'>1:</span><span class='ee-v'>-15.727296358466596</span></li></ul></li><li><label class='ee-shut'>250: [26.307880524608084, -15.723585586396155]<input type='checkbox' class='ee-toggle'></label><ul><li><span class='ee-k'>0:</span><span class='ee-v'>26.307880524608084</span></li><li><span class='ee-k'>1:</span><span class='ee-v'>-15.723585586396155</span></li></ul></li><li><label class='ee-shut'>251: [26.310207918407716, -15.721542251139313]<input type='checkbox' class='ee-toggle'></label><ul><li><span class='ee-k'>0:</span><span class='ee-v'>26.310207918407716</span></li><li><span class='ee-k'>1:</span><span class='ee-v'>-15.721542251139313</span></li></ul></li><li><label class='ee-shut'>252: [26.315010058595963, -15.722331455101504]<input type='checkbox' class='ee-toggle'></label><ul><li><span class='ee-k'>0:</span><span class='ee-v'>26.315010058595963</span></li><li><span class='ee-k'>1:</span><span class='ee-v'>-15.722331455101504</span></li></ul></li><li><label class='ee-shut'>253: [26.31711831517812, -15.723797112208391]<input type='checkbox' class='ee-toggle'></label><ul><li><span class='ee-k'>0:</span><span class='ee-v'>26.31711831517812</span></li><li><span class='ee-k'>1:</span><span class='ee-v'>-15.723797112208391</span></li></ul></li><li><label class='ee-shut'>254: [26.320163576202678, -15.726277431057596]<input type='checkbox' class='ee-toggle'></label><ul><li><span class='ee-k'>0:</span><span class='ee-v'>26.320163576202678</span></li><li><span class='ee-k'>1:</span><span class='ee-v'>-15.726277431057596</span></li></ul></li><li><label class='ee-shut'>255: [26.322506082950156, -15.731012502141327]<input type='checkbox' class='ee-toggle'></label><ul><li><span class='ee-k'>0:</span><span class='ee-v'>26.322506082950156</span></li><li><span class='ee-k'>1:</span><span class='ee-v'>-15.731012502141327</span></li></ul></li><li><label class='ee-shut'>256: [26.324380089170035, -15.733154522533397]<input type='checkbox' class='ee-toggle'></label><ul><li><span class='ee-k'>0:</span><span class='ee-v'>26.324380089170035</span></li><li><span class='ee-k'>1:</span><span class='ee-v'>-15.733154522533397</span></li></ul></li></ul></li></ul></li><li><span class='ee-k'>geodesic:</span><span class='ee-v'>False</span></li></ul></li><li><label class='ee-shut'>properties: Object (10 properties)<input type='checkbox' class='ee-toggle'></label><ul><li><span class='ee-k'>ConstName:</span><span class='ee-v'>ITEZH-ITEZHI</span></li><li><span class='ee-k'>ConstNo:</span><span class='ee-v'>1010005</span></li><li><span class='ee-k'>CumuWardNo:</span><span class='ee-v'>101004011</span></li><li><span class='ee-k'>DistName:</span><span class='ee-v'>ITEZHI-TEZHI</span></li><li><span class='ee-k'>DistNo:</span><span class='ee-v'>101004</span></li><li><span class='ee-k'>PovName:</span><span class='ee-v'>CENTRAL</span></li><li><span class='ee-k'>ProvNo:</span><span class='ee-v'>101</span></li><li><span class='ee-k'>Status:</span><span class='ee-v'>Old Ward</span></li><li><span class='ee-k'>WardNm2020:</span><span class='ee-v'>LUUBWE</span></li><li><span class='ee-k'>WardNo2020:</span><span class='ee-v'>101004012</span></li></ul></li></ul></li></ul></li></ul></li></ul></div><script>function toggleHeader() {\n",
       "    const parent = this.parentElement;\n",
       "    parent.className = parent.className === \"ee-open\" ? \"ee-shut\" : \"ee-open\";\n",
       "}\n",
       "\n",
       "for (let c of document.getElementsByClassName(\"ee-toggle\")) {\n",
       "    c.onclick = toggleHeader;\n",
       "}</script></div>"
      ],
      "text/plain": [
       "<ee.featurecollection.FeatureCollection at 0x205f9e81790>"
      ]
     },
     "execution_count": 80,
     "metadata": {},
     "output_type": "execute_result"
    }
   ],
   "source": [
    "Shapefile_path = \"D:/Land Use Land Cover Change/Study Sites Shapefile/Study_Sites_V1.shp\"\n",
    "Wards = geemap.shp_to_ee(Shapefile_path)\n",
    "roi = Wards.filter(ee.Filter.eq('WardNm2020', 'LUUBWE'))\n",
    "Map.addLayer(Wards, {}, \"Shapefile\")\n",
    "Wards\n",
    "roi"
   ]
  },
  {
   "cell_type": "markdown",
   "id": "b03173e8-ea8d-4cbf-b495-1b36adb6959a",
   "metadata": {},
   "source": [
    "Image Collection"
   ]
  },
  {
   "cell_type": "code",
   "execution_count": 87,
   "id": "7a10340e-aafc-45c7-ad73-510e41888810",
   "metadata": {},
   "outputs": [
    {
     "data": {
      "text/html": [
       "\n",
       "            <style>\n",
       "                .geemap-dark {\n",
       "                    --jp-widgets-color: white;\n",
       "                    --jp-widgets-label-color: white;\n",
       "                    --jp-ui-font-color1: white;\n",
       "                    --jp-layout-color2: #454545;\n",
       "                    background-color: #383838;\n",
       "                }\n",
       "\n",
       "                .geemap-dark .jupyter-button {\n",
       "                    --jp-layout-color3: #383838;\n",
       "                }\n",
       "\n",
       "                .geemap-colab {\n",
       "                    background-color: var(--colab-primary-surface-color, white);\n",
       "                }\n",
       "\n",
       "                .geemap-colab .jupyter-button {\n",
       "                    --jp-layout-color3: var(--colab-primary-surface-color, white);\n",
       "                }\n",
       "            </style>\n",
       "            "
      ],
      "text/plain": [
       "<IPython.core.display.HTML object>"
      ]
     },
     "metadata": {},
     "output_type": "display_data"
    }
   ],
   "source": [
    "LUUBWE_sentinel = ee.ImageCollection('COPERNICUS/S2') \\\n",
    ".filterDate('2018-01-01', '2019-01-01') \\\n",
    ".filterBounds(Wards) \\\n",
    ".sort ('CLOUD_COVER') \\\n",
    ".median() \\\n",
    ".clip(Wards)\n",
    "#.select('B[1-7]')\n",
    "Map.addLayer(LUUBWE_sentinel, {'min': 0, 'max': 3000}, 'Land cover')"
   ]
  },
  {
   "cell_type": "code",
   "execution_count": 88,
   "id": "22a596cb-d285-4fd6-8625-cde6fa91f593",
   "metadata": {},
   "outputs": [
    {
     "data": {
      "text/html": [
       "\n",
       "            <style>\n",
       "                .geemap-dark {\n",
       "                    --jp-widgets-color: white;\n",
       "                    --jp-widgets-label-color: white;\n",
       "                    --jp-ui-font-color1: white;\n",
       "                    --jp-layout-color2: #454545;\n",
       "                    background-color: #383838;\n",
       "                }\n",
       "\n",
       "                .geemap-dark .jupyter-button {\n",
       "                    --jp-layout-color3: #383838;\n",
       "                }\n",
       "\n",
       "                .geemap-colab {\n",
       "                    background-color: var(--colab-primary-surface-color, white);\n",
       "                }\n",
       "\n",
       "                .geemap-colab .jupyter-button {\n",
       "                    --jp-layout-color3: var(--colab-primary-surface-color, white);\n",
       "                }\n",
       "            </style>\n",
       "            "
      ],
      "text/plain": [
       "<IPython.core.display.HTML object>"
      ]
     },
     "metadata": {},
     "output_type": "display_data"
    }
   ],
   "source": [
    "##LUUBWE_sentinel.get('CLOUD_COVER').getInfo()"
   ]
  },
  {
   "cell_type": "markdown",
   "id": "594e49f4-b490-4fd2-b4df-83d9bf39646a",
   "metadata": {},
   "source": [
    "Shapefile Collection"
   ]
  },
  {
   "cell_type": "markdown",
   "id": "0ebf84e1-892a-450d-9e5d-56d90fe5fd9e",
   "metadata": {},
   "source": [
    "Cliping the Image and adding it to the Map "
   ]
  },
  {
   "cell_type": "code",
   "execution_count": 89,
   "id": "c3770547-ff15-4bb5-b819-1b7400b54e8d",
   "metadata": {},
   "outputs": [
    {
     "data": {
      "text/html": [
       "\n",
       "            <style>\n",
       "                .geemap-dark {\n",
       "                    --jp-widgets-color: white;\n",
       "                    --jp-widgets-label-color: white;\n",
       "                    --jp-ui-font-color1: white;\n",
       "                    --jp-layout-color2: #454545;\n",
       "                    background-color: #383838;\n",
       "                }\n",
       "\n",
       "                .geemap-dark .jupyter-button {\n",
       "                    --jp-layout-color3: #383838;\n",
       "                }\n",
       "\n",
       "                .geemap-colab {\n",
       "                    background-color: var(--colab-primary-surface-color, white);\n",
       "                }\n",
       "\n",
       "                .geemap-colab .jupyter-button {\n",
       "                    --jp-layout-color3: var(--colab-primary-surface-color, white);\n",
       "                }\n",
       "            </style>\n",
       "            "
      ],
      "text/plain": [
       "<IPython.core.display.HTML object>"
      ]
     },
     "metadata": {},
     "output_type": "display_data"
    }
   ],
   "source": [
    "rgbVis = {'bands':['B4','B3','B2'], min: 0, max: 0.3}\n",
    "Map.addLayer(Wards, {'color': 'red'}, 'ROI')\n",
    "Map.addLayer(LUUBWE_sentinel, rgbVis)\n",
    "#Map.centerObject(LUUBWE_sentinel, 10)"
   ]
  },
  {
   "cell_type": "markdown",
   "id": "620578c4-2939-4657-b514-b2e40c7ac5d9",
   "metadata": {},
   "source": [
    "Area of the shapefile"
   ]
  },
  {
   "cell_type": "code",
   "execution_count": 92,
   "id": "a8651ae9-0aec-4ee9-9a7a-051adc409089",
   "metadata": {},
   "outputs": [
    {
     "data": {
      "text/html": [
       "\n",
       "            <style>\n",
       "                .geemap-dark {\n",
       "                    --jp-widgets-color: white;\n",
       "                    --jp-widgets-label-color: white;\n",
       "                    --jp-ui-font-color1: white;\n",
       "                    --jp-layout-color2: #454545;\n",
       "                    background-color: #383838;\n",
       "                }\n",
       "\n",
       "                .geemap-dark .jupyter-button {\n",
       "                    --jp-layout-color3: #383838;\n",
       "                }\n",
       "\n",
       "                .geemap-colab {\n",
       "                    background-color: var(--colab-primary-surface-color, white);\n",
       "                }\n",
       "\n",
       "                .geemap-colab .jupyter-button {\n",
       "                    --jp-layout-color3: var(--colab-primary-surface-color, white);\n",
       "                }\n",
       "            </style>\n",
       "            "
      ],
      "text/plain": [
       "<IPython.core.display.HTML object>"
      ]
     },
     "metadata": {},
     "output_type": "display_data"
    }
   ],
   "source": [
    "#Study_Sites_TotalArea =  Wards.geometry().area()\n",
    "#Study_Sites_TotalArea_sqKm = ee.Number(Wards).divide(1e6)\n",
    "#print(Study_Sites_TotalArea_sqKm)"
   ]
  },
  {
   "cell_type": "markdown",
   "id": "28c2ceec-ac64-4ea3-873f-dfb5553499d6",
   "metadata": {},
   "source": [
    "Supervised classification"
   ]
  },
  {
   "cell_type": "code",
   "execution_count": null,
   "id": "2ab136fc-07f7-4e3a-984d-adf226cc0e13",
   "metadata": {},
   "outputs": [],
   "source": []
  },
  {
   "cell_type": "markdown",
   "id": "d4e63282-9004-46f6-bc98-314fc2e17bec",
   "metadata": {},
   "source": [
    "Merge all the training points"
   ]
  },
  {
   "cell_type": "code",
   "execution_count": null,
   "id": "1ae090f0-6c90-4017-93f6-c981a4f44296",
   "metadata": {},
   "outputs": [],
   "source": [
    "var lable = \"Class\";\n",
    "var sample = Waterbody.merge(Builtup).merge(Cropland).merge(Vegetation).merge(Bareland);\n",
    "var bands = ['B2','B3','B4','B5','B6','B7'];\n",
    "var training = LUUBWE_sentinel_clip.select(bands).sampleRegions({\n",
    "  collection: sample, \n",
    "  properties: ['Class'], \n",
    "  scale: 30\n",
    "});\n",
    "print('training', training);"
   ]
  },
  {
   "cell_type": "markdown",
   "id": "31a99239-f75d-4641-8a64-fe6c74a1206b",
   "metadata": {},
   "source": [
    "Training dataset divided in two ways\n",
    "Traing the model: 80%\n",
    "Test the model: 20% data for testing"
   ]
  },
  {
   "cell_type": "code",
   "execution_count": null,
   "id": "50fd5a3a-6166-4047-a68b-7bbe9f2a02b3",
   "metadata": {},
   "outputs": [],
   "source": [
    "var dataset = training.randomColumn();\n",
    "var trainset = dataset.filter(ee.Filter.lessThan('random', 0.8));\n",
    "var testset = dataset.filter(ee.Filter.greaterThanOrEquals('random', 0.8));\n"
   ]
  },
  {
   "cell_type": "markdown",
   "id": "f7c0ae47-a6b6-444c-b375-adc3e399be76",
   "metadata": {},
   "source": [
    "Create the Model CART"
   ]
  },
  {
   "cell_type": "code",
   "execution_count": null,
   "id": "cbed9bbd-372d-488d-b3e8-9373d08aace6",
   "metadata": {},
   "outputs": [],
   "source": [
    "var classifier = ee.Classifier.smileCart().train(trainset, lable, bands);"
   ]
  },
  {
   "cell_type": "markdown",
   "id": "2720f476-649c-4197-a5e4-e9ae842c6ecc",
   "metadata": {},
   "source": [
    "Classify the sentinel image"
   ]
  },
  {
   "cell_type": "code",
   "execution_count": null,
   "id": "c5dbb12e-43e6-436a-bb9b-f63cdaf0aa81",
   "metadata": {},
   "outputs": [],
   "source": [
    "var classified = LUUBWE_sentinel_clip.classify(classifier);\n",
    "print('classified', classified);"
   ]
  },
  {
   "cell_type": "markdown",
   "id": "cba8efd2-d2d1-44e7-a430-5789ee624f38",
   "metadata": {},
   "source": [
    "Visualisation of the classification"
   ]
  },
  {
   "cell_type": "code",
   "execution_count": null,
   "id": "026d487f-2927-47f4-bcf5-7672854ec758",
   "metadata": {},
   "outputs": [],
   "source": [
    "var landcoverpalette = [\n",
    "  'blue',\n",
    "  'red',\n",
    "  'yellow',\n",
    "  'green',\n",
    "  'grey',\n",
    "  ];\n",
    "  \n",
    "Map.addLayer(classified.clip(roi),{'min': 0, 'max': 4, 'palette': landcoverpalette});"
   ]
  },
  {
   "cell_type": "markdown",
   "id": "a6bfcb15-bdd0-41f6-a722-1f7c8fa380d7",
   "metadata": {},
   "source": [
    "Get information about the trained classifier."
   ]
  },
  {
   "cell_type": "code",
   "execution_count": null,
   "id": "07f01113-0ab6-42c4-ac57-f8cbb567f101",
   "metadata": {},
   "outputs": [],
   "source": [
    "print('Results of trained classifier', classifier.explain());"
   ]
  },
  {
   "cell_type": "markdown",
   "id": "1727e932-000b-437f-9f8f-c08c3e1d153e",
   "metadata": {},
   "source": [
    "Acuracy assement\n",
    "\n",
    "Get a confusion matrix and overall accuracy for the training sample."
   ]
  },
  {
   "cell_type": "code",
   "execution_count": null,
   "id": "108711fc-35cb-4b4e-b9d0-6ef523bd06b0",
   "metadata": {},
   "outputs": [],
   "source": [
    "var trainAccuracy = classifier.confusionMatrix();\n",
    "print('Training error matrix', trainAccuracy);\n",
    "print('Training overall accuracy', trainAccuracy.accuracy());"
   ]
  },
  {
   "cell_type": "markdown",
   "id": "565af8db-405e-4aa0-825f-33fb74012f07",
   "metadata": {},
   "source": [
    "Get a confusion matrix and overall accuracy for the validation sample."
   ]
  },
  {
   "cell_type": "code",
   "execution_count": null,
   "id": "ac494585-c520-4500-89cd-d2268f6575c7",
   "metadata": {},
   "outputs": [],
   "source": [
    "testset = trainset.classify(classifier);\n",
    "var validationAccuracy = testset.errorMatrix(lable, 'classification');\n",
    "print('Validation error matrix', validationAccuracy);\n",
    "print('Validation accuracy', validationAccuracy.accuracy());"
   ]
  },
  {
   "cell_type": "markdown",
   "id": "a059c1e3-35ba-4c6b-a489-c012e03ac6cb",
   "metadata": {},
   "source": [
    "Calculating Area by Class by Reagion\n",
    "Calculating the Nested Group area of classes"
   ]
  },
  {
   "cell_type": "code",
   "execution_count": null,
   "id": "ececff12-d65c-4a64-889f-b994c8067d6b",
   "metadata": {},
   "outputs": [],
   "source": [
    "var areaImage = ee.Image.pixelArea().addBands(classified);\n",
    "var areas = areaImage.reduceRegion({\n",
    "  reducer: ee.Reducer.sum().group({\n",
    "    groupField:1,\n",
    "    groupName: 'class'}), \n",
    "    geometry: roi,\n",
    "    scale: 10,\n",
    "    maxPixels: 1e13});\n",
    "\n",
    "print(areaImage);"
   ]
  },
  {
   "cell_type": "markdown",
   "id": "d49572b5-a7d9-48ee-b80c-414742c86221",
   "metadata": {},
   "source": [
    "Flatening the Nested Gropus areas of classes"
   ]
  },
  {
   "cell_type": "code",
   "execution_count": null,
   "id": "f48d94ca-f9e2-4553-afee-58cb9863cef9",
   "metadata": {},
   "outputs": [],
   "source": [
    "var classAreas = ee.List(areas.get('groups'));\n",
    "var classAreaLists = classAreas.map(function(item){\n",
    "  var areaDic = ee.Dictionary(item)\n",
    "  var classNumber = ee.Number(areaDic.get('class')).format()\n",
    "  var area = ee.Number(areaDic.get('sum')).divide(1e6).round()\n",
    "  return ee.List([classNumber, area])\n",
    "});\n",
    "\n",
    "var results = ee.Dictionary(classAreaLists.flatten());\n",
    "print(results);"
   ]
  },
  {
   "cell_type": "markdown",
   "id": "0feae633-e212-41b1-b8ef-bb5cd8e0a820",
   "metadata": {},
   "source": [
    "Export Image"
   ]
  },
  {
   "cell_type": "code",
   "execution_count": null,
   "id": "aba6ec20-cc44-4ff6-a34b-8399d4d3941d",
   "metadata": {},
   "outputs": [],
   "source": [
    "Export.image.toDrive({\n",
    "image:classified,\n",
    "description: 'LUUBWE_sentinel_classified_2019',\n",
    "fileFormat: 'GeoTIFF',\n",
    "scale: 10,\n",
    "region: roi,\n",
    "});"
   ]
  },
  {
   "cell_type": "markdown",
   "id": "8b5227de-4a54-4a50-b949-b7ece7fb1bf7",
   "metadata": {},
   "source": [
    "Export table to your google drive"
   ]
  },
  {
   "cell_type": "code",
   "execution_count": null,
   "id": "28c39368-0b70-4785-90fc-a2c413941990",
   "metadata": {},
   "outputs": [],
   "source": [
    "Export.table.toDrive({\n",
    "        collection: results,\n",
    "        description: 'classAreaLists', \n",
    "        folder: 'EE',\n",
    "    fileNamePrefix: 'classAreas', \n",
    "    fileFormat: 'CSV'\n",
    "    });"
   ]
  }
 ],
 "metadata": {
  "kernelspec": {
   "display_name": "GoogleEarthEngine_Py_3_8",
   "language": "python",
   "name": "googleearthengine_py_3_8"
  },
  "language_info": {
   "codemirror_mode": {
    "name": "ipython",
    "version": 3
   },
   "file_extension": ".py",
   "mimetype": "text/x-python",
   "name": "python",
   "nbconvert_exporter": "python",
   "pygments_lexer": "ipython3",
   "version": "3.8.19"
  },
  "widgets": {
   "application/vnd.jupyter.widget-state+json": {
    "state": {
     "65df41be66e84000af958e5ec5f76d8e": {
      "model_module": "@jupyter-widgets/base",
      "model_module_version": "2.0.0",
      "model_name": "LayoutModel",
      "state": {
       "width": "500px"
      }
     },
     "undefined": {
      "model_module": "ipyevents",
      "model_module_version": "2.0.0",
      "model_name": "EventModel",
      "state": {
       "_view_name": "ErrorWidgetView",
       "error": {},
       "msg": "Failed to load model class 'EventModel' from module 'ipyevents'"
      }
     }
    },
    "version_major": 2,
    "version_minor": 0
   }
  }
 },
 "nbformat": 4,
 "nbformat_minor": 5
}
