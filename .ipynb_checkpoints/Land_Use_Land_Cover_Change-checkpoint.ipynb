{
 "cells": [
  {
   "cell_type": "code",
   "execution_count": 1,
   "id": "38164953-42b9-4cde-95de-a9fbe0f2eb31",
   "metadata": {},
   "outputs": [],
   "source": [
    "import geemap\n",
    "import ee"
   ]
  },
  {
   "cell_type": "code",
   "execution_count": 2,
   "id": "39529fa9-bdd4-457d-a576-36bab60132ca",
   "metadata": {},
   "outputs": [
    {
     "data": {
      "text/html": [
       "\n",
       "            <style>\n",
       "                .geemap-dark {\n",
       "                    --jp-widgets-color: white;\n",
       "                    --jp-widgets-label-color: white;\n",
       "                    --jp-ui-font-color1: white;\n",
       "                    --jp-layout-color2: #454545;\n",
       "                    background-color: #383838;\n",
       "                }\n",
       "\n",
       "                .geemap-dark .jupyter-button {\n",
       "                    --jp-layout-color3: #383838;\n",
       "                }\n",
       "\n",
       "                .geemap-colab {\n",
       "                    background-color: var(--colab-primary-surface-color, white);\n",
       "                }\n",
       "\n",
       "                .geemap-colab .jupyter-button {\n",
       "                    --jp-layout-color3: var(--colab-primary-surface-color, white);\n",
       "                }\n",
       "            </style>\n",
       "            "
      ],
      "text/plain": [
       "<IPython.core.display.HTML object>"
      ]
     },
     "metadata": {},
     "output_type": "display_data"
    }
   ],
   "source": [
    "ee.Initialize()"
   ]
  },
  {
   "cell_type": "code",
   "execution_count": 3,
   "id": "04fa0668-7372-448a-8acb-d3a2a16a3d0d",
   "metadata": {},
   "outputs": [
    {
     "data": {
      "text/html": [
       "\n",
       "            <style>\n",
       "                .geemap-dark {\n",
       "                    --jp-widgets-color: white;\n",
       "                    --jp-widgets-label-color: white;\n",
       "                    --jp-ui-font-color1: white;\n",
       "                    --jp-layout-color2: #454545;\n",
       "                    background-color: #383838;\n",
       "                }\n",
       "\n",
       "                .geemap-dark .jupyter-button {\n",
       "                    --jp-layout-color3: #383838;\n",
       "                }\n",
       "\n",
       "                .geemap-colab {\n",
       "                    background-color: var(--colab-primary-surface-color, white);\n",
       "                }\n",
       "\n",
       "                .geemap-colab .jupyter-button {\n",
       "                    --jp-layout-color3: var(--colab-primary-surface-color, white);\n",
       "                }\n",
       "            </style>\n",
       "            "
      ],
      "text/plain": [
       "<IPython.core.display.HTML object>"
      ]
     },
     "metadata": {},
     "output_type": "display_data"
    }
   ],
   "source": [
    "Map = geemap.Map()\n"
   ]
  },
  {
   "cell_type": "code",
   "execution_count": 4,
   "id": "30bfd544-e7ba-4d13-bed1-b9edc2c40d69",
   "metadata": {},
   "outputs": [
    {
     "data": {
      "text/html": [
       "\n",
       "            <style>\n",
       "                .geemap-dark {\n",
       "                    --jp-widgets-color: white;\n",
       "                    --jp-widgets-label-color: white;\n",
       "                    --jp-ui-font-color1: white;\n",
       "                    --jp-layout-color2: #454545;\n",
       "                    background-color: #383838;\n",
       "                }\n",
       "\n",
       "                .geemap-dark .jupyter-button {\n",
       "                    --jp-layout-color3: #383838;\n",
       "                }\n",
       "\n",
       "                .geemap-colab {\n",
       "                    background-color: var(--colab-primary-surface-color, white);\n",
       "                }\n",
       "\n",
       "                .geemap-colab .jupyter-button {\n",
       "                    --jp-layout-color3: var(--colab-primary-surface-color, white);\n",
       "                }\n",
       "            </style>\n",
       "            "
      ],
      "text/plain": [
       "<IPython.core.display.HTML object>"
      ]
     },
     "metadata": {},
     "output_type": "display_data"
    },
    {
     "data": {
      "application/vnd.jupyter.widget-view+json": {
       "model_id": "8e495fcb8359483094bfb3bf3d10d573",
       "version_major": 2,
       "version_minor": 0
      },
      "text/plain": [
       "Map(center=[0, 0], controls=(WidgetControl(options=['position', 'transparent_bg'], widget=SearchDataGUI(childr…"
      ]
     },
     "execution_count": 4,
     "metadata": {},
     "output_type": "execute_result"
    }
   ],
   "source": [
    "Map"
   ]
  },
  {
   "cell_type": "code",
   "execution_count": 5,
   "id": "55810133-6c04-4a8b-94fc-bb6adf39ef58",
   "metadata": {},
   "outputs": [
    {
     "data": {
      "text/html": [
       "\n",
       "            <style>\n",
       "                .geemap-dark {\n",
       "                    --jp-widgets-color: white;\n",
       "                    --jp-widgets-label-color: white;\n",
       "                    --jp-ui-font-color1: white;\n",
       "                    --jp-layout-color2: #454545;\n",
       "                    background-color: #383838;\n",
       "                }\n",
       "\n",
       "                .geemap-dark .jupyter-button {\n",
       "                    --jp-layout-color3: #383838;\n",
       "                }\n",
       "\n",
       "                .geemap-colab {\n",
       "                    background-color: var(--colab-primary-surface-color, white);\n",
       "                }\n",
       "\n",
       "                .geemap-colab .jupyter-button {\n",
       "                    --jp-layout-color3: var(--colab-primary-surface-color, white);\n",
       "                }\n",
       "            </style>\n",
       "            "
      ],
      "text/plain": [
       "<IPython.core.display.HTML object>"
      ]
     },
     "metadata": {},
     "output_type": "display_data"
    },
    {
     "data": {
      "application/vnd.jupyter.widget-view+json": {
       "model_id": "e582c494043f405dbd66b6b1cfab36fd",
       "version_major": 2,
       "version_minor": 0
      },
      "text/plain": [
       "HBox(children=(VBox(), VBox()))"
      ]
     },
     "metadata": {},
     "output_type": "display_data"
    }
   ],
   "source": [
    "geemap.ee_search()"
   ]
  },
  {
   "cell_type": "code",
   "execution_count": 7,
   "id": "7c6c066b-70a9-4a48-9b38-8d58554a1d97",
   "metadata": {},
   "outputs": [
    {
     "data": {
      "text/html": [
       "\n",
       "            <style>\n",
       "                .geemap-dark {\n",
       "                    --jp-widgets-color: white;\n",
       "                    --jp-widgets-label-color: white;\n",
       "                    --jp-ui-font-color1: white;\n",
       "                    --jp-layout-color2: #454545;\n",
       "                    background-color: #383838;\n",
       "                }\n",
       "\n",
       "                .geemap-dark .jupyter-button {\n",
       "                    --jp-layout-color3: #383838;\n",
       "                }\n",
       "\n",
       "                .geemap-colab {\n",
       "                    background-color: var(--colab-primary-surface-color, white);\n",
       "                }\n",
       "\n",
       "                .geemap-colab .jupyter-button {\n",
       "                    --jp-layout-color3: var(--colab-primary-surface-color, white);\n",
       "                }\n",
       "            </style>\n",
       "            "
      ],
      "text/plain": [
       "<IPython.core.display.HTML object>"
      ]
     },
     "metadata": {},
     "output_type": "display_data"
    }
   ],
   "source": [
    "##geemap.upload()"
   ]
  },
  {
   "cell_type": "markdown",
   "id": "b190b70c-46e5-47c3-b2a7-96c21f099c87",
   "metadata": {},
   "source": [
    "Loading a Shapefile"
   ]
  },
  {
   "cell_type": "code",
   "execution_count": 15,
   "id": "4730dc06-013c-4fdd-a67e-7a7c9e5a6c8e",
   "metadata": {},
   "outputs": [
    {
     "data": {
      "text/html": [
       "\n",
       "            <style>\n",
       "                .geemap-dark {\n",
       "                    --jp-widgets-color: white;\n",
       "                    --jp-widgets-label-color: white;\n",
       "                    --jp-ui-font-color1: white;\n",
       "                    --jp-layout-color2: #454545;\n",
       "                    background-color: #383838;\n",
       "                }\n",
       "\n",
       "                .geemap-dark .jupyter-button {\n",
       "                    --jp-layout-color3: #383838;\n",
       "                }\n",
       "\n",
       "                .geemap-colab {\n",
       "                    background-color: var(--colab-primary-surface-color, white);\n",
       "                }\n",
       "\n",
       "                .geemap-colab .jupyter-button {\n",
       "                    --jp-layout-color3: var(--colab-primary-surface-color, white);\n",
       "                }\n",
       "            </style>\n",
       "            "
      ],
      "text/plain": [
       "<IPython.core.display.HTML object>"
      ]
     },
     "metadata": {},
     "output_type": "display_data"
    },
    {
     "name": "stdout",
     "output_type": "stream",
     "text": [
      "GeoPandas is required to perform reprojection of the data. See https://geopandas.org/install.html\n"
     ]
    }
   ],
   "source": [
    "Shapefile_path = 'F:\\Collecting and Analysing Data\\Maps\\Shapefiles\\Selection of Study Sites\\Study_Sites_V1.shp'\n",
    "shp_ee = geemap.shp_to_ee(Shapefile_path)\n",
    "Map.addLayer(shp_ee, {}, 'Shapefile')\n",
    "shp_ee"
   ]
  },
  {
   "cell_type": "markdown",
   "id": "b03173e8-ea8d-4cbf-b495-1b36adb6959a",
   "metadata": {},
   "source": [
    "Image Collection"
   ]
  },
  {
   "cell_type": "code",
   "execution_count": 35,
   "id": "7a10340e-aafc-45c7-ad73-510e41888810",
   "metadata": {},
   "outputs": [
    {
     "data": {
      "text/html": [
       "\n",
       "            <style>\n",
       "                .geemap-dark {\n",
       "                    --jp-widgets-color: white;\n",
       "                    --jp-widgets-label-color: white;\n",
       "                    --jp-ui-font-color1: white;\n",
       "                    --jp-layout-color2: #454545;\n",
       "                    background-color: #383838;\n",
       "                }\n",
       "\n",
       "                .geemap-dark .jupyter-button {\n",
       "                    --jp-layout-color3: #383838;\n",
       "                }\n",
       "\n",
       "                .geemap-colab {\n",
       "                    background-color: var(--colab-primary-surface-color, white);\n",
       "                }\n",
       "\n",
       "                .geemap-colab .jupyter-button {\n",
       "                    --jp-layout-color3: var(--colab-primary-surface-color, white);\n",
       "                }\n",
       "            </style>\n",
       "            "
      ],
      "text/plain": [
       "<IPython.core.display.HTML object>"
      ]
     },
     "metadata": {},
     "output_type": "display_data"
    }
   ],
   "source": [
    "LUUBWE_sentinel = ee.ImageCollection('COPERNICUS/S2') \\\n",
    ".filterDate('2018-01-01', '2019-01-01') \\\n",
    ".filterBounds(roi)"
   ]
  },
  {
   "cell_type": "markdown",
   "id": "594e49f4-b490-4fd2-b4df-83d9bf39646a",
   "metadata": {},
   "source": [
    "Shapefile Collection"
   ]
  },
  {
   "cell_type": "code",
   "execution_count": 44,
   "id": "970e0c7d-2e95-46eb-b966-8e48bac3cffb",
   "metadata": {
    "scrolled": true
   },
   "outputs": [
    {
     "data": {
      "text/html": [
       "\n",
       "            <style>\n",
       "                .geemap-dark {\n",
       "                    --jp-widgets-color: white;\n",
       "                    --jp-widgets-label-color: white;\n",
       "                    --jp-ui-font-color1: white;\n",
       "                    --jp-layout-color2: #454545;\n",
       "                    background-color: #383838;\n",
       "                }\n",
       "\n",
       "                .geemap-dark .jupyter-button {\n",
       "                    --jp-layout-color3: #383838;\n",
       "                }\n",
       "\n",
       "                .geemap-colab {\n",
       "                    background-color: var(--colab-primary-surface-color, white);\n",
       "                }\n",
       "\n",
       "                .geemap-colab .jupyter-button {\n",
       "                    --jp-layout-color3: var(--colab-primary-surface-color, white);\n",
       "                }\n",
       "            </style>\n",
       "            "
      ],
      "text/plain": [
       "<IPython.core.display.HTML object>"
      ]
     },
     "metadata": {},
     "output_type": "display_data"
    }
   ],
   "source": [
    "Wards = ee.FeatureCollection('Shapfile_Path');\n",
    "roi = Wards.filter(ee.Filter.eq('WardNm2020','LUUBWE'));\n",
    "##LUUBWE_boundary = Wards.filter(ee.Filter.eq('WardNm2020','LUUBWE'));\n",
    "#roi = ee.FeatureCollection(LUUBWE_boundary).geometry();"
   ]
  },
  {
   "cell_type": "markdown",
   "id": "0ebf84e1-892a-450d-9e5d-56d90fe5fd9e",
   "metadata": {},
   "source": [
    "Cliping the Image and adding it to the Map "
   ]
  },
  {
   "cell_type": "code",
   "execution_count": 47,
   "id": "c3770547-ff15-4bb5-b819-1b7400b54e8d",
   "metadata": {},
   "outputs": [
    {
     "data": {
      "text/html": [
       "\n",
       "            <style>\n",
       "                .geemap-dark {\n",
       "                    --jp-widgets-color: white;\n",
       "                    --jp-widgets-label-color: white;\n",
       "                    --jp-ui-font-color1: white;\n",
       "                    --jp-layout-color2: #454545;\n",
       "                    background-color: #383838;\n",
       "                }\n",
       "\n",
       "                .geemap-dark .jupyter-button {\n",
       "                    --jp-layout-color3: #383838;\n",
       "                }\n",
       "\n",
       "                .geemap-colab {\n",
       "                    background-color: var(--colab-primary-surface-color, white);\n",
       "                }\n",
       "\n",
       "                .geemap-colab .jupyter-button {\n",
       "                    --jp-layout-color3: var(--colab-primary-surface-color, white);\n",
       "                }\n",
       "            </style>\n",
       "            "
      ],
      "text/plain": [
       "<IPython.core.display.HTML object>"
      ]
     },
     "metadata": {},
     "output_type": "display_data"
    },
    {
     "ename": "AttributeError",
     "evalue": "'ImageCollection' object has no attribute 'clip'",
     "output_type": "error",
     "traceback": [
      "\u001b[1;31m---------------------------------------------------------------------------\u001b[0m",
      "\u001b[1;31mAttributeError\u001b[0m                            Traceback (most recent call last)",
      "Cell \u001b[1;32mIn[47], line 8\u001b[0m\n\u001b[0;32m      1\u001b[0m rgbVis \u001b[38;5;241m=\u001b[39m {\u001b[38;5;124m'\u001b[39m\u001b[38;5;124mbands\u001b[39m\u001b[38;5;124m'\u001b[39m:[\u001b[38;5;124m'\u001b[39m\u001b[38;5;124mB4\u001b[39m\u001b[38;5;124m'\u001b[39m,\u001b[38;5;124m'\u001b[39m\u001b[38;5;124mB3\u001b[39m\u001b[38;5;124m'\u001b[39m,\u001b[38;5;124m'\u001b[39m\u001b[38;5;124mB2\u001b[39m\u001b[38;5;124m'\u001b[39m], \u001b[38;5;28mmin\u001b[39m: \u001b[38;5;241m0\u001b[39m, \u001b[38;5;28mmax\u001b[39m: \u001b[38;5;241m0.3\u001b[39m};\n\u001b[0;32m      2\u001b[0m \u001b[38;5;66;03m##LUUBWE_sentinel_median = LUUBWE_sentinel.median();\u001b[39;00m\n\u001b[0;32m      3\u001b[0m \u001b[38;5;66;03m##LUUBWE_sentinel_clip = LUUBWE_sentinel_median.clip(roi);\u001b[39;00m\n\u001b[0;32m      4\u001b[0m \u001b[38;5;66;03m##LUUBWE_sentinel_clip = LUUBWE_sentinel.clip(roi);\u001b[39;00m\n\u001b[0;32m      5\u001b[0m \u001b[38;5;66;03m##Map.addLayer(LUUBWE_boundary, {color:'red'});\u001b[39;00m\n\u001b[0;32m      6\u001b[0m \u001b[38;5;66;03m##Map.addLayer(LUUBWE_boundary);\u001b[39;00m\n\u001b[0;32m      7\u001b[0m \u001b[38;5;66;03m##Map.addLayer(LUUBWE_sentinel_clip, rgbVis);\u001b[39;00m\n\u001b[1;32m----> 8\u001b[0m Map\u001b[38;5;241m.\u001b[39maddLayer(\u001b[43mLUUBWE_sentinel\u001b[49m\u001b[38;5;241;43m.\u001b[39;49m\u001b[43mclip\u001b[49m(roi), rgbVis);\n\u001b[0;32m      9\u001b[0m Map\u001b[38;5;241m.\u001b[39mcenterObject(LUUBWE_sentinel_clip, \u001b[38;5;241m10\u001b[39m);\n",
      "\u001b[1;31mAttributeError\u001b[0m: 'ImageCollection' object has no attribute 'clip'"
     ]
    }
   ],
   "source": [
    "rgbVis = {'bands':['B4','B3','B2'], min: 0, max: 0.3};\n",
    "##LUUBWE_sentinel_median = LUUBWE_sentinel.median();\n",
    "##LUUBWE_sentinel_clip = LUUBWE_sentinel_median.clip(roi);\n",
    "##LUUBWE_sentinel_clip = LUUBWE_sentinel.clip(roi);\n",
    "##Map.addLayer(LUUBWE_boundary, {color:'red'});\n",
    "##Map.addLayer(LUUBWE_boundary);\n",
    "##Map.addLayer(LUUBWE_sentinel_clip, rgbVis);\n",
    "Map.addLayer(LUUBWE_sentinel.clip(roi), rgbVis);\n",
    "Map.centerObject(LUUBWE_sentinel_clip, 10);"
   ]
  },
  {
   "cell_type": "markdown",
   "id": "620578c4-2939-4657-b514-b2e40c7ac5d9",
   "metadata": {},
   "source": [
    "Area of the shapefile"
   ]
  },
  {
   "cell_type": "code",
   "execution_count": null,
   "id": "a8651ae9-0aec-4ee9-9a7a-051adc409089",
   "metadata": {},
   "outputs": [],
   "source": [
    "var  LUUBWE_Area =  LUUBWE_boundary.geometry().area();\n",
    "var  LUUBWE_Area_sqKm = ee.Number(LUUBWE_Area).divide(1e6);\n",
    "print( LUUBWE_Area_sqKm);"
   ]
  },
  {
   "cell_type": "markdown",
   "id": "28c2ceec-ac64-4ea3-873f-dfb5553499d6",
   "metadata": {},
   "source": [
    "Supervised classification"
   ]
  },
  {
   "cell_type": "code",
   "execution_count": null,
   "id": "2ab136fc-07f7-4e3a-984d-adf226cc0e13",
   "metadata": {},
   "outputs": [],
   "source": []
  },
  {
   "cell_type": "markdown",
   "id": "d4e63282-9004-46f6-bc98-314fc2e17bec",
   "metadata": {},
   "source": [
    "Merge all the training points"
   ]
  },
  {
   "cell_type": "code",
   "execution_count": null,
   "id": "1ae090f0-6c90-4017-93f6-c981a4f44296",
   "metadata": {},
   "outputs": [],
   "source": [
    "var lable = \"Class\";\n",
    "var sample = Waterbody.merge(Builtup).merge(Cropland).merge(Vegetation).merge(Bareland);\n",
    "var bands = ['B2','B3','B4','B5','B6','B7'];\n",
    "var training = LUUBWE_sentinel_clip.select(bands).sampleRegions({\n",
    "  collection: sample, \n",
    "  properties: ['Class'], \n",
    "  scale: 30\n",
    "});\n",
    "print('training', training);"
   ]
  },
  {
   "cell_type": "markdown",
   "id": "31a99239-f75d-4641-8a64-fe6c74a1206b",
   "metadata": {},
   "source": [
    "Training dataset divided in two ways\n",
    "Traing the model: 80%\n",
    "Test the model: 20% data for testing"
   ]
  },
  {
   "cell_type": "code",
   "execution_count": null,
   "id": "50fd5a3a-6166-4047-a68b-7bbe9f2a02b3",
   "metadata": {},
   "outputs": [],
   "source": [
    "var dataset = training.randomColumn();\n",
    "var trainset = dataset.filter(ee.Filter.lessThan('random', 0.8));\n",
    "var testset = dataset.filter(ee.Filter.greaterThanOrEquals('random', 0.8));\n"
   ]
  },
  {
   "cell_type": "markdown",
   "id": "f7c0ae47-a6b6-444c-b375-adc3e399be76",
   "metadata": {},
   "source": [
    "Create the Model CART"
   ]
  },
  {
   "cell_type": "code",
   "execution_count": null,
   "id": "cbed9bbd-372d-488d-b3e8-9373d08aace6",
   "metadata": {},
   "outputs": [],
   "source": [
    "var classifier = ee.Classifier.smileCart().train(trainset, lable, bands);"
   ]
  },
  {
   "cell_type": "markdown",
   "id": "2720f476-649c-4197-a5e4-e9ae842c6ecc",
   "metadata": {},
   "source": [
    "Classify the sentinel image"
   ]
  },
  {
   "cell_type": "code",
   "execution_count": null,
   "id": "c5dbb12e-43e6-436a-bb9b-f63cdaf0aa81",
   "metadata": {},
   "outputs": [],
   "source": [
    "var classified = LUUBWE_sentinel_clip.classify(classifier);\n",
    "print('classified', classified);"
   ]
  },
  {
   "cell_type": "markdown",
   "id": "cba8efd2-d2d1-44e7-a430-5789ee624f38",
   "metadata": {},
   "source": [
    "Visualisation of the classification"
   ]
  },
  {
   "cell_type": "code",
   "execution_count": null,
   "id": "026d487f-2927-47f4-bcf5-7672854ec758",
   "metadata": {},
   "outputs": [],
   "source": [
    "var landcoverpalette = [\n",
    "  'blue',\n",
    "  'red',\n",
    "  'yellow',\n",
    "  'green',\n",
    "  'grey',\n",
    "  ];\n",
    "  \n",
    "Map.addLayer(classified.clip(roi),{'min': 0, 'max': 4, 'palette': landcoverpalette});"
   ]
  },
  {
   "cell_type": "markdown",
   "id": "a6bfcb15-bdd0-41f6-a722-1f7c8fa380d7",
   "metadata": {},
   "source": [
    "Get information about the trained classifier."
   ]
  },
  {
   "cell_type": "code",
   "execution_count": null,
   "id": "07f01113-0ab6-42c4-ac57-f8cbb567f101",
   "metadata": {},
   "outputs": [],
   "source": [
    "print('Results of trained classifier', classifier.explain());"
   ]
  },
  {
   "cell_type": "markdown",
   "id": "1727e932-000b-437f-9f8f-c08c3e1d153e",
   "metadata": {},
   "source": [
    "Acuracy assement\n",
    "\n",
    "Get a confusion matrix and overall accuracy for the training sample."
   ]
  },
  {
   "cell_type": "code",
   "execution_count": null,
   "id": "108711fc-35cb-4b4e-b9d0-6ef523bd06b0",
   "metadata": {},
   "outputs": [],
   "source": [
    "var trainAccuracy = classifier.confusionMatrix();\n",
    "print('Training error matrix', trainAccuracy);\n",
    "print('Training overall accuracy', trainAccuracy.accuracy());"
   ]
  },
  {
   "cell_type": "markdown",
   "id": "565af8db-405e-4aa0-825f-33fb74012f07",
   "metadata": {},
   "source": [
    "Get a confusion matrix and overall accuracy for the validation sample."
   ]
  },
  {
   "cell_type": "code",
   "execution_count": null,
   "id": "ac494585-c520-4500-89cd-d2268f6575c7",
   "metadata": {},
   "outputs": [],
   "source": [
    "testset = trainset.classify(classifier);\n",
    "var validationAccuracy = testset.errorMatrix(lable, 'classification');\n",
    "print('Validation error matrix', validationAccuracy);\n",
    "print('Validation accuracy', validationAccuracy.accuracy());"
   ]
  },
  {
   "cell_type": "markdown",
   "id": "a059c1e3-35ba-4c6b-a489-c012e03ac6cb",
   "metadata": {},
   "source": [
    "Calculating Area by Class by Reagion\n",
    "Calculating the Nested Group area of classes"
   ]
  },
  {
   "cell_type": "code",
   "execution_count": null,
   "id": "ececff12-d65c-4a64-889f-b994c8067d6b",
   "metadata": {},
   "outputs": [],
   "source": [
    "var areaImage = ee.Image.pixelArea().addBands(classified);\n",
    "var areas = areaImage.reduceRegion({\n",
    "  reducer: ee.Reducer.sum().group({\n",
    "    groupField:1,\n",
    "    groupName: 'class'}), \n",
    "    geometry: roi,\n",
    "    scale: 10,\n",
    "    maxPixels: 1e13});\n",
    "\n",
    "print(areaImage);"
   ]
  },
  {
   "cell_type": "markdown",
   "id": "d49572b5-a7d9-48ee-b80c-414742c86221",
   "metadata": {},
   "source": [
    "Flatening the Nested Gropus areas of classes"
   ]
  },
  {
   "cell_type": "code",
   "execution_count": null,
   "id": "f48d94ca-f9e2-4553-afee-58cb9863cef9",
   "metadata": {},
   "outputs": [],
   "source": [
    "var classAreas = ee.List(areas.get('groups'));\n",
    "var classAreaLists = classAreas.map(function(item){\n",
    "  var areaDic = ee.Dictionary(item)\n",
    "  var classNumber = ee.Number(areaDic.get('class')).format()\n",
    "  var area = ee.Number(areaDic.get('sum')).divide(1e6).round()\n",
    "  return ee.List([classNumber, area])\n",
    "});\n",
    "\n",
    "var results = ee.Dictionary(classAreaLists.flatten());\n",
    "print(results);"
   ]
  },
  {
   "cell_type": "markdown",
   "id": "0feae633-e212-41b1-b8ef-bb5cd8e0a820",
   "metadata": {},
   "source": [
    "Export Image"
   ]
  },
  {
   "cell_type": "code",
   "execution_count": null,
   "id": "aba6ec20-cc44-4ff6-a34b-8399d4d3941d",
   "metadata": {},
   "outputs": [],
   "source": [
    "Export.image.toDrive({\n",
    "image:classified,\n",
    "description: 'LUUBWE_sentinel_classified_2019',\n",
    "fileFormat: 'GeoTIFF',\n",
    "scale: 10,\n",
    "region: roi,\n",
    "});"
   ]
  },
  {
   "cell_type": "markdown",
   "id": "8b5227de-4a54-4a50-b949-b7ece7fb1bf7",
   "metadata": {},
   "source": [
    "Export table to your google drive"
   ]
  },
  {
   "cell_type": "code",
   "execution_count": null,
   "id": "28c39368-0b70-4785-90fc-a2c413941990",
   "metadata": {},
   "outputs": [],
   "source": [
    "Export.table.toDrive({\n",
    "        collection: results,\n",
    "        description: 'classAreaLists', \n",
    "        folder: 'EE',\n",
    "    fileNamePrefix: 'classAreas', \n",
    "    fileFormat: 'CSV'\n",
    "    });"
   ]
  }
 ],
 "metadata": {
  "kernelspec": {
   "display_name": "GoogleEarthEngine_Py_3_8",
   "language": "python",
   "name": "googleearthengine_py_3_8"
  },
  "language_info": {
   "codemirror_mode": {
    "name": "ipython",
    "version": 3
   },
   "file_extension": ".py",
   "mimetype": "text/x-python",
   "name": "python",
   "nbconvert_exporter": "python",
   "pygments_lexer": "ipython3",
   "version": "3.8.18"
  },
  "widgets": {
   "application/vnd.jupyter.widget-state+json": {
    "state": {
     "00c7691b43c84e709f7ac6a26ada869e": {
      "model_module": "ipytree",
      "model_module_version": "^0.2",
      "model_name": "NodeModel",
      "state": {
       "_id": "0088d370-db15-4591-b435-7a52382f0282",
       "_model_module_version": "^0.2",
       "_view_module_version": "^0.2",
       "icon": "file",
       "name": "landsat_filtering.py"
      }
     },
     "01ba1962ee6d40cfbb3ad1347b33312b": {
      "model_module": "ipytree",
      "model_module_version": "^0.2",
      "model_name": "NodeModel",
      "state": {
       "_id": "f2598d68-b8e0-486f-b779-2c7ef0d627a2",
       "_model_module_version": "^0.2",
       "_view_module_version": "^0.2",
       "icon": "file",
       "name": "reducing_collection.py"
      }
     },
     "01ebc2a0125f4d5eb3c2833e7636b8b0": {
      "model_module": "@jupyter-widgets/base",
      "model_module_version": "2.0.0",
      "model_name": "LayoutModel",
      "state": {}
     },
     "028387221c08488ea1e1faef5eaa1706": {
      "model_module": "ipytree",
      "model_module_version": "^0.2",
      "model_name": "NodeModel",
      "state": {
       "_id": "b239f88b-7445-4d38-a334-9a5d26754372",
       "_model_module_version": "^0.2",
       "_view_module_version": "^0.2",
       "icon": "file",
       "name": "convert_vector_to_raster.py"
      }
     },
     "0326fb192f0d4c7580ce218f08af43d0": {
      "model_module": "@jupyter-widgets/controls",
      "model_module_version": "2.0.0",
      "model_name": "ToggleButtonsModel",
      "state": {
       "_options_labels": [
        "Scripts",
        "Docs",
        "Assets"
       ],
       "button_style": "primary",
       "icons": [],
       "index": 0,
       "layout": "IPY_MODEL_58947b75f7094d40900e55fd6087949a",
       "style": "IPY_MODEL_128128b7eaeb4c48822ddeeba8aafdac",
       "tooltips": [
        "Search Earth Engine Scripts",
        "Search Earth Engine API",
        "Search Earth Engine Assets"
       ]
      }
     },
     "037fba54e8194feab1c879af5e9a2599": {
      "model_module": "ipytree",
      "model_module_version": "^0.2",
      "model_name": "NodeModel",
      "state": {
       "_id": "aa54d7e5-a606-4e7e-a8a6-3ea67c158639",
       "_model_module_version": "^0.2",
       "_view_module_version": "^0.2",
       "name": "Reducer",
       "nodes": [
        "IPY_MODEL_df060019d4e04ebe881a1ea99f96ad91",
        "IPY_MODEL_028387221c08488ea1e1faef5eaa1706",
        "IPY_MODEL_2c7444a03b2e41318632c5b95f8a0e6c",
        "IPY_MODEL_fc3d2e535e7e4e9d9a599ddaa0a38064",
        "IPY_MODEL_39d06b6053e84d8e9b9b7d5b0ef5b79b",
        "IPY_MODEL_aa19b541b2eb49838cad0d66a93b5ffe",
        "IPY_MODEL_21660d7df62a488cb0aadc7da812ef8c",
        "IPY_MODEL_9723adaafd054c52bd1d290991f86e70",
        "IPY_MODEL_885a3229af2544cdb49013bc17b85f37",
        "IPY_MODEL_bc11e128afb741f6af37f56386fb605c",
        "IPY_MODEL_ce96bdddaedf44efbf786a1da37c63ed",
        "IPY_MODEL_9e9c4bd0fb6542438f62609b7f970753",
        "IPY_MODEL_91dd6fb9ff8a489093fb328a573ebd5c",
        "IPY_MODEL_bbea9deae2864d68b9acc000b915019f",
        "IPY_MODEL_799dadd190a247efb9a3b02dc16b5d49",
        "IPY_MODEL_c0ceb4aabedf46b9a87c350d5e6ca69a"
       ],
       "opened": false
      }
     },
     "03b2be51f8f5416182df706d15af0c35": {
      "model_module": "ipytree",
      "model_module_version": "^0.2",
      "model_name": "NodeModel",
      "state": {
       "_id": "4092f171-f824-49db-9a21-90943a1a2b3b",
       "_model_module_version": "^0.2",
       "_view_module_version": "^0.2",
       "icon": "file",
       "name": "clipped_composite.py"
      }
     },
     "03b70f1b58d14b9f94cba66ddd5ca05d": {
      "model_module": "ipytree",
      "model_module_version": "^0.2",
      "model_name": "NodeModel",
      "state": {
       "_id": "83414d15-0bd1-40ff-bb52-77d7ba371edd",
       "_model_module_version": "^0.2",
       "_view_module_version": "^0.2",
       "name": "CloudMasking",
       "nodes": [
        "IPY_MODEL_6d5b146c229345f38cb9947c9c25df73",
        "IPY_MODEL_a7e2964cb71c41c0b40ad278766fad01",
        "IPY_MODEL_bc354bece77a46cba663d4fd8641d59c",
        "IPY_MODEL_d643fd45965e4d95bf8e0044ce506429",
        "IPY_MODEL_7ea969d09f214e2ebddf4cc8c7c4cd9b"
       ],
       "opened": false
      }
     },
     "042ea5911c6744348b566a7d9a68f0ec": {
      "model_module": "ipytree",
      "model_module_version": "^0.2",
      "model_name": "NodeModel",
      "state": {
       "_id": "753b6645-b52d-464b-8817-1b3bb38a1285",
       "_model_module_version": "^0.2",
       "_view_module_version": "^0.2",
       "icon": "file",
       "name": "reducing_feature_collection.py"
      }
     },
     "04390dfea43e4d229f20e202e77ea07c": {
      "model_module": "ipytree",
      "model_module_version": "^0.2",
      "model_name": "NodeModel",
      "state": {
       "_id": "4e12c9fb-dd20-4e5b-8dbd-90daea041aa5",
       "_model_module_version": "^0.2",
       "_view_module_version": "^0.2",
       "icon": "file",
       "name": "us_ned_mtpi.py"
      }
     },
     "04722e301679408aafe8168ea5c51d9e": {
      "model_module": "ipytree",
      "model_module_version": "^0.2",
      "model_name": "NodeModel",
      "state": {
       "_id": "f9fc9118-c091-40e7-acf5-eb7155d3a92e",
       "_model_module_version": "^0.2",
       "_view_module_version": "^0.2",
       "icon": "file",
       "name": "map_function.py"
      }
     },
     "047e7557330a40c589670d7e5ed88cf3": {
      "model_module": "@jupyter-widgets/base",
      "model_module_version": "2.0.0",
      "model_name": "LayoutModel",
      "state": {
       "height": "auto",
       "padding": "0px 0px 0px 4px",
       "width": "auto"
      }
     },
     "04f2eafce9334abc9cf9b6155ad48e2c": {
      "model_module": "ipytree",
      "model_module_version": "^0.2",
      "model_name": "NodeModel",
      "state": {
       "_id": "140b1e88-b2c8-4108-b415-38d7d4b0d064",
       "_model_module_version": "^0.2",
       "_view_module_version": "^0.2",
       "icon": "file",
       "name": "image_color_palettes.py"
      }
     },
     "058e690d0f3746098306cb511b45d344": {
      "model_module": "@jupyter-widgets/controls",
      "model_module_version": "2.0.0",
      "model_name": "ToggleButtonStyleModel",
      "state": {
       "description_width": "",
       "font_family": null,
       "font_size": null,
       "font_style": null,
       "font_variant": null,
       "font_weight": null,
       "text_color": null,
       "text_decoration": null
      }
     },
     "05be3f4825784d869682dc2d6317d00e": {
      "model_module": "ipytree",
      "model_module_version": "^0.2",
      "model_name": "NodeModel",
      "state": {
       "_id": "b1522ff4-2f11-4fc2-a67b-f87240d85e5b",
       "_model_module_version": "^0.2",
       "_view_module_version": "^0.2",
       "icon": "file",
       "name": "ndwi_single.py"
      }
     },
     "0654ed2df021431cb2b6a0b3ffba45ca": {
      "model_module": "ipytree",
      "model_module_version": "^0.2",
      "model_name": "NodeModel",
      "state": {
       "_id": "75946d24-8352-473c-88d0-9688cd1c822f",
       "_model_module_version": "^0.2",
       "_view_module_version": "^0.2",
       "icon": "file",
       "name": "us_census_zip_code.py"
      }
     },
     "0657d425778f4ea9b60ecff7142b0559": {
      "model_module": "ipytree",
      "model_module_version": "^0.2",
      "model_name": "NodeModel",
      "state": {
       "_id": "c9103cdf-afe4-4299-b5b0-be01719809e3",
       "_model_module_version": "^0.2",
       "_view_module_version": "^0.2",
       "icon": "file",
       "name": "test_sentinel2.py"
      }
     },
     "067a619a7c1a4c3d90e750eb331f66d4": {
      "model_module": "ipytree",
      "model_module_version": "^0.2",
      "model_name": "NodeModel",
      "state": {
       "_id": "0ebaa3dd-9fb9-4c1d-bd39-406abe0a38b8",
       "_model_module_version": "^0.2",
       "_view_module_version": "^0.2",
       "icon": "file",
       "name": "save_best_joins.py"
      }
     },
     "06cff3d41dc24a3bbe438eb453521f1e": {
      "model_module": "ipytree",
      "model_module_version": "^0.2",
      "model_name": "NodeModel",
      "state": {
       "_id": "33e0deb5-8d3f-4c4c-898b-14f1f79687a0",
       "_model_module_version": "^0.2",
       "_view_module_version": "^0.2",
       "icon": "file",
       "name": "filtering.py"
      }
     },
     "070504b202e246e688ae497c90c26f17": {
      "model_module": "ipytree",
      "model_module_version": "^0.2",
      "model_name": "NodeModel",
      "state": {
       "_id": "7ea78187-84a5-4a1c-ab6a-09c0e02a3f75",
       "_model_module_version": "^0.2",
       "_view_module_version": "^0.2",
       "icon": "file",
       "name": "ClippedComposite.py"
      }
     },
     "070cfc9d003c4a03b0a4441986dc2cc3": {
      "model_module": "ipyevents",
      "model_module_version": "2.0.2",
      "model_name": "EventModel",
      "state": {
       "_supported_key_events": [
        "keydown",
        "keyup"
       ],
       "_supported_mouse_events": [
        "click",
        "auxclick",
        "dblclick",
        "mouseenter",
        "mouseleave",
        "mousedown",
        "mouseup",
        "mousemove",
        "wheel",
        "contextmenu",
        "dragstart",
        "drag",
        "dragend",
        "dragenter",
        "dragover",
        "dragleave",
        "drop"
       ],
       "_supported_touch_events": [
        "touchstart",
        "touchend",
        "touchmove",
        "touchcancel"
       ],
       "_view_module": "@jupyter-widgets/controls",
       "source": "IPY_MODEL_c3659d33791f4d739db5da667903e3de",
       "throttle_or_debounce": "",
       "watched_events": [
        "mouseenter",
        "mouseleave"
       ],
       "xy_coordinate_system": ""
      }
     },
     "08be8d3de0da420d8fb48ef38799c767": {
      "model_module": "ipytree",
      "model_module_version": "^0.2",
      "model_name": "NodeModel",
      "state": {
       "_id": "545f1fcb-91c9-4b18-a0ca-c5ac5be215b4",
       "_model_module_version": "^0.2",
       "_view_module_version": "^0.2",
       "icon": "file",
       "name": "edge_detection.py"
      }
     },
     "08cd6be2808b46ec94b1fdc4a35cc470": {
      "model_module": "@jupyter-widgets/controls",
      "model_module_version": "2.0.0",
      "model_name": "ButtonModel",
      "state": {
       "button_style": "primary",
       "description": "import",
       "layout": "IPY_MODEL_dfe59acf2a1c466892a786a8c23d041e",
       "style": "IPY_MODEL_530efcdd65984a388b2ce5261eb673c2",
       "tooltip": "Click to import the selected asset"
      }
     },
     "092bcae27b99401aa04cb02412db9451": {
      "model_module": "@jupyter-widgets/base",
      "model_module_version": "2.0.0",
      "model_name": "LayoutModel",
      "state": {
       "height": "28px",
       "width": "72px"
      }
     },
     "0a0a883e93344f47a782ba5481f14b01": {
      "model_module": "jupyter-leaflet",
      "model_module_version": "^0.18",
      "model_name": "LeafletScaleControlModel",
      "state": {
       "_model_module_version": "^0.18",
       "_view_module_version": "^0.18",
       "imperial": true,
       "max_width": 100,
       "metric": true,
       "options": [
        "imperial",
        "max_width",
        "metric",
        "position",
        "update_when_idle"
       ],
       "position": "bottomleft",
       "update_when_idle": false
      }
     },
     "0abedc28921e4a8b9e5a1eefc2a9aea4": {
      "model_module": "ipytree",
      "model_module_version": "^0.2",
      "model_name": "NodeModel",
      "state": {
       "_id": "9a9769d6-c69b-489e-87fd-852ebdacac9d",
       "_model_module_version": "^0.2",
       "_view_module_version": "^0.2",
       "icon": "file",
       "name": "map_add_features.py"
      }
     },
     "0bb3f40fb5e84e5aba59c823adc07779": {
      "model_module": "ipytree",
      "model_module_version": "^0.2",
      "model_name": "NodeModel",
      "state": {
       "_id": "15d896f0-65e2-4c3d-ae60-aad3c92d0ab7",
       "_model_module_version": "^0.2",
       "_view_module_version": "^0.2",
       "icon": "file",
       "name": "landsat_cloud_score.py"
      }
     },
     "0bebd64b3da440548e47f7240e0bb0c2": {
      "model_module": "ipytree",
      "model_module_version": "^0.2",
      "model_name": "NodeModel",
      "state": {
       "_id": "fc5aade7-6e57-49fc-9678-a553d8737b37",
       "_model_module_version": "^0.2",
       "_view_module_version": "^0.2",
       "icon": "file",
       "name": "image_color_ramp.py"
      }
     },
     "0c9301c7bcb7488e97b5d76190e4f031": {
      "model_module": "ipytree",
      "model_module_version": "^0.2",
      "model_name": "NodeModel",
      "state": {
       "_id": "b45da348-a82b-447d-89f4-ab6c50d8a710",
       "_model_module_version": "^0.2",
       "_view_module_version": "^0.2",
       "icon": "file",
       "name": "map_set_center.py"
      }
     },
     "0d7631a2dd2a43df85c5ac36951ffc00": {
      "model_module": "ipytree",
      "model_module_version": "^0.2",
      "model_name": "NodeModel",
      "state": {
       "_id": "255aa514-1c87-4c30-9c11-fa2146f5bbbf",
       "_model_module_version": "^0.2",
       "_view_module_version": "^0.2",
       "icon": "file",
       "name": "jrc_monthly_recurrence.py"
      }
     },
     "0df4afaf84cf491cadeaa5fd58291e04": {
      "model_module": "@jupyter-widgets/controls",
      "model_module_version": "2.0.0",
      "model_name": "ToggleButtonModel",
      "state": {
       "button_style": "primary",
       "icon": "random",
       "layout": "IPY_MODEL_878f474998514420af4929a1f530af4c",
       "style": "IPY_MODEL_6df5535ef8b04f1185993390908cb7bc",
       "tooltip": "Sankey plots"
      }
     },
     "0ea135fa2caf463096e8a295ecf4ca8a": {
      "model_module": "ipytree",
      "model_module_version": "^0.2",
      "model_name": "NodeModel",
      "state": {
       "_id": "02dc93eb-f6b1-483e-aaba-93e17f43e2c4",
       "_model_module_version": "^0.2",
       "_view_module_version": "^0.2",
       "icon": "file",
       "name": "export_csv.py"
      }
     },
     "0f207ea109b24b4f948b34a71a6da3ad": {
      "model_module": "@jupyter-widgets/controls",
      "model_module_version": "2.0.0",
      "model_name": "ToggleButtonStyleModel",
      "state": {
       "description_width": "",
       "font_family": null,
       "font_size": null,
       "font_style": null,
       "font_variant": null,
       "font_weight": null,
       "text_color": null,
       "text_decoration": null
      }
     },
     "0f2a75253e1544ff9c333cc37b8c79ff": {
      "model_module": "ipytree",
      "model_module_version": "^0.2",
      "model_name": "NodeModel",
      "state": {
       "_id": "99fb2500-aa8d-4714-afb2-b18964cb6816",
       "_model_module_version": "^0.2",
       "_view_module_version": "^0.2",
       "icon": "file",
       "name": "column_statistics_by_group.py"
      }
     },
     "0f383b9f89344fee812c4ba0a7f468b4": {
      "model_module": "ipytree",
      "model_module_version": "^0.2",
      "model_name": "NodeModel",
      "state": {
       "_id": "89820e39-1c87-4332-8635-98dcdb54260f",
       "_model_module_version": "^0.2",
       "_view_module_version": "^0.2",
       "icon": "file",
       "name": "srtm.py"
      }
     },
     "0f8798dbce5445dc9ee2d8f1fc49fe0d": {
      "model_module": "ipytree",
      "model_module_version": "^0.2",
      "model_name": "NodeModel",
      "state": {
       "_id": "beb19d07-cf3d-454a-8501-f94c79a3c4a4",
       "_model_module_version": "^0.2",
       "_view_module_version": "^0.2",
       "icon": "file",
       "name": "filter_neq.py"
      }
     },
     "0f8a55a1de27451e967b17931e206574": {
      "model_module": "ipytree",
      "model_module_version": "^0.2",
      "model_name": "NodeModel",
      "state": {
       "_id": "33411daa-fbbb-44d5-b69a-bddc6d91f401",
       "_model_module_version": "^0.2",
       "_view_module_version": "^0.2",
       "icon": "file",
       "name": "array_images.py"
      }
     },
     "1037d3b5a3a14816b5f8141ff24b8727": {
      "model_module": "@jupyter-widgets/controls",
      "model_module_version": "2.0.0",
      "model_name": "ButtonModel",
      "state": {
       "button_style": "primary",
       "description": "Save",
       "disabled": true,
       "layout": "IPY_MODEL_a852371983174f7c98d627be873b749c",
       "style": "IPY_MODEL_56fc64eaa0264dc19784f57df07da947",
       "tooltip": "Save edits to file."
      }
     },
     "10bc1825cfc8404da26cd7014799e42b": {
      "model_module": "ipytree",
      "model_module_version": "^0.2",
      "model_name": "NodeModel",
      "state": {
       "_id": "a1edaff4-cab7-47dd-8070-e0b6de1a3f5e",
       "_model_module_version": "^0.2",
       "_view_module_version": "^0.2",
       "name": "Terrain",
       "nodes": [
        "IPY_MODEL_8c8b7a9c23c848d08526ec7d97a7e877",
        "IPY_MODEL_be0a05222e9e421d8de91dcb112e27ed",
        "IPY_MODEL_ee38893db9f742ac835e0267a75976e7",
        "IPY_MODEL_17d3609660374fd1a842f895523e0104",
        "IPY_MODEL_32c6df5af262470482409116d484cc5e",
        "IPY_MODEL_7206f232a78349dc8cd248ddcd7ec8cf",
        "IPY_MODEL_12f196215b764b7791dd375d499c5a1b",
        "IPY_MODEL_0f383b9f89344fee812c4ba0a7f468b4",
        "IPY_MODEL_f2c34dfecc1a4d82a48b010ba1b11640",
        "IPY_MODEL_c8222a8d2c0e4b8fbb73920ae3a0e59f",
        "IPY_MODEL_78470eee5f6e4fe7a08ac68ccbf3929e",
        "IPY_MODEL_2fcfa4b6fdb247c8945357ad430b6d34",
        "IPY_MODEL_28e1871579ea45c69d411e67b22dff83",
        "IPY_MODEL_b65df059a24c446c84543c58c43b11fc",
        "IPY_MODEL_6a241d2dd4484c218eb9187319d6e1dd",
        "IPY_MODEL_dfc626376f3d4c87aedbaa2a42f55e9d",
        "IPY_MODEL_04390dfea43e4d229f20e202e77ea07c",
        "IPY_MODEL_46074a29596e4278baacccd978906797",
        "IPY_MODEL_a4444b39caed4d6cad3649c7c369a65b",
        "IPY_MODEL_d6a3ffbb59b2467381c2a8e5e03d5eb2"
       ],
       "opened": false
      }
     },
     "11ea0b3ca48941bd80b123cf41bbb092": {
      "model_module": "ipytree",
      "model_module_version": "^0.2",
      "model_name": "NodeModel",
      "state": {
       "_id": "0318e95f-e853-4c31-89fa-3be44e1986a8",
       "_model_module_version": "^0.2",
       "_view_module_version": "^0.2",
       "icon": "file",
       "name": "geometric_operations.py"
      }
     },
     "128128b7eaeb4c48822ddeeba8aafdac": {
      "model_module": "@jupyter-widgets/controls",
      "model_module_version": "2.0.0",
      "model_name": "ToggleButtonsStyleModel",
      "state": {
       "button_width": "100px",
       "description_width": ""
      }
     },
     "12b532db4b934017b56c0ca7813cb0ca": {
      "model_module": "ipytree",
      "model_module_version": "^0.2",
      "model_name": "NodeModel",
      "state": {
       "_id": "1d437e24-e60f-4627-b471-d23135f58062",
       "_model_module_version": "^0.2",
       "_view_module_version": "^0.2",
       "icon": "file",
       "name": "count_features.py"
      }
     },
     "12dda28d44484ac6b1d2db1a444f562c": {
      "model_module": "jupyter-leaflet",
      "model_module_version": "^0.18",
      "model_name": "LeafletWidgetControlModel",
      "state": {
       "_model_module": "jupyter-leaflet",
       "_model_module_version": "^0.18",
       "_view_count": null,
       "_view_module": "jupyter-leaflet",
       "_view_module_version": "^0.18",
       "options": [
        "position",
        "transparent_bg"
       ],
       "position": "topright",
       "widget": "IPY_MODEL_c3659d33791f4d739db5da667903e3de"
      }
     },
     "12f196215b764b7791dd375d499c5a1b": {
      "model_module": "ipytree",
      "model_module_version": "^0.2",
      "model_name": "NodeModel",
      "state": {
       "_id": "a74aeb9c-2e44-4a14-a570-f9410a1786eb",
       "_model_module_version": "^0.2",
       "_view_module_version": "^0.2",
       "icon": "file",
       "name": "hydrosheds_dem.py"
      }
     },
     "132b16229b504024b7fbadc754180ae1": {
      "model_module": "@jupyter-widgets/controls",
      "model_module_version": "2.0.0",
      "model_name": "TextStyleModel",
      "state": {
       "description_width": "",
       "font_size": null,
       "text_color": null
      }
     },
     "146e3878fe4044dbbc23389e2ae646af": {
      "model_module": "@jupyter-widgets/controls",
      "model_module_version": "2.0.0",
      "model_name": "VBoxModel",
      "state": {
       "children": [
        "IPY_MODEL_9c0d1ace208e44c382bd8805827dba28",
        "IPY_MODEL_874996d9582142e2858fafab6578a1cc"
       ],
       "layout": "IPY_MODEL_203355285a5b40d1a3c500c6df0bfb33"
      }
     },
     "152fb9cf4a79410ab97a620ed3ffa13b": {
      "model_module": "ipytree",
      "model_module_version": "^0.2",
      "model_name": "NodeModel",
      "state": {
       "_id": "db02f47e-1ebf-4963-b177-2e557ce8ce2b",
       "_model_module_version": "^0.2",
       "_view_module_version": "^0.2",
       "icon": "file",
       "name": "loop_FeatureCollection.py"
      }
     },
     "1595cbb1804f44f896dc8f380c67e351": {
      "model_module": "ipytree",
      "model_module_version": "^0.2",
      "model_name": "NodeModel",
      "state": {
       "_id": "22dcd108-737c-4ee6-82fa-69812bf3d829",
       "_model_module_version": "^0.2",
       "_view_module_version": "^0.2",
       "icon": "file",
       "name": "map_set_zoom.py"
      }
     },
     "15cfc12f035a42c696901ebd3985676d": {
      "model_module": "@jupyter-widgets/base",
      "model_module_version": "2.0.0",
      "model_name": "LayoutModel",
      "state": {
       "width": "70px"
      }
     },
     "167c4d328b974b409478136fd091ffeb": {
      "model_module": "@jupyter-widgets/controls",
      "model_module_version": "2.0.0",
      "model_name": "ToggleButtonModel",
      "state": {
       "button_style": "primary",
       "icon": "retweet",
       "layout": "IPY_MODEL_20632c77d1194b53a43ce66a3d8841b3",
       "style": "IPY_MODEL_83ba5cfffb3149f4b9434ae8e18818a0",
       "tooltip": "Convert Earth Engine JavaScript to Python"
      }
     },
     "17d3609660374fd1a842f895523e0104": {
      "model_module": "ipytree",
      "model_module_version": "^0.2",
      "model_name": "NodeModel",
      "state": {
       "_id": "d1303be3-f3c2-404f-8163-e38b51b9649f",
       "_model_module_version": "^0.2",
       "_view_module_version": "^0.2",
       "icon": "file",
       "name": "alos_mtpi.py"
      }
     },
     "17e052138fc1463eb2706414ad932417": {
      "model_module": "ipytree",
      "model_module_version": "^0.2",
      "model_name": "NodeModel",
      "state": {
       "_id": "ff958ced-ad94-4007-8240-422665e84cd2",
       "_model_module_version": "^0.2",
       "_view_module_version": "^0.2",
       "icon": "file",
       "name": "polynomial.py"
      }
     },
     "18d45a7d2f4443d6bafe4f76314ef860": {
      "model_module": "ipytree",
      "model_module_version": "^0.2",
      "model_name": "NodeModel",
      "state": {
       "_id": "bf65e3bd-d2b0-4e72-bf52-7042e7c76dac",
       "_model_module_version": "^0.2",
       "_view_module_version": "^0.2",
       "icon": "file",
       "name": "image_overview.py"
      }
     },
     "1a2969542118441197b2ce0c41b5d0a1": {
      "model_module": "ipytree",
      "model_module_version": "^0.2",
      "model_name": "NodeModel",
      "state": {
       "_id": "03d77425-6b1f-400a-b764-74b73617f803",
       "_model_module_version": "^0.2",
       "_view_module_version": "^0.2",
       "icon": "file",
       "name": "image_displacement.py"
      }
     },
     "1a822c7911804c0f898e735009f2f62e": {
      "model_module": "ipytree",
      "model_module_version": "^0.2",
      "model_name": "NodeModel",
      "state": {
       "_id": "90d5514a-438d-4de3-a209-5bb26db0051c",
       "_model_module_version": "^0.2",
       "_view_module_version": "^0.2",
       "icon": "file",
       "name": "02_adding_data_to_qgis.py"
      }
     },
     "1ac38fcddabe423eaa7e6fe2bb31a807": {
      "model_module": "ipytree",
      "model_module_version": "^0.2",
      "model_name": "NodeModel",
      "state": {
       "_id": "225c1963-3f6f-41ba-b273-fce5f9a588bb",
       "_model_module_version": "^0.2",
       "_view_module_version": "^0.2",
       "icon": "file",
       "name": "inverted_joins.py"
      }
     },
     "1ca6e3196f71465492ce03dc9dde7288": {
      "model_module": "ipytree",
      "model_module_version": "^0.2",
      "model_name": "NodeModel",
      "state": {
       "_id": "6217b977-7523-4194-a929-daf241fa253c",
       "_model_module_version": "^0.2",
       "_view_module_version": "^0.2",
       "icon": "file",
       "name": "get_band_name_and_type.py"
      }
     },
     "1de78a054804415dbe6f072746944d83": {
      "model_module": "ipytree",
      "model_module_version": "^0.2",
      "model_name": "NodeModel",
      "state": {
       "_id": "39d8dced-7b49-4734-a197-ac8855a44aa3",
       "_model_module_version": "^0.2",
       "_view_module_version": "^0.2",
       "icon": "file",
       "name": "mosaicking.py"
      }
     },
     "1f4a155a4032443c93c4e2bb9e6c5d46": {
      "model_module": "@jupyter-widgets/base",
      "model_module_version": "2.0.0",
      "model_name": "LayoutModel",
      "state": {}
     },
     "1fb98b0b2af0483a826b47f4854a52fe": {
      "model_module": "ipytree",
      "model_module_version": "^0.2",
      "model_name": "NodeModel",
      "state": {
       "_id": "7cb02d54-61ec-4903-b271-2397d8ab12fd",
       "_model_module_version": "^0.2",
       "_view_module_version": "^0.2",
       "icon": "file",
       "name": "clustering.py"
      }
     },
     "1ff6c956a1884158bc35ab1018556588": {
      "model_module": "ipytree",
      "model_module_version": "^0.2",
      "model_name": "NodeModel",
      "state": {
       "_id": "528da64c-0ad5-4ab3-9742-d958340a99ad",
       "_model_module_version": "^0.2",
       "_view_module_version": "^0.2",
       "icon": "file",
       "name": "us_census_datasets.py"
      }
     },
     "203355285a5b40d1a3c500c6df0bfb33": {
      "model_module": "@jupyter-widgets/base",
      "model_module_version": "2.0.0",
      "model_name": "LayoutModel",
      "state": {}
     },
     "20632c77d1194b53a43ce66a3d8841b3": {
      "model_module": "@jupyter-widgets/base",
      "model_module_version": "2.0.0",
      "model_name": "LayoutModel",
      "state": {
       "height": "auto",
       "padding": "0px 0px 0px 4px",
       "width": "auto"
      }
     },
     "20aa2e48f37142d0abbc13e115232bb6": {
      "model_module": "ipytree",
      "model_module_version": "^0.2",
      "model_name": "NodeModel",
      "state": {
       "_id": "431d4397-5088-4f2c-a7bd-4792b2276845",
       "_model_module_version": "^0.2",
       "_view_module_version": "^0.2",
       "icon": "file",
       "name": "hillshade.py"
      }
     },
     "20bbd953dc354ada88bf4592ef1d6cbf": {
      "model_module": "@jupyter-widgets/controls",
      "model_module_version": "2.0.0",
      "model_name": "TextStyleModel",
      "state": {
       "description_width": "",
       "font_size": null,
       "text_color": null
      }
     },
     "21660d7df62a488cb0aadc7da812ef8c": {
      "model_module": "ipytree",
      "model_module_version": "^0.2",
      "model_name": "NodeModel",
      "state": {
       "_id": "4bb9682a-52a4-4db7-a994-b29b60a3aebf",
       "_model_module_version": "^0.2",
       "_view_module_version": "^0.2",
       "icon": "file",
       "name": "median_reducer.py"
      }
     },
     "21b3ca50a9df4ffc89028846d939f377": {
      "model_module": "@jupyter-widgets/controls",
      "model_module_version": "2.0.0",
      "model_name": "ToggleButtonModel",
      "state": {
       "button_style": "primary",
       "icon": "globe",
       "layout": "IPY_MODEL_d044d8d4868940d8b0ac40dc1504f846",
       "style": "IPY_MODEL_2390a27d508645df9890173396c42134",
       "tooltip": "Create timelapse"
      }
     },
     "21f953f6ac534f7db64d34d83ae13454": {
      "model_module": "ipytree",
      "model_module_version": "^0.2",
      "model_name": "NodeModel",
      "state": {
       "_id": "e6a051a2-008d-45b8-8c34-7126f55556da",
       "_model_module_version": "^0.2",
       "_view_module_version": "^0.2",
       "icon": "file",
       "name": "filtering_collection.py"
      }
     },
     "22717bde7ac74497bb6aad7903009ba4": {
      "model_module": "ipytree",
      "model_module_version": "^0.2",
      "model_name": "NodeModel",
      "state": {
       "_id": "5c9e13c1-6507-4c55-8095-04df301b2cab",
       "_model_module_version": "^0.2",
       "_view_module_version": "^0.2",
       "icon": "file",
       "name": "export_TimeSeries2.py"
      }
     },
     "22791553c5e54d75892e063baa7cae3d": {
      "model_module": "@jupyter-widgets/controls",
      "model_module_version": "2.0.0",
      "model_name": "TextStyleModel",
      "state": {
       "description_width": "",
       "font_size": null,
       "text_color": null
      }
     },
     "2291b495357c4e318b6218bba5a2ab65": {
      "model_module": "ipytree",
      "model_module_version": "^0.2",
      "model_name": "NodeModel",
      "state": {
       "_id": "af1048c9-db11-4a5f-af03-e350db3533bc",
       "_model_module_version": "^0.2",
       "_view_module_version": "^0.2",
       "icon": "file",
       "name": "reduce_to_image.py"
      }
     },
     "234aaa5a006c4b058d1d57ab845f1540": {
      "model_module": "ipytree",
      "model_module_version": "^0.2",
      "model_name": "NodeModel",
      "state": {
       "_id": "f4f7babc-d9ce-448b-b1a5-4da39cbc8dd8",
       "_model_module_version": "^0.2",
       "_view_module_version": "^0.2",
       "icon": "file",
       "name": "landcover_cleanup.py"
      }
     },
     "2390a27d508645df9890173396c42134": {
      "model_module": "@jupyter-widgets/controls",
      "model_module_version": "2.0.0",
      "model_name": "ToggleButtonStyleModel",
      "state": {
       "description_width": "",
       "font_family": null,
       "font_size": null,
       "font_style": null,
       "font_variant": null,
       "font_weight": null,
       "text_color": null,
       "text_decoration": null
      }
     },
     "248d5f27d74c44ed9f4a284fcf0a0936": {
      "model_module": "ipytree",
      "model_module_version": "^0.2",
      "model_name": "NodeModel",
      "state": {
       "_id": "8b38513a-2301-46ef-a45c-b63122778e82",
       "_model_module_version": "^0.2",
       "_view_module_version": "^0.2",
       "icon": "file",
       "name": "resampling2.py"
      }
     },
     "251cf643ce4e4e6abea7fb2903f53a38": {
      "model_module": "ipytree",
      "model_module_version": "^0.2",
      "model_name": "NodeModel",
      "state": {
       "_id": "50e0992d-577f-40ed-966a-b988e009db31",
       "_model_module_version": "^0.2",
       "_view_module_version": "^0.2",
       "icon": "file",
       "name": "image_patch_area.py"
      }
     },
     "254b0368b7ba4f2b88f679ba2d938a6a": {
      "model_module": "ipytree",
      "model_module_version": "^0.2",
      "model_name": "TreeModel",
      "state": {
       "_model_module_version": "^0.2",
       "_view_module_version": "^0.2",
       "layout": "IPY_MODEL_892e60db3e51428586eeae6bc5e3c712",
       "multiple_selection": false,
       "nodes": [
        "IPY_MODEL_52e65f88f1b145ae950e79ed96656cb0",
        "IPY_MODEL_ce1d35d88f324c96879f750737c94463",
        "IPY_MODEL_e2cfd5d0deea47c9bce782873fa899a2",
        "IPY_MODEL_66ccc2da550645e4aafb77498d156fc0",
        "IPY_MODEL_b3fc3d3ca8244ab88800b2d42b3afd2b"
       ]
      }
     },
     "26c2bfa9294c42338f0a8aca8b3bc63a": {
      "model_module": "@jupyter-widgets/controls",
      "model_module_version": "2.0.0",
      "model_name": "ToggleButtonModel",
      "state": {
       "button_style": "primary",
       "icon": "fast-forward",
       "layout": "IPY_MODEL_047e7557330a40c589670d7e5ed88cf3",
       "style": "IPY_MODEL_d20b1069e12e4e5787ef092f17ff08d6",
       "tooltip": "Activate timeslider"
      }
     },
     "2727b11c60a544a08e6873b26f82ad4a": {
      "model_module": "ipytree",
      "model_module_version": "^0.2",
      "model_name": "NodeModel",
      "state": {
       "_id": "e95afba2-b5bb-40fe-b078-593010bf3aff",
       "_model_module_version": "^0.2",
       "_view_module_version": "^0.2",
       "icon": "file",
       "name": "nwi_wetlands_symbology.py"
      }
     },
     "276999e4ad154c0aa3a4208888d83a78": {
      "model_module": "ipytree",
      "model_module_version": "^0.2",
      "model_name": "NodeModel",
      "state": {
       "_id": "314bf944-8d01-4787-aca8-2f9d449956eb",
       "_model_module_version": "^0.2",
       "_view_module_version": "^0.2",
       "icon": "file",
       "name": "usgs_watershed_boundary.py"
      }
     },
     "2791403d93294981a89dd5f59ee8e6a7": {
      "model_module": "ipytree",
      "model_module_version": "^0.2",
      "model_name": "NodeModel",
      "state": {
       "_id": "6e8953da-656b-43e0-adb0-872a10ffdeb9",
       "_model_module_version": "^0.2",
       "_view_module_version": "^0.2",
       "icon": "file",
       "name": "select_by_location.py"
      }
     },
     "28557cbde2ba444ba3faec2cf0d7fff5": {
      "model_module": "@jupyter-widgets/controls",
      "model_module_version": "2.0.0",
      "model_name": "TextModel",
      "state": {
       "layout": "IPY_MODEL_a5d571aed8924927995df598bf6a0eb3",
       "placeholder": "Filter scripts...",
       "style": "IPY_MODEL_aa2cccd205cc47138aa16c1a58967c6c"
      }
     },
     "28e1871579ea45c69d411e67b22dff83": {
      "model_module": "ipytree",
      "model_module_version": "^0.2",
      "model_name": "NodeModel",
      "state": {
       "_id": "a64c63a5-36dc-44ec-95dd-39fc04899482",
       "_model_module_version": "^0.2",
       "_view_module_version": "^0.2",
       "icon": "file",
       "name": "us_lithology.py"
      }
     },
     "28f0495ee4e54bcb829384757e24fd7d": {
      "model_module": "@jupyter-widgets/controls",
      "model_module_version": "2.0.0",
      "model_name": "ToggleButtonModel",
      "state": {
       "button_style": "primary",
       "icon": "map",
       "layout": "IPY_MODEL_9e405ea2270d4cffa1d9f54f35251b35",
       "style": "IPY_MODEL_989b8b6ff1774ac49f5dadc13b968b94",
       "tooltip": "Change basemap"
      }
     },
     "29ea623a26ae43439420be3ca3acc078": {
      "model_module": "@jupyter-widgets/controls",
      "model_module_version": "2.0.0",
      "model_name": "ToggleButtonModel",
      "state": {
       "button_style": "primary",
       "icon": "bar-chart",
       "layout": "IPY_MODEL_d7a3d51197f24f51886adf18f58e5422",
       "style": "IPY_MODEL_f99ef9de5c6549ee9675dfe6c7a26e01",
       "tooltip": "Plotting"
      }
     },
     "2a51860fd8f34a33912d7621df54c5e8": {
      "model_module": "@jupyter-widgets/controls",
      "model_module_version": "2.0.0",
      "model_name": "ToggleButtonModel",
      "state": {
       "icon": "wrench",
       "layout": "IPY_MODEL_db167df8e6924f2682fa120a582b7210",
       "style": "IPY_MODEL_9f67069ca5094b4bbec65f0b2aff633a",
       "tooltip": "Toolbar"
      }
     },
     "2a8a07431acb4110b3ca2d94b8815f36": {
      "model_module": "ipytree",
      "model_module_version": "^0.2",
      "model_name": "NodeModel",
      "state": {
       "_id": "9930a3ca-d1ba-4039-af57-81cdb092d426",
       "_model_module_version": "^0.2",
       "_view_module_version": "^0.2",
       "name": "MachineLearning",
       "nodes": [
        "IPY_MODEL_bc494055d4ae4d2484da13f799e2e63c",
        "IPY_MODEL_1fb98b0b2af0483a826b47f4854a52fe",
        "IPY_MODEL_9cbe95b0aaa84f0f842b388970c79437",
        "IPY_MODEL_cbfea318ec144489a34d9da66d2950a3"
       ],
       "opened": false
      }
     },
     "2bb068c8f34f44c3832cb338d22b687d": {
      "model_module": "ipytree",
      "model_module_version": "^0.2",
      "model_name": "NodeModel",
      "state": {
       "_id": "3b127181-c476-4163-86fa-a5323f44eff4",
       "_model_module_version": "^0.2",
       "_view_module_version": "^0.2",
       "name": "Array",
       "nodes": [
        "IPY_MODEL_0f8a55a1de27451e967b17931e206574",
        "IPY_MODEL_988aa835cb804d7c896a2a903bbb8ff6",
        "IPY_MODEL_9a35dc91bf934ee2967a87496fb24f4a",
        "IPY_MODEL_cec049a11d1a48c4a864ab4f56774f9b",
        "IPY_MODEL_e2f1447e38a841ca96741c7664e04130",
        "IPY_MODEL_a691394ef15144bb9e9b94f810aaabd7",
        "IPY_MODEL_41b43097c0bb4fe2a5e95c95396e4489",
        "IPY_MODEL_d9622a0aa5ad41a599cf177c86005477"
       ],
       "opened": false
      }
     },
     "2be82140650043a9acb4c1f70a320565": {
      "model_module": "ipytree",
      "model_module_version": "^0.2",
      "model_name": "NodeModel",
      "state": {
       "_id": "7cdab236-7942-48c6-91c3-47ef407ef0c8",
       "_model_module_version": "^0.2",
       "_view_module_version": "^0.2",
       "icon": "file",
       "name": "landsat_wrs2_grid.py"
      }
     },
     "2c68256ce4404590982cc045ff089678": {
      "model_module": "ipytree",
      "model_module_version": "^0.2",
      "model_name": "NodeModel",
      "state": {
       "_id": "12a2875c-5407-484f-8f72-64bcc99c2c85",
       "_model_module_version": "^0.2",
       "_view_module_version": "^0.2",
       "icon": "file",
       "name": "fire_australia.py"
      }
     },
     "2c7444a03b2e41318632c5b95f8a0e6c": {
      "model_module": "ipytree",
      "model_module_version": "^0.2",
      "model_name": "NodeModel",
      "state": {
       "_id": "05fbe748-7c26-409a-b143-c4f8c64fa2fc",
       "_model_module_version": "^0.2",
       "_view_module_version": "^0.2",
       "icon": "file",
       "name": "image_reductions.py"
      }
     },
     "2c7855a377674df4bea9eb11af27d2bf": {
      "model_module": "ipytree",
      "model_module_version": "^0.2",
      "model_name": "NodeModel",
      "state": {
       "_id": "fe2610ae-a7ee-400c-9946-fd25d7dcff70",
       "_model_module_version": "^0.2",
       "_view_module_version": "^0.2",
       "icon": "file",
       "name": "styled_layer_descriptors.py"
      }
     },
     "2c78c18447584fbdb5aa9331d5fe57ba": {
      "model_module": "ipytree",
      "model_module_version": "^0.2",
      "model_name": "NodeModel",
      "state": {
       "_id": "cc8d6bca-4376-4f30-a437-26bac4cdd3e7",
       "_model_module_version": "^0.2",
       "_view_module_version": "^0.2",
       "icon": "file",
       "name": "FromName.py"
      }
     },
     "2d293d3a28ec4d7f82cd6ed36f12732b": {
      "model_module": "ipytree",
      "model_module_version": "^0.2",
      "model_name": "NodeModel",
      "state": {
       "_id": "29fc5faf-1ecb-4841-8874-45a4a003cb1a",
       "_model_module_version": "^0.2",
       "_view_module_version": "^0.2",
       "icon": "file",
       "name": "Projections.py"
      }
     },
     "2d79a2c6a5384dd2963d7c02cc5c9325": {
      "model_module": "ipytree",
      "model_module_version": "^0.2",
      "model_name": "NodeModel",
      "state": {
       "_id": "13ee543a-5a12-4556-9865-18317a74687a",
       "_model_module_version": "^0.2",
       "_view_module_version": "^0.2",
       "icon": "file",
       "name": "08_masking.py"
      }
     },
     "2d86a5c0b12e425ba0002935f0fa8b95": {
      "model_module": "ipytree",
      "model_module_version": "^0.2",
      "model_name": "NodeModel",
      "state": {
       "_id": "506cd16f-ff33-4bb2-9ebc-52f6e12993f0",
       "_model_module_version": "^0.2",
       "_view_module_version": "^0.2",
       "icon": "file",
       "name": "us_census_tracts.py"
      }
     },
     "2d894abb85b647bb86bf6d8032637924": {
      "model_module": "@jupyter-widgets/base",
      "model_module_version": "2.0.0",
      "model_name": "LayoutModel",
      "state": {}
     },
     "2ecde6c08bc646ba96a123e2820f34be": {
      "model_module": "ipytree",
      "model_module_version": "^0.2",
      "model_name": "NodeModel",
      "state": {
       "_id": "d497c40d-1ac1-4fde-b4b7-cabdb953cb26",
       "_model_module_version": "^0.2",
       "_view_module_version": "^0.2",
       "icon": "file",
       "name": "terrain_visualization.py"
      }
     },
     "2f37c69748be45c992cfa718ceee03c7": {
      "model_module": "ipytree",
      "model_module_version": "^0.2",
      "model_name": "NodeModel",
      "state": {
       "_id": "6dc9a871-1b65-49f3-ab96-b5a1c680f04a",
       "_model_module_version": "^0.2",
       "_view_module_version": "^0.2",
       "icon": "file",
       "name": "reduce_region.py"
      }
     },
     "2fcfa4b6fdb247c8945357ad430b6d34": {
      "model_module": "ipytree",
      "model_module_version": "^0.2",
      "model_name": "NodeModel",
      "state": {
       "_id": "e88bfca1-5699-48bd-8d30-993ce188ec85",
       "_model_module_version": "^0.2",
       "_view_module_version": "^0.2",
       "icon": "file",
       "name": "srtm_topo_diversity.py"
      }
     },
     "30a261dc7c484c87ad0e9bec93f20a85": {
      "model_module": "@jupyter-widgets/controls",
      "model_module_version": "2.0.0",
      "model_name": "ToggleButtonModel",
      "state": {
       "button_style": "primary",
       "icon": "eraser",
       "layout": "IPY_MODEL_7af080b67af44183937b1ca372d89e09",
       "style": "IPY_MODEL_948849fb59ed4286a5924d8c68481060",
       "tooltip": "Remove all drawn features"
      }
     },
     "322b786fa240414280d4a964571b9b32": {
      "model_module": "ipytree",
      "model_module_version": "^0.2",
      "model_name": "NodeModel",
      "state": {
       "_id": "1d96e738-dda3-4400-b895-442dbb054468",
       "_model_module_version": "^0.2",
       "_view_module_version": "^0.2",
       "icon": "file",
       "name": "get_properties.py"
      }
     },
     "32c6df5af262470482409116d484cc5e": {
      "model_module": "ipytree",
      "model_module_version": "^0.2",
      "model_name": "NodeModel",
      "state": {
       "_id": "972196fc-4c0d-4c49-8b7f-d5e0389a90d7",
       "_model_module_version": "^0.2",
       "_view_module_version": "^0.2",
       "icon": "file",
       "name": "alos_topo_diversity.py"
      }
     },
     "3302049a01eb46968080cff546144ab2": {
      "model_module": "ipytree",
      "model_module_version": "^0.2",
      "model_name": "NodeModel",
      "state": {
       "_id": "058d469d-ba29-449f-b6fa-8d7a55cbd331",
       "_model_module_version": "^0.2",
       "_view_module_version": "^0.2",
       "icon": "file",
       "name": "morphological_operations.py"
      }
     },
     "335eb4dd207a4b76b5f4eab0b4f8fbc4": {
      "model_module": "ipytree",
      "model_module_version": "^0.2",
      "model_name": "NodeModel",
      "state": {
       "_id": "e989070a-c0b9-47ee-8db1-6ecc686e6374",
       "_model_module_version": "^0.2",
       "_view_module_version": "^0.2",
       "icon": "file",
       "name": "hillshade.py"
      }
     },
     "3362e0a641fd4150ba99667ded042b1c": {
      "model_module": "ipytree",
      "model_module_version": "^0.2",
      "model_name": "NodeModel",
      "state": {
       "_id": "7ef5e7e0-c02f-4f82-9fa4-1fb252053dca",
       "_model_module_version": "^0.2",
       "_view_module_version": "^0.2",
       "icon": "file",
       "name": "resolve_ecoregions.py"
      }
     },
     "3389ff8094be4edb9bf363704baecdfc": {
      "model_module": "@jupyter-widgets/base",
      "model_module_version": "2.0.0",
      "model_name": "LayoutModel",
      "state": {}
     },
     "3417627011b44a70853b6ab487bc97af": {
      "model_module": "ipytree",
      "model_module_version": "^0.2",
      "model_name": "NodeModel",
      "state": {
       "_id": "da4e48b7-39c7-4b8b-a1b8-804c829a8848",
       "_model_module_version": "^0.2",
       "_view_module_version": "^0.2",
       "icon": "file",
       "name": "merge_feature_collections.py"
      }
     },
     "3523a6dcc3364fcc88b885f46838843b": {
      "model_module": "ipytree",
      "model_module_version": "^0.2",
      "model_name": "NodeModel",
      "state": {
       "_id": "e62f79a4-3d3c-45aa-9ce1-b396294350a3",
       "_model_module_version": "^0.2",
       "_view_module_version": "^0.2",
       "icon": "file",
       "name": "get_image_id.py"
      }
     },
     "35887de859994a9db502c65f13eba30a": {
      "model_module": "@jupyter-widgets/base",
      "model_module_version": "2.0.0",
      "model_name": "LayoutModel",
      "state": {
       "height": "600px",
       "width": "630px"
      }
     },
     "36331c2f967a424caaa6426f46239ad9": {
      "model_module": "@jupyter-widgets/controls",
      "model_module_version": "2.0.0",
      "model_name": "HBoxModel",
      "state": {
       "children": [
        "IPY_MODEL_7349c4882150440ea1fa70efb8b7554f"
       ],
       "layout": "IPY_MODEL_3389ff8094be4edb9bf363704baecdfc"
      }
     },
     "3766e5b3a6404359840845939fea2ee8": {
      "model_module": "ipytree",
      "model_module_version": "^0.2",
      "model_name": "NodeModel",
      "state": {
       "_id": "781d96a9-45b9-4fc8-b121-24aca210e03f",
       "_model_module_version": "^0.2",
       "_view_module_version": "^0.2",
       "icon": "file",
       "name": "us_census_states.py"
      }
     },
     "37670cc8b2d54e69a89df1ebe959e903": {
      "model_module": "ipytree",
      "model_module_version": "^0.2",
      "model_name": "NodeModel",
      "state": {
       "_id": "da1bdee2-9202-4d3c-b57e-4885070671e0",
       "_model_module_version": "^0.2",
       "_view_module_version": "^0.2",
       "icon": "file",
       "name": "map_get_bounds.py"
      }
     },
     "37a2fa022c3f402a829a8ea956c42d6a": {
      "model_module": "ipytree",
      "model_module_version": "^0.2",
      "model_name": "NodeModel",
      "state": {
       "_id": "2cb124b5-8439-4a81-ab49-521c435f2e3b",
       "_model_module_version": "^0.2",
       "_view_module_version": "^0.2",
       "icon": "file",
       "name": "find_image_by_path_row.py"
      }
     },
     "37e8d4a8c8764ed19b76d9715aeed9a3": {
      "model_module": "ipytree",
      "model_module_version": "^0.2",
      "model_name": "NodeModel",
      "state": {
       "_id": "baa7df5d-daf4-47a2-918e-fd96d47564f7",
       "_model_module_version": "^0.2",
       "_view_module_version": "^0.2",
       "icon": "file",
       "name": "minimum_bounding_geometry.py"
      }
     },
     "38493d5e4fde41e19474a94a5edc415f": {
      "model_module": "ipytree",
      "model_module_version": "^0.2",
      "model_name": "NodeModel",
      "state": {
       "_id": "9eadc27f-28d1-49dd-86f0-2f663b94fb57",
       "_model_module_version": "^0.2",
       "_view_module_version": "^0.2",
       "icon": "file",
       "name": "us_census_blocks.py"
      }
     },
     "397745952a824751b894cd1c19da0df4": {
      "model_module": "ipytree",
      "model_module_version": "^0.2",
      "model_name": "NodeModel",
      "state": {
       "_id": "1a21ef56-1884-4184-b74d-e2c8e3865672",
       "_model_module_version": "^0.2",
       "_view_module_version": "^0.2",
       "icon": "file",
       "name": "rendering_categorical_maps.py"
      }
     },
     "39d06b6053e84d8e9b9b7d5b0ef5b79b": {
      "model_module": "ipytree",
      "model_module_version": "^0.2",
      "model_name": "NodeModel",
      "state": {
       "_id": "62040845-2f41-4d1e-be8e-fe578c000f04",
       "_model_module_version": "^0.2",
       "_view_module_version": "^0.2",
       "icon": "file",
       "name": "linear_regression_more.py"
      }
     },
     "3a763f9f3368477eb7ac4f390452b475": {
      "model_module": "ipytree",
      "model_module_version": "^0.2",
      "model_name": "NodeModel",
      "state": {
       "_id": "76e36f07-4961-4e2e-885c-f4a03642c290",
       "_model_module_version": "^0.2",
       "_view_module_version": "^0.2",
       "icon": "file",
       "name": "image_stats_by_band.py"
      }
     },
     "3b2cc6ad6ea84d81b2bcc9f5924d818e": {
      "model_module": "@jupyter-widgets/controls",
      "model_module_version": "2.0.0",
      "model_name": "TextStyleModel",
      "state": {
       "description_width": "",
       "font_size": null,
       "text_color": null
      }
     },
     "3bafe1494e1c4150bfe981fffe1050af": {
      "model_module": "ipytree",
      "model_module_version": "^0.2",
      "model_name": "NodeModel",
      "state": {
       "_id": "c1682afd-6c12-4366-bfd7-cbf5647ddee7",
       "_model_module_version": "^0.2",
       "_view_module_version": "^0.2",
       "icon": "file",
       "name": "jrc_yearly_history.py"
      }
     },
     "3c09f466a3f24c25b97b8a5aeb517b07": {
      "model_module": "@jupyter-widgets/base",
      "model_module_version": "2.0.0",
      "model_name": "LayoutModel",
      "state": {
       "height": "auto",
       "padding": "0px 0px 0px 4px",
       "width": "auto"
      }
     },
     "3c81f36026ed4f18ac635dea8bf6a193": {
      "model_module": "ipytree",
      "model_module_version": "^0.2",
      "model_name": "NodeModel",
      "state": {
       "_id": "4f283a2b-c020-4638-9b7e-12c98cc9aed9",
       "_model_module_version": "^0.2",
       "_view_module_version": "^0.2",
       "icon": "file",
       "name": "filter_string_contains.py"
      }
     },
     "3d6fccac3aac48fda7eb6de6765f7ae9": {
      "model_module": "ipytree",
      "model_module_version": "^0.2",
      "model_name": "NodeModel",
      "state": {
       "_id": "f786f879-46b2-4ac0-87b5-cfbd874c00c1",
       "_model_module_version": "^0.2",
       "_view_module_version": "^0.2",
       "icon": "file",
       "name": "column_statistics_multiple.py"
      }
     },
     "3d9f6d4687a742968ec97f48918089ea": {
      "model_module": "@jupyter-widgets/controls",
      "model_module_version": "2.0.0",
      "model_name": "ToggleButtonStyleModel",
      "state": {
       "description_width": "",
       "font_family": null,
       "font_size": null,
       "font_style": null,
       "font_variant": null,
       "font_weight": null,
       "text_color": null,
       "text_decoration": null
      }
     },
     "3eb0eb6f314342dc9e9ce24ba7aa2082": {
      "model_module": "@jupyter-widgets/controls",
      "model_module_version": "2.0.0",
      "model_name": "GridBoxModel",
      "state": {
       "children": [
        "IPY_MODEL_40506f547dba4443bb4e4cba5e1482c9",
        "IPY_MODEL_29ea623a26ae43439420be3ca3acc078",
        "IPY_MODEL_21b3ca50a9df4ffc89028846d939f377",
        "IPY_MODEL_28f0495ee4e54bcb829384757e24fd7d",
        "IPY_MODEL_167c4d328b974b409478136fd091ffeb",
        "IPY_MODEL_6f94a423b257456ea7af6dc15f4535f8"
       ],
       "layout": "IPY_MODEL_df189cc124d445c8962545926a233bc8"
      }
     },
     "3eecfdd2f73c40ceb4a73363023c10dc": {
      "model_module": "@jupyter-widgets/base",
      "model_module_version": "2.0.0",
      "model_name": "LayoutModel",
      "state": {
       "height": "auto",
       "padding": "0px 0px 0px 4px",
       "width": "auto"
      }
     },
     "3ff0c934fe64470dbb7f556638f8382c": {
      "model_module": "@jupyter-widgets/base",
      "model_module_version": "2.0.0",
      "model_name": "LayoutModel",
      "state": {
       "height": "auto",
       "padding": "0px 0px 0px 4px",
       "width": "auto"
      }
     },
     "40506f547dba4443bb4e4cba5e1482c9": {
      "model_module": "@jupyter-widgets/controls",
      "model_module_version": "2.0.0",
      "model_name": "ToggleButtonModel",
      "state": {
       "button_style": "primary",
       "icon": "info",
       "layout": "IPY_MODEL_3eecfdd2f73c40ceb4a73363023c10dc",
       "style": "IPY_MODEL_c26732d424e54632943f6570758d99ce",
       "tooltip": "Inspector"
      }
     },
     "40fd70b527eb4f7cbc9fa953776a2562": {
      "model_module": "@jupyter-widgets/controls",
      "model_module_version": "2.0.0",
      "model_name": "ToggleButtonModel",
      "state": {
       "button_style": "primary",
       "icon": "question",
       "layout": "IPY_MODEL_539056ce999449839e93d406391c4965",
       "style": "IPY_MODEL_6e1afe6cbe8d4b638b6ecf48e89f52c1",
       "tooltip": "Get help"
      }
     },
     "41521f6a3013412db8eeb851a8329821": {
      "model_module": "@jupyter-widgets/base",
      "model_module_version": "2.0.0",
      "model_name": "LayoutModel",
      "state": {}
     },
     "41b43097c0bb4fe2a5e95c95396e4489": {
      "model_module": "ipytree",
      "model_module_version": "^0.2",
      "model_name": "NodeModel",
      "state": {
       "_id": "73e5b618-62aa-4099-95ce-01a81a70fda4",
       "_model_module_version": "^0.2",
       "_view_module_version": "^0.2",
       "icon": "file",
       "name": "quality_mosaic.py"
      }
     },
     "41de240ea8cd4262969ab780232dd93b": {
      "model_module": "ipytree",
      "model_module_version": "^0.2",
      "model_name": "NodeModel",
      "state": {
       "_id": "9523cb66-0a8f-4366-8db8-abe3998168b4",
       "_model_module_version": "^0.2",
       "_view_module_version": "^0.2",
       "icon": "file",
       "name": "04_band_math.py"
      }
     },
     "41fa2c7db6cd4cfda3078ff71c62ba12": {
      "model_module": "ipytree",
      "model_module_version": "^0.2",
      "model_name": "NodeModel",
      "state": {
       "_id": "28d2a533-55bb-41db-bb4f-03aa4a0877fb",
       "_model_module_version": "^0.2",
       "_view_module_version": "^0.2",
       "icon": "file",
       "name": "select_bands.py"
      }
     },
     "426755d446a84e5d8fb741c9b34d68cc": {
      "model_module": "ipytree",
      "model_module_version": "^0.2",
      "model_name": "NodeModel",
      "state": {
       "_id": "3842e8a0-363b-4ed7-8190-d9f16c42f0b4",
       "_model_module_version": "^0.2",
       "_view_module_version": "^0.2",
       "icon": "file",
       "name": "remove_colors.py"
      }
     },
     "42f8cc894dea48f19cb88de607921fc7": {
      "model_module": "ipytree",
      "model_module_version": "^0.2",
      "model_name": "NodeModel",
      "state": {
       "_id": "a41a7803-7f72-452a-88bd-97d201dbec9a",
       "_model_module_version": "^0.2",
       "_view_module_version": "^0.2",
       "icon": "file",
       "name": "canny_edge_detector.py"
      }
     },
     "4333c1b4d588462ca519b5c427a3f340": {
      "model_module": "ipytree",
      "model_module_version": "^0.2",
      "model_name": "NodeModel",
      "state": {
       "_id": "62b7b701-9e43-4451-8e1f-704e8aa6fd33",
       "_model_module_version": "^0.2",
       "_view_module_version": "^0.2",
       "icon": "file",
       "name": "filter_range_contains.py"
      }
     },
     "4386a083512f40cf8ab87e935ebe3cde": {
      "model_module": "jupyter-leaflet",
      "model_module_version": "^0.18",
      "model_name": "LeafletMeasureControlModel",
      "state": {
       "_model_module_version": "^0.18",
       "_view_module_version": "^0.18",
       "active_color": "orange",
       "options": [
        "active_color",
        "capture_z_index",
        "completed_color",
        "popup_options",
        "position",
        "primary_area_unit",
        "primary_length_unit",
        "secondary_area_unit",
        "secondary_length_unit"
       ],
       "position": "bottomleft",
       "primary_length_unit": "kilometers",
       "secondary_area_unit": null,
       "secondary_length_unit": null
      }
     },
     "43df388bf39f4dc790bf188f6283e23f": {
      "model_module": "@jupyter-widgets/output",
      "model_module_version": "1.0.0",
      "model_name": "OutputModel",
      "state": {
       "layout": "IPY_MODEL_8523e1aabe934823a48b3bd5ae5e02a6"
      }
     },
     "4499b9737bdf48cc94d1ec9bf956bafa": {
      "model_module": "@jupyter-widgets/controls",
      "model_module_version": "2.0.0",
      "model_name": "ToggleButtonModel",
      "state": {
       "button_style": "primary",
       "icon": "folder-open",
       "layout": "IPY_MODEL_3c09f466a3f24c25b97b8a5aeb517b07",
       "style": "IPY_MODEL_aac36f3506a049d48cdaa7e668b3f860",
       "tooltip": "Open local vector/raster data"
      }
     },
     "451143f1f3f0470da8edb5056e92204c": {
      "model_module": "ipytree",
      "model_module_version": "^0.2",
      "model_name": "NodeModel",
      "state": {
       "_id": "4fe24d09-b6ae-45ed-9848-74054599346a",
       "_model_module_version": "^0.2",
       "_view_module_version": "^0.2",
       "icon": "file",
       "name": "relational_operators.py"
      }
     },
     "4535dae698974d48b6931f48e67dbff3": {
      "model_module": "ipytree",
      "model_module_version": "^0.2",
      "model_name": "NodeModel",
      "state": {
       "_id": "1b25c2f0-8d38-49ba-aa67-4c0b28be4e22",
       "_model_module_version": "^0.2",
       "_view_module_version": "^0.2",
       "icon": "file",
       "name": "README.md"
      }
     },
     "45d4e57dc08541d787848c35836e53eb": {
      "model_module": "ipytree",
      "model_module_version": "^0.2",
      "model_name": "NodeModel",
      "state": {
       "_id": "188ec5ee-48d8-40e9-a97b-52445860a666",
       "_model_module_version": "^0.2",
       "_view_module_version": "^0.2",
       "icon": "file",
       "name": "usda_naip.py"
      }
     },
     "46074a29596e4278baacccd978906797": {
      "model_module": "ipytree",
      "model_module_version": "^0.2",
      "model_name": "NodeModel",
      "state": {
       "_id": "8fed5226-6908-4af0-8115-543be55d1fec",
       "_model_module_version": "^0.2",
       "_view_module_version": "^0.2",
       "icon": "file",
       "name": "us_ned_physio_diversity.py"
      }
     },
     "46600a5a750b4022a3a6e9ce3901d137": {
      "model_module": "ipytree",
      "model_module_version": "^0.2",
      "model_name": "NodeModel",
      "state": {
       "_id": "558aca8c-a761-4ea7-a5ae-ccff4c6656a5",
       "_model_module_version": "^0.2",
       "_view_module_version": "^0.2",
       "icon": "file",
       "name": "image_stretch.py"
      }
     },
     "46a31c6cecae4425ac56978d4e7a8a57": {
      "model_module": "@jupyter-widgets/controls",
      "model_module_version": "2.0.0",
      "model_name": "ButtonStyleModel",
      "state": {
       "font_family": null,
       "font_size": null,
       "font_style": null,
       "font_variant": null,
       "font_weight": null,
       "text_color": null,
       "text_decoration": null
      }
     },
     "477681ef13464bf5ae4d64a07a6fa0a6": {
      "model_module": "@jupyter-widgets/base",
      "model_module_version": "2.0.0",
      "model_name": "LayoutModel",
      "state": {
       "width": "475px"
      }
     },
     "4798a5cd1f0e4802a15408321ce3544f": {
      "model_module": "@jupyter-widgets/controls",
      "model_module_version": "2.0.0",
      "model_name": "HBoxModel",
      "state": {
       "children": [
        "IPY_MODEL_6ccd5d919a144a20a7ba7af47ee69850",
        "IPY_MODEL_6c5acb5f983446a4a9a4bdbdfafbe72d",
        "IPY_MODEL_1037d3b5a3a14816b5f8141ff24b8727"
       ],
       "layout": "IPY_MODEL_cfd9c6c2944941cfb1de7cb9ed58231d"
      }
     },
     "47c445569a414e4c898f9ec1ccc1e3cf": {
      "model_module": "@jupyter-widgets/base",
      "model_module_version": "2.0.0",
      "model_name": "LayoutModel",
      "state": {}
     },
     "486e4447db0f44f7b4f0ae8f430b6438": {
      "model_module": "ipytree",
      "model_module_version": "^0.2",
      "model_name": "NodeModel",
      "state": {
       "_id": "9bba28ed-f846-4c72-9280-c3409f7fff9a",
       "_model_module_version": "^0.2",
       "_view_module_version": "^0.2",
       "icon": "file",
       "name": "add_area_column.py"
      }
     },
     "48f8803bfcf24240820c8e9b94e043c4": {
      "model_module": "@jupyter-widgets/controls",
      "model_module_version": "2.0.0",
      "model_name": "ToggleButtonModel",
      "state": {
       "button_style": "primary",
       "icon": "google",
       "layout": "IPY_MODEL_c745123631b04af8bb0c6dfd7209af41",
       "style": "IPY_MODEL_8a50aedde5dd441d8fd8a0799e8ef8f8",
       "tooltip": "GEE Toolbox for cloud computing"
      }
     },
     "49b708a489f4481598c567d2bb6dd3e2": {
      "model_module": "ipytree",
      "model_module_version": "^0.2",
      "model_name": "NodeModel",
      "state": {
       "_id": "fe7030ab-2dba-48f2-9a4e-adebf4e24235",
       "_model_module_version": "^0.2",
       "_view_module_version": "^0.2",
       "icon": "file",
       "name": "from_name.py"
      }
     },
     "4a7f4ec3f02d4e01ae5f10edb8dcfe80": {
      "model_module": "jupyter-leaflet",
      "model_module_version": "^0.18",
      "model_name": "LeafletMapStyleModel",
      "state": {
       "_model_module_version": "^0.18"
      }
     },
     "4b19e339bf6a4092a638407415e43263": {
      "model_module": "ipytree",
      "model_module_version": "^0.2",
      "model_name": "NodeModel",
      "state": {
       "_id": "ae1a9fd3-b52f-4830-8ed5-828400a9ed50",
       "_model_module_version": "^0.2",
       "_view_module_version": "^0.2",
       "icon": "file",
       "name": "creating_feature.py"
      }
     },
     "4b31998b99164886a6314b577f917558": {
      "model_module": "@jupyter-widgets/controls",
      "model_module_version": "2.0.0",
      "model_name": "ToggleButtonModel",
      "state": {
       "button_style": "primary",
       "icon": "gears",
       "layout": "IPY_MODEL_832b74526a6842398b22093e68a0c234",
       "style": "IPY_MODEL_0f207ea109b24b4f948b34a71a6da3ad",
       "tooltip": "WhiteboxTools for local geoprocessing"
      }
     },
     "4b41f5b0ba544178a6c27de74a875c65": {
      "model_module": "ipytree",
      "model_module_version": "^0.2",
      "model_name": "NodeModel",
      "state": {
       "_id": "f9e98e77-40d0-43f1-9356-89d8b9816a3a",
       "_model_module_version": "^0.2",
       "_view_module_version": "^0.2",
       "icon": "file",
       "name": "convert_bands_to_image_collection.py"
      }
     },
     "4cc6f920e30640d59c64cfbd57b8fc0e": {
      "model_module": "ipytree",
      "model_module_version": "^0.2",
      "model_name": "NodeModel",
      "state": {
       "_id": "89066c93-b338-434f-a57f-70c1e9cb5b36",
       "_model_module_version": "^0.2",
       "_view_module_version": "^0.2",
       "icon": "file",
       "name": "creating_feature_collection.py"
      }
     },
     "4d6c0282b18641d192bd8e27467cb9b0": {
      "model_module": "ipytree",
      "model_module_version": "^0.2",
      "model_name": "NodeModel",
      "state": {
       "_id": "be4cdd44-3aca-4c1c-8e70-de0e9b921283",
       "_model_module_version": "^0.2",
       "_view_module_version": "^0.2",
       "icon": "file",
       "name": "map_center_object_no_zoom.py"
      }
     },
     "4e76d7d1039441a6a896bd28591621af": {
      "model_module": "ipytree",
      "model_module_version": "^0.2",
      "model_name": "NodeModel",
      "state": {
       "_id": "a25d321e-0a38-4f42-91f1-5aa171d53688",
       "_model_module_version": "^0.2",
       "_view_module_version": "^0.2",
       "icon": "file",
       "name": "us_epa_ecoregions.py"
      }
     },
     "4e7e3765d03e4ba7b04795fdbc6f0c49": {
      "model_module": "ipytree",
      "model_module_version": "^0.2",
      "model_name": "NodeModel",
      "state": {
       "_id": "5c02a755-2f11-4c95-b705-a2a3613b9458",
       "_model_module_version": "^0.2",
       "_view_module_version": "^0.2",
       "icon": "file",
       "name": "band_math.py"
      }
     },
     "4eb7de85328240e5b8867ced44e0398d": {
      "model_module": "@jupyter-widgets/controls",
      "model_module_version": "2.0.0",
      "model_name": "HTMLStyleModel",
      "state": {
       "description_width": "",
       "font_size": null,
       "text_color": null
      }
     },
     "4ec0b10ab83a4f28b82604b41f85e88a": {
      "model_module": "ipytree",
      "model_module_version": "^0.2",
      "model_name": "NodeModel",
      "state": {
       "_id": "f172fdf5-b02d-42e5-8722-922e97532fed",
       "_model_module_version": "^0.2",
       "_view_module_version": "^0.2",
       "icon": "file",
       "name": "set_image_properties.py"
      }
     },
     "4fabd229bcfc4c1893d1d2dfb29ab44c": {
      "model_module": "ipytree",
      "model_module_version": "^0.2",
      "model_name": "NodeModel",
      "state": {
       "_id": "50b193f7-f2ca-49f4-8e3d-95a9673fd01a",
       "_model_module_version": "^0.2",
       "_view_module_version": "^0.2",
       "icon": "file",
       "name": "1_water_occurrence.py"
      }
     },
     "50aa24d64f0a4d98806d57454278b799": {
      "model_module": "ipytree",
      "model_module_version": "^0.2",
      "model_name": "NodeModel",
      "state": {
       "_id": "b7d43248-ac78-48ce-b72e-a1ef9f5b7c49",
       "_model_module_version": "^0.2",
       "_view_module_version": "^0.2",
       "icon": "file",
       "name": "3_water_class_transition.py"
      }
     },
     "51275386157b499e9f21f36cf4e7012d": {
      "model_module": "ipytree",
      "model_module_version": "^0.2",
      "model_name": "NodeModel",
      "state": {
       "_id": "58cb898b-bc91-48a7-8118-4979d92a6e4d",
       "_model_module_version": "^0.2",
       "_view_module_version": "^0.2",
       "name": "AssetManagement",
       "nodes": [
        "IPY_MODEL_6b0015c8c5be43fe9c572339ef3cf7b0",
        "IPY_MODEL_ee202e471e34412b9c2acc1a19e68e3a",
        "IPY_MODEL_708c1be949dd40fcbed8455e87c07ef2",
        "IPY_MODEL_22717bde7ac74497bb6aad7903009ba4",
        "IPY_MODEL_0ea135fa2caf463096e8a295ecf4ca8a",
        "IPY_MODEL_64257bd3490348ebbbadd49b5a0f4476",
        "IPY_MODEL_93106e2c7d904dc0bd598740cab36e8f",
        "IPY_MODEL_d982c6c3896a4616b1dc0ac9d84e28c8",
        "IPY_MODEL_dbe18c29f2914b4fb606fd0e1cc07ac2"
       ],
       "opened": false
      }
     },
     "51def42794b2464c9b9471f9a04fc485": {
      "model_module": "ipytree",
      "model_module_version": "^0.2",
      "model_name": "NodeModel",
      "state": {
       "_id": "2f2a2ea2-e235-4de3-a2c6-75a3f148ec47",
       "_model_module_version": "^0.2",
       "_view_module_version": "^0.2",
       "icon": "file",
       "name": "color_by_attribute.py"
      }
     },
     "52b938381e27442aa78da5095cef29e7": {
      "model_module": "jupyter-leaflet",
      "model_module_version": "^0.18",
      "model_name": "LeafletFullScreenControlModel",
      "state": {
       "_model_module_version": "^0.18",
       "_view_module_version": "^0.18",
       "options": [
        "position"
       ]
      }
     },
     "52e65f88f1b145ae950e79ed96656cb0": {
      "model_module": "ipytree",
      "model_module_version": "^0.2",
      "model_name": "NodeModel",
      "state": {
       "_id": "0418dc00-525e-43cf-b7a1-4d1d9a39b857",
       "_model_module_version": "^0.2",
       "_view_module_version": "^0.2",
       "name": "Archive",
       "opened": false
      }
     },
     "530efcdd65984a388b2ce5261eb673c2": {
      "model_module": "@jupyter-widgets/controls",
      "model_module_version": "2.0.0",
      "model_name": "ButtonStyleModel",
      "state": {
       "font_family": null,
       "font_size": null,
       "font_style": null,
       "font_variant": null,
       "font_weight": null,
       "text_color": null,
       "text_decoration": null
      }
     },
     "539056ce999449839e93d406391c4965": {
      "model_module": "@jupyter-widgets/base",
      "model_module_version": "2.0.0",
      "model_name": "LayoutModel",
      "state": {
       "height": "auto",
       "padding": "0px 0px 0px 4px",
       "width": "auto"
      }
     },
     "53fef2e6e059411a8addcc26c454716f": {
      "model_module": "ipytree",
      "model_module_version": "^0.2",
      "model_name": "NodeModel",
      "state": {
       "_id": "8f4b636b-b1b3-46d9-8488-1221933ee9d2",
       "_model_module_version": "^0.2",
       "_view_module_version": "^0.2",
       "icon": "file",
       "name": "center_pivot_irrigation_detector.py"
      }
     },
     "54538ea145734408af4c8241817831cf": {
      "model_module": "ipytree",
      "model_module_version": "^0.2",
      "model_name": "NodeModel",
      "state": {
       "_id": "0d175a30-900e-4548-bd41-0e707be90811",
       "_model_module_version": "^0.2",
       "_view_module_version": "^0.2",
       "icon": "file",
       "name": "normalized_difference.py"
      }
     },
     "546c2ddff8aa421ba0af5103d3ab2f07": {
      "model_module": "ipytree",
      "model_module_version": "^0.2",
      "model_name": "NodeModel",
      "state": {
       "_id": "9cf56c10-6b70-4ff0-a47e-b0dc92de7a27",
       "_model_module_version": "^0.2",
       "_view_module_version": "^0.2",
       "icon": "file",
       "name": "utils-hillshadeRgb.py"
      }
     },
     "55724d8319904a498ed2734091d78144": {
      "model_module": "@jupyter-widgets/base",
      "model_module_version": "2.0.0",
      "model_name": "LayoutModel",
      "state": {}
     },
     "5598f173663d4158bfd1701aea3a621c": {
      "model_module": "ipytree",
      "model_module_version": "^0.2",
      "model_name": "NodeModel",
      "state": {
       "_id": "852d01c8-5624-449f-a60e-905f909ed98e",
       "_model_module_version": "^0.2",
       "_view_module_version": "^0.2",
       "name": "Datasets",
       "nodes": [
        "IPY_MODEL_66ff44e0b70246a1b45e7df983d19b8c",
        "IPY_MODEL_905cd9c6f7c648efb34da44ca06cb8b9",
        "IPY_MODEL_9a8620d7588b45b2949b158f482549b9",
        "IPY_MODEL_45d4e57dc08541d787848c35836e53eb",
        "IPY_MODEL_aedc1a15e7fd4139b9b0c0cbf2a5a955",
        "IPY_MODEL_10bc1825cfc8404da26cd7014799e42b",
        "IPY_MODEL_97d7e67c24e94c10ad40b310cb999a8f",
        "IPY_MODEL_a0e59647922c44d597850f734a524e6e"
       ],
       "opened": false
      }
     },
     "56fc64eaa0264dc19784f57df07da947": {
      "model_module": "@jupyter-widgets/controls",
      "model_module_version": "2.0.0",
      "model_name": "ButtonStyleModel",
      "state": {
       "font_family": null,
       "font_size": null,
       "font_style": null,
       "font_variant": null,
       "font_weight": null,
       "text_color": null,
       "text_decoration": null
      }
     },
     "57e83480d16143f29f21d77a206a144a": {
      "model_module": "@jupyter-widgets/base",
      "model_module_version": "2.0.0",
      "model_name": "LayoutModel",
      "state": {
       "max_width": "650px"
      }
     },
     "58947b75f7094d40900e55fd6087949a": {
      "model_module": "@jupyter-widgets/base",
      "model_module_version": "2.0.0",
      "model_name": "LayoutModel",
      "state": {}
     },
     "5a65fcf543c4426e9befdcbffedd03ad": {
      "model_module": "ipytree",
      "model_module_version": "^0.2",
      "model_name": "NodeModel",
      "state": {
       "_id": "a61b11df-29bf-4b7d-b201-1f7e024a74df",
       "_model_module_version": "^0.2",
       "_view_module_version": "^0.2",
       "icon": "file",
       "name": "from_polygons.py"
      }
     },
     "5b4a25459173404fb61e06bf486e9fc8": {
      "model_module": "@jupyter-widgets/base",
      "model_module_version": "2.0.0",
      "model_name": "LayoutModel",
      "state": {}
     },
     "5c94fa477a584e43bb783e5500520d7d": {
      "model_module": "ipytree",
      "model_module_version": "^0.2",
      "model_name": "NodeModel",
      "state": {
       "_id": "d5bcd763-6d11-41ee-8290-83f374c50b6a",
       "_model_module_version": "^0.2",
       "_view_module_version": "^0.2",
       "icon": "file",
       "name": "jrc_monthly_history.py"
      }
     },
     "5df57cfb44724990a6d825b64b592ce3": {
      "model_module": "@jupyter-widgets/controls",
      "model_module_version": "2.0.0",
      "model_name": "TextModel",
      "state": {
       "layout": "IPY_MODEL_f1dd5d4cd9a742558cf67be71f0db1f6",
       "placeholder": "Search by place name or address",
       "style": "IPY_MODEL_20bbd953dc354ada88bf4592ef1d6cbf",
       "tooltip": "Search location"
      }
     },
     "5e333a7014e34b7787767d828d338008": {
      "model_module": "@jupyter-widgets/controls",
      "model_module_version": "2.0.0",
      "model_name": "ToggleButtonStyleModel",
      "state": {
       "description_width": "",
       "font_family": null,
       "font_size": null,
       "font_style": null,
       "font_variant": null,
       "font_weight": null,
       "text_color": null,
       "text_decoration": null
      }
     },
     "5f342c841a0c415aa9b9f29e8bc2126e": {
      "model_module": "ipytree",
      "model_module_version": "^0.2",
      "model_name": "NodeModel",
      "state": {
       "_id": "78653e40-21a3-4146-bc74-35daa6a996eb",
       "_model_module_version": "^0.2",
       "_view_module_version": "^0.2",
       "icon": "file",
       "name": "join.py"
      }
     },
     "5f3a431fbab8465f981843b175f8c30f": {
      "model_module": "@jupyter-widgets/base",
      "model_module_version": "2.0.0",
      "model_name": "LayoutModel",
      "state": {}
     },
     "5f449bb9a79444b29f8980cd8de31e7a": {
      "model_module": "ipytree",
      "model_module_version": "^0.2",
      "model_name": "NodeModel",
      "state": {
       "_id": "dd845aa5-4851-45f3-999b-63c5cbedf521",
       "_model_module_version": "^0.2",
       "_view_module_version": "^0.2",
       "icon": "file",
       "name": "DeferredExecution.py"
      }
     },
     "5fe7d7b9bbbe4a25bb14ae2a02446a68": {
      "model_module": "@jupyter-widgets/base",
      "model_module_version": "2.0.0",
      "model_name": "LayoutModel",
      "state": {
       "min_width": "400px"
      }
     },
     "60a8371045a7478dbd62b17da019ad3f": {
      "model_module": "@jupyter-widgets/base",
      "model_module_version": "2.0.0",
      "model_name": "LayoutModel",
      "state": {
       "height": "auto",
       "padding": "0px 0px 0px 4px",
       "width": "auto"
      }
     },
     "60fd6113f72c42cc9875e69a29c76e74": {
      "model_module": "@jupyter-widgets/base",
      "model_module_version": "2.0.0",
      "model_name": "LayoutModel",
      "state": {
       "height": "auto",
       "padding": "0px 0px 0px 4px",
       "width": "auto"
      }
     },
     "612952d77adb42cc81d6113ebf5ef017": {
      "model_module": "@jupyter-widgets/controls",
      "model_module_version": "2.0.0",
      "model_name": "HBoxModel",
      "state": {
       "children": [
        "IPY_MODEL_146e3878fe4044dbbc23389e2ae646af"
       ],
       "layout": "IPY_MODEL_01ebc2a0125f4d5eb3c2833e7636b8b0"
      }
     },
     "61d2a8c0d04a4ad1a3a51c6f70a6b593": {
      "model_module": "ipytree",
      "model_module_version": "^0.2",
      "model_name": "NodeModel",
      "state": {
       "_id": "f80f189f-b77c-4dfe-9406-9d5aef01b594",
       "_model_module_version": "^0.2",
       "_view_module_version": "^0.2",
       "icon": "file",
       "name": "01_hello_world.py"
      }
     },
     "62772fe33e764b7fb47e2c4d90d9b328": {
      "model_module": "@jupyter-widgets/controls",
      "model_module_version": "2.0.0",
      "model_name": "HBoxModel",
      "state": {
       "children": [
        "IPY_MODEL_d427321f5e3445188a671b5fc60c3009",
        "IPY_MODEL_2a51860fd8f34a33912d7621df54c5e8"
       ],
       "layout": "IPY_MODEL_c97c24c9e5ce4313978e50b37ebdb833"
      }
     },
     "629559846d754e519f229842452b92fa": {
      "model_module": "ipytree",
      "model_module_version": "^0.2",
      "model_name": "NodeModel",
      "state": {
       "_id": "9ef4f891-7d14-4606-9492-00d38047d42c",
       "_model_module_version": "^0.2",
       "_view_module_version": "^0.2",
       "icon": "file",
       "name": "resampling.py"
      }
     },
     "62a4cc12c70c4fddac2763294cd9583e": {
      "model_module": "ipytree",
      "model_module_version": "^0.2",
      "model_name": "NodeModel",
      "state": {
       "_id": "91c67f07-09d7-4c07-821e-fad819830ad8",
       "_model_module_version": "^0.2",
       "_view_module_version": "^0.2",
       "icon": "file",
       "name": "ndwi.py"
      }
     },
     "63f4fbb58bc741a680a7ad891c830cde": {
      "model_module": "ipytree",
      "model_module_version": "^0.2",
      "model_name": "NodeModel",
      "state": {
       "_id": "c8b64b38-4d88-463f-a5c1-15b86006820f",
       "_model_module_version": "^0.2",
       "_view_module_version": "^0.2",
       "icon": "file",
       "name": "metadata.py"
      }
     },
     "64257bd3490348ebbbadd49b5a0f4476": {
      "model_module": "ipytree",
      "model_module_version": "^0.2",
      "model_name": "NodeModel",
      "state": {
       "_id": "f765263f-b8ad-4358-927b-1a57ddb27a9d",
       "_model_module_version": "^0.2",
       "_view_module_version": "^0.2",
       "icon": "file",
       "name": "export_raster.py"
      }
     },
     "64eec02271cd4f90aad355044ce425d0": {
      "model_module": "ipytree",
      "model_module_version": "^0.2",
      "model_name": "NodeModel",
      "state": {
       "_id": "71bbedc4-5861-4cb3-a9e7-fa5461851c38",
       "_model_module_version": "^0.2",
       "_view_module_version": "^0.2",
       "icon": "file",
       "name": "clipping.py"
      }
     },
     "65ab88155a3a4e779544b360ade9546a": {
      "model_module": "ipytree",
      "model_module_version": "^0.2",
      "model_name": "NodeModel",
      "state": {
       "_id": "214e3709-8088-48f4-b0f9-31201393ac6e",
       "_model_module_version": "^0.2",
       "_view_module_version": "^0.2",
       "icon": "file",
       "name": "linear_fit.py"
      }
     },
     "6663d3f5a02f4a49a497f5e11c8a4364": {
      "model_module": "@jupyter-widgets/base",
      "model_module_version": "2.0.0",
      "model_name": "LayoutModel",
      "state": {}
     },
     "66ccc2da550645e4aafb77498d156fc0": {
      "model_module": "ipytree",
      "model_module_version": "^0.2",
      "model_name": "NodeModel",
      "state": {
       "_id": "fff89bdc-94b7-42ee-8e60-ee7c1b674f59",
       "_model_module_version": "^0.2",
       "_view_module_version": "^0.2",
       "name": "Reader",
       "opened": false
      }
     },
     "66ff44e0b70246a1b45e7df983d19b8c": {
      "model_module": "ipytree",
      "model_module_version": "^0.2",
      "model_name": "NodeModel",
      "state": {
       "_id": "43bda79e-8234-4df3-9595-51b70eeb24f2",
       "_model_module_version": "^0.2",
       "_view_module_version": "^0.2",
       "icon": "file",
       "name": "naip_imagery.py"
      }
     },
     "6767f18e8e0e480d96a441bbbd04a60d": {
      "model_module": "ipytree",
      "model_module_version": "^0.2",
      "model_name": "NodeModel",
      "state": {
       "_id": "49a19a80-f769-455a-b746-cb4828e461ee",
       "_model_module_version": "^0.2",
       "_view_module_version": "^0.2",
       "icon": "file",
       "name": "add_new_attribute.py"
      }
     },
     "6850e91f878a492b9133677a2f9a0585": {
      "model_module": "@jupyter-widgets/controls",
      "model_module_version": "2.0.0",
      "model_name": "DescriptionStyleModel",
      "state": {
       "description_width": ""
      }
     },
     "68630cd246e7476a86ec2f842e0fce61": {
      "model_module": "ipytree",
      "model_module_version": "^0.2",
      "model_name": "NodeModel",
      "state": {
       "_id": "cdbafa97-ca33-4b39-bebf-2ba19067943d",
       "_model_module_version": "^0.2",
       "_view_module_version": "^0.2",
       "icon": "file",
       "name": "cell_statistics.py"
      }
     },
     "6886be012a2e437baa0972be9295dcdc": {
      "model_module": "ipytree",
      "model_module_version": "^0.2",
      "model_name": "NodeModel",
      "state": {
       "_id": "8065322e-fc2f-4d13-891c-27ecbf896097",
       "_model_module_version": "^0.2",
       "_view_module_version": "^0.2",
       "icon": "file",
       "name": "select_columns.py"
      }
     },
     "68e7f10d56724d57bd2d74f3ad243e52": {
      "model_module": "ipytree",
      "model_module_version": "^0.2",
      "model_name": "NodeModel",
      "state": {
       "_id": "9dab429f-5fb8-4604-9dca-c0b5fa32d157",
       "_model_module_version": "^0.2",
       "_view_module_version": "^0.2",
       "icon": "file",
       "name": "filter_string_starts_with.py"
      }
     },
     "698fae3d9f1843638060d289010bcdbe": {
      "model_module": "ipytree",
      "model_module_version": "^0.2",
      "model_name": "NodeModel",
      "state": {
       "_id": "9114f5ee-2d03-4602-87cc-e19db35add33",
       "_model_module_version": "^0.2",
       "_view_module_version": "^0.2",
       "icon": "file",
       "name": "spectral_unmixing.py"
      }
     },
     "6a241d2dd4484c218eb9187319d6e1dd": {
      "model_module": "ipytree",
      "model_module_version": "^0.2",
      "model_name": "NodeModel",
      "state": {
       "_id": "ead02d84-50e9-4901-8c96-de93b95d03de",
       "_model_module_version": "^0.2",
       "_view_module_version": "^0.2",
       "icon": "file",
       "name": "us_ned_chili.py"
      }
     },
     "6b0015c8c5be43fe9c572339ef3cf7b0": {
      "model_module": "ipytree",
      "model_module_version": "^0.2",
      "model_name": "NodeModel",
      "state": {
       "_id": "2bc76eb1-b0fb-4d9a-9eb2-6d15dba65758",
       "_model_module_version": "^0.2",
       "_view_module_version": "^0.2",
       "icon": "file",
       "name": "export_FeatureCollection.py"
      }
     },
     "6c55dd574e494947bbbe71cb0407f232": {
      "model_module": "ipytree",
      "model_module_version": "^0.2",
      "model_name": "NodeModel",
      "state": {
       "_id": "632f0eb2-4c55-480a-ad22-cf72e086ee19",
       "_model_module_version": "^0.2",
       "_view_module_version": "^0.2",
       "icon": "file",
       "name": "filtered_composite.py"
      }
     },
     "6c5acb5f983446a4a9a4bdbdfafbe72d": {
      "model_module": "@jupyter-widgets/controls",
      "model_module_version": "2.0.0",
      "model_name": "TextModel",
      "state": {
       "layout": "IPY_MODEL_5fe7d7b9bbbe4a25bb14ae2a02446a68",
       "style": "IPY_MODEL_22791553c5e54d75892e063baa7cae3d"
      }
     },
     "6ccd5d919a144a20a7ba7af47ee69850": {
      "model_module": "@jupyter-widgets/controls",
      "model_module_version": "2.0.0",
      "model_name": "ButtonModel",
      "state": {
       "button_style": "primary",
       "description": "import",
       "disabled": true,
       "layout": "IPY_MODEL_15cfc12f035a42c696901ebd3985676d",
       "style": "IPY_MODEL_6e58c6ee3b774fc0baca3fdfa2273fb2",
       "tooltip": "import the content to a new cell"
      }
     },
     "6d49ce530acd4bffa735a8d5cb4d8c1b": {
      "model_module": "ipytree",
      "model_module_version": "^0.2",
      "model_name": "NodeModel",
      "state": {
       "_id": "f62538b8-dfe9-44cf-9c73-ae284be3c875",
       "_model_module_version": "^0.2",
       "_view_module_version": "^0.2",
       "icon": "file",
       "name": "filter_string_ends_with.py"
      }
     },
     "6d5b146c229345f38cb9947c9c25df73": {
      "model_module": "ipytree",
      "model_module_version": "^0.2",
      "model_name": "NodeModel",
      "state": {
       "_id": "7b4ac0e9-da54-4b30-8dda-bbe38ab2f100",
       "_model_module_version": "^0.2",
       "_view_module_version": "^0.2",
       "icon": "file",
       "name": "landsat457_surface_reflectance.py"
      }
     },
     "6d8d457e9dcf428da5fbf5d5cc566a35": {
      "model_module": "ipytree",
      "model_module_version": "^0.2",
      "model_name": "NodeModel",
      "state": {
       "_id": "bc06c5a6-67ae-48cd-8aaf-ea53f9e31575",
       "_model_module_version": "^0.2",
       "_view_module_version": "^0.2",
       "icon": "file",
       "name": "expressions.py"
      }
     },
     "6df5535ef8b04f1185993390908cb7bc": {
      "model_module": "@jupyter-widgets/controls",
      "model_module_version": "2.0.0",
      "model_name": "ToggleButtonStyleModel",
      "state": {
       "description_width": "",
       "font_family": null,
       "font_size": null,
       "font_style": null,
       "font_variant": null,
       "font_weight": null,
       "text_color": null,
       "text_decoration": null
      }
     },
     "6dfbd49306d546fe92f6bac56cc691f7": {
      "model_module": "ipytree",
      "model_module_version": "^0.2",
      "model_name": "NodeModel",
      "state": {
       "_id": "9416476f-afde-4e29-91f5-bb5d3ae1f2e3",
       "_model_module_version": "^0.2",
       "_view_module_version": "^0.2",
       "icon": "file",
       "name": "convert_imagecollection_to_image.py"
      }
     },
     "6e1afe6cbe8d4b638b6ecf48e89f52c1": {
      "model_module": "@jupyter-widgets/controls",
      "model_module_version": "2.0.0",
      "model_name": "ToggleButtonStyleModel",
      "state": {
       "description_width": "",
       "font_family": null,
       "font_size": null,
       "font_style": null,
       "font_variant": null,
       "font_weight": null,
       "text_color": null,
       "text_decoration": null
      }
     },
     "6e58c6ee3b774fc0baca3fdfa2273fb2": {
      "model_module": "@jupyter-widgets/controls",
      "model_module_version": "2.0.0",
      "model_name": "ButtonStyleModel",
      "state": {
       "font_family": null,
       "font_size": null,
       "font_style": null,
       "font_variant": null,
       "font_weight": null,
       "text_color": null,
       "text_decoration": null
      }
     },
     "6ea7bc34cbfd4198a93394bbc1172a77": {
      "model_module": "ipytree",
      "model_module_version": "^0.2",
      "model_name": "NodeModel",
      "state": {
       "_id": "8b4ffc6d-07ee-4d78-98ed-5ee30bf6db8c",
       "_model_module_version": "^0.2",
       "_view_module_version": "^0.2",
       "icon": "file",
       "name": "cumulative_cost_mapping.py"
      }
     },
     "6eea71b4367a4077979ed369e268d1d9": {
      "model_module": "jupyter-leaflet",
      "model_module_version": "^0.18",
      "model_name": "LeafletMapStyleModel",
      "state": {
       "_model_module_version": "^0.18",
       "cursor": "move"
      }
     },
     "6f4c295f8c394878a901fbc062779c7f": {
      "model_module": "ipytree",
      "model_module_version": "^0.2",
      "model_name": "NodeModel",
      "state": {
       "_id": "91b67229-e9d9-4ff7-9a13-7e77feb6167f",
       "_model_module_version": "^0.2",
       "_view_module_version": "^0.2",
       "icon": "file",
       "name": "metadata.py"
      }
     },
     "6f94a423b257456ea7af6dc15f4535f8": {
      "model_module": "@jupyter-widgets/controls",
      "model_module_version": "2.0.0",
      "model_name": "ToggleButtonModel",
      "state": {
       "button_style": "primary",
       "icon": "plus",
       "layout": "IPY_MODEL_60fd6113f72c42cc9875e69a29c76e74",
       "style": "IPY_MODEL_3d9f6d4687a742968ec97f48918089ea",
       "tooltip": "Expand toolbar"
      }
     },
     "701a151b766540979466f9bbc9fea55f": {
      "model_module": "ipytree",
      "model_module_version": "^0.2",
      "model_name": "NodeModel",
      "state": {
       "_id": "53ae31d6-daa4-4de8-96e5-a73bee39975b",
       "_model_module_version": "^0.2",
       "_view_module_version": "^0.2",
       "icon": "file",
       "name": "save_all_joins.py"
      }
     },
     "708c1be949dd40fcbed8455e87c07ef2": {
      "model_module": "ipytree",
      "model_module_version": "^0.2",
      "model_name": "NodeModel",
      "state": {
       "_id": "7c3e2745-6ade-45d3-b97e-4177e7785a56",
       "_model_module_version": "^0.2",
       "_view_module_version": "^0.2",
       "icon": "file",
       "name": "export_TimeSeries.py"
      }
     },
     "7206f232a78349dc8cd248ddcd7ec8cf": {
      "model_module": "ipytree",
      "model_module_version": "^0.2",
      "model_name": "NodeModel",
      "state": {
       "_id": "af4e0746-51f9-47f7-b765-60a7bd57110b",
       "_model_module_version": "^0.2",
       "_view_module_version": "^0.2",
       "icon": "file",
       "name": "canada_dem.py"
      }
     },
     "7349c4882150440ea1fa70efb8b7554f": {
      "model_module": "@jupyter-widgets/controls",
      "model_module_version": "2.0.0",
      "model_name": "VBoxModel",
      "state": {
       "children": [
        "IPY_MODEL_4798a5cd1f0e4802a15408321ce3544f",
        "IPY_MODEL_794c2614bbb440f4a8d73cbe45196877"
       ],
       "layout": "IPY_MODEL_e22257cd371a4c34bf4cd6770eba97c5"
      }
     },
     "745b4e2c67674ffb9eba85eaa934255f": {
      "model_module": "ipytree",
      "model_module_version": "^0.2",
      "model_name": "NodeModel",
      "state": {
       "_id": "f4c0adaf-0a2d-47be-bd81-9b08d3c77118",
       "_model_module_version": "^0.2",
       "_view_module_version": "^0.2",
       "name": "Filter",
       "nodes": [
        "IPY_MODEL_a688537b0d184dfdb06d2ce348d49a31",
        "IPY_MODEL_7f6a6d63a3344301becfd66fb9982443",
        "IPY_MODEL_0f8798dbce5445dc9ee2d8f1fc49fe0d",
        "IPY_MODEL_4333c1b4d588462ca519b5c427a3f340",
        "IPY_MODEL_3c81f36026ed4f18ac635dea8bf6a193",
        "IPY_MODEL_6d49ce530acd4bffa735a8d5cb4d8c1b",
        "IPY_MODEL_68e7f10d56724d57bd2d74f3ad243e52"
       ],
       "opened": false
      }
     },
     "766e8c7f9ba6487ba0781fa26f29ff53": {
      "model_module": "@jupyter-widgets/controls",
      "model_module_version": "2.0.0",
      "model_name": "HBoxModel",
      "state": {
       "_dom_classes": [
        "geemap-light"
       ],
       "_view_count": 1,
       "children": [
        "IPY_MODEL_b30d2a1be2de4b4ab4e58f067c861562"
       ],
       "layout": "IPY_MODEL_8d7dbf2f1aff41589b18a50cf514b741"
      }
     },
     "76bf5b3475e74b1e81653e5b3629534e": {
      "model_module": "@jupyter-widgets/controls",
      "model_module_version": "2.0.0",
      "model_name": "ToggleButtonStyleModel",
      "state": {
       "description_width": "",
       "font_family": null,
       "font_size": null,
       "font_style": null,
       "font_variant": null,
       "font_weight": null,
       "text_color": null,
       "text_decoration": null
      }
     },
     "76e86f9dcebd4efb9f87fc6866084af3": {
      "model_module": "ipytree",
      "model_module_version": "^0.2",
      "model_name": "NodeModel",
      "state": {
       "_id": "d4104e9a-fc6c-4f33-ba41-19f385b16643",
       "_model_module_version": "^0.2",
       "_view_module_version": "^0.2",
       "icon": "file",
       "name": "09_a_complete_example.py"
      }
     },
     "7768c977b3b64fd799d0c490bd43db44": {
      "model_module": "ipytree",
      "model_module_version": "^0.2",
      "model_name": "NodeModel",
      "state": {
       "_id": "0c3cda04-3ba6-4309-8f7a-bfaaf63d951b",
       "_model_module_version": "^0.2",
       "_view_module_version": "^0.2",
       "name": "ImageCollection",
       "nodes": [
        "IPY_MODEL_03b2be51f8f5416182df706d15af0c35",
        "IPY_MODEL_6dfbd49306d546fe92f6bac56cc691f7",
        "IPY_MODEL_b90a618242a543c7a93f57aacdf8f2f3",
        "IPY_MODEL_e18f1f6879f14c67b13b02b4f5165d12",
        "IPY_MODEL_6c55dd574e494947bbbe71cb0407f232",
        "IPY_MODEL_edb049da34094b549f0bc4039030c1af",
        "IPY_MODEL_b253b1a239884d32a094fdf324c0467a",
        "IPY_MODEL_ead3a747a38f4b99b91e6d36b8ac8791",
        "IPY_MODEL_21f953f6ac534f7db64d34d83ae13454",
        "IPY_MODEL_f723d03164f2422482af312fd765cf0a",
        "IPY_MODEL_00c7691b43c84e709f7ac6a26ada869e",
        "IPY_MODEL_ea18327ba5fe4e3e945df10799788d27",
        "IPY_MODEL_65ab88155a3a4e779544b360ade9546a",
        "IPY_MODEL_04722e301679408aafe8168ea5c51d9e",
        "IPY_MODEL_6f4c295f8c394878a901fbc062779c7f",
        "IPY_MODEL_1de78a054804415dbe6f072746944d83",
        "IPY_MODEL_91c4172284774c2c85aa244045f5983a",
        "IPY_MODEL_01ba1962ee6d40cfbb3ad1347b33312b",
        "IPY_MODEL_d4422761813d465aa751de71b3bc82db",
        "IPY_MODEL_9c0ec0a3c4004a9699560b339999e94f"
       ],
       "opened": false
      }
     },
     "779d7572122e47e0918a8a386b15e17f": {
      "model_module": "ipytree",
      "model_module_version": "^0.2",
      "model_name": "NodeModel",
      "state": {
       "_id": "21599faf-e237-4615-9eec-8bdb166945c4",
       "_model_module_version": "^0.2",
       "_view_module_version": "^0.2",
       "icon": "file",
       "name": "object_based.py"
      }
     },
     "77f4aea2dbd045ed8338f974e0ce7fb7": {
      "model_module": "ipytree",
      "model_module_version": "^0.2",
      "model_name": "NodeModel",
      "state": {
       "_id": "bf4a8844-5548-4ece-89b1-85092cbf267e",
       "_model_module_version": "^0.2",
       "_view_module_version": "^0.2",
       "name": "Visualization",
       "nodes": [
        "IPY_MODEL_51def42794b2464c9b9471f9a04fc485",
        "IPY_MODEL_335eb4dd207a4b76b5f4eab0b4f8fbc4",
        "IPY_MODEL_c33dbe501a384423b7ce9986f6b13ce3",
        "IPY_MODEL_04f2eafce9334abc9cf9b6155ad48e2c",
        "IPY_MODEL_0bebd64b3da440548e47f7240e0bb0c2",
        "IPY_MODEL_9b0bd762cb9a4f729ad1eccfe2967e53",
        "IPY_MODEL_7c53633cbf774ce4b19d61053b1f9940",
        "IPY_MODEL_46600a5a750b4022a3a6e9ce3901d137",
        "IPY_MODEL_c9e22ca4ec6d456a926b4faad85cb5e9",
        "IPY_MODEL_7b722b3df172485dbf4486c98a539d69",
        "IPY_MODEL_ee5d7e03a986457096e633cf9457cfa2",
        "IPY_MODEL_e7a2ffacb0bc43eeb0a7c453cae7f9cd",
        "IPY_MODEL_7a9378d57dd84cde8053b9421dfb0d9e",
        "IPY_MODEL_2727b11c60a544a08e6873b26f82ad4a",
        "IPY_MODEL_9ca88c7005234f908db86c75eeb01a75",
        "IPY_MODEL_397745952a824751b894cd1c19da0df4",
        "IPY_MODEL_2c7855a377674df4bea9eb11af27d2bf",
        "IPY_MODEL_2ecde6c08bc646ba96a123e2820f34be",
        "IPY_MODEL_84fa003d3c204e91b2d96486d77b4d50",
        "IPY_MODEL_ffd776f488484ff5aebc83a9777e1511",
        "IPY_MODEL_f3057cd4924048aabad4b00f08d6ed82"
       ],
       "opened": false
      }
     },
     "783b9efdf6b044e9975ba1435cc33991": {
      "model_module": "@jupyter-widgets/base",
      "model_module_version": "2.0.0",
      "model_name": "LayoutModel",
      "state": {
       "height": "600px"
      }
     },
     "78470eee5f6e4fe7a08ac68ccbf3929e": {
      "model_module": "ipytree",
      "model_module_version": "^0.2",
      "model_name": "NodeModel",
      "state": {
       "_id": "35bba723-8684-4421-bd53-bc608c10bf4e",
       "_model_module_version": "^0.2",
       "_view_module_version": "^0.2",
       "icon": "file",
       "name": "srtm_mtpi.py"
      }
     },
     "7873a7426d5d42eeb14c757778ab516d": {
      "model_module": "ipytree",
      "model_module_version": "^0.2",
      "model_name": "NodeModel",
      "state": {
       "_id": "938abe85-bed4-45d5-b889-3869da31c969",
       "_model_module_version": "^0.2",
       "_view_module_version": "^0.2",
       "icon": "file",
       "name": "hough_transform.py"
      }
     },
     "794c2614bbb440f4a8d73cbe45196877": {
      "model_module": "@jupyter-widgets/controls",
      "model_module_version": "2.0.0",
      "model_name": "TextareaModel",
      "state": {
       "layout": "IPY_MODEL_35887de859994a9db502c65f13eba30a",
       "style": "IPY_MODEL_7aac9cf135bd4a9fa461feecb5737101"
      }
     },
     "799dadd190a247efb9a3b02dc16b5d49": {
      "model_module": "ipytree",
      "model_module_version": "^0.2",
      "model_name": "NodeModel",
      "state": {
       "_id": "cc6791d5-2ef7-44d4-9e1c-282d02681d9b",
       "_model_module_version": "^0.2",
       "_view_module_version": "^0.2",
       "icon": "file",
       "name": "weighted_reductions.py"
      }
     },
     "7a9378d57dd84cde8053b9421dfb0d9e": {
      "model_module": "ipytree",
      "model_module_version": "^0.2",
      "model_name": "NodeModel",
      "state": {
       "_id": "b646f2df-c08c-4c5e-8227-e13673d27153",
       "_model_module_version": "^0.2",
       "_view_module_version": "^0.2",
       "icon": "file",
       "name": "nlcd_land_cover.py"
      }
     },
     "7aac9cf135bd4a9fa461feecb5737101": {
      "model_module": "@jupyter-widgets/controls",
      "model_module_version": "2.0.0",
      "model_name": "TextStyleModel",
      "state": {
       "description_width": "",
       "font_size": null,
       "text_color": null
      }
     },
     "7af080b67af44183937b1ca372d89e09": {
      "model_module": "@jupyter-widgets/base",
      "model_module_version": "2.0.0",
      "model_name": "LayoutModel",
      "state": {
       "height": "auto",
       "padding": "0px 0px 0px 4px",
       "width": "auto"
      }
     },
     "7b722b3df172485dbf4486c98a539d69": {
      "model_module": "ipytree",
      "model_module_version": "^0.2",
      "model_name": "NodeModel",
      "state": {
       "_id": "468e88e1-789d-4b3b-903e-9025b6b4defe",
       "_model_module_version": "^0.2",
       "_view_module_version": "^0.2",
       "icon": "file",
       "name": "landsat_symbology.py"
      }
     },
     "7b9366c6b4344756a18992fbd8ae2f62": {
      "model_module": "ipytree",
      "model_module_version": "^0.2",
      "model_name": "NodeModel",
      "state": {
       "_id": "47a2f80e-0199-4b5f-a1ea-889bf9f5f89b",
       "_model_module_version": "^0.2",
       "_view_module_version": "^0.2",
       "icon": "file",
       "name": "map_function.py"
      }
     },
     "7c0add1ab72c4bc48c8d8be0089abc7e": {
      "model_module": "ipytree",
      "model_module_version": "^0.2",
      "model_name": "NodeModel",
      "state": {
       "_id": "b49c1f86-db0f-423a-8dfa-3591f6c8ca20",
       "_model_module_version": "^0.2",
       "_view_module_version": "^0.2",
       "icon": "file",
       "name": "segmentation_snic.py"
      }
     },
     "7c44856bca0747fbba18c3495dbebff1": {
      "model_module": "ipytree",
      "model_module_version": "^0.2",
      "model_name": "NodeModel",
      "state": {
       "_id": "d3c9540c-d2ad-451a-ab12-c1a89c155b49",
       "_model_module_version": "^0.2",
       "_view_module_version": "^0.2",
       "icon": "file",
       "name": "filtering_feature_collection.py"
      }
     },
     "7c53633cbf774ce4b19d61053b1f9940": {
      "model_module": "ipytree",
      "model_module_version": "^0.2",
      "model_name": "NodeModel",
      "state": {
       "_id": "a12b0892-cb44-4c48-b191-cdf195c3dbae",
       "_model_module_version": "^0.2",
       "_view_module_version": "^0.2",
       "icon": "file",
       "name": "image_rgb_composite.py"
      }
     },
     "7c5e7326fecb471994115bc858dcffde": {
      "model_module": "ipytree",
      "model_module_version": "^0.2",
      "model_name": "NodeModel",
      "state": {
       "_id": "b240cecf-4ad6-46a2-93a7-a106c284627c",
       "_model_module_version": "^0.2",
       "_view_module_version": "^0.2",
       "icon": "file",
       "name": "LICENSE"
      }
     },
     "7c5e7a5cd9db451a9bcd743a7b5d1220": {
      "model_module": "ipytree",
      "model_module_version": "^0.2",
      "model_name": "NodeModel",
      "state": {
       "_id": "64d6b0e6-9e4a-4fef-83ce-e912cd4607d0",
       "_model_module_version": "^0.2",
       "_view_module_version": "^0.2",
       "icon": "file",
       "name": "intersect.py"
      }
     },
     "7d2c13a74732424bb4c9cd30f6b4729e": {
      "model_module": "ipytree",
      "model_module_version": "^0.2",
      "model_name": "NodeModel",
      "state": {
       "_id": "8e97fd15-9732-403e-8f67-d81d297226dd",
       "_model_module_version": "^0.2",
       "_view_module_version": "^0.2",
       "icon": "file",
       "name": "hdr_landsat.py"
      }
     },
     "7d331b064e204a36b1eba0146beee667": {
      "model_module": "ipytree",
      "model_module_version": "^0.2",
      "model_name": "NodeModel",
      "state": {
       "_id": "8610f2ee-5c78-4eae-8712-90c41b6abbae",
       "_model_module_version": "^0.2",
       "_view_module_version": "^0.2",
       "icon": "file",
       "name": "03_finding_images.py"
      }
     },
     "7dc30df2b93f4c228dcb60e038f95a67": {
      "model_module": "ipytree",
      "model_module_version": "^0.2",
      "model_name": "NodeModel",
      "state": {
       "_id": "0219fd5e-6d30-427e-91aa-e9823717b342",
       "_model_module_version": "^0.2",
       "_view_module_version": "^0.2",
       "icon": "file",
       "name": "where_operators.py"
      }
     },
     "7dc3e391ba1545b1815a21cdbabff25d": {
      "model_module": "jupyter-leaflet",
      "model_module_version": "^0.18",
      "model_name": "LeafletDrawControlModel",
      "state": {
       "_model_module_version": "^0.18",
       "_view_module_version": "^0.18",
       "marker": {
        "shapeOptions": {
         "color": "#3388ff"
        }
       },
       "options": [
        "position"
       ],
       "polygon": {
        "shapeOptions": {
         "clickable": true,
         "color": "#3388ff",
         "fill": true,
         "fillColor": null,
         "fillOpacity": 0.2,
         "opacity": 0.5,
         "stroke": true,
         "weight": 4
        }
       },
       "polyline": {
        "shapeOptions": {
         "clickable": true,
         "color": "#3388ff",
         "fill": false,
         "opacity": 0.5,
         "stroke": true,
         "weight": 4
        }
       },
       "rectangle": {
        "shapeOptions": {
         "clickable": true,
         "color": "#3388ff",
         "fill": true,
         "fillColor": null,
         "fillOpacity": 0.2,
         "opacity": 0.5,
         "stroke": true,
         "weight": 4
        }
       }
      }
     },
     "7ea969d09f214e2ebddf4cc8c7c4cd9b": {
      "model_module": "ipytree",
      "model_module_version": "^0.2",
      "model_name": "NodeModel",
      "state": {
       "_id": "50121a26-79a5-478e-a9c6-99882633cea0",
       "_model_module_version": "^0.2",
       "_view_module_version": "^0.2",
       "icon": "file",
       "name": "sentinel-2.py"
      }
     },
     "7f0be8e5c14e47d7b2937b5badd99f1d": {
      "model_module": "ipytree",
      "model_module_version": "^0.2",
      "model_name": "NodeModel",
      "state": {
       "_id": "d3f4e5de-58a0-4183-9331-c30e85d95588",
       "_model_module_version": "^0.2",
       "_view_module_version": "^0.2",
       "icon": "file",
       "name": "column_statistics.py"
      }
     },
     "7f6a6d63a3344301becfd66fb9982443": {
      "model_module": "ipytree",
      "model_module_version": "^0.2",
      "model_name": "NodeModel",
      "state": {
       "_id": "23196038-88a2-4330-87fa-9ad244a0c654",
       "_model_module_version": "^0.2",
       "_view_module_version": "^0.2",
       "icon": "file",
       "name": "filter_in_list.py"
      }
     },
     "800d7f1b9aa84a9095968c2b0657ff12": {
      "model_module": "ipytree",
      "model_module_version": "^0.2",
      "model_name": "NodeModel",
      "state": {
       "_id": "e886050b-6e91-4474-850c-8c85d1561d62",
       "_model_module_version": "^0.2",
       "_view_module_version": "^0.2",
       "icon": "file",
       "name": "landsat_path_row_limit.py"
      }
     },
     "8031498b88df4a7cba5e0c8350074db8": {
      "model_module": "ipytree",
      "model_module_version": "^0.2",
      "model_name": "NodeModel",
      "state": {
       "_id": "56e8d041-118a-4b79-8c70-5b0b5e2879a7",
       "_model_module_version": "^0.2",
       "_view_module_version": "^0.2",
       "icon": "file",
       "name": "get_image_extent.py"
      }
     },
     "805a67046a85479ab29a5bdea9a3c554": {
      "model_module": "ipytree",
      "model_module_version": "^0.2",
      "model_name": "NodeModel",
      "state": {
       "_id": "2329e991-97d7-457e-9e53-7967b47103ca",
       "_model_module_version": "^0.2",
       "_view_module_version": "^0.2",
       "icon": "file",
       "name": "us_census_counties.py"
      }
     },
     "81cff0bbad3443c18549f00a295161e6": {
      "model_module": "@jupyter-widgets/controls",
      "model_module_version": "2.0.0",
      "model_name": "ToggleButtonsStyleModel",
      "state": {
       "button_width": "110px",
       "description_width": ""
      }
     },
     "82494940f5ba4583ab106667c61a1fb1": {
      "model_module": "ipytree",
      "model_module_version": "^0.2",
      "model_name": "NodeModel",
      "state": {
       "_id": "76c9bab7-51e7-4d51-9d17-186765b2c3e7",
       "_model_module_version": "^0.2",
       "_view_module_version": "^0.2",
       "icon": "file",
       "name": "pansharpen.py"
      }
     },
     "832b74526a6842398b22093e68a0c234": {
      "model_module": "@jupyter-widgets/base",
      "model_module_version": "2.0.0",
      "model_name": "LayoutModel",
      "state": {
       "height": "auto",
       "padding": "0px 0px 0px 4px",
       "width": "auto"
      }
     },
     "83ba5cfffb3149f4b9434ae8e18818a0": {
      "model_module": "@jupyter-widgets/controls",
      "model_module_version": "2.0.0",
      "model_name": "ToggleButtonStyleModel",
      "state": {
       "description_width": "",
       "font_family": null,
       "font_size": null,
       "font_style": null,
       "font_variant": null,
       "font_weight": null,
       "text_color": null,
       "text_decoration": null
      }
     },
     "84fa003d3c204e91b2d96486d77b4d50": {
      "model_module": "ipytree",
      "model_module_version": "^0.2",
      "model_name": "NodeModel",
      "state": {
       "_id": "6fe92b71-c3ad-4d92-bdc3-684e2bfb2923",
       "_model_module_version": "^0.2",
       "_view_module_version": "^0.2",
       "icon": "file",
       "name": "us_counties.py"
      }
     },
     "8523e1aabe934823a48b3bd5ae5e02a6": {
      "model_module": "@jupyter-widgets/base",
      "model_module_version": "2.0.0",
      "model_name": "LayoutModel",
      "state": {
       "max_height": "350px",
       "max_width": "340px",
       "overflow": "scroll"
      }
     },
     "859d46492f0543e98b0e52f106d0b41d": {
      "model_module": "ipytree",
      "model_module_version": "^0.2",
      "model_name": "NodeModel",
      "state": {
       "_id": "3c2765df-abe6-4498-80fc-2f3a1dec1b15",
       "_model_module_version": "^0.2",
       "_view_module_version": "^0.2",
       "icon": "file",
       "name": "glcf_global_inland_water.py"
      }
     },
     "85abb1506c4b4350acc670a980f62d7b": {
      "model_module": "ipytree",
      "model_module_version": "^0.2",
      "model_name": "NodeModel",
      "state": {
       "_id": "bf2f5595-7f6a-43d1-9d33-ee5f798cc83a",
       "_model_module_version": "^0.2",
       "_view_module_version": "^0.2",
       "icon": "file",
       "name": "image_smoothing.py"
      }
     },
     "85bd18c75d24466f8bbc2f0001c8a93c": {
      "model_module": "@jupyter-widgets/controls",
      "model_module_version": "2.0.0",
      "model_name": "ToggleButtonStyleModel",
      "state": {
       "description_width": "",
       "font_family": null,
       "font_size": null,
       "font_style": null,
       "font_variant": null,
       "font_weight": null,
       "text_color": null,
       "text_decoration": null
      }
     },
     "85f30f8ff23148ccafc2a46559319759": {
      "model_module": "ipytree",
      "model_module_version": "^0.2",
      "model_name": "NodeModel",
      "state": {
       "_id": "1a4ccc8e-072c-461d-acc2-31fffabcc591",
       "_model_module_version": "^0.2",
       "_view_module_version": "^0.2",
       "icon": "file",
       "name": "select_by_strings.py"
      }
     },
     "861481ee53a148888356a2b9aaa20b6c": {
      "model_module": "ipytree",
      "model_module_version": "^0.2",
      "model_name": "NodeModel",
      "state": {
       "_id": "7cd60cc3-85ba-475e-8cb0-c6e241e75980",
       "_model_module_version": "^0.2",
       "_view_module_version": "^0.2",
       "icon": "file",
       "name": "conditional_operations.py"
      }
     },
     "861fefc9d0d84c96bdff75350c7109f0": {
      "model_module": "@jupyter-widgets/controls",
      "model_module_version": "2.0.0",
      "model_name": "HBoxModel",
      "state": {
       "children": [
        "IPY_MODEL_08cd6be2808b46ec94b1fdc4a35cc470",
        "IPY_MODEL_9fef4ee420c34221bd98668972765abe"
       ],
       "layout": "IPY_MODEL_5b4a25459173404fb61e06bf486e9fc8"
      }
     },
     "874996d9582142e2858fafab6578a1cc": {
      "model_module": "@jupyter-widgets/output",
      "model_module_version": "1.0.0",
      "model_name": "OutputModel",
      "state": {
       "layout": "IPY_MODEL_9c52b75662e548e9bfb233d76cb1bade",
       "outputs": [
        {
         "data": {
          "application/vnd.jupyter.widget-view+json": {
           "model_id": "254b0368b7ba4f2b88f679ba2d938a6a",
           "version_major": 2,
           "version_minor": 0
          },
          "text/plain": "Tree(multiple_selection=False, nodes=(Node(name='Archive', opened=False), Node(name='Examples', nodes=(Node(na…"
         },
         "metadata": {},
         "output_type": "display_data"
        }
       ]
      }
     },
     "878f474998514420af4929a1f530af4c": {
      "model_module": "@jupyter-widgets/base",
      "model_module_version": "2.0.0",
      "model_name": "LayoutModel",
      "state": {
       "height": "auto",
       "padding": "0px 0px 0px 4px",
       "width": "auto"
      }
     },
     "87bdec80f73f4671b1f35b1e6a9b0dc6": {
      "model_module": "ipytree",
      "model_module_version": "^0.2",
      "model_name": "NodeModel",
      "state": {
       "_id": "9c779dc6-d51c-4371-bc8f-aa896de21c01",
       "_model_module_version": "^0.2",
       "_view_module_version": "^0.2",
       "name": "Segmentation",
       "nodes": [
        "IPY_MODEL_7c0add1ab72c4bc48c8d8be0089abc7e"
       ],
       "opened": false
      }
     },
     "87c67c9c19b6457b9801f696788566d3": {
      "model_module": "ipytree",
      "model_module_version": "^0.2",
      "model_name": "NodeModel",
      "state": {
       "_id": "c2b0b0c9-b52f-4ddb-ae31-ee537e0c4e6c",
       "_model_module_version": "^0.2",
       "_view_module_version": "^0.2",
       "icon": "file",
       "name": "filter_poly.py"
      }
     },
     "885a3229af2544cdb49013bc17b85f37": {
      "model_module": "ipytree",
      "model_module_version": "^0.2",
      "model_name": "NodeModel",
      "state": {
       "_id": "92d88294-5876-4ec5-91bb-4aeb94ad4d04",
       "_model_module_version": "^0.2",
       "_view_module_version": "^0.2",
       "icon": "file",
       "name": "stats_by_group.py"
      }
     },
     "8901ab0127234253b590fd580cdafd88": {
      "model_module": "@jupyter-widgets/controls",
      "model_module_version": "2.0.0",
      "model_name": "ToggleButtonModel",
      "state": {
       "button_style": "primary",
       "icon": "line-chart",
       "layout": "IPY_MODEL_9636e622019f4bb4acce3ffd19c18569",
       "style": "IPY_MODEL_a770d4ac025f43ccb5eadb508c2fc636",
       "tooltip": "Creating and plotting transects"
      }
     },
     "892e60db3e51428586eeae6bc5e3c712": {
      "model_module": "@jupyter-widgets/base",
      "model_module_version": "2.0.0",
      "model_name": "LayoutModel",
      "state": {}
     },
     "8a50aedde5dd441d8fd8a0799e8ef8f8": {
      "model_module": "@jupyter-widgets/controls",
      "model_module_version": "2.0.0",
      "model_name": "ToggleButtonStyleModel",
      "state": {
       "description_width": "",
       "font_family": null,
       "font_size": null,
       "font_style": null,
       "font_variant": null,
       "font_weight": null,
       "text_color": null,
       "text_decoration": null
      }
     },
     "8a5c75f7cd5d40c998b1d8ef3b771442": {
      "model_module": "ipytree",
      "model_module_version": "^0.2",
      "model_name": "NodeModel",
      "state": {
       "_id": "d9d8b02d-b8ed-483f-a741-3c3822dd0fe3",
       "_model_module_version": "^0.2",
       "_view_module_version": "^0.2",
       "icon": "file",
       "name": "clipping.py"
      }
     },
     "8b0feb00f85c434da7ca9d1324c9c200": {
      "model_module": "ipytree",
      "model_module_version": "^0.2",
      "model_name": "NodeModel",
      "state": {
       "_id": "c4cefbf5-b26c-404d-89f8-8325d7f1c583",
       "_model_module_version": "^0.2",
       "_view_module_version": "^0.2",
       "icon": "file",
       "name": "ndwi_timeseries.py"
      }
     },
     "8c8b7a9c23c848d08526ec7d97a7e877": {
      "model_module": "ipytree",
      "model_module_version": "^0.2",
      "model_name": "NodeModel",
      "state": {
       "_id": "de8a5705-766a-461c-a53c-edb1ee11e619",
       "_model_module_version": "^0.2",
       "_view_module_version": "^0.2",
       "icon": "file",
       "name": "alos_chili.py"
      }
     },
     "8d12755626204ec6ac32a312d04b54cc": {
      "model_module": "ipytree",
      "model_module_version": "^0.2",
      "model_name": "NodeModel",
      "state": {
       "_id": "114970af-b82b-4fcc-82d0-513c0510eb22",
       "_model_module_version": "^0.2",
       "_view_module_version": "^0.2",
       "icon": "file",
       "name": "distance.py"
      }
     },
     "8d7dbf2f1aff41589b18a50cf514b741": {
      "model_module": "@jupyter-widgets/base",
      "model_module_version": "2.0.0",
      "model_name": "LayoutModel",
      "state": {}
     },
     "8e495fcb8359483094bfb3bf3d10d573": {
      "model_module": "jupyter-leaflet",
      "model_module_version": "^0.18",
      "model_name": "LeafletMapModel",
      "state": {
       "_model_module_version": "^0.18",
       "_view_module_version": "^0.18",
       "bottom": 812,
       "controls": [
        "IPY_MODEL_e624226f3d924e249dafd7491c065e2a",
        "IPY_MODEL_9e531936d04c4f12b62f528bd7becc9c",
        "IPY_MODEL_52b938381e27442aa78da5095cef29e7",
        "IPY_MODEL_7dc3e391ba1545b1815a21cdbabff25d",
        "IPY_MODEL_0a0a883e93344f47a782ba5481f14b01",
        "IPY_MODEL_4386a083512f40cf8ab87e935ebe3cde",
        "IPY_MODEL_12dda28d44484ac6b1d2db1a444f562c",
        "IPY_MODEL_a197d70e410d42d0b844cd86d1e3e166"
       ],
       "default_style": "IPY_MODEL_4a7f4ec3f02d4e01ae5f10edb8dcfe80",
       "dragging_style": "IPY_MODEL_6eea71b4367a4077979ed369e268d1d9",
       "east": 190.54687500000003,
       "fullscreen": false,
       "interpolation": "bilinear",
       "layers": [
        "IPY_MODEL_9deda9ee8bf34a668398fb5ef3115561"
       ],
       "layout": "IPY_MODEL_783b9efdf6b044e9975ba1435cc33991",
       "left": -30,
       "max_zoom": 24,
       "modisdate": "2024-03-05",
       "north": 71.9653876991313,
       "options": [
        "bounce_at_zoom_limits",
        "box_zoom",
        "center",
        "close_popup_on_click",
        "double_click_zoom",
        "dragging",
        "fullscreen",
        "inertia",
        "inertia_deceleration",
        "inertia_max_speed",
        "interpolation",
        "keyboard",
        "keyboard_pan_offset",
        "keyboard_zoom_offset",
        "max_zoom",
        "min_zoom",
        "prefer_canvas",
        "scroll_wheel_zoom",
        "tap",
        "tap_tolerance",
        "touch_zoom",
        "world_copy_jump",
        "zoom",
        "zoom_animation_threshold",
        "zoom_delta",
        "zoom_snap"
       ],
       "prefer_canvas": false,
       "right": 1054,
       "scroll_wheel_zoom": true,
       "south": -71.96538769913128,
       "style": "IPY_MODEL_aaf3ad973fc046ed9a6893220c0f02a4",
       "top": 212,
       "west": -190.54687500000003,
       "window_url": "http://localhost:8888/lab",
       "zoom": 2
      }
     },
     "8f1a89e0cf124e36a6c73f8757eb7d85": {
      "model_module": "@jupyter-widgets/controls",
      "model_module_version": "2.0.0",
      "model_name": "ToggleButtonModel",
      "state": {
       "button_style": "primary",
       "icon": "info-circle",
       "layout": "IPY_MODEL_eb21b98be8ac47fd980751376045a7a9",
       "style": "IPY_MODEL_b8f206b4f3ad44ff8367b04d24db0ebb",
       "tooltip": "Get COG/STAC pixel value"
      }
     },
     "905cd9c6f7c648efb34da44ca06cb8b9": {
      "model_module": "ipytree",
      "model_module_version": "^0.2",
      "model_name": "NodeModel",
      "state": {
       "_id": "40e931d1-1c49-4886-9860-ab2247072d4a",
       "_model_module_version": "^0.2",
       "_view_module_version": "^0.2",
       "icon": "file",
       "name": "sentinel-2.py"
      }
     },
     "90799417c3594dee886086150a43e451": {
      "model_module": "ipytree",
      "model_module_version": "^0.2",
      "model_name": "NodeModel",
      "state": {
       "_id": "fc766102-3a81-40af-a14b-70a08ab9ce4d",
       "_model_module_version": "^0.2",
       "_view_module_version": "^0.2",
       "icon": "file",
       "name": "NormalizedDifference.py"
      }
     },
     "91682a40e08d4079ab3989610a462812": {
      "model_module": "ipytree",
      "model_module_version": "^0.2",
      "model_name": "NodeModel",
      "state": {
       "_id": "b94e4d27-0c4c-40c3-b0a4-430cfa022f23",
       "_model_module_version": "^0.2",
       "_view_module_version": "^0.2",
       "name": "GetStarted",
       "nodes": [
        "IPY_MODEL_61d2a8c0d04a4ad1a3a51c6f70a6b593",
        "IPY_MODEL_1a822c7911804c0f898e735009f2f62e",
        "IPY_MODEL_7d331b064e204a36b1eba0146beee667",
        "IPY_MODEL_41de240ea8cd4262969ab780232dd93b",
        "IPY_MODEL_df1b253e12064eb0b0c76d874e8e6218",
        "IPY_MODEL_ed8bf243e91f455ba1da89fc4320eae6",
        "IPY_MODEL_a6e575ee991844bd8440d5b7fbc7a41a",
        "IPY_MODEL_2d79a2c6a5384dd2963d7c02cc5c9325",
        "IPY_MODEL_76e86f9dcebd4efb9f87fc6866084af3"
       ],
       "opened": false
      }
     },
     "91c4172284774c2c85aa244045f5983a": {
      "model_module": "ipytree",
      "model_module_version": "^0.2",
      "model_name": "NodeModel",
      "state": {
       "_id": "adc25d59-cd11-4968-af9f-50c8c60c1361",
       "_model_module_version": "^0.2",
       "_view_module_version": "^0.2",
       "icon": "file",
       "name": "overview.py"
      }
     },
     "91dd6fb9ff8a489093fb328a573ebd5c": {
      "model_module": "ipytree",
      "model_module_version": "^0.2",
      "model_name": "NodeModel",
      "state": {
       "_id": "4a4cc74f-0913-49f1-a244-c980d84b6d63",
       "_model_module_version": "^0.2",
       "_view_module_version": "^0.2",
       "icon": "file",
       "name": "stats_of_image_regions.py"
      }
     },
     "92cc3088d1a44fa1bcc07ef02c56ca6f": {
      "model_module": "ipytree",
      "model_module_version": "^0.2",
      "model_name": "NodeModel",
      "state": {
       "_id": "1ab54129-855c-4477-bbef-13cc17578b69",
       "_model_module_version": "^0.2",
       "_view_module_version": "^0.2",
       "icon": "file",
       "name": "landsat_median.py"
      }
     },
     "93106e2c7d904dc0bd598740cab36e8f": {
      "model_module": "ipytree",
      "model_module_version": "^0.2",
      "model_name": "NodeModel",
      "state": {
       "_id": "5e7659c8-a5e6-47be-911f-9558d6c1c690",
       "_model_module_version": "^0.2",
       "_view_module_version": "^0.2",
       "icon": "file",
       "name": "export_table.py"
      }
     },
     "932bceca6b164e859282abbddb2a699c": {
      "model_module": "ipytree",
      "model_module_version": "^0.2",
      "model_name": "NodeModel",
      "state": {
       "_id": "874347e2-21fa-43aa-bad9-d94fc9076707",
       "_model_module_version": "^0.2",
       "_view_module_version": "^0.2",
       "icon": "file",
       "name": "us_census_roads.py"
      }
     },
     "93bda9152e3e4705a75b8b1d328294de": {
      "model_module": "ipytree",
      "model_module_version": "^0.2",
      "model_name": "NodeModel",
      "state": {
       "_id": "41afe434-4d13-4ccd-8dba-23178bf29df0",
       "_model_module_version": "^0.2",
       "_view_module_version": "^0.2",
       "icon": "file",
       "name": "hillshade_and_water.py"
      }
     },
     "948849fb59ed4286a5924d8c68481060": {
      "model_module": "@jupyter-widgets/controls",
      "model_module_version": "2.0.0",
      "model_name": "ToggleButtonStyleModel",
      "state": {
       "description_width": "",
       "font_family": null,
       "font_size": null,
       "font_style": null,
       "font_variant": null,
       "font_weight": null,
       "text_color": null,
       "text_decoration": null
      }
     },
     "95900ec69c0540ab88206f5cb397e2c3": {
      "model_module": "ipytree",
      "model_module_version": "^0.2",
      "model_name": "NodeModel",
      "state": {
       "_id": "e6492b37-9555-43fc-aad4-6153fbd89fc2",
       "_model_module_version": "^0.2",
       "_view_module_version": "^0.2",
       "icon": "file",
       "name": "global_land_ice_measurements.py"
      }
     },
     "961f50a980494fab9952618e6c55b95d": {
      "model_module": "ipytree",
      "model_module_version": "^0.2",
      "model_name": "NodeModel",
      "state": {
       "_id": "818c453a-6b18-45e4-9152-bf000484839c",
       "_model_module_version": "^0.2",
       "_view_module_version": "^0.2",
       "icon": "file",
       "name": "hillshade.py"
      }
     },
     "9636e622019f4bb4acce3ffd19c18569": {
      "model_module": "@jupyter-widgets/base",
      "model_module_version": "2.0.0",
      "model_name": "LayoutModel",
      "state": {
       "height": "auto",
       "padding": "0px 0px 0px 4px",
       "width": "auto"
      }
     },
     "9693396fabe64a2eb8ab281fa9c6e38b": {
      "model_module": "ipytree",
      "model_module_version": "^0.2",
      "model_name": "NodeModel",
      "state": {
       "_id": "d85a1de6-21c4-4df3-9c5c-b53f2f87a21e",
       "_model_module_version": "^0.2",
       "_view_module_version": "^0.2",
       "icon": "file",
       "name": "image_vis.py"
      }
     },
     "971df947cffc4e42926c4d1fc0a57698": {
      "model_module": "ipytree",
      "model_module_version": "^0.2",
      "model_name": "NodeModel",
      "state": {
       "_id": "694176d9-848b-4606-b304-fc173c35acf6",
       "_model_module_version": "^0.2",
       "_view_module_version": "^0.2",
       "icon": "file",
       "name": "pixel_area.py"
      }
     },
     "9723adaafd054c52bd1d290991f86e70": {
      "model_module": "ipytree",
      "model_module_version": "^0.2",
      "model_name": "NodeModel",
      "state": {
       "_id": "339a07d7-e8d2-4201-81de-f0788c899acf",
       "_model_module_version": "^0.2",
       "_view_module_version": "^0.2",
       "icon": "file",
       "name": "min_max_reducer.py"
      }
     },
     "9743196e67334c79bc5b3e1af41f6baa": {
      "model_module": "ipytree",
      "model_module_version": "^0.2",
      "model_name": "NodeModel",
      "state": {
       "_id": "c4a6e947-5fa1-4907-a681-fc2ef776bcb0",
       "_model_module_version": "^0.2",
       "_view_module_version": "^0.2",
       "name": "NAIP",
       "nodes": [
        "IPY_MODEL_87c67c9c19b6457b9801f696788566d3",
        "IPY_MODEL_06cff3d41dc24a3bbe438eb453521f1e",
        "IPY_MODEL_da16151e2fc8459db90ba720ae002a57",
        "IPY_MODEL_152fb9cf4a79410ab97a620ed3ffa13b",
        "IPY_MODEL_63f4fbb58bc741a680a7ad891c830cde",
        "IPY_MODEL_62a4cc12c70c4fddac2763294cd9583e",
        "IPY_MODEL_fec395d203724ec194e02dec8924d334",
        "IPY_MODEL_05be3f4825784d869682dc2d6317d00e",
        "IPY_MODEL_8b0feb00f85c434da7ca9d1324c9c200"
       ],
       "opened": false
      }
     },
     "97d7e67c24e94c10ad40b310cb999a8f": {
      "model_module": "ipytree",
      "model_module_version": "^0.2",
      "model_name": "NodeModel",
      "state": {
       "_id": "69eeeced-fa9b-40e0-8e59-8dd35e117a32",
       "_model_module_version": "^0.2",
       "_view_module_version": "^0.2",
       "name": "Vectors",
       "nodes": [
        "IPY_MODEL_95900ec69c0540ab88206f5cb397e2c3",
        "IPY_MODEL_fcbf55772acb4f6fbdb68704c3ff0740",
        "IPY_MODEL_e33870e801bf4bd985387e73be7f2d6e",
        "IPY_MODEL_2be82140650043a9acb4c1f70a320565",
        "IPY_MODEL_3362e0a641fd4150ba99667ded042b1c",
        "IPY_MODEL_38493d5e4fde41e19474a94a5edc415f",
        "IPY_MODEL_805a67046a85479ab29a5bdea9a3c554",
        "IPY_MODEL_1ff6c956a1884158bc35ab1018556588",
        "IPY_MODEL_932bceca6b164e859282abbddb2a699c",
        "IPY_MODEL_3766e5b3a6404359840845939fea2ee8",
        "IPY_MODEL_2d86a5c0b12e425ba0002935f0fa8b95",
        "IPY_MODEL_0654ed2df021431cb2b6a0b3ffba45ca",
        "IPY_MODEL_4e76d7d1039441a6a896bd28591621af",
        "IPY_MODEL_276999e4ad154c0aa3a4208888d83a78",
        "IPY_MODEL_d02b5cf05e0a4ec5b833af4ba2c625ff"
       ],
       "opened": false
      }
     },
     "9882a3ed2d7540e7961a14174e7eebc4": {
      "model_module": "ipytree",
      "model_module_version": "^0.2",
      "model_name": "NodeModel",
      "state": {
       "_id": "cd8955a6-9110-49fb-82ce-3187fd761dab",
       "_model_module_version": "^0.2",
       "_view_module_version": "^0.2",
       "icon": "file",
       "name": "extract_value_to_points.py"
      }
     },
     "988aa835cb804d7c896a2a903bbb8ff6": {
      "model_module": "ipytree",
      "model_module_version": "^0.2",
      "model_name": "NodeModel",
      "state": {
       "_id": "6be13635-5d0f-42cd-9a9f-7102c2961685",
       "_model_module_version": "^0.2",
       "_view_module_version": "^0.2",
       "icon": "file",
       "name": "array_sorting.py"
      }
     },
     "989b8b6ff1774ac49f5dadc13b968b94": {
      "model_module": "@jupyter-widgets/controls",
      "model_module_version": "2.0.0",
      "model_name": "ToggleButtonStyleModel",
      "state": {
       "description_width": "",
       "font_family": null,
       "font_size": null,
       "font_style": null,
       "font_variant": null,
       "font_weight": null,
       "text_color": null,
       "text_decoration": null
      }
     },
     "98df6934ed9f4401b18347ad9eef0715": {
      "model_module": "ipytree",
      "model_module_version": "^0.2",
      "model_name": "NodeModel",
      "state": {
       "_id": "0b870e4c-a83e-4ebc-adbb-2717e636da5a",
       "_model_module_version": "^0.2",
       "_view_module_version": "^0.2",
       "icon": "file",
       "name": "metadata_aggregation.py"
      }
     },
     "999b04cf16a54841aefbf56fccd2a435": {
      "model_module": "@jupyter-widgets/controls",
      "model_module_version": "2.0.0",
      "model_name": "TextModel",
      "state": {
       "layout": "IPY_MODEL_477681ef13464bf5ae4d64a07a6fa0a6",
       "placeholder": "Enter the link to a Git repository here...",
       "style": "IPY_MODEL_3b2cc6ad6ea84d81b2bcc9f5924d818e"
      }
     },
     "9a35dc91bf934ee2967a87496fb24f4a": {
      "model_module": "ipytree",
      "model_module_version": "^0.2",
      "model_name": "NodeModel",
      "state": {
       "_id": "ad4316d4-4d6d-420f-b28f-459b5001157a",
       "_model_module_version": "^0.2",
       "_view_module_version": "^0.2",
       "icon": "file",
       "name": "array_transformations.py"
      }
     },
     "9a8620d7588b45b2949b158f482549b9": {
      "model_module": "ipytree",
      "model_module_version": "^0.2",
      "model_name": "NodeModel",
      "state": {
       "_id": "d586b2f9-ccec-4d23-a399-084821f4a466",
       "_model_module_version": "^0.2",
       "_view_module_version": "^0.2",
       "icon": "file",
       "name": "us_cropland.py"
      }
     },
     "9b0bd762cb9a4f729ad1eccfe2967e53": {
      "model_module": "ipytree",
      "model_module_version": "^0.2",
      "model_name": "NodeModel",
      "state": {
       "_id": "c2477115-647b-48e9-889c-43ed1dd974d5",
       "_model_module_version": "^0.2",
       "_view_module_version": "^0.2",
       "icon": "file",
       "name": "image_mosaicking.py"
      }
     },
     "9c0d1ace208e44c382bd8805827dba28": {
      "model_module": "@jupyter-widgets/controls",
      "model_module_version": "2.0.0",
      "model_name": "TextModel",
      "state": {
       "layout": "IPY_MODEL_fd056b767f6147e5843d6281f8ffbb18",
       "placeholder": "Filter scripts...",
       "style": "IPY_MODEL_132b16229b504024b7fbadc754180ae1"
      }
     },
     "9c0ec0a3c4004a9699560b339999e94f": {
      "model_module": "ipytree",
      "model_module_version": "^0.2",
      "model_name": "NodeModel",
      "state": {
       "_id": "e25590d1-fb59-4a9c-ab7e-a3c8fce2364d",
       "_model_module_version": "^0.2",
       "_view_module_version": "^0.2",
       "icon": "file",
       "name": "sort_by_cloud_and_date.py"
      }
     },
     "9c52b75662e548e9bfb233d76cb1bade": {
      "model_module": "@jupyter-widgets/base",
      "model_module_version": "2.0.0",
      "model_name": "LayoutModel",
      "state": {
       "max_width": "310px"
      }
     },
     "9ca88c7005234f908db86c75eeb01a75": {
      "model_module": "ipytree",
      "model_module_version": "^0.2",
      "model_name": "NodeModel",
      "state": {
       "_id": "7b1bb184-cf27-4186-866d-f0673dc30db5",
       "_model_module_version": "^0.2",
       "_view_module_version": "^0.2",
       "icon": "file",
       "name": "random_color_visualizer.py"
      }
     },
     "9cbe95b0aaa84f0f842b388970c79437": {
      "model_module": "ipytree",
      "model_module_version": "^0.2",
      "model_name": "NodeModel",
      "state": {
       "_id": "0e54f235-da48-4fc0-b848-20f26901e33d",
       "_model_module_version": "^0.2",
       "_view_module_version": "^0.2",
       "icon": "file",
       "name": "confusion_matrix.py"
      }
     },
     "9deda9ee8bf34a668398fb5ef3115561": {
      "model_module": "jupyter-leaflet",
      "model_module_version": "^0.18",
      "model_name": "LeafletTileLayerModel",
      "state": {
       "_model_module_version": "^0.18",
       "_view_module_version": "^0.18",
       "attribution": "&copy; <a href=\"https://www.openstreetmap.org/copyright\">OpenStreetMap</a> contributors",
       "base": true,
       "max_zoom": 19,
       "min_zoom": 1,
       "name": "OpenStreetMap.Mapnik",
       "options": [
        "attribution",
        "bounds",
        "detect_retina",
        "max_native_zoom",
        "max_zoom",
        "min_native_zoom",
        "min_zoom",
        "no_wrap",
        "tile_size",
        "tms",
        "zoom_offset"
       ],
       "url": "https://tile.openstreetmap.org/{z}/{x}/{y}.png"
      }
     },
     "9e405ea2270d4cffa1d9f54f35251b35": {
      "model_module": "@jupyter-widgets/base",
      "model_module_version": "2.0.0",
      "model_name": "LayoutModel",
      "state": {
       "height": "auto",
       "padding": "0px 0px 0px 4px",
       "width": "auto"
      }
     },
     "9e531936d04c4f12b62f528bd7becc9c": {
      "model_module": "jupyter-leaflet",
      "model_module_version": "^0.18",
      "model_name": "LeafletZoomControlModel",
      "state": {
       "_model_module_version": "^0.18",
       "_view_module_version": "^0.18",
       "options": [
        "position",
        "zoom_in_text",
        "zoom_in_title",
        "zoom_out_text",
        "zoom_out_title"
       ]
      }
     },
     "9e9c4bd0fb6542438f62609b7f970753": {
      "model_module": "ipytree",
      "model_module_version": "^0.2",
      "model_name": "NodeModel",
      "state": {
       "_id": "67d082c9-f1c2-40ab-beed-874607cdc68e",
       "_model_module_version": "^0.2",
       "_view_module_version": "^0.2",
       "icon": "file",
       "name": "stats_of_image_neighborhoods.py"
      }
     },
     "9f67069ca5094b4bbec65f0b2aff633a": {
      "model_module": "@jupyter-widgets/controls",
      "model_module_version": "2.0.0",
      "model_name": "ToggleButtonStyleModel",
      "state": {
       "description_width": "",
       "font_family": null,
       "font_size": null,
       "font_style": null,
       "font_variant": null,
       "font_weight": null,
       "text_color": null,
       "text_decoration": null
      }
     },
     "9fef4ee420c34221bd98668972765abe": {
      "model_module": "@jupyter-widgets/controls",
      "model_module_version": "2.0.0",
      "model_name": "DropdownModel",
      "state": {
       "index": null,
       "layout": "IPY_MODEL_e20dfb1c61ce451aa3a3621e01261bea",
       "style": "IPY_MODEL_6850e91f878a492b9133677a2f9a0585"
      }
     },
     "a0e59647922c44d597850f734a524e6e": {
      "model_module": "ipytree",
      "model_module_version": "^0.2",
      "model_name": "NodeModel",
      "state": {
       "_id": "c800c4e7-591d-460b-92fe-dabe8f435fdd",
       "_model_module_version": "^0.2",
       "_view_module_version": "^0.2",
       "name": "Water",
       "nodes": [
        "IPY_MODEL_859d46492f0543e98b0e52f106d0b41d",
        "IPY_MODEL_a9dd769037f8420e9ae8b936bec65d57",
        "IPY_MODEL_a67549de15064ec58419512b1c6f6d0a",
        "IPY_MODEL_5c94fa477a584e43bb783e5500520d7d",
        "IPY_MODEL_0d7631a2dd2a43df85c5ac36951ffc00",
        "IPY_MODEL_3bafe1494e1c4150bfe981fffe1050af",
        "IPY_MODEL_da3f24e4e8584f33a4580b1a06f49850"
       ],
       "opened": false
      }
     },
     "a0efd295af994569905189177b85f498": {
      "model_module": "ipytree",
      "model_module_version": "^0.2",
      "model_name": "NodeModel",
      "state": {
       "_id": "bd3c8bc0-09d0-468a-a39e-fdb02e4d7b4a",
       "_model_module_version": "^0.2",
       "_view_module_version": "^0.2",
       "icon": "file",
       "name": "simple_joins.py"
      }
     },
     "a1097168448749528d2a6bd834ffcd42": {
      "model_module": "ipytree",
      "model_module_version": "^0.2",
      "model_name": "NodeModel",
      "state": {
       "_id": "20c2f9f1-6a49-44c2-a976-89f82d33ca32",
       "_model_module_version": "^0.2",
       "_view_module_version": "^0.2",
       "icon": "file",
       "name": "map_center_object.py"
      }
     },
     "a197d70e410d42d0b844cd86d1e3e166": {
      "model_module": "jupyter-leaflet",
      "model_module_version": "^0.18",
      "model_name": "LeafletAttributionControlModel",
      "state": {
       "_model_module_version": "^0.18",
       "_view_module_version": "^0.18",
       "options": [
        "position",
        "prefix"
       ],
       "position": "bottomright",
       "prefix": "ipyleaflet"
      }
     },
     "a2270961698d4fdaa27f6fea66b29054": {
      "model_module": "ipytree",
      "model_module_version": "^0.2",
      "model_name": "NodeModel",
      "state": {
       "_id": "c8db927b-286f-4380-9c07-fdd9a0e0d144",
       "_model_module_version": "^0.2",
       "_view_module_version": "^0.2",
       "icon": "file",
       "name": "from_ee_asset.py"
      }
     },
     "a3255c10d78e4de694b1196f3d37b0c7": {
      "model_module": "@jupyter-widgets/base",
      "model_module_version": "2.0.0",
      "model_name": "LayoutModel",
      "state": {
       "width": "500px"
      }
     },
     "a3407cbae82e48f6b1daee0cd4d1d000": {
      "model_module": "ipytree",
      "model_module_version": "^0.2",
      "model_name": "NodeModel",
      "state": {
       "_id": "c0df29bd-5c6d-4841-a66d-287efa96643e",
       "_model_module_version": "^0.2",
       "_view_module_version": "^0.2",
       "name": "earthengine-py-examples",
       "nodes": [
        "IPY_MODEL_7c5e7326fecb471994115bc858dcffde",
        "IPY_MODEL_4535dae698974d48b6931f48e67dbff3",
        "IPY_MODEL_dd730bed786b404697d492c288efc626",
        "IPY_MODEL_d2933e3ffa924403b4408af956b2e159",
        "IPY_MODEL_2bb068c8f34f44c3832cb338d22b687d",
        "IPY_MODEL_51275386157b499e9f21f36cf4e7012d",
        "IPY_MODEL_5598f173663d4158bfd1701aea3a621c",
        "IPY_MODEL_a816ccf7008c42239cfb26543b67cc71",
        "IPY_MODEL_745b4e2c67674ffb9eba85eaa934255f",
        "IPY_MODEL_e444a0e7f876484d95ba306c41b8f18a",
        "IPY_MODEL_91682a40e08d4079ab3989610a462812",
        "IPY_MODEL_f4e615c21cce4c5588f0670d405a1864",
        "IPY_MODEL_ab91986acd35438bbacb7e98cb012a97",
        "IPY_MODEL_7768c977b3b64fd799d0c490bd43db44",
        "IPY_MODEL_c6cfbfee51cd4f608661dc38e6694aa9",
        "IPY_MODEL_e292b2bde67541ea94815cc1dc47f967",
        "IPY_MODEL_2a8a07431acb4110b3ca2d94b8815f36",
        "IPY_MODEL_9743196e67334c79bc5b3e1af41f6baa",
        "IPY_MODEL_037fba54e8194feab1c879af5e9a2599",
        "IPY_MODEL_ae0d04c34bf14aecad08e8e1ae0466c7",
        "IPY_MODEL_77f4aea2dbd045ed8338f974e0ce7fb7"
       ],
       "opened": false
      }
     },
     "a3ba9261a0774b569fd9b3904fdd789e": {
      "model_module": "ipytree",
      "model_module_version": "^0.2",
      "model_name": "NodeModel",
      "state": {
       "_id": "2accdd86-551e-4059-8071-9231fea279ea",
       "_model_module_version": "^0.2",
       "_view_module_version": "^0.2",
       "icon": "file",
       "name": "glad_alert.py"
      }
     },
     "a3e6ea71b5b14788b0c79f3f8df05996": {
      "model_module": "ipytree",
      "model_module_version": "^0.2",
      "model_name": "NodeModel",
      "state": {
       "_id": "aca653f4-e94d-4bcd-aa69-8df3ad2e9ad6",
       "_model_module_version": "^0.2",
       "_view_module_version": "^0.2",
       "icon": "file",
       "name": "2_water_occurrence_change_intensity.py"
      }
     },
     "a4444b39caed4d6cad3649c7c369a65b": {
      "model_module": "ipytree",
      "model_module_version": "^0.2",
      "model_name": "NodeModel",
      "state": {
       "_id": "6b3d4c4a-2108-4364-8adf-f893c60cc988",
       "_model_module_version": "^0.2",
       "_view_module_version": "^0.2",
       "icon": "file",
       "name": "us_ned_topo_diversity.py"
      }
     },
     "a51981d74bba4ad487baffdab7115935": {
      "model_module": "ipytree",
      "model_module_version": "^0.2",
      "model_name": "NodeModel",
      "state": {
       "_id": "e10bebb2-c023-4f89-ae57-109be4c5521d",
       "_model_module_version": "^0.2",
       "_view_module_version": "^0.2",
       "icon": "file",
       "name": "ntl_linear_fit.py"
      }
     },
     "a5252f05eb904b4aa3127e603d7990a2": {
      "model_module": "ipytree",
      "model_module_version": "^0.2",
      "model_name": "NodeModel",
      "state": {
       "_id": "e76139d6-7e63-485f-bace-b185017a2657",
       "_model_module_version": "^0.2",
       "_view_module_version": "^0.2",
       "icon": "file",
       "name": "centroid.py"
      }
     },
     "a5a873304550434da18909d294812f50": {
      "model_module": "ipytree",
      "model_module_version": "^0.2",
      "model_name": "NodeModel",
      "state": {
       "_id": "70996cb0-a10d-4a44-afc0-c82b3b1a6ae0",
       "_model_module_version": "^0.2",
       "_view_module_version": "^0.2",
       "icon": "file",
       "name": "zero_crossing.py"
      }
     },
     "a5d571aed8924927995df598bf6a0eb3": {
      "model_module": "@jupyter-widgets/base",
      "model_module_version": "2.0.0",
      "model_name": "LayoutModel",
      "state": {
       "width": "310px"
      }
     },
     "a67549de15064ec58419512b1c6f6d0a": {
      "model_module": "ipytree",
      "model_module_version": "^0.2",
      "model_name": "NodeModel",
      "state": {
       "_id": "c1b93578-fe14-4637-a42f-48c37581653b",
       "_model_module_version": "^0.2",
       "_view_module_version": "^0.2",
       "icon": "file",
       "name": "jrc_metadata.py"
      }
     },
     "a688537b0d184dfdb06d2ce348d49a31": {
      "model_module": "ipytree",
      "model_module_version": "^0.2",
      "model_name": "NodeModel",
      "state": {
       "_id": "a57fd810-acd1-4ef4-9b23-85d8e71cc557",
       "_model_module_version": "^0.2",
       "_view_module_version": "^0.2",
       "icon": "file",
       "name": "filter_eq.py"
      }
     },
     "a691394ef15144bb9e9b94f810aaabd7": {
      "model_module": "ipytree",
      "model_module_version": "^0.2",
      "model_name": "NodeModel",
      "state": {
       "_id": "f82003bd-6628-42b3-809a-11d161af6937",
       "_model_module_version": "^0.2",
       "_view_module_version": "^0.2",
       "icon": "file",
       "name": "linear_regression.py"
      }
     },
     "a6e575ee991844bd8440d5b7fbc7a41a": {
      "model_module": "ipytree",
      "model_module_version": "^0.2",
      "model_name": "NodeModel",
      "state": {
       "_id": "b515d298-f33a-404d-9aef-ecb17af34e1a",
       "_model_module_version": "^0.2",
       "_view_module_version": "^0.2",
       "icon": "file",
       "name": "07_image_statistics.py"
      }
     },
     "a770d4ac025f43ccb5eadb508c2fc636": {
      "model_module": "@jupyter-widgets/controls",
      "model_module_version": "2.0.0",
      "model_name": "ToggleButtonStyleModel",
      "state": {
       "description_width": "",
       "font_family": null,
       "font_size": null,
       "font_style": null,
       "font_variant": null,
       "font_weight": null,
       "text_color": null,
       "text_decoration": null
      }
     },
     "a7e2964cb71c41c0b40ad278766fad01": {
      "model_module": "ipytree",
      "model_module_version": "^0.2",
      "model_name": "NodeModel",
      "state": {
       "_id": "5898f223-bbab-4357-a44e-87410171f2a8",
       "_model_module_version": "^0.2",
       "_view_module_version": "^0.2",
       "icon": "file",
       "name": "landsat8_surface_reflectance-copy.py"
      }
     },
     "a816ccf7008c42239cfb26543b67cc71": {
      "model_module": "ipytree",
      "model_module_version": "^0.2",
      "model_name": "NodeModel",
      "state": {
       "_id": "5f5703e4-7b91-4a2b-b9ee-be9d9b8f617d",
       "_model_module_version": "^0.2",
       "_view_module_version": "^0.2",
       "name": "FeatureCollection",
       "nodes": [
        "IPY_MODEL_486e4447db0f44f7b4f0ae8f430b6438",
        "IPY_MODEL_6767f18e8e0e480d96a441bbbd04a60d",
        "IPY_MODEL_faff4e23fb8c456a83bee2cc8d9411c5",
        "IPY_MODEL_f83f229849d941708374dd68ee54995e",
        "IPY_MODEL_a5252f05eb904b4aa3127e603d7990a2",
        "IPY_MODEL_8a5c75f7cd5d40c998b1d8ef3b771442",
        "IPY_MODEL_d86295d3b8864f448cf8fe1e97b7a2b3",
        "IPY_MODEL_7f0be8e5c14e47d7b2937b5badd99f1d",
        "IPY_MODEL_0f2a75253e1544ff9c333cc37b8c79ff",
        "IPY_MODEL_3d6fccac3aac48fda7eb6de6765f7ae9",
        "IPY_MODEL_cf812cf2cd5f4b66bbd968ec875bb182",
        "IPY_MODEL_12b532db4b934017b56c0ca7813cb0ca",
        "IPY_MODEL_4b19e339bf6a4092a638407415e43263",
        "IPY_MODEL_4cc6f920e30640d59c64cfbd57b8fc0e",
        "IPY_MODEL_8d12755626204ec6ac32a312d04b54cc",
        "IPY_MODEL_b95c706c5cff4a0ab86abe17f21911ab",
        "IPY_MODEL_7c44856bca0747fbba18c3495dbebff1",
        "IPY_MODEL_a2270961698d4fdaa27f6fea66b29054",
        "IPY_MODEL_5a65fcf543c4426e9befdcbffedd03ad",
        "IPY_MODEL_11ea0b3ca48941bd80b123cf41bbb092",
        "IPY_MODEL_322b786fa240414280d4a964571b9b32",
        "IPY_MODEL_dfe3f65ae0da4a9eb9a19f94203cb6df",
        "IPY_MODEL_5f342c841a0c415aa9b9f29e8bc2126e",
        "IPY_MODEL_7b9366c6b4344756a18992fbd8ae2f62",
        "IPY_MODEL_3417627011b44a70853b6ab487bc97af",
        "IPY_MODEL_98df6934ed9f4401b18347ad9eef0715",
        "IPY_MODEL_37e8d4a8c8764ed19b76d9715aeed9a3",
        "IPY_MODEL_fe362928748b445cbd7c6a60b4659ec5",
        "IPY_MODEL_2291b495357c4e318b6218bba5a2ab65",
        "IPY_MODEL_042ea5911c6744348b566a7d9a68f0ec",
        "IPY_MODEL_f37e32c68a024c9d87a9207db08a3d6d",
        "IPY_MODEL_b1bbe9797ac6427fb8cac32f302902b2",
        "IPY_MODEL_b7f9c15bf53d47a2967e2988167bde58",
        "IPY_MODEL_2791403d93294981a89dd5f59ee8e6a7",
        "IPY_MODEL_85f30f8ff23148ccafc2a46559319759",
        "IPY_MODEL_6886be012a2e437baa0972be9295dcdc",
        "IPY_MODEL_e00dfa048d3345da8b1b2f990339ab81",
        "IPY_MODEL_f0bc6d4f827e4851829f9dce9c5488b8",
        "IPY_MODEL_fd8ee55b47a34001bcc96b6aa4ff2975"
       ],
       "opened": false
      }
     },
     "a852371983174f7c98d627be873b749c": {
      "model_module": "@jupyter-widgets/base",
      "model_module_version": "2.0.0",
      "model_name": "LayoutModel",
      "state": {}
     },
     "a8b6e583a95947b18d968e4bf9e47525": {
      "model_module": "@jupyter-widgets/controls",
      "model_module_version": "2.0.0",
      "model_name": "ToggleButtonModel",
      "state": {
       "button_style": "primary",
       "icon": "adjust",
       "layout": "IPY_MODEL_3ff0c934fe64470dbb7f556638f8382c",
       "style": "IPY_MODEL_85bd18c75d24466f8bbc2f0001c8a93c",
       "tooltip": "Planet imagery"
      }
     },
     "a9dd769037f8420e9ae8b936bec65d57": {
      "model_module": "ipytree",
      "model_module_version": "^0.2",
      "model_name": "NodeModel",
      "state": {
       "_id": "fc1a741b-ba10-4f89-92ac-43481c06efbb",
       "_model_module_version": "^0.2",
       "_view_module_version": "^0.2",
       "icon": "file",
       "name": "jrc_global_surface_water.py"
      }
     },
     "a9f54082fa174337bb150230ff71636c": {
      "model_module": "ipytree",
      "model_module_version": "^0.2",
      "model_name": "NodeModel",
      "state": {
       "_id": "5e636154-2631-47eb-9c0e-a5986db4855f",
       "_model_module_version": "^0.2",
       "_view_module_version": "^0.2",
       "icon": "file",
       "name": "ClientVsServer.py"
      }
     },
     "aa19b541b2eb49838cad0d66a93b5ffe": {
      "model_module": "ipytree",
      "model_module_version": "^0.2",
      "model_name": "NodeModel",
      "state": {
       "_id": "989bdde3-e295-4dcc-8e6e-f2d5d3847ffb",
       "_model_module_version": "^0.2",
       "_view_module_version": "^0.2",
       "icon": "file",
       "name": "mean_std_image.py"
      }
     },
     "aa2cccd205cc47138aa16c1a58967c6c": {
      "model_module": "@jupyter-widgets/controls",
      "model_module_version": "2.0.0",
      "model_name": "TextStyleModel",
      "state": {
       "description_width": "",
       "font_size": null,
       "text_color": null
      }
     },
     "aac36f3506a049d48cdaa7e668b3f860": {
      "model_module": "@jupyter-widgets/controls",
      "model_module_version": "2.0.0",
      "model_name": "ToggleButtonStyleModel",
      "state": {
       "description_width": "",
       "font_family": null,
       "font_size": null,
       "font_style": null,
       "font_variant": null,
       "font_weight": null,
       "text_color": null,
       "text_decoration": null
      }
     },
     "aaf3ad973fc046ed9a6893220c0f02a4": {
      "model_module": "jupyter-leaflet",
      "model_module_version": "^0.18",
      "model_name": "LeafletMapStyleModel",
      "state": {
       "_model_module_version": "^0.18"
      }
     },
     "ab91986acd35438bbacb7e98cb012a97": {
      "model_module": "ipytree",
      "model_module_version": "^0.2",
      "model_name": "NodeModel",
      "state": {
       "_id": "7ef7ba0b-8787-40d2-8818-06b077cec7a7",
       "_model_module_version": "^0.2",
       "_view_module_version": "^0.2",
       "name": "Image",
       "nodes": [
        "IPY_MODEL_4e7e3765d03e4ba7b04795fdbc6f0c49",
        "IPY_MODEL_d81f1562edc6400ca8a86946bc8825b3",
        "IPY_MODEL_42f8cc894dea48f19cb88de607921fc7",
        "IPY_MODEL_68630cd246e7476a86ec2f842e0fce61",
        "IPY_MODEL_53fef2e6e059411a8addcc26c454716f",
        "IPY_MODEL_b85cc054825a4f0b959046ba4ff9580e",
        "IPY_MODEL_64eec02271cd4f90aad355044ce425d0",
        "IPY_MODEL_d012ba3597354e17a3486615f1ecea2c",
        "IPY_MODEL_861481ee53a148888356a2b9aaa20b6c",
        "IPY_MODEL_ea81f13d37b74842b4fd682dd5a693f9",
        "IPY_MODEL_4b41f5b0ba544178a6c27de74a875c65",
        "IPY_MODEL_eefeb0b472d949a08f2e5e86bc1056f8",
        "IPY_MODEL_6ea7bc34cbfd4198a93394bbc1172a77",
        "IPY_MODEL_f63fa4c7941442a0bf5f4b35f5692a11",
        "IPY_MODEL_08be8d3de0da420d8fb48ef38799c767",
        "IPY_MODEL_6d8d457e9dcf428da5fbf5d5cc566a35",
        "IPY_MODEL_9882a3ed2d7540e7961a14174e7eebc4",
        "IPY_MODEL_37a2fa022c3f402a829a8ea956c42d6a",
        "IPY_MODEL_49b708a489f4481598c567d2bb6dd3e2",
        "IPY_MODEL_1ca6e3196f71465492ce03dc9dde7288",
        "IPY_MODEL_8031498b88df4a7cba5e0c8350074db8",
        "IPY_MODEL_3523a6dcc3364fcc88b885f46838843b",
        "IPY_MODEL_f3ddb78300c046deb9cfb921c8a52447",
        "IPY_MODEL_e10df7a049b140eab375db87ac7ccded",
        "IPY_MODEL_7d2c13a74732424bb4c9cd30f6b4729e",
        "IPY_MODEL_961f50a980494fab9952618e6c55b95d",
        "IPY_MODEL_7873a7426d5d42eeb14c757778ab516d",
        "IPY_MODEL_bd647d0cf39a48a3b4f07fc6d15ccd7e",
        "IPY_MODEL_1a2969542118441197b2ce0c41b5d0a1",
        "IPY_MODEL_c12780a585d94d939fab936a55c88ace",
        "IPY_MODEL_18d45a7d2f4443d6bafe4f76314ef860",
        "IPY_MODEL_251cf643ce4e4e6abea7fb2903f53a38",
        "IPY_MODEL_85abb1506c4b4350acc670a980f62d7b",
        "IPY_MODEL_3a763f9f3368477eb7ac4f390452b475",
        "IPY_MODEL_9693396fabe64a2eb8ab281fa9c6e38b",
        "IPY_MODEL_234aaa5a006c4b058d1d57ab845f1540",
        "IPY_MODEL_3302049a01eb46968080cff546144ab2",
        "IPY_MODEL_54538ea145734408af4c8241817831cf",
        "IPY_MODEL_779d7572122e47e0918a8a386b15e17f",
        "IPY_MODEL_82494940f5ba4583ab106667c61a1fb1",
        "IPY_MODEL_971df947cffc4e42926c4d1fc0a57698",
        "IPY_MODEL_b4fa7c077d2549d18640beefc91b414a",
        "IPY_MODEL_17e052138fc1463eb2706414ad932417",
        "IPY_MODEL_e2559749d1d14b9ab261223d5b7ffc00",
        "IPY_MODEL_2f37c69748be45c992cfa718ceee03c7",
        "IPY_MODEL_451143f1f3f0470da8edb5056e92204c",
        "IPY_MODEL_c28b4c10494f4e6ea53a0c96aaed23db",
        "IPY_MODEL_41fa2c7db6cd4cfda3078ff71c62ba12",
        "IPY_MODEL_4ec0b10ab83a4f28b82604b41f85e88a",
        "IPY_MODEL_698fae3d9f1843638060d289010bcdbe",
        "IPY_MODEL_ef51ce2c491f45eab30b3c9f36edab20",
        "IPY_MODEL_b19fd088cb1a4312af7aace619aeefae",
        "IPY_MODEL_f5027be9a81042b4af80e379f6adffea",
        "IPY_MODEL_7dc30df2b93f4c228dcb60e038f95a67",
        "IPY_MODEL_a5a873304550434da18909d294812f50"
       ],
       "opened": false
      }
     },
     "ac0516a0da7c46c885da7a11df7c6558": {
      "model_module": "@jupyter-widgets/controls",
      "model_module_version": "2.0.0",
      "model_name": "ButtonModel",
      "state": {
       "button_style": "primary",
       "description": "Clone",
       "layout": "IPY_MODEL_6663d3f5a02f4a49a497f5e11c8a4364",
       "style": "IPY_MODEL_46a31c6cecae4425ac56978d4e7a8a57",
       "tooltip": "Clone the repository to folder."
      }
     },
     "ae0d04c34bf14aecad08e8e1ae0466c7": {
      "model_module": "ipytree",
      "model_module_version": "^0.2",
      "model_name": "NodeModel",
      "state": {
       "_id": "c3291ea9-b837-42a0-a3c2-df06b3f7602b",
       "_model_module_version": "^0.2",
       "_view_module_version": "^0.2",
       "name": "Tutorials",
       "nodes": [
        "IPY_MODEL_e47453401a154e90999f3bfbe9056b28",
        "IPY_MODEL_cd6a3ed5321b4553b0b880ccc469d4a9"
       ]
      }
     },
     "aedc1a15e7fd4139b9b0c0cbf2a5a955": {
      "model_module": "ipytree",
      "model_module_version": "^0.2",
      "model_name": "NodeModel",
      "state": {
       "_id": "a3b72812-3f52-4e71-a9fb-dd2bc6f2f3b9",
       "_model_module_version": "^0.2",
       "_view_module_version": "^0.2",
       "icon": "file",
       "name": "usgs_nlcd.py"
      }
     },
     "b038738ac0f046239f206bcfe5b10680": {
      "model_module": "ipytree",
      "model_module_version": "^0.2",
      "model_name": "NodeModel",
      "state": {
       "_id": "615fadcc-5136-458c-b489-3083c312d758",
       "_model_module_version": "^0.2",
       "_view_module_version": "^0.2",
       "icon": "file",
       "name": "palettes_crameri_oleron_dem.py"
      }
     },
     "b19fd088cb1a4312af7aace619aeefae": {
      "model_module": "ipytree",
      "model_module_version": "^0.2",
      "model_name": "NodeModel",
      "state": {
       "_id": "2a994f03-45eb-4ecc-903f-61fa43bd2dfe",
       "_model_module_version": "^0.2",
       "_view_module_version": "^0.2",
       "icon": "file",
       "name": "texture.py"
      }
     },
     "b1bbe9797ac6427fb8cac32f302902b2": {
      "model_module": "ipytree",
      "model_module_version": "^0.2",
      "model_name": "NodeModel",
      "state": {
       "_id": "26856218-c9d1-4067-85f3-e1b398006255",
       "_model_module_version": "^0.2",
       "_view_module_version": "^0.2",
       "icon": "file",
       "name": "search_by_buffer_distance.py"
      }
     },
     "b253b1a239884d32a094fdf324c0467a": {
      "model_module": "ipytree",
      "model_module_version": "^0.2",
      "model_name": "NodeModel",
      "state": {
       "_id": "a341ef76-8c1c-4ab6-ac87-eee117b149f7",
       "_model_module_version": "^0.2",
       "_view_module_version": "^0.2",
       "icon": "file",
       "name": "filtering_by_calendar_range.py"
      }
     },
     "b30d2a1be2de4b4ab4e58f067c861562": {
      "model_module": "@jupyter-widgets/controls",
      "model_module_version": "2.0.0",
      "model_name": "ToggleButtonModel",
      "state": {
       "icon": "globe",
       "layout": "IPY_MODEL_bbfe16bb7aa2420490111f6c2b632c20",
       "style": "IPY_MODEL_058e690d0f3746098306cb511b45d344",
       "tooltip": "Search location/data"
      }
     },
     "b3fc3d3ca8244ab88800b2d42b3afd2b": {
      "model_module": "ipytree",
      "model_module_version": "^0.2",
      "model_name": "NodeModel",
      "state": {
       "_id": "9e885fce-9325-4744-9052-299cf442d97f",
       "_model_module_version": "^0.2",
       "_view_module_version": "^0.2",
       "name": "Writer",
       "opened": false
      }
     },
     "b474b1d408a141ca9d549b78da41f880": {
      "model_module": "ipytree",
      "model_module_version": "^0.2",
      "model_name": "NodeModel",
      "state": {
       "_id": "04aa2ceb-93fb-4ef7-9c49-e3a810d6abd2",
       "_model_module_version": "^0.2",
       "_view_module_version": "^0.2",
       "icon": "file",
       "name": "center_pivot_irrigation_detector.py"
      }
     },
     "b4bc1221513341a39b79b633dfcfcbcd": {
      "model_module": "ipytree",
      "model_module_version": "^0.2",
      "model_name": "NodeModel",
      "state": {
       "_id": "9cf963db-76ff-4fea-889d-913650d01b89",
       "_model_module_version": "^0.2",
       "_view_module_version": "^0.2",
       "icon": "file",
       "name": "reduce_resolution.py"
      }
     },
     "b4fa7c077d2549d18640beefc91b414a": {
      "model_module": "ipytree",
      "model_module_version": "^0.2",
      "model_name": "NodeModel",
      "state": {
       "_id": "ef9d8ebe-4fc7-4cad-bb7f-9a4f0fc8f1bb",
       "_model_module_version": "^0.2",
       "_view_module_version": "^0.2",
       "icon": "file",
       "name": "pixel_lon_lat.py"
      }
     },
     "b53c62aa7810437c97c1a4414423de39": {
      "model_module": "@jupyter-widgets/controls",
      "model_module_version": "2.0.0",
      "model_name": "RadioButtonsModel",
      "state": {
       "index": null,
       "layout": "IPY_MODEL_f3c98806ccfa4cc1920dea49fb261d44",
       "style": "IPY_MODEL_c1fb4cbf188e46469cb5a4d548f2ec78"
      }
     },
     "b55aa4e3c7b34116913953fde65e45d7": {
      "model_module": "@jupyter-widgets/base",
      "model_module_version": "2.0.0",
      "model_name": "LayoutModel",
      "state": {}
     },
     "b5b628d759a745a9abc4556fcfd26d62": {
      "model_module": "ipytree",
      "model_module_version": "^0.2",
      "model_name": "NodeModel",
      "state": {
       "_id": "2b820252-966d-4703-ace1-f50d253e91e6",
       "_model_module_version": "^0.2",
       "_view_module_version": "^0.2",
       "icon": "file",
       "name": "spatial_joins.py"
      }
     },
     "b65df059a24c446c84543c58c43b11fc": {
      "model_module": "ipytree",
      "model_module_version": "^0.2",
      "model_name": "NodeModel",
      "state": {
       "_id": "5529c0a1-4369-419d-b050-f57e90ea1468",
       "_model_module_version": "^0.2",
       "_view_module_version": "^0.2",
       "icon": "file",
       "name": "us_ned.py"
      }
     },
     "b6ee02dda331484f912a302b3949ebd5": {
      "model_module": "@jupyter-widgets/output",
      "model_module_version": "1.0.0",
      "model_name": "OutputModel",
      "state": {
       "layout": "IPY_MODEL_57e83480d16143f29f21d77a206a144a"
      }
     },
     "b7f9c15bf53d47a2967e2988167bde58": {
      "model_module": "ipytree",
      "model_module_version": "^0.2",
      "model_name": "NodeModel",
      "state": {
       "_id": "16435ec3-220a-4770-8024-f01390f59ee9",
       "_model_module_version": "^0.2",
       "_view_module_version": "^0.2",
       "icon": "file",
       "name": "select_by_attributes.py"
      }
     },
     "b85cc054825a4f0b959046ba4ff9580e": {
      "model_module": "ipytree",
      "model_module_version": "^0.2",
      "model_name": "NodeModel",
      "state": {
       "_id": "a8bcf92d-8366-46fc-a626-7419b6b56ffd",
       "_model_module_version": "^0.2",
       "_view_module_version": "^0.2",
       "icon": "file",
       "name": "clamp.py"
      }
     },
     "b8f206b4f3ad44ff8367b04d24db0ebb": {
      "model_module": "@jupyter-widgets/controls",
      "model_module_version": "2.0.0",
      "model_name": "ToggleButtonStyleModel",
      "state": {
       "description_width": "",
       "font_family": null,
       "font_size": null,
       "font_style": null,
       "font_variant": null,
       "font_weight": null,
       "text_color": null,
       "text_decoration": null
      }
     },
     "b90a618242a543c7a93f57aacdf8f2f3": {
      "model_module": "ipytree",
      "model_module_version": "^0.2",
      "model_name": "NodeModel",
      "state": {
       "_id": "d3320f8c-6cf2-41f7-8e46-76ceceea2e23",
       "_model_module_version": "^0.2",
       "_view_module_version": "^0.2",
       "icon": "file",
       "name": "creating_monthly_imagery.py"
      }
     },
     "b95c706c5cff4a0ab86abe17f21911ab": {
      "model_module": "ipytree",
      "model_module_version": "^0.2",
      "model_name": "NodeModel",
      "state": {
       "_id": "8583caf9-877f-4ec3-ad05-7487f69dee34",
       "_model_module_version": "^0.2",
       "_view_module_version": "^0.2",
       "icon": "file",
       "name": "extract_image_by_polygon.py"
      }
     },
     "bb03b8325ebb4099bb511d78b1cb683f": {
      "model_module": "ipytree",
      "model_module_version": "^0.2",
      "model_name": "NodeModel",
      "state": {
       "_id": "51e9649a-ba46-4388-9317-fde3eda0cbe6",
       "_model_module_version": "^0.2",
       "_view_module_version": "^0.2",
       "icon": "file",
       "name": "basic_image.py"
      }
     },
     "bbea9deae2864d68b9acc000b915019f": {
      "model_module": "ipytree",
      "model_module_version": "^0.2",
      "model_name": "NodeModel",
      "state": {
       "_id": "c713bf01-1c8d-4e7d-9b95-0c8cc920b2dc",
       "_model_module_version": "^0.2",
       "_view_module_version": "^0.2",
       "icon": "file",
       "name": "using_weights.py"
      }
     },
     "bbfdf8be40d4404da0a0e7e8e4b29086": {
      "model_module": "@jupyter-widgets/controls",
      "model_module_version": "2.0.0",
      "model_name": "VBoxModel",
      "state": {
       "children": [
        "IPY_MODEL_3eb0eb6f314342dc9e9ce24ba7aa2082"
       ],
       "layout": "IPY_MODEL_55724d8319904a498ed2734091d78144"
      }
     },
     "bbfe16bb7aa2420490111f6c2b632c20": {
      "model_module": "@jupyter-widgets/base",
      "model_module_version": "2.0.0",
      "model_name": "LayoutModel",
      "state": {
       "height": "28px",
       "padding": "0px 0px 0px 4px",
       "width": "28px"
      }
     },
     "bc11e128afb741f6af37f56386fb605c": {
      "model_module": "ipytree",
      "model_module_version": "^0.2",
      "model_name": "NodeModel",
      "state": {
       "_id": "2da3ca3b-dcb5-4933-a548-8c8bf19f2eea",
       "_model_module_version": "^0.2",
       "_view_module_version": "^0.2",
       "icon": "file",
       "name": "stats_of_an_image_region.py"
      }
     },
     "bc354bece77a46cba663d4fd8641d59c": {
      "model_module": "ipytree",
      "model_module_version": "^0.2",
      "model_name": "NodeModel",
      "state": {
       "_id": "627f7cd2-c759-4d35-b5f6-267b7bf11618",
       "_model_module_version": "^0.2",
       "_view_module_version": "^0.2",
       "icon": "file",
       "name": "landsat8_toa_reflectance_qa_band.py"
      }
     },
     "bc494055d4ae4d2484da13f799e2e63c": {
      "model_module": "ipytree",
      "model_module_version": "^0.2",
      "model_name": "NodeModel",
      "state": {
       "_id": "ba7f1730-ca4d-4fb1-a61f-336873a7a8f8",
       "_model_module_version": "^0.2",
       "_view_module_version": "^0.2",
       "icon": "file",
       "name": "cart_classifier.py"
      }
     },
     "bd647d0cf39a48a3b4f07fc6d15ccd7e": {
      "model_module": "ipytree",
      "model_module_version": "^0.2",
      "model_name": "NodeModel",
      "state": {
       "_id": "80396bed-411a-4a9e-89a1-2178f7d94f3a",
       "_model_module_version": "^0.2",
       "_view_module_version": "^0.2",
       "icon": "file",
       "name": "hsv_pan_sharpen.py"
      }
     },
     "bda0fa6f219c414786a2840c7391cd11": {
      "model_module": "@jupyter-widgets/base",
      "model_module_version": "2.0.0",
      "model_name": "LayoutModel",
      "state": {}
     },
     "be0a05222e9e421d8de91dcb112e27ed": {
      "model_module": "ipytree",
      "model_module_version": "^0.2",
      "model_name": "NodeModel",
      "state": {
       "_id": "58a23845-413b-4095-bbad-fe5709d618ff",
       "_model_module_version": "^0.2",
       "_view_module_version": "^0.2",
       "icon": "file",
       "name": "alos_global_dsm.py"
      }
     },
     "c0ceb4aabedf46b9a87c350d5e6ca69a": {
      "model_module": "ipytree",
      "model_module_version": "^0.2",
      "model_name": "NodeModel",
      "state": {
       "_id": "ca104817-a0e9-4560-bda4-4ed3e0a6b17b",
       "_model_module_version": "^0.2",
       "_view_module_version": "^0.2",
       "icon": "file",
       "name": "zonal_statistics.py"
      }
     },
     "c12780a585d94d939fab936a55c88ace": {
      "model_module": "ipytree",
      "model_module_version": "^0.2",
      "model_name": "NodeModel",
      "state": {
       "_id": "58d816d1-9ecb-4e81-a8f3-042da70ecf51",
       "_model_module_version": "^0.2",
       "_view_module_version": "^0.2",
       "icon": "file",
       "name": "image_metadata.py"
      }
     },
     "c1fb4cbf188e46469cb5a4d548f2ec78": {
      "model_module": "@jupyter-widgets/controls",
      "model_module_version": "2.0.0",
      "model_name": "DescriptionStyleModel",
      "state": {
       "description_width": ""
      }
     },
     "c26732d424e54632943f6570758d99ce": {
      "model_module": "@jupyter-widgets/controls",
      "model_module_version": "2.0.0",
      "model_name": "ToggleButtonStyleModel",
      "state": {
       "description_width": "",
       "font_family": null,
       "font_size": null,
       "font_style": null,
       "font_variant": null,
       "font_weight": null,
       "text_color": null,
       "text_decoration": null
      }
     },
     "c28b4c10494f4e6ea53a0c96aaed23db": {
      "model_module": "ipytree",
      "model_module_version": "^0.2",
      "model_name": "NodeModel",
      "state": {
       "_id": "403c0f31-2ace-4f72-9943-7028c1591201",
       "_model_module_version": "^0.2",
       "_view_module_version": "^0.2",
       "icon": "file",
       "name": "rename_bands.py"
      }
     },
     "c33dbe501a384423b7ce9986f6b13ce3": {
      "model_module": "ipytree",
      "model_module_version": "^0.2",
      "model_name": "NodeModel",
      "state": {
       "_id": "d2f10182-8f07-4020-a79f-2d8e58a354a1",
       "_model_module_version": "^0.2",
       "_view_module_version": "^0.2",
       "icon": "file",
       "name": "image_clipping.py"
      }
     },
     "c3659d33791f4d739db5da667903e3de": {
      "model_module": "@jupyter-widgets/controls",
      "model_module_version": "2.0.0",
      "model_name": "VBoxModel",
      "state": {
       "_dom_classes": [
        "geemap-light"
       ],
       "_view_count": 1,
       "children": [
        "IPY_MODEL_2a51860fd8f34a33912d7621df54c5e8"
       ],
       "layout": "IPY_MODEL_5f3a431fbab8465f981843b175f8c30f"
      }
     },
     "c6cfbfee51cd4f608661dc38e6694aa9": {
      "model_module": "ipytree",
      "model_module_version": "^0.2",
      "model_name": "NodeModel",
      "state": {
       "_id": "a7f8f057-af53-4944-9b3d-a48b581c36fb",
       "_model_module_version": "^0.2",
       "_view_module_version": "^0.2",
       "name": "JavaScripts",
       "nodes": [
        "IPY_MODEL_070504b202e246e688ae497c90c26f17",
        "IPY_MODEL_2c78c18447584fbdb5aa9331d5fe57ba",
        "IPY_MODEL_90799417c3594dee886086150a43e451"
       ],
       "opened": false
      }
     },
     "c745123631b04af8bb0c6dfd7209af41": {
      "model_module": "@jupyter-widgets/base",
      "model_module_version": "2.0.0",
      "model_name": "LayoutModel",
      "state": {
       "height": "auto",
       "padding": "0px 0px 0px 4px",
       "width": "auto"
      }
     },
     "c8222a8d2c0e4b8fbb73920ae3a0e59f": {
      "model_module": "ipytree",
      "model_module_version": "^0.2",
      "model_name": "NodeModel",
      "state": {
       "_id": "1e0a5444-d532-4b76-a1ad-597fcd1059b5",
       "_model_module_version": "^0.2",
       "_view_module_version": "^0.2",
       "icon": "file",
       "name": "srtm_landforms.py"
      }
     },
     "c97c24c9e5ce4313978e50b37ebdb833": {
      "model_module": "@jupyter-widgets/base",
      "model_module_version": "2.0.0",
      "model_name": "LayoutModel",
      "state": {}
     },
     "c9e22ca4ec6d456a926b4faad85cb5e9": {
      "model_module": "ipytree",
      "model_module_version": "^0.2",
      "model_name": "NodeModel",
      "state": {
       "_id": "7d075362-33dd-4f2f-83df-721118ea82f3",
       "_model_module_version": "^0.2",
       "_view_module_version": "^0.2",
       "icon": "file",
       "name": "image_thumbnail.py"
      }
     },
     "ca12e4080f3041ab9c018073b2f6d1ee": {
      "model_module": "ipyevents",
      "model_module_version": "2.0.2",
      "model_name": "EventModel",
      "state": {
       "_supported_key_events": [
        "keydown",
        "keyup"
       ],
       "_supported_mouse_events": [
        "click",
        "auxclick",
        "dblclick",
        "mouseenter",
        "mouseleave",
        "mousedown",
        "mouseup",
        "mousemove",
        "wheel",
        "contextmenu",
        "dragstart",
        "drag",
        "dragend",
        "dragenter",
        "dragover",
        "dragleave",
        "drop"
       ],
       "_supported_touch_events": [
        "touchstart",
        "touchend",
        "touchmove",
        "touchcancel"
       ],
       "_view_module": "@jupyter-widgets/controls",
       "source": "IPY_MODEL_766e8c7f9ba6487ba0781fa26f29ff53",
       "throttle_or_debounce": "",
       "watched_events": [
        "mouseenter",
        "mouseleave"
       ],
       "xy_coordinate_system": ""
      }
     },
     "cbfea318ec144489a34d9da66d2950a3": {
      "model_module": "ipytree",
      "model_module_version": "^0.2",
      "model_name": "NodeModel",
      "state": {
       "_id": "cba26574-d23b-4afd-ac50-490fa6d09829",
       "_model_module_version": "^0.2",
       "_view_module_version": "^0.2",
       "icon": "file",
       "name": "svm_classifier.py"
      }
     },
     "cd646cc8bd474a428103463416725aad": {
      "model_module": "ipytree",
      "model_module_version": "^0.2",
      "model_name": "NodeModel",
      "state": {
       "_id": "552ae68b-511a-40f1-9f16-23ce605f2e4b",
       "_model_module_version": "^0.2",
       "_view_module_version": "^0.2",
       "name": "contrib",
       "nodes": [
        "IPY_MODEL_e466c75de5384880a548e93ba3207153",
        "IPY_MODEL_546c2ddff8aa421ba0af5103d3ab2f07"
       ],
       "opened": false
      }
     },
     "cd6a3ed5321b4553b0b880ccc469d4a9": {
      "model_module": "ipytree",
      "model_module_version": "^0.2",
      "model_name": "NodeModel",
      "state": {
       "_id": "e4f21a00-d35a-4799-8db7-e75f6f536f79",
       "_model_module_version": "^0.2",
       "_view_module_version": "^0.2",
       "name": "Keiko",
       "nodes": [
        "IPY_MODEL_2c68256ce4404590982cc045ff089678",
        "IPY_MODEL_a3ba9261a0774b569fd9b3904fdd789e",
        "IPY_MODEL_426755d446a84e5d8fb741c9b34d68cc"
       ],
       "opened": false
      }
     },
     "ce1d35d88f324c96879f750737c94463": {
      "model_module": "ipytree",
      "model_module_version": "^0.2",
      "model_name": "NodeModel",
      "state": {
       "_id": "8c4f0c90-5a95-4fdd-acf6-0ec0e9da69e3",
       "_model_module_version": "^0.2",
       "_view_module_version": "^0.2",
       "name": "Examples",
       "nodes": [
        "IPY_MODEL_a3407cbae82e48f6b1daee0cd4d1d000"
       ],
       "opened": false
      }
     },
     "ce40c2c3e4fc4107990bb8ab8d8dac0f": {
      "model_module": "@jupyter-widgets/controls",
      "model_module_version": "2.0.0",
      "model_name": "HTMLModel",
      "state": {
       "layout": "IPY_MODEL_bda0fa6f219c414786a2840c7391cd11",
       "style": "IPY_MODEL_4eb7de85328240e5b8867ced44e0398d"
      }
     },
     "ce96bdddaedf44efbf786a1da37c63ed": {
      "model_module": "ipytree",
      "model_module_version": "^0.2",
      "model_name": "NodeModel",
      "state": {
       "_id": "eb560f68-aafa-4b8d-a2fc-dc02a1b83d9f",
       "_model_module_version": "^0.2",
       "_view_module_version": "^0.2",
       "icon": "file",
       "name": "stats_of_columns.py"
      }
     },
     "cec049a11d1a48c4a864ab4f56774f9b": {
      "model_module": "ipytree",
      "model_module_version": "^0.2",
      "model_name": "NodeModel",
      "state": {
       "_id": "5852f45c-d5d6-42e9-8133-5f014cd7c6f3",
       "_model_module_version": "^0.2",
       "_view_module_version": "^0.2",
       "icon": "file",
       "name": "decorrelation_stretch.py"
      }
     },
     "cf812cf2cd5f4b66bbd968ec875bb182": {
      "model_module": "ipytree",
      "model_module_version": "^0.2",
      "model_name": "NodeModel",
      "state": {
       "_id": "ab2f6746-5e93-498c-9794-aa3b9bb1dd15",
       "_model_module_version": "^0.2",
       "_view_module_version": "^0.2",
       "icon": "file",
       "name": "computed_area_filter.py"
      }
     },
     "cfd9c6c2944941cfb1de7cb9ed58231d": {
      "model_module": "@jupyter-widgets/base",
      "model_module_version": "2.0.0",
      "model_name": "LayoutModel",
      "state": {}
     },
     "d012ba3597354e17a3486615f1ecea2c": {
      "model_module": "ipytree",
      "model_module_version": "^0.2",
      "model_name": "NodeModel",
      "state": {
       "_id": "74af2cd9-811f-4797-bb69-5ae681377f34",
       "_model_module_version": "^0.2",
       "_view_module_version": "^0.2",
       "icon": "file",
       "name": "composite_bands.py"
      }
     },
     "d02b5cf05e0a4ec5b833af4ba2c625ff": {
      "model_module": "ipytree",
      "model_module_version": "^0.2",
      "model_name": "NodeModel",
      "state": {
       "_id": "a582cf12-e4fb-4c71-8df0-10c9f4c81182",
       "_model_module_version": "^0.2",
       "_view_module_version": "^0.2",
       "icon": "file",
       "name": "world_database_on_protected_areas.py"
      }
     },
     "d044d8d4868940d8b0ac40dc1504f846": {
      "model_module": "@jupyter-widgets/base",
      "model_module_version": "2.0.0",
      "model_name": "LayoutModel",
      "state": {
       "height": "auto",
       "padding": "0px 0px 0px 4px",
       "width": "auto"
      }
     },
     "d20b1069e12e4e5787ef092f17ff08d6": {
      "model_module": "@jupyter-widgets/controls",
      "model_module_version": "2.0.0",
      "model_name": "ToggleButtonStyleModel",
      "state": {
       "description_width": "",
       "font_family": null,
       "font_size": null,
       "font_style": null,
       "font_variant": null,
       "font_weight": null,
       "text_color": null,
       "text_decoration": null
      }
     },
     "d2933e3ffa924403b4408af956b2e159": {
      "model_module": "ipytree",
      "model_module_version": "^0.2",
      "model_name": "NodeModel",
      "state": {
       "_id": "72897afc-2423-4000-b441-848ce2da357a",
       "_model_module_version": "^0.2",
       "_view_module_version": "^0.2",
       "name": "Algorithms",
       "nodes": [
        "IPY_MODEL_b474b1d408a141ca9d549b78da41f880",
        "IPY_MODEL_0bb3f40fb5e84e5aba59c823adc07779",
        "IPY_MODEL_800d7f1b9aa84a9095968c2b0657ff12",
        "IPY_MODEL_e467127dd05a4cfa823601cfd2289c07",
        "IPY_MODEL_e8f174f203744cdca74dad964f1e8ff1",
        "IPY_MODEL_d56640c40c6f4ec4b9535e9db4e68969",
        "IPY_MODEL_a51981d74bba4ad487baffdab7115935",
        "IPY_MODEL_b4bc1221513341a39b79b633dfcfcbcd",
        "IPY_MODEL_629559846d754e519f229842452b92fa",
        "IPY_MODEL_248d5f27d74c44ed9f4a284fcf0a0936",
        "IPY_MODEL_ea5bd3a911c94985be9cd3c155ecfa16",
        "IPY_MODEL_03b70f1b58d14b9f94cba66ddd5ca05d",
        "IPY_MODEL_87bdec80f73f4671b1f35b1e6a9b0dc6"
       ],
       "opened": false
      }
     },
     "d427321f5e3445188a671b5fc60c3009": {
      "model_module": "@jupyter-widgets/controls",
      "model_module_version": "2.0.0",
      "model_name": "ToggleButtonModel",
      "state": {
       "icon": "server",
       "layout": "IPY_MODEL_092bcae27b99401aa04cb02412db9451",
       "style": "IPY_MODEL_76bf5b3475e74b1e81653e5b3629534e",
       "tooltip": "Layers"
      }
     },
     "d4422761813d465aa751de71b3bc82db": {
      "model_module": "ipytree",
      "model_module_version": "^0.2",
      "model_name": "NodeModel",
      "state": {
       "_id": "97c9aa5c-92f7-4a74-bd0c-8fab7889e69b",
       "_model_module_version": "^0.2",
       "_view_module_version": "^0.2",
       "icon": "file",
       "name": "select_image_by_index.py"
      }
     },
     "d56640c40c6f4ec4b9535e9db4e68969": {
      "model_module": "ipytree",
      "model_module_version": "^0.2",
      "model_name": "NodeModel",
      "state": {
       "_id": "9e5a6b15-c3f7-4526-842b-64ccdff53f53",
       "_model_module_version": "^0.2",
       "_view_module_version": "^0.2",
       "icon": "file",
       "name": "landsat_surface_reflectance.py"
      }
     },
     "d643fd45965e4d95bf8e0044ce506429": {
      "model_module": "ipytree",
      "model_module_version": "^0.2",
      "model_name": "NodeModel",
      "state": {
       "_id": "49cbe42d-257d-4cd6-a036-cc79efe83b52",
       "_model_module_version": "^0.2",
       "_view_module_version": "^0.2",
       "icon": "file",
       "name": "modis_surface_reflectance_qa_band.py"
      }
     },
     "d6a3ffbb59b2467381c2a8e5e03d5eb2": {
      "model_module": "ipytree",
      "model_module_version": "^0.2",
      "model_name": "NodeModel",
      "state": {
       "_id": "37e6a8a0-e5d6-48a8-a9bb-e4a664d0e3f4",
       "_model_module_version": "^0.2",
       "_view_module_version": "^0.2",
       "icon": "file",
       "name": "us_physiography.py"
      }
     },
     "d7a3d51197f24f51886adf18f58e5422": {
      "model_module": "@jupyter-widgets/base",
      "model_module_version": "2.0.0",
      "model_name": "LayoutModel",
      "state": {
       "height": "auto",
       "padding": "0px 0px 0px 4px",
       "width": "auto"
      }
     },
     "d81f1562edc6400ca8a86946bc8825b3": {
      "model_module": "ipytree",
      "model_module_version": "^0.2",
      "model_name": "NodeModel",
      "state": {
       "_id": "b4576410-dd83-4ed4-b2f0-436e2f5141e5",
       "_model_module_version": "^0.2",
       "_view_module_version": "^0.2",
       "icon": "file",
       "name": "band_stats.py"
      }
     },
     "d86295d3b8864f448cf8fe1e97b7a2b3": {
      "model_module": "ipytree",
      "model_module_version": "^0.2",
      "model_name": "NodeModel",
      "state": {
       "_id": "ceb5a5a5-7a46-4217-9d4d-414c600c4410",
       "_model_module_version": "^0.2",
       "_view_module_version": "^0.2",
       "icon": "file",
       "name": "column_info.py"
      }
     },
     "d9622a0aa5ad41a599cf177c86005477": {
      "model_module": "ipytree",
      "model_module_version": "^0.2",
      "model_name": "NodeModel",
      "state": {
       "_id": "17b958db-7f37-4e60-ad33-22f12142c459",
       "_model_module_version": "^0.2",
       "_view_module_version": "^0.2",
       "icon": "file",
       "name": "spectral_unmixing.py"
      }
     },
     "d982c6c3896a4616b1dc0ac9d84e28c8": {
      "model_module": "ipytree",
      "model_module_version": "^0.2",
      "model_name": "NodeModel",
      "state": {
       "_id": "f871503f-1553-4173-ad23-fc9d569ad63a",
       "_model_module_version": "^0.2",
       "_view_module_version": "^0.2",
       "icon": "file",
       "name": "export_vector.py"
      }
     },
     "da16151e2fc8459db90ba720ae002a57": {
      "model_module": "ipytree",
      "model_module_version": "^0.2",
      "model_name": "NodeModel",
      "state": {
       "_id": "8abe56b1-a719-45c7-8128-c35b1a5745e9",
       "_model_module_version": "^0.2",
       "_view_module_version": "^0.2",
       "icon": "file",
       "name": "from_name.py"
      }
     },
     "da3f24e4e8584f33a4580b1a06f49850": {
      "model_module": "ipytree",
      "model_module_version": "^0.2",
      "model_name": "NodeModel",
      "state": {
       "_id": "5939298f-d612-4163-ace4-a1f74a4265ed",
       "_model_module_version": "^0.2",
       "_view_module_version": "^0.2",
       "icon": "file",
       "name": "usgs_watersheds.py"
      }
     },
     "db167df8e6924f2682fa120a582b7210": {
      "model_module": "@jupyter-widgets/base",
      "model_module_version": "2.0.0",
      "model_name": "LayoutModel",
      "state": {
       "height": "28px",
       "padding": "0px 0px 0px 4px",
       "width": "28px"
      }
     },
     "db32d5f2cb8a41d0aac6eadd0bf5b7ea": {
      "model_module": "@jupyter-widgets/output",
      "model_module_version": "1.0.0",
      "model_name": "OutputModel",
      "state": {
       "layout": "IPY_MODEL_2d894abb85b647bb86bf6d8032637924"
      }
     },
     "dbe18c29f2914b4fb606fd0e1cc07ac2": {
      "model_module": "ipytree",
      "model_module_version": "^0.2",
      "model_name": "NodeModel",
      "state": {
       "_id": "67476976-27d0-424c-9989-e3a20bee2121",
       "_model_module_version": "^0.2",
       "_view_module_version": "^0.2",
       "icon": "file",
       "name": "exporting_data.py"
      }
     },
     "dc4e21f4ad924d09b6c46147c71bb464": {
      "model_module": "@jupyter-widgets/controls",
      "model_module_version": "2.0.0",
      "model_name": "ToggleButtonModel",
      "state": {
       "button_style": "primary",
       "icon": "hand-o-up",
       "layout": "IPY_MODEL_60a8371045a7478dbd62b17da019ad3f",
       "style": "IPY_MODEL_5e333a7014e34b7787767d828d338008",
       "tooltip": "Collect training samples"
      }
     },
     "dd730bed786b404697d492c288efc626": {
      "model_module": "ipytree",
      "model_module_version": "^0.2",
      "model_name": "NodeModel",
      "state": {
       "_id": "d099037b-e5f3-440d-b635-c3bb945d5371",
       "_model_module_version": "^0.2",
       "_view_module_version": "^0.2",
       "icon": "file",
       "name": "qgis_to_geemap.py"
      }
     },
     "df060019d4e04ebe881a1ea99f96ad91": {
      "model_module": "ipytree",
      "model_module_version": "^0.2",
      "model_name": "NodeModel",
      "state": {
       "_id": "140d77b0-4404-48c3-abc5-77d14ba9c126",
       "_model_module_version": "^0.2",
       "_view_module_version": "^0.2",
       "icon": "file",
       "name": "convert_raster_to_vector.py"
      }
     },
     "df189cc124d445c8962545926a233bc8": {
      "model_module": "@jupyter-widgets/base",
      "model_module_version": "2.0.0",
      "model_name": "LayoutModel",
      "state": {
       "grid_gap": "1px 1px",
       "grid_template_columns": "32px 32px 32px ",
       "grid_template_rows": "32px 32px ",
       "padding": "5px",
       "width": "109px"
      }
     },
     "df1b253e12064eb0b0c76d874e8e6218": {
      "model_module": "ipytree",
      "model_module_version": "^0.2",
      "model_name": "NodeModel",
      "state": {
       "_id": "fc0e9077-0c8e-4d45-8271-1823af0d9520",
       "_model_module_version": "^0.2",
       "_view_module_version": "^0.2",
       "icon": "file",
       "name": "05_map_function.py"
      }
     },
     "dfc626376f3d4c87aedbaa2a42f55e9d": {
      "model_module": "ipytree",
      "model_module_version": "^0.2",
      "model_name": "NodeModel",
      "state": {
       "_id": "fcbeb947-8577-4459-aa32-9efaf3e349bc",
       "_model_module_version": "^0.2",
       "_view_module_version": "^0.2",
       "icon": "file",
       "name": "us_ned_landforms.py"
      }
     },
     "dfe3f65ae0da4a9eb9a19f94203cb6df": {
      "model_module": "ipytree",
      "model_module_version": "^0.2",
      "model_name": "NodeModel",
      "state": {
       "_id": "ae8369a0-3650-4b7d-9324-d3d6ec8a3c3c",
       "_model_module_version": "^0.2",
       "_view_module_version": "^0.2",
       "icon": "file",
       "name": "idw_interpolation.py"
      }
     },
     "dfe59acf2a1c466892a786a8c23d041e": {
      "model_module": "@jupyter-widgets/base",
      "model_module_version": "2.0.0",
      "model_name": "LayoutModel",
      "state": {
       "max_width": "57px",
       "min_width": "57px"
      }
     },
     "e00dfa048d3345da8b1b2f990339ab81": {
      "model_module": "ipytree",
      "model_module_version": "^0.2",
      "model_name": "NodeModel",
      "state": {
       "_id": "c5ee1d5f-9265-4a45-8cc3-5c61a0b19170",
       "_model_module_version": "^0.2",
       "_view_module_version": "^0.2",
       "icon": "file",
       "name": "set_properties.py"
      }
     },
     "e10df7a049b140eab375db87ac7ccded": {
      "model_module": "ipytree",
      "model_module_version": "^0.2",
      "model_name": "NodeModel",
      "state": {
       "_id": "b31017bd-cc06-48a3-90f7-1cf13a31088f",
       "_model_module_version": "^0.2",
       "_view_module_version": "^0.2",
       "icon": "file",
       "name": "gradients.py"
      }
     },
     "e18f1f6879f14c67b13b02b4f5165d12": {
      "model_module": "ipytree",
      "model_module_version": "^0.2",
      "model_name": "NodeModel",
      "state": {
       "_id": "ec123e9b-0b59-4443-97f1-3696faa17358",
       "_model_module_version": "^0.2",
       "_view_module_version": "^0.2",
       "icon": "file",
       "name": "expression_map.py"
      }
     },
     "e20dfb1c61ce451aa3a3621e01261bea": {
      "model_module": "@jupyter-widgets/base",
      "model_module_version": "2.0.0",
      "model_name": "LayoutModel",
      "state": {
       "max_width": "279px",
       "min_width": "279px"
      }
     },
     "e22257cd371a4c34bf4cd6770eba97c5": {
      "model_module": "@jupyter-widgets/base",
      "model_module_version": "2.0.0",
      "model_name": "LayoutModel",
      "state": {}
     },
     "e2559749d1d14b9ab261223d5b7ffc00": {
      "model_module": "ipytree",
      "model_module_version": "^0.2",
      "model_name": "NodeModel",
      "state": {
       "_id": "3a7e452d-5e62-40ab-bdb1-84dff3ce7cf1",
       "_model_module_version": "^0.2",
       "_view_module_version": "^0.2",
       "icon": "file",
       "name": "reclassify.py"
      }
     },
     "e272020b42864afaae316e1e085f42bf": {
      "model_module": "ipytree",
      "model_module_version": "^0.2",
      "model_name": "NodeModel",
      "state": {
       "_id": "a8d60800-e2bb-4b7b-ac31-00fa1a2e5b6a",
       "_model_module_version": "^0.2",
       "_view_module_version": "^0.2",
       "icon": "file",
       "name": "map_get_center.py"
      }
     },
     "e292b2bde67541ea94815cc1dc47f967": {
      "model_module": "ipytree",
      "model_module_version": "^0.2",
      "model_name": "NodeModel",
      "state": {
       "_id": "9174b416-43d7-40a6-80a1-e17f22e5691a",
       "_model_module_version": "^0.2",
       "_view_module_version": "^0.2",
       "name": "Join",
       "nodes": [
        "IPY_MODEL_f74ee80885cf429f836e428ca85f8c82",
        "IPY_MODEL_7c5e7a5cd9db451a9bcd743a7b5d1220",
        "IPY_MODEL_1ac38fcddabe423eaa7e6fe2bb31a807",
        "IPY_MODEL_701a151b766540979466f9bbc9fea55f",
        "IPY_MODEL_067a619a7c1a4c3d90e750eb331f66d4",
        "IPY_MODEL_a0efd295af994569905189177b85f498",
        "IPY_MODEL_b5b628d759a745a9abc4556fcfd26d62"
       ],
       "opened": false
      }
     },
     "e2cfd5d0deea47c9bce782873fa899a2": {
      "model_module": "ipytree",
      "model_module_version": "^0.2",
      "model_name": "NodeModel",
      "state": {
       "_id": "2a18356b-a747-497e-87ad-3bae942a9f50",
       "_model_module_version": "^0.2",
       "_view_module_version": "^0.2",
       "name": "Owner",
       "opened": false
      }
     },
     "e2f1447e38a841ca96741c7664e04130": {
      "model_module": "ipytree",
      "model_module_version": "^0.2",
      "model_name": "NodeModel",
      "state": {
       "_id": "6ad2c4ad-2f9b-4647-beca-1e6339f6660c",
       "_model_module_version": "^0.2",
       "_view_module_version": "^0.2",
       "icon": "file",
       "name": "eigen_analysis.py"
      }
     },
     "e33870e801bf4bd985387e73be7f2d6e": {
      "model_module": "ipytree",
      "model_module_version": "^0.2",
      "model_name": "NodeModel",
      "state": {
       "_id": "f241b3c4-5199-491b-bd7b-1d6573bcfda6",
       "_model_module_version": "^0.2",
       "_view_module_version": "^0.2",
       "icon": "file",
       "name": "international_boundary.py"
      }
     },
     "e444a0e7f876484d95ba306c41b8f18a": {
      "model_module": "ipytree",
      "model_module_version": "^0.2",
      "model_name": "NodeModel",
      "state": {
       "_id": "1c3a4300-4833-463a-ac12-0bbf5e94c4e5",
       "_model_module_version": "^0.2",
       "_view_module_version": "^0.2",
       "name": "Gena",
       "nodes": [
        "IPY_MODEL_bb03b8325ebb4099bb511d78b1cb683f",
        "IPY_MODEL_20aa2e48f37142d0abbc13e115232bb6",
        "IPY_MODEL_93bda9152e3e4705a75b8b1d328294de",
        "IPY_MODEL_92cc3088d1a44fa1bcc07ef02c56ca6f",
        "IPY_MODEL_0abedc28921e4a8b9e5a1eefc2a9aea4",
        "IPY_MODEL_a1097168448749528d2a6bd834ffcd42",
        "IPY_MODEL_4d6c0282b18641d192bd8e27467cb9b0",
        "IPY_MODEL_37670cc8b2d54e69a89df1ebe959e903",
        "IPY_MODEL_e272020b42864afaae316e1e085f42bf",
        "IPY_MODEL_0c9301c7bcb7488e97b5d76190e4f031",
        "IPY_MODEL_1595cbb1804f44f896dc8f380c67e351",
        "IPY_MODEL_b038738ac0f046239f206bcfe5b10680",
        "IPY_MODEL_0657d425778f4ea9b60ecff7142b0559",
        "IPY_MODEL_cd646cc8bd474a428103463416725aad"
       ],
       "opened": false
      }
     },
     "e466c75de5384880a548e93ba3207153": {
      "model_module": "ipytree",
      "model_module_version": "^0.2",
      "model_name": "NodeModel",
      "state": {
       "_id": "b2f5eba9-1e7e-49a0-9df5-8caaa1f70389",
       "_model_module_version": "^0.2",
       "_view_module_version": "^0.2",
       "icon": "file",
       "name": "palettes-test-crameri-dem.py"
      }
     },
     "e467127dd05a4cfa823601cfd2289c07": {
      "model_module": "ipytree",
      "model_module_version": "^0.2",
      "model_name": "NodeModel",
      "state": {
       "_id": "7ed4aa8c-ccc6-4d8c-8a06-0c479ab5b0eb",
       "_model_module_version": "^0.2",
       "_view_module_version": "^0.2",
       "icon": "file",
       "name": "landsat_radiance.py"
      }
     },
     "e47453401a154e90999f3bfbe9056b28": {
      "model_module": "ipytree",
      "model_module_version": "^0.2",
      "model_name": "NodeModel",
      "state": {
       "_id": "a2e0da30-b67e-4f68-b504-0c994c441802",
       "_model_module_version": "^0.2",
       "_view_module_version": "^0.2",
       "name": "GlobalSurfaceWater",
       "nodes": [
        "IPY_MODEL_4fabd229bcfc4c1893d1d2dfb29ab44c",
        "IPY_MODEL_a3e6ea71b5b14788b0c79f3f8df05996",
        "IPY_MODEL_50aa24d64f0a4d98806d57454278b799"
       ],
       "opened": false
      }
     },
     "e582c494043f405dbd66b6b1cfab36fd": {
      "model_module": "@jupyter-widgets/controls",
      "model_module_version": "2.0.0",
      "model_name": "HBoxModel",
      "state": {
       "children": [
        "IPY_MODEL_ecd04242b3a44d718eece242f3e773b9",
        "IPY_MODEL_f7f4d6d2732840be8f89f8795bbadc51"
       ],
       "layout": "IPY_MODEL_e8bf0c461629436aba6b3e604c343d76"
      }
     },
     "e624226f3d924e249dafd7491c065e2a": {
      "model_module": "jupyter-leaflet",
      "model_module_version": "^0.18",
      "model_name": "LeafletWidgetControlModel",
      "state": {
       "_model_module": "jupyter-leaflet",
       "_model_module_version": "^0.18",
       "_view_count": null,
       "_view_module": "jupyter-leaflet",
       "_view_module_version": "^0.18",
       "options": [
        "position",
        "transparent_bg"
       ],
       "position": "topleft",
       "widget": "IPY_MODEL_766e8c7f9ba6487ba0781fa26f29ff53"
      }
     },
     "e7a2ffacb0bc43eeb0a7c453cae7f9cd": {
      "model_module": "ipytree",
      "model_module_version": "^0.2",
      "model_name": "NodeModel",
      "state": {
       "_id": "f63fa1de-5302-42b2-be45-986d1c40ded0",
       "_model_module_version": "^0.2",
       "_view_module_version": "^0.2",
       "icon": "file",
       "name": "ndwi_symbology.py"
      }
     },
     "e8bf0c461629436aba6b3e604c343d76": {
      "model_module": "@jupyter-widgets/base",
      "model_module_version": "2.0.0",
      "model_name": "LayoutModel",
      "state": {}
     },
     "e8f174f203744cdca74dad964f1e8ff1": {
      "model_module": "ipytree",
      "model_module_version": "^0.2",
      "model_name": "NodeModel",
      "state": {
       "_id": "be29b76d-01e5-4446-a8fa-30c452310192",
       "_model_module_version": "^0.2",
       "_view_module_version": "^0.2",
       "icon": "file",
       "name": "landsat_simple_composite.py"
      }
     },
     "ea18327ba5fe4e3e945df10799788d27": {
      "model_module": "ipytree",
      "model_module_version": "^0.2",
      "model_name": "NodeModel",
      "state": {
       "_id": "73090a17-13f5-4848-99a6-b76031ec594c",
       "_model_module_version": "^0.2",
       "_view_module_version": "^0.2",
       "icon": "file",
       "name": "landsat_simple_composite.py"
      }
     },
     "ea5bd3a911c94985be9cd3c155ecfa16": {
      "model_module": "ipytree",
      "model_module_version": "^0.2",
      "model_name": "NodeModel",
      "state": {
       "_id": "f3c3ba2c-2ca8-45ba-ab3e-6d80d7359520",
       "_model_module_version": "^0.2",
       "_view_module_version": "^0.2",
       "icon": "file",
       "name": "sentinel-1_filtering.py"
      }
     },
     "ea81f13d37b74842b4fd682dd5a693f9": {
      "model_module": "ipytree",
      "model_module_version": "^0.2",
      "model_name": "NodeModel",
      "state": {
       "_id": "0f407de5-2af0-4a0e-bb40-73d2ce714241",
       "_model_module_version": "^0.2",
       "_view_module_version": "^0.2",
       "icon": "file",
       "name": "connected_pixel_count.py"
      }
     },
     "ead3a747a38f4b99b91e6d36b8ac8791": {
      "model_module": "ipytree",
      "model_module_version": "^0.2",
      "model_name": "NodeModel",
      "state": {
       "_id": "49d567d6-0cd9-4f0f-872f-4599cfb8bd2a",
       "_model_module_version": "^0.2",
       "_view_module_version": "^0.2",
       "icon": "file",
       "name": "filtering_by_metadata.py"
      }
     },
     "eb21b98be8ac47fd980751376045a7a9": {
      "model_module": "@jupyter-widgets/base",
      "model_module_version": "2.0.0",
      "model_name": "LayoutModel",
      "state": {
       "height": "auto",
       "padding": "0px 0px 0px 4px",
       "width": "auto"
      }
     },
     "ecd04242b3a44d718eece242f3e773b9": {
      "model_module": "@jupyter-widgets/controls",
      "model_module_version": "2.0.0",
      "model_name": "VBoxModel",
      "state": {
       "children": [
        "IPY_MODEL_0326fb192f0d4c7580ce218f08af43d0",
        "IPY_MODEL_146e3878fe4044dbbc23389e2ae646af"
       ],
       "layout": "IPY_MODEL_1f4a155a4032443c93c4e2bb9e6c5d46"
      }
     },
     "ed5f0b0f9dd74727b03259768c95ad9d": {
      "model_module": "@jupyter-widgets/controls",
      "model_module_version": "2.0.0",
      "model_name": "VBoxModel",
      "state": {
       "children": [
        "IPY_MODEL_f905dad10b424547865cdfffd7466fca",
        "IPY_MODEL_5df57cfb44724990a6d825b64b592ce3"
       ],
       "layout": "IPY_MODEL_b55aa4e3c7b34116913953fde65e45d7"
      }
     },
     "ed8bf243e91f455ba1da89fc4320eae6": {
      "model_module": "ipytree",
      "model_module_version": "^0.2",
      "model_name": "NodeModel",
      "state": {
       "_id": "ae163e7d-7128-4feb-a017-70003df9fefe",
       "_model_module_version": "^0.2",
       "_view_module_version": "^0.2",
       "icon": "file",
       "name": "06_reducing.py"
      }
     },
     "edb049da34094b549f0bc4039030c1af": {
      "model_module": "ipytree",
      "model_module_version": "^0.2",
      "model_name": "NodeModel",
      "state": {
       "_id": "732e948f-b4a4-4cd7-8a9f-c7e3727b6f47",
       "_model_module_version": "^0.2",
       "_view_module_version": "^0.2",
       "icon": "file",
       "name": "filtering_by_band_names.py"
      }
     },
     "ee202e471e34412b9c2acc1a19e68e3a": {
      "model_module": "ipytree",
      "model_module_version": "^0.2",
      "model_name": "NodeModel",
      "state": {
       "_id": "2077869f-fb37-4fbb-a6b6-dcd423b94ed1",
       "_model_module_version": "^0.2",
       "_view_module_version": "^0.2",
       "icon": "file",
       "name": "export_ImageCollection.py"
      }
     },
     "ee38893db9f742ac835e0267a75976e7": {
      "model_module": "ipytree",
      "model_module_version": "^0.2",
      "model_name": "NodeModel",
      "state": {
       "_id": "0f0c50d2-1eba-44f0-8d02-c2563a6ffcf5",
       "_model_module_version": "^0.2",
       "_view_module_version": "^0.2",
       "icon": "file",
       "name": "alos_landforms.py"
      }
     },
     "ee5d7e03a986457096e633cf9457cfa2": {
      "model_module": "ipytree",
      "model_module_version": "^0.2",
      "model_name": "NodeModel",
      "state": {
       "_id": "df3a7b55-6cc1-47f8-90e0-adbf6b8bddb5",
       "_model_module_version": "^0.2",
       "_view_module_version": "^0.2",
       "icon": "file",
       "name": "ndvi_symbology.py"
      }
     },
     "eefeb0b472d949a08f2e5e86bc1056f8": {
      "model_module": "ipytree",
      "model_module_version": "^0.2",
      "model_name": "NodeModel",
      "state": {
       "_id": "2ae05168-9d8a-4054-9bff-65a61646e581",
       "_model_module_version": "^0.2",
       "_view_module_version": "^0.2",
       "icon": "file",
       "name": "convolutions.py"
      }
     },
     "ef51ce2c491f45eab30b3c9f36edab20": {
      "model_module": "ipytree",
      "model_module_version": "^0.2",
      "model_name": "NodeModel",
      "state": {
       "_id": "ab6bcaf5-7d3f-4231-a2bc-07ae3d390fe9",
       "_model_module_version": "^0.2",
       "_view_module_version": "^0.2",
       "icon": "file",
       "name": "symbology.py"
      }
     },
     "f0bc6d4f827e4851829f9dce9c5488b8": {
      "model_module": "ipytree",
      "model_module_version": "^0.2",
      "model_name": "NodeModel",
      "state": {
       "_id": "e215a59e-0337-47ee-a1f3-11c3114b18b6",
       "_model_module_version": "^0.2",
       "_view_module_version": "^0.2",
       "icon": "file",
       "name": "simplify_polygons.py"
      }
     },
     "f1dd5d4cd9a742558cf67be71f0db1f6": {
      "model_module": "@jupyter-widgets/base",
      "model_module_version": "2.0.0",
      "model_name": "LayoutModel",
      "state": {
       "width": "340px"
      }
     },
     "f2c34dfecc1a4d82a48b010ba1b11640": {
      "model_module": "ipytree",
      "model_module_version": "^0.2",
      "model_name": "NodeModel",
      "state": {
       "_id": "36b2bd5a-90b0-470d-8c32-4cdba7c67edb",
       "_model_module_version": "^0.2",
       "_view_module_version": "^0.2",
       "icon": "file",
       "name": "srtm_chili.py"
      }
     },
     "f3057cd4924048aabad4b00f08d6ed82": {
      "model_module": "ipytree",
      "model_module_version": "^0.2",
      "model_name": "NodeModel",
      "state": {
       "_id": "df5bfb80-97e5-40ba-bcb1-7f33c1a7d9b4",
       "_model_module_version": "^0.2",
       "_view_module_version": "^0.2",
       "icon": "file",
       "name": "visualizing_geometries.py"
      }
     },
     "f37e32c68a024c9d87a9207db08a3d6d": {
      "model_module": "ipytree",
      "model_module_version": "^0.2",
      "model_name": "NodeModel",
      "state": {
       "_id": "7e625295-817d-4afa-8a42-2fd508ffe664",
       "_model_module_version": "^0.2",
       "_view_module_version": "^0.2",
       "icon": "file",
       "name": "reverse_mask.py"
      }
     },
     "f3c98806ccfa4cc1920dea49fb261d44": {
      "model_module": "@jupyter-widgets/base",
      "model_module_version": "2.0.0",
      "model_name": "LayoutModel",
      "state": {}
     },
     "f3ddb78300c046deb9cfb921c8a52447": {
      "model_module": "ipytree",
      "model_module_version": "^0.2",
      "model_name": "NodeModel",
      "state": {
       "_id": "71e13b98-0a1c-489d-ac5e-80d9956cf27b",
       "_model_module_version": "^0.2",
       "_view_module_version": "^0.2",
       "icon": "file",
       "name": "get_image_resolution.py"
      }
     },
     "f4e615c21cce4c5588f0670d405a1864": {
      "model_module": "ipytree",
      "model_module_version": "^0.2",
      "model_name": "NodeModel",
      "state": {
       "_id": "9c97cad5-5405-4d06-a83e-b2c04ff08461",
       "_model_module_version": "^0.2",
       "_view_module_version": "^0.2",
       "name": "HowEarthEngineWorks",
       "nodes": [
        "IPY_MODEL_a9f54082fa174337bb150230ff71636c",
        "IPY_MODEL_5f449bb9a79444b29f8980cd8de31e7a",
        "IPY_MODEL_2d293d3a28ec4d7f82cd6ed36f12732b"
       ],
       "opened": false
      }
     },
     "f5027be9a81042b4af80e379f6adffea": {
      "model_module": "ipytree",
      "model_module_version": "^0.2",
      "model_name": "NodeModel",
      "state": {
       "_id": "9ddb1c4c-d841-4999-8648-f526d0e17c06",
       "_model_module_version": "^0.2",
       "_view_module_version": "^0.2",
       "icon": "file",
       "name": "where.py"
      }
     },
     "f63fa4c7941442a0bf5f4b35f5692a11": {
      "model_module": "ipytree",
      "model_module_version": "^0.2",
      "model_name": "NodeModel",
      "state": {
       "_id": "fb4cb610-66c0-4592-93a8-5dcc873d5bc8",
       "_model_module_version": "^0.2",
       "_view_module_version": "^0.2",
       "icon": "file",
       "name": "download.py"
      }
     },
     "f723d03164f2422482af312fd765cf0a": {
      "model_module": "ipytree",
      "model_module_version": "^0.2",
      "model_name": "NodeModel",
      "state": {
       "_id": "6f0949aa-855e-46a1-8cbe-61dd040492e6",
       "_model_module_version": "^0.2",
       "_view_module_version": "^0.2",
       "icon": "file",
       "name": "get_image_centroid.py"
      }
     },
     "f74ee80885cf429f836e428ca85f8c82": {
      "model_module": "ipytree",
      "model_module_version": "^0.2",
      "model_name": "NodeModel",
      "state": {
       "_id": "643c81ad-4f7c-437b-9c4d-8c228724f996",
       "_model_module_version": "^0.2",
       "_view_module_version": "^0.2",
       "icon": "file",
       "name": "inner_joins.py"
      }
     },
     "f7f4d6d2732840be8f89f8795bbadc51": {
      "model_module": "@jupyter-widgets/controls",
      "model_module_version": "2.0.0",
      "model_name": "VBoxModel",
      "state": {
       "children": [
        "IPY_MODEL_36331c2f967a424caaa6426f46239ad9"
       ],
       "layout": "IPY_MODEL_41521f6a3013412db8eeb851a8329821"
      }
     },
     "f83f229849d941708374dd68ee54995e": {
      "model_module": "ipytree",
      "model_module_version": "^0.2",
      "model_name": "NodeModel",
      "state": {
       "_id": "59bd3f8b-f966-4123-94f0-23836f865e29",
       "_model_module_version": "^0.2",
       "_view_module_version": "^0.2",
       "icon": "file",
       "name": "buffer.py"
      }
     },
     "f905dad10b424547865cdfffd7466fca": {
      "model_module": "@jupyter-widgets/controls",
      "model_module_version": "2.0.0",
      "model_name": "ToggleButtonsModel",
      "state": {
       "_options_labels": [
        "name/address",
        "lat-lon",
        "data"
       ],
       "button_style": "",
       "icons": [],
       "index": 0,
       "layout": "IPY_MODEL_47c445569a414e4c898f9ec1ccc1e3cf",
       "style": "IPY_MODEL_81cff0bbad3443c18549f00a295161e6",
       "tooltips": [
        "Search by place name or address",
        "Search by lat-lon coordinates",
        "Search Earth Engine data catalog"
       ]
      }
     },
     "f99ef9de5c6549ee9675dfe6c7a26e01": {
      "model_module": "@jupyter-widgets/controls",
      "model_module_version": "2.0.0",
      "model_name": "ToggleButtonStyleModel",
      "state": {
       "description_width": "",
       "font_family": null,
       "font_size": null,
       "font_style": null,
       "font_variant": null,
       "font_weight": null,
       "text_color": null,
       "text_decoration": null
      }
     },
     "faff4e23fb8c456a83bee2cc8d9411c5": {
      "model_module": "ipytree",
      "model_module_version": "^0.2",
      "model_name": "NodeModel",
      "state": {
       "_id": "f0fbf5a8-1454-4337-bcb0-13d94e5ec1b6",
       "_model_module_version": "^0.2",
       "_view_module_version": "^0.2",
       "icon": "file",
       "name": "add_random_value_column.py"
      }
     },
     "fc3d2e535e7e4e9d9a599ddaa0a38064": {
      "model_module": "ipytree",
      "model_module_version": "^0.2",
      "model_name": "NodeModel",
      "state": {
       "_id": "85adec48-db1f-4814-a905-d477a5276ca5",
       "_model_module_version": "^0.2",
       "_view_module_version": "^0.2",
       "icon": "file",
       "name": "linear_regression.py"
      }
     },
     "fcbf55772acb4f6fbdb68704c3ff0740": {
      "model_module": "ipytree",
      "model_module_version": "^0.2",
      "model_name": "NodeModel",
      "state": {
       "_id": "c201d596-5eb1-41db-88df-5ab6fed8f710",
       "_model_module_version": "^0.2",
       "_view_module_version": "^0.2",
       "icon": "file",
       "name": "global_power_plant_database.py"
      }
     },
     "fd056b767f6147e5843d6281f8ffbb18": {
      "model_module": "@jupyter-widgets/base",
      "model_module_version": "2.0.0",
      "model_name": "LayoutModel",
      "state": {
       "width": "310px"
      }
     },
     "fd8ee55b47a34001bcc96b6aa4ff2975": {
      "model_module": "ipytree",
      "model_module_version": "^0.2",
      "model_name": "NodeModel",
      "state": {
       "_id": "548a93aa-7c28-4abb-a47f-3544af46f3bf",
       "_model_module_version": "^0.2",
       "_view_module_version": "^0.2",
       "icon": "file",
       "name": "vector_symbology.py"
      }
     },
     "fe362928748b445cbd7c6a60b4659ec5": {
      "model_module": "ipytree",
      "model_module_version": "^0.2",
      "model_name": "NodeModel",
      "state": {
       "_id": "325a980b-2edf-487c-81be-b463cd657877",
       "_model_module_version": "^0.2",
       "_view_module_version": "^0.2",
       "icon": "file",
       "name": "random_samples.py"
      }
     },
     "fec395d203724ec194e02dec8924d334": {
      "model_module": "ipytree",
      "model_module_version": "^0.2",
      "model_name": "NodeModel",
      "state": {
       "_id": "4a941d58-6754-4e9d-919b-dea5bf3c5508",
       "_model_module_version": "^0.2",
       "_view_module_version": "^0.2",
       "icon": "file",
       "name": "ndwi_map.py"
      }
     },
     "ffd776f488484ff5aebc83a9777e1511": {
      "model_module": "ipytree",
      "model_module_version": "^0.2",
      "model_name": "NodeModel",
      "state": {
       "_id": "cd91bd90-cdd9-42a9-aea5-865d8cda45ec",
       "_model_module_version": "^0.2",
       "_view_module_version": "^0.2",
       "icon": "file",
       "name": "visualizing_feature_collection.py"
      }
     }
    },
    "version_major": 2,
    "version_minor": 0
   }
  }
 },
 "nbformat": 4,
 "nbformat_minor": 5
}
